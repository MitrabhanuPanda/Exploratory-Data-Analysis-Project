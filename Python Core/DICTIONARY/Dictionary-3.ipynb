{
 "cells": [
  {
   "cell_type": "markdown",
   "id": "552cd2d1",
   "metadata": {},
   "source": [
    "### Dictionary Comprenhension "
   ]
  },
  {
   "cell_type": "markdown",
   "id": "be588622",
   "metadata": {},
   "source": [
    "### Creating Dictionary in Automated way using for loop "
   ]
  },
  {
   "cell_type": "code",
   "execution_count": 5,
   "id": "f020bbe5",
   "metadata": {},
   "outputs": [
    {
     "name": "stdout",
     "output_type": "stream",
     "text": [
      "{1: 1, 2: 8, 3: 27, 4: 64, 5: 125}\n"
     ]
    }
   ],
   "source": [
    "dic1={}\n",
    "\n",
    "for i in range(1,6):\n",
    "    dic1[i]=i*i*i\n",
    "print(dic1)"
   ]
  },
  {
   "cell_type": "code",
   "execution_count": 7,
   "id": "13608b75",
   "metadata": {},
   "outputs": [
    {
     "data": {
      "text/plain": [
       "{1: 1, 2: 8, 3: 27, 4: 64, 5: 125}"
      ]
     },
     "execution_count": 7,
     "metadata": {},
     "output_type": "execute_result"
    }
   ],
   "source": [
    "res={a:(a**3)   for a in range(1,6)}\n",
    "res"
   ]
  },
  {
   "cell_type": "code",
   "execution_count": 9,
   "id": "b2d69ca7",
   "metadata": {},
   "outputs": [
    {
     "data": {
      "text/plain": [
       "{'I': 'INDIA', 'U': 'USE', 'R': 'RUSSIA'}"
      ]
     },
     "execution_count": 9,
     "metadata": {},
     "output_type": "execute_result"
    }
   ],
   "source": [
    "l=[\"INDIA\",\"USE\",\"RUSSIA\"]\n",
    "res1={j[0]:j    for j in l}\n",
    "res1"
   ]
  },
  {
   "cell_type": "markdown",
   "id": "f1ff1875",
   "metadata": {},
   "source": [
    "### Dictionary comprehension with Condition"
   ]
  },
  {
   "cell_type": "code",
   "execution_count": 1,
   "id": "189f5caf",
   "metadata": {},
   "outputs": [
    {
     "name": "stdout",
     "output_type": "stream",
     "text": [
      "{2: 8, 4: 64, 6: 216, 8: 512, 10: 1000, 12: 1728, 14: 2744, 16: 4096, 18: 5832}\n"
     ]
    }
   ],
   "source": [
    "even={}\n",
    "for i in range(1,20):\n",
    "    if i%2==0:\n",
    "        even[i]=i**3\n",
    "print(even)"
   ]
  },
  {
   "cell_type": "code",
   "execution_count": 3,
   "id": "1ab7d29b",
   "metadata": {},
   "outputs": [
    {
     "data": {
      "text/plain": [
       "{2: 8, 4: 64, 6: 216, 8: 512, 10: 1000, 12: 1728, 14: 2744, 16: 4096, 18: 5832}"
      ]
     },
     "execution_count": 3,
     "metadata": {},
     "output_type": "execute_result"
    }
   ],
   "source": [
    "res2={i:i**3      for i in range(1,20) if i%2==0}\n",
    "res2"
   ]
  },
  {
   "cell_type": "code",
   "execution_count": null,
   "id": "d37a8fec",
   "metadata": {},
   "outputs": [],
   "source": [
    "# {2:[2,4,8],4:[4,16,64]}\n",
    "\n",
    "# for i in range(1,20):\n",
    "#     if i%2==0:\n",
    "#         even[i]=[list Compreshension]"
   ]
  },
  {
   "cell_type": "code",
   "execution_count": 1,
   "id": "3b048d45",
   "metadata": {},
   "outputs": [
    {
     "name": "stdout",
     "output_type": "stream",
     "text": [
      "{1: 'NUMBER IS ODD', 2: 'NUMBER IS EVEN', 3: 'NUMBER IS ODD', 4: 'NUMBER IS EVEN', 5: 'NUMBER IS ODD', 6: 'NUMBER IS EVEN', 7: 'NUMBER IS ODD', 8: 'NUMBER IS EVEN', 9: 'NUMBER IS ODD', 10: 'NUMBER IS EVEN', 11: 'NUMBER IS ODD', 12: 'NUMBER IS EVEN', 13: 'NUMBER IS ODD', 14: 'NUMBER IS EVEN', 15: 'NUMBER IS ODD', 16: 'NUMBER IS EVEN', 17: 'NUMBER IS ODD', 18: 'NUMBER IS EVEN', 19: 'NUMBER IS ODD'}\n"
     ]
    }
   ],
   "source": [
    "num={}\n",
    "\n",
    "for i in range(1,20):\n",
    "    if i%2==0:\n",
    "        num[i]=\"NUMBER IS EVEN\"\n",
    "    else:\n",
    "        num[i]=\"NUMBER IS ODD\"\n",
    "print(num)"
   ]
  },
  {
   "cell_type": "code",
   "execution_count": 6,
   "id": "4b1e50d8",
   "metadata": {},
   "outputs": [
    {
     "data": {
      "text/plain": [
       "{1: 'Odd',\n",
       " 2: 'Even',\n",
       " 3: 'Odd',\n",
       " 4: 'Even',\n",
       " 5: 'Odd',\n",
       " 6: 'Even',\n",
       " 7: 'Odd',\n",
       " 8: 'Even',\n",
       " 9: 'Odd',\n",
       " 10: 'Even',\n",
       " 11: 'Odd',\n",
       " 12: 'Even',\n",
       " 13: 'Odd',\n",
       " 14: 'Even',\n",
       " 15: 'Odd',\n",
       " 16: 'Even',\n",
       " 17: 'Odd',\n",
       " 18: 'Even',\n",
       " 19: 'Odd'}"
      ]
     },
     "execution_count": 6,
     "metadata": {},
     "output_type": "execute_result"
    }
   ],
   "source": [
    "{i: \"Even\"  if i%2==0  else \"Odd\"                        for i in range(1,20)}"
   ]
  },
  {
   "cell_type": "markdown",
   "id": "338a12da",
   "metadata": {},
   "source": [
    "### Copy"
   ]
  },
  {
   "cell_type": "markdown",
   "id": "e300c764",
   "metadata": {},
   "source": [
    "### Reference Copy"
   ]
  },
  {
   "cell_type": "code",
   "execution_count": 29,
   "id": "193674c5",
   "metadata": {},
   "outputs": [],
   "source": [
    "c={'I': 'INDIA', 'U': 'USE', 'R': 'RUSSIA'}"
   ]
  },
  {
   "cell_type": "code",
   "execution_count": 30,
   "id": "91264b30",
   "metadata": {},
   "outputs": [],
   "source": [
    "d=c"
   ]
  },
  {
   "cell_type": "code",
   "execution_count": 31,
   "id": "9c44f155",
   "metadata": {},
   "outputs": [],
   "source": []
  },
  {
   "cell_type": "code",
   "execution_count": 32,
   "id": "0bcbd92e",
   "metadata": {},
   "outputs": [
    {
     "data": {
      "text/plain": [
       "{'I': 'INDIA', 'U': 'USE', 'R': 'RUSSIA'}"
      ]
     },
     "execution_count": 32,
     "metadata": {},
     "output_type": "execute_result"
    }
   ],
   "source": [
    "d"
   ]
  },
  {
   "cell_type": "code",
   "execution_count": 23,
   "id": "61cbfba7",
   "metadata": {},
   "outputs": [
    {
     "data": {
      "text/plain": [
       "1349731039424"
      ]
     },
     "execution_count": 23,
     "metadata": {},
     "output_type": "execute_result"
    }
   ],
   "source": [
    "id(c)"
   ]
  },
  {
   "cell_type": "code",
   "execution_count": 24,
   "id": "3f0d55b8",
   "metadata": {},
   "outputs": [
    {
     "data": {
      "text/plain": [
       "1349731039424"
      ]
     },
     "execution_count": 24,
     "metadata": {},
     "output_type": "execute_result"
    }
   ],
   "source": [
    "id(d)"
   ]
  },
  {
   "cell_type": "code",
   "execution_count": 33,
   "id": "41c42dcd",
   "metadata": {},
   "outputs": [],
   "source": [
    "d[\"O\"]=\"Orange\""
   ]
  },
  {
   "cell_type": "code",
   "execution_count": 34,
   "id": "ae89082e",
   "metadata": {},
   "outputs": [
    {
     "data": {
      "text/plain": [
       "{'I': 'INDIA', 'U': 'USE', 'R': 'RUSSIA', 'O': 'Orange'}"
      ]
     },
     "execution_count": 34,
     "metadata": {},
     "output_type": "execute_result"
    }
   ],
   "source": [
    "d"
   ]
  },
  {
   "cell_type": "code",
   "execution_count": 35,
   "id": "d664cac9",
   "metadata": {},
   "outputs": [
    {
     "data": {
      "text/plain": [
       "{'I': 'INDIA', 'U': 'USE', 'R': 'RUSSIA', 'O': 'Orange'}"
      ]
     },
     "execution_count": 35,
     "metadata": {},
     "output_type": "execute_result"
    }
   ],
   "source": [
    "c"
   ]
  },
  {
   "cell_type": "markdown",
   "id": "de4f094e",
   "metadata": {},
   "source": [
    "### Shallow Copy"
   ]
  },
  {
   "cell_type": "code",
   "execution_count": 36,
   "id": "6b4c5a1b",
   "metadata": {},
   "outputs": [],
   "source": [
    "e={'I': 'INDIA', 'U': 'USE', 'R': 'RUSSIA'}"
   ]
  },
  {
   "cell_type": "code",
   "execution_count": 37,
   "id": "de619728",
   "metadata": {},
   "outputs": [],
   "source": [
    "g=e.copy()"
   ]
  },
  {
   "cell_type": "code",
   "execution_count": 38,
   "id": "85b5cd0a",
   "metadata": {},
   "outputs": [
    {
     "data": {
      "text/plain": [
       "{'I': 'INDIA', 'U': 'USE', 'R': 'RUSSIA'}"
      ]
     },
     "execution_count": 38,
     "metadata": {},
     "output_type": "execute_result"
    }
   ],
   "source": [
    "g"
   ]
  },
  {
   "cell_type": "code",
   "execution_count": 39,
   "id": "8ba3e006",
   "metadata": {},
   "outputs": [],
   "source": [
    "g[\"E\"]=\"Eat\""
   ]
  },
  {
   "cell_type": "code",
   "execution_count": 40,
   "id": "ef6ee377",
   "metadata": {},
   "outputs": [
    {
     "data": {
      "text/plain": [
       "{'I': 'INDIA', 'U': 'USE', 'R': 'RUSSIA', 'E': 'Eat'}"
      ]
     },
     "execution_count": 40,
     "metadata": {},
     "output_type": "execute_result"
    }
   ],
   "source": [
    "g"
   ]
  },
  {
   "cell_type": "code",
   "execution_count": 41,
   "id": "9cc4c8e6",
   "metadata": {},
   "outputs": [
    {
     "data": {
      "text/plain": [
       "{'I': 'INDIA', 'U': 'USE', 'R': 'RUSSIA'}"
      ]
     },
     "execution_count": 41,
     "metadata": {},
     "output_type": "execute_result"
    }
   ],
   "source": [
    "e"
   ]
  },
  {
   "cell_type": "code",
   "execution_count": 42,
   "id": "97f95572",
   "metadata": {},
   "outputs": [],
   "source": [
    "s={'I': 'INDIA', 'U': 'USE', \"color\": [\"G\",\"R\",\"Y\"]}"
   ]
  },
  {
   "cell_type": "code",
   "execution_count": 43,
   "id": "8982bfed",
   "metadata": {},
   "outputs": [],
   "source": [
    "import copy\n",
    "p=copy.copy(s)"
   ]
  },
  {
   "cell_type": "code",
   "execution_count": 44,
   "id": "1bb24d4f",
   "metadata": {},
   "outputs": [
    {
     "name": "stdout",
     "output_type": "stream",
     "text": [
      "{'I': 'INDIA', 'U': 'USE', 'color': ['G', 'R', 'Y']}\n",
      "{'I': 'INDIA', 'U': 'USE', 'color': ['G', 'R', 'Y']}\n"
     ]
    }
   ],
   "source": [
    "print(p)\n",
    "print(s)"
   ]
  },
  {
   "cell_type": "code",
   "execution_count": 46,
   "id": "2ffe3396",
   "metadata": {},
   "outputs": [
    {
     "name": "stdout",
     "output_type": "stream",
     "text": [
      "1349731045760\n",
      "1349730405888\n"
     ]
    }
   ],
   "source": [
    "print(id(p))\n",
    "print(id(s))"
   ]
  },
  {
   "cell_type": "code",
   "execution_count": 47,
   "id": "da2669cf",
   "metadata": {},
   "outputs": [],
   "source": [
    "s[\"R\"]=\"Russia\""
   ]
  },
  {
   "cell_type": "code",
   "execution_count": 48,
   "id": "c179b1f2",
   "metadata": {},
   "outputs": [
    {
     "data": {
      "text/plain": [
       "{'I': 'INDIA', 'U': 'USE', 'color': ['G', 'R', 'Y'], 'R': 'Russia'}"
      ]
     },
     "execution_count": 48,
     "metadata": {},
     "output_type": "execute_result"
    }
   ],
   "source": [
    "s"
   ]
  },
  {
   "cell_type": "code",
   "execution_count": 49,
   "id": "faeca325",
   "metadata": {},
   "outputs": [
    {
     "data": {
      "text/plain": [
       "{'I': 'INDIA', 'U': 'USE', 'color': ['G', 'R', 'Y']}"
      ]
     },
     "execution_count": 49,
     "metadata": {},
     "output_type": "execute_result"
    }
   ],
   "source": [
    "p"
   ]
  },
  {
   "cell_type": "code",
   "execution_count": 50,
   "id": "5db17631",
   "metadata": {},
   "outputs": [
    {
     "data": {
      "text/plain": [
       "['G', 'R', 'Y']"
      ]
     },
     "execution_count": 50,
     "metadata": {},
     "output_type": "execute_result"
    }
   ],
   "source": [
    "s[\"color\"]"
   ]
  },
  {
   "cell_type": "code",
   "execution_count": 51,
   "id": "649453e4",
   "metadata": {},
   "outputs": [],
   "source": [
    "s[\"color\"].append(\"R\")"
   ]
  },
  {
   "cell_type": "code",
   "execution_count": 52,
   "id": "59c53b74",
   "metadata": {},
   "outputs": [
    {
     "data": {
      "text/plain": [
       "{'I': 'INDIA', 'U': 'USE', 'color': ['G', 'R', 'Y', 'R'], 'R': 'Russia'}"
      ]
     },
     "execution_count": 52,
     "metadata": {},
     "output_type": "execute_result"
    }
   ],
   "source": [
    "s"
   ]
  },
  {
   "cell_type": "code",
   "execution_count": 53,
   "id": "18da2844",
   "metadata": {},
   "outputs": [
    {
     "data": {
      "text/plain": [
       "{'I': 'INDIA', 'U': 'USE', 'color': ['G', 'R', 'Y', 'R']}"
      ]
     },
     "execution_count": 53,
     "metadata": {},
     "output_type": "execute_result"
    }
   ],
   "source": [
    "p"
   ]
  },
  {
   "cell_type": "markdown",
   "id": "422b2a46",
   "metadata": {},
   "source": [
    "### Deep Copy"
   ]
  },
  {
   "cell_type": "code",
   "execution_count": 55,
   "id": "ae4c22ba",
   "metadata": {},
   "outputs": [],
   "source": [
    "import copy\n",
    "\n",
    "x=copy.deepcopy(s)"
   ]
  },
  {
   "cell_type": "code",
   "execution_count": 56,
   "id": "82dfaf72",
   "metadata": {},
   "outputs": [
    {
     "data": {
      "text/plain": [
       "{'I': 'INDIA', 'U': 'USE', 'color': ['G', 'R', 'Y', 'R'], 'R': 'Russia'}"
      ]
     },
     "execution_count": 56,
     "metadata": {},
     "output_type": "execute_result"
    }
   ],
   "source": [
    "x"
   ]
  },
  {
   "cell_type": "code",
   "execution_count": 57,
   "id": "e8096480",
   "metadata": {},
   "outputs": [
    {
     "data": {
      "text/plain": [
       "{'I': 'INDIA', 'U': 'USE', 'color': ['G', 'R', 'Y', 'R'], 'R': 'Russia'}"
      ]
     },
     "execution_count": 57,
     "metadata": {},
     "output_type": "execute_result"
    }
   ],
   "source": [
    "s"
   ]
  },
  {
   "cell_type": "code",
   "execution_count": 58,
   "id": "f7ec0ea8",
   "metadata": {},
   "outputs": [
    {
     "data": {
      "text/plain": [
       "'R'"
      ]
     },
     "execution_count": 58,
     "metadata": {},
     "output_type": "execute_result"
    }
   ],
   "source": [
    "x[\"color\"][3]"
   ]
  },
  {
   "cell_type": "code",
   "execution_count": 59,
   "id": "a2b4b177",
   "metadata": {},
   "outputs": [],
   "source": [
    "del x[\"color\"][3]"
   ]
  },
  {
   "cell_type": "code",
   "execution_count": 60,
   "id": "b78170b5",
   "metadata": {},
   "outputs": [
    {
     "data": {
      "text/plain": [
       "['G', 'R', 'Y']"
      ]
     },
     "execution_count": 60,
     "metadata": {},
     "output_type": "execute_result"
    }
   ],
   "source": [
    "x[\"color\"]"
   ]
  },
  {
   "cell_type": "code",
   "execution_count": 61,
   "id": "2f11af9d",
   "metadata": {},
   "outputs": [
    {
     "data": {
      "text/plain": [
       "{'I': 'INDIA', 'U': 'USE', 'color': ['G', 'R', 'Y'], 'R': 'Russia'}"
      ]
     },
     "execution_count": 61,
     "metadata": {},
     "output_type": "execute_result"
    }
   ],
   "source": [
    "x"
   ]
  },
  {
   "cell_type": "code",
   "execution_count": 62,
   "id": "ccf81d9b",
   "metadata": {},
   "outputs": [
    {
     "data": {
      "text/plain": [
       "{'I': 'INDIA', 'U': 'USE', 'color': ['G', 'R', 'Y', 'R'], 'R': 'Russia'}"
      ]
     },
     "execution_count": 62,
     "metadata": {},
     "output_type": "execute_result"
    }
   ],
   "source": [
    "s"
   ]
  },
  {
   "cell_type": "markdown",
   "id": "75b26af4",
   "metadata": {},
   "source": [
    "### Nested Dictionary"
   ]
  },
  {
   "cell_type": "code",
   "execution_count": 63,
   "id": "ba163fa9",
   "metadata": {},
   "outputs": [],
   "source": [
    "num1={}"
   ]
  },
  {
   "cell_type": "code",
   "execution_count": 64,
   "id": "5f3831d8",
   "metadata": {},
   "outputs": [],
   "source": [
    "num1.update(I=\"India\")"
   ]
  },
  {
   "cell_type": "code",
   "execution_count": 65,
   "id": "eb909a50",
   "metadata": {},
   "outputs": [
    {
     "data": {
      "text/plain": [
       "{'I': 'India'}"
      ]
     },
     "execution_count": 65,
     "metadata": {},
     "output_type": "execute_result"
    }
   ],
   "source": [
    "num1"
   ]
  },
  {
   "cell_type": "code",
   "execution_count": 67,
   "id": "767f7fb0",
   "metadata": {},
   "outputs": [
    {
     "data": {
      "text/plain": [
       "{'eng': 80, 'sci': 90, 'comp': 70}"
      ]
     },
     "execution_count": 67,
     "metadata": {},
     "output_type": "execute_result"
    }
   ],
   "source": [
    "dict(eng=80,sci=90,comp=70)"
   ]
  },
  {
   "cell_type": "code",
   "execution_count": 68,
   "id": "3f046b73",
   "metadata": {},
   "outputs": [],
   "source": [
    "sem1= dict(eng=80,sci=90,comp=70)"
   ]
  },
  {
   "cell_type": "code",
   "execution_count": 69,
   "id": "fbe0e1b8",
   "metadata": {},
   "outputs": [
    {
     "data": {
      "text/plain": [
       "{'eng': 80, 'sci': 90, 'comp': 70}"
      ]
     },
     "execution_count": 69,
     "metadata": {},
     "output_type": "execute_result"
    }
   ],
   "source": [
    "sem1"
   ]
  },
  {
   "cell_type": "code",
   "execution_count": 70,
   "id": "90ccad72",
   "metadata": {},
   "outputs": [
    {
     "data": {
      "text/plain": [
       "{'sem1': {'eng': 80, 'sci': 90, 'comp': 70}}"
      ]
     },
     "execution_count": 70,
     "metadata": {},
     "output_type": "execute_result"
    }
   ],
   "source": [
    "dict(sem1= dict(eng=80,sci=90,comp=70))"
   ]
  },
  {
   "cell_type": "code",
   "execution_count": null,
   "id": "19c0cc49",
   "metadata": {},
   "outputs": [],
   "source": []
  },
  {
   "cell_type": "code",
   "execution_count": 71,
   "id": "8309b066",
   "metadata": {},
   "outputs": [],
   "source": [
    "num1.update(sem1= dict(eng=80,sci=90,comp=70))"
   ]
  },
  {
   "cell_type": "code",
   "execution_count": 72,
   "id": "4ad99009",
   "metadata": {},
   "outputs": [
    {
     "data": {
      "text/plain": [
       "{'I': 'India', 'sem1': {'eng': 80, 'sci': 90, 'comp': 70}}"
      ]
     },
     "execution_count": 72,
     "metadata": {},
     "output_type": "execute_result"
    }
   ],
   "source": [
    "num1"
   ]
  },
  {
   "cell_type": "code",
   "execution_count": 73,
   "id": "6420a253",
   "metadata": {},
   "outputs": [],
   "source": [
    "num1.update(sem2= dict(eng=60,sci=80,comp=75))"
   ]
  },
  {
   "cell_type": "code",
   "execution_count": 74,
   "id": "d2f2c3e6",
   "metadata": {},
   "outputs": [
    {
     "data": {
      "text/plain": [
       "{'I': 'India',\n",
       " 'sem1': {'eng': 80, 'sci': 90, 'comp': 70},\n",
       " 'sem2': {'eng': 60, 'sci': 80, 'comp': 75}}"
      ]
     },
     "execution_count": 74,
     "metadata": {},
     "output_type": "execute_result"
    }
   ],
   "source": [
    "num1"
   ]
  },
  {
   "cell_type": "code",
   "execution_count": 75,
   "id": "a7d41a2a",
   "metadata": {},
   "outputs": [],
   "source": [
    "num1.update(sem3= dict(eng=50,sci=70,comp=55))"
   ]
  },
  {
   "cell_type": "code",
   "execution_count": 76,
   "id": "789bec03",
   "metadata": {},
   "outputs": [
    {
     "data": {
      "text/plain": [
       "{'I': 'India',\n",
       " 'sem1': {'eng': 80, 'sci': 90, 'comp': 70},\n",
       " 'sem2': {'eng': 60, 'sci': 80, 'comp': 75},\n",
       " 'sem3': {'eng': 50, 'sci': 70, 'comp': 55}}"
      ]
     },
     "execution_count": 76,
     "metadata": {},
     "output_type": "execute_result"
    }
   ],
   "source": [
    "num1"
   ]
  },
  {
   "cell_type": "code",
   "execution_count": 77,
   "id": "b3ad57ce",
   "metadata": {},
   "outputs": [],
   "source": [
    "del num1[\"I\"]"
   ]
  },
  {
   "cell_type": "code",
   "execution_count": 78,
   "id": "2224f47a",
   "metadata": {},
   "outputs": [
    {
     "data": {
      "text/plain": [
       "{'sem1': {'eng': 80, 'sci': 90, 'comp': 70},\n",
       " 'sem2': {'eng': 60, 'sci': 80, 'comp': 75},\n",
       " 'sem3': {'eng': 50, 'sci': 70, 'comp': 55}}"
      ]
     },
     "execution_count": 78,
     "metadata": {},
     "output_type": "execute_result"
    }
   ],
   "source": [
    "num1"
   ]
  },
  {
   "cell_type": "code",
   "execution_count": 80,
   "id": "3ad59884",
   "metadata": {},
   "outputs": [
    {
     "data": {
      "text/plain": [
       "{'eng': 80, 'sci': 90, 'comp': 70}"
      ]
     },
     "execution_count": 80,
     "metadata": {},
     "output_type": "execute_result"
    }
   ],
   "source": [
    "num1[\"sem1\"]"
   ]
  },
  {
   "cell_type": "code",
   "execution_count": 81,
   "id": "0c52c8f3",
   "metadata": {},
   "outputs": [
    {
     "data": {
      "text/plain": [
       "90"
      ]
     },
     "execution_count": 81,
     "metadata": {},
     "output_type": "execute_result"
    }
   ],
   "source": [
    "num1[\"sem1\"][\"sci\"]"
   ]
  },
  {
   "cell_type": "code",
   "execution_count": 84,
   "id": "62e4e6e5",
   "metadata": {},
   "outputs": [
    {
     "data": {
      "text/plain": [
       "240"
      ]
     },
     "execution_count": 84,
     "metadata": {},
     "output_type": "execute_result"
    }
   ],
   "source": [
    "num1[\"sem1\"][\"sci\"]+num1[\"sem1\"][\"comp\"]+num1[\"sem1\"][\"eng\"]"
   ]
  },
  {
   "cell_type": "code",
   "execution_count": 87,
   "id": "7f76d26f",
   "metadata": {},
   "outputs": [],
   "source": [
    "num1[\"sem1\"][\"Total\"]=num1[\"sem1\"][\"sci\"]+num1[\"sem1\"][\"comp\"]+num1[\"sem1\"][\"eng\"]"
   ]
  },
  {
   "cell_type": "code",
   "execution_count": 88,
   "id": "3c0add65",
   "metadata": {},
   "outputs": [
    {
     "data": {
      "text/plain": [
       "{'sem1': {'eng': 80, 'sci': 90, 'comp': 70, 'Total': 240},\n",
       " 'sem2': {'eng': 60, 'sci': 80, 'comp': 75},\n",
       " 'sem3': {'eng': 50, 'sci': 70, 'comp': 55},\n",
       " 'Total': 240}"
      ]
     },
     "execution_count": 88,
     "metadata": {},
     "output_type": "execute_result"
    }
   ],
   "source": [
    "num1"
   ]
  },
  {
   "cell_type": "code",
   "execution_count": 89,
   "id": "160cdecb",
   "metadata": {},
   "outputs": [
    {
     "data": {
      "text/plain": [
       "240"
      ]
     },
     "execution_count": 89,
     "metadata": {},
     "output_type": "execute_result"
    }
   ],
   "source": [
    "num1[\"Total\"]"
   ]
  },
  {
   "cell_type": "code",
   "execution_count": 90,
   "id": "686dc49b",
   "metadata": {},
   "outputs": [],
   "source": [
    "del num1[\"Total\"]"
   ]
  },
  {
   "cell_type": "code",
   "execution_count": 91,
   "id": "bfcb0dc7",
   "metadata": {},
   "outputs": [
    {
     "data": {
      "text/plain": [
       "{'sem1': {'eng': 80, 'sci': 90, 'comp': 70, 'Total': 240},\n",
       " 'sem2': {'eng': 60, 'sci': 80, 'comp': 75},\n",
       " 'sem3': {'eng': 50, 'sci': 70, 'comp': 55}}"
      ]
     },
     "execution_count": 91,
     "metadata": {},
     "output_type": "execute_result"
    }
   ],
   "source": [
    "num1"
   ]
  },
  {
   "cell_type": "code",
   "execution_count": 92,
   "id": "317339f7",
   "metadata": {},
   "outputs": [],
   "source": [
    "num1[\"sem2\"][\"Total\"]=num1[\"sem2\"][\"sci\"]+num1[\"sem2\"][\"comp\"]+num1[\"sem2\"][\"eng\"]"
   ]
  },
  {
   "cell_type": "code",
   "execution_count": 93,
   "id": "5e5936b7",
   "metadata": {},
   "outputs": [
    {
     "data": {
      "text/plain": [
       "{'sem1': {'eng': 80, 'sci': 90, 'comp': 70, 'Total': 240},\n",
       " 'sem2': {'eng': 60, 'sci': 80, 'comp': 75, 'Total': 215},\n",
       " 'sem3': {'eng': 50, 'sci': 70, 'comp': 55}}"
      ]
     },
     "execution_count": 93,
     "metadata": {},
     "output_type": "execute_result"
    }
   ],
   "source": [
    "num1"
   ]
  },
  {
   "cell_type": "code",
   "execution_count": 94,
   "id": "949d5781",
   "metadata": {},
   "outputs": [],
   "source": [
    "num1[\"sem3\"][\"Total\"]=num1[\"sem3\"][\"sci\"]+num1[\"sem3\"][\"comp\"]+num1[\"sem3\"][\"eng\"]"
   ]
  },
  {
   "cell_type": "code",
   "execution_count": 95,
   "id": "3ca1deac",
   "metadata": {},
   "outputs": [
    {
     "data": {
      "text/plain": [
       "{'sem1': {'eng': 80, 'sci': 90, 'comp': 70, 'Total': 240},\n",
       " 'sem2': {'eng': 60, 'sci': 80, 'comp': 75, 'Total': 215},\n",
       " 'sem3': {'eng': 50, 'sci': 70, 'comp': 55, 'Total': 175}}"
      ]
     },
     "execution_count": 95,
     "metadata": {},
     "output_type": "execute_result"
    }
   ],
   "source": [
    "num1"
   ]
  },
  {
   "cell_type": "code",
   "execution_count": 97,
   "id": "108cb20b",
   "metadata": {},
   "outputs": [],
   "source": [
    "num1[\"sem1\"][\"Avg\"]=num1[\"sem1\"][\"Total\"]/3"
   ]
  },
  {
   "cell_type": "code",
   "execution_count": 98,
   "id": "e66f25ab",
   "metadata": {},
   "outputs": [
    {
     "data": {
      "text/plain": [
       "{'sem1': {'eng': 80, 'sci': 90, 'comp': 70, 'Total': 240, 'Avg': 80.0},\n",
       " 'sem2': {'eng': 60, 'sci': 80, 'comp': 75, 'Total': 215},\n",
       " 'sem3': {'eng': 50, 'sci': 70, 'comp': 55, 'Total': 175}}"
      ]
     },
     "execution_count": 98,
     "metadata": {},
     "output_type": "execute_result"
    }
   ],
   "source": [
    "num1"
   ]
  },
  {
   "cell_type": "code",
   "execution_count": 102,
   "id": "d0375f7d",
   "metadata": {},
   "outputs": [],
   "source": [
    "num1[\"sem2\"][\"Avg\"]=num1[\"sem2\"][\"Total\"]/3"
   ]
  },
  {
   "cell_type": "code",
   "execution_count": 103,
   "id": "8c4fd211",
   "metadata": {},
   "outputs": [
    {
     "data": {
      "text/plain": [
       "{'sem1': {'eng': 80, 'sci': 90, 'comp': 70, 'Total': 240, 'Avg': 80.0},\n",
       " 'sem2': {'eng': 60,\n",
       "  'sci': 80,\n",
       "  'comp': 75,\n",
       "  'Total': 215,\n",
       "  'Avg': 71.66666666666667},\n",
       " 'sem3': {'eng': 50, 'sci': 70, 'comp': 55, 'Total': 175}}"
      ]
     },
     "execution_count": 103,
     "metadata": {},
     "output_type": "execute_result"
    }
   ],
   "source": [
    "num1"
   ]
  },
  {
   "cell_type": "code",
   "execution_count": 106,
   "id": "77bfe688",
   "metadata": {},
   "outputs": [],
   "source": [
    "num1[\"sem3\"][\"Avg\"]=num1[\"sem3\"][\"Total\"]/3"
   ]
  },
  {
   "cell_type": "code",
   "execution_count": 107,
   "id": "1b67af45",
   "metadata": {},
   "outputs": [
    {
     "data": {
      "text/plain": [
       "{'sem1': {'eng': 80, 'sci': 90, 'comp': 70, 'Total': 240, 'Avg': 80.0},\n",
       " 'sem2': {'eng': 60,\n",
       "  'sci': 80,\n",
       "  'comp': 75,\n",
       "  'Total': 215,\n",
       "  'Avg': 71.66666666666667},\n",
       " 'sem3': {'eng': 50,\n",
       "  'sci': 70,\n",
       "  'comp': 55,\n",
       "  'Total': 175,\n",
       "  'Avg': 58.333333333333336}}"
      ]
     },
     "execution_count": 107,
     "metadata": {},
     "output_type": "execute_result"
    }
   ],
   "source": [
    "num1"
   ]
  },
  {
   "cell_type": "code",
   "execution_count": 108,
   "id": "2070c5a5",
   "metadata": {},
   "outputs": [
    {
     "name": "stdout",
     "output_type": "stream",
     "text": [
      "80.0\n",
      "71.66666666666667\n",
      "58.333333333333336\n"
     ]
    }
   ],
   "source": [
    "for i in num1:\n",
    "    print(num1[i][\"Total\"]/3)"
   ]
  },
  {
   "cell_type": "code",
   "execution_count": 109,
   "id": "344e4f0a",
   "metadata": {},
   "outputs": [
    {
     "name": "stdout",
     "output_type": "stream",
     "text": [
      "240\n",
      "215\n",
      "175\n"
     ]
    }
   ],
   "source": [
    "for i in num1:\n",
    "    print(num1[i][\"Total\"])"
   ]
  },
  {
   "cell_type": "code",
   "execution_count": 111,
   "id": "efe8fea8",
   "metadata": {},
   "outputs": [],
   "source": [
    "for i in num1:\n",
    "    num1[i][\"Avg\"]=num1[i][\"Total\"]/3"
   ]
  },
  {
   "cell_type": "code",
   "execution_count": 112,
   "id": "d7574c0b",
   "metadata": {},
   "outputs": [
    {
     "name": "stdout",
     "output_type": "stream",
     "text": [
      "{'sem1': {'eng': 80, 'sci': 90, 'comp': 70, 'Total': 240, 'Avg': 80.0}, 'sem2': {'eng': 60, 'sci': 80, 'comp': 75, 'Total': 215, 'Avg': 71.66666666666667}, 'sem3': {'eng': 50, 'sci': 70, 'comp': 55, 'Total': 175, 'Avg': 58.333333333333336}}\n"
     ]
    }
   ],
   "source": [
    "print(num1)"
   ]
  },
  {
   "cell_type": "markdown",
   "id": "8ed0d08c",
   "metadata": {},
   "source": [
    "### ASSIGNMENT\n",
    "### Assign the Grade"
   ]
  },
  {
   "cell_type": "code",
   "execution_count": null,
   "id": "7c7ff5bb",
   "metadata": {},
   "outputs": [],
   "source": []
  }
 ],
 "metadata": {
  "kernelspec": {
   "display_name": "Python 3 (ipykernel)",
   "language": "python",
   "name": "python3"
  },
  "language_info": {
   "codemirror_mode": {
    "name": "ipython",
    "version": 3
   },
   "file_extension": ".py",
   "mimetype": "text/x-python",
   "name": "python",
   "nbconvert_exporter": "python",
   "pygments_lexer": "ipython3",
   "version": "3.9.13"
  }
 },
 "nbformat": 4,
 "nbformat_minor": 5
}
