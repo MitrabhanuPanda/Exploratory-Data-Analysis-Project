{
 "cells": [
  {
   "cell_type": "markdown",
   "id": "961e4f90",
   "metadata": {},
   "source": [
    "### Duplicates Keys and Values"
   ]
  },
  {
   "cell_type": "code",
   "execution_count": 15,
   "id": "2980c8b9",
   "metadata": {},
   "outputs": [],
   "source": [
    "d1={\"B\":\"Blue\",\"K\":\"King\",\"x\":1000,\"y\":2000,\"a\":3000}"
   ]
  },
  {
   "cell_type": "code",
   "execution_count": 16,
   "id": "bf7f95a5",
   "metadata": {},
   "outputs": [
    {
     "data": {
      "text/plain": [
       "{'B': 'Blue', 'K': 'King', 'x': 1000, 'y': 2000, 'a': 3000}"
      ]
     },
     "execution_count": 16,
     "metadata": {},
     "output_type": "execute_result"
    }
   ],
   "source": [
    "d1"
   ]
  },
  {
   "cell_type": "code",
   "execution_count": 13,
   "id": "5ac5d4c9",
   "metadata": {},
   "outputs": [],
   "source": [
    "d2={\"B\":\"Blue\",\"K\":\"King\",\"x\":1000,\"y\":2000,\"B\":3000}"
   ]
  },
  {
   "cell_type": "code",
   "execution_count": 14,
   "id": "5af5006e",
   "metadata": {},
   "outputs": [
    {
     "data": {
      "text/plain": [
       "{'B': 3000, 'K': 'King', 'x': 1000, 'y': 2000}"
      ]
     },
     "execution_count": 14,
     "metadata": {},
     "output_type": "execute_result"
    }
   ],
   "source": [
    "d2"
   ]
  },
  {
   "cell_type": "code",
   "execution_count": 9,
   "id": "648c7c62",
   "metadata": {},
   "outputs": [
    {
     "data": {
      "text/plain": [
       "dict_keys(['B', 'K', 'x', 'y'])"
      ]
     },
     "execution_count": 9,
     "metadata": {},
     "output_type": "execute_result"
    }
   ],
   "source": [
    "d1.keys()"
   ]
  },
  {
   "cell_type": "code",
   "execution_count": 10,
   "id": "53a25432",
   "metadata": {},
   "outputs": [
    {
     "data": {
      "text/plain": [
       "dict_values([3000, 'King', 1000, 2000])"
      ]
     },
     "execution_count": 10,
     "metadata": {},
     "output_type": "execute_result"
    }
   ],
   "source": [
    "d1.values()"
   ]
  },
  {
   "cell_type": "code",
   "execution_count": 11,
   "id": "9eb492b9",
   "metadata": {},
   "outputs": [
    {
     "data": {
      "text/plain": [
       "dict_items([('B', 3000), ('K', 'King'), ('x', 1000), ('y', 2000)])"
      ]
     },
     "execution_count": 11,
     "metadata": {},
     "output_type": "execute_result"
    }
   ],
   "source": [
    "d1.items()"
   ]
  },
  {
   "cell_type": "code",
   "execution_count": 20,
   "id": "4597853d",
   "metadata": {},
   "outputs": [
    {
     "data": {
      "text/plain": [
       "3000"
      ]
     },
     "execution_count": 20,
     "metadata": {},
     "output_type": "execute_result"
    }
   ],
   "source": [
    "d2[\"B\"]"
   ]
  },
  {
   "cell_type": "markdown",
   "id": "89e172e3",
   "metadata": {},
   "source": [
    "### Reading from the data from Dictionary"
   ]
  },
  {
   "cell_type": "code",
   "execution_count": 21,
   "id": "4e06923c",
   "metadata": {},
   "outputs": [],
   "source": [
    "d3={\"B\":\"Blue\",\"K\":\"King\",\"x\":1000,\"y\":2000,\"A\":3000}"
   ]
  },
  {
   "cell_type": "code",
   "execution_count": 22,
   "id": "71e86269",
   "metadata": {},
   "outputs": [
    {
     "name": "stdout",
     "output_type": "stream",
     "text": [
      "B\n",
      "K\n",
      "x\n",
      "y\n",
      "A\n"
     ]
    }
   ],
   "source": [
    "for i in d3:\n",
    "    print(i)"
   ]
  },
  {
   "cell_type": "code",
   "execution_count": 24,
   "id": "6af87dbb",
   "metadata": {},
   "outputs": [
    {
     "name": "stdout",
     "output_type": "stream",
     "text": [
      "B\n",
      "K\n",
      "x\n",
      "y\n",
      "A\n"
     ]
    }
   ],
   "source": [
    "for i in d3.keys():\n",
    "    print(i)"
   ]
  },
  {
   "cell_type": "code",
   "execution_count": 23,
   "id": "25a091a3",
   "metadata": {},
   "outputs": [
    {
     "name": "stdout",
     "output_type": "stream",
     "text": [
      "Blue\n",
      "King\n",
      "1000\n",
      "2000\n",
      "3000\n"
     ]
    }
   ],
   "source": [
    "for i in d3:\n",
    "    print(d3[i])"
   ]
  },
  {
   "cell_type": "code",
   "execution_count": 26,
   "id": "f3bb1606",
   "metadata": {},
   "outputs": [
    {
     "name": "stdout",
     "output_type": "stream",
     "text": [
      "Blue\n",
      "King\n",
      "1000\n",
      "2000\n",
      "3000\n"
     ]
    }
   ],
   "source": [
    "for i in d3.values():\n",
    "    print(i)"
   ]
  },
  {
   "cell_type": "code",
   "execution_count": 27,
   "id": "a6876dd9",
   "metadata": {},
   "outputs": [
    {
     "name": "stdout",
     "output_type": "stream",
     "text": [
      "('B', 'Blue')\n",
      "('K', 'King')\n",
      "('x', 1000)\n",
      "('y', 2000)\n",
      "('A', 3000)\n"
     ]
    }
   ],
   "source": [
    "for i in d3.items():\n",
    "    print(i)"
   ]
  },
  {
   "cell_type": "code",
   "execution_count": 28,
   "id": "2a0c93c3",
   "metadata": {},
   "outputs": [
    {
     "name": "stdout",
     "output_type": "stream",
     "text": [
      "B Blue\n",
      "K King\n",
      "x 1000\n",
      "y 2000\n",
      "A 3000\n"
     ]
    }
   ],
   "source": [
    "for m,n in d3.items():\n",
    "    print(m,n)"
   ]
  },
  {
   "cell_type": "markdown",
   "id": "2ffc5c16",
   "metadata": {},
   "source": [
    "### reading the data using the key"
   ]
  },
  {
   "cell_type": "code",
   "execution_count": 29,
   "id": "6fe44a6a",
   "metadata": {},
   "outputs": [
    {
     "data": {
      "text/plain": [
       "{'B': 'Blue', 'K': 'King', 'x': 1000, 'y': 2000, 'A': 3000}"
      ]
     },
     "execution_count": 29,
     "metadata": {},
     "output_type": "execute_result"
    }
   ],
   "source": [
    "d3"
   ]
  },
  {
   "cell_type": "code",
   "execution_count": 30,
   "id": "7cc6e4a9",
   "metadata": {},
   "outputs": [
    {
     "data": {
      "text/plain": [
       "'King'"
      ]
     },
     "execution_count": 30,
     "metadata": {},
     "output_type": "execute_result"
    }
   ],
   "source": [
    "d3[\"K\"]"
   ]
  },
  {
   "cell_type": "markdown",
   "id": "8db857b3",
   "metadata": {},
   "source": [
    "### get()"
   ]
  },
  {
   "cell_type": "code",
   "execution_count": 35,
   "id": "c4807802",
   "metadata": {},
   "outputs": [
    {
     "data": {
      "text/plain": [
       "'King'"
      ]
     },
     "execution_count": 35,
     "metadata": {},
     "output_type": "execute_result"
    }
   ],
   "source": [
    "d3.get(\"K\")"
   ]
  },
  {
   "cell_type": "code",
   "execution_count": 36,
   "id": "43c567c5",
   "metadata": {},
   "outputs": [],
   "source": [
    "d3.get(\"C\")"
   ]
  },
  {
   "cell_type": "code",
   "execution_count": 37,
   "id": "6e27c5bd",
   "metadata": {},
   "outputs": [
    {
     "data": {
      "text/plain": [
       "'No such key'"
      ]
     },
     "execution_count": 37,
     "metadata": {},
     "output_type": "execute_result"
    }
   ],
   "source": [
    "d3.get(\"C\",\"No such key\")"
   ]
  },
  {
   "cell_type": "code",
   "execution_count": 38,
   "id": "408af8f1",
   "metadata": {},
   "outputs": [
    {
     "data": {
      "text/plain": [
       "'Blue'"
      ]
     },
     "execution_count": 38,
     "metadata": {},
     "output_type": "execute_result"
    }
   ],
   "source": [
    "d3.get(\"B\",\"No such key\")"
   ]
  },
  {
   "cell_type": "markdown",
   "id": "ac1f55d5",
   "metadata": {},
   "source": [
    "### setdefault()"
   ]
  },
  {
   "cell_type": "code",
   "execution_count": 39,
   "id": "d5f18412",
   "metadata": {},
   "outputs": [
    {
     "data": {
      "text/plain": [
       "{'B': 'Blue', 'K': 'King', 'x': 1000, 'y': 2000, 'A': 5000, 'Q': 'Queen'}"
      ]
     },
     "execution_count": 39,
     "metadata": {},
     "output_type": "execute_result"
    }
   ],
   "source": [
    "d3"
   ]
  },
  {
   "cell_type": "code",
   "execution_count": 40,
   "id": "211e41e2",
   "metadata": {},
   "outputs": [
    {
     "data": {
      "text/plain": [
       "'Blue'"
      ]
     },
     "execution_count": 40,
     "metadata": {},
     "output_type": "execute_result"
    }
   ],
   "source": [
    "d3.setdefault(\"B\",\"No such key\")"
   ]
  },
  {
   "cell_type": "code",
   "execution_count": 41,
   "id": "090d81c9",
   "metadata": {},
   "outputs": [
    {
     "data": {
      "text/plain": [
       "'No such key'"
      ]
     },
     "execution_count": 41,
     "metadata": {},
     "output_type": "execute_result"
    }
   ],
   "source": [
    "d3.setdefault(\"M\",\"No such key\")"
   ]
  },
  {
   "cell_type": "code",
   "execution_count": 42,
   "id": "a2313b6a",
   "metadata": {},
   "outputs": [
    {
     "data": {
      "text/plain": [
       "{'B': 'Blue',\n",
       " 'K': 'King',\n",
       " 'x': 1000,\n",
       " 'y': 2000,\n",
       " 'A': 5000,\n",
       " 'Q': 'Queen',\n",
       " 'M': 'No such key'}"
      ]
     },
     "execution_count": 42,
     "metadata": {},
     "output_type": "execute_result"
    }
   ],
   "source": [
    "d3"
   ]
  },
  {
   "cell_type": "markdown",
   "id": "2f6a7298",
   "metadata": {},
   "source": [
    "### Deletion"
   ]
  },
  {
   "cell_type": "code",
   "execution_count": 43,
   "id": "7731733f",
   "metadata": {},
   "outputs": [
    {
     "data": {
      "text/plain": [
       "{'B': 'Blue',\n",
       " 'K': 'King',\n",
       " 'x': 1000,\n",
       " 'y': 2000,\n",
       " 'A': 5000,\n",
       " 'Q': 'Queen',\n",
       " 'M': 'No such key'}"
      ]
     },
     "execution_count": 43,
     "metadata": {},
     "output_type": "execute_result"
    }
   ],
   "source": [
    "d3"
   ]
  },
  {
   "cell_type": "code",
   "execution_count": 44,
   "id": "45d184a6",
   "metadata": {},
   "outputs": [
    {
     "data": {
      "text/plain": [
       "'King'"
      ]
     },
     "execution_count": 44,
     "metadata": {},
     "output_type": "execute_result"
    }
   ],
   "source": [
    "d3[\"K\"]"
   ]
  },
  {
   "cell_type": "code",
   "execution_count": 46,
   "id": "244488c5",
   "metadata": {},
   "outputs": [],
   "source": [
    "del d3[\"K\"]"
   ]
  },
  {
   "cell_type": "code",
   "execution_count": 47,
   "id": "8e11b6b0",
   "metadata": {},
   "outputs": [
    {
     "data": {
      "text/plain": [
       "{'B': 'Blue',\n",
       " 'x': 1000,\n",
       " 'y': 2000,\n",
       " 'A': 5000,\n",
       " 'Q': 'Queen',\n",
       " 'M': 'No such key'}"
      ]
     },
     "execution_count": 47,
     "metadata": {},
     "output_type": "execute_result"
    }
   ],
   "source": [
    "d3"
   ]
  },
  {
   "cell_type": "markdown",
   "id": "e024154d",
   "metadata": {},
   "source": [
    "### setdefault()"
   ]
  },
  {
   "cell_type": "code",
   "execution_count": 48,
   "id": "1e955e6f",
   "metadata": {},
   "outputs": [
    {
     "data": {
      "text/plain": [
       "('M', 'No such key')"
      ]
     },
     "execution_count": 48,
     "metadata": {},
     "output_type": "execute_result"
    }
   ],
   "source": [
    "d3.popitem()"
   ]
  },
  {
   "cell_type": "code",
   "execution_count": 49,
   "id": "ba5e5687",
   "metadata": {},
   "outputs": [
    {
     "data": {
      "text/plain": [
       "{'B': 'Blue', 'x': 1000, 'y': 2000, 'A': 5000, 'Q': 'Queen'}"
      ]
     },
     "execution_count": 49,
     "metadata": {},
     "output_type": "execute_result"
    }
   ],
   "source": [
    "d3"
   ]
  },
  {
   "cell_type": "markdown",
   "id": "9852503c",
   "metadata": {},
   "source": [
    "### clear()"
   ]
  },
  {
   "cell_type": "code",
   "execution_count": 50,
   "id": "d50be211",
   "metadata": {},
   "outputs": [],
   "source": [
    "d3.clear()"
   ]
  },
  {
   "cell_type": "code",
   "execution_count": 51,
   "id": "6553addc",
   "metadata": {},
   "outputs": [
    {
     "data": {
      "text/plain": [
       "{}"
      ]
     },
     "execution_count": 51,
     "metadata": {},
     "output_type": "execute_result"
    }
   ],
   "source": [
    "d3"
   ]
  },
  {
   "cell_type": "code",
   "execution_count": null,
   "id": "614e7733",
   "metadata": {},
   "outputs": [],
   "source": []
  },
  {
   "cell_type": "code",
   "execution_count": 52,
   "id": "0fe44f0f",
   "metadata": {},
   "outputs": [],
   "source": [
    "d3[\"K\"]=\"Kite\""
   ]
  },
  {
   "cell_type": "code",
   "execution_count": 53,
   "id": "ca3c857b",
   "metadata": {},
   "outputs": [
    {
     "data": {
      "text/plain": [
       "{'K': 'Kite'}"
      ]
     },
     "execution_count": 53,
     "metadata": {},
     "output_type": "execute_result"
    }
   ],
   "source": [
    "d3"
   ]
  },
  {
   "cell_type": "code",
   "execution_count": 54,
   "id": "40ce1942",
   "metadata": {},
   "outputs": [],
   "source": [
    "del d3"
   ]
  },
  {
   "cell_type": "code",
   "execution_count": 55,
   "id": "8d40b7e2",
   "metadata": {},
   "outputs": [
    {
     "ename": "NameError",
     "evalue": "name 'd3' is not defined",
     "output_type": "error",
     "traceback": [
      "\u001b[1;31m---------------------------------------------------------------------------\u001b[0m",
      "\u001b[1;31mNameError\u001b[0m                                 Traceback (most recent call last)",
      "\u001b[1;32m~\\AppData\\Local\\Temp\\ipykernel_12404\\3940902595.py\u001b[0m in \u001b[0;36m<module>\u001b[1;34m\u001b[0m\n\u001b[1;32m----> 1\u001b[1;33m \u001b[0md3\u001b[0m\u001b[1;33m\u001b[0m\u001b[1;33m\u001b[0m\u001b[0m\n\u001b[0m",
      "\u001b[1;31mNameError\u001b[0m: name 'd3' is not defined"
     ]
    }
   ],
   "source": [
    "d3"
   ]
  },
  {
   "cell_type": "code",
   "execution_count": null,
   "id": "191fdb4d",
   "metadata": {},
   "outputs": [],
   "source": []
  },
  {
   "cell_type": "markdown",
   "id": "e09f0a11",
   "metadata": {},
   "source": [
    "### assigning the data using the key"
   ]
  },
  {
   "cell_type": "code",
   "execution_count": 31,
   "id": "c0e67578",
   "metadata": {},
   "outputs": [],
   "source": [
    "d3[\"Q\"]=\"Queen\" # Assign a Value"
   ]
  },
  {
   "cell_type": "code",
   "execution_count": 32,
   "id": "b0df0cf6",
   "metadata": {},
   "outputs": [
    {
     "data": {
      "text/plain": [
       "{'B': 'Blue', 'K': 'King', 'x': 1000, 'y': 2000, 'A': 3000, 'Q': 'Queen'}"
      ]
     },
     "execution_count": 32,
     "metadata": {},
     "output_type": "execute_result"
    }
   ],
   "source": [
    "d3"
   ]
  },
  {
   "cell_type": "markdown",
   "id": "d7a6f77d",
   "metadata": {},
   "source": [
    "### replacing value of exsting key"
   ]
  },
  {
   "cell_type": "code",
   "execution_count": 33,
   "id": "89f63d16",
   "metadata": {},
   "outputs": [],
   "source": [
    "d3[\"A\"]=5000"
   ]
  },
  {
   "cell_type": "code",
   "execution_count": 34,
   "id": "2e4d8d34",
   "metadata": {},
   "outputs": [
    {
     "data": {
      "text/plain": [
       "{'B': 'Blue', 'K': 'King', 'x': 1000, 'y': 2000, 'A': 5000, 'Q': 'Queen'}"
      ]
     },
     "execution_count": 34,
     "metadata": {},
     "output_type": "execute_result"
    }
   ],
   "source": [
    "d3"
   ]
  },
  {
   "cell_type": "markdown",
   "id": "e4913d2e",
   "metadata": {},
   "source": [
    "### Update"
   ]
  },
  {
   "cell_type": "code",
   "execution_count": 57,
   "id": "61782e5e",
   "metadata": {},
   "outputs": [],
   "source": [
    "d4={\"A\":\"Apple\",\"B\":\"Ball\",\"C\":\"Cat\"}"
   ]
  },
  {
   "cell_type": "code",
   "execution_count": 58,
   "id": "a3ab6112",
   "metadata": {},
   "outputs": [
    {
     "data": {
      "text/plain": [
       "{'A': 'Apple', 'B': 'Ball', 'C': 'Cat'}"
      ]
     },
     "execution_count": 58,
     "metadata": {},
     "output_type": "execute_result"
    }
   ],
   "source": [
    "d4"
   ]
  },
  {
   "cell_type": "code",
   "execution_count": 59,
   "id": "7821a602",
   "metadata": {},
   "outputs": [],
   "source": [
    "d4.update(a=1000,c=2000)"
   ]
  },
  {
   "cell_type": "code",
   "execution_count": 60,
   "id": "346e0c31",
   "metadata": {},
   "outputs": [
    {
     "data": {
      "text/plain": [
       "{'A': 'Apple', 'B': 'Ball', 'C': 'Cat', 'a': 1000, 'c': 2000}"
      ]
     },
     "execution_count": 60,
     "metadata": {},
     "output_type": "execute_result"
    }
   ],
   "source": [
    "d4"
   ]
  },
  {
   "cell_type": "code",
   "execution_count": 64,
   "id": "865cefac",
   "metadata": {},
   "outputs": [],
   "source": [
    "d4.update(((\"d\",\"duffer\"),(\"e\",\"eat\")))"
   ]
  },
  {
   "cell_type": "code",
   "execution_count": 65,
   "id": "9821c271",
   "metadata": {},
   "outputs": [
    {
     "data": {
      "text/plain": [
       "{'A': 'Apple',\n",
       " 'B': 'Ball',\n",
       " 'C': 'Cat',\n",
       " 'a': 1000,\n",
       " 'c': 2000,\n",
       " 'd': 'duffer',\n",
       " 'e': 'eat'}"
      ]
     },
     "execution_count": 65,
     "metadata": {},
     "output_type": "execute_result"
    }
   ],
   "source": [
    "d4"
   ]
  },
  {
   "cell_type": "code",
   "execution_count": 69,
   "id": "d0708b9c",
   "metadata": {},
   "outputs": [],
   "source": [
    "d5={\"A\":\"Apple\",\"B\":\"Ball\",\"C\":\"Cat\",\"Ones\":111,\"Twos\":2222}"
   ]
  },
  {
   "cell_type": "code",
   "execution_count": 70,
   "id": "d3e64637",
   "metadata": {},
   "outputs": [],
   "source": [
    "d4.update(d5)"
   ]
  },
  {
   "cell_type": "code",
   "execution_count": 71,
   "id": "3a253b5e",
   "metadata": {},
   "outputs": [
    {
     "data": {
      "text/plain": [
       "{'A': 'Apple',\n",
       " 'B': 'Ball',\n",
       " 'C': 'Cat',\n",
       " 'a': 1000,\n",
       " 'c': 2000,\n",
       " 'd': 'duffer',\n",
       " 'e': 'eat',\n",
       " 'Ones': 111,\n",
       " 'Twos': 2222}"
      ]
     },
     "execution_count": 71,
     "metadata": {},
     "output_type": "execute_result"
    }
   ],
   "source": [
    "d4"
   ]
  },
  {
   "cell_type": "code",
   "execution_count": 72,
   "id": "4584c9d8",
   "metadata": {},
   "outputs": [
    {
     "data": {
      "text/plain": [
       "{'A': 'Apple',\n",
       " 'B': 'Ball',\n",
       " 'C': 'Cat',\n",
       " 'a': 1000,\n",
       " 'c': 2000,\n",
       " 'd': 'duffer',\n",
       " 'e': 'eat',\n",
       " 'Ones': 111,\n",
       " 'Twos': 2222}"
      ]
     },
     "execution_count": 72,
     "metadata": {},
     "output_type": "execute_result"
    }
   ],
   "source": [
    "d4"
   ]
  },
  {
   "cell_type": "code",
   "execution_count": 73,
   "id": "99f33dc6",
   "metadata": {},
   "outputs": [
    {
     "data": {
      "text/plain": [
       "{'B': 'Blue', 'K': 'King', 'x': 1000, 'y': 2000, 'a': 3000}"
      ]
     },
     "execution_count": 73,
     "metadata": {},
     "output_type": "execute_result"
    }
   ],
   "source": [
    "d1"
   ]
  },
  {
   "cell_type": "code",
   "execution_count": 74,
   "id": "564e77e0",
   "metadata": {},
   "outputs": [
    {
     "data": {
      "text/plain": [
       "{'A': 'Apple', 'B': 'Ball', 'C': 'Cat', 'Ones': 111, 'Twos': 2222}"
      ]
     },
     "execution_count": 74,
     "metadata": {},
     "output_type": "execute_result"
    }
   ],
   "source": [
    "d5"
   ]
  },
  {
   "cell_type": "code",
   "execution_count": 75,
   "id": "912773cd",
   "metadata": {},
   "outputs": [],
   "source": [
    "d5.update(d1)"
   ]
  },
  {
   "cell_type": "code",
   "execution_count": 76,
   "id": "f6d58b4d",
   "metadata": {},
   "outputs": [
    {
     "data": {
      "text/plain": [
       "{'A': 'Apple',\n",
       " 'B': 'Blue',\n",
       " 'C': 'Cat',\n",
       " 'Ones': 111,\n",
       " 'Twos': 2222,\n",
       " 'K': 'King',\n",
       " 'x': 1000,\n",
       " 'y': 2000,\n",
       " 'a': 3000}"
      ]
     },
     "execution_count": 76,
     "metadata": {},
     "output_type": "execute_result"
    }
   ],
   "source": [
    "d5"
   ]
  },
  {
   "cell_type": "markdown",
   "id": "1c3a52f7",
   "metadata": {},
   "source": [
    "### Merging with third dictionary"
   ]
  },
  {
   "cell_type": "code",
   "execution_count": 77,
   "id": "7aec741c",
   "metadata": {},
   "outputs": [
    {
     "name": "stdout",
     "output_type": "stream",
     "text": [
      "{'B': 'Blue', 'K': 'King', 'x': 1000, 'y': 2000, 'a': 3000}\n",
      "{'A': 'Apple', 'B': 'Blue', 'C': 'Cat', 'Ones': 111, 'Twos': 2222, 'K': 'King', 'x': 1000, 'y': 2000, 'a': 3000}\n"
     ]
    }
   ],
   "source": [
    "for k in d1,d5:\n",
    "    print(k)"
   ]
  },
  {
   "cell_type": "code",
   "execution_count": 78,
   "id": "9a2290b8",
   "metadata": {},
   "outputs": [
    {
     "name": "stdout",
     "output_type": "stream",
     "text": [
      "{'B': 'Blue', 'K': 'King', 'x': 1000, 'y': 2000, 'a': 3000, 'A': 'Apple', 'C': 'Cat', 'Ones': 111, 'Twos': 2222}\n"
     ]
    }
   ],
   "source": [
    "res={}\n",
    "for k in d1,d5:\n",
    "    res.update(k)\n",
    "print(res)"
   ]
  },
  {
   "cell_type": "markdown",
   "id": "a7ca1bc6",
   "metadata": {},
   "source": [
    "### Second Method Merging"
   ]
  },
  {
   "cell_type": "code",
   "execution_count": 83,
   "id": "417e574f",
   "metadata": {},
   "outputs": [],
   "source": [
    "d7={'A': 'Ant',\n",
    " 'B': 'Ball',\n",
    " 'C': 'Cat',\n",
    " 'a': 1000,\n",
    " 'c': 2000,\n",
    " 'Ones': 111,\n",
    " 'Twos': 2222}"
   ]
  },
  {
   "cell_type": "code",
   "execution_count": 84,
   "id": "68d00e4c",
   "metadata": {},
   "outputs": [],
   "source": [
    "d8={'A': 'Apple',\n",
    " 'B': 'Blue',\n",
    " 'C': 'Cat',\n",
    " 'K': 'King',\n",
    " 'x': 1000,\n",
    " 'y': 2000,\n",
    " 'a': 3000}"
   ]
  },
  {
   "cell_type": "code",
   "execution_count": 85,
   "id": "5aab1268",
   "metadata": {},
   "outputs": [
    {
     "data": {
      "text/plain": [
       "{'A': 'Apple',\n",
       " 'B': 'Blue',\n",
       " 'C': 'Cat',\n",
       " 'a': 3000,\n",
       " 'c': 2000,\n",
       " 'Ones': 111,\n",
       " 'Twos': 2222,\n",
       " 'K': 'King',\n",
       " 'x': 1000,\n",
       " 'y': 2000}"
      ]
     },
     "execution_count": 85,
     "metadata": {},
     "output_type": "execute_result"
    }
   ],
   "source": [
    "{**d7,**d8}"
   ]
  },
  {
   "cell_type": "code",
   "execution_count": 90,
   "id": "f63a8d76",
   "metadata": {},
   "outputs": [
    {
     "ename": "TypeError",
     "evalue": "dict() got multiple values for keyword argument 'A'",
     "output_type": "error",
     "traceback": [
      "\u001b[1;31m---------------------------------------------------------------------------\u001b[0m",
      "\u001b[1;31mTypeError\u001b[0m                                 Traceback (most recent call last)",
      "\u001b[1;32m~\\AppData\\Local\\Temp\\ipykernel_12404\\2882515740.py\u001b[0m in \u001b[0;36m<module>\u001b[1;34m\u001b[0m\n\u001b[1;32m----> 1\u001b[1;33m \u001b[0mdict\u001b[0m\u001b[1;33m(\u001b[0m\u001b[1;33m**\u001b[0m\u001b[0md7\u001b[0m\u001b[1;33m,\u001b[0m \u001b[1;33m**\u001b[0m\u001b[0md8\u001b[0m\u001b[1;33m)\u001b[0m\u001b[1;33m\u001b[0m\u001b[1;33m\u001b[0m\u001b[0m\n\u001b[0m",
      "\u001b[1;31mTypeError\u001b[0m: dict() got multiple values for keyword argument 'A'"
     ]
    }
   ],
   "source": [
    "dict(**d7, **d8)"
   ]
  },
  {
   "cell_type": "code",
   "execution_count": null,
   "id": "3ee4b298",
   "metadata": {},
   "outputs": [],
   "source": []
  },
  {
   "cell_type": "code",
   "execution_count": 87,
   "id": "9ff249db",
   "metadata": {},
   "outputs": [],
   "source": [
    "d9={\"a\":\"apple\",\"b\":\"ball\"}"
   ]
  },
  {
   "cell_type": "code",
   "execution_count": 88,
   "id": "956f22de",
   "metadata": {},
   "outputs": [],
   "source": [
    "d10={\"c\":\"cat\",\"d\":\"dog\"}"
   ]
  },
  {
   "cell_type": "code",
   "execution_count": 89,
   "id": "3907eec1",
   "metadata": {},
   "outputs": [
    {
     "data": {
      "text/plain": [
       "{'a': 'apple', 'b': 'ball', 'c': 'cat', 'd': 'dog'}"
      ]
     },
     "execution_count": 89,
     "metadata": {},
     "output_type": "execute_result"
    }
   ],
   "source": [
    "dict(**d9,**d10)"
   ]
  },
  {
   "cell_type": "markdown",
   "id": "a31b21b7",
   "metadata": {},
   "source": [
    "### ASSIGNMENT"
   ]
  },
  {
   "cell_type": "code",
   "execution_count": null,
   "id": "3733a1b4",
   "metadata": {},
   "outputs": [],
   "source": [
    "#1. AS AN INPUT Take a String--- Convert String into List and Convert that list into Dictionary.Take a 1st Character as a key."
   ]
  },
  {
   "cell_type": "code",
   "execution_count": null,
   "id": "d8280002",
   "metadata": {},
   "outputs": [],
   "source": [
    "#2. Take student details(NAME,ENGLISH,SCIENCE,MATH) in single input.Calculate total , avg, grade usimg inline if."
   ]
  },
  {
   "cell_type": "code",
   "execution_count": null,
   "id": "4518dc4b",
   "metadata": {},
   "outputs": [],
   "source": [
    "#3. In a single input -- in any order(NAME,DESIGNATION,LOCATION,SALARY)\n",
    "\n",
    "#    Degination-- PM,TESTER,TM,DEVELOPER,ADMIN,DEVOP,HRM\n",
    "#   LOCATION-- HYDRABAD,\n",
    "#    DELHI,CHENNAI\n",
    "# Based on designation provide hike and calculate hike salary using inline if.\n",
    "#(22,20,18,15,12)(PM,TM,DEV,TESTER,REST)\n",
    "\n",
    "#OUTPUT\n",
    "# NAME--\n",
    "# DEGINATION---\n",
    "# LOCATION---\n",
    "# ORIGINAL SALARY---\n",
    "# HIKED AMOUNT---\n",
    "# HIKED SALARY--\n"
   ]
  },
  {
   "cell_type": "code",
   "execution_count": null,
   "id": "6f4babe7",
   "metadata": {},
   "outputs": [],
   "source": []
  },
  {
   "cell_type": "code",
   "execution_count": null,
   "id": "1e0f3e1e",
   "metadata": {},
   "outputs": [],
   "source": []
  },
  {
   "cell_type": "code",
   "execution_count": null,
   "id": "040d2c6a",
   "metadata": {},
   "outputs": [],
   "source": []
  }
 ],
 "metadata": {
  "kernelspec": {
   "display_name": "Python 3 (ipykernel)",
   "language": "python",
   "name": "python3"
  },
  "language_info": {
   "codemirror_mode": {
    "name": "ipython",
    "version": 3
   },
   "file_extension": ".py",
   "mimetype": "text/x-python",
   "name": "python",
   "nbconvert_exporter": "python",
   "pygments_lexer": "ipython3",
   "version": "3.9.13"
  }
 },
 "nbformat": 4,
 "nbformat_minor": 5
}
