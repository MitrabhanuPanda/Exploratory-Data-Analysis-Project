{
 "cells": [
  {
   "cell_type": "markdown",
   "id": "827571d8",
   "metadata": {},
   "source": [
    "### Replace(): \n",
    "    - It is insert a value followed by index number.\n",
    "\n",
    "### Delete:\n",
    "    •\tDel(): del list[2]- It delete the value of second index. If we donot give index num,it delete the whole list.\n",
    "    •\tRemove(): remove<Value>- it deletes a particular elements using the name of value.\n",
    "    •\tPop(): It deletes particular value based on \n",
    "\n",
    "### GENERIC FUNCTION:\n",
    "    •\tLen(): length of list\n",
    "    •\tMax(): returns maximum value\n",
    "    •\tMin(): returns minimum value\n",
    "\n",
    "### List Specific Function:\n",
    "    •\tSort(): sort the list in ascending order\n",
    "    •\tCount(): count instances of a particular value\n",
    "    •\tClear(): clear all the elements of list but structure still exist for further use.\n"
   ]
  },
  {
   "cell_type": "code",
   "execution_count": null,
   "id": "f78e59e3",
   "metadata": {},
   "outputs": [],
   "source": []
  },
  {
   "cell_type": "markdown",
   "id": "54bff267",
   "metadata": {},
   "source": [
    "### Replace"
   ]
  },
  {
   "cell_type": "code",
   "execution_count": 1,
   "id": "6185c809",
   "metadata": {},
   "outputs": [],
   "source": [
    "s=[100,200,\"Vizag\",\"USA\"]"
   ]
  },
  {
   "cell_type": "code",
   "execution_count": 2,
   "id": "e1bfd3f0",
   "metadata": {},
   "outputs": [],
   "source": [
    "s[3]=\"INDIA\""
   ]
  },
  {
   "cell_type": "code",
   "execution_count": 3,
   "id": "0d78b02e",
   "metadata": {},
   "outputs": [
    {
     "data": {
      "text/plain": [
       "[100, 200, 'Vizag', 'INDIA']"
      ]
     },
     "execution_count": 3,
     "metadata": {},
     "output_type": "execute_result"
    }
   ],
   "source": [
    "s"
   ]
  },
  {
   "cell_type": "code",
   "execution_count": 4,
   "id": "653a12eb",
   "metadata": {},
   "outputs": [],
   "source": [
    "s[2]=[\"UK\",\"India\"]"
   ]
  },
  {
   "cell_type": "code",
   "execution_count": 5,
   "id": "b2e55b53",
   "metadata": {},
   "outputs": [
    {
     "data": {
      "text/plain": [
       "[100, 200, ['UK', 'India'], 'INDIA']"
      ]
     },
     "execution_count": 5,
     "metadata": {},
     "output_type": "execute_result"
    }
   ],
   "source": [
    "s"
   ]
  },
  {
   "cell_type": "code",
   "execution_count": 6,
   "id": "daacf912",
   "metadata": {},
   "outputs": [],
   "source": [
    "s1=[100,200,\"Vizag\",\"USA\",\"200\"]"
   ]
  },
  {
   "cell_type": "code",
   "execution_count": 9,
   "id": "fa5feff1",
   "metadata": {},
   "outputs": [
    {
     "data": {
      "text/plain": [
       "['USA']"
      ]
     },
     "execution_count": 9,
     "metadata": {},
     "output_type": "execute_result"
    }
   ],
   "source": [
    "s1[3:4:1]"
   ]
  },
  {
   "cell_type": "code",
   "execution_count": 10,
   "id": "802f17e6",
   "metadata": {},
   "outputs": [],
   "source": [
    "s1[3:4:1]=[\"UK\",\"India\"]"
   ]
  },
  {
   "cell_type": "code",
   "execution_count": 11,
   "id": "9db83fa2",
   "metadata": {},
   "outputs": [
    {
     "data": {
      "text/plain": [
       "[100, 200, 'Vizag', 'UK', 'India', '200']"
      ]
     },
     "execution_count": 11,
     "metadata": {},
     "output_type": "execute_result"
    }
   ],
   "source": [
    "s1"
   ]
  },
  {
   "cell_type": "code",
   "execution_count": 12,
   "id": "30c2facc",
   "metadata": {},
   "outputs": [],
   "source": [
    "s1[1:4:1]=\"SKY\""
   ]
  },
  {
   "cell_type": "code",
   "execution_count": 13,
   "id": "7145bf9d",
   "metadata": {},
   "outputs": [
    {
     "data": {
      "text/plain": [
       "[100, 'S', 'K', 'Y', 'India', '200']"
      ]
     },
     "execution_count": 13,
     "metadata": {},
     "output_type": "execute_result"
    }
   ],
   "source": [
    "s1"
   ]
  },
  {
   "cell_type": "code",
   "execution_count": 14,
   "id": "55605940",
   "metadata": {},
   "outputs": [],
   "source": [
    "s2=[100,200,\"Vizag\",\"USA\",\"200\"]"
   ]
  },
  {
   "cell_type": "code",
   "execution_count": 15,
   "id": "d8e23e15",
   "metadata": {},
   "outputs": [
    {
     "data": {
      "text/plain": [
       "[200, 'Vizag']"
      ]
     },
     "execution_count": 15,
     "metadata": {},
     "output_type": "execute_result"
    }
   ],
   "source": [
    "s2[1:3]"
   ]
  },
  {
   "cell_type": "code",
   "execution_count": 16,
   "id": "e760cdcb",
   "metadata": {},
   "outputs": [],
   "source": [
    "s2[1:3]=[\"Hydrabad\"]"
   ]
  },
  {
   "cell_type": "code",
   "execution_count": 17,
   "id": "cd4edf04",
   "metadata": {},
   "outputs": [
    {
     "data": {
      "text/plain": [
       "[100, 'Hydrabad', 'USA', '200']"
      ]
     },
     "execution_count": 17,
     "metadata": {},
     "output_type": "execute_result"
    }
   ],
   "source": [
    "s2"
   ]
  },
  {
   "cell_type": "code",
   "execution_count": 18,
   "id": "69c09613",
   "metadata": {},
   "outputs": [],
   "source": [
    "s2.insert(1,[\"Sun\",\"Moon\"])"
   ]
  },
  {
   "cell_type": "code",
   "execution_count": 19,
   "id": "b1d72e3c",
   "metadata": {},
   "outputs": [
    {
     "data": {
      "text/plain": [
       "[100, ['Sun', 'Moon'], 'Hydrabad', 'USA', '200']"
      ]
     },
     "execution_count": 19,
     "metadata": {},
     "output_type": "execute_result"
    }
   ],
   "source": [
    "s2"
   ]
  },
  {
   "cell_type": "markdown",
   "id": "56f0602a",
   "metadata": {},
   "source": [
    "### Insert Multiple Elements in List"
   ]
  },
  {
   "cell_type": "code",
   "execution_count": 20,
   "id": "d2479b21",
   "metadata": {},
   "outputs": [],
   "source": [
    "s1=[100,\"Sky\",\"Vizag\",\"USA\",\"200\"]"
   ]
  },
  {
   "cell_type": "code",
   "execution_count": 21,
   "id": "ab934fd4",
   "metadata": {},
   "outputs": [
    {
     "data": {
      "text/plain": [
       "'Sky'"
      ]
     },
     "execution_count": 21,
     "metadata": {},
     "output_type": "execute_result"
    }
   ],
   "source": [
    "s1[1]"
   ]
  },
  {
   "cell_type": "code",
   "execution_count": 22,
   "id": "59d5aaee",
   "metadata": {},
   "outputs": [
    {
     "data": {
      "text/plain": [
       "'Sky'"
      ]
     },
     "execution_count": 22,
     "metadata": {},
     "output_type": "execute_result"
    }
   ],
   "source": [
    "s1[-4]"
   ]
  },
  {
   "cell_type": "code",
   "execution_count": 27,
   "id": "78966e0e",
   "metadata": {},
   "outputs": [
    {
     "data": {
      "text/plain": [
       "['Sky']"
      ]
     },
     "execution_count": 27,
     "metadata": {},
     "output_type": "execute_result"
    }
   ],
   "source": [
    "s1[1:2:1]"
   ]
  },
  {
   "cell_type": "code",
   "execution_count": 28,
   "id": "924e84f9",
   "metadata": {},
   "outputs": [],
   "source": [
    "s1[1:1:1]=[\"Sun\",\"Moon\"]"
   ]
  },
  {
   "cell_type": "code",
   "execution_count": 29,
   "id": "7d4a020d",
   "metadata": {},
   "outputs": [
    {
     "data": {
      "text/plain": [
       "[100, 'Sun', 'Moon', 'Sky', 'Vizag', 'USA', '200']"
      ]
     },
     "execution_count": 29,
     "metadata": {},
     "output_type": "execute_result"
    }
   ],
   "source": [
    "s1"
   ]
  },
  {
   "cell_type": "markdown",
   "id": "b760ab46",
   "metadata": {},
   "source": [
    "### Delete"
   ]
  },
  {
   "cell_type": "code",
   "execution_count": 31,
   "id": "08296102",
   "metadata": {},
   "outputs": [
    {
     "data": {
      "text/plain": [
       "[100, 'Sun', 'Moon', 'Sky', 'Vizag', 'USA', '200']"
      ]
     },
     "execution_count": 31,
     "metadata": {},
     "output_type": "execute_result"
    }
   ],
   "source": [
    "s1"
   ]
  },
  {
   "cell_type": "code",
   "execution_count": 32,
   "id": "5870d1c9",
   "metadata": {},
   "outputs": [
    {
     "data": {
      "text/plain": [
       "[100, 'Sun', 'Sky', 'Vizag', 'USA', '200']"
      ]
     },
     "execution_count": 32,
     "metadata": {},
     "output_type": "execute_result"
    }
   ],
   "source": [
    "del s1[2]\n",
    "s1"
   ]
  },
  {
   "cell_type": "markdown",
   "id": "0e2f9a10",
   "metadata": {},
   "source": [
    "### Remove"
   ]
  },
  {
   "cell_type": "code",
   "execution_count": 33,
   "id": "f326619b",
   "metadata": {},
   "outputs": [
    {
     "data": {
      "text/plain": [
       "[100, 'Sky', 'Vizag', 'USA', '200']"
      ]
     },
     "execution_count": 33,
     "metadata": {},
     "output_type": "execute_result"
    }
   ],
   "source": [
    "s1.remove(\"Sun\")\n",
    "s1"
   ]
  },
  {
   "cell_type": "markdown",
   "id": "90af9a18",
   "metadata": {},
   "source": [
    "### pop()"
   ]
  },
  {
   "cell_type": "code",
   "execution_count": 34,
   "id": "6b4c4733",
   "metadata": {},
   "outputs": [
    {
     "data": {
      "text/plain": [
       "'Sky'"
      ]
     },
     "execution_count": 34,
     "metadata": {},
     "output_type": "execute_result"
    }
   ],
   "source": [
    "s1.pop(1)"
   ]
  },
  {
   "cell_type": "code",
   "execution_count": 35,
   "id": "ab0df54f",
   "metadata": {},
   "outputs": [
    {
     "data": {
      "text/plain": [
       "[100, 'Vizag', 'USA', '200']"
      ]
     },
     "execution_count": 35,
     "metadata": {},
     "output_type": "execute_result"
    }
   ],
   "source": [
    "s1"
   ]
  },
  {
   "cell_type": "code",
   "execution_count": 36,
   "id": "088e1f50",
   "metadata": {},
   "outputs": [
    {
     "data": {
      "text/plain": [
       "'200'"
      ]
     },
     "execution_count": 36,
     "metadata": {},
     "output_type": "execute_result"
    }
   ],
   "source": [
    "s1.pop()"
   ]
  },
  {
   "cell_type": "code",
   "execution_count": 37,
   "id": "880bd01b",
   "metadata": {},
   "outputs": [
    {
     "data": {
      "text/plain": [
       "[100, 'Vizag', 'USA']"
      ]
     },
     "execution_count": 37,
     "metadata": {},
     "output_type": "execute_result"
    }
   ],
   "source": [
    "s1"
   ]
  },
  {
   "cell_type": "markdown",
   "id": "42d44690",
   "metadata": {},
   "source": [
    "### Delete Multiple Values in List"
   ]
  },
  {
   "cell_type": "code",
   "execution_count": 38,
   "id": "9f557de5",
   "metadata": {},
   "outputs": [],
   "source": [
    "s1.extend(\"ABCD\")"
   ]
  },
  {
   "cell_type": "code",
   "execution_count": 39,
   "id": "d4a05292",
   "metadata": {},
   "outputs": [
    {
     "data": {
      "text/plain": [
       "[100, 'Vizag', 'USA', 'A', 'B', 'C', 'D']"
      ]
     },
     "execution_count": 39,
     "metadata": {},
     "output_type": "execute_result"
    }
   ],
   "source": [
    "s1"
   ]
  },
  {
   "cell_type": "code",
   "execution_count": 40,
   "id": "23dd6bf4",
   "metadata": {},
   "outputs": [
    {
     "data": {
      "text/plain": [
       "['A', 'B', 'C', 'D']"
      ]
     },
     "execution_count": 40,
     "metadata": {},
     "output_type": "execute_result"
    }
   ],
   "source": [
    "s1[3:7:1]"
   ]
  },
  {
   "cell_type": "code",
   "execution_count": 41,
   "id": "323a86c4",
   "metadata": {},
   "outputs": [],
   "source": [
    "del s1[3:7:1]"
   ]
  },
  {
   "cell_type": "code",
   "execution_count": 42,
   "id": "aaf82881",
   "metadata": {},
   "outputs": [
    {
     "data": {
      "text/plain": [
       "[100, 'Vizag', 'USA']"
      ]
     },
     "execution_count": 42,
     "metadata": {},
     "output_type": "execute_result"
    }
   ],
   "source": [
    "s1"
   ]
  },
  {
   "cell_type": "code",
   "execution_count": 43,
   "id": "ed2ab009",
   "metadata": {},
   "outputs": [],
   "source": [
    "s1.extend(\"ABCD\")"
   ]
  },
  {
   "cell_type": "code",
   "execution_count": 44,
   "id": "d2e5ec09",
   "metadata": {},
   "outputs": [
    {
     "data": {
      "text/plain": [
       "[100, 'Vizag', 'USA', 'A', 'B', 'C', 'D']"
      ]
     },
     "execution_count": 44,
     "metadata": {},
     "output_type": "execute_result"
    }
   ],
   "source": [
    "s1"
   ]
  },
  {
   "cell_type": "code",
   "execution_count": 45,
   "id": "da2a1782",
   "metadata": {},
   "outputs": [],
   "source": [
    "s1[3:7:1]=\"\""
   ]
  },
  {
   "cell_type": "code",
   "execution_count": 46,
   "id": "1a5e94a4",
   "metadata": {},
   "outputs": [
    {
     "data": {
      "text/plain": [
       "[100, 'Vizag', 'USA']"
      ]
     },
     "execution_count": 46,
     "metadata": {},
     "output_type": "execute_result"
    }
   ],
   "source": [
    "s1"
   ]
  },
  {
   "cell_type": "markdown",
   "id": "d760683b",
   "metadata": {},
   "source": [
    "### GENERIC FUNCTION  "
   ]
  },
  {
   "cell_type": "code",
   "execution_count": 51,
   "id": "2f9b546f",
   "metadata": {},
   "outputs": [],
   "source": [
    "l1=[10,20,30,40,50,5,4,6]"
   ]
  },
  {
   "cell_type": "code",
   "execution_count": 52,
   "id": "5436cf89",
   "metadata": {},
   "outputs": [
    {
     "data": {
      "text/plain": [
       "50"
      ]
     },
     "execution_count": 52,
     "metadata": {},
     "output_type": "execute_result"
    }
   ],
   "source": [
    "max(l1)"
   ]
  },
  {
   "cell_type": "code",
   "execution_count": 53,
   "id": "8631ed88",
   "metadata": {},
   "outputs": [
    {
     "data": {
      "text/plain": [
       "4"
      ]
     },
     "execution_count": 53,
     "metadata": {},
     "output_type": "execute_result"
    }
   ],
   "source": [
    "min(l1)"
   ]
  },
  {
   "cell_type": "code",
   "execution_count": 54,
   "id": "0fe665cc",
   "metadata": {},
   "outputs": [
    {
     "data": {
      "text/plain": [
       "8"
      ]
     },
     "execution_count": 54,
     "metadata": {},
     "output_type": "execute_result"
    }
   ],
   "source": [
    "len(l1)"
   ]
  },
  {
   "cell_type": "markdown",
   "id": "5c2a2351",
   "metadata": {},
   "source": [
    "### Sort()"
   ]
  },
  {
   "cell_type": "code",
   "execution_count": 55,
   "id": "522f923d",
   "metadata": {},
   "outputs": [],
   "source": [
    "l1.sort()"
   ]
  },
  {
   "cell_type": "code",
   "execution_count": 56,
   "id": "abe159ba",
   "metadata": {},
   "outputs": [
    {
     "data": {
      "text/plain": [
       "[4, 5, 6, 10, 20, 30, 40, 50]"
      ]
     },
     "execution_count": 56,
     "metadata": {},
     "output_type": "execute_result"
    }
   ],
   "source": [
    "l1"
   ]
  },
  {
   "cell_type": "code",
   "execution_count": 64,
   "id": "767045f3",
   "metadata": {},
   "outputs": [
    {
     "ename": "NameError",
     "evalue": "name 'l1' is not defined",
     "output_type": "error",
     "traceback": [
      "\u001b[1;31m---------------------------------------------------------------------------\u001b[0m",
      "\u001b[1;31mNameError\u001b[0m                                 Traceback (most recent call last)",
      "\u001b[1;32m~\\AppData\\Local\\Temp\\ipykernel_8960\\1396564800.py\u001b[0m in \u001b[0;36m<module>\u001b[1;34m\u001b[0m\n\u001b[1;32m----> 1\u001b[1;33m \u001b[0ml1\u001b[0m\u001b[1;33m.\u001b[0m\u001b[0msort\u001b[0m\u001b[1;33m(\u001b[0m\u001b[0mreverse\u001b[0m\u001b[1;33m=\u001b[0m\u001b[1;32mTrue\u001b[0m\u001b[1;33m)\u001b[0m\u001b[1;33m\u001b[0m\u001b[1;33m\u001b[0m\u001b[0m\n\u001b[0m",
      "\u001b[1;31mNameError\u001b[0m: name 'l1' is not defined"
     ]
    }
   ],
   "source": [
    "l1.sort(reverse=True)"
   ]
  },
  {
   "cell_type": "markdown",
   "id": "88b07152",
   "metadata": {},
   "source": [
    "### count()"
   ]
  },
  {
   "cell_type": "code",
   "execution_count": 57,
   "id": "cc30d6d2",
   "metadata": {},
   "outputs": [
    {
     "data": {
      "text/plain": [
       "1"
      ]
     },
     "execution_count": 57,
     "metadata": {},
     "output_type": "execute_result"
    }
   ],
   "source": [
    "l1.count(10)`"
   ]
  },
  {
   "cell_type": "markdown",
   "id": "fe04f625",
   "metadata": {},
   "source": [
    "### count()"
   ]
  },
  {
   "cell_type": "code",
   "execution_count": 58,
   "id": "d91bc3bb",
   "metadata": {},
   "outputs": [],
   "source": [
    "l1.clear()"
   ]
  },
  {
   "cell_type": "code",
   "execution_count": 59,
   "id": "cb11729c",
   "metadata": {},
   "outputs": [
    {
     "data": {
      "text/plain": [
       "[]"
      ]
     },
     "execution_count": 59,
     "metadata": {},
     "output_type": "execute_result"
    }
   ],
   "source": [
    "l1"
   ]
  },
  {
   "cell_type": "code",
   "execution_count": 60,
   "id": "d25c2631",
   "metadata": {},
   "outputs": [],
   "source": [
    "l1.extend(\"ABCDEF\")"
   ]
  },
  {
   "cell_type": "code",
   "execution_count": 61,
   "id": "5c181c80",
   "metadata": {},
   "outputs": [
    {
     "data": {
      "text/plain": [
       "['A', 'B', 'C', 'D', 'E', 'F']"
      ]
     },
     "execution_count": 61,
     "metadata": {},
     "output_type": "execute_result"
    }
   ],
   "source": [
    "l1"
   ]
  },
  {
   "cell_type": "code",
   "execution_count": 62,
   "id": "79fab6f1",
   "metadata": {},
   "outputs": [],
   "source": [
    "del l1"
   ]
  },
  {
   "cell_type": "code",
   "execution_count": 63,
   "id": "9afb37a4",
   "metadata": {},
   "outputs": [
    {
     "ename": "NameError",
     "evalue": "name 'l1' is not defined",
     "output_type": "error",
     "traceback": [
      "\u001b[1;31m---------------------------------------------------------------------------\u001b[0m",
      "\u001b[1;31mNameError\u001b[0m                                 Traceback (most recent call last)",
      "\u001b[1;32m~\\AppData\\Local\\Temp\\ipykernel_8960\\2585568370.py\u001b[0m in \u001b[0;36m<module>\u001b[1;34m\u001b[0m\n\u001b[1;32m----> 1\u001b[1;33m \u001b[0ml1\u001b[0m\u001b[1;33m\u001b[0m\u001b[1;33m\u001b[0m\u001b[0m\n\u001b[0m",
      "\u001b[1;31mNameError\u001b[0m: name 'l1' is not defined"
     ]
    }
   ],
   "source": [
    "l1"
   ]
  },
  {
   "cell_type": "code",
   "execution_count": 65,
   "id": "0277d542",
   "metadata": {},
   "outputs": [],
   "source": [
    "l2=[10,20,30,40,50,5,4,6]"
   ]
  },
  {
   "cell_type": "code",
   "execution_count": 66,
   "id": "e9e29e0b",
   "metadata": {},
   "outputs": [],
   "source": [
    "l2.sort(reverse=True)"
   ]
  },
  {
   "cell_type": "code",
   "execution_count": 67,
   "id": "6d1764c6",
   "metadata": {},
   "outputs": [
    {
     "data": {
      "text/plain": [
       "[50, 40, 30, 20, 10, 6, 5, 4]"
      ]
     },
     "execution_count": 67,
     "metadata": {},
     "output_type": "execute_result"
    }
   ],
   "source": [
    "l2"
   ]
  },
  {
   "cell_type": "code",
   "execution_count": null,
   "id": "a9e1f717",
   "metadata": {},
   "outputs": [],
   "source": [
    "# ASSIGNMENT: Accept five values from user first using loop and then creat a list of all five values.\n",
    "# 1.Reverse each elements (Apple-elppA)\n",
    "# 2.Rotate the values inside the list by 2 places\n",
    "# 3.\"Apple\"--take first char of Apple,put it nested list[[A,Apple],[],[]]"
   ]
  },
  {
   "cell_type": "code",
   "execution_count": null,
   "id": "49212b91",
   "metadata": {},
   "outputs": [],
   "source": []
  },
  {
   "cell_type": "code",
   "execution_count": 68,
   "id": "6c7ce206",
   "metadata": {},
   "outputs": [],
   "source": [
    "nlist=[[1,2],[3,4],[5,6],[\"A\",\"B\"]]"
   ]
  },
  {
   "cell_type": "code",
   "execution_count": 70,
   "id": "b09a1db7",
   "metadata": {},
   "outputs": [
    {
     "name": "stdout",
     "output_type": "stream",
     "text": [
      "1\n",
      "2\n",
      "3\n",
      "4\n",
      "5\n",
      "6\n",
      "A\n",
      "B\n",
      "[1, 2, 3, 4, 5, 6, 'A', 'B']\n"
     ]
    }
   ],
   "source": [
    "res=[]\n",
    "for x in nlist:\n",
    "    if type(x)==list:\n",
    "        for y in x:\n",
    "            print(y)\n",
    "            res.append(y)\n",
    "print(res)"
   ]
  },
  {
   "cell_type": "code",
   "execution_count": 71,
   "id": "5012b511",
   "metadata": {},
   "outputs": [],
   "source": [
    "nlist1=[[1,2],\"Ball\",[3,4],[5,6],[\"A\",\"B\"]]"
   ]
  },
  {
   "cell_type": "code",
   "execution_count": 73,
   "id": "919a322c",
   "metadata": {},
   "outputs": [
    {
     "name": "stdout",
     "output_type": "stream",
     "text": [
      "[1, 2]\n",
      "[3, 4]\n",
      "[5, 6]\n",
      "['A', 'B']\n"
     ]
    }
   ],
   "source": [
    "for x in nlist:\n",
    "    if type(x)==list:\n",
    "        print(x)\n",
    "    else:\n",
    "        \n",
    "    "
   ]
  },
  {
   "cell_type": "code",
   "execution_count": null,
   "id": "35d2a2e7",
   "metadata": {},
   "outputs": [],
   "source": []
  },
  {
   "cell_type": "markdown",
   "id": "ad68d812",
   "metadata": {},
   "source": [
    "### List Comprehension"
   ]
  },
  {
   "cell_type": "code",
   "execution_count": 76,
   "id": "181982de",
   "metadata": {},
   "outputs": [
    {
     "name": "stdout",
     "output_type": "stream",
     "text": [
      "[1, 8, 27, 64, 125]\n"
     ]
    }
   ],
   "source": [
    "cube_list=[]\n",
    "for i in range(1,6):\n",
    "    r=i**3\n",
    "    \n",
    "    cube_list.append(r)\n",
    "print(cube_list)"
   ]
  },
  {
   "cell_type": "code",
   "execution_count": 77,
   "id": "481542e8",
   "metadata": {},
   "outputs": [
    {
     "data": {
      "text/plain": [
       "[1, 8, 27, 64, 125]"
      ]
     },
     "execution_count": 77,
     "metadata": {},
     "output_type": "execute_result"
    }
   ],
   "source": [
    "[x**3 for x in range(1,6)]"
   ]
  },
  {
   "cell_type": "code",
   "execution_count": 78,
   "id": "b358857b",
   "metadata": {},
   "outputs": [
    {
     "data": {
      "text/plain": [
       "[1, 2, 3, 4, 5]"
      ]
     },
     "execution_count": 78,
     "metadata": {},
     "output_type": "execute_result"
    }
   ],
   "source": [
    "[x for x in range(1,6)] # 1-5"
   ]
  },
  {
   "cell_type": "code",
   "execution_count": 81,
   "id": "a2f0aa36",
   "metadata": {},
   "outputs": [
    {
     "data": {
      "text/plain": [
       "[1, 4, 9, 16, 25, 36, 49, 64, 81, 100]"
      ]
     },
     "execution_count": 81,
     "metadata": {},
     "output_type": "execute_result"
    }
   ],
   "source": [
    "[x*x for x in range(1,11)] # 1-10 square values in list"
   ]
  },
  {
   "cell_type": "code",
   "execution_count": 82,
   "id": "028798cc",
   "metadata": {},
   "outputs": [
    {
     "data": {
      "text/plain": [
       "[1, 2, 3, 4, 5, 6, 7, 8, 9]"
      ]
     },
     "execution_count": 82,
     "metadata": {},
     "output_type": "execute_result"
    }
   ],
   "source": [
    "[i for i in range(1,10)]"
   ]
  },
  {
   "cell_type": "code",
   "execution_count": 83,
   "id": "f538b5c2",
   "metadata": {},
   "outputs": [
    {
     "name": "stdout",
     "output_type": "stream",
     "text": [
      "Enyer a Number: 5\n"
     ]
    },
    {
     "data": {
      "text/plain": [
       "[5, 10, 15, 20, 25, 30, 35, 40, 45, 50]"
      ]
     },
     "execution_count": 83,
     "metadata": {},
     "output_type": "execute_result"
    }
   ],
   "source": [
    "n=int(input(\"Enyer a Number: \"))\n",
    "[i*n for i in range(1,11)]"
   ]
  },
  {
   "cell_type": "code",
   "execution_count": 87,
   "id": "8c1b82d0",
   "metadata": {},
   "outputs": [
    {
     "data": {
      "text/plain": [
       "['5*1==5',\n",
       " '5*2==10',\n",
       " '5*3==15',\n",
       " '5*4==20',\n",
       " '5*5==25',\n",
       " '5*6==30',\n",
       " '5*7==35',\n",
       " '5*8==40',\n",
       " '5*9==45',\n",
       " '5*10==50']"
      ]
     },
     "execution_count": 87,
     "metadata": {},
     "output_type": "execute_result"
    }
   ],
   "source": [
    "[str(n)+ \"*\"+ str(i)+ \"==\"+ str(i*n) for i in range(1,11)]"
   ]
  },
  {
   "cell_type": "markdown",
   "id": "879bdb0f",
   "metadata": {},
   "source": [
    "### List Comprehension with If Condition"
   ]
  },
  {
   "cell_type": "code",
   "execution_count": 92,
   "id": "8daffa1a",
   "metadata": {},
   "outputs": [
    {
     "name": "stdout",
     "output_type": "stream",
     "text": [
      "Enter a Number: 10\n"
     ]
    },
    {
     "data": {
      "text/plain": [
       "[2, 4, 6, 8, 10]"
      ]
     },
     "execution_count": 92,
     "metadata": {},
     "output_type": "execute_result"
    }
   ],
   "source": [
    "n1=int(input(\"Enter a Number: \"))\n",
    "[i for i in range(1,n1+1) if i%2==0]"
   ]
  },
  {
   "cell_type": "code",
   "execution_count": 93,
   "id": "751c9737",
   "metadata": {},
   "outputs": [
    {
     "name": "stdout",
     "output_type": "stream",
     "text": [
      "Enter a Number: 10\n"
     ]
    },
    {
     "data": {
      "text/plain": [
       "[4, 16, 36, 64, 100]"
      ]
     },
     "execution_count": 93,
     "metadata": {},
     "output_type": "execute_result"
    }
   ],
   "source": [
    "n1=int(input(\"Enter a Number: \"))\n",
    "[i*i for i in range(1,n1+1) if i%2==0]"
   ]
  },
  {
   "cell_type": "markdown",
   "id": "224efd41",
   "metadata": {},
   "source": [
    "### Multiple If Condition in List Comprehension"
   ]
  },
  {
   "cell_type": "code",
   "execution_count": 95,
   "id": "149c6d3e",
   "metadata": {},
   "outputs": [
    {
     "name": "stdout",
     "output_type": "stream",
     "text": [
      "Enter a Number: 100\n"
     ]
    },
    {
     "data": {
      "text/plain": [
       "[15, 30, 45, 60, 75, 90]"
      ]
     },
     "execution_count": 95,
     "metadata": {},
     "output_type": "execute_result"
    }
   ],
   "source": [
    "n1=int(input(\"Enter a Number: \"))\n",
    "[i for i in range(1,n1+1) if i%3==0  if i%5==0] "
   ]
  },
  {
   "cell_type": "markdown",
   "id": "715995c4",
   "metadata": {},
   "source": [
    "### List Comprehension with If...Else Condition"
   ]
  },
  {
   "cell_type": "code",
   "execution_count": 99,
   "id": "c65f590b",
   "metadata": {},
   "outputs": [
    {
     "name": "stdout",
     "output_type": "stream",
     "text": [
      "Enter a Number: 10\n"
     ]
    },
    {
     "data": {
      "text/plain": [
       "['1 is Odd',\n",
       " '2 is Even',\n",
       " '3 is Odd',\n",
       " '4 is Even',\n",
       " '5 is Odd',\n",
       " '6 is Even',\n",
       " '7 is Odd',\n",
       " '8 is Even',\n",
       " '9 is Odd',\n",
       " '10 is Even']"
      ]
     },
     "execution_count": 99,
     "metadata": {},
     "output_type": "execute_result"
    }
   ],
   "source": [
    "n1=int(input(\"Enter a Number: \"))\n",
    "[str(i) + \" is Even\"  if i%2==0   else str(i) + \" is Odd\"       for i in range(1,n1+1) ] "
   ]
  },
  {
   "cell_type": "code",
   "execution_count": null,
   "id": "39694722",
   "metadata": {},
   "outputs": [],
   "source": [
    "# 15-30 pick up each value whther vote for eligible"
   ]
  },
  {
   "cell_type": "code",
   "execution_count": null,
   "id": "abb767fd",
   "metadata": {},
   "outputs": [],
   "source": [
    "# >50 pass ,<50 fail"
   ]
  }
 ],
 "metadata": {
  "kernelspec": {
   "display_name": "Python 3 (ipykernel)",
   "language": "python",
   "name": "python3"
  },
  "language_info": {
   "codemirror_mode": {
    "name": "ipython",
    "version": 3
   },
   "file_extension": ".py",
   "mimetype": "text/x-python",
   "name": "python",
   "nbconvert_exporter": "python",
   "pygments_lexer": "ipython3",
   "version": "3.9.13"
  }
 },
 "nbformat": 4,
 "nbformat_minor": 5
}
