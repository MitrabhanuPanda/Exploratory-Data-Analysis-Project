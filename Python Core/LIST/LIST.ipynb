{
 "cells": [
  {
   "cell_type": "markdown",
   "id": "8cf521ad",
   "metadata": {},
   "source": [
    "# LIST\n",
    "    •\tIt is sequential data type which holds the multiple heterogeneous value.\n",
    "    •\tThese value are closed by square bracket[] separated by comma.\n",
    "    •\tThese value inside the square brackets are reffered as Elements\n",
    "\n",
    "    •\tUsing List function, we can convert any value into list.\n",
    "\n",
    "### Features:\n",
    "    •\tMultiple Heterogeneous Values\n",
    "    •\tMutable(Changeable)\n",
    "    •\tDuplicate are allows\n",
    "    •\tOrder is preserved(Input Order is preserved)\n",
    "    •\tIndexing is possible\n",
    "    •\tSlicing is possible\n",
    "    •\tNested list is possible\n",
    "## CRUD-Create Read Update Delete\n",
    "\n",
    "### Create List:\n",
    "    •\tManually Created\n",
    "    •\tUsing List Function\n",
    "    •\tAutomated Way\n",
    "### Read Data From List:\n",
    "    •\tFor Loop\n",
    "    •\tIndexing\n",
    "    •\tSlicing\n",
    "### Update:\n",
    "    •\tInserting a value into list.\n",
    "        o\tAppend(): It accepts only one value as elements of list.\n",
    "            \tIt append at the last.\n",
    "        o\tExtend(): It accepts multiple value in the form of sequential data type and insert these multiple values as elements of list.\n",
    "        o\tInsert(): It insert a value followed by index number & Value.\n"
   ]
  },
  {
   "cell_type": "code",
   "execution_count": null,
   "id": "97995b7e",
   "metadata": {},
   "outputs": [],
   "source": []
  },
  {
   "cell_type": "markdown",
   "id": "27c41167",
   "metadata": {},
   "source": [
    "### Creating a List"
   ]
  },
  {
   "cell_type": "code",
   "execution_count": 7,
   "id": "1f2e3041",
   "metadata": {},
   "outputs": [],
   "source": [
    "color=[\"Blue\",\"Orange\",\"Red\",\"Yellow\",\"Pink\"]"
   ]
  },
  {
   "cell_type": "code",
   "execution_count": 8,
   "id": "3412ae44",
   "metadata": {},
   "outputs": [
    {
     "data": {
      "text/plain": [
       "['Blue', 'Orange', 'Red', 'Yellow', 'Pink']"
      ]
     },
     "execution_count": 8,
     "metadata": {},
     "output_type": "execute_result"
    }
   ],
   "source": [
    "color"
   ]
  },
  {
   "cell_type": "code",
   "execution_count": 9,
   "id": "4476d0c6",
   "metadata": {},
   "outputs": [
    {
     "data": {
      "text/plain": [
       "list"
      ]
     },
     "execution_count": 9,
     "metadata": {},
     "output_type": "execute_result"
    }
   ],
   "source": [
    "type(color)"
   ]
  },
  {
   "cell_type": "code",
   "execution_count": 10,
   "id": "e4abe5c1",
   "metadata": {},
   "outputs": [
    {
     "data": {
      "text/plain": [
       "'Pink'"
      ]
     },
     "execution_count": 10,
     "metadata": {},
     "output_type": "execute_result"
    }
   ],
   "source": [
    "color[4] # +ve Indexing"
   ]
  },
  {
   "cell_type": "code",
   "execution_count": 13,
   "id": "5eb4412c",
   "metadata": {},
   "outputs": [
    {
     "data": {
      "text/plain": [
       "'Pink'"
      ]
     },
     "execution_count": 13,
     "metadata": {},
     "output_type": "execute_result"
    }
   ],
   "source": [
    "color[-1] # -ve Indexing"
   ]
  },
  {
   "cell_type": "code",
   "execution_count": 12,
   "id": "82fd648d",
   "metadata": {},
   "outputs": [
    {
     "data": {
      "text/plain": [
       "['Orange', 'Red', 'Yellow']"
      ]
     },
     "execution_count": 12,
     "metadata": {},
     "output_type": "execute_result"
    }
   ],
   "source": [
    "color[1:4:1] # Slicing"
   ]
  },
  {
   "cell_type": "code",
   "execution_count": 15,
   "id": "af20d536",
   "metadata": {},
   "outputs": [],
   "source": [
    "value=[\"Blue\",\"Yellow\",\"Apple\",100,23.45,\"INDIA\"]"
   ]
  },
  {
   "cell_type": "code",
   "execution_count": 16,
   "id": "90285a00",
   "metadata": {},
   "outputs": [
    {
     "data": {
      "text/plain": [
       "list"
      ]
     },
     "execution_count": 16,
     "metadata": {},
     "output_type": "execute_result"
    }
   ],
   "source": [
    "type(value)"
   ]
  },
  {
   "cell_type": "code",
   "execution_count": 17,
   "id": "2991fe10",
   "metadata": {},
   "outputs": [
    {
     "data": {
      "text/plain": [
       "['Blue', 'Yellow', 'Apple', 100, 23.45, 'INDIA', 'Blue']"
      ]
     },
     "execution_count": 17,
     "metadata": {},
     "output_type": "execute_result"
    }
   ],
   "source": [
    "value1=[\"Blue\",\"Yellow\",\"Apple\",100,23.45,\"INDIA\",\"Blue\"]\n",
    "value1"
   ]
  },
  {
   "cell_type": "markdown",
   "id": "899ca2ef",
   "metadata": {},
   "source": [
    "### Nested List"
   ]
  },
  {
   "cell_type": "code",
   "execution_count": 19,
   "id": "78383190",
   "metadata": {},
   "outputs": [
    {
     "data": {
      "text/plain": [
       "['Blue', [10, 20, 30], 'Orange', ['A', 'B', 'C'], 'Yellow', 'Pink']"
      ]
     },
     "execution_count": 19,
     "metadata": {},
     "output_type": "execute_result"
    }
   ],
   "source": [
    "nlist=[\"Blue\",[10,20,30],\"Orange\",[\"A\",\"B\",\"C\"],\"Yellow\",\"Pink\"]\n",
    "nlist"
   ]
  },
  {
   "cell_type": "code",
   "execution_count": 20,
   "id": "7c5b0b20",
   "metadata": {},
   "outputs": [
    {
     "data": {
      "text/plain": [
       "6"
      ]
     },
     "execution_count": 20,
     "metadata": {},
     "output_type": "execute_result"
    }
   ],
   "source": [
    "len(nlist) # It returns number of elements in list & It also returns no.charatceter in string"
   ]
  },
  {
   "cell_type": "code",
   "execution_count": 21,
   "id": "2433b27e",
   "metadata": {},
   "outputs": [
    {
     "data": {
      "text/plain": [
       "'Pink'"
      ]
     },
     "execution_count": 21,
     "metadata": {},
     "output_type": "execute_result"
    }
   ],
   "source": [
    "nlist[5]"
   ]
  },
  {
   "cell_type": "code",
   "execution_count": 22,
   "id": "63e0cc5c",
   "metadata": {},
   "outputs": [
    {
     "data": {
      "text/plain": [
       "[10, 20, 30]"
      ]
     },
     "execution_count": 22,
     "metadata": {},
     "output_type": "execute_result"
    }
   ],
   "source": [
    "nlist[1]"
   ]
  },
  {
   "cell_type": "code",
   "execution_count": 25,
   "id": "17497ed3",
   "metadata": {},
   "outputs": [
    {
     "data": {
      "text/plain": [
       "20"
      ]
     },
     "execution_count": 25,
     "metadata": {},
     "output_type": "execute_result"
    }
   ],
   "source": [
    "nlist[1][1]"
   ]
  },
  {
   "cell_type": "code",
   "execution_count": 23,
   "id": "a7ab582f",
   "metadata": {},
   "outputs": [
    {
     "data": {
      "text/plain": [
       "['A', 'B', 'C']"
      ]
     },
     "execution_count": 23,
     "metadata": {},
     "output_type": "execute_result"
    }
   ],
   "source": [
    "nlist[3]"
   ]
  },
  {
   "cell_type": "code",
   "execution_count": 26,
   "id": "e9c9c8ea",
   "metadata": {},
   "outputs": [
    {
     "data": {
      "text/plain": [
       "'C'"
      ]
     },
     "execution_count": 26,
     "metadata": {},
     "output_type": "execute_result"
    }
   ],
   "source": [
    "nlist[3][2]"
   ]
  },
  {
   "cell_type": "code",
   "execution_count": 27,
   "id": "9897473c",
   "metadata": {},
   "outputs": [
    {
     "data": {
      "text/plain": [
       "'C'"
      ]
     },
     "execution_count": 27,
     "metadata": {},
     "output_type": "execute_result"
    }
   ],
   "source": [
    "nlist[3][-1]"
   ]
  },
  {
   "cell_type": "code",
   "execution_count": 28,
   "id": "bb0dd1df",
   "metadata": {},
   "outputs": [],
   "source": [
    "m=[\"Blue\",[10,20,[\"X\",\"Y\",\"G\"],30],\"Orange\",[\"A\",\"B\",[1,2,3],\"C\"],\"Yellow\",\"Pink\"]"
   ]
  },
  {
   "cell_type": "code",
   "execution_count": 29,
   "id": "b8b82775",
   "metadata": {},
   "outputs": [
    {
     "data": {
      "text/plain": [
       "['Blue',\n",
       " [10, 20, ['X', 'Y', 'G'], 30],\n",
       " 'Orange',\n",
       " ['A', 'B', [1, 2, 3], 'C'],\n",
       " 'Yellow',\n",
       " 'Pink']"
      ]
     },
     "execution_count": 29,
     "metadata": {},
     "output_type": "execute_result"
    }
   ],
   "source": [
    "m"
   ]
  },
  {
   "cell_type": "code",
   "execution_count": null,
   "id": "28be9380",
   "metadata": {},
   "outputs": [],
   "source": [
    "#Find the Number of total eliments inside the outer list"
   ]
  },
  {
   "cell_type": "code",
   "execution_count": 30,
   "id": "5268b0e2",
   "metadata": {},
   "outputs": [],
   "source": [
    "import time"
   ]
  },
  {
   "cell_type": "code",
   "execution_count": 32,
   "id": "1bf7cb1f",
   "metadata": {},
   "outputs": [
    {
     "name": "stdout",
     "output_type": "stream",
     "text": [
      "6\n"
     ]
    }
   ],
   "source": [
    "c=0\n",
    "for x in nlist:\n",
    "    c=c+1\n",
    "    time.sleep()\n",
    "    \n",
    "print(c)"
   ]
  },
  {
   "cell_type": "code",
   "execution_count": 33,
   "id": "f0415b4f",
   "metadata": {},
   "outputs": [
    {
     "data": {
      "text/plain": [
       "['Blue', [10, 20, 30], 'Orange', ['A', 'B', 'C'], 'Yellow', 'Pink']"
      ]
     },
     "execution_count": 33,
     "metadata": {},
     "output_type": "execute_result"
    }
   ],
   "source": [
    "nlist"
   ]
  },
  {
   "cell_type": "code",
   "execution_count": 34,
   "id": "101ec695",
   "metadata": {},
   "outputs": [],
   "source": [
    "nlist=['Blue', [10, 20, 30],'Yellow', 'Pink']"
   ]
  },
  {
   "cell_type": "code",
   "execution_count": 35,
   "id": "f2917737",
   "metadata": {},
   "outputs": [
    {
     "data": {
      "text/plain": [
       "['Blue', [10, 20, 30], 'Yellow', 'Pink']"
      ]
     },
     "execution_count": 35,
     "metadata": {},
     "output_type": "execute_result"
    }
   ],
   "source": [
    "nlist"
   ]
  },
  {
   "cell_type": "code",
   "execution_count": 36,
   "id": "daccadd6",
   "metadata": {},
   "outputs": [
    {
     "data": {
      "text/plain": [
       "4"
      ]
     },
     "execution_count": 36,
     "metadata": {},
     "output_type": "execute_result"
    }
   ],
   "source": [
    "len(nlist)"
   ]
  },
  {
   "cell_type": "code",
   "execution_count": 61,
   "id": "5dd4aa5a",
   "metadata": {},
   "outputs": [
    {
     "name": "stdout",
     "output_type": "stream",
     "text": [
      "6\n"
     ]
    }
   ],
   "source": [
    "c=0\n",
    "\n",
    "for i in nlist:\n",
    "    \n",
    "    if type(i)==list:\n",
    "        \n",
    "        for j in i:\n",
    "            c=c+1\n",
    "            \n",
    "    else:\n",
    "        c=c+1\n",
    "            \n",
    "print(c)"
   ]
  },
  {
   "cell_type": "code",
   "execution_count": 51,
   "id": "5158f58c",
   "metadata": {},
   "outputs": [
    {
     "data": {
      "text/plain": [
       "['Blue', [10, 20, 30], 'Orange', ['A', 'B', 'C'], 'Yellow', 'Pink']"
      ]
     },
     "execution_count": 51,
     "metadata": {},
     "output_type": "execute_result"
    }
   ],
   "source": [
    "nlist1=['Blue', [10, 20, 30], 'Orange', ['A', 'B', 'C'], 'Yellow', 'Pink']\n",
    "nlist1"
   ]
  },
  {
   "cell_type": "code",
   "execution_count": 52,
   "id": "9d206b97",
   "metadata": {},
   "outputs": [
    {
     "data": {
      "text/plain": [
       "['A', 'B', 'C']"
      ]
     },
     "execution_count": 52,
     "metadata": {},
     "output_type": "execute_result"
    }
   ],
   "source": [
    "nlist1[3]"
   ]
  },
  {
   "cell_type": "code",
   "execution_count": 53,
   "id": "e6d7e0f2",
   "metadata": {},
   "outputs": [
    {
     "data": {
      "text/plain": [
       "'B'"
      ]
     },
     "execution_count": 53,
     "metadata": {},
     "output_type": "execute_result"
    }
   ],
   "source": [
    "nlist1[3][1]"
   ]
  },
  {
   "cell_type": "markdown",
   "id": "0da5a36c",
   "metadata": {},
   "source": [
    "### List Function"
   ]
  },
  {
   "cell_type": "code",
   "execution_count": 62,
   "id": "437a7635",
   "metadata": {},
   "outputs": [],
   "source": [
    "s=\"INDIA\""
   ]
  },
  {
   "cell_type": "code",
   "execution_count": 64,
   "id": "930e45ed",
   "metadata": {},
   "outputs": [
    {
     "data": {
      "text/plain": [
       "['I', 'N', 'D', 'I', 'A']"
      ]
     },
     "execution_count": 64,
     "metadata": {},
     "output_type": "execute_result"
    }
   ],
   "source": [
    "list(s)"
   ]
  },
  {
   "cell_type": "code",
   "execution_count": 65,
   "id": "5e085d49",
   "metadata": {},
   "outputs": [],
   "source": [
    "n=1000"
   ]
  },
  {
   "cell_type": "code",
   "execution_count": 67,
   "id": "e55bed01",
   "metadata": {},
   "outputs": [
    {
     "data": {
      "text/plain": [
       "list[1000]"
      ]
     },
     "execution_count": 67,
     "metadata": {},
     "output_type": "execute_result"
    }
   ],
   "source": [
    "list[n]"
   ]
  },
  {
   "cell_type": "code",
   "execution_count": 68,
   "id": "746e2b9f",
   "metadata": {},
   "outputs": [],
   "source": [
    "n1=\"1000\""
   ]
  },
  {
   "cell_type": "code",
   "execution_count": 69,
   "id": "0cbd4de2",
   "metadata": {},
   "outputs": [
    {
     "data": {
      "text/plain": [
       "['1', '0', '0', '0']"
      ]
     },
     "execution_count": 69,
     "metadata": {},
     "output_type": "execute_result"
    }
   ],
   "source": [
    "list(n1)"
   ]
  },
  {
   "cell_type": "markdown",
   "id": "9fb2dead",
   "metadata": {},
   "source": [
    "### append()"
   ]
  },
  {
   "cell_type": "code",
   "execution_count": 70,
   "id": "a8c4af9b",
   "metadata": {},
   "outputs": [
    {
     "data": {
      "text/plain": [
       "['Blue', [10, 20, 30], 'Yellow', 'Pink']"
      ]
     },
     "execution_count": 70,
     "metadata": {},
     "output_type": "execute_result"
    }
   ],
   "source": [
    "nlist"
   ]
  },
  {
   "cell_type": "code",
   "execution_count": 71,
   "id": "f37e9ed3",
   "metadata": {},
   "outputs": [
    {
     "data": {
      "text/plain": [
       "['Blue', 'Orange', 'Red', 'Yellow', 'Pink']"
      ]
     },
     "execution_count": 71,
     "metadata": {},
     "output_type": "execute_result"
    }
   ],
   "source": [
    "color"
   ]
  },
  {
   "cell_type": "code",
   "execution_count": 73,
   "id": "e37ce2c9",
   "metadata": {},
   "outputs": [
    {
     "name": "stdout",
     "output_type": "stream",
     "text": [
      "['Blue', 'Orange', 'Red', 'Yellow', 'Pink', 'mango', 'mango']\n"
     ]
    }
   ],
   "source": [
    "color.append(\"mango\")\n",
    "print(color)"
   ]
  },
  {
   "cell_type": "code",
   "execution_count": null,
   "id": "03c07e52",
   "metadata": {},
   "outputs": [],
   "source": [
    "fruit=color.append(\"Apple\") # It only store the elements\n",
    "fruit"
   ]
  },
  {
   "cell_type": "code",
   "execution_count": 75,
   "id": "3debf71f",
   "metadata": {},
   "outputs": [
    {
     "data": {
      "text/plain": [
       "['Blue', 'Orange', 'Red', 'Yellow', 'Pink', 'mango', 'mango', 'Apple', 'Apple']"
      ]
     },
     "execution_count": 75,
     "metadata": {},
     "output_type": "execute_result"
    }
   ],
   "source": [
    "color.append(\"Apple\") \n",
    "color"
   ]
  },
  {
   "cell_type": "code",
   "execution_count": 76,
   "id": "6febfdb0",
   "metadata": {},
   "outputs": [
    {
     "data": {
      "text/plain": [
       "['Blue',\n",
       " 'Orange',\n",
       " 'Red',\n",
       " 'Yellow',\n",
       " 'Pink',\n",
       " 'mango',\n",
       " 'mango',\n",
       " 'Apple',\n",
       " 'Apple',\n",
       " 234]"
      ]
     },
     "execution_count": 76,
     "metadata": {},
     "output_type": "execute_result"
    }
   ],
   "source": [
    "color.append(234)\n",
    "color"
   ]
  },
  {
   "cell_type": "code",
   "execution_count": 77,
   "id": "e2f16e0c",
   "metadata": {},
   "outputs": [
    {
     "data": {
      "text/plain": [
       "['Blue',\n",
       " 'Orange',\n",
       " 'Red',\n",
       " 'Yellow',\n",
       " 'Pink',\n",
       " 'mango',\n",
       " 'mango',\n",
       " 'Apple',\n",
       " 'Apple',\n",
       " 234,\n",
       " ['a', 'b', 'c']]"
      ]
     },
     "execution_count": 77,
     "metadata": {},
     "output_type": "execute_result"
    }
   ],
   "source": [
    "color.append([\"a\",\"b\",\"c\"])\n",
    "color"
   ]
  },
  {
   "cell_type": "markdown",
   "id": "d4f2f792",
   "metadata": {},
   "source": [
    "### extend()"
   ]
  },
  {
   "cell_type": "code",
   "execution_count": 78,
   "id": "0b778316",
   "metadata": {},
   "outputs": [
    {
     "data": {
      "text/plain": [
       "['Blue', 'Orange', 'Apple']"
      ]
     },
     "execution_count": 78,
     "metadata": {},
     "output_type": "execute_result"
    }
   ],
   "source": [
    "c1=[\"Blue\",\"Orange\",\"Apple\"]\n",
    "c1"
   ]
  },
  {
   "cell_type": "code",
   "execution_count": 79,
   "id": "1f3e8085",
   "metadata": {},
   "outputs": [
    {
     "data": {
      "text/plain": [
       "['Blue', 'Orange', 'Apple', 'A', 'B']"
      ]
     },
     "execution_count": 79,
     "metadata": {},
     "output_type": "execute_result"
    }
   ],
   "source": [
    "c1.extend([\"A\",\"B\"])\n",
    "c1"
   ]
  },
  {
   "cell_type": "code",
   "execution_count": 80,
   "id": "4e6c92ec",
   "metadata": {},
   "outputs": [
    {
     "data": {
      "text/plain": [
       "['Blue', 'Orange', 'Apple', 'A', 'B', 'S', 'k', 'y']"
      ]
     },
     "execution_count": 80,
     "metadata": {},
     "output_type": "execute_result"
    }
   ],
   "source": [
    "c1.extend(\"Sky\")\n",
    "c1"
   ]
  },
  {
   "cell_type": "code",
   "execution_count": 81,
   "id": "f5fbffcc",
   "metadata": {},
   "outputs": [
    {
     "data": {
      "text/plain": [
       "['Blue', 'Orange', 'Apple', 'A', 'B', 'S', 'k', 'y', 'Sky']"
      ]
     },
     "execution_count": 81,
     "metadata": {},
     "output_type": "execute_result"
    }
   ],
   "source": [
    "c1.extend([\"Sky\"])\n",
    "c1"
   ]
  },
  {
   "cell_type": "markdown",
   "id": "140773f3",
   "metadata": {},
   "source": [
    "### insert()"
   ]
  },
  {
   "cell_type": "code",
   "execution_count": 82,
   "id": "b67478ee",
   "metadata": {},
   "outputs": [
    {
     "data": {
      "text/plain": [
       "['Blue', 'Orange', 'Apple']"
      ]
     },
     "execution_count": 82,
     "metadata": {},
     "output_type": "execute_result"
    }
   ],
   "source": [
    "c2=[\"Blue\",\"Orange\",\"Apple\"]\n",
    "c2"
   ]
  },
  {
   "cell_type": "code",
   "execution_count": 83,
   "id": "428f77b2",
   "metadata": {},
   "outputs": [
    {
     "data": {
      "text/plain": [
       "['Blue', 'Mango', 'Orange', 'Apple']"
      ]
     },
     "execution_count": 83,
     "metadata": {},
     "output_type": "execute_result"
    }
   ],
   "source": [
    "c2.insert(1,\"Mango\")\n",
    "c2"
   ]
  },
  {
   "cell_type": "code",
   "execution_count": null,
   "id": "21c7a3d8",
   "metadata": {},
   "outputs": [],
   "source": []
  },
  {
   "cell_type": "code",
   "execution_count": 84,
   "id": "3f5fd955",
   "metadata": {},
   "outputs": [
    {
     "data": {
      "text/plain": [
       "2"
      ]
     },
     "execution_count": 84,
     "metadata": {},
     "output_type": "execute_result"
    }
   ],
   "source": [
    "c2.index(\"Orange\")"
   ]
  },
  {
   "cell_type": "code",
   "execution_count": 85,
   "id": "d20d8404",
   "metadata": {},
   "outputs": [
    {
     "data": {
      "text/plain": [
       "['Blue', 'Mango', 'Orange', 'Apple']"
      ]
     },
     "execution_count": 85,
     "metadata": {},
     "output_type": "execute_result"
    }
   ],
   "source": [
    "c2"
   ]
  },
  {
   "cell_type": "code",
   "execution_count": 87,
   "id": "4e37fb67",
   "metadata": {},
   "outputs": [
    {
     "name": "stdout",
     "output_type": "stream",
     "text": [
      "Enter New Value: Yellow\n",
      "Location: Blue\n"
     ]
    }
   ],
   "source": [
    "nval=input(\"Enter New Value: \")\n",
    "loc=input(\"Location: \")"
   ]
  },
  {
   "cell_type": "code",
   "execution_count": 90,
   "id": "d515f978",
   "metadata": {},
   "outputs": [
    {
     "data": {
      "text/plain": [
       "2"
      ]
     },
     "execution_count": 90,
     "metadata": {},
     "output_type": "execute_result"
    }
   ],
   "source": [
    "c2.index(loc)"
   ]
  },
  {
   "cell_type": "code",
   "execution_count": 89,
   "id": "b6492ddf",
   "metadata": {},
   "outputs": [
    {
     "data": {
      "text/plain": [
       "['Yellow', 'Yellow', 'Blue', 'Mango', 'Orange', 'Apple']"
      ]
     },
     "execution_count": 89,
     "metadata": {},
     "output_type": "execute_result"
    }
   ],
   "source": [
    "c2.insert(c2.index(loc),nval)\n",
    "c2"
   ]
  },
  {
   "cell_type": "markdown",
   "id": "e307b555",
   "metadata": {},
   "source": [
    "### ASSIGNMENT"
   ]
  },
  {
   "cell_type": "code",
   "execution_count": 91,
   "id": "5d15948c",
   "metadata": {},
   "outputs": [
    {
     "data": {
      "text/plain": [
       "['Blue', [10, 20, 30], 'Yellow', 'Pink']"
      ]
     },
     "execution_count": 91,
     "metadata": {},
     "output_type": "execute_result"
    }
   ],
   "source": [
    "nlist"
   ]
  },
  {
   "cell_type": "code",
   "execution_count": null,
   "id": "c7a4fc59",
   "metadata": {},
   "outputs": [],
   "source": [
    "# at location 20 in nested list...\n",
    "# Insert INDIA.\n",
    "# using Insert function along with index function"
   ]
  },
  {
   "cell_type": "code",
   "execution_count": null,
   "id": "8e55f4e2",
   "metadata": {},
   "outputs": [],
   "source": []
  }
 ],
 "metadata": {
  "kernelspec": {
   "display_name": "Python 3 (ipykernel)",
   "language": "python",
   "name": "python3"
  },
  "language_info": {
   "codemirror_mode": {
    "name": "ipython",
    "version": 3
   },
   "file_extension": ".py",
   "mimetype": "text/x-python",
   "name": "python",
   "nbconvert_exporter": "python",
   "pygments_lexer": "ipython3",
   "version": "3.9.13"
  }
 },
 "nbformat": 4,
 "nbformat_minor": 5
}
