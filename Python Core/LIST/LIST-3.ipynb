{
 "cells": [
  {
   "cell_type": "markdown",
   "id": "2821a9a4",
   "metadata": {},
   "source": [
    "### List Comprehension with for loop:\n",
    "    [Output Expression\tInput Sequence\tFor loop]\n",
    "### Nested List Comprehension:\n",
    "    [\t[Output Expression\tInput Sequence]\tInput Sequence]\n",
    "### Operations:\n",
    "\n",
    "## COPY:\n",
    "\n",
    "### REFERENCE COPY:\n",
    "    •\tIt is a process of creating an instance of the original data in a different variable. But in-turn both variables are pointing to same memory location.\n",
    "    •\tAssigning a value within another variable.\n",
    "                    A=B\n",
    "### SHALLOW COPY:\n",
    "    •\tIt is a process of copying values from one memory location to another memory location.\n",
    "    •\tIt is implemented by .copy()\n",
    "        o\tSyntax-1:\n",
    "                 A1=[10,20,30,40]\n",
    "                 B1=A1.copy()\n",
    "        o\tSyntax-2:\n",
    "                Import copy\n",
    "                P=copy.copy(s)\n",
    "### DEEP COPY:\n",
    "    •\tIt is a process of copying values from one memory location to another memory location including nested list values.\n",
    "        •\tSyntax:\n",
    "                Import copy\n",
    "                Y=copy.deepcopy(x)\n"
   ]
  },
  {
   "cell_type": "code",
   "execution_count": null,
   "id": "d59b266a",
   "metadata": {},
   "outputs": [],
   "source": []
  },
  {
   "cell_type": "markdown",
   "id": "cf103879",
   "metadata": {},
   "source": [
    "### List Comprehension with FOR LOOP"
   ]
  },
  {
   "cell_type": "markdown",
   "id": "4a0267a7",
   "metadata": {},
   "source": [
    "### Table Range using List Comprehension"
   ]
  },
  {
   "cell_type": "code",
   "execution_count": 1,
   "id": "d806d4e3",
   "metadata": {},
   "outputs": [
    {
     "name": "stdout",
     "output_type": "stream",
     "text": [
      "Enter a Number: 5\n",
      "[5, 10, 15, 20, 25, 30, 35, 40, 45, 50]\n"
     ]
    }
   ],
   "source": [
    "num=int(input(\"Enter a Number: \"))\n",
    "\n",
    "res=[num*i  for i in range(1,11)]\n",
    "print(res)"
   ]
  },
  {
   "cell_type": "code",
   "execution_count": 3,
   "id": "c806975f",
   "metadata": {},
   "outputs": [
    {
     "name": "stdout",
     "output_type": "stream",
     "text": [
      "Enter a Number: 5\n",
      "['5*1==5', '5*2==10', '5*3==15', '5*4==20', '5*5==25', '5*6==30', '5*7==35', '5*8==40', '5*9==45', '5*10==50']\n"
     ]
    }
   ],
   "source": [
    "num=int(input(\"Enter a Number: \"))\n",
    "\n",
    "res=[str(num)+\"*\"+str(i)+\"==\"+str(num*i)  for i in range(1,11)]\n",
    "print(res)"
   ]
  },
  {
   "cell_type": "code",
   "execution_count": 4,
   "id": "52457744",
   "metadata": {},
   "outputs": [
    {
     "name": "stdout",
     "output_type": "stream",
     "text": [
      "Enter a Number: 5\n"
     ]
    },
    {
     "data": {
      "text/plain": [
       "['2*1==2',\n",
       " '2*2==4',\n",
       " '2*3==6',\n",
       " '2*4==8',\n",
       " '2*5==10',\n",
       " '2*6==12',\n",
       " '2*7==14',\n",
       " '2*8==16',\n",
       " '2*9==18',\n",
       " '2*10==20',\n",
       " '3*1==3',\n",
       " '3*2==6',\n",
       " '3*3==9',\n",
       " '3*4==12',\n",
       " '3*5==15',\n",
       " '3*6==18',\n",
       " '3*7==21',\n",
       " '3*8==24',\n",
       " '3*9==27',\n",
       " '3*10==30',\n",
       " '4*1==4',\n",
       " '4*2==8',\n",
       " '4*3==12',\n",
       " '4*4==16',\n",
       " '4*5==20',\n",
       " '4*6==24',\n",
       " '4*7==28',\n",
       " '4*8==32',\n",
       " '4*9==36',\n",
       " '4*10==40',\n",
       " '5*1==5',\n",
       " '5*2==10',\n",
       " '5*3==15',\n",
       " '5*4==20',\n",
       " '5*5==25',\n",
       " '5*6==30',\n",
       " '5*7==35',\n",
       " '5*8==40',\n",
       " '5*9==45',\n",
       " '5*10==50']"
      ]
     },
     "execution_count": 4,
     "metadata": {},
     "output_type": "execute_result"
    }
   ],
   "source": [
    "rnum=int(input(\"Enter a Number: \"))\n",
    "\n",
    "[str(x)+\"*\"+str(i)+\"==\"+str(x*i)   for x in range(2,rnum+1) for i in range(1,11)]"
   ]
  },
  {
   "cell_type": "markdown",
   "id": "9b4f17bc",
   "metadata": {},
   "source": [
    "### Nested List Comprehension"
   ]
  },
  {
   "cell_type": "code",
   "execution_count": 5,
   "id": "0e8b89c1",
   "metadata": {},
   "outputs": [
    {
     "data": {
      "text/plain": [
       "[[1, 2, 3, 4, 5], [1, 2, 3, 4, 5], [1, 2, 3, 4, 5]]"
      ]
     },
     "execution_count": 5,
     "metadata": {},
     "output_type": "execute_result"
    }
   ],
   "source": [
    "[[y for y in range(1,6)]   for x in range(1,4)]"
   ]
  },
  {
   "cell_type": "markdown",
   "id": "151c6421",
   "metadata": {},
   "source": [
    "### Operators"
   ]
  },
  {
   "cell_type": "markdown",
   "id": "0b6fe034",
   "metadata": {},
   "source": [
    "### + Operator"
   ]
  },
  {
   "cell_type": "code",
   "execution_count": 6,
   "id": "57d9eef4",
   "metadata": {},
   "outputs": [
    {
     "data": {
      "text/plain": [
       "[1, 2, 3, 4, 11, 12, 13]"
      ]
     },
     "execution_count": 6,
     "metadata": {},
     "output_type": "execute_result"
    }
   ],
   "source": [
    "[1,2,3,4] + [11,12,13] # Concatenate "
   ]
  },
  {
   "cell_type": "code",
   "execution_count": 21,
   "id": "e2ac1e38",
   "metadata": {},
   "outputs": [
    {
     "data": {
      "text/plain": [
       "[2, 3, 4, 5, 6]"
      ]
     },
     "execution_count": 21,
     "metadata": {},
     "output_type": "execute_result"
    }
   ],
   "source": [
    "r1=[i for i in range(2,7)]\n",
    "r1"
   ]
  },
  {
   "cell_type": "code",
   "execution_count": 20,
   "id": "633badd0",
   "metadata": {},
   "outputs": [
    {
     "data": {
      "text/plain": [
       "[11, 12, 13, 14, 15]"
      ]
     },
     "execution_count": 20,
     "metadata": {},
     "output_type": "execute_result"
    }
   ],
   "source": [
    "r2=[x for x in range(11,16)]\n",
    "r2"
   ]
  },
  {
   "cell_type": "code",
   "execution_count": 9,
   "id": "6cf7f174",
   "metadata": {},
   "outputs": [
    {
     "data": {
      "text/plain": [
       "[2, 3, 4, 5, 6, 11, 12, 13, 14, 15]"
      ]
     },
     "execution_count": 9,
     "metadata": {},
     "output_type": "execute_result"
    }
   ],
   "source": [
    "r=r1+r2 # Concatenate\n",
    "r"
   ]
  },
  {
   "cell_type": "code",
   "execution_count": 10,
   "id": "3bca965d",
   "metadata": {},
   "outputs": [
    {
     "data": {
      "text/plain": [
       "13"
      ]
     },
     "execution_count": 10,
     "metadata": {},
     "output_type": "execute_result"
    }
   ],
   "source": [
    "r1[0]+r2[0]"
   ]
  },
  {
   "cell_type": "code",
   "execution_count": 26,
   "id": "1150fa1c",
   "metadata": {},
   "outputs": [
    {
     "name": "stdout",
     "output_type": "stream",
     "text": [
      "[13, 15, 17, 19, 21]\n"
     ]
    }
   ],
   "source": [
    "res=[]\n",
    "for a in range(0,5):\n",
    "    r=r1[a]+r2[a]\n",
    "    res.append(r)\n",
    "    \n",
    "print(res)\n",
    "\n",
    "    \n",
    "    \n"
   ]
  },
  {
   "cell_type": "code",
   "execution_count": 27,
   "id": "5494e186",
   "metadata": {},
   "outputs": [
    {
     "data": {
      "text/plain": [
       "[13, 15, 17, 19, 21]"
      ]
     },
     "execution_count": 27,
     "metadata": {},
     "output_type": "execute_result"
    }
   ],
   "source": [
    "[r1[a]+r2[a]    for a in range(0,5)]"
   ]
  },
  {
   "cell_type": "markdown",
   "id": "9cedeaa3",
   "metadata": {},
   "source": [
    "### ASSIGNMENT"
   ]
  },
  {
   "cell_type": "code",
   "execution_count": null,
   "id": "c50d6b5b",
   "metadata": {},
   "outputs": [],
   "source": [
    "a1=[10,20,30,40,50]\n",
    "b1=[100,200,300,400,500,600,700]"
   ]
  },
  {
   "cell_type": "code",
   "execution_count": null,
   "id": "da5d450a",
   "metadata": {},
   "outputs": [],
   "source": [
    "m=input(\"Enter list of elements: \")\n",
    "n=input(\"Enter list of elements: \")"
   ]
  },
  {
   "cell_type": "code",
   "execution_count": 34,
   "id": "d115f7b3",
   "metadata": {},
   "outputs": [
    {
     "name": "stdout",
     "output_type": "stream",
     "text": [
      "100\n",
      "200\n",
      "300\n",
      "400\n",
      "500\n",
      "600\n",
      "700\n"
     ]
    }
   ],
   "source": [
    "for x in range(0,len(b1)):\n",
    "    print(b1[x])"
   ]
  },
  {
   "cell_type": "code",
   "execution_count": 35,
   "id": "fa37827a",
   "metadata": {},
   "outputs": [
    {
     "name": "stdout",
     "output_type": "stream",
     "text": [
      "ee: [1,2,3,4,5]\n"
     ]
    }
   ],
   "source": [
    "a=input(\"ee: \")"
   ]
  },
  {
   "cell_type": "code",
   "execution_count": 36,
   "id": "f94156d0",
   "metadata": {},
   "outputs": [
    {
     "data": {
      "text/plain": [
       "'[1,2,3,4,5]'"
      ]
     },
     "execution_count": 36,
     "metadata": {},
     "output_type": "execute_result"
    }
   ],
   "source": [
    "a"
   ]
  },
  {
   "cell_type": "code",
   "execution_count": 38,
   "id": "9e1ed848",
   "metadata": {},
   "outputs": [
    {
     "data": {
      "text/plain": [
       "['[', '1', ',', '2', ',', '3', ',', '4', ',', '5', ']']"
      ]
     },
     "execution_count": 38,
     "metadata": {},
     "output_type": "execute_result"
    }
   ],
   "source": [
    "b=list(a)\n",
    "b"
   ]
  },
  {
   "cell_type": "code",
   "execution_count": 40,
   "id": "b52ed56a",
   "metadata": {},
   "outputs": [
    {
     "data": {
      "text/plain": [
       "['[1,2,3,4,5]']"
      ]
     },
     "execution_count": 40,
     "metadata": {},
     "output_type": "execute_result"
    }
   ],
   "source": [
    "c=[]\n",
    "c.append(a)\n",
    "c"
   ]
  },
  {
   "cell_type": "code",
   "execution_count": 57,
   "id": "8588e847",
   "metadata": {},
   "outputs": [
    {
     "data": {
      "text/plain": [
       "1"
      ]
     },
     "execution_count": 57,
     "metadata": {},
     "output_type": "execute_result"
    }
   ],
   "source": [
    "len(c)"
   ]
  },
  {
   "cell_type": "code",
   "execution_count": null,
   "id": "42bd9d40",
   "metadata": {},
   "outputs": [],
   "source": []
  },
  {
   "cell_type": "code",
   "execution_count": 42,
   "id": "7f68b909",
   "metadata": {},
   "outputs": [
    {
     "data": {
      "text/plain": [
       "['[1,2,3,4,5]']"
      ]
     },
     "execution_count": 42,
     "metadata": {},
     "output_type": "execute_result"
    }
   ],
   "source": [
    "d=list(c)\n",
    "d"
   ]
  },
  {
   "cell_type": "code",
   "execution_count": null,
   "id": "3550fde9",
   "metadata": {},
   "outputs": [],
   "source": []
  },
  {
   "cell_type": "markdown",
   "id": "1e58c774",
   "metadata": {},
   "source": [
    "### COPY"
   ]
  },
  {
   "cell_type": "markdown",
   "id": "094521b6",
   "metadata": {},
   "source": [
    "### Reference Copy"
   ]
  },
  {
   "cell_type": "code",
   "execution_count": 48,
   "id": "9d58f4e9",
   "metadata": {},
   "outputs": [
    {
     "name": "stdout",
     "output_type": "stream",
     "text": [
      "[10, 20, 30, 40, 50]\n",
      "1629672209728\n"
     ]
    }
   ],
   "source": [
    "a1=[10,20,30,40,50]\n",
    "print(a1)\n",
    "print(id(a1))"
   ]
  },
  {
   "cell_type": "code",
   "execution_count": 49,
   "id": "69607e4d",
   "metadata": {},
   "outputs": [
    {
     "name": "stdout",
     "output_type": "stream",
     "text": [
      "[10, 20, 30, 40, 50]\n",
      "1629672209728\n"
     ]
    }
   ],
   "source": [
    "# Reference Copy\n",
    "\n",
    "b1=a1\n",
    "\n",
    "print(b1)\n",
    "print(id(b1))"
   ]
  },
  {
   "cell_type": "code",
   "execution_count": 50,
   "id": "19f01bb2",
   "metadata": {},
   "outputs": [
    {
     "name": "stdout",
     "output_type": "stream",
     "text": [
      "[10, 20, 30, 40, 50, 'SKY']\n"
     ]
    }
   ],
   "source": [
    "b1.append(\"SKY\")\n",
    "\n",
    "print(b1)"
   ]
  },
  {
   "cell_type": "code",
   "execution_count": 51,
   "id": "454fa1ce",
   "metadata": {},
   "outputs": [
    {
     "name": "stdout",
     "output_type": "stream",
     "text": [
      "[10, 20, 30, 40, 50, 'SKY']\n"
     ]
    }
   ],
   "source": [
    "print(a1)"
   ]
  },
  {
   "cell_type": "markdown",
   "id": "a4ca41d9",
   "metadata": {},
   "source": [
    "### Shallow Copy"
   ]
  },
  {
   "cell_type": "code",
   "execution_count": 52,
   "id": "280a8cf4",
   "metadata": {},
   "outputs": [
    {
     "name": "stdout",
     "output_type": "stream",
     "text": [
      "[10, 20, 30, 40, 50]\n",
      "1629672200320\n"
     ]
    }
   ],
   "source": [
    "m=[10,20,30,40,50]\n",
    "print(m)\n",
    "print(id(m))"
   ]
  },
  {
   "cell_type": "code",
   "execution_count": 53,
   "id": "8d7c1f8c",
   "metadata": {},
   "outputs": [],
   "source": [
    "n=m.copy()"
   ]
  },
  {
   "cell_type": "code",
   "execution_count": 54,
   "id": "f7571b5c",
   "metadata": {},
   "outputs": [
    {
     "name": "stdout",
     "output_type": "stream",
     "text": [
      "[10, 20, 30, 40, 50]\n",
      "1629673041344\n"
     ]
    }
   ],
   "source": [
    "print(n)\n",
    "print(id(n))"
   ]
  },
  {
   "cell_type": "code",
   "execution_count": 55,
   "id": "3b061a38",
   "metadata": {},
   "outputs": [
    {
     "name": "stdout",
     "output_type": "stream",
     "text": [
      "[10, 20, 30, 40, 50, 'BLUE']\n"
     ]
    }
   ],
   "source": [
    "n.append(\"BLUE\")\n",
    "print(n)"
   ]
  },
  {
   "cell_type": "code",
   "execution_count": 56,
   "id": "011ff3db",
   "metadata": {},
   "outputs": [
    {
     "data": {
      "text/plain": [
       "[10, 20, 30, 40, 50]"
      ]
     },
     "execution_count": 56,
     "metadata": {},
     "output_type": "execute_result"
    }
   ],
   "source": [
    "m"
   ]
  },
  {
   "cell_type": "markdown",
   "id": "acb19dae",
   "metadata": {},
   "source": [
    "### Second Method"
   ]
  },
  {
   "cell_type": "code",
   "execution_count": null,
   "id": "4c31e3e0",
   "metadata": {},
   "outputs": [],
   "source": [
    "import copy"
   ]
  },
  {
   "cell_type": "code",
   "execution_count": null,
   "id": "e9e90353",
   "metadata": {},
   "outputs": [],
   "source": []
  },
  {
   "cell_type": "markdown",
   "id": "7352da59",
   "metadata": {},
   "source": [
    "### Problem of Shallow Copy "
   ]
  },
  {
   "cell_type": "code",
   "execution_count": 60,
   "id": "4efd2078",
   "metadata": {},
   "outputs": [
    {
     "name": "stdout",
     "output_type": "stream",
     "text": [
      "[10, 20, ['A', 'B'], 30, 30, 50]\n"
     ]
    },
    {
     "data": {
      "text/plain": [
       "1629673064384"
      ]
     },
     "execution_count": 60,
     "metadata": {},
     "output_type": "execute_result"
    }
   ],
   "source": [
    "e=[10,20,['A','B'],30,30,50]\n",
    "print(e)\n",
    "id(e)"
   ]
  },
  {
   "cell_type": "code",
   "execution_count": 61,
   "id": "f17d14ff",
   "metadata": {},
   "outputs": [
    {
     "name": "stdout",
     "output_type": "stream",
     "text": [
      "[10, 20, ['A', 'B'], 30, 30, 50]\n"
     ]
    },
    {
     "data": {
      "text/plain": [
       "1629673016768"
      ]
     },
     "execution_count": 61,
     "metadata": {},
     "output_type": "execute_result"
    }
   ],
   "source": [
    "g=e.copy()\n",
    "print(g)\n",
    "id(g)"
   ]
  },
  {
   "cell_type": "code",
   "execution_count": 62,
   "id": "d8fc701a",
   "metadata": {},
   "outputs": [
    {
     "data": {
      "text/plain": [
       "1629671661504"
      ]
     },
     "execution_count": 62,
     "metadata": {},
     "output_type": "execute_result"
    }
   ],
   "source": [
    "id(e[2])"
   ]
  },
  {
   "cell_type": "code",
   "execution_count": 63,
   "id": "3542915a",
   "metadata": {},
   "outputs": [
    {
     "data": {
      "text/plain": [
       "1629671661504"
      ]
     },
     "execution_count": 63,
     "metadata": {},
     "output_type": "execute_result"
    }
   ],
   "source": [
    "id(g[2])"
   ]
  },
  {
   "cell_type": "markdown",
   "id": "20ce0455",
   "metadata": {},
   "source": [
    "### Deep Copy"
   ]
  },
  {
   "cell_type": "code",
   "execution_count": 2,
   "id": "44bd9c26",
   "metadata": {},
   "outputs": [
    {
     "name": "stdout",
     "output_type": "stream",
     "text": [
      "[10, 20, ['A', 'B'], 30, 30, 50]\n"
     ]
    },
    {
     "data": {
      "text/plain": [
       "2173367945088"
      ]
     },
     "execution_count": 2,
     "metadata": {},
     "output_type": "execute_result"
    }
   ],
   "source": [
    "s1=[10,20,['A','B'],30,30,50]\n",
    "print(s1)\n",
    "id(s1)"
   ]
  },
  {
   "cell_type": "code",
   "execution_count": 3,
   "id": "ec56829d",
   "metadata": {},
   "outputs": [
    {
     "data": {
      "text/plain": [
       "[10, 20, ['A', 'B'], 30, 30, 50]"
      ]
     },
     "execution_count": 3,
     "metadata": {},
     "output_type": "execute_result"
    }
   ],
   "source": [
    "import copy\n",
    "s2=copy.deepcopy(s1)\n",
    "s2"
   ]
  },
  {
   "cell_type": "code",
   "execution_count": 4,
   "id": "49685a7c",
   "metadata": {},
   "outputs": [
    {
     "data": {
      "text/plain": [
       "2173368236352"
      ]
     },
     "execution_count": 4,
     "metadata": {},
     "output_type": "execute_result"
    }
   ],
   "source": [
    "id(s2)"
   ]
  },
  {
   "cell_type": "code",
   "execution_count": 5,
   "id": "fec1d4f3",
   "metadata": {},
   "outputs": [
    {
     "data": {
      "text/plain": [
       "['A', 'B']"
      ]
     },
     "execution_count": 5,
     "metadata": {},
     "output_type": "execute_result"
    }
   ],
   "source": [
    "s1[2]"
   ]
  },
  {
   "cell_type": "code",
   "execution_count": 6,
   "id": "720b40c6",
   "metadata": {},
   "outputs": [
    {
     "data": {
      "text/plain": [
       "2173368236992"
      ]
     },
     "execution_count": 6,
     "metadata": {},
     "output_type": "execute_result"
    }
   ],
   "source": [
    "id(s1[2])"
   ]
  },
  {
   "cell_type": "code",
   "execution_count": 7,
   "id": "549e3d2b",
   "metadata": {},
   "outputs": [
    {
     "data": {
      "text/plain": [
       "['A', 'B']"
      ]
     },
     "execution_count": 7,
     "metadata": {},
     "output_type": "execute_result"
    }
   ],
   "source": [
    "s2[2]"
   ]
  },
  {
   "cell_type": "code",
   "execution_count": 8,
   "id": "1118dfbc",
   "metadata": {},
   "outputs": [
    {
     "data": {
      "text/plain": [
       "2173368249152"
      ]
     },
     "execution_count": 8,
     "metadata": {},
     "output_type": "execute_result"
    }
   ],
   "source": [
    "id(s2[2])"
   ]
  },
  {
   "cell_type": "code",
   "execution_count": null,
   "id": "39113f73",
   "metadata": {},
   "outputs": [],
   "source": []
  },
  {
   "cell_type": "code",
   "execution_count": null,
   "id": "c16b0c9b",
   "metadata": {},
   "outputs": [],
   "source": []
  },
  {
   "cell_type": "code",
   "execution_count": null,
   "id": "2ada0ae0",
   "metadata": {},
   "outputs": [],
   "source": []
  }
 ],
 "metadata": {
  "kernelspec": {
   "display_name": "Python 3 (ipykernel)",
   "language": "python",
   "name": "python3"
  },
  "language_info": {
   "codemirror_mode": {
    "name": "ipython",
    "version": 3
   },
   "file_extension": ".py",
   "mimetype": "text/x-python",
   "name": "python",
   "nbconvert_exporter": "python",
   "pygments_lexer": "ipython3",
   "version": "3.9.13"
  }
 },
 "nbformat": 4,
 "nbformat_minor": 5
}
