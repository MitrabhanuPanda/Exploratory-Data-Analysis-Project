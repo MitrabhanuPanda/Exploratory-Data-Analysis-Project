{
 "cells": [
  {
   "cell_type": "markdown",
   "id": "121d25a7",
   "metadata": {},
   "source": [
    "### ARITHIMATIC OPERATORS"
   ]
  },
  {
   "cell_type": "code",
   "execution_count": 1,
   "id": "da6b48e7",
   "metadata": {},
   "outputs": [],
   "source": [
    "a=20\n",
    "b=10"
   ]
  },
  {
   "cell_type": "code",
   "execution_count": 2,
   "id": "051ac832",
   "metadata": {},
   "outputs": [
    {
     "name": "stdout",
     "output_type": "stream",
     "text": [
      "20 10\n"
     ]
    }
   ],
   "source": [
    "print(a,b)"
   ]
  },
  {
   "cell_type": "code",
   "execution_count": 3,
   "id": "317d6c2c",
   "metadata": {},
   "outputs": [],
   "source": [
    "c=a+b #ADDITION "
   ]
  },
  {
   "cell_type": "code",
   "execution_count": 4,
   "id": "897b8337",
   "metadata": {},
   "outputs": [
    {
     "data": {
      "text/plain": [
       "30"
      ]
     },
     "execution_count": 4,
     "metadata": {},
     "output_type": "execute_result"
    }
   ],
   "source": [
    "c"
   ]
  },
  {
   "cell_type": "code",
   "execution_count": 5,
   "id": "c0ecc3dc",
   "metadata": {},
   "outputs": [],
   "source": [
    "c1=a-b #SUBSTRACTION"
   ]
  },
  {
   "cell_type": "code",
   "execution_count": 6,
   "id": "a384b7f0",
   "metadata": {},
   "outputs": [
    {
     "data": {
      "text/plain": [
       "10"
      ]
     },
     "execution_count": 6,
     "metadata": {},
     "output_type": "execute_result"
    }
   ],
   "source": [
    "c1"
   ]
  },
  {
   "cell_type": "code",
   "execution_count": 7,
   "id": "b7cab196",
   "metadata": {},
   "outputs": [],
   "source": [
    "c2=a*b #MULTIPLICATION"
   ]
  },
  {
   "cell_type": "code",
   "execution_count": 8,
   "id": "4623ae30",
   "metadata": {},
   "outputs": [
    {
     "data": {
      "text/plain": [
       "200"
      ]
     },
     "execution_count": 8,
     "metadata": {},
     "output_type": "execute_result"
    }
   ],
   "source": [
    "c2"
   ]
  },
  {
   "cell_type": "code",
   "execution_count": 9,
   "id": "d0bd6e83",
   "metadata": {},
   "outputs": [],
   "source": [
    "c3=a/b #DIVISION"
   ]
  },
  {
   "cell_type": "code",
   "execution_count": 10,
   "id": "2adab035",
   "metadata": {},
   "outputs": [
    {
     "data": {
      "text/plain": [
       "2.0"
      ]
     },
     "execution_count": 10,
     "metadata": {},
     "output_type": "execute_result"
    }
   ],
   "source": [
    "c3"
   ]
  },
  {
   "cell_type": "code",
   "execution_count": 11,
   "id": "3a8bee4b",
   "metadata": {},
   "outputs": [],
   "source": [
    "c4=a%b #MODULES"
   ]
  },
  {
   "cell_type": "code",
   "execution_count": 12,
   "id": "687caf9c",
   "metadata": {},
   "outputs": [
    {
     "data": {
      "text/plain": [
       "0"
      ]
     },
     "execution_count": 12,
     "metadata": {},
     "output_type": "execute_result"
    }
   ],
   "source": [
    "c4"
   ]
  },
  {
   "cell_type": "code",
   "execution_count": 13,
   "id": "3bcc31d1",
   "metadata": {},
   "outputs": [],
   "source": [
    "c5=a**2 #EXPONENT"
   ]
  },
  {
   "cell_type": "code",
   "execution_count": 14,
   "id": "eca22208",
   "metadata": {},
   "outputs": [
    {
     "data": {
      "text/plain": [
       "400"
      ]
     },
     "execution_count": 14,
     "metadata": {},
     "output_type": "execute_result"
    }
   ],
   "source": [
    "c5"
   ]
  },
  {
   "cell_type": "code",
   "execution_count": 15,
   "id": "5563637e",
   "metadata": {},
   "outputs": [],
   "source": [
    "c6=a//5 #FLOOR DIVISION"
   ]
  },
  {
   "cell_type": "code",
   "execution_count": 16,
   "id": "99a8b6f2",
   "metadata": {},
   "outputs": [
    {
     "data": {
      "text/plain": [
       "4"
      ]
     },
     "execution_count": 16,
     "metadata": {},
     "output_type": "execute_result"
    }
   ],
   "source": [
    "c6"
   ]
  },
  {
   "cell_type": "markdown",
   "id": "4c2e9d81",
   "metadata": {},
   "source": [
    "### ASSIGNMENT OPERATORS"
   ]
  },
  {
   "cell_type": "code",
   "execution_count": 17,
   "id": "31f343f6",
   "metadata": {},
   "outputs": [],
   "source": [
    "d=5 #Assignment"
   ]
  },
  {
   "cell_type": "code",
   "execution_count": 18,
   "id": "9beb4b0d",
   "metadata": {},
   "outputs": [
    {
     "name": "stdout",
     "output_type": "stream",
     "text": [
      "5\n"
     ]
    }
   ],
   "source": [
    "print(d)"
   ]
  },
  {
   "cell_type": "code",
   "execution_count": 19,
   "id": "cd494af7",
   "metadata": {},
   "outputs": [],
   "source": [
    "d=d+5 #Increament"
   ]
  },
  {
   "cell_type": "code",
   "execution_count": 20,
   "id": "fd883dc4",
   "metadata": {},
   "outputs": [
    {
     "name": "stdout",
     "output_type": "stream",
     "text": [
      "10\n"
     ]
    }
   ],
   "source": [
    "print(d)"
   ]
  },
  {
   "cell_type": "code",
   "execution_count": 21,
   "id": "7f370feb",
   "metadata": {},
   "outputs": [],
   "source": [
    "d=d-5 #Decreament"
   ]
  },
  {
   "cell_type": "code",
   "execution_count": 22,
   "id": "3cc5429c",
   "metadata": {},
   "outputs": [
    {
     "name": "stdout",
     "output_type": "stream",
     "text": [
      "5\n"
     ]
    }
   ],
   "source": [
    "print(d)"
   ]
  },
  {
   "cell_type": "markdown",
   "id": "a16287ac",
   "metadata": {},
   "source": [
    "###  COMPARISION OPERATORS (TRUE/FALSE)"
   ]
  },
  {
   "cell_type": "code",
   "execution_count": 23,
   "id": "fd49311e",
   "metadata": {},
   "outputs": [],
   "source": [
    "x=10\n",
    "y=20"
   ]
  },
  {
   "cell_type": "code",
   "execution_count": 24,
   "id": "acca64e7",
   "metadata": {},
   "outputs": [
    {
     "name": "stdout",
     "output_type": "stream",
     "text": [
      "10 20\n"
     ]
    }
   ],
   "source": [
    "print(x,y)"
   ]
  },
  {
   "cell_type": "code",
   "execution_count": 25,
   "id": "15df43a5",
   "metadata": {},
   "outputs": [
    {
     "data": {
      "text/plain": [
       "False"
      ]
     },
     "execution_count": 25,
     "metadata": {},
     "output_type": "execute_result"
    }
   ],
   "source": [
    "x==y #EQUAL"
   ]
  },
  {
   "cell_type": "code",
   "execution_count": 26,
   "id": "bf3aeebc",
   "metadata": {},
   "outputs": [
    {
     "data": {
      "text/plain": [
       "True"
      ]
     },
     "execution_count": 26,
     "metadata": {},
     "output_type": "execute_result"
    }
   ],
   "source": [
    "x!=y #NOT EQUAL"
   ]
  },
  {
   "cell_type": "code",
   "execution_count": 27,
   "id": "576d246f",
   "metadata": {},
   "outputs": [
    {
     "data": {
      "text/plain": [
       "False"
      ]
     },
     "execution_count": 27,
     "metadata": {},
     "output_type": "execute_result"
    }
   ],
   "source": [
    "x>y #GREATER THAN"
   ]
  },
  {
   "cell_type": "code",
   "execution_count": 28,
   "id": "d3fa4108",
   "metadata": {},
   "outputs": [
    {
     "data": {
      "text/plain": [
       "True"
      ]
     },
     "execution_count": 28,
     "metadata": {},
     "output_type": "execute_result"
    }
   ],
   "source": [
    "\"A\"<=\"a\""
   ]
  },
  {
   "cell_type": "code",
   "execution_count": 29,
   "id": "43c5e576",
   "metadata": {},
   "outputs": [
    {
     "data": {
      "text/plain": [
       "True"
      ]
     },
     "execution_count": 29,
     "metadata": {},
     "output_type": "execute_result"
    }
   ],
   "source": [
    "\"A\"<=\"A\""
   ]
  },
  {
   "cell_type": "code",
   "execution_count": 30,
   "id": "bc1285ac",
   "metadata": {},
   "outputs": [
    {
     "data": {
      "text/plain": [
       "False"
      ]
     },
     "execution_count": 30,
     "metadata": {},
     "output_type": "execute_result"
    }
   ],
   "source": [
    "\"Aaaa\">\"aaA\""
   ]
  },
  {
   "cell_type": "code",
   "execution_count": 31,
   "id": "abe724a3",
   "metadata": {},
   "outputs": [
    {
     "data": {
      "text/plain": [
       "False"
      ]
     },
     "execution_count": 31,
     "metadata": {},
     "output_type": "execute_result"
    }
   ],
   "source": [
    "\"Aaaa\">\"Ab\""
   ]
  },
  {
   "cell_type": "code",
   "execution_count": 32,
   "id": "82e2cf03",
   "metadata": {},
   "outputs": [
    {
     "data": {
      "text/plain": [
       "False"
      ]
     },
     "execution_count": 32,
     "metadata": {},
     "output_type": "execute_result"
    }
   ],
   "source": [
    "\"Orange\"<=\"ORANGE\""
   ]
  },
  {
   "cell_type": "code",
   "execution_count": 33,
   "id": "91bfced3",
   "metadata": {},
   "outputs": [
    {
     "data": {
      "text/plain": [
       "True"
      ]
     },
     "execution_count": 33,
     "metadata": {},
     "output_type": "execute_result"
    }
   ],
   "source": [
    "x<y #LESS THAN"
   ]
  },
  {
   "cell_type": "code",
   "execution_count": 34,
   "id": "9f127af7",
   "metadata": {},
   "outputs": [
    {
     "data": {
      "text/plain": [
       "False"
      ]
     },
     "execution_count": 34,
     "metadata": {},
     "output_type": "execute_result"
    }
   ],
   "source": [
    "x>=y #GREATER THAN EQUAL"
   ]
  },
  {
   "cell_type": "code",
   "execution_count": 35,
   "id": "ad013d7b",
   "metadata": {},
   "outputs": [
    {
     "data": {
      "text/plain": [
       "True"
      ]
     },
     "execution_count": 35,
     "metadata": {},
     "output_type": "execute_result"
    }
   ],
   "source": [
    "x<=y #LESS THAN EQUAL"
   ]
  },
  {
   "cell_type": "markdown",
   "id": "815ded59",
   "metadata": {},
   "source": [
    "### LOGICAL OPERATORS\n",
    "    One/More Conditions are there,then use Logical Operators\n",
    "    Eg: Student Percentages\n",
    "        and: Returns True if both statements are True\n",
    "        or: Returns True if one of the statements is True\n",
    "        not: Returns the result,returns False if the result is True"
   ]
  },
  {
   "cell_type": "code",
   "execution_count": 36,
   "id": "d23ad5c2",
   "metadata": {},
   "outputs": [],
   "source": [
    "ab=10\n",
    "cd=20"
   ]
  },
  {
   "cell_type": "code",
   "execution_count": 37,
   "id": "ab2a1742",
   "metadata": {},
   "outputs": [
    {
     "name": "stdout",
     "output_type": "stream",
     "text": [
      "10 20\n"
     ]
    }
   ],
   "source": [
    "print(ab,cd)"
   ]
  },
  {
   "cell_type": "code",
   "execution_count": 38,
   "id": "cea56696",
   "metadata": {},
   "outputs": [
    {
     "data": {
      "text/plain": [
       "True"
      ]
     },
     "execution_count": 38,
     "metadata": {},
     "output_type": "execute_result"
    }
   ],
   "source": [
    "ab==10 and ab<cd #and "
   ]
  },
  {
   "cell_type": "code",
   "execution_count": 39,
   "id": "4e1a743b",
   "metadata": {},
   "outputs": [
    {
     "data": {
      "text/plain": [
       "False"
      ]
     },
     "execution_count": 39,
     "metadata": {},
     "output_type": "execute_result"
    }
   ],
   "source": [
    "ab==10 and ab<cd and ab==cd"
   ]
  },
  {
   "cell_type": "code",
   "execution_count": 40,
   "id": "27d3d625",
   "metadata": {},
   "outputs": [
    {
     "data": {
      "text/plain": [
       "True"
      ]
     },
     "execution_count": 40,
     "metadata": {},
     "output_type": "execute_result"
    }
   ],
   "source": [
    "ab==10 or ab>cd"
   ]
  },
  {
   "cell_type": "code",
   "execution_count": 41,
   "id": "457ae28a",
   "metadata": {},
   "outputs": [
    {
     "data": {
      "text/plain": [
       "True"
      ]
     },
     "execution_count": 41,
     "metadata": {},
     "output_type": "execute_result"
    }
   ],
   "source": [
    "not ab!=10"
   ]
  },
  {
   "cell_type": "markdown",
   "id": "9bfa49c6",
   "metadata": {},
   "source": [
    "### Value with Logical Operator"
   ]
  },
  {
   "cell_type": "markdown",
   "id": "42998ada",
   "metadata": {},
   "source": [
    "### and operator"
   ]
  },
  {
   "cell_type": "code",
   "execution_count": 42,
   "id": "b095024d",
   "metadata": {},
   "outputs": [
    {
     "data": {
      "text/plain": [
       "'Orange'"
      ]
     },
     "execution_count": 42,
     "metadata": {},
     "output_type": "execute_result"
    }
   ],
   "source": [
    "\"Apple\" and \"Orange\""
   ]
  },
  {
   "cell_type": "code",
   "execution_count": 43,
   "id": "b655ee35",
   "metadata": {},
   "outputs": [
    {
     "data": {
      "text/plain": [
       "100"
      ]
     },
     "execution_count": 43,
     "metadata": {},
     "output_type": "execute_result"
    }
   ],
   "source": [
    "200 and 100"
   ]
  },
  {
   "cell_type": "code",
   "execution_count": 44,
   "id": "c2587fe8",
   "metadata": {},
   "outputs": [
    {
     "data": {
      "text/plain": [
       "0"
      ]
     },
     "execution_count": 44,
     "metadata": {},
     "output_type": "execute_result"
    }
   ],
   "source": [
    "500 and 0"
   ]
  },
  {
   "cell_type": "code",
   "execution_count": 45,
   "id": "42a4ad7e",
   "metadata": {},
   "outputs": [
    {
     "data": {
      "text/plain": [
       "0"
      ]
     },
     "execution_count": 45,
     "metadata": {},
     "output_type": "execute_result"
    }
   ],
   "source": [
    "0 and 500"
   ]
  },
  {
   "cell_type": "code",
   "execution_count": 46,
   "id": "cfddcd7b",
   "metadata": {},
   "outputs": [
    {
     "data": {
      "text/plain": [
       "''"
      ]
     },
     "execution_count": 46,
     "metadata": {},
     "output_type": "execute_result"
    }
   ],
   "source": [
    "\"Ball\" and \"\""
   ]
  },
  {
   "cell_type": "code",
   "execution_count": 47,
   "id": "cdf5f8ec",
   "metadata": {},
   "outputs": [
    {
     "data": {
      "text/plain": [
       "' '"
      ]
     },
     "execution_count": 47,
     "metadata": {},
     "output_type": "execute_result"
    }
   ],
   "source": [
    "\"Cat\" and \" \""
   ]
  },
  {
   "cell_type": "code",
   "execution_count": 48,
   "id": "dbf3479e",
   "metadata": {},
   "outputs": [
    {
     "data": {
      "text/plain": [
       "'Orange'"
      ]
     },
     "execution_count": 48,
     "metadata": {},
     "output_type": "execute_result"
    }
   ],
   "source": [
    "500 and \"Apple\" and 300 and \"Orange\""
   ]
  },
  {
   "cell_type": "code",
   "execution_count": 49,
   "id": "ef92a7d9",
   "metadata": {},
   "outputs": [
    {
     "data": {
      "text/plain": [
       "0"
      ]
     },
     "execution_count": 49,
     "metadata": {},
     "output_type": "execute_result"
    }
   ],
   "source": [
    "500 and \"Apple\" and 0 and \"Orange\""
   ]
  },
  {
   "cell_type": "code",
   "execution_count": 50,
   "id": "54110f1a",
   "metadata": {},
   "outputs": [
    {
     "data": {
      "text/plain": [
       "''"
      ]
     },
     "execution_count": 50,
     "metadata": {},
     "output_type": "execute_result"
    }
   ],
   "source": [
    "\"apple\" and \"\" and 0"
   ]
  },
  {
   "cell_type": "markdown",
   "id": "d91fb624",
   "metadata": {},
   "source": [
    "### or"
   ]
  },
  {
   "cell_type": "code",
   "execution_count": 51,
   "id": "ca178c48",
   "metadata": {},
   "outputs": [
    {
     "data": {
      "text/plain": [
       "100"
      ]
     },
     "execution_count": 51,
     "metadata": {},
     "output_type": "execute_result"
    }
   ],
   "source": [
    "100 or 200"
   ]
  },
  {
   "cell_type": "code",
   "execution_count": 52,
   "id": "7175f147",
   "metadata": {},
   "outputs": [
    {
     "data": {
      "text/plain": [
       "'Apple'"
      ]
     },
     "execution_count": 52,
     "metadata": {},
     "output_type": "execute_result"
    }
   ],
   "source": [
    "\"Apple\" or \"Ball\""
   ]
  },
  {
   "cell_type": "code",
   "execution_count": 53,
   "id": "66284596",
   "metadata": {},
   "outputs": [
    {
     "data": {
      "text/plain": [
       "100"
      ]
     },
     "execution_count": 53,
     "metadata": {},
     "output_type": "execute_result"
    }
   ],
   "source": [
    "100 or 0"
   ]
  },
  {
   "cell_type": "code",
   "execution_count": 54,
   "id": "d6d07f40",
   "metadata": {},
   "outputs": [
    {
     "data": {
      "text/plain": [
       "500"
      ]
     },
     "execution_count": 54,
     "metadata": {},
     "output_type": "execute_result"
    }
   ],
   "source": [
    "0 or 500"
   ]
  },
  {
   "cell_type": "code",
   "execution_count": 55,
   "id": "f4d24ab6",
   "metadata": {},
   "outputs": [
    {
     "data": {
      "text/plain": [
       "'Apple'"
      ]
     },
     "execution_count": 55,
     "metadata": {},
     "output_type": "execute_result"
    }
   ],
   "source": [
    "\"Apple\" or \"\""
   ]
  },
  {
   "cell_type": "code",
   "execution_count": 56,
   "id": "73fef175",
   "metadata": {},
   "outputs": [
    {
     "data": {
      "text/plain": [
       "'Orange'"
      ]
     },
     "execution_count": 56,
     "metadata": {},
     "output_type": "execute_result"
    }
   ],
   "source": [
    "\"Apple\" and \"Orange\" or \"Banana\" and 100"
   ]
  },
  {
   "cell_type": "code",
   "execution_count": 57,
   "id": "96042047",
   "metadata": {},
   "outputs": [
    {
     "data": {
      "text/plain": [
       "'Apple'"
      ]
     },
     "execution_count": 57,
     "metadata": {},
     "output_type": "execute_result"
    }
   ],
   "source": [
    "\"Apple\" or \"Orange\" or \"Banana\" or 100"
   ]
  },
  {
   "cell_type": "code",
   "execution_count": 58,
   "id": "06c65d2f",
   "metadata": {},
   "outputs": [
    {
     "data": {
      "text/plain": [
       "True"
      ]
     },
     "execution_count": 58,
     "metadata": {},
     "output_type": "execute_result"
    }
   ],
   "source": [
    "(10>5) and (60>50)"
   ]
  },
  {
   "cell_type": "code",
   "execution_count": 59,
   "id": "ac58dd97",
   "metadata": {},
   "outputs": [
    {
     "data": {
      "text/plain": [
       "False"
      ]
     },
     "execution_count": 59,
     "metadata": {},
     "output_type": "execute_result"
    }
   ],
   "source": [
    "not((10>5) and (60>50))"
   ]
  },
  {
   "cell_type": "code",
   "execution_count": null,
   "id": "e119fe10",
   "metadata": {},
   "outputs": [],
   "source": []
  },
  {
   "cell_type": "markdown",
   "id": "82e2c3b3",
   "metadata": {},
   "source": [
    "### MEMBERSHIP OPERATORS\n",
    "    in:Returns True if a sequence with the spcified value is present in the object.\n",
    "    not in:Returns True if a sequence with the specified value is not present in the object."
   ]
  },
  {
   "cell_type": "code",
   "execution_count": 60,
   "id": "13297b0c",
   "metadata": {},
   "outputs": [],
   "source": [
    "ac=\"hello\""
   ]
  },
  {
   "cell_type": "code",
   "execution_count": 61,
   "id": "444f86d7",
   "metadata": {},
   "outputs": [
    {
     "name": "stdout",
     "output_type": "stream",
     "text": [
      "True\n"
     ]
    }
   ],
   "source": [
    "print('e'in ac)"
   ]
  },
  {
   "cell_type": "code",
   "execution_count": 62,
   "id": "3bd8a480",
   "metadata": {},
   "outputs": [
    {
     "name": "stdout",
     "output_type": "stream",
     "text": [
      "False\n"
     ]
    }
   ],
   "source": [
    "print('H'in ac) # Case Sensitive"
   ]
  },
  {
   "cell_type": "code",
   "execution_count": 63,
   "id": "bd185688",
   "metadata": {},
   "outputs": [],
   "source": [
    "k=[10,20,30,40]"
   ]
  },
  {
   "cell_type": "code",
   "execution_count": 64,
   "id": "dda21426",
   "metadata": {},
   "outputs": [
    {
     "name": "stdout",
     "output_type": "stream",
     "text": [
      "True\n"
     ]
    }
   ],
   "source": [
    "print(10 in k)"
   ]
  },
  {
   "cell_type": "code",
   "execution_count": 65,
   "id": "fca04578",
   "metadata": {},
   "outputs": [
    {
     "name": "stdout",
     "output_type": "stream",
     "text": [
      "False\n"
     ]
    }
   ],
   "source": [
    "print(60 in k)"
   ]
  },
  {
   "cell_type": "code",
   "execution_count": 66,
   "id": "b8ea52d6",
   "metadata": {},
   "outputs": [
    {
     "name": "stdout",
     "output_type": "stream",
     "text": [
      "True\n"
     ]
    }
   ],
   "source": [
    "print(60 not in k)"
   ]
  },
  {
   "cell_type": "markdown",
   "id": "a13319c8",
   "metadata": {},
   "source": [
    "### IDENTIFY OPERATORS\n",
    "    is:Returns True if both variables are the same object.\n",
    "    is not:Returns True if both variables are not the same object."
   ]
  },
  {
   "cell_type": "code",
   "execution_count": 67,
   "id": "18911758",
   "metadata": {},
   "outputs": [],
   "source": [
    "de=10"
   ]
  },
  {
   "cell_type": "code",
   "execution_count": 68,
   "id": "11d9b750",
   "metadata": {},
   "outputs": [],
   "source": [
    "ef=10"
   ]
  },
  {
   "cell_type": "code",
   "execution_count": 69,
   "id": "5b1b4c65",
   "metadata": {},
   "outputs": [
    {
     "name": "stdout",
     "output_type": "stream",
     "text": [
      "True\n"
     ]
    }
   ],
   "source": [
    "print(de is ef)"
   ]
  },
  {
   "cell_type": "code",
   "execution_count": 70,
   "id": "aa63cca0",
   "metadata": {},
   "outputs": [
    {
     "name": "stdout",
     "output_type": "stream",
     "text": [
      "False\n"
     ]
    }
   ],
   "source": [
    "print(de is not ef)"
   ]
  },
  {
   "cell_type": "markdown",
   "id": "44734b18",
   "metadata": {},
   "source": [
    "### BITWISE OPERATORS\n",
    "    &-AND\n",
    "    |-OR\n",
    "    ^-XOR"
   ]
  },
  {
   "cell_type": "code",
   "execution_count": 71,
   "id": "c6495de7",
   "metadata": {},
   "outputs": [],
   "source": [
    "s=10"
   ]
  },
  {
   "cell_type": "code",
   "execution_count": 72,
   "id": "3f5c68c3",
   "metadata": {},
   "outputs": [],
   "source": [
    "w=30"
   ]
  },
  {
   "cell_type": "code",
   "execution_count": 73,
   "id": "08f7ffbc",
   "metadata": {},
   "outputs": [
    {
     "name": "stdout",
     "output_type": "stream",
     "text": [
      "10\n"
     ]
    }
   ],
   "source": [
    "print(s&w)"
   ]
  },
  {
   "cell_type": "code",
   "execution_count": 74,
   "id": "1e389a9d",
   "metadata": {},
   "outputs": [
    {
     "name": "stdout",
     "output_type": "stream",
     "text": [
      "10 0b1010\n"
     ]
    }
   ],
   "source": [
    "print(s&w,bin(s&w))#bin is used to convert the integer to binary."
   ]
  },
  {
   "cell_type": "code",
   "execution_count": 75,
   "id": "fd384dfd",
   "metadata": {},
   "outputs": [
    {
     "name": "stdout",
     "output_type": "stream",
     "text": [
      "30 0b11110\n"
     ]
    }
   ],
   "source": [
    "print(s|w,bin(s|w))"
   ]
  },
  {
   "cell_type": "code",
   "execution_count": 76,
   "id": "a894501c",
   "metadata": {},
   "outputs": [
    {
     "name": "stdout",
     "output_type": "stream",
     "text": [
      "20 0b10100\n"
     ]
    }
   ],
   "source": [
    "print(s^w,bin(s^w))"
   ]
  },
  {
   "cell_type": "code",
   "execution_count": null,
   "id": "1727c71e",
   "metadata": {},
   "outputs": [],
   "source": []
  }
 ],
 "metadata": {
  "kernelspec": {
   "display_name": "Python 3 (ipykernel)",
   "language": "python",
   "name": "python3"
  },
  "language_info": {
   "codemirror_mode": {
    "name": "ipython",
    "version": 3
   },
   "file_extension": ".py",
   "mimetype": "text/x-python",
   "name": "python",
   "nbconvert_exporter": "python",
   "pygments_lexer": "ipython3",
   "version": "3.9.13"
  }
 },
 "nbformat": 4,
 "nbformat_minor": 5
}
