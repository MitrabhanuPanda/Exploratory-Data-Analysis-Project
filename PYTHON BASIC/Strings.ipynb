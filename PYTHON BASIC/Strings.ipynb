{
 "cells": [
  {
   "attachments": {},
   "cell_type": "markdown",
   "id": "6f85bac7",
   "metadata": {},
   "source": [
    "### STRINGS\n",
    "    \t  String is a collection of one or more characters put in a single quote, double quotes or triple quotes.\n",
    "\t\t  Multiple line strings can be denoted as triple quotes.\n",
    "\t\t  Eg: \"Hello Good Morning\"\n",
    "          Str() is used to convert any form to string form."
   ]
  },
  {
   "cell_type": "code",
   "execution_count": 5,
   "id": "8eac6efe",
   "metadata": {},
   "outputs": [
    {
     "name": "stdout",
     "output_type": "stream",
     "text": [
      "Apple\n"
     ]
    },
    {
     "data": {
      "text/plain": [
       "str"
      ]
     },
     "execution_count": 5,
     "metadata": {},
     "output_type": "execute_result"
    }
   ],
   "source": [
    "a=\"Apple\"\n",
    "print(a)\n",
    "type(a)"
   ]
  },
  {
   "cell_type": "code",
   "execution_count": 6,
   "id": "d80c6931",
   "metadata": {},
   "outputs": [
    {
     "name": "stdout",
     "output_type": "stream",
     "text": [
      "21.34\n"
     ]
    },
    {
     "data": {
      "text/plain": [
       "str"
      ]
     },
     "execution_count": 6,
     "metadata": {},
     "output_type": "execute_result"
    }
   ],
   "source": [
    "a1=\"21.34\"\n",
    "print(a1)\n",
    "type(a1)"
   ]
  },
  {
   "attachments": {},
   "cell_type": "markdown",
   "id": "d3e21da9",
   "metadata": {},
   "source": [
    "### Indexing\n",
    "     Python index() is an inbuilt function in Python, which searches for a given element from the start of the list and returns the index of the first occurrence."
   ]
  },
  {
   "cell_type": "code",
   "execution_count": 3,
   "id": "a524cd10",
   "metadata": {},
   "outputs": [
    {
     "name": "stdout",
     "output_type": "stream",
     "text": [
      "Welcome\n"
     ]
    }
   ],
   "source": [
    "a2=\"Welcome\"\n",
    "print(a2)"
   ]
  },
  {
   "cell_type": "code",
   "execution_count": 7,
   "id": "16fe7105",
   "metadata": {},
   "outputs": [
    {
     "data": {
      "text/plain": [
       "'W'"
      ]
     },
     "execution_count": 7,
     "metadata": {},
     "output_type": "execute_result"
    }
   ],
   "source": [
    "a2[0]"
   ]
  },
  {
   "cell_type": "code",
   "execution_count": 8,
   "id": "81be6707",
   "metadata": {},
   "outputs": [
    {
     "data": {
      "text/plain": [
       "'e'"
      ]
     },
     "execution_count": 8,
     "metadata": {},
     "output_type": "execute_result"
    }
   ],
   "source": [
    "a2[1]"
   ]
  },
  {
   "cell_type": "code",
   "execution_count": 9,
   "id": "b4d98f1b",
   "metadata": {},
   "outputs": [
    {
     "data": {
      "text/plain": [
       "7"
      ]
     },
     "execution_count": 9,
     "metadata": {},
     "output_type": "execute_result"
    }
   ],
   "source": [
    "len(a2)"
   ]
  },
  {
   "cell_type": "code",
   "execution_count": 10,
   "id": "a601c337",
   "metadata": {},
   "outputs": [
    {
     "data": {
      "text/plain": [
       "'e'"
      ]
     },
     "execution_count": 10,
     "metadata": {},
     "output_type": "execute_result"
    }
   ],
   "source": [
    "a2[-1]"
   ]
  },
  {
   "cell_type": "code",
   "execution_count": 11,
   "id": "5c4d760f",
   "metadata": {},
   "outputs": [
    {
     "data": {
      "text/plain": [
       "'W'"
      ]
     },
     "execution_count": 11,
     "metadata": {},
     "output_type": "execute_result"
    }
   ],
   "source": [
    "a2[-len(a2)]"
   ]
  },
  {
   "attachments": {},
   "cell_type": "markdown",
   "id": "551f499f",
   "metadata": {},
   "source": [
    "### SLICING\n",
    "    \t  Python slicing is about obtaining a sub-string from the given string by slicing it respectively from start to end.\n",
    "\t\t  [<Start>:<End>:<Step>]\n",
    "\t\t\t  All three are optional.\n",
    "\t\t\t  Step is very important, it is decide the direction.\n",
    "\t\t\t  It Defines how to display extracted value using start and end.\n",
    "\t\t\t  Default value of step is 1.\n",
    "\t\t\t  Direction - Left to Right\n",
    "\t\t\t  Starting Index is 0.\n",
    "\t\t\t  Starting Index < Ending Index (Positive)\n",
    "\t\t\t  For Negaive Step:\n",
    "\t\t\t\t□ Direction: Right to Left\n",
    "\t\t\t\t□ Starting Index: -1\n",
    "\t\t\t\t□ Ending Index: -len\n",
    "\t\t\t\t□ Staring Index > Ending Index\n"
   ]
  },
  {
   "cell_type": "code",
   "execution_count": 12,
   "id": "62692c8d",
   "metadata": {},
   "outputs": [
    {
     "name": "stdout",
     "output_type": "stream",
     "text": [
      "HELLO ALL WELCOME TO PYTHON\n"
     ]
    }
   ],
   "source": [
    "a4=\"HELLO ALL WELCOME TO PYTHON\"\n",
    "print(a4)"
   ]
  },
  {
   "cell_type": "code",
   "execution_count": 13,
   "id": "c865af33",
   "metadata": {},
   "outputs": [
    {
     "data": {
      "text/plain": [
       "'HELLO'"
      ]
     },
     "execution_count": 13,
     "metadata": {},
     "output_type": "execute_result"
    }
   ],
   "source": [
    "a4[0:5:1]"
   ]
  },
  {
   "cell_type": "code",
   "execution_count": 14,
   "id": "997bb703",
   "metadata": {},
   "outputs": [
    {
     "data": {
      "text/plain": [
       "'HELLO ALL WELCOME TO PYTHON'"
      ]
     },
     "execution_count": 14,
     "metadata": {},
     "output_type": "execute_result"
    }
   ],
   "source": [
    "a4[0:]"
   ]
  },
  {
   "cell_type": "code",
   "execution_count": 15,
   "id": "ae3a3e53",
   "metadata": {},
   "outputs": [
    {
     "data": {
      "text/plain": [
       "'HELLO'"
      ]
     },
     "execution_count": 15,
     "metadata": {},
     "output_type": "execute_result"
    }
   ],
   "source": [
    "a4[:5]"
   ]
  },
  {
   "cell_type": "markdown",
   "id": "1e94fa15",
   "metadata": {},
   "source": [
    "### Reverse Slicing"
   ]
  },
  {
   "cell_type": "code",
   "execution_count": 16,
   "id": "00ac1f98",
   "metadata": {},
   "outputs": [
    {
     "data": {
      "text/plain": [
       "'NOHTYP OT EMOCLEW LLA OLLEH'"
      ]
     },
     "execution_count": 16,
     "metadata": {},
     "output_type": "execute_result"
    }
   ],
   "source": [
    "a4[::-1]"
   ]
  },
  {
   "cell_type": "code",
   "execution_count": 17,
   "id": "6ec7a7bb",
   "metadata": {},
   "outputs": [
    {
     "data": {
      "text/plain": [
       "'N'"
      ]
     },
     "execution_count": 17,
     "metadata": {},
     "output_type": "execute_result"
    }
   ],
   "source": [
    "a4[-1::]"
   ]
  },
  {
   "cell_type": "code",
   "execution_count": 19,
   "id": "5e4d0358",
   "metadata": {},
   "outputs": [
    {
     "data": {
      "text/plain": [
       "' TO PYTHO'"
      ]
     },
     "execution_count": 19,
     "metadata": {},
     "output_type": "execute_result"
    }
   ],
   "source": [
    "a4[-10:-1:]"
   ]
  },
  {
   "cell_type": "code",
   "execution_count": 20,
   "id": "2c2e54b1",
   "metadata": {},
   "outputs": [
    {
     "data": {
      "text/plain": [
       "' TO P'"
      ]
     },
     "execution_count": 20,
     "metadata": {},
     "output_type": "execute_result"
    }
   ],
   "source": [
    "a4[-10:-5:]"
   ]
  },
  {
   "attachments": {},
   "cell_type": "markdown",
   "id": "04cd9b3f",
   "metadata": {},
   "source": [
    "### Capitalize\n",
    "    Only First letter of string convert to upper case.(The apple is sweet)"
   ]
  },
  {
   "cell_type": "code",
   "execution_count": 21,
   "id": "a315754f",
   "metadata": {},
   "outputs": [
    {
     "name": "stdout",
     "output_type": "stream",
     "text": [
      "welcome to school\n"
     ]
    }
   ],
   "source": [
    "a5=\"welcome to school\"\n",
    "print(a5)"
   ]
  },
  {
   "cell_type": "code",
   "execution_count": 22,
   "id": "e642cc95",
   "metadata": {},
   "outputs": [
    {
     "name": "stdout",
     "output_type": "stream",
     "text": [
      "Welcome to school\n"
     ]
    }
   ],
   "source": [
    "b=a5.capitalize()\n",
    "print(b)"
   ]
  },
  {
   "attachments": {},
   "cell_type": "markdown",
   "id": "96689d24",
   "metadata": {},
   "source": [
    "### Upper Case\n",
    "    All letter converts to upper case.(APPLE)"
   ]
  },
  {
   "cell_type": "code",
   "execution_count": 23,
   "id": "4a84572b",
   "metadata": {},
   "outputs": [
    {
     "name": "stdout",
     "output_type": "stream",
     "text": [
      "WELCOME TO SCHOOL\n"
     ]
    }
   ],
   "source": [
    "b1=a5.upper()\n",
    "print(b1)"
   ]
  },
  {
   "attachments": {},
   "cell_type": "markdown",
   "id": "6614e69e",
   "metadata": {},
   "source": [
    "### Lower Case\n",
    "    All letter converts to lower case.(apple)"
   ]
  },
  {
   "cell_type": "code",
   "execution_count": 24,
   "id": "346f08ef",
   "metadata": {},
   "outputs": [
    {
     "data": {
      "text/plain": [
       "'WELCOME TO SCHOOL'"
      ]
     },
     "execution_count": 24,
     "metadata": {},
     "output_type": "execute_result"
    }
   ],
   "source": [
    "b1"
   ]
  },
  {
   "cell_type": "code",
   "execution_count": 25,
   "id": "ab2f0bcd",
   "metadata": {},
   "outputs": [
    {
     "name": "stdout",
     "output_type": "stream",
     "text": [
      "welcome to school\n"
     ]
    }
   ],
   "source": [
    "b2=b1.lower()\n",
    "print(b2)"
   ]
  },
  {
   "attachments": {},
   "cell_type": "markdown",
   "id": "55da93a7",
   "metadata": {},
   "source": [
    "### Title\n",
    "     All the First letters of strings convert to upper case.(The Apple Is Sweet)"
   ]
  },
  {
   "cell_type": "code",
   "execution_count": 26,
   "id": "b91fb764",
   "metadata": {},
   "outputs": [
    {
     "name": "stdout",
     "output_type": "stream",
     "text": [
      "Welcome To School\n"
     ]
    }
   ],
   "source": [
    "b3=a5.title()\n",
    "print(b3)"
   ]
  },
  {
   "attachments": {},
   "cell_type": "markdown",
   "id": "c530b109",
   "metadata": {},
   "source": [
    "### Swap Case\n",
    "    It converts the string according to their original string."
   ]
  },
  {
   "cell_type": "code",
   "execution_count": 27,
   "id": "2cae42ef",
   "metadata": {},
   "outputs": [
    {
     "data": {
      "text/plain": [
       "'WELCOME TO SCHOOL'"
      ]
     },
     "execution_count": 27,
     "metadata": {},
     "output_type": "execute_result"
    }
   ],
   "source": [
    "b1"
   ]
  },
  {
   "cell_type": "code",
   "execution_count": 28,
   "id": "0b2dbbea",
   "metadata": {},
   "outputs": [
    {
     "name": "stdout",
     "output_type": "stream",
     "text": [
      "welcome to school\n"
     ]
    }
   ],
   "source": [
    "b4=b1.swapcase()\n",
    "print(b4)"
   ]
  },
  {
   "attachments": {},
   "cell_type": "markdown",
   "id": "a9c61310",
   "metadata": {},
   "source": [
    "### Center\n",
    "    How much value we give to this function it take that much space of the value of the string and the value is in center. According to the value it take the space form both side."
   ]
  },
  {
   "cell_type": "code",
   "execution_count": 29,
   "id": "985200ea",
   "metadata": {},
   "outputs": [
    {
     "name": "stdout",
     "output_type": "stream",
     "text": [
      "PYTHON\n"
     ]
    }
   ],
   "source": [
    "a6=\"PYTHON\"\n",
    "print(a6)"
   ]
  },
  {
   "cell_type": "code",
   "execution_count": 33,
   "id": "d3e4da9b",
   "metadata": {},
   "outputs": [
    {
     "name": "stdout",
     "output_type": "stream",
     "text": [
      "       PYTHON      \n"
     ]
    }
   ],
   "source": [
    "b5=a6.center(19)\n",
    "print(b5)"
   ]
  },
  {
   "cell_type": "code",
   "execution_count": 36,
   "id": "a40d0826",
   "metadata": {},
   "outputs": [
    {
     "data": {
      "text/plain": [
       "19"
      ]
     },
     "execution_count": 36,
     "metadata": {},
     "output_type": "execute_result"
    }
   ],
   "source": [
    "len(b5)"
   ]
  },
  {
   "cell_type": "code",
   "execution_count": 34,
   "id": "31b8520d",
   "metadata": {},
   "outputs": [
    {
     "name": "stdout",
     "output_type": "stream",
     "text": [
      "*******PYTHON******\n"
     ]
    }
   ],
   "source": [
    "b6=a6.center(19,\"*\")\n",
    "print(b6)"
   ]
  },
  {
   "attachments": {},
   "cell_type": "markdown",
   "id": "6d36a6bc",
   "metadata": {},
   "source": [
    "### ljust \n",
    "    It take the value of string to left side and other are space."
   ]
  },
  {
   "cell_type": "code",
   "execution_count": 37,
   "id": "dc21daad",
   "metadata": {},
   "outputs": [
    {
     "name": "stdout",
     "output_type": "stream",
     "text": [
      "PYTHON*************\n"
     ]
    }
   ],
   "source": [
    "b7=a6.ljust(19,\"*\")\n",
    "print(b7)"
   ]
  },
  {
   "attachments": {},
   "cell_type": "markdown",
   "id": "0bc8fb24",
   "metadata": {},
   "source": [
    "### rjust\n",
    "     It take the value of string to right side and other are space."
   ]
  },
  {
   "cell_type": "code",
   "execution_count": 38,
   "id": "565144db",
   "metadata": {},
   "outputs": [
    {
     "name": "stdout",
     "output_type": "stream",
     "text": [
      "*************PYTHON\n"
     ]
    }
   ],
   "source": [
    "b8=a6.rjust(19,\"*\")\n",
    "print(b8)"
   ]
  },
  {
   "attachments": {},
   "cell_type": "markdown",
   "id": "e02338b7",
   "metadata": {},
   "source": [
    "### strip\n",
    "    Python strip() function is a part of built-in functions available in the Python library. The strip() method removes given characters from start and end of the original string. By default, strip() function removes white spaces from start and end of the string and returns the same string without white spaces."
   ]
  },
  {
   "cell_type": "code",
   "execution_count": 39,
   "id": "bf32ac72",
   "metadata": {},
   "outputs": [
    {
     "data": {
      "text/plain": [
       "'       PYTHON      '"
      ]
     },
     "execution_count": 39,
     "metadata": {},
     "output_type": "execute_result"
    }
   ],
   "source": [
    "b5"
   ]
  },
  {
   "cell_type": "code",
   "execution_count": 40,
   "id": "c814f854",
   "metadata": {},
   "outputs": [
    {
     "name": "stdout",
     "output_type": "stream",
     "text": [
      "PYTHON\n"
     ]
    }
   ],
   "source": [
    "b9=b5.strip()\n",
    "print(b9)"
   ]
  },
  {
   "cell_type": "markdown",
   "id": "4e60c701",
   "metadata": {},
   "source": [
    "### lstrip"
   ]
  },
  {
   "cell_type": "code",
   "execution_count": 41,
   "id": "9d37b3b8",
   "metadata": {},
   "outputs": [
    {
     "data": {
      "text/plain": [
       "'       PYTHON      '"
      ]
     },
     "execution_count": 41,
     "metadata": {},
     "output_type": "execute_result"
    }
   ],
   "source": [
    "b5"
   ]
  },
  {
   "cell_type": "code",
   "execution_count": 42,
   "id": "1bb34dda",
   "metadata": {},
   "outputs": [
    {
     "name": "stdout",
     "output_type": "stream",
     "text": [
      "PYTHON      \n"
     ]
    }
   ],
   "source": [
    "b10=b5.lstrip()\n",
    "print(b10)"
   ]
  },
  {
   "cell_type": "markdown",
   "id": "5530cff9",
   "metadata": {},
   "source": [
    "### rstrip"
   ]
  },
  {
   "cell_type": "code",
   "execution_count": 43,
   "id": "b518fed1",
   "metadata": {},
   "outputs": [
    {
     "data": {
      "text/plain": [
       "'       PYTHON      '"
      ]
     },
     "execution_count": 43,
     "metadata": {},
     "output_type": "execute_result"
    }
   ],
   "source": [
    "b5"
   ]
  },
  {
   "cell_type": "code",
   "execution_count": 44,
   "id": "262d4325",
   "metadata": {},
   "outputs": [
    {
     "name": "stdout",
     "output_type": "stream",
     "text": [
      "       PYTHON\n"
     ]
    }
   ],
   "source": [
    "b11=b5.rstrip()\n",
    "print(b11)"
   ]
  },
  {
   "cell_type": "markdown",
   "id": "57889ddf",
   "metadata": {},
   "source": [
    "### find"
   ]
  },
  {
   "cell_type": "code",
   "execution_count": 45,
   "id": "6eca18ad",
   "metadata": {},
   "outputs": [
    {
     "name": "stdout",
     "output_type": "stream",
     "text": [
      "Apple is a sweet fruit\n"
     ]
    }
   ],
   "source": [
    "a7=\"Apple is a sweet fruit\"\n",
    "print(a7)"
   ]
  },
  {
   "cell_type": "code",
   "execution_count": 47,
   "id": "7db08f23",
   "metadata": {},
   "outputs": [
    {
     "data": {
      "text/plain": [
       "11"
      ]
     },
     "execution_count": 47,
     "metadata": {},
     "output_type": "execute_result"
    }
   ],
   "source": [
    "a7.find(\"sweet\")"
   ]
  },
  {
   "cell_type": "code",
   "execution_count": 48,
   "id": "614f6729",
   "metadata": {},
   "outputs": [
    {
     "data": {
      "text/plain": [
       "-1"
      ]
     },
     "execution_count": 48,
     "metadata": {},
     "output_type": "execute_result"
    }
   ],
   "source": [
    "a7.find(\"Sweet\")"
   ]
  },
  {
   "cell_type": "code",
   "execution_count": 49,
   "id": "1597b266",
   "metadata": {},
   "outputs": [
    {
     "name": "stdout",
     "output_type": "stream",
     "text": [
      "APPLE IS RED IN COLOUR, APPLE IS GOOD FOR HEALTH\n"
     ]
    }
   ],
   "source": [
    "a8=\"APPLE IS RED IN COLOUR, APPLE IS GOOD FOR HEALTH\"\n",
    "print(a8)"
   ]
  },
  {
   "cell_type": "code",
   "execution_count": 50,
   "id": "83c0c884",
   "metadata": {},
   "outputs": [
    {
     "data": {
      "text/plain": [
       "24"
      ]
     },
     "execution_count": 50,
     "metadata": {},
     "output_type": "execute_result"
    }
   ],
   "source": [
    "a8.rfind(\"APPLE\")"
   ]
  },
  {
   "attachments": {},
   "cell_type": "markdown",
   "id": "db5d70e2",
   "metadata": {},
   "source": [
    "### split\n",
    "    The split function helps in string manipulation in Python. It allows you to split up a string into different substrings. It returns a list of words present in a line or a string and is separated by a delimiter string."
   ]
  },
  {
   "cell_type": "code",
   "execution_count": 51,
   "id": "9690c99f",
   "metadata": {},
   "outputs": [
    {
     "name": "stdout",
     "output_type": "stream",
     "text": [
      "Apple-Banana-Orange-Mango\n"
     ]
    }
   ],
   "source": [
    "a9=\"Apple-Banana-Orange-Mango\"\n",
    "print(a9)"
   ]
  },
  {
   "cell_type": "code",
   "execution_count": 52,
   "id": "40a0c948",
   "metadata": {},
   "outputs": [
    {
     "name": "stdout",
     "output_type": "stream",
     "text": [
      "['Apple', 'Banana', 'Orange', 'Mango']\n"
     ]
    }
   ],
   "source": [
    "c=a9.split(\"-\")\n",
    "print(c)"
   ]
  },
  {
   "cell_type": "code",
   "execution_count": 53,
   "id": "2d3c71a7",
   "metadata": {},
   "outputs": [
    {
     "data": {
      "text/plain": [
       "4"
      ]
     },
     "execution_count": 53,
     "metadata": {},
     "output_type": "execute_result"
    }
   ],
   "source": [
    "len(c)"
   ]
  },
  {
   "cell_type": "code",
   "execution_count": 55,
   "id": "5e048ae3",
   "metadata": {},
   "outputs": [
    {
     "name": "stdout",
     "output_type": "stream",
     "text": [
      "Apple\n"
     ]
    }
   ],
   "source": [
    "c1=c[0]\n",
    "print(c1)"
   ]
  },
  {
   "cell_type": "markdown",
   "id": "6b938517",
   "metadata": {},
   "source": [
    "### replace"
   ]
  },
  {
   "cell_type": "code",
   "execution_count": 57,
   "id": "bf24d86d",
   "metadata": {},
   "outputs": [
    {
     "data": {
      "text/plain": [
       "'Kiwi-Banana-Orange-Mango'"
      ]
     },
     "execution_count": 57,
     "metadata": {},
     "output_type": "execute_result"
    }
   ],
   "source": [
    "a9.replace(\"Apple\",\"Kiwi\")"
   ]
  },
  {
   "attachments": {},
   "cell_type": "markdown",
   "id": "97a37aa6",
   "metadata": {},
   "source": [
    "### partition\n",
    "    \t\t  It perform only one split and return 3 values.\n",
    "\t\t\t  1st value- Delimiter\n",
    "\t\t\t  2nd value- Left side of the delimiter\n",
    "\t\t\t  3rd value- Right side od the delimiter\n",
    "\t\t\t  Delimiter is there.\n",
    "\t\t\t  It come in Tuple format\n",
    "\t\t\t \n",
    "\t\t\t      S=ORANGE BANANA APPLE GRAPES APPLES KIWI\n",
    "\t\t\t      S.split(“APPLE”)\n",
    "    S.partition(“APPLE”)- ORANGE BANANA ‘APPLE’ GRAPES APPLE KIWI"
   ]
  },
  {
   "cell_type": "code",
   "execution_count": 58,
   "id": "7588cfab",
   "metadata": {},
   "outputs": [
    {
     "name": "stdout",
     "output_type": "stream",
     "text": [
      "ORANGE BANANA APPLE GRAPES  KIWI\n"
     ]
    }
   ],
   "source": [
    "a10=\"ORANGE BANANA APPLE GRAPES  KIWI\"\n",
    "print(a10)"
   ]
  },
  {
   "cell_type": "code",
   "execution_count": 59,
   "id": "86fa7510",
   "metadata": {},
   "outputs": [
    {
     "data": {
      "text/plain": [
       "('ORANGE BANANA ', 'APPLE', ' GRAPES  KIWI')"
      ]
     },
     "execution_count": 59,
     "metadata": {},
     "output_type": "execute_result"
    }
   ],
   "source": [
    "a10.partition(\"APPLE\")"
   ]
  },
  {
   "cell_type": "markdown",
   "id": "d0682d04",
   "metadata": {},
   "source": [
    "### rpartition"
   ]
  },
  {
   "cell_type": "code",
   "execution_count": 60,
   "id": "bf99883f",
   "metadata": {},
   "outputs": [
    {
     "name": "stdout",
     "output_type": "stream",
     "text": [
      "Blue Green Black Yellow White Black Pink Purple\n"
     ]
    }
   ],
   "source": [
    "a11=\"Blue Green Black Yellow White Black Pink Purple\"\n",
    "print(a11)"
   ]
  },
  {
   "cell_type": "code",
   "execution_count": 61,
   "id": "3d01787f",
   "metadata": {},
   "outputs": [
    {
     "data": {
      "text/plain": [
       "('Blue Green ', 'Black', ' Yellow White Black Pink Purple')"
      ]
     },
     "execution_count": 61,
     "metadata": {},
     "output_type": "execute_result"
    }
   ],
   "source": [
    "a11.partition(\"Black\")"
   ]
  },
  {
   "cell_type": "code",
   "execution_count": 62,
   "id": "09514da8",
   "metadata": {},
   "outputs": [
    {
     "data": {
      "text/plain": [
       "('Blue Green Black Yellow White ', 'Black', ' Pink Purple')"
      ]
     },
     "execution_count": 62,
     "metadata": {},
     "output_type": "execute_result"
    }
   ],
   "source": [
    "a11.rpartition(\"Black\")"
   ]
  },
  {
   "cell_type": "markdown",
   "id": "00bd5ae0",
   "metadata": {},
   "source": [
    "### join"
   ]
  },
  {
   "cell_type": "code",
   "execution_count": 63,
   "id": "f9709253",
   "metadata": {},
   "outputs": [
    {
     "name": "stdout",
     "output_type": "stream",
     "text": [
      "('Blue', 'Green', 'Red', 'Blue')\n"
     ]
    }
   ],
   "source": [
    "a12=(\"Blue\",\"Green\",\"Red\",\"Blue\")\n",
    "print(a12)"
   ]
  },
  {
   "cell_type": "code",
   "execution_count": 64,
   "id": "6c8d0d03",
   "metadata": {},
   "outputs": [
    {
     "data": {
      "text/plain": [
       "'Blue-Green-Red-Blue'"
      ]
     },
     "execution_count": 64,
     "metadata": {},
     "output_type": "execute_result"
    }
   ],
   "source": [
    "\"-\".join(a12)"
   ]
  },
  {
   "cell_type": "code",
   "execution_count": 66,
   "id": "302b35a5",
   "metadata": {},
   "outputs": [
    {
     "data": {
      "text/plain": [
       "'A-R-J-U-N'"
      ]
     },
     "execution_count": 66,
     "metadata": {},
     "output_type": "execute_result"
    }
   ],
   "source": [
    "\"-\".join(\"ARJUN\")"
   ]
  },
  {
   "cell_type": "markdown",
   "id": "38d58157",
   "metadata": {},
   "source": [
    "### is"
   ]
  },
  {
   "cell_type": "markdown",
   "id": "764de6d2",
   "metadata": {},
   "source": [
    "### istitle"
   ]
  },
  {
   "cell_type": "code",
   "execution_count": 67,
   "id": "9066d16a",
   "metadata": {},
   "outputs": [
    {
     "name": "stdout",
     "output_type": "stream",
     "text": [
      "Sky IS Blue\n"
     ]
    }
   ],
   "source": [
    "s=\"Sky IS Blue\"\n",
    "print(s)"
   ]
  },
  {
   "cell_type": "code",
   "execution_count": 68,
   "id": "169db686",
   "metadata": {},
   "outputs": [
    {
     "data": {
      "text/plain": [
       "False"
      ]
     },
     "execution_count": 68,
     "metadata": {},
     "output_type": "execute_result"
    }
   ],
   "source": [
    "s.istitle()"
   ]
  },
  {
   "cell_type": "code",
   "execution_count": 69,
   "id": "d80766cc",
   "metadata": {},
   "outputs": [
    {
     "name": "stdout",
     "output_type": "stream",
     "text": [
      "Sky Is Blue\n"
     ]
    }
   ],
   "source": [
    "s1=\"Sky Is Blue\"\n",
    "print(s1)"
   ]
  },
  {
   "cell_type": "code",
   "execution_count": 71,
   "id": "dcf180e7",
   "metadata": {},
   "outputs": [
    {
     "data": {
      "text/plain": [
       "True"
      ]
     },
     "execution_count": 71,
     "metadata": {},
     "output_type": "execute_result"
    }
   ],
   "source": [
    "s1.istitle()"
   ]
  },
  {
   "cell_type": "markdown",
   "id": "049cbec8",
   "metadata": {},
   "source": [
    "### isupper"
   ]
  },
  {
   "cell_type": "code",
   "execution_count": 73,
   "id": "4b1be373",
   "metadata": {},
   "outputs": [
    {
     "data": {
      "text/plain": [
       "'Sky IS Blue'"
      ]
     },
     "execution_count": 73,
     "metadata": {},
     "output_type": "execute_result"
    }
   ],
   "source": [
    "s1=\"Sky IS Blue\"\n",
    "s1"
   ]
  },
  {
   "cell_type": "code",
   "execution_count": 74,
   "id": "3a3ff236",
   "metadata": {},
   "outputs": [
    {
     "data": {
      "text/plain": [
       "False"
      ]
     },
     "execution_count": 74,
     "metadata": {},
     "output_type": "execute_result"
    }
   ],
   "source": [
    "s1.isupper()"
   ]
  },
  {
   "cell_type": "code",
   "execution_count": 75,
   "id": "b7400c06",
   "metadata": {},
   "outputs": [
    {
     "data": {
      "text/plain": [
       "'SKY IS BLUE'"
      ]
     },
     "execution_count": 75,
     "metadata": {},
     "output_type": "execute_result"
    }
   ],
   "source": [
    "s2=\"SKY IS BLUE\"\n",
    "s2"
   ]
  },
  {
   "cell_type": "code",
   "execution_count": 76,
   "id": "262cbdae",
   "metadata": {},
   "outputs": [
    {
     "data": {
      "text/plain": [
       "True"
      ]
     },
     "execution_count": 76,
     "metadata": {},
     "output_type": "execute_result"
    }
   ],
   "source": [
    "s2.isupper()"
   ]
  },
  {
   "cell_type": "markdown",
   "id": "f64185a2",
   "metadata": {},
   "source": [
    "### islower"
   ]
  },
  {
   "cell_type": "code",
   "execution_count": 77,
   "id": "8bca402d",
   "metadata": {},
   "outputs": [
    {
     "data": {
      "text/plain": [
       "'Sky IS Blue'"
      ]
     },
     "execution_count": 77,
     "metadata": {},
     "output_type": "execute_result"
    }
   ],
   "source": [
    "s1"
   ]
  },
  {
   "cell_type": "code",
   "execution_count": 79,
   "id": "7d478616",
   "metadata": {},
   "outputs": [
    {
     "data": {
      "text/plain": [
       "False"
      ]
     },
     "execution_count": 79,
     "metadata": {},
     "output_type": "execute_result"
    }
   ],
   "source": [
    "s1.islower()"
   ]
  },
  {
   "cell_type": "code",
   "execution_count": 80,
   "id": "3a8a42be",
   "metadata": {},
   "outputs": [
    {
     "data": {
      "text/plain": [
       "'sky is blue'"
      ]
     },
     "execution_count": 80,
     "metadata": {},
     "output_type": "execute_result"
    }
   ],
   "source": [
    "s3=\"sky is blue\"\n",
    "s3"
   ]
  },
  {
   "cell_type": "code",
   "execution_count": 81,
   "id": "f338202d",
   "metadata": {},
   "outputs": [
    {
     "data": {
      "text/plain": [
       "True"
      ]
     },
     "execution_count": 81,
     "metadata": {},
     "output_type": "execute_result"
    }
   ],
   "source": [
    "s3.islower()"
   ]
  },
  {
   "cell_type": "markdown",
   "id": "1ea3cfba",
   "metadata": {},
   "source": [
    "### isalpha"
   ]
  },
  {
   "cell_type": "code",
   "execution_count": 82,
   "id": "42a3a2b4",
   "metadata": {},
   "outputs": [
    {
     "data": {
      "text/plain": [
       "'Sky IS Blue'"
      ]
     },
     "execution_count": 82,
     "metadata": {},
     "output_type": "execute_result"
    }
   ],
   "source": [
    "s1"
   ]
  },
  {
   "cell_type": "code",
   "execution_count": 83,
   "id": "20840a4a",
   "metadata": {},
   "outputs": [
    {
     "data": {
      "text/plain": [
       "False"
      ]
     },
     "execution_count": 83,
     "metadata": {},
     "output_type": "execute_result"
    }
   ],
   "source": [
    "s1.isalpha()"
   ]
  },
  {
   "cell_type": "code",
   "execution_count": 84,
   "id": "08adb340",
   "metadata": {},
   "outputs": [
    {
     "data": {
      "text/plain": [
       "'APPLE'"
      ]
     },
     "execution_count": 84,
     "metadata": {},
     "output_type": "execute_result"
    }
   ],
   "source": [
    "s4=\"APPLE\"\n",
    "s4"
   ]
  },
  {
   "cell_type": "code",
   "execution_count": 85,
   "id": "c8987980",
   "metadata": {},
   "outputs": [
    {
     "data": {
      "text/plain": [
       "True"
      ]
     },
     "execution_count": 85,
     "metadata": {},
     "output_type": "execute_result"
    }
   ],
   "source": [
    "s4.isalpha()"
   ]
  },
  {
   "cell_type": "code",
   "execution_count": 86,
   "id": "089c6f23",
   "metadata": {},
   "outputs": [
    {
     "data": {
      "text/plain": [
       "'SKY IS BLUE'"
      ]
     },
     "execution_count": 86,
     "metadata": {},
     "output_type": "execute_result"
    }
   ],
   "source": [
    "s2"
   ]
  },
  {
   "cell_type": "code",
   "execution_count": 87,
   "id": "8e439f70",
   "metadata": {},
   "outputs": [
    {
     "data": {
      "text/plain": [
       "False"
      ]
     },
     "execution_count": 87,
     "metadata": {},
     "output_type": "execute_result"
    }
   ],
   "source": [
    "s2.isalpha()"
   ]
  },
  {
   "cell_type": "markdown",
   "id": "2e6594cb",
   "metadata": {},
   "source": [
    "### isdigit"
   ]
  },
  {
   "cell_type": "code",
   "execution_count": 88,
   "id": "a8e5d8e5",
   "metadata": {},
   "outputs": [
    {
     "data": {
      "text/plain": [
       "'Sky IS Blue'"
      ]
     },
     "execution_count": 88,
     "metadata": {},
     "output_type": "execute_result"
    }
   ],
   "source": [
    "s1"
   ]
  },
  {
   "cell_type": "code",
   "execution_count": 89,
   "id": "725377fb",
   "metadata": {},
   "outputs": [
    {
     "data": {
      "text/plain": [
       "False"
      ]
     },
     "execution_count": 89,
     "metadata": {},
     "output_type": "execute_result"
    }
   ],
   "source": [
    "s1.isdigit()"
   ]
  },
  {
   "cell_type": "code",
   "execution_count": 90,
   "id": "8777d86b",
   "metadata": {},
   "outputs": [
    {
     "data": {
      "text/plain": [
       "'12567'"
      ]
     },
     "execution_count": 90,
     "metadata": {},
     "output_type": "execute_result"
    }
   ],
   "source": [
    "s5=\"12567\"\n",
    "s5"
   ]
  },
  {
   "cell_type": "code",
   "execution_count": 91,
   "id": "2fb0940f",
   "metadata": {},
   "outputs": [
    {
     "data": {
      "text/plain": [
       "True"
      ]
     },
     "execution_count": 91,
     "metadata": {},
     "output_type": "execute_result"
    }
   ],
   "source": [
    "s5.isdigit()"
   ]
  },
  {
   "cell_type": "code",
   "execution_count": null,
   "id": "eee2a498",
   "metadata": {},
   "outputs": [],
   "source": []
  }
 ],
 "metadata": {
  "kernelspec": {
   "display_name": "Python 3 (ipykernel)",
   "language": "python",
   "name": "python3"
  },
  "language_info": {
   "codemirror_mode": {
    "name": "ipython",
    "version": 3
   },
   "file_extension": ".py",
   "mimetype": "text/x-python",
   "name": "python",
   "nbconvert_exporter": "python",
   "pygments_lexer": "ipython3",
   "version": "3.9.13"
  }
 },
 "nbformat": 4,
 "nbformat_minor": 5
}
