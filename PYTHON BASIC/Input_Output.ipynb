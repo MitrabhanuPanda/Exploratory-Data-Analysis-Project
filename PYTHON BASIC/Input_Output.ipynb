{
 "cells": [
  {
   "cell_type": "markdown",
   "id": "d1fe4757",
   "metadata": {},
   "source": [
    "### Input"
   ]
  },
  {
   "cell_type": "code",
   "execution_count": 2,
   "id": "867aff6b",
   "metadata": {},
   "outputs": [
    {
     "name": "stdout",
     "output_type": "stream",
     "text": [
      "Enter a Number:10\n",
      "Enter second Number:20\n",
      "1020\n"
     ]
    }
   ],
   "source": [
    "n1=input(\"Enter a Number:\")\n",
    "n2=input(\"Enter second Number:\")\n",
    "\n",
    "res=n1+n2\n",
    "print(res)"
   ]
  },
  {
   "cell_type": "markdown",
   "id": "98cff7d0",
   "metadata": {},
   "source": [
    "### Output"
   ]
  },
  {
   "cell_type": "code",
   "execution_count": 4,
   "id": "c267aa15",
   "metadata": {},
   "outputs": [
    {
     "name": "stdout",
     "output_type": "stream",
     "text": [
      "welcome to python\n"
     ]
    }
   ],
   "source": [
    "print(\"welcome to python\")"
   ]
  },
  {
   "cell_type": "code",
   "execution_count": null,
   "id": "25f4e753",
   "metadata": {},
   "outputs": [],
   "source": []
  }
 ],
 "metadata": {
  "kernelspec": {
   "display_name": "Python 3 (ipykernel)",
   "language": "python",
   "name": "python3"
  },
  "language_info": {
   "codemirror_mode": {
    "name": "ipython",
    "version": 3
   },
   "file_extension": ".py",
   "mimetype": "text/x-python",
   "name": "python",
   "nbconvert_exporter": "python",
   "pygments_lexer": "ipython3",
   "version": "3.9.13"
  }
 },
 "nbformat": 4,
 "nbformat_minor": 5
}
