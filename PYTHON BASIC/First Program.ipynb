{
 "cells": [
  {
   "cell_type": "markdown",
   "id": "8e2127bb",
   "metadata": {},
   "source": [
    "### First Program"
   ]
  },
  {
   "cell_type": "code",
   "execution_count": 1,
   "id": "02fa5254",
   "metadata": {},
   "outputs": [
    {
     "name": "stdout",
     "output_type": "stream",
     "text": [
      "Python\n"
     ]
    }
   ],
   "source": [
    "print(\"Python\")"
   ]
  },
  {
   "cell_type": "markdown",
   "id": "081e15b3",
   "metadata": {},
   "source": [
    "### How to print Blank lines "
   ]
  },
  {
   "cell_type": "code",
   "execution_count": 8,
   "id": "b075f155",
   "metadata": {},
   "outputs": [
    {
     "name": "stdout",
     "output_type": "stream",
     "text": [
      "\n",
      "\n",
      "\n",
      "\n",
      "\n"
     ]
    }
   ],
   "source": [
    "print(4*\"\\n\") # 4 blank lines"
   ]
  },
  {
   "cell_type": "code",
   "execution_count": 9,
   "id": "d8a33af8",
   "metadata": {},
   "outputs": [
    {
     "name": "stdout",
     "output_type": "stream",
     "text": [
      "Hello,Good Morning\n",
      "\n",
      "\n",
      "\n",
      "\n",
      "\n",
      "\n",
      "Byee\n"
     ]
    }
   ],
   "source": [
    "print(\"Hello,Good Morning\")\n",
    "print(5*\"\\n\")\n",
    "print(\"Byee\")"
   ]
  },
  {
   "attachments": {},
   "cell_type": "markdown",
   "id": "f2b5c646",
   "metadata": {},
   "source": [
    "### print()\n",
    "    \t·  The print() function in Python is used to print a specified message on the screen. The print command in   Python prints strings or objects which are converted to a string while printing on a screen.\n",
    "\t· Suntax;-\n",
    "    print(Objects)"
   ]
  },
  {
   "cell_type": "code",
   "execution_count": 125,
   "id": "2f78fb4b",
   "metadata": {},
   "outputs": [
    {
     "name": "stdout",
     "output_type": "stream",
     "text": [
      "fruit\n"
     ]
    }
   ],
   "source": [
    "print(\"fruit\")"
   ]
  },
  {
   "cell_type": "code",
   "execution_count": 126,
   "id": "beb9be01",
   "metadata": {},
   "outputs": [
    {
     "name": "stdout",
     "output_type": "stream",
     "text": [
      "23\n"
     ]
    }
   ],
   "source": [
    "print(23)"
   ]
  },
  {
   "attachments": {},
   "cell_type": "markdown",
   "id": "2fb775af",
   "metadata": {},
   "source": [
    "### Variables\n",
    "    \t· A Python variable is a reserved memory location to store values. In other words, a variable in a python program gives data to the computer for processing.\n",
    "\tEg: a=10, Here 'a' is variable\n",
    "\t\n",
    "        . There are two types of variables in Python, Global variable and Local variable. When you want to use the same variable for rest of your program or module you declare it as a global variable, while if you want to use the variable in a specific function or method, you use a local variable while Python variable declaration.![image.png](attachment:image.png)"
   ]
  },
  {
   "cell_type": "markdown",
   "id": "b1d03e57",
   "metadata": {},
   "source": [
    "### Properties Of Variables\n",
    "    .A variable name must start with a letter or underscore.(eg- Ap_lt, ar)\n",
    "    .A variable name cannot start with a number.(eg-12ac)\n",
    "    .A variable name can only contain alpha-numerica characters and underscore.(ab12,cd_23)\n",
    "    .Variables name are case-sensitive.(eg-CRR,Crr,crr these three are different)\n",
    "    .The reserved keywords cannot be used naming the variable.(eg- if,in)"
   ]
  },
  {
   "attachments": {},
   "cell_type": "markdown",
   "id": "39bdcaf1",
   "metadata": {},
   "source": [
    "  ### Print end Command\n",
    "          Uses of 'end'\n",
    "          By default, print function in Python ends with a newline. This function comes with a parameter called ‘end.’ The default value of this parameter is ‘\\n,’ i.e., the new line character. You can end a print statement with any character or string using this parameter."
   ]
  },
  {
   "cell_type": "code",
   "execution_count": 10,
   "id": "b66cffeb",
   "metadata": {},
   "outputs": [
    {
     "name": "stdout",
     "output_type": "stream",
     "text": [
      "Welcome to Python3+"
     ]
    }
   ],
   "source": [
    "print(\"Welcome to Python\",end=\"3+\") # Uses of end function"
   ]
  },
  {
   "cell_type": "code",
   "execution_count": 11,
   "id": "40d49e01",
   "metadata": {},
   "outputs": [
    {
     "name": "stdout",
     "output_type": "stream",
     "text": [
      "How r u?"
     ]
    }
   ],
   "source": [
    "print(\"How r u\",end=\"?\")"
   ]
  },
  {
   "cell_type": "markdown",
   "id": "b087d775",
   "metadata": {},
   "source": [
    "### Keyword List"
   ]
  },
  {
   "cell_type": "code",
   "execution_count": 18,
   "id": "bd79fc3b",
   "metadata": {},
   "outputs": [
    {
     "data": {
      "text/plain": [
       "['False',\n",
       " 'None',\n",
       " 'True',\n",
       " '__peg_parser__',\n",
       " 'and',\n",
       " 'as',\n",
       " 'assert',\n",
       " 'async',\n",
       " 'await',\n",
       " 'break',\n",
       " 'class',\n",
       " 'continue',\n",
       " 'def',\n",
       " 'del',\n",
       " 'elif',\n",
       " 'else',\n",
       " 'except',\n",
       " 'finally',\n",
       " 'for',\n",
       " 'from',\n",
       " 'global',\n",
       " 'if',\n",
       " 'import',\n",
       " 'in',\n",
       " 'is',\n",
       " 'lambda',\n",
       " 'nonlocal',\n",
       " 'not',\n",
       " 'or',\n",
       " 'pass',\n",
       " 'raise',\n",
       " 'return',\n",
       " 'try',\n",
       " 'while',\n",
       " 'with',\n",
       " 'yield']"
      ]
     },
     "execution_count": 18,
     "metadata": {},
     "output_type": "execute_result"
    }
   ],
   "source": [
    "keyword.kwlist"
   ]
  },
  {
   "cell_type": "code",
   "execution_count": 19,
   "id": "e855ce0d",
   "metadata": {},
   "outputs": [
    {
     "data": {
      "text/plain": [
       "36"
      ]
     },
     "execution_count": 19,
     "metadata": {},
     "output_type": "execute_result"
    }
   ],
   "source": [
    "len(keyword.kwlist)"
   ]
  },
  {
   "cell_type": "markdown",
   "id": "5f75a013",
   "metadata": {},
   "source": [
    "### ord() & chr()"
   ]
  },
  {
   "cell_type": "code",
   "execution_count": 20,
   "id": "72f1a211",
   "metadata": {},
   "outputs": [
    {
     "data": {
      "text/plain": [
       "97"
      ]
     },
     "execution_count": 20,
     "metadata": {},
     "output_type": "execute_result"
    }
   ],
   "source": [
    "ord('a') # uses of ord function.It depends on ASCII Value."
   ]
  },
  {
   "cell_type": "code",
   "execution_count": 21,
   "id": "57bbbf55",
   "metadata": {},
   "outputs": [
    {
     "data": {
      "text/plain": [
       "65"
      ]
     },
     "execution_count": 21,
     "metadata": {},
     "output_type": "execute_result"
    }
   ],
   "source": [
    "ord('A')"
   ]
  },
  {
   "cell_type": "code",
   "execution_count": 23,
   "id": "754db95e",
   "metadata": {},
   "outputs": [
    {
     "data": {
      "text/plain": [
       "'N'"
      ]
     },
     "execution_count": 23,
     "metadata": {},
     "output_type": "execute_result"
    }
   ],
   "source": [
    "chr(78) # uses of chr function."
   ]
  },
  {
   "cell_type": "code",
   "execution_count": 25,
   "id": "a4f4b73f",
   "metadata": {},
   "outputs": [
    {
     "data": {
      "text/plain": [
       "'8'"
      ]
     },
     "execution_count": 25,
     "metadata": {},
     "output_type": "execute_result"
    }
   ],
   "source": [
    "chr(56)"
   ]
  },
  {
   "cell_type": "code",
   "execution_count": 26,
   "id": "a2be45ee",
   "metadata": {},
   "outputs": [
    {
     "data": {
      "text/plain": [
       "'a'"
      ]
     },
     "execution_count": 26,
     "metadata": {},
     "output_type": "execute_result"
    }
   ],
   "source": [
    "chr(97)"
   ]
  },
  {
   "cell_type": "markdown",
   "id": "41cd1b76",
   "metadata": {},
   "source": [
    "### type()\n",
    "    It gives the type of the value"
   ]
  },
  {
   "cell_type": "code",
   "execution_count": 119,
   "id": "b43464dd",
   "metadata": {},
   "outputs": [
    {
     "name": "stdout",
     "output_type": "stream",
     "text": [
      "18\n"
     ]
    },
    {
     "data": {
      "text/plain": [
       "int"
      ]
     },
     "execution_count": 119,
     "metadata": {},
     "output_type": "execute_result"
    }
   ],
   "source": [
    "a=18\n",
    "print(a)\n",
    "type(a)"
   ]
  },
  {
   "cell_type": "code",
   "execution_count": 120,
   "id": "67b263f4",
   "metadata": {},
   "outputs": [
    {
     "name": "stdout",
     "output_type": "stream",
     "text": [
      "Apple\n"
     ]
    },
    {
     "data": {
      "text/plain": [
       "str"
      ]
     },
     "execution_count": 120,
     "metadata": {},
     "output_type": "execute_result"
    }
   ],
   "source": [
    "b=\"Apple\"\n",
    "print(b)\n",
    "type(b)"
   ]
  },
  {
   "cell_type": "markdown",
   "id": "20083018",
   "metadata": {},
   "source": [
    "### id()\n",
    "    It gives the memory location of values."
   ]
  },
  {
   "cell_type": "code",
   "execution_count": 121,
   "id": "b08bc337",
   "metadata": {},
   "outputs": [
    {
     "name": "stdout",
     "output_type": "stream",
     "text": [
      "18\n"
     ]
    },
    {
     "data": {
      "text/plain": [
       "2706258422608"
      ]
     },
     "execution_count": 121,
     "metadata": {},
     "output_type": "execute_result"
    }
   ],
   "source": [
    "c=18\n",
    "print(c)\n",
    "id(c)"
   ]
  },
  {
   "cell_type": "code",
   "execution_count": 122,
   "id": "5bdddc8f",
   "metadata": {},
   "outputs": [
    {
     "name": "stdout",
     "output_type": "stream",
     "text": [
      "Ball\n"
     ]
    },
    {
     "data": {
      "text/plain": [
       "2706375129008"
      ]
     },
     "execution_count": 122,
     "metadata": {},
     "output_type": "execute_result"
    }
   ],
   "source": [
    "d=\"Ball\"\n",
    "print(d)\n",
    "id(d)"
   ]
  },
  {
   "cell_type": "markdown",
   "id": "e0a906ca",
   "metadata": {},
   "source": [
    "### len()\n",
    "    It gives the length of a string."
   ]
  },
  {
   "cell_type": "code",
   "execution_count": 124,
   "id": "e9b0f712",
   "metadata": {},
   "outputs": [
    {
     "name": "stdout",
     "output_type": "stream",
     "text": [
      "Football\n"
     ]
    },
    {
     "data": {
      "text/plain": [
       "8"
      ]
     },
     "execution_count": 124,
     "metadata": {},
     "output_type": "execute_result"
    }
   ],
   "source": [
    "a1=\"Football\"\n",
    "print(a1)\n",
    "len(a1)"
   ]
  },
  {
   "cell_type": "markdown",
   "id": "d825e772",
   "metadata": {},
   "source": [
    "# Data Types\n",
    "## Fundamental Data Types"
   ]
  },
  {
   "attachments": {},
   "cell_type": "markdown",
   "id": "b6bb68de",
   "metadata": {},
   "source": [
    "### 1. Integer\n",
    "        +ve/-ve/0 numbers\n",
    "\t\tDecimal\n",
    "\t\tOctal\n",
    "\t\tHexadecimal\n",
    "\t\tBinary"
   ]
  },
  {
   "cell_type": "code",
   "execution_count": 43,
   "id": "17278f2b",
   "metadata": {},
   "outputs": [
    {
     "data": {
      "text/plain": [
       "18"
      ]
     },
     "execution_count": 43,
     "metadata": {},
     "output_type": "execute_result"
    }
   ],
   "source": [
    "a=18\n",
    "a"
   ]
  },
  {
   "cell_type": "code",
   "execution_count": 75,
   "id": "3eb993e6",
   "metadata": {},
   "outputs": [
    {
     "data": {
      "text/plain": [
       "24"
      ]
     },
     "execution_count": 75,
     "metadata": {},
     "output_type": "execute_result"
    }
   ],
   "source": [
    "int(24.45) # Float to int"
   ]
  },
  {
   "cell_type": "code",
   "execution_count": 76,
   "id": "4a15aa6b",
   "metadata": {},
   "outputs": [
    {
     "data": {
      "text/plain": [
       "1"
      ]
     },
     "execution_count": 76,
     "metadata": {},
     "output_type": "execute_result"
    }
   ],
   "source": [
    "int(True) #Boolean to int"
   ]
  },
  {
   "cell_type": "code",
   "execution_count": 77,
   "id": "d1bcfa70",
   "metadata": {},
   "outputs": [
    {
     "data": {
      "text/plain": [
       "28"
      ]
     },
     "execution_count": 77,
     "metadata": {},
     "output_type": "execute_result"
    }
   ],
   "source": [
    "int(0o34) # Octal to Integer"
   ]
  },
  {
   "cell_type": "code",
   "execution_count": 78,
   "id": "f6d4a3a8",
   "metadata": {},
   "outputs": [
    {
     "data": {
      "text/plain": [
       "35"
      ]
     },
     "execution_count": 78,
     "metadata": {},
     "output_type": "execute_result"
    }
   ],
   "source": [
    "int(0x23) # Hexadecimal to Integer"
   ]
  },
  {
   "cell_type": "code",
   "execution_count": 80,
   "id": "e83abdec",
   "metadata": {},
   "outputs": [
    {
     "data": {
      "text/plain": [
       "3"
      ]
     },
     "execution_count": 80,
     "metadata": {},
     "output_type": "execute_result"
    }
   ],
   "source": [
    "int(0b011) # Binary to Integer"
   ]
  },
  {
   "cell_type": "code",
   "execution_count": null,
   "id": "40bfa947",
   "metadata": {},
   "outputs": [],
   "source": [
    "# int(23+56j) # Complex cannot be converted to Integer"
   ]
  },
  {
   "attachments": {},
   "cell_type": "markdown",
   "id": "1fc07aad",
   "metadata": {},
   "source": [
    "### 1.1. Decimal\n",
    "          Default form of numbering which can be used in our life.\n",
    "          Numbers: 0,1,2,3,4,5,6,7,8,9\n",
    "\t\t  Print() is used to convert in decimal form.\n",
    "          Eg: 99,12,20"
   ]
  },
  {
   "cell_type": "code",
   "execution_count": 42,
   "id": "98ef8832",
   "metadata": {},
   "outputs": [
    {
     "data": {
      "text/plain": [
       "99"
      ]
     },
     "execution_count": 42,
     "metadata": {},
     "output_type": "execute_result"
    }
   ],
   "source": [
    "a1=99\n",
    "a1"
   ]
  },
  {
   "cell_type": "code",
   "execution_count": 64,
   "id": "f3f50fcd",
   "metadata": {},
   "outputs": [
    {
     "name": "stdout",
     "output_type": "stream",
     "text": [
      "10\n"
     ]
    }
   ],
   "source": [
    "print(0o12) # Octal to Decimal"
   ]
  },
  {
   "cell_type": "code",
   "execution_count": 74,
   "id": "99876963",
   "metadata": {},
   "outputs": [
    {
     "name": "stdout",
     "output_type": "stream",
     "text": [
      "35\n"
     ]
    }
   ],
   "source": [
    "print(0x23) # Hexadecimal to Decimal"
   ]
  },
  {
   "cell_type": "code",
   "execution_count": 66,
   "id": "1ef8badb",
   "metadata": {},
   "outputs": [
    {
     "name": "stdout",
     "output_type": "stream",
     "text": [
      "6\n"
     ]
    }
   ],
   "source": [
    "print(0b110) # Binary to Decimal"
   ]
  },
  {
   "cell_type": "code",
   "execution_count": 69,
   "id": "cfa401e0",
   "metadata": {},
   "outputs": [
    {
     "name": "stdout",
     "output_type": "stream",
     "text": [
      "True\n"
     ]
    }
   ],
   "source": [
    "print(True) "
   ]
  },
  {
   "cell_type": "code",
   "execution_count": 70,
   "id": "40ec799c",
   "metadata": {},
   "outputs": [
    {
     "name": "stdout",
     "output_type": "stream",
     "text": [
      "24.54\n"
     ]
    }
   ],
   "source": [
    "print(24.54)"
   ]
  },
  {
   "attachments": {},
   "cell_type": "markdown",
   "id": "9f473317",
   "metadata": {},
   "source": [
    "### 1.2. Octal\n",
    "          Numbers which is represented with 8 digits starting 0 to 8.\n",
    "\t\t  Number: 0,1,2,3,4,5,6,7,8\n",
    "\t\t  Prefix: 0o/0O\n",
    "\t\t  Eg: 0o45/0O56\n",
    "          oct() is used to convert any form to octal form"
   ]
  },
  {
   "cell_type": "code",
   "execution_count": 35,
   "id": "adc7e315",
   "metadata": {},
   "outputs": [
    {
     "data": {
      "text/plain": [
       "56"
      ]
     },
     "execution_count": 35,
     "metadata": {},
     "output_type": "execute_result"
    }
   ],
   "source": [
    "a2=56\n",
    "a2"
   ]
  },
  {
   "cell_type": "code",
   "execution_count": 54,
   "id": "f1adcdca",
   "metadata": {},
   "outputs": [
    {
     "data": {
      "text/plain": [
       "'0o70'"
      ]
     },
     "execution_count": 54,
     "metadata": {},
     "output_type": "execute_result"
    }
   ],
   "source": [
    "oct(a2) # Decimal to octal"
   ]
  },
  {
   "cell_type": "code",
   "execution_count": 41,
   "id": "3f2896a3",
   "metadata": {},
   "outputs": [
    {
     "name": "stdout",
     "output_type": "stream",
     "text": [
      "56\n"
     ]
    }
   ],
   "source": [
    "print(0o70)"
   ]
  },
  {
   "cell_type": "code",
   "execution_count": 46,
   "id": "278a6fc9",
   "metadata": {},
   "outputs": [
    {
     "data": {
      "text/plain": [
       "'0o1'"
      ]
     },
     "execution_count": 46,
     "metadata": {},
     "output_type": "execute_result"
    }
   ],
   "source": [
    "oct(True) # Boolean to octal"
   ]
  },
  {
   "cell_type": "code",
   "execution_count": 47,
   "id": "4d4d25fc",
   "metadata": {},
   "outputs": [
    {
     "data": {
      "text/plain": [
       "'0o14'"
      ]
     },
     "execution_count": 47,
     "metadata": {},
     "output_type": "execute_result"
    }
   ],
   "source": [
    "oct(0b1100)  # Binary to octal"
   ]
  },
  {
   "cell_type": "code",
   "execution_count": 48,
   "id": "ca3b4401",
   "metadata": {},
   "outputs": [
    {
     "data": {
      "text/plain": [
       "'0o42'"
      ]
     },
     "execution_count": 48,
     "metadata": {},
     "output_type": "execute_result"
    }
   ],
   "source": [
    "oct(0x22)  # Hexadecimal to octal"
   ]
  },
  {
   "cell_type": "code",
   "execution_count": null,
   "id": "408fa6d8",
   "metadata": {},
   "outputs": [],
   "source": [
    "# oct(34.45) # Float cannot be converted to Octal"
   ]
  },
  {
   "attachments": {},
   "cell_type": "markdown",
   "id": "b8bc316a",
   "metadata": {},
   "source": [
    "### 1.3. Hexadecimal\n",
    "          Numbers which is represented with 16 digits.\n",
    "\t\t  Numbers: 0,1,2,3,4,5,6,7,8,9,A,B,C,D,E,F\n",
    "\t\t  Prefix: 0x/0X\n",
    "\t\t  Eg:  0x23/0X54\n",
    "          hex() is used to convert any form to hexadecimal form."
   ]
  },
  {
   "cell_type": "code",
   "execution_count": 49,
   "id": "dba5e67d",
   "metadata": {},
   "outputs": [
    {
     "data": {
      "text/plain": [
       "18"
      ]
     },
     "execution_count": 49,
     "metadata": {},
     "output_type": "execute_result"
    }
   ],
   "source": [
    "a3=18\n",
    "a3"
   ]
  },
  {
   "cell_type": "code",
   "execution_count": 50,
   "id": "a1385a5a",
   "metadata": {},
   "outputs": [
    {
     "data": {
      "text/plain": [
       "'0x12'"
      ]
     },
     "execution_count": 50,
     "metadata": {},
     "output_type": "execute_result"
    }
   ],
   "source": [
    "hex(18) # Decimal to Hexadecimal"
   ]
  },
  {
   "cell_type": "code",
   "execution_count": 51,
   "id": "433de4dc",
   "metadata": {},
   "outputs": [
    {
     "data": {
      "text/plain": [
       "'0x1'"
      ]
     },
     "execution_count": 51,
     "metadata": {},
     "output_type": "execute_result"
    }
   ],
   "source": [
    "hex(True) # Boolean to Hexadecimal"
   ]
  },
  {
   "cell_type": "code",
   "execution_count": 52,
   "id": "615b058b",
   "metadata": {},
   "outputs": [
    {
     "data": {
      "text/plain": [
       "'0xa'"
      ]
     },
     "execution_count": 52,
     "metadata": {},
     "output_type": "execute_result"
    }
   ],
   "source": [
    "hex(0o12) # Octal to hexadecimal"
   ]
  },
  {
   "cell_type": "code",
   "execution_count": 53,
   "id": "ae7f8399",
   "metadata": {},
   "outputs": [
    {
     "data": {
      "text/plain": [
       "'0x6'"
      ]
     },
     "execution_count": 53,
     "metadata": {},
     "output_type": "execute_result"
    }
   ],
   "source": [
    "hex(0b110) # Binary to Hexadecimal"
   ]
  },
  {
   "cell_type": "code",
   "execution_count": null,
   "id": "a3118bf9",
   "metadata": {},
   "outputs": [],
   "source": [
    "# hex(12.35) # float cannot be converted to Hexadecimal"
   ]
  },
  {
   "attachments": {},
   "cell_type": "markdown",
   "id": "d51b056f",
   "metadata": {},
   "source": [
    "###  1.4. Binary\n",
    "          Number combination of 0 and 1.\n",
    "\t\t  Number: 0,1\n",
    "\t\t  Prefix: 0b/0B\n",
    "\t\t  Eg: 0b0110,0b0011\n",
    "          bin() is used to convert any form to binary form"
   ]
  },
  {
   "cell_type": "code",
   "execution_count": 55,
   "id": "c48db643",
   "metadata": {},
   "outputs": [
    {
     "data": {
      "text/plain": [
       "8"
      ]
     },
     "execution_count": 55,
     "metadata": {},
     "output_type": "execute_result"
    }
   ],
   "source": [
    "a=8\n",
    "a"
   ]
  },
  {
   "cell_type": "code",
   "execution_count": 56,
   "id": "8330f8c8",
   "metadata": {},
   "outputs": [
    {
     "data": {
      "text/plain": [
       "'0b1000'"
      ]
     },
     "execution_count": 56,
     "metadata": {},
     "output_type": "execute_result"
    }
   ],
   "source": [
    "bin(8) # Decimal to Binary"
   ]
  },
  {
   "cell_type": "code",
   "execution_count": 57,
   "id": "3b10c5e9",
   "metadata": {},
   "outputs": [
    {
     "data": {
      "text/plain": [
       "'0b1010'"
      ]
     },
     "execution_count": 57,
     "metadata": {},
     "output_type": "execute_result"
    }
   ],
   "source": [
    "bin(0o12) # Octal to Binary"
   ]
  },
  {
   "cell_type": "code",
   "execution_count": 58,
   "id": "ee4e7631",
   "metadata": {},
   "outputs": [
    {
     "data": {
      "text/plain": [
       "'0b10010'"
      ]
     },
     "execution_count": 58,
     "metadata": {},
     "output_type": "execute_result"
    }
   ],
   "source": [
    "bin(0x12) # Hexadecimal to Binary"
   ]
  },
  {
   "cell_type": "code",
   "execution_count": 59,
   "id": "1addc4d2",
   "metadata": {},
   "outputs": [
    {
     "data": {
      "text/plain": [
       "'0b1'"
      ]
     },
     "execution_count": 59,
     "metadata": {},
     "output_type": "execute_result"
    }
   ],
   "source": [
    "bin(True) # Boolean to Binary"
   ]
  },
  {
   "cell_type": "code",
   "execution_count": null,
   "id": "242af038",
   "metadata": {},
   "outputs": [],
   "source": [
    "# bin(24.23) # Float cannot be converted to Binary"
   ]
  },
  {
   "attachments": {},
   "cell_type": "markdown",
   "id": "428f7590",
   "metadata": {},
   "source": [
    "###  2. FLOAT\n",
    "    \t  An integer with decimal point.\n",
    "\t\t  Float is used to get the accurate value using decimal point.\n",
    "\t\t  It can generate infinite number of values between any two number.\n",
    "\t\t  It can extract lower and higher value between any two n umber.\n",
    "          float() is used to convert to float form."
   ]
  },
  {
   "cell_type": "code",
   "execution_count": 82,
   "id": "5b1d7829",
   "metadata": {},
   "outputs": [
    {
     "data": {
      "text/plain": [
       "23.0"
      ]
     },
     "execution_count": 82,
     "metadata": {},
     "output_type": "execute_result"
    }
   ],
   "source": [
    "float(23) # Decimal to Float"
   ]
  },
  {
   "cell_type": "code",
   "execution_count": 83,
   "id": "31cb894a",
   "metadata": {},
   "outputs": [
    {
     "data": {
      "text/plain": [
       "10.0"
      ]
     },
     "execution_count": 83,
     "metadata": {},
     "output_type": "execute_result"
    }
   ],
   "source": [
    "float(0o12) # Octal to Float"
   ]
  },
  {
   "cell_type": "code",
   "execution_count": 84,
   "id": "fb0d5031",
   "metadata": {},
   "outputs": [
    {
     "data": {
      "text/plain": [
       "18.0"
      ]
     },
     "execution_count": 84,
     "metadata": {},
     "output_type": "execute_result"
    }
   ],
   "source": [
    "float(0x12) # Hexadecimal to Float"
   ]
  },
  {
   "cell_type": "code",
   "execution_count": 85,
   "id": "3cbce8da",
   "metadata": {},
   "outputs": [
    {
     "data": {
      "text/plain": [
       "1.0"
      ]
     },
     "execution_count": 85,
     "metadata": {},
     "output_type": "execute_result"
    }
   ],
   "source": [
    "float(True) # Boolean to Float"
   ]
  },
  {
   "cell_type": "code",
   "execution_count": 86,
   "id": "128d8419",
   "metadata": {},
   "outputs": [
    {
     "data": {
      "text/plain": [
       "3.0"
      ]
     },
     "execution_count": 86,
     "metadata": {},
     "output_type": "execute_result"
    }
   ],
   "source": [
    "float(0b11) # Binary to Float"
   ]
  },
  {
   "cell_type": "code",
   "execution_count": null,
   "id": "6311ca9f",
   "metadata": {},
   "outputs": [],
   "source": [
    "# float(34+21j) # Complex cannot be converted to Float"
   ]
  },
  {
   "attachments": {},
   "cell_type": "markdown",
   "id": "2af245e0",
   "metadata": {},
   "source": [
    "### BOOLEAN\n",
    "    \t  True/False[1/0]\n",
    "\t\t  bool() is used to convert to Boolean form.\n",
    "\t\t Numeric Value:\n",
    "\t\t\t  True: All non-zero number is consider as True.\n",
    "\t\t\t  False: Number is equal to zero. Eg: (0000)\n",
    "\t\tStrings:\n",
    "\t\t\t  True: All non-empty string is considered as True.\n",
    "              False: Empty string is considered as False. Eg: (\"\")"
   ]
  },
  {
   "cell_type": "code",
   "execution_count": 88,
   "id": "c29893cb",
   "metadata": {},
   "outputs": [
    {
     "data": {
      "text/plain": [
       "True"
      ]
     },
     "execution_count": 88,
     "metadata": {},
     "output_type": "execute_result"
    }
   ],
   "source": [
    "bool(23) # Decimal to Boolean"
   ]
  },
  {
   "cell_type": "code",
   "execution_count": 89,
   "id": "5af04902",
   "metadata": {},
   "outputs": [
    {
     "data": {
      "text/plain": [
       "True"
      ]
     },
     "execution_count": 89,
     "metadata": {},
     "output_type": "execute_result"
    }
   ],
   "source": [
    "bool(0b110) # Binary to Boolean"
   ]
  },
  {
   "cell_type": "code",
   "execution_count": 90,
   "id": "2c9beda6",
   "metadata": {},
   "outputs": [
    {
     "data": {
      "text/plain": [
       "True"
      ]
     },
     "execution_count": 90,
     "metadata": {},
     "output_type": "execute_result"
    }
   ],
   "source": [
    "bool(0o123) # Octal to Binary"
   ]
  },
  {
   "cell_type": "code",
   "execution_count": 91,
   "id": "1aeb1b31",
   "metadata": {},
   "outputs": [
    {
     "data": {
      "text/plain": [
       "True"
      ]
     },
     "execution_count": 91,
     "metadata": {},
     "output_type": "execute_result"
    }
   ],
   "source": [
    "bool(0x34) # Hexadecimal to Binary"
   ]
  },
  {
   "cell_type": "code",
   "execution_count": 92,
   "id": "7d8a9e53",
   "metadata": {},
   "outputs": [
    {
     "data": {
      "text/plain": [
       "True"
      ]
     },
     "execution_count": 92,
     "metadata": {},
     "output_type": "execute_result"
    }
   ],
   "source": [
    "bool(111) # All non-zero value"
   ]
  },
  {
   "cell_type": "code",
   "execution_count": 93,
   "id": "7894ab51",
   "metadata": {},
   "outputs": [
    {
     "data": {
      "text/plain": [
       "False"
      ]
     },
     "execution_count": 93,
     "metadata": {},
     "output_type": "execute_result"
    }
   ],
   "source": [
    "bool(000) # Number is equal to zero"
   ]
  },
  {
   "cell_type": "code",
   "execution_count": 98,
   "id": "c0fb125d",
   "metadata": {},
   "outputs": [
    {
     "data": {
      "text/plain": [
       "True"
      ]
     },
     "execution_count": 98,
     "metadata": {},
     "output_type": "execute_result"
    }
   ],
   "source": [
    "bool(\"Apple\") # All non-empty string"
   ]
  },
  {
   "cell_type": "code",
   "execution_count": 99,
   "id": "6e2a97cf",
   "metadata": {},
   "outputs": [
    {
     "data": {
      "text/plain": [
       "True"
      ]
     },
     "execution_count": 99,
     "metadata": {},
     "output_type": "execute_result"
    }
   ],
   "source": [
    "bool(\" \") # Space"
   ]
  },
  {
   "cell_type": "code",
   "execution_count": 100,
   "id": "0dc463e8",
   "metadata": {},
   "outputs": [
    {
     "data": {
      "text/plain": [
       "False"
      ]
     },
     "execution_count": 100,
     "metadata": {},
     "output_type": "execute_result"
    }
   ],
   "source": [
    "bool(\"\") # Empty string"
   ]
  },
  {
   "attachments": {},
   "cell_type": "markdown",
   "id": "36e9e1d4",
   "metadata": {},
   "source": [
    "### COMPLEX\n",
    "    \t\t Eg: 10+20j\n",
    "\t\t\t10=Real Value\n",
    "\t\t\t20=Imaginary Value\n",
    "\t\t\tj=Complex\n",
    "            complex() is used to convert any form to complex form."
   ]
  },
  {
   "cell_type": "code",
   "execution_count": 101,
   "id": "8fb5c69d",
   "metadata": {},
   "outputs": [
    {
     "data": {
      "text/plain": [
       "(23+0j)"
      ]
     },
     "execution_count": 101,
     "metadata": {},
     "output_type": "execute_result"
    }
   ],
   "source": [
    "complex(23) # Decimal to Complex"
   ]
  },
  {
   "cell_type": "code",
   "execution_count": 102,
   "id": "e697e6aa",
   "metadata": {},
   "outputs": [
    {
     "data": {
      "text/plain": [
       "(10+0j)"
      ]
     },
     "execution_count": 102,
     "metadata": {},
     "output_type": "execute_result"
    }
   ],
   "source": [
    "complex(0o12) # Octal to Complex"
   ]
  },
  {
   "cell_type": "code",
   "execution_count": 103,
   "id": "ac854686",
   "metadata": {},
   "outputs": [
    {
     "data": {
      "text/plain": [
       "(52+0j)"
      ]
     },
     "execution_count": 103,
     "metadata": {},
     "output_type": "execute_result"
    }
   ],
   "source": [
    "complex(0x34) # Hexadecimal to Complex"
   ]
  },
  {
   "cell_type": "code",
   "execution_count": 104,
   "id": "e6a2fcb5",
   "metadata": {},
   "outputs": [
    {
     "data": {
      "text/plain": [
       "(3+0j)"
      ]
     },
     "execution_count": 104,
     "metadata": {},
     "output_type": "execute_result"
    }
   ],
   "source": [
    "complex(0b011) # Binary to Complex"
   ]
  },
  {
   "cell_type": "code",
   "execution_count": 105,
   "id": "82422bac",
   "metadata": {},
   "outputs": [
    {
     "data": {
      "text/plain": [
       "(1+0j)"
      ]
     },
     "execution_count": 105,
     "metadata": {},
     "output_type": "execute_result"
    }
   ],
   "source": [
    "complex(True) # Boolean to Complex"
   ]
  },
  {
   "cell_type": "code",
   "execution_count": 106,
   "id": "67d1c143",
   "metadata": {},
   "outputs": [
    {
     "data": {
      "text/plain": [
       "(30.45+0j)"
      ]
     },
     "execution_count": 106,
     "metadata": {},
     "output_type": "execute_result"
    }
   ],
   "source": [
    "complex(30.45) # Float to Complex"
   ]
  },
  {
   "cell_type": "code",
   "execution_count": 107,
   "id": "182ab7bd",
   "metadata": {},
   "outputs": [
    {
     "data": {
      "text/plain": [
       "(23+0j)"
      ]
     },
     "execution_count": 107,
     "metadata": {},
     "output_type": "execute_result"
    }
   ],
   "source": [
    "complex(\"23\") # String Numeric to Complex"
   ]
  },
  {
   "cell_type": "markdown",
   "id": "14b3060a",
   "metadata": {},
   "source": [
    "### Some Point About Complex Data Type"
   ]
  },
  {
   "cell_type": "code",
   "execution_count": 109,
   "id": "033a3b9b",
   "metadata": {},
   "outputs": [
    {
     "data": {
      "text/plain": [
       "(23+34j)"
      ]
     },
     "execution_count": 109,
     "metadata": {},
     "output_type": "execute_result"
    }
   ],
   "source": [
    "complex(23,34) # 23 is real value, 34 is imaginary value"
   ]
  },
  {
   "cell_type": "code",
   "execution_count": 114,
   "id": "1322aade",
   "metadata": {},
   "outputs": [
    {
     "data": {
      "text/plain": [
       "0j"
      ]
     },
     "execution_count": 114,
     "metadata": {},
     "output_type": "execute_result"
    }
   ],
   "source": [
    "complex(False)"
   ]
  },
  {
   "cell_type": "code",
   "execution_count": 115,
   "id": "4d3534dd",
   "metadata": {},
   "outputs": [
    {
     "data": {
      "text/plain": [
       "(1+0j)"
      ]
     },
     "execution_count": 115,
     "metadata": {},
     "output_type": "execute_result"
    }
   ],
   "source": [
    "complex(True,False)"
   ]
  },
  {
   "cell_type": "code",
   "execution_count": 117,
   "id": "ba461709",
   "metadata": {},
   "outputs": [
    {
     "data": {
      "text/plain": [
       "(2.3+3.4j)"
      ]
     },
     "execution_count": 117,
     "metadata": {},
     "output_type": "execute_result"
    }
   ],
   "source": [
    "complex(2.3,3.4)"
   ]
  },
  {
   "cell_type": "code",
   "execution_count": null,
   "id": "842d3337",
   "metadata": {},
   "outputs": [],
   "source": [
    "# complex(\"23\",\"5j\")   Second Argument cannot be String"
   ]
  },
  {
   "cell_type": "code",
   "execution_count": null,
   "id": "bacab504",
   "metadata": {},
   "outputs": [],
   "source": [
    "# complex(\"45\",\"67j\")  Second Argument cannot be String"
   ]
  },
  {
   "cell_type": "code",
   "execution_count": null,
   "id": "0e374c7a",
   "metadata": {},
   "outputs": [],
   "source": []
  }
 ],
 "metadata": {
  "kernelspec": {
   "display_name": "Python 3 (ipykernel)",
   "language": "python",
   "name": "python3"
  },
  "language_info": {
   "codemirror_mode": {
    "name": "ipython",
    "version": 3
   },
   "file_extension": ".py",
   "mimetype": "text/x-python",
   "name": "python",
   "nbconvert_exporter": "python",
   "pygments_lexer": "ipython3",
   "version": "3.9.13"
  }
 },
 "nbformat": 4,
 "nbformat_minor": 5
}
