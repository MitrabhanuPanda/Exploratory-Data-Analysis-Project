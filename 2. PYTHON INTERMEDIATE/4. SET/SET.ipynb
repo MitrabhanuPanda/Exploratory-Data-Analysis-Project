{
 "cells": [
  {
   "cell_type": "markdown",
   "id": "c1b7f87e",
   "metadata": {},
   "source": [
    "<h1 style=\"text-align : center\"> <font color=\"red\" size=8>SET </h1>"
   ]
  },
  {
   "cell_type": "markdown",
   "id": "1c38932d",
   "metadata": {},
   "source": [
    "- A SET IS AN UNORDER COLLECTION OF ITEMS.\n",
    "- EVERY SET ELEMENT IS UNIQUE (NO DUPLICATES) & MUST BE IMUTABLE (CAN NOT BE CHANGED).\n",
    "- HOWEVER, A SET ITSELF IS MUTABLE. WE CAN ADD or REMOVE ITEM FROM IT.\n",
    "- SETS CAN ALSO BE USED TO PERFORM MATHEMATICAL SET OPERATION LIKE __`UNION, ITERSECTION, SYMMETRIC DIFFERENCE`__ ETC.."
   ]
  },
  {
   "cell_type": "markdown",
   "id": "f9038882",
   "metadata": {},
   "source": [
    "### <font color=\"brown\">FEATURES:<font color/>\n",
    "- IT HOLD THE MULTIPLE HETEROGENEOUS VALUE.\n",
    "- IT IS MUTABLE.\n",
    "- DUPLICATES ARE NOT ALLOWED.\n",
    "- ORDER IS NOT PRESERVED.\n",
    "- INDEXING IS NOT POSSIBLE.\n",
    "- SLICING IS NOT POSSIBLE.\n",
    "- NESTING PARTIALLY POSSIBLE.\n",
    "- __`CAN NOT CONTAIN MUTABLE DATA TYPE`__"
   ]
  },
  {
   "cell_type": "markdown",
   "id": "4a294f84",
   "metadata": {},
   "source": [
    "# <font color=\"dark blue\" font size=20>CRUD OPERATION IN SET<font color/>"
   ]
  },
  {
   "cell_type": "markdown",
   "id": "0030fcee",
   "metadata": {},
   "source": [
    "# <font color=\"purple\">CREATING A SET  (CREATE OPERATION)<font color/>"
   ]
  },
  {
   "cell_type": "markdown",
   "id": "6daaa7bd",
   "metadata": {},
   "source": [
    "### <font color=\"teal\"> 1. EMPTY SET<font color/>"
   ]
  },
  {
   "cell_type": "code",
   "execution_count": 1,
   "id": "3f0e0c82",
   "metadata": {},
   "outputs": [
    {
     "name": "stdout",
     "output_type": "stream",
     "text": [
      "{}\n",
      "<class 'dict'>\n"
     ]
    }
   ],
   "source": [
    "# IT IS NOT A SET.\n",
    "\n",
    "t1={}\n",
    "print(t1)\n",
    "print(type(t1))"
   ]
  },
  {
   "cell_type": "code",
   "execution_count": 2,
   "id": "b29680e3",
   "metadata": {},
   "outputs": [
    {
     "name": "stdout",
     "output_type": "stream",
     "text": [
      "set()\n",
      "<class 'set'>\n"
     ]
    }
   ],
   "source": [
    "s=set()\n",
    "print(s)\n",
    "print(type(s))"
   ]
  },
  {
   "cell_type": "markdown",
   "id": "c8adb4f0",
   "metadata": {},
   "source": [
    "### <font color=\"teal\"> 2. 1D SET<font color/>"
   ]
  },
  {
   "cell_type": "code",
   "execution_count": 3,
   "id": "4fb070ae",
   "metadata": {},
   "outputs": [
    {
     "data": {
      "text/plain": [
       "{1, 2, 3, 'a', 'b'}"
      ]
     },
     "execution_count": 3,
     "metadata": {},
     "output_type": "execute_result"
    }
   ],
   "source": [
    "s1={1,2,3,\"a\",\"b\"}\n",
    "s1"
   ]
  },
  {
   "cell_type": "markdown",
   "id": "83be3bc2",
   "metadata": {},
   "source": [
    "### <font color=\"teal\"> 3. 2D SET<font color/>"
   ]
  },
  {
   "cell_type": "code",
   "execution_count": 4,
   "id": "2d20abce",
   "metadata": {},
   "outputs": [
    {
     "data": {
      "text/plain": [
       "{('a', 'b'), 1, 2, 3, 4}"
      ]
     },
     "execution_count": 4,
     "metadata": {},
     "output_type": "execute_result"
    }
   ],
   "source": [
    "s2={1,2,3,4,(\"a\",\"b\")}\n",
    "s2"
   ]
  },
  {
   "cell_type": "markdown",
   "id": "63e55b2f",
   "metadata": {},
   "source": [
    "### <font color=\"teal\"> 4. HOMOGENEOUS SET<font color/>"
   ]
  },
  {
   "cell_type": "code",
   "execution_count": 5,
   "id": "c82e16df",
   "metadata": {},
   "outputs": [
    {
     "data": {
      "text/plain": [
       "{1, 2, 3, 4, 5, 6}"
      ]
     },
     "execution_count": 5,
     "metadata": {},
     "output_type": "execute_result"
    }
   ],
   "source": [
    "s3={1,2,3,4,5,6}\n",
    "s3"
   ]
  },
  {
   "cell_type": "markdown",
   "id": "1c3f6307",
   "metadata": {},
   "source": [
    "### <font color=\"teal\"> 5. HETEROGENEOUS SET<font color/>"
   ]
  },
  {
   "cell_type": "code",
   "execution_count": 6,
   "id": "dad616b2",
   "metadata": {},
   "outputs": [
    {
     "data": {
      "text/plain": [
       "{1, 2, 3, 'a', 'b'}"
      ]
     },
     "execution_count": 6,
     "metadata": {},
     "output_type": "execute_result"
    }
   ],
   "source": [
    "s4={1,2,3,\"a\",\"b\"}\n",
    "s4"
   ]
  },
  {
   "cell_type": "markdown",
   "id": "8d847f28",
   "metadata": {},
   "source": [
    "### <font color=\"teal\"> 6. IMUTBALE DATA TYPE IN SET<font color/>"
   ]
  },
  {
   "cell_type": "code",
   "execution_count": 7,
   "id": "1c1c478b",
   "metadata": {},
   "outputs": [
    {
     "data": {
      "text/plain": [
       "{('a', 'b'), 1, 2, 3, 4}"
      ]
     },
     "execution_count": 7,
     "metadata": {},
     "output_type": "execute_result"
    }
   ],
   "source": [
    "s5={1,2,3,4,(\"a\",\"b\")}\n",
    "s5"
   ]
  },
  {
   "cell_type": "markdown",
   "id": "24c150dc",
   "metadata": {},
   "source": [
    "### <font color=\"teal\"> 7. MUTBALE DATA TYPE IN SET<font color/>"
   ]
  },
  {
   "cell_type": "code",
   "execution_count": 8,
   "id": "4a76bf3f",
   "metadata": {},
   "outputs": [
    {
     "ename": "TypeError",
     "evalue": "unhashable type: 'list'",
     "output_type": "error",
     "traceback": [
      "\u001b[1;31m---------------------------------------------------------------------------\u001b[0m",
      "\u001b[1;31mTypeError\u001b[0m                                 Traceback (most recent call last)",
      "\u001b[1;32m~\\AppData\\Local\\Temp\\ipykernel_15284\\760151427.py\u001b[0m in \u001b[0;36m<module>\u001b[1;34m\u001b[0m\n\u001b[1;32m----> 1\u001b[1;33m \u001b[0ms6\u001b[0m\u001b[1;33m=\u001b[0m\u001b[1;33m{\u001b[0m\u001b[1;36m1\u001b[0m\u001b[1;33m,\u001b[0m\u001b[1;36m2\u001b[0m\u001b[1;33m,\u001b[0m\u001b[1;36m3\u001b[0m\u001b[1;33m,\u001b[0m\u001b[1;36m4\u001b[0m\u001b[1;33m,\u001b[0m\u001b[1;33m[\u001b[0m\u001b[1;34m\"a\"\u001b[0m\u001b[1;33m,\u001b[0m\u001b[1;34m\"b\"\u001b[0m\u001b[1;33m]\u001b[0m\u001b[1;33m}\u001b[0m\u001b[1;33m\u001b[0m\u001b[1;33m\u001b[0m\u001b[0m\n\u001b[0m\u001b[0;32m      2\u001b[0m \u001b[0ms6\u001b[0m\u001b[1;33m\u001b[0m\u001b[1;33m\u001b[0m\u001b[0m\n",
      "\u001b[1;31mTypeError\u001b[0m: unhashable type: 'list'"
     ]
    }
   ],
   "source": [
    "s6={1,2,3,4,[\"a\",\"b\"]}\n",
    "s6  # GIVE ERROR"
   ]
  },
  {
   "cell_type": "markdown",
   "id": "cc8b9820",
   "metadata": {},
   "source": [
    "### <font color=\"blue\">  DUPLICATES ARE NOT ALLOWED IN SET<font color/>"
   ]
  },
  {
   "cell_type": "code",
   "execution_count": 10,
   "id": "1dff95fa",
   "metadata": {},
   "outputs": [
    {
     "data": {
      "text/plain": [
       "{1, 2, 3, 4, 6}"
      ]
     },
     "execution_count": 10,
     "metadata": {},
     "output_type": "execute_result"
    }
   ],
   "source": [
    "s7={1,2,3,4,True,1,2,4,6,3}\n",
    "s7"
   ]
  },
  {
   "cell_type": "markdown",
   "id": "3ba0a1e1",
   "metadata": {},
   "source": [
    "### <font color=\"blue\"> ORDER IS NOT PRESERVED IN SET <font color/>"
   ]
  },
  {
   "cell_type": "code",
   "execution_count": 11,
   "id": "b9b442df",
   "metadata": {},
   "outputs": [
    {
     "data": {
      "text/plain": [
       "{('a', 'b'), 1, 2, 3, 4}"
      ]
     },
     "execution_count": 11,
     "metadata": {},
     "output_type": "execute_result"
    }
   ],
   "source": [
    "s8={1,2,3,4,(\"a\",\"b\")}\n",
    "s8"
   ]
  },
  {
   "cell_type": "markdown",
   "id": "004ca337",
   "metadata": {},
   "source": [
    "# <font color=\"purple\">ACCESSING ITEMS FROM A SET (READ OPERATION)<font color/>\n",
    "- IT DO NOT ALLOWED INDEXING & SLICING."
   ]
  },
  {
   "cell_type": "code",
   "execution_count": 12,
   "id": "9790b322",
   "metadata": {},
   "outputs": [
    {
     "ename": "TypeError",
     "evalue": "'set' object is not subscriptable",
     "output_type": "error",
     "traceback": [
      "\u001b[1;31m---------------------------------------------------------------------------\u001b[0m",
      "\u001b[1;31mTypeError\u001b[0m                                 Traceback (most recent call last)",
      "\u001b[1;32m~\\AppData\\Local\\Temp\\ipykernel_15284\\2467450949.py\u001b[0m in \u001b[0;36m<module>\u001b[1;34m\u001b[0m\n\u001b[1;32m----> 1\u001b[1;33m \u001b[0ms7\u001b[0m\u001b[1;33m[\u001b[0m\u001b[1;36m9\u001b[0m\u001b[1;33m]\u001b[0m\u001b[1;33m\u001b[0m\u001b[1;33m\u001b[0m\u001b[0m\n\u001b[0m",
      "\u001b[1;31mTypeError\u001b[0m: 'set' object is not subscriptable"
     ]
    }
   ],
   "source": [
    "s7[9]"
   ]
  },
  {
   "cell_type": "code",
   "execution_count": 13,
   "id": "683bdd6a",
   "metadata": {},
   "outputs": [
    {
     "ename": "TypeError",
     "evalue": "'set' object is not subscriptable",
     "output_type": "error",
     "traceback": [
      "\u001b[1;31m---------------------------------------------------------------------------\u001b[0m",
      "\u001b[1;31mTypeError\u001b[0m                                 Traceback (most recent call last)",
      "\u001b[1;32m~\\AppData\\Local\\Temp\\ipykernel_15284\\2524091864.py\u001b[0m in \u001b[0;36m<module>\u001b[1;34m\u001b[0m\n\u001b[1;32m----> 1\u001b[1;33m \u001b[0ms7\u001b[0m\u001b[1;33m[\u001b[0m\u001b[1;36m0\u001b[0m\u001b[1;33m:\u001b[0m\u001b[1;36m2\u001b[0m\u001b[1;33m]\u001b[0m\u001b[1;33m\u001b[0m\u001b[1;33m\u001b[0m\u001b[0m\n\u001b[0m",
      "\u001b[1;31mTypeError\u001b[0m: 'set' object is not subscriptable"
     ]
    }
   ],
   "source": [
    "s7[0:2]"
   ]
  },
  {
   "cell_type": "markdown",
   "id": "fa547a19",
   "metadata": {},
   "source": [
    "# <font color=\"purple\">ADDING & EDITING ITEMS IN A SET  (UPDATE OPERATION)<font color/>"
   ]
  },
  {
   "cell_type": "markdown",
   "id": "c998d9ea",
   "metadata": {},
   "source": [
    "## <font color=\"teal\"> EDITING ITEMS <font color/>\n",
    "- WE CAN NOT EDIT ITEMS IN SET."
   ]
  },
  {
   "cell_type": "code",
   "execution_count": 14,
   "id": "5ccbbef5",
   "metadata": {},
   "outputs": [
    {
     "ename": "TypeError",
     "evalue": "'set' object does not support item assignment",
     "output_type": "error",
     "traceback": [
      "\u001b[1;31m---------------------------------------------------------------------------\u001b[0m",
      "\u001b[1;31mTypeError\u001b[0m                                 Traceback (most recent call last)",
      "\u001b[1;32m~\\AppData\\Local\\Temp\\ipykernel_15284\\2057658643.py\u001b[0m in \u001b[0;36m<module>\u001b[1;34m\u001b[0m\n\u001b[1;32m----> 1\u001b[1;33m \u001b[0ms7\u001b[0m\u001b[1;33m[\u001b[0m\u001b[1;36m9\u001b[0m\u001b[1;33m]\u001b[0m\u001b[1;33m=\u001b[0m\u001b[1;34m\"apple\"\u001b[0m\u001b[1;33m\u001b[0m\u001b[1;33m\u001b[0m\u001b[0m\n\u001b[0m",
      "\u001b[1;31mTypeError\u001b[0m: 'set' object does not support item assignment"
     ]
    }
   ],
   "source": [
    "s7[9]=\"apple\""
   ]
  },
  {
   "cell_type": "markdown",
   "id": "75945249",
   "metadata": {},
   "source": [
    "## <font color=\"teal\"> ADD ITEM <font color/>\n",
    "- WE CAN ADD ITEM IN SET."
   ]
  },
  {
   "cell_type": "code",
   "execution_count": 15,
   "id": "e2586c7f",
   "metadata": {},
   "outputs": [
    {
     "data": {
      "text/plain": [
       "{1, 2, 3, 4, 6}"
      ]
     },
     "execution_count": 15,
     "metadata": {},
     "output_type": "execute_result"
    }
   ],
   "source": [
    "s7"
   ]
  },
  {
   "cell_type": "markdown",
   "id": "b4689c63",
   "metadata": {},
   "source": [
    "### <font color=\"green\"> USING ADD FUNCTION <font color/>"
   ]
  },
  {
   "cell_type": "code",
   "execution_count": 16,
   "id": "923e36fb",
   "metadata": {},
   "outputs": [
    {
     "data": {
      "text/plain": [
       "{1, 2, 3, 4, 5, 6}"
      ]
     },
     "execution_count": 16,
     "metadata": {},
     "output_type": "execute_result"
    }
   ],
   "source": [
    "s7.add(5)\n",
    "s7"
   ]
  },
  {
   "cell_type": "markdown",
   "id": "872b0d93",
   "metadata": {},
   "source": [
    "### <font color=\"green\"> USING UPDATE FUNCTION <font color/>"
   ]
  },
  {
   "cell_type": "code",
   "execution_count": 17,
   "id": "57bd961d",
   "metadata": {},
   "outputs": [],
   "source": [
    "s10={10,20,30,40}"
   ]
  },
  {
   "cell_type": "code",
   "execution_count": 18,
   "id": "056f16f5",
   "metadata": {},
   "outputs": [],
   "source": [
    "s7.update(s10)"
   ]
  },
  {
   "cell_type": "code",
   "execution_count": 19,
   "id": "3031fe5a",
   "metadata": {},
   "outputs": [
    {
     "data": {
      "text/plain": [
       "{1, 2, 3, 4, 5, 6, 10, 20, 30, 40}"
      ]
     },
     "execution_count": 19,
     "metadata": {},
     "output_type": "execute_result"
    }
   ],
   "source": [
    "s7"
   ]
  },
  {
   "cell_type": "markdown",
   "id": "5fc2dce5",
   "metadata": {},
   "source": [
    "# <font color=\"purple\">DELETING ITEMS FROM A SET (DELETE OPERATION)<font color/>"
   ]
  },
  {
   "cell_type": "markdown",
   "id": "14c3fc71",
   "metadata": {},
   "source": [
    "## <font color=\"teal\"> del() <font color/>"
   ]
  },
  {
   "cell_type": "code",
   "execution_count": 20,
   "id": "856f0c6a",
   "metadata": {},
   "outputs": [
    {
     "data": {
      "text/plain": [
       "{('a', 'b'), 1, 2, 3, 4}"
      ]
     },
     "execution_count": 20,
     "metadata": {},
     "output_type": "execute_result"
    }
   ],
   "source": [
    "s2"
   ]
  },
  {
   "cell_type": "code",
   "execution_count": 21,
   "id": "70179594",
   "metadata": {},
   "outputs": [
    {
     "ename": "NameError",
     "evalue": "name 's2' is not defined",
     "output_type": "error",
     "traceback": [
      "\u001b[1;31m---------------------------------------------------------------------------\u001b[0m",
      "\u001b[1;31mNameError\u001b[0m                                 Traceback (most recent call last)",
      "\u001b[1;32m~\\AppData\\Local\\Temp\\ipykernel_15284\\2408020942.py\u001b[0m in \u001b[0;36m<module>\u001b[1;34m\u001b[0m\n\u001b[0;32m      1\u001b[0m \u001b[1;32mdel\u001b[0m \u001b[0ms2\u001b[0m\u001b[1;33m\u001b[0m\u001b[1;33m\u001b[0m\u001b[0m\n\u001b[1;32m----> 2\u001b[1;33m \u001b[0ms2\u001b[0m\u001b[1;33m\u001b[0m\u001b[1;33m\u001b[0m\u001b[0m\n\u001b[0m",
      "\u001b[1;31mNameError\u001b[0m: name 's2' is not defined"
     ]
    }
   ],
   "source": [
    "del s2\n",
    "s2"
   ]
  },
  {
   "cell_type": "markdown",
   "id": "ef71be6b",
   "metadata": {},
   "source": [
    "## <font color=\"teal\"> discard() <font color/>\n",
    "- WHICH EVER ITEM YOU WANT TO DELETE, YOU CAN DELETE USING DISCARD"
   ]
  },
  {
   "attachments": {
    "DICARD%20FORMULA.png": {
     "image/png": "[encoded data removed]"
    }
   },
   "cell_type": "markdown",
   "id": "65c477b6",
   "metadata": {},
   "source": [
    "![DICARD%20FORMULA.png](attachment:DICARD%20FORMULA.png)"
   ]
  },
  {
   "cell_type": "code",
   "execution_count": 22,
   "id": "34254b06",
   "metadata": {},
   "outputs": [
    {
     "data": {
      "text/plain": [
       "{1, 2, 3, 4, 5, 6, 7, 8}"
      ]
     },
     "execution_count": 22,
     "metadata": {},
     "output_type": "execute_result"
    }
   ],
   "source": [
    "s22={1,2,3,4,5,6,7,8}\n",
    "s22"
   ]
  },
  {
   "cell_type": "code",
   "execution_count": 23,
   "id": "93e7aea4",
   "metadata": {},
   "outputs": [
    {
     "data": {
      "text/plain": [
       "{1, 2, 3, 4, 5, 6, 8}"
      ]
     },
     "execution_count": 23,
     "metadata": {},
     "output_type": "execute_result"
    }
   ],
   "source": [
    "s22.discard(7)\n",
    "s22"
   ]
  },
  {
   "cell_type": "code",
   "execution_count": 24,
   "id": "778d8d2c",
   "metadata": {},
   "outputs": [
    {
     "data": {
      "text/plain": [
       "{1, 2, 3, 4, 5, 6, 8}"
      ]
     },
     "execution_count": 24,
     "metadata": {},
     "output_type": "execute_result"
    }
   ],
   "source": [
    "# IF THE ITEM IS NOT EXIST, THEN IT DONOT GIVE ANY ERROR.\n",
    "s22.discard(10)\n",
    "s22"
   ]
  },
  {
   "cell_type": "markdown",
   "id": "4026c6bd",
   "metadata": {},
   "source": [
    "## <font color=\"teal\"> remove() <font color/>\n",
    "- WHICH EVER ITEM YOU WANT TO DELETE, YOU CAN DELETE USING DISCARD"
   ]
  },
  {
   "cell_type": "code",
   "execution_count": 25,
   "id": "d099626f",
   "metadata": {},
   "outputs": [
    {
     "data": {
      "text/plain": [
       "{1, 2, 3, 4, 5, 6, 8}"
      ]
     },
     "execution_count": 25,
     "metadata": {},
     "output_type": "execute_result"
    }
   ],
   "source": [
    "s22"
   ]
  },
  {
   "cell_type": "code",
   "execution_count": 26,
   "id": "79b93dc6",
   "metadata": {},
   "outputs": [
    {
     "data": {
      "text/plain": [
       "{1, 2, 3, 4, 5, 6}"
      ]
     },
     "execution_count": 26,
     "metadata": {},
     "output_type": "execute_result"
    }
   ],
   "source": [
    "s22.remove(8)\n",
    "s22"
   ]
  },
  {
   "cell_type": "code",
   "execution_count": 27,
   "id": "916f7c36",
   "metadata": {},
   "outputs": [
    {
     "ename": "KeyError",
     "evalue": "9",
     "output_type": "error",
     "traceback": [
      "\u001b[1;31m---------------------------------------------------------------------------\u001b[0m",
      "\u001b[1;31mKeyError\u001b[0m                                  Traceback (most recent call last)",
      "\u001b[1;32m~\\AppData\\Local\\Temp\\ipykernel_15284\\2269809765.py\u001b[0m in \u001b[0;36m<module>\u001b[1;34m\u001b[0m\n\u001b[1;32m----> 1\u001b[1;33m \u001b[0ms22\u001b[0m\u001b[1;33m.\u001b[0m\u001b[0mremove\u001b[0m\u001b[1;33m(\u001b[0m\u001b[1;36m9\u001b[0m\u001b[1;33m)\u001b[0m\u001b[1;33m\u001b[0m\u001b[1;33m\u001b[0m\u001b[0m\n\u001b[0m\u001b[0;32m      2\u001b[0m \u001b[0ms22\u001b[0m\u001b[1;33m\u001b[0m\u001b[1;33m\u001b[0m\u001b[0m\n",
      "\u001b[1;31mKeyError\u001b[0m: 9"
     ]
    }
   ],
   "source": [
    "# IF THE ITEM IS NOT EXIST, THEN IT GIVES AN ERROR.\n",
    "s22.remove(9)\n",
    "s22"
   ]
  },
  {
   "cell_type": "markdown",
   "id": "2b2c280b",
   "metadata": {},
   "source": [
    "## <font color=\"teal\"> pop() <font color/>\n",
    "- IT DELETE ITEM RANDOMLY."
   ]
  },
  {
   "cell_type": "code",
   "execution_count": 28,
   "id": "fbf57a18",
   "metadata": {},
   "outputs": [
    {
     "data": {
      "text/plain": [
       "{1, 2, 3, 4, 5, 6}"
      ]
     },
     "execution_count": 28,
     "metadata": {},
     "output_type": "execute_result"
    }
   ],
   "source": [
    "s22"
   ]
  },
  {
   "cell_type": "code",
   "execution_count": 29,
   "id": "bcf5b838",
   "metadata": {},
   "outputs": [
    {
     "data": {
      "text/plain": [
       "{2, 3, 4, 5, 6}"
      ]
     },
     "execution_count": 29,
     "metadata": {},
     "output_type": "execute_result"
    }
   ],
   "source": [
    "s22.pop()\n",
    "s22"
   ]
  },
  {
   "cell_type": "markdown",
   "id": "874477ac",
   "metadata": {},
   "source": [
    "## <font color=\"teal\"> clear() <font color/>\n",
    "- IT ONLY DELETE ALL THE ITEMS FROM THE SET, BUT SET IS STAY IN IT."
   ]
  },
  {
   "cell_type": "code",
   "execution_count": 31,
   "id": "f32cace5",
   "metadata": {},
   "outputs": [
    {
     "data": {
      "text/plain": [
       "{2, 3, 4, 5, 6}"
      ]
     },
     "execution_count": 31,
     "metadata": {},
     "output_type": "execute_result"
    }
   ],
   "source": [
    "s22"
   ]
  },
  {
   "cell_type": "code",
   "execution_count": 32,
   "id": "ba4f8155",
   "metadata": {},
   "outputs": [
    {
     "data": {
      "text/plain": [
       "set()"
      ]
     },
     "execution_count": 32,
     "metadata": {},
     "output_type": "execute_result"
    }
   ],
   "source": [
    "s22.clear()\n",
    "s22"
   ]
  },
  {
   "cell_type": "markdown",
   "id": "5410ab16",
   "metadata": {},
   "source": [
    "# <font color=\"dark blue\" font size=8> SET SPECIFIC FUNCTION<font color/>"
   ]
  },
  {
   "cell_type": "code",
   "execution_count": 33,
   "id": "05b20cfb",
   "metadata": {},
   "outputs": [],
   "source": [
    "s1={\"A\",\"B\",\"C\",100,200}\n",
    "s2={\"X\",\"Y\",\"Z\",100,200}"
   ]
  },
  {
   "cell_type": "code",
   "execution_count": 34,
   "id": "fcbbf953",
   "metadata": {},
   "outputs": [
    {
     "name": "stdout",
     "output_type": "stream",
     "text": [
      "{'B', 'C', 100, 200, 'A'}\n",
      "{100, 'Y', 'X', 'Z', 200}\n"
     ]
    }
   ],
   "source": [
    "print(s1)\n",
    "print(s2)"
   ]
  },
  {
   "cell_type": "code",
   "execution_count": 40,
   "id": "f0931d03",
   "metadata": {},
   "outputs": [],
   "source": [
    "s3={\"A\",\"B\",\"C\",100,200}\n",
    "s4={\"X\",\"Y\",\"Z\",100,200}"
   ]
  },
  {
   "cell_type": "code",
   "execution_count": 41,
   "id": "cc371e21",
   "metadata": {},
   "outputs": [
    {
     "name": "stdout",
     "output_type": "stream",
     "text": [
      "{'B', 'C', 100, 200, 'A'}\n",
      "{100, 'Y', 'X', 'Z', 200}\n"
     ]
    }
   ],
   "source": [
    "print(s3)\n",
    "print(s4)"
   ]
  },
  {
   "cell_type": "markdown",
   "id": "2838e22c",
   "metadata": {},
   "source": [
    "## <font color=\"teal\"> UNION <font color/>"
   ]
  },
  {
   "cell_type": "code",
   "execution_count": 35,
   "id": "11f758bd",
   "metadata": {},
   "outputs": [
    {
     "data": {
      "text/plain": [
       "{100, 200, 'A', 'B', 'C', 'X', 'Y', 'Z'}"
      ]
     },
     "execution_count": 35,
     "metadata": {},
     "output_type": "execute_result"
    }
   ],
   "source": [
    "s1.union(s2)"
   ]
  },
  {
   "cell_type": "code",
   "execution_count": 36,
   "id": "dcbf7a17",
   "metadata": {},
   "outputs": [
    {
     "data": {
      "text/plain": [
       "{100, 200, 'A', 'B', 'C', 'X', 'Y', 'Z'}"
      ]
     },
     "execution_count": 36,
     "metadata": {},
     "output_type": "execute_result"
    }
   ],
   "source": [
    "s2.union(s1)"
   ]
  },
  {
   "cell_type": "markdown",
   "id": "f21d0dc3",
   "metadata": {},
   "source": [
    "## <font color=\"teal\"> INTERSECTION <font color/>"
   ]
  },
  {
   "cell_type": "code",
   "execution_count": 37,
   "id": "ffdc55f0",
   "metadata": {},
   "outputs": [
    {
     "data": {
      "text/plain": [
       "{100, 200}"
      ]
     },
     "execution_count": 37,
     "metadata": {},
     "output_type": "execute_result"
    }
   ],
   "source": [
    "s1.intersection(s2)"
   ]
  },
  {
   "cell_type": "code",
   "execution_count": 38,
   "id": "5126b9b6",
   "metadata": {},
   "outputs": [
    {
     "data": {
      "text/plain": [
       "{100, 200, 'A', 'B', 'C'}"
      ]
     },
     "execution_count": 38,
     "metadata": {},
     "output_type": "execute_result"
    }
   ],
   "source": [
    "s1"
   ]
  },
  {
   "cell_type": "code",
   "execution_count": 39,
   "id": "0e72ab85",
   "metadata": {},
   "outputs": [
    {
     "data": {
      "text/plain": [
       "{100, 200, 'X', 'Y', 'Z'}"
      ]
     },
     "execution_count": 39,
     "metadata": {},
     "output_type": "execute_result"
    }
   ],
   "source": [
    "s2"
   ]
  },
  {
   "cell_type": "markdown",
   "id": "eebbe564",
   "metadata": {},
   "source": [
    "## <font color=\"teal\"> INTERSECTION_UPDATE <font color/>"
   ]
  },
  {
   "cell_type": "code",
   "execution_count": 68,
   "id": "1af0909f",
   "metadata": {},
   "outputs": [],
   "source": [
    "s1.intersection_update(s2)"
   ]
  },
  {
   "cell_type": "code",
   "execution_count": 69,
   "id": "295e3dc7",
   "metadata": {},
   "outputs": [
    {
     "data": {
      "text/plain": [
       "{100, 200}"
      ]
     },
     "execution_count": 69,
     "metadata": {},
     "output_type": "execute_result"
    }
   ],
   "source": [
    "s1  # THE s1 SET CHANGE"
   ]
  },
  {
   "cell_type": "code",
   "execution_count": 70,
   "id": "b1509711",
   "metadata": {},
   "outputs": [
    {
     "data": {
      "text/plain": [
       "{100, 200, 'X', 'Y', 'Z'}"
      ]
     },
     "execution_count": 70,
     "metadata": {},
     "output_type": "execute_result"
    }
   ],
   "source": [
    "s2"
   ]
  },
  {
   "cell_type": "markdown",
   "id": "bea9e8b3",
   "metadata": {},
   "source": [
    "## <font color=\"teal\"> DIFFERENCE <font color/>"
   ]
  },
  {
   "cell_type": "code",
   "execution_count": 42,
   "id": "80f92cd1",
   "metadata": {},
   "outputs": [
    {
     "data": {
      "text/plain": [
       "{'A', 'B', 'C'}"
      ]
     },
     "execution_count": 42,
     "metadata": {},
     "output_type": "execute_result"
    }
   ],
   "source": [
    "s3.difference(s4)"
   ]
  },
  {
   "cell_type": "code",
   "execution_count": 43,
   "id": "6da6fa38",
   "metadata": {},
   "outputs": [
    {
     "data": {
      "text/plain": [
       "{'X', 'Y', 'Z'}"
      ]
     },
     "execution_count": 43,
     "metadata": {},
     "output_type": "execute_result"
    }
   ],
   "source": [
    "s4.difference(s3)"
   ]
  },
  {
   "cell_type": "code",
   "execution_count": 44,
   "id": "f97620b9",
   "metadata": {},
   "outputs": [
    {
     "data": {
      "text/plain": [
       "{100, 200, 'A', 'B', 'C'}"
      ]
     },
     "execution_count": 44,
     "metadata": {},
     "output_type": "execute_result"
    }
   ],
   "source": [
    "s3"
   ]
  },
  {
   "cell_type": "code",
   "execution_count": 45,
   "id": "7aa02758",
   "metadata": {},
   "outputs": [
    {
     "data": {
      "text/plain": [
       "{100, 200, 'X', 'Y', 'Z'}"
      ]
     },
     "execution_count": 45,
     "metadata": {},
     "output_type": "execute_result"
    }
   ],
   "source": [
    "s4"
   ]
  },
  {
   "cell_type": "markdown",
   "id": "f319974b",
   "metadata": {},
   "source": [
    "## <font color=\"teal\"> SYMMETRIC_DIFFERENCE <font color/>"
   ]
  },
  {
   "cell_type": "code",
   "execution_count": 46,
   "id": "976de821",
   "metadata": {},
   "outputs": [
    {
     "data": {
      "text/plain": [
       "{'A', 'B', 'C', 'X', 'Y', 'Z'}"
      ]
     },
     "execution_count": 46,
     "metadata": {},
     "output_type": "execute_result"
    }
   ],
   "source": [
    "s4.symmetric_difference(s3)"
   ]
  },
  {
   "cell_type": "code",
   "execution_count": 47,
   "id": "ceede4e8",
   "metadata": {},
   "outputs": [
    {
     "data": {
      "text/plain": [
       "{100, 200, 'X', 'Y', 'Z'}"
      ]
     },
     "execution_count": 47,
     "metadata": {},
     "output_type": "execute_result"
    }
   ],
   "source": [
    "s4"
   ]
  },
  {
   "cell_type": "code",
   "execution_count": 48,
   "id": "bdac2c49",
   "metadata": {},
   "outputs": [
    {
     "data": {
      "text/plain": [
       "{100, 200, 'A', 'B', 'C'}"
      ]
     },
     "execution_count": 48,
     "metadata": {},
     "output_type": "execute_result"
    }
   ],
   "source": [
    "s3"
   ]
  },
  {
   "cell_type": "markdown",
   "id": "58ccaefc",
   "metadata": {},
   "source": [
    "## <font color=\"teal\"> ISDIJOINT <font color/>"
   ]
  },
  {
   "cell_type": "code",
   "execution_count": 58,
   "id": "ef6a5633",
   "metadata": {},
   "outputs": [],
   "source": [
    "s5={\"X\",\"Y\",\"Z\",100,200}\n",
    "s6={\"A\",\"B\",\"C\",100,200}"
   ]
  },
  {
   "cell_type": "code",
   "execution_count": 50,
   "id": "694b1353",
   "metadata": {},
   "outputs": [
    {
     "name": "stdout",
     "output_type": "stream",
     "text": [
      "{100, 'Y', 'X', 'Z', 200}\n",
      "{'B', 'C', 100, 200, 'A'}\n"
     ]
    }
   ],
   "source": [
    "print(s5)\n",
    "print(s6)"
   ]
  },
  {
   "cell_type": "code",
   "execution_count": 51,
   "id": "eb287a46",
   "metadata": {},
   "outputs": [
    {
     "data": {
      "text/plain": [
       "False"
      ]
     },
     "execution_count": 51,
     "metadata": {},
     "output_type": "execute_result"
    }
   ],
   "source": [
    "s5.isdisjoint(s6)"
   ]
  },
  {
   "cell_type": "code",
   "execution_count": 62,
   "id": "59fe1345",
   "metadata": {},
   "outputs": [],
   "source": [
    "s7={1,2,3,4,5}\n",
    "s8={6,7,8,9,0}"
   ]
  },
  {
   "cell_type": "code",
   "execution_count": 63,
   "id": "dc9c29f2",
   "metadata": {},
   "outputs": [
    {
     "data": {
      "text/plain": [
       "True"
      ]
     },
     "execution_count": 63,
     "metadata": {},
     "output_type": "execute_result"
    }
   ],
   "source": [
    "s8.isdisjoint(s7)  # THIS TWO SETS ARE DIFFERENT FROM EACH OTHER."
   ]
  },
  {
   "cell_type": "markdown",
   "id": "800ef436",
   "metadata": {},
   "source": [
    "## <font color=\"teal\"> ISSUBSET / ISSUPERSET <font color/>"
   ]
  },
  {
   "cell_type": "code",
   "execution_count": 64,
   "id": "d53ab8f8",
   "metadata": {},
   "outputs": [],
   "source": [
    "s11={1,2,3,4,5,6,7}\n",
    "s12={3,4,5,6}"
   ]
  },
  {
   "cell_type": "code",
   "execution_count": 65,
   "id": "aca45c56",
   "metadata": {},
   "outputs": [
    {
     "data": {
      "text/plain": [
       "True"
      ]
     },
     "execution_count": 65,
     "metadata": {},
     "output_type": "execute_result"
    }
   ],
   "source": [
    "s12.issubset(s11)  # SUBSET"
   ]
  },
  {
   "cell_type": "code",
   "execution_count": 67,
   "id": "856d2b96",
   "metadata": {},
   "outputs": [
    {
     "data": {
      "text/plain": [
       "True"
      ]
     },
     "execution_count": 67,
     "metadata": {},
     "output_type": "execute_result"
    }
   ],
   "source": [
    "s11.issuperset(s12) # SUPERSET"
   ]
  }
 ],
 "metadata": {
  "kernelspec": {
   "display_name": "Python 3 (ipykernel)",
   "language": "python",
   "name": "python3"
  },
  "language_info": {
   "codemirror_mode": {
    "name": "ipython",
    "version": 3
   },
   "file_extension": ".py",
   "mimetype": "text/x-python",
   "name": "python",
   "nbconvert_exporter": "python",
   "pygments_lexer": "ipython3",
   "version": "3.9.13"
  }
 },
 "nbformat": 4,
 "nbformat_minor": 5
}
