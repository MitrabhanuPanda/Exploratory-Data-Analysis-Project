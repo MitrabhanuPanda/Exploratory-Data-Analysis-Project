{
 "cells": [
  {
   "cell_type": "markdown",
   "id": "d5dfd80d",
   "metadata": {},
   "source": [
    "<h1 style=\"text-align : center\"> <font color=\"red\" size=8>TUPLE </h1>"
   ]
  },
  {
   "cell_type": "markdown",
   "id": "2f7eadca",
   "metadata": {},
   "source": [
    "- A TUPLE IN PYTHON IS SIMILAR TO A LIST. \n",
    "- THE DIFFERENCE BETWEEN THE TWO IS THAT WE CAN NOT CHANGE THE ELEMENTS OF A TUPLE ONCE IT IS ASSIGNED WHEREAS WE CAN CHANGE THE ELEMENTS OF A LIST.\n",
    "- IN SHORT, A TUPLE IS AN IMMUTABLE LIST. A TUPLE CAN NOT BE CHANGED IN ANY WAY ONCE IT IS CREATED."
   ]
  },
  {
   "cell_type": "markdown",
   "id": "6dca746d",
   "metadata": {},
   "source": [
    "### <font color=\"brown\">FEATURES OF TUPLE:<font color/>\n",
    "* MULTIPLE HETEROGENEOUS VALUES.\n",
    "* IMMUTABLE\n",
    "* DUPLICATES ARE ALLOWED\n",
    "* INDEXING IS POSSIBLE\n",
    "* SLICING IS POSSIBLE\n",
    "* NESTING IS POSSIBLE"
   ]
  },
  {
   "cell_type": "markdown",
   "id": "cf6f1227",
   "metadata": {},
   "source": [
    "# <font color=\"dark blue\" font size=20>CRUD OPERATION IN TUPLE<font color/>"
   ]
  },
  {
   "cell_type": "markdown",
   "id": "55d001d4",
   "metadata": {},
   "source": [
    "> - CREATE\n",
    "> - READ\n",
    "> - UPDATE\n",
    "> - DELETE"
   ]
  },
  {
   "cell_type": "markdown",
   "id": "348ea5f1",
   "metadata": {},
   "source": [
    "# <font color=\"purple\">CREATING A TUPLE  (CREATE OPERATION)<font color/>"
   ]
  },
  {
   "cell_type": "markdown",
   "id": "656d0bb0",
   "metadata": {},
   "source": [
    "### <font color=\"teal\"> 1. EMPTY TUPLE<font color/>"
   ]
  },
  {
   "cell_type": "code",
   "execution_count": 1,
   "id": "23990051",
   "metadata": {},
   "outputs": [
    {
     "data": {
      "text/plain": [
       "()"
      ]
     },
     "execution_count": 1,
     "metadata": {},
     "output_type": "execute_result"
    }
   ],
   "source": [
    "t1=()\n",
    "t1"
   ]
  },
  {
   "cell_type": "markdown",
   "id": "3aec38f0",
   "metadata": {},
   "source": [
    "### <font color=\"teal\"> 2. SCALAR TUPLE<font color/>"
   ]
  },
  {
   "cell_type": "code",
   "execution_count": 2,
   "id": "2c23e0a4",
   "metadata": {},
   "outputs": [
    {
     "data": {
      "text/plain": [
       "(2,)"
      ]
     },
     "execution_count": 2,
     "metadata": {},
     "output_type": "execute_result"
    }
   ],
   "source": [
    "t2=2,\n",
    "t2"
   ]
  },
  {
   "cell_type": "markdown",
   "id": "c5d7e7c1",
   "metadata": {},
   "source": [
    "### <font color=\"teal\"> 3. HETEROGENEOUS TUPLE<font color/>"
   ]
  },
  {
   "cell_type": "code",
   "execution_count": 3,
   "id": "f8ee7f38",
   "metadata": {},
   "outputs": [
    {
     "data": {
      "text/plain": [
       "(1, 2, 3, True, ['a', 'b', 'c'])"
      ]
     },
     "execution_count": 3,
     "metadata": {},
     "output_type": "execute_result"
    }
   ],
   "source": [
    "t3=(1,2,3,True,[\"a\",\"b\",\"c\"])\n",
    "t3"
   ]
  },
  {
   "cell_type": "markdown",
   "id": "50d03fe8",
   "metadata": {},
   "source": [
    "### <font color=\"teal\"> 4. HOMOGENEOUS TUPLE<font color/>"
   ]
  },
  {
   "cell_type": "code",
   "execution_count": 4,
   "id": "e04e9d9b",
   "metadata": {},
   "outputs": [
    {
     "data": {
      "text/plain": [
       "(1, 2, 3, 4, (5, 6, 7))"
      ]
     },
     "execution_count": 4,
     "metadata": {},
     "output_type": "execute_result"
    }
   ],
   "source": [
    "t4=(1,2,3,4,(5,6,7))\n",
    "t4"
   ]
  },
  {
   "cell_type": "markdown",
   "id": "21dd430c",
   "metadata": {},
   "source": [
    "### <font color=\"teal\"> 5. USING TUPLE FUNCTION<font color/>"
   ]
  },
  {
   "cell_type": "code",
   "execution_count": 5,
   "id": "6ec552d5",
   "metadata": {},
   "outputs": [
    {
     "data": {
      "text/plain": [
       "('h', 'e', 'l', 'l', 'o')"
      ]
     },
     "execution_count": 5,
     "metadata": {},
     "output_type": "execute_result"
    }
   ],
   "source": [
    "t5=tuple(\"hello\")\n",
    "t5"
   ]
  },
  {
   "cell_type": "code",
   "execution_count": 7,
   "id": "ec1b2f91",
   "metadata": {},
   "outputs": [
    {
     "data": {
      "text/plain": [
       "(5, 6, 7, 'a', 'b')"
      ]
     },
     "execution_count": 7,
     "metadata": {},
     "output_type": "execute_result"
    }
   ],
   "source": [
    "t6=tuple((5,6,7,\"a\",\"b\"))\n",
    "t6"
   ]
  },
  {
   "cell_type": "markdown",
   "id": "8b6a3925",
   "metadata": {},
   "source": [
    "### <font color=\"teal\"> 6. NESTED TUPLE<font color/>"
   ]
  },
  {
   "cell_type": "code",
   "execution_count": 8,
   "id": "55de7f0e",
   "metadata": {},
   "outputs": [
    {
     "data": {
      "text/plain": [
       "(1, 2, 3, True, ['a', 'b', 'c'])"
      ]
     },
     "execution_count": 8,
     "metadata": {},
     "output_type": "execute_result"
    }
   ],
   "source": [
    "t7=(1,2,3,True,[\"a\",\"b\",\"c\"])\n",
    "t7"
   ]
  },
  {
   "cell_type": "markdown",
   "id": "8ffb1d32",
   "metadata": {},
   "source": [
    "### <font color=\"teal\"> 7. TUPLE WITH MULTIPLE VALUES (WITHOUT PARANTHESIS)<font color/>"
   ]
  },
  {
   "cell_type": "code",
   "execution_count": 21,
   "id": "e0b64269",
   "metadata": {},
   "outputs": [
    {
     "data": {
      "text/plain": [
       "(1, 2, 3, 4, 5)"
      ]
     },
     "execution_count": 21,
     "metadata": {},
     "output_type": "execute_result"
    }
   ],
   "source": [
    "t8=1,2,3,4,5\n",
    "t8"
   ]
  },
  {
   "cell_type": "code",
   "execution_count": 22,
   "id": "0c98aba0",
   "metadata": {},
   "outputs": [
    {
     "data": {
      "text/plain": [
       "('apple', 'ball', 'cat', 1, 2, 3, 4)"
      ]
     },
     "execution_count": 22,
     "metadata": {},
     "output_type": "execute_result"
    }
   ],
   "source": [
    "t9=\"apple\",\"ball\",\"cat\",1,2,3,4\n",
    "t9"
   ]
  },
  {
   "cell_type": "markdown",
   "id": "e67a68ab",
   "metadata": {},
   "source": [
    "### <font color=\"teal\"> 8. TUPLE WITH DUPLICATE VALUES<font color/>"
   ]
  },
  {
   "cell_type": "code",
   "execution_count": 23,
   "id": "ec669ba2",
   "metadata": {},
   "outputs": [
    {
     "data": {
      "text/plain": [
       "('Apple', 100, 21.88, 'Orange', 100, 'Apple')"
      ]
     },
     "execution_count": 23,
     "metadata": {},
     "output_type": "execute_result"
    }
   ],
   "source": [
    "t10=\"Apple\",100,21.88,\"Orange\",100,\"Apple\"\n",
    "t10"
   ]
  },
  {
   "cell_type": "markdown",
   "id": "d1c2b51a",
   "metadata": {},
   "source": [
    "### <font color=\"brown\">HOW TO KNOW IT IS A TUPLE or NOT? <font color/>"
   ]
  },
  {
   "cell_type": "code",
   "execution_count": 24,
   "id": "c6d053e4",
   "metadata": {},
   "outputs": [
    {
     "data": {
      "text/plain": [
       "(1, 2, 3, 4, 5)"
      ]
     },
     "execution_count": 24,
     "metadata": {},
     "output_type": "execute_result"
    }
   ],
   "source": [
    "t8"
   ]
  },
  {
   "cell_type": "code",
   "execution_count": 25,
   "id": "bde145ca",
   "metadata": {},
   "outputs": [
    {
     "data": {
      "text/plain": [
       "tuple"
      ]
     },
     "execution_count": 25,
     "metadata": {},
     "output_type": "execute_result"
    }
   ],
   "source": [
    "type(t8)"
   ]
  },
  {
   "cell_type": "markdown",
   "id": "287e3b5f",
   "metadata": {},
   "source": [
    "# <font color=\"purple\">ACCESSING ITEMS FROM A TUPLE  (READ OPERATION)<font color/>"
   ]
  },
  {
   "cell_type": "markdown",
   "id": "f1ad8aa7",
   "metadata": {},
   "source": [
    "## <font color=\"teal\"> 1. FOR LOOP <font color/>"
   ]
  },
  {
   "cell_type": "code",
   "execution_count": 13,
   "id": "cc45a894",
   "metadata": {},
   "outputs": [
    {
     "data": {
      "text/plain": [
       "(1, 2, 3, True, ['a', 'b', 'c'])"
      ]
     },
     "execution_count": 13,
     "metadata": {},
     "output_type": "execute_result"
    }
   ],
   "source": [
    "t7"
   ]
  },
  {
   "cell_type": "code",
   "execution_count": 12,
   "id": "49a7d866",
   "metadata": {},
   "outputs": [
    {
     "name": "stdout",
     "output_type": "stream",
     "text": [
      "1\n",
      "2\n",
      "3\n",
      "True\n",
      "['a', 'b', 'c']\n"
     ]
    }
   ],
   "source": [
    "for i in t7:\n",
    "    print(i)"
   ]
  },
  {
   "cell_type": "markdown",
   "id": "e83f44c0",
   "metadata": {},
   "source": [
    "## <font color=\"teal\"> 2. INDEXING <font color/>"
   ]
  },
  {
   "cell_type": "code",
   "execution_count": 15,
   "id": "f7df2ed5",
   "metadata": {},
   "outputs": [
    {
     "data": {
      "text/plain": [
       "3"
      ]
     },
     "execution_count": 15,
     "metadata": {},
     "output_type": "execute_result"
    }
   ],
   "source": [
    "t7[2]"
   ]
  },
  {
   "cell_type": "code",
   "execution_count": 17,
   "id": "0cbeafd5",
   "metadata": {},
   "outputs": [
    {
     "data": {
      "text/plain": [
       "['a', 'b', 'c']"
      ]
     },
     "execution_count": 17,
     "metadata": {},
     "output_type": "execute_result"
    }
   ],
   "source": [
    "t7[-1]"
   ]
  },
  {
   "cell_type": "markdown",
   "id": "131e086d",
   "metadata": {},
   "source": [
    "## <font color=\"teal\"> 3. SLICING <font color/>"
   ]
  },
  {
   "cell_type": "code",
   "execution_count": 16,
   "id": "d0905571",
   "metadata": {},
   "outputs": [
    {
     "data": {
      "text/plain": [
       "(3, True)"
      ]
     },
     "execution_count": 16,
     "metadata": {},
     "output_type": "execute_result"
    }
   ],
   "source": [
    "t7[2:4]"
   ]
  },
  {
   "cell_type": "code",
   "execution_count": 18,
   "id": "488810a4",
   "metadata": {},
   "outputs": [
    {
     "data": {
      "text/plain": [
       "(['a', 'b', 'c'],)"
      ]
     },
     "execution_count": 18,
     "metadata": {},
     "output_type": "execute_result"
    }
   ],
   "source": [
    "t7[-1:]"
   ]
  },
  {
   "cell_type": "markdown",
   "id": "1ac1c339",
   "metadata": {},
   "source": [
    "# <font color=\"purple\">ADDING & EDITING ITEMS IN A LIST  (UPDATE OPERATION)<font color/>\n",
    "- WE CAN NOT EDIT & ADD ITEMS IN TUPLE AFTER CREATION OF A TUPLE."
   ]
  },
  {
   "cell_type": "code",
   "execution_count": 28,
   "id": "83e9e4d0",
   "metadata": {},
   "outputs": [
    {
     "data": {
      "text/plain": [
       "(1, 2, 3, True, ['a', 'b', 'c'])"
      ]
     },
     "execution_count": 28,
     "metadata": {},
     "output_type": "execute_result"
    }
   ],
   "source": [
    "t3"
   ]
  },
  {
   "cell_type": "code",
   "execution_count": 29,
   "id": "42d5cd77",
   "metadata": {},
   "outputs": [
    {
     "data": {
      "text/plain": [
       "3"
      ]
     },
     "execution_count": 29,
     "metadata": {},
     "output_type": "execute_result"
    }
   ],
   "source": [
    "t3[2]"
   ]
  },
  {
   "cell_type": "code",
   "execution_count": 30,
   "id": "430b0cef",
   "metadata": {},
   "outputs": [
    {
     "ename": "TypeError",
     "evalue": "'tuple' object does not support item assignment",
     "output_type": "error",
     "traceback": [
      "\u001b[1;31m---------------------------------------------------------------------------\u001b[0m",
      "\u001b[1;31mTypeError\u001b[0m                                 Traceback (most recent call last)",
      "\u001b[1;32m~\\AppData\\Local\\Temp\\ipykernel_20544\\2075710053.py\u001b[0m in \u001b[0;36m<module>\u001b[1;34m\u001b[0m\n\u001b[1;32m----> 1\u001b[1;33m \u001b[0mt3\u001b[0m\u001b[1;33m[\u001b[0m\u001b[1;36m2\u001b[0m\u001b[1;33m]\u001b[0m\u001b[1;33m=\u001b[0m\u001b[1;36m10\u001b[0m\u001b[1;33m\u001b[0m\u001b[1;33m\u001b[0m\u001b[0m\n\u001b[0m",
      "\u001b[1;31mTypeError\u001b[0m: 'tuple' object does not support item assignment"
     ]
    }
   ],
   "source": [
    "t3[2]=10"
   ]
  },
  {
   "cell_type": "markdown",
   "id": "142a0eec",
   "metadata": {},
   "source": [
    "# <font color=\"purple\">DELETING A TUPLE  (DELETE OPERATION)<font color/>\n",
    "- WE CAN NOT DELETE ANY PORTION OF ITEMS.\n",
    "- WE CAN ONLY DELETE THE ENTIRE TUPLE."
   ]
  },
  {
   "cell_type": "code",
   "execution_count": 31,
   "id": "5e1090f8",
   "metadata": {},
   "outputs": [
    {
     "data": {
      "text/plain": [
       "(1, 2, 3, 4, 5, 'a', 'b')"
      ]
     },
     "execution_count": 31,
     "metadata": {},
     "output_type": "execute_result"
    }
   ],
   "source": [
    "t11=1,2,3,4,5,\"a\",\"b\"\n",
    "t11"
   ]
  },
  {
   "cell_type": "code",
   "execution_count": 32,
   "id": "bd333435",
   "metadata": {},
   "outputs": [
    {
     "ename": "NameError",
     "evalue": "name 't11' is not defined",
     "output_type": "error",
     "traceback": [
      "\u001b[1;31m---------------------------------------------------------------------------\u001b[0m",
      "\u001b[1;31mNameError\u001b[0m                                 Traceback (most recent call last)",
      "\u001b[1;32m~\\AppData\\Local\\Temp\\ipykernel_20544\\3562888906.py\u001b[0m in \u001b[0;36m<module>\u001b[1;34m\u001b[0m\n\u001b[0;32m      1\u001b[0m \u001b[1;32mdel\u001b[0m \u001b[0mt11\u001b[0m\u001b[1;33m\u001b[0m\u001b[1;33m\u001b[0m\u001b[0m\n\u001b[1;32m----> 2\u001b[1;33m \u001b[0mt11\u001b[0m\u001b[1;33m\u001b[0m\u001b[1;33m\u001b[0m\u001b[0m\n\u001b[0m",
      "\u001b[1;31mNameError\u001b[0m: name 't11' is not defined"
     ]
    }
   ],
   "source": [
    "del t11\n",
    "t11"
   ]
  },
  {
   "cell_type": "code",
   "execution_count": 33,
   "id": "d34a9481",
   "metadata": {},
   "outputs": [
    {
     "data": {
      "text/plain": [
       "(1, 2, 3, 4, 5, 'a', 'b')"
      ]
     },
     "execution_count": 33,
     "metadata": {},
     "output_type": "execute_result"
    }
   ],
   "source": [
    "t12=1,2,3,4,5,\"a\",\"b\"\n",
    "t12"
   ]
  },
  {
   "cell_type": "code",
   "execution_count": 34,
   "id": "e6bd07f7",
   "metadata": {},
   "outputs": [
    {
     "ename": "TypeError",
     "evalue": "'tuple' object doesn't support item deletion",
     "output_type": "error",
     "traceback": [
      "\u001b[1;31m---------------------------------------------------------------------------\u001b[0m",
      "\u001b[1;31mTypeError\u001b[0m                                 Traceback (most recent call last)",
      "\u001b[1;32m~\\AppData\\Local\\Temp\\ipykernel_20544\\3086790838.py\u001b[0m in \u001b[0;36m<module>\u001b[1;34m\u001b[0m\n\u001b[1;32m----> 1\u001b[1;33m \u001b[1;32mdel\u001b[0m \u001b[0mt12\u001b[0m\u001b[1;33m[\u001b[0m\u001b[1;36m2\u001b[0m\u001b[1;33m]\u001b[0m\u001b[1;33m\u001b[0m\u001b[1;33m\u001b[0m\u001b[0m\n\u001b[0m",
      "\u001b[1;31mTypeError\u001b[0m: 'tuple' object doesn't support item deletion"
     ]
    }
   ],
   "source": [
    "del t12[2]"
   ]
  },
  {
   "cell_type": "markdown",
   "id": "e33bc416",
   "metadata": {},
   "source": [
    "## <font color=\"brown\">LIST vs TUPLE <font color/>"
   ]
  },
  {
   "attachments": {
    "TUPLE%20vs%20LIST.png": {
     "image/png": "[encoded data removed]"
    }
   },
   "cell_type": "markdown",
   "id": "cbe766dc",
   "metadata": {},
   "source": [
    "![TUPLE%20vs%20LIST.png](attachment:TUPLE%20vs%20LIST.png)"
   ]
  },
  {
   "cell_type": "code",
   "execution_count": 44,
   "id": "7f5764b3",
   "metadata": {},
   "outputs": [
    {
     "name": "stdout",
     "output_type": "stream",
     "text": [
      "List size 8056\n",
      "Tuple size 8040\n"
     ]
    }
   ],
   "source": [
    "# MEMORY\n",
    "\n",
    "import sys\n",
    "\n",
    "L = list(range(1000))\n",
    "T = tuple(range(1000))\n",
    "\n",
    "print('List size',sys.getsizeof(L))\n",
    "print('Tuple size',sys.getsizeof(T))"
   ]
  },
  {
   "cell_type": "code",
   "execution_count": 45,
   "id": "a8c79fe0",
   "metadata": {},
   "outputs": [
    {
     "name": "stdout",
     "output_type": "stream",
     "text": [
      "[1, 2, 3, 4]\n",
      "[1, 2, 3, 4]\n"
     ]
    }
   ],
   "source": [
    "# ERROR PRONE\n",
    "\n",
    "a = [1,2,3]\n",
    "b = a\n",
    "\n",
    "a.append(4)\n",
    "print(a)\n",
    "print(b)"
   ]
  },
  {
   "cell_type": "code",
   "execution_count": 46,
   "id": "a14123c4",
   "metadata": {},
   "outputs": [
    {
     "name": "stdout",
     "output_type": "stream",
     "text": [
      "(1, 2, 3, 4)\n",
      "(1, 2, 3)\n"
     ]
    }
   ],
   "source": [
    "a = (1,2,3)\n",
    "b = a\n",
    "\n",
    "a = a + (4,)\n",
    "print(a)\n",
    "print(b)"
   ]
  },
  {
   "cell_type": "code",
   "execution_count": 59,
   "id": "1408e89f",
   "metadata": {},
   "outputs": [],
   "source": [
    "# SPEED\n",
    "\n",
    "import time \n",
    "\n",
    "L = list(range(100000))\n",
    "T = tuple(range(100000))"
   ]
  },
  {
   "cell_type": "code",
   "execution_count": 60,
   "id": "33d51e9f",
   "metadata": {},
   "outputs": [
    {
     "name": "stdout",
     "output_type": "stream",
     "text": [
      "List time 0.00846099853515625\n"
     ]
    }
   ],
   "source": [
    "start = time.time()\n",
    "for i in L:\n",
    "  i*5\n",
    "print('List time',time.time()-start)"
   ]
  },
  {
   "cell_type": "code",
   "execution_count": 61,
   "id": "a0a012b5",
   "metadata": {},
   "outputs": [
    {
     "name": "stdout",
     "output_type": "stream",
     "text": [
      "Tuple time 0.006978034973144531\n"
     ]
    }
   ],
   "source": [
    "start = time.time()\n",
    "for i in T:\n",
    "  i*5\n",
    "print('Tuple time',time.time()-start)"
   ]
  },
  {
   "cell_type": "markdown",
   "id": "8e59796a",
   "metadata": {},
   "source": [
    "## <font color=\"dark blue\"> BUITL-IN FUNCTIONS TUPLE<font color/>"
   ]
  },
  {
   "cell_type": "code",
   "execution_count": 35,
   "id": "a34800f6",
   "metadata": {},
   "outputs": [],
   "source": [
    "t = (1,2,3,4)"
   ]
  },
  {
   "cell_type": "code",
   "execution_count": 36,
   "id": "f625b449",
   "metadata": {},
   "outputs": [
    {
     "data": {
      "text/plain": [
       "4"
      ]
     },
     "execution_count": 36,
     "metadata": {},
     "output_type": "execute_result"
    }
   ],
   "source": [
    "len(t)"
   ]
  },
  {
   "cell_type": "code",
   "execution_count": 37,
   "id": "2fb6d870",
   "metadata": {},
   "outputs": [
    {
     "data": {
      "text/plain": [
       "10"
      ]
     },
     "execution_count": 37,
     "metadata": {},
     "output_type": "execute_result"
    }
   ],
   "source": [
    "sum(t)"
   ]
  },
  {
   "cell_type": "code",
   "execution_count": 38,
   "id": "e90c54f5",
   "metadata": {},
   "outputs": [
    {
     "data": {
      "text/plain": [
       "1"
      ]
     },
     "execution_count": 38,
     "metadata": {},
     "output_type": "execute_result"
    }
   ],
   "source": [
    "min(t)"
   ]
  },
  {
   "cell_type": "code",
   "execution_count": 39,
   "id": "f14723b4",
   "metadata": {},
   "outputs": [
    {
     "data": {
      "text/plain": [
       "4"
      ]
     },
     "execution_count": 39,
     "metadata": {},
     "output_type": "execute_result"
    }
   ],
   "source": [
    "max(t)"
   ]
  },
  {
   "cell_type": "code",
   "execution_count": 40,
   "id": "53914a6d",
   "metadata": {},
   "outputs": [
    {
     "data": {
      "text/plain": [
       "[4, 3, 2, 1]"
      ]
     },
     "execution_count": 40,
     "metadata": {},
     "output_type": "execute_result"
    }
   ],
   "source": [
    "sorted(t,reverse=True)"
   ]
  },
  {
   "cell_type": "code",
   "execution_count": 41,
   "id": "3dcc712d",
   "metadata": {},
   "outputs": [
    {
     "data": {
      "text/plain": [
       "0"
      ]
     },
     "execution_count": 41,
     "metadata": {},
     "output_type": "execute_result"
    }
   ],
   "source": [
    "# count\n",
    "\n",
    "t = (1,2,3,4,5)\n",
    "\n",
    "t.count(50)"
   ]
  },
  {
   "cell_type": "code",
   "execution_count": 42,
   "id": "b8b086b8",
   "metadata": {},
   "outputs": [
    {
     "data": {
      "text/plain": [
       "4"
      ]
     },
     "execution_count": 42,
     "metadata": {},
     "output_type": "execute_result"
    }
   ],
   "source": [
    "# index\n",
    "t.index(5)"
   ]
  },
  {
   "cell_type": "markdown",
   "id": "54540823",
   "metadata": {},
   "source": [
    "## <font color=\"dark blue\"> OPERATOR TUPLE<font color/>"
   ]
  },
  {
   "cell_type": "code",
   "execution_count": 62,
   "id": "07d4b996",
   "metadata": {},
   "outputs": [],
   "source": [
    "t1=(100,200,300,400,500)\n",
    "t3=(11,22,33,44,55)"
   ]
  },
  {
   "cell_type": "code",
   "execution_count": 63,
   "id": "f77bbd12",
   "metadata": {},
   "outputs": [
    {
     "data": {
      "text/plain": [
       "(100, 200, 300, 400, 500, 11, 22, 33, 44, 55)"
      ]
     },
     "execution_count": 63,
     "metadata": {},
     "output_type": "execute_result"
    }
   ],
   "source": [
    "rt=t1+t3\n",
    "rt   # MERGE THIS TWO TUPLES"
   ]
  },
  {
   "cell_type": "code",
   "execution_count": 64,
   "id": "4e867294",
   "metadata": {},
   "outputs": [
    {
     "name": "stdout",
     "output_type": "stream",
     "text": [
      "100+11 == 111\n",
      "200+22 == 222\n",
      "300+33 == 333\n",
      "400+44 == 444\n",
      "500+55 == 555\n"
     ]
    }
   ],
   "source": [
    "for i in range(len(t1)):\n",
    "    print(t1[i],end=\"+\")\n",
    "    print(t3[i],end=\" == \")\n",
    "    rt=t1[i]+t3[i]\n",
    "    print(rt)"
   ]
  },
  {
   "cell_type": "code",
   "execution_count": 65,
   "id": "163f8ae0",
   "metadata": {},
   "outputs": [
    {
     "data": {
      "text/plain": [
       "(100, 200, 300, 400, 500, 100, 200, 300, 400, 500)"
      ]
     },
     "execution_count": 65,
     "metadata": {},
     "output_type": "execute_result"
    }
   ],
   "source": [
    "t1*2"
   ]
  },
  {
   "cell_type": "markdown",
   "id": "d3a9a243",
   "metadata": {},
   "source": [
    "## <font color=\"brown\"> HOW TO ADD ELEMENTS FORCEFULLY IN A TUPLE?<font color/>"
   ]
  },
  {
   "cell_type": "code",
   "execution_count": 66,
   "id": "213b3eb6",
   "metadata": {},
   "outputs": [
    {
     "data": {
      "text/plain": [
       "(11, 22, 33, 44, 55)"
      ]
     },
     "execution_count": 66,
     "metadata": {},
     "output_type": "execute_result"
    }
   ],
   "source": [
    "t3=11, 22, 33, 44, 55\n",
    "t3"
   ]
  },
  {
   "cell_type": "code",
   "execution_count": 67,
   "id": "cfdff84a",
   "metadata": {},
   "outputs": [
    {
     "data": {
      "text/plain": [
       "[11, 22, 33, 44, 55]"
      ]
     },
     "execution_count": 67,
     "metadata": {},
     "output_type": "execute_result"
    }
   ],
   "source": [
    "l3=list(t3) # Converting to list\n",
    "l3"
   ]
  },
  {
   "cell_type": "code",
   "execution_count": 68,
   "id": "b41702e1",
   "metadata": {},
   "outputs": [
    {
     "data": {
      "text/plain": [
       "[11, 22, 33, 44, 55, 'Sky']"
      ]
     },
     "execution_count": 68,
     "metadata": {},
     "output_type": "execute_result"
    }
   ],
   "source": [
    "l3.append(\"Sky\") # add an element\n",
    "l3"
   ]
  },
  {
   "cell_type": "code",
   "execution_count": 69,
   "id": "8fe5a186",
   "metadata": {},
   "outputs": [
    {
     "data": {
      "text/plain": [
       "(11, 22, 33, 44, 55, 'Sky')"
      ]
     },
     "execution_count": 69,
     "metadata": {},
     "output_type": "execute_result"
    }
   ],
   "source": [
    "t3=tuple(l3) # Converting to tuple\n",
    "t3"
   ]
  },
  {
   "cell_type": "markdown",
   "id": "af0711ae",
   "metadata": {},
   "source": [
    "## <font color=\"dark blue\"> ZIP FUNCTION IN TUPLE<font color/>"
   ]
  },
  {
   "cell_type": "code",
   "execution_count": 70,
   "id": "8dc62054",
   "metadata": {},
   "outputs": [],
   "source": [
    "t1=100, 200, 300, 400, 500\n",
    "t2=11, 22, 33, 44, 55"
   ]
  },
  {
   "cell_type": "code",
   "execution_count": 71,
   "id": "5ea7d4fb",
   "metadata": {},
   "outputs": [
    {
     "name": "stdout",
     "output_type": "stream",
     "text": [
      "(100, 11) 100 * 11 == 1100\n",
      "(200, 22) 200 * 22 == 4400\n",
      "(300, 33) 300 * 33 == 9900\n",
      "(400, 44) 400 * 44 == 17600\n",
      "(500, 55) 500 * 55 == 27500\n"
     ]
    }
   ],
   "source": [
    "for a,b in zip(t1,t2):\n",
    "    print((a,b),a,\"*\",b,\"==\",a*b)"
   ]
  },
  {
   "cell_type": "code",
   "execution_count": 72,
   "id": "ad652ff0",
   "metadata": {},
   "outputs": [
    {
     "data": {
      "text/plain": [
       "<zip at 0x12f3c452800>"
      ]
     },
     "execution_count": 72,
     "metadata": {},
     "output_type": "execute_result"
    }
   ],
   "source": [
    "z=zip(t1,t2)\n",
    "z"
   ]
  },
  {
   "cell_type": "code",
   "execution_count": 73,
   "id": "eada6111",
   "metadata": {},
   "outputs": [
    {
     "name": "stdout",
     "output_type": "stream",
     "text": [
      "<class 'zip'>\n"
     ]
    }
   ],
   "source": [
    "print(type(z))"
   ]
  },
  {
   "cell_type": "code",
   "execution_count": 74,
   "id": "cc5b8c37",
   "metadata": {},
   "outputs": [
    {
     "data": {
      "text/plain": [
       "[(100, 11), (200, 22), (300, 33), (400, 44), (500, 55)]"
      ]
     },
     "execution_count": 74,
     "metadata": {},
     "output_type": "execute_result"
    }
   ],
   "source": [
    "list(z)"
   ]
  },
  {
   "cell_type": "code",
   "execution_count": 75,
   "id": "ed0419dd",
   "metadata": {},
   "outputs": [
    {
     "data": {
      "text/plain": [
       "()"
      ]
     },
     "execution_count": 75,
     "metadata": {},
     "output_type": "execute_result"
    }
   ],
   "source": [
    "tuple(z)"
   ]
  },
  {
   "cell_type": "code",
   "execution_count": 76,
   "id": "842b0b15",
   "metadata": {},
   "outputs": [
    {
     "data": {
      "text/plain": [
       "[]"
      ]
     },
     "execution_count": 76,
     "metadata": {},
     "output_type": "execute_result"
    }
   ],
   "source": [
    "list(z)"
   ]
  },
  {
   "cell_type": "markdown",
   "id": "461c480c",
   "metadata": {},
   "source": [
    "## <font color=\"dark blue\"> PACKING <font color/>"
   ]
  },
  {
   "cell_type": "code",
   "execution_count": 77,
   "id": "6a17c6c1",
   "metadata": {},
   "outputs": [],
   "source": [
    "a=100\n",
    "b=\"Sky\"\n",
    "c=200\n",
    "d=400"
   ]
  },
  {
   "cell_type": "code",
   "execution_count": 78,
   "id": "c986dce9",
   "metadata": {},
   "outputs": [
    {
     "data": {
      "text/plain": [
       "(100, 'Sky', 200, 400)"
      ]
     },
     "execution_count": 78,
     "metadata": {},
     "output_type": "execute_result"
    }
   ],
   "source": [
    "t5=(a,b,c,d)\n",
    "t5"
   ]
  },
  {
   "cell_type": "markdown",
   "id": "e7f8d526",
   "metadata": {},
   "source": [
    "## <font color=\"dark blue\">  UNPACKING <font color/>"
   ]
  },
  {
   "cell_type": "code",
   "execution_count": 79,
   "id": "de34756f",
   "metadata": {},
   "outputs": [],
   "source": [
    "m,n,o,p=t5"
   ]
  },
  {
   "cell_type": "code",
   "execution_count": 80,
   "id": "f106199f",
   "metadata": {},
   "outputs": [
    {
     "name": "stdout",
     "output_type": "stream",
     "text": [
      "100\n",
      "Sky\n",
      "200\n",
      "400\n"
     ]
    }
   ],
   "source": [
    "print(m)\n",
    "print(n)\n",
    "print(o)\n",
    "print(p)"
   ]
  },
  {
   "cell_type": "markdown",
   "id": "679fc6f6",
   "metadata": {},
   "source": [
    "### <font color=\"dark red\">ANOTHER EXAMPLE<font color=\"dark red\">"
   ]
  },
  {
   "cell_type": "code",
   "execution_count": 81,
   "id": "26729d50",
   "metadata": {},
   "outputs": [
    {
     "data": {
      "text/plain": [
       "'Welcome to Tuple Class of Python'"
      ]
     },
     "execution_count": 81,
     "metadata": {},
     "output_type": "execute_result"
    }
   ],
   "source": [
    "strr=\"Welcome to Tuple Class of Python\"\n",
    "strr"
   ]
  },
  {
   "cell_type": "code",
   "execution_count": 86,
   "id": "eba0f226",
   "metadata": {},
   "outputs": [
    {
     "name": "stdout",
     "output_type": "stream",
     "text": [
      "('W', 'e', 'l', 'c', 'o', 'm', 'e', ' ', 't', 'o', ' ', 'T', 'u', 'p', 'l', 'e', ' ', 'C', 'l', 'a', 's', 's', ' ', 'o', 'f', ' ', 'P', 'y', 't', 'h', 'o', 'n')\n"
     ]
    }
   ],
   "source": [
    "t6=tuple(strr)\n",
    "print(t6)"
   ]
  },
  {
   "cell_type": "code",
   "execution_count": 84,
   "id": "cd57f56e",
   "metadata": {},
   "outputs": [],
   "source": [
    "# x take first charcater, y take second character, and other characters are stored in z.\n",
    "\n",
    "x,y,*z=t6 # Variable Length Argument/ *args"
   ]
  },
  {
   "cell_type": "code",
   "execution_count": 88,
   "id": "78d6b643",
   "metadata": {},
   "outputs": [
    {
     "name": "stdout",
     "output_type": "stream",
     "text": [
      "W\n",
      "e\n",
      "['l', 'c', 'o', 'm', 'e', ' ', 't', 'o', ' ', 'T', 'u', 'p', 'l', 'e', ' ', 'C', 'l', 'a', 's', 's', ' ', 'o', 'f', ' ', 'P', 'y', 't', 'h', 'o', 'n']\n"
     ]
    }
   ],
   "source": [
    "print(x)\n",
    "print(y)\n",
    "print(z)"
   ]
  },
  {
   "cell_type": "code",
   "execution_count": 89,
   "id": "241f02c7",
   "metadata": {},
   "outputs": [
    {
     "name": "stdout",
     "output_type": "stream",
     "text": [
      "l c o m e   t o   T u p l e   C l a s s   o f   P y t h o n\n"
     ]
    }
   ],
   "source": [
    "print(*z)"
   ]
  },
  {
   "cell_type": "code",
   "execution_count": 90,
   "id": "8f52893d",
   "metadata": {},
   "outputs": [],
   "source": [
    "# x take other character except last two characters, y take second last character, and  z take last character.\n",
    "\n",
    "*x,y,z=t6"
   ]
  },
  {
   "cell_type": "code",
   "execution_count": 91,
   "id": "416abe3b",
   "metadata": {},
   "outputs": [
    {
     "name": "stdout",
     "output_type": "stream",
     "text": [
      "['W', 'e', 'l', 'c', 'o', 'm', 'e', ' ', 't', 'o', ' ', 'T', 'u', 'p', 'l', 'e', ' ', 'C', 'l', 'a', 's', 's', ' ', 'o', 'f', ' ', 'P', 'y', 't', 'h']\n",
      "o\n",
      "n\n"
     ]
    }
   ],
   "source": [
    "print(x)\n",
    "print(y)\n",
    "print(z)"
   ]
  },
  {
   "cell_type": "code",
   "execution_count": 92,
   "id": "efaf0ada",
   "metadata": {},
   "outputs": [
    {
     "name": "stdout",
     "output_type": "stream",
     "text": [
      "W e l c o m e   t o   T u p l e   C l a s s   o f   P y t h\n"
     ]
    }
   ],
   "source": [
    "print(*x)"
   ]
  },
  {
   "cell_type": "code",
   "execution_count": 93,
   "id": "f9569dda",
   "metadata": {},
   "outputs": [],
   "source": [
    "# x take first character , y take other character except first & last character , and  z take last character.\n",
    "x,*y,z=t6"
   ]
  },
  {
   "cell_type": "code",
   "execution_count": 94,
   "id": "d36cb1b5",
   "metadata": {},
   "outputs": [
    {
     "name": "stdout",
     "output_type": "stream",
     "text": [
      "W\n",
      "['e', 'l', 'c', 'o', 'm', 'e', ' ', 't', 'o', ' ', 'T', 'u', 'p', 'l', 'e', ' ', 'C', 'l', 'a', 's', 's', ' ', 'o', 'f', ' ', 'P', 'y', 't', 'h', 'o']\n",
      "n\n"
     ]
    }
   ],
   "source": [
    "print(x)\n",
    "print(y)\n",
    "print(z)"
   ]
  },
  {
   "cell_type": "code",
   "execution_count": 95,
   "id": "f3dbea30",
   "metadata": {},
   "outputs": [
    {
     "name": "stdout",
     "output_type": "stream",
     "text": [
      "e l c o m e   t o   T u p l e   C l a s s   o f   P y t h o\n"
     ]
    }
   ],
   "source": [
    "print(*y)"
   ]
  }
 ],
 "metadata": {
  "kernelspec": {
   "display_name": "Python 3 (ipykernel)",
   "language": "python",
   "name": "python3"
  },
  "language_info": {
   "codemirror_mode": {
    "name": "ipython",
    "version": 3
   },
   "file_extension": ".py",
   "mimetype": "text/x-python",
   "name": "python",
   "nbconvert_exporter": "python",
   "pygments_lexer": "ipython3",
   "version": "3.12.3"
  }
 },
 "nbformat": 4,
 "nbformat_minor": 5
}
