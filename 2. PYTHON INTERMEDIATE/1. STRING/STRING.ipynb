{
 "cells": [
  {
   "cell_type": "markdown",
   "id": "0c662e5a",
   "metadata": {},
   "source": [
    "<h1 style=\"text-align : center\"> <font color=\"red\" size=8>INTERMEDIATE PYTHON </h1>"
   ]
  },
  {
   "cell_type": "markdown",
   "id": "27e8c333",
   "metadata": {},
   "source": [
    "### "
   ]
  },
  {
   "cell_type": "markdown",
   "id": "7eb799a1",
   "metadata": {},
   "source": [
    "## <font color=\"dark blue\">WHAT IS SEQUENTIAL DATA TYPE?<font color/>\n",
    "- A SEQUENTIAL DATA TYPE CAN HOLD MULTIPLE HETEROGENEOUS VALUE & THESE VALUES ARE STORED IN SERIES OF INTERNAL MEMORY LOCATION.\n",
    "<br>\n",
    "- THESE INTERNAL MEMORY LOCATIONS ARE IDENTIFIED BY CONCEPT OF __`INDEXING`__.\n",
    "    \n",
    "- THESE SEQUENTIAL DATA TYPES ARE ALSO REFERRED AS\n",
    "> - SERIES DATA TYPE <br>\n",
    "> - COMPOUND DATA TYPE <br>\n",
    "> - COLLECTION DATA TYPE <br>\n",
    "   \n",
    "<br>\n",
    "    \n",
    "<font color=brown size=5>__DATA STRUCTURE:__</font>\n",
    "- IT IS AN OBJECT WHICH HOLD THE DATA DURING PROGRAM EXECUTION TIME.\n",
    "- LIFE OF THIS DATA STRUCTURE WITH DATA IS AS LONG AS PROGRAM EXECUTING.\n",
    "    \n",
    "<br> \n",
    "    \n",
    "<font color=brown size=5>__TYPES OF SEQUENTIAL DATA TYPES:__</font>\n",
    "> - __LIST__\n",
    "> - __TUPLE__\n",
    "> - __SET__\n",
    "> - __DICTIONARY__\n",
    "> - __STRING__"
   ]
  },
  {
   "cell_type": "markdown",
   "id": "afb6aa3c",
   "metadata": {},
   "source": [
    "### "
   ]
  },
  {
   "cell_type": "markdown",
   "id": "43687e2a",
   "metadata": {},
   "source": [
    "<h1 style=\"text-align : center\"> <font color=\"red\" size=8>1. STRING </h1>"
   ]
  },
  {
   "cell_type": "markdown",
   "id": "19e1af08",
   "metadata": {},
   "source": [
    "- STRING IS A COLLECTION OF ONE or MORE CHARACTERS PUT IN A SINGLE QUOTE(' '), DOUBLE QUOTES(\" \") or TRIPE QUOTES(\"\"\" \"\"\").\n",
    "- MULTIPLE LINE STRINGS CAN BE DENOTED AS TRIPLE QUOTES.\n",
    "- Eg: \"HELLO GOOD MORNING\"\n",
    "- __`str()`__ IS USED TO CONVERT ANY FORM TO STRING FORM."
   ]
  },
  {
   "cell_type": "code",
   "execution_count": 1,
   "id": "727b392e",
   "metadata": {},
   "outputs": [
    {
     "name": "stdout",
     "output_type": "stream",
     "text": [
      "Apple\n"
     ]
    },
    {
     "data": {
      "text/plain": [
       "str"
      ]
     },
     "execution_count": 1,
     "metadata": {},
     "output_type": "execute_result"
    }
   ],
   "source": [
    "a=\"Apple\"\n",
    "print(a)\n",
    "type(a)"
   ]
  },
  {
   "cell_type": "code",
   "execution_count": 2,
   "id": "ced5b825",
   "metadata": {},
   "outputs": [
    {
     "name": "stdout",
     "output_type": "stream",
     "text": [
      "21.34\n"
     ]
    },
    {
     "data": {
      "text/plain": [
       "str"
      ]
     },
     "execution_count": 2,
     "metadata": {},
     "output_type": "execute_result"
    }
   ],
   "source": [
    "a1=\"21.34\"\n",
    "print(a1)\n",
    "type(a1)"
   ]
  },
  {
   "cell_type": "markdown",
   "id": "c168af3c",
   "metadata": {},
   "source": [
    "### <font color=\"dark red\"> INDEX & INDEXING </font>\n",
    "- PYTHON __index()__ IS A BUILT-IN FUNCTION IN PYTHON, WHICH SEARCHES FOR A GIVEN ELEMENT FROM THE START OF THE LIST & RETURNS THE INDEX OF THE FIRST OCCURANCE."
   ]
  },
  {
   "cell_type": "code",
   "execution_count": 3,
   "id": "5fcf664e-fc36-4032-a629-f0b082ff6e05",
   "metadata": {},
   "outputs": [
    {
     "data": {
      "text/plain": [
       "1"
      ]
     },
     "execution_count": 3,
     "metadata": {},
     "output_type": "execute_result"
    }
   ],
   "source": [
    "a2=\"Welcome\"\n",
    "a2.index(\"e\",)"
   ]
  },
  {
   "cell_type": "code",
   "execution_count": 5,
   "id": "013fff4a-3252-44de-8333-adf34c62eefc",
   "metadata": {},
   "outputs": [
    {
     "data": {
      "text/plain": [
       "0"
      ]
     },
     "execution_count": 5,
     "metadata": {},
     "output_type": "execute_result"
    }
   ],
   "source": [
    "a2=\"Welcome\"\n",
    "a2.index(\"W\")"
   ]
  },
  {
   "cell_type": "code",
   "execution_count": 6,
   "id": "90f3dab0-d57c-4f93-8d71-5c04efb08cdc",
   "metadata": {},
   "outputs": [
    {
     "data": {
      "text/plain": [
       "5"
      ]
     },
     "execution_count": 6,
     "metadata": {},
     "output_type": "execute_result"
    }
   ],
   "source": [
    "a2=\"Welcome\"\n",
    "a2.index(\"m\")"
   ]
  },
  {
   "cell_type": "code",
   "execution_count": 7,
   "id": "0ebacffb-fad3-4a0b-8d14-48b2561f0dc7",
   "metadata": {},
   "outputs": [
    {
     "data": {
      "text/plain": [
       "6"
      ]
     },
     "execution_count": 7,
     "metadata": {},
     "output_type": "execute_result"
    }
   ],
   "source": [
    "a2=\"Welcome\"\n",
    "a2.index(\"e\",2)"
   ]
  },
  {
   "cell_type": "markdown",
   "id": "4b2990b5-0978-4421-95ed-272a269b5323",
   "metadata": {},
   "source": [
    "### "
   ]
  },
  {
   "cell_type": "markdown",
   "id": "383a2c1f-913d-4281-a51c-f0ea4c622c83",
   "metadata": {},
   "source": [
    "- PYTHON __indexing__ REFERS TO THE PROCESS OF ACCESSING A SPECIFIC ELEMENT IN A SEQUENCE, SUCH AS A STRING OR LIST, USING ITS POSITION OR INDEX NUMBER"
   ]
  },
  {
   "cell_type": "code",
   "execution_count": 3,
   "id": "acb4e4fe",
   "metadata": {},
   "outputs": [
    {
     "name": "stdout",
     "output_type": "stream",
     "text": [
      "Welcome\n"
     ]
    }
   ],
   "source": [
    "a2=\"Welcome\"\n",
    "print(a2)"
   ]
  },
  {
   "cell_type": "code",
   "execution_count": 4,
   "id": "9c153212",
   "metadata": {},
   "outputs": [
    {
     "data": {
      "text/plain": [
       "'W'"
      ]
     },
     "execution_count": 4,
     "metadata": {},
     "output_type": "execute_result"
    }
   ],
   "source": [
    "a2[0]"
   ]
  },
  {
   "cell_type": "code",
   "execution_count": 5,
   "id": "d78c75ee",
   "metadata": {},
   "outputs": [
    {
     "data": {
      "text/plain": [
       "'e'"
      ]
     },
     "execution_count": 5,
     "metadata": {},
     "output_type": "execute_result"
    }
   ],
   "source": [
    "a2[1]"
   ]
  },
  {
   "cell_type": "code",
   "execution_count": 6,
   "id": "71ce5f44",
   "metadata": {},
   "outputs": [
    {
     "data": {
      "text/plain": [
       "'e'"
      ]
     },
     "execution_count": 6,
     "metadata": {},
     "output_type": "execute_result"
    }
   ],
   "source": [
    "a2[-1]"
   ]
  },
  {
   "cell_type": "code",
   "execution_count": 7,
   "id": "c807d0fe",
   "metadata": {},
   "outputs": [
    {
     "data": {
      "text/plain": [
       "7"
      ]
     },
     "execution_count": 7,
     "metadata": {},
     "output_type": "execute_result"
    }
   ],
   "source": [
    "len(a2)"
   ]
  },
  {
   "cell_type": "code",
   "execution_count": 8,
   "id": "56759c87",
   "metadata": {},
   "outputs": [
    {
     "data": {
      "text/plain": [
       "'W'"
      ]
     },
     "execution_count": 8,
     "metadata": {},
     "output_type": "execute_result"
    }
   ],
   "source": [
    "a2[-len(a2)]"
   ]
  },
  {
   "cell_type": "markdown",
   "id": "f535ab31",
   "metadata": {},
   "source": [
    "### <font color=\"dark red\">SLICING</font>\n",
    "- PYTHON SLICING IS ABOUT OBTANING A SUB-STRING FROM THE GIVEN STRING BY SLICING IT RESPECTIVELY FROM START TO END.\n",
    "- __`[<STRAT>:<END>:<STEP>]`__\n",
    "- ALL THREE ARE OPTIONAL.\n",
    "- __`STEP`__ IS VERY IMPORTANT BECAUSE <font color=\"BLUE\">__IT IS DECIDE THE DIRECTION__.\n",
    "- IT DEFINES HOW TO DISPLAY EXTRACTED VALUE USING START & END.\n",
    "<br>\n",
    "\n",
    "__<font color=\"green\">FOR POSITIVE STEP:</font>__\n",
    "> - DEFAULT VALUE OF STEP IS __1__.\n",
    "> - DIRECTION ==> __LEFT TO RIGHT__\n",
    "> - STARTING INDEX IS __0__.\n",
    "> - __`STARTING INDEX < ENDING INDEX`__\n",
    "<br>\n",
    "\n",
    "__<font color=\"green\">FOR NEGATIVE STEP:</font>__\n",
    "> - DIRECTION ==> __RIGHT TO LEFT__\n",
    "> - STARTING INDEX IS __-1__.\n",
    "> - ENDING INDEX IS __-len__.\n",
    "> - __`STARTING INDEX > ENDING INDEX`__ "
   ]
  },
  {
   "cell_type": "code",
   "execution_count": 9,
   "id": "83ce9c46",
   "metadata": {},
   "outputs": [
    {
     "name": "stdout",
     "output_type": "stream",
     "text": [
      "HELLO ALL WELCOME TO PYTHON\n"
     ]
    }
   ],
   "source": [
    "a4=\"HELLO ALL WELCOME TO PYTHON\"\n",
    "print(a4)"
   ]
  },
  {
   "cell_type": "code",
   "execution_count": 10,
   "id": "a133518a",
   "metadata": {},
   "outputs": [
    {
     "data": {
      "text/plain": [
       "'HELLO'"
      ]
     },
     "execution_count": 10,
     "metadata": {},
     "output_type": "execute_result"
    }
   ],
   "source": [
    "a4[0:5:1]"
   ]
  },
  {
   "cell_type": "code",
   "execution_count": 11,
   "id": "eef3a510",
   "metadata": {},
   "outputs": [
    {
     "data": {
      "text/plain": [
       "'HELLO ALL WELCOME TO PYTHON'"
      ]
     },
     "execution_count": 11,
     "metadata": {},
     "output_type": "execute_result"
    }
   ],
   "source": [
    "a4[0:]"
   ]
  },
  {
   "cell_type": "code",
   "execution_count": 12,
   "id": "b44f0121",
   "metadata": {},
   "outputs": [
    {
     "data": {
      "text/plain": [
       "'HELLO'"
      ]
     },
     "execution_count": 12,
     "metadata": {},
     "output_type": "execute_result"
    }
   ],
   "source": [
    "a4[:5]"
   ]
  },
  {
   "cell_type": "code",
   "execution_count": 13,
   "id": "58e25552",
   "metadata": {},
   "outputs": [
    {
     "data": {
      "text/plain": [
       "'NOHTYP OT EMOCLEW LLA OLLEH'"
      ]
     },
     "execution_count": 13,
     "metadata": {},
     "output_type": "execute_result"
    }
   ],
   "source": [
    "a4[::-1]"
   ]
  },
  {
   "cell_type": "code",
   "execution_count": 14,
   "id": "f07cb82e",
   "metadata": {},
   "outputs": [
    {
     "data": {
      "text/plain": [
       "'N'"
      ]
     },
     "execution_count": 14,
     "metadata": {},
     "output_type": "execute_result"
    }
   ],
   "source": [
    "a4[-1::]"
   ]
  },
  {
   "cell_type": "code",
   "execution_count": 15,
   "id": "020cafef",
   "metadata": {},
   "outputs": [
    {
     "data": {
      "text/plain": [
       "' TO PYTHO'"
      ]
     },
     "execution_count": 15,
     "metadata": {},
     "output_type": "execute_result"
    }
   ],
   "source": [
    "a4[-10:-1:]"
   ]
  },
  {
   "cell_type": "code",
   "execution_count": 16,
   "id": "5d2650f2",
   "metadata": {},
   "outputs": [
    {
     "data": {
      "text/plain": [
       "' TO P'"
      ]
     },
     "execution_count": 16,
     "metadata": {},
     "output_type": "execute_result"
    }
   ],
   "source": [
    "a4[-10:-5:]"
   ]
  },
  {
   "cell_type": "markdown",
   "id": "98daecdc",
   "metadata": {},
   "source": [
    "### <font color=\"dark red\">CASE FUNCTIONS:</font>"
   ]
  },
  {
   "cell_type": "markdown",
   "id": "1e3ba333",
   "metadata": {},
   "source": [
    "### <font color=\"green\">a. CAPITALIZE </font>\n",
    "- ONLY FIRST LETTER OF STRING CONVERT TO UPPER CASE.\n",
    "- Eg: The apple is sweet."
   ]
  },
  {
   "cell_type": "code",
   "execution_count": 17,
   "id": "3465d2b2",
   "metadata": {},
   "outputs": [
    {
     "name": "stdout",
     "output_type": "stream",
     "text": [
      "welcome to school\n"
     ]
    }
   ],
   "source": [
    "a5=\"welcome to school\"\n",
    "print(a5)"
   ]
  },
  {
   "cell_type": "code",
   "execution_count": 18,
   "id": "6179de47",
   "metadata": {},
   "outputs": [
    {
     "name": "stdout",
     "output_type": "stream",
     "text": [
      "Welcome to school\n"
     ]
    }
   ],
   "source": [
    "b=a5.capitalize()\n",
    "print(b)"
   ]
  },
  {
   "cell_type": "markdown",
   "id": "fe947baf",
   "metadata": {},
   "source": [
    "### <font color=\"green\">b. UPPER CASE </font>\n",
    "- ALL LETTERS CONVERTS TO UPPER CASE.\n",
    "- Eg: APPLE"
   ]
  },
  {
   "cell_type": "code",
   "execution_count": 19,
   "id": "46cbfc10",
   "metadata": {},
   "outputs": [
    {
     "name": "stdout",
     "output_type": "stream",
     "text": [
      "WELCOME TO SCHOOL\n"
     ]
    }
   ],
   "source": [
    "b1=a5.upper()\n",
    "print(b1)"
   ]
  },
  {
   "cell_type": "markdown",
   "id": "244580a4",
   "metadata": {},
   "source": [
    "### <font color=\"green\">c.LOWER CASE</font>\n",
    "- ALL LETTER CONVERT TO LOWER CASE.\n",
    "- Eg: apple"
   ]
  },
  {
   "cell_type": "code",
   "execution_count": 20,
   "id": "f022e1cf",
   "metadata": {},
   "outputs": [
    {
     "data": {
      "text/plain": [
       "'WELCOME TO SCHOOL'"
      ]
     },
     "execution_count": 20,
     "metadata": {},
     "output_type": "execute_result"
    }
   ],
   "source": [
    "b1"
   ]
  },
  {
   "cell_type": "code",
   "execution_count": 21,
   "id": "c9f0f6a9",
   "metadata": {},
   "outputs": [
    {
     "name": "stdout",
     "output_type": "stream",
     "text": [
      "welcome to school\n"
     ]
    }
   ],
   "source": [
    "b2=b1.lower()\n",
    "print(b2)"
   ]
  },
  {
   "cell_type": "markdown",
   "id": "78577d28",
   "metadata": {},
   "source": [
    "### <font color=\"green\">d.TITLE</font>\n",
    "- ALL THE FIRST LETTERS OF STRINGS CONVERT TO UPPER CASE.\n",
    "- Eg: The Apple Is Sweet."
   ]
  },
  {
   "cell_type": "code",
   "execution_count": 22,
   "id": "ea10da60",
   "metadata": {},
   "outputs": [
    {
     "name": "stdout",
     "output_type": "stream",
     "text": [
      "Welcome To School\n"
     ]
    }
   ],
   "source": [
    "b3=a5.title()\n",
    "print(b3)"
   ]
  },
  {
   "cell_type": "markdown",
   "id": "e37117ea",
   "metadata": {},
   "source": [
    "### <font color=\"green\">e.SWAP CASE</font>\n",
    "- IT CONVERTS THE STRING ACCORDING TO THEIR ORIGINAL STRING."
   ]
  },
  {
   "cell_type": "code",
   "execution_count": 23,
   "id": "a6895ea2",
   "metadata": {},
   "outputs": [
    {
     "data": {
      "text/plain": [
       "'WELCOME TO SCHOOL'"
      ]
     },
     "execution_count": 23,
     "metadata": {},
     "output_type": "execute_result"
    }
   ],
   "source": [
    "b1"
   ]
  },
  {
   "cell_type": "code",
   "execution_count": 24,
   "id": "9e867add",
   "metadata": {},
   "outputs": [
    {
     "name": "stdout",
     "output_type": "stream",
     "text": [
      "welcome to school\n"
     ]
    }
   ],
   "source": [
    "b4=b1.swapcase()\n",
    "print(b4)"
   ]
  },
  {
   "cell_type": "markdown",
   "id": "41af7ff2",
   "metadata": {},
   "source": [
    "### <font color=\"dark red\">CENTER </font>\n",
    "- IT TAKE THE STRING TO CENTER.\n",
    "- WE ALSO ADD SPECIAL CHARACTER USING THIS FUNCTION."
   ]
  },
  {
   "cell_type": "code",
   "execution_count": 25,
   "id": "147d3fed",
   "metadata": {},
   "outputs": [
    {
     "name": "stdout",
     "output_type": "stream",
     "text": [
      "PYTHON\n"
     ]
    }
   ],
   "source": [
    "a6=\"PYTHON\"\n",
    "print(a6)"
   ]
  },
  {
   "cell_type": "code",
   "execution_count": 28,
   "id": "c2ad8914",
   "metadata": {},
   "outputs": [
    {
     "data": {
      "text/plain": [
       "6"
      ]
     },
     "execution_count": 28,
     "metadata": {},
     "output_type": "execute_result"
    }
   ],
   "source": [
    "len(a6)"
   ]
  },
  {
   "cell_type": "code",
   "execution_count": 26,
   "id": "9bb4fc9e",
   "metadata": {},
   "outputs": [
    {
     "name": "stdout",
     "output_type": "stream",
     "text": [
      "       PYTHON      \n"
     ]
    }
   ],
   "source": [
    "b5=a6.center(19)\n",
    "print(b5)"
   ]
  },
  {
   "cell_type": "code",
   "execution_count": 29,
   "id": "26017c1d",
   "metadata": {},
   "outputs": [
    {
     "data": {
      "text/plain": [
       "19"
      ]
     },
     "execution_count": 29,
     "metadata": {},
     "output_type": "execute_result"
    }
   ],
   "source": [
    "len(b5)"
   ]
  },
  {
   "cell_type": "code",
   "execution_count": 27,
   "id": "4c6b3616",
   "metadata": {},
   "outputs": [
    {
     "name": "stdout",
     "output_type": "stream",
     "text": [
      "*******PYTHON******\n"
     ]
    }
   ],
   "source": [
    "b6=a6.center(19,\"*\")\n",
    "print(b6)"
   ]
  },
  {
   "cell_type": "markdown",
   "id": "8b4a7036",
   "metadata": {},
   "source": [
    "### <font color=\"dark red\">LJUST</font>\n",
    "- IT ADD SPECIAL CHARACTERS/SPEACES IN RIGHT SIDE OF THE STRING."
   ]
  },
  {
   "cell_type": "code",
   "execution_count": 30,
   "id": "e28c13ce",
   "metadata": {},
   "outputs": [
    {
     "name": "stdout",
     "output_type": "stream",
     "text": [
      "PYTHON*************\n"
     ]
    }
   ],
   "source": [
    "b7=a6.ljust(19,\"*\")\n",
    "print(b7)"
   ]
  },
  {
   "cell_type": "markdown",
   "id": "9a48786b",
   "metadata": {},
   "source": [
    "### <font color=\"dark red\">RJUST</font>\n",
    "- IT ADD SPECIAL CHARACTERS/SPEACES IN LEFT SIDE OF THE STRING."
   ]
  },
  {
   "cell_type": "code",
   "execution_count": 31,
   "id": "7ebcea34",
   "metadata": {},
   "outputs": [
    {
     "name": "stdout",
     "output_type": "stream",
     "text": [
      "*************PYTHON\n"
     ]
    }
   ],
   "source": [
    "b8=a6.rjust(19,\"*\")\n",
    "print(b8)"
   ]
  },
  {
   "cell_type": "markdown",
   "id": "55fabfb3",
   "metadata": {},
   "source": [
    "### <font color=\"dark red\">STRIP</font>\n",
    "- PYTHON __`strip()`__ FUNCTION IS A PART OF BUITL-IN FUNCTIONS AVAILABLE IN THE PYTHON LIBRARY.\n",
    "- THE __`strip()`__ METHOD REMOVES GIVEN CHARACTERS FROM START * END OF THE ORIGINAL STRING.\n",
    "- BY DEFAULT, __`strip()`__ FUNCTION REMOVES WHITE SPACES FROM START * END OF THE STRING & RETURNS THE SAME STRING WITHOUT WHITE SPACES."
   ]
  },
  {
   "cell_type": "code",
   "execution_count": 32,
   "id": "6623de71",
   "metadata": {},
   "outputs": [
    {
     "data": {
      "text/plain": [
       "'       PYTHON      '"
      ]
     },
     "execution_count": 32,
     "metadata": {},
     "output_type": "execute_result"
    }
   ],
   "source": [
    "b5"
   ]
  },
  {
   "cell_type": "code",
   "execution_count": 33,
   "id": "037f5619",
   "metadata": {},
   "outputs": [
    {
     "name": "stdout",
     "output_type": "stream",
     "text": [
      "PYTHON\n"
     ]
    }
   ],
   "source": [
    "b9=b5.strip()\n",
    "print(b9)"
   ]
  },
  {
   "cell_type": "code",
   "execution_count": null,
   "id": "e2bc5aeb",
   "metadata": {},
   "outputs": [],
   "source": [
    "### find"
   ]
  },
  {
   "cell_type": "markdown",
   "id": "ffe33e4e",
   "metadata": {},
   "source": [
    "### <font color=\"dark red\">FIND</font>\n",
    "- IT FIND THE FIRST CHARACTER OF A STRING.\n",
    "- IF THE CHARACTER IS NOT PRESENT INSIDE THE STRING THEN IT GIVE -1."
   ]
  },
  {
   "cell_type": "code",
   "execution_count": 34,
   "id": "fb94d808",
   "metadata": {},
   "outputs": [
    {
     "name": "stdout",
     "output_type": "stream",
     "text": [
      "Apple is a sweet fruit\n"
     ]
    }
   ],
   "source": [
    "a7=\"Apple is a sweet fruit\"\n",
    "print(a7)"
   ]
  },
  {
   "cell_type": "code",
   "execution_count": 35,
   "id": "47f78019",
   "metadata": {},
   "outputs": [
    {
     "data": {
      "text/plain": [
       "11"
      ]
     },
     "execution_count": 35,
     "metadata": {},
     "output_type": "execute_result"
    }
   ],
   "source": [
    "a7.find(\"sweet\")"
   ]
  },
  {
   "cell_type": "code",
   "execution_count": 36,
   "id": "d39ce7e5",
   "metadata": {},
   "outputs": [
    {
     "data": {
      "text/plain": [
       "-1"
      ]
     },
     "execution_count": 36,
     "metadata": {},
     "output_type": "execute_result"
    }
   ],
   "source": [
    "a7.find(\"Sweet\")"
   ]
  },
  {
   "cell_type": "code",
   "execution_count": 37,
   "id": "1dab3474",
   "metadata": {},
   "outputs": [
    {
     "name": "stdout",
     "output_type": "stream",
     "text": [
      "APPLE IS RED IN COLOUR, APPLE IS GOOD FOR HEALTH\n"
     ]
    }
   ],
   "source": [
    "a8=\"APPLE IS RED IN COLOUR, APPLE IS GOOD FOR HEALTH\"\n",
    "print(a8)"
   ]
  },
  {
   "cell_type": "code",
   "execution_count": 38,
   "id": "93c5f14c",
   "metadata": {},
   "outputs": [
    {
     "data": {
      "text/plain": [
       "24"
      ]
     },
     "execution_count": 38,
     "metadata": {},
     "output_type": "execute_result"
    }
   ],
   "source": [
    "a8.rfind(\"APPLE\")"
   ]
  },
  {
   "cell_type": "markdown",
   "id": "87b3ad61",
   "metadata": {},
   "source": [
    "### <font color=\"dark red\">SPLIT</font>\n",
    "- THE __`split()`__ FUNCTION HELPS IN STRING MANIPULATION IN PYTHON.\n",
    "- IT ALLOWS YOU TO SPLIT UP A STRING INTO DIFFERENT SUB-STRINGS.\n",
    "- IT RETURNS A LIST OF WORDS PRESENT IN A LINE or A STRING & IS SEPARATED BY A DELIMITER STRING."
   ]
  },
  {
   "cell_type": "code",
   "execution_count": 39,
   "id": "d90cf30c",
   "metadata": {},
   "outputs": [
    {
     "name": "stdout",
     "output_type": "stream",
     "text": [
      "Apple-Banana-Orange-Mango\n"
     ]
    }
   ],
   "source": [
    "a9=\"Apple-Banana-Orange-Mango\"\n",
    "print(a9)"
   ]
  },
  {
   "cell_type": "code",
   "execution_count": 40,
   "id": "0135889f",
   "metadata": {},
   "outputs": [
    {
     "name": "stdout",
     "output_type": "stream",
     "text": [
      "['Apple', 'Banana', 'Orange', 'Mango']\n"
     ]
    }
   ],
   "source": [
    "c=a9.split(\"-\")\n",
    "print(c)"
   ]
  },
  {
   "cell_type": "markdown",
   "id": "a428e370",
   "metadata": {},
   "source": [
    "### <font color=\"dark red\">REPLACE</font>\n",
    "- IT IS USED TO REPLACE A OLD STRING TO A NEW STRING."
   ]
  },
  {
   "cell_type": "code",
   "execution_count": 42,
   "id": "e36a13af",
   "metadata": {},
   "outputs": [
    {
     "data": {
      "text/plain": [
       "'Kiwi-Banana-Orange-Mango'"
      ]
     },
     "execution_count": 42,
     "metadata": {},
     "output_type": "execute_result"
    }
   ],
   "source": [
    "a9.replace(\"Apple\",\"Kiwi\")"
   ]
  },
  {
   "cell_type": "markdown",
   "id": "e3918022",
   "metadata": {},
   "source": [
    "### <font color=\"dark red\">PARTITION</font>\n",
    "- IT PERFORM ONLY ONE SPLIT & RETURNS 3 VALUES.\n",
    "    - 1ST VALUE ==> DELIMETER\n",
    "    - 2ND VALUE ==> LEFT SIDE OF THE DELIMETER\n",
    "    - 3RD VALUE ==> RIGHT SIDE OF DELIMETER\n",
    "- DELIMETER IS IN THE RESULT.\n",
    "- IT COMES IN __`TUPLE`__ FORMAT."
   ]
  },
  {
   "cell_type": "code",
   "execution_count": 43,
   "id": "293e832c",
   "metadata": {},
   "outputs": [
    {
     "name": "stdout",
     "output_type": "stream",
     "text": [
      "ORANGE BANANA APPLE GRAPES  KIWI\n"
     ]
    }
   ],
   "source": [
    "a10=\"ORANGE BANANA APPLE GRAPES  KIWI\"\n",
    "print(a10)"
   ]
  },
  {
   "cell_type": "code",
   "execution_count": 44,
   "id": "34478c1c",
   "metadata": {},
   "outputs": [
    {
     "data": {
      "text/plain": [
       "('ORANGE BANANA ', 'APPLE', ' GRAPES  KIWI')"
      ]
     },
     "execution_count": 44,
     "metadata": {},
     "output_type": "execute_result"
    }
   ],
   "source": [
    "a10.partition(\"APPLE\")"
   ]
  },
  {
   "cell_type": "code",
   "execution_count": 45,
   "id": "04c634cc",
   "metadata": {},
   "outputs": [
    {
     "name": "stdout",
     "output_type": "stream",
     "text": [
      "Blue Green Black Yellow White Black Pink Purple\n"
     ]
    }
   ],
   "source": [
    "a11=\"Blue Green Black Yellow White Black Pink Purple\"\n",
    "print(a11)"
   ]
  },
  {
   "cell_type": "code",
   "execution_count": 46,
   "id": "3f0ac8e1",
   "metadata": {},
   "outputs": [
    {
     "data": {
      "text/plain": [
       "('Blue Green ', 'Black', ' Yellow White Black Pink Purple')"
      ]
     },
     "execution_count": 46,
     "metadata": {},
     "output_type": "execute_result"
    }
   ],
   "source": [
    "a11.partition(\"Black\")"
   ]
  },
  {
   "cell_type": "code",
   "execution_count": 47,
   "id": "ae43eaeb",
   "metadata": {},
   "outputs": [
    {
     "data": {
      "text/plain": [
       "('Blue Green Black Yellow White ', 'Black', ' Pink Purple')"
      ]
     },
     "execution_count": 47,
     "metadata": {},
     "output_type": "execute_result"
    }
   ],
   "source": [
    "a11.rpartition(\"Black\")"
   ]
  },
  {
   "cell_type": "markdown",
   "id": "ca05523e",
   "metadata": {},
   "source": [
    "### <font color=\"dark red\">JOIN</font>\n",
    "- IT IS USED TO JOIN THE STRINGS USING DELIMETERS."
   ]
  },
  {
   "cell_type": "code",
   "execution_count": 48,
   "id": "61fa08d5",
   "metadata": {},
   "outputs": [
    {
     "name": "stdout",
     "output_type": "stream",
     "text": [
      "('Blue', 'Green', 'Red', 'Blue')\n"
     ]
    }
   ],
   "source": [
    "a12=(\"Blue\",\"Green\",\"Red\",\"Blue\")\n",
    "print(a12)"
   ]
  },
  {
   "cell_type": "code",
   "execution_count": 49,
   "id": "9beac200",
   "metadata": {},
   "outputs": [
    {
     "data": {
      "text/plain": [
       "'Blue-Green-Red-Blue'"
      ]
     },
     "execution_count": 49,
     "metadata": {},
     "output_type": "execute_result"
    }
   ],
   "source": [
    "\"-\".join(a12)"
   ]
  },
  {
   "cell_type": "code",
   "execution_count": 50,
   "id": "37d1a2b2",
   "metadata": {},
   "outputs": [
    {
     "data": {
      "text/plain": [
       "'A-R-J-U-N'"
      ]
     },
     "execution_count": 50,
     "metadata": {},
     "output_type": "execute_result"
    }
   ],
   "source": [
    "\"-\".join(\"ARJUN\")"
   ]
  },
  {
   "cell_type": "markdown",
   "id": "1c90435b",
   "metadata": {},
   "source": [
    "### "
   ]
  }
 ],
 "metadata": {
  "kernelspec": {
   "display_name": "Python 3 (ipykernel)",
   "language": "python",
   "name": "python3"
  },
  "language_info": {
   "codemirror_mode": {
    "name": "ipython",
    "version": 3
   },
   "file_extension": ".py",
   "mimetype": "text/x-python",
   "name": "python",
   "nbconvert_exporter": "python",
   "pygments_lexer": "ipython3",
   "version": "3.12.3"
  }
 },
 "nbformat": 4,
 "nbformat_minor": 5
}
