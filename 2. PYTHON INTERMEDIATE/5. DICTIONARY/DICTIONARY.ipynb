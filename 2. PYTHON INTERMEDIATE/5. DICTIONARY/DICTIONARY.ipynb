{
 "cells": [
  {
   "cell_type": "markdown",
   "id": "3148f793",
   "metadata": {},
   "source": [
    "<h1 style=\"text-align : center\"> <font color=\"red\" size=8>DICTIONARY </h1>"
   ]
  },
  {
   "cell_type": "markdown",
   "id": "75ca6f3a",
   "metadata": {},
   "source": [
    "- DICTIONARY IN PYTHON IS A COLLECTION OF __`KEYS VALUES`__, USED TO STORE DATA VALUES LIKE A MAP, WHICH UNLIKE OTHER DATA TYPES WHICH HOLD ONLY A SINGLE VALUE AS AN ELEMENT.\n",
    "- IN SOME LANGUAGES, IT IS KNOWN AS __`MAP`__ or __`ASSOSIATVE ARRAYS`__."
   ]
  },
  {
   "attachments": {
    "Dictionary%20Structure.png": {
     "image/png": "[encoded data removed]"
    }
   },
   "cell_type": "markdown",
   "id": "93309c24",
   "metadata": {},
   "source": [
    "![Dictionary%20Structure.png](attachment:Dictionary%20Structure.png)"
   ]
  },
  {
   "cell_type": "markdown",
   "id": "06faf293",
   "metadata": {},
   "source": [
    "## <font color=\"brown\">PROPERTIES:<font color/>\n",
    "- MULTIPLE HETEROGENEOUS VALUES IN THE FORM OF KEY-VALUE PAIR.\n",
    "- MUTABLE\n",
    "- DUPLICATES :\n",
    "    - DUPLICATES KEYS ARE NOT ALLOWERD.\n",
    "    - DUPLICATES VALUES ARE ALLOWED.\n",
    "- INDEXING IS NOT ALLOWED.\n",
    "- SLICING IS NOT ALLOWED."
   ]
  },
  {
   "cell_type": "markdown",
   "id": "420a4df3",
   "metadata": {},
   "source": [
    "# <font color=\"dark blue\" font size=20>CRUD OPERATION IN LIST<font color/>"
   ]
  },
  {
   "cell_type": "markdown",
   "id": "a1fe27ad",
   "metadata": {},
   "source": [
    "> - CREATE\n",
    "> - READ\n",
    "> - UPDATE\n",
    "> - DELETE"
   ]
  },
  {
   "cell_type": "markdown",
   "id": "1fa2018c",
   "metadata": {},
   "source": [
    "# <font color=\"purple\">CREATING A DICTIONARY  (CREATE OPERATION)<font color/>"
   ]
  },
  {
   "cell_type": "markdown",
   "id": "5bd09d7a",
   "metadata": {},
   "source": [
    "### <font color=\"teal\"> 1. EMPTY DICTIONARY<font color/>"
   ]
  },
  {
   "cell_type": "code",
   "execution_count": 1,
   "id": "c08e3962",
   "metadata": {},
   "outputs": [
    {
     "data": {
      "text/plain": [
       "{}"
      ]
     },
     "execution_count": 1,
     "metadata": {},
     "output_type": "execute_result"
    }
   ],
   "source": [
    "d={}\n",
    "d"
   ]
  },
  {
   "cell_type": "code",
   "execution_count": 2,
   "id": "4d27508d",
   "metadata": {},
   "outputs": [
    {
     "data": {
      "text/plain": [
       "dict"
      ]
     },
     "execution_count": 2,
     "metadata": {},
     "output_type": "execute_result"
    }
   ],
   "source": [
    "type(d)"
   ]
  },
  {
   "cell_type": "markdown",
   "id": "c5e0fee4",
   "metadata": {},
   "source": [
    "### <font color=\"teal\"> 2. 1D DICTIONARY<font color/>"
   ]
  },
  {
   "cell_type": "code",
   "execution_count": 3,
   "id": "36cf4b11",
   "metadata": {},
   "outputs": [
    {
     "data": {
      "text/plain": [
       "{'name': 'Mitra', 'age': 28, 'branch': 'DS'}"
      ]
     },
     "execution_count": 3,
     "metadata": {},
     "output_type": "execute_result"
    }
   ],
   "source": [
    "d1={\"name\":\"Mitra\",\"age\":28,\"branch\":\"DS\"}\n",
    "d1"
   ]
  },
  {
   "cell_type": "markdown",
   "id": "ee650a5d",
   "metadata": {},
   "source": [
    "### <font color=\"teal\"> 3. 2D DICTIONARY<font color/>"
   ]
  },
  {
   "cell_type": "code",
   "execution_count": 4,
   "id": "3f3e7f54",
   "metadata": {},
   "outputs": [
    {
     "data": {
      "text/plain": [
       "{'name': 'nitish',\n",
       " 'college': 'bit',\n",
       " 'sem': 4,\n",
       " 'subjects': {'dsa': 50, 'maths': 67, 'english': 34}}"
      ]
     },
     "execution_count": 4,
     "metadata": {},
     "output_type": "execute_result"
    }
   ],
   "source": [
    "d2 = {\n",
    "    'name':'nitish',\n",
    "     'college':'bit',\n",
    "     'sem':4,\n",
    "     'subjects':{\n",
    "         'dsa':50,\n",
    "         'maths':67,\n",
    "         'english':34\n",
    "     }\n",
    "}\n",
    "d2"
   ]
  },
  {
   "cell_type": "markdown",
   "id": "a2dd89fa",
   "metadata": {},
   "source": [
    "### <font color=\"teal\"> 4. USING DICT FUNCTION<font color/>"
   ]
  },
  {
   "cell_type": "code",
   "execution_count": 5,
   "id": "ec5182b5",
   "metadata": {},
   "outputs": [
    {
     "data": {
      "text/plain": [
       "{'name': 'Pram', 'Age': 29, 3: 3}"
      ]
     },
     "execution_count": 5,
     "metadata": {},
     "output_type": "execute_result"
    }
   ],
   "source": [
    "d4=dict( [ (\"name\",\"Pram\"),(\"Age\",29),(3,3) ] )\n",
    "d4"
   ]
  },
  {
   "cell_type": "markdown",
   "id": "8d0f24bc",
   "metadata": {},
   "source": [
    "### <font color=\"teal\"> 5. USING MUTUABLE DATA TYPE AS KEY<font color/>\n",
    "- WE CAN NOT USE MUTABLE DATA TYPES AS KEY."
   ]
  },
  {
   "cell_type": "code",
   "execution_count": 6,
   "id": "023cab2e",
   "metadata": {},
   "outputs": [
    {
     "ename": "TypeError",
     "evalue": "unhashable type: 'list'",
     "output_type": "error",
     "traceback": [
      "\u001b[1;31m---------------------------------------------------------------------------\u001b[0m",
      "\u001b[1;31mTypeError\u001b[0m                                 Traceback (most recent call last)",
      "\u001b[1;32m~\\AppData\\Local\\Temp\\ipykernel_23408\\1979706340.py\u001b[0m in \u001b[0;36m<module>\u001b[1;34m\u001b[0m\n\u001b[1;32m----> 1\u001b[1;33m \u001b[0md5\u001b[0m \u001b[1;33m=\u001b[0m \u001b[1;33m{\u001b[0m\u001b[1;34m'name'\u001b[0m\u001b[1;33m:\u001b[0m\u001b[1;34m'nitish'\u001b[0m\u001b[1;33m,\u001b[0m\u001b[1;33m[\u001b[0m\u001b[1;36m1\u001b[0m\u001b[1;33m,\u001b[0m\u001b[1;36m2\u001b[0m\u001b[1;33m,\u001b[0m\u001b[1;36m3\u001b[0m\u001b[1;33m]\u001b[0m\u001b[1;33m:\u001b[0m\u001b[1;36m2\u001b[0m\u001b[1;33m}\u001b[0m\u001b[1;33m\u001b[0m\u001b[1;33m\u001b[0m\u001b[0m\n\u001b[0m\u001b[0;32m      2\u001b[0m \u001b[0md5\u001b[0m\u001b[1;33m\u001b[0m\u001b[1;33m\u001b[0m\u001b[0m\n",
      "\u001b[1;31mTypeError\u001b[0m: unhashable type: 'list'"
     ]
    }
   ],
   "source": [
    "d5 = {'name':'nitish',[1,2,3]:2}\n",
    "d5"
   ]
  },
  {
   "cell_type": "markdown",
   "id": "aa408082",
   "metadata": {},
   "source": [
    "### <font color=\"teal\"> 6. USING IMUTUABLE DATA TYPE AS KEY<font color/>"
   ]
  },
  {
   "cell_type": "code",
   "execution_count": 7,
   "id": "af8f042f",
   "metadata": {},
   "outputs": [
    {
     "data": {
      "text/plain": [
       "{'name': 'nitish', (1, 2, 3): 2}"
      ]
     },
     "execution_count": 7,
     "metadata": {},
     "output_type": "execute_result"
    }
   ],
   "source": [
    "d6 = {'name':'nitish',(1,2,3):2}\n",
    "d6"
   ]
  },
  {
   "cell_type": "markdown",
   "id": "a9f0e512",
   "metadata": {},
   "source": [
    "### "
   ]
  },
  {
   "cell_type": "markdown",
   "id": "9e170811",
   "metadata": {},
   "source": [
    "### <font color=\"orange\"> DUPLICATES KEYS ARE NOT ALLOWED<font color/>"
   ]
  },
  {
   "cell_type": "code",
   "execution_count": 8,
   "id": "2bbb1b36",
   "metadata": {},
   "outputs": [
    {
     "data": {
      "text/plain": [
       "{'name': 'Lima'}"
      ]
     },
     "execution_count": 8,
     "metadata": {},
     "output_type": "execute_result"
    }
   ],
   "source": [
    "d7={\"name\":\"Neha\",\"name\":\"Lima\"}\n",
    "d7   # Always give Last key-value pair."
   ]
  },
  {
   "cell_type": "markdown",
   "id": "b31cfbbb",
   "metadata": {},
   "source": [
    "### <font color=\"orange\"> DUPLICATES VALUES ARE ALLOWED<font color/>"
   ]
  },
  {
   "cell_type": "code",
   "execution_count": 9,
   "id": "26304758",
   "metadata": {},
   "outputs": [
    {
     "data": {
      "text/plain": [
       "{'name': 'Neha', 'age': 28, 'branch': 'Neha', 'height': 28}"
      ]
     },
     "execution_count": 9,
     "metadata": {},
     "output_type": "execute_result"
    }
   ],
   "source": [
    "d8={\"name\":\"Neha\",\"age\":28,\"branch\":\"Neha\",\"height\":28}\n",
    "d8"
   ]
  },
  {
   "cell_type": "markdown",
   "id": "fd961c19",
   "metadata": {},
   "source": [
    "### <font color=\"orange\"> INTERGER AS KEY<font color/>"
   ]
  },
  {
   "cell_type": "code",
   "execution_count": 10,
   "id": "554f4c9b",
   "metadata": {},
   "outputs": [
    {
     "data": {
      "text/plain": [
       "{1: 'Atul', 2: 'Jyapa', 3: 'Sipla'}"
      ]
     },
     "execution_count": 10,
     "metadata": {},
     "output_type": "execute_result"
    }
   ],
   "source": [
    "d9={1:\"Atul\",2:\"Jyapa\",3:\"Sipla\"}\n",
    "d9"
   ]
  },
  {
   "cell_type": "markdown",
   "id": "2784ad98",
   "metadata": {},
   "source": [
    "## <font color=\"blue\"> DICTIONARY FUNCTIONS <font color/>"
   ]
  },
  {
   "cell_type": "markdown",
   "id": "d264525a",
   "metadata": {},
   "source": [
    "### <font color=\"orange\"> __`keys()`__ FUNCTION<font color/>"
   ]
  },
  {
   "cell_type": "code",
   "execution_count": 11,
   "id": "6bfb12c1",
   "metadata": {},
   "outputs": [
    {
     "data": {
      "text/plain": [
       "dict_keys(['name', 'age', 'branch', 'height'])"
      ]
     },
     "execution_count": 11,
     "metadata": {},
     "output_type": "execute_result"
    }
   ],
   "source": [
    "d8.keys()  # IT GIVE ALL THE KEYS OF THE DICTIONARY"
   ]
  },
  {
   "cell_type": "markdown",
   "id": "51e009e5",
   "metadata": {},
   "source": [
    "### <font color=\"orange\"> __`values()`__ FUNCTION<font color/>"
   ]
  },
  {
   "cell_type": "code",
   "execution_count": 12,
   "id": "dec94d69",
   "metadata": {},
   "outputs": [
    {
     "data": {
      "text/plain": [
       "dict_values(['Neha', 28, 'Neha', 28])"
      ]
     },
     "execution_count": 12,
     "metadata": {},
     "output_type": "execute_result"
    }
   ],
   "source": [
    "d8.values() # IT GIVE ALL THE VALUESS OF THE DICTIONARY"
   ]
  },
  {
   "cell_type": "markdown",
   "id": "d6a16a6d",
   "metadata": {},
   "source": [
    "### <font color=\"orange\"> __`items()`__ FUNCTION<font color/>"
   ]
  },
  {
   "cell_type": "code",
   "execution_count": 13,
   "id": "5fccf47c",
   "metadata": {},
   "outputs": [
    {
     "data": {
      "text/plain": [
       "dict_items([('name', 'Neha'), ('age', 28), ('branch', 'Neha'), ('height', 28)])"
      ]
     },
     "execution_count": 13,
     "metadata": {},
     "output_type": "execute_result"
    }
   ],
   "source": [
    "d8.items()  # IT GIVE ALL THE KEY-VALUE PAIRS IN A TUPLE"
   ]
  },
  {
   "cell_type": "code",
   "execution_count": 14,
   "id": "bf47501e",
   "metadata": {},
   "outputs": [
    {
     "data": {
      "text/plain": [
       "{'name': 'Neha', 'age': 28, 'branch': 'Neha', 'height': 28}"
      ]
     },
     "execution_count": 14,
     "metadata": {},
     "output_type": "execute_result"
    }
   ],
   "source": [
    "d8"
   ]
  },
  {
   "cell_type": "markdown",
   "id": "946f69ae",
   "metadata": {},
   "source": [
    "### "
   ]
  },
  {
   "cell_type": "code",
   "execution_count": 15,
   "id": "3d212ef1",
   "metadata": {},
   "outputs": [
    {
     "data": {
      "text/plain": [
       "4"
      ]
     },
     "execution_count": 15,
     "metadata": {},
     "output_type": "execute_result"
    }
   ],
   "source": [
    "len(d8) # IT GIVE SIZE OF THE DICTONARY"
   ]
  },
  {
   "cell_type": "code",
   "execution_count": 16,
   "id": "9aa07328",
   "metadata": {},
   "outputs": [
    {
     "data": {
      "text/plain": [
       "['age', 'branch', 'height', 'name']"
      ]
     },
     "execution_count": 16,
     "metadata": {},
     "output_type": "execute_result"
    }
   ],
   "source": [
    "sorted(d8) # IT SORT ONLY THE KEY IN ASCENDING ORDER"
   ]
  },
  {
   "cell_type": "code",
   "execution_count": 17,
   "id": "36e22e73",
   "metadata": {},
   "outputs": [
    {
     "data": {
      "text/plain": [
       "['name', 'height', 'branch', 'age']"
      ]
     },
     "execution_count": 17,
     "metadata": {},
     "output_type": "execute_result"
    }
   ],
   "source": [
    "sorted(d8,reverse=True) # IT SORT ONLY THE KEY IN DESCENDING ORDER"
   ]
  },
  {
   "cell_type": "code",
   "execution_count": 18,
   "id": "1761375f",
   "metadata": {},
   "outputs": [
    {
     "data": {
      "text/plain": [
       "'name'"
      ]
     },
     "execution_count": 18,
     "metadata": {},
     "output_type": "execute_result"
    }
   ],
   "source": [
    "max(d8)"
   ]
  },
  {
   "cell_type": "markdown",
   "id": "73de1c18",
   "metadata": {},
   "source": [
    "## <font color=\"blue\"> MEMBERSHIP OPERATOR IN DICTIONARY<font color/>\n",
    "- IT ONLY WORKS IN THE KEY OF THE DICTIONARY."
   ]
  },
  {
   "cell_type": "code",
   "execution_count": 19,
   "id": "e9437e93",
   "metadata": {},
   "outputs": [
    {
     "data": {
      "text/plain": [
       "False"
      ]
     },
     "execution_count": 19,
     "metadata": {},
     "output_type": "execute_result"
    }
   ],
   "source": [
    "\"Neha\" in d8"
   ]
  },
  {
   "cell_type": "code",
   "execution_count": 20,
   "id": "6fa60b96",
   "metadata": {},
   "outputs": [
    {
     "data": {
      "text/plain": [
       "True"
      ]
     },
     "execution_count": 20,
     "metadata": {},
     "output_type": "execute_result"
    }
   ],
   "source": [
    "\"name\" in d8"
   ]
  },
  {
   "cell_type": "markdown",
   "id": "33f548f0",
   "metadata": {},
   "source": [
    "# <font color=\"purple\">ACCESSING ITEMS FROM A DICTONARY  (READ OPERATION)<font color/>"
   ]
  },
  {
   "cell_type": "markdown",
   "id": "0097fc3d",
   "metadata": {},
   "source": [
    "## <font color=\"teal\"> FOR LOOP <font color/>"
   ]
  },
  {
   "cell_type": "code",
   "execution_count": 21,
   "id": "9342e61f",
   "metadata": {},
   "outputs": [
    {
     "data": {
      "text/plain": [
       "{'name': 'Ramya',\n",
       " 'age': 28,\n",
       " 'branch': 'Neha',\n",
       " 'height': 29.8,\n",
       " 'weight': 30.0,\n",
       " 'Gender': 'Male'}"
      ]
     },
     "execution_count": 21,
     "metadata": {},
     "output_type": "execute_result"
    }
   ],
   "source": [
    "d3={\"name\":\"Ramya\",\"age\":28,\"branch\":\"Neha\",\"height\":29.8,\"weight\":30.0,\"Gender\":\"Male\"}\n",
    "d3"
   ]
  },
  {
   "cell_type": "code",
   "execution_count": 22,
   "id": "87f8f82c",
   "metadata": {},
   "outputs": [
    {
     "name": "stdout",
     "output_type": "stream",
     "text": [
      "name\n",
      "age\n",
      "branch\n",
      "height\n",
      "weight\n",
      "Gender\n"
     ]
    }
   ],
   "source": [
    "# BY DEFAULT, IT GIVE ALL THE KEYS OF DICTIONARY\n",
    "for i in d3:\n",
    "    print(i)"
   ]
  },
  {
   "cell_type": "code",
   "execution_count": 23,
   "id": "b9478562",
   "metadata": {},
   "outputs": [
    {
     "name": "stdout",
     "output_type": "stream",
     "text": [
      "name\n",
      "age\n",
      "branch\n",
      "height\n",
      "weight\n",
      "Gender\n"
     ]
    }
   ],
   "source": [
    "# IT GIVE ALL THE KEYS OF DICTIONARY\n",
    "for i in d3.keys():\n",
    "    print(i)"
   ]
  },
  {
   "cell_type": "code",
   "execution_count": 24,
   "id": "821763bc",
   "metadata": {},
   "outputs": [
    {
     "name": "stdout",
     "output_type": "stream",
     "text": [
      "Ramya\n",
      "28\n",
      "Neha\n",
      "29.8\n",
      "30.0\n",
      "Male\n"
     ]
    }
   ],
   "source": [
    "# IT GIVE ALL THE VALUES OF DICTIONARY\n",
    "for i in d3.values():\n",
    "    print(i)"
   ]
  },
  {
   "cell_type": "code",
   "execution_count": 25,
   "id": "609077ba",
   "metadata": {},
   "outputs": [
    {
     "name": "stdout",
     "output_type": "stream",
     "text": [
      "('name', 'Ramya')\n",
      "('age', 28)\n",
      "('branch', 'Neha')\n",
      "('height', 29.8)\n",
      "('weight', 30.0)\n",
      "('Gender', 'Male')\n"
     ]
    }
   ],
   "source": [
    "# IT GIVE ALL THE KEYS & VALUES OF DICTIONARY\n",
    "for i in d3.items():\n",
    "    print(i)"
   ]
  },
  {
   "cell_type": "code",
   "execution_count": 26,
   "id": "f2eaf786",
   "metadata": {},
   "outputs": [
    {
     "name": "stdout",
     "output_type": "stream",
     "text": [
      "name --->:  Ramya\n",
      "age --->:  28\n",
      "branch --->:  Neha\n",
      "height --->:  29.8\n",
      "weight --->:  30.0\n",
      "Gender --->:  Male\n"
     ]
    }
   ],
   "source": [
    "# IT GIVE ALL THE KEYS & VALUES OF DICTIONARY\n",
    "for i,j in d3.items():\n",
    "    print(i,\"--->: \",j)"
   ]
  },
  {
   "cell_type": "code",
   "execution_count": 27,
   "id": "589ddccf",
   "metadata": {},
   "outputs": [
    {
     "name": "stdout",
     "output_type": "stream",
     "text": [
      "name --->:  Ramya\n",
      "age --->:  28\n",
      "branch --->:  Neha\n",
      "height --->:  29.8\n",
      "weight --->:  30.0\n",
      "Gender --->:  Male\n"
     ]
    }
   ],
   "source": [
    "# IT ALSO GIVE ALL THE KEYS & VALUES OF DICTIONARY\n",
    "for i in d3:\n",
    "    print(i,\"--->: \",d3[i])"
   ]
  },
  {
   "cell_type": "markdown",
   "id": "dec8d50b",
   "metadata": {},
   "source": [
    "## <font color=\"teal\"> USING KEYS <font color/>"
   ]
  },
  {
   "cell_type": "code",
   "execution_count": 28,
   "id": "34cbec4e",
   "metadata": {},
   "outputs": [
    {
     "data": {
      "text/plain": [
       "{'name': 'Ramya',\n",
       " 'age': 28,\n",
       " 'branch': 'Neha',\n",
       " 'height': 29.8,\n",
       " 'weight': 30.0,\n",
       " 'Gender': 'Male'}"
      ]
     },
     "execution_count": 28,
     "metadata": {},
     "output_type": "execute_result"
    }
   ],
   "source": [
    "d3"
   ]
  },
  {
   "cell_type": "code",
   "execution_count": 29,
   "id": "07a11b47",
   "metadata": {},
   "outputs": [
    {
     "data": {
      "text/plain": [
       "'Ramya'"
      ]
     },
     "execution_count": 29,
     "metadata": {},
     "output_type": "execute_result"
    }
   ],
   "source": [
    "d3[\"name\"]"
   ]
  },
  {
   "cell_type": "code",
   "execution_count": 30,
   "id": "924e2d93",
   "metadata": {},
   "outputs": [
    {
     "data": {
      "text/plain": [
       "28"
      ]
     },
     "execution_count": 30,
     "metadata": {},
     "output_type": "execute_result"
    }
   ],
   "source": [
    "d3[\"age\"]"
   ]
  },
  {
   "cell_type": "markdown",
   "id": "afb6eb06",
   "metadata": {},
   "source": [
    "## <font color=\"purple\">ADDING & EDITING KEY-VALUE PAIR IN DICTIONARY  (UPDATE OPERATION)<font color/>"
   ]
  },
  {
   "cell_type": "markdown",
   "id": "fef28404",
   "metadata": {},
   "source": [
    "### <font color=\"teal\"> ADDING <font color/>"
   ]
  },
  {
   "cell_type": "code",
   "execution_count": 31,
   "id": "25548f6e",
   "metadata": {},
   "outputs": [
    {
     "data": {
      "text/plain": [
       "{'name': 'Ramya',\n",
       " 'age': 28,\n",
       " 'branch': 'Neha',\n",
       " 'height': 29.8,\n",
       " 'weight': 30.0,\n",
       " 'Gender': 'Male'}"
      ]
     },
     "execution_count": 31,
     "metadata": {},
     "output_type": "execute_result"
    }
   ],
   "source": [
    "d3"
   ]
  },
  {
   "cell_type": "code",
   "execution_count": 32,
   "id": "230ef6d1",
   "metadata": {},
   "outputs": [
    {
     "data": {
      "text/plain": [
       "{'name': 'Ramya',\n",
       " 'age': 28,\n",
       " 'branch': 'Neha',\n",
       " 'height': 29.8,\n",
       " 'weight': 30.0,\n",
       " 'Gender': 'Male',\n",
       " 'Color': 'White'}"
      ]
     },
     "execution_count": 32,
     "metadata": {},
     "output_type": "execute_result"
    }
   ],
   "source": [
    "d3[\"Color\"]=\"White\"\n",
    "d3"
   ]
  },
  {
   "cell_type": "markdown",
   "id": "04177c19",
   "metadata": {},
   "source": [
    "### <font color=\"teal\"> EDITING <font color/>"
   ]
  },
  {
   "cell_type": "code",
   "execution_count": 33,
   "id": "4c31b150",
   "metadata": {},
   "outputs": [
    {
     "data": {
      "text/plain": [
       "{'name': 'Ramya',\n",
       " 'age': 28,\n",
       " 'branch': 'Neha',\n",
       " 'height': 29.8,\n",
       " 'weight': 30.0,\n",
       " 'Gender': 'Male',\n",
       " 'Color': 'White'}"
      ]
     },
     "execution_count": 33,
     "metadata": {},
     "output_type": "execute_result"
    }
   ],
   "source": [
    "d3"
   ]
  },
  {
   "cell_type": "code",
   "execution_count": 34,
   "id": "bafd3a2c",
   "metadata": {},
   "outputs": [
    {
     "data": {
      "text/plain": [
       "{'name': 'Ramya',\n",
       " 'age': 28,\n",
       " 'branch': 'Neha',\n",
       " 'height': 29.8,\n",
       " 'weight': 30.0,\n",
       " 'Gender': 'Male',\n",
       " 'Color': 'Brown'}"
      ]
     },
     "execution_count": 34,
     "metadata": {},
     "output_type": "execute_result"
    }
   ],
   "source": [
    "d3[\"Color\"]=\"Brown\"\n",
    "d3"
   ]
  },
  {
   "cell_type": "markdown",
   "id": "40be9c96",
   "metadata": {},
   "source": [
    "# <font color=\"purple\">DELETING KEY-VALUE PAIR FROM A DICTIONARY  (DELETE OPERATION)<font color/>"
   ]
  },
  {
   "cell_type": "markdown",
   "id": "e8098259",
   "metadata": {},
   "source": [
    "## <font color=\"teal\"> POP <font color/>\n",
    "- POP DELETE THE ITEMS USING THE KEY."
   ]
  },
  {
   "cell_type": "code",
   "execution_count": 35,
   "id": "36519a1b",
   "metadata": {},
   "outputs": [
    {
     "data": {
      "text/plain": [
       "{'name': 'nitish', 'age': 32, 3: 3, 'gender': 'male', 'weight': 72}"
      ]
     },
     "execution_count": 35,
     "metadata": {},
     "output_type": "execute_result"
    }
   ],
   "source": [
    "d = {'name': 'nitish', 'age': 32, 3: 3, 'gender': 'male', 'weight': 72}\n",
    "d"
   ]
  },
  {
   "cell_type": "code",
   "execution_count": 36,
   "id": "0e07982d",
   "metadata": {},
   "outputs": [
    {
     "data": {
      "text/plain": [
       "{'name': 'nitish', 'age': 32, 'gender': 'male', 'weight': 72}"
      ]
     },
     "execution_count": 36,
     "metadata": {},
     "output_type": "execute_result"
    }
   ],
   "source": [
    "d.pop(3)\n",
    "d"
   ]
  },
  {
   "cell_type": "markdown",
   "id": "4069e1cb",
   "metadata": {},
   "source": [
    "## <font color=\"teal\"> POPITEM <font color/>\n",
    "- IT DELETE THE LAST KEY-VALUE PAIR OF DICTIONARY"
   ]
  },
  {
   "cell_type": "code",
   "execution_count": 37,
   "id": "c72f849c",
   "metadata": {},
   "outputs": [
    {
     "data": {
      "text/plain": [
       "('weight', 72)"
      ]
     },
     "execution_count": 37,
     "metadata": {},
     "output_type": "execute_result"
    }
   ],
   "source": [
    "d.popitem()"
   ]
  },
  {
   "cell_type": "markdown",
   "id": "a37bf762",
   "metadata": {},
   "source": [
    "## <font color=\"teal\"> DEL <font color/>\n",
    "- IT DELETE USING KEY.\n",
    "- IT ALSO DELETE THE ENTIRE DICTIONARY."
   ]
  },
  {
   "cell_type": "code",
   "execution_count": 38,
   "id": "6feb3876",
   "metadata": {},
   "outputs": [],
   "source": [
    "del  d[\"name\"]"
   ]
  },
  {
   "cell_type": "code",
   "execution_count": 39,
   "id": "206ae66e",
   "metadata": {},
   "outputs": [
    {
     "data": {
      "text/plain": [
       "{'age': 32, 'gender': 'male'}"
      ]
     },
     "execution_count": 39,
     "metadata": {},
     "output_type": "execute_result"
    }
   ],
   "source": [
    "d"
   ]
  },
  {
   "cell_type": "code",
   "execution_count": 40,
   "id": "986602e2",
   "metadata": {},
   "outputs": [
    {
     "ename": "NameError",
     "evalue": "name 'd' is not defined",
     "output_type": "error",
     "traceback": [
      "\u001b[1;31m---------------------------------------------------------------------------\u001b[0m",
      "\u001b[1;31mNameError\u001b[0m                                 Traceback (most recent call last)",
      "\u001b[1;32m~\\AppData\\Local\\Temp\\ipykernel_23408\\3760071723.py\u001b[0m in \u001b[0;36m<module>\u001b[1;34m\u001b[0m\n\u001b[0;32m      1\u001b[0m \u001b[1;32mdel\u001b[0m \u001b[0md\u001b[0m\u001b[1;33m\u001b[0m\u001b[1;33m\u001b[0m\u001b[0m\n\u001b[1;32m----> 2\u001b[1;33m \u001b[0md\u001b[0m\u001b[1;33m\u001b[0m\u001b[1;33m\u001b[0m\u001b[0m\n\u001b[0m",
      "\u001b[1;31mNameError\u001b[0m: name 'd' is not defined"
     ]
    }
   ],
   "source": [
    "del d\n",
    "d"
   ]
  },
  {
   "cell_type": "markdown",
   "id": "e248943d",
   "metadata": {},
   "source": [
    "## <font color=\"teal\"> CLEAR <font color/>\n",
    "- IT DELETE ALL THE KEY-VALUE PAIRS FROM THE DICTIONARY BUT THE DICTIOANRY IS EXITS."
   ]
  },
  {
   "cell_type": "code",
   "execution_count": 41,
   "id": "8217104f",
   "metadata": {},
   "outputs": [
    {
     "data": {
      "text/plain": [
       "{'name': 'nitish', 'age': 32, 3: 3, 'gender': 'male', 'weight': 72}"
      ]
     },
     "execution_count": 41,
     "metadata": {},
     "output_type": "execute_result"
    }
   ],
   "source": [
    "d = {'name': 'nitish', 'age': 32, 3: 3, 'gender': 'male', 'weight': 72}\n",
    "d"
   ]
  },
  {
   "cell_type": "code",
   "execution_count": 42,
   "id": "91a025ae",
   "metadata": {
    "scrolled": true
   },
   "outputs": [
    {
     "data": {
      "text/plain": [
       "{}"
      ]
     },
     "execution_count": 42,
     "metadata": {},
     "output_type": "execute_result"
    }
   ],
   "source": [
    "d.clear()\n",
    "d"
   ]
  },
  {
   "cell_type": "markdown",
   "id": "a7df4abb",
   "metadata": {},
   "source": [
    "### "
   ]
  },
  {
   "cell_type": "markdown",
   "id": "3d04c3d7",
   "metadata": {},
   "source": [
    "# <font color=\"dark blue\" font size=12> DICTIONARY COMPREHENSION <font color/>"
   ]
  },
  {
   "attachments": {
    "Dictionary%20Compreshension%20Formula.png": {
     "image/png": "[encoded data removed]"
    }
   },
   "cell_type": "markdown",
   "id": "14fbb358",
   "metadata": {},
   "source": [
    "![Dictionary%20Compreshension%20Formula.png](attachment:Dictionary%20Compreshension%20Formula.png)"
   ]
  },
  {
   "cell_type": "code",
   "execution_count": 43,
   "id": "4f87af2d",
   "metadata": {},
   "outputs": [
    {
     "data": {
      "text/plain": [
       "{1: 1, 2: 8, 3: 27, 4: 64, 5: 125}"
      ]
     },
     "execution_count": 43,
     "metadata": {},
     "output_type": "execute_result"
    }
   ],
   "source": [
    "res={a:(a**3)   for a in range(1,6)}\n",
    "res"
   ]
  },
  {
   "cell_type": "code",
   "execution_count": 44,
   "id": "59f021f6",
   "metadata": {},
   "outputs": [
    {
     "data": {
      "text/plain": [
       "{'I': 'INDIA', 'U': 'USE', 'R': 'RUSSIA'}"
      ]
     },
     "execution_count": 44,
     "metadata": {},
     "output_type": "execute_result"
    }
   ],
   "source": [
    "l=[\"INDIA\",\"USE\",\"RUSSIA\"]\n",
    "res1={j[0]:j    for j in l}\n",
    "res1"
   ]
  },
  {
   "cell_type": "markdown",
   "id": "bed8c053",
   "metadata": {},
   "source": [
    "## <font color=\"dark red\">DICTIONARY COMPREHENSION USING EXITING DICTIONAR<font color=\"dark red\">"
   ]
  },
  {
   "cell_type": "code",
   "execution_count": 45,
   "id": "53a86b95",
   "metadata": {},
   "outputs": [
    {
     "name": "stdout",
     "output_type": "stream",
     "text": [
      "dict_items([('delhi', 1000), ('mumbai', 2000), ('bangalore', 3000)])\n"
     ]
    }
   ],
   "source": [
    "distances = {'delhi':1000,'mumbai':2000,'bangalore':3000}\n",
    "print(distances.items())"
   ]
  },
  {
   "cell_type": "code",
   "execution_count": 46,
   "id": "3f08a858",
   "metadata": {},
   "outputs": [
    {
     "data": {
      "text/plain": [
       "{'delhi': 620.0, 'mumbai': 1240.0, 'bangalore': 1860.0}"
      ]
     },
     "execution_count": 46,
     "metadata": {},
     "output_type": "execute_result"
    }
   ],
   "source": [
    "distances = {'delhi':1000,'mumbai':2000,'bangalore':3000}\n",
    "{key:value*0.62 for (key,value) in distances.items()}"
   ]
  },
  {
   "cell_type": "markdown",
   "id": "cf6aa566",
   "metadata": {},
   "source": [
    "## <font color=\"dark red\">DICTIONARY COMPREHENSION WITH IF CONDITION<font color=\"dark red\">"
   ]
  },
  {
   "cell_type": "code",
   "execution_count": 47,
   "id": "1dea2c66",
   "metadata": {},
   "outputs": [
    {
     "data": {
      "text/plain": [
       "{2: 8, 4: 64, 6: 216, 8: 512, 10: 1000, 12: 1728, 14: 2744, 16: 4096, 18: 5832}"
      ]
     },
     "execution_count": 47,
     "metadata": {},
     "output_type": "execute_result"
    }
   ],
   "source": [
    "res2={  i:i**3      for i in range(1,20)    if i%2==0  }\n",
    "res2"
   ]
  },
  {
   "cell_type": "code",
   "execution_count": 48,
   "id": "883df464",
   "metadata": {},
   "outputs": [
    {
     "data": {
      "text/plain": [
       "{'phone': 10, 'charger': 32}"
      ]
     },
     "execution_count": 48,
     "metadata": {},
     "output_type": "execute_result"
    }
   ],
   "source": [
    "products = {'phone':10,'laptop':0,'charger':32,'tablet':0}\n",
    "\n",
    "{key:value for (key,value) in products.items() if value>0}"
   ]
  },
  {
   "cell_type": "markdown",
   "id": "770c5e44",
   "metadata": {},
   "source": [
    "## <font color=\"dark red\">DICTIONARY COMPREHENSION WITH IF..ELSE CONDITION<font color=\"dark red\">"
   ]
  },
  {
   "cell_type": "code",
   "execution_count": 49,
   "id": "78a17169",
   "metadata": {},
   "outputs": [
    {
     "data": {
      "text/plain": [
       "{1: 'Odd',\n",
       " 2: 'Even',\n",
       " 3: 'Odd',\n",
       " 4: 'Even',\n",
       " 5: 'Odd',\n",
       " 6: 'Even',\n",
       " 7: 'Odd',\n",
       " 8: 'Even',\n",
       " 9: 'Odd',\n",
       " 10: 'Even',\n",
       " 11: 'Odd',\n",
       " 12: 'Even',\n",
       " 13: 'Odd',\n",
       " 14: 'Even',\n",
       " 15: 'Odd',\n",
       " 16: 'Even',\n",
       " 17: 'Odd',\n",
       " 18: 'Even',\n",
       " 19: 'Odd'}"
      ]
     },
     "execution_count": 49,
     "metadata": {},
     "output_type": "execute_result"
    }
   ],
   "source": [
    "{  i: \"Even\"  if i%2==0  else \"Odd\"     for i in range(1,20)   }"
   ]
  },
  {
   "cell_type": "markdown",
   "id": "1d017268",
   "metadata": {},
   "source": [
    "## <font color=\"dark red\">DICTIONARY COMPREHENSION WITH ZIP<font color=\"dark red\">"
   ]
  },
  {
   "cell_type": "code",
   "execution_count": 50,
   "id": "a31d811d",
   "metadata": {},
   "outputs": [
    {
     "data": {
      "text/plain": [
       "{'Sunday': 30.5,\n",
       " 'Monday': 32.6,\n",
       " 'Tuesday': 31.8,\n",
       " 'Wednesday': 33.4,\n",
       " 'Thursday': 29.8,\n",
       " 'Friday': 30.2,\n",
       " 'Saturday': 29.9}"
      ]
     },
     "execution_count": 50,
     "metadata": {},
     "output_type": "execute_result"
    }
   ],
   "source": [
    "days = [\"Sunday\", \"Monday\",\"Tuesday\",\"Wednesday\",\"Thursday\",\"Friday\",\"Saturday\"]\n",
    "temp_C = [30.5,32.6,31.8,33.4,29.8,30.2,29.9]\n",
    "\n",
    "{i:j for (i,j) in zip(days,temp_C)}"
   ]
  },
  {
   "cell_type": "markdown",
   "id": "b44406ae",
   "metadata": {},
   "source": [
    "## <font color=\"dark red\"> NESTED DICTIONARY COMPREHENSION<font color=\"dark red\">"
   ]
  },
  {
   "cell_type": "code",
   "execution_count": 51,
   "id": "cd7d1bb0",
   "metadata": {},
   "outputs": [
    {
     "data": {
      "text/plain": [
       "{2: {1: 2, 2: 4, 3: 6, 4: 8, 5: 10, 6: 12, 7: 14, 8: 16, 9: 18, 10: 20},\n",
       " 3: {1: 3, 2: 6, 3: 9, 4: 12, 5: 15, 6: 18, 7: 21, 8: 24, 9: 27, 10: 30},\n",
       " 4: {1: 4, 2: 8, 3: 12, 4: 16, 5: 20, 6: 24, 7: 28, 8: 32, 9: 36, 10: 40}}"
      ]
     },
     "execution_count": 51,
     "metadata": {},
     "output_type": "execute_result"
    }
   ],
   "source": [
    "# print tables of number from 2 to 4\n",
    "{i:{j:i*j for j in range(1,11)} for i in range(2,5)}"
   ]
  }
 ],
 "metadata": {
  "kernelspec": {
   "display_name": "Python 3 (ipykernel)",
   "language": "python",
   "name": "python3"
  },
  "language_info": {
   "codemirror_mode": {
    "name": "ipython",
    "version": 3
   },
   "file_extension": ".py",
   "mimetype": "text/x-python",
   "name": "python",
   "nbconvert_exporter": "python",
   "pygments_lexer": "ipython3",
   "version": "3.9.13"
  }
 },
 "nbformat": 4,
 "nbformat_minor": 5
}
