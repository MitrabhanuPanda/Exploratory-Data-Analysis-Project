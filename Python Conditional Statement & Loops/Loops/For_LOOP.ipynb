{
 "cells": [
  {
   "cell_type": "code",
   "execution_count": 13,
   "id": "7278b894",
   "metadata": {},
   "outputs": [],
   "source": [
    "import time"
   ]
  },
  {
   "cell_type": "code",
   "execution_count": 14,
   "id": "ec70732e",
   "metadata": {},
   "outputs": [],
   "source": [
    "list1=[\"APPLE\",\"HYDRABAD\",\"12345\",\"USA\"]"
   ]
  },
  {
   "cell_type": "code",
   "execution_count": 15,
   "id": "dee3b023",
   "metadata": {},
   "outputs": [
    {
     "name": "stdout",
     "output_type": "stream",
     "text": [
      "APPLE\n",
      "HYDRABAD\n",
      "12345\n",
      "USA\n"
     ]
    }
   ],
   "source": [
    "for a in list1:\n",
    "    print(a)"
   ]
  },
  {
   "cell_type": "code",
   "execution_count": 16,
   "id": "278b26b7",
   "metadata": {},
   "outputs": [
    {
     "name": "stdout",
     "output_type": "stream",
     "text": [
      "APPLE\n",
      "____________\n",
      "A\n",
      "P\n",
      "P\n",
      "L\n",
      "E\n",
      "HYDRABAD\n",
      "____________\n",
      "H\n",
      "Y\n",
      "D\n",
      "R\n",
      "A\n",
      "B\n",
      "A\n",
      "D\n",
      "12345\n",
      "____________\n",
      "1\n",
      "2\n",
      "3\n",
      "4\n",
      "5\n",
      "USA\n",
      "____________\n",
      "U\n",
      "S\n",
      "A\n"
     ]
    }
   ],
   "source": [
    "for a in list1:\n",
    "    print(a)\n",
    "    print(\"____________\")\n",
    "    \n",
    "    for x in a:\n",
    "        print(x)\n",
    "        "
   ]
  },
  {
   "cell_type": "code",
   "execution_count": 20,
   "id": "273ff22a",
   "metadata": {},
   "outputs": [],
   "source": [
    "list2=[\"APPLE\",\"HYDRABAD\",12345,\"USA\",\"INDIA\",2100,\"FRANCE\"]"
   ]
  },
  {
   "cell_type": "code",
   "execution_count": 21,
   "id": "4a1af840",
   "metadata": {},
   "outputs": [
    {
     "name": "stdout",
     "output_type": "stream",
     "text": [
      "APPLE\n",
      "HYDRABAD\n",
      "12345\n",
      "USA\n",
      "INDIA\n",
      "2100\n",
      "FRANCE\n"
     ]
    }
   ],
   "source": [
    "for i in list2:\n",
    "    print(i)\n",
    "    time.sleep(0.7)"
   ]
  },
  {
   "cell_type": "code",
   "execution_count": 27,
   "id": "32f9c2fb",
   "metadata": {},
   "outputs": [
    {
     "name": "stdout",
     "output_type": "stream",
     "text": [
      "APPLE\n",
      "_______________\n",
      "A\n",
      "P\n",
      "P\n",
      "L\n",
      "E\n",
      "_________________\n",
      "HYDRABAD\n",
      "_______________\n",
      "H\n",
      "Y\n",
      "D\n",
      "R\n",
      "A\n",
      "B\n",
      "A\n",
      "D\n",
      "_________________\n",
      "12345\n",
      "_______________\n",
      "_________________\n",
      "USA\n",
      "_______________\n",
      "U\n",
      "S\n",
      "A\n",
      "_________________\n",
      "INDIA\n",
      "_______________\n",
      "I\n",
      "N\n",
      "D\n",
      "I\n",
      "A\n",
      "_________________\n",
      "2100\n",
      "_______________\n",
      "_________________\n",
      "FRANCE\n",
      "_______________\n",
      "F\n",
      "R\n",
      "A\n",
      "N\n",
      "C\n",
      "E\n",
      "_________________\n"
     ]
    }
   ],
   "source": [
    "for i in list2:\n",
    "    print(i)\n",
    "    print(\"_______________\")\n",
    "    if type(i)== str:\n",
    "        for j in i:\n",
    "            print(j)\n",
    "    \n",
    "    print(\"_________________\")\n",
    "    time.sleep(0.7)"
   ]
  },
  {
   "cell_type": "markdown",
   "id": "adaea271",
   "metadata": {},
   "source": [
    "### Range()"
   ]
  },
  {
   "cell_type": "code",
   "execution_count": 28,
   "id": "cc6b2361",
   "metadata": {},
   "outputs": [],
   "source": [
    "a=range(1,11,1)"
   ]
  },
  {
   "cell_type": "code",
   "execution_count": 29,
   "id": "1bb5422e",
   "metadata": {},
   "outputs": [
    {
     "data": {
      "text/plain": [
       "range(1, 11)"
      ]
     },
     "execution_count": 29,
     "metadata": {},
     "output_type": "execute_result"
    }
   ],
   "source": [
    "a #Generate the value"
   ]
  },
  {
   "cell_type": "code",
   "execution_count": 30,
   "id": "7b44be08",
   "metadata": {},
   "outputs": [
    {
     "data": {
      "text/plain": [
       "[1, 2, 3, 4, 5, 6, 7, 8, 9, 10]"
      ]
     },
     "execution_count": 30,
     "metadata": {},
     "output_type": "execute_result"
    }
   ],
   "source": [
    "list(a) #Container hold the values."
   ]
  },
  {
   "cell_type": "code",
   "execution_count": 34,
   "id": "dde4b146",
   "metadata": {},
   "outputs": [],
   "source": [
    "b=list(range(2,20,2))"
   ]
  },
  {
   "cell_type": "code",
   "execution_count": 35,
   "id": "7f011f7e",
   "metadata": {},
   "outputs": [
    {
     "data": {
      "text/plain": [
       "[2, 4, 6, 8, 10, 12, 14, 16, 18]"
      ]
     },
     "execution_count": 35,
     "metadata": {},
     "output_type": "execute_result"
    }
   ],
   "source": [
    "b"
   ]
  },
  {
   "cell_type": "code",
   "execution_count": 37,
   "id": "2274cb79",
   "metadata": {},
   "outputs": [
    {
     "data": {
      "text/plain": [
       "[10, 15, 20, 25, 30, 35, 40, 45]"
      ]
     },
     "execution_count": 37,
     "metadata": {},
     "output_type": "execute_result"
    }
   ],
   "source": [
    "res=list(range(10,50,5))\n",
    "res"
   ]
  },
  {
   "cell_type": "code",
   "execution_count": 38,
   "id": "4d758286",
   "metadata": {},
   "outputs": [
    {
     "data": {
      "text/plain": [
       "[10,\n",
       " 11,\n",
       " 12,\n",
       " 13,\n",
       " 14,\n",
       " 15,\n",
       " 16,\n",
       " 17,\n",
       " 18,\n",
       " 19,\n",
       " 20,\n",
       " 21,\n",
       " 22,\n",
       " 23,\n",
       " 24,\n",
       " 25,\n",
       " 26,\n",
       " 27,\n",
       " 28,\n",
       " 29,\n",
       " 30,\n",
       " 31,\n",
       " 32,\n",
       " 33,\n",
       " 34,\n",
       " 35,\n",
       " 36,\n",
       " 37,\n",
       " 38,\n",
       " 39,\n",
       " 40,\n",
       " 41,\n",
       " 42,\n",
       " 43,\n",
       " 44,\n",
       " 45,\n",
       " 46,\n",
       " 47,\n",
       " 48,\n",
       " 49]"
      ]
     },
     "execution_count": 38,
     "metadata": {},
     "output_type": "execute_result"
    }
   ],
   "source": [
    "res1=list(range(10,50))\n",
    "res1"
   ]
  },
  {
   "cell_type": "code",
   "execution_count": 39,
   "id": "aaaad1e3",
   "metadata": {},
   "outputs": [
    {
     "data": {
      "text/plain": [
       "[0,\n",
       " 1,\n",
       " 2,\n",
       " 3,\n",
       " 4,\n",
       " 5,\n",
       " 6,\n",
       " 7,\n",
       " 8,\n",
       " 9,\n",
       " 10,\n",
       " 11,\n",
       " 12,\n",
       " 13,\n",
       " 14,\n",
       " 15,\n",
       " 16,\n",
       " 17,\n",
       " 18,\n",
       " 19,\n",
       " 20,\n",
       " 21,\n",
       " 22,\n",
       " 23,\n",
       " 24,\n",
       " 25,\n",
       " 26,\n",
       " 27,\n",
       " 28,\n",
       " 29,\n",
       " 30,\n",
       " 31,\n",
       " 32,\n",
       " 33,\n",
       " 34,\n",
       " 35,\n",
       " 36,\n",
       " 37,\n",
       " 38,\n",
       " 39,\n",
       " 40,\n",
       " 41,\n",
       " 42,\n",
       " 43,\n",
       " 44,\n",
       " 45,\n",
       " 46,\n",
       " 47,\n",
       " 48,\n",
       " 49]"
      ]
     },
     "execution_count": 39,
     "metadata": {},
     "output_type": "execute_result"
    }
   ],
   "source": [
    "res2=list(range(50))\n",
    "res2"
   ]
  },
  {
   "cell_type": "code",
   "execution_count": null,
   "id": "539671ee",
   "metadata": {},
   "outputs": [],
   "source": [
    "res3=list(range()) #ERROR"
   ]
  },
  {
   "cell_type": "code",
   "execution_count": 41,
   "id": "f2b5894d",
   "metadata": {},
   "outputs": [
    {
     "data": {
      "text/plain": [
       "[20, 19, 18, 17, 16, 15, 14, 13, 12, 11]"
      ]
     },
     "execution_count": 41,
     "metadata": {},
     "output_type": "execute_result"
    }
   ],
   "source": [
    "res4=list(range(20,10,-1)) # Staring value > Ending value\n",
    "res4"
   ]
  },
  {
   "cell_type": "markdown",
   "id": "e549096b",
   "metadata": {},
   "source": [
    "### For with Range"
   ]
  },
  {
   "cell_type": "code",
   "execution_count": 42,
   "id": "79c879e0",
   "metadata": {},
   "outputs": [
    {
     "name": "stdout",
     "output_type": "stream",
     "text": [
      "1\n",
      "2\n",
      "3\n",
      "4\n",
      "5\n",
      "6\n",
      "7\n",
      "8\n",
      "9\n"
     ]
    }
   ],
   "source": [
    "for i in range(1,10,1):\n",
    "    print(i)"
   ]
  },
  {
   "cell_type": "code",
   "execution_count": 43,
   "id": "f97cbd1f",
   "metadata": {},
   "outputs": [
    {
     "name": "stdout",
     "output_type": "stream",
     "text": [
      "10\n",
      "9\n",
      "8\n",
      "7\n",
      "6\n",
      "5\n",
      "4\n",
      "3\n",
      "2\n"
     ]
    }
   ],
   "source": [
    "for i1 in range(10,1,-1):\n",
    "    print(i1)"
   ]
  },
  {
   "cell_type": "code",
   "execution_count": 44,
   "id": "d3032d93",
   "metadata": {},
   "outputs": [
    {
     "name": "stdout",
     "output_type": "stream",
     "text": [
      "0\n",
      "2\n",
      "4\n",
      "6\n",
      "8\n"
     ]
    }
   ],
   "source": [
    "for i2 in range(0,10,2):\n",
    "    print(i2)"
   ]
  },
  {
   "cell_type": "code",
   "execution_count": null,
   "id": "b6462456",
   "metadata": {},
   "outputs": [],
   "source": []
  },
  {
   "cell_type": "code",
   "execution_count": 49,
   "id": "c1c9b0f3",
   "metadata": {},
   "outputs": [],
   "source": [
    "import numpy as np"
   ]
  },
  {
   "cell_type": "code",
   "execution_count": 51,
   "id": "132dd417",
   "metadata": {},
   "outputs": [
    {
     "name": "stderr",
     "output_type": "stream",
     "text": [
      "<>:1: SyntaxWarning: 'int' object is not callable; perhaps you missed a comma?\n",
      "<>:1: SyntaxWarning: 'int' object is not callable; perhaps you missed a comma?\n",
      "C:\\Users\\mitra\\AppData\\Local\\Temp\\ipykernel_5168\\1294036362.py:1: SyntaxWarning: 'int' object is not callable; perhaps you missed a comma?\n",
      "  ary1= np.random.randint(10,100(40))\n"
     ]
    },
    {
     "ename": "TypeError",
     "evalue": "'int' object is not callable",
     "output_type": "error",
     "traceback": [
      "\u001b[1;31m---------------------------------------------------------------------------\u001b[0m",
      "\u001b[1;31mTypeError\u001b[0m                                 Traceback (most recent call last)",
      "\u001b[1;32m~\\AppData\\Local\\Temp\\ipykernel_5168\\1294036362.py\u001b[0m in \u001b[0;36m<module>\u001b[1;34m\u001b[0m\n\u001b[1;32m----> 1\u001b[1;33m \u001b[0mary1\u001b[0m\u001b[1;33m=\u001b[0m \u001b[0mnp\u001b[0m\u001b[1;33m.\u001b[0m\u001b[0mrandom\u001b[0m\u001b[1;33m.\u001b[0m\u001b[0mrandint\u001b[0m\u001b[1;33m(\u001b[0m\u001b[1;36m10\u001b[0m\u001b[1;33m,\u001b[0m\u001b[1;36m100\u001b[0m\u001b[1;33m(\u001b[0m\u001b[1;36m40\u001b[0m\u001b[1;33m)\u001b[0m\u001b[1;33m)\u001b[0m\u001b[1;33m\u001b[0m\u001b[1;33m\u001b[0m\u001b[0m\n\u001b[0m",
      "\u001b[1;31mTypeError\u001b[0m: 'int' object is not callable"
     ]
    }
   ],
   "source": [
    "ary1= np.random.randint(10,100(40))\n"
   ]
  },
  {
   "cell_type": "code",
   "execution_count": 48,
   "id": "689e7f24",
   "metadata": {},
   "outputs": [
    {
     "ename": "NameError",
     "evalue": "name 'ary1' is not defined",
     "output_type": "error",
     "traceback": [
      "\u001b[1;31m---------------------------------------------------------------------------\u001b[0m",
      "\u001b[1;31mNameError\u001b[0m                                 Traceback (most recent call last)",
      "\u001b[1;32m~\\AppData\\Local\\Temp\\ipykernel_5168\\1156829242.py\u001b[0m in \u001b[0;36m<module>\u001b[1;34m\u001b[0m\n\u001b[1;32m----> 1\u001b[1;33m \u001b[0mary1\u001b[0m\u001b[1;33m.\u001b[0m\u001b[0mndim\u001b[0m\u001b[1;33m\u001b[0m\u001b[1;33m\u001b[0m\u001b[0m\n\u001b[0m",
      "\u001b[1;31mNameError\u001b[0m: name 'ary1' is not defined"
     ]
    }
   ],
   "source": [
    "ary1.ndim"
   ]
  },
  {
   "cell_type": "code",
   "execution_count": null,
   "id": "a56c9721",
   "metadata": {},
   "outputs": [],
   "source": [
    "ary1.shape"
   ]
  },
  {
   "cell_type": "code",
   "execution_count": null,
   "id": "f56f92db",
   "metadata": {},
   "outputs": [],
   "source": [
    "ary1.size"
   ]
  },
  {
   "cell_type": "code",
   "execution_count": null,
   "id": "b3c0634d",
   "metadata": {},
   "outputs": [],
   "source": [
    "for i in ary1:\n",
    "    if i%2==0:\n",
    "        print(i)"
   ]
  },
  {
   "cell_type": "code",
   "execution_count": 53,
   "id": "da24348d",
   "metadata": {},
   "outputs": [
    {
     "name": "stdout",
     "output_type": "stream",
     "text": [
      "9 * 1 == 9\n",
      "9 * 2 == 18\n",
      "9 * 3 == 27\n",
      "9 * 4 == 36\n",
      "9 * 5 == 45\n",
      "9 * 6 == 54\n",
      "9 * 7 == 63\n",
      "9 * 8 == 72\n",
      "9 * 9 == 81\n",
      "9 * 10 == 90\n"
     ]
    }
   ],
   "source": [
    "for i in range(1,11,1):\n",
    "    print(9,\"*\",i,\"==\",i*9)"
   ]
  },
  {
   "cell_type": "code",
   "execution_count": 71,
   "id": "36cd136e",
   "metadata": {},
   "outputs": [
    {
     "name": "stdout",
     "output_type": "stream",
     "text": [
      "Enter Table Range: 5\n",
      "2 * 1 == 2\n",
      "2 * 2 == 4\n",
      "2 * 3 == 6\n",
      "2 * 4 == 8\n",
      "2 * 5 == 10\n",
      "2 * 6 == 12\n",
      "2 * 7 == 14\n",
      "2 * 8 == 16\n",
      "2 * 9 == 18\n",
      "2 * 10 == 20\n",
      "3 * 1 == 3\n",
      "3 * 2 == 6\n",
      "3 * 3 == 9\n",
      "3 * 4 == 12\n",
      "3 * 5 == 15\n",
      "3 * 6 == 18\n",
      "3 * 7 == 21\n",
      "3 * 8 == 24\n",
      "3 * 9 == 27\n",
      "3 * 10 == 30\n",
      "4 * 1 == 4\n",
      "4 * 2 == 8\n",
      "4 * 3 == 12\n",
      "4 * 4 == 16\n",
      "4 * 5 == 20\n",
      "4 * 6 == 24\n",
      "4 * 7 == 28\n",
      "4 * 8 == 32\n",
      "4 * 9 == 36\n",
      "4 * 10 == 40\n",
      "5 * 1 == 5\n",
      "5 * 2 == 10\n",
      "5 * 3 == 15\n",
      "5 * 4 == 20\n",
      "5 * 5 == 25\n",
      "5 * 6 == 30\n",
      "5 * 7 == 35\n",
      "5 * 8 == 40\n",
      "5 * 9 == 45\n",
      "5 * 10 == 50\n"
     ]
    }
   ],
   "source": [
    "num=int(input(\"Enter Table Range: \"))\n",
    "\n",
    "for x in range(2,num+1):\n",
    "    \n",
    "    for i in range(1,11):\n",
    "        print(x,\"*\",i,\"==\",x*i)\n",
    "    \n",
    "        \n",
    "    "
   ]
  },
  {
   "cell_type": "code",
   "execution_count": 67,
   "id": "96e0bc0f",
   "metadata": {},
   "outputs": [
    {
     "name": "stdout",
     "output_type": "stream",
     "text": [
      "Enter Table Range: 5\n",
      "2 * 1 == 2\t3 * 1 == 3\t4 * 1 == 4\t5 * 1 == 5\t\n",
      "2 * 2 == 4\t3 * 2 == 6\t4 * 2 == 8\t5 * 2 == 10\t\n",
      "2 * 3 == 6\t3 * 3 == 9\t4 * 3 == 12\t5 * 3 == 15\t\n",
      "2 * 4 == 8\t3 * 4 == 12\t4 * 4 == 16\t5 * 4 == 20\t\n",
      "2 * 5 == 10\t3 * 5 == 15\t4 * 5 == 20\t5 * 5 == 25\t\n",
      "2 * 6 == 12\t3 * 6 == 18\t4 * 6 == 24\t5 * 6 == 30\t\n",
      "2 * 7 == 14\t3 * 7 == 21\t4 * 7 == 28\t5 * 7 == 35\t\n",
      "2 * 8 == 16\t3 * 8 == 24\t4 * 8 == 32\t5 * 8 == 40\t\n",
      "2 * 9 == 18\t3 * 9 == 27\t4 * 9 == 36\t5 * 9 == 45\t\n",
      "2 * 10 == 20\t3 * 10 == 30\t4 * 10 == 40\t5 * 10 == 50\t\n"
     ]
    }
   ],
   "source": [
    "num=int(input(\"Enter Table Range: \"))\n",
    "for i in range(1,11):\n",
    "    for x in range(2,num+1):\n",
    "        print(x,\"*\",i,\"==\",x*i,end=\"\\t\")\n",
    "    print()"
   ]
  },
  {
   "cell_type": "code",
   "execution_count": 75,
   "id": "dcee853b",
   "metadata": {},
   "outputs": [
    {
     "name": "stdout",
     "output_type": "stream",
     "text": [
      "Enter a Number: 5\n",
      "Not Prime\n",
      "Not Prime\n",
      "Not Prime\n",
      "Not Prime\n",
      "Prime\n"
     ]
    }
   ],
   "source": [
    "num1=int(input(\"Enter a Number: \"))\n",
    "\n",
    "\n",
    "for i in range(1,num+1):\n",
    "    if i%num1==0 and i%i==0:\n",
    "        print(\"Prime\")\n",
    "    else:\n",
    "        print(\"Not Prime\")"
   ]
  },
  {
   "cell_type": "code",
   "execution_count": 3,
   "id": "76390412",
   "metadata": {},
   "outputs": [
    {
     "name": "stdout",
     "output_type": "stream",
     "text": [
      "Enter a Number: 1\n",
      "Not Prime Number\n"
     ]
    }
   ],
   "source": [
    "num1=int(input(\"Enter a Number: \"))\n",
    "\n",
    "c=0\n",
    "for i in range(1,num1+1):\n",
    "    if num1%i==0:\n",
    "        c=c+1\n",
    "        \n",
    "if c==2:\n",
    "    print(\"Prime Number\")\n",
    "else :\n",
    "    print(\"Not Prime Number\")"
   ]
  },
  {
   "cell_type": "markdown",
   "id": "b814f398",
   "metadata": {},
   "source": [
    "### Interruptive Statement"
   ]
  },
  {
   "cell_type": "markdown",
   "id": "0b21fcfb",
   "metadata": {},
   "source": [
    "### Break"
   ]
  },
  {
   "cell_type": "code",
   "execution_count": 78,
   "id": "1d827ea7",
   "metadata": {},
   "outputs": [
    {
     "name": "stdout",
     "output_type": "stream",
     "text": [
      "1\n",
      "2\n",
      "3\n",
      "4\n",
      "5\n",
      "6\n",
      "This is the end of Program\n"
     ]
    }
   ],
   "source": [
    "for i in range(1,10): #break\n",
    "    if i==7:\n",
    "        break\n",
    "        \n",
    "    print(i)\n",
    "    time.sleep(0.5)\n",
    "print(\"This is the end of Program\")"
   ]
  },
  {
   "cell_type": "markdown",
   "id": "e0f7469c",
   "metadata": {},
   "source": [
    "### Continue"
   ]
  },
  {
   "cell_type": "code",
   "execution_count": 79,
   "id": "671a7323",
   "metadata": {},
   "outputs": [
    {
     "name": "stdout",
     "output_type": "stream",
     "text": [
      "1\n",
      "2\n",
      "3\n",
      "4\n",
      "5\n",
      "6\n",
      "8\n",
      "9\n"
     ]
    }
   ],
   "source": [
    "for i in range(1,10): \n",
    "    if i==7:\n",
    "        continue\n",
    "    else:\n",
    "        print(i)\n",
    "        time.sleep(0.5)\n"
   ]
  },
  {
   "cell_type": "markdown",
   "id": "2ae321b6",
   "metadata": {},
   "source": [
    "### Exit"
   ]
  },
  {
   "cell_type": "code",
   "execution_count": 84,
   "id": "6459224d",
   "metadata": {},
   "outputs": [
    {
     "name": "stdout",
     "output_type": "stream",
     "text": [
      "7\n",
      "This is end of the Program\n"
     ]
    }
   ],
   "source": [
    "for i in range(1,10): \n",
    "    if i==7:\n",
    "        exit(0) \n",
    "    \n",
    "        print(i)\n",
    "        time.sleep(0.5)\n",
    "print(\"This is end of the Program\")"
   ]
  },
  {
   "cell_type": "code",
   "execution_count": null,
   "id": "6687044d",
   "metadata": {},
   "outputs": [],
   "source": []
  }
 ],
 "metadata": {
  "kernelspec": {
   "display_name": "Python 3 (ipykernel)",
   "language": "python",
   "name": "python3"
  },
  "language_info": {
   "codemirror_mode": {
    "name": "ipython",
    "version": 3
   },
   "file_extension": ".py",
   "mimetype": "text/x-python",
   "name": "python",
   "nbconvert_exporter": "python",
   "pygments_lexer": "ipython3",
   "version": "3.9.13"
  }
 },
 "nbformat": 4,
 "nbformat_minor": 5
}
