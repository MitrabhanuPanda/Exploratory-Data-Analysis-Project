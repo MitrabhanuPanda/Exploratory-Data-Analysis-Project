{
 "cells": [
  {
   "cell_type": "code",
   "execution_count": 1,
   "id": "40e3595c",
   "metadata": {},
   "outputs": [
    {
     "name": "stdout",
     "output_type": "stream",
     "text": [
      "INDIA\n",
      "INDIA\n",
      "INDIA\n",
      "INDIA\n",
      "INDIA\n"
     ]
    }
   ],
   "source": [
    "i=1  #Normal While Lopp\n",
    "while i<=5:\n",
    "    print(\"INDIA\")\n",
    "    i=i+1"
   ]
  },
  {
   "cell_type": "code",
   "execution_count": 2,
   "id": "11f15b32",
   "metadata": {},
   "outputs": [
    {
     "name": "stdout",
     "output_type": "stream",
     "text": [
      "INDIA\n",
      "INDIA\n",
      "INDIA\n",
      "INDIA\n",
      "INDIA\n"
     ]
    }
   ],
   "source": [
    "i=1  \n",
    "while i<=5:\n",
    "    print(\"INDIA\")\n",
    "    i=i+1"
   ]
  },
  {
   "cell_type": "code",
   "execution_count": 3,
   "id": "59821fa1",
   "metadata": {},
   "outputs": [
    {
     "name": "stdout",
     "output_type": "stream",
     "text": [
      "1\n",
      "4\n",
      "9\n",
      "16\n",
      "25\n"
     ]
    }
   ],
   "source": [
    "\n",
    "i=1\n",
    "while i<=5:\n",
    "    print(i*i)\n",
    "    i=i+1"
   ]
  },
  {
   "cell_type": "markdown",
   "id": "79299d93",
   "metadata": {},
   "source": [
    "### Nested While Loop"
   ]
  },
  {
   "cell_type": "code",
   "execution_count": 4,
   "id": "bd64e451",
   "metadata": {},
   "outputs": [
    {
     "name": "stdout",
     "output_type": "stream",
     "text": [
      "1\n",
      "4\n",
      "9\n",
      "16\n",
      "25\n",
      "__________________\n",
      "1\n",
      "4\n",
      "9\n",
      "16\n",
      "25\n",
      "__________________\n",
      "1\n",
      "4\n",
      "9\n",
      "16\n",
      "25\n",
      "__________________\n",
      "1\n",
      "4\n",
      "9\n",
      "16\n",
      "25\n",
      "__________________\n",
      "1\n",
      "4\n",
      "9\n",
      "16\n",
      "25\n",
      "__________________\n"
     ]
    }
   ],
   "source": [
    "\n",
    "y=1\n",
    "while y<=5:\n",
    "    \n",
    "    i=1\n",
    "    while i<=5:\n",
    "        print(i*i)\n",
    "        i=i+1\n",
    "    print(\"__________________\")    \n",
    "    \n",
    "    y=y+1"
   ]
  },
  {
   "cell_type": "code",
   "execution_count": 5,
   "id": "96798f7e",
   "metadata": {},
   "outputs": [
    {
     "name": "stdout",
     "output_type": "stream",
     "text": [
      "1 == 1\n",
      "1 == 2\n",
      "1 == 3\n",
      "1 == 4\n",
      "1 == 5\n",
      "__________________\n",
      "2 == 1\n",
      "2 == 2\n",
      "2 == 3\n",
      "2 == 4\n",
      "2 == 5\n",
      "__________________\n",
      "3 == 1\n",
      "3 == 2\n",
      "3 == 3\n",
      "3 == 4\n",
      "3 == 5\n",
      "__________________\n",
      "4 == 1\n",
      "4 == 2\n",
      "4 == 3\n",
      "4 == 4\n",
      "4 == 5\n",
      "__________________\n",
      "5 == 1\n",
      "5 == 2\n",
      "5 == 3\n",
      "5 == 4\n",
      "5 == 5\n",
      "__________________\n"
     ]
    }
   ],
   "source": [
    "y=1\n",
    "while y<=5:\n",
    "    \n",
    "    i=1\n",
    "    while i<=5:\n",
    "        print(y,\"==\",i)\n",
    "        i=i+1\n",
    "    print(\"__________________\")    \n",
    "    \n",
    "    y=y+1"
   ]
  },
  {
   "cell_type": "markdown",
   "id": "e64df98b",
   "metadata": {},
   "source": [
    "### 1 to 5 tables"
   ]
  },
  {
   "cell_type": "code",
   "execution_count": 6,
   "id": "eff1b06d",
   "metadata": {},
   "outputs": [
    {
     "name": "stdout",
     "output_type": "stream",
     "text": [
      "1 * 1 == 1\n",
      "1 * 2 == 2\n",
      "1 * 3 == 3\n",
      "1 * 4 == 4\n",
      "1 * 5 == 5\n",
      "1 * 6 == 6\n",
      "1 * 7 == 7\n",
      "1 * 8 == 8\n",
      "1 * 9 == 9\n",
      "1 * 10 == 10\n",
      "__________________\n",
      "2 * 1 == 2\n",
      "2 * 2 == 4\n",
      "2 * 3 == 6\n",
      "2 * 4 == 8\n",
      "2 * 5 == 10\n",
      "2 * 6 == 12\n",
      "2 * 7 == 14\n",
      "2 * 8 == 16\n",
      "2 * 9 == 18\n",
      "2 * 10 == 20\n",
      "__________________\n",
      "3 * 1 == 3\n",
      "3 * 2 == 6\n",
      "3 * 3 == 9\n",
      "3 * 4 == 12\n",
      "3 * 5 == 15\n",
      "3 * 6 == 18\n",
      "3 * 7 == 21\n",
      "3 * 8 == 24\n",
      "3 * 9 == 27\n",
      "3 * 10 == 30\n",
      "__________________\n",
      "4 * 1 == 4\n",
      "4 * 2 == 8\n",
      "4 * 3 == 12\n",
      "4 * 4 == 16\n",
      "4 * 5 == 20\n",
      "4 * 6 == 24\n",
      "4 * 7 == 28\n",
      "4 * 8 == 32\n",
      "4 * 9 == 36\n",
      "4 * 10 == 40\n",
      "__________________\n",
      "5 * 1 == 5\n",
      "5 * 2 == 10\n",
      "5 * 3 == 15\n",
      "5 * 4 == 20\n",
      "5 * 5 == 25\n",
      "5 * 6 == 30\n",
      "5 * 7 == 35\n",
      "5 * 8 == 40\n",
      "5 * 9 == 45\n",
      "5 * 10 == 50\n",
      "__________________\n"
     ]
    }
   ],
   "source": [
    "y=1\n",
    "while y<=5:\n",
    "    \n",
    "    i=1\n",
    "    while i<=10:\n",
    "        print(y,\"*\",i,\"==\",(y*i))\n",
    "        i=i+1\n",
    "    print(\"__________________\")    \n",
    "    \n",
    "    y=y+1"
   ]
  },
  {
   "cell_type": "markdown",
   "id": "e4539f1b",
   "metadata": {},
   "source": [
    "### user input then multiple tables"
   ]
  },
  {
   "cell_type": "code",
   "execution_count": 7,
   "id": "b0665000",
   "metadata": {},
   "outputs": [
    {
     "name": "stdout",
     "output_type": "stream",
     "text": [
      "Enter a number: 4\n",
      "1 * 1 == 1\n",
      "1 * 2 == 2\n",
      "1 * 3 == 3\n",
      "1 * 4 == 4\n",
      "1 * 5 == 5\n",
      "1 * 6 == 6\n",
      "1 * 7 == 7\n",
      "1 * 8 == 8\n",
      "1 * 9 == 9\n",
      "1 * 10 == 10\n",
      "__________________\n",
      "2 * 1 == 2\n",
      "2 * 2 == 4\n",
      "2 * 3 == 6\n",
      "2 * 4 == 8\n",
      "2 * 5 == 10\n",
      "2 * 6 == 12\n",
      "2 * 7 == 14\n",
      "2 * 8 == 16\n",
      "2 * 9 == 18\n",
      "2 * 10 == 20\n",
      "__________________\n",
      "3 * 1 == 3\n",
      "3 * 2 == 6\n",
      "3 * 3 == 9\n",
      "3 * 4 == 12\n",
      "3 * 5 == 15\n",
      "3 * 6 == 18\n",
      "3 * 7 == 21\n",
      "3 * 8 == 24\n",
      "3 * 9 == 27\n",
      "3 * 10 == 30\n",
      "__________________\n",
      "4 * 1 == 4\n",
      "4 * 2 == 8\n",
      "4 * 3 == 12\n",
      "4 * 4 == 16\n",
      "4 * 5 == 20\n",
      "4 * 6 == 24\n",
      "4 * 7 == 28\n",
      "4 * 8 == 32\n",
      "4 * 9 == 36\n",
      "4 * 10 == 40\n",
      "__________________\n"
     ]
    }
   ],
   "source": [
    "num=int(input(\"Enter a number: \"))\n",
    "\n",
    "y=1\n",
    "while y<=num:\n",
    "    \n",
    "    i=1\n",
    "    while i<=10:\n",
    "        print(y,\"*\",i,\"==\",(y*i))\n",
    "        i=i+1\n",
    "    print(\"__________________\")    \n",
    "    \n",
    "    y=y+1"
   ]
  },
  {
   "cell_type": "markdown",
   "id": "20a2f5a6",
   "metadata": {},
   "source": [
    "### Prime Number"
   ]
  },
  {
   "cell_type": "code",
   "execution_count": 9,
   "id": "0251e3e4",
   "metadata": {},
   "outputs": [
    {
     "name": "stdout",
     "output_type": "stream",
     "text": [
      "Enetr a Number: 5\n",
      "Prime Number\n"
     ]
    }
   ],
   "source": [
    "n=int(input(\"Enetr a Number: \"))\n",
    "c=0\n",
    "x=1\n",
    "\n",
    "while x<=n:\n",
    "    \n",
    "    if n%x==0:\n",
    "        \n",
    "        c=c+1\n",
    "        \n",
    "    x=x+1\n",
    "        \n",
    "if c==2:\n",
    "    print(\"Prime Number\")\n",
    "else:\n",
    "    print(\"Not Prime Number\")"
   ]
  },
  {
   "cell_type": "markdown",
   "id": "301881c8",
   "metadata": {},
   "source": [
    "### Series od Prime Number"
   ]
  },
  {
   "cell_type": "code",
   "execution_count": 17,
   "id": "0755cebb",
   "metadata": {},
   "outputs": [
    {
     "name": "stdout",
     "output_type": "stream",
     "text": [
      "Enter a Number List: 10\n",
      "3 Prime Number\n",
      "4 Not Prime Number\n",
      "5 Not Prime Number\n",
      "6 Not Prime Number\n",
      "7 Not Prime Number\n",
      "8 Not Prime Number\n",
      "9 Not Prime Number\n",
      "10 Not Prime Number\n"
     ]
    }
   ],
   "source": [
    "num=int(input(\"Enter a Number List: \" ))\n",
    "c=0\n",
    "n=3\n",
    "while n<=num:\n",
    "    \n",
    "    x=1\n",
    "    while x<=n:\n",
    "        \n",
    "        if n%x==0:\n",
    "            c=c+1\n",
    "        x=x+1\n",
    "    \n",
    "    if c==2:\n",
    "        print(n,\"Prime Number\")\n",
    "    else:\n",
    "        print(n,\"Not Prime Number\")\n",
    "    \n",
    "\n",
    "    n=n+1\n",
    "\n"
   ]
  },
  {
   "cell_type": "markdown",
   "id": "e45d4b02",
   "metadata": {},
   "source": [
    "### While loop \"STRING\""
   ]
  },
  {
   "cell_type": "code",
   "execution_count": 18,
   "id": "7f45eb5b",
   "metadata": {},
   "outputs": [],
   "source": [
    "s1=\"Welcome\""
   ]
  },
  {
   "cell_type": "code",
   "execution_count": 19,
   "id": "860afec2",
   "metadata": {},
   "outputs": [
    {
     "data": {
      "text/plain": [
       "'emocleW'"
      ]
     },
     "execution_count": 19,
     "metadata": {},
     "output_type": "execute_result"
    }
   ],
   "source": [
    "s1[::-1]"
   ]
  },
  {
   "cell_type": "code",
   "execution_count": 20,
   "id": "0e0f84e8",
   "metadata": {},
   "outputs": [
    {
     "data": {
      "text/plain": [
       "'W'"
      ]
     },
     "execution_count": 20,
     "metadata": {},
     "output_type": "execute_result"
    }
   ],
   "source": [
    "s1[0]"
   ]
  },
  {
   "cell_type": "code",
   "execution_count": 23,
   "id": "2d4db580",
   "metadata": {},
   "outputs": [
    {
     "data": {
      "text/plain": [
       "'e'"
      ]
     },
     "execution_count": 23,
     "metadata": {},
     "output_type": "execute_result"
    }
   ],
   "source": [
    "s1[1]"
   ]
  },
  {
   "cell_type": "code",
   "execution_count": 24,
   "id": "c053515c",
   "metadata": {},
   "outputs": [
    {
     "name": "stdout",
     "output_type": "stream",
     "text": [
      "W\n",
      "e\n",
      "l\n",
      "c\n",
      "o\n",
      "m\n",
      "e\n"
     ]
    }
   ],
   "source": [
    "i=0\n",
    "while i<=6:\n",
    "    print(s1[i])\n",
    "    \n",
    "    i=i+1\n"
   ]
  },
  {
   "cell_type": "code",
   "execution_count": 27,
   "id": "d13d144b",
   "metadata": {},
   "outputs": [],
   "source": [
    "s2=\"Welcome to All\""
   ]
  },
  {
   "cell_type": "code",
   "execution_count": 28,
   "id": "f424e766",
   "metadata": {},
   "outputs": [
    {
     "name": "stdout",
     "output_type": "stream",
     "text": [
      "W\n",
      "e\n",
      "l\n",
      "c\n",
      "o\n",
      "m\n",
      "e\n",
      " \n",
      "t\n",
      "o\n",
      " \n",
      "A\n",
      "l\n",
      "l\n"
     ]
    }
   ],
   "source": [
    "i=0\n",
    "while i<=(len(s2)-1):\n",
    "    print(s2[i])\n",
    "    \n",
    "    i=i+1"
   ]
  },
  {
   "cell_type": "markdown",
   "id": "fbfb159e",
   "metadata": {},
   "source": [
    "# Assignemnt\n",
    "st=\"GOOD MORNING, WELCOME TO PYTHON CLASS\"\n",
    "## Extract WElCOME using WHILE LOOP"
   ]
  },
  {
   "cell_type": "code",
   "execution_count": null,
   "id": "4a3f52cf",
   "metadata": {},
   "outputs": [],
   "source": []
  },
  {
   "cell_type": "code",
   "execution_count": 46,
   "id": "41868d1f",
   "metadata": {},
   "outputs": [
    {
     "name": "stdout",
     "output_type": "stream",
     "text": [
      "EBTER STUDENT NAME:a\n",
      "ENTER STUDENT CLASS:4\n",
      "enter  marks: 56\n",
      "enter  marks: 78\n",
      "enter  marks: 89\n",
      "223\n",
      "___________________________________\n",
      "56\n",
      "78\n",
      "89\n"
     ]
    }
   ],
   "source": [
    "name=input(\"EBTER STUDENT NAME:\")\n",
    "cls=input(\"ENTER STUDENT CLASS:\")\n",
    "    \n",
    "e=int(input(\"enter  marks: \"))\n",
    "sci=int(input(\"enter  marks: \"))\n",
    "comp=int(input(\"enter  marks: \"))\n",
    "    \n",
    "t=print(e + sci + comp)\n",
    "\n",
    "\n",
    "print(\"___________________________________\")\n",
    "\n",
    "print(e)\n",
    "print(sci)\n",
    "print(comp)\n",
    "\n",
    "    "
   ]
  },
  {
   "cell_type": "code",
   "execution_count": 45,
   "id": "78b4e444",
   "metadata": {},
   "outputs": [
    {
     "name": "stdout",
     "output_type": "stream",
     "text": [
      "EBTER STUDENT NAME:a\n",
      "ENTER STUDENT CLASS:3\n",
      "enter  marks: 13\n",
      "enter  marks: 45\n",
      "enter  marks: 67\n",
      "125\n",
      "___________________________________\n",
      "13\n",
      "45\n",
      "67\n",
      "EBTER STUDENT NAME:b\n",
      "ENTER STUDENT CLASS:23\n",
      "enter  marks: 45\n",
      "enter  marks: 67\n",
      "enter  marks: 99\n",
      "211\n",
      "___________________________________\n",
      "45\n",
      "67\n",
      "99\n",
      "EBTER STUDENT NAME:c\n",
      "ENTER STUDENT CLASS:3\n",
      "enter  marks: 45\n",
      "enter  marks: 67\n",
      "enter  marks: 89\n",
      "201\n",
      "___________________________________\n",
      "45\n",
      "67\n",
      "89\n"
     ]
    }
   ],
   "source": [
    "i=1\n",
    "while i<=3:\n",
    "    \n",
    "    name=input(\"EBTER STUDENT NAME:\")\n",
    "    cls=input(\"ENTER STUDENT CLASS:\")\n",
    "    \n",
    "    e=int(input(\"enter  marks: \"))\n",
    "    sci=int(input(\"enter  marks: \"))\n",
    "    comp=int(input(\"enter  marks: \"))\n",
    "    \n",
    "    t=print(e + sci + comp)\n",
    "\n",
    "\n",
    "    print(\"___________________________________\")\n",
    "\n",
    "    print(e)\n",
    "    print(sci)\n",
    "    print(comp)\n",
    "    \n",
    "    i=i+1"
   ]
  },
  {
   "cell_type": "code",
   "execution_count": null,
   "id": "79b535b1",
   "metadata": {},
   "outputs": [],
   "source": []
  },
  {
   "cell_type": "markdown",
   "id": "2d433237",
   "metadata": {},
   "source": [
    "### While True"
   ]
  },
  {
   "cell_type": "code",
   "execution_count": 35,
   "id": "c6abc7fe",
   "metadata": {},
   "outputs": [],
   "source": [
    "import time"
   ]
  },
  {
   "cell_type": "code",
   "execution_count": 36,
   "id": "c76ed5ac",
   "metadata": {},
   "outputs": [
    {
     "name": "stdout",
     "output_type": "stream",
     "text": [
      "Hello World\n",
      "Hello World\n",
      "Hello World\n",
      "Hello World\n",
      "Hello World\n",
      "Hello World\n",
      "Hello World\n",
      "Hello World\n",
      "Hello World\n",
      "Hello World\n",
      "Hello World\n",
      "Hello World\n",
      "Hello World\n",
      "Hello World\n",
      "Hello World\n",
      "Hello World\n",
      "Hello World\n",
      "Hello World\n",
      "Hello World\n",
      "Hello World\n",
      "Hello World\n",
      "Hello World\n",
      "Hello World\n",
      "Hello World\n",
      "Hello World\n",
      "Hello World\n",
      "Hello World\n",
      "Hello World\n",
      "Hello World\n",
      "Hello World\n",
      "Hello World\n",
      "Hello World\n",
      "Hello World\n",
      "Hello World\n",
      "Hello World\n",
      "Hello World\n",
      "Hello World\n",
      "Hello World\n",
      "Hello World\n",
      "Hello World\n",
      "Hello World\n",
      "Hello World\n",
      "Hello World\n"
     ]
    },
    {
     "ename": "KeyboardInterrupt",
     "evalue": "",
     "output_type": "error",
     "traceback": [
      "\u001b[1;31m---------------------------------------------------------------------------\u001b[0m",
      "\u001b[1;31mKeyboardInterrupt\u001b[0m                         Traceback (most recent call last)",
      "\u001b[1;32m~\\AppData\\Local\\Temp\\ipykernel_7088\\2086281381.py\u001b[0m in \u001b[0;36m<module>\u001b[1;34m\u001b[0m\n\u001b[0;32m      1\u001b[0m \u001b[1;32mwhile\u001b[0m \u001b[1;32mTrue\u001b[0m\u001b[1;33m:\u001b[0m\u001b[1;33m\u001b[0m\u001b[1;33m\u001b[0m\u001b[0m\n\u001b[0;32m      2\u001b[0m     \u001b[0mprint\u001b[0m\u001b[1;33m(\u001b[0m\u001b[1;34m\"Hello World\"\u001b[0m\u001b[1;33m)\u001b[0m\u001b[1;33m\u001b[0m\u001b[1;33m\u001b[0m\u001b[0m\n\u001b[1;32m----> 3\u001b[1;33m     \u001b[0mtime\u001b[0m\u001b[1;33m.\u001b[0m\u001b[0msleep\u001b[0m\u001b[1;33m(\u001b[0m\u001b[1;36m0.1\u001b[0m\u001b[1;33m)\u001b[0m\u001b[1;33m\u001b[0m\u001b[1;33m\u001b[0m\u001b[0m\n\u001b[0m",
      "\u001b[1;31mKeyboardInterrupt\u001b[0m: "
     ]
    }
   ],
   "source": [
    "while True:\n",
    "    print(\"Hello World\")\n",
    "    time.sleep(0.1)"
   ]
  },
  {
   "cell_type": "code",
   "execution_count": 40,
   "id": "ac0c0d34",
   "metadata": {},
   "outputs": [
    {
     "name": "stdout",
     "output_type": "stream",
     "text": [
      "Enter Name:a\n",
      "Enter Marks: 23\n",
      "Enter Marks: 45\n",
      "Enter Marks: 67\n",
      "135\n",
      "Would you like to continue(Yes/No): n\n",
      "Thanks for using\n"
     ]
    }
   ],
   "source": [
    "while True:\n",
    "    n=input(\"Enter Name:\")\n",
    "    e=int(input(\"Enter Marks: \"))\n",
    "    c=int(input(\"Enter Marks: \"))\n",
    "    m=int(input(\"Enter Marks: \"))\n",
    "    t=print(e+c+m)\n",
    "    \n",
    "    \n",
    "    ch=input(\"Would you like to continue(Yes/No): \")\n",
    "    if ch.lower()!=\"yes\":\n",
    "        print(\"Thanks for using\")\n",
    "        break"
   ]
  },
  {
   "cell_type": "code",
   "execution_count": null,
   "id": "3ec190ef",
   "metadata": {},
   "outputs": [],
   "source": []
  },
  {
   "cell_type": "code",
   "execution_count": null,
   "id": "a60497b4",
   "metadata": {},
   "outputs": [],
   "source": []
  }
 ],
 "metadata": {
  "kernelspec": {
   "display_name": "Python 3 (ipykernel)",
   "language": "python",
   "name": "python3"
  },
  "language_info": {
   "codemirror_mode": {
    "name": "ipython",
    "version": 3
   },
   "file_extension": ".py",
   "mimetype": "text/x-python",
   "name": "python",
   "nbconvert_exporter": "python",
   "pygments_lexer": "ipython3",
   "version": "3.9.13"
  }
 },
 "nbformat": 4,
 "nbformat_minor": 5
}
