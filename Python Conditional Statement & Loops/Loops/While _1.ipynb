{
 "cells": [
  {
   "cell_type": "code",
   "execution_count": 1,
   "id": "86d7b175",
   "metadata": {},
   "outputs": [],
   "source": [
    "import time"
   ]
  },
  {
   "cell_type": "code",
   "execution_count": 3,
   "id": "71a203d1",
   "metadata": {},
   "outputs": [
    {
     "name": "stdout",
     "output_type": "stream",
     "text": [
      "1\n",
      "2\n",
      "3\n",
      "4\n"
     ]
    }
   ],
   "source": [
    "# Initialization\n",
    "# Condition\n",
    "# Incrementation \n",
    "\n",
    "i = 1\n",
    "\n",
    "while i < 5 :\n",
    "    print(i)\n",
    "    i = i + 1\n",
    "    time.sleep(1)"
   ]
  },
  {
   "cell_type": "code",
   "execution_count": 5,
   "id": "0665a3b9",
   "metadata": {},
   "outputs": [
    {
     "name": "stdout",
     "output_type": "stream",
     "text": [
      "1\n",
      "1\n",
      "1\n",
      "1\n",
      "1\n",
      "1\n",
      "1\n",
      "1\n",
      "1\n",
      "1\n",
      "1\n"
     ]
    },
    {
     "ename": "KeyboardInterrupt",
     "evalue": "",
     "output_type": "error",
     "traceback": [
      "\u001b[1;31m---------------------------------------------------------------------------\u001b[0m",
      "\u001b[1;31mKeyboardInterrupt\u001b[0m                         Traceback (most recent call last)",
      "\u001b[1;32m~\\AppData\\Local\\Temp\\ipykernel_5816\\2149261874.py\u001b[0m in \u001b[0;36m<module>\u001b[1;34m\u001b[0m\n\u001b[0;32m      4\u001b[0m     \u001b[0mprint\u001b[0m\u001b[1;33m(\u001b[0m\u001b[0mi\u001b[0m\u001b[1;33m)\u001b[0m\u001b[1;33m\u001b[0m\u001b[1;33m\u001b[0m\u001b[0m\n\u001b[0;32m      5\u001b[0m \u001b[1;31m#     i = i + 1\u001b[0m\u001b[1;33m\u001b[0m\u001b[1;33m\u001b[0m\u001b[0m\n\u001b[1;32m----> 6\u001b[1;33m     \u001b[0mtime\u001b[0m\u001b[1;33m.\u001b[0m\u001b[0msleep\u001b[0m\u001b[1;33m(\u001b[0m\u001b[1;36m1\u001b[0m\u001b[1;33m)\u001b[0m\u001b[1;33m\u001b[0m\u001b[1;33m\u001b[0m\u001b[0m\n\u001b[0m",
      "\u001b[1;31mKeyboardInterrupt\u001b[0m: "
     ]
    }
   ],
   "source": [
    "i = 1\n",
    "\n",
    "while i < 5 :\n",
    "    print(i)\n",
    "#     i = i + 1\n",
    "    time.sleep(1)"
   ]
  },
  {
   "cell_type": "code",
   "execution_count": 7,
   "id": "98387c6f",
   "metadata": {},
   "outputs": [
    {
     "name": "stdout",
     "output_type": "stream",
     "text": [
      "1\n",
      "2\n",
      "3\n",
      "4\n",
      "5\n",
      "6\n",
      "7\n",
      "8\n",
      "9\n",
      "10\n",
      "11\n",
      "12\n",
      "13\n",
      "14\n"
     ]
    },
    {
     "ename": "KeyboardInterrupt",
     "evalue": "",
     "output_type": "error",
     "traceback": [
      "\u001b[1;31m---------------------------------------------------------------------------\u001b[0m",
      "\u001b[1;31mKeyboardInterrupt\u001b[0m                         Traceback (most recent call last)",
      "\u001b[1;32m~\\AppData\\Local\\Temp\\ipykernel_5816\\3472894791.py\u001b[0m in \u001b[0;36m<module>\u001b[1;34m\u001b[0m\n\u001b[0;32m      4\u001b[0m     \u001b[0mprint\u001b[0m\u001b[1;33m(\u001b[0m\u001b[0mi\u001b[0m\u001b[1;33m)\u001b[0m\u001b[1;33m\u001b[0m\u001b[1;33m\u001b[0m\u001b[0m\n\u001b[0;32m      5\u001b[0m     \u001b[0mi\u001b[0m \u001b[1;33m=\u001b[0m \u001b[0mi\u001b[0m \u001b[1;33m+\u001b[0m \u001b[1;36m1\u001b[0m\u001b[1;33m\u001b[0m\u001b[1;33m\u001b[0m\u001b[0m\n\u001b[1;32m----> 6\u001b[1;33m     \u001b[0mtime\u001b[0m\u001b[1;33m.\u001b[0m\u001b[0msleep\u001b[0m\u001b[1;33m(\u001b[0m\u001b[1;36m1\u001b[0m\u001b[1;33m)\u001b[0m\u001b[1;33m\u001b[0m\u001b[1;33m\u001b[0m\u001b[0m\n\u001b[0m",
      "\u001b[1;31mKeyboardInterrupt\u001b[0m: "
     ]
    }
   ],
   "source": [
    "i = 1\n",
    "\n",
    "while True :\n",
    "    print(i)\n",
    "    i = i + 1\n",
    "    time.sleep(1)"
   ]
  },
  {
   "cell_type": "code",
   "execution_count": 10,
   "id": "0b7ace99",
   "metadata": {},
   "outputs": [
    {
     "ename": "NameError",
     "evalue": "name 'a' is not defined",
     "output_type": "error",
     "traceback": [
      "\u001b[1;31m---------------------------------------------------------------------------\u001b[0m",
      "\u001b[1;31mNameError\u001b[0m                                 Traceback (most recent call last)",
      "\u001b[1;32m~\\AppData\\Local\\Temp\\ipykernel_5816\\1697058145.py\u001b[0m in \u001b[0;36m<module>\u001b[1;34m\u001b[0m\n\u001b[1;32m----> 1\u001b[1;33m \u001b[1;32mwhile\u001b[0m \u001b[0ma\u001b[0m \u001b[1;33m<\u001b[0m \u001b[1;36m5\u001b[0m \u001b[1;33m:\u001b[0m\u001b[1;33m\u001b[0m\u001b[1;33m\u001b[0m\u001b[0m\n\u001b[0m\u001b[0;32m      2\u001b[0m     \u001b[0mprint\u001b[0m\u001b[1;33m(\u001b[0m\u001b[0ma\u001b[0m\u001b[1;33m)\u001b[0m\u001b[1;33m\u001b[0m\u001b[1;33m\u001b[0m\u001b[0m\n\u001b[0;32m      3\u001b[0m     \u001b[0ma\u001b[0m \u001b[1;33m=\u001b[0m \u001b[0ma\u001b[0m \u001b[1;33m+\u001b[0m \u001b[1;36m1\u001b[0m\u001b[1;33m\u001b[0m\u001b[1;33m\u001b[0m\u001b[0m\n\u001b[0;32m      4\u001b[0m     \u001b[0mtime\u001b[0m\u001b[1;33m.\u001b[0m\u001b[0msleep\u001b[0m\u001b[1;33m(\u001b[0m\u001b[1;36m1\u001b[0m\u001b[1;33m)\u001b[0m\u001b[1;33m\u001b[0m\u001b[1;33m\u001b[0m\u001b[0m\n",
      "\u001b[1;31mNameError\u001b[0m: name 'a' is not defined"
     ]
    }
   ],
   "source": [
    "\n",
    "while a < 5 :\n",
    "    print(a)\n",
    "    a = a + 1\n",
    "    time.sleep(1)"
   ]
  },
  {
   "cell_type": "markdown",
   "id": "79d8973c",
   "metadata": {},
   "source": [
    "\n",
    "while True :\n",
    "    print(\"Hello World\")\n",
    "    time.sleep(1)"
   ]
  },
  {
   "cell_type": "code",
   "execution_count": 12,
   "id": "46117f1b",
   "metadata": {},
   "outputs": [
    {
     "name": "stdout",
     "output_type": "stream",
     "text": [
      "Hello World\n",
      "Hello World\n",
      "Hello World\n",
      "Hello World\n"
     ]
    },
    {
     "ename": "KeyboardInterrupt",
     "evalue": "",
     "output_type": "error",
     "traceback": [
      "\u001b[1;31m---------------------------------------------------------------------------\u001b[0m",
      "\u001b[1;31mKeyboardInterrupt\u001b[0m                         Traceback (most recent call last)",
      "\u001b[1;32m~\\AppData\\Local\\Temp\\ipykernel_5816\\4142447178.py\u001b[0m in \u001b[0;36m<module>\u001b[1;34m\u001b[0m\n\u001b[0;32m      1\u001b[0m \u001b[1;32mwhile\u001b[0m \u001b[1;32mTrue\u001b[0m \u001b[1;33m:\u001b[0m\u001b[1;33m\u001b[0m\u001b[1;33m\u001b[0m\u001b[0m\n\u001b[0;32m      2\u001b[0m     \u001b[0mprint\u001b[0m\u001b[1;33m(\u001b[0m\u001b[1;34m\"Hello World\"\u001b[0m\u001b[1;33m)\u001b[0m\u001b[1;33m\u001b[0m\u001b[1;33m\u001b[0m\u001b[0m\n\u001b[1;32m----> 3\u001b[1;33m     \u001b[0mtime\u001b[0m\u001b[1;33m.\u001b[0m\u001b[0msleep\u001b[0m\u001b[1;33m(\u001b[0m\u001b[1;36m1\u001b[0m\u001b[1;33m)\u001b[0m\u001b[1;33m\u001b[0m\u001b[1;33m\u001b[0m\u001b[0m\n\u001b[0m",
      "\u001b[1;31mKeyboardInterrupt\u001b[0m: "
     ]
    }
   ],
   "source": [
    "while True :\n",
    "    print(\"Hello World\")\n",
    "    time.sleep(1)"
   ]
  },
  {
   "cell_type": "code",
   "execution_count": 13,
   "id": "8be27ccb",
   "metadata": {},
   "outputs": [
    {
     "name": "stdout",
     "output_type": "stream",
     "text": [
      "1\n",
      "2\n",
      "3\n",
      "4\n",
      "5\n",
      "6\n",
      "7\n",
      "8\n",
      "9\n",
      "10\n"
     ]
    }
   ],
   "source": [
    "# 1 to 10 \n",
    "\n",
    "x = 1\n",
    "while x <= 10 :\n",
    "    print(x)\n",
    "    x = x + 1"
   ]
  },
  {
   "cell_type": "code",
   "execution_count": 14,
   "id": "998b734a",
   "metadata": {},
   "outputs": [
    {
     "name": "stdout",
     "output_type": "stream",
     "text": [
      "10\n",
      "9\n",
      "8\n",
      "7\n",
      "6\n",
      "5\n",
      "4\n",
      "3\n",
      "2\n",
      "1\n"
     ]
    }
   ],
   "source": [
    "# print 10 - 1\n",
    "\n",
    "y = 10 \n",
    "\n",
    "while y >= 1 :\n",
    "    print(y)\n",
    "    y = y - 1\n",
    "    time.sleep(1)"
   ]
  },
  {
   "cell_type": "code",
   "execution_count": 18,
   "id": "bf15fa58",
   "metadata": {},
   "outputs": [
    {
     "name": "stdout",
     "output_type": "stream",
     "text": [
      "2 *\n",
      "2 *\n",
      "2 *\n",
      "2 *\n",
      "2 *\n",
      "2 *\n",
      "2 *\n",
      "2 *\n",
      "2 *\n",
      "2 *\n"
     ]
    }
   ],
   "source": [
    "# 2 * 1  = 2\n",
    "# 2 * 2 = 4\n",
    "\n",
    "x = 1\n",
    "while x <= 10 :\n",
    "    \n",
    "    print(2,\"*\")\n",
    "    \n",
    "    x = x + 1\n",
    "    time.sleep(0.5)"
   ]
  },
  {
   "cell_type": "code",
   "execution_count": 19,
   "id": "ca10c698",
   "metadata": {},
   "outputs": [
    {
     "name": "stdout",
     "output_type": "stream",
     "text": [
      "2 * 1\n",
      "2 * 2\n",
      "2 * 3\n",
      "2 * 4\n",
      "2 * 5\n",
      "2 * 6\n",
      "2 * 7\n",
      "2 * 8\n",
      "2 * 9\n",
      "2 * 10\n"
     ]
    }
   ],
   "source": [
    "# 2 * 1  = 2\n",
    "# 2 * 2 = 4\n",
    "\n",
    "x = 1\n",
    "while x <= 10 :\n",
    "    \n",
    "    print(2,\"*\",x)\n",
    "    \n",
    "    x = x + 1\n",
    "    time.sleep(0.5)"
   ]
  },
  {
   "cell_type": "code",
   "execution_count": 21,
   "id": "2a44c906",
   "metadata": {},
   "outputs": [
    {
     "name": "stdout",
     "output_type": "stream",
     "text": [
      "2 * 1  == \n",
      "2 * 2  == \n",
      "2 * 3  == \n",
      "2 * 4  == \n",
      "2 * 5  == \n",
      "2 * 6  == \n",
      "2 * 7  == \n",
      "2 * 8  == \n",
      "2 * 9  == \n",
      "2 * 10  == \n"
     ]
    }
   ],
   "source": [
    "# 2 * 1  = 2\n",
    "# 2 * 2 = 4\n",
    "\n",
    "x = 1\n",
    "while x <= 10 :\n",
    "    \n",
    "    print(2,\"*\",x,\" == \")\n",
    "    \n",
    "    x = x + 1\n",
    "    time.sleep(0.5)"
   ]
  },
  {
   "cell_type": "code",
   "execution_count": 22,
   "id": "e0ad5b7d",
   "metadata": {},
   "outputs": [
    {
     "name": "stdout",
     "output_type": "stream",
     "text": [
      "2 * 1  ==  2\n",
      "2 * 2  ==  4\n",
      "2 * 3  ==  6\n",
      "2 * 4  ==  8\n",
      "2 * 5  ==  10\n",
      "2 * 6  ==  12\n",
      "2 * 7  ==  14\n",
      "2 * 8  ==  16\n",
      "2 * 9  ==  18\n",
      "2 * 10  ==  20\n"
     ]
    }
   ],
   "source": [
    "# 2 * 1  = 2\n",
    "# 2 * 2 = 4\n",
    "\n",
    "x = 1\n",
    "while x <= 10 :\n",
    "    \n",
    "    print(2,\"*\",x,\" == \",(2*x))\n",
    "    \n",
    "    x = x + 1\n",
    "    time.sleep(0.5)"
   ]
  },
  {
   "cell_type": "code",
   "execution_count": 25,
   "id": "16247216",
   "metadata": {},
   "outputs": [
    {
     "name": "stdout",
     "output_type": "stream",
     "text": [
      "Enter Table Number : 91\n",
      "91 * 1  ==  91\n",
      "91 * 2  ==  182\n",
      "91 * 3  ==  273\n",
      "91 * 4  ==  364\n",
      "91 * 5  ==  455\n",
      "91 * 6  ==  546\n",
      "91 * 7  ==  637\n",
      "91 * 8  ==  728\n",
      "91 * 9  ==  819\n",
      "91 * 10  ==  910\n"
     ]
    }
   ],
   "source": [
    "num = int(input(\"Enter Table Number : \"))\n",
    "\n",
    "# 2 * 1  = 2\n",
    "# 2 * 2 = 4\n",
    "\n",
    "x = 1\n",
    "while x <= 10 :\n",
    "    \n",
    "    print(num,\"*\",x,\" == \",(num * x))\n",
    "    \n",
    "    x = x + 1\n",
    "    time.sleep(0.5)"
   ]
  },
  {
   "cell_type": "code",
   "execution_count": 28,
   "id": "ca5b1368",
   "metadata": {},
   "outputs": [
    {
     "name": "stdout",
     "output_type": "stream",
     "text": [
      "Enter a Number : 9\n",
      "Odd Number\n"
     ]
    }
   ],
   "source": [
    "num = int(input(\"Enter a Number : \"))\n",
    "\n",
    "if num%2 == 0:\n",
    "    print(\"Even Number\")\n",
    "else :\n",
    "    print(\"Odd Number\")"
   ]
  },
  {
   "cell_type": "code",
   "execution_count": 29,
   "id": "1467bd96",
   "metadata": {},
   "outputs": [
    {
     "name": "stdout",
     "output_type": "stream",
     "text": [
      "Enter a Number : 11\n",
      "Odd Number\n"
     ]
    }
   ],
   "source": [
    "num = int(input(\"Enter a Number : \"))\n",
    "\n",
    "if num%2 != 0:\n",
    "    print(\"Odd Number\")\n",
    "else :\n",
    "    print(\"Even Number\")"
   ]
  },
  {
   "cell_type": "code",
   "execution_count": 31,
   "id": "d0b499a4",
   "metadata": {},
   "outputs": [
    {
     "name": "stdout",
     "output_type": "stream",
     "text": [
      "2\n",
      "4\n",
      "6\n",
      "8\n",
      "10\n",
      "12\n",
      "14\n",
      "16\n",
      "18\n",
      "20\n"
     ]
    }
   ],
   "source": [
    "x = 1\n",
    "while x <= 20 :\n",
    "    \n",
    "    if x%2 == 0 :\n",
    "        print(x)\n",
    "        time.sleep(1)\n",
    "    x = x + 1"
   ]
  },
  {
   "cell_type": "markdown",
   "id": "b104762e",
   "metadata": {},
   "source": [
    "### COUNTING -- > c --> 3"
   ]
  },
  {
   "cell_type": "code",
   "execution_count": 35,
   "id": "c03cdb89",
   "metadata": {},
   "outputs": [
    {
     "name": "stdout",
     "output_type": "stream",
     "text": [
      "13\n",
      "26\n",
      "39\n",
      "52\n",
      "65\n",
      "78\n",
      "91\n",
      "Count :  7\n"
     ]
    }
   ],
   "source": [
    "x = 1\n",
    "c = 0\n",
    "while x <= 100 :\n",
    "    \n",
    "    if x%13 == 0:\n",
    "        print(x)\n",
    "        c = c + 1\n",
    "    \n",
    "    x = x + 1\n",
    "\n",
    "print(\"Count : \",c)"
   ]
  },
  {
   "cell_type": "markdown",
   "id": "ef83f8a6",
   "metadata": {},
   "source": [
    "### SUM"
   ]
  },
  {
   "cell_type": "code",
   "execution_count": 36,
   "id": "6921c752",
   "metadata": {},
   "outputs": [
    {
     "name": "stdout",
     "output_type": "stream",
     "text": [
      "13\n",
      "26\n",
      "39\n",
      "52\n",
      "65\n",
      "78\n",
      "91\n",
      "Count :  7\n",
      "SUM :  364\n"
     ]
    }
   ],
   "source": [
    "x = 1\n",
    "c = 0\n",
    "s = 0\n",
    "while x <= 100 :\n",
    "    \n",
    "    if x%13 == 0:\n",
    "        print(x)\n",
    "        c = c + 1\n",
    "        s = s + x\n",
    "    \n",
    "    x = x + 1\n",
    "\n",
    "print(\"Count : \",c)\n",
    "print(\"SUM : \", s)"
   ]
  },
  {
   "cell_type": "markdown",
   "id": "523d439f",
   "metadata": {},
   "source": [
    "### Product - Multiply "
   ]
  },
  {
   "cell_type": "code",
   "execution_count": 37,
   "id": "2c563f2d",
   "metadata": {},
   "outputs": [
    {
     "name": "stdout",
     "output_type": "stream",
     "text": [
      "13\n",
      "26\n",
      "39\n",
      "52\n",
      "65\n",
      "78\n",
      "91\n",
      "Count :  7\n",
      "SUM :  364\n",
      "PRODUCT :  316252525680\n"
     ]
    }
   ],
   "source": [
    "x = 1\n",
    "c = 0\n",
    "s = 0\n",
    "p = 1\n",
    "while x <= 100 :\n",
    "    \n",
    "    if x%13 == 0:\n",
    "        print(x)\n",
    "        c = c + 1\n",
    "        s = s + x\n",
    "        p = p * x\n",
    "    \n",
    "    x = x + 1\n",
    "\n",
    "print(\"Count : \",c)\n",
    "print(\"SUM : \", s)\n",
    "print(\"PRODUCT : \", p)"
   ]
  },
  {
   "cell_type": "code",
   "execution_count": 38,
   "id": "931ec539",
   "metadata": {},
   "outputs": [
    {
     "name": "stdout",
     "output_type": "stream",
     "text": [
      "Enter 5 Digit Number : 54892\n",
      "54892\n"
     ]
    }
   ],
   "source": [
    "num = int(input(\"Enter 5 Digit Number : \"))\n",
    "print(num)"
   ]
  },
  {
   "cell_type": "code",
   "execution_count": 39,
   "id": "88cae8a5",
   "metadata": {},
   "outputs": [
    {
     "data": {
      "text/plain": [
       "28"
      ]
     },
     "execution_count": 39,
     "metadata": {},
     "output_type": "execute_result"
    }
   ],
   "source": [
    "5+4+8+9+2"
   ]
  },
  {
   "cell_type": "code",
   "execution_count": 40,
   "id": "48aeba66",
   "metadata": {},
   "outputs": [
    {
     "data": {
      "text/plain": [
       "2880"
      ]
     },
     "execution_count": 40,
     "metadata": {},
     "output_type": "execute_result"
    }
   ],
   "source": [
    "5*4*8*9*2"
   ]
  },
  {
   "cell_type": "code",
   "execution_count": null,
   "id": "1709ba30",
   "metadata": {},
   "outputs": [],
   "source": []
  }
 ],
 "metadata": {
  "kernelspec": {
   "display_name": "Python 3 (ipykernel)",
   "language": "python",
   "name": "python3"
  },
  "language_info": {
   "codemirror_mode": {
    "name": "ipython",
    "version": 3
   },
   "file_extension": ".py",
   "mimetype": "text/x-python",
   "name": "python",
   "nbconvert_exporter": "python",
   "pygments_lexer": "ipython3",
   "version": "3.9.13"
  }
 },
 "nbformat": 4,
 "nbformat_minor": 5
}
