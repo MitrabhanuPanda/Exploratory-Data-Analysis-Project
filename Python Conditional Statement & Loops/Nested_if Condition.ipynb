{
 "cells": [
  {
   "cell_type": "markdown",
   "id": "bedd7617",
   "metadata": {},
   "source": [
    "### Nested If Condition with Employee Example"
   ]
  },
  {
   "cell_type": "code",
   "execution_count": 4,
   "id": "ea54c3c9",
   "metadata": {},
   "outputs": [
    {
     "name": "stdout",
     "output_type": "stream",
     "text": [
      "Enter Employee Designation: software analyst\n",
      "Enter Employee experience: 12\n",
      "Enter Employee Salary: 34444\n",
      "Good Morning Software Analyst\n",
      "Hike is 12%\n",
      "Hike Salary= 38577.28\n"
     ]
    }
   ],
   "source": [
    "deg=input(\"Enter Employee Designation: \").title()\n",
    "exp=int(input(\"Enter Employee experience: \"))\n",
    "sal=int(input(\"Enter Employee Salary: \"))\n",
    "\n",
    "if deg==\"Project Manager\":\n",
    "    print(\"Good Morning\",deg)\n",
    "    if exp>=15:\n",
    "        print(\"Hike is 25%\")\n",
    "        print(\"Hike Salary=\",sal+(sal*25/100))\n",
    "    elif exp>=12 and exp<15:\n",
    "        print(\"Hike is 22%\")\n",
    "        print(\"Hike Salary=\",sal+(sal*22/100))\n",
    "    else:\n",
    "        print(\"Hike is 20%\")\n",
    "        print(\"Hike Salary=\",sal+(sal*20/100))\n",
    "        \n",
    "elif deg==\"Technical Manager\":\n",
    "    print(\"Good Morning\",deg)\n",
    "    if exp>=15:\n",
    "        print(\"Hike is 22%\")\n",
    "        print(\"Hike Salary=\",sal+(sal*22/100))\n",
    "    elif exp>=12 and exp<15:\n",
    "        print(\"Hike is 20%\")\n",
    "        print(\"Hike Salary=\",sal+(sal*20/100))\n",
    "    else:\n",
    "        print(\"Hike is 18%\")\n",
    "        print(\"Hike Salary=\",sal+(sal*18/100))\n",
    "\n",
    "elif deg==\"Developer\":\n",
    "    print(\"Good Morning\",deg)\n",
    "    if exp>=15:\n",
    "        print(\"Hike is 20%\")\n",
    "        print(\"Hike Salary=\",sal+(sal*20/100))\n",
    "    elif exp>=12 and exp<15:\n",
    "        print(\"Hike is 18%\")\n",
    "        print(\"Hike Salary=\",sal+(sal*18/100))\n",
    "    else:\n",
    "        print(\"Hike is 16%\")\n",
    "        print(\"Hike Salary=\",sal+(sal*16/100))\n",
    "        \n",
    "else:\n",
    "        print(\"Good Morning\",deg)\n",
    "   \n",
    "        print(\"Hike is 12%\")\n",
    "        print(\"Hike Salary=\",sal+(sal*12/100))\n",
    "  "
   ]
  },
  {
   "cell_type": "markdown",
   "id": "54beee94",
   "metadata": {},
   "source": [
    "### Inline if Condition"
   ]
  },
  {
   "cell_type": "code",
   "execution_count": 5,
   "id": "7d8662a8",
   "metadata": {},
   "outputs": [
    {
     "name": "stdout",
     "output_type": "stream",
     "text": [
      "Enter your marks: 70\n",
      "Passed\n"
     ]
    }
   ],
   "source": [
    "avg=int(input(\"Enter your marks: \")) #Normal If Condition\n",
    "if avg>=50:\n",
    "    print(\"Passed\")\n",
    "else:\n",
    "    print(\"Failed\")"
   ]
  },
  {
   "cell_type": "code",
   "execution_count": 15,
   "id": "b665196b",
   "metadata": {},
   "outputs": [
    {
     "name": "stdout",
     "output_type": "stream",
     "text": [
      "Enter Marks: 46\n",
      "Failed\n"
     ]
    }
   ],
   "source": [
    "avg1=int(input(\"Enter Marks: \"))\n",
    "res=\"Passed\" if avg1 >=50 else \"Failed\"\n",
    "print(res)"
   ]
  },
  {
   "cell_type": "code",
   "execution_count": 18,
   "id": "aa6e6027",
   "metadata": {},
   "outputs": [
    {
     "name": "stdout",
     "output_type": "stream",
     "text": [
      "Enter Marks: 35\n",
      "Grade C\n",
      "********************************************************************************\n",
      "Grade C\n"
     ]
    }
   ],
   "source": [
    "avg2= int(input(\"Enter Marks: \"))\n",
    "\n",
    "if avg >=80:\n",
    "    print(\"Grade A\")\n",
    "elif (avg2 >= 60 and avg2 <80):\n",
    "    print(\"Grade B\")\n",
    "else :\n",
    "    print(\"Grade C\")\n",
    "    \n",
    "print(\"********************************************************************************\")\n",
    "    \n",
    "res1=\"Grade A\" if avg2 >= 80 else (\"Grade B\" if avg2 >=60 and avg2<80 else \"Grade C\")\n",
    "print(res1)"
   ]
  },
  {
   "cell_type": "code",
   "execution_count": 31,
   "id": "6651e7de",
   "metadata": {},
   "outputs": [
    {
     "name": "stdout",
     "output_type": "stream",
     "text": [
      "Enter 1st number: 10\n",
      "Enter 2nd number: 20\n",
      "Enter 3rd number: 30\n",
      "30 is Greatest\n",
      "********************************************************\n",
      "30 is greatest\n"
     ]
    }
   ],
   "source": [
    "n1=int(input(\"Enter 1st number: \"))\n",
    "n2=int(input(\"Enter 2nd number: \"))\n",
    "n3=int(input(\"Enter 3rd number: \"))\n",
    "\n",
    "if n1>n2 and n1>n3:\n",
    "    print(n1,\"is Greatest\")\n",
    "elif n2>=n3:\n",
    "    print(n2,\"is Greatest\")\n",
    "else:\n",
    "    print(n3,\"is Greatest\")\n",
    "    \n",
    "print(\"********************************************************\")\n",
    "\n",
    "res2=n1 if(n1>=n2 and n1>n3) else (n2 if n2>=n3 else n3)\n",
    "print(res2,\"is greatest\")\n",
    "      "
   ]
  },
  {
   "cell_type": "code",
   "execution_count": null,
   "id": "f1e4ad76",
   "metadata": {},
   "outputs": [],
   "source": []
  },
  {
   "cell_type": "code",
   "execution_count": null,
   "id": "9b9eaaef",
   "metadata": {},
   "outputs": [],
   "source": []
  }
 ],
 "metadata": {
  "kernelspec": {
   "display_name": "Python 3 (ipykernel)",
   "language": "python",
   "name": "python3"
  },
  "language_info": {
   "codemirror_mode": {
    "name": "ipython",
    "version": 3
   },
   "file_extension": ".py",
   "mimetype": "text/x-python",
   "name": "python",
   "nbconvert_exporter": "python",
   "pygments_lexer": "ipython3",
   "version": "3.9.13"
  }
 },
 "nbformat": 4,
 "nbformat_minor": 5
}
