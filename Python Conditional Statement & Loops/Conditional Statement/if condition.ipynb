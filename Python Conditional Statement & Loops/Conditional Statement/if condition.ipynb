{
 "cells": [
  {
   "cell_type": "code",
   "execution_count": 1,
   "id": "c3218d7c",
   "metadata": {},
   "outputs": [],
   "source": [
    "# if <condition> : \n",
    "#     <state1>\n",
    "#     <state2>\n",
    "#     <state3>"
   ]
  },
  {
   "cell_type": "code",
   "execution_count": 9,
   "id": "147cedeb",
   "metadata": {},
   "outputs": [
    {
     "name": "stdout",
     "output_type": "stream",
     "text": [
      "Enter First Number : 100\n",
      "Enter Second Number : 20\n",
      "100\n"
     ]
    }
   ],
   "source": [
    "n1 = int( input(\"Enter First Number : \") )\n",
    "n2 = int( input(\"Enter Second Number : \") )\n",
    "\n",
    "if (n1 >= n2) :\n",
    "    print(n1)\n",
    "\n",
    "if (n2 >= n1) :\n",
    "    print(n2)"
   ]
  },
  {
   "cell_type": "code",
   "execution_count": 10,
   "id": "ea54739a",
   "metadata": {},
   "outputs": [
    {
     "name": "stdout",
     "output_type": "stream",
     "text": [
      "Enter Your Age : 22\n",
      "Eligible for VOting \n"
     ]
    }
   ],
   "source": [
    "\n",
    "age = int(input(\"Enter Your Age : \"))\n",
    "\n",
    "if age >= 18:\n",
    "    print(\"Eligible for VOting \")\n",
    "\n",
    "if age < 18 :\n",
    "    print(\"Not eligible\")"
   ]
  },
  {
   "cell_type": "code",
   "execution_count": 12,
   "id": "7326bff9",
   "metadata": {},
   "outputs": [
    {
     "name": "stdout",
     "output_type": "stream",
     "text": [
      "Enter Your Age : 17\n",
      "Not eligible\n"
     ]
    }
   ],
   "source": [
    "age = int(input(\"Enter Your Age : \"))\n",
    "\n",
    "if age >= 18:\n",
    "    print(\"Eligible for VOting \")\n",
    "else :\n",
    "    print(\"Not eligible\")\n"
   ]
  },
  {
   "cell_type": "code",
   "execution_count": 13,
   "id": "20e1d5e4",
   "metadata": {},
   "outputs": [
    {
     "name": "stdout",
     "output_type": "stream",
     "text": [
      "Eligible for VOting \n"
     ]
    }
   ],
   "source": [
    "\n",
    "if True: \n",
    "    print(\"Eligible for VOting \")\n",
    "else :\n",
    "    print(\"Not eligible\")"
   ]
  },
  {
   "cell_type": "code",
   "execution_count": 14,
   "id": "8b4895ca",
   "metadata": {},
   "outputs": [
    {
     "name": "stdout",
     "output_type": "stream",
     "text": [
      "Not eligible\n"
     ]
    }
   ],
   "source": [
    "if False: \n",
    "    print(\"Eligible for VOting \")\n",
    "else :\n",
    "    print(\"Not eligible\")"
   ]
  },
  {
   "cell_type": "code",
   "execution_count": 15,
   "id": "2455f69d",
   "metadata": {},
   "outputs": [
    {
     "name": "stdout",
     "output_type": "stream",
     "text": [
      "Eligible for VOting \n"
     ]
    }
   ],
   "source": [
    "if 10: \n",
    "    print(\"Eligible for VOting \")\n",
    "else :\n",
    "    print(\"Not eligible\")"
   ]
  },
  {
   "cell_type": "code",
   "execution_count": 16,
   "id": "3fed32dd",
   "metadata": {},
   "outputs": [
    {
     "name": "stdout",
     "output_type": "stream",
     "text": [
      "Not eligible\n"
     ]
    }
   ],
   "source": [
    "if 0: \n",
    "    print(\"Eligible for VOting \")\n",
    "else :\n",
    "    print(\"Not eligible\")"
   ]
  },
  {
   "cell_type": "code",
   "execution_count": 17,
   "id": "07d5fd9c",
   "metadata": {},
   "outputs": [
    {
     "name": "stdout",
     "output_type": "stream",
     "text": [
      "Eligible for VOting \n"
     ]
    }
   ],
   "source": [
    "if \"Apple\" :\n",
    "    print(\"Eligible for VOting \")\n",
    "else :\n",
    "    print(\"Not eligible\")\n",
    "    "
   ]
  },
  {
   "cell_type": "code",
   "execution_count": 18,
   "id": "36330e40",
   "metadata": {},
   "outputs": [
    {
     "name": "stdout",
     "output_type": "stream",
     "text": [
      "Not eligible\n"
     ]
    }
   ],
   "source": [
    "if \"\" :\n",
    "    print(\"Eligible for VOting \")\n",
    "else :\n",
    "    print(\"Not eligible\")"
   ]
  },
  {
   "cell_type": "code",
   "execution_count": 20,
   "id": "8b3cd26b",
   "metadata": {},
   "outputs": [
    {
     "name": "stdout",
     "output_type": "stream",
     "text": [
      "Enter your Marks : 30\n",
      "Fail\n"
     ]
    }
   ],
   "source": [
    "avg = int(input(\"Enter your Marks : \"))\n",
    "\n",
    "if avg >= 35:\n",
    "    print(\"Pass\")\n",
    "else :\n",
    "    print(\"Fail\")"
   ]
  },
  {
   "cell_type": "code",
   "execution_count": 24,
   "id": "a0e73cf2",
   "metadata": {},
   "outputs": [
    {
     "name": "stdout",
     "output_type": "stream",
     "text": [
      "Enter your Marks : 30\n",
      "Fail\n"
     ]
    }
   ],
   "source": [
    "avg = int(input(\"Enter your Marks : \"))\n",
    "\n",
    "\n",
    "if (avg >= 75) :\n",
    "    print(\"Grade A\")\n",
    "    \n",
    "elif  (avg >=50 and avg < 75) :\n",
    "    print(\"Grade B\")\n",
    "    \n",
    "elif (avg>=35 and avg < 50) :\n",
    "    print(\"Grade C\")\n",
    "\n",
    "else :\n",
    "    print(\"Fail\")"
   ]
  },
  {
   "cell_type": "code",
   "execution_count": 27,
   "id": "b9b208db",
   "metadata": {},
   "outputs": [
    {
     "name": "stdout",
     "output_type": "stream",
     "text": [
      "Enter your Marks : 40\n",
      "Grade C\n"
     ]
    }
   ],
   "source": [
    "avg = int(input(\"Enter your Marks : \"))\n",
    "\n",
    "\n",
    "if (avg >= 75) :\n",
    "    print(\"Grade A\")\n",
    "    \n",
    "elif  (avg >=50) :\n",
    "    print(\"Grade B\")\n",
    "    \n",
    "elif (avg>=35) :\n",
    "    print(\"Grade C\")\n",
    "\n",
    "else :\n",
    "    print(\"Fail\")"
   ]
  },
  {
   "cell_type": "code",
   "execution_count": null,
   "id": "548bbba1",
   "metadata": {},
   "outputs": [],
   "source": []
  }
 ],
 "metadata": {
  "kernelspec": {
   "display_name": "Python 3 (ipykernel)",
   "language": "python",
   "name": "python3"
  },
  "language_info": {
   "codemirror_mode": {
    "name": "ipython",
    "version": 3
   },
   "file_extension": ".py",
   "mimetype": "text/x-python",
   "name": "python",
   "nbconvert_exporter": "python",
   "pygments_lexer": "ipython3",
   "version": "3.10.8"
  }
 },
 "nbformat": 4,
 "nbformat_minor": 5
}
