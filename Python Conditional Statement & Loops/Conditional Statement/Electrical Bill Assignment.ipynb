{
 "cells": [
  {
   "cell_type": "code",
   "execution_count": 3,
   "id": "4bb25f0c",
   "metadata": {},
   "outputs": [
    {
     "name": "stdout",
     "output_type": "stream",
     "text": [
      "Enter No: Units: 600\n",
      "ELSE BLOCK\n",
      "4800\n"
     ]
    }
   ],
   "source": [
    "bunit=int(input(\"Enter No: Units: \"))\n",
    "\n",
    "if bunit <=100:\n",
    "    print(\"IF BLOCK\")\n",
    "    bamount=0\n",
    "#     print(bunit)\n",
    "#     print(\"Amount :\", bamount)\n",
    "else:\n",
    "    print(\"ELSE BLOCK\")\n",
    "    bamount=0\n",
    "    bunit=bunit-100\n",
    "#     print(bunit)\n",
    "#     print(\"Amount :\", bamount)\n",
    "    \n",
    "if bunit <=200:\n",
    "    bamount= bunit*6\n",
    "    print(bamount)\n",
    "else:\n",
    "    bamount=(200*6)\n",
    "    bunit=bunit-200\n",
    "    total= bamount +(bunit*12)\n",
    "    print(total)"
   ]
  },
  {
   "cell_type": "code",
   "execution_count": null,
   "id": "46069076",
   "metadata": {},
   "outputs": [],
   "source": []
  }
 ],
 "metadata": {
  "kernelspec": {
   "display_name": "Python 3 (ipykernel)",
   "language": "python",
   "name": "python3"
  },
  "language_info": {
   "codemirror_mode": {
    "name": "ipython",
    "version": 3
   },
   "file_extension": ".py",
   "mimetype": "text/x-python",
   "name": "python",
   "nbconvert_exporter": "python",
   "pygments_lexer": "ipython3",
   "version": "3.9.13"
  }
 },
 "nbformat": 4,
 "nbformat_minor": 5
}
