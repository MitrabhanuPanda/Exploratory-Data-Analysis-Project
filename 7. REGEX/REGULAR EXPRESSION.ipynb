{
 "cells": [
  {
   "cell_type": "markdown",
   "id": "7f87a602",
   "metadata": {},
   "source": [
    "<h1 style=\"text-align : center\"> <font color=\"red\" size=7>REGULAR EXPRESSION </h1>"
   ]
  },
  {
   "cell_type": "markdown",
   "id": "48e3c72b",
   "metadata": {},
   "source": [
    "- A regular expression, often called a pattern, is __an expression used to specify a set of strings__ required for a particular purpose.\n",
    "- A Regular Expression (sometimes called a Rational Expression) is a sequence of characters that define a search pattern, mainly for use in pattern matching with strings or string matching, i.e. __`find`__ & __`replace`__ like Operation."
   ]
  },
  {
   "cell_type": "markdown",
   "id": "67558bf4",
   "metadata": {},
   "source": [
    "# <font color=\"dark blue\">__IF YOU WANT TO PRACTICE REGULAR EXPRESSION.__ __[CLICK HERE](https://regex101.com/)__"
   ]
  },
  {
   "cell_type": "markdown",
   "id": "f885d5da",
   "metadata": {},
   "source": [
    "## <font color=\"brown\">USES OF REGULAR EXPRESSION<font color/>\n",
    "- Check if an input honors a given pattern; for example, we can check whether a value entered in a HTML formulary is a valid e-mail address\n",
    "> `Maniteja123@gmail.com`\n",
    "<br>\n",
    "- Look for a pattern appearance in a piece of text; for example, check if either the word \"color\" or the word \"colour\" appears in a document with just __one scan__\n",
    "> `I like Red color and i am wearing a Red colour shirt`\n",
    "<br>\n",
    "- Extract specific portions of a text; for example, extract the postal code of an address.\n",
    "> `Mr John Smith. 132, My Street, Kingston, New York 12401.`\n",
    "<br>\n",
    "- Replace portions of text; for example, change the appearance of \"color\" with \"colour\"\n",
    "> `I like Red colour and i am wearing a Red colour shirt`\n",
    "<br>\n",
    "- Split a larger text into smaller pieces, for example, splitting a text by any appearance of the dot, comma, or newline characters\n",
    "> `myself person1,you are person2`"
   ]
  },
  {
   "cell_type": "markdown",
   "id": "cc31d974",
   "metadata": {},
   "source": [
    "## <font color=\"dark blue\">META CHARACTERS<font color/>"
   ]
  },
  {
   "cell_type": "markdown",
   "id": "e0581d26",
   "metadata": {},
   "source": [
    "<font color=\"green\">__CHARACTER__ |<font color=\"green\"> __DESCRIPTION__ \n",
    "-------------------------|------------------\n",
    "__[ ]__ | __A set of Characters__  \n",
    "__\\__ | __Signals a special sequence (can also be used to escape special characters)__ \n",
    "__.__ | __Any Characters (except newline character)__  \n",
    "__^__ | __Starts with the specific word__ \n",
    "__$__ | __Ends with the specific word__  \n",
    "__*__ | __Zero or more occurance__ \n",
    "__+__ | __One or more occurance__ \n",
    "__?__ | __Zero or more occurance__\n",
    "__{ }__ | __Exactly the specified number of occurance__\n",
    "__()__ | __Capture and Group__\n",
    "\n",
    "   "
   ]
  },
  {
   "cell_type": "code",
   "execution_count": 1,
   "id": "e180d58a",
   "metadata": {},
   "outputs": [],
   "source": [
    "# INSTALLING RE MODULE\n",
    "\n",
    "# pip install re"
   ]
  },
  {
   "cell_type": "code",
   "execution_count": 2,
   "id": "4cbda991",
   "metadata": {},
   "outputs": [],
   "source": [
    "import re"
   ]
  },
  {
   "cell_type": "code",
   "execution_count": 3,
   "id": "3469ea5d",
   "metadata": {},
   "outputs": [],
   "source": [
    "a=\"\"\"Kohil playing cricket.\n",
    "Kohil playing well.\n",
    "Dhoni playing cricket.\n",
    "Kohil is eating.\n",
    "Gill is dancing.\"\"\""
   ]
  },
  {
   "cell_type": "code",
   "execution_count": 4,
   "id": "5a3860b3",
   "metadata": {},
   "outputs": [
    {
     "name": "stdout",
     "output_type": "stream",
     "text": [
      "Kohil playing cricket.\n",
      "Kohil playing well.\n",
      "Dhoni playing cricket.\n",
      "Kohil is eating.\n",
      "Gill is dancing.\n"
     ]
    }
   ],
   "source": [
    "print(a)"
   ]
  },
  {
   "cell_type": "code",
   "execution_count": 5,
   "id": "44ec7970",
   "metadata": {},
   "outputs": [
    {
     "name": "stdout",
     "output_type": "stream",
     "text": [
      "['o', 'h', 'i', 'l', 'p', 'l', 'a', 'y', 'i', 'n', 'g', 'c', 'r', 'i', 'c', 'k', 'e', 't', 'o', 'h', 'i', 'l', 'p', 'l', 'a', 'y', 'i', 'n', 'g', 'w', 'e', 'l', 'l', 'h', 'o', 'n', 'i', 'p', 'l', 'a', 'y', 'i', 'n', 'g', 'c', 'r', 'i', 'c', 'k', 'e', 't', 'o', 'h', 'i', 'l', 'i', 's', 'e', 'a', 't', 'i', 'n', 'g', 'i', 'l', 'l', 'i', 's', 'd', 'a', 'n', 'c', 'i', 'n', 'g']\n"
     ]
    }
   ],
   "source": [
    "print(re.findall(\"[a-z]\",a))"
   ]
  },
  {
   "cell_type": "code",
   "execution_count": 6,
   "id": "de6e81ff",
   "metadata": {},
   "outputs": [
    {
     "name": "stdout",
     "output_type": "stream",
     "text": [
      "['K', 'o', 'h', 'i', 'l', ' ', 'p', 'l', 'a', 'y', 'i', 'n', 'g', ' ', 'c', 'r', 'i', 'c', 'k', 'e', 't', '.', 'K', 'o', 'h', 'i', 'l', ' ', 'p', 'l', 'a', 'y', 'i', 'n', 'g', ' ', 'w', 'e', 'l', 'l', '.', 'D', 'h', 'o', 'n', 'i', ' ', 'p', 'l', 'a', 'y', 'i', 'n', 'g', ' ', 'c', 'r', 'i', 'c', 'k', 'e', 't', '.', 'K', 'o', 'h', 'i', 'l', ' ', 'i', 's', ' ', 'e', 'a', 't', 'i', 'n', 'g', '.', 'G', 'i', 'l', 'l', ' ', 'i', 's', ' ', 'd', 'a', 'n', 'c', 'i', 'n', 'g', '.']\n"
     ]
    }
   ],
   "source": [
    "print(re.findall(\".\",a))"
   ]
  },
  {
   "cell_type": "code",
   "execution_count": 7,
   "id": "7cd902cf",
   "metadata": {},
   "outputs": [
    {
     "name": "stdout",
     "output_type": "stream",
     "text": [
      "['Kohil', 'Kohil', 'Kohil']\n"
     ]
    }
   ],
   "source": [
    "print(re.findall(\"Kohil\",a))"
   ]
  },
  {
   "cell_type": "code",
   "execution_count": 8,
   "id": "7115d7ab",
   "metadata": {},
   "outputs": [
    {
     "name": "stdout",
     "output_type": "stream",
     "text": [
      "['Kohil']\n"
     ]
    }
   ],
   "source": [
    "print(re.findall(\"^Kohil\",a))"
   ]
  },
  {
   "attachments": {
    "2.png": {
     "image/png": "[encoded data removed]"
    }
   },
   "cell_type": "markdown",
   "id": "17b9ca17",
   "metadata": {},
   "source": [
    "![2.png](attachment:2.png)"
   ]
  },
  {
   "cell_type": "code",
   "execution_count": 9,
   "id": "ef585483",
   "metadata": {},
   "outputs": [
    {
     "name": "stdout",
     "output_type": "stream",
     "text": [
      "[]\n"
     ]
    }
   ],
   "source": [
    "print(re.findall(\"eating$\",a))"
   ]
  },
  {
   "attachments": {
    "3.png": {
     "image/png": "[encoded data removed]"
    }
   },
   "cell_type": "markdown",
   "id": "8998d217",
   "metadata": {},
   "source": [
    "![3.png](attachment:3.png)"
   ]
  },
  {
   "cell_type": "code",
   "execution_count": 10,
   "id": "b82dd265",
   "metadata": {},
   "outputs": [
    {
     "name": "stdout",
     "output_type": "stream",
     "text": [
      "['K', '', '', '', '', '', '', '', '', '', '', '', '', '', '', '', '', '', '', '', '', '', '', 'K', '', '', '', '', '', '', '', '', '', '', '', '', '', '', '', '', '', '', '', '', '', '', '', '', '', '', '', '', '', '', '', '', '', '', '', '', '', '', '', '', '', '', 'K', '', '', '', '', '', '', '', '', '', '', '', '', '', '', '', '', '', '', '', '', '', '', '', '', '', '', '', '', '', '', '', '', '']\n"
     ]
    }
   ],
   "source": [
    "print(re.findall(\"K?\",a))"
   ]
  },
  {
   "cell_type": "code",
   "execution_count": 11,
   "id": "499b7f7d",
   "metadata": {},
   "outputs": [
    {
     "name": "stdout",
     "output_type": "stream",
     "text": [
      "['eating']\n"
     ]
    }
   ],
   "source": [
    "print(re.findall(\"eating?\",a))"
   ]
  },
  {
   "cell_type": "code",
   "execution_count": 12,
   "id": "6d205d55",
   "metadata": {},
   "outputs": [
    {
     "name": "stdout",
     "output_type": "stream",
     "text": [
      "['', '', '', '', '', '', '', '', '', '', '', '', '', '', '', '', '', '', '', 'e', '', '', '', '', '', '', '', '', '', '', '', '', '', '', '', '', '', '', 'e', '', '', '', '', '', '', '', '', '', '', '', '', '', '', '', '', '', '', '', '', '', '', '', 'e', '', '', '', '', '', '', '', '', '', '', '', '', 'e', '', '', '', '', '', '', '', '', '', '', '', '', '', '', '', '', '', '', '', '', '', '', '', '']\n"
     ]
    }
   ],
   "source": [
    "print(re.findall(\"e?\",a))"
   ]
  },
  {
   "cell_type": "code",
   "execution_count": 13,
   "id": "8be519ec",
   "metadata": {},
   "outputs": [
    {
     "name": "stdout",
     "output_type": "stream",
     "text": [
      "['Kohil', 'Kohil', 'Kohil']\n"
     ]
    }
   ],
   "source": [
    "print(re.findall(\"Kohil?\",a))"
   ]
  },
  {
   "cell_type": "markdown",
   "id": "a30afba2",
   "metadata": {},
   "source": [
    "<font color=\"green\">__CHARACTER__ |<font color=\"green\"> __DESCRIPTION__ \n",
    "-------------------------|------------------\n",
    "__\\A__ | __Returns a match if the specified characters are at the begining of the string__  \n",
    "__\\b__ | __Returns a match where the specified characters are at the end of a word.__ \n",
    "__\\B__ | __Returns a match where the specified characters are present, but NOT at the begining (or at the end) of the word__  \n",
    "__\\Z__ | __Returns a match if the specified characters are at the end of the string__\n",
    "__\\d__ | __Returns a match where the string contains digits (number from 0-9)__ \n",
    "__\\D__ | __Returns a match where the string does not contain digits__  \n",
    "__\\s__ | __Returns a match where the string contains a `white` Space characters__ \n",
    "__\\S__ | __Returns a match where the string does not contain White space characters__ \n",
    "__\\w__ | __Returns a match where the string contain [a-zA-Z0-9_]__"
   ]
  },
  {
   "cell_type": "code",
   "execution_count": 14,
   "id": "f2a8690f",
   "metadata": {},
   "outputs": [],
   "source": [
    "b=\"\"\"My name is Slaky.\n",
    "My age is 29.\n",
    "I love play Cricket.\n",
    "I am earning 20$ per month.\"\"\""
   ]
  },
  {
   "cell_type": "code",
   "execution_count": 15,
   "id": "803bf578",
   "metadata": {},
   "outputs": [
    {
     "name": "stdout",
     "output_type": "stream",
     "text": [
      "My name is Slaky.\n",
      "My age is 29.\n",
      "I love play Cricket.\n",
      "I am earning 20$ per month.\n"
     ]
    }
   ],
   "source": [
    "print(b)"
   ]
  },
  {
   "cell_type": "code",
   "execution_count": 16,
   "id": "d5161630",
   "metadata": {},
   "outputs": [
    {
     "data": {
      "text/plain": [
       "['29', '20']"
      ]
     },
     "execution_count": 16,
     "metadata": {},
     "output_type": "execute_result"
    }
   ],
   "source": [
    "re.findall(\"\\d+\",b)"
   ]
  },
  {
   "cell_type": "code",
   "execution_count": 17,
   "id": "95b2dc54",
   "metadata": {},
   "outputs": [
    {
     "data": {
      "text/plain": [
       "['My',\n",
       " 'name',\n",
       " 'is',\n",
       " 'Slaky',\n",
       " 'My',\n",
       " 'age',\n",
       " 'is',\n",
       " '29',\n",
       " 'I',\n",
       " 'love',\n",
       " 'play',\n",
       " 'Cricket',\n",
       " 'I',\n",
       " 'am',\n",
       " 'earning',\n",
       " '20',\n",
       " 'per',\n",
       " 'month']"
      ]
     },
     "execution_count": 17,
     "metadata": {},
     "output_type": "execute_result"
    }
   ],
   "source": [
    "re.findall(\"\\w+\",b)"
   ]
  },
  {
   "cell_type": "markdown",
   "id": "36f3aff4",
   "metadata": {},
   "source": [
    "# <font color=\"browm\">__`findall()`__ FUNCTION:\n",
    "- It returns a list containing all the matches.\n",
    "- If no matches are found, then it return empty list."
   ]
  },
  {
   "cell_type": "code",
   "execution_count": 18,
   "id": "b25b8fad",
   "metadata": {},
   "outputs": [
    {
     "data": {
      "text/plain": [
       "['29', '20']"
      ]
     },
     "execution_count": 18,
     "metadata": {},
     "output_type": "execute_result"
    }
   ],
   "source": [
    "re.findall(\"\\d+\",b)"
   ]
  },
  {
   "cell_type": "code",
   "execution_count": 19,
   "id": "524605c5",
   "metadata": {},
   "outputs": [
    {
     "data": {
      "text/plain": [
       "[]"
      ]
     },
     "execution_count": 19,
     "metadata": {},
     "output_type": "execute_result"
    }
   ],
   "source": [
    "re.findall(\"30\",b)"
   ]
  },
  {
   "cell_type": "markdown",
   "id": "bf1f92f4",
   "metadata": {},
   "source": [
    "# <font color=\"browm\">__`search()`__ FUNCTION:\n",
    "- It search according to the given patterns then returns a __`match object`__.\n",
    "- If there is a more match, then it returns first occurance match.\n",
    "- If there is no match found, then it returns __`None`__."
   ]
  },
  {
   "cell_type": "code",
   "execution_count": 20,
   "id": "1ff6edcb",
   "metadata": {},
   "outputs": [
    {
     "name": "stdout",
     "output_type": "stream",
     "text": [
      "<re.Match object; span=(28, 29), match='2'>\n"
     ]
    }
   ],
   "source": [
    "print(re.search(\"\\d\",b))"
   ]
  },
  {
   "cell_type": "code",
   "execution_count": 21,
   "id": "e6dae09f",
   "metadata": {},
   "outputs": [
    {
     "name": "stdout",
     "output_type": "stream",
     "text": [
      "None\n"
     ]
    }
   ],
   "source": [
    "print(re.search(\"\\30\",b))"
   ]
  },
  {
   "cell_type": "markdown",
   "id": "3a69bb24",
   "metadata": {},
   "source": [
    "# <font color=\"browm\">__`split()`__ FUNCTION:\n",
    "- It returns a list where the string has been split at each match.\n",
    "- We can control the number of occurrences by specifying the __`maxsplit`__ parameter"
   ]
  },
  {
   "cell_type": "code",
   "execution_count": 22,
   "id": "3b4c6798",
   "metadata": {},
   "outputs": [
    {
     "name": "stdout",
     "output_type": "stream",
     "text": [
      "['The', 'rain', 'in', 'Spain']\n"
     ]
    }
   ],
   "source": [
    "txt = \"The9rain2in3Spain\"\n",
    "x = re.split(\"\\d\", txt)\n",
    "print(x)"
   ]
  },
  {
   "cell_type": "code",
   "execution_count": 23,
   "id": "66b5cbb5",
   "metadata": {},
   "outputs": [
    {
     "name": "stdout",
     "output_type": "stream",
     "text": [
      "['The', 'rain', 'in', 'Spain']\n"
     ]
    }
   ],
   "source": [
    "txt = \"The rain in Spain\"\n",
    "x = re.split(\"\\s\", txt)\n",
    "print(x)"
   ]
  },
  {
   "cell_type": "code",
   "execution_count": 24,
   "id": "44b458b3",
   "metadata": {},
   "outputs": [
    {
     "name": "stdout",
     "output_type": "stream",
     "text": [
      "['The', 'rain in Spain']\n"
     ]
    }
   ],
   "source": [
    "txt = \"The rain in Spain\"\n",
    "x = re.split(\"\\s\", txt,maxsplit=1)\n",
    "print(x)"
   ]
  },
  {
   "cell_type": "markdown",
   "id": "83d997c1",
   "metadata": {},
   "source": [
    "# <font color=\"browm\">__`sub()`__ FUNCTION:\n",
    "- It replaces the matches the text of your choice.\n",
    "- You can control the number of replacements by specifying the __`count`__ parameter"
   ]
  },
  {
   "cell_type": "code",
   "execution_count": 25,
   "id": "ec5b0e24",
   "metadata": {},
   "outputs": [
    {
     "name": "stdout",
     "output_type": "stream",
     "text": [
      "The9rain9in9Spain\n"
     ]
    }
   ],
   "source": [
    "txt = \"The rain in Spain\"\n",
    "x = re.sub(\"\\s\", \"9\", txt)\n",
    "print(x)"
   ]
  },
  {
   "cell_type": "code",
   "execution_count": 26,
   "id": "8cf5dd71",
   "metadata": {},
   "outputs": [
    {
     "name": "stdout",
     "output_type": "stream",
     "text": [
      "The9rain in Spain\n"
     ]
    }
   ],
   "source": [
    "txt = \"The rain in Spain\"\n",
    "x = re.sub(\"\\s\", \"9\", txt,1)\n",
    "print(x)"
   ]
  },
  {
   "cell_type": "markdown",
   "id": "8a4342ee",
   "metadata": {},
   "source": [
    "****"
   ]
  },
  {
   "cell_type": "markdown",
   "id": "f653d86b",
   "metadata": {},
   "source": [
    "### "
   ]
  },
  {
   "cell_type": "code",
   "execution_count": 27,
   "id": "58d1fdea",
   "metadata": {},
   "outputs": [],
   "source": [
    "import re"
   ]
  },
  {
   "cell_type": "code",
   "execution_count": 28,
   "id": "591a3c3f",
   "metadata": {},
   "outputs": [],
   "source": [
    "a=\"\"\"1\n",
    "·\n",
    "Trending\n",
    "#PKSDT\n",
    "9,062 Tweets\n",
    "2\n",
    "·\n",
    "Trending\n",
    "#HealthyWayOfLiving\n",
    "35.3K Tweets\n",
    "3\n",
    "·\n",
    "Trending\n",
    "#MarriageIn17Minutes\n",
    "337K Tweets\n",
    "4\n",
    "·\n",
    "UEFA Champions League · Trending\n",
    "#LIVRMA\n",
    "159K Tweets\n",
    "5\n",
    "·\n",
    "Only on Twitter · Trending\n",
    "#WeLovedMppd\n",
    "63.1K Tweets\"\"\""
   ]
  },
  {
   "cell_type": "code",
   "execution_count": 29,
   "id": "478328e9",
   "metadata": {},
   "outputs": [
    {
     "data": {
      "text/plain": [
       "['#', '#', '#', '#', '#']"
      ]
     },
     "execution_count": 29,
     "metadata": {},
     "output_type": "execute_result"
    }
   ],
   "source": [
    "re.findall(\"[#]\",a)"
   ]
  },
  {
   "cell_type": "code",
   "execution_count": 30,
   "id": "1a77a416",
   "metadata": {},
   "outputs": [],
   "source": [
    "b=\"abcd2345#$@!vbfghe6789.\""
   ]
  },
  {
   "cell_type": "code",
   "execution_count": 31,
   "id": "18942446",
   "metadata": {},
   "outputs": [
    {
     "data": {
      "text/plain": [
       "['',\n",
       " '',\n",
       " '',\n",
       " '',\n",
       " '',\n",
       " '',\n",
       " '',\n",
       " '',\n",
       " '#',\n",
       " '$',\n",
       " '@',\n",
       " '!',\n",
       " '',\n",
       " '',\n",
       " '',\n",
       " '',\n",
       " '',\n",
       " '',\n",
       " '',\n",
       " '',\n",
       " '',\n",
       " '',\n",
       " '.',\n",
       " '']"
      ]
     },
     "execution_count": 31,
     "metadata": {},
     "output_type": "execute_result"
    }
   ],
   "source": [
    "re.findall(\"\\W?\",b)"
   ]
  },
  {
   "cell_type": "code",
   "execution_count": 32,
   "id": "fc7aeacd",
   "metadata": {},
   "outputs": [],
   "source": [
    "college=\"\"\"IIT Madras - Indian Institute of Technology\n",
    "4.6(213)\n",
    "Fees: ₹ 10.00 Lakh\n",
    "Salary : ₹ 16.00 Lakh\n",
    "Not Ranked\n",
    "Times ' 22\n",
    "3\n",
    "The Week ' 21\n",
    "1\n",
    "Outlook ' 20\n",
    "Admissions\n",
    "Courses & Fees\n",
    "Placements\"\"\""
   ]
  },
  {
   "cell_type": "code",
   "execution_count": 33,
   "id": "def7c413",
   "metadata": {},
   "outputs": [
    {
     "data": {
      "text/plain": [
       "['₹ 10.00 L']"
      ]
     },
     "execution_count": 33,
     "metadata": {},
     "output_type": "execute_result"
    }
   ],
   "source": [
    "re.findall(\"Fees:\\s(\\W\\s\\d+\\.\\d+\\s\\w)\",college)"
   ]
  },
  {
   "cell_type": "code",
   "execution_count": 34,
   "id": "e8496969",
   "metadata": {},
   "outputs": [
    {
     "data": {
      "text/plain": [
       "['4.6']"
      ]
     },
     "execution_count": 34,
     "metadata": {},
     "output_type": "execute_result"
    }
   ],
   "source": [
    "re.findall(\"(\\d\\.\\d)\\(\",college)"
   ]
  },
  {
   "cell_type": "code",
   "execution_count": 35,
   "id": "7efb346f",
   "metadata": {},
   "outputs": [
    {
     "data": {
      "text/plain": [
       "['₹ 16.00 L']"
      ]
     },
     "execution_count": 35,
     "metadata": {},
     "output_type": "execute_result"
    }
   ],
   "source": [
    "re.findall(\"Salary\\s:\\s(\\W\\s\\d+\\.\\d+\\s\\w)\",college)"
   ]
  },
  {
   "cell_type": "code",
   "execution_count": 36,
   "id": "f0b3234c",
   "metadata": {},
   "outputs": [
    {
     "data": {
      "text/plain": [
       "['Salary : ₹ 16.00 L']"
      ]
     },
     "execution_count": 36,
     "metadata": {},
     "output_type": "execute_result"
    }
   ],
   "source": [
    "re.findall(\"Salary\\s:\\s\\W\\s\\d+\\.\\d+\\s\\w\",college)"
   ]
  },
  {
   "cell_type": "code",
   "execution_count": 37,
   "id": "034f411d",
   "metadata": {},
   "outputs": [
    {
     "data": {
      "text/plain": [
       "['20']"
      ]
     },
     "execution_count": 37,
     "metadata": {},
     "output_type": "execute_result"
    }
   ],
   "source": [
    "re.findall(\"Outlook\\s\\'\\s(\\d+)\",college)"
   ]
  },
  {
   "cell_type": "code",
   "execution_count": 38,
   "id": "c24c1938",
   "metadata": {},
   "outputs": [
    {
     "data": {
      "text/plain": [
       "['3', '1']"
      ]
     },
     "execution_count": 38,
     "metadata": {},
     "output_type": "execute_result"
    }
   ],
   "source": [
    "re.findall(\"\\n(\\d)\\n\",college)"
   ]
  },
  {
   "cell_type": "code",
   "execution_count": 39,
   "id": "35f7c8ec",
   "metadata": {},
   "outputs": [],
   "source": [
    "phones=\"\"\"SAMSUNG Galaxy F23 5G (Forest Green, 128 GB)\n",
    "SAMSUNG Galaxy F04 (Jade Purple, 64 GB)\n",
    "POCO M3 Pro 5G (Yellow, 128 GB)\n",
    "MOTOROLA e40 (Carbon Gray, 64 GB)\n",
    "APPLE iPhone 13 (Blue, 128 GB)\n",
    "APPLE iPhone 14 (Starlight, 128 GB)\n",
    "APPLE iPhone 14 (Blue, 128 GB)\n",
    "MOTOROLA G62 5G (Midnight Gray, 128 GB)\n",
    "REDMI 10 (Pacific Blue, 64 GB)\n",
    "REDMI 10 (Caribbean Green, 64 GB)\n",
    "REDMI Note 11 SE (Cosmic White, 64 GB)\n",
    "MOTOROLA G32 (Mineral Gray, 64 GB)\n",
    "MOTOROLA G62 5G (Frosted Blue, 128 GB)\n",
    "POCO C31 (Royal Blue, 64 GB)\n",
    "MOTOROLA e40 (Pink Clay, 64 GB)\n",
    "REDMI 10 (Midnight Black, 64 GB)\n",
    "SAMSUNG Galaxy F23 5G (Copper Blush, 128 GB)\n",
    "REDMI Note 12 Pro+ 5G (Obsidian Black, 256 GB)\n",
    "SAMSUNG Galaxy F04 (Opal Green, 64 GB)\n",
    "MOTOROLA G32 (Satin Silver, 64 GB)\n",
    "POCO M4 Pro (Cool Blue, 64 GB)\n",
    "REDMI 9i Sport (Coral Green, 64 GB)\n",
    "SAMSUNG Galaxy F23 5G (Forest Green, 128 GB)\n",
    "POCO M4 Pro (Cool Blue, 128 GB)\"\"\""
   ]
  },
  {
   "cell_type": "code",
   "execution_count": 40,
   "id": "bb41dede",
   "metadata": {},
   "outputs": [
    {
     "data": {
      "text/plain": [
       "['SAMSUNG',\n",
       " 'SAMSUNG',\n",
       " 'POCO',\n",
       " 'MOTOROLA',\n",
       " 'APPLE',\n",
       " 'APPLE',\n",
       " 'APPLE',\n",
       " 'MOTOROLA',\n",
       " 'REDMI',\n",
       " 'REDMI',\n",
       " 'REDMI',\n",
       " 'MOTOROLA',\n",
       " 'MOTOROLA',\n",
       " 'POCO',\n",
       " 'MOTOROLA',\n",
       " 'REDMI',\n",
       " 'SAMSUNG',\n",
       " 'REDMI',\n",
       " 'SAMSUNG',\n",
       " 'MOTOROLA',\n",
       " 'POCO',\n",
       " 'REDMI',\n",
       " 'SAMSUNG',\n",
       " 'POCO']"
      ]
     },
     "execution_count": 40,
     "metadata": {},
     "output_type": "execute_result"
    }
   ],
   "source": [
    "re.findall(\"([A-Z]+)\\s\\w\",phones)"
   ]
  },
  {
   "cell_type": "code",
   "execution_count": null,
   "id": "f7910a4f",
   "metadata": {},
   "outputs": [],
   "source": []
  },
  {
   "cell_type": "code",
   "execution_count": null,
   "id": "0e1dc7e1",
   "metadata": {},
   "outputs": [],
   "source": []
  }
 ],
 "metadata": {
  "kernelspec": {
   "display_name": "Python 3 (ipykernel)",
   "language": "python",
   "name": "python3"
  },
  "language_info": {
   "codemirror_mode": {
    "name": "ipython",
    "version": 3
   },
   "file_extension": ".py",
   "mimetype": "text/x-python",
   "name": "python",
   "nbconvert_exporter": "python",
   "pygments_lexer": "ipython3",
   "version": "3.9.13"
  }
 },
 "nbformat": 4,
 "nbformat_minor": 5
}
