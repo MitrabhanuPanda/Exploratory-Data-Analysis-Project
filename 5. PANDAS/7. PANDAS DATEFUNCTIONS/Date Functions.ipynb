{
 "cells": [
  {
   "cell_type": "markdown",
   "id": "e571c58f",
   "metadata": {},
   "source": [
    "### <font color=\"brown\">IMPORTING LIBRARY"
   ]
  },
  {
   "cell_type": "code",
   "execution_count": 1,
   "id": "47dd81c4",
   "metadata": {},
   "outputs": [],
   "source": [
    "import pandas as pd\n",
    "import datetime as dt\n",
    "from dateutil.relativedelta import relativedelta"
   ]
  },
  {
   "cell_type": "code",
   "execution_count": 2,
   "id": "77e391d6",
   "metadata": {},
   "outputs": [],
   "source": [
    "import warnings\n",
    "warnings.filterwarnings(\"ignore\")"
   ]
  },
  {
   "cell_type": "markdown",
   "id": "b917756d",
   "metadata": {},
   "source": [
    "### <font color=\"green\">EXTRACTING DATASETS"
   ]
  },
  {
   "cell_type": "code",
   "execution_count": 3,
   "id": "b6d29588",
   "metadata": {},
   "outputs": [],
   "source": [
    "df=pd.read_csv(\"expense_data.csv\")"
   ]
  },
  {
   "cell_type": "code",
   "execution_count": 4,
   "id": "228050ca",
   "metadata": {},
   "outputs": [
    {
     "data": {
      "text/html": [
       "<div>\n",
       "<style scoped>\n",
       "    .dataframe tbody tr th:only-of-type {\n",
       "        vertical-align: middle;\n",
       "    }\n",
       "\n",
       "    .dataframe tbody tr th {\n",
       "        vertical-align: top;\n",
       "    }\n",
       "\n",
       "    .dataframe thead th {\n",
       "        text-align: right;\n",
       "    }\n",
       "</style>\n",
       "<table border=\"1\" class=\"dataframe\">\n",
       "  <thead>\n",
       "    <tr style=\"text-align: right;\">\n",
       "      <th></th>\n",
       "      <th>Date</th>\n",
       "      <th>Account</th>\n",
       "      <th>Category</th>\n",
       "      <th>Subcategory</th>\n",
       "      <th>Note</th>\n",
       "      <th>INR</th>\n",
       "      <th>Income/Expense</th>\n",
       "      <th>Note.1</th>\n",
       "      <th>Amount</th>\n",
       "      <th>Currency</th>\n",
       "      <th>Account.1</th>\n",
       "    </tr>\n",
       "  </thead>\n",
       "  <tbody>\n",
       "    <tr>\n",
       "      <th>0</th>\n",
       "      <td>3/2/2022 10:11</td>\n",
       "      <td>CUB - online payment</td>\n",
       "      <td>Food</td>\n",
       "      <td>NaN</td>\n",
       "      <td>Brownie</td>\n",
       "      <td>50.0</td>\n",
       "      <td>Expense</td>\n",
       "      <td>NaN</td>\n",
       "      <td>50.0</td>\n",
       "      <td>INR</td>\n",
       "      <td>50.0</td>\n",
       "    </tr>\n",
       "    <tr>\n",
       "      <th>1</th>\n",
       "      <td>3/2/2022 10:11</td>\n",
       "      <td>CUB - online payment</td>\n",
       "      <td>Other</td>\n",
       "      <td>NaN</td>\n",
       "      <td>To lended people</td>\n",
       "      <td>300.0</td>\n",
       "      <td>Expense</td>\n",
       "      <td>NaN</td>\n",
       "      <td>300.0</td>\n",
       "      <td>INR</td>\n",
       "      <td>300.0</td>\n",
       "    </tr>\n",
       "    <tr>\n",
       "      <th>2</th>\n",
       "      <td>3/1/2022 19:50</td>\n",
       "      <td>CUB - online payment</td>\n",
       "      <td>Food</td>\n",
       "      <td>NaN</td>\n",
       "      <td>Dinner</td>\n",
       "      <td>78.0</td>\n",
       "      <td>Expense</td>\n",
       "      <td>NaN</td>\n",
       "      <td>78.0</td>\n",
       "      <td>INR</td>\n",
       "      <td>78.0</td>\n",
       "    </tr>\n",
       "    <tr>\n",
       "      <th>3</th>\n",
       "      <td>3/1/2022 18:56</td>\n",
       "      <td>CUB - online payment</td>\n",
       "      <td>Transportation</td>\n",
       "      <td>NaN</td>\n",
       "      <td>Metro</td>\n",
       "      <td>30.0</td>\n",
       "      <td>Expense</td>\n",
       "      <td>NaN</td>\n",
       "      <td>30.0</td>\n",
       "      <td>INR</td>\n",
       "      <td>30.0</td>\n",
       "    </tr>\n",
       "    <tr>\n",
       "      <th>4</th>\n",
       "      <td>3/1/2022 18:22</td>\n",
       "      <td>CUB - online payment</td>\n",
       "      <td>Food</td>\n",
       "      <td>NaN</td>\n",
       "      <td>Snacks</td>\n",
       "      <td>67.0</td>\n",
       "      <td>Expense</td>\n",
       "      <td>NaN</td>\n",
       "      <td>67.0</td>\n",
       "      <td>INR</td>\n",
       "      <td>67.0</td>\n",
       "    </tr>\n",
       "  </tbody>\n",
       "</table>\n",
       "</div>"
      ],
      "text/plain": [
       "             Date               Account        Category  Subcategory  \\\n",
       "0  3/2/2022 10:11  CUB - online payment            Food          NaN   \n",
       "1  3/2/2022 10:11  CUB - online payment           Other          NaN   \n",
       "2  3/1/2022 19:50  CUB - online payment            Food          NaN   \n",
       "3  3/1/2022 18:56  CUB - online payment  Transportation          NaN   \n",
       "4  3/1/2022 18:22  CUB - online payment            Food          NaN   \n",
       "\n",
       "               Note    INR Income/Expense  Note.1  Amount Currency  Account.1  \n",
       "0           Brownie   50.0        Expense     NaN    50.0      INR       50.0  \n",
       "1  To lended people  300.0        Expense     NaN   300.0      INR      300.0  \n",
       "2            Dinner   78.0        Expense     NaN    78.0      INR       78.0  \n",
       "3             Metro   30.0        Expense     NaN    30.0      INR       30.0  \n",
       "4            Snacks   67.0        Expense     NaN    67.0      INR       67.0  "
      ]
     },
     "execution_count": 4,
     "metadata": {},
     "output_type": "execute_result"
    }
   ],
   "source": [
    "df.head()"
   ]
  },
  {
   "cell_type": "code",
   "execution_count": 5,
   "id": "3e8645e3",
   "metadata": {},
   "outputs": [
    {
     "name": "stdout",
     "output_type": "stream",
     "text": [
      "<class 'pandas.core.frame.DataFrame'>\n",
      "RangeIndex: 277 entries, 0 to 276\n",
      "Data columns (total 11 columns):\n",
      " #   Column          Non-Null Count  Dtype  \n",
      "---  ------          --------------  -----  \n",
      " 0   Date            277 non-null    object \n",
      " 1   Account         277 non-null    object \n",
      " 2   Category        277 non-null    object \n",
      " 3   Subcategory     0 non-null      float64\n",
      " 4   Note            273 non-null    object \n",
      " 5   INR             277 non-null    float64\n",
      " 6   Income/Expense  277 non-null    object \n",
      " 7   Note.1          0 non-null      float64\n",
      " 8   Amount          277 non-null    float64\n",
      " 9   Currency        277 non-null    object \n",
      " 10  Account.1       277 non-null    float64\n",
      "dtypes: float64(5), object(6)\n",
      "memory usage: 23.9+ KB\n"
     ]
    }
   ],
   "source": [
    "df.info()"
   ]
  },
  {
   "cell_type": "code",
   "execution_count": 6,
   "id": "dadce53d",
   "metadata": {},
   "outputs": [
    {
     "data": {
      "text/html": [
       "<div>\n",
       "<style scoped>\n",
       "    .dataframe tbody tr th:only-of-type {\n",
       "        vertical-align: middle;\n",
       "    }\n",
       "\n",
       "    .dataframe tbody tr th {\n",
       "        vertical-align: top;\n",
       "    }\n",
       "\n",
       "    .dataframe thead th {\n",
       "        text-align: right;\n",
       "    }\n",
       "</style>\n",
       "<table border=\"1\" class=\"dataframe\">\n",
       "  <thead>\n",
       "    <tr style=\"text-align: right;\">\n",
       "      <th></th>\n",
       "      <th>CUSTOMER_ID</th>\n",
       "      <th>Company</th>\n",
       "      <th>CARD_REG_DATE</th>\n",
       "      <th>CARD_ACTIVE</th>\n",
       "      <th>FIRST_USE_DTE</th>\n",
       "      <th>firstSTOR</th>\n",
       "      <th>TITLE</th>\n",
       "      <th>GENDER</th>\n",
       "      <th>max spent</th>\n",
       "      <th>DOB</th>\n",
       "      <th>...</th>\n",
       "      <th>CUST_STAT</th>\n",
       "      <th>Avgsize spent</th>\n",
       "      <th>CARD_STAT</th>\n",
       "      <th>RGSTN_TYPE_IND</th>\n",
       "      <th>NO_OF_TRIPS</th>\n",
       "      <th>TOWN</th>\n",
       "      <th>EMAIL_IND</th>\n",
       "      <th>CONTACT_PREF</th>\n",
       "      <th>Average_Qty_PER_ACC</th>\n",
       "      <th>Spent amount</th>\n",
       "    </tr>\n",
       "  </thead>\n",
       "  <tbody>\n",
       "    <tr>\n",
       "      <th>0</th>\n",
       "      <td>1000032547</td>\n",
       "      <td>MED +</td>\n",
       "      <td>12-09-2006 00:00</td>\n",
       "      <td>Y</td>\n",
       "      <td>12-05-2007 00:00</td>\n",
       "      <td>2587</td>\n",
       "      <td>Mrs.</td>\n",
       "      <td>Female</td>\n",
       "      <td>56.31</td>\n",
       "      <td>15-09-1984</td>\n",
       "      <td>...</td>\n",
       "      <td>Active</td>\n",
       "      <td>17.34</td>\n",
       "      <td>Registered</td>\n",
       "      <td>Online</td>\n",
       "      <td>4</td>\n",
       "      <td>Kyabram</td>\n",
       "      <td>Y</td>\n",
       "      <td>Email</td>\n",
       "      <td>2.75</td>\n",
       "      <td>69.37</td>\n",
       "    </tr>\n",
       "    <tr>\n",
       "      <th>1</th>\n",
       "      <td>1000032548</td>\n",
       "      <td>DR.REDDYS</td>\n",
       "      <td>12-09-2006 00:00</td>\n",
       "      <td>Y</td>\n",
       "      <td>12-03-2007 00:00</td>\n",
       "      <td>4341</td>\n",
       "      <td>Ms.</td>\n",
       "      <td>Female</td>\n",
       "      <td>598.95</td>\n",
       "      <td>15-07-1974</td>\n",
       "      <td>...</td>\n",
       "      <td>Active</td>\n",
       "      <td>29.32</td>\n",
       "      <td>Registered</td>\n",
       "      <td>Online</td>\n",
       "      <td>17</td>\n",
       "      <td>Hawthorn East</td>\n",
       "      <td>Y</td>\n",
       "      <td>Email</td>\n",
       "      <td>7.29</td>\n",
       "      <td>498.50</td>\n",
       "    </tr>\n",
       "    <tr>\n",
       "      <th>2</th>\n",
       "      <td>1000032549</td>\n",
       "      <td>RELEGARE</td>\n",
       "      <td>12-09-2006 00:00</td>\n",
       "      <td>Y</td>\n",
       "      <td>12-02-2007 00:00</td>\n",
       "      <td>1090</td>\n",
       "      <td>Mrs.</td>\n",
       "      <td>Female</td>\n",
       "      <td>1.56</td>\n",
       "      <td>01-04-1959</td>\n",
       "      <td>...</td>\n",
       "      <td>Active</td>\n",
       "      <td>1.56</td>\n",
       "      <td>Registered</td>\n",
       "      <td>Online</td>\n",
       "      <td>1</td>\n",
       "      <td>Revesby</td>\n",
       "      <td>Y</td>\n",
       "      <td>Email</td>\n",
       "      <td>2.00</td>\n",
       "      <td>1.56</td>\n",
       "    </tr>\n",
       "    <tr>\n",
       "      <th>3</th>\n",
       "      <td>1000032550</td>\n",
       "      <td>GSK</td>\n",
       "      <td>12-09-2006 00:00</td>\n",
       "      <td>Y</td>\n",
       "      <td>12-03-2007 00:00</td>\n",
       "      <td>3179</td>\n",
       "      <td>Mr.</td>\n",
       "      <td>Male</td>\n",
       "      <td>115.76</td>\n",
       "      <td>16-05-1978</td>\n",
       "      <td>...</td>\n",
       "      <td>Active</td>\n",
       "      <td>80.49</td>\n",
       "      <td>Registered</td>\n",
       "      <td>Online</td>\n",
       "      <td>2</td>\n",
       "      <td>Willow Grove</td>\n",
       "      <td>Y</td>\n",
       "      <td>Email</td>\n",
       "      <td>26.00</td>\n",
       "      <td>160.98</td>\n",
       "    </tr>\n",
       "    <tr>\n",
       "      <th>4</th>\n",
       "      <td>1000032551</td>\n",
       "      <td>GSK</td>\n",
       "      <td>12-09-2006 00:00</td>\n",
       "      <td>Y</td>\n",
       "      <td>12-05-2007 00:00</td>\n",
       "      <td>3135</td>\n",
       "      <td>Mr.</td>\n",
       "      <td>Male</td>\n",
       "      <td>305.90</td>\n",
       "      <td>16-12-1978</td>\n",
       "      <td>...</td>\n",
       "      <td>Active</td>\n",
       "      <td>24.09</td>\n",
       "      <td>Registered</td>\n",
       "      <td>Online</td>\n",
       "      <td>12</td>\n",
       "      <td>mona vale</td>\n",
       "      <td>Y</td>\n",
       "      <td>Email</td>\n",
       "      <td>6.33</td>\n",
       "      <td>289.10</td>\n",
       "    </tr>\n",
       "  </tbody>\n",
       "</table>\n",
       "<p>5 rows × 24 columns</p>\n",
       "</div>"
      ],
      "text/plain": [
       "   CUSTOMER_ID    Company     CARD_REG_DATE CARD_ACTIVE     FIRST_USE_DTE  \\\n",
       "0   1000032547      MED +  12-09-2006 00:00           Y  12-05-2007 00:00   \n",
       "1   1000032548  DR.REDDYS  12-09-2006 00:00           Y  12-03-2007 00:00   \n",
       "2   1000032549   RELEGARE  12-09-2006 00:00           Y  12-02-2007 00:00   \n",
       "3   1000032550        GSK  12-09-2006 00:00           Y  12-03-2007 00:00   \n",
       "4   1000032551        GSK  12-09-2006 00:00           Y  12-05-2007 00:00   \n",
       "\n",
       "   firstSTOR TITLE  GENDER  max spent         DOB  ... CUST_STAT  \\\n",
       "0       2587  Mrs.  Female      56.31  15-09-1984  ...    Active   \n",
       "1       4341   Ms.  Female     598.95  15-07-1974  ...    Active   \n",
       "2       1090  Mrs.  Female       1.56  01-04-1959  ...    Active   \n",
       "3       3179   Mr.    Male     115.76  16-05-1978  ...    Active   \n",
       "4       3135   Mr.    Male     305.90  16-12-1978  ...    Active   \n",
       "\n",
       "   Avgsize spent   CARD_STAT  RGSTN_TYPE_IND NO_OF_TRIPS           TOWN  \\\n",
       "0          17.34  Registered          Online           4        Kyabram   \n",
       "1          29.32  Registered          Online          17  Hawthorn East   \n",
       "2           1.56  Registered          Online           1        Revesby   \n",
       "3          80.49  Registered          Online           2   Willow Grove   \n",
       "4          24.09  Registered          Online          12      mona vale   \n",
       "\n",
       "  EMAIL_IND CONTACT_PREF  Average_Qty_PER_ACC Spent amount  \n",
       "0         Y        Email                 2.75        69.37  \n",
       "1         Y        Email                 7.29       498.50  \n",
       "2         Y        Email                 2.00         1.56  \n",
       "3         Y        Email                26.00       160.98  \n",
       "4         Y        Email                 6.33       289.10  \n",
       "\n",
       "[5 rows x 24 columns]"
      ]
     },
     "execution_count": 6,
     "metadata": {},
     "output_type": "execute_result"
    }
   ],
   "source": [
    "df1=pd.read_csv(\"MED_STORE_2022.csv\")\n",
    "df1.head()"
   ]
  },
  {
   "cell_type": "code",
   "execution_count": 7,
   "id": "99627c38",
   "metadata": {},
   "outputs": [
    {
     "name": "stdout",
     "output_type": "stream",
     "text": [
      "<class 'pandas.core.frame.DataFrame'>\n",
      "RangeIndex: 277 entries, 0 to 276\n",
      "Data columns (total 11 columns):\n",
      " #   Column          Non-Null Count  Dtype  \n",
      "---  ------          --------------  -----  \n",
      " 0   Date            277 non-null    object \n",
      " 1   Account         277 non-null    object \n",
      " 2   Category        277 non-null    object \n",
      " 3   Subcategory     0 non-null      float64\n",
      " 4   Note            273 non-null    object \n",
      " 5   INR             277 non-null    float64\n",
      " 6   Income/Expense  277 non-null    object \n",
      " 7   Note.1          0 non-null      float64\n",
      " 8   Amount          277 non-null    float64\n",
      " 9   Currency        277 non-null    object \n",
      " 10  Account.1       277 non-null    float64\n",
      "dtypes: float64(5), object(6)\n",
      "memory usage: 23.9+ KB\n"
     ]
    }
   ],
   "source": [
    "df.info()"
   ]
  },
  {
   "cell_type": "markdown",
   "id": "2940f3e1",
   "metadata": {},
   "source": [
    "## <font color=\"dark blue\">to_datetime\n",
    "- It convert any date Feature to Datetime data type. "
   ]
  },
  {
   "cell_type": "code",
   "execution_count": 8,
   "id": "da0f907f",
   "metadata": {},
   "outputs": [
    {
     "name": "stdout",
     "output_type": "stream",
     "text": [
      "<class 'pandas.core.frame.DataFrame'>\n",
      "RangeIndex: 277 entries, 0 to 276\n",
      "Data columns (total 11 columns):\n",
      " #   Column          Non-Null Count  Dtype         \n",
      "---  ------          --------------  -----         \n",
      " 0   Date            277 non-null    datetime64[ns]\n",
      " 1   Account         277 non-null    object        \n",
      " 2   Category        277 non-null    object        \n",
      " 3   Subcategory     0 non-null      float64       \n",
      " 4   Note            273 non-null    object        \n",
      " 5   INR             277 non-null    float64       \n",
      " 6   Income/Expense  277 non-null    object        \n",
      " 7   Note.1          0 non-null      float64       \n",
      " 8   Amount          277 non-null    float64       \n",
      " 9   Currency        277 non-null    object        \n",
      " 10  Account.1       277 non-null    float64       \n",
      "dtypes: datetime64[ns](1), float64(5), object(5)\n",
      "memory usage: 23.9+ KB\n"
     ]
    }
   ],
   "source": [
    "df[\"Date\"]=pd.to_datetime(df[\"Date\"])\n",
    "df.info()"
   ]
  },
  {
   "cell_type": "markdown",
   "id": "cf28e273",
   "metadata": {},
   "source": [
    "### <font color=\"dark blue\">datetime.now()\n",
    "- It give Today's date with Time."
   ]
  },
  {
   "cell_type": "code",
   "execution_count": 9,
   "id": "e85cf456",
   "metadata": {},
   "outputs": [
    {
     "name": "stdout",
     "output_type": "stream",
     "text": [
      "2024-08-15 20:21:55.989086\n"
     ]
    }
   ],
   "source": [
    "# The date contains year, month, day, hour, minute, second, and microsecond\n",
    "x=dt.datetime.now()\n",
    "print(x)"
   ]
  },
  {
   "cell_type": "markdown",
   "id": "1d22b9e7",
   "metadata": {},
   "source": [
    "## <font color=\"Brown\">METHODS OF __`datetime`__"
   ]
  },
  {
   "cell_type": "markdown",
   "id": "4840d2d3",
   "metadata": {},
   "source": [
    "### <font color=\"Blue\">1. year\n",
    "- It give the Year from date feature."
   ]
  },
  {
   "cell_type": "code",
   "execution_count": 10,
   "id": "b5fb6d6d",
   "metadata": {},
   "outputs": [
    {
     "data": {
      "text/plain": [
       "2024"
      ]
     },
     "execution_count": 10,
     "metadata": {},
     "output_type": "execute_result"
    }
   ],
   "source": [
    "x.year"
   ]
  },
  {
   "cell_type": "markdown",
   "id": "3939886e",
   "metadata": {},
   "source": [
    "### <font color=\"Blue\">2. month\n",
    "- It give the Month from date feature."
   ]
  },
  {
   "cell_type": "code",
   "execution_count": 11,
   "id": "d83a3ed7",
   "metadata": {},
   "outputs": [
    {
     "data": {
      "text/plain": [
       "8"
      ]
     },
     "execution_count": 11,
     "metadata": {},
     "output_type": "execute_result"
    }
   ],
   "source": [
    "x.month"
   ]
  },
  {
   "cell_type": "markdown",
   "id": "06f94c8e",
   "metadata": {},
   "source": [
    "### <font color=\"Blue\">3. day\n",
    "- It give the day from date feature."
   ]
  },
  {
   "cell_type": "code",
   "execution_count": 12,
   "id": "33449a27",
   "metadata": {
    "scrolled": true
   },
   "outputs": [
    {
     "data": {
      "text/plain": [
       "15"
      ]
     },
     "execution_count": 12,
     "metadata": {},
     "output_type": "execute_result"
    }
   ],
   "source": [
    "x.day"
   ]
  },
  {
   "cell_type": "markdown",
   "id": "74515daf",
   "metadata": {},
   "source": [
    "### <font color=\"Blue\">3. date()\n",
    "- It give the only date from date feature."
   ]
  },
  {
   "cell_type": "code",
   "execution_count": 13,
   "id": "be4db994",
   "metadata": {
    "scrolled": true
   },
   "outputs": [
    {
     "name": "stdout",
     "output_type": "stream",
     "text": [
      "2024-08-15\n"
     ]
    }
   ],
   "source": [
    "print(x.date())"
   ]
  },
  {
   "cell_type": "markdown",
   "id": "8b6b9270",
   "metadata": {},
   "source": [
    "## <font color=\"Dark Blue\">HOW TO CREATE A DATE?"
   ]
  },
  {
   "cell_type": "code",
   "execution_count": 14,
   "id": "f0b11acd",
   "metadata": {},
   "outputs": [
    {
     "name": "stdout",
     "output_type": "stream",
     "text": [
      "Date With Time:  2024-08-15 20:21:55.989086\n",
      "Year from the date:  2024\n",
      "Month from the date:  8\n",
      "Day from the date:  15\n"
     ]
    }
   ],
   "source": [
    "print(\"Date With Time: \",x)\n",
    "year=x.year\n",
    "print(\"Year from the date: \",year)\n",
    "month=x.month\n",
    "print(\"Month from the date: \",month)\n",
    "day=x.day\n",
    "print(\"Day from the date: \",day)"
   ]
  },
  {
   "cell_type": "code",
   "execution_count": 15,
   "id": "e2ad0155",
   "metadata": {},
   "outputs": [
    {
     "name": "stdout",
     "output_type": "stream",
     "text": [
      "2024-08-15 00:00:00\n"
     ]
    }
   ],
   "source": [
    "date=dt.datetime(year,month,day)\n",
    "print(date)"
   ]
  },
  {
   "cell_type": "markdown",
   "id": "1117a2c6",
   "metadata": {},
   "source": [
    "### <font color=\"dark blue\">__`strftime()`__ METHOD"
   ]
  },
  {
   "attachments": {
    "DATE%20FUNCTION.png": {
     "image/png": "[encoded data removed]"
    }
   },
   "cell_type": "markdown",
   "id": "59820508",
   "metadata": {},
   "source": [
    "![DATE%20FUNCTION.png](attachment:DATE%20FUNCTION.png)"
   ]
  },
  {
   "cell_type": "code",
   "execution_count": 16,
   "id": "278b48e7",
   "metadata": {},
   "outputs": [
    {
     "data": {
      "text/plain": [
       "'Aug'"
      ]
     },
     "execution_count": 16,
     "metadata": {},
     "output_type": "execute_result"
    }
   ],
   "source": [
    "# It give Short Month\n",
    "date.strftime(\"%b\") "
   ]
  },
  {
   "cell_type": "code",
   "execution_count": 17,
   "id": "b124e412",
   "metadata": {},
   "outputs": [
    {
     "data": {
      "text/plain": [
       "'August'"
      ]
     },
     "execution_count": 17,
     "metadata": {},
     "output_type": "execute_result"
    }
   ],
   "source": [
    "# It give Long Month\n",
    "date.strftime(\"%B\")"
   ]
  },
  {
   "cell_type": "code",
   "execution_count": 18,
   "id": "df9456cb",
   "metadata": {},
   "outputs": [
    {
     "data": {
      "text/plain": [
       "'Thu'"
      ]
     },
     "execution_count": 18,
     "metadata": {},
     "output_type": "execute_result"
    }
   ],
   "source": [
    "# It give Short Day Name\n",
    "date.strftime(\"%a\")"
   ]
  },
  {
   "cell_type": "code",
   "execution_count": 19,
   "id": "eea95b1c",
   "metadata": {},
   "outputs": [
    {
     "data": {
      "text/plain": [
       "'Thursday'"
      ]
     },
     "execution_count": 19,
     "metadata": {},
     "output_type": "execute_result"
    }
   ],
   "source": [
    "# It give Long Day Name\n",
    "date.strftime(\"%A\")"
   ]
  },
  {
   "cell_type": "code",
   "execution_count": 20,
   "id": "971f1f85",
   "metadata": {},
   "outputs": [
    {
     "data": {
      "text/plain": [
       "'4'"
      ]
     },
     "execution_count": 20,
     "metadata": {},
     "output_type": "execute_result"
    }
   ],
   "source": [
    "# It give Week-day as Number\n",
    "date.strftime(\"%w\")"
   ]
  },
  {
   "cell_type": "code",
   "execution_count": 21,
   "id": "693ebcbb",
   "metadata": {},
   "outputs": [
    {
     "data": {
      "text/plain": [
       "'15'"
      ]
     },
     "execution_count": 21,
     "metadata": {},
     "output_type": "execute_result"
    }
   ],
   "source": [
    "# It give Day as Number\n",
    "date.strftime(\"%d\")"
   ]
  },
  {
   "cell_type": "code",
   "execution_count": 22,
   "id": "bdbcbe91",
   "metadata": {},
   "outputs": [
    {
     "data": {
      "text/plain": [
       "'08'"
      ]
     },
     "execution_count": 22,
     "metadata": {},
     "output_type": "execute_result"
    }
   ],
   "source": [
    "# It give Month as Number\n",
    "date.strftime(\"%m\")"
   ]
  },
  {
   "cell_type": "code",
   "execution_count": 23,
   "id": "89373055",
   "metadata": {},
   "outputs": [
    {
     "data": {
      "text/plain": [
       "'24'"
      ]
     },
     "execution_count": 23,
     "metadata": {},
     "output_type": "execute_result"
    }
   ],
   "source": [
    "# It give Year as Short Number\n",
    "date.strftime(\"%y\")"
   ]
  },
  {
   "cell_type": "code",
   "execution_count": 24,
   "id": "0dc97bed",
   "metadata": {},
   "outputs": [
    {
     "data": {
      "text/plain": [
       "'2024'"
      ]
     },
     "execution_count": 24,
     "metadata": {},
     "output_type": "execute_result"
    }
   ],
   "source": [
    "# It give Year as Long Number\n",
    "date.strftime(\"%Y\")"
   ]
  },
  {
   "cell_type": "markdown",
   "id": "8874dca2",
   "metadata": {},
   "source": [
    "# <font color=\"Dark Blue\">REAL TIME USE CASE"
   ]
  },
  {
   "cell_type": "code",
   "execution_count": 25,
   "id": "207f3083",
   "metadata": {},
   "outputs": [
    {
     "name": "stdout",
     "output_type": "stream",
     "text": [
      "<class 'pandas.core.frame.DataFrame'>\n",
      "RangeIndex: 277 entries, 0 to 276\n",
      "Data columns (total 11 columns):\n",
      " #   Column          Non-Null Count  Dtype         \n",
      "---  ------          --------------  -----         \n",
      " 0   Date            277 non-null    datetime64[ns]\n",
      " 1   Account         277 non-null    object        \n",
      " 2   Category        277 non-null    object        \n",
      " 3   Subcategory     0 non-null      float64       \n",
      " 4   Note            273 non-null    object        \n",
      " 5   INR             277 non-null    float64       \n",
      " 6   Income/Expense  277 non-null    object        \n",
      " 7   Note.1          0 non-null      float64       \n",
      " 8   Amount          277 non-null    float64       \n",
      " 9   Currency        277 non-null    object        \n",
      " 10  Account.1       277 non-null    float64       \n",
      "dtypes: datetime64[ns](1), float64(5), object(5)\n",
      "memory usage: 23.9+ KB\n"
     ]
    }
   ],
   "source": [
    "df.info()"
   ]
  },
  {
   "cell_type": "code",
   "execution_count": 26,
   "id": "fcef482a",
   "metadata": {},
   "outputs": [
    {
     "name": "stdout",
     "output_type": "stream",
     "text": [
      "<class 'pandas.core.frame.DataFrame'>\n",
      "RangeIndex: 277 entries, 0 to 276\n",
      "Data columns (total 8 columns):\n",
      " #   Column          Non-Null Count  Dtype         \n",
      "---  ------          --------------  -----         \n",
      " 0   Date            277 non-null    datetime64[ns]\n",
      " 1   Account         277 non-null    object        \n",
      " 2   Note            273 non-null    object        \n",
      " 3   INR             277 non-null    float64       \n",
      " 4   Income/Expense  277 non-null    object        \n",
      " 5   Amount          277 non-null    float64       \n",
      " 6   Currency        277 non-null    object        \n",
      " 7   Account.1       277 non-null    float64       \n",
      "dtypes: datetime64[ns](1), float64(3), object(4)\n",
      "memory usage: 17.4+ KB\n"
     ]
    }
   ],
   "source": [
    "df.drop(columns=[\"Subcategory\",\"Note.1\",\"Category\"],inplace=True)\n",
    "df.info()"
   ]
  },
  {
   "cell_type": "markdown",
   "id": "cff03359",
   "metadata": {},
   "source": [
    "## <font color=\"Dark red\">ADD DAY,MONTH,YEAR IN THIS DATASET"
   ]
  },
  {
   "cell_type": "code",
   "execution_count": 27,
   "id": "90e817a5",
   "metadata": {},
   "outputs": [
    {
     "data": {
      "text/html": [
       "<div>\n",
       "<style scoped>\n",
       "    .dataframe tbody tr th:only-of-type {\n",
       "        vertical-align: middle;\n",
       "    }\n",
       "\n",
       "    .dataframe tbody tr th {\n",
       "        vertical-align: top;\n",
       "    }\n",
       "\n",
       "    .dataframe thead th {\n",
       "        text-align: right;\n",
       "    }\n",
       "</style>\n",
       "<table border=\"1\" class=\"dataframe\">\n",
       "  <thead>\n",
       "    <tr style=\"text-align: right;\">\n",
       "      <th></th>\n",
       "      <th>Date</th>\n",
       "      <th>Account</th>\n",
       "      <th>Note</th>\n",
       "      <th>INR</th>\n",
       "      <th>Income/Expense</th>\n",
       "      <th>Amount</th>\n",
       "      <th>Currency</th>\n",
       "      <th>Account.1</th>\n",
       "      <th>Year</th>\n",
       "      <th>Month</th>\n",
       "      <th>Day</th>\n",
       "    </tr>\n",
       "  </thead>\n",
       "  <tbody>\n",
       "    <tr>\n",
       "      <th>0</th>\n",
       "      <td>2022-03-02 10:11:00</td>\n",
       "      <td>CUB - online payment</td>\n",
       "      <td>Brownie</td>\n",
       "      <td>50.0</td>\n",
       "      <td>Expense</td>\n",
       "      <td>50.0</td>\n",
       "      <td>INR</td>\n",
       "      <td>50.0</td>\n",
       "      <td>2022</td>\n",
       "      <td>3</td>\n",
       "      <td>2</td>\n",
       "    </tr>\n",
       "    <tr>\n",
       "      <th>1</th>\n",
       "      <td>2022-03-02 10:11:00</td>\n",
       "      <td>CUB - online payment</td>\n",
       "      <td>To lended people</td>\n",
       "      <td>300.0</td>\n",
       "      <td>Expense</td>\n",
       "      <td>300.0</td>\n",
       "      <td>INR</td>\n",
       "      <td>300.0</td>\n",
       "      <td>2022</td>\n",
       "      <td>3</td>\n",
       "      <td>2</td>\n",
       "    </tr>\n",
       "    <tr>\n",
       "      <th>2</th>\n",
       "      <td>2022-03-01 19:50:00</td>\n",
       "      <td>CUB - online payment</td>\n",
       "      <td>Dinner</td>\n",
       "      <td>78.0</td>\n",
       "      <td>Expense</td>\n",
       "      <td>78.0</td>\n",
       "      <td>INR</td>\n",
       "      <td>78.0</td>\n",
       "      <td>2022</td>\n",
       "      <td>3</td>\n",
       "      <td>1</td>\n",
       "    </tr>\n",
       "    <tr>\n",
       "      <th>3</th>\n",
       "      <td>2022-03-01 18:56:00</td>\n",
       "      <td>CUB - online payment</td>\n",
       "      <td>Metro</td>\n",
       "      <td>30.0</td>\n",
       "      <td>Expense</td>\n",
       "      <td>30.0</td>\n",
       "      <td>INR</td>\n",
       "      <td>30.0</td>\n",
       "      <td>2022</td>\n",
       "      <td>3</td>\n",
       "      <td>1</td>\n",
       "    </tr>\n",
       "    <tr>\n",
       "      <th>4</th>\n",
       "      <td>2022-03-01 18:22:00</td>\n",
       "      <td>CUB - online payment</td>\n",
       "      <td>Snacks</td>\n",
       "      <td>67.0</td>\n",
       "      <td>Expense</td>\n",
       "      <td>67.0</td>\n",
       "      <td>INR</td>\n",
       "      <td>67.0</td>\n",
       "      <td>2022</td>\n",
       "      <td>3</td>\n",
       "      <td>1</td>\n",
       "    </tr>\n",
       "  </tbody>\n",
       "</table>\n",
       "</div>"
      ],
      "text/plain": [
       "                 Date               Account              Note    INR  \\\n",
       "0 2022-03-02 10:11:00  CUB - online payment           Brownie   50.0   \n",
       "1 2022-03-02 10:11:00  CUB - online payment  To lended people  300.0   \n",
       "2 2022-03-01 19:50:00  CUB - online payment            Dinner   78.0   \n",
       "3 2022-03-01 18:56:00  CUB - online payment             Metro   30.0   \n",
       "4 2022-03-01 18:22:00  CUB - online payment            Snacks   67.0   \n",
       "\n",
       "  Income/Expense  Amount Currency  Account.1  Year  Month  Day  \n",
       "0        Expense    50.0      INR       50.0  2022      3    2  \n",
       "1        Expense   300.0      INR      300.0  2022      3    2  \n",
       "2        Expense    78.0      INR       78.0  2022      3    1  \n",
       "3        Expense    30.0      INR       30.0  2022      3    1  \n",
       "4        Expense    67.0      INR       67.0  2022      3    1  "
      ]
     },
     "execution_count": 27,
     "metadata": {},
     "output_type": "execute_result"
    }
   ],
   "source": [
    "df[\"Year\"]=df[\"Date\"].dt.year\n",
    "df[\"Month\"]=df[\"Date\"].dt.month\n",
    "df[\"Day\"]=df[\"Date\"].dt.day\n",
    "df.head()"
   ]
  },
  {
   "cell_type": "markdown",
   "id": "15b91b72",
   "metadata": {},
   "source": [
    "## <font color=\"Dark red\">Convert Date feature from Datetime to Date only"
   ]
  },
  {
   "cell_type": "code",
   "execution_count": 28,
   "id": "a945197e",
   "metadata": {},
   "outputs": [
    {
     "data": {
      "text/html": [
       "<div>\n",
       "<style scoped>\n",
       "    .dataframe tbody tr th:only-of-type {\n",
       "        vertical-align: middle;\n",
       "    }\n",
       "\n",
       "    .dataframe tbody tr th {\n",
       "        vertical-align: top;\n",
       "    }\n",
       "\n",
       "    .dataframe thead th {\n",
       "        text-align: right;\n",
       "    }\n",
       "</style>\n",
       "<table border=\"1\" class=\"dataframe\">\n",
       "  <thead>\n",
       "    <tr style=\"text-align: right;\">\n",
       "      <th></th>\n",
       "      <th>Date</th>\n",
       "      <th>Account</th>\n",
       "      <th>Note</th>\n",
       "      <th>INR</th>\n",
       "      <th>Income/Expense</th>\n",
       "      <th>Amount</th>\n",
       "      <th>Currency</th>\n",
       "      <th>Account.1</th>\n",
       "      <th>Year</th>\n",
       "      <th>Month</th>\n",
       "      <th>Day</th>\n",
       "      <th>Only Date</th>\n",
       "    </tr>\n",
       "  </thead>\n",
       "  <tbody>\n",
       "    <tr>\n",
       "      <th>0</th>\n",
       "      <td>2022-03-02 10:11:00</td>\n",
       "      <td>CUB - online payment</td>\n",
       "      <td>Brownie</td>\n",
       "      <td>50.0</td>\n",
       "      <td>Expense</td>\n",
       "      <td>50.0</td>\n",
       "      <td>INR</td>\n",
       "      <td>50.0</td>\n",
       "      <td>2022</td>\n",
       "      <td>3</td>\n",
       "      <td>2</td>\n",
       "      <td>2022-03-02</td>\n",
       "    </tr>\n",
       "    <tr>\n",
       "      <th>1</th>\n",
       "      <td>2022-03-02 10:11:00</td>\n",
       "      <td>CUB - online payment</td>\n",
       "      <td>To lended people</td>\n",
       "      <td>300.0</td>\n",
       "      <td>Expense</td>\n",
       "      <td>300.0</td>\n",
       "      <td>INR</td>\n",
       "      <td>300.0</td>\n",
       "      <td>2022</td>\n",
       "      <td>3</td>\n",
       "      <td>2</td>\n",
       "      <td>2022-03-02</td>\n",
       "    </tr>\n",
       "    <tr>\n",
       "      <th>2</th>\n",
       "      <td>2022-03-01 19:50:00</td>\n",
       "      <td>CUB - online payment</td>\n",
       "      <td>Dinner</td>\n",
       "      <td>78.0</td>\n",
       "      <td>Expense</td>\n",
       "      <td>78.0</td>\n",
       "      <td>INR</td>\n",
       "      <td>78.0</td>\n",
       "      <td>2022</td>\n",
       "      <td>3</td>\n",
       "      <td>1</td>\n",
       "      <td>2022-03-01</td>\n",
       "    </tr>\n",
       "    <tr>\n",
       "      <th>3</th>\n",
       "      <td>2022-03-01 18:56:00</td>\n",
       "      <td>CUB - online payment</td>\n",
       "      <td>Metro</td>\n",
       "      <td>30.0</td>\n",
       "      <td>Expense</td>\n",
       "      <td>30.0</td>\n",
       "      <td>INR</td>\n",
       "      <td>30.0</td>\n",
       "      <td>2022</td>\n",
       "      <td>3</td>\n",
       "      <td>1</td>\n",
       "      <td>2022-03-01</td>\n",
       "    </tr>\n",
       "    <tr>\n",
       "      <th>4</th>\n",
       "      <td>2022-03-01 18:22:00</td>\n",
       "      <td>CUB - online payment</td>\n",
       "      <td>Snacks</td>\n",
       "      <td>67.0</td>\n",
       "      <td>Expense</td>\n",
       "      <td>67.0</td>\n",
       "      <td>INR</td>\n",
       "      <td>67.0</td>\n",
       "      <td>2022</td>\n",
       "      <td>3</td>\n",
       "      <td>1</td>\n",
       "      <td>2022-03-01</td>\n",
       "    </tr>\n",
       "  </tbody>\n",
       "</table>\n",
       "</div>"
      ],
      "text/plain": [
       "                 Date               Account              Note    INR  \\\n",
       "0 2022-03-02 10:11:00  CUB - online payment           Brownie   50.0   \n",
       "1 2022-03-02 10:11:00  CUB - online payment  To lended people  300.0   \n",
       "2 2022-03-01 19:50:00  CUB - online payment            Dinner   78.0   \n",
       "3 2022-03-01 18:56:00  CUB - online payment             Metro   30.0   \n",
       "4 2022-03-01 18:22:00  CUB - online payment            Snacks   67.0   \n",
       "\n",
       "  Income/Expense  Amount Currency  Account.1  Year  Month  Day   Only Date  \n",
       "0        Expense    50.0      INR       50.0  2022      3    2  2022-03-02  \n",
       "1        Expense   300.0      INR      300.0  2022      3    2  2022-03-02  \n",
       "2        Expense    78.0      INR       78.0  2022      3    1  2022-03-01  \n",
       "3        Expense    30.0      INR       30.0  2022      3    1  2022-03-01  \n",
       "4        Expense    67.0      INR       67.0  2022      3    1  2022-03-01  "
      ]
     },
     "execution_count": 28,
     "metadata": {},
     "output_type": "execute_result"
    }
   ],
   "source": [
    "df[\"Only Date\"]=df[\"Date\"].dt.date\n",
    "df.head()"
   ]
  },
  {
   "cell_type": "code",
   "execution_count": 29,
   "id": "0c5552d9",
   "metadata": {},
   "outputs": [
    {
     "name": "stdout",
     "output_type": "stream",
     "text": [
      "<class 'pandas.core.frame.DataFrame'>\n",
      "RangeIndex: 277 entries, 0 to 276\n",
      "Data columns (total 12 columns):\n",
      " #   Column          Non-Null Count  Dtype         \n",
      "---  ------          --------------  -----         \n",
      " 0   Date            277 non-null    datetime64[ns]\n",
      " 1   Account         277 non-null    object        \n",
      " 2   Note            273 non-null    object        \n",
      " 3   INR             277 non-null    float64       \n",
      " 4   Income/Expense  277 non-null    object        \n",
      " 5   Amount          277 non-null    float64       \n",
      " 6   Currency        277 non-null    object        \n",
      " 7   Account.1       277 non-null    float64       \n",
      " 8   Year            277 non-null    int64         \n",
      " 9   Month           277 non-null    int64         \n",
      " 10  Day             277 non-null    int64         \n",
      " 11  Only Date       277 non-null    object        \n",
      "dtypes: datetime64[ns](1), float64(3), int64(3), object(5)\n",
      "memory usage: 26.1+ KB\n"
     ]
    }
   ],
   "source": [
    "df.info()"
   ]
  },
  {
   "cell_type": "code",
   "execution_count": 30,
   "id": "20ec94eb",
   "metadata": {},
   "outputs": [
    {
     "data": {
      "text/html": [
       "<div>\n",
       "<style scoped>\n",
       "    .dataframe tbody tr th:only-of-type {\n",
       "        vertical-align: middle;\n",
       "    }\n",
       "\n",
       "    .dataframe tbody tr th {\n",
       "        vertical-align: top;\n",
       "    }\n",
       "\n",
       "    .dataframe thead th {\n",
       "        text-align: right;\n",
       "    }\n",
       "</style>\n",
       "<table border=\"1\" class=\"dataframe\">\n",
       "  <thead>\n",
       "    <tr style=\"text-align: right;\">\n",
       "      <th></th>\n",
       "      <th>Date</th>\n",
       "      <th>Account</th>\n",
       "      <th>Note</th>\n",
       "      <th>INR</th>\n",
       "      <th>Income/Expense</th>\n",
       "      <th>Amount</th>\n",
       "      <th>Currency</th>\n",
       "      <th>Account.1</th>\n",
       "      <th>Year</th>\n",
       "      <th>Month</th>\n",
       "      <th>Day</th>\n",
       "      <th>Only Date</th>\n",
       "      <th>Date Convert</th>\n",
       "    </tr>\n",
       "  </thead>\n",
       "  <tbody>\n",
       "    <tr>\n",
       "      <th>0</th>\n",
       "      <td>2022-03-02 10:11:00</td>\n",
       "      <td>CUB - online payment</td>\n",
       "      <td>Brownie</td>\n",
       "      <td>50.0</td>\n",
       "      <td>Expense</td>\n",
       "      <td>50.0</td>\n",
       "      <td>INR</td>\n",
       "      <td>50.0</td>\n",
       "      <td>2022</td>\n",
       "      <td>3</td>\n",
       "      <td>2</td>\n",
       "      <td>2022-03-02</td>\n",
       "      <td>2022-03-02</td>\n",
       "    </tr>\n",
       "    <tr>\n",
       "      <th>1</th>\n",
       "      <td>2022-03-02 10:11:00</td>\n",
       "      <td>CUB - online payment</td>\n",
       "      <td>To lended people</td>\n",
       "      <td>300.0</td>\n",
       "      <td>Expense</td>\n",
       "      <td>300.0</td>\n",
       "      <td>INR</td>\n",
       "      <td>300.0</td>\n",
       "      <td>2022</td>\n",
       "      <td>3</td>\n",
       "      <td>2</td>\n",
       "      <td>2022-03-02</td>\n",
       "      <td>2022-03-02</td>\n",
       "    </tr>\n",
       "    <tr>\n",
       "      <th>2</th>\n",
       "      <td>2022-03-01 19:50:00</td>\n",
       "      <td>CUB - online payment</td>\n",
       "      <td>Dinner</td>\n",
       "      <td>78.0</td>\n",
       "      <td>Expense</td>\n",
       "      <td>78.0</td>\n",
       "      <td>INR</td>\n",
       "      <td>78.0</td>\n",
       "      <td>2022</td>\n",
       "      <td>3</td>\n",
       "      <td>1</td>\n",
       "      <td>2022-03-01</td>\n",
       "      <td>2022-03-01</td>\n",
       "    </tr>\n",
       "    <tr>\n",
       "      <th>3</th>\n",
       "      <td>2022-03-01 18:56:00</td>\n",
       "      <td>CUB - online payment</td>\n",
       "      <td>Metro</td>\n",
       "      <td>30.0</td>\n",
       "      <td>Expense</td>\n",
       "      <td>30.0</td>\n",
       "      <td>INR</td>\n",
       "      <td>30.0</td>\n",
       "      <td>2022</td>\n",
       "      <td>3</td>\n",
       "      <td>1</td>\n",
       "      <td>2022-03-01</td>\n",
       "      <td>2022-03-01</td>\n",
       "    </tr>\n",
       "    <tr>\n",
       "      <th>4</th>\n",
       "      <td>2022-03-01 18:22:00</td>\n",
       "      <td>CUB - online payment</td>\n",
       "      <td>Snacks</td>\n",
       "      <td>67.0</td>\n",
       "      <td>Expense</td>\n",
       "      <td>67.0</td>\n",
       "      <td>INR</td>\n",
       "      <td>67.0</td>\n",
       "      <td>2022</td>\n",
       "      <td>3</td>\n",
       "      <td>1</td>\n",
       "      <td>2022-03-01</td>\n",
       "      <td>2022-03-01</td>\n",
       "    </tr>\n",
       "  </tbody>\n",
       "</table>\n",
       "</div>"
      ],
      "text/plain": [
       "                 Date               Account              Note    INR  \\\n",
       "0 2022-03-02 10:11:00  CUB - online payment           Brownie   50.0   \n",
       "1 2022-03-02 10:11:00  CUB - online payment  To lended people  300.0   \n",
       "2 2022-03-01 19:50:00  CUB - online payment            Dinner   78.0   \n",
       "3 2022-03-01 18:56:00  CUB - online payment             Metro   30.0   \n",
       "4 2022-03-01 18:22:00  CUB - online payment            Snacks   67.0   \n",
       "\n",
       "  Income/Expense  Amount Currency  Account.1  Year  Month  Day   Only Date  \\\n",
       "0        Expense    50.0      INR       50.0  2022      3    2  2022-03-02   \n",
       "1        Expense   300.0      INR      300.0  2022      3    2  2022-03-02   \n",
       "2        Expense    78.0      INR       78.0  2022      3    1  2022-03-01   \n",
       "3        Expense    30.0      INR       30.0  2022      3    1  2022-03-01   \n",
       "4        Expense    67.0      INR       67.0  2022      3    1  2022-03-01   \n",
       "\n",
       "  Date Convert  \n",
       "0   2022-03-02  \n",
       "1   2022-03-02  \n",
       "2   2022-03-01  \n",
       "3   2022-03-01  \n",
       "4   2022-03-01  "
      ]
     },
     "execution_count": 30,
     "metadata": {},
     "output_type": "execute_result"
    }
   ],
   "source": [
    "# Only Date Feature is in Object Format. We have to convert it into Date Data Type\n",
    "# Date Convert is in Datetime Format\n",
    "\n",
    "df[\"Date Convert\"]=pd.to_datetime(df[\"Only Date\"])\n",
    "df.head()"
   ]
  },
  {
   "cell_type": "code",
   "execution_count": 31,
   "id": "7f89709b",
   "metadata": {},
   "outputs": [
    {
     "name": "stdout",
     "output_type": "stream",
     "text": [
      "<class 'pandas.core.frame.DataFrame'>\n",
      "RangeIndex: 277 entries, 0 to 276\n",
      "Data columns (total 13 columns):\n",
      " #   Column          Non-Null Count  Dtype         \n",
      "---  ------          --------------  -----         \n",
      " 0   Date            277 non-null    datetime64[ns]\n",
      " 1   Account         277 non-null    object        \n",
      " 2   Note            273 non-null    object        \n",
      " 3   INR             277 non-null    float64       \n",
      " 4   Income/Expense  277 non-null    object        \n",
      " 5   Amount          277 non-null    float64       \n",
      " 6   Currency        277 non-null    object        \n",
      " 7   Account.1       277 non-null    float64       \n",
      " 8   Year            277 non-null    int64         \n",
      " 9   Month           277 non-null    int64         \n",
      " 10  Day             277 non-null    int64         \n",
      " 11  Only Date       277 non-null    object        \n",
      " 12  Date Convert    277 non-null    datetime64[ns]\n",
      "dtypes: datetime64[ns](2), float64(3), int64(3), object(5)\n",
      "memory usage: 28.3+ KB\n"
     ]
    }
   ],
   "source": [
    "df.info()"
   ]
  },
  {
   "cell_type": "markdown",
   "id": "a75a7a21",
   "metadata": {},
   "source": [
    "## <font color=\"Dark red\">ADD DAY,DAY NAME,MONTH,MONTH NAME,YEAR IN THIS DATASET"
   ]
  },
  {
   "cell_type": "code",
   "execution_count": 32,
   "id": "f39ce1a9",
   "metadata": {},
   "outputs": [
    {
     "data": {
      "text/html": [
       "<div>\n",
       "<style scoped>\n",
       "    .dataframe tbody tr th:only-of-type {\n",
       "        vertical-align: middle;\n",
       "    }\n",
       "\n",
       "    .dataframe tbody tr th {\n",
       "        vertical-align: top;\n",
       "    }\n",
       "\n",
       "    .dataframe thead th {\n",
       "        text-align: right;\n",
       "    }\n",
       "</style>\n",
       "<table border=\"1\" class=\"dataframe\">\n",
       "  <thead>\n",
       "    <tr style=\"text-align: right;\">\n",
       "      <th></th>\n",
       "      <th>Date</th>\n",
       "      <th>Account</th>\n",
       "      <th>Note</th>\n",
       "      <th>INR</th>\n",
       "      <th>Income/Expense</th>\n",
       "      <th>Amount</th>\n",
       "      <th>Currency</th>\n",
       "      <th>Account.1</th>\n",
       "      <th>Year</th>\n",
       "      <th>Month</th>\n",
       "      <th>...</th>\n",
       "      <th>Date Convert</th>\n",
       "      <th>Short_Month_Name</th>\n",
       "      <th>Long_Month_Name</th>\n",
       "      <th>Short_Day_Name</th>\n",
       "      <th>Long_Day_Name</th>\n",
       "      <th>Short_Year</th>\n",
       "      <th>Long_Yaer</th>\n",
       "      <th>Month_Number</th>\n",
       "      <th>Day_Number</th>\n",
       "      <th>Week_Day_Number</th>\n",
       "    </tr>\n",
       "  </thead>\n",
       "  <tbody>\n",
       "    <tr>\n",
       "      <th>0</th>\n",
       "      <td>2022-03-02 10:11:00</td>\n",
       "      <td>CUB - online payment</td>\n",
       "      <td>Brownie</td>\n",
       "      <td>50.0</td>\n",
       "      <td>Expense</td>\n",
       "      <td>50.0</td>\n",
       "      <td>INR</td>\n",
       "      <td>50.0</td>\n",
       "      <td>2022</td>\n",
       "      <td>3</td>\n",
       "      <td>...</td>\n",
       "      <td>2022-03-02</td>\n",
       "      <td>Mar</td>\n",
       "      <td>March</td>\n",
       "      <td>Wed</td>\n",
       "      <td>Wednesday</td>\n",
       "      <td>22</td>\n",
       "      <td>2022</td>\n",
       "      <td>03</td>\n",
       "      <td>02</td>\n",
       "      <td>3</td>\n",
       "    </tr>\n",
       "    <tr>\n",
       "      <th>1</th>\n",
       "      <td>2022-03-02 10:11:00</td>\n",
       "      <td>CUB - online payment</td>\n",
       "      <td>To lended people</td>\n",
       "      <td>300.0</td>\n",
       "      <td>Expense</td>\n",
       "      <td>300.0</td>\n",
       "      <td>INR</td>\n",
       "      <td>300.0</td>\n",
       "      <td>2022</td>\n",
       "      <td>3</td>\n",
       "      <td>...</td>\n",
       "      <td>2022-03-02</td>\n",
       "      <td>Mar</td>\n",
       "      <td>March</td>\n",
       "      <td>Wed</td>\n",
       "      <td>Wednesday</td>\n",
       "      <td>22</td>\n",
       "      <td>2022</td>\n",
       "      <td>03</td>\n",
       "      <td>02</td>\n",
       "      <td>3</td>\n",
       "    </tr>\n",
       "    <tr>\n",
       "      <th>2</th>\n",
       "      <td>2022-03-01 19:50:00</td>\n",
       "      <td>CUB - online payment</td>\n",
       "      <td>Dinner</td>\n",
       "      <td>78.0</td>\n",
       "      <td>Expense</td>\n",
       "      <td>78.0</td>\n",
       "      <td>INR</td>\n",
       "      <td>78.0</td>\n",
       "      <td>2022</td>\n",
       "      <td>3</td>\n",
       "      <td>...</td>\n",
       "      <td>2022-03-01</td>\n",
       "      <td>Mar</td>\n",
       "      <td>March</td>\n",
       "      <td>Tue</td>\n",
       "      <td>Tuesday</td>\n",
       "      <td>22</td>\n",
       "      <td>2022</td>\n",
       "      <td>03</td>\n",
       "      <td>01</td>\n",
       "      <td>2</td>\n",
       "    </tr>\n",
       "    <tr>\n",
       "      <th>3</th>\n",
       "      <td>2022-03-01 18:56:00</td>\n",
       "      <td>CUB - online payment</td>\n",
       "      <td>Metro</td>\n",
       "      <td>30.0</td>\n",
       "      <td>Expense</td>\n",
       "      <td>30.0</td>\n",
       "      <td>INR</td>\n",
       "      <td>30.0</td>\n",
       "      <td>2022</td>\n",
       "      <td>3</td>\n",
       "      <td>...</td>\n",
       "      <td>2022-03-01</td>\n",
       "      <td>Mar</td>\n",
       "      <td>March</td>\n",
       "      <td>Tue</td>\n",
       "      <td>Tuesday</td>\n",
       "      <td>22</td>\n",
       "      <td>2022</td>\n",
       "      <td>03</td>\n",
       "      <td>01</td>\n",
       "      <td>2</td>\n",
       "    </tr>\n",
       "    <tr>\n",
       "      <th>4</th>\n",
       "      <td>2022-03-01 18:22:00</td>\n",
       "      <td>CUB - online payment</td>\n",
       "      <td>Snacks</td>\n",
       "      <td>67.0</td>\n",
       "      <td>Expense</td>\n",
       "      <td>67.0</td>\n",
       "      <td>INR</td>\n",
       "      <td>67.0</td>\n",
       "      <td>2022</td>\n",
       "      <td>3</td>\n",
       "      <td>...</td>\n",
       "      <td>2022-03-01</td>\n",
       "      <td>Mar</td>\n",
       "      <td>March</td>\n",
       "      <td>Tue</td>\n",
       "      <td>Tuesday</td>\n",
       "      <td>22</td>\n",
       "      <td>2022</td>\n",
       "      <td>03</td>\n",
       "      <td>01</td>\n",
       "      <td>2</td>\n",
       "    </tr>\n",
       "  </tbody>\n",
       "</table>\n",
       "<p>5 rows × 22 columns</p>\n",
       "</div>"
      ],
      "text/plain": [
       "                 Date               Account              Note    INR  \\\n",
       "0 2022-03-02 10:11:00  CUB - online payment           Brownie   50.0   \n",
       "1 2022-03-02 10:11:00  CUB - online payment  To lended people  300.0   \n",
       "2 2022-03-01 19:50:00  CUB - online payment            Dinner   78.0   \n",
       "3 2022-03-01 18:56:00  CUB - online payment             Metro   30.0   \n",
       "4 2022-03-01 18:22:00  CUB - online payment            Snacks   67.0   \n",
       "\n",
       "  Income/Expense  Amount Currency  Account.1  Year  Month  ...  Date Convert  \\\n",
       "0        Expense    50.0      INR       50.0  2022      3  ...    2022-03-02   \n",
       "1        Expense   300.0      INR      300.0  2022      3  ...    2022-03-02   \n",
       "2        Expense    78.0      INR       78.0  2022      3  ...    2022-03-01   \n",
       "3        Expense    30.0      INR       30.0  2022      3  ...    2022-03-01   \n",
       "4        Expense    67.0      INR       67.0  2022      3  ...    2022-03-01   \n",
       "\n",
       "  Short_Month_Name Long_Month_Name Short_Day_Name Long_Day_Name Short_Year  \\\n",
       "0              Mar           March            Wed     Wednesday         22   \n",
       "1              Mar           March            Wed     Wednesday         22   \n",
       "2              Mar           March            Tue       Tuesday         22   \n",
       "3              Mar           March            Tue       Tuesday         22   \n",
       "4              Mar           March            Tue       Tuesday         22   \n",
       "\n",
       "  Long_Yaer Month_Number Day_Number Week_Day_Number  \n",
       "0      2022           03         02               3  \n",
       "1      2022           03         02               3  \n",
       "2      2022           03         01               2  \n",
       "3      2022           03         01               2  \n",
       "4      2022           03         01               2  \n",
       "\n",
       "[5 rows x 22 columns]"
      ]
     },
     "execution_count": 32,
     "metadata": {},
     "output_type": "execute_result"
    }
   ],
   "source": [
    "df[\"Short_Month_Name\"]=df[\"Date\"].dt.strftime(\"%b\")\n",
    "df[\"Long_Month_Name\"]=df[\"Date\"].dt.strftime(\"%B\")\n",
    "\n",
    "df[\"Short_Day_Name\"]=df[\"Date\"].dt.strftime(\"%a\")\n",
    "df[\"Long_Day_Name\"]=df[\"Date\"].dt.strftime(\"%A\")\n",
    "\n",
    "df[\"Short_Year\"]=df[\"Date\"].dt.strftime(\"%y\")\n",
    "df[\"Long_Yaer\"]=df[\"Date\"].dt.strftime(\"%Y\")\n",
    "\n",
    "df[\"Month_Number\"]=df[\"Date\"].dt.strftime(\"%m\")\n",
    "df[\"Day_Number\"]=df[\"Date\"].dt.strftime(\"%d\")\n",
    "df[\"Week_Day_Number\"]=df[\"Date\"].dt.strftime(\"%w\")\n",
    "\n",
    "\n",
    "df.head()"
   ]
  },
  {
   "cell_type": "code",
   "execution_count": 33,
   "id": "ef917a15",
   "metadata": {},
   "outputs": [
    {
     "name": "stdout",
     "output_type": "stream",
     "text": [
      "<class 'pandas.core.frame.DataFrame'>\n",
      "RangeIndex: 277 entries, 0 to 276\n",
      "Data columns (total 22 columns):\n",
      " #   Column            Non-Null Count  Dtype         \n",
      "---  ------            --------------  -----         \n",
      " 0   Date              277 non-null    datetime64[ns]\n",
      " 1   Account           277 non-null    object        \n",
      " 2   Note              273 non-null    object        \n",
      " 3   INR               277 non-null    float64       \n",
      " 4   Income/Expense    277 non-null    object        \n",
      " 5   Amount            277 non-null    float64       \n",
      " 6   Currency          277 non-null    object        \n",
      " 7   Account.1         277 non-null    float64       \n",
      " 8   Year              277 non-null    int64         \n",
      " 9   Month             277 non-null    int64         \n",
      " 10  Day               277 non-null    int64         \n",
      " 11  Only Date         277 non-null    object        \n",
      " 12  Date Convert      277 non-null    datetime64[ns]\n",
      " 13  Short_Month_Name  277 non-null    object        \n",
      " 14  Long_Month_Name   277 non-null    object        \n",
      " 15  Short_Day_Name    277 non-null    object        \n",
      " 16  Long_Day_Name     277 non-null    object        \n",
      " 17  Short_Year        277 non-null    object        \n",
      " 18  Long_Yaer         277 non-null    object        \n",
      " 19  Month_Number      277 non-null    object        \n",
      " 20  Day_Number        277 non-null    object        \n",
      " 21  Week_Day_Number   277 non-null    object        \n",
      "dtypes: datetime64[ns](2), float64(3), int64(3), object(14)\n",
      "memory usage: 47.7+ KB\n"
     ]
    }
   ],
   "source": [
    "df.info()"
   ]
  },
  {
   "cell_type": "markdown",
   "id": "4ea4fac7",
   "metadata": {},
   "source": [
    "## <font color=\"Dark yellow\">HOW TO EXTRACT AGE FROM A DATE FEATURE"
   ]
  },
  {
   "cell_type": "code",
   "execution_count": 34,
   "id": "3c2539aa",
   "metadata": {},
   "outputs": [
    {
     "data": {
      "text/html": [
       "<div>\n",
       "<style scoped>\n",
       "    .dataframe tbody tr th:only-of-type {\n",
       "        vertical-align: middle;\n",
       "    }\n",
       "\n",
       "    .dataframe tbody tr th {\n",
       "        vertical-align: top;\n",
       "    }\n",
       "\n",
       "    .dataframe thead th {\n",
       "        text-align: right;\n",
       "    }\n",
       "</style>\n",
       "<table border=\"1\" class=\"dataframe\">\n",
       "  <thead>\n",
       "    <tr style=\"text-align: right;\">\n",
       "      <th></th>\n",
       "      <th>CUSTOMER_ID</th>\n",
       "      <th>Company</th>\n",
       "      <th>CARD_REG_DATE</th>\n",
       "      <th>CARD_ACTIVE</th>\n",
       "      <th>FIRST_USE_DTE</th>\n",
       "      <th>firstSTOR</th>\n",
       "      <th>TITLE</th>\n",
       "      <th>GENDER</th>\n",
       "      <th>max spent</th>\n",
       "      <th>DOB</th>\n",
       "      <th>...</th>\n",
       "      <th>CUST_STAT</th>\n",
       "      <th>Avgsize spent</th>\n",
       "      <th>CARD_STAT</th>\n",
       "      <th>RGSTN_TYPE_IND</th>\n",
       "      <th>NO_OF_TRIPS</th>\n",
       "      <th>TOWN</th>\n",
       "      <th>EMAIL_IND</th>\n",
       "      <th>CONTACT_PREF</th>\n",
       "      <th>Average_Qty_PER_ACC</th>\n",
       "      <th>Spent amount</th>\n",
       "    </tr>\n",
       "  </thead>\n",
       "  <tbody>\n",
       "    <tr>\n",
       "      <th>0</th>\n",
       "      <td>1000032547</td>\n",
       "      <td>MED +</td>\n",
       "      <td>12-09-2006 00:00</td>\n",
       "      <td>Y</td>\n",
       "      <td>12-05-2007 00:00</td>\n",
       "      <td>2587</td>\n",
       "      <td>Mrs.</td>\n",
       "      <td>Female</td>\n",
       "      <td>56.31</td>\n",
       "      <td>15-09-1984</td>\n",
       "      <td>...</td>\n",
       "      <td>Active</td>\n",
       "      <td>17.34</td>\n",
       "      <td>Registered</td>\n",
       "      <td>Online</td>\n",
       "      <td>4</td>\n",
       "      <td>Kyabram</td>\n",
       "      <td>Y</td>\n",
       "      <td>Email</td>\n",
       "      <td>2.75</td>\n",
       "      <td>69.37</td>\n",
       "    </tr>\n",
       "    <tr>\n",
       "      <th>1</th>\n",
       "      <td>1000032548</td>\n",
       "      <td>DR.REDDYS</td>\n",
       "      <td>12-09-2006 00:00</td>\n",
       "      <td>Y</td>\n",
       "      <td>12-03-2007 00:00</td>\n",
       "      <td>4341</td>\n",
       "      <td>Ms.</td>\n",
       "      <td>Female</td>\n",
       "      <td>598.95</td>\n",
       "      <td>15-07-1974</td>\n",
       "      <td>...</td>\n",
       "      <td>Active</td>\n",
       "      <td>29.32</td>\n",
       "      <td>Registered</td>\n",
       "      <td>Online</td>\n",
       "      <td>17</td>\n",
       "      <td>Hawthorn East</td>\n",
       "      <td>Y</td>\n",
       "      <td>Email</td>\n",
       "      <td>7.29</td>\n",
       "      <td>498.50</td>\n",
       "    </tr>\n",
       "    <tr>\n",
       "      <th>2</th>\n",
       "      <td>1000032549</td>\n",
       "      <td>RELEGARE</td>\n",
       "      <td>12-09-2006 00:00</td>\n",
       "      <td>Y</td>\n",
       "      <td>12-02-2007 00:00</td>\n",
       "      <td>1090</td>\n",
       "      <td>Mrs.</td>\n",
       "      <td>Female</td>\n",
       "      <td>1.56</td>\n",
       "      <td>01-04-1959</td>\n",
       "      <td>...</td>\n",
       "      <td>Active</td>\n",
       "      <td>1.56</td>\n",
       "      <td>Registered</td>\n",
       "      <td>Online</td>\n",
       "      <td>1</td>\n",
       "      <td>Revesby</td>\n",
       "      <td>Y</td>\n",
       "      <td>Email</td>\n",
       "      <td>2.00</td>\n",
       "      <td>1.56</td>\n",
       "    </tr>\n",
       "    <tr>\n",
       "      <th>3</th>\n",
       "      <td>1000032550</td>\n",
       "      <td>GSK</td>\n",
       "      <td>12-09-2006 00:00</td>\n",
       "      <td>Y</td>\n",
       "      <td>12-03-2007 00:00</td>\n",
       "      <td>3179</td>\n",
       "      <td>Mr.</td>\n",
       "      <td>Male</td>\n",
       "      <td>115.76</td>\n",
       "      <td>16-05-1978</td>\n",
       "      <td>...</td>\n",
       "      <td>Active</td>\n",
       "      <td>80.49</td>\n",
       "      <td>Registered</td>\n",
       "      <td>Online</td>\n",
       "      <td>2</td>\n",
       "      <td>Willow Grove</td>\n",
       "      <td>Y</td>\n",
       "      <td>Email</td>\n",
       "      <td>26.00</td>\n",
       "      <td>160.98</td>\n",
       "    </tr>\n",
       "    <tr>\n",
       "      <th>4</th>\n",
       "      <td>1000032551</td>\n",
       "      <td>GSK</td>\n",
       "      <td>12-09-2006 00:00</td>\n",
       "      <td>Y</td>\n",
       "      <td>12-05-2007 00:00</td>\n",
       "      <td>3135</td>\n",
       "      <td>Mr.</td>\n",
       "      <td>Male</td>\n",
       "      <td>305.90</td>\n",
       "      <td>16-12-1978</td>\n",
       "      <td>...</td>\n",
       "      <td>Active</td>\n",
       "      <td>24.09</td>\n",
       "      <td>Registered</td>\n",
       "      <td>Online</td>\n",
       "      <td>12</td>\n",
       "      <td>mona vale</td>\n",
       "      <td>Y</td>\n",
       "      <td>Email</td>\n",
       "      <td>6.33</td>\n",
       "      <td>289.10</td>\n",
       "    </tr>\n",
       "  </tbody>\n",
       "</table>\n",
       "<p>5 rows × 24 columns</p>\n",
       "</div>"
      ],
      "text/plain": [
       "   CUSTOMER_ID    Company     CARD_REG_DATE CARD_ACTIVE     FIRST_USE_DTE  \\\n",
       "0   1000032547      MED +  12-09-2006 00:00           Y  12-05-2007 00:00   \n",
       "1   1000032548  DR.REDDYS  12-09-2006 00:00           Y  12-03-2007 00:00   \n",
       "2   1000032549   RELEGARE  12-09-2006 00:00           Y  12-02-2007 00:00   \n",
       "3   1000032550        GSK  12-09-2006 00:00           Y  12-03-2007 00:00   \n",
       "4   1000032551        GSK  12-09-2006 00:00           Y  12-05-2007 00:00   \n",
       "\n",
       "   firstSTOR TITLE  GENDER  max spent         DOB  ... CUST_STAT  \\\n",
       "0       2587  Mrs.  Female      56.31  15-09-1984  ...    Active   \n",
       "1       4341   Ms.  Female     598.95  15-07-1974  ...    Active   \n",
       "2       1090  Mrs.  Female       1.56  01-04-1959  ...    Active   \n",
       "3       3179   Mr.    Male     115.76  16-05-1978  ...    Active   \n",
       "4       3135   Mr.    Male     305.90  16-12-1978  ...    Active   \n",
       "\n",
       "   Avgsize spent   CARD_STAT  RGSTN_TYPE_IND NO_OF_TRIPS           TOWN  \\\n",
       "0          17.34  Registered          Online           4        Kyabram   \n",
       "1          29.32  Registered          Online          17  Hawthorn East   \n",
       "2           1.56  Registered          Online           1        Revesby   \n",
       "3          80.49  Registered          Online           2   Willow Grove   \n",
       "4          24.09  Registered          Online          12      mona vale   \n",
       "\n",
       "  EMAIL_IND CONTACT_PREF  Average_Qty_PER_ACC Spent amount  \n",
       "0         Y        Email                 2.75        69.37  \n",
       "1         Y        Email                 7.29       498.50  \n",
       "2         Y        Email                 2.00         1.56  \n",
       "3         Y        Email                26.00       160.98  \n",
       "4         Y        Email                 6.33       289.10  \n",
       "\n",
       "[5 rows x 24 columns]"
      ]
     },
     "execution_count": 34,
     "metadata": {},
     "output_type": "execute_result"
    }
   ],
   "source": [
    "df1.head()"
   ]
  },
  {
   "cell_type": "code",
   "execution_count": 35,
   "id": "934f23f3",
   "metadata": {},
   "outputs": [
    {
     "data": {
      "text/plain": [
       "Index(['CUSTOMER_ID', 'Company', 'CARD_REG_DATE', 'CARD_ACTIVE',\n",
       "       'FIRST_USE_DTE', 'firstSTOR', 'TITLE', 'GENDER', 'max spent', 'DOB',\n",
       "       'FTD', 'Age', 'STATE_CODE', 'POST_CODE', 'CUST_STAT', 'Avgsize spent',\n",
       "       'CARD_STAT', 'RGSTN_TYPE_IND', 'NO_OF_TRIPS', 'TOWN', 'EMAIL_IND',\n",
       "       'CONTACT_PREF', 'Average_Qty_PER_ACC', 'Spent amount'],\n",
       "      dtype='object')"
      ]
     },
     "execution_count": 35,
     "metadata": {},
     "output_type": "execute_result"
    }
   ],
   "source": [
    "df1.columns"
   ]
  },
  {
   "cell_type": "code",
   "execution_count": 36,
   "id": "3a585cdc",
   "metadata": {},
   "outputs": [
    {
     "data": {
      "text/html": [
       "<div>\n",
       "<style scoped>\n",
       "    .dataframe tbody tr th:only-of-type {\n",
       "        vertical-align: middle;\n",
       "    }\n",
       "\n",
       "    .dataframe tbody tr th {\n",
       "        vertical-align: top;\n",
       "    }\n",
       "\n",
       "    .dataframe thead th {\n",
       "        text-align: right;\n",
       "    }\n",
       "</style>\n",
       "<table border=\"1\" class=\"dataframe\">\n",
       "  <thead>\n",
       "    <tr style=\"text-align: right;\">\n",
       "      <th></th>\n",
       "      <th>CUSTOMER_ID</th>\n",
       "      <th>CARD_REG_DATE</th>\n",
       "      <th>FIRST_USE_DTE</th>\n",
       "      <th>GENDER</th>\n",
       "      <th>DOB</th>\n",
       "      <th>STATE_CODE</th>\n",
       "      <th>CARD_STAT</th>\n",
       "      <th>NO_OF_TRIPS</th>\n",
       "      <th>TOWN</th>\n",
       "      <th>EMAIL_IND</th>\n",
       "      <th>CONTACT_PREF</th>\n",
       "      <th>Spent amount</th>\n",
       "    </tr>\n",
       "  </thead>\n",
       "  <tbody>\n",
       "    <tr>\n",
       "      <th>0</th>\n",
       "      <td>1000032547</td>\n",
       "      <td>12-09-2006 00:00</td>\n",
       "      <td>12-05-2007 00:00</td>\n",
       "      <td>Female</td>\n",
       "      <td>15-09-1984</td>\n",
       "      <td>QLD</td>\n",
       "      <td>Registered</td>\n",
       "      <td>4</td>\n",
       "      <td>Kyabram</td>\n",
       "      <td>Y</td>\n",
       "      <td>Email</td>\n",
       "      <td>69.37</td>\n",
       "    </tr>\n",
       "    <tr>\n",
       "      <th>1</th>\n",
       "      <td>1000032548</td>\n",
       "      <td>12-09-2006 00:00</td>\n",
       "      <td>12-03-2007 00:00</td>\n",
       "      <td>Female</td>\n",
       "      <td>15-07-1974</td>\n",
       "      <td>WA</td>\n",
       "      <td>Registered</td>\n",
       "      <td>17</td>\n",
       "      <td>Hawthorn East</td>\n",
       "      <td>Y</td>\n",
       "      <td>Email</td>\n",
       "      <td>498.50</td>\n",
       "    </tr>\n",
       "    <tr>\n",
       "      <th>2</th>\n",
       "      <td>1000032549</td>\n",
       "      <td>12-09-2006 00:00</td>\n",
       "      <td>12-02-2007 00:00</td>\n",
       "      <td>Female</td>\n",
       "      <td>01-04-1959</td>\n",
       "      <td>NSW</td>\n",
       "      <td>Registered</td>\n",
       "      <td>1</td>\n",
       "      <td>Revesby</td>\n",
       "      <td>Y</td>\n",
       "      <td>Email</td>\n",
       "      <td>1.56</td>\n",
       "    </tr>\n",
       "    <tr>\n",
       "      <th>3</th>\n",
       "      <td>1000032550</td>\n",
       "      <td>12-09-2006 00:00</td>\n",
       "      <td>12-03-2007 00:00</td>\n",
       "      <td>Male</td>\n",
       "      <td>16-05-1978</td>\n",
       "      <td>VIC</td>\n",
       "      <td>Registered</td>\n",
       "      <td>2</td>\n",
       "      <td>Willow Grove</td>\n",
       "      <td>Y</td>\n",
       "      <td>Email</td>\n",
       "      <td>160.98</td>\n",
       "    </tr>\n",
       "    <tr>\n",
       "      <th>4</th>\n",
       "      <td>1000032551</td>\n",
       "      <td>12-09-2006 00:00</td>\n",
       "      <td>12-05-2007 00:00</td>\n",
       "      <td>Male</td>\n",
       "      <td>16-12-1978</td>\n",
       "      <td>VIC</td>\n",
       "      <td>Registered</td>\n",
       "      <td>12</td>\n",
       "      <td>mona vale</td>\n",
       "      <td>Y</td>\n",
       "      <td>Email</td>\n",
       "      <td>289.10</td>\n",
       "    </tr>\n",
       "  </tbody>\n",
       "</table>\n",
       "</div>"
      ],
      "text/plain": [
       "   CUSTOMER_ID     CARD_REG_DATE     FIRST_USE_DTE  GENDER         DOB  \\\n",
       "0   1000032547  12-09-2006 00:00  12-05-2007 00:00  Female  15-09-1984   \n",
       "1   1000032548  12-09-2006 00:00  12-03-2007 00:00  Female  15-07-1974   \n",
       "2   1000032549  12-09-2006 00:00  12-02-2007 00:00  Female  01-04-1959   \n",
       "3   1000032550  12-09-2006 00:00  12-03-2007 00:00    Male  16-05-1978   \n",
       "4   1000032551  12-09-2006 00:00  12-05-2007 00:00    Male  16-12-1978   \n",
       "\n",
       "  STATE_CODE   CARD_STAT  NO_OF_TRIPS           TOWN EMAIL_IND CONTACT_PREF  \\\n",
       "0        QLD  Registered            4        Kyabram         Y        Email   \n",
       "1         WA  Registered           17  Hawthorn East         Y        Email   \n",
       "2        NSW  Registered            1        Revesby         Y        Email   \n",
       "3        VIC  Registered            2   Willow Grove         Y        Email   \n",
       "4        VIC  Registered           12      mona vale         Y        Email   \n",
       "\n",
       "   Spent amount  \n",
       "0         69.37  \n",
       "1        498.50  \n",
       "2          1.56  \n",
       "3        160.98  \n",
       "4        289.10  "
      ]
     },
     "execution_count": 36,
     "metadata": {},
     "output_type": "execute_result"
    }
   ],
   "source": [
    "df1.drop(columns=[\"Company\",\"Age\",\"TITLE\",\"RGSTN_TYPE_IND\",\"firstSTOR\",\"CARD_ACTIVE\",\"FTD\",\"POST_CODE\",\"CUST_STAT\",\"Avgsize spent\",\"Average_Qty_PER_ACC\",\"max spent\"],inplace=True)\n",
    "df1.head()"
   ]
  },
  {
   "cell_type": "code",
   "execution_count": 37,
   "id": "d89f19c4",
   "metadata": {},
   "outputs": [
    {
     "data": {
      "text/html": [
       "<div>\n",
       "<style scoped>\n",
       "    .dataframe tbody tr th:only-of-type {\n",
       "        vertical-align: middle;\n",
       "    }\n",
       "\n",
       "    .dataframe tbody tr th {\n",
       "        vertical-align: top;\n",
       "    }\n",
       "\n",
       "    .dataframe thead th {\n",
       "        text-align: right;\n",
       "    }\n",
       "</style>\n",
       "<table border=\"1\" class=\"dataframe\">\n",
       "  <thead>\n",
       "    <tr style=\"text-align: right;\">\n",
       "      <th></th>\n",
       "      <th>CUSTOMER_ID</th>\n",
       "      <th>CARD_REG_DATE</th>\n",
       "      <th>FIRST_USE_DTE</th>\n",
       "      <th>GENDER</th>\n",
       "      <th>DOB</th>\n",
       "      <th>STATE_CODE</th>\n",
       "      <th>CARD_STAT</th>\n",
       "      <th>NO_OF_TRIPS</th>\n",
       "      <th>TOWN</th>\n",
       "      <th>EMAIL_IND</th>\n",
       "      <th>CONTACT_PREF</th>\n",
       "      <th>Spent amount</th>\n",
       "      <th>Age1</th>\n",
       "    </tr>\n",
       "  </thead>\n",
       "  <tbody>\n",
       "    <tr>\n",
       "      <th>0</th>\n",
       "      <td>1000032547</td>\n",
       "      <td>12-09-2006 00:00</td>\n",
       "      <td>12-05-2007 00:00</td>\n",
       "      <td>Female</td>\n",
       "      <td>15-09-1984</td>\n",
       "      <td>QLD</td>\n",
       "      <td>Registered</td>\n",
       "      <td>4</td>\n",
       "      <td>Kyabram</td>\n",
       "      <td>Y</td>\n",
       "      <td>Email</td>\n",
       "      <td>69.37</td>\n",
       "      <td>40</td>\n",
       "    </tr>\n",
       "    <tr>\n",
       "      <th>1</th>\n",
       "      <td>1000032548</td>\n",
       "      <td>12-09-2006 00:00</td>\n",
       "      <td>12-03-2007 00:00</td>\n",
       "      <td>Female</td>\n",
       "      <td>15-07-1974</td>\n",
       "      <td>WA</td>\n",
       "      <td>Registered</td>\n",
       "      <td>17</td>\n",
       "      <td>Hawthorn East</td>\n",
       "      <td>Y</td>\n",
       "      <td>Email</td>\n",
       "      <td>498.50</td>\n",
       "      <td>50</td>\n",
       "    </tr>\n",
       "    <tr>\n",
       "      <th>2</th>\n",
       "      <td>1000032549</td>\n",
       "      <td>12-09-2006 00:00</td>\n",
       "      <td>12-02-2007 00:00</td>\n",
       "      <td>Female</td>\n",
       "      <td>01-04-1959</td>\n",
       "      <td>NSW</td>\n",
       "      <td>Registered</td>\n",
       "      <td>1</td>\n",
       "      <td>Revesby</td>\n",
       "      <td>Y</td>\n",
       "      <td>Email</td>\n",
       "      <td>1.56</td>\n",
       "      <td>65</td>\n",
       "    </tr>\n",
       "    <tr>\n",
       "      <th>3</th>\n",
       "      <td>1000032550</td>\n",
       "      <td>12-09-2006 00:00</td>\n",
       "      <td>12-03-2007 00:00</td>\n",
       "      <td>Male</td>\n",
       "      <td>16-05-1978</td>\n",
       "      <td>VIC</td>\n",
       "      <td>Registered</td>\n",
       "      <td>2</td>\n",
       "      <td>Willow Grove</td>\n",
       "      <td>Y</td>\n",
       "      <td>Email</td>\n",
       "      <td>160.98</td>\n",
       "      <td>46</td>\n",
       "    </tr>\n",
       "    <tr>\n",
       "      <th>4</th>\n",
       "      <td>1000032551</td>\n",
       "      <td>12-09-2006 00:00</td>\n",
       "      <td>12-05-2007 00:00</td>\n",
       "      <td>Male</td>\n",
       "      <td>16-12-1978</td>\n",
       "      <td>VIC</td>\n",
       "      <td>Registered</td>\n",
       "      <td>12</td>\n",
       "      <td>mona vale</td>\n",
       "      <td>Y</td>\n",
       "      <td>Email</td>\n",
       "      <td>289.10</td>\n",
       "      <td>46</td>\n",
       "    </tr>\n",
       "  </tbody>\n",
       "</table>\n",
       "</div>"
      ],
      "text/plain": [
       "   CUSTOMER_ID     CARD_REG_DATE     FIRST_USE_DTE  GENDER         DOB  \\\n",
       "0   1000032547  12-09-2006 00:00  12-05-2007 00:00  Female  15-09-1984   \n",
       "1   1000032548  12-09-2006 00:00  12-03-2007 00:00  Female  15-07-1974   \n",
       "2   1000032549  12-09-2006 00:00  12-02-2007 00:00  Female  01-04-1959   \n",
       "3   1000032550  12-09-2006 00:00  12-03-2007 00:00    Male  16-05-1978   \n",
       "4   1000032551  12-09-2006 00:00  12-05-2007 00:00    Male  16-12-1978   \n",
       "\n",
       "  STATE_CODE   CARD_STAT  NO_OF_TRIPS           TOWN EMAIL_IND CONTACT_PREF  \\\n",
       "0        QLD  Registered            4        Kyabram         Y        Email   \n",
       "1         WA  Registered           17  Hawthorn East         Y        Email   \n",
       "2        NSW  Registered            1        Revesby         Y        Email   \n",
       "3        VIC  Registered            2   Willow Grove         Y        Email   \n",
       "4        VIC  Registered           12      mona vale         Y        Email   \n",
       "\n",
       "   Spent amount  Age1  \n",
       "0         69.37    40  \n",
       "1        498.50    50  \n",
       "2          1.56    65  \n",
       "3        160.98    46  \n",
       "4        289.10    46  "
      ]
     },
     "execution_count": 37,
     "metadata": {},
     "output_type": "execute_result"
    }
   ],
   "source": [
    "df1[\"Age1\"]=dt.datetime.now().year-pd.to_datetime(df1[\"DOB\"]).dt.year\n",
    "df1.head()"
   ]
  },
  {
   "cell_type": "markdown",
   "id": "e4a418c7",
   "metadata": {},
   "source": [
    "## <font color=\"Dark yellow\">HOW TO EXTRACT DATE DIFFERENCE BETWEEN TWO DATES"
   ]
  },
  {
   "cell_type": "code",
   "execution_count": 38,
   "id": "3184523c",
   "metadata": {},
   "outputs": [
    {
     "data": {
      "text/plain": [
       "5"
      ]
     },
     "execution_count": 38,
     "metadata": {},
     "output_type": "execute_result"
    }
   ],
   "source": [
    "# Date Difference between Today's Date & Before 4 days from Today's Date\n",
    "(dt.datetime.now()-pd.to_datetime(\"2024/08/10\")).days"
   ]
  },
  {
   "cell_type": "code",
   "execution_count": 39,
   "id": "9078475d",
   "metadata": {},
   "outputs": [
    {
     "data": {
      "text/plain": [
       "Index(['CUSTOMER_ID', 'CARD_REG_DATE', 'FIRST_USE_DTE', 'GENDER', 'DOB',\n",
       "       'STATE_CODE', 'CARD_STAT', 'NO_OF_TRIPS', 'TOWN', 'EMAIL_IND',\n",
       "       'CONTACT_PREF', 'Spent amount', 'Age1'],\n",
       "      dtype='object')"
      ]
     },
     "execution_count": 39,
     "metadata": {},
     "output_type": "execute_result"
    }
   ],
   "source": [
    "df1.columns"
   ]
  },
  {
   "cell_type": "code",
   "execution_count": 40,
   "id": "fd0489b4",
   "metadata": {},
   "outputs": [
    {
     "data": {
      "text/html": [
       "<div>\n",
       "<style scoped>\n",
       "    .dataframe tbody tr th:only-of-type {\n",
       "        vertical-align: middle;\n",
       "    }\n",
       "\n",
       "    .dataframe tbody tr th {\n",
       "        vertical-align: top;\n",
       "    }\n",
       "\n",
       "    .dataframe thead th {\n",
       "        text-align: right;\n",
       "    }\n",
       "</style>\n",
       "<table border=\"1\" class=\"dataframe\">\n",
       "  <thead>\n",
       "    <tr style=\"text-align: right;\">\n",
       "      <th></th>\n",
       "      <th>CUSTOMER_ID</th>\n",
       "      <th>CARD_REG_DATE</th>\n",
       "      <th>FIRST_USE_DTE</th>\n",
       "      <th>GENDER</th>\n",
       "      <th>DOB</th>\n",
       "      <th>STATE_CODE</th>\n",
       "      <th>CARD_STAT</th>\n",
       "      <th>NO_OF_TRIPS</th>\n",
       "      <th>TOWN</th>\n",
       "      <th>EMAIL_IND</th>\n",
       "      <th>CONTACT_PREF</th>\n",
       "      <th>Spent amount</th>\n",
       "      <th>Age1</th>\n",
       "      <th>Days_Gap</th>\n",
       "    </tr>\n",
       "  </thead>\n",
       "  <tbody>\n",
       "    <tr>\n",
       "      <th>0</th>\n",
       "      <td>1000032547</td>\n",
       "      <td>12-09-2006 00:00</td>\n",
       "      <td>12-05-2007 00:00</td>\n",
       "      <td>Female</td>\n",
       "      <td>15-09-1984</td>\n",
       "      <td>QLD</td>\n",
       "      <td>Registered</td>\n",
       "      <td>4</td>\n",
       "      <td>Kyabram</td>\n",
       "      <td>Y</td>\n",
       "      <td>Email</td>\n",
       "      <td>69.37</td>\n",
       "      <td>40</td>\n",
       "      <td>361</td>\n",
       "    </tr>\n",
       "    <tr>\n",
       "      <th>1</th>\n",
       "      <td>1000032548</td>\n",
       "      <td>12-09-2006 00:00</td>\n",
       "      <td>12-03-2007 00:00</td>\n",
       "      <td>Female</td>\n",
       "      <td>15-07-1974</td>\n",
       "      <td>WA</td>\n",
       "      <td>Registered</td>\n",
       "      <td>17</td>\n",
       "      <td>Hawthorn East</td>\n",
       "      <td>Y</td>\n",
       "      <td>Email</td>\n",
       "      <td>498.50</td>\n",
       "      <td>50</td>\n",
       "      <td>359</td>\n",
       "    </tr>\n",
       "    <tr>\n",
       "      <th>2</th>\n",
       "      <td>1000032549</td>\n",
       "      <td>12-09-2006 00:00</td>\n",
       "      <td>12-02-2007 00:00</td>\n",
       "      <td>Female</td>\n",
       "      <td>01-04-1959</td>\n",
       "      <td>NSW</td>\n",
       "      <td>Registered</td>\n",
       "      <td>1</td>\n",
       "      <td>Revesby</td>\n",
       "      <td>Y</td>\n",
       "      <td>Email</td>\n",
       "      <td>1.56</td>\n",
       "      <td>65</td>\n",
       "      <td>358</td>\n",
       "    </tr>\n",
       "    <tr>\n",
       "      <th>3</th>\n",
       "      <td>1000032550</td>\n",
       "      <td>12-09-2006 00:00</td>\n",
       "      <td>12-03-2007 00:00</td>\n",
       "      <td>Male</td>\n",
       "      <td>16-05-1978</td>\n",
       "      <td>VIC</td>\n",
       "      <td>Registered</td>\n",
       "      <td>2</td>\n",
       "      <td>Willow Grove</td>\n",
       "      <td>Y</td>\n",
       "      <td>Email</td>\n",
       "      <td>160.98</td>\n",
       "      <td>46</td>\n",
       "      <td>359</td>\n",
       "    </tr>\n",
       "    <tr>\n",
       "      <th>4</th>\n",
       "      <td>1000032551</td>\n",
       "      <td>12-09-2006 00:00</td>\n",
       "      <td>12-05-2007 00:00</td>\n",
       "      <td>Male</td>\n",
       "      <td>16-12-1978</td>\n",
       "      <td>VIC</td>\n",
       "      <td>Registered</td>\n",
       "      <td>12</td>\n",
       "      <td>mona vale</td>\n",
       "      <td>Y</td>\n",
       "      <td>Email</td>\n",
       "      <td>289.10</td>\n",
       "      <td>46</td>\n",
       "      <td>361</td>\n",
       "    </tr>\n",
       "  </tbody>\n",
       "</table>\n",
       "</div>"
      ],
      "text/plain": [
       "   CUSTOMER_ID     CARD_REG_DATE     FIRST_USE_DTE  GENDER         DOB  \\\n",
       "0   1000032547  12-09-2006 00:00  12-05-2007 00:00  Female  15-09-1984   \n",
       "1   1000032548  12-09-2006 00:00  12-03-2007 00:00  Female  15-07-1974   \n",
       "2   1000032549  12-09-2006 00:00  12-02-2007 00:00  Female  01-04-1959   \n",
       "3   1000032550  12-09-2006 00:00  12-03-2007 00:00    Male  16-05-1978   \n",
       "4   1000032551  12-09-2006 00:00  12-05-2007 00:00    Male  16-12-1978   \n",
       "\n",
       "  STATE_CODE   CARD_STAT  NO_OF_TRIPS           TOWN EMAIL_IND CONTACT_PREF  \\\n",
       "0        QLD  Registered            4        Kyabram         Y        Email   \n",
       "1         WA  Registered           17  Hawthorn East         Y        Email   \n",
       "2        NSW  Registered            1        Revesby         Y        Email   \n",
       "3        VIC  Registered            2   Willow Grove         Y        Email   \n",
       "4        VIC  Registered           12      mona vale         Y        Email   \n",
       "\n",
       "   Spent amount  Age1  Days_Gap  \n",
       "0         69.37    40       361  \n",
       "1        498.50    50       359  \n",
       "2          1.56    65       358  \n",
       "3        160.98    46       359  \n",
       "4        289.10    46       361  "
      ]
     },
     "execution_count": 40,
     "metadata": {},
     "output_type": "execute_result"
    }
   ],
   "source": [
    "df1[\"Days_Gap\"]=(pd.to_datetime(df1[\"FIRST_USE_DTE\"])-pd.to_datetime(df1[\"CARD_REG_DATE\"])).dt.days\n",
    "df1.head()"
   ]
  },
  {
   "cell_type": "markdown",
   "id": "1bc9d565",
   "metadata": {},
   "source": [
    "## <font color=\"Dark red\"> HOW TO ADD MONTHS, DAYS AND YEARS TO A DATE VALUE"
   ]
  },
  {
   "cell_type": "code",
   "execution_count": 41,
   "id": "15f0ecb5",
   "metadata": {},
   "outputs": [
    {
     "name": "stdout",
     "output_type": "stream",
     "text": [
      "2024-08-15\n"
     ]
    }
   ],
   "source": [
    "# Today's Date\n",
    "print(dt.datetime.now().date())"
   ]
  },
  {
   "cell_type": "code",
   "execution_count": 42,
   "id": "ec160b5b",
   "metadata": {},
   "outputs": [
    {
     "name": "stdout",
     "output_type": "stream",
     "text": [
      "2026-08-15 00:00:00\n"
     ]
    }
   ],
   "source": [
    "# Add Years in Today's Date\n",
    "print(dt.datetime.now().date() + pd.DateOffset(years=2))"
   ]
  },
  {
   "cell_type": "code",
   "execution_count": 43,
   "id": "8cf437f1",
   "metadata": {},
   "outputs": [
    {
     "name": "stdout",
     "output_type": "stream",
     "text": [
      "2024-10-15 00:00:00\n"
     ]
    }
   ],
   "source": [
    "# Add Months in Today's Date\n",
    "print(dt.datetime.now().date() + pd.DateOffset(months=2))"
   ]
  },
  {
   "cell_type": "code",
   "execution_count": 44,
   "id": "9d52cf7f",
   "metadata": {},
   "outputs": [
    {
     "name": "stdout",
     "output_type": "stream",
     "text": [
      "2024-08-17 00:00:00\n"
     ]
    }
   ],
   "source": [
    "# Add Days in Today's Date\n",
    "print(dt.datetime.now().date() + pd.DateOffset(days=2))"
   ]
  },
  {
   "cell_type": "code",
   "execution_count": 45,
   "id": "0ea0e343",
   "metadata": {},
   "outputs": [
    {
     "data": {
      "text/html": [
       "<div>\n",
       "<style scoped>\n",
       "    .dataframe tbody tr th:only-of-type {\n",
       "        vertical-align: middle;\n",
       "    }\n",
       "\n",
       "    .dataframe tbody tr th {\n",
       "        vertical-align: top;\n",
       "    }\n",
       "\n",
       "    .dataframe thead th {\n",
       "        text-align: right;\n",
       "    }\n",
       "</style>\n",
       "<table border=\"1\" class=\"dataframe\">\n",
       "  <thead>\n",
       "    <tr style=\"text-align: right;\">\n",
       "      <th></th>\n",
       "      <th>Date</th>\n",
       "      <th>Account</th>\n",
       "      <th>Note</th>\n",
       "      <th>INR</th>\n",
       "      <th>Income/Expense</th>\n",
       "      <th>Amount</th>\n",
       "      <th>Currency</th>\n",
       "      <th>Account.1</th>\n",
       "      <th>Year</th>\n",
       "      <th>Month</th>\n",
       "      <th>...</th>\n",
       "      <th>Date Convert</th>\n",
       "      <th>Short_Month_Name</th>\n",
       "      <th>Long_Month_Name</th>\n",
       "      <th>Short_Day_Name</th>\n",
       "      <th>Long_Day_Name</th>\n",
       "      <th>Short_Year</th>\n",
       "      <th>Long_Yaer</th>\n",
       "      <th>Month_Number</th>\n",
       "      <th>Day_Number</th>\n",
       "      <th>Week_Day_Number</th>\n",
       "    </tr>\n",
       "  </thead>\n",
       "  <tbody>\n",
       "    <tr>\n",
       "      <th>0</th>\n",
       "      <td>2022-03-02 10:11:00</td>\n",
       "      <td>CUB - online payment</td>\n",
       "      <td>Brownie</td>\n",
       "      <td>50.0</td>\n",
       "      <td>Expense</td>\n",
       "      <td>50.0</td>\n",
       "      <td>INR</td>\n",
       "      <td>50.0</td>\n",
       "      <td>2022</td>\n",
       "      <td>3</td>\n",
       "      <td>...</td>\n",
       "      <td>2022-03-02</td>\n",
       "      <td>Mar</td>\n",
       "      <td>March</td>\n",
       "      <td>Wed</td>\n",
       "      <td>Wednesday</td>\n",
       "      <td>22</td>\n",
       "      <td>2022</td>\n",
       "      <td>03</td>\n",
       "      <td>02</td>\n",
       "      <td>3</td>\n",
       "    </tr>\n",
       "    <tr>\n",
       "      <th>1</th>\n",
       "      <td>2022-03-02 10:11:00</td>\n",
       "      <td>CUB - online payment</td>\n",
       "      <td>To lended people</td>\n",
       "      <td>300.0</td>\n",
       "      <td>Expense</td>\n",
       "      <td>300.0</td>\n",
       "      <td>INR</td>\n",
       "      <td>300.0</td>\n",
       "      <td>2022</td>\n",
       "      <td>3</td>\n",
       "      <td>...</td>\n",
       "      <td>2022-03-02</td>\n",
       "      <td>Mar</td>\n",
       "      <td>March</td>\n",
       "      <td>Wed</td>\n",
       "      <td>Wednesday</td>\n",
       "      <td>22</td>\n",
       "      <td>2022</td>\n",
       "      <td>03</td>\n",
       "      <td>02</td>\n",
       "      <td>3</td>\n",
       "    </tr>\n",
       "    <tr>\n",
       "      <th>2</th>\n",
       "      <td>2022-03-01 19:50:00</td>\n",
       "      <td>CUB - online payment</td>\n",
       "      <td>Dinner</td>\n",
       "      <td>78.0</td>\n",
       "      <td>Expense</td>\n",
       "      <td>78.0</td>\n",
       "      <td>INR</td>\n",
       "      <td>78.0</td>\n",
       "      <td>2022</td>\n",
       "      <td>3</td>\n",
       "      <td>...</td>\n",
       "      <td>2022-03-01</td>\n",
       "      <td>Mar</td>\n",
       "      <td>March</td>\n",
       "      <td>Tue</td>\n",
       "      <td>Tuesday</td>\n",
       "      <td>22</td>\n",
       "      <td>2022</td>\n",
       "      <td>03</td>\n",
       "      <td>01</td>\n",
       "      <td>2</td>\n",
       "    </tr>\n",
       "    <tr>\n",
       "      <th>3</th>\n",
       "      <td>2022-03-01 18:56:00</td>\n",
       "      <td>CUB - online payment</td>\n",
       "      <td>Metro</td>\n",
       "      <td>30.0</td>\n",
       "      <td>Expense</td>\n",
       "      <td>30.0</td>\n",
       "      <td>INR</td>\n",
       "      <td>30.0</td>\n",
       "      <td>2022</td>\n",
       "      <td>3</td>\n",
       "      <td>...</td>\n",
       "      <td>2022-03-01</td>\n",
       "      <td>Mar</td>\n",
       "      <td>March</td>\n",
       "      <td>Tue</td>\n",
       "      <td>Tuesday</td>\n",
       "      <td>22</td>\n",
       "      <td>2022</td>\n",
       "      <td>03</td>\n",
       "      <td>01</td>\n",
       "      <td>2</td>\n",
       "    </tr>\n",
       "    <tr>\n",
       "      <th>4</th>\n",
       "      <td>2022-03-01 18:22:00</td>\n",
       "      <td>CUB - online payment</td>\n",
       "      <td>Snacks</td>\n",
       "      <td>67.0</td>\n",
       "      <td>Expense</td>\n",
       "      <td>67.0</td>\n",
       "      <td>INR</td>\n",
       "      <td>67.0</td>\n",
       "      <td>2022</td>\n",
       "      <td>3</td>\n",
       "      <td>...</td>\n",
       "      <td>2022-03-01</td>\n",
       "      <td>Mar</td>\n",
       "      <td>March</td>\n",
       "      <td>Tue</td>\n",
       "      <td>Tuesday</td>\n",
       "      <td>22</td>\n",
       "      <td>2022</td>\n",
       "      <td>03</td>\n",
       "      <td>01</td>\n",
       "      <td>2</td>\n",
       "    </tr>\n",
       "  </tbody>\n",
       "</table>\n",
       "<p>5 rows × 22 columns</p>\n",
       "</div>"
      ],
      "text/plain": [
       "                 Date               Account              Note    INR  \\\n",
       "0 2022-03-02 10:11:00  CUB - online payment           Brownie   50.0   \n",
       "1 2022-03-02 10:11:00  CUB - online payment  To lended people  300.0   \n",
       "2 2022-03-01 19:50:00  CUB - online payment            Dinner   78.0   \n",
       "3 2022-03-01 18:56:00  CUB - online payment             Metro   30.0   \n",
       "4 2022-03-01 18:22:00  CUB - online payment            Snacks   67.0   \n",
       "\n",
       "  Income/Expense  Amount Currency  Account.1  Year  Month  ...  Date Convert  \\\n",
       "0        Expense    50.0      INR       50.0  2022      3  ...    2022-03-02   \n",
       "1        Expense   300.0      INR      300.0  2022      3  ...    2022-03-02   \n",
       "2        Expense    78.0      INR       78.0  2022      3  ...    2022-03-01   \n",
       "3        Expense    30.0      INR       30.0  2022      3  ...    2022-03-01   \n",
       "4        Expense    67.0      INR       67.0  2022      3  ...    2022-03-01   \n",
       "\n",
       "  Short_Month_Name Long_Month_Name Short_Day_Name Long_Day_Name Short_Year  \\\n",
       "0              Mar           March            Wed     Wednesday         22   \n",
       "1              Mar           March            Wed     Wednesday         22   \n",
       "2              Mar           March            Tue       Tuesday         22   \n",
       "3              Mar           March            Tue       Tuesday         22   \n",
       "4              Mar           March            Tue       Tuesday         22   \n",
       "\n",
       "  Long_Yaer Month_Number Day_Number Week_Day_Number  \n",
       "0      2022           03         02               3  \n",
       "1      2022           03         02               3  \n",
       "2      2022           03         01               2  \n",
       "3      2022           03         01               2  \n",
       "4      2022           03         01               2  \n",
       "\n",
       "[5 rows x 22 columns]"
      ]
     },
     "execution_count": 45,
     "metadata": {},
     "output_type": "execute_result"
    }
   ],
   "source": [
    "df.head()"
   ]
  },
  {
   "cell_type": "code",
   "execution_count": 46,
   "id": "3345a4e7",
   "metadata": {},
   "outputs": [
    {
     "data": {
      "text/html": [
       "<div>\n",
       "<style scoped>\n",
       "    .dataframe tbody tr th:only-of-type {\n",
       "        vertical-align: middle;\n",
       "    }\n",
       "\n",
       "    .dataframe tbody tr th {\n",
       "        vertical-align: top;\n",
       "    }\n",
       "\n",
       "    .dataframe thead th {\n",
       "        text-align: right;\n",
       "    }\n",
       "</style>\n",
       "<table border=\"1\" class=\"dataframe\">\n",
       "  <thead>\n",
       "    <tr style=\"text-align: right;\">\n",
       "      <th></th>\n",
       "      <th>Date</th>\n",
       "      <th>Account</th>\n",
       "      <th>Note</th>\n",
       "      <th>INR</th>\n",
       "      <th>Income/Expense</th>\n",
       "      <th>Amount</th>\n",
       "      <th>Currency</th>\n",
       "      <th>Account.1</th>\n",
       "      <th>Year</th>\n",
       "      <th>Month</th>\n",
       "      <th>...</th>\n",
       "      <th>Short_Day_Name</th>\n",
       "      <th>Long_Day_Name</th>\n",
       "      <th>Short_Year</th>\n",
       "      <th>Long_Yaer</th>\n",
       "      <th>Month_Number</th>\n",
       "      <th>Day_Number</th>\n",
       "      <th>Week_Day_Number</th>\n",
       "      <th>Add_Years</th>\n",
       "      <th>Add_Months</th>\n",
       "      <th>Add_days</th>\n",
       "    </tr>\n",
       "  </thead>\n",
       "  <tbody>\n",
       "    <tr>\n",
       "      <th>0</th>\n",
       "      <td>2022-03-02 10:11:00</td>\n",
       "      <td>CUB - online payment</td>\n",
       "      <td>Brownie</td>\n",
       "      <td>50.0</td>\n",
       "      <td>Expense</td>\n",
       "      <td>50.0</td>\n",
       "      <td>INR</td>\n",
       "      <td>50.0</td>\n",
       "      <td>2022</td>\n",
       "      <td>3</td>\n",
       "      <td>...</td>\n",
       "      <td>Wed</td>\n",
       "      <td>Wednesday</td>\n",
       "      <td>22</td>\n",
       "      <td>2022</td>\n",
       "      <td>03</td>\n",
       "      <td>02</td>\n",
       "      <td>3</td>\n",
       "      <td>2024-03-02</td>\n",
       "      <td>2022-05-02</td>\n",
       "      <td>2022-03-04</td>\n",
       "    </tr>\n",
       "    <tr>\n",
       "      <th>1</th>\n",
       "      <td>2022-03-02 10:11:00</td>\n",
       "      <td>CUB - online payment</td>\n",
       "      <td>To lended people</td>\n",
       "      <td>300.0</td>\n",
       "      <td>Expense</td>\n",
       "      <td>300.0</td>\n",
       "      <td>INR</td>\n",
       "      <td>300.0</td>\n",
       "      <td>2022</td>\n",
       "      <td>3</td>\n",
       "      <td>...</td>\n",
       "      <td>Wed</td>\n",
       "      <td>Wednesday</td>\n",
       "      <td>22</td>\n",
       "      <td>2022</td>\n",
       "      <td>03</td>\n",
       "      <td>02</td>\n",
       "      <td>3</td>\n",
       "      <td>2024-03-02</td>\n",
       "      <td>2022-05-02</td>\n",
       "      <td>2022-03-04</td>\n",
       "    </tr>\n",
       "    <tr>\n",
       "      <th>2</th>\n",
       "      <td>2022-03-01 19:50:00</td>\n",
       "      <td>CUB - online payment</td>\n",
       "      <td>Dinner</td>\n",
       "      <td>78.0</td>\n",
       "      <td>Expense</td>\n",
       "      <td>78.0</td>\n",
       "      <td>INR</td>\n",
       "      <td>78.0</td>\n",
       "      <td>2022</td>\n",
       "      <td>3</td>\n",
       "      <td>...</td>\n",
       "      <td>Tue</td>\n",
       "      <td>Tuesday</td>\n",
       "      <td>22</td>\n",
       "      <td>2022</td>\n",
       "      <td>03</td>\n",
       "      <td>01</td>\n",
       "      <td>2</td>\n",
       "      <td>2024-03-01</td>\n",
       "      <td>2022-05-01</td>\n",
       "      <td>2022-03-03</td>\n",
       "    </tr>\n",
       "    <tr>\n",
       "      <th>3</th>\n",
       "      <td>2022-03-01 18:56:00</td>\n",
       "      <td>CUB - online payment</td>\n",
       "      <td>Metro</td>\n",
       "      <td>30.0</td>\n",
       "      <td>Expense</td>\n",
       "      <td>30.0</td>\n",
       "      <td>INR</td>\n",
       "      <td>30.0</td>\n",
       "      <td>2022</td>\n",
       "      <td>3</td>\n",
       "      <td>...</td>\n",
       "      <td>Tue</td>\n",
       "      <td>Tuesday</td>\n",
       "      <td>22</td>\n",
       "      <td>2022</td>\n",
       "      <td>03</td>\n",
       "      <td>01</td>\n",
       "      <td>2</td>\n",
       "      <td>2024-03-01</td>\n",
       "      <td>2022-05-01</td>\n",
       "      <td>2022-03-03</td>\n",
       "    </tr>\n",
       "    <tr>\n",
       "      <th>4</th>\n",
       "      <td>2022-03-01 18:22:00</td>\n",
       "      <td>CUB - online payment</td>\n",
       "      <td>Snacks</td>\n",
       "      <td>67.0</td>\n",
       "      <td>Expense</td>\n",
       "      <td>67.0</td>\n",
       "      <td>INR</td>\n",
       "      <td>67.0</td>\n",
       "      <td>2022</td>\n",
       "      <td>3</td>\n",
       "      <td>...</td>\n",
       "      <td>Tue</td>\n",
       "      <td>Tuesday</td>\n",
       "      <td>22</td>\n",
       "      <td>2022</td>\n",
       "      <td>03</td>\n",
       "      <td>01</td>\n",
       "      <td>2</td>\n",
       "      <td>2024-03-01</td>\n",
       "      <td>2022-05-01</td>\n",
       "      <td>2022-03-03</td>\n",
       "    </tr>\n",
       "  </tbody>\n",
       "</table>\n",
       "<p>5 rows × 25 columns</p>\n",
       "</div>"
      ],
      "text/plain": [
       "                 Date               Account              Note    INR  \\\n",
       "0 2022-03-02 10:11:00  CUB - online payment           Brownie   50.0   \n",
       "1 2022-03-02 10:11:00  CUB - online payment  To lended people  300.0   \n",
       "2 2022-03-01 19:50:00  CUB - online payment            Dinner   78.0   \n",
       "3 2022-03-01 18:56:00  CUB - online payment             Metro   30.0   \n",
       "4 2022-03-01 18:22:00  CUB - online payment            Snacks   67.0   \n",
       "\n",
       "  Income/Expense  Amount Currency  Account.1  Year  Month  ...  \\\n",
       "0        Expense    50.0      INR       50.0  2022      3  ...   \n",
       "1        Expense   300.0      INR      300.0  2022      3  ...   \n",
       "2        Expense    78.0      INR       78.0  2022      3  ...   \n",
       "3        Expense    30.0      INR       30.0  2022      3  ...   \n",
       "4        Expense    67.0      INR       67.0  2022      3  ...   \n",
       "\n",
       "   Short_Day_Name Long_Day_Name Short_Year Long_Yaer Month_Number Day_Number  \\\n",
       "0             Wed     Wednesday         22      2022           03         02   \n",
       "1             Wed     Wednesday         22      2022           03         02   \n",
       "2             Tue       Tuesday         22      2022           03         01   \n",
       "3             Tue       Tuesday         22      2022           03         01   \n",
       "4             Tue       Tuesday         22      2022           03         01   \n",
       "\n",
       "  Week_Day_Number  Add_Years Add_Months   Add_days  \n",
       "0               3 2024-03-02 2022-05-02 2022-03-04  \n",
       "1               3 2024-03-02 2022-05-02 2022-03-04  \n",
       "2               2 2024-03-01 2022-05-01 2022-03-03  \n",
       "3               2 2024-03-01 2022-05-01 2022-03-03  \n",
       "4               2 2024-03-01 2022-05-01 2022-03-03  \n",
       "\n",
       "[5 rows x 25 columns]"
      ]
     },
     "execution_count": 46,
     "metadata": {},
     "output_type": "execute_result"
    }
   ],
   "source": [
    "df['Add_Years'] = pd.to_datetime(df['Date Convert']) + pd.DateOffset(years=2)\n",
    "df['Add_Months'] = pd.to_datetime(df['Date Convert']) + pd.DateOffset(months=2)\n",
    "df['Add_days'] = pd.to_datetime(df['Date Convert']) + pd.DateOffset(days=2)\n",
    "\n",
    "df.head()"
   ]
  },
  {
   "cell_type": "markdown",
   "id": "91eec5f6",
   "metadata": {},
   "source": [
    "### "
   ]
  },
  {
   "cell_type": "markdown",
   "id": "aa2423f4",
   "metadata": {},
   "source": [
    "## <font color=\"Dark blue\"> MONTH GAPS BETWEEN TWO DATES"
   ]
  },
  {
   "cell_type": "code",
   "execution_count": 47,
   "id": "32e9bcc3",
   "metadata": {},
   "outputs": [
    {
     "name": "stdout",
     "output_type": "stream",
     "text": [
      "The gap between the two dates is 14 months.\n"
     ]
    }
   ],
   "source": [
    "# Example dates\n",
    "date1 = dt.datetime(2023, 5, 15)\n",
    "date2 = dt.datetime(2024, 8, 14)\n",
    "\n",
    "# Calculate the difference\n",
    "difference = relativedelta(date2, date1)\n",
    "\n",
    "# Get the number of months\n",
    "months_gap = difference.years * 12 + difference.months\n",
    "\n",
    "print(f\"The gap between the two dates is {months_gap} months.\")"
   ]
  },
  {
   "cell_type": "code",
   "execution_count": 48,
   "id": "691cbe22",
   "metadata": {},
   "outputs": [
    {
     "data": {
      "text/plain": [
       "relativedelta(years=+1, months=+2, days=+30)"
      ]
     },
     "execution_count": 48,
     "metadata": {},
     "output_type": "execute_result"
    }
   ],
   "source": [
    "difference"
   ]
  },
  {
   "cell_type": "code",
   "execution_count": 49,
   "id": "5c341d38",
   "metadata": {},
   "outputs": [
    {
     "data": {
      "text/plain": [
       "12"
      ]
     },
     "execution_count": 49,
     "metadata": {},
     "output_type": "execute_result"
    }
   ],
   "source": [
    "difference.years * 12"
   ]
  },
  {
   "cell_type": "code",
   "execution_count": 50,
   "id": "84e8ed2e",
   "metadata": {},
   "outputs": [
    {
     "data": {
      "text/plain": [
       "1"
      ]
     },
     "execution_count": 50,
     "metadata": {},
     "output_type": "execute_result"
    }
   ],
   "source": [
    "difference.years"
   ]
  },
  {
   "cell_type": "code",
   "execution_count": 51,
   "id": "9601501b",
   "metadata": {},
   "outputs": [
    {
     "data": {
      "text/plain": [
       "2"
      ]
     },
     "execution_count": 51,
     "metadata": {},
     "output_type": "execute_result"
    }
   ],
   "source": [
    "difference.months"
   ]
  },
  {
   "cell_type": "markdown",
   "id": "c5a3d732",
   "metadata": {},
   "source": [
    "## <font color=\"Dark blue\"> DAY GAPS BETWEEN TWO DATES"
   ]
  },
  {
   "cell_type": "code",
   "execution_count": 53,
   "id": "8f52816a",
   "metadata": {},
   "outputs": [
    {
     "name": "stdout",
     "output_type": "stream",
     "text": [
      "The gap between the two dates is 5 days.\n"
     ]
    }
   ],
   "source": [
    "# Example dates\n",
    "date1 = dt.datetime(2024, 8, 10)\n",
    "date2 = dt.datetime(2024, 8, 15)\n",
    "\n",
    "# Calculate the difference\n",
    "diff=date2-date1\n",
    "\n",
    "# Get the number of days\n",
    "day_gaps=diff.days\n",
    "\n",
    "print(f\"The gap between the two dates is {day_gaps} days.\")"
   ]
  },
  {
   "cell_type": "markdown",
   "id": "132fb27a",
   "metadata": {},
   "source": [
    "## <font color=\"Dark blue\"> YEAR GAPS BETWEEN TWO DATES"
   ]
  },
  {
   "cell_type": "code",
   "execution_count": 54,
   "id": "5616a857",
   "metadata": {},
   "outputs": [
    {
     "name": "stdout",
     "output_type": "stream",
     "text": [
      "The gap between the two dates is 0 years.\n"
     ]
    }
   ],
   "source": [
    "# Example dates\n",
    "date1 = dt.datetime(2024, 8, 10)\n",
    "date2 = dt.datetime(2024, 8, 15)\n",
    "\n",
    "# Calculate the difference\n",
    "diff=relativedelta(date2,date1)\n",
    "\n",
    "# Get the number of days\n",
    "year_gaps=diff.years\n",
    "\n",
    "print(f\"The gap between the two dates is {year_gaps} years.\")"
   ]
  },
  {
   "cell_type": "code",
   "execution_count": 55,
   "id": "96a672a2",
   "metadata": {},
   "outputs": [
    {
     "name": "stdout",
     "output_type": "stream",
     "text": [
      "The gap between the two dates is 1 years.\n"
     ]
    }
   ],
   "source": [
    "# Example dates\n",
    "date1 = dt.datetime(2023, 8, 10)\n",
    "date2 = dt.datetime(2024, 8, 15)\n",
    "\n",
    "# Calculate the difference\n",
    "diff=relativedelta(date2,date1)\n",
    "\n",
    "# Get the number of days\n",
    "year_gaps=diff.years\n",
    "\n",
    "print(f\"The gap between the two dates is {year_gaps} years.\")"
   ]
  },
  {
   "cell_type": "markdown",
   "id": "9a9d5c2a",
   "metadata": {},
   "source": [
    "## <font color=\"Dark blue\">REAL TIME CASE STUDY"
   ]
  },
  {
   "cell_type": "code",
   "execution_count": 108,
   "id": "9289c51a",
   "metadata": {},
   "outputs": [],
   "source": [
    "import pandas as pd\n",
    "from dateutil.relativedelta import relativedelta\n",
    "\n",
    "# Sample DataFrame with date columns\n",
    "data = {\n",
    "    'start_date': ['2022-01-15', '2023-03-10', '2021-07-22'],\n",
    "    'end_date': ['2023-05-20', '2024-08-14', '2024-12-01']\n",
    "}\n",
    "\n",
    "df = pd.DataFrame(data)\n",
    "\n",
    "# Convert columns to datetime\n",
    "df['start_date'] = pd.to_datetime(df['start_date'])\n",
    "df['end_date'] = pd.to_datetime(df['end_date'])\n",
    "\n",
    "# Function to calculate months gap\n",
    "def calculate_months_gap(row):\n",
    "    diff = relativedelta(row['end_date'], row['start_date'])\n",
    "    return diff.years * 12 + diff.months\n",
    "\n",
    "def calculate_years_gap(row):\n",
    "    diff = relativedelta(row['end_date'], row['start_date'])\n",
    "    return diff.years"
   ]
  },
  {
   "cell_type": "code",
   "execution_count": 109,
   "id": "2a38ec43",
   "metadata": {},
   "outputs": [
    {
     "data": {
      "text/html": [
       "<div>\n",
       "<style scoped>\n",
       "    .dataframe tbody tr th:only-of-type {\n",
       "        vertical-align: middle;\n",
       "    }\n",
       "\n",
       "    .dataframe tbody tr th {\n",
       "        vertical-align: top;\n",
       "    }\n",
       "\n",
       "    .dataframe thead th {\n",
       "        text-align: right;\n",
       "    }\n",
       "</style>\n",
       "<table border=\"1\" class=\"dataframe\">\n",
       "  <thead>\n",
       "    <tr style=\"text-align: right;\">\n",
       "      <th></th>\n",
       "      <th>start_date</th>\n",
       "      <th>end_date</th>\n",
       "    </tr>\n",
       "  </thead>\n",
       "  <tbody>\n",
       "    <tr>\n",
       "      <th>0</th>\n",
       "      <td>2022-01-15</td>\n",
       "      <td>2023-05-20</td>\n",
       "    </tr>\n",
       "    <tr>\n",
       "      <th>1</th>\n",
       "      <td>2023-03-10</td>\n",
       "      <td>2024-08-14</td>\n",
       "    </tr>\n",
       "    <tr>\n",
       "      <th>2</th>\n",
       "      <td>2021-07-22</td>\n",
       "      <td>2024-12-01</td>\n",
       "    </tr>\n",
       "  </tbody>\n",
       "</table>\n",
       "</div>"
      ],
      "text/plain": [
       "  start_date   end_date\n",
       "0 2022-01-15 2023-05-20\n",
       "1 2023-03-10 2024-08-14\n",
       "2 2021-07-22 2024-12-01"
      ]
     },
     "execution_count": 109,
     "metadata": {},
     "output_type": "execute_result"
    }
   ],
   "source": [
    "df"
   ]
  },
  {
   "cell_type": "code",
   "execution_count": 110,
   "id": "dbfcb9d5",
   "metadata": {},
   "outputs": [
    {
     "data": {
      "text/html": [
       "<div>\n",
       "<style scoped>\n",
       "    .dataframe tbody tr th:only-of-type {\n",
       "        vertical-align: middle;\n",
       "    }\n",
       "\n",
       "    .dataframe tbody tr th {\n",
       "        vertical-align: top;\n",
       "    }\n",
       "\n",
       "    .dataframe thead th {\n",
       "        text-align: right;\n",
       "    }\n",
       "</style>\n",
       "<table border=\"1\" class=\"dataframe\">\n",
       "  <thead>\n",
       "    <tr style=\"text-align: right;\">\n",
       "      <th></th>\n",
       "      <th>start_date</th>\n",
       "      <th>end_date</th>\n",
       "      <th>months_gap</th>\n",
       "    </tr>\n",
       "  </thead>\n",
       "  <tbody>\n",
       "    <tr>\n",
       "      <th>0</th>\n",
       "      <td>2022-01-15</td>\n",
       "      <td>2023-05-20</td>\n",
       "      <td>16</td>\n",
       "    </tr>\n",
       "    <tr>\n",
       "      <th>1</th>\n",
       "      <td>2023-03-10</td>\n",
       "      <td>2024-08-14</td>\n",
       "      <td>17</td>\n",
       "    </tr>\n",
       "    <tr>\n",
       "      <th>2</th>\n",
       "      <td>2021-07-22</td>\n",
       "      <td>2024-12-01</td>\n",
       "      <td>40</td>\n",
       "    </tr>\n",
       "  </tbody>\n",
       "</table>\n",
       "</div>"
      ],
      "text/plain": [
       "  start_date   end_date  months_gap\n",
       "0 2022-01-15 2023-05-20          16\n",
       "1 2023-03-10 2024-08-14          17\n",
       "2 2021-07-22 2024-12-01          40"
      ]
     },
     "execution_count": 110,
     "metadata": {},
     "output_type": "execute_result"
    }
   ],
   "source": [
    "df['months_gap'] = df.apply(calculate_months_gap, axis=1)\n",
    "df"
   ]
  },
  {
   "cell_type": "code",
   "execution_count": 111,
   "id": "ac17fd79",
   "metadata": {},
   "outputs": [
    {
     "data": {
      "text/html": [
       "<div>\n",
       "<style scoped>\n",
       "    .dataframe tbody tr th:only-of-type {\n",
       "        vertical-align: middle;\n",
       "    }\n",
       "\n",
       "    .dataframe tbody tr th {\n",
       "        vertical-align: top;\n",
       "    }\n",
       "\n",
       "    .dataframe thead th {\n",
       "        text-align: right;\n",
       "    }\n",
       "</style>\n",
       "<table border=\"1\" class=\"dataframe\">\n",
       "  <thead>\n",
       "    <tr style=\"text-align: right;\">\n",
       "      <th></th>\n",
       "      <th>start_date</th>\n",
       "      <th>end_date</th>\n",
       "      <th>months_gap</th>\n",
       "      <th>years_gap</th>\n",
       "    </tr>\n",
       "  </thead>\n",
       "  <tbody>\n",
       "    <tr>\n",
       "      <th>0</th>\n",
       "      <td>2022-01-15</td>\n",
       "      <td>2023-05-20</td>\n",
       "      <td>16</td>\n",
       "      <td>1</td>\n",
       "    </tr>\n",
       "    <tr>\n",
       "      <th>1</th>\n",
       "      <td>2023-03-10</td>\n",
       "      <td>2024-08-14</td>\n",
       "      <td>17</td>\n",
       "      <td>1</td>\n",
       "    </tr>\n",
       "    <tr>\n",
       "      <th>2</th>\n",
       "      <td>2021-07-22</td>\n",
       "      <td>2024-12-01</td>\n",
       "      <td>40</td>\n",
       "      <td>3</td>\n",
       "    </tr>\n",
       "  </tbody>\n",
       "</table>\n",
       "</div>"
      ],
      "text/plain": [
       "  start_date   end_date  months_gap  years_gap\n",
       "0 2022-01-15 2023-05-20          16          1\n",
       "1 2023-03-10 2024-08-14          17          1\n",
       "2 2021-07-22 2024-12-01          40          3"
      ]
     },
     "execution_count": 111,
     "metadata": {},
     "output_type": "execute_result"
    }
   ],
   "source": [
    "df['years_gap'] = df.apply(calculate_years_gap, axis=1)\n",
    "df"
   ]
  },
  {
   "cell_type": "code",
   "execution_count": null,
   "id": "34929d98",
   "metadata": {},
   "outputs": [],
   "source": []
  },
  {
   "cell_type": "code",
   "execution_count": null,
   "id": "dd88c4c2",
   "metadata": {},
   "outputs": [],
   "source": []
  }
 ],
 "metadata": {
  "kernelspec": {
   "display_name": "Python 3 (ipykernel)",
   "language": "python",
   "name": "python3"
  },
  "language_info": {
   "codemirror_mode": {
    "name": "ipython",
    "version": 3
   },
   "file_extension": ".py",
   "mimetype": "text/x-python",
   "name": "python",
   "nbconvert_exporter": "python",
   "pygments_lexer": "ipython3",
   "version": "3.9.13"
  }
 },
 "nbformat": 4,
 "nbformat_minor": 5
}
