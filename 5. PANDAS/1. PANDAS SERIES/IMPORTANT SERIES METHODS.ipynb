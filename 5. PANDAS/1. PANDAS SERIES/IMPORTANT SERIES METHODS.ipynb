{
 "cells": [
  {
   "cell_type": "markdown",
   "id": "cd7ae9de",
   "metadata": {},
   "source": [
    "## <font color=\"brown\">IMPORTING LIBRARY"
   ]
  },
  {
   "cell_type": "code",
   "execution_count": 1,
   "id": "bd0c44cc",
   "metadata": {},
   "outputs": [],
   "source": [
    "import numpy as np\n",
    "import pandas as pd"
   ]
  },
  {
   "cell_type": "code",
   "execution_count": 2,
   "id": "fbfcf4a2",
   "metadata": {},
   "outputs": [
    {
     "name": "stderr",
     "output_type": "stream",
     "text": [
      "C:\\Users\\mitra\\AppData\\Local\\Temp\\ipykernel_18924\\601148715.py:1: FutureWarning: The squeeze argument has been deprecated and will be removed in a future version. Append .squeeze(\"columns\") to the call to squeeze.\n",
      "\n",
      "\n",
      "  sub=pd.read_csv(r\"C:\\Users\\mitra\\Desktop\\DUDUL DS\\CAMPUSX\\PYTHON\\PANDAS\\PANDAS SERIES\\Datasets\\Pandas Series\\subs.csv\",squeeze=True)\n"
     ]
    }
   ],
   "source": [
    "sub=pd.read_csv(r\"C:\\Users\\mitra\\Desktop\\DUDUL DS\\CAMPUSX\\PYTHON\\PANDAS\\PANDAS SERIES\\Datasets\\Pandas Series\\subs.csv\",squeeze=True)"
   ]
  },
  {
   "cell_type": "code",
   "execution_count": 3,
   "id": "a0a909c4",
   "metadata": {},
   "outputs": [
    {
     "data": {
      "text/plain": [
       "0       48\n",
       "1       57\n",
       "2       40\n",
       "3       43\n",
       "4       44\n",
       "      ... \n",
       "360    231\n",
       "361    226\n",
       "362    155\n",
       "363    144\n",
       "364    172\n",
       "Name: Subscribers gained, Length: 365, dtype: int64"
      ]
     },
     "execution_count": 3,
     "metadata": {},
     "output_type": "execute_result"
    }
   ],
   "source": [
    "sub"
   ]
  },
  {
   "cell_type": "code",
   "execution_count": 4,
   "id": "cce39a0c",
   "metadata": {},
   "outputs": [
    {
     "name": "stderr",
     "output_type": "stream",
     "text": [
      "C:\\Users\\mitra\\AppData\\Local\\Temp\\ipykernel_18924\\4291034335.py:1: FutureWarning: The squeeze argument has been deprecated and will be removed in a future version. Append .squeeze(\"columns\") to the call to squeeze.\n",
      "\n",
      "\n",
      "  vk=pd.read_csv(r\"C:\\Users\\mitra\\Desktop\\DUDUL DS\\CAMPUSX\\PYTHON\\PANDAS\\PANDAS SERIES\\Datasets\\Pandas Series\\kohli_ipl.csv\",index_col=\"match_no\",squeeze=True)\n"
     ]
    }
   ],
   "source": [
    " vk=pd.read_csv(r\"C:\\Users\\mitra\\Desktop\\DUDUL DS\\CAMPUSX\\PYTHON\\PANDAS\\PANDAS SERIES\\Datasets\\Pandas Series\\kohli_ipl.csv\",index_col=\"match_no\",squeeze=True)"
   ]
  },
  {
   "cell_type": "code",
   "execution_count": 5,
   "id": "09cb25a7",
   "metadata": {},
   "outputs": [
    {
     "data": {
      "text/plain": [
       "match_no\n",
       "1       1\n",
       "2      23\n",
       "3      13\n",
       "4      12\n",
       "5       1\n",
       "       ..\n",
       "211     0\n",
       "212    20\n",
       "213    73\n",
       "214    25\n",
       "215     7\n",
       "Name: runs, Length: 215, dtype: int64"
      ]
     },
     "execution_count": 5,
     "metadata": {},
     "output_type": "execute_result"
    }
   ],
   "source": [
    "vk"
   ]
  },
  {
   "cell_type": "code",
   "execution_count": 6,
   "id": "b7e66f4b",
   "metadata": {},
   "outputs": [
    {
     "name": "stderr",
     "output_type": "stream",
     "text": [
      "C:\\Users\\mitra\\AppData\\Local\\Temp\\ipykernel_18924\\2715415027.py:1: FutureWarning: The squeeze argument has been deprecated and will be removed in a future version. Append .squeeze(\"columns\") to the call to squeeze.\n",
      "\n",
      "\n",
      "  mv=pd.read_csv(r\"C:\\Users\\mitra\\Desktop\\DUDUL DS\\CAMPUSX\\PYTHON\\PANDAS\\PANDAS SERIES\\Datasets\\Pandas Series\\bollywood.csv\",index_col=\"movie\",squeeze=True)\n"
     ]
    }
   ],
   "source": [
    "mv=pd.read_csv(r\"C:\\Users\\mitra\\Desktop\\DUDUL DS\\CAMPUSX\\PYTHON\\PANDAS\\PANDAS SERIES\\Datasets\\Pandas Series\\bollywood.csv\",index_col=\"movie\",squeeze=True)"
   ]
  },
  {
   "cell_type": "code",
   "execution_count": 7,
   "id": "8f864542",
   "metadata": {},
   "outputs": [
    {
     "data": {
      "text/plain": [
       "movie\n",
       "Uri: The Surgical Strike                   Vicky Kaushal\n",
       "Battalion 609                                Vicky Ahuja\n",
       "The Accidental Prime Minister (film)         Anupam Kher\n",
       "Why Cheat India                            Emraan Hashmi\n",
       "Evening Shadows                         Mona Ambegaonkar\n",
       "                                              ...       \n",
       "Hum Tumhare Hain Sanam                    Shah Rukh Khan\n",
       "Aankhen (2002 film)                     Amitabh Bachchan\n",
       "Saathiya (film)                             Vivek Oberoi\n",
       "Company (film)                                Ajay Devgn\n",
       "Awara Paagal Deewana                        Akshay Kumar\n",
       "Name: lead, Length: 1500, dtype: object"
      ]
     },
     "execution_count": 7,
     "metadata": {},
     "output_type": "execute_result"
    }
   ],
   "source": [
    "mv"
   ]
  },
  {
   "cell_type": "markdown",
   "id": "7cccef32",
   "metadata": {},
   "source": [
    "#### ASTYPE\n",
    "    It changes the data type of values."
   ]
  },
  {
   "cell_type": "code",
   "execution_count": 8,
   "id": "ade2365c",
   "metadata": {},
   "outputs": [
    {
     "data": {
      "text/plain": [
       "match_no\n",
       "1       1\n",
       "2      23\n",
       "3      13\n",
       "4      12\n",
       "5       1\n",
       "       ..\n",
       "211     0\n",
       "212    20\n",
       "213    73\n",
       "214    25\n",
       "215     7\n",
       "Name: runs, Length: 215, dtype: int64"
      ]
     },
     "execution_count": 8,
     "metadata": {},
     "output_type": "execute_result"
    }
   ],
   "source": [
    "# Here dtype is int64. we can change it to int16.\n",
    "vk"
   ]
  },
  {
   "cell_type": "code",
   "execution_count": 9,
   "id": "4b5d28e7",
   "metadata": {},
   "outputs": [
    {
     "data": {
      "text/plain": [
       "match_no\n",
       "1       1\n",
       "2      23\n",
       "3      13\n",
       "4      12\n",
       "5       1\n",
       "       ..\n",
       "211     0\n",
       "212    20\n",
       "213    73\n",
       "214    25\n",
       "215     7\n",
       "Name: runs, Length: 215, dtype: int16"
      ]
     },
     "execution_count": 9,
     "metadata": {},
     "output_type": "execute_result"
    }
   ],
   "source": [
    "# We could change the data type to int16\n",
    "vk.astype(\"int16\")"
   ]
  },
  {
   "cell_type": "markdown",
   "id": "460e1f8b",
   "metadata": {},
   "source": [
    "#### BETWEEN\n",
    "    It give Boolean Value i.e. True/False, if the values are between the given range.\n",
    "    Both Starting & Ending Values are inclued."
   ]
  },
  {
   "cell_type": "code",
   "execution_count": 14,
   "id": "e6b57016",
   "metadata": {},
   "outputs": [
    {
     "data": {
      "text/plain": [
       "match_no\n",
       "1      False\n",
       "2      False\n",
       "3      False\n",
       "4      False\n",
       "5      False\n",
       "       ...  \n",
       "211    False\n",
       "212    False\n",
       "213     True\n",
       "214    False\n",
       "215    False\n",
       "Name: runs, Length: 215, dtype: bool"
      ]
     },
     "execution_count": 14,
     "metadata": {},
     "output_type": "execute_result"
    }
   ],
   "source": [
    "# It give Boolean Series\n",
    "vk.between(51,99)"
   ]
  },
  {
   "cell_type": "code",
   "execution_count": 15,
   "id": "b8966a83",
   "metadata": {},
   "outputs": [
    {
     "data": {
      "text/plain": [
       "match_no\n",
       "34     58\n",
       "41     71\n",
       "44     56\n",
       "45     67\n",
       "52     70\n",
       "57     57\n",
       "68     73\n",
       "71     51\n",
       "73     58\n",
       "74     65\n",
       "80     57\n",
       "81     93\n",
       "82     99\n",
       "85     56\n",
       "97     67\n",
       "99     73\n",
       "103    51\n",
       "104    62\n",
       "110    82\n",
       "116    75\n",
       "117    79\n",
       "119    80\n",
       "122    52\n",
       "127    75\n",
       "129    54\n",
       "131    54\n",
       "132    62\n",
       "134    64\n",
       "137    55\n",
       "141    58\n",
       "144    57\n",
       "145    92\n",
       "148    68\n",
       "152    70\n",
       "160    84\n",
       "162    67\n",
       "175    72\n",
       "178    90\n",
       "188    72\n",
       "197    51\n",
       "198    53\n",
       "209    58\n",
       "213    73\n",
       "Name: runs, dtype: int64"
      ]
     },
     "execution_count": 15,
     "metadata": {},
     "output_type": "execute_result"
    }
   ],
   "source": [
    "# It give all the match with run\n",
    "vk[vk.between(51,99)]"
   ]
  },
  {
   "cell_type": "code",
   "execution_count": 16,
   "id": "9c561f5f",
   "metadata": {},
   "outputs": [
    {
     "data": {
      "text/plain": [
       "43"
      ]
     },
     "execution_count": 16,
     "metadata": {},
     "output_type": "execute_result"
    }
   ],
   "source": [
    "vk[vk.between(51,99)].size"
   ]
  },
  {
   "cell_type": "markdown",
   "id": "8ad55f19",
   "metadata": {},
   "source": [
    "#### CLIP\n",
    "    It keep only the values which you are specify."
   ]
  },
  {
   "cell_type": "code",
   "execution_count": 17,
   "id": "9a9f7184",
   "metadata": {},
   "outputs": [
    {
     "data": {
      "text/plain": [
       "0       48\n",
       "1       57\n",
       "2       40\n",
       "3       43\n",
       "4       44\n",
       "      ... \n",
       "360    231\n",
       "361    226\n",
       "362    155\n",
       "363    144\n",
       "364    172\n",
       "Name: Subscribers gained, Length: 365, dtype: int64"
      ]
     },
     "execution_count": 17,
     "metadata": {},
     "output_type": "execute_result"
    }
   ],
   "source": [
    "sub"
   ]
  },
  {
   "cell_type": "code",
   "execution_count": 18,
   "id": "cd43632c",
   "metadata": {},
   "outputs": [
    {
     "data": {
      "text/plain": [
       "0      100\n",
       "1      100\n",
       "2      100\n",
       "3      100\n",
       "4      100\n",
       "      ... \n",
       "360    200\n",
       "361    200\n",
       "362    155\n",
       "363    144\n",
       "364    172\n",
       "Name: Subscribers gained, Length: 365, dtype: int64"
      ]
     },
     "execution_count": 18,
     "metadata": {},
     "output_type": "execute_result"
    }
   ],
   "source": [
    "# Here the lower values are converted to 100 and higher values to 200\n",
    "sub.clip(100,200)"
   ]
  },
  {
   "cell_type": "markdown",
   "id": "40bc5b39",
   "metadata": {},
   "source": [
    "#### DROP DUPLICATES\n",
    "    It delete the duplicate values"
   ]
  },
  {
   "cell_type": "code",
   "execution_count": 19,
   "id": "fee89cbe",
   "metadata": {},
   "outputs": [],
   "source": [
    "temp=pd.Series([1,1,1,2,4,2,3,4,2,5,3,4,2,4,3,5,4,3])"
   ]
  },
  {
   "cell_type": "code",
   "execution_count": 20,
   "id": "8a0be94c",
   "metadata": {},
   "outputs": [
    {
     "data": {
      "text/plain": [
       "0     1\n",
       "1     1\n",
       "2     1\n",
       "3     2\n",
       "4     4\n",
       "5     2\n",
       "6     3\n",
       "7     4\n",
       "8     2\n",
       "9     5\n",
       "10    3\n",
       "11    4\n",
       "12    2\n",
       "13    4\n",
       "14    3\n",
       "15    5\n",
       "16    4\n",
       "17    3\n",
       "dtype: int64"
      ]
     },
     "execution_count": 20,
     "metadata": {},
     "output_type": "execute_result"
    }
   ],
   "source": [
    "temp"
   ]
  },
  {
   "cell_type": "code",
   "execution_count": 21,
   "id": "1f28eefa",
   "metadata": {},
   "outputs": [
    {
     "data": {
      "text/plain": [
       "0    1\n",
       "3    2\n",
       "4    4\n",
       "6    3\n",
       "9    5\n",
       "dtype: int64"
      ]
     },
     "execution_count": 21,
     "metadata": {},
     "output_type": "execute_result"
    }
   ],
   "source": [
    "temp.drop_duplicates()"
   ]
  },
  {
   "cell_type": "code",
   "execution_count": 22,
   "id": "1d4e36d2",
   "metadata": {},
   "outputs": [
    {
     "data": {
      "text/plain": [
       "2     1\n",
       "12    2\n",
       "15    5\n",
       "16    4\n",
       "17    3\n",
       "dtype: int64"
      ]
     },
     "execution_count": 22,
     "metadata": {},
     "output_type": "execute_result"
    }
   ],
   "source": [
    "temp.drop_duplicates(keep=\"last\")"
   ]
  },
  {
   "cell_type": "markdown",
   "id": "6cfca5f9",
   "metadata": {},
   "source": [
    "#### ISNULL\n",
    "    It give boolean values.\n",
    "    It give how many missing values are thier in the Series."
   ]
  },
  {
   "cell_type": "code",
   "execution_count": 40,
   "id": "549ae136",
   "metadata": {},
   "outputs": [],
   "source": [
    "tempp=pd.Series([1,2,3,np.nan,5,6,np.nan,7,np.nan,8,np.nan,9,np.nan,10])"
   ]
  },
  {
   "cell_type": "code",
   "execution_count": 41,
   "id": "4ad0d28f",
   "metadata": {},
   "outputs": [
    {
     "data": {
      "text/plain": [
       "0      1.0\n",
       "1      2.0\n",
       "2      3.0\n",
       "3      NaN\n",
       "4      5.0\n",
       "5      6.0\n",
       "6      NaN\n",
       "7      7.0\n",
       "8      NaN\n",
       "9      8.0\n",
       "10     NaN\n",
       "11     9.0\n",
       "12     NaN\n",
       "13    10.0\n",
       "dtype: float64"
      ]
     },
     "execution_count": 41,
     "metadata": {},
     "output_type": "execute_result"
    }
   ],
   "source": [
    "tempp"
   ]
  },
  {
   "cell_type": "markdown",
   "id": "746f855d",
   "metadata": {},
   "source": [
    "### DIFFERENCE BETWEEN \"SIZE\" & \"COUNT\""
   ]
  },
  {
   "cell_type": "code",
   "execution_count": 42,
   "id": "7ec98122",
   "metadata": {},
   "outputs": [
    {
     "data": {
      "text/plain": [
       "14"
      ]
     },
     "execution_count": 42,
     "metadata": {},
     "output_type": "execute_result"
    }
   ],
   "source": [
    "tempp.size  "
   ]
  },
  {
   "cell_type": "code",
   "execution_count": 43,
   "id": "cde28793",
   "metadata": {},
   "outputs": [
    {
     "data": {
      "text/plain": [
       "9"
      ]
     },
     "execution_count": 43,
     "metadata": {},
     "output_type": "execute_result"
    }
   ],
   "source": [
    "tempp.count()  # If the index having NaN/Null Values, then it do not count that indexes"
   ]
  },
  {
   "cell_type": "markdown",
   "id": "f95d84a9",
   "metadata": {},
   "source": [
    "### "
   ]
  },
  {
   "cell_type": "code",
   "execution_count": 44,
   "id": "5e16d034",
   "metadata": {},
   "outputs": [
    {
     "data": {
      "text/plain": [
       "5"
      ]
     },
     "execution_count": 44,
     "metadata": {},
     "output_type": "execute_result"
    }
   ],
   "source": [
    "tempp.isnull().sum()"
   ]
  },
  {
   "cell_type": "code",
   "execution_count": 45,
   "id": "b4fc6cab",
   "metadata": {},
   "outputs": [
    {
     "data": {
      "text/plain": [
       "5"
      ]
     },
     "execution_count": 45,
     "metadata": {},
     "output_type": "execute_result"
    }
   ],
   "source": [
    "tempp.isna().sum()"
   ]
  },
  {
   "cell_type": "markdown",
   "id": "5ff5ce62",
   "metadata": {},
   "source": [
    "#### DROPNA\n",
    "    It delete all the NaN Values."
   ]
  },
  {
   "cell_type": "code",
   "execution_count": 46,
   "id": "d41ff353",
   "metadata": {},
   "outputs": [
    {
     "data": {
      "text/plain": [
       "0      1.0\n",
       "1      2.0\n",
       "2      3.0\n",
       "4      5.0\n",
       "5      6.0\n",
       "7      7.0\n",
       "9      8.0\n",
       "11     9.0\n",
       "13    10.0\n",
       "dtype: float64"
      ]
     },
     "execution_count": 46,
     "metadata": {},
     "output_type": "execute_result"
    }
   ],
   "source": [
    "tempp.dropna()"
   ]
  },
  {
   "cell_type": "markdown",
   "id": "375831ac",
   "metadata": {},
   "source": [
    "#### FILLNA\n",
    "    It replace the NaN to a Specific Values."
   ]
  },
  {
   "cell_type": "code",
   "execution_count": 47,
   "id": "84b3e77b",
   "metadata": {},
   "outputs": [
    {
     "data": {
      "text/plain": [
       "0      1.0\n",
       "1      2.0\n",
       "2      3.0\n",
       "3      0.0\n",
       "4      5.0\n",
       "5      6.0\n",
       "6      0.0\n",
       "7      7.0\n",
       "8      0.0\n",
       "9      8.0\n",
       "10     0.0\n",
       "11     9.0\n",
       "12     0.0\n",
       "13    10.0\n",
       "dtype: float64"
      ]
     },
     "execution_count": 47,
     "metadata": {},
     "output_type": "execute_result"
    }
   ],
   "source": [
    "# It fill the NaN with 0\n",
    "tempp.fillna(0)"
   ]
  },
  {
   "cell_type": "code",
   "execution_count": 49,
   "id": "fc514078",
   "metadata": {},
   "outputs": [
    {
     "data": {
      "text/plain": [
       "0      1.000000\n",
       "1      2.000000\n",
       "2      3.000000\n",
       "3      5.666667\n",
       "4      5.000000\n",
       "5      6.000000\n",
       "6      5.666667\n",
       "7      7.000000\n",
       "8      5.666667\n",
       "9      8.000000\n",
       "10     5.666667\n",
       "11     9.000000\n",
       "12     5.666667\n",
       "13    10.000000\n",
       "dtype: float64"
      ]
     },
     "execution_count": 49,
     "metadata": {},
     "output_type": "execute_result"
    }
   ],
   "source": [
    "# It fill the NaN with Mean\n",
    "tempp.fillna(np.mean(tempp))"
   ]
  },
  {
   "cell_type": "markdown",
   "id": "f29799f1",
   "metadata": {},
   "source": [
    "#### ISIN\n",
    "    It give Boolean Series.\n",
    "    It use to show which values are in the Series or not."
   ]
  },
  {
   "cell_type": "code",
   "execution_count": 50,
   "id": "76d0dfbd",
   "metadata": {},
   "outputs": [
    {
     "data": {
      "text/plain": [
       "match_no\n",
       "1      False\n",
       "2      False\n",
       "3      False\n",
       "4      False\n",
       "5      False\n",
       "       ...  \n",
       "211    False\n",
       "212    False\n",
       "213    False\n",
       "214    False\n",
       "215    False\n",
       "Name: runs, Length: 215, dtype: bool"
      ]
     },
     "execution_count": 50,
     "metadata": {},
     "output_type": "execute_result"
    }
   ],
   "source": [
    "vk.isin([49,99])"
   ]
  },
  {
   "cell_type": "code",
   "execution_count": 51,
   "id": "5bec5dbb",
   "metadata": {},
   "outputs": [
    {
     "data": {
      "text/plain": [
       "match_no\n",
       "82    99\n",
       "86    49\n",
       "Name: runs, dtype: int64"
      ]
     },
     "execution_count": 51,
     "metadata": {},
     "output_type": "execute_result"
    }
   ],
   "source": [
    "vk[vk.isin([49,99])]"
   ]
  },
  {
   "cell_type": "markdown",
   "id": "c987a5f5",
   "metadata": {},
   "source": [
    "#### APPLY\n",
    "    It use to apply the Custom Logic."
   ]
  },
  {
   "cell_type": "code",
   "execution_count": 52,
   "id": "279823ea",
   "metadata": {},
   "outputs": [
    {
     "data": {
      "text/plain": [
       "movie\n",
       "Uri: The Surgical Strike                   Vicky Kaushal\n",
       "Battalion 609                                Vicky Ahuja\n",
       "The Accidental Prime Minister (film)         Anupam Kher\n",
       "Why Cheat India                            Emraan Hashmi\n",
       "Evening Shadows                         Mona Ambegaonkar\n",
       "                                              ...       \n",
       "Hum Tumhare Hain Sanam                    Shah Rukh Khan\n",
       "Aankhen (2002 film)                     Amitabh Bachchan\n",
       "Saathiya (film)                             Vivek Oberoi\n",
       "Company (film)                                Ajay Devgn\n",
       "Awara Paagal Deewana                        Akshay Kumar\n",
       "Name: lead, Length: 1500, dtype: object"
      ]
     },
     "execution_count": 52,
     "metadata": {},
     "output_type": "execute_result"
    }
   ],
   "source": [
    "mv"
   ]
  },
  {
   "cell_type": "code",
   "execution_count": 56,
   "id": "49663826",
   "metadata": {},
   "outputs": [
    {
     "data": {
      "text/plain": [
       "movie\n",
       "Uri: The Surgical Strike                  VICKY\n",
       "Battalion 609                             VICKY\n",
       "The Accidental Prime Minister (film)     ANUPAM\n",
       "Why Cheat India                          EMRAAN\n",
       "Evening Shadows                            MONA\n",
       "                                         ...   \n",
       "Hum Tumhare Hain Sanam                     SHAH\n",
       "Aankhen (2002 film)                     AMITABH\n",
       "Saathiya (film)                           VIVEK\n",
       "Company (film)                             AJAY\n",
       "Awara Paagal Deewana                     AKSHAY\n",
       "Name: lead, Length: 1500, dtype: object"
      ]
     },
     "execution_count": 56,
     "metadata": {},
     "output_type": "execute_result"
    }
   ],
   "source": [
    "# If you want the Actor's First name with upper letter.\n",
    "\n",
    "mv.apply(lambda x: x.split()[0].upper())"
   ]
  },
  {
   "cell_type": "code",
   "execution_count": 58,
   "id": "a53c2e01",
   "metadata": {},
   "outputs": [
    {
     "data": {
      "text/plain": [
       "135.64383561643837"
      ]
     },
     "execution_count": 58,
     "metadata": {},
     "output_type": "execute_result"
    }
   ],
   "source": [
    "sub.mean()"
   ]
  },
  {
   "cell_type": "code",
   "execution_count": 59,
   "id": "5690d761",
   "metadata": {},
   "outputs": [
    {
     "data": {
      "text/plain": [
       "0       Bad Day\n",
       "1       Bad Day\n",
       "2       Bad Day\n",
       "3       Bad Day\n",
       "4       Bad Day\n",
       "         ...   \n",
       "360    Good Day\n",
       "361    Good Day\n",
       "362    Good Day\n",
       "363    Good Day\n",
       "364    Good Day\n",
       "Name: Subscribers gained, Length: 365, dtype: object"
      ]
     },
     "execution_count": 59,
     "metadata": {},
     "output_type": "execute_result"
    }
   ],
   "source": [
    "sub.apply(lambda x : \"Good Day\" if  x>sub.mean() else \"Bad Day\")"
   ]
  },
  {
   "cell_type": "markdown",
   "id": "402119ab",
   "metadata": {},
   "source": [
    "#### COPY"
   ]
  },
  {
   "cell_type": "code",
   "execution_count": 65,
   "id": "c50cf27d",
   "metadata": {},
   "outputs": [
    {
     "data": {
      "text/plain": [
       "match_no\n",
       "1      100\n",
       "2       23\n",
       "3       13\n",
       "4       12\n",
       "5        1\n",
       "      ... \n",
       "211      0\n",
       "212     20\n",
       "213     73\n",
       "214     25\n",
       "215      7\n",
       "Name: runs, Length: 215, dtype: int64"
      ]
     },
     "execution_count": 65,
     "metadata": {},
     "output_type": "execute_result"
    }
   ],
   "source": [
    "# It is the real Dataset\n",
    "vk"
   ]
  },
  {
   "cell_type": "code",
   "execution_count": 66,
   "id": "abbe91fe",
   "metadata": {},
   "outputs": [
    {
     "data": {
      "text/plain": [
       "match_no\n",
       "1    100\n",
       "2     23\n",
       "3     13\n",
       "4     12\n",
       "5      1\n",
       "Name: runs, dtype: int64"
      ]
     },
     "execution_count": 66,
     "metadata": {},
     "output_type": "execute_result"
    }
   ],
   "source": [
    "# It is First 5 Rows\n",
    "vk.head()"
   ]
  },
  {
   "cell_type": "code",
   "execution_count": 67,
   "id": "bb6bd388",
   "metadata": {},
   "outputs": [],
   "source": [
    "# The first 5 rows store in a Variable\n",
    "new=vk.head()"
   ]
  },
  {
   "cell_type": "code",
   "execution_count": 68,
   "id": "c6ba3461",
   "metadata": {},
   "outputs": [
    {
     "data": {
      "text/plain": [
       "match_no\n",
       "1    100\n",
       "2     23\n",
       "3     13\n",
       "4     12\n",
       "5      1\n",
       "Name: runs, dtype: int64"
      ]
     },
     "execution_count": 68,
     "metadata": {},
     "output_type": "execute_result"
    }
   ],
   "source": [
    "new"
   ]
  },
  {
   "cell_type": "code",
   "execution_count": 70,
   "id": "202fcaf6",
   "metadata": {},
   "outputs": [],
   "source": [
    "# If we changes the index 1 to 1.\n",
    "new[1]=1"
   ]
  },
  {
   "cell_type": "code",
   "execution_count": 71,
   "id": "8d159334",
   "metadata": {},
   "outputs": [
    {
     "data": {
      "text/plain": [
       "match_no\n",
       "1     1\n",
       "2    23\n",
       "3    13\n",
       "4    12\n",
       "5     1\n",
       "Name: runs, dtype: int64"
      ]
     },
     "execution_count": 71,
     "metadata": {},
     "output_type": "execute_result"
    }
   ],
   "source": [
    "# The new variable's Index 1 changes to 1.\n",
    "new"
   ]
  },
  {
   "cell_type": "code",
   "execution_count": 72,
   "id": "e3160f6f",
   "metadata": {},
   "outputs": [
    {
     "data": {
      "text/plain": [
       "match_no\n",
       "1       1\n",
       "2      23\n",
       "3      13\n",
       "4      12\n",
       "5       1\n",
       "       ..\n",
       "211     0\n",
       "212    20\n",
       "213    73\n",
       "214    25\n",
       "215     7\n",
       "Name: runs, Length: 215, dtype: int64"
      ]
     },
     "execution_count": 72,
     "metadata": {},
     "output_type": "execute_result"
    }
   ],
   "source": [
    "# If you see the real dataset.Then the index 1 value's also change to 1.\n",
    "vk"
   ]
  },
  {
   "cell_type": "markdown",
   "id": "3cad9a40",
   "metadata": {},
   "source": [
    "### "
   ]
  },
  {
   "cell_type": "code",
   "execution_count": 73,
   "id": "9b88623d",
   "metadata": {},
   "outputs": [],
   "source": [
    "# If you use copy and store it to a variable then New Dataset is Created.\n",
    "neww=vk.head().copy()"
   ]
  },
  {
   "cell_type": "code",
   "execution_count": 74,
   "id": "01b0a880",
   "metadata": {},
   "outputs": [
    {
     "data": {
      "text/plain": [
       "match_no\n",
       "1     1\n",
       "2    23\n",
       "3    13\n",
       "4    12\n",
       "5     1\n",
       "Name: runs, dtype: int64"
      ]
     },
     "execution_count": 74,
     "metadata": {},
     "output_type": "execute_result"
    }
   ],
   "source": [
    "neww"
   ]
  },
  {
   "cell_type": "code",
   "execution_count": 75,
   "id": "4fed275d",
   "metadata": {},
   "outputs": [],
   "source": [
    "# If we change the index 1 to 100 in new.\n",
    "neww[1]=100"
   ]
  },
  {
   "cell_type": "code",
   "execution_count": 76,
   "id": "63eeae12",
   "metadata": {},
   "outputs": [
    {
     "data": {
      "text/plain": [
       "match_no\n",
       "1    100\n",
       "2     23\n",
       "3     13\n",
       "4     12\n",
       "5      1\n",
       "Name: runs, dtype: int64"
      ]
     },
     "execution_count": 76,
     "metadata": {},
     "output_type": "execute_result"
    }
   ],
   "source": [
    "neww"
   ]
  },
  {
   "cell_type": "code",
   "execution_count": 77,
   "id": "14293c9d",
   "metadata": {},
   "outputs": [
    {
     "data": {
      "text/plain": [
       "match_no\n",
       "1       1\n",
       "2      23\n",
       "3      13\n",
       "4      12\n",
       "5       1\n",
       "       ..\n",
       "211     0\n",
       "212    20\n",
       "213    73\n",
       "214    25\n",
       "215     7\n",
       "Name: runs, Length: 215, dtype: int64"
      ]
     },
     "execution_count": 77,
     "metadata": {},
     "output_type": "execute_result"
    }
   ],
   "source": [
    "# The Index 1 is not Changed in the real dataset.\n",
    "vk"
   ]
  },
  {
   "cell_type": "code",
   "execution_count": null,
   "id": "741f9056",
   "metadata": {},
   "outputs": [],
   "source": [
    "# If you do not want to change your real dataset values then use \"Copy\"."
   ]
  },
  {
   "cell_type": "code",
   "execution_count": null,
   "id": "fdcccbaf",
   "metadata": {},
   "outputs": [],
   "source": []
  }
 ],
 "metadata": {
  "kernelspec": {
   "display_name": "Python 3 (ipykernel)",
   "language": "python",
   "name": "python3"
  },
  "language_info": {
   "codemirror_mode": {
    "name": "ipython",
    "version": 3
   },
   "file_extension": ".py",
   "mimetype": "text/x-python",
   "name": "python",
   "nbconvert_exporter": "python",
   "pygments_lexer": "ipython3",
   "version": "3.9.13"
  }
 },
 "nbformat": 4,
 "nbformat_minor": 5
}
