{
 "cells": [
  {
   "cell_type": "code",
   "execution_count": 1,
   "id": "927fdbb8",
   "metadata": {},
   "outputs": [],
   "source": [
    "mstr = \"sbsFabcX&^xyYz89abA&%ckBenabcDklkdE98abc*%\""
   ]
  },
  {
   "cell_type": "code",
   "execution_count": 2,
   "id": "697af4f5",
   "metadata": {},
   "outputs": [
    {
     "name": "stdout",
     "output_type": "stream",
     "text": [
      "sbsFabcX&^xyYz89abA&%ckBenabcDklkdE98abc*%\n"
     ]
    }
   ],
   "source": [
    "print(mstr)"
   ]
  },
  {
   "cell_type": "code",
   "execution_count": 3,
   "id": "4edbe8ce",
   "metadata": {},
   "outputs": [],
   "source": [
    "import re"
   ]
  },
  {
   "cell_type": "code",
   "execution_count": 4,
   "id": "5cbb5765",
   "metadata": {},
   "outputs": [
    {
     "name": "stdout",
     "output_type": "stream",
     "text": [
      "['abc', 'abc', 'abc']\n"
     ]
    }
   ],
   "source": [
    "res = re.findall(\"abc\", mstr)\n",
    "print(res)"
   ]
  },
  {
   "cell_type": "code",
   "execution_count": 5,
   "id": "531ff6f8",
   "metadata": {},
   "outputs": [
    {
     "name": "stdout",
     "output_type": "stream",
     "text": [
      "[]\n"
     ]
    }
   ],
   "source": [
    "res1 = re.findall(\"xyz\", mstr)\n",
    "print(res1)"
   ]
  },
  {
   "cell_type": "code",
   "execution_count": 6,
   "id": "a4142f7d",
   "metadata": {},
   "outputs": [
    {
     "data": {
      "text/plain": [
       "['b', 'a', 'b', 'c', 'a', 'b', 'c', 'a', 'b', 'c', 'a', 'b', 'c']"
      ]
     },
     "execution_count": 6,
     "metadata": {},
     "output_type": "execute_result"
    }
   ],
   "source": [
    "re.findall(\"[abc]\", mstr)"
   ]
  },
  {
   "cell_type": "code",
   "execution_count": 7,
   "id": "2c291347",
   "metadata": {},
   "outputs": [
    {
     "data": {
      "text/plain": [
       "['b', 'a', 'b', 'c', 'a', 'b', 'c', 'e', 'a', 'b', 'c', 'd', 'a', 'b', 'c']"
      ]
     },
     "execution_count": 7,
     "metadata": {},
     "output_type": "execute_result"
    }
   ],
   "source": [
    "re.findall(\"[abcdefg]\", mstr)"
   ]
  },
  {
   "cell_type": "code",
   "execution_count": 8,
   "id": "da6d34ae",
   "metadata": {},
   "outputs": [
    {
     "data": {
      "text/plain": [
       "['b', 'a', 'b', 'c', 'a', 'b', 'c', 'e', 'a', 'b', 'c', 'd', 'a', 'b', 'c']"
      ]
     },
     "execution_count": 8,
     "metadata": {},
     "output_type": "execute_result"
    }
   ],
   "source": [
    "re.findall(\"[a-g]\", mstr)"
   ]
  },
  {
   "cell_type": "code",
   "execution_count": 9,
   "id": "c98f7373",
   "metadata": {},
   "outputs": [
    {
     "data": {
      "text/plain": [
       "['s',\n",
       " 'b',\n",
       " 's',\n",
       " 'a',\n",
       " 'b',\n",
       " 'c',\n",
       " 'x',\n",
       " 'y',\n",
       " 'z',\n",
       " 'a',\n",
       " 'b',\n",
       " 'c',\n",
       " 'k',\n",
       " 'e',\n",
       " 'n',\n",
       " 'a',\n",
       " 'b',\n",
       " 'c',\n",
       " 'k',\n",
       " 'l',\n",
       " 'k',\n",
       " 'd',\n",
       " 'a',\n",
       " 'b',\n",
       " 'c']"
      ]
     },
     "execution_count": 9,
     "metadata": {},
     "output_type": "execute_result"
    }
   ],
   "source": [
    "re.findall(\"[a-z]\", mstr)"
   ]
  },
  {
   "cell_type": "code",
   "execution_count": 10,
   "id": "e21d713e",
   "metadata": {},
   "outputs": [
    {
     "data": {
      "text/plain": [
       "['F', 'X', 'Y', 'A', 'B', 'D', 'E']"
      ]
     },
     "execution_count": 10,
     "metadata": {},
     "output_type": "execute_result"
    }
   ],
   "source": [
    "re.findall(\"[A-Z]\", mstr)"
   ]
  },
  {
   "cell_type": "code",
   "execution_count": 11,
   "id": "653aaec1",
   "metadata": {},
   "outputs": [
    {
     "data": {
      "text/plain": [
       "['s',\n",
       " 'b',\n",
       " 's',\n",
       " 'F',\n",
       " 'a',\n",
       " 'b',\n",
       " 'c',\n",
       " 'X',\n",
       " 'x',\n",
       " 'y',\n",
       " 'Y',\n",
       " 'z',\n",
       " 'a',\n",
       " 'b',\n",
       " 'A',\n",
       " 'c',\n",
       " 'k',\n",
       " 'B',\n",
       " 'e',\n",
       " 'n',\n",
       " 'a',\n",
       " 'b',\n",
       " 'c',\n",
       " 'D',\n",
       " 'k',\n",
       " 'l',\n",
       " 'k',\n",
       " 'd',\n",
       " 'E',\n",
       " 'a',\n",
       " 'b',\n",
       " 'c']"
      ]
     },
     "execution_count": 11,
     "metadata": {},
     "output_type": "execute_result"
    }
   ],
   "source": [
    "re.findall(\"[a-zA-Z]\",mstr)"
   ]
  },
  {
   "cell_type": "code",
   "execution_count": 12,
   "id": "8ee2f0db",
   "metadata": {},
   "outputs": [
    {
     "data": {
      "text/plain": [
       "['8', '9', '9', '8']"
      ]
     },
     "execution_count": 12,
     "metadata": {},
     "output_type": "execute_result"
    }
   ],
   "source": [
    "re.findall(\"[0-9]\",mstr)"
   ]
  },
  {
   "cell_type": "code",
   "execution_count": 13,
   "id": "035b0524",
   "metadata": {},
   "outputs": [
    {
     "data": {
      "text/plain": [
       "['s',\n",
       " 'b',\n",
       " 's',\n",
       " 'F',\n",
       " 'a',\n",
       " 'b',\n",
       " 'c',\n",
       " 'X',\n",
       " 'x',\n",
       " 'y',\n",
       " 'Y',\n",
       " 'z',\n",
       " '8',\n",
       " '9',\n",
       " 'a',\n",
       " 'b',\n",
       " 'A',\n",
       " 'c',\n",
       " 'k',\n",
       " 'B',\n",
       " 'e',\n",
       " 'n',\n",
       " 'a',\n",
       " 'b',\n",
       " 'c',\n",
       " 'D',\n",
       " 'k',\n",
       " 'l',\n",
       " 'k',\n",
       " 'd',\n",
       " 'E',\n",
       " '9',\n",
       " '8',\n",
       " 'a',\n",
       " 'b',\n",
       " 'c']"
      ]
     },
     "execution_count": 13,
     "metadata": {},
     "output_type": "execute_result"
    }
   ],
   "source": [
    "re.findall(\"[a-zA-Z0-9]\",mstr)"
   ]
  },
  {
   "cell_type": "code",
   "execution_count": 14,
   "id": "fd3b2af5",
   "metadata": {},
   "outputs": [
    {
     "data": {
      "text/plain": [
       "['&', '^', '&', '%', '*', '%']"
      ]
     },
     "execution_count": 14,
     "metadata": {},
     "output_type": "execute_result"
    }
   ],
   "source": [
    "re.findall(\"[^a-zA-Z0-9]\",mstr)"
   ]
  },
  {
   "cell_type": "code",
   "execution_count": 15,
   "id": "4b47040e",
   "metadata": {},
   "outputs": [],
   "source": [
    "s = \"Apple9orange12kiwi8mange15red22blue\"\n",
    "\n"
   ]
  },
  {
   "cell_type": "code",
   "execution_count": 16,
   "id": "ca932cba",
   "metadata": {},
   "outputs": [
    {
     "data": {
      "text/plain": [
       "['9', '1', '2', '8', '1', '5', '2', '2']"
      ]
     },
     "execution_count": 16,
     "metadata": {},
     "output_type": "execute_result"
    }
   ],
   "source": [
    "re.findall(\"[0-9]\", s)"
   ]
  },
  {
   "cell_type": "code",
   "execution_count": 17,
   "id": "d368250a",
   "metadata": {},
   "outputs": [
    {
     "data": {
      "text/plain": [
       "['12', '15', '22']"
      ]
     },
     "execution_count": 17,
     "metadata": {},
     "output_type": "execute_result"
    }
   ],
   "source": [
    "re.findall(\"[0-9][0-9]\", s)"
   ]
  },
  {
   "cell_type": "code",
   "execution_count": 20,
   "id": "8b6c4abc",
   "metadata": {},
   "outputs": [
    {
     "data": {
      "text/plain": [
       "['98', '76', '54', '32', '43', '12', '84', '75', '15', '48', '56', '22']"
      ]
     },
     "execution_count": 20,
     "metadata": {},
     "output_type": "execute_result"
    }
   ],
   "source": [
    "s = \"Apple9876543243orange128475kiwi8mange15re4856d22blue\"\n",
    "re.findall(\"[0-9][0-9]\", s)"
   ]
  },
  {
   "cell_type": "code",
   "execution_count": 21,
   "id": "721b1f46",
   "metadata": {},
   "outputs": [
    {
     "data": {
      "text/plain": [
       "['98765', '43243', '12847']"
      ]
     },
     "execution_count": 21,
     "metadata": {},
     "output_type": "execute_result"
    }
   ],
   "source": [
    "re.findall(\"[0-9]{5}\", s)"
   ]
  },
  {
   "cell_type": "code",
   "execution_count": 22,
   "id": "7912565c",
   "metadata": {},
   "outputs": [
    {
     "data": {
      "text/plain": [
       "['9876543243']"
      ]
     },
     "execution_count": 22,
     "metadata": {},
     "output_type": "execute_result"
    }
   ],
   "source": [
    "re.findall(\"[0-9]{10}\", s)"
   ]
  },
  {
   "cell_type": "code",
   "execution_count": 23,
   "id": "5d86f517",
   "metadata": {},
   "outputs": [],
   "source": [
    "s = \"Apple9876543243ora1876543243nge128475ki8976543243wi8man3876543243ge15re4856d22blue\"\n"
   ]
  },
  {
   "cell_type": "code",
   "execution_count": 24,
   "id": "d45c21f1",
   "metadata": {},
   "outputs": [
    {
     "data": {
      "text/plain": [
       "['9876543243', '1876543243', '8976543243', '3876543243']"
      ]
     },
     "execution_count": 24,
     "metadata": {},
     "output_type": "execute_result"
    }
   ],
   "source": [
    "re.findall(\"[0-9]{10}\", s)"
   ]
  },
  {
   "cell_type": "code",
   "execution_count": 26,
   "id": "ae4a3017",
   "metadata": {},
   "outputs": [
    {
     "data": {
      "text/plain": [
       "['9876543243', '8976543243']"
      ]
     },
     "execution_count": 26,
     "metadata": {},
     "output_type": "execute_result"
    }
   ],
   "source": [
    "re.findall(\"[6789][0-9]{9}\", s)"
   ]
  },
  {
   "cell_type": "code",
   "execution_count": 27,
   "id": "aad17d58",
   "metadata": {},
   "outputs": [
    {
     "data": {
      "text/plain": [
       "['9876543243', '8976543243']"
      ]
     },
     "execution_count": 27,
     "metadata": {},
     "output_type": "execute_result"
    }
   ],
   "source": [
    "re.findall(\"[6-9][0-9]{9}\", s)"
   ]
  },
  {
   "cell_type": "code",
   "execution_count": 30,
   "id": "3f6746af",
   "metadata": {},
   "outputs": [
    {
     "name": "stdout",
     "output_type": "stream",
     "text": [
      "Apple9876543243ora1876543243nge128475ki8976543243wi8man3876543243ge15re4856d22blue\n",
      "Apple2876543243ora4876543243nge128475ki7976543243wi8man6876543243ge15re4856d22blue\n",
      "<class 'str'>\n",
      "['9876543243', '8976543243', '7976543243', '6876543243']\n"
     ]
    }
   ],
   "source": [
    "with open(\"ph.txt\", \"r\") as f :\n",
    "    \n",
    "    d = f.read()\n",
    "    print(d)\n",
    "    print(type(d))\n",
    "    \n",
    "    ph = re.findall(\"[6-9][0-9]{9}\", d)\n",
    "    print(ph)"
   ]
  },
  {
   "cell_type": "code",
   "execution_count": 41,
   "id": "54919310",
   "metadata": {},
   "outputs": [],
   "source": [
    "nstr = \"abc12xyz123mnp8674ksi27364s666666666666666666666666666666lc928638ldicd\""
   ]
  },
  {
   "cell_type": "code",
   "execution_count": 32,
   "id": "5f7e89fb",
   "metadata": {},
   "outputs": [
    {
     "data": {
      "text/plain": [
       "['1',\n",
       " '2',\n",
       " '1',\n",
       " '2',\n",
       " '3',\n",
       " '8',\n",
       " '6',\n",
       " '7',\n",
       " '4',\n",
       " '2',\n",
       " '7',\n",
       " '3',\n",
       " '6',\n",
       " '4',\n",
       " '9',\n",
       " '2',\n",
       " '8',\n",
       " '6',\n",
       " '3',\n",
       " '8']"
      ]
     },
     "execution_count": 32,
     "metadata": {},
     "output_type": "execute_result"
    }
   ],
   "source": [
    "re.findall(\"[0-9]\", nstr)"
   ]
  },
  {
   "cell_type": "code",
   "execution_count": 33,
   "id": "e0e2d771",
   "metadata": {},
   "outputs": [
    {
     "data": {
      "text/plain": [
       "['12', '12', '86', '74', '27', '36', '92', '86', '38']"
      ]
     },
     "execution_count": 33,
     "metadata": {},
     "output_type": "execute_result"
    }
   ],
   "source": [
    "re.findall(\"[0-9]{2}\", nstr)"
   ]
  },
  {
   "cell_type": "code",
   "execution_count": 34,
   "id": "d8ec3078",
   "metadata": {},
   "outputs": [
    {
     "data": {
      "text/plain": [
       "['123', '867', '273', '928', '638']"
      ]
     },
     "execution_count": 34,
     "metadata": {},
     "output_type": "execute_result"
    }
   ],
   "source": [
    "re.findall(\"[0-9]{3}\", nstr)"
   ]
  },
  {
   "cell_type": "code",
   "execution_count": 35,
   "id": "b3c77506",
   "metadata": {},
   "outputs": [
    {
     "data": {
      "text/plain": [
       "['8674', '2736', '9286']"
      ]
     },
     "execution_count": 35,
     "metadata": {},
     "output_type": "execute_result"
    }
   ],
   "source": [
    "re.findall(\"[0-9]{4}\", nstr)"
   ]
  },
  {
   "cell_type": "code",
   "execution_count": 36,
   "id": "df85c368",
   "metadata": {},
   "outputs": [
    {
     "data": {
      "text/plain": [
       "['12', '123', '8674', '2736', '9286', '38']"
      ]
     },
     "execution_count": 36,
     "metadata": {},
     "output_type": "execute_result"
    }
   ],
   "source": [
    "re.findall(\"[0-9]{2,4}\", nstr)"
   ]
  },
  {
   "cell_type": "code",
   "execution_count": 37,
   "id": "eebba17c",
   "metadata": {},
   "outputs": [
    {
     "data": {
      "text/plain": [
       "['123', '8674', '27364', '92863']"
      ]
     },
     "execution_count": 37,
     "metadata": {},
     "output_type": "execute_result"
    }
   ],
   "source": [
    "re.findall(\"[0-9]{3,5}\", nstr)"
   ]
  },
  {
   "cell_type": "code",
   "execution_count": 38,
   "id": "8acc3ca5",
   "metadata": {},
   "outputs": [
    {
     "data": {
      "text/plain": [
       "['12', '123', '8674', '27364', '92863', '8']"
      ]
     },
     "execution_count": 38,
     "metadata": {},
     "output_type": "execute_result"
    }
   ],
   "source": [
    "re.findall(\"[0-9]{1,5}\", nstr)"
   ]
  },
  {
   "cell_type": "code",
   "execution_count": 42,
   "id": "39d11de8",
   "metadata": {},
   "outputs": [
    {
     "data": {
      "text/plain": [
       "['12', '123', '8674', '27364', '666666666666666666666666666666', '928638']"
      ]
     },
     "execution_count": 42,
     "metadata": {},
     "output_type": "execute_result"
    }
   ],
   "source": [
    "re.findall(\"[0-9]{1,}\", nstr)"
   ]
  },
  {
   "cell_type": "code",
   "execution_count": 43,
   "id": "a2d391e5",
   "metadata": {},
   "outputs": [
    {
     "data": {
      "text/plain": [
       "['12', '123', '8674', '27364', '666666666666666666666666666666', '928638']"
      ]
     },
     "execution_count": 43,
     "metadata": {},
     "output_type": "execute_result"
    }
   ],
   "source": [
    "re.findall(\"[0-9]+\", nstr)"
   ]
  },
  {
   "cell_type": "code",
   "execution_count": 44,
   "id": "5b614b9e",
   "metadata": {},
   "outputs": [
    {
     "data": {
      "text/plain": [
       "['abc', 'xyz', 'mnp', 'ksi', 's', 'lc', 'ldicd']"
      ]
     },
     "execution_count": 44,
     "metadata": {},
     "output_type": "execute_result"
    }
   ],
   "source": [
    "re.findall(\"[a-z]+\", nstr)"
   ]
  },
  {
   "cell_type": "code",
   "execution_count": null,
   "id": "2433d806",
   "metadata": {},
   "outputs": [],
   "source": []
  }
 ],
 "metadata": {
  "kernelspec": {
   "display_name": "Python 3 (ipykernel)",
   "language": "python",
   "name": "python3"
  },
  "language_info": {
   "codemirror_mode": {
    "name": "ipython",
    "version": 3
   },
   "file_extension": ".py",
   "mimetype": "text/x-python",
   "name": "python",
   "nbconvert_exporter": "python",
   "pygments_lexer": "ipython3",
   "version": "3.9.13"
  }
 },
 "nbformat": 4,
 "nbformat_minor": 5
}
