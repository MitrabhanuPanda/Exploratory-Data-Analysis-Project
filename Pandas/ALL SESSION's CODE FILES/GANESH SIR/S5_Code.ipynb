{
 "cells": [
  {
   "cell_type": "code",
   "execution_count": 1,
   "id": "dbaf43d8",
   "metadata": {},
   "outputs": [
    {
     "data": {
      "text/html": [
       "<div>\n",
       "<style scoped>\n",
       "    .dataframe tbody tr th:only-of-type {\n",
       "        vertical-align: middle;\n",
       "    }\n",
       "\n",
       "    .dataframe tbody tr th {\n",
       "        vertical-align: top;\n",
       "    }\n",
       "\n",
       "    .dataframe thead th {\n",
       "        text-align: right;\n",
       "    }\n",
       "</style>\n",
       "<table border=\"1\" class=\"dataframe\">\n",
       "  <thead>\n",
       "    <tr style=\"text-align: right;\">\n",
       "      <th></th>\n",
       "      <th>CUSTOMER_ID</th>\n",
       "      <th>Company</th>\n",
       "      <th>CARD_REG_DATE</th>\n",
       "      <th>CARD_ACTIVE</th>\n",
       "      <th>FIRST_USE_DTE</th>\n",
       "      <th>firstSTOR</th>\n",
       "      <th>TITLE</th>\n",
       "      <th>GENDER</th>\n",
       "      <th>max spent</th>\n",
       "      <th>DOB</th>\n",
       "      <th>...</th>\n",
       "      <th>CUST_STAT</th>\n",
       "      <th>Avgsize spent</th>\n",
       "      <th>CARD_STAT</th>\n",
       "      <th>RGSTN_TYPE_IND</th>\n",
       "      <th>NO_OF_TRIPS</th>\n",
       "      <th>TOWN</th>\n",
       "      <th>EMAIL_IND</th>\n",
       "      <th>CONTACT_PREF</th>\n",
       "      <th>Average_Qty_PER_ACC</th>\n",
       "      <th>Spent amount</th>\n",
       "    </tr>\n",
       "  </thead>\n",
       "  <tbody>\n",
       "    <tr>\n",
       "      <th>0</th>\n",
       "      <td>1000032547</td>\n",
       "      <td>MED +</td>\n",
       "      <td>2006-09-12 00:00:00</td>\n",
       "      <td>Y</td>\n",
       "      <td>2007-05-12 00:00:00</td>\n",
       "      <td>2587</td>\n",
       "      <td>Mrs.</td>\n",
       "      <td>Female</td>\n",
       "      <td>56.31</td>\n",
       "      <td>1984-09-15</td>\n",
       "      <td>...</td>\n",
       "      <td>Active</td>\n",
       "      <td>17.34</td>\n",
       "      <td>Registered</td>\n",
       "      <td>Online</td>\n",
       "      <td>4</td>\n",
       "      <td>Kyabram</td>\n",
       "      <td>Y</td>\n",
       "      <td>Email</td>\n",
       "      <td>2.75</td>\n",
       "      <td>69.37</td>\n",
       "    </tr>\n",
       "    <tr>\n",
       "      <th>1</th>\n",
       "      <td>1000032548</td>\n",
       "      <td>DR.REDDYS</td>\n",
       "      <td>2006-09-12 00:00:00</td>\n",
       "      <td>Y</td>\n",
       "      <td>2007-03-12 00:00:00</td>\n",
       "      <td>4341</td>\n",
       "      <td>Ms.</td>\n",
       "      <td>Female</td>\n",
       "      <td>598.95</td>\n",
       "      <td>1974-07-15</td>\n",
       "      <td>...</td>\n",
       "      <td>Active</td>\n",
       "      <td>29.32</td>\n",
       "      <td>Registered</td>\n",
       "      <td>Online</td>\n",
       "      <td>17</td>\n",
       "      <td>Hawthorn East</td>\n",
       "      <td>Y</td>\n",
       "      <td>Email</td>\n",
       "      <td>7.29</td>\n",
       "      <td>498.50</td>\n",
       "    </tr>\n",
       "    <tr>\n",
       "      <th>2</th>\n",
       "      <td>1000032549</td>\n",
       "      <td>RELEGARE</td>\n",
       "      <td>2006-09-12 00:00:00</td>\n",
       "      <td>Y</td>\n",
       "      <td>2007-02-12 00:00:00</td>\n",
       "      <td>1090</td>\n",
       "      <td>Mrs.</td>\n",
       "      <td>Female</td>\n",
       "      <td>1.56</td>\n",
       "      <td>1959-04-01</td>\n",
       "      <td>...</td>\n",
       "      <td>Active</td>\n",
       "      <td>1.56</td>\n",
       "      <td>Registered</td>\n",
       "      <td>Online</td>\n",
       "      <td>1</td>\n",
       "      <td>Revesby</td>\n",
       "      <td>Y</td>\n",
       "      <td>Email</td>\n",
       "      <td>2.00</td>\n",
       "      <td>1.56</td>\n",
       "    </tr>\n",
       "    <tr>\n",
       "      <th>3</th>\n",
       "      <td>1000032550</td>\n",
       "      <td>GSK</td>\n",
       "      <td>2006-09-12 00:00:00</td>\n",
       "      <td>Y</td>\n",
       "      <td>2007-03-12 00:00:00</td>\n",
       "      <td>3179</td>\n",
       "      <td>Mr.</td>\n",
       "      <td>Male</td>\n",
       "      <td>115.76</td>\n",
       "      <td>1978-05-16</td>\n",
       "      <td>...</td>\n",
       "      <td>Active</td>\n",
       "      <td>80.49</td>\n",
       "      <td>Registered</td>\n",
       "      <td>Online</td>\n",
       "      <td>2</td>\n",
       "      <td>Willow Grove</td>\n",
       "      <td>Y</td>\n",
       "      <td>Email</td>\n",
       "      <td>26.00</td>\n",
       "      <td>160.98</td>\n",
       "    </tr>\n",
       "    <tr>\n",
       "      <th>4</th>\n",
       "      <td>1000032551</td>\n",
       "      <td>GSK</td>\n",
       "      <td>2006-09-12 00:00:00</td>\n",
       "      <td>Y</td>\n",
       "      <td>2007-05-12 00:00:00</td>\n",
       "      <td>3135</td>\n",
       "      <td>Mr.</td>\n",
       "      <td>Male</td>\n",
       "      <td>305.90</td>\n",
       "      <td>1978-12-16</td>\n",
       "      <td>...</td>\n",
       "      <td>Active</td>\n",
       "      <td>24.09</td>\n",
       "      <td>Registered</td>\n",
       "      <td>Online</td>\n",
       "      <td>12</td>\n",
       "      <td>mona vale</td>\n",
       "      <td>Y</td>\n",
       "      <td>Email</td>\n",
       "      <td>6.33</td>\n",
       "      <td>289.10</td>\n",
       "    </tr>\n",
       "    <tr>\n",
       "      <th>...</th>\n",
       "      <td>...</td>\n",
       "      <td>...</td>\n",
       "      <td>...</td>\n",
       "      <td>...</td>\n",
       "      <td>...</td>\n",
       "      <td>...</td>\n",
       "      <td>...</td>\n",
       "      <td>...</td>\n",
       "      <td>...</td>\n",
       "      <td>...</td>\n",
       "      <td>...</td>\n",
       "      <td>...</td>\n",
       "      <td>...</td>\n",
       "      <td>...</td>\n",
       "      <td>...</td>\n",
       "      <td>...</td>\n",
       "      <td>...</td>\n",
       "      <td>...</td>\n",
       "      <td>...</td>\n",
       "      <td>...</td>\n",
       "      <td>...</td>\n",
       "    </tr>\n",
       "    <tr>\n",
       "      <th>5107</th>\n",
       "      <td>1000037830</td>\n",
       "      <td>RELEGARE</td>\n",
       "      <td>2008-05-06 00:00:00</td>\n",
       "      <td>Y</td>\n",
       "      <td>2009-05-02 00:00:00</td>\n",
       "      <td>3381</td>\n",
       "      <td>Mr.</td>\n",
       "      <td>Male</td>\n",
       "      <td>198.36</td>\n",
       "      <td>1935-11-23</td>\n",
       "      <td>...</td>\n",
       "      <td>Active</td>\n",
       "      <td>66.12</td>\n",
       "      <td>Registered</td>\n",
       "      <td>Online</td>\n",
       "      <td>3</td>\n",
       "      <td>Kyvalley</td>\n",
       "      <td>N</td>\n",
       "      <td>NaN</td>\n",
       "      <td>21.33</td>\n",
       "      <td>198.36</td>\n",
       "    </tr>\n",
       "    <tr>\n",
       "      <th>5108</th>\n",
       "      <td>1000037831</td>\n",
       "      <td>APPOLO</td>\n",
       "      <td>2008-05-06 00:00:00</td>\n",
       "      <td>Y</td>\n",
       "      <td>2008-10-06 00:00:00</td>\n",
       "      <td>3244</td>\n",
       "      <td>Mrs.</td>\n",
       "      <td>Female</td>\n",
       "      <td>28.09</td>\n",
       "      <td>1956-08-27</td>\n",
       "      <td>...</td>\n",
       "      <td>Active</td>\n",
       "      <td>28.09</td>\n",
       "      <td>Registered</td>\n",
       "      <td>Online</td>\n",
       "      <td>1</td>\n",
       "      <td>frankston</td>\n",
       "      <td>Y</td>\n",
       "      <td>Email</td>\n",
       "      <td>10.00</td>\n",
       "      <td>28.09</td>\n",
       "    </tr>\n",
       "    <tr>\n",
       "      <th>5109</th>\n",
       "      <td>1000037832</td>\n",
       "      <td>GSK</td>\n",
       "      <td>2008-05-06 00:00:00</td>\n",
       "      <td>Y</td>\n",
       "      <td>2009-05-04 00:00:00</td>\n",
       "      <td>3381</td>\n",
       "      <td>Mrs.</td>\n",
       "      <td>Female</td>\n",
       "      <td>653.10</td>\n",
       "      <td>1982-05-13</td>\n",
       "      <td>...</td>\n",
       "      <td>Active</td>\n",
       "      <td>94.77</td>\n",
       "      <td>Registered</td>\n",
       "      <td>Phone</td>\n",
       "      <td>9</td>\n",
       "      <td>KYABRAM</td>\n",
       "      <td>N</td>\n",
       "      <td>NaN</td>\n",
       "      <td>27.44</td>\n",
       "      <td>852.98</td>\n",
       "    </tr>\n",
       "    <tr>\n",
       "      <th>5110</th>\n",
       "      <td>1000037833</td>\n",
       "      <td>MED +</td>\n",
       "      <td>2008-05-06 00:00:00</td>\n",
       "      <td>Y</td>\n",
       "      <td>2009-06-10 00:00:00</td>\n",
       "      <td>3130</td>\n",
       "      <td>Ms.</td>\n",
       "      <td>Female</td>\n",
       "      <td>228.55</td>\n",
       "      <td>1960-01-14</td>\n",
       "      <td>...</td>\n",
       "      <td>Active</td>\n",
       "      <td>38.09</td>\n",
       "      <td>Registered</td>\n",
       "      <td>Online</td>\n",
       "      <td>6</td>\n",
       "      <td>Mulgrave</td>\n",
       "      <td>Y</td>\n",
       "      <td>Email</td>\n",
       "      <td>8.00</td>\n",
       "      <td>228.55</td>\n",
       "    </tr>\n",
       "    <tr>\n",
       "      <th>5111</th>\n",
       "      <td>1000037834</td>\n",
       "      <td>RANBAXY</td>\n",
       "      <td>2008-05-06 00:00:00</td>\n",
       "      <td>Y</td>\n",
       "      <td>2009-05-04 00:00:00</td>\n",
       "      <td>3363</td>\n",
       "      <td>Mrs.</td>\n",
       "      <td>Female</td>\n",
       "      <td>26.35</td>\n",
       "      <td>1971-12-22</td>\n",
       "      <td>...</td>\n",
       "      <td>Active</td>\n",
       "      <td>26.35</td>\n",
       "      <td>Registered</td>\n",
       "      <td>Instore/RF</td>\n",
       "      <td>1</td>\n",
       "      <td>WODONGA</td>\n",
       "      <td>Y</td>\n",
       "      <td>NaN</td>\n",
       "      <td>7.00</td>\n",
       "      <td>26.35</td>\n",
       "    </tr>\n",
       "  </tbody>\n",
       "</table>\n",
       "<p>5112 rows × 24 columns</p>\n",
       "</div>"
      ],
      "text/plain": [
       "      CUSTOMER_ID    Company        CARD_REG_DATE CARD_ACTIVE  \\\n",
       "0      1000032547      MED +  2006-09-12 00:00:00           Y   \n",
       "1      1000032548  DR.REDDYS  2006-09-12 00:00:00           Y   \n",
       "2      1000032549   RELEGARE  2006-09-12 00:00:00           Y   \n",
       "3      1000032550        GSK  2006-09-12 00:00:00           Y   \n",
       "4      1000032551        GSK  2006-09-12 00:00:00           Y   \n",
       "...           ...        ...                  ...         ...   \n",
       "5107   1000037830   RELEGARE  2008-05-06 00:00:00           Y   \n",
       "5108   1000037831     APPOLO  2008-05-06 00:00:00           Y   \n",
       "5109   1000037832        GSK  2008-05-06 00:00:00           Y   \n",
       "5110   1000037833      MED +  2008-05-06 00:00:00           Y   \n",
       "5111   1000037834    RANBAXY  2008-05-06 00:00:00           Y   \n",
       "\n",
       "            FIRST_USE_DTE  firstSTOR TITLE  GENDER  max spent        DOB  ...  \\\n",
       "0     2007-05-12 00:00:00       2587  Mrs.  Female      56.31 1984-09-15  ...   \n",
       "1     2007-03-12 00:00:00       4341   Ms.  Female     598.95 1974-07-15  ...   \n",
       "2     2007-02-12 00:00:00       1090  Mrs.  Female       1.56 1959-04-01  ...   \n",
       "3     2007-03-12 00:00:00       3179   Mr.    Male     115.76 1978-05-16  ...   \n",
       "4     2007-05-12 00:00:00       3135   Mr.    Male     305.90 1978-12-16  ...   \n",
       "...                   ...        ...   ...     ...        ...        ...  ...   \n",
       "5107  2009-05-02 00:00:00       3381   Mr.    Male     198.36 1935-11-23  ...   \n",
       "5108  2008-10-06 00:00:00       3244  Mrs.  Female      28.09 1956-08-27  ...   \n",
       "5109  2009-05-04 00:00:00       3381  Mrs.  Female     653.10 1982-05-13  ...   \n",
       "5110  2009-06-10 00:00:00       3130   Ms.  Female     228.55 1960-01-14  ...   \n",
       "5111  2009-05-04 00:00:00       3363  Mrs.  Female      26.35 1971-12-22  ...   \n",
       "\n",
       "     CUST_STAT  Avgsize spent   CARD_STAT  RGSTN_TYPE_IND NO_OF_TRIPS  \\\n",
       "0       Active          17.34  Registered          Online           4   \n",
       "1       Active          29.32  Registered          Online          17   \n",
       "2       Active           1.56  Registered          Online           1   \n",
       "3       Active          80.49  Registered          Online           2   \n",
       "4       Active          24.09  Registered          Online          12   \n",
       "...        ...            ...         ...             ...         ...   \n",
       "5107    Active          66.12  Registered          Online           3   \n",
       "5108    Active          28.09  Registered          Online           1   \n",
       "5109    Active          94.77  Registered           Phone           9   \n",
       "5110    Active          38.09  Registered          Online           6   \n",
       "5111    Active          26.35  Registered      Instore/RF           1   \n",
       "\n",
       "               TOWN EMAIL_IND CONTACT_PREF  Average_Qty_PER_ACC Spent amount  \n",
       "0           Kyabram         Y        Email                 2.75        69.37  \n",
       "1     Hawthorn East         Y        Email                 7.29       498.50  \n",
       "2           Revesby         Y        Email                 2.00         1.56  \n",
       "3      Willow Grove         Y        Email                26.00       160.98  \n",
       "4         mona vale         Y        Email                 6.33       289.10  \n",
       "...             ...       ...          ...                  ...          ...  \n",
       "5107       Kyvalley         N          NaN                21.33       198.36  \n",
       "5108      frankston         Y        Email                10.00        28.09  \n",
       "5109        KYABRAM         N          NaN                27.44       852.98  \n",
       "5110       Mulgrave         Y        Email                 8.00       228.55  \n",
       "5111        WODONGA         Y          NaN                 7.00        26.35  \n",
       "\n",
       "[5112 rows x 24 columns]"
      ]
     },
     "execution_count": 1,
     "metadata": {},
     "output_type": "execute_result"
    }
   ],
   "source": [
    "import pandas as pd\n",
    "med_2023=pd.read_excel(\"E:\\Python\\SESSION-1\\A2.RAW_DATA\\MED_STORE_2022.xlsx\",sheet_name=\"MED_AUS_DATA\")\n",
    "med_2023"
   ]
  },
  {
   "cell_type": "code",
   "execution_count": 2,
   "id": "a6d491bd",
   "metadata": {},
   "outputs": [],
   "source": [
    "import numpy as np\n"
   ]
  },
  {
   "cell_type": "code",
   "execution_count": 3,
   "id": "39d11f8f",
   "metadata": {},
   "outputs": [],
   "source": [
    "income=np.array([120,140,150,190,145])"
   ]
  },
  {
   "cell_type": "code",
   "execution_count": 4,
   "id": "97b2316e",
   "metadata": {},
   "outputs": [
    {
     "data": {
      "text/plain": [
       "array([120, 140, 150, 190, 145])"
      ]
     },
     "execution_count": 4,
     "metadata": {},
     "output_type": "execute_result"
    }
   ],
   "source": [
    "income"
   ]
  },
  {
   "cell_type": "code",
   "execution_count": 5,
   "id": "e60d7c01",
   "metadata": {},
   "outputs": [],
   "source": [
    "income1=[120,140,150,190,145]"
   ]
  },
  {
   "cell_type": "markdown",
   "id": "f7e353e7",
   "metadata": {},
   "source": [
    "# Difference between list and array"
   ]
  },
  {
   "cell_type": "code",
   "execution_count": 6,
   "id": "97e26007",
   "metadata": {},
   "outputs": [
    {
     "data": {
      "text/plain": [
       "array([48., 56., 60., 76., 58.])"
      ]
     },
     "execution_count": 6,
     "metadata": {},
     "output_type": "execute_result"
    }
   ],
   "source": [
    "expense =income *0.4\n",
    "expense"
   ]
  },
  {
   "cell_type": "code",
   "execution_count": 7,
   "id": "438b2a8d",
   "metadata": {},
   "outputs": [
    {
     "ename": "TypeError",
     "evalue": "can't multiply sequence by non-int of type 'float'",
     "output_type": "error",
     "traceback": [
      "\u001b[1;31m---------------------------------------------------------------------------\u001b[0m",
      "\u001b[1;31mTypeError\u001b[0m                                 Traceback (most recent call last)",
      "Input \u001b[1;32mIn [7]\u001b[0m, in \u001b[0;36m<cell line: 1>\u001b[1;34m()\u001b[0m\n\u001b[1;32m----> 1\u001b[0m expense1\u001b[38;5;241m=\u001b[39m\u001b[43mincome1\u001b[49m\u001b[43m \u001b[49m\u001b[38;5;241;43m*\u001b[39;49m\u001b[43m \u001b[49m\u001b[38;5;241;43m0.4\u001b[39;49m\n",
      "\u001b[1;31mTypeError\u001b[0m: can't multiply sequence by non-int of type 'float'"
     ]
    }
   ],
   "source": [
    "expense1=income1 * 0.4"
   ]
  },
  {
   "cell_type": "code",
   "execution_count": 8,
   "id": "8de9d177",
   "metadata": {},
   "outputs": [
    {
     "data": {
      "text/plain": [
       "array([ 72.,  84.,  90., 114.,  87.])"
      ]
     },
     "execution_count": 8,
     "metadata": {},
     "output_type": "execute_result"
    }
   ],
   "source": [
    "savings=income-expense\n",
    "savings"
   ]
  },
  {
   "cell_type": "code",
   "execution_count": 9,
   "id": "16fd42ef",
   "metadata": {},
   "outputs": [
    {
     "data": {
      "text/plain": [
       "array(['23', '34', '31', '27', 'a'], dtype='<U11')"
      ]
     },
     "execution_count": 9,
     "metadata": {},
     "output_type": "execute_result"
    }
   ],
   "source": [
    "x1=np.array([23,34,31,27,'a'])\n",
    "x1"
   ]
  },
  {
   "cell_type": "code",
   "execution_count": 10,
   "id": "eabc4588",
   "metadata": {},
   "outputs": [
    {
     "data": {
      "text/plain": [
       "[23, 23, 45, 64, 61, 'a', 'b']"
      ]
     },
     "execution_count": 10,
     "metadata": {},
     "output_type": "execute_result"
    }
   ],
   "source": [
    "x2=[23,23,45,64,61,'a','b']\n",
    "x2"
   ]
  },
  {
   "cell_type": "markdown",
   "id": "9f781f40",
   "metadata": {},
   "source": [
    "# N-dimensional Arrays"
   ]
  },
  {
   "cell_type": "code",
   "execution_count": 11,
   "id": "b4b4d7ec",
   "metadata": {},
   "outputs": [
    {
     "ename": "TypeError",
     "evalue": "Field elements must be 2- or 3-tuples, got '43'",
     "output_type": "error",
     "traceback": [
      "\u001b[1;31m---------------------------------------------------------------------------\u001b[0m",
      "\u001b[1;31mTypeError\u001b[0m                                 Traceback (most recent call last)",
      "Input \u001b[1;32mIn [11]\u001b[0m, in \u001b[0;36m<cell line: 1>\u001b[1;34m()\u001b[0m\n\u001b[1;32m----> 1\u001b[0m a\u001b[38;5;241m=\u001b[39m\u001b[43mnp\u001b[49m\u001b[38;5;241;43m.\u001b[39;49m\u001b[43marray\u001b[49m\u001b[43m(\u001b[49m\u001b[43m[\u001b[49m\u001b[38;5;241;43m12\u001b[39;49m\u001b[43m,\u001b[49m\u001b[38;5;241;43m31\u001b[39;49m\u001b[43m,\u001b[49m\u001b[38;5;241;43m43\u001b[39;49m\u001b[43m]\u001b[49m\u001b[43m,\u001b[49m\u001b[43m[\u001b[49m\u001b[38;5;241;43m43\u001b[39;49m\u001b[43m,\u001b[49m\u001b[38;5;241;43m55\u001b[39;49m\u001b[43m,\u001b[49m\u001b[38;5;241;43m81\u001b[39;49m\u001b[43m]\u001b[49m\u001b[43m)\u001b[49m\n\u001b[0;32m      2\u001b[0m a\n",
      "\u001b[1;31mTypeError\u001b[0m: Field elements must be 2- or 3-tuples, got '43'"
     ]
    }
   ],
   "source": [
    "a=np.array([12,31,43],[43,55,81])\n",
    "a"
   ]
  },
  {
   "cell_type": "code",
   "execution_count": 12,
   "id": "22784c34",
   "metadata": {},
   "outputs": [
    {
     "data": {
      "text/plain": [
       "array([[12, 31, 43],\n",
       "       [43, 55, 81]])"
      ]
     },
     "execution_count": 12,
     "metadata": {},
     "output_type": "execute_result"
    }
   ],
   "source": [
    "a=np.array([[12,31,43],[43,55,81]])\n",
    "a"
   ]
  },
  {
   "cell_type": "code",
   "execution_count": 13,
   "id": "e09f83a9",
   "metadata": {},
   "outputs": [
    {
     "data": {
      "text/plain": [
       "array([[23, 34],\n",
       "       [41, 23],\n",
       "       [54, 56]])"
      ]
     },
     "execution_count": 13,
     "metadata": {},
     "output_type": "execute_result"
    }
   ],
   "source": [
    "b=np.array([[23,34],[41,23],[54,56]])\n",
    "b"
   ]
  },
  {
   "cell_type": "code",
   "execution_count": 14,
   "id": "4478a6fc",
   "metadata": {},
   "outputs": [
    {
     "name": "stderr",
     "output_type": "stream",
     "text": [
      "C:\\Users\\DELL\\AppData\\Local\\Temp\\ipykernel_19636\\1235501030.py:1: VisibleDeprecationWarning: Creating an ndarray from ragged nested sequences (which is a list-or-tuple of lists-or-tuples-or ndarrays with different lengths or shapes) is deprecated. If you meant to do this, you must specify 'dtype=object' when creating the ndarray.\n",
      "  a=np.array([[12,31,43],[43,55,]])\n"
     ]
    },
    {
     "data": {
      "text/plain": [
       "array([list([12, 31, 43]), list([43, 55])], dtype=object)"
      ]
     },
     "execution_count": 14,
     "metadata": {},
     "output_type": "execute_result"
    }
   ],
   "source": [
    "a=np.array([[12,31,43],[43,55,]])\n",
    "a"
   ]
  },
  {
   "cell_type": "markdown",
   "id": "2bd442cf",
   "metadata": {},
   "source": [
    "# How to get the size, shape and dimension of arrays"
   ]
  },
  {
   "cell_type": "code",
   "execution_count": 15,
   "id": "c57ced0c",
   "metadata": {},
   "outputs": [
    {
     "data": {
      "text/plain": [
       "array([[12, 31, 43],\n",
       "       [43, 55, 81]])"
      ]
     },
     "execution_count": 15,
     "metadata": {},
     "output_type": "execute_result"
    }
   ],
   "source": [
    "a=np.array([[12,31,43],[43,55,81]])\n",
    "a"
   ]
  },
  {
   "cell_type": "code",
   "execution_count": 17,
   "id": "b8fa57fd",
   "metadata": {},
   "outputs": [
    {
     "data": {
      "text/plain": [
       "array([[23, 34],\n",
       "       [41, 23],\n",
       "       [54, 56]])"
      ]
     },
     "execution_count": 17,
     "metadata": {},
     "output_type": "execute_result"
    }
   ],
   "source": [
    "b=np.array([[23,34],[41,23],[54,56]])\n",
    "b"
   ]
  },
  {
   "cell_type": "code",
   "execution_count": 16,
   "id": "735d9106",
   "metadata": {},
   "outputs": [
    {
     "data": {
      "text/plain": [
       "(2, 3)"
      ]
     },
     "execution_count": 16,
     "metadata": {},
     "output_type": "execute_result"
    }
   ],
   "source": [
    "a.shape"
   ]
  },
  {
   "cell_type": "code",
   "execution_count": 18,
   "id": "cf7fd6ae",
   "metadata": {},
   "outputs": [
    {
     "data": {
      "text/plain": [
       "(3, 2)"
      ]
     },
     "execution_count": 18,
     "metadata": {},
     "output_type": "execute_result"
    }
   ],
   "source": [
    "b.shape"
   ]
  },
  {
   "cell_type": "code",
   "execution_count": 19,
   "id": "6a9503f7",
   "metadata": {},
   "outputs": [
    {
     "data": {
      "text/plain": [
       "6"
      ]
     },
     "execution_count": 19,
     "metadata": {},
     "output_type": "execute_result"
    }
   ],
   "source": [
    "a.size"
   ]
  },
  {
   "cell_type": "code",
   "execution_count": 20,
   "id": "97713044",
   "metadata": {},
   "outputs": [
    {
     "data": {
      "text/plain": [
       "2"
      ]
     },
     "execution_count": 20,
     "metadata": {},
     "output_type": "execute_result"
    }
   ],
   "source": [
    "a.ndim"
   ]
  },
  {
   "cell_type": "code",
   "execution_count": 21,
   "id": "2e2c0412",
   "metadata": {},
   "outputs": [
    {
     "data": {
      "text/plain": [
       "array([[[23, 32, 21],\n",
       "        [34, 45, 41],\n",
       "        [45, 67, 78]]])"
      ]
     },
     "execution_count": 21,
     "metadata": {},
     "output_type": "execute_result"
    }
   ],
   "source": [
    "c=np.array([[[23,32,21],[34,45,41],[45,67,78]]])\n",
    "c"
   ]
  },
  {
   "cell_type": "code",
   "execution_count": 22,
   "id": "3a22336a",
   "metadata": {},
   "outputs": [
    {
     "data": {
      "text/plain": [
       "(1, 3, 3)"
      ]
     },
     "execution_count": 22,
     "metadata": {},
     "output_type": "execute_result"
    }
   ],
   "source": [
    "c.shape"
   ]
  },
  {
   "cell_type": "code",
   "execution_count": 23,
   "id": "a53d7eb9",
   "metadata": {},
   "outputs": [
    {
     "data": {
      "text/plain": [
       "9"
      ]
     },
     "execution_count": 23,
     "metadata": {},
     "output_type": "execute_result"
    }
   ],
   "source": [
    "c.size"
   ]
  },
  {
   "cell_type": "code",
   "execution_count": 24,
   "id": "b2e63397",
   "metadata": {},
   "outputs": [
    {
     "data": {
      "text/plain": [
       "3"
      ]
     },
     "execution_count": 24,
     "metadata": {},
     "output_type": "execute_result"
    }
   ],
   "source": [
    "c.ndim"
   ]
  },
  {
   "cell_type": "markdown",
   "id": "b718367f",
   "metadata": {},
   "source": [
    "# Real time use of arrays"
   ]
  },
  {
   "cell_type": "code",
   "execution_count": 25,
   "id": "78d6259d",
   "metadata": {},
   "outputs": [
    {
     "data": {
      "text/html": [
       "<div>\n",
       "<style scoped>\n",
       "    .dataframe tbody tr th:only-of-type {\n",
       "        vertical-align: middle;\n",
       "    }\n",
       "\n",
       "    .dataframe tbody tr th {\n",
       "        vertical-align: top;\n",
       "    }\n",
       "\n",
       "    .dataframe thead th {\n",
       "        text-align: right;\n",
       "    }\n",
       "</style>\n",
       "<table border=\"1\" class=\"dataframe\">\n",
       "  <thead>\n",
       "    <tr style=\"text-align: right;\">\n",
       "      <th></th>\n",
       "      <th>CUSTOMER_ID</th>\n",
       "      <th>Company</th>\n",
       "      <th>CARD_REG_DATE</th>\n",
       "      <th>CARD_ACTIVE</th>\n",
       "      <th>FIRST_USE_DTE</th>\n",
       "      <th>firstSTOR</th>\n",
       "      <th>TITLE</th>\n",
       "      <th>GENDER</th>\n",
       "      <th>max spent</th>\n",
       "      <th>DOB</th>\n",
       "      <th>...</th>\n",
       "      <th>CUST_STAT</th>\n",
       "      <th>Avgsize spent</th>\n",
       "      <th>CARD_STAT</th>\n",
       "      <th>RGSTN_TYPE_IND</th>\n",
       "      <th>NO_OF_TRIPS</th>\n",
       "      <th>TOWN</th>\n",
       "      <th>EMAIL_IND</th>\n",
       "      <th>CONTACT_PREF</th>\n",
       "      <th>Average_Qty_PER_ACC</th>\n",
       "      <th>Spent amount</th>\n",
       "    </tr>\n",
       "  </thead>\n",
       "  <tbody>\n",
       "    <tr>\n",
       "      <th>0</th>\n",
       "      <td>1000032547</td>\n",
       "      <td>MED +</td>\n",
       "      <td>2006-09-12 00:00:00</td>\n",
       "      <td>Y</td>\n",
       "      <td>2007-05-12 00:00:00</td>\n",
       "      <td>2587</td>\n",
       "      <td>Mrs.</td>\n",
       "      <td>Female</td>\n",
       "      <td>56.31</td>\n",
       "      <td>1984-09-15</td>\n",
       "      <td>...</td>\n",
       "      <td>Active</td>\n",
       "      <td>17.34</td>\n",
       "      <td>Registered</td>\n",
       "      <td>Online</td>\n",
       "      <td>4</td>\n",
       "      <td>Kyabram</td>\n",
       "      <td>Y</td>\n",
       "      <td>Email</td>\n",
       "      <td>2.75</td>\n",
       "      <td>69.37</td>\n",
       "    </tr>\n",
       "    <tr>\n",
       "      <th>1</th>\n",
       "      <td>1000032548</td>\n",
       "      <td>DR.REDDYS</td>\n",
       "      <td>2006-09-12 00:00:00</td>\n",
       "      <td>Y</td>\n",
       "      <td>2007-03-12 00:00:00</td>\n",
       "      <td>4341</td>\n",
       "      <td>Ms.</td>\n",
       "      <td>Female</td>\n",
       "      <td>598.95</td>\n",
       "      <td>1974-07-15</td>\n",
       "      <td>...</td>\n",
       "      <td>Active</td>\n",
       "      <td>29.32</td>\n",
       "      <td>Registered</td>\n",
       "      <td>Online</td>\n",
       "      <td>17</td>\n",
       "      <td>Hawthorn East</td>\n",
       "      <td>Y</td>\n",
       "      <td>Email</td>\n",
       "      <td>7.29</td>\n",
       "      <td>498.50</td>\n",
       "    </tr>\n",
       "    <tr>\n",
       "      <th>2</th>\n",
       "      <td>1000032549</td>\n",
       "      <td>RELEGARE</td>\n",
       "      <td>2006-09-12 00:00:00</td>\n",
       "      <td>Y</td>\n",
       "      <td>2007-02-12 00:00:00</td>\n",
       "      <td>1090</td>\n",
       "      <td>Mrs.</td>\n",
       "      <td>Female</td>\n",
       "      <td>1.56</td>\n",
       "      <td>1959-04-01</td>\n",
       "      <td>...</td>\n",
       "      <td>Active</td>\n",
       "      <td>1.56</td>\n",
       "      <td>Registered</td>\n",
       "      <td>Online</td>\n",
       "      <td>1</td>\n",
       "      <td>Revesby</td>\n",
       "      <td>Y</td>\n",
       "      <td>Email</td>\n",
       "      <td>2.00</td>\n",
       "      <td>1.56</td>\n",
       "    </tr>\n",
       "    <tr>\n",
       "      <th>3</th>\n",
       "      <td>1000032550</td>\n",
       "      <td>GSK</td>\n",
       "      <td>2006-09-12 00:00:00</td>\n",
       "      <td>Y</td>\n",
       "      <td>2007-03-12 00:00:00</td>\n",
       "      <td>3179</td>\n",
       "      <td>Mr.</td>\n",
       "      <td>Male</td>\n",
       "      <td>115.76</td>\n",
       "      <td>1978-05-16</td>\n",
       "      <td>...</td>\n",
       "      <td>Active</td>\n",
       "      <td>80.49</td>\n",
       "      <td>Registered</td>\n",
       "      <td>Online</td>\n",
       "      <td>2</td>\n",
       "      <td>Willow Grove</td>\n",
       "      <td>Y</td>\n",
       "      <td>Email</td>\n",
       "      <td>26.00</td>\n",
       "      <td>160.98</td>\n",
       "    </tr>\n",
       "    <tr>\n",
       "      <th>4</th>\n",
       "      <td>1000032551</td>\n",
       "      <td>GSK</td>\n",
       "      <td>2006-09-12 00:00:00</td>\n",
       "      <td>Y</td>\n",
       "      <td>2007-05-12 00:00:00</td>\n",
       "      <td>3135</td>\n",
       "      <td>Mr.</td>\n",
       "      <td>Male</td>\n",
       "      <td>305.90</td>\n",
       "      <td>1978-12-16</td>\n",
       "      <td>...</td>\n",
       "      <td>Active</td>\n",
       "      <td>24.09</td>\n",
       "      <td>Registered</td>\n",
       "      <td>Online</td>\n",
       "      <td>12</td>\n",
       "      <td>mona vale</td>\n",
       "      <td>Y</td>\n",
       "      <td>Email</td>\n",
       "      <td>6.33</td>\n",
       "      <td>289.10</td>\n",
       "    </tr>\n",
       "    <tr>\n",
       "      <th>...</th>\n",
       "      <td>...</td>\n",
       "      <td>...</td>\n",
       "      <td>...</td>\n",
       "      <td>...</td>\n",
       "      <td>...</td>\n",
       "      <td>...</td>\n",
       "      <td>...</td>\n",
       "      <td>...</td>\n",
       "      <td>...</td>\n",
       "      <td>...</td>\n",
       "      <td>...</td>\n",
       "      <td>...</td>\n",
       "      <td>...</td>\n",
       "      <td>...</td>\n",
       "      <td>...</td>\n",
       "      <td>...</td>\n",
       "      <td>...</td>\n",
       "      <td>...</td>\n",
       "      <td>...</td>\n",
       "      <td>...</td>\n",
       "      <td>...</td>\n",
       "    </tr>\n",
       "    <tr>\n",
       "      <th>5107</th>\n",
       "      <td>1000037830</td>\n",
       "      <td>RELEGARE</td>\n",
       "      <td>2008-05-06 00:00:00</td>\n",
       "      <td>Y</td>\n",
       "      <td>2009-05-02 00:00:00</td>\n",
       "      <td>3381</td>\n",
       "      <td>Mr.</td>\n",
       "      <td>Male</td>\n",
       "      <td>198.36</td>\n",
       "      <td>1935-11-23</td>\n",
       "      <td>...</td>\n",
       "      <td>Active</td>\n",
       "      <td>66.12</td>\n",
       "      <td>Registered</td>\n",
       "      <td>Online</td>\n",
       "      <td>3</td>\n",
       "      <td>Kyvalley</td>\n",
       "      <td>N</td>\n",
       "      <td>NaN</td>\n",
       "      <td>21.33</td>\n",
       "      <td>198.36</td>\n",
       "    </tr>\n",
       "    <tr>\n",
       "      <th>5108</th>\n",
       "      <td>1000037831</td>\n",
       "      <td>APPOLO</td>\n",
       "      <td>2008-05-06 00:00:00</td>\n",
       "      <td>Y</td>\n",
       "      <td>2008-10-06 00:00:00</td>\n",
       "      <td>3244</td>\n",
       "      <td>Mrs.</td>\n",
       "      <td>Female</td>\n",
       "      <td>28.09</td>\n",
       "      <td>1956-08-27</td>\n",
       "      <td>...</td>\n",
       "      <td>Active</td>\n",
       "      <td>28.09</td>\n",
       "      <td>Registered</td>\n",
       "      <td>Online</td>\n",
       "      <td>1</td>\n",
       "      <td>frankston</td>\n",
       "      <td>Y</td>\n",
       "      <td>Email</td>\n",
       "      <td>10.00</td>\n",
       "      <td>28.09</td>\n",
       "    </tr>\n",
       "    <tr>\n",
       "      <th>5109</th>\n",
       "      <td>1000037832</td>\n",
       "      <td>GSK</td>\n",
       "      <td>2008-05-06 00:00:00</td>\n",
       "      <td>Y</td>\n",
       "      <td>2009-05-04 00:00:00</td>\n",
       "      <td>3381</td>\n",
       "      <td>Mrs.</td>\n",
       "      <td>Female</td>\n",
       "      <td>653.10</td>\n",
       "      <td>1982-05-13</td>\n",
       "      <td>...</td>\n",
       "      <td>Active</td>\n",
       "      <td>94.77</td>\n",
       "      <td>Registered</td>\n",
       "      <td>Phone</td>\n",
       "      <td>9</td>\n",
       "      <td>KYABRAM</td>\n",
       "      <td>N</td>\n",
       "      <td>NaN</td>\n",
       "      <td>27.44</td>\n",
       "      <td>852.98</td>\n",
       "    </tr>\n",
       "    <tr>\n",
       "      <th>5110</th>\n",
       "      <td>1000037833</td>\n",
       "      <td>MED +</td>\n",
       "      <td>2008-05-06 00:00:00</td>\n",
       "      <td>Y</td>\n",
       "      <td>2009-06-10 00:00:00</td>\n",
       "      <td>3130</td>\n",
       "      <td>Ms.</td>\n",
       "      <td>Female</td>\n",
       "      <td>228.55</td>\n",
       "      <td>1960-01-14</td>\n",
       "      <td>...</td>\n",
       "      <td>Active</td>\n",
       "      <td>38.09</td>\n",
       "      <td>Registered</td>\n",
       "      <td>Online</td>\n",
       "      <td>6</td>\n",
       "      <td>Mulgrave</td>\n",
       "      <td>Y</td>\n",
       "      <td>Email</td>\n",
       "      <td>8.00</td>\n",
       "      <td>228.55</td>\n",
       "    </tr>\n",
       "    <tr>\n",
       "      <th>5111</th>\n",
       "      <td>1000037834</td>\n",
       "      <td>RANBAXY</td>\n",
       "      <td>2008-05-06 00:00:00</td>\n",
       "      <td>Y</td>\n",
       "      <td>2009-05-04 00:00:00</td>\n",
       "      <td>3363</td>\n",
       "      <td>Mrs.</td>\n",
       "      <td>Female</td>\n",
       "      <td>26.35</td>\n",
       "      <td>1971-12-22</td>\n",
       "      <td>...</td>\n",
       "      <td>Active</td>\n",
       "      <td>26.35</td>\n",
       "      <td>Registered</td>\n",
       "      <td>Instore/RF</td>\n",
       "      <td>1</td>\n",
       "      <td>WODONGA</td>\n",
       "      <td>Y</td>\n",
       "      <td>NaN</td>\n",
       "      <td>7.00</td>\n",
       "      <td>26.35</td>\n",
       "    </tr>\n",
       "  </tbody>\n",
       "</table>\n",
       "<p>5112 rows × 24 columns</p>\n",
       "</div>"
      ],
      "text/plain": [
       "      CUSTOMER_ID    Company        CARD_REG_DATE CARD_ACTIVE  \\\n",
       "0      1000032547      MED +  2006-09-12 00:00:00           Y   \n",
       "1      1000032548  DR.REDDYS  2006-09-12 00:00:00           Y   \n",
       "2      1000032549   RELEGARE  2006-09-12 00:00:00           Y   \n",
       "3      1000032550        GSK  2006-09-12 00:00:00           Y   \n",
       "4      1000032551        GSK  2006-09-12 00:00:00           Y   \n",
       "...           ...        ...                  ...         ...   \n",
       "5107   1000037830   RELEGARE  2008-05-06 00:00:00           Y   \n",
       "5108   1000037831     APPOLO  2008-05-06 00:00:00           Y   \n",
       "5109   1000037832        GSK  2008-05-06 00:00:00           Y   \n",
       "5110   1000037833      MED +  2008-05-06 00:00:00           Y   \n",
       "5111   1000037834    RANBAXY  2008-05-06 00:00:00           Y   \n",
       "\n",
       "            FIRST_USE_DTE  firstSTOR TITLE  GENDER  max spent        DOB  ...  \\\n",
       "0     2007-05-12 00:00:00       2587  Mrs.  Female      56.31 1984-09-15  ...   \n",
       "1     2007-03-12 00:00:00       4341   Ms.  Female     598.95 1974-07-15  ...   \n",
       "2     2007-02-12 00:00:00       1090  Mrs.  Female       1.56 1959-04-01  ...   \n",
       "3     2007-03-12 00:00:00       3179   Mr.    Male     115.76 1978-05-16  ...   \n",
       "4     2007-05-12 00:00:00       3135   Mr.    Male     305.90 1978-12-16  ...   \n",
       "...                   ...        ...   ...     ...        ...        ...  ...   \n",
       "5107  2009-05-02 00:00:00       3381   Mr.    Male     198.36 1935-11-23  ...   \n",
       "5108  2008-10-06 00:00:00       3244  Mrs.  Female      28.09 1956-08-27  ...   \n",
       "5109  2009-05-04 00:00:00       3381  Mrs.  Female     653.10 1982-05-13  ...   \n",
       "5110  2009-06-10 00:00:00       3130   Ms.  Female     228.55 1960-01-14  ...   \n",
       "5111  2009-05-04 00:00:00       3363  Mrs.  Female      26.35 1971-12-22  ...   \n",
       "\n",
       "     CUST_STAT  Avgsize spent   CARD_STAT  RGSTN_TYPE_IND NO_OF_TRIPS  \\\n",
       "0       Active          17.34  Registered          Online           4   \n",
       "1       Active          29.32  Registered          Online          17   \n",
       "2       Active           1.56  Registered          Online           1   \n",
       "3       Active          80.49  Registered          Online           2   \n",
       "4       Active          24.09  Registered          Online          12   \n",
       "...        ...            ...         ...             ...         ...   \n",
       "5107    Active          66.12  Registered          Online           3   \n",
       "5108    Active          28.09  Registered          Online           1   \n",
       "5109    Active          94.77  Registered           Phone           9   \n",
       "5110    Active          38.09  Registered          Online           6   \n",
       "5111    Active          26.35  Registered      Instore/RF           1   \n",
       "\n",
       "               TOWN EMAIL_IND CONTACT_PREF  Average_Qty_PER_ACC Spent amount  \n",
       "0           Kyabram         Y        Email                 2.75        69.37  \n",
       "1     Hawthorn East         Y        Email                 7.29       498.50  \n",
       "2           Revesby         Y        Email                 2.00         1.56  \n",
       "3      Willow Grove         Y        Email                26.00       160.98  \n",
       "4         mona vale         Y        Email                 6.33       289.10  \n",
       "...             ...       ...          ...                  ...          ...  \n",
       "5107       Kyvalley         N          NaN                21.33       198.36  \n",
       "5108      frankston         Y        Email                10.00        28.09  \n",
       "5109        KYABRAM         N          NaN                27.44       852.98  \n",
       "5110       Mulgrave         Y        Email                 8.00       228.55  \n",
       "5111        WODONGA         Y          NaN                 7.00        26.35  \n",
       "\n",
       "[5112 rows x 24 columns]"
      ]
     },
     "execution_count": 25,
     "metadata": {},
     "output_type": "execute_result"
    }
   ],
   "source": [
    "med_2023"
   ]
  },
  {
   "cell_type": "code",
   "execution_count": 26,
   "id": "335142bc",
   "metadata": {},
   "outputs": [
    {
     "name": "stdout",
     "output_type": "stream",
     "text": [
      "<class 'pandas.core.frame.DataFrame'>\n",
      "RangeIndex: 5112 entries, 0 to 5111\n",
      "Data columns (total 24 columns):\n",
      " #   Column               Non-Null Count  Dtype         \n",
      "---  ------               --------------  -----         \n",
      " 0   CUSTOMER_ID          5112 non-null   int64         \n",
      " 1   Company              5112 non-null   object        \n",
      " 2   CARD_REG_DATE        5112 non-null   object        \n",
      " 3   CARD_ACTIVE          5112 non-null   object        \n",
      " 4   FIRST_USE_DTE        5112 non-null   object        \n",
      " 5   firstSTOR            5112 non-null   int64         \n",
      " 6   TITLE                5112 non-null   object        \n",
      " 7   GENDER               5112 non-null   object        \n",
      " 8   max spent            5097 non-null   float64       \n",
      " 9   DOB                  5112 non-null   datetime64[ns]\n",
      " 10  FTD                  5112 non-null   object        \n",
      " 11  Age                  5112 non-null   int64         \n",
      " 12  STATE_CODE           5112 non-null   object        \n",
      " 13  POST_CODE            5112 non-null   int64         \n",
      " 14  CUST_STAT            5112 non-null   object        \n",
      " 15  Avgsize spent        5112 non-null   float64       \n",
      " 16  CARD_STAT            5112 non-null   object        \n",
      " 17  RGSTN_TYPE_IND       5112 non-null   object        \n",
      " 18  NO_OF_TRIPS          5112 non-null   int64         \n",
      " 19  TOWN                 5112 non-null   object        \n",
      " 20  EMAIL_IND            5112 non-null   object        \n",
      " 21  CONTACT_PREF         4219 non-null   object        \n",
      " 22  Average_Qty_PER_ACC  5112 non-null   float64       \n",
      " 23  Spent amount         5112 non-null   float64       \n",
      "dtypes: datetime64[ns](1), float64(4), int64(5), object(14)\n",
      "memory usage: 958.6+ KB\n"
     ]
    }
   ],
   "source": [
    "med_2023.info()"
   ]
  },
  {
   "cell_type": "code",
   "execution_count": 27,
   "id": "00088aac",
   "metadata": {},
   "outputs": [
    {
     "data": {
      "text/plain": [
       "array([29, 39, 54, ..., 31, 53, 41], dtype=int64)"
      ]
     },
     "execution_count": 27,
     "metadata": {},
     "output_type": "execute_result"
    }
   ],
   "source": [
    "age_var=np.array(med_2023['Age'])\n",
    "age_var"
   ]
  },
  {
   "cell_type": "code",
   "execution_count": 28,
   "id": "51c083c0",
   "metadata": {},
   "outputs": [
    {
     "data": {
      "text/plain": [
       "numpy.ndarray"
      ]
     },
     "execution_count": 28,
     "metadata": {},
     "output_type": "execute_result"
    }
   ],
   "source": [
    "type(age_var)"
   ]
  },
  {
   "cell_type": "code",
   "execution_count": 29,
   "id": "e561d6e7",
   "metadata": {},
   "outputs": [
    {
     "data": {
      "text/plain": [
       "5112"
      ]
     },
     "execution_count": 29,
     "metadata": {},
     "output_type": "execute_result"
    }
   ],
   "source": [
    "age_var.size"
   ]
  },
  {
   "cell_type": "markdown",
   "id": "32d18e9c",
   "metadata": {},
   "source": [
    "# Indexing in 1D arrays"
   ]
  },
  {
   "cell_type": "code",
   "execution_count": 30,
   "id": "ed783877",
   "metadata": {},
   "outputs": [
    {
     "data": {
      "text/plain": [
       "41"
      ]
     },
     "execution_count": 30,
     "metadata": {},
     "output_type": "execute_result"
    }
   ],
   "source": [
    "age_var[-1]"
   ]
  },
  {
   "cell_type": "code",
   "execution_count": 31,
   "id": "fac1c4a4",
   "metadata": {},
   "outputs": [
    {
     "data": {
      "text/plain": [
       "29"
      ]
     },
     "execution_count": 31,
     "metadata": {},
     "output_type": "execute_result"
    }
   ],
   "source": [
    "age_var[0]"
   ]
  },
  {
   "cell_type": "code",
   "execution_count": 32,
   "id": "178c60cc",
   "metadata": {},
   "outputs": [
    {
     "data": {
      "text/plain": [
       "array([78, 31, 61, 64, 42, 65, 74, 49, 25, 31, 77, 57, 31, 53, 41],\n",
       "      dtype=int64)"
      ]
     },
     "execution_count": 32,
     "metadata": {},
     "output_type": "execute_result"
    }
   ],
   "source": [
    "age_var[-15:]"
   ]
  },
  {
   "cell_type": "code",
   "execution_count": 33,
   "id": "a97d83f8",
   "metadata": {},
   "outputs": [
    {
     "data": {
      "text/plain": [
       "array([29, 39, 54, ..., 31, 53, 41], dtype=int64)"
      ]
     },
     "execution_count": 33,
     "metadata": {},
     "output_type": "execute_result"
    }
   ],
   "source": [
    "age_var[:]"
   ]
  },
  {
   "cell_type": "code",
   "execution_count": 34,
   "id": "ae3f20a6",
   "metadata": {},
   "outputs": [
    {
     "data": {
      "text/plain": [
       "array([], dtype=int64)"
      ]
     },
     "execution_count": 34,
     "metadata": {},
     "output_type": "execute_result"
    }
   ],
   "source": [
    "age_var[10:2]"
   ]
  },
  {
   "cell_type": "code",
   "execution_count": 35,
   "id": "6912ed5a",
   "metadata": {},
   "outputs": [
    {
     "ename": "IndexError",
     "evalue": "too many indices for array: array is 1-dimensional, but 3 were indexed",
     "output_type": "error",
     "traceback": [
      "\u001b[1;31m---------------------------------------------------------------------------\u001b[0m",
      "\u001b[1;31mIndexError\u001b[0m                                Traceback (most recent call last)",
      "Input \u001b[1;32mIn [35]\u001b[0m, in \u001b[0;36m<cell line: 1>\u001b[1;34m()\u001b[0m\n\u001b[1;32m----> 1\u001b[0m \u001b[43mage_var\u001b[49m\u001b[43m[\u001b[49m\u001b[38;5;241;43m3\u001b[39;49m\u001b[43m,\u001b[49m\u001b[38;5;241;43m5\u001b[39;49m\u001b[43m,\u001b[49m\u001b[38;5;241;43m7\u001b[39;49m\u001b[43m]\u001b[49m\n",
      "\u001b[1;31mIndexError\u001b[0m: too many indices for array: array is 1-dimensional, but 3 were indexed"
     ]
    }
   ],
   "source": [
    "age_var[3,5,7]"
   ]
  },
  {
   "cell_type": "code",
   "execution_count": 36,
   "id": "1cb443b3",
   "metadata": {},
   "outputs": [
    {
     "data": {
      "text/plain": [
       "array([35, 26, 26], dtype=int64)"
      ]
     },
     "execution_count": 36,
     "metadata": {},
     "output_type": "execute_result"
    }
   ],
   "source": [
    "age_var[[3,5,7]]"
   ]
  },
  {
   "cell_type": "markdown",
   "id": "540b7369",
   "metadata": {},
   "source": [
    "# Indexing in 2-D arrays"
   ]
  },
  {
   "cell_type": "code",
   "execution_count": 37,
   "id": "3336fd69",
   "metadata": {},
   "outputs": [
    {
     "data": {
      "text/plain": [
       "array([[29,  4],\n",
       "       [39, 17],\n",
       "       [54,  1],\n",
       "       ...,\n",
       "       [31,  9],\n",
       "       [53,  6],\n",
       "       [41,  1]], dtype=int64)"
      ]
     },
     "execution_count": 37,
     "metadata": {},
     "output_type": "execute_result"
    }
   ],
   "source": [
    "two_vars=np.array(med_2023[['Age','NO_OF_TRIPS']])\n",
    "two_vars"
   ]
  },
  {
   "cell_type": "code",
   "execution_count": 38,
   "id": "12ba19a0",
   "metadata": {},
   "outputs": [
    {
     "data": {
      "text/plain": [
       "(5112, 2)"
      ]
     },
     "execution_count": 38,
     "metadata": {},
     "output_type": "execute_result"
    }
   ],
   "source": [
    "two_vars.shape"
   ]
  },
  {
   "cell_type": "code",
   "execution_count": 39,
   "id": "0e43e14e",
   "metadata": {},
   "outputs": [
    {
     "data": {
      "text/plain": [
       "2"
      ]
     },
     "execution_count": 39,
     "metadata": {},
     "output_type": "execute_result"
    }
   ],
   "source": [
    "two_vars.ndim"
   ]
  },
  {
   "cell_type": "code",
   "execution_count": 40,
   "id": "39b1e3e1",
   "metadata": {},
   "outputs": [
    {
     "data": {
      "text/plain": [
       "29"
      ]
     },
     "execution_count": 40,
     "metadata": {},
     "output_type": "execute_result"
    }
   ],
   "source": [
    "two_vars[0,0]"
   ]
  },
  {
   "cell_type": "code",
   "execution_count": 41,
   "id": "149a0ad9",
   "metadata": {},
   "outputs": [
    {
     "data": {
      "text/plain": [
       "4"
      ]
     },
     "execution_count": 41,
     "metadata": {},
     "output_type": "execute_result"
    }
   ],
   "source": [
    "two_vars[0,1]"
   ]
  },
  {
   "cell_type": "code",
   "execution_count": 42,
   "id": "99312b35",
   "metadata": {},
   "outputs": [
    {
     "data": {
      "text/plain": [
       "1"
      ]
     },
     "execution_count": 42,
     "metadata": {},
     "output_type": "execute_result"
    }
   ],
   "source": [
    "two_vars[2,1]"
   ]
  },
  {
   "cell_type": "code",
   "execution_count": 43,
   "id": "5e7086ba",
   "metadata": {},
   "outputs": [
    {
     "data": {
      "text/plain": [
       "array([41,  1], dtype=int64)"
      ]
     },
     "execution_count": 43,
     "metadata": {},
     "output_type": "execute_result"
    }
   ],
   "source": [
    "two_vars[-1]"
   ]
  },
  {
   "cell_type": "code",
   "execution_count": 44,
   "id": "1e260f04",
   "metadata": {},
   "outputs": [
    {
     "data": {
      "text/plain": [
       "array([[29,  4],\n",
       "       [39, 17],\n",
       "       [54,  1],\n",
       "       ...,\n",
       "       [31,  9],\n",
       "       [53,  6],\n",
       "       [41,  1]], dtype=int64)"
      ]
     },
     "execution_count": 44,
     "metadata": {},
     "output_type": "execute_result"
    }
   ],
   "source": [
    "two_vars"
   ]
  },
  {
   "cell_type": "code",
   "execution_count": 45,
   "id": "8c3a40b7",
   "metadata": {},
   "outputs": [
    {
     "data": {
      "text/plain": [
       "array([29, 39], dtype=int64)"
      ]
     },
     "execution_count": 45,
     "metadata": {},
     "output_type": "execute_result"
    }
   ],
   "source": [
    "two_vars[0:2,0]"
   ]
  },
  {
   "cell_type": "code",
   "execution_count": 46,
   "id": "6a9ea2db",
   "metadata": {},
   "outputs": [
    {
     "data": {
      "text/plain": [
       "array([53,  6], dtype=int64)"
      ]
     },
     "execution_count": 46,
     "metadata": {},
     "output_type": "execute_result"
    }
   ],
   "source": [
    "two_vars[-2,0:2]"
   ]
  },
  {
   "cell_type": "code",
   "execution_count": 47,
   "id": "a6464746",
   "metadata": {},
   "outputs": [
    {
     "data": {
      "text/plain": [
       "array([53,  6], dtype=int64)"
      ]
     },
     "execution_count": 47,
     "metadata": {},
     "output_type": "execute_result"
    }
   ],
   "source": [
    "two_vars[-2,0:3]"
   ]
  },
  {
   "cell_type": "code",
   "execution_count": 48,
   "id": "7954535a",
   "metadata": {},
   "outputs": [
    {
     "ename": "IndexError",
     "evalue": "index 2 is out of bounds for axis 1 with size 2",
     "output_type": "error",
     "traceback": [
      "\u001b[1;31m---------------------------------------------------------------------------\u001b[0m",
      "\u001b[1;31mIndexError\u001b[0m                                Traceback (most recent call last)",
      "Input \u001b[1;32mIn [48]\u001b[0m, in \u001b[0;36m<cell line: 1>\u001b[1;34m()\u001b[0m\n\u001b[1;32m----> 1\u001b[0m \u001b[43mtwo_vars\u001b[49m\u001b[43m[\u001b[49m\u001b[38;5;241;43m-\u001b[39;49m\u001b[38;5;241;43m2\u001b[39;49m\u001b[43m,\u001b[49m\u001b[38;5;241;43m2\u001b[39;49m\u001b[43m]\u001b[49m\n",
      "\u001b[1;31mIndexError\u001b[0m: index 2 is out of bounds for axis 1 with size 2"
     ]
    }
   ],
   "source": [
    "two_vars[-2,2]"
   ]
  },
  {
   "cell_type": "markdown",
   "id": "badd8042",
   "metadata": {},
   "source": [
    "# Boolean Indexing"
   ]
  },
  {
   "cell_type": "code",
   "execution_count": 49,
   "id": "718d4f7a",
   "metadata": {},
   "outputs": [
    {
     "data": {
      "text/plain": [
       "array([29, 39, 54, ..., 31, 53, 41], dtype=int64)"
      ]
     },
     "execution_count": 49,
     "metadata": {},
     "output_type": "execute_result"
    }
   ],
   "source": [
    "age_var"
   ]
  },
  {
   "cell_type": "code",
   "execution_count": 50,
   "id": "d2edbbba",
   "metadata": {},
   "outputs": [
    {
     "data": {
      "text/plain": [
       "array([ True,  True, False, ...,  True, False, False])"
      ]
     },
     "execution_count": 50,
     "metadata": {},
     "output_type": "execute_result"
    }
   ],
   "source": [
    "#Suppose if someone asked us to get all the customers with age < 40\n",
    "\n",
    "condition= age_var <40\n",
    "condition"
   ]
  },
  {
   "cell_type": "code",
   "execution_count": 51,
   "id": "1b32d450",
   "metadata": {},
   "outputs": [
    {
     "data": {
      "text/plain": [
       "array([29, 39, 35, ..., 25, 31, 31], dtype=int64)"
      ]
     },
     "execution_count": 51,
     "metadata": {},
     "output_type": "execute_result"
    }
   ],
   "source": [
    "new_array=age_var[condition]\n",
    "new_array"
   ]
  },
  {
   "cell_type": "code",
   "execution_count": 52,
   "id": "ac7309fb",
   "metadata": {},
   "outputs": [
    {
     "name": "stdout",
     "output_type": "stream",
     "text": [
      "5112\n",
      "1354\n"
     ]
    }
   ],
   "source": [
    "print(age_var.size)\n",
    "print(new_array.size)"
   ]
  },
  {
   "cell_type": "code",
   "execution_count": 53,
   "id": "4b2b095c",
   "metadata": {},
   "outputs": [
    {
     "data": {
      "text/plain": [
       "array([54, 55, 61, ..., 57, 53, 41], dtype=int64)"
      ]
     },
     "execution_count": 53,
     "metadata": {},
     "output_type": "execute_result"
    }
   ],
   "source": [
    "new_array1=age_var[condition==False]\n",
    "new_array1"
   ]
  },
  {
   "cell_type": "code",
   "execution_count": 54,
   "id": "4ff08fc0",
   "metadata": {},
   "outputs": [
    {
     "name": "stdout",
     "output_type": "stream",
     "text": [
      "(3758,)\n"
     ]
    }
   ],
   "source": [
    "print(new_array1.shape)"
   ]
  },
  {
   "cell_type": "code",
   "execution_count": 55,
   "id": "a40a99b2",
   "metadata": {},
   "outputs": [
    {
     "data": {
      "text/plain": [
       "3758"
      ]
     },
     "execution_count": 55,
     "metadata": {},
     "output_type": "execute_result"
    }
   ],
   "source": [
    "new_array1.size"
   ]
  },
  {
   "cell_type": "markdown",
   "id": "4b4b3654",
   "metadata": {},
   "source": [
    "# Use of where statement in arrays"
   ]
  },
  {
   "cell_type": "code",
   "execution_count": null,
   "id": "d1472463",
   "metadata": {},
   "outputs": [],
   "source": [
    "#Where statement can be used to update our original arrays depending on our conditions\n",
    "#Parameters to be passed in where conditions are :-\n",
    "#1- The required condition\n",
    "#2- What has to be replaced if this condition is getting satisfied\n",
    "#3- What has to be replaced if the condition in not getting satisfied"
   ]
  },
  {
   "cell_type": "code",
   "execution_count": 58,
   "id": "70f648f2",
   "metadata": {},
   "outputs": [
    {
     "data": {
      "text/plain": [
       "array([-33, -41,  54,  51,  43,  56])"
      ]
     },
     "execution_count": 58,
     "metadata": {},
     "output_type": "execute_result"
    }
   ],
   "source": [
    "age=np.array([-33,-41,54,51,43,56])\n",
    "age"
   ]
  },
  {
   "cell_type": "code",
   "execution_count": 57,
   "id": "992fcb8b",
   "metadata": {},
   "outputs": [
    {
     "data": {
      "text/plain": [
       "array([0, 0, 1, 1, 1, 1])"
      ]
     },
     "execution_count": 57,
     "metadata": {},
     "output_type": "execute_result"
    }
   ],
   "source": [
    "#Please change all the negative age to 0 and rest to 1\n",
    "\n",
    "age_new=np.where((age<0),0,1)\n",
    "age_new"
   ]
  },
  {
   "cell_type": "code",
   "execution_count": null,
   "id": "7aec4474",
   "metadata": {},
   "outputs": [],
   "source": [
    "#Please change all those age with negative values to 1 and keep the rest of the value as it is"
   ]
  },
  {
   "cell_type": "code",
   "execution_count": 59,
   "id": "eb35e03e",
   "metadata": {},
   "outputs": [
    {
     "data": {
      "text/plain": [
       "array([ 1,  1, 54, 51, 43, 56])"
      ]
     },
     "execution_count": 59,
     "metadata": {},
     "output_type": "execute_result"
    }
   ],
   "source": [
    "age_new1=np.where((age<0),1,age)\n",
    "age_new1"
   ]
  },
  {
   "cell_type": "code",
   "execution_count": 60,
   "id": "9a6117a1",
   "metadata": {},
   "outputs": [],
   "source": [
    "med_2023['AGE_BUCKET']=np.where(med_2023[\"Age\"]<30,\"LESS THAN 30\",\n",
    "                               np.where(med_2023['Age']<=50,\"30 to 50\",\n",
    "                                       np.where(med_2023['Age']<=70,\"51 to 70\",\"70+\")))"
   ]
  },
  {
   "cell_type": "code",
   "execution_count": 61,
   "id": "2b2f9bff",
   "metadata": {},
   "outputs": [
    {
     "data": {
      "text/html": [
       "<div>\n",
       "<style scoped>\n",
       "    .dataframe tbody tr th:only-of-type {\n",
       "        vertical-align: middle;\n",
       "    }\n",
       "\n",
       "    .dataframe tbody tr th {\n",
       "        vertical-align: top;\n",
       "    }\n",
       "\n",
       "    .dataframe thead th {\n",
       "        text-align: right;\n",
       "    }\n",
       "</style>\n",
       "<table border=\"1\" class=\"dataframe\">\n",
       "  <thead>\n",
       "    <tr style=\"text-align: right;\">\n",
       "      <th></th>\n",
       "      <th>CUSTOMER_ID</th>\n",
       "      <th>Company</th>\n",
       "      <th>CARD_REG_DATE</th>\n",
       "      <th>CARD_ACTIVE</th>\n",
       "      <th>FIRST_USE_DTE</th>\n",
       "      <th>firstSTOR</th>\n",
       "      <th>TITLE</th>\n",
       "      <th>GENDER</th>\n",
       "      <th>max spent</th>\n",
       "      <th>DOB</th>\n",
       "      <th>...</th>\n",
       "      <th>Avgsize spent</th>\n",
       "      <th>CARD_STAT</th>\n",
       "      <th>RGSTN_TYPE_IND</th>\n",
       "      <th>NO_OF_TRIPS</th>\n",
       "      <th>TOWN</th>\n",
       "      <th>EMAIL_IND</th>\n",
       "      <th>CONTACT_PREF</th>\n",
       "      <th>Average_Qty_PER_ACC</th>\n",
       "      <th>Spent amount</th>\n",
       "      <th>AGE_BUCKET</th>\n",
       "    </tr>\n",
       "  </thead>\n",
       "  <tbody>\n",
       "    <tr>\n",
       "      <th>0</th>\n",
       "      <td>1000032547</td>\n",
       "      <td>MED +</td>\n",
       "      <td>2006-09-12 00:00:00</td>\n",
       "      <td>Y</td>\n",
       "      <td>2007-05-12 00:00:00</td>\n",
       "      <td>2587</td>\n",
       "      <td>Mrs.</td>\n",
       "      <td>Female</td>\n",
       "      <td>56.31</td>\n",
       "      <td>1984-09-15</td>\n",
       "      <td>...</td>\n",
       "      <td>17.34</td>\n",
       "      <td>Registered</td>\n",
       "      <td>Online</td>\n",
       "      <td>4</td>\n",
       "      <td>Kyabram</td>\n",
       "      <td>Y</td>\n",
       "      <td>Email</td>\n",
       "      <td>2.75</td>\n",
       "      <td>69.37</td>\n",
       "      <td>LESS THAN 30</td>\n",
       "    </tr>\n",
       "    <tr>\n",
       "      <th>1</th>\n",
       "      <td>1000032548</td>\n",
       "      <td>DR.REDDYS</td>\n",
       "      <td>2006-09-12 00:00:00</td>\n",
       "      <td>Y</td>\n",
       "      <td>2007-03-12 00:00:00</td>\n",
       "      <td>4341</td>\n",
       "      <td>Ms.</td>\n",
       "      <td>Female</td>\n",
       "      <td>598.95</td>\n",
       "      <td>1974-07-15</td>\n",
       "      <td>...</td>\n",
       "      <td>29.32</td>\n",
       "      <td>Registered</td>\n",
       "      <td>Online</td>\n",
       "      <td>17</td>\n",
       "      <td>Hawthorn East</td>\n",
       "      <td>Y</td>\n",
       "      <td>Email</td>\n",
       "      <td>7.29</td>\n",
       "      <td>498.50</td>\n",
       "      <td>30 to 50</td>\n",
       "    </tr>\n",
       "    <tr>\n",
       "      <th>2</th>\n",
       "      <td>1000032549</td>\n",
       "      <td>RELEGARE</td>\n",
       "      <td>2006-09-12 00:00:00</td>\n",
       "      <td>Y</td>\n",
       "      <td>2007-02-12 00:00:00</td>\n",
       "      <td>1090</td>\n",
       "      <td>Mrs.</td>\n",
       "      <td>Female</td>\n",
       "      <td>1.56</td>\n",
       "      <td>1959-04-01</td>\n",
       "      <td>...</td>\n",
       "      <td>1.56</td>\n",
       "      <td>Registered</td>\n",
       "      <td>Online</td>\n",
       "      <td>1</td>\n",
       "      <td>Revesby</td>\n",
       "      <td>Y</td>\n",
       "      <td>Email</td>\n",
       "      <td>2.00</td>\n",
       "      <td>1.56</td>\n",
       "      <td>51 to 70</td>\n",
       "    </tr>\n",
       "    <tr>\n",
       "      <th>3</th>\n",
       "      <td>1000032550</td>\n",
       "      <td>GSK</td>\n",
       "      <td>2006-09-12 00:00:00</td>\n",
       "      <td>Y</td>\n",
       "      <td>2007-03-12 00:00:00</td>\n",
       "      <td>3179</td>\n",
       "      <td>Mr.</td>\n",
       "      <td>Male</td>\n",
       "      <td>115.76</td>\n",
       "      <td>1978-05-16</td>\n",
       "      <td>...</td>\n",
       "      <td>80.49</td>\n",
       "      <td>Registered</td>\n",
       "      <td>Online</td>\n",
       "      <td>2</td>\n",
       "      <td>Willow Grove</td>\n",
       "      <td>Y</td>\n",
       "      <td>Email</td>\n",
       "      <td>26.00</td>\n",
       "      <td>160.98</td>\n",
       "      <td>30 to 50</td>\n",
       "    </tr>\n",
       "    <tr>\n",
       "      <th>4</th>\n",
       "      <td>1000032551</td>\n",
       "      <td>GSK</td>\n",
       "      <td>2006-09-12 00:00:00</td>\n",
       "      <td>Y</td>\n",
       "      <td>2007-05-12 00:00:00</td>\n",
       "      <td>3135</td>\n",
       "      <td>Mr.</td>\n",
       "      <td>Male</td>\n",
       "      <td>305.90</td>\n",
       "      <td>1978-12-16</td>\n",
       "      <td>...</td>\n",
       "      <td>24.09</td>\n",
       "      <td>Registered</td>\n",
       "      <td>Online</td>\n",
       "      <td>12</td>\n",
       "      <td>mona vale</td>\n",
       "      <td>Y</td>\n",
       "      <td>Email</td>\n",
       "      <td>6.33</td>\n",
       "      <td>289.10</td>\n",
       "      <td>30 to 50</td>\n",
       "    </tr>\n",
       "    <tr>\n",
       "      <th>...</th>\n",
       "      <td>...</td>\n",
       "      <td>...</td>\n",
       "      <td>...</td>\n",
       "      <td>...</td>\n",
       "      <td>...</td>\n",
       "      <td>...</td>\n",
       "      <td>...</td>\n",
       "      <td>...</td>\n",
       "      <td>...</td>\n",
       "      <td>...</td>\n",
       "      <td>...</td>\n",
       "      <td>...</td>\n",
       "      <td>...</td>\n",
       "      <td>...</td>\n",
       "      <td>...</td>\n",
       "      <td>...</td>\n",
       "      <td>...</td>\n",
       "      <td>...</td>\n",
       "      <td>...</td>\n",
       "      <td>...</td>\n",
       "      <td>...</td>\n",
       "    </tr>\n",
       "    <tr>\n",
       "      <th>5107</th>\n",
       "      <td>1000037830</td>\n",
       "      <td>RELEGARE</td>\n",
       "      <td>2008-05-06 00:00:00</td>\n",
       "      <td>Y</td>\n",
       "      <td>2009-05-02 00:00:00</td>\n",
       "      <td>3381</td>\n",
       "      <td>Mr.</td>\n",
       "      <td>Male</td>\n",
       "      <td>198.36</td>\n",
       "      <td>1935-11-23</td>\n",
       "      <td>...</td>\n",
       "      <td>66.12</td>\n",
       "      <td>Registered</td>\n",
       "      <td>Online</td>\n",
       "      <td>3</td>\n",
       "      <td>Kyvalley</td>\n",
       "      <td>N</td>\n",
       "      <td>NaN</td>\n",
       "      <td>21.33</td>\n",
       "      <td>198.36</td>\n",
       "      <td>70+</td>\n",
       "    </tr>\n",
       "    <tr>\n",
       "      <th>5108</th>\n",
       "      <td>1000037831</td>\n",
       "      <td>APPOLO</td>\n",
       "      <td>2008-05-06 00:00:00</td>\n",
       "      <td>Y</td>\n",
       "      <td>2008-10-06 00:00:00</td>\n",
       "      <td>3244</td>\n",
       "      <td>Mrs.</td>\n",
       "      <td>Female</td>\n",
       "      <td>28.09</td>\n",
       "      <td>1956-08-27</td>\n",
       "      <td>...</td>\n",
       "      <td>28.09</td>\n",
       "      <td>Registered</td>\n",
       "      <td>Online</td>\n",
       "      <td>1</td>\n",
       "      <td>frankston</td>\n",
       "      <td>Y</td>\n",
       "      <td>Email</td>\n",
       "      <td>10.00</td>\n",
       "      <td>28.09</td>\n",
       "      <td>51 to 70</td>\n",
       "    </tr>\n",
       "    <tr>\n",
       "      <th>5109</th>\n",
       "      <td>1000037832</td>\n",
       "      <td>GSK</td>\n",
       "      <td>2008-05-06 00:00:00</td>\n",
       "      <td>Y</td>\n",
       "      <td>2009-05-04 00:00:00</td>\n",
       "      <td>3381</td>\n",
       "      <td>Mrs.</td>\n",
       "      <td>Female</td>\n",
       "      <td>653.10</td>\n",
       "      <td>1982-05-13</td>\n",
       "      <td>...</td>\n",
       "      <td>94.77</td>\n",
       "      <td>Registered</td>\n",
       "      <td>Phone</td>\n",
       "      <td>9</td>\n",
       "      <td>KYABRAM</td>\n",
       "      <td>N</td>\n",
       "      <td>NaN</td>\n",
       "      <td>27.44</td>\n",
       "      <td>852.98</td>\n",
       "      <td>30 to 50</td>\n",
       "    </tr>\n",
       "    <tr>\n",
       "      <th>5110</th>\n",
       "      <td>1000037833</td>\n",
       "      <td>MED +</td>\n",
       "      <td>2008-05-06 00:00:00</td>\n",
       "      <td>Y</td>\n",
       "      <td>2009-06-10 00:00:00</td>\n",
       "      <td>3130</td>\n",
       "      <td>Ms.</td>\n",
       "      <td>Female</td>\n",
       "      <td>228.55</td>\n",
       "      <td>1960-01-14</td>\n",
       "      <td>...</td>\n",
       "      <td>38.09</td>\n",
       "      <td>Registered</td>\n",
       "      <td>Online</td>\n",
       "      <td>6</td>\n",
       "      <td>Mulgrave</td>\n",
       "      <td>Y</td>\n",
       "      <td>Email</td>\n",
       "      <td>8.00</td>\n",
       "      <td>228.55</td>\n",
       "      <td>51 to 70</td>\n",
       "    </tr>\n",
       "    <tr>\n",
       "      <th>5111</th>\n",
       "      <td>1000037834</td>\n",
       "      <td>RANBAXY</td>\n",
       "      <td>2008-05-06 00:00:00</td>\n",
       "      <td>Y</td>\n",
       "      <td>2009-05-04 00:00:00</td>\n",
       "      <td>3363</td>\n",
       "      <td>Mrs.</td>\n",
       "      <td>Female</td>\n",
       "      <td>26.35</td>\n",
       "      <td>1971-12-22</td>\n",
       "      <td>...</td>\n",
       "      <td>26.35</td>\n",
       "      <td>Registered</td>\n",
       "      <td>Instore/RF</td>\n",
       "      <td>1</td>\n",
       "      <td>WODONGA</td>\n",
       "      <td>Y</td>\n",
       "      <td>NaN</td>\n",
       "      <td>7.00</td>\n",
       "      <td>26.35</td>\n",
       "      <td>30 to 50</td>\n",
       "    </tr>\n",
       "  </tbody>\n",
       "</table>\n",
       "<p>5112 rows × 25 columns</p>\n",
       "</div>"
      ],
      "text/plain": [
       "      CUSTOMER_ID    Company        CARD_REG_DATE CARD_ACTIVE  \\\n",
       "0      1000032547      MED +  2006-09-12 00:00:00           Y   \n",
       "1      1000032548  DR.REDDYS  2006-09-12 00:00:00           Y   \n",
       "2      1000032549   RELEGARE  2006-09-12 00:00:00           Y   \n",
       "3      1000032550        GSK  2006-09-12 00:00:00           Y   \n",
       "4      1000032551        GSK  2006-09-12 00:00:00           Y   \n",
       "...           ...        ...                  ...         ...   \n",
       "5107   1000037830   RELEGARE  2008-05-06 00:00:00           Y   \n",
       "5108   1000037831     APPOLO  2008-05-06 00:00:00           Y   \n",
       "5109   1000037832        GSK  2008-05-06 00:00:00           Y   \n",
       "5110   1000037833      MED +  2008-05-06 00:00:00           Y   \n",
       "5111   1000037834    RANBAXY  2008-05-06 00:00:00           Y   \n",
       "\n",
       "            FIRST_USE_DTE  firstSTOR TITLE  GENDER  max spent        DOB  ...  \\\n",
       "0     2007-05-12 00:00:00       2587  Mrs.  Female      56.31 1984-09-15  ...   \n",
       "1     2007-03-12 00:00:00       4341   Ms.  Female     598.95 1974-07-15  ...   \n",
       "2     2007-02-12 00:00:00       1090  Mrs.  Female       1.56 1959-04-01  ...   \n",
       "3     2007-03-12 00:00:00       3179   Mr.    Male     115.76 1978-05-16  ...   \n",
       "4     2007-05-12 00:00:00       3135   Mr.    Male     305.90 1978-12-16  ...   \n",
       "...                   ...        ...   ...     ...        ...        ...  ...   \n",
       "5107  2009-05-02 00:00:00       3381   Mr.    Male     198.36 1935-11-23  ...   \n",
       "5108  2008-10-06 00:00:00       3244  Mrs.  Female      28.09 1956-08-27  ...   \n",
       "5109  2009-05-04 00:00:00       3381  Mrs.  Female     653.10 1982-05-13  ...   \n",
       "5110  2009-06-10 00:00:00       3130   Ms.  Female     228.55 1960-01-14  ...   \n",
       "5111  2009-05-04 00:00:00       3363  Mrs.  Female      26.35 1971-12-22  ...   \n",
       "\n",
       "     Avgsize spent   CARD_STAT RGSTN_TYPE_IND  NO_OF_TRIPS           TOWN  \\\n",
       "0            17.34  Registered         Online            4        Kyabram   \n",
       "1            29.32  Registered         Online           17  Hawthorn East   \n",
       "2             1.56  Registered         Online            1        Revesby   \n",
       "3            80.49  Registered         Online            2   Willow Grove   \n",
       "4            24.09  Registered         Online           12      mona vale   \n",
       "...            ...         ...            ...          ...            ...   \n",
       "5107         66.12  Registered         Online            3       Kyvalley   \n",
       "5108         28.09  Registered         Online            1      frankston   \n",
       "5109         94.77  Registered          Phone            9        KYABRAM   \n",
       "5110         38.09  Registered         Online            6       Mulgrave   \n",
       "5111         26.35  Registered     Instore/RF            1        WODONGA   \n",
       "\n",
       "      EMAIL_IND CONTACT_PREF Average_Qty_PER_ACC  Spent amount    AGE_BUCKET  \n",
       "0             Y        Email                2.75         69.37  LESS THAN 30  \n",
       "1             Y        Email                7.29        498.50      30 to 50  \n",
       "2             Y        Email                2.00          1.56      51 to 70  \n",
       "3             Y        Email               26.00        160.98      30 to 50  \n",
       "4             Y        Email                6.33        289.10      30 to 50  \n",
       "...         ...          ...                 ...           ...           ...  \n",
       "5107          N          NaN               21.33        198.36           70+  \n",
       "5108          Y        Email               10.00         28.09      51 to 70  \n",
       "5109          N          NaN               27.44        852.98      30 to 50  \n",
       "5110          Y        Email                8.00        228.55      51 to 70  \n",
       "5111          Y          NaN                7.00         26.35      30 to 50  \n",
       "\n",
       "[5112 rows x 25 columns]"
      ]
     },
     "execution_count": 61,
     "metadata": {},
     "output_type": "execute_result"
    }
   ],
   "source": [
    "med_2023"
   ]
  },
  {
   "cell_type": "code",
   "execution_count": 62,
   "id": "c34ea6cf",
   "metadata": {},
   "outputs": [
    {
     "data": {
      "text/plain": [
       "30 to 50        2157\n",
       "51 to 70        1958\n",
       "70+              520\n",
       "LESS THAN 30     477\n",
       "Name: AGE_BUCKET, dtype: int64"
      ]
     },
     "execution_count": 62,
     "metadata": {},
     "output_type": "execute_result"
    }
   ],
   "source": [
    "med_2023['AGE_BUCKET'].value_counts()"
   ]
  },
  {
   "cell_type": "code",
   "execution_count": null,
   "id": "bbdded17",
   "metadata": {},
   "outputs": [],
   "source": [
    "#Premier- 30,70 and gender would be in female or male and spent amount > 400\n",
    "#Non-premier"
   ]
  },
  {
   "cell_type": "code",
   "execution_count": 63,
   "id": "e10113e9",
   "metadata": {},
   "outputs": [
    {
     "data": {
      "text/html": [
       "<div>\n",
       "<style scoped>\n",
       "    .dataframe tbody tr th:only-of-type {\n",
       "        vertical-align: middle;\n",
       "    }\n",
       "\n",
       "    .dataframe tbody tr th {\n",
       "        vertical-align: top;\n",
       "    }\n",
       "\n",
       "    .dataframe thead th {\n",
       "        text-align: right;\n",
       "    }\n",
       "</style>\n",
       "<table border=\"1\" class=\"dataframe\">\n",
       "  <thead>\n",
       "    <tr style=\"text-align: right;\">\n",
       "      <th></th>\n",
       "      <th>CUSTOMER_ID</th>\n",
       "      <th>Company</th>\n",
       "      <th>CARD_REG_DATE</th>\n",
       "      <th>CARD_ACTIVE</th>\n",
       "      <th>FIRST_USE_DTE</th>\n",
       "      <th>firstSTOR</th>\n",
       "      <th>TITLE</th>\n",
       "      <th>GENDER</th>\n",
       "      <th>max spent</th>\n",
       "      <th>DOB</th>\n",
       "      <th>...</th>\n",
       "      <th>CARD_STAT</th>\n",
       "      <th>RGSTN_TYPE_IND</th>\n",
       "      <th>NO_OF_TRIPS</th>\n",
       "      <th>TOWN</th>\n",
       "      <th>EMAIL_IND</th>\n",
       "      <th>CONTACT_PREF</th>\n",
       "      <th>Average_Qty_PER_ACC</th>\n",
       "      <th>Spent amount</th>\n",
       "      <th>AGE_BUCKET</th>\n",
       "      <th>Cust_seg</th>\n",
       "    </tr>\n",
       "  </thead>\n",
       "  <tbody>\n",
       "    <tr>\n",
       "      <th>0</th>\n",
       "      <td>1000032547</td>\n",
       "      <td>MED +</td>\n",
       "      <td>2006-09-12 00:00:00</td>\n",
       "      <td>Y</td>\n",
       "      <td>2007-05-12 00:00:00</td>\n",
       "      <td>2587</td>\n",
       "      <td>Mrs.</td>\n",
       "      <td>Female</td>\n",
       "      <td>56.31</td>\n",
       "      <td>1984-09-15</td>\n",
       "      <td>...</td>\n",
       "      <td>Registered</td>\n",
       "      <td>Online</td>\n",
       "      <td>4</td>\n",
       "      <td>Kyabram</td>\n",
       "      <td>Y</td>\n",
       "      <td>Email</td>\n",
       "      <td>2.75</td>\n",
       "      <td>69.37</td>\n",
       "      <td>LESS THAN 30</td>\n",
       "      <td>Non-premier</td>\n",
       "    </tr>\n",
       "    <tr>\n",
       "      <th>1</th>\n",
       "      <td>1000032548</td>\n",
       "      <td>DR.REDDYS</td>\n",
       "      <td>2006-09-12 00:00:00</td>\n",
       "      <td>Y</td>\n",
       "      <td>2007-03-12 00:00:00</td>\n",
       "      <td>4341</td>\n",
       "      <td>Ms.</td>\n",
       "      <td>Female</td>\n",
       "      <td>598.95</td>\n",
       "      <td>1974-07-15</td>\n",
       "      <td>...</td>\n",
       "      <td>Registered</td>\n",
       "      <td>Online</td>\n",
       "      <td>17</td>\n",
       "      <td>Hawthorn East</td>\n",
       "      <td>Y</td>\n",
       "      <td>Email</td>\n",
       "      <td>7.29</td>\n",
       "      <td>498.50</td>\n",
       "      <td>30 to 50</td>\n",
       "      <td>Premier</td>\n",
       "    </tr>\n",
       "    <tr>\n",
       "      <th>2</th>\n",
       "      <td>1000032549</td>\n",
       "      <td>RELEGARE</td>\n",
       "      <td>2006-09-12 00:00:00</td>\n",
       "      <td>Y</td>\n",
       "      <td>2007-02-12 00:00:00</td>\n",
       "      <td>1090</td>\n",
       "      <td>Mrs.</td>\n",
       "      <td>Female</td>\n",
       "      <td>1.56</td>\n",
       "      <td>1959-04-01</td>\n",
       "      <td>...</td>\n",
       "      <td>Registered</td>\n",
       "      <td>Online</td>\n",
       "      <td>1</td>\n",
       "      <td>Revesby</td>\n",
       "      <td>Y</td>\n",
       "      <td>Email</td>\n",
       "      <td>2.00</td>\n",
       "      <td>1.56</td>\n",
       "      <td>51 to 70</td>\n",
       "      <td>Non-premier</td>\n",
       "    </tr>\n",
       "    <tr>\n",
       "      <th>3</th>\n",
       "      <td>1000032550</td>\n",
       "      <td>GSK</td>\n",
       "      <td>2006-09-12 00:00:00</td>\n",
       "      <td>Y</td>\n",
       "      <td>2007-03-12 00:00:00</td>\n",
       "      <td>3179</td>\n",
       "      <td>Mr.</td>\n",
       "      <td>Male</td>\n",
       "      <td>115.76</td>\n",
       "      <td>1978-05-16</td>\n",
       "      <td>...</td>\n",
       "      <td>Registered</td>\n",
       "      <td>Online</td>\n",
       "      <td>2</td>\n",
       "      <td>Willow Grove</td>\n",
       "      <td>Y</td>\n",
       "      <td>Email</td>\n",
       "      <td>26.00</td>\n",
       "      <td>160.98</td>\n",
       "      <td>30 to 50</td>\n",
       "      <td>Non-premier</td>\n",
       "    </tr>\n",
       "    <tr>\n",
       "      <th>4</th>\n",
       "      <td>1000032551</td>\n",
       "      <td>GSK</td>\n",
       "      <td>2006-09-12 00:00:00</td>\n",
       "      <td>Y</td>\n",
       "      <td>2007-05-12 00:00:00</td>\n",
       "      <td>3135</td>\n",
       "      <td>Mr.</td>\n",
       "      <td>Male</td>\n",
       "      <td>305.90</td>\n",
       "      <td>1978-12-16</td>\n",
       "      <td>...</td>\n",
       "      <td>Registered</td>\n",
       "      <td>Online</td>\n",
       "      <td>12</td>\n",
       "      <td>mona vale</td>\n",
       "      <td>Y</td>\n",
       "      <td>Email</td>\n",
       "      <td>6.33</td>\n",
       "      <td>289.10</td>\n",
       "      <td>30 to 50</td>\n",
       "      <td>Non-premier</td>\n",
       "    </tr>\n",
       "    <tr>\n",
       "      <th>...</th>\n",
       "      <td>...</td>\n",
       "      <td>...</td>\n",
       "      <td>...</td>\n",
       "      <td>...</td>\n",
       "      <td>...</td>\n",
       "      <td>...</td>\n",
       "      <td>...</td>\n",
       "      <td>...</td>\n",
       "      <td>...</td>\n",
       "      <td>...</td>\n",
       "      <td>...</td>\n",
       "      <td>...</td>\n",
       "      <td>...</td>\n",
       "      <td>...</td>\n",
       "      <td>...</td>\n",
       "      <td>...</td>\n",
       "      <td>...</td>\n",
       "      <td>...</td>\n",
       "      <td>...</td>\n",
       "      <td>...</td>\n",
       "      <td>...</td>\n",
       "    </tr>\n",
       "    <tr>\n",
       "      <th>5107</th>\n",
       "      <td>1000037830</td>\n",
       "      <td>RELEGARE</td>\n",
       "      <td>2008-05-06 00:00:00</td>\n",
       "      <td>Y</td>\n",
       "      <td>2009-05-02 00:00:00</td>\n",
       "      <td>3381</td>\n",
       "      <td>Mr.</td>\n",
       "      <td>Male</td>\n",
       "      <td>198.36</td>\n",
       "      <td>1935-11-23</td>\n",
       "      <td>...</td>\n",
       "      <td>Registered</td>\n",
       "      <td>Online</td>\n",
       "      <td>3</td>\n",
       "      <td>Kyvalley</td>\n",
       "      <td>N</td>\n",
       "      <td>NaN</td>\n",
       "      <td>21.33</td>\n",
       "      <td>198.36</td>\n",
       "      <td>70+</td>\n",
       "      <td>Non-premier</td>\n",
       "    </tr>\n",
       "    <tr>\n",
       "      <th>5108</th>\n",
       "      <td>1000037831</td>\n",
       "      <td>APPOLO</td>\n",
       "      <td>2008-05-06 00:00:00</td>\n",
       "      <td>Y</td>\n",
       "      <td>2008-10-06 00:00:00</td>\n",
       "      <td>3244</td>\n",
       "      <td>Mrs.</td>\n",
       "      <td>Female</td>\n",
       "      <td>28.09</td>\n",
       "      <td>1956-08-27</td>\n",
       "      <td>...</td>\n",
       "      <td>Registered</td>\n",
       "      <td>Online</td>\n",
       "      <td>1</td>\n",
       "      <td>frankston</td>\n",
       "      <td>Y</td>\n",
       "      <td>Email</td>\n",
       "      <td>10.00</td>\n",
       "      <td>28.09</td>\n",
       "      <td>51 to 70</td>\n",
       "      <td>Non-premier</td>\n",
       "    </tr>\n",
       "    <tr>\n",
       "      <th>5109</th>\n",
       "      <td>1000037832</td>\n",
       "      <td>GSK</td>\n",
       "      <td>2008-05-06 00:00:00</td>\n",
       "      <td>Y</td>\n",
       "      <td>2009-05-04 00:00:00</td>\n",
       "      <td>3381</td>\n",
       "      <td>Mrs.</td>\n",
       "      <td>Female</td>\n",
       "      <td>653.10</td>\n",
       "      <td>1982-05-13</td>\n",
       "      <td>...</td>\n",
       "      <td>Registered</td>\n",
       "      <td>Phone</td>\n",
       "      <td>9</td>\n",
       "      <td>KYABRAM</td>\n",
       "      <td>N</td>\n",
       "      <td>NaN</td>\n",
       "      <td>27.44</td>\n",
       "      <td>852.98</td>\n",
       "      <td>30 to 50</td>\n",
       "      <td>Premier</td>\n",
       "    </tr>\n",
       "    <tr>\n",
       "      <th>5110</th>\n",
       "      <td>1000037833</td>\n",
       "      <td>MED +</td>\n",
       "      <td>2008-05-06 00:00:00</td>\n",
       "      <td>Y</td>\n",
       "      <td>2009-06-10 00:00:00</td>\n",
       "      <td>3130</td>\n",
       "      <td>Ms.</td>\n",
       "      <td>Female</td>\n",
       "      <td>228.55</td>\n",
       "      <td>1960-01-14</td>\n",
       "      <td>...</td>\n",
       "      <td>Registered</td>\n",
       "      <td>Online</td>\n",
       "      <td>6</td>\n",
       "      <td>Mulgrave</td>\n",
       "      <td>Y</td>\n",
       "      <td>Email</td>\n",
       "      <td>8.00</td>\n",
       "      <td>228.55</td>\n",
       "      <td>51 to 70</td>\n",
       "      <td>Non-premier</td>\n",
       "    </tr>\n",
       "    <tr>\n",
       "      <th>5111</th>\n",
       "      <td>1000037834</td>\n",
       "      <td>RANBAXY</td>\n",
       "      <td>2008-05-06 00:00:00</td>\n",
       "      <td>Y</td>\n",
       "      <td>2009-05-04 00:00:00</td>\n",
       "      <td>3363</td>\n",
       "      <td>Mrs.</td>\n",
       "      <td>Female</td>\n",
       "      <td>26.35</td>\n",
       "      <td>1971-12-22</td>\n",
       "      <td>...</td>\n",
       "      <td>Registered</td>\n",
       "      <td>Instore/RF</td>\n",
       "      <td>1</td>\n",
       "      <td>WODONGA</td>\n",
       "      <td>Y</td>\n",
       "      <td>NaN</td>\n",
       "      <td>7.00</td>\n",
       "      <td>26.35</td>\n",
       "      <td>30 to 50</td>\n",
       "      <td>Non-premier</td>\n",
       "    </tr>\n",
       "  </tbody>\n",
       "</table>\n",
       "<p>5112 rows × 26 columns</p>\n",
       "</div>"
      ],
      "text/plain": [
       "      CUSTOMER_ID    Company        CARD_REG_DATE CARD_ACTIVE  \\\n",
       "0      1000032547      MED +  2006-09-12 00:00:00           Y   \n",
       "1      1000032548  DR.REDDYS  2006-09-12 00:00:00           Y   \n",
       "2      1000032549   RELEGARE  2006-09-12 00:00:00           Y   \n",
       "3      1000032550        GSK  2006-09-12 00:00:00           Y   \n",
       "4      1000032551        GSK  2006-09-12 00:00:00           Y   \n",
       "...           ...        ...                  ...         ...   \n",
       "5107   1000037830   RELEGARE  2008-05-06 00:00:00           Y   \n",
       "5108   1000037831     APPOLO  2008-05-06 00:00:00           Y   \n",
       "5109   1000037832        GSK  2008-05-06 00:00:00           Y   \n",
       "5110   1000037833      MED +  2008-05-06 00:00:00           Y   \n",
       "5111   1000037834    RANBAXY  2008-05-06 00:00:00           Y   \n",
       "\n",
       "            FIRST_USE_DTE  firstSTOR TITLE  GENDER  max spent        DOB  ...  \\\n",
       "0     2007-05-12 00:00:00       2587  Mrs.  Female      56.31 1984-09-15  ...   \n",
       "1     2007-03-12 00:00:00       4341   Ms.  Female     598.95 1974-07-15  ...   \n",
       "2     2007-02-12 00:00:00       1090  Mrs.  Female       1.56 1959-04-01  ...   \n",
       "3     2007-03-12 00:00:00       3179   Mr.    Male     115.76 1978-05-16  ...   \n",
       "4     2007-05-12 00:00:00       3135   Mr.    Male     305.90 1978-12-16  ...   \n",
       "...                   ...        ...   ...     ...        ...        ...  ...   \n",
       "5107  2009-05-02 00:00:00       3381   Mr.    Male     198.36 1935-11-23  ...   \n",
       "5108  2008-10-06 00:00:00       3244  Mrs.  Female      28.09 1956-08-27  ...   \n",
       "5109  2009-05-04 00:00:00       3381  Mrs.  Female     653.10 1982-05-13  ...   \n",
       "5110  2009-06-10 00:00:00       3130   Ms.  Female     228.55 1960-01-14  ...   \n",
       "5111  2009-05-04 00:00:00       3363  Mrs.  Female      26.35 1971-12-22  ...   \n",
       "\n",
       "       CARD_STAT  RGSTN_TYPE_IND NO_OF_TRIPS           TOWN EMAIL_IND  \\\n",
       "0     Registered          Online           4        Kyabram         Y   \n",
       "1     Registered          Online          17  Hawthorn East         Y   \n",
       "2     Registered          Online           1        Revesby         Y   \n",
       "3     Registered          Online           2   Willow Grove         Y   \n",
       "4     Registered          Online          12      mona vale         Y   \n",
       "...          ...             ...         ...            ...       ...   \n",
       "5107  Registered          Online           3       Kyvalley         N   \n",
       "5108  Registered          Online           1      frankston         Y   \n",
       "5109  Registered           Phone           9        KYABRAM         N   \n",
       "5110  Registered          Online           6       Mulgrave         Y   \n",
       "5111  Registered      Instore/RF           1        WODONGA         Y   \n",
       "\n",
       "      CONTACT_PREF Average_Qty_PER_ACC Spent amount    AGE_BUCKET     Cust_seg  \n",
       "0            Email                2.75        69.37  LESS THAN 30  Non-premier  \n",
       "1            Email                7.29       498.50      30 to 50      Premier  \n",
       "2            Email                2.00         1.56      51 to 70  Non-premier  \n",
       "3            Email               26.00       160.98      30 to 50  Non-premier  \n",
       "4            Email                6.33       289.10      30 to 50  Non-premier  \n",
       "...            ...                 ...          ...           ...          ...  \n",
       "5107           NaN               21.33       198.36           70+  Non-premier  \n",
       "5108         Email               10.00        28.09      51 to 70  Non-premier  \n",
       "5109           NaN               27.44       852.98      30 to 50      Premier  \n",
       "5110         Email                8.00       228.55      51 to 70  Non-premier  \n",
       "5111           NaN                7.00        26.35      30 to 50  Non-premier  \n",
       "\n",
       "[5112 rows x 26 columns]"
      ]
     },
     "execution_count": 63,
     "metadata": {},
     "output_type": "execute_result"
    }
   ],
   "source": [
    "med_2023['Cust_seg']=np.where((med_2023['Age'].between(30,70)) & (med_2023[\"GENDER\"].isin([\"Female\",\"Male\"])) & (med_2023['Spent amount']>=400),\"Premier\",\"Non-premier\")\n",
    "med_2023"
   ]
  },
  {
   "cell_type": "code",
   "execution_count": 64,
   "id": "3f7d5244",
   "metadata": {},
   "outputs": [
    {
     "data": {
      "text/plain": [
       "Non-premier    3962\n",
       "Premier        1150\n",
       "Name: Cust_seg, dtype: int64"
      ]
     },
     "execution_count": 64,
     "metadata": {},
     "output_type": "execute_result"
    }
   ],
   "source": [
    "med_2023['Cust_seg'].value_counts()"
   ]
  },
  {
   "cell_type": "code",
   "execution_count": 65,
   "id": "39924523",
   "metadata": {},
   "outputs": [
    {
     "data": {
      "text/plain": [
       "Non-premier    0.775039\n",
       "Premier        0.224961\n",
       "Name: Cust_seg, dtype: float64"
      ]
     },
     "execution_count": 65,
     "metadata": {},
     "output_type": "execute_result"
    }
   ],
   "source": [
    "med_2023['Cust_seg'].value_counts(normalize=True)"
   ]
  },
  {
   "cell_type": "code",
   "execution_count": null,
   "id": "4fb1de57",
   "metadata": {},
   "outputs": [],
   "source": []
  },
  {
   "cell_type": "code",
   "execution_count": null,
   "id": "d696ca71",
   "metadata": {},
   "outputs": [],
   "source": []
  },
  {
   "cell_type": "code",
   "execution_count": null,
   "id": "6cc41855",
   "metadata": {},
   "outputs": [],
   "source": []
  }
 ],
 "metadata": {
  "kernelspec": {
   "display_name": "Python 3 (ipykernel)",
   "language": "python",
   "name": "python3"
  },
  "language_info": {
   "codemirror_mode": {
    "name": "ipython",
    "version": 3
   },
   "file_extension": ".py",
   "mimetype": "text/x-python",
   "name": "python",
   "nbconvert_exporter": "python",
   "pygments_lexer": "ipython3",
   "version": "3.9.13"
  }
 },
 "nbformat": 4,
 "nbformat_minor": 5
}
