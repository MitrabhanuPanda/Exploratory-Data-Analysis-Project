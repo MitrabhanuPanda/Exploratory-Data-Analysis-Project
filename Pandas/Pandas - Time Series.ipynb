{
 "cells": [
  {
   "cell_type": "code",
   "execution_count": 1,
   "id": "c90dfb31",
   "metadata": {},
   "outputs": [],
   "source": [
    "import pandas as pd"
   ]
  },
  {
   "cell_type": "code",
   "execution_count": 2,
   "id": "5114463e",
   "metadata": {},
   "outputs": [],
   "source": [
    "import numpy as np"
   ]
  },
  {
   "cell_type": "code",
   "execution_count": 5,
   "id": "81ef75f5",
   "metadata": {},
   "outputs": [],
   "source": [
    "import warnings"
   ]
  },
  {
   "cell_type": "code",
   "execution_count": 6,
   "id": "1b9924e6",
   "metadata": {},
   "outputs": [],
   "source": [
    "warnings.filterwarnings(\"ignore\")"
   ]
  },
  {
   "cell_type": "code",
   "execution_count": 7,
   "id": "5a6b159d",
   "metadata": {},
   "outputs": [],
   "source": [
    "a = \"13-04-2023\""
   ]
  },
  {
   "cell_type": "code",
   "execution_count": 8,
   "id": "bd9b259f",
   "metadata": {},
   "outputs": [
    {
     "data": {
      "text/plain": [
       "Timestamp('2023-04-13 00:00:00')"
      ]
     },
     "execution_count": 8,
     "metadata": {},
     "output_type": "execute_result"
    }
   ],
   "source": [
    "pd.to_datetime(a)"
   ]
  },
  {
   "cell_type": "code",
   "execution_count": 9,
   "id": "a1c13678",
   "metadata": {},
   "outputs": [],
   "source": [
    "b = \"Aug 21, 2023\""
   ]
  },
  {
   "cell_type": "code",
   "execution_count": 10,
   "id": "3308070d",
   "metadata": {},
   "outputs": [
    {
     "data": {
      "text/plain": [
       "Timestamp('2023-08-21 00:00:00')"
      ]
     },
     "execution_count": 10,
     "metadata": {},
     "output_type": "execute_result"
    }
   ],
   "source": [
    "pd.to_datetime(b)"
   ]
  },
  {
   "cell_type": "code",
   "execution_count": 11,
   "id": "5c46f3a0",
   "metadata": {},
   "outputs": [],
   "source": [
    "c = \"15/08/2023\""
   ]
  },
  {
   "cell_type": "code",
   "execution_count": 12,
   "id": "0cba4d1f",
   "metadata": {},
   "outputs": [
    {
     "data": {
      "text/plain": [
       "Timestamp('2023-08-15 00:00:00')"
      ]
     },
     "execution_count": 12,
     "metadata": {},
     "output_type": "execute_result"
    }
   ],
   "source": [
    "pd.to_datetime(c)"
   ]
  },
  {
   "cell_type": "code",
   "execution_count": 13,
   "id": "45c9b581",
   "metadata": {},
   "outputs": [],
   "source": [
    "d = \"20230413\""
   ]
  },
  {
   "cell_type": "code",
   "execution_count": 14,
   "id": "5d8afd5a",
   "metadata": {},
   "outputs": [
    {
     "data": {
      "text/plain": [
       "Timestamp('2023-04-13 00:00:00')"
      ]
     },
     "execution_count": 14,
     "metadata": {},
     "output_type": "execute_result"
    }
   ],
   "source": [
    "pd.to_datetime(d)"
   ]
  },
  {
   "cell_type": "markdown",
   "id": "36676f5d",
   "metadata": {},
   "source": [
    "###  generate series of dates"
   ]
  },
  {
   "cell_type": "code",
   "execution_count": 15,
   "id": "d3b778fd",
   "metadata": {},
   "outputs": [
    {
     "data": {
      "text/plain": [
       "DatetimeIndex(['2023-04-15', '2023-04-16', '2023-04-17', '2023-04-18',\n",
       "               '2023-04-19', '2023-04-20', '2023-04-21', '2023-04-22',\n",
       "               '2023-04-23', '2023-04-24', '2023-04-25', '2023-04-26',\n",
       "               '2023-04-27', '2023-04-28', '2023-04-29', '2023-04-30'],\n",
       "              dtype='datetime64[ns]', freq='D')"
      ]
     },
     "execution_count": 15,
     "metadata": {},
     "output_type": "execute_result"
    }
   ],
   "source": [
    "pd.date_range(start= \"15-04-2023\", end= \"30-04-2023\" )"
   ]
  },
  {
   "cell_type": "code",
   "execution_count": 16,
   "id": "4bd6c7e1",
   "metadata": {},
   "outputs": [
    {
     "data": {
      "text/plain": [
       "DatetimeIndex(['2023-04-15', '2023-04-16', '2023-04-17', '2023-04-18',\n",
       "               '2023-04-19', '2023-04-20', '2023-04-21', '2023-04-22',\n",
       "               '2023-04-23', '2023-04-24', '2023-04-25', '2023-04-26',\n",
       "               '2023-04-27', '2023-04-28', '2023-04-29', '2023-04-30'],\n",
       "              dtype='datetime64[ns]', freq='D')"
      ]
     },
     "execution_count": 16,
     "metadata": {},
     "output_type": "execute_result"
    }
   ],
   "source": [
    "pd.date_range(start= \"15-04-2023\", end= \"30-04-2023\", freq = \"D\")"
   ]
  },
  {
   "cell_type": "code",
   "execution_count": 17,
   "id": "338882f5",
   "metadata": {},
   "outputs": [
    {
     "data": {
      "text/plain": [
       "(16,)"
      ]
     },
     "execution_count": 17,
     "metadata": {},
     "output_type": "execute_result"
    }
   ],
   "source": [
    "pd.date_range(start= \"15-04-2023\", end= \"30-04-2023\", freq = \"D\").shape"
   ]
  },
  {
   "cell_type": "code",
   "execution_count": 18,
   "id": "91430142",
   "metadata": {},
   "outputs": [
    {
     "data": {
      "text/plain": [
       "DatetimeIndex([          '2023-04-15 00:00:00',\n",
       "               '2023-04-15 12:24:49.655172413',\n",
       "               '2023-04-16 00:49:39.310344827',\n",
       "               '2023-04-16 13:14:28.965517241',\n",
       "               '2023-04-17 01:39:18.620689655',\n",
       "               '2023-04-17 14:04:08.275862069',\n",
       "               '2023-04-18 02:28:57.931034482',\n",
       "               '2023-04-18 14:53:47.586206896',\n",
       "               '2023-04-19 03:18:37.241379310',\n",
       "               '2023-04-19 15:43:26.896551724',\n",
       "               '2023-04-20 04:08:16.551724138',\n",
       "               '2023-04-20 16:33:06.206896551',\n",
       "               '2023-04-21 04:57:55.862068965',\n",
       "               '2023-04-21 17:22:45.517241379',\n",
       "               '2023-04-22 05:47:35.172413793',\n",
       "               '2023-04-22 18:12:24.827586207',\n",
       "               '2023-04-23 06:37:14.482758620',\n",
       "               '2023-04-23 19:02:04.137931034',\n",
       "               '2023-04-24 07:26:53.793103448',\n",
       "               '2023-04-24 19:51:43.448275862',\n",
       "               '2023-04-25 08:16:33.103448276',\n",
       "               '2023-04-25 20:41:22.758620689',\n",
       "               '2023-04-26 09:06:12.413793103',\n",
       "               '2023-04-26 21:31:02.068965517',\n",
       "               '2023-04-27 09:55:51.724137931',\n",
       "               '2023-04-27 22:20:41.379310344',\n",
       "               '2023-04-28 10:45:31.034482758',\n",
       "               '2023-04-28 23:10:20.689655172',\n",
       "               '2023-04-29 11:35:10.344827586',\n",
       "                         '2023-04-30 00:00:00'],\n",
       "              dtype='datetime64[ns]', freq=None)"
      ]
     },
     "execution_count": 18,
     "metadata": {},
     "output_type": "execute_result"
    }
   ],
   "source": [
    "pd.date_range(start= \"15-04-2023\", end= \"30-04-2023\",periods = 30)"
   ]
  },
  {
   "cell_type": "code",
   "execution_count": 19,
   "id": "a80d1061",
   "metadata": {},
   "outputs": [
    {
     "data": {
      "text/plain": [
       "(30,)"
      ]
     },
     "execution_count": 19,
     "metadata": {},
     "output_type": "execute_result"
    }
   ],
   "source": [
    "pd.date_range(start= \"15-04-2023\", end= \"30-04-2023\",periods = 30).shape"
   ]
  },
  {
   "cell_type": "code",
   "execution_count": 20,
   "id": "b7d31c36",
   "metadata": {},
   "outputs": [
    {
     "ename": "ValueError",
     "evalue": "Of the four parameters: start, end, periods, and freq, exactly three must be specified",
     "output_type": "error",
     "traceback": [
      "\u001b[1;31m---------------------------------------------------------------------------\u001b[0m",
      "\u001b[1;31mValueError\u001b[0m                                Traceback (most recent call last)",
      "\u001b[1;32m~\\AppData\\Local\\Temp\\ipykernel_5516\\2758434950.py\u001b[0m in \u001b[0;36m<module>\u001b[1;34m\u001b[0m\n\u001b[1;32m----> 1\u001b[1;33m \u001b[0mpd\u001b[0m\u001b[1;33m.\u001b[0m\u001b[0mdate_range\u001b[0m\u001b[1;33m(\u001b[0m\u001b[0mstart\u001b[0m\u001b[1;33m=\u001b[0m \u001b[1;34m\"15-04-2023\"\u001b[0m\u001b[1;33m,\u001b[0m \u001b[0mend\u001b[0m\u001b[1;33m=\u001b[0m \u001b[1;34m\"30-04-2023\"\u001b[0m\u001b[1;33m,\u001b[0m\u001b[0mperiods\u001b[0m \u001b[1;33m=\u001b[0m \u001b[1;36m30\u001b[0m\u001b[1;33m,\u001b[0m \u001b[0mfreq\u001b[0m\u001b[1;33m=\u001b[0m\u001b[1;34m\"D\"\u001b[0m\u001b[1;33m)\u001b[0m\u001b[1;33m\u001b[0m\u001b[1;33m\u001b[0m\u001b[0m\n\u001b[0m",
      "\u001b[1;32m~\\anaconda3\\lib\\site-packages\\pandas\\core\\indexes\\datetimes.py\u001b[0m in \u001b[0;36mdate_range\u001b[1;34m(start, end, periods, freq, tz, normalize, name, closed, inclusive, **kwargs)\u001b[0m\n\u001b[0;32m   1085\u001b[0m         \u001b[0mfreq\u001b[0m \u001b[1;33m=\u001b[0m \u001b[1;34m\"D\"\u001b[0m\u001b[1;33m\u001b[0m\u001b[1;33m\u001b[0m\u001b[0m\n\u001b[0;32m   1086\u001b[0m \u001b[1;33m\u001b[0m\u001b[0m\n\u001b[1;32m-> 1087\u001b[1;33m     dtarr = DatetimeArray._generate_range(\n\u001b[0m\u001b[0;32m   1088\u001b[0m         \u001b[0mstart\u001b[0m\u001b[1;33m=\u001b[0m\u001b[0mstart\u001b[0m\u001b[1;33m,\u001b[0m\u001b[1;33m\u001b[0m\u001b[1;33m\u001b[0m\u001b[0m\n\u001b[0;32m   1089\u001b[0m         \u001b[0mend\u001b[0m\u001b[1;33m=\u001b[0m\u001b[0mend\u001b[0m\u001b[1;33m,\u001b[0m\u001b[1;33m\u001b[0m\u001b[1;33m\u001b[0m\u001b[0m\n",
      "\u001b[1;32m~\\anaconda3\\lib\\site-packages\\pandas\\core\\arrays\\datetimes.py\u001b[0m in \u001b[0;36m_generate_range\u001b[1;34m(cls, start, end, periods, freq, tz, normalize, ambiguous, nonexistent, inclusive)\u001b[0m\n\u001b[0;32m    403\u001b[0m \u001b[1;33m\u001b[0m\u001b[0m\n\u001b[0;32m    404\u001b[0m         \u001b[1;32mif\u001b[0m \u001b[0mcom\u001b[0m\u001b[1;33m.\u001b[0m\u001b[0mcount_not_none\u001b[0m\u001b[1;33m(\u001b[0m\u001b[0mstart\u001b[0m\u001b[1;33m,\u001b[0m \u001b[0mend\u001b[0m\u001b[1;33m,\u001b[0m \u001b[0mperiods\u001b[0m\u001b[1;33m,\u001b[0m \u001b[0mfreq\u001b[0m\u001b[1;33m)\u001b[0m \u001b[1;33m!=\u001b[0m \u001b[1;36m3\u001b[0m\u001b[1;33m:\u001b[0m\u001b[1;33m\u001b[0m\u001b[1;33m\u001b[0m\u001b[0m\n\u001b[1;32m--> 405\u001b[1;33m             raise ValueError(\n\u001b[0m\u001b[0;32m    406\u001b[0m                 \u001b[1;34m\"Of the four parameters: start, end, periods, \"\u001b[0m\u001b[1;33m\u001b[0m\u001b[1;33m\u001b[0m\u001b[0m\n\u001b[0;32m    407\u001b[0m                 \u001b[1;34m\"and freq, exactly three must be specified\"\u001b[0m\u001b[1;33m\u001b[0m\u001b[1;33m\u001b[0m\u001b[0m\n",
      "\u001b[1;31mValueError\u001b[0m: Of the four parameters: start, end, periods, and freq, exactly three must be specified"
     ]
    }
   ],
   "source": [
    "pd.date_range(start= \"15-04-2023\", end= \"30-04-2023\",periods = 30, freq=\"D\")"
   ]
  },
  {
   "cell_type": "code",
   "execution_count": 21,
   "id": "04282515",
   "metadata": {},
   "outputs": [
    {
     "data": {
      "text/plain": [
       "DatetimeIndex(['2023-04-17', '2023-04-18', '2023-04-19', '2023-04-20',\n",
       "               '2023-04-21', '2023-04-24', '2023-04-25', '2023-04-26',\n",
       "               '2023-04-27', '2023-04-28'],\n",
       "              dtype='datetime64[ns]', freq='B')"
      ]
     },
     "execution_count": 21,
     "metadata": {},
     "output_type": "execute_result"
    }
   ],
   "source": [
    "pd.date_range(start= \"15-04-2023\", end= \"30-04-2023\", freq=\"B\")"
   ]
  },
  {
   "cell_type": "code",
   "execution_count": 22,
   "id": "a6d6eff8",
   "metadata": {},
   "outputs": [
    {
     "data": {
      "text/plain": [
       "DatetimeIndex([          '2023-04-15 00:00:00',\n",
       "               '2023-04-15 12:24:49.655172413',\n",
       "               '2023-04-16 00:49:39.310344827',\n",
       "               '2023-04-16 13:14:28.965517241',\n",
       "               '2023-04-17 01:39:18.620689655',\n",
       "               '2023-04-17 14:04:08.275862069',\n",
       "               '2023-04-18 02:28:57.931034482',\n",
       "               '2023-04-18 14:53:47.586206896',\n",
       "               '2023-04-19 03:18:37.241379310',\n",
       "               '2023-04-19 15:43:26.896551724',\n",
       "               '2023-04-20 04:08:16.551724138',\n",
       "               '2023-04-20 16:33:06.206896551',\n",
       "               '2023-04-21 04:57:55.862068965',\n",
       "               '2023-04-21 17:22:45.517241379',\n",
       "               '2023-04-22 05:47:35.172413793',\n",
       "               '2023-04-22 18:12:24.827586207',\n",
       "               '2023-04-23 06:37:14.482758620',\n",
       "               '2023-04-23 19:02:04.137931034',\n",
       "               '2023-04-24 07:26:53.793103448',\n",
       "               '2023-04-24 19:51:43.448275862',\n",
       "               '2023-04-25 08:16:33.103448276',\n",
       "               '2023-04-25 20:41:22.758620689',\n",
       "               '2023-04-26 09:06:12.413793103',\n",
       "               '2023-04-26 21:31:02.068965517',\n",
       "               '2023-04-27 09:55:51.724137931',\n",
       "               '2023-04-27 22:20:41.379310344',\n",
       "               '2023-04-28 10:45:31.034482758',\n",
       "               '2023-04-28 23:10:20.689655172',\n",
       "               '2023-04-29 11:35:10.344827586',\n",
       "                         '2023-04-30 00:00:00'],\n",
       "              dtype='datetime64[ns]', freq=None)"
      ]
     },
     "execution_count": 22,
     "metadata": {},
     "output_type": "execute_result"
    }
   ],
   "source": [
    "pd.date_range(start= \"15-04-2023\", end= \"30-04-2023\",periods = 30)"
   ]
  },
  {
   "cell_type": "code",
   "execution_count": 23,
   "id": "aedee616",
   "metadata": {},
   "outputs": [
    {
     "data": {
      "text/plain": [
       "DatetimeIndex(['2023-04-15', '2023-04-16', '2023-04-17', '2023-04-18',\n",
       "               '2023-04-19', '2023-04-20', '2023-04-21', '2023-04-22',\n",
       "               '2023-04-23', '2023-04-24', '2023-04-25', '2023-04-26',\n",
       "               '2023-04-27', '2023-04-28', '2023-04-29', '2023-04-30',\n",
       "               '2023-05-01', '2023-05-02', '2023-05-03', '2023-05-04',\n",
       "               '2023-05-05', '2023-05-06', '2023-05-07', '2023-05-08',\n",
       "               '2023-05-09', '2023-05-10', '2023-05-11', '2023-05-12',\n",
       "               '2023-05-13', '2023-05-14'],\n",
       "              dtype='datetime64[ns]', freq='D')"
      ]
     },
     "execution_count": 23,
     "metadata": {},
     "output_type": "execute_result"
    }
   ],
   "source": [
    "pd.date_range(start= \"15-04-2023\" , periods = 30, freq=\"D\")"
   ]
  },
  {
   "cell_type": "code",
   "execution_count": 24,
   "id": "6795b021",
   "metadata": {},
   "outputs": [
    {
     "data": {
      "text/plain": [
       "(30,)"
      ]
     },
     "execution_count": 24,
     "metadata": {},
     "output_type": "execute_result"
    }
   ],
   "source": [
    "pd.date_range(start= \"15-04-2023\" , periods = 30, freq=\"D\").shape"
   ]
  },
  {
   "cell_type": "code",
   "execution_count": 26,
   "id": "d0b1bf2e",
   "metadata": {},
   "outputs": [
    {
     "data": {
      "text/plain": [
       "DatetimeIndex(['2023-03-17', '2023-03-18', '2023-03-19', '2023-03-20',\n",
       "               '2023-03-21', '2023-03-22', '2023-03-23', '2023-03-24',\n",
       "               '2023-03-25', '2023-03-26', '2023-03-27', '2023-03-28',\n",
       "               '2023-03-29', '2023-03-30', '2023-03-31', '2023-04-01',\n",
       "               '2023-04-02', '2023-04-03', '2023-04-04', '2023-04-05',\n",
       "               '2023-04-06', '2023-04-07', '2023-04-08', '2023-04-09',\n",
       "               '2023-04-10', '2023-04-11', '2023-04-12', '2023-04-13',\n",
       "               '2023-04-14', '2023-04-15'],\n",
       "              dtype='datetime64[ns]', freq='D')"
      ]
     },
     "execution_count": 26,
     "metadata": {},
     "output_type": "execute_result"
    }
   ],
   "source": [
    "pd.date_range(end = \"15-04-2023\" , periods = 30, freq=\"D\")"
   ]
  },
  {
   "cell_type": "code",
   "execution_count": 27,
   "id": "dc32cefa",
   "metadata": {},
   "outputs": [
    {
     "data": {
      "text/plain": [
       "DatetimeIndex(['2023-04-01', '2023-04-02', '2023-04-03', '2023-04-04',\n",
       "               '2023-04-05', '2023-04-06', '2023-04-07', '2023-04-08',\n",
       "               '2023-04-09', '2023-04-10',\n",
       "               ...\n",
       "               '2023-09-06', '2023-09-07', '2023-09-08', '2023-09-09',\n",
       "               '2023-09-10', '2023-09-11', '2023-09-12', '2023-09-13',\n",
       "               '2023-09-14', '2023-09-15'],\n",
       "              dtype='datetime64[ns]', length=168, freq='D')"
      ]
     },
     "execution_count": 27,
     "metadata": {},
     "output_type": "execute_result"
    }
   ],
   "source": [
    "pd.date_range(start = \"April 01, 2023\", end = \"15-09-2023\")"
   ]
  },
  {
   "cell_type": "code",
   "execution_count": 28,
   "id": "e3dba932",
   "metadata": {},
   "outputs": [
    {
     "data": {
      "text/plain": [
       "(168,)"
      ]
     },
     "execution_count": 28,
     "metadata": {},
     "output_type": "execute_result"
    }
   ],
   "source": [
    "pd.date_range(start = \"April 01, 2023\", end = \"15-09-2023\").shape"
   ]
  },
  {
   "cell_type": "code",
   "execution_count": 30,
   "id": "c9423661",
   "metadata": {},
   "outputs": [
    {
     "data": {
      "text/plain": [
       "DatetimeIndex(['2023-04-03', '2023-04-04', '2023-04-05', '2023-04-06',\n",
       "               '2023-04-07', '2023-04-10', '2023-04-11', '2023-04-12',\n",
       "               '2023-04-13', '2023-04-14',\n",
       "               ...\n",
       "               '2023-09-04', '2023-09-05', '2023-09-06', '2023-09-07',\n",
       "               '2023-09-08', '2023-09-11', '2023-09-12', '2023-09-13',\n",
       "               '2023-09-14', '2023-09-15'],\n",
       "              dtype='datetime64[ns]', length=120, freq='B')"
      ]
     },
     "execution_count": 30,
     "metadata": {},
     "output_type": "execute_result"
    }
   ],
   "source": [
    "pd.date_range(start = \"April 01, 2023\", end = \"15-09-2023\", freq = \"B\")"
   ]
  },
  {
   "cell_type": "code",
   "execution_count": 31,
   "id": "486c1e10",
   "metadata": {},
   "outputs": [
    {
     "data": {
      "text/plain": [
       "DatetimeIndex(['2023-04-30', '2023-05-31', '2023-06-30', '2023-07-31',\n",
       "               '2023-08-31'],\n",
       "              dtype='datetime64[ns]', freq='M')"
      ]
     },
     "execution_count": 31,
     "metadata": {},
     "output_type": "execute_result"
    }
   ],
   "source": [
    "pd.date_range(start = \"April 01, 2023\", end = \"15-09-2023\", freq = \"M\")"
   ]
  },
  {
   "cell_type": "code",
   "execution_count": 32,
   "id": "a40d245f",
   "metadata": {},
   "outputs": [
    {
     "data": {
      "text/plain": [
       "DatetimeIndex(['2023-04-01', '2023-05-01', '2023-06-01', '2023-07-01',\n",
       "               '2023-08-01', '2023-09-01'],\n",
       "              dtype='datetime64[ns]', freq='MS')"
      ]
     },
     "execution_count": 32,
     "metadata": {},
     "output_type": "execute_result"
    }
   ],
   "source": [
    "pd.date_range(start = \"April 01, 2023\", end = \"15-09-2023\", freq = \"MS\")"
   ]
  },
  {
   "cell_type": "code",
   "execution_count": 33,
   "id": "af606e54",
   "metadata": {},
   "outputs": [
    {
     "data": {
      "text/plain": [
       "DatetimeIndex(['2023-04-02', '2023-04-09', '2023-04-16', '2023-04-23',\n",
       "               '2023-04-30', '2023-05-07', '2023-05-14', '2023-05-21',\n",
       "               '2023-05-28', '2023-06-04', '2023-06-11', '2023-06-18',\n",
       "               '2023-06-25', '2023-07-02', '2023-07-09', '2023-07-16',\n",
       "               '2023-07-23', '2023-07-30', '2023-08-06', '2023-08-13',\n",
       "               '2023-08-20', '2023-08-27', '2023-09-03', '2023-09-10'],\n",
       "              dtype='datetime64[ns]', freq='W-SUN')"
      ]
     },
     "execution_count": 33,
     "metadata": {},
     "output_type": "execute_result"
    }
   ],
   "source": [
    "pd.date_range(start = \"April 01, 2023\", end = \"15-09-2023\", freq = \"W\")"
   ]
  },
  {
   "cell_type": "code",
   "execution_count": 34,
   "id": "ced2c8eb",
   "metadata": {},
   "outputs": [
    {
     "data": {
      "text/plain": [
       "DatetimeIndex(['2023-12-31', '2024-12-31', '2025-12-31', '2026-12-31',\n",
       "               '2027-12-31', '2028-12-31', '2029-12-31'],\n",
       "              dtype='datetime64[ns]', freq='A-DEC')"
      ]
     },
     "execution_count": 34,
     "metadata": {},
     "output_type": "execute_result"
    }
   ],
   "source": [
    "pd.date_range(start = \"April 01, 2023\", end = \"15-09-2030\", freq = \"Y\")"
   ]
  },
  {
   "cell_type": "code",
   "execution_count": 36,
   "id": "6c2252b6",
   "metadata": {},
   "outputs": [
    {
     "data": {
      "text/plain": [
       "DatetimeIndex(['2024-01-01', '2025-01-01', '2026-01-01', '2027-01-01',\n",
       "               '2028-01-01', '2029-01-01', '2030-01-01'],\n",
       "              dtype='datetime64[ns]', freq='AS-JAN')"
      ]
     },
     "execution_count": 36,
     "metadata": {},
     "output_type": "execute_result"
    }
   ],
   "source": [
    "pd.date_range(start = \"April 01, 2023\", end = \"15-09-2030\", freq = \"YS\")"
   ]
  },
  {
   "cell_type": "code",
   "execution_count": 37,
   "id": "aa607458",
   "metadata": {},
   "outputs": [
    {
     "data": {
      "text/plain": [
       "DatetimeIndex(['2023-12-31', '2024-12-31', '2025-12-31', '2026-12-31',\n",
       "               '2027-12-31', '2028-12-31', '2029-12-31'],\n",
       "              dtype='datetime64[ns]', freq='A-DEC')"
      ]
     },
     "execution_count": 37,
     "metadata": {},
     "output_type": "execute_result"
    }
   ],
   "source": [
    "pd.date_range(start = \"April 01, 2023\", end = \"15-09-2030\", freq = \"A\")"
   ]
  },
  {
   "cell_type": "code",
   "execution_count": 38,
   "id": "f0f85cf6",
   "metadata": {},
   "outputs": [
    {
     "data": {
      "text/plain": [
       "DatetimeIndex(['2024-01-01', '2025-01-01', '2026-01-01', '2027-01-01',\n",
       "               '2028-01-01', '2029-01-01', '2030-01-01'],\n",
       "              dtype='datetime64[ns]', freq='AS-JAN')"
      ]
     },
     "execution_count": 38,
     "metadata": {},
     "output_type": "execute_result"
    }
   ],
   "source": [
    "pd.date_range(start = \"April 01, 2023\", end = \"15-09-2030\", freq = \"AS\")"
   ]
  },
  {
   "cell_type": "code",
   "execution_count": 39,
   "id": "77c1f61f",
   "metadata": {},
   "outputs": [
    {
     "data": {
      "text/plain": [
       "DatetimeIndex(['2023-12-31', '2024-12-31', '2025-12-31', '2026-12-31',\n",
       "               '2027-12-31', '2028-12-31', '2029-12-31'],\n",
       "              dtype='datetime64[ns]', freq='A-DEC')"
      ]
     },
     "execution_count": 39,
     "metadata": {},
     "output_type": "execute_result"
    }
   ],
   "source": [
    "pd.date_range(start = \"April 01, 2023\", end = \"15-09-2030\", freq = \"Y\")"
   ]
  },
  {
   "cell_type": "code",
   "execution_count": 40,
   "id": "870d4d42",
   "metadata": {},
   "outputs": [
    {
     "data": {
      "text/plain": [
       "DatetimeIndex(['2023-04-30', '2023-05-31', '2023-06-30', '2023-07-31',\n",
       "               '2023-08-31', '2023-09-30', '2023-10-31', '2023-11-30',\n",
       "               '2023-12-31', '2024-01-31', '2024-02-29', '2024-03-31',\n",
       "               '2024-04-30', '2024-05-31', '2024-06-30', '2024-07-31',\n",
       "               '2024-08-31', '2024-09-30', '2024-10-31', '2024-11-30',\n",
       "               '2024-12-31', '2025-01-31', '2025-02-28', '2025-03-31',\n",
       "               '2025-04-30', '2025-05-31', '2025-06-30', '2025-07-31',\n",
       "               '2025-08-31', '2025-09-30', '2025-10-31', '2025-11-30',\n",
       "               '2025-12-31', '2026-01-31', '2026-02-28', '2026-03-31',\n",
       "               '2026-04-30', '2026-05-31', '2026-06-30', '2026-07-31',\n",
       "               '2026-08-31', '2026-09-30', '2026-10-31', '2026-11-30',\n",
       "               '2026-12-31', '2027-01-31', '2027-02-28', '2027-03-31',\n",
       "               '2027-04-30', '2027-05-31', '2027-06-30', '2027-07-31',\n",
       "               '2027-08-31', '2027-09-30', '2027-10-31', '2027-11-30',\n",
       "               '2027-12-31', '2028-01-31', '2028-02-29', '2028-03-31',\n",
       "               '2028-04-30', '2028-05-31', '2028-06-30', '2028-07-31',\n",
       "               '2028-08-31', '2028-09-30', '2028-10-31', '2028-11-30',\n",
       "               '2028-12-31', '2029-01-31', '2029-02-28', '2029-03-31',\n",
       "               '2029-04-30', '2029-05-31', '2029-06-30', '2029-07-31',\n",
       "               '2029-08-31', '2029-09-30', '2029-10-31', '2029-11-30',\n",
       "               '2029-12-31', '2030-01-31', '2030-02-28', '2030-03-31',\n",
       "               '2030-04-30', '2030-05-31', '2030-06-30', '2030-07-31',\n",
       "               '2030-08-31'],\n",
       "              dtype='datetime64[ns]', freq='M')"
      ]
     },
     "execution_count": 40,
     "metadata": {},
     "output_type": "execute_result"
    }
   ],
   "source": [
    "pd.date_range(start = \"April 01, 2023\", end = \"15-09-2030\", freq = \"M\")"
   ]
  },
  {
   "cell_type": "code",
   "execution_count": 41,
   "id": "3816385c",
   "metadata": {},
   "outputs": [
    {
     "data": {
      "text/plain": [
       "DatetimeIndex(['2023-04-30', '2023-10-31', '2024-04-30', '2024-10-31',\n",
       "               '2025-04-30', '2025-10-31', '2026-04-30', '2026-10-31',\n",
       "               '2027-04-30', '2027-10-31', '2028-04-30', '2028-10-31',\n",
       "               '2029-04-30', '2029-10-31', '2030-04-30'],\n",
       "              dtype='datetime64[ns]', freq='6M')"
      ]
     },
     "execution_count": 41,
     "metadata": {},
     "output_type": "execute_result"
    }
   ],
   "source": [
    "pd.date_range(start = \"April 01, 2023\", end = \"15-09-2030\", freq = \"6M\")"
   ]
  },
  {
   "cell_type": "code",
   "execution_count": 46,
   "id": "f4081f05",
   "metadata": {},
   "outputs": [
    {
     "data": {
      "text/plain": [
       "DatetimeIndex(['2023-04-01', '2023-10-01', '2024-04-01', '2024-10-01',\n",
       "               '2025-04-01', '2025-10-01', '2026-04-01', '2026-10-01',\n",
       "               '2027-04-01', '2027-10-01', '2028-04-01', '2028-10-01',\n",
       "               '2029-04-01', '2029-10-01', '2030-04-01'],\n",
       "              dtype='datetime64[ns]', freq='6MS')"
      ]
     },
     "execution_count": 46,
     "metadata": {},
     "output_type": "execute_result"
    }
   ],
   "source": [
    "pd.date_range(start = \"April 01, 2023\", end = \"15-09-2030\", freq = \"6MS\")"
   ]
  },
  {
   "cell_type": "code",
   "execution_count": 49,
   "id": "257c0106",
   "metadata": {},
   "outputs": [
    {
     "data": {
      "text/plain": [
       "DatetimeIndex(['2023-04-01 00:00:00', '2023-04-01 01:00:00',\n",
       "               '2023-04-01 02:00:00', '2023-04-01 03:00:00',\n",
       "               '2023-04-01 04:00:00', '2023-04-01 05:00:00',\n",
       "               '2023-04-01 06:00:00', '2023-04-01 07:00:00',\n",
       "               '2023-04-01 08:00:00', '2023-04-01 09:00:00',\n",
       "               '2023-04-01 10:00:00', '2023-04-01 11:00:00',\n",
       "               '2023-04-01 12:00:00', '2023-04-01 13:00:00',\n",
       "               '2023-04-01 14:00:00', '2023-04-01 15:00:00',\n",
       "               '2023-04-01 16:00:00', '2023-04-01 17:00:00',\n",
       "               '2023-04-01 18:00:00', '2023-04-01 19:00:00',\n",
       "               '2023-04-01 20:00:00', '2023-04-01 21:00:00',\n",
       "               '2023-04-01 22:00:00', '2023-04-01 23:00:00',\n",
       "               '2023-04-02 00:00:00'],\n",
       "              dtype='datetime64[ns]', freq='H')"
      ]
     },
     "execution_count": 49,
     "metadata": {},
     "output_type": "execute_result"
    }
   ],
   "source": [
    "pd.date_range(start = \"April 01, 2023\", end = \"20230402\", freq = \"H\")"
   ]
  },
  {
   "cell_type": "code",
   "execution_count": 50,
   "id": "0460202d",
   "metadata": {},
   "outputs": [
    {
     "data": {
      "text/plain": [
       "DatetimeIndex(['2023-04-01 00:00:00', '2023-04-01 03:00:00',\n",
       "               '2023-04-01 06:00:00', '2023-04-01 09:00:00',\n",
       "               '2023-04-01 12:00:00', '2023-04-01 15:00:00',\n",
       "               '2023-04-01 18:00:00', '2023-04-01 21:00:00',\n",
       "               '2023-04-02 00:00:00'],\n",
       "              dtype='datetime64[ns]', freq='3H')"
      ]
     },
     "execution_count": 50,
     "metadata": {},
     "output_type": "execute_result"
    }
   ],
   "source": [
    "pd.date_range(start = \"April 01, 2023\", end = \"20230402\", freq = \"3H\")"
   ]
  },
  {
   "cell_type": "code",
   "execution_count": 52,
   "id": "159c8b7e",
   "metadata": {},
   "outputs": [
    {
     "data": {
      "text/plain": [
       "DatetimeIndex(['2023-06-15', '2023-06-16', '2023-06-17', '2023-06-18',\n",
       "               '2023-06-19', '2023-06-20', '2023-06-21', '2023-06-22',\n",
       "               '2023-06-23', '2023-06-24', '2023-06-25', '2023-06-26',\n",
       "               '2023-06-27', '2023-06-28', '2023-06-29', '2023-06-30',\n",
       "               '2023-07-01', '2023-07-02', '2023-07-03', '2023-07-04',\n",
       "               '2023-07-05', '2023-07-06', '2023-07-07', '2023-07-08',\n",
       "               '2023-07-09', '2023-07-10', '2023-07-11', '2023-07-12',\n",
       "               '2023-07-13', '2023-07-14', '2023-07-15'],\n",
       "              dtype='datetime64[ns]', freq='D')"
      ]
     },
     "execution_count": 52,
     "metadata": {},
     "output_type": "execute_result"
    }
   ],
   "source": [
    "pd.date_range(start=\"2023-06-15\", end=\"2023-07-15\", freq = \"D\")"
   ]
  },
  {
   "cell_type": "code",
   "execution_count": 54,
   "id": "22b9410f",
   "metadata": {},
   "outputs": [
    {
     "data": {
      "text/plain": [
       "(31,)"
      ]
     },
     "execution_count": 54,
     "metadata": {},
     "output_type": "execute_result"
    }
   ],
   "source": [
    "pd.date_range(start=\"2023-06-15\", end=\"2023-07-15\", freq = \"D\").shape"
   ]
  },
  {
   "cell_type": "code",
   "execution_count": 53,
   "id": "99ac0e9a",
   "metadata": {},
   "outputs": [
    {
     "data": {
      "text/plain": [
       "DatetimeIndex(['2023-06-15', '2023-06-16', '2023-06-19', '2023-06-20',\n",
       "               '2023-06-21', '2023-06-22', '2023-06-23', '2023-06-26',\n",
       "               '2023-06-27', '2023-06-28', '2023-06-29', '2023-06-30',\n",
       "               '2023-07-03', '2023-07-04', '2023-07-05', '2023-07-06',\n",
       "               '2023-07-07', '2023-07-10', '2023-07-11', '2023-07-12',\n",
       "               '2023-07-13', '2023-07-14'],\n",
       "              dtype='datetime64[ns]', freq='B')"
      ]
     },
     "execution_count": 53,
     "metadata": {},
     "output_type": "execute_result"
    }
   ],
   "source": [
    "pd.date_range(start=\"2023-06-15\", end=\"2023-07-15\", freq = \"B\")"
   ]
  },
  {
   "cell_type": "code",
   "execution_count": 55,
   "id": "3a6a8d9a",
   "metadata": {},
   "outputs": [
    {
     "data": {
      "text/plain": [
       "(22,)"
      ]
     },
     "execution_count": 55,
     "metadata": {},
     "output_type": "execute_result"
    }
   ],
   "source": [
    "pd.date_range(start=\"2023-06-15\", end=\"2023-07-15\", freq = \"B\").shape"
   ]
  },
  {
   "cell_type": "code",
   "execution_count": 56,
   "id": "1adce8aa",
   "metadata": {},
   "outputs": [],
   "source": [
    "from pandas.tseries.holiday import USFederalHolidayCalendar"
   ]
  },
  {
   "cell_type": "code",
   "execution_count": 57,
   "id": "0cccaf36",
   "metadata": {},
   "outputs": [],
   "source": [
    "from pandas.tseries.offsets import CustomBusinessDay"
   ]
  },
  {
   "cell_type": "code",
   "execution_count": 58,
   "id": "4ba5d643",
   "metadata": {},
   "outputs": [],
   "source": [
    "ush = CustomBusinessDay(calendar = USFederalHolidayCalendar())"
   ]
  },
  {
   "cell_type": "code",
   "execution_count": 59,
   "id": "540abe7a",
   "metadata": {},
   "outputs": [
    {
     "data": {
      "text/plain": [
       "<CustomBusinessDay>"
      ]
     },
     "execution_count": 59,
     "metadata": {},
     "output_type": "execute_result"
    }
   ],
   "source": [
    "ush"
   ]
  },
  {
   "cell_type": "code",
   "execution_count": 60,
   "id": "7bd9b48c",
   "metadata": {},
   "outputs": [
    {
     "data": {
      "text/plain": [
       "DatetimeIndex(['2023-06-15', '2023-06-16', '2023-06-20', '2023-06-21',\n",
       "               '2023-06-22', '2023-06-23', '2023-06-26', '2023-06-27',\n",
       "               '2023-06-28', '2023-06-29', '2023-06-30', '2023-07-03',\n",
       "               '2023-07-05', '2023-07-06', '2023-07-07', '2023-07-10',\n",
       "               '2023-07-11', '2023-07-12', '2023-07-13', '2023-07-14'],\n",
       "              dtype='datetime64[ns]', freq='C')"
      ]
     },
     "execution_count": 60,
     "metadata": {},
     "output_type": "execute_result"
    }
   ],
   "source": [
    "pd.date_range(start=\"2023-06-15\", end=\"2023-07-15\", freq = ush)"
   ]
  },
  {
   "cell_type": "code",
   "execution_count": 61,
   "id": "4b0eaf30",
   "metadata": {},
   "outputs": [
    {
     "data": {
      "text/plain": [
       "DatetimeIndex(['2023-12-15', '2023-12-16', '2023-12-17', '2023-12-18',\n",
       "               '2023-12-19', '2023-12-20', '2023-12-21', '2023-12-22',\n",
       "               '2023-12-23', '2023-12-24', '2023-12-25', '2023-12-26',\n",
       "               '2023-12-27', '2023-12-28', '2023-12-29', '2023-12-30',\n",
       "               '2023-12-31', '2024-01-01', '2024-01-02', '2024-01-03',\n",
       "               '2024-01-04', '2024-01-05', '2024-01-06', '2024-01-07',\n",
       "               '2024-01-08', '2024-01-09', '2024-01-10', '2024-01-11',\n",
       "               '2024-01-12', '2024-01-13', '2024-01-14', '2024-01-15'],\n",
       "              dtype='datetime64[ns]', freq='D')"
      ]
     },
     "execution_count": 61,
     "metadata": {},
     "output_type": "execute_result"
    }
   ],
   "source": [
    "pd.date_range(start=\"2023-12-15\", end=\"2024-01-15\", freq = \"D\")"
   ]
  },
  {
   "cell_type": "code",
   "execution_count": 62,
   "id": "d37f9958",
   "metadata": {},
   "outputs": [
    {
     "data": {
      "text/plain": [
       "(32,)"
      ]
     },
     "execution_count": 62,
     "metadata": {},
     "output_type": "execute_result"
    }
   ],
   "source": [
    "pd.date_range(start=\"2023-12-15\", end=\"2024-01-15\", freq = \"D\").shape"
   ]
  },
  {
   "cell_type": "code",
   "execution_count": 63,
   "id": "fd19d690",
   "metadata": {},
   "outputs": [
    {
     "data": {
      "text/plain": [
       "DatetimeIndex(['2023-12-15', '2023-12-18', '2023-12-19', '2023-12-20',\n",
       "               '2023-12-21', '2023-12-22', '2023-12-25', '2023-12-26',\n",
       "               '2023-12-27', '2023-12-28', '2023-12-29', '2024-01-01',\n",
       "               '2024-01-02', '2024-01-03', '2024-01-04', '2024-01-05',\n",
       "               '2024-01-08', '2024-01-09', '2024-01-10', '2024-01-11',\n",
       "               '2024-01-12', '2024-01-15'],\n",
       "              dtype='datetime64[ns]', freq='B')"
      ]
     },
     "execution_count": 63,
     "metadata": {},
     "output_type": "execute_result"
    }
   ],
   "source": [
    "pd.date_range(start=\"2023-12-15\", end=\"2024-01-15\", freq = \"B\")"
   ]
  },
  {
   "cell_type": "code",
   "execution_count": 65,
   "id": "20cd242b",
   "metadata": {},
   "outputs": [
    {
     "data": {
      "text/plain": [
       "(22,)"
      ]
     },
     "execution_count": 65,
     "metadata": {},
     "output_type": "execute_result"
    }
   ],
   "source": [
    "pd.date_range(start=\"2023-12-15\", end=\"2024-01-15\", freq = \"B\").shape"
   ]
  },
  {
   "cell_type": "code",
   "execution_count": 66,
   "id": "71f43e17",
   "metadata": {},
   "outputs": [],
   "source": [
    "from pandas.tseries.holiday import USFederalHolidayCalendar"
   ]
  },
  {
   "cell_type": "code",
   "execution_count": 67,
   "id": "afa850b5",
   "metadata": {},
   "outputs": [],
   "source": [
    "from pandas.tseries.offsets import CustomBusinessDay"
   ]
  },
  {
   "cell_type": "code",
   "execution_count": 68,
   "id": "d1eddbaf",
   "metadata": {},
   "outputs": [],
   "source": [
    "usa = CustomBusinessDay(calendar = USFederalHolidayCalendar())"
   ]
  },
  {
   "cell_type": "code",
   "execution_count": 69,
   "id": "3677d734",
   "metadata": {},
   "outputs": [
    {
     "data": {
      "text/plain": [
       "DatetimeIndex(['2023-12-15', '2023-12-18', '2023-12-19', '2023-12-20',\n",
       "               '2023-12-21', '2023-12-22', '2023-12-26', '2023-12-27',\n",
       "               '2023-12-28', '2023-12-29', '2024-01-02', '2024-01-03',\n",
       "               '2024-01-04', '2024-01-05', '2024-01-08', '2024-01-09',\n",
       "               '2024-01-10', '2024-01-11', '2024-01-12'],\n",
       "              dtype='datetime64[ns]', freq='C')"
      ]
     },
     "execution_count": 69,
     "metadata": {},
     "output_type": "execute_result"
    }
   ],
   "source": [
    "pd.date_range(start=\"2023-12-15\", end=\"2024-01-15\", freq = usa)"
   ]
  },
  {
   "cell_type": "code",
   "execution_count": 70,
   "id": "329cbcb6",
   "metadata": {},
   "outputs": [
    {
     "data": {
      "text/plain": [
       "(19,)"
      ]
     },
     "execution_count": 70,
     "metadata": {},
     "output_type": "execute_result"
    }
   ],
   "source": [
    "pd.date_range(start=\"2023-12-15\", end=\"2024-01-15\", freq = usa).shape"
   ]
  },
  {
   "cell_type": "code",
   "execution_count": 71,
   "id": "c5f0a311",
   "metadata": {},
   "outputs": [],
   "source": [
    "from pandas.tseries.holiday import AbstractHolidayCalendar, Holiday"
   ]
  },
  {
   "cell_type": "code",
   "execution_count": 72,
   "id": "c72f67a9",
   "metadata": {},
   "outputs": [],
   "source": [
    "from pandas.tseries.offsets import CustomBusinessDay"
   ]
  },
  {
   "cell_type": "code",
   "execution_count": 73,
   "id": "93d2c2bb",
   "metadata": {},
   "outputs": [],
   "source": [
    "class IndianHolidayCalendar(AbstractHolidayCalendar):\n",
    "\n",
    "    rules = [\n",
    "        Holiday(\"New Year's Day\", month=1, day=1),\n",
    "        Holiday(\"Independence Day\", month=8, day=15),\n",
    "        Holiday(\"Diwali\", month=11, day=15),\n",
    "        Holiday(\"Formation Day\", month=12, day=11),\n",
    "        Holiday(\"Christmas Day\", month=12, day=25),\n",
    "    ]\n"
   ]
  },
  {
   "cell_type": "code",
   "execution_count": 74,
   "id": "14883217",
   "metadata": {},
   "outputs": [],
   "source": [
    "ich = CustomBusinessDay(calendar = IndianHolidayCalendar())"
   ]
  },
  {
   "cell_type": "code",
   "execution_count": 75,
   "id": "db4387a8",
   "metadata": {},
   "outputs": [
    {
     "data": {
      "text/plain": [
       "<CustomBusinessDay>"
      ]
     },
     "execution_count": 75,
     "metadata": {},
     "output_type": "execute_result"
    }
   ],
   "source": [
    "ich"
   ]
  },
  {
   "cell_type": "code",
   "execution_count": 76,
   "id": "f40cfc83",
   "metadata": {},
   "outputs": [
    {
     "data": {
      "text/plain": [
       "DatetimeIndex(['2023-08-01', '2023-08-02', '2023-08-03', '2023-08-04',\n",
       "               '2023-08-05', '2023-08-06', '2023-08-07', '2023-08-08',\n",
       "               '2023-08-09', '2023-08-10', '2023-08-11', '2023-08-12',\n",
       "               '2023-08-13', '2023-08-14', '2023-08-15', '2023-08-16',\n",
       "               '2023-08-17', '2023-08-18', '2023-08-19', '2023-08-20'],\n",
       "              dtype='datetime64[ns]', freq='D')"
      ]
     },
     "execution_count": 76,
     "metadata": {},
     "output_type": "execute_result"
    }
   ],
   "source": [
    "pd.date_range(start=\"2023-08-01\", end=\"2023-08-20\", freq=\"D\")"
   ]
  },
  {
   "cell_type": "code",
   "execution_count": 77,
   "id": "5493137c",
   "metadata": {},
   "outputs": [
    {
     "data": {
      "text/plain": [
       "(20,)"
      ]
     },
     "execution_count": 77,
     "metadata": {},
     "output_type": "execute_result"
    }
   ],
   "source": [
    "pd.date_range(start=\"2023-08-01\", end=\"2023-08-20\", freq=\"D\").shape"
   ]
  },
  {
   "cell_type": "code",
   "execution_count": 78,
   "id": "78b19d39",
   "metadata": {},
   "outputs": [
    {
     "data": {
      "text/plain": [
       "DatetimeIndex(['2023-08-01', '2023-08-02', '2023-08-03', '2023-08-04',\n",
       "               '2023-08-07', '2023-08-08', '2023-08-09', '2023-08-10',\n",
       "               '2023-08-11', '2023-08-14', '2023-08-15', '2023-08-16',\n",
       "               '2023-08-17', '2023-08-18'],\n",
       "              dtype='datetime64[ns]', freq='B')"
      ]
     },
     "execution_count": 78,
     "metadata": {},
     "output_type": "execute_result"
    }
   ],
   "source": [
    "pd.date_range(start=\"2023-08-01\", end=\"2023-08-20\", freq=\"B\")"
   ]
  },
  {
   "cell_type": "code",
   "execution_count": 79,
   "id": "2ea59154",
   "metadata": {},
   "outputs": [
    {
     "data": {
      "text/plain": [
       "(14,)"
      ]
     },
     "execution_count": 79,
     "metadata": {},
     "output_type": "execute_result"
    }
   ],
   "source": [
    "pd.date_range(start=\"2023-08-01\", end=\"2023-08-20\", freq=\"B\").shape"
   ]
  },
  {
   "cell_type": "code",
   "execution_count": 80,
   "id": "66e416bc",
   "metadata": {},
   "outputs": [
    {
     "data": {
      "text/plain": [
       "DatetimeIndex(['2023-08-01', '2023-08-02', '2023-08-03', '2023-08-04',\n",
       "               '2023-08-07', '2023-08-08', '2023-08-09', '2023-08-10',\n",
       "               '2023-08-11', '2023-08-14', '2023-08-16', '2023-08-17',\n",
       "               '2023-08-18'],\n",
       "              dtype='datetime64[ns]', freq='C')"
      ]
     },
     "execution_count": 80,
     "metadata": {},
     "output_type": "execute_result"
    }
   ],
   "source": [
    "pd.date_range(start=\"2023-08-01\", end=\"2023-08-20\", freq=ich)"
   ]
  },
  {
   "cell_type": "code",
   "execution_count": 81,
   "id": "7cd21023",
   "metadata": {},
   "outputs": [
    {
     "data": {
      "text/plain": [
       "DatetimeIndex(['2023-11-10', '2023-11-11', '2023-11-12', '2023-11-13',\n",
       "               '2023-11-14', '2023-11-15', '2023-11-16', '2023-11-17',\n",
       "               '2023-11-18', '2023-11-19', '2023-11-20', '2023-11-21',\n",
       "               '2023-11-22', '2023-11-23', '2023-11-24', '2023-11-25',\n",
       "               '2023-11-26', '2023-11-27', '2023-11-28', '2023-11-29',\n",
       "               '2023-11-30', '2023-12-01', '2023-12-02', '2023-12-03',\n",
       "               '2023-12-04', '2023-12-05', '2023-12-06', '2023-12-07',\n",
       "               '2023-12-08', '2023-12-09', '2023-12-10', '2023-12-11',\n",
       "               '2023-12-12', '2023-12-13', '2023-12-14', '2023-12-15',\n",
       "               '2023-12-16', '2023-12-17', '2023-12-18', '2023-12-19',\n",
       "               '2023-12-20', '2023-12-21', '2023-12-22', '2023-12-23',\n",
       "               '2023-12-24', '2023-12-25', '2023-12-26', '2023-12-27',\n",
       "               '2023-12-28', '2023-12-29', '2023-12-30', '2023-12-31',\n",
       "               '2024-01-01', '2024-01-02', '2024-01-03', '2024-01-04',\n",
       "               '2024-01-05'],\n",
       "              dtype='datetime64[ns]', freq='D')"
      ]
     },
     "execution_count": 81,
     "metadata": {},
     "output_type": "execute_result"
    }
   ],
   "source": [
    "pd.date_range(start=\"2023-11-10\", end=\"2024-01-05\", freq=\"D\")"
   ]
  },
  {
   "cell_type": "code",
   "execution_count": 82,
   "id": "a0bcacc5",
   "metadata": {},
   "outputs": [
    {
     "data": {
      "text/plain": [
       "(57,)"
      ]
     },
     "execution_count": 82,
     "metadata": {},
     "output_type": "execute_result"
    }
   ],
   "source": [
    "pd.date_range(start=\"2023-11-10\", end=\"2024-01-05\", freq=\"D\").shape"
   ]
  },
  {
   "cell_type": "code",
   "execution_count": 83,
   "id": "fe1e96e3",
   "metadata": {},
   "outputs": [
    {
     "data": {
      "text/plain": [
       "DatetimeIndex(['2023-11-10', '2023-11-13', '2023-11-14', '2023-11-15',\n",
       "               '2023-11-16', '2023-11-17', '2023-11-20', '2023-11-21',\n",
       "               '2023-11-22', '2023-11-23', '2023-11-24', '2023-11-27',\n",
       "               '2023-11-28', '2023-11-29', '2023-11-30', '2023-12-01',\n",
       "               '2023-12-04', '2023-12-05', '2023-12-06', '2023-12-07',\n",
       "               '2023-12-08', '2023-12-11', '2023-12-12', '2023-12-13',\n",
       "               '2023-12-14', '2023-12-15', '2023-12-18', '2023-12-19',\n",
       "               '2023-12-20', '2023-12-21', '2023-12-22', '2023-12-25',\n",
       "               '2023-12-26', '2023-12-27', '2023-12-28', '2023-12-29',\n",
       "               '2024-01-01', '2024-01-02', '2024-01-03', '2024-01-04',\n",
       "               '2024-01-05'],\n",
       "              dtype='datetime64[ns]', freq='B')"
      ]
     },
     "execution_count": 83,
     "metadata": {},
     "output_type": "execute_result"
    }
   ],
   "source": [
    "pd.date_range(start=\"2023-11-10\", end=\"2024-01-05\", freq=\"B\")"
   ]
  },
  {
   "cell_type": "code",
   "execution_count": 84,
   "id": "94ecf813",
   "metadata": {},
   "outputs": [
    {
     "data": {
      "text/plain": [
       "(41,)"
      ]
     },
     "execution_count": 84,
     "metadata": {},
     "output_type": "execute_result"
    }
   ],
   "source": [
    "pd.date_range(start=\"2023-11-10\", end=\"2024-01-05\", freq=\"B\").shape"
   ]
  },
  {
   "cell_type": "code",
   "execution_count": 85,
   "id": "37e08a09",
   "metadata": {},
   "outputs": [
    {
     "data": {
      "text/plain": [
       "DatetimeIndex(['2023-11-10', '2023-11-13', '2023-11-14', '2023-11-16',\n",
       "               '2023-11-17', '2023-11-20', '2023-11-21', '2023-11-22',\n",
       "               '2023-11-23', '2023-11-24', '2023-11-27', '2023-11-28',\n",
       "               '2023-11-29', '2023-11-30', '2023-12-01', '2023-12-04',\n",
       "               '2023-12-05', '2023-12-06', '2023-12-07', '2023-12-08',\n",
       "               '2023-12-12', '2023-12-13', '2023-12-14', '2023-12-15',\n",
       "               '2023-12-18', '2023-12-19', '2023-12-20', '2023-12-21',\n",
       "               '2023-12-22', '2023-12-26', '2023-12-27', '2023-12-28',\n",
       "               '2023-12-29', '2024-01-02', '2024-01-03', '2024-01-04',\n",
       "               '2024-01-05'],\n",
       "              dtype='datetime64[ns]', freq='C')"
      ]
     },
     "execution_count": 85,
     "metadata": {},
     "output_type": "execute_result"
    }
   ],
   "source": [
    "pd.date_range(start=\"2023-11-10\", end=\"2024-01-05\", freq=ich)"
   ]
  },
  {
   "cell_type": "code",
   "execution_count": 86,
   "id": "4ccd7013",
   "metadata": {},
   "outputs": [],
   "source": [
    "we = CustomBusinessDay(weekmask = 'Sun Mon Tue Wed Thu' )"
   ]
  },
  {
   "cell_type": "code",
   "execution_count": 87,
   "id": "8e23ffcf",
   "metadata": {},
   "outputs": [
    {
     "data": {
      "text/plain": [
       "<CustomBusinessDay>"
      ]
     },
     "execution_count": 87,
     "metadata": {},
     "output_type": "execute_result"
    }
   ],
   "source": [
    "we"
   ]
  },
  {
   "cell_type": "code",
   "execution_count": 88,
   "id": "83b7da3a",
   "metadata": {},
   "outputs": [
    {
     "data": {
      "text/plain": [
       "DatetimeIndex(['2023-04-01', '2023-04-02', '2023-04-03', '2023-04-04',\n",
       "               '2023-04-05', '2023-04-06', '2023-04-07', '2023-04-08',\n",
       "               '2023-04-09', '2023-04-10', '2023-04-11', '2023-04-12',\n",
       "               '2023-04-13', '2023-04-14', '2023-04-15', '2023-04-16',\n",
       "               '2023-04-17', '2023-04-18', '2023-04-19', '2023-04-20',\n",
       "               '2023-04-21', '2023-04-22', '2023-04-23', '2023-04-24',\n",
       "               '2023-04-25', '2023-04-26', '2023-04-27', '2023-04-28',\n",
       "               '2023-04-29', '2023-04-30', '2023-05-01'],\n",
       "              dtype='datetime64[ns]', freq='D')"
      ]
     },
     "execution_count": 88,
     "metadata": {},
     "output_type": "execute_result"
    }
   ],
   "source": [
    "pd.date_range(start=\"2023-04-01\", end=\"2023-05-01\", freq=\"D\")"
   ]
  },
  {
   "cell_type": "code",
   "execution_count": 89,
   "id": "bafb8c89",
   "metadata": {},
   "outputs": [
    {
     "data": {
      "text/plain": [
       "DatetimeIndex(['2023-04-03', '2023-04-04', '2023-04-05', '2023-04-06',\n",
       "               '2023-04-07', '2023-04-10', '2023-04-11', '2023-04-12',\n",
       "               '2023-04-13', '2023-04-14', '2023-04-17', '2023-04-18',\n",
       "               '2023-04-19', '2023-04-20', '2023-04-21', '2023-04-24',\n",
       "               '2023-04-25', '2023-04-26', '2023-04-27', '2023-04-28',\n",
       "               '2023-05-01'],\n",
       "              dtype='datetime64[ns]', freq='B')"
      ]
     },
     "execution_count": 89,
     "metadata": {},
     "output_type": "execute_result"
    }
   ],
   "source": [
    "pd.date_range(start=\"2023-04-01\", end=\"2023-05-01\", freq=\"B\")"
   ]
  },
  {
   "cell_type": "code",
   "execution_count": 90,
   "id": "faf0aa38",
   "metadata": {},
   "outputs": [
    {
     "data": {
      "text/plain": [
       "DatetimeIndex(['2023-04-02', '2023-04-03', '2023-04-04', '2023-04-05',\n",
       "               '2023-04-06', '2023-04-09', '2023-04-10', '2023-04-11',\n",
       "               '2023-04-12', '2023-04-13', '2023-04-16', '2023-04-17',\n",
       "               '2023-04-18', '2023-04-19', '2023-04-20', '2023-04-23',\n",
       "               '2023-04-24', '2023-04-25', '2023-04-26', '2023-04-27',\n",
       "               '2023-04-30', '2023-05-01'],\n",
       "              dtype='datetime64[ns]', freq='C')"
      ]
     },
     "execution_count": 90,
     "metadata": {},
     "output_type": "execute_result"
    }
   ],
   "source": [
    "pd.date_range(start=\"2023-04-01\", end=\"2023-05-01\", freq=we)"
   ]
  },
  {
   "cell_type": "code",
   "execution_count": null,
   "id": "bb52da0e",
   "metadata": {},
   "outputs": [],
   "source": []
  }
 ],
 "metadata": {
  "kernelspec": {
   "display_name": "Python 3 (ipykernel)",
   "language": "python",
   "name": "python3"
  },
  "language_info": {
   "codemirror_mode": {
    "name": "ipython",
    "version": 3
   },
   "file_extension": ".py",
   "mimetype": "text/x-python",
   "name": "python",
   "nbconvert_exporter": "python",
   "pygments_lexer": "ipython3",
   "version": "3.9.13"
  }
 },
 "nbformat": 4,
 "nbformat_minor": 5
}
