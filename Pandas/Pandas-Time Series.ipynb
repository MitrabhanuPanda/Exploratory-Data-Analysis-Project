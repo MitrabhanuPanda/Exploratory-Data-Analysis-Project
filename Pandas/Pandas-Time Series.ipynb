{
 "cells": [
  {
   "cell_type": "code",
   "execution_count": 1,
   "id": "feb06783",
   "metadata": {},
   "outputs": [],
   "source": [
    "import pandas as pd\n",
    "import numpy as np\n",
    "import warnings\n",
    "warnings.filterwarnings(\"ignore\")"
   ]
  },
  {
   "cell_type": "markdown",
   "id": "553e92cc",
   "metadata": {},
   "source": [
    "### "
   ]
  },
  {
   "cell_type": "code",
   "execution_count": 2,
   "id": "cf3f13f5",
   "metadata": {},
   "outputs": [],
   "source": [
    "a=\"19-09-2022\""
   ]
  },
  {
   "cell_type": "code",
   "execution_count": 3,
   "id": "f1ecba87",
   "metadata": {},
   "outputs": [
    {
     "data": {
      "text/plain": [
       "Timestamp('2022-09-19 00:00:00')"
      ]
     },
     "execution_count": 3,
     "metadata": {},
     "output_type": "execute_result"
    }
   ],
   "source": [
    "pd.to_datetime(a)"
   ]
  },
  {
   "cell_type": "code",
   "execution_count": 8,
   "id": "e9a875a3",
   "metadata": {},
   "outputs": [],
   "source": [
    "b=\"Aug 21, 2023\""
   ]
  },
  {
   "cell_type": "code",
   "execution_count": 9,
   "id": "8d6ed31b",
   "metadata": {},
   "outputs": [
    {
     "data": {
      "text/plain": [
       "Timestamp('2023-08-21 00:00:00')"
      ]
     },
     "execution_count": 9,
     "metadata": {},
     "output_type": "execute_result"
    }
   ],
   "source": [
    "pd.to_datetime(b)"
   ]
  },
  {
   "cell_type": "code",
   "execution_count": 10,
   "id": "5b96dc62",
   "metadata": {},
   "outputs": [],
   "source": [
    "c=\"23/09/2023\""
   ]
  },
  {
   "cell_type": "code",
   "execution_count": 11,
   "id": "679a3ab9",
   "metadata": {},
   "outputs": [
    {
     "data": {
      "text/plain": [
       "Timestamp('2023-09-23 00:00:00')"
      ]
     },
     "execution_count": 11,
     "metadata": {},
     "output_type": "execute_result"
    }
   ],
   "source": [
    "pd.to_datetime(c)"
   ]
  },
  {
   "cell_type": "code",
   "execution_count": 12,
   "id": "e20aeabf",
   "metadata": {},
   "outputs": [],
   "source": [
    "d=\"20230410\""
   ]
  },
  {
   "cell_type": "code",
   "execution_count": 13,
   "id": "e5b95663",
   "metadata": {},
   "outputs": [
    {
     "data": {
      "text/plain": [
       "Timestamp('2023-04-10 00:00:00')"
      ]
     },
     "execution_count": 13,
     "metadata": {},
     "output_type": "execute_result"
    }
   ],
   "source": [
    "pd.to_datetime(d)"
   ]
  },
  {
   "cell_type": "markdown",
   "id": "a4d8639c",
   "metadata": {},
   "source": [
    "### Generate Series Of Dates"
   ]
  },
  {
   "cell_type": "code",
   "execution_count": 18,
   "id": "78373fbf",
   "metadata": {},
   "outputs": [
    {
     "data": {
      "text/plain": [
       "DatetimeIndex(['2023-04-15', '2023-04-16', '2023-04-17', '2023-04-18',\n",
       "               '2023-04-19', '2023-04-20', '2023-04-21', '2023-04-22',\n",
       "               '2023-04-23', '2023-04-24', '2023-04-25', '2023-04-26',\n",
       "               '2023-04-27', '2023-04-28', '2023-04-29', '2023-04-30'],\n",
       "              dtype='datetime64[ns]', freq='D')"
      ]
     },
     "execution_count": 18,
     "metadata": {},
     "output_type": "execute_result"
    }
   ],
   "source": [
    "pd.date_range(start=\"15-04-2023\",end=\"30-04-2023\")"
   ]
  },
  {
   "cell_type": "code",
   "execution_count": 19,
   "id": "cc10e2ee",
   "metadata": {},
   "outputs": [
    {
     "data": {
      "text/plain": [
       "DatetimeIndex(['2023-04-15', '2023-04-16', '2023-04-17', '2023-04-18',\n",
       "               '2023-04-19', '2023-04-20', '2023-04-21', '2023-04-22',\n",
       "               '2023-04-23', '2023-04-24', '2023-04-25', '2023-04-26',\n",
       "               '2023-04-27', '2023-04-28', '2023-04-29', '2023-04-30'],\n",
       "              dtype='datetime64[ns]', freq='D')"
      ]
     },
     "execution_count": 19,
     "metadata": {},
     "output_type": "execute_result"
    }
   ],
   "source": [
    "pd.date_range(start=\"15-04-2023\",end=\"30-04-2023\",freq=\"D\")"
   ]
  },
  {
   "cell_type": "code",
   "execution_count": 20,
   "id": "84cdd2e8",
   "metadata": {},
   "outputs": [
    {
     "data": {
      "text/plain": [
       "(16,)"
      ]
     },
     "execution_count": 20,
     "metadata": {},
     "output_type": "execute_result"
    }
   ],
   "source": [
    "pd.date_range(start=\"15-04-2023\",end=\"30-04-2023\",freq=\"D\").shape"
   ]
  },
  {
   "cell_type": "code",
   "execution_count": 21,
   "id": "9800bb6b",
   "metadata": {},
   "outputs": [
    {
     "data": {
      "text/plain": [
       "DatetimeIndex([          '2023-04-15 00:00:00',\n",
       "               '2023-04-15 12:24:49.655172413',\n",
       "               '2023-04-16 00:49:39.310344827',\n",
       "               '2023-04-16 13:14:28.965517241',\n",
       "               '2023-04-17 01:39:18.620689655',\n",
       "               '2023-04-17 14:04:08.275862069',\n",
       "               '2023-04-18 02:28:57.931034482',\n",
       "               '2023-04-18 14:53:47.586206896',\n",
       "               '2023-04-19 03:18:37.241379310',\n",
       "               '2023-04-19 15:43:26.896551724',\n",
       "               '2023-04-20 04:08:16.551724138',\n",
       "               '2023-04-20 16:33:06.206896551',\n",
       "               '2023-04-21 04:57:55.862068965',\n",
       "               '2023-04-21 17:22:45.517241379',\n",
       "               '2023-04-22 05:47:35.172413793',\n",
       "               '2023-04-22 18:12:24.827586207',\n",
       "               '2023-04-23 06:37:14.482758620',\n",
       "               '2023-04-23 19:02:04.137931034',\n",
       "               '2023-04-24 07:26:53.793103448',\n",
       "               '2023-04-24 19:51:43.448275862',\n",
       "               '2023-04-25 08:16:33.103448276',\n",
       "               '2023-04-25 20:41:22.758620689',\n",
       "               '2023-04-26 09:06:12.413793103',\n",
       "               '2023-04-26 21:31:02.068965517',\n",
       "               '2023-04-27 09:55:51.724137931',\n",
       "               '2023-04-27 22:20:41.379310344',\n",
       "               '2023-04-28 10:45:31.034482758',\n",
       "               '2023-04-28 23:10:20.689655172',\n",
       "               '2023-04-29 11:35:10.344827586',\n",
       "                         '2023-04-30 00:00:00'],\n",
       "              dtype='datetime64[ns]', freq=None)"
      ]
     },
     "execution_count": 21,
     "metadata": {},
     "output_type": "execute_result"
    }
   ],
   "source": [
    "pd.date_range(start=\"15-04-2023\",end=\"30-04-2023\",periods=30)"
   ]
  },
  {
   "cell_type": "code",
   "execution_count": 22,
   "id": "f72eb30f",
   "metadata": {},
   "outputs": [
    {
     "data": {
      "text/plain": [
       "(30,)"
      ]
     },
     "execution_count": 22,
     "metadata": {},
     "output_type": "execute_result"
    }
   ],
   "source": [
    "pd.date_range(start=\"15-04-2023\",end=\"30-04-2023\",periods=30).shape"
   ]
  },
  {
   "cell_type": "code",
   "execution_count": 23,
   "id": "b23e2881",
   "metadata": {},
   "outputs": [
    {
     "data": {
      "text/plain": [
       "DatetimeIndex(['2023-04-17', '2023-04-18', '2023-04-19', '2023-04-20',\n",
       "               '2023-04-21', '2023-04-24', '2023-04-25', '2023-04-26',\n",
       "               '2023-04-27', '2023-04-28'],\n",
       "              dtype='datetime64[ns]', freq='B')"
      ]
     },
     "execution_count": 23,
     "metadata": {},
     "output_type": "execute_result"
    }
   ],
   "source": [
    "pd.date_range(start=\"15-04-2023\",end=\"30-04-2023\",freq=\"B\")"
   ]
  },
  {
   "cell_type": "code",
   "execution_count": 25,
   "id": "7d0f167f",
   "metadata": {},
   "outputs": [
    {
     "data": {
      "text/plain": [
       "DatetimeIndex(['2023-04-15', '2023-04-16', '2023-04-17', '2023-04-18',\n",
       "               '2023-04-19', '2023-04-20', '2023-04-21', '2023-04-22',\n",
       "               '2023-04-23', '2023-04-24', '2023-04-25', '2023-04-26',\n",
       "               '2023-04-27', '2023-04-28', '2023-04-29', '2023-04-30',\n",
       "               '2023-05-01', '2023-05-02', '2023-05-03', '2023-05-04',\n",
       "               '2023-05-05', '2023-05-06', '2023-05-07', '2023-05-08',\n",
       "               '2023-05-09', '2023-05-10', '2023-05-11', '2023-05-12',\n",
       "               '2023-05-13', '2023-05-14'],\n",
       "              dtype='datetime64[ns]', freq='D')"
      ]
     },
     "execution_count": 25,
     "metadata": {},
     "output_type": "execute_result"
    }
   ],
   "source": [
    "pd.date_range(start=\"15-04-2023\",periods=30,freq=\"D\")"
   ]
  },
  {
   "cell_type": "code",
   "execution_count": 26,
   "id": "711e05da",
   "metadata": {},
   "outputs": [
    {
     "data": {
      "text/plain": [
       "DatetimeIndex(['2023-03-17', '2023-03-18', '2023-03-19', '2023-03-20',\n",
       "               '2023-03-21', '2023-03-22', '2023-03-23', '2023-03-24',\n",
       "               '2023-03-25', '2023-03-26', '2023-03-27', '2023-03-28',\n",
       "               '2023-03-29', '2023-03-30', '2023-03-31', '2023-04-01',\n",
       "               '2023-04-02', '2023-04-03', '2023-04-04', '2023-04-05',\n",
       "               '2023-04-06', '2023-04-07', '2023-04-08', '2023-04-09',\n",
       "               '2023-04-10', '2023-04-11', '2023-04-12', '2023-04-13',\n",
       "               '2023-04-14', '2023-04-15'],\n",
       "              dtype='datetime64[ns]', freq='D')"
      ]
     },
     "execution_count": 26,
     "metadata": {},
     "output_type": "execute_result"
    }
   ],
   "source": [
    "pd.date_range(end=\"15-04-2023\",periods=30,freq=\"D\")"
   ]
  },
  {
   "cell_type": "code",
   "execution_count": 31,
   "id": "8b57ee3f",
   "metadata": {},
   "outputs": [
    {
     "data": {
      "text/plain": [
       "DatetimeIndex(['2023-04-01', '2023-04-02', '2023-04-03', '2023-04-04',\n",
       "               '2023-04-05', '2023-04-06', '2023-04-07', '2023-04-08',\n",
       "               '2023-04-09', '2023-04-10',\n",
       "               ...\n",
       "               '2023-09-06', '2023-09-07', '2023-09-08', '2023-09-09',\n",
       "               '2023-09-10', '2023-09-11', '2023-09-12', '2023-09-13',\n",
       "               '2023-09-14', '2023-09-15'],\n",
       "              dtype='datetime64[ns]', length=168, freq='D')"
      ]
     },
     "execution_count": 31,
     "metadata": {},
     "output_type": "execute_result"
    }
   ],
   "source": [
    "pd.date_range(start=\"April 01, 2023\",end=\"15-09-2023\",freq=\"D\")"
   ]
  },
  {
   "cell_type": "code",
   "execution_count": 32,
   "id": "141321e5",
   "metadata": {},
   "outputs": [
    {
     "data": {
      "text/plain": [
       "(168,)"
      ]
     },
     "execution_count": 32,
     "metadata": {},
     "output_type": "execute_result"
    }
   ],
   "source": [
    "pd.date_range(start=\"April 01, 2023\",end=\"15-09-2023\",freq=\"D\").shape"
   ]
  },
  {
   "cell_type": "code",
   "execution_count": 34,
   "id": "33f89895",
   "metadata": {},
   "outputs": [
    {
     "data": {
      "text/plain": [
       "DatetimeIndex(['2023-04-03', '2023-04-04', '2023-04-05', '2023-04-06',\n",
       "               '2023-04-07', '2023-04-10', '2023-04-11', '2023-04-12',\n",
       "               '2023-04-13', '2023-04-14',\n",
       "               ...\n",
       "               '2023-09-04', '2023-09-05', '2023-09-06', '2023-09-07',\n",
       "               '2023-09-08', '2023-09-11', '2023-09-12', '2023-09-13',\n",
       "               '2023-09-14', '2023-09-15'],\n",
       "              dtype='datetime64[ns]', length=120, freq='B')"
      ]
     },
     "execution_count": 34,
     "metadata": {},
     "output_type": "execute_result"
    }
   ],
   "source": [
    "pd.date_range(start=\"April 01, 2023\",end=\"15-09-2023\",freq=\"B\")"
   ]
  },
  {
   "cell_type": "code",
   "execution_count": 35,
   "id": "ea0791f3",
   "metadata": {},
   "outputs": [
    {
     "data": {
      "text/plain": [
       "DatetimeIndex(['2023-04-30', '2023-05-31', '2023-06-30', '2023-07-31',\n",
       "               '2023-08-31'],\n",
       "              dtype='datetime64[ns]', freq='M')"
      ]
     },
     "execution_count": 35,
     "metadata": {},
     "output_type": "execute_result"
    }
   ],
   "source": [
    "pd.date_range(start=\"April 01, 2023\",end=\"15-09-2023\",freq=\"M\")"
   ]
  },
  {
   "cell_type": "code",
   "execution_count": 36,
   "id": "56200d62",
   "metadata": {},
   "outputs": [
    {
     "data": {
      "text/plain": [
       "DatetimeIndex(['2023-04-02', '2023-04-09', '2023-04-16', '2023-04-23',\n",
       "               '2023-04-30', '2023-05-07', '2023-05-14', '2023-05-21',\n",
       "               '2023-05-28', '2023-06-04', '2023-06-11', '2023-06-18',\n",
       "               '2023-06-25', '2023-07-02', '2023-07-09', '2023-07-16',\n",
       "               '2023-07-23', '2023-07-30', '2023-08-06', '2023-08-13',\n",
       "               '2023-08-20', '2023-08-27', '2023-09-03', '2023-09-10'],\n",
       "              dtype='datetime64[ns]', freq='W-SUN')"
      ]
     },
     "execution_count": 36,
     "metadata": {},
     "output_type": "execute_result"
    }
   ],
   "source": [
    "pd.date_range(start=\"April 01, 2023\",end=\"15-09-2023\",freq=\"W\")"
   ]
  },
  {
   "cell_type": "code",
   "execution_count": 37,
   "id": "e8bfcf6c",
   "metadata": {},
   "outputs": [
    {
     "data": {
      "text/plain": [
       "DatetimeIndex(['2023-04-01', '2023-05-01', '2023-06-01', '2023-07-01',\n",
       "               '2023-08-01', '2023-09-01'],\n",
       "              dtype='datetime64[ns]', freq='MS')"
      ]
     },
     "execution_count": 37,
     "metadata": {},
     "output_type": "execute_result"
    }
   ],
   "source": [
    "pd.date_range(start=\"April 01, 2023\",end=\"15-09-2023\",freq=\"MS\")"
   ]
  },
  {
   "cell_type": "code",
   "execution_count": 40,
   "id": "685481c5",
   "metadata": {},
   "outputs": [
    {
     "data": {
      "text/plain": [
       "DatetimeIndex(['2023-12-31', '2024-12-31', '2025-12-31', '2026-12-31',\n",
       "               '2027-12-31', '2028-12-31', '2029-12-31'],\n",
       "              dtype='datetime64[ns]', freq='A-DEC')"
      ]
     },
     "execution_count": 40,
     "metadata": {},
     "output_type": "execute_result"
    }
   ],
   "source": [
    "pd.date_range(start=\"April 01, 2023\",end=\"15-09-2030\",freq=\"Y\")"
   ]
  },
  {
   "cell_type": "code",
   "execution_count": 41,
   "id": "4fd34c5a",
   "metadata": {},
   "outputs": [
    {
     "data": {
      "text/plain": [
       "DatetimeIndex(['2023-12-31', '2024-12-31', '2025-12-31', '2026-12-31',\n",
       "               '2027-12-31', '2028-12-31', '2029-12-31'],\n",
       "              dtype='datetime64[ns]', freq='A-DEC')"
      ]
     },
     "execution_count": 41,
     "metadata": {},
     "output_type": "execute_result"
    }
   ],
   "source": [
    "pd.date_range(start=\"April 01, 2023\",end=\"15-09-2030\",freq=\"A\")"
   ]
  },
  {
   "cell_type": "code",
   "execution_count": 42,
   "id": "7156344a",
   "metadata": {},
   "outputs": [
    {
     "data": {
      "text/plain": [
       "DatetimeIndex(['2024-01-01', '2025-01-01', '2026-01-01', '2027-01-01',\n",
       "               '2028-01-01', '2029-01-01', '2030-01-01'],\n",
       "              dtype='datetime64[ns]', freq='AS-JAN')"
      ]
     },
     "execution_count": 42,
     "metadata": {},
     "output_type": "execute_result"
    }
   ],
   "source": [
    "pd.date_range(start=\"April 01, 2023\",end=\"15-09-2030\",freq=\"YS\")"
   ]
  },
  {
   "cell_type": "code",
   "execution_count": 43,
   "id": "6368e59b",
   "metadata": {},
   "outputs": [
    {
     "data": {
      "text/plain": [
       "DatetimeIndex(['2023-04-30', '2023-10-31', '2024-04-30', '2024-10-31',\n",
       "               '2025-04-30', '2025-10-31', '2026-04-30', '2026-10-31',\n",
       "               '2027-04-30', '2027-10-31', '2028-04-30', '2028-10-31',\n",
       "               '2029-04-30', '2029-10-31', '2030-04-30'],\n",
       "              dtype='datetime64[ns]', freq='6M')"
      ]
     },
     "execution_count": 43,
     "metadata": {},
     "output_type": "execute_result"
    }
   ],
   "source": [
    "pd.date_range(start=\"April 01, 2023\",end=\"15-09-2030\",freq=\"6M\")"
   ]
  },
  {
   "cell_type": "code",
   "execution_count": 44,
   "id": "3c714f2c",
   "metadata": {},
   "outputs": [
    {
     "data": {
      "text/plain": [
       "DatetimeIndex(['2023-04-01', '2023-10-01', '2024-04-01', '2024-10-01',\n",
       "               '2025-04-01', '2025-10-01', '2026-04-01', '2026-10-01',\n",
       "               '2027-04-01', '2027-10-01', '2028-04-01', '2028-10-01',\n",
       "               '2029-04-01', '2029-10-01', '2030-04-01'],\n",
       "              dtype='datetime64[ns]', freq='6MS')"
      ]
     },
     "execution_count": 44,
     "metadata": {},
     "output_type": "execute_result"
    }
   ],
   "source": [
    "pd.date_range(start=\"April 01, 2023\",end=\"15-09-2030\",freq=\"6MS\")"
   ]
  },
  {
   "cell_type": "code",
   "execution_count": 46,
   "id": "77ad61e7",
   "metadata": {},
   "outputs": [
    {
     "data": {
      "text/plain": [
       "DatetimeIndex(['2023-04-01 00:00:00', '2023-04-01 01:00:00',\n",
       "               '2023-04-01 02:00:00', '2023-04-01 03:00:00',\n",
       "               '2023-04-01 04:00:00', '2023-04-01 05:00:00',\n",
       "               '2023-04-01 06:00:00', '2023-04-01 07:00:00',\n",
       "               '2023-04-01 08:00:00', '2023-04-01 09:00:00',\n",
       "               '2023-04-01 10:00:00', '2023-04-01 11:00:00',\n",
       "               '2023-04-01 12:00:00', '2023-04-01 13:00:00',\n",
       "               '2023-04-01 14:00:00', '2023-04-01 15:00:00',\n",
       "               '2023-04-01 16:00:00', '2023-04-01 17:00:00',\n",
       "               '2023-04-01 18:00:00', '2023-04-01 19:00:00',\n",
       "               '2023-04-01 20:00:00', '2023-04-01 21:00:00',\n",
       "               '2023-04-01 22:00:00', '2023-04-01 23:00:00',\n",
       "               '2023-04-02 00:00:00'],\n",
       "              dtype='datetime64[ns]', freq='H')"
      ]
     },
     "execution_count": 46,
     "metadata": {},
     "output_type": "execute_result"
    }
   ],
   "source": [
    "pd.date_range(start=\"April 01, 2023\",end=\"April 02, 2023\",freq=\"H\")"
   ]
  },
  {
   "cell_type": "code",
   "execution_count": 47,
   "id": "cffa6518",
   "metadata": {},
   "outputs": [
    {
     "data": {
      "text/plain": [
       "DatetimeIndex(['2023-04-01 00:00:00', '2023-04-01 06:00:00',\n",
       "               '2023-04-01 12:00:00', '2023-04-01 18:00:00',\n",
       "               '2023-04-02 00:00:00'],\n",
       "              dtype='datetime64[ns]', freq='6H')"
      ]
     },
     "execution_count": 47,
     "metadata": {},
     "output_type": "execute_result"
    }
   ],
   "source": [
    "pd.date_range(start=\"April 01, 2023\",end=\"April 02, 2023\",freq=\"6H\")"
   ]
  },
  {
   "cell_type": "code",
   "execution_count": 48,
   "id": "0aebbae1",
   "metadata": {},
   "outputs": [
    {
     "data": {
      "text/plain": [
       "DatetimeIndex(['2023-06-15', '2023-06-16', '2023-06-17', '2023-06-18',\n",
       "               '2023-06-19', '2023-06-20', '2023-06-21', '2023-06-22',\n",
       "               '2023-06-23', '2023-06-24', '2023-06-25', '2023-06-26',\n",
       "               '2023-06-27', '2023-06-28', '2023-06-29', '2023-06-30',\n",
       "               '2023-07-01', '2023-07-02', '2023-07-03', '2023-07-04',\n",
       "               '2023-07-05', '2023-07-06', '2023-07-07', '2023-07-08',\n",
       "               '2023-07-09', '2023-07-10', '2023-07-11', '2023-07-12',\n",
       "               '2023-07-13', '2023-07-14', '2023-07-15'],\n",
       "              dtype='datetime64[ns]', freq='D')"
      ]
     },
     "execution_count": 48,
     "metadata": {},
     "output_type": "execute_result"
    }
   ],
   "source": [
    "pd.date_range(start=\"2023-06-15\",end=\"2023-07-15\",freq=\"D\")"
   ]
  },
  {
   "cell_type": "code",
   "execution_count": 50,
   "id": "8a4da4d3",
   "metadata": {},
   "outputs": [
    {
     "data": {
      "text/plain": [
       "(31,)"
      ]
     },
     "execution_count": 50,
     "metadata": {},
     "output_type": "execute_result"
    }
   ],
   "source": [
    "pd.date_range(start=\"2023-06-15\",end=\"2023-07-15\",freq=\"D\").shape"
   ]
  },
  {
   "cell_type": "code",
   "execution_count": 49,
   "id": "93272f45",
   "metadata": {},
   "outputs": [
    {
     "data": {
      "text/plain": [
       "DatetimeIndex(['2023-06-15', '2023-06-16', '2023-06-19', '2023-06-20',\n",
       "               '2023-06-21', '2023-06-22', '2023-06-23', '2023-06-26',\n",
       "               '2023-06-27', '2023-06-28', '2023-06-29', '2023-06-30',\n",
       "               '2023-07-03', '2023-07-04', '2023-07-05', '2023-07-06',\n",
       "               '2023-07-07', '2023-07-10', '2023-07-11', '2023-07-12',\n",
       "               '2023-07-13', '2023-07-14'],\n",
       "              dtype='datetime64[ns]', freq='B')"
      ]
     },
     "execution_count": 49,
     "metadata": {},
     "output_type": "execute_result"
    }
   ],
   "source": [
    "pd.date_range(start=\"2023-06-15\",end=\"2023-07-15\",freq=\"B\")"
   ]
  },
  {
   "cell_type": "code",
   "execution_count": 51,
   "id": "0e36d1c5",
   "metadata": {},
   "outputs": [
    {
     "data": {
      "text/plain": [
       "(22,)"
      ]
     },
     "execution_count": 51,
     "metadata": {},
     "output_type": "execute_result"
    }
   ],
   "source": [
    "pd.date_range(start=\"2023-06-15\",end=\"2023-07-15\",freq=\"B\").shape"
   ]
  },
  {
   "cell_type": "code",
   "execution_count": null,
   "id": "abd18e62",
   "metadata": {},
   "outputs": [],
   "source": []
  }
 ],
 "metadata": {
  "kernelspec": {
   "display_name": "Python 3 (ipykernel)",
   "language": "python",
   "name": "python3"
  },
  "language_info": {
   "codemirror_mode": {
    "name": "ipython",
    "version": 3
   },
   "file_extension": ".py",
   "mimetype": "text/x-python",
   "name": "python",
   "nbconvert_exporter": "python",
   "pygments_lexer": "ipython3",
   "version": "3.9.13"
  }
 },
 "nbformat": 4,
 "nbformat_minor": 5
}
