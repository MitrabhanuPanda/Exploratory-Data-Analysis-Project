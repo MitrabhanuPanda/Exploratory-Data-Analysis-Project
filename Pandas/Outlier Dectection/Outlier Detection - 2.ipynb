{
 "cells": [
  {
   "cell_type": "code",
   "execution_count": 1,
   "id": "b2169fb9",
   "metadata": {},
   "outputs": [],
   "source": [
    "import pandas as pd"
   ]
  },
  {
   "cell_type": "code",
   "execution_count": 2,
   "id": "3cedecbb",
   "metadata": {},
   "outputs": [],
   "source": [
    "import numpy as np"
   ]
  },
  {
   "cell_type": "code",
   "execution_count": 6,
   "id": "beffab78",
   "metadata": {},
   "outputs": [],
   "source": [
    "import matplotlib.pyplot as plt"
   ]
  },
  {
   "cell_type": "code",
   "execution_count": 14,
   "id": "78ef2c49",
   "metadata": {},
   "outputs": [],
   "source": [
    "import warnings"
   ]
  },
  {
   "cell_type": "code",
   "execution_count": 15,
   "id": "43ffbd1e",
   "metadata": {},
   "outputs": [],
   "source": [
    "warnings.filterwarnings(\"ignore\")"
   ]
  },
  {
   "cell_type": "code",
   "execution_count": null,
   "id": "87082389",
   "metadata": {},
   "outputs": [],
   "source": []
  },
  {
   "cell_type": "code",
   "execution_count": 4,
   "id": "59eb47db",
   "metadata": {},
   "outputs": [],
   "source": [
    "dfjob = pd.read_csv(r\"C:\\Users\\hp\\Desktop\\Dataset_2 set\\Outlier Detection\\jobselection.csv\")"
   ]
  },
  {
   "cell_type": "code",
   "execution_count": 5,
   "id": "9b847508",
   "metadata": {},
   "outputs": [
    {
     "data": {
      "text/html": [
       "<div>\n",
       "<style scoped>\n",
       "    .dataframe tbody tr th:only-of-type {\n",
       "        vertical-align: middle;\n",
       "    }\n",
       "\n",
       "    .dataframe tbody tr th {\n",
       "        vertical-align: top;\n",
       "    }\n",
       "\n",
       "    .dataframe thead th {\n",
       "        text-align: right;\n",
       "    }\n",
       "</style>\n",
       "<table border=\"1\" class=\"dataframe\">\n",
       "  <thead>\n",
       "    <tr style=\"text-align: right;\">\n",
       "      <th></th>\n",
       "      <th>score</th>\n",
       "      <th>exam_marks</th>\n",
       "      <th>seleted</th>\n",
       "    </tr>\n",
       "  </thead>\n",
       "  <tbody>\n",
       "    <tr>\n",
       "      <th>0</th>\n",
       "      <td>7.19</td>\n",
       "      <td>26</td>\n",
       "      <td>1</td>\n",
       "    </tr>\n",
       "    <tr>\n",
       "      <th>1</th>\n",
       "      <td>7.46</td>\n",
       "      <td>38</td>\n",
       "      <td>1</td>\n",
       "    </tr>\n",
       "    <tr>\n",
       "      <th>2</th>\n",
       "      <td>7.54</td>\n",
       "      <td>40</td>\n",
       "      <td>1</td>\n",
       "    </tr>\n",
       "    <tr>\n",
       "      <th>3</th>\n",
       "      <td>6.42</td>\n",
       "      <td>8</td>\n",
       "      <td>1</td>\n",
       "    </tr>\n",
       "    <tr>\n",
       "      <th>4</th>\n",
       "      <td>7.23</td>\n",
       "      <td>17</td>\n",
       "      <td>0</td>\n",
       "    </tr>\n",
       "    <tr>\n",
       "      <th>...</th>\n",
       "      <td>...</td>\n",
       "      <td>...</td>\n",
       "      <td>...</td>\n",
       "    </tr>\n",
       "    <tr>\n",
       "      <th>995</th>\n",
       "      <td>8.87</td>\n",
       "      <td>44</td>\n",
       "      <td>1</td>\n",
       "    </tr>\n",
       "    <tr>\n",
       "      <th>996</th>\n",
       "      <td>9.12</td>\n",
       "      <td>65</td>\n",
       "      <td>1</td>\n",
       "    </tr>\n",
       "    <tr>\n",
       "      <th>997</th>\n",
       "      <td>4.89</td>\n",
       "      <td>34</td>\n",
       "      <td>0</td>\n",
       "    </tr>\n",
       "    <tr>\n",
       "      <th>998</th>\n",
       "      <td>8.62</td>\n",
       "      <td>46</td>\n",
       "      <td>1</td>\n",
       "    </tr>\n",
       "    <tr>\n",
       "      <th>999</th>\n",
       "      <td>4.90</td>\n",
       "      <td>10</td>\n",
       "      <td>1</td>\n",
       "    </tr>\n",
       "  </tbody>\n",
       "</table>\n",
       "<p>1000 rows × 3 columns</p>\n",
       "</div>"
      ],
      "text/plain": [
       "     score  exam_marks  seleted\n",
       "0     7.19          26        1\n",
       "1     7.46          38        1\n",
       "2     7.54          40        1\n",
       "3     6.42           8        1\n",
       "4     7.23          17        0\n",
       "..     ...         ...      ...\n",
       "995   8.87          44        1\n",
       "996   9.12          65        1\n",
       "997   4.89          34        0\n",
       "998   8.62          46        1\n",
       "999   4.90          10        1\n",
       "\n",
       "[1000 rows x 3 columns]"
      ]
     },
     "execution_count": 5,
     "metadata": {},
     "output_type": "execute_result"
    }
   ],
   "source": [
    "dfjob"
   ]
  },
  {
   "cell_type": "code",
   "execution_count": 8,
   "id": "3099eba0",
   "metadata": {},
   "outputs": [
    {
     "data": {
      "image/png": "[encoded data removed]",
      "text/plain": [
       "<Figure size 640x480 with 1 Axes>"
      ]
     },
     "metadata": {},
     "output_type": "display_data"
    }
   ],
   "source": [
    "plt.boxplot(dfjob)\n",
    "plt.show()"
   ]
  },
  {
   "cell_type": "code",
   "execution_count": 9,
   "id": "3ac3e8b7",
   "metadata": {},
   "outputs": [
    {
     "data": {
      "text/plain": [
       "Index(['score', 'exam_marks', 'seleted'], dtype='object')"
      ]
     },
     "execution_count": 9,
     "metadata": {},
     "output_type": "execute_result"
    }
   ],
   "source": [
    "dfjob.columns"
   ]
  },
  {
   "cell_type": "code",
   "execution_count": 10,
   "id": "8c8a8003",
   "metadata": {},
   "outputs": [],
   "source": [
    "dfjob.columns = ['score', 'marks', 'selected']"
   ]
  },
  {
   "cell_type": "code",
   "execution_count": 11,
   "id": "93c10571",
   "metadata": {},
   "outputs": [
    {
     "data": {
      "text/html": [
       "<div>\n",
       "<style scoped>\n",
       "    .dataframe tbody tr th:only-of-type {\n",
       "        vertical-align: middle;\n",
       "    }\n",
       "\n",
       "    .dataframe tbody tr th {\n",
       "        vertical-align: top;\n",
       "    }\n",
       "\n",
       "    .dataframe thead th {\n",
       "        text-align: right;\n",
       "    }\n",
       "</style>\n",
       "<table border=\"1\" class=\"dataframe\">\n",
       "  <thead>\n",
       "    <tr style=\"text-align: right;\">\n",
       "      <th></th>\n",
       "      <th>score</th>\n",
       "      <th>marks</th>\n",
       "      <th>selected</th>\n",
       "    </tr>\n",
       "  </thead>\n",
       "  <tbody>\n",
       "    <tr>\n",
       "      <th>0</th>\n",
       "      <td>7.19</td>\n",
       "      <td>26</td>\n",
       "      <td>1</td>\n",
       "    </tr>\n",
       "    <tr>\n",
       "      <th>1</th>\n",
       "      <td>7.46</td>\n",
       "      <td>38</td>\n",
       "      <td>1</td>\n",
       "    </tr>\n",
       "    <tr>\n",
       "      <th>2</th>\n",
       "      <td>7.54</td>\n",
       "      <td>40</td>\n",
       "      <td>1</td>\n",
       "    </tr>\n",
       "    <tr>\n",
       "      <th>3</th>\n",
       "      <td>6.42</td>\n",
       "      <td>8</td>\n",
       "      <td>1</td>\n",
       "    </tr>\n",
       "    <tr>\n",
       "      <th>4</th>\n",
       "      <td>7.23</td>\n",
       "      <td>17</td>\n",
       "      <td>0</td>\n",
       "    </tr>\n",
       "    <tr>\n",
       "      <th>...</th>\n",
       "      <td>...</td>\n",
       "      <td>...</td>\n",
       "      <td>...</td>\n",
       "    </tr>\n",
       "    <tr>\n",
       "      <th>995</th>\n",
       "      <td>8.87</td>\n",
       "      <td>44</td>\n",
       "      <td>1</td>\n",
       "    </tr>\n",
       "    <tr>\n",
       "      <th>996</th>\n",
       "      <td>9.12</td>\n",
       "      <td>65</td>\n",
       "      <td>1</td>\n",
       "    </tr>\n",
       "    <tr>\n",
       "      <th>997</th>\n",
       "      <td>4.89</td>\n",
       "      <td>34</td>\n",
       "      <td>0</td>\n",
       "    </tr>\n",
       "    <tr>\n",
       "      <th>998</th>\n",
       "      <td>8.62</td>\n",
       "      <td>46</td>\n",
       "      <td>1</td>\n",
       "    </tr>\n",
       "    <tr>\n",
       "      <th>999</th>\n",
       "      <td>4.90</td>\n",
       "      <td>10</td>\n",
       "      <td>1</td>\n",
       "    </tr>\n",
       "  </tbody>\n",
       "</table>\n",
       "<p>1000 rows × 3 columns</p>\n",
       "</div>"
      ],
      "text/plain": [
       "     score  marks  selected\n",
       "0     7.19     26         1\n",
       "1     7.46     38         1\n",
       "2     7.54     40         1\n",
       "3     6.42      8         1\n",
       "4     7.23     17         0\n",
       "..     ...    ...       ...\n",
       "995   8.87     44         1\n",
       "996   9.12     65         1\n",
       "997   4.89     34         0\n",
       "998   8.62     46         1\n",
       "999   4.90     10         1\n",
       "\n",
       "[1000 rows x 3 columns]"
      ]
     },
     "execution_count": 11,
     "metadata": {},
     "output_type": "execute_result"
    }
   ],
   "source": [
    "dfjob"
   ]
  },
  {
   "cell_type": "code",
   "execution_count": 12,
   "id": "8db2799d",
   "metadata": {},
   "outputs": [
    {
     "data": {
      "text/plain": [
       "0      7.19\n",
       "1      7.46\n",
       "2      7.54\n",
       "3      6.42\n",
       "4      7.23\n",
       "       ... \n",
       "995    8.87\n",
       "996    9.12\n",
       "997    4.89\n",
       "998    8.62\n",
       "999    4.90\n",
       "Name: score, Length: 1000, dtype: float64"
      ]
     },
     "execution_count": 12,
     "metadata": {},
     "output_type": "execute_result"
    }
   ],
   "source": [
    "dfjob[\"score\"]"
   ]
  },
  {
   "cell_type": "code",
   "execution_count": 13,
   "id": "f0684c93",
   "metadata": {},
   "outputs": [],
   "source": [
    "import seaborn as sns"
   ]
  },
  {
   "cell_type": "code",
   "execution_count": 16,
   "id": "22c75fc5",
   "metadata": {},
   "outputs": [
    {
     "data": {
      "text/plain": [
       "<AxesSubplot:xlabel='score', ylabel='Density'>"
      ]
     },
     "execution_count": 16,
     "metadata": {},
     "output_type": "execute_result"
    },
    {
     "data": {
      "image/png": "[encoded data removed]",
      "text/plain": [
       "<Figure size 640x480 with 1 Axes>"
      ]
     },
     "metadata": {},
     "output_type": "display_data"
    }
   ],
   "source": [
    "sns.distplot(dfjob[\"score\"])"
   ]
  },
  {
   "cell_type": "code",
   "execution_count": 17,
   "id": "703d264a",
   "metadata": {},
   "outputs": [
    {
     "data": {
      "text/plain": [
       "-0.014529938929314918"
      ]
     },
     "execution_count": 17,
     "metadata": {},
     "output_type": "execute_result"
    }
   ],
   "source": [
    "dfjob[\"score\"].skew()"
   ]
  },
  {
   "cell_type": "code",
   "execution_count": null,
   "id": "638cb70e",
   "metadata": {},
   "outputs": [],
   "source": []
  },
  {
   "cell_type": "code",
   "execution_count": 19,
   "id": "e7d1bdec",
   "metadata": {},
   "outputs": [
    {
     "data": {
      "text/plain": [
       "-0.0"
      ]
     },
     "execution_count": 19,
     "metadata": {},
     "output_type": "execute_result"
    }
   ],
   "source": [
    "np.round(-0.014529938929314918)"
   ]
  },
  {
   "cell_type": "code",
   "execution_count": 20,
   "id": "66013ee2",
   "metadata": {},
   "outputs": [
    {
     "data": {
      "text/plain": [
       "0      7.19\n",
       "1      7.46\n",
       "2      7.54\n",
       "3      6.42\n",
       "4      7.23\n",
       "       ... \n",
       "995    8.87\n",
       "996    9.12\n",
       "997    4.89\n",
       "998    8.62\n",
       "999    4.90\n",
       "Name: score, Length: 1000, dtype: float64"
      ]
     },
     "execution_count": 20,
     "metadata": {},
     "output_type": "execute_result"
    }
   ],
   "source": [
    "dfjob[\"score\"]"
   ]
  },
  {
   "attachments": {
    "image.png": {
     "image/png": "[encoded data removed]"
    }
   },
   "cell_type": "markdown",
   "id": "47c7dfb7",
   "metadata": {},
   "source": [
    "![image.png](attachment:image.png)"
   ]
  },
  {
   "cell_type": "code",
   "execution_count": 21,
   "id": "f88e187f",
   "metadata": {},
   "outputs": [],
   "source": [
    "m = dfjob[\"score\"].mean()"
   ]
  },
  {
   "cell_type": "code",
   "execution_count": 22,
   "id": "d293b031",
   "metadata": {},
   "outputs": [
    {
     "data": {
      "text/plain": [
       "6.96124000000001"
      ]
     },
     "execution_count": 22,
     "metadata": {},
     "output_type": "execute_result"
    }
   ],
   "source": [
    "m"
   ]
  },
  {
   "cell_type": "code",
   "execution_count": 23,
   "id": "3e91313c",
   "metadata": {},
   "outputs": [],
   "source": [
    "s = dfjob[\"score\"].std()"
   ]
  },
  {
   "cell_type": "code",
   "execution_count": 24,
   "id": "989fd87e",
   "metadata": {},
   "outputs": [
    {
     "data": {
      "text/plain": [
       "0.6158978751323894"
      ]
     },
     "execution_count": 24,
     "metadata": {},
     "output_type": "execute_result"
    }
   ],
   "source": [
    "s"
   ]
  },
  {
   "cell_type": "code",
   "execution_count": 25,
   "id": "86c242fb",
   "metadata": {},
   "outputs": [
    {
     "data": {
      "text/plain": [
       "count    1000.000000\n",
       "mean        6.961240\n",
       "std         0.615898\n",
       "min         4.890000\n",
       "25%         6.550000\n",
       "50%         6.960000\n",
       "75%         7.370000\n",
       "max         9.120000\n",
       "Name: score, dtype: float64"
      ]
     },
     "execution_count": 25,
     "metadata": {},
     "output_type": "execute_result"
    }
   ],
   "source": [
    "dfjob[\"score\"].describe()"
   ]
  },
  {
   "cell_type": "code",
   "execution_count": 26,
   "id": "2945a1c8",
   "metadata": {},
   "outputs": [
    {
     "data": {
      "text/plain": [
       "6.96124000000001"
      ]
     },
     "execution_count": 26,
     "metadata": {},
     "output_type": "execute_result"
    }
   ],
   "source": [
    "m"
   ]
  },
  {
   "cell_type": "code",
   "execution_count": 27,
   "id": "9e536aad",
   "metadata": {},
   "outputs": [
    {
     "data": {
      "text/plain": [
       "0      7.19\n",
       "1      7.46\n",
       "2      7.54\n",
       "3      6.42\n",
       "4      7.23\n",
       "       ... \n",
       "995    8.87\n",
       "996    9.12\n",
       "997    4.89\n",
       "998    8.62\n",
       "999    4.90\n",
       "Name: score, Length: 1000, dtype: float64"
      ]
     },
     "execution_count": 27,
     "metadata": {},
     "output_type": "execute_result"
    }
   ],
   "source": [
    "dfjob[\"score\"]"
   ]
  },
  {
   "cell_type": "code",
   "execution_count": 29,
   "id": "5a3b13d7",
   "metadata": {},
   "outputs": [],
   "source": [
    "dfjob[\"zscore\"] = dfjob[\"score\"].map( lambda x : (x - m)/s )"
   ]
  },
  {
   "cell_type": "code",
   "execution_count": 30,
   "id": "28379df1",
   "metadata": {},
   "outputs": [
    {
     "data": {
      "text/html": [
       "<div>\n",
       "<style scoped>\n",
       "    .dataframe tbody tr th:only-of-type {\n",
       "        vertical-align: middle;\n",
       "    }\n",
       "\n",
       "    .dataframe tbody tr th {\n",
       "        vertical-align: top;\n",
       "    }\n",
       "\n",
       "    .dataframe thead th {\n",
       "        text-align: right;\n",
       "    }\n",
       "</style>\n",
       "<table border=\"1\" class=\"dataframe\">\n",
       "  <thead>\n",
       "    <tr style=\"text-align: right;\">\n",
       "      <th></th>\n",
       "      <th>score</th>\n",
       "      <th>marks</th>\n",
       "      <th>selected</th>\n",
       "      <th>zscore</th>\n",
       "    </tr>\n",
       "  </thead>\n",
       "  <tbody>\n",
       "    <tr>\n",
       "      <th>0</th>\n",
       "      <td>7.19</td>\n",
       "      <td>26</td>\n",
       "      <td>1</td>\n",
       "      <td>0.371425</td>\n",
       "    </tr>\n",
       "    <tr>\n",
       "      <th>1</th>\n",
       "      <td>7.46</td>\n",
       "      <td>38</td>\n",
       "      <td>1</td>\n",
       "      <td>0.809810</td>\n",
       "    </tr>\n",
       "    <tr>\n",
       "      <th>2</th>\n",
       "      <td>7.54</td>\n",
       "      <td>40</td>\n",
       "      <td>1</td>\n",
       "      <td>0.939701</td>\n",
       "    </tr>\n",
       "    <tr>\n",
       "      <th>3</th>\n",
       "      <td>6.42</td>\n",
       "      <td>8</td>\n",
       "      <td>1</td>\n",
       "      <td>-0.878782</td>\n",
       "    </tr>\n",
       "    <tr>\n",
       "      <th>4</th>\n",
       "      <td>7.23</td>\n",
       "      <td>17</td>\n",
       "      <td>0</td>\n",
       "      <td>0.436371</td>\n",
       "    </tr>\n",
       "    <tr>\n",
       "      <th>...</th>\n",
       "      <td>...</td>\n",
       "      <td>...</td>\n",
       "      <td>...</td>\n",
       "      <td>...</td>\n",
       "    </tr>\n",
       "    <tr>\n",
       "      <th>995</th>\n",
       "      <td>8.87</td>\n",
       "      <td>44</td>\n",
       "      <td>1</td>\n",
       "      <td>3.099150</td>\n",
       "    </tr>\n",
       "    <tr>\n",
       "      <th>996</th>\n",
       "      <td>9.12</td>\n",
       "      <td>65</td>\n",
       "      <td>1</td>\n",
       "      <td>3.505062</td>\n",
       "    </tr>\n",
       "    <tr>\n",
       "      <th>997</th>\n",
       "      <td>4.89</td>\n",
       "      <td>34</td>\n",
       "      <td>0</td>\n",
       "      <td>-3.362960</td>\n",
       "    </tr>\n",
       "    <tr>\n",
       "      <th>998</th>\n",
       "      <td>8.62</td>\n",
       "      <td>46</td>\n",
       "      <td>1</td>\n",
       "      <td>2.693239</td>\n",
       "    </tr>\n",
       "    <tr>\n",
       "      <th>999</th>\n",
       "      <td>4.90</td>\n",
       "      <td>10</td>\n",
       "      <td>1</td>\n",
       "      <td>-3.346724</td>\n",
       "    </tr>\n",
       "  </tbody>\n",
       "</table>\n",
       "<p>1000 rows × 4 columns</p>\n",
       "</div>"
      ],
      "text/plain": [
       "     score  marks  selected    zscore\n",
       "0     7.19     26         1  0.371425\n",
       "1     7.46     38         1  0.809810\n",
       "2     7.54     40         1  0.939701\n",
       "3     6.42      8         1 -0.878782\n",
       "4     7.23     17         0  0.436371\n",
       "..     ...    ...       ...       ...\n",
       "995   8.87     44         1  3.099150\n",
       "996   9.12     65         1  3.505062\n",
       "997   4.89     34         0 -3.362960\n",
       "998   8.62     46         1  2.693239\n",
       "999   4.90     10         1 -3.346724\n",
       "\n",
       "[1000 rows x 4 columns]"
      ]
     },
     "execution_count": 30,
     "metadata": {},
     "output_type": "execute_result"
    }
   ],
   "source": [
    "dfjob"
   ]
  },
  {
   "cell_type": "code",
   "execution_count": 31,
   "id": "359dfa20",
   "metadata": {},
   "outputs": [
    {
     "data": {
      "text/plain": [
       "0      False\n",
       "1      False\n",
       "2      False\n",
       "3      False\n",
       "4      False\n",
       "       ...  \n",
       "995    False\n",
       "996    False\n",
       "997     True\n",
       "998    False\n",
       "999     True\n",
       "Name: zscore, Length: 1000, dtype: bool"
      ]
     },
     "execution_count": 31,
     "metadata": {},
     "output_type": "execute_result"
    }
   ],
   "source": [
    "dfjob[\"zscore\"] < -3"
   ]
  },
  {
   "cell_type": "code",
   "execution_count": 32,
   "id": "dab04656",
   "metadata": {},
   "outputs": [
    {
     "data": {
      "text/html": [
       "<div>\n",
       "<style scoped>\n",
       "    .dataframe tbody tr th:only-of-type {\n",
       "        vertical-align: middle;\n",
       "    }\n",
       "\n",
       "    .dataframe tbody tr th {\n",
       "        vertical-align: top;\n",
       "    }\n",
       "\n",
       "    .dataframe thead th {\n",
       "        text-align: right;\n",
       "    }\n",
       "</style>\n",
       "<table border=\"1\" class=\"dataframe\">\n",
       "  <thead>\n",
       "    <tr style=\"text-align: right;\">\n",
       "      <th></th>\n",
       "      <th>score</th>\n",
       "      <th>marks</th>\n",
       "      <th>selected</th>\n",
       "      <th>zscore</th>\n",
       "    </tr>\n",
       "  </thead>\n",
       "  <tbody>\n",
       "    <tr>\n",
       "      <th>485</th>\n",
       "      <td>4.92</td>\n",
       "      <td>44</td>\n",
       "      <td>1</td>\n",
       "      <td>-3.314251</td>\n",
       "    </tr>\n",
       "    <tr>\n",
       "      <th>997</th>\n",
       "      <td>4.89</td>\n",
       "      <td>34</td>\n",
       "      <td>0</td>\n",
       "      <td>-3.362960</td>\n",
       "    </tr>\n",
       "    <tr>\n",
       "      <th>999</th>\n",
       "      <td>4.90</td>\n",
       "      <td>10</td>\n",
       "      <td>1</td>\n",
       "      <td>-3.346724</td>\n",
       "    </tr>\n",
       "  </tbody>\n",
       "</table>\n",
       "</div>"
      ],
      "text/plain": [
       "     score  marks  selected    zscore\n",
       "485   4.92     44         1 -3.314251\n",
       "997   4.89     34         0 -3.362960\n",
       "999   4.90     10         1 -3.346724"
      ]
     },
     "execution_count": 32,
     "metadata": {},
     "output_type": "execute_result"
    }
   ],
   "source": [
    "dfjob[dfjob[\"zscore\"] < -3]"
   ]
  },
  {
   "cell_type": "code",
   "execution_count": 33,
   "id": "507b0196",
   "metadata": {},
   "outputs": [
    {
     "data": {
      "text/plain": [
       "0      False\n",
       "1      False\n",
       "2      False\n",
       "3      False\n",
       "4      False\n",
       "       ...  \n",
       "995     True\n",
       "996     True\n",
       "997    False\n",
       "998    False\n",
       "999    False\n",
       "Name: zscore, Length: 1000, dtype: bool"
      ]
     },
     "execution_count": 33,
     "metadata": {},
     "output_type": "execute_result"
    }
   ],
   "source": [
    "dfjob[\"zscore\"] > +3 "
   ]
  },
  {
   "cell_type": "code",
   "execution_count": 34,
   "id": "079ec667",
   "metadata": {},
   "outputs": [
    {
     "data": {
      "text/html": [
       "<div>\n",
       "<style scoped>\n",
       "    .dataframe tbody tr th:only-of-type {\n",
       "        vertical-align: middle;\n",
       "    }\n",
       "\n",
       "    .dataframe tbody tr th {\n",
       "        vertical-align: top;\n",
       "    }\n",
       "\n",
       "    .dataframe thead th {\n",
       "        text-align: right;\n",
       "    }\n",
       "</style>\n",
       "<table border=\"1\" class=\"dataframe\">\n",
       "  <thead>\n",
       "    <tr style=\"text-align: right;\">\n",
       "      <th></th>\n",
       "      <th>score</th>\n",
       "      <th>marks</th>\n",
       "      <th>selected</th>\n",
       "      <th>zscore</th>\n",
       "    </tr>\n",
       "  </thead>\n",
       "  <tbody>\n",
       "    <tr>\n",
       "      <th>995</th>\n",
       "      <td>8.87</td>\n",
       "      <td>44</td>\n",
       "      <td>1</td>\n",
       "      <td>3.099150</td>\n",
       "    </tr>\n",
       "    <tr>\n",
       "      <th>996</th>\n",
       "      <td>9.12</td>\n",
       "      <td>65</td>\n",
       "      <td>1</td>\n",
       "      <td>3.505062</td>\n",
       "    </tr>\n",
       "  </tbody>\n",
       "</table>\n",
       "</div>"
      ],
      "text/plain": [
       "     score  marks  selected    zscore\n",
       "995   8.87     44         1  3.099150\n",
       "996   9.12     65         1  3.505062"
      ]
     },
     "execution_count": 34,
     "metadata": {},
     "output_type": "execute_result"
    }
   ],
   "source": [
    "dfjob[ dfjob[\"zscore\"] > +3  ]"
   ]
  },
  {
   "cell_type": "code",
   "execution_count": 35,
   "id": "72421e87",
   "metadata": {},
   "outputs": [
    {
     "data": {
      "text/plain": [
       "0      False\n",
       "1      False\n",
       "2      False\n",
       "3      False\n",
       "4      False\n",
       "       ...  \n",
       "995     True\n",
       "996     True\n",
       "997     True\n",
       "998    False\n",
       "999     True\n",
       "Name: zscore, Length: 1000, dtype: bool"
      ]
     },
     "execution_count": 35,
     "metadata": {},
     "output_type": "execute_result"
    }
   ],
   "source": [
    "(dfjob[\"zscore\"] < -3) | (dfjob[\"zscore\"] > +3)"
   ]
  },
  {
   "cell_type": "code",
   "execution_count": 36,
   "id": "dfdce843",
   "metadata": {},
   "outputs": [
    {
     "data": {
      "text/html": [
       "<div>\n",
       "<style scoped>\n",
       "    .dataframe tbody tr th:only-of-type {\n",
       "        vertical-align: middle;\n",
       "    }\n",
       "\n",
       "    .dataframe tbody tr th {\n",
       "        vertical-align: top;\n",
       "    }\n",
       "\n",
       "    .dataframe thead th {\n",
       "        text-align: right;\n",
       "    }\n",
       "</style>\n",
       "<table border=\"1\" class=\"dataframe\">\n",
       "  <thead>\n",
       "    <tr style=\"text-align: right;\">\n",
       "      <th></th>\n",
       "      <th>score</th>\n",
       "      <th>marks</th>\n",
       "      <th>selected</th>\n",
       "      <th>zscore</th>\n",
       "    </tr>\n",
       "  </thead>\n",
       "  <tbody>\n",
       "    <tr>\n",
       "      <th>485</th>\n",
       "      <td>4.92</td>\n",
       "      <td>44</td>\n",
       "      <td>1</td>\n",
       "      <td>-3.314251</td>\n",
       "    </tr>\n",
       "    <tr>\n",
       "      <th>995</th>\n",
       "      <td>8.87</td>\n",
       "      <td>44</td>\n",
       "      <td>1</td>\n",
       "      <td>3.099150</td>\n",
       "    </tr>\n",
       "    <tr>\n",
       "      <th>996</th>\n",
       "      <td>9.12</td>\n",
       "      <td>65</td>\n",
       "      <td>1</td>\n",
       "      <td>3.505062</td>\n",
       "    </tr>\n",
       "    <tr>\n",
       "      <th>997</th>\n",
       "      <td>4.89</td>\n",
       "      <td>34</td>\n",
       "      <td>0</td>\n",
       "      <td>-3.362960</td>\n",
       "    </tr>\n",
       "    <tr>\n",
       "      <th>999</th>\n",
       "      <td>4.90</td>\n",
       "      <td>10</td>\n",
       "      <td>1</td>\n",
       "      <td>-3.346724</td>\n",
       "    </tr>\n",
       "  </tbody>\n",
       "</table>\n",
       "</div>"
      ],
      "text/plain": [
       "     score  marks  selected    zscore\n",
       "485   4.92     44         1 -3.314251\n",
       "995   8.87     44         1  3.099150\n",
       "996   9.12     65         1  3.505062\n",
       "997   4.89     34         0 -3.362960\n",
       "999   4.90     10         1 -3.346724"
      ]
     },
     "execution_count": 36,
     "metadata": {},
     "output_type": "execute_result"
    }
   ],
   "source": [
    "dfjob[ (dfjob[\"zscore\"] < -3) | (dfjob[\"zscore\"] > +3)]"
   ]
  },
  {
   "cell_type": "code",
   "execution_count": 37,
   "id": "27532139",
   "metadata": {},
   "outputs": [
    {
     "data": {
      "text/plain": [
       "0       True\n",
       "1       True\n",
       "2       True\n",
       "3       True\n",
       "4       True\n",
       "       ...  \n",
       "995    False\n",
       "996    False\n",
       "997    False\n",
       "998     True\n",
       "999    False\n",
       "Name: zscore, Length: 1000, dtype: bool"
      ]
     },
     "execution_count": 37,
     "metadata": {},
     "output_type": "execute_result"
    }
   ],
   "source": [
    "(dfjob[\"zscore\"] >= -3)  &  (dfjob[\"zscore\"] <= 3)"
   ]
  },
  {
   "cell_type": "code",
   "execution_count": 39,
   "id": "d364d063",
   "metadata": {},
   "outputs": [],
   "source": [
    "dfjob = dfjob[(dfjob[\"zscore\"] >= -3)  &  (dfjob[\"zscore\"] <= 3)]"
   ]
  },
  {
   "cell_type": "code",
   "execution_count": 40,
   "id": "89317471",
   "metadata": {},
   "outputs": [
    {
     "data": {
      "text/html": [
       "<div>\n",
       "<style scoped>\n",
       "    .dataframe tbody tr th:only-of-type {\n",
       "        vertical-align: middle;\n",
       "    }\n",
       "\n",
       "    .dataframe tbody tr th {\n",
       "        vertical-align: top;\n",
       "    }\n",
       "\n",
       "    .dataframe thead th {\n",
       "        text-align: right;\n",
       "    }\n",
       "</style>\n",
       "<table border=\"1\" class=\"dataframe\">\n",
       "  <thead>\n",
       "    <tr style=\"text-align: right;\">\n",
       "      <th></th>\n",
       "      <th>score</th>\n",
       "      <th>marks</th>\n",
       "      <th>selected</th>\n",
       "      <th>zscore</th>\n",
       "    </tr>\n",
       "  </thead>\n",
       "  <tbody>\n",
       "    <tr>\n",
       "      <th>0</th>\n",
       "      <td>7.19</td>\n",
       "      <td>26</td>\n",
       "      <td>1</td>\n",
       "      <td>0.371425</td>\n",
       "    </tr>\n",
       "    <tr>\n",
       "      <th>1</th>\n",
       "      <td>7.46</td>\n",
       "      <td>38</td>\n",
       "      <td>1</td>\n",
       "      <td>0.809810</td>\n",
       "    </tr>\n",
       "    <tr>\n",
       "      <th>2</th>\n",
       "      <td>7.54</td>\n",
       "      <td>40</td>\n",
       "      <td>1</td>\n",
       "      <td>0.939701</td>\n",
       "    </tr>\n",
       "    <tr>\n",
       "      <th>3</th>\n",
       "      <td>6.42</td>\n",
       "      <td>8</td>\n",
       "      <td>1</td>\n",
       "      <td>-0.878782</td>\n",
       "    </tr>\n",
       "    <tr>\n",
       "      <th>4</th>\n",
       "      <td>7.23</td>\n",
       "      <td>17</td>\n",
       "      <td>0</td>\n",
       "      <td>0.436371</td>\n",
       "    </tr>\n",
       "    <tr>\n",
       "      <th>...</th>\n",
       "      <td>...</td>\n",
       "      <td>...</td>\n",
       "      <td>...</td>\n",
       "      <td>...</td>\n",
       "    </tr>\n",
       "    <tr>\n",
       "      <th>991</th>\n",
       "      <td>7.04</td>\n",
       "      <td>57</td>\n",
       "      <td>0</td>\n",
       "      <td>0.127878</td>\n",
       "    </tr>\n",
       "    <tr>\n",
       "      <th>992</th>\n",
       "      <td>6.26</td>\n",
       "      <td>12</td>\n",
       "      <td>0</td>\n",
       "      <td>-1.138565</td>\n",
       "    </tr>\n",
       "    <tr>\n",
       "      <th>993</th>\n",
       "      <td>6.73</td>\n",
       "      <td>21</td>\n",
       "      <td>1</td>\n",
       "      <td>-0.375452</td>\n",
       "    </tr>\n",
       "    <tr>\n",
       "      <th>994</th>\n",
       "      <td>6.48</td>\n",
       "      <td>63</td>\n",
       "      <td>0</td>\n",
       "      <td>-0.781363</td>\n",
       "    </tr>\n",
       "    <tr>\n",
       "      <th>998</th>\n",
       "      <td>8.62</td>\n",
       "      <td>46</td>\n",
       "      <td>1</td>\n",
       "      <td>2.693239</td>\n",
       "    </tr>\n",
       "  </tbody>\n",
       "</table>\n",
       "<p>995 rows × 4 columns</p>\n",
       "</div>"
      ],
      "text/plain": [
       "     score  marks  selected    zscore\n",
       "0     7.19     26         1  0.371425\n",
       "1     7.46     38         1  0.809810\n",
       "2     7.54     40         1  0.939701\n",
       "3     6.42      8         1 -0.878782\n",
       "4     7.23     17         0  0.436371\n",
       "..     ...    ...       ...       ...\n",
       "991   7.04     57         0  0.127878\n",
       "992   6.26     12         0 -1.138565\n",
       "993   6.73     21         1 -0.375452\n",
       "994   6.48     63         0 -0.781363\n",
       "998   8.62     46         1  2.693239\n",
       "\n",
       "[995 rows x 4 columns]"
      ]
     },
     "execution_count": 40,
     "metadata": {},
     "output_type": "execute_result"
    }
   ],
   "source": [
    "dfjob"
   ]
  },
  {
   "cell_type": "code",
   "execution_count": 41,
   "id": "7eae3288",
   "metadata": {},
   "outputs": [
    {
     "data": {
      "text/plain": [
       "0      False\n",
       "1      False\n",
       "2      False\n",
       "3      False\n",
       "4      False\n",
       "       ...  \n",
       "991    False\n",
       "992    False\n",
       "993    False\n",
       "994    False\n",
       "998    False\n",
       "Name: zscore, Length: 995, dtype: bool"
      ]
     },
     "execution_count": 41,
     "metadata": {},
     "output_type": "execute_result"
    }
   ],
   "source": [
    "( dfjob[\"zscore\"] < -3 ) |  (dfjob[\"zscore\"] > 3)"
   ]
  },
  {
   "cell_type": "code",
   "execution_count": 42,
   "id": "e8e5ff6d",
   "metadata": {},
   "outputs": [
    {
     "data": {
      "text/html": [
       "<div>\n",
       "<style scoped>\n",
       "    .dataframe tbody tr th:only-of-type {\n",
       "        vertical-align: middle;\n",
       "    }\n",
       "\n",
       "    .dataframe tbody tr th {\n",
       "        vertical-align: top;\n",
       "    }\n",
       "\n",
       "    .dataframe thead th {\n",
       "        text-align: right;\n",
       "    }\n",
       "</style>\n",
       "<table border=\"1\" class=\"dataframe\">\n",
       "  <thead>\n",
       "    <tr style=\"text-align: right;\">\n",
       "      <th></th>\n",
       "      <th>score</th>\n",
       "      <th>marks</th>\n",
       "      <th>selected</th>\n",
       "      <th>zscore</th>\n",
       "    </tr>\n",
       "  </thead>\n",
       "  <tbody>\n",
       "  </tbody>\n",
       "</table>\n",
       "</div>"
      ],
      "text/plain": [
       "Empty DataFrame\n",
       "Columns: [score, marks, selected, zscore]\n",
       "Index: []"
      ]
     },
     "execution_count": 42,
     "metadata": {},
     "output_type": "execute_result"
    }
   ],
   "source": [
    "dfjob[ ( dfjob[\"zscore\"] < -3 ) |  (dfjob[\"zscore\"] > 3)]"
   ]
  },
  {
   "cell_type": "code",
   "execution_count": null,
   "id": "edb664ed",
   "metadata": {},
   "outputs": [],
   "source": []
  }
 ],
 "metadata": {
  "kernelspec": {
   "display_name": "Python 3 (ipykernel)",
   "language": "python",
   "name": "python3"
  },
  "language_info": {
   "codemirror_mode": {
    "name": "ipython",
    "version": 3
   },
   "file_extension": ".py",
   "mimetype": "text/x-python",
   "name": "python",
   "nbconvert_exporter": "python",
   "pygments_lexer": "ipython3",
   "version": "3.9.13"
  }
 },
 "nbformat": 4,
 "nbformat_minor": 5
}
