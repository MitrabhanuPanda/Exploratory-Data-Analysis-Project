{
 "cells": [
  {
   "cell_type": "markdown",
   "id": "4f9377b6",
   "metadata": {},
   "source": [
    "### Recursion Function:\n",
    "    •\tA function which calls itself until a particular condition is satisfied.\n",
    "    •\tCondition which control the flow of execution is called base condition.\n",
    "\n",
    "### LAMBDA FUNCTION(ANONYMOUS FUNCTION):\n",
    "    •\tLambda function is called an0nymous function.\n",
    "    •\tAnonymous means not identify for this function.\n",
    "    •\tIt is an anonymous inline function which is defined with “lambda” keyword and this function accepts “n” number of arguments but return only one value based on the expression.\n",
    "### Properties of Lambda Function:\n",
    "    •\tIt doesn’t have any name to identify.\n",
    "    •\tNo “def” keyword is used to define it.\n",
    "    •\tIt accepts “n” number of arguments.\n",
    "    •\tIt return only one value without any “return” keyword.\n",
    "    •\tIt is an inline function.\n",
    "    •\tIt is considered as light weight function.\n",
    "    •\tIts execution is very fast compared to that of traditional function.\n",
    "    •\tIt is single use function(no resuability).\n",
    "\n",
    "### Use Of Lambda Function:\n",
    "    •\tWe can invoke the lambda into another python objects.\n",
    "        o\tList, Dictionray…etc\n",
    "    •\tIt can act as source of input to higher order functions.\n",
    "        o\tHigher order Function: Any function which accepts other function reference as argument is called higher order function.\n",
    "        o\tMap,Filter,Reduce\n",
    "### Syntax of Lambda Function:\n",
    "    \tLambda    <Input Arguments>    :     <Output Expression>\n",
    "        •\tInput Argument(Optional) Values passed into function\n",
    "        •\tOutput Expression Bussiness logic for output\n",
    "\n",
    "### Higher order Function:\n",
    "    •\tHigher order Function: Any function which accepts other function reference as argument is called higher order function.\n",
    "    •\tMap\n",
    "        o\tIt maps elements of iterable with function to implement logic.\n",
    "        o\tMap(      func ,       <iterable>)\n",
    "        o\tMap() implements a business logic to each and every element of the iterable.\n",
    "        o\tNo. of input elements = No. output elements\n",
    "\n"
   ]
  },
  {
   "cell_type": "code",
   "execution_count": null,
   "id": "8d27b853",
   "metadata": {},
   "outputs": [],
   "source": []
  },
  {
   "cell_type": "markdown",
   "id": "732d8a81",
   "metadata": {},
   "source": [
    "### Recursion Function"
   ]
  },
  {
   "cell_type": "code",
   "execution_count": 1,
   "id": "422f32df",
   "metadata": {},
   "outputs": [
    {
     "name": "stdout",
     "output_type": "stream",
     "text": [
      "Good Morning...Everyone\n"
     ]
    }
   ],
   "source": [
    "def greet():\n",
    "    print(\"Good Morning...Everyone\")\n",
    "greet()"
   ]
  },
  {
   "cell_type": "code",
   "execution_count": 2,
   "id": "5d62852e",
   "metadata": {},
   "outputs": [
    {
     "name": "stdout",
     "output_type": "stream",
     "text": [
      "1\n",
      "2\n",
      "3\n",
      "4\n",
      "5\n",
      "6\n",
      "7\n",
      "8\n",
      "9\n",
      "10\n"
     ]
    }
   ],
   "source": [
    "def num(n):\n",
    "    print(n)\n",
    "    if n==10:\n",
    "        return 0\n",
    "    else:\n",
    "        n=n+1\n",
    "        num(n)\n",
    "num(1)    "
   ]
  },
  {
   "cell_type": "code",
   "execution_count": 3,
   "id": "64cb0e6d",
   "metadata": {},
   "outputs": [
    {
     "name": "stdout",
     "output_type": "stream",
     "text": [
      "10\n",
      "9\n",
      "8\n",
      "7\n",
      "6\n",
      "5\n",
      "4\n",
      "3\n",
      "2\n",
      "1\n"
     ]
    }
   ],
   "source": [
    "def fnum(num):\n",
    "    print(num)\n",
    "    if num==1:\n",
    "        return 0\n",
    "    else:\n",
    "        num=num-1\n",
    "        fnum(num)\n",
    "        \n",
    "fnum(10)"
   ]
  },
  {
   "cell_type": "markdown",
   "id": "d4ef48d6",
   "metadata": {},
   "source": [
    "### Lambda Function"
   ]
  },
  {
   "cell_type": "code",
   "execution_count": 4,
   "id": "6e0b3143",
   "metadata": {},
   "outputs": [
    {
     "data": {
      "text/plain": [
       "<function __main__.<lambda>(x, y)>"
      ]
     },
     "execution_count": 4,
     "metadata": {},
     "output_type": "execute_result"
    }
   ],
   "source": [
    "lambda x,y:x*y # return the address"
   ]
  },
  {
   "cell_type": "markdown",
   "id": "e900088e",
   "metadata": {},
   "source": [
    "### First Method to Execute Lambda Function"
   ]
  },
  {
   "cell_type": "code",
   "execution_count": 5,
   "id": "fa1a4c15",
   "metadata": {},
   "outputs": [
    {
     "data": {
      "text/plain": [
       "200"
      ]
     },
     "execution_count": 5,
     "metadata": {},
     "output_type": "execute_result"
    }
   ],
   "source": [
    "r=lambda x,y:x*y\n",
    "r(10,20)"
   ]
  },
  {
   "cell_type": "markdown",
   "id": "f8e0ce28",
   "metadata": {},
   "source": [
    "### Second Method to Execute Lambda Function"
   ]
  },
  {
   "cell_type": "code",
   "execution_count": 7,
   "id": "4959aeca",
   "metadata": {},
   "outputs": [
    {
     "data": {
      "text/plain": [
       "50"
      ]
     },
     "execution_count": 7,
     "metadata": {},
     "output_type": "execute_result"
    }
   ],
   "source": [
    "(lambda a,b:a+b)(20,30)"
   ]
  },
  {
   "cell_type": "markdown",
   "id": "5948a17e",
   "metadata": {},
   "source": [
    "### Lambda without arguments"
   ]
  },
  {
   "cell_type": "code",
   "execution_count": 8,
   "id": "dd9abab0",
   "metadata": {},
   "outputs": [
    {
     "data": {
      "text/plain": [
       "'Welcome to Lambda Function'"
      ]
     },
     "execution_count": 8,
     "metadata": {},
     "output_type": "execute_result"
    }
   ],
   "source": [
    "e=lambda : \"Welcome to Lambda Function\"\n",
    "e()\n"
   ]
  },
  {
   "cell_type": "code",
   "execution_count": 9,
   "id": "e6cb4574",
   "metadata": {},
   "outputs": [
    {
     "data": {
      "text/plain": [
       "'Welcome to Lambda Function'"
      ]
     },
     "execution_count": 9,
     "metadata": {},
     "output_type": "execute_result"
    }
   ],
   "source": [
    "(lambda : \"Welcome to Lambda Function\")()"
   ]
  },
  {
   "cell_type": "markdown",
   "id": "7995c17d",
   "metadata": {},
   "source": [
    "### Lambda with different arguments"
   ]
  },
  {
   "cell_type": "markdown",
   "id": "87cd531d",
   "metadata": {},
   "source": [
    "### Lambda with one argument"
   ]
  },
  {
   "cell_type": "code",
   "execution_count": 10,
   "id": "0484e0bb",
   "metadata": {},
   "outputs": [
    {
     "data": {
      "text/plain": [
       "27"
      ]
     },
     "execution_count": 10,
     "metadata": {},
     "output_type": "execute_result"
    }
   ],
   "source": [
    "(lambda a:a**3)(3)"
   ]
  },
  {
   "cell_type": "code",
   "execution_count": null,
   "id": "656211e4",
   "metadata": {},
   "outputs": [],
   "source": []
  },
  {
   "cell_type": "markdown",
   "id": "f2747f2b",
   "metadata": {},
   "source": [
    "### Lambda with two arguments"
   ]
  },
  {
   "cell_type": "code",
   "execution_count": 11,
   "id": "e6c27f5e",
   "metadata": {},
   "outputs": [
    {
     "data": {
      "text/plain": [
       "30"
      ]
     },
     "execution_count": 11,
     "metadata": {},
     "output_type": "execute_result"
    }
   ],
   "source": [
    "(lambda x,y:x+y)(10,20)"
   ]
  },
  {
   "cell_type": "code",
   "execution_count": null,
   "id": "915b2ceb",
   "metadata": {},
   "outputs": [],
   "source": []
  },
  {
   "cell_type": "markdown",
   "id": "574b4698",
   "metadata": {},
   "source": [
    "### Lambda with three arguments"
   ]
  },
  {
   "cell_type": "code",
   "execution_count": 14,
   "id": "a0d2ba03",
   "metadata": {},
   "outputs": [
    {
     "data": {
      "text/plain": [
       "90"
      ]
     },
     "execution_count": 14,
     "metadata": {},
     "output_type": "execute_result"
    }
   ],
   "source": [
    "(lambda a,b,c:a+b+c)(20,30,40)"
   ]
  },
  {
   "cell_type": "code",
   "execution_count": 15,
   "id": "732d092f",
   "metadata": {},
   "outputs": [
    {
     "data": {
      "text/plain": [
       "206"
      ]
     },
     "execution_count": 15,
     "metadata": {},
     "output_type": "execute_result"
    }
   ],
   "source": [
    "c=(lambda a,b,c:a+b+c)\n",
    "c(59,68,79)"
   ]
  },
  {
   "cell_type": "code",
   "execution_count": null,
   "id": "08b5e442",
   "metadata": {},
   "outputs": [],
   "source": []
  },
  {
   "cell_type": "markdown",
   "id": "6e95b680",
   "metadata": {},
   "source": [
    "### Lambda in List"
   ]
  },
  {
   "cell_type": "code",
   "execution_count": 16,
   "id": "b1ec188d",
   "metadata": {},
   "outputs": [],
   "source": [
    "nlist=[100,200,300]"
   ]
  },
  {
   "cell_type": "code",
   "execution_count": 17,
   "id": "0decae60",
   "metadata": {},
   "outputs": [
    {
     "data": {
      "text/plain": [
       "[100, 200, 300]"
      ]
     },
     "execution_count": 17,
     "metadata": {},
     "output_type": "execute_result"
    }
   ],
   "source": [
    "nlist"
   ]
  },
  {
   "cell_type": "code",
   "execution_count": 18,
   "id": "885e094f",
   "metadata": {},
   "outputs": [
    {
     "data": {
      "text/plain": [
       "200"
      ]
     },
     "execution_count": 18,
     "metadata": {},
     "output_type": "execute_result"
    }
   ],
   "source": [
    "nlist[1]"
   ]
  },
  {
   "cell_type": "code",
   "execution_count": 23,
   "id": "c389e8f6",
   "metadata": {},
   "outputs": [
    {
     "name": "stdout",
     "output_type": "stream",
     "text": [
      "60\n",
      "**********************************\n",
      "64\n",
      "**********************************\n",
      "2000\n"
     ]
    }
   ],
   "source": [
    "lambda_list=[lambda z: z**3, lambda a,b:a*b, lambda x,y,g:x+y+g]\n",
    "\n",
    "print(lambda_list[2](10,20,30))\n",
    "print(\"**********************************\")\n",
    "print(lambda_list[0](4))\n",
    "print(\"**********************************\")\n",
    "print(lambda_list[1](40,50))\n",
    "\n"
   ]
  },
  {
   "cell_type": "markdown",
   "id": "6d2b2516",
   "metadata": {},
   "source": [
    "### Lambda in Dictionary"
   ]
  },
  {
   "cell_type": "code",
   "execution_count": 24,
   "id": "eec1d0d7",
   "metadata": {},
   "outputs": [],
   "source": [
    "dlambda={\n",
    "            \n",
    "        \"C\":lambda z: z**3,\n",
    "        \"M\":lambda a,b:a*b,\n",
    "        \"A\":lambda x,y,g:x+y+g\n",
    "}"
   ]
  },
  {
   "cell_type": "code",
   "execution_count": 25,
   "id": "8a544d26",
   "metadata": {},
   "outputs": [
    {
     "data": {
      "text/plain": [
       "{'C': <function __main__.<lambda>(z)>,\n",
       " 'M': <function __main__.<lambda>(a, b)>,\n",
       " 'A': <function __main__.<lambda>(x, y, g)>}"
      ]
     },
     "execution_count": 25,
     "metadata": {},
     "output_type": "execute_result"
    }
   ],
   "source": [
    "dlambda"
   ]
  },
  {
   "cell_type": "code",
   "execution_count": 27,
   "id": "db2242b6",
   "metadata": {},
   "outputs": [
    {
     "data": {
      "text/plain": [
       "125"
      ]
     },
     "execution_count": 27,
     "metadata": {},
     "output_type": "execute_result"
    }
   ],
   "source": [
    "dlambda[\"C\"](5)"
   ]
  },
  {
   "cell_type": "code",
   "execution_count": 28,
   "id": "86bcb12a",
   "metadata": {},
   "outputs": [
    {
     "data": {
      "text/plain": [
       "200"
      ]
     },
     "execution_count": 28,
     "metadata": {},
     "output_type": "execute_result"
    }
   ],
   "source": [
    "dlambda[\"M\"](20,10)"
   ]
  },
  {
   "cell_type": "code",
   "execution_count": 29,
   "id": "15fafe1f",
   "metadata": {},
   "outputs": [
    {
     "data": {
      "text/plain": [
       "800"
      ]
     },
     "execution_count": 29,
     "metadata": {},
     "output_type": "execute_result"
    }
   ],
   "source": [
    "dlambda[\"A\"](200,100,500)"
   ]
  },
  {
   "cell_type": "markdown",
   "id": "1047fcb6",
   "metadata": {},
   "source": [
    "### Lambda with Condition"
   ]
  },
  {
   "cell_type": "code",
   "execution_count": 30,
   "id": "9c7439b5",
   "metadata": {},
   "outputs": [
    {
     "data": {
      "text/plain": [
       "False"
      ]
     },
     "execution_count": 30,
     "metadata": {},
     "output_type": "execute_result"
    }
   ],
   "source": [
    "r=lambda m,n:m>n\n",
    "r(66,83)"
   ]
  },
  {
   "cell_type": "code",
   "execution_count": 31,
   "id": "d1293c7f",
   "metadata": {},
   "outputs": [
    {
     "data": {
      "text/plain": [
       "True"
      ]
     },
     "execution_count": 31,
     "metadata": {},
     "output_type": "execute_result"
    }
   ],
   "source": [
    "r=lambda m,n:m<n\n",
    "r(66,83)"
   ]
  },
  {
   "cell_type": "code",
   "execution_count": 32,
   "id": "409d1657",
   "metadata": {},
   "outputs": [
    {
     "data": {
      "text/plain": [
       "573"
      ]
     },
     "execution_count": 32,
     "metadata": {},
     "output_type": "execute_result"
    }
   ],
   "source": [
    "# if...else\n",
    "\n",
    "r1=lambda m1,n1: m1 if m1>n1 else n1\n",
    "r1(242,573)"
   ]
  },
  {
   "cell_type": "code",
   "execution_count": 34,
   "id": "07369afe",
   "metadata": {},
   "outputs": [
    {
     "data": {
      "text/plain": [
       "907"
      ]
     },
     "execution_count": 34,
     "metadata": {},
     "output_type": "execute_result"
    }
   ],
   "source": [
    "r2=lambda x,y,z: x if (x>=y) and (x>=z) else(y if y>=z else z)\n",
    "r2(789,864,907)"
   ]
  },
  {
   "cell_type": "markdown",
   "id": "4cbda914",
   "metadata": {},
   "source": [
    "### Assignment\n",
    " 1. accepting desgination and salary,, calculate hiked amount,calculate hiked salary using lambda and inline if.\n",
    " 2. Accept student details name and marks,, Calculate the grade."
   ]
  },
  {
   "cell_type": "markdown",
   "id": "9a8e10e3",
   "metadata": {},
   "source": [
    "### Lambda with for loop"
   ]
  },
  {
   "cell_type": "code",
   "execution_count": 35,
   "id": "68893724",
   "metadata": {},
   "outputs": [
    {
     "ename": "SyntaxError",
     "evalue": "invalid syntax (2353188444.py, line 1)",
     "output_type": "error",
     "traceback": [
      "\u001b[1;36m  File \u001b[1;32m\"C:\\Users\\mitra\\AppData\\Local\\Temp\\ipykernel_19804\\2353188444.py\"\u001b[1;36m, line \u001b[1;32m1\u001b[0m\n\u001b[1;33m    lambda n:  for i in range(1,n+1)\u001b[0m\n\u001b[1;37m               ^\u001b[0m\n\u001b[1;31mSyntaxError\u001b[0m\u001b[1;31m:\u001b[0m invalid syntax\n"
     ]
    }
   ],
   "source": [
    "lambda n:  for i in range(1,n+1)"
   ]
  },
  {
   "cell_type": "code",
   "execution_count": 36,
   "id": "7aec1501",
   "metadata": {},
   "outputs": [
    {
     "data": {
      "text/plain": [
       "[1, 2, 3, 4, 5, 6, 7, 8, 9, 10]"
      ]
     },
     "execution_count": 36,
     "metadata": {},
     "output_type": "execute_result"
    }
   ],
   "source": [
    "r5=lambda n:  [i for i in range(1,n+1)]\n",
    "r5(10)"
   ]
  },
  {
   "cell_type": "code",
   "execution_count": 37,
   "id": "99e15730",
   "metadata": {},
   "outputs": [
    {
     "data": {
      "text/plain": [
       "[4, 8, 12, 16, 20]"
      ]
     },
     "execution_count": 37,
     "metadata": {},
     "output_type": "execute_result"
    }
   ],
   "source": [
    "r6=lambda n:  [i*2  for i in range(1,n+1)  if i%2==0]\n",
    "r6(10)"
   ]
  },
  {
   "cell_type": "markdown",
   "id": "444d6c0d",
   "metadata": {},
   "source": [
    "### Nested Lambda"
   ]
  },
  {
   "cell_type": "code",
   "execution_count": 38,
   "id": "d17712c6",
   "metadata": {},
   "outputs": [
    {
     "data": {
      "text/plain": [
       "90"
      ]
     },
     "execution_count": 38,
     "metadata": {},
     "output_type": "execute_result"
    }
   ],
   "source": [
    "k=lambda x,y:x+y # Normal Lambda Function\n",
    "k(10,80)"
   ]
  },
  {
   "cell_type": "code",
   "execution_count": 39,
   "id": "3c81475b",
   "metadata": {},
   "outputs": [
    {
     "data": {
      "text/plain": [
       "120"
      ]
     },
     "execution_count": 39,
     "metadata": {},
     "output_type": "execute_result"
    }
   ],
   "source": [
    "k1=lambda x: lambda y : x+y\n",
    "k1(80)(40)"
   ]
  },
  {
   "cell_type": "code",
   "execution_count": 41,
   "id": "703bc051",
   "metadata": {},
   "outputs": [
    {
     "data": {
      "text/plain": [
       "170"
      ]
     },
     "execution_count": 41,
     "metadata": {},
     "output_type": "execute_result"
    }
   ],
   "source": [
    "k2=lambda x: lambda y,z : x+y+z\n",
    "k2(80)(40,50)"
   ]
  },
  {
   "cell_type": "code",
   "execution_count": 42,
   "id": "9d058fdb",
   "metadata": {},
   "outputs": [
    {
     "data": {
      "text/plain": [
       "333"
      ]
     },
     "execution_count": 42,
     "metadata": {},
     "output_type": "execute_result"
    }
   ],
   "source": [
    "k3= lambda a: lambda b,c : lambda x,y,z : a+b+c+x+y+z\n",
    "k3(34)(45,20)(67,78,89)"
   ]
  },
  {
   "cell_type": "code",
   "execution_count": null,
   "id": "4255688e",
   "metadata": {},
   "outputs": [],
   "source": []
  },
  {
   "cell_type": "markdown",
   "id": "ba62b734",
   "metadata": {},
   "source": [
    "### Map()"
   ]
  },
  {
   "cell_type": "code",
   "execution_count": 43,
   "id": "d7908427",
   "metadata": {},
   "outputs": [
    {
     "data": {
      "text/plain": [
       "25"
      ]
     },
     "execution_count": 43,
     "metadata": {},
     "output_type": "execute_result"
    }
   ],
   "source": [
    "def sqr(n):  # Normal Function\n",
    "    res=n**2\n",
    "    return res\n",
    "\n",
    "sqr(5)"
   ]
  },
  {
   "cell_type": "code",
   "execution_count": 45,
   "id": "55beae4c",
   "metadata": {},
   "outputs": [
    {
     "name": "stdout",
     "output_type": "stream",
     "text": [
      "9 :81\n",
      "5 :25\n",
      "8 :64\n",
      "7 :49\n",
      "4 :16\n",
      "6 :36\n"
     ]
    }
   ],
   "source": [
    "def sqr(n): \n",
    "    res=n**2\n",
    "    return res\n",
    "\n",
    "nlist=[9,5,8,7,4,6]\n",
    "\n",
    "for i in nlist:\n",
    "    r=sqr(i)\n",
    "    print(i,end=\" :\")\n",
    "    print(r)"
   ]
  },
  {
   "cell_type": "code",
   "execution_count": 47,
   "id": "1a811b2f",
   "metadata": {},
   "outputs": [
    {
     "name": "stdout",
     "output_type": "stream",
     "text": [
      "[81, 25, 64, 49, 16, 36]\n"
     ]
    }
   ],
   "source": [
    "def sqr(n): \n",
    "    res=n**2\n",
    "    return res\n",
    "\n",
    "nlist=[9,5,8,7,4,6]\n",
    "l=[]\n",
    "for i in nlist:\n",
    "    r=sqr(i)\n",
    "    \n",
    "    l.append(r)\n",
    "print(l)"
   ]
  },
  {
   "cell_type": "code",
   "execution_count": null,
   "id": "5d522009",
   "metadata": {},
   "outputs": [],
   "source": []
  },
  {
   "cell_type": "code",
   "execution_count": 57,
   "id": "959654e5",
   "metadata": {},
   "outputs": [
    {
     "data": {
      "text/plain": [
       "[81, 25, 64, 49, 16, 36]"
      ]
     },
     "execution_count": 57,
     "metadata": {},
     "output_type": "execute_result"
    }
   ],
   "source": [
    "def sqr(n): \n",
    "    res=n**2\n",
    "    return res\n",
    "\n",
    "nlist=[9,5,8,7,4,6]\n",
    "\n",
    "m=map(sqr,nlist)\n",
    "m\n",
    "list(m)"
   ]
  },
  {
   "cell_type": "code",
   "execution_count": 58,
   "id": "4fc5c6c3",
   "metadata": {},
   "outputs": [
    {
     "data": {
      "text/plain": [
       "[4, 9, 16, 25]"
      ]
     },
     "execution_count": 58,
     "metadata": {},
     "output_type": "execute_result"
    }
   ],
   "source": [
    "list(map(sqr,[2,3,4,5]))"
   ]
  },
  {
   "cell_type": "code",
   "execution_count": null,
   "id": "aedb426a",
   "metadata": {},
   "outputs": [],
   "source": []
  }
 ],
 "metadata": {
  "kernelspec": {
   "display_name": "Python 3 (ipykernel)",
   "language": "python",
   "name": "python3"
  },
  "language_info": {
   "codemirror_mode": {
    "name": "ipython",
    "version": 3
   },
   "file_extension": ".py",
   "mimetype": "text/x-python",
   "name": "python",
   "nbconvert_exporter": "python",
   "pygments_lexer": "ipython3",
   "version": "3.9.13"
  }
 },
 "nbformat": 4,
 "nbformat_minor": 5
}
