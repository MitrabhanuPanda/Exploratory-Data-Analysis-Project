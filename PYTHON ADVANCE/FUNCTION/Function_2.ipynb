{
 "cells": [
  {
   "cell_type": "markdown",
   "id": "25ed7269",
   "metadata": {},
   "source": [
    "### Variable-Length Arguments:\n",
    "        o\tIt is a special type of variable which accept ‘n’ number of positional values.\n",
    "        o\tThese values are stored in the form of ‘Tuple’.\n",
    "\n",
    "            Recommended: Variable length argument name should be ‘args’.\n",
    "                            *args  Variable length argument\n",
    "\n",
    "### \tKeyword Variable Length Argument:\n",
    "            o\tIt is a special type of variable which accept ‘n’ number of keyword arguments.\n",
    "            o\tThese keyqord arguments are stored in the form of dictionary.\n",
    "\n",
    "                Recommended: Keyword variable argument name should be ‘kwargs’.\n",
    "                                 **kwargs Keyword length argument\n",
    "\n",
    "### Return:\n",
    "        •\tA function definition can return a value/values to the function calling part using “return” keyword.\n",
    "        •\tThese values can be collect at function calling place.\n",
    "        •\tReturn should be the last line of the function.\n",
    "\n",
    "### Function Reference:\n",
    "        •\tFunction reference refers to address of the function.\n",
    "        •\tWhich ever variable holds the address of the function is authorized to call the function.\n",
    "        •\tThis address can be passed from one variable to another variable.\n",
    "\n",
    "### Nested Functions:\n",
    "        •\tNested function can be executed within the parent function.\n",
    "        •\tA Function within another function is called Nested Function.\n",
    "\n",
    "\n",
    "### Closure:\n",
    "        •\tPassing address of nested function to main program to main program and executing nested function to main program is called as Closure Property.\n",
    "        \n",
    "        \n",
    "\n",
    "## \tFunction Reference, Nested Function, Closure Property --> Decorators \n",
    "## Func--> Name recommended name variable which holds function reference\n"
   ]
  },
  {
   "cell_type": "code",
   "execution_count": null,
   "id": "30281587",
   "metadata": {},
   "outputs": [],
   "source": []
  },
  {
   "cell_type": "markdown",
   "id": "deb6aa54",
   "metadata": {},
   "source": [
    "### Variable Length Argument"
   ]
  },
  {
   "cell_type": "code",
   "execution_count": 1,
   "id": "53d51491",
   "metadata": {},
   "outputs": [
    {
     "name": "stdout",
     "output_type": "stream",
     "text": [
      "50\n",
      "60\n",
      "70\n",
      "180\n"
     ]
    }
   ],
   "source": [
    "def fun_add3(a,b,c,d=0): \n",
    "    print(a)\n",
    "    print(b)\n",
    "    print(c)\n",
    "    add=a+b+c\n",
    "    print(add)\n",
    "    \n",
    "fun_add3(50,60,70,80)"
   ]
  },
  {
   "cell_type": "code",
   "execution_count": 3,
   "id": "d726319e",
   "metadata": {},
   "outputs": [
    {
     "ename": "TypeError",
     "evalue": "fun_add3() takes 5 positional arguments but 13 were given",
     "output_type": "error",
     "traceback": [
      "\u001b[1;31m---------------------------------------------------------------------------\u001b[0m",
      "\u001b[1;31mTypeError\u001b[0m                                 Traceback (most recent call last)",
      "\u001b[1;32m~\\AppData\\Local\\Temp\\ipykernel_19028\\829957470.py\u001b[0m in \u001b[0;36m<module>\u001b[1;34m\u001b[0m\n\u001b[0;32m      6\u001b[0m     \u001b[0mprint\u001b[0m\u001b[1;33m(\u001b[0m\u001b[0madd\u001b[0m\u001b[1;33m)\u001b[0m\u001b[1;33m\u001b[0m\u001b[1;33m\u001b[0m\u001b[0m\n\u001b[0;32m      7\u001b[0m \u001b[1;33m\u001b[0m\u001b[0m\n\u001b[1;32m----> 8\u001b[1;33m \u001b[0mfun_add3\u001b[0m\u001b[1;33m(\u001b[0m\u001b[1;36m50\u001b[0m\u001b[1;33m,\u001b[0m\u001b[1;36m60\u001b[0m\u001b[1;33m,\u001b[0m\u001b[1;36m70\u001b[0m\u001b[1;33m,\u001b[0m\u001b[1;36m80\u001b[0m\u001b[1;33m,\u001b[0m\u001b[1;36m90\u001b[0m\u001b[1;33m,\u001b[0m\u001b[1;36m60\u001b[0m\u001b[1;33m,\u001b[0m\u001b[1;36m70\u001b[0m\u001b[1;33m,\u001b[0m\u001b[1;36m80\u001b[0m\u001b[1;33m,\u001b[0m\u001b[1;36m90\u001b[0m\u001b[1;33m,\u001b[0m\u001b[1;36m60\u001b[0m\u001b[1;33m,\u001b[0m\u001b[1;36m70\u001b[0m\u001b[1;33m,\u001b[0m\u001b[1;36m80\u001b[0m\u001b[1;33m,\u001b[0m\u001b[1;36m90\u001b[0m\u001b[1;33m)\u001b[0m\u001b[1;33m\u001b[0m\u001b[1;33m\u001b[0m\u001b[0m\n\u001b[0m",
      "\u001b[1;31mTypeError\u001b[0m: fun_add3() takes 5 positional arguments but 13 were given"
     ]
    }
   ],
   "source": [
    "def fun_add3(a,b,c,d,e): \n",
    "    print(a)\n",
    "    print(b)\n",
    "    print(c)\n",
    "    add=a+b+c+e\n",
    "    print(add)\n",
    "    \n",
    "fun_add3(50,60,70,80,90,60,70,80,90,60,70,80,90)"
   ]
  },
  {
   "cell_type": "code",
   "execution_count": 4,
   "id": "b3d5777d",
   "metadata": {},
   "outputs": [
    {
     "name": "stdout",
     "output_type": "stream",
     "text": [
      "(50, 60, 70, 80, 90, 60, 70, 80, 90, 60, 70, 80, 90)\n"
     ]
    }
   ],
   "source": [
    "def fun_add3(*a): \n",
    "        print(a)\n",
    "\n",
    "    \n",
    "fun_add3(50,60,70,80,90,60,70,80,90,60,70,80,90)"
   ]
  },
  {
   "cell_type": "code",
   "execution_count": 7,
   "id": "2428db9f",
   "metadata": {},
   "outputs": [
    {
     "name": "stdout",
     "output_type": "stream",
     "text": [
      "(50, 60, 70, 80, 90, 60)\n"
     ]
    }
   ],
   "source": [
    "def fun_add3(*args): \n",
    "        print(args)\n",
    "\n",
    "    \n",
    "fun_add3(50,60,70,80,90,60)"
   ]
  },
  {
   "cell_type": "markdown",
   "id": "b9c0c3cf",
   "metadata": {},
   "source": [
    "### Keyword Variable Length Argument"
   ]
  },
  {
   "cell_type": "code",
   "execution_count": 8,
   "id": "b4c731fc",
   "metadata": {},
   "outputs": [
    {
     "name": "stdout",
     "output_type": "stream",
     "text": [
      "(50, 60, 70, 80, 90, 60)\n"
     ]
    }
   ],
   "source": [
    "def fun_add3(*args,x): \n",
    "        print(args)\n",
    "\n",
    "    \n",
    "fun_add3(50,60,70,80,90,60,x=10)"
   ]
  },
  {
   "cell_type": "code",
   "execution_count": 9,
   "id": "029b8ca8",
   "metadata": {},
   "outputs": [
    {
     "name": "stdout",
     "output_type": "stream",
     "text": [
      "(50, 60, 70, 80, 90, 60)\n"
     ]
    }
   ],
   "source": [
    "def fun_add3(*args,x,x2,x3,x4): \n",
    "        print(args)\n",
    "\n",
    "    \n",
    "fun_add3(50,60,70,80,90,60,x=10,x2=20,x3=30,x4=40)"
   ]
  },
  {
   "cell_type": "code",
   "execution_count": 10,
   "id": "8c748770",
   "metadata": {},
   "outputs": [
    {
     "name": "stdout",
     "output_type": "stream",
     "text": [
      "(50, 60, 70, 80, 90, 60)\n",
      "{'x': 10, 'x2': 20, 'x3': 30, 'x4': 40}\n"
     ]
    }
   ],
   "source": [
    "def fun_add3(*args,**kwargs): \n",
    "        print(args)\n",
    "        print(kwargs)\n",
    "\n",
    "    \n",
    "fun_add3(50,60,70,80,90,60,x=10,x2=20,x3=30,x4=40)"
   ]
  },
  {
   "cell_type": "markdown",
   "id": "c4cdc105",
   "metadata": {},
   "source": [
    "### Return()"
   ]
  },
  {
   "cell_type": "code",
   "execution_count": 13,
   "id": "be680b1a",
   "metadata": {},
   "outputs": [
    {
     "name": "stdout",
     "output_type": "stream",
     "text": [
      "50\n"
     ]
    }
   ],
   "source": [
    "def fun_add(num1,num2):\n",
    "    a=num1+num2\n",
    "    print(a)\n",
    "    \n",
    "fun_add(20,30)"
   ]
  },
  {
   "cell_type": "code",
   "execution_count": 15,
   "id": "8e6e1883",
   "metadata": {},
   "outputs": [],
   "source": [
    "def fun_add(num1,num2):\n",
    "    a=num1+num2\n",
    "    \n",
    "    \n",
    "fun_add(20,30)"
   ]
  },
  {
   "cell_type": "code",
   "execution_count": 17,
   "id": "fdbe1b1d",
   "metadata": {},
   "outputs": [
    {
     "name": "stdout",
     "output_type": "stream",
     "text": [
      "From Main Program\n",
      "50\n"
     ]
    }
   ],
   "source": [
    "def fun_add(num1,num2):\n",
    "    a=num1+num2\n",
    "    return a\n",
    "    \n",
    "res=fun_add(20,30)\n",
    "print(\"From Main Program\")\n",
    "print(res)\n"
   ]
  },
  {
   "cell_type": "code",
   "execution_count": 18,
   "id": "d4a2c2c2",
   "metadata": {},
   "outputs": [
    {
     "name": "stdout",
     "output_type": "stream",
     "text": [
      "Enter a Number: 45\n",
      "Enter Second Number: 55\n",
      "45\n",
      "55\n",
      "100\n"
     ]
    }
   ],
   "source": [
    "def fun_add():\n",
    "    num1=int(input(\"Enter a Number: \"))\n",
    "    num2=int(input(\"Enter Second Number: \"))\n",
    "    a=num1+num2\n",
    "    return num1,num2,a\n",
    "\n",
    "x,y,z=fun_add()\n",
    "print(x)\n",
    "print(y)\n",
    "print(z)"
   ]
  },
  {
   "cell_type": "code",
   "execution_count": 19,
   "id": "17fc06c4",
   "metadata": {},
   "outputs": [
    {
     "name": "stdout",
     "output_type": "stream",
     "text": [
      "Enter a Number: 20\n",
      "Enter Second Number: 30\n",
      "(20, 30, 50)\n"
     ]
    }
   ],
   "source": [
    "def fun_add():\n",
    "    num1=int(input(\"Enter a Number: \"))\n",
    "    num2=int(input(\"Enter Second Number: \"))\n",
    "    a=num1+num2\n",
    "    return num1,num2,a\n",
    "\n",
    "x=fun_add()\n",
    "print(x)\n"
   ]
  },
  {
   "cell_type": "code",
   "execution_count": 20,
   "id": "3982a1ba",
   "metadata": {},
   "outputs": [
    {
     "name": "stdout",
     "output_type": "stream",
     "text": [
      "None\n"
     ]
    }
   ],
   "source": [
    "def fun_add():\n",
    "    num1=1000\n",
    "    num2=2000\n",
    "    a=num1+num2\n",
    "    \n",
    "\n",
    "x=fun_add()\n",
    "print(x)"
   ]
  },
  {
   "cell_type": "code",
   "execution_count": 21,
   "id": "2e40a6ac",
   "metadata": {},
   "outputs": [
    {
     "name": "stdout",
     "output_type": "stream",
     "text": [
      "3000\n"
     ]
    }
   ],
   "source": [
    "def fun_add():\n",
    "    num1=1000\n",
    "    num2=2000\n",
    "    a=num1+num2\n",
    "    return a\n",
    "    \n",
    "\n",
    "x=fun_add()\n",
    "print(x)"
   ]
  },
  {
   "cell_type": "markdown",
   "id": "fdec672e",
   "metadata": {},
   "source": [
    "### Function Reference "
   ]
  },
  {
   "cell_type": "code",
   "execution_count": 22,
   "id": "e0810b9d",
   "metadata": {},
   "outputs": [
    {
     "name": "stdout",
     "output_type": "stream",
     "text": [
      "3000\n"
     ]
    }
   ],
   "source": [
    "def fun_add():\n",
    "    num1=1000\n",
    "    num2=2000\n",
    "    a=num1+num2\n",
    "    print(a)\n",
    "    \n",
    "\n",
    "fun_add()\n"
   ]
  },
  {
   "cell_type": "code",
   "execution_count": 23,
   "id": "bc03a2f8",
   "metadata": {},
   "outputs": [
    {
     "data": {
      "text/plain": [
       "<function __main__.fun_add()>"
      ]
     },
     "execution_count": 23,
     "metadata": {},
     "output_type": "execute_result"
    }
   ],
   "source": [
    "fun_add"
   ]
  },
  {
   "cell_type": "code",
   "execution_count": 24,
   "id": "3f0b0768",
   "metadata": {},
   "outputs": [],
   "source": [
    "s=fun_add"
   ]
  },
  {
   "cell_type": "code",
   "execution_count": 25,
   "id": "2f0cfa43",
   "metadata": {},
   "outputs": [
    {
     "data": {
      "text/plain": [
       "<function __main__.fun_add()>"
      ]
     },
     "execution_count": 25,
     "metadata": {},
     "output_type": "execute_result"
    }
   ],
   "source": [
    "s"
   ]
  },
  {
   "cell_type": "code",
   "execution_count": 26,
   "id": "01dfeb70",
   "metadata": {},
   "outputs": [
    {
     "name": "stdout",
     "output_type": "stream",
     "text": [
      "3000\n"
     ]
    }
   ],
   "source": [
    "s()"
   ]
  },
  {
   "cell_type": "code",
   "execution_count": 27,
   "id": "3a447ea1",
   "metadata": {},
   "outputs": [
    {
     "name": "stdout",
     "output_type": "stream",
     "text": [
      "This is from sqr Function\n",
      "Enter a value: 2\n",
      "4\n"
     ]
    }
   ],
   "source": [
    "def sqr():\n",
    "    print(\"This is from sqr Function\")\n",
    "    num=int(input(\"Enter a value: \"))\n",
    "    print(num**2)\n",
    "    \n",
    "sqr()"
   ]
  },
  {
   "cell_type": "code",
   "execution_count": 28,
   "id": "ee8f4137",
   "metadata": {},
   "outputs": [
    {
     "data": {
      "text/plain": [
       "<function __main__.sqr()>"
      ]
     },
     "execution_count": 28,
     "metadata": {},
     "output_type": "execute_result"
    }
   ],
   "source": [
    "sqr"
   ]
  },
  {
   "cell_type": "code",
   "execution_count": 29,
   "id": "7e5d3177",
   "metadata": {},
   "outputs": [],
   "source": [
    "x=sqr"
   ]
  },
  {
   "cell_type": "code",
   "execution_count": 30,
   "id": "6e9bfe6b",
   "metadata": {},
   "outputs": [
    {
     "data": {
      "text/plain": [
       "<function __main__.sqr()>"
      ]
     },
     "execution_count": 30,
     "metadata": {},
     "output_type": "execute_result"
    }
   ],
   "source": [
    "x"
   ]
  },
  {
   "cell_type": "code",
   "execution_count": 31,
   "id": "6ebb0092",
   "metadata": {},
   "outputs": [
    {
     "name": "stdout",
     "output_type": "stream",
     "text": [
      "This is from sqr Function\n",
      "Enter a value: 4\n",
      "16\n"
     ]
    }
   ],
   "source": [
    "x()"
   ]
  },
  {
   "cell_type": "markdown",
   "id": "f1418047",
   "metadata": {},
   "source": [
    "### Nested Function"
   ]
  },
  {
   "cell_type": "code",
   "execution_count": null,
   "id": "de26199e",
   "metadata": {},
   "outputs": [],
   "source": []
  }
 ],
 "metadata": {
  "kernelspec": {
   "display_name": "Python 3 (ipykernel)",
   "language": "python",
   "name": "python3"
  },
  "language_info": {
   "codemirror_mode": {
    "name": "ipython",
    "version": 3
   },
   "file_extension": ".py",
   "mimetype": "text/x-python",
   "name": "python",
   "nbconvert_exporter": "python",
   "pygments_lexer": "ipython3",
   "version": "3.9.13"
  }
 },
 "nbformat": 4,
 "nbformat_minor": 5
}
