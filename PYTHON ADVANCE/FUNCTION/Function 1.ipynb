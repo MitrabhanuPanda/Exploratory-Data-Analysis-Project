{
 "cells": [
  {
   "cell_type": "code",
   "execution_count": 1,
   "id": "b6b3884d",
   "metadata": {},
   "outputs": [
    {
     "name": "stdout",
     "output_type": "stream",
     "text": [
      "Hello All..Good Morning\n",
      "----------------------------------------------------\n",
      "9 * 1 == 9\n",
      "9 * 2 == 18\n",
      "9 * 3 == 27\n",
      "9 * 4 == 36\n",
      "9 * 5 == 45\n",
      "9 * 6 == 54\n",
      "9 * 7 == 63\n",
      "9 * 8 == 72\n",
      "9 * 9 == 81\n",
      "9 * 10 == 90\n",
      "-------------------------------------------------------\n",
      "Welcome to Data Science Class\n",
      "-------------------------------------------------------\n",
      "9 * 1 == 9\n",
      "9 * 2 == 18\n",
      "9 * 3 == 27\n",
      "9 * 4 == 36\n",
      "9 * 5 == 45\n",
      "9 * 6 == 54\n",
      "9 * 7 == 63\n",
      "9 * 8 == 72\n",
      "9 * 9 == 81\n",
      "9 * 10 == 90\n"
     ]
    }
   ],
   "source": [
    "print(\"Hello All..Good Morning\")\n",
    "print(\"----------------------------------------------------\")\n",
    "for i in range(1,11):\n",
    "    print(9,\"*\",i,\"==\",(9*i))\n",
    "print(\"-------------------------------------------------------\")\n",
    "print(\"Welcome to Data Science Class\")\n",
    "print(\"-------------------------------------------------------\")\n",
    "for i in range(1,11):\n",
    "    print(9,\"*\",i,\"==\",(9*i))"
   ]
  },
  {
   "cell_type": "code",
   "execution_count": 2,
   "id": "9f733f93",
   "metadata": {},
   "outputs": [
    {
     "name": "stdout",
     "output_type": "stream",
     "text": [
      "_________________________________________\n",
      "9 * 1 == 9\n",
      "9 * 2 == 18\n",
      "9 * 3 == 27\n",
      "9 * 4 == 36\n",
      "9 * 5 == 45\n",
      "9 * 6 == 54\n",
      "9 * 7 == 63\n",
      "9 * 8 == 72\n",
      "9 * 9 == 81\n",
      "9 * 10 == 90\n",
      "__________________________________________\n"
     ]
    }
   ],
   "source": [
    "def table():\n",
    "    print(\"_________________________________________\")\n",
    "    for i in range(1,11):\n",
    "        print(9,\"*\",i,\"==\",(9*i))\n",
    "    print(\"__________________________________________\")\n",
    "    \n",
    "table() # Calling Function  #Starting Point of Execution"
   ]
  },
  {
   "cell_type": "code",
   "execution_count": 4,
   "id": "7cdeb74c",
   "metadata": {},
   "outputs": [
    {
     "name": "stdout",
     "output_type": "stream",
     "text": [
      "Hello All..Good Morning\n",
      "_________________________________________\n",
      "9 * 1 == 9\n",
      "9 * 2 == 18\n",
      "9 * 3 == 27\n",
      "9 * 4 == 36\n",
      "9 * 5 == 45\n",
      "9 * 6 == 54\n",
      "9 * 7 == 63\n",
      "9 * 8 == 72\n",
      "9 * 9 == 81\n",
      "9 * 10 == 90\n",
      "__________________________________________\n",
      "Welcome to Data Science Class\n",
      "_________________________________________\n",
      "9 * 1 == 9\n",
      "9 * 2 == 18\n",
      "9 * 3 == 27\n",
      "9 * 4 == 36\n",
      "9 * 5 == 45\n",
      "9 * 6 == 54\n",
      "9 * 7 == 63\n",
      "9 * 8 == 72\n",
      "9 * 9 == 81\n",
      "9 * 10 == 90\n",
      "__________________________________________\n",
      "We are dealing with Python Functions\n"
     ]
    }
   ],
   "source": [
    "print(\"Hello All..Good Morning\") #Starting Point of Execution\n",
    "table()\n",
    "print(\"Welcome to Data Science Class\")\n",
    "table()\n",
    "print(\"We are dealing with Python Functions\")\n"
   ]
  },
  {
   "cell_type": "code",
   "execution_count": 5,
   "id": "4310b578",
   "metadata": {},
   "outputs": [
    {
     "name": "stdout",
     "output_type": "stream",
     "text": [
      "_________________________________________\n",
      "9 * 1 == 9\n",
      "9 * 2 == 18\n",
      "9 * 3 == 27\n",
      "9 * 4 == 36\n",
      "9 * 5 == 45\n",
      "9 * 6 == 54\n",
      "9 * 7 == 63\n",
      "9 * 8 == 72\n",
      "9 * 9 == 81\n",
      "9 * 10 == 90\n",
      "__________________________________________\n",
      "_________________________________________\n",
      "5 * 1 == 5\n",
      "5 * 2 == 10\n",
      "5 * 3 == 15\n",
      "5 * 4 == 20\n",
      "5 * 5 == 25\n",
      "5 * 6 == 30\n",
      "5 * 7 == 35\n",
      "5 * 8 == 40\n",
      "5 * 9 == 45\n",
      "5 * 10 == 50\n",
      "__________________________________________\n"
     ]
    }
   ],
   "source": [
    "def table1():\n",
    "    print(\"_________________________________________\")\n",
    "    for i in range(1,11):\n",
    "        print(9,\"*\",i,\"==\",(9*i))\n",
    "    print(\"__________________________________________\")\n",
    "    table2()\n",
    "\n",
    "def table2():\n",
    "    print(\"_________________________________________\")\n",
    "    for i in range(1,11):\n",
    "        print(5,\"*\",i,\"==\",(5*i))\n",
    "    print(\"__________________________________________\")\n",
    "    \n",
    "\n",
    "table1()"
   ]
  },
  {
   "cell_type": "code",
   "execution_count": 6,
   "id": "16d01230",
   "metadata": {},
   "outputs": [
    {
     "name": "stdout",
     "output_type": "stream",
     "text": [
      "Enter a Number: 100\n",
      "Enter Second Number: 200\n",
      "300\n"
     ]
    }
   ],
   "source": [
    "def fun_add():\n",
    "    num1=int(input(\"Enter a Number: \"))\n",
    "    num2=int(input(\"Enter Second Number: \"))\n",
    "    a=num1+num2\n",
    "    print(a)\n",
    "    \n",
    "fun_add()"
   ]
  },
  {
   "cell_type": "code",
   "execution_count": 7,
   "id": "86d01bbb",
   "metadata": {},
   "outputs": [
    {
     "name": "stdout",
     "output_type": "stream",
     "text": [
      "Enter a Number: 100\n",
      "Enter Second Number: 200\n",
      "300\n",
      "----------------------------------------------------\n",
      "Enter a Number: 5\n",
      "Enter Second Number: 6\n",
      "30\n"
     ]
    }
   ],
   "source": [
    "def fun_add():\n",
    "    num1=int(input(\"Enter a Number: \"))\n",
    "    num2=int(input(\"Enter Second Number: \"))\n",
    "    a=num1+num2\n",
    "    print(a)\n",
    "    \n",
    "def fun_mul():\n",
    "    n1=int(input(\"Enter a Number: \"))\n",
    "    n2=int(input(\"Enter Second Number: \"))\n",
    "    b=n1*n2\n",
    "    print(b)\n",
    "    \n",
    "fun_add()\n",
    "print(\"----------------------------------------------------\")\n",
    "    \n",
    "fun_mul()"
   ]
  },
  {
   "cell_type": "code",
   "execution_count": 8,
   "id": "b4a19f6b",
   "metadata": {},
   "outputs": [
    {
     "name": "stdout",
     "output_type": "stream",
     "text": [
      "Enter a Number: 45\n",
      "Enter Second Number: 65\n",
      "110\n",
      "Enter a Number: 4\n",
      "Enter Second Number: 5\n",
      "20\n",
      "----------------------------------------------------\n"
     ]
    }
   ],
   "source": [
    "def fun_add():\n",
    "    num1=int(input(\"Enter a Number: \"))\n",
    "    num2=int(input(\"Enter Second Number: \"))\n",
    "    a=num1+num2\n",
    "    print(a)\n",
    "    fun_mul()\n",
    "    \n",
    "def fun_mul():\n",
    "    n1=int(input(\"Enter a Number: \"))\n",
    "    n2=int(input(\"Enter Second Number: \"))\n",
    "    b=n1*n2\n",
    "    print(b)\n",
    "    \n",
    "fun_add()\n",
    "print(\"----------------------------------------------------\")\n",
    "    "
   ]
  },
  {
   "cell_type": "code",
   "execution_count": null,
   "id": "80158edc",
   "metadata": {},
   "outputs": [],
   "source": []
  },
  {
   "cell_type": "code",
   "execution_count": 9,
   "id": "d9c827f1",
   "metadata": {},
   "outputs": [
    {
     "name": "stdout",
     "output_type": "stream",
     "text": [
      "Enter a Number: 12\n",
      "Enter Second Number: 24\n",
      "36\n",
      "----------------------------------------------------\n"
     ]
    },
    {
     "ename": "NameError",
     "evalue": "name 'num1' is not defined",
     "output_type": "error",
     "traceback": [
      "\u001b[1;31m---------------------------------------------------------------------------\u001b[0m",
      "\u001b[1;31mNameError\u001b[0m                                 Traceback (most recent call last)",
      "\u001b[1;32m~\\AppData\\Local\\Temp\\ipykernel_10532\\1901713774.py\u001b[0m in \u001b[0;36m<module>\u001b[1;34m\u001b[0m\n\u001b[0;32m     15\u001b[0m \u001b[0mprint\u001b[0m\u001b[1;33m(\u001b[0m\u001b[1;34m\"----------------------------------------------------\"\u001b[0m\u001b[1;33m)\u001b[0m\u001b[1;33m\u001b[0m\u001b[1;33m\u001b[0m\u001b[0m\n\u001b[0;32m     16\u001b[0m \u001b[0mtime\u001b[0m\u001b[1;33m.\u001b[0m\u001b[0msleep\u001b[0m\u001b[1;33m(\u001b[0m\u001b[1;36m0.2\u001b[0m\u001b[1;33m)\u001b[0m\u001b[1;33m\u001b[0m\u001b[1;33m\u001b[0m\u001b[0m\n\u001b[1;32m---> 17\u001b[1;33m \u001b[0mfun_mul\u001b[0m\u001b[1;33m(\u001b[0m\u001b[1;33m)\u001b[0m\u001b[1;33m\u001b[0m\u001b[1;33m\u001b[0m\u001b[0m\n\u001b[0m",
      "\u001b[1;32m~\\AppData\\Local\\Temp\\ipykernel_10532\\1901713774.py\u001b[0m in \u001b[0;36mfun_mul\u001b[1;34m()\u001b[0m\n\u001b[0;32m      9\u001b[0m \u001b[1;32mdef\u001b[0m \u001b[0mfun_mul\u001b[0m\u001b[1;33m(\u001b[0m\u001b[1;33m)\u001b[0m\u001b[1;33m:\u001b[0m\u001b[1;33m\u001b[0m\u001b[1;33m\u001b[0m\u001b[0m\n\u001b[0;32m     10\u001b[0m \u001b[1;33m\u001b[0m\u001b[0m\n\u001b[1;32m---> 11\u001b[1;33m     \u001b[0mb\u001b[0m\u001b[1;33m=\u001b[0m\u001b[0mnum1\u001b[0m\u001b[1;33m*\u001b[0m\u001b[0mnum2\u001b[0m\u001b[1;33m\u001b[0m\u001b[1;33m\u001b[0m\u001b[0m\n\u001b[0m\u001b[0;32m     12\u001b[0m     \u001b[0mprint\u001b[0m\u001b[1;33m(\u001b[0m\u001b[0mb\u001b[0m\u001b[1;33m)\u001b[0m\u001b[1;33m\u001b[0m\u001b[1;33m\u001b[0m\u001b[0m\n\u001b[0;32m     13\u001b[0m \u001b[1;33m\u001b[0m\u001b[0m\n",
      "\u001b[1;31mNameError\u001b[0m: name 'num1' is not defined"
     ]
    }
   ],
   "source": [
    "import time\n",
    "\n",
    "def fun_add():\n",
    "    num1=int(input(\"Enter a Number: \"))\n",
    "    num2=int(input(\"Enter Second Number: \"))\n",
    "    a=num1+num2\n",
    "    print(a)\n",
    "    \n",
    "def fun_mul():\n",
    "\n",
    "    b=num1*num2\n",
    "    print(b)\n",
    "    \n",
    "fun_add()\n",
    "print(\"----------------------------------------------------\")\n",
    "time.sleep(0.2)  \n",
    "fun_mul()"
   ]
  },
  {
   "cell_type": "markdown",
   "id": "33a42b19",
   "metadata": {},
   "source": [
    "### Global Variable"
   ]
  },
  {
   "cell_type": "code",
   "execution_count": 10,
   "id": "a06a8cad",
   "metadata": {},
   "outputs": [
    {
     "name": "stdout",
     "output_type": "stream",
     "text": [
      "Enter a Number: 12\n",
      "Enter Second Number: 24\n",
      "36\n",
      "----------------------------------------------------\n",
      "288\n"
     ]
    }
   ],
   "source": [
    "\n",
    "\n",
    "def fun_add():\n",
    "    global num1,num2\n",
    "    \n",
    "    num1=int(input(\"Enter a Number: \"))\n",
    "    num2=int(input(\"Enter Second Number: \"))\n",
    "    a=num1+num2\n",
    "    print(a)\n",
    "    \n",
    "def fun_mul():\n",
    "\n",
    "    b=num1*num2\n",
    "    print(b)\n",
    "    \n",
    "fun_add()\n",
    "print(\"----------------------------------------------------\")\n",
    "time.sleep(0.2)  \n",
    "fun_mul()"
   ]
  },
  {
   "cell_type": "code",
   "execution_count": 11,
   "id": "38c98897",
   "metadata": {},
   "outputs": [
    {
     "name": "stdout",
     "output_type": "stream",
     "text": [
      "Enter a Number: 15\n",
      "Enter Second Number: 36\n",
      "51\n",
      "----------------------------------------------------\n",
      "540\n"
     ]
    }
   ],
   "source": [
    "num1=int(input(\"Enter a Number: \"))\n",
    "num2=int(input(\"Enter Second Number: \"))\n",
    "\n",
    "def fun_add():\n",
    "\n",
    "    a=num1+num2\n",
    "    print(a)\n",
    "    \n",
    "def fun_mul():\n",
    "\n",
    "    b=num1*num2\n",
    "    print(b)\n",
    "    \n",
    "fun_add()\n",
    "print(\"----------------------------------------------------\")\n",
    "time.sleep(0.2)  \n",
    "fun_mul()"
   ]
  },
  {
   "cell_type": "markdown",
   "id": "7b1b5322",
   "metadata": {},
   "source": [
    "### Pass the Value Inside the Function"
   ]
  },
  {
   "cell_type": "code",
   "execution_count": 13,
   "id": "275d533d",
   "metadata": {},
   "outputs": [
    {
     "name": "stdout",
     "output_type": "stream",
     "text": [
      "300\n",
      "----------------------------------------------------\n",
      "500\n"
     ]
    }
   ],
   "source": [
    "def fun_add(num1,num2):\n",
    "\n",
    "    a=num1+num2\n",
    "    print(a)\n",
    "    \n",
    "def fun_mul(n1,n2):\n",
    "\n",
    "    b=n1*n2\n",
    "    print(b)\n",
    "    \n",
    "fun_add(100,200)\n",
    "print(\"----------------------------------------------------\")\n",
    "time.sleep(0.5)  \n",
    "fun_mul(10,50)"
   ]
  },
  {
   "cell_type": "code",
   "execution_count": 14,
   "id": "6bf17e55",
   "metadata": {},
   "outputs": [
    {
     "name": "stdout",
     "output_type": "stream",
     "text": [
      "180\n"
     ]
    }
   ],
   "source": [
    "def fun_add3(a,b,c):\n",
    "    add=a+b+c\n",
    "    print(add)\n",
    "    \n",
    "fun_add3(50,60,70)"
   ]
  },
  {
   "cell_type": "markdown",
   "id": "649b02bd",
   "metadata": {},
   "source": [
    "### Positional Argument"
   ]
  },
  {
   "cell_type": "code",
   "execution_count": 15,
   "id": "8151fd87",
   "metadata": {},
   "outputs": [
    {
     "name": "stdout",
     "output_type": "stream",
     "text": [
      "50\n",
      "60\n",
      "70\n",
      "180\n"
     ]
    }
   ],
   "source": [
    "def fun_add3(a,b,c): #Arguments-- '(a,b,c)'\n",
    "    print(a)\n",
    "    print(b)\n",
    "    print(c)\n",
    "    add=a+b+c\n",
    "    print(add)\n",
    "    \n",
    "fun_add3(50,60,70) #Variables-- '(50,60,70)'"
   ]
  },
  {
   "cell_type": "markdown",
   "id": "8056180e",
   "metadata": {},
   "source": [
    "### Keyword Argument"
   ]
  },
  {
   "cell_type": "code",
   "execution_count": 16,
   "id": "84e7342c",
   "metadata": {},
   "outputs": [
    {
     "name": "stdout",
     "output_type": "stream",
     "text": [
      "300\n",
      "200\n",
      "100\n",
      "600\n"
     ]
    }
   ],
   "source": [
    "# c-->100\n",
    "# b-->200\n",
    "# a-->300\n",
    "\n",
    "def fun_add3(a,b,c): #Arguments-- '(a,b,c)'\n",
    "    print(a)\n",
    "    print(b)\n",
    "    print(c)\n",
    "    add=a+b+c\n",
    "    print(add)\n",
    "    \n",
    "fun_add3(c=100,b=200,a=300)"
   ]
  },
  {
   "cell_type": "code",
   "execution_count": 17,
   "id": "dcbdc6c0",
   "metadata": {},
   "outputs": [
    {
     "ename": "SyntaxError",
     "evalue": "positional argument follows keyword argument (4117880539.py, line 8)",
     "output_type": "error",
     "traceback": [
      "\u001b[1;36m  File \u001b[1;32m\"C:\\Users\\mitra\\AppData\\Local\\Temp\\ipykernel_10532\\4117880539.py\"\u001b[1;36m, line \u001b[1;32m8\u001b[0m\n\u001b[1;33m    fun_add3(c=100,b=200,300)\u001b[0m\n\u001b[1;37m                            ^\u001b[0m\n\u001b[1;31mSyntaxError\u001b[0m\u001b[1;31m:\u001b[0m positional argument follows keyword argument\n"
     ]
    }
   ],
   "source": [
    "def fun_add3(a,b,c): #Arguments-- '(a,b,c)'\n",
    "    print(a)\n",
    "    print(b)\n",
    "    print(c)\n",
    "    add=a+b+c\n",
    "    print(add)\n",
    "    \n",
    "fun_add3(c=100,b=200,300)"
   ]
  },
  {
   "cell_type": "code",
   "execution_count": 20,
   "id": "5622ac2e",
   "metadata": {},
   "outputs": [
    {
     "name": "stdout",
     "output_type": "stream",
     "text": [
      "100\n",
      "200\n",
      "300\n",
      "600\n"
     ]
    }
   ],
   "source": [
    "def fun_add3(a,b,c): #Arguments-- '(a,b,c)'\n",
    "    print(a)\n",
    "    print(b)\n",
    "    print(c)\n",
    "    add=a+b+c\n",
    "    print(add)\n",
    "    \n",
    "fun_add3(100,b=200,c=300)"
   ]
  },
  {
   "cell_type": "markdown",
   "id": "10fa9417",
   "metadata": {},
   "source": [
    "### Default Argument"
   ]
  },
  {
   "cell_type": "code",
   "execution_count": 21,
   "id": "00db7afc",
   "metadata": {},
   "outputs": [
    {
     "ename": "TypeError",
     "evalue": "fun_add3() takes 3 positional arguments but 4 were given",
     "output_type": "error",
     "traceback": [
      "\u001b[1;31m---------------------------------------------------------------------------\u001b[0m",
      "\u001b[1;31mTypeError\u001b[0m                                 Traceback (most recent call last)",
      "\u001b[1;32m~\\AppData\\Local\\Temp\\ipykernel_10532\\3967290715.py\u001b[0m in \u001b[0;36m<module>\u001b[1;34m\u001b[0m\n\u001b[0;32m      6\u001b[0m     \u001b[0mprint\u001b[0m\u001b[1;33m(\u001b[0m\u001b[0madd\u001b[0m\u001b[1;33m)\u001b[0m\u001b[1;33m\u001b[0m\u001b[1;33m\u001b[0m\u001b[0m\n\u001b[0;32m      7\u001b[0m \u001b[1;33m\u001b[0m\u001b[0m\n\u001b[1;32m----> 8\u001b[1;33m \u001b[0mfun_add3\u001b[0m\u001b[1;33m(\u001b[0m\u001b[1;36m50\u001b[0m\u001b[1;33m,\u001b[0m\u001b[1;36m60\u001b[0m\u001b[1;33m,\u001b[0m\u001b[1;36m70\u001b[0m\u001b[1;33m,\u001b[0m\u001b[1;36m80\u001b[0m\u001b[1;33m)\u001b[0m\u001b[1;33m\u001b[0m\u001b[1;33m\u001b[0m\u001b[0m\n\u001b[0m",
      "\u001b[1;31mTypeError\u001b[0m: fun_add3() takes 3 positional arguments but 4 were given"
     ]
    }
   ],
   "source": [
    "def fun_add3(a,b,c): #Arguments-- '(a,b,c)'\n",
    "    print(a)\n",
    "    print(b)\n",
    "    print(c)\n",
    "    add=a+b+c\n",
    "    print(add)\n",
    "    \n",
    "fun_add3(50,60,70,80)"
   ]
  },
  {
   "cell_type": "code",
   "execution_count": 22,
   "id": "0836f9cf",
   "metadata": {},
   "outputs": [
    {
     "ename": "TypeError",
     "evalue": "fun_add3() missing 1 required positional argument: 'd'",
     "output_type": "error",
     "traceback": [
      "\u001b[1;31m---------------------------------------------------------------------------\u001b[0m",
      "\u001b[1;31mTypeError\u001b[0m                                 Traceback (most recent call last)",
      "\u001b[1;32m~\\AppData\\Local\\Temp\\ipykernel_10532\\1212748875.py\u001b[0m in \u001b[0;36m<module>\u001b[1;34m\u001b[0m\n\u001b[0;32m      6\u001b[0m     \u001b[0mprint\u001b[0m\u001b[1;33m(\u001b[0m\u001b[0madd\u001b[0m\u001b[1;33m)\u001b[0m\u001b[1;33m\u001b[0m\u001b[1;33m\u001b[0m\u001b[0m\n\u001b[0;32m      7\u001b[0m \u001b[1;33m\u001b[0m\u001b[0m\n\u001b[1;32m----> 8\u001b[1;33m \u001b[0mfun_add3\u001b[0m\u001b[1;33m(\u001b[0m\u001b[1;36m50\u001b[0m\u001b[1;33m,\u001b[0m\u001b[1;36m60\u001b[0m\u001b[1;33m,\u001b[0m\u001b[1;36m70\u001b[0m\u001b[1;33m)\u001b[0m\u001b[1;33m\u001b[0m\u001b[1;33m\u001b[0m\u001b[0m\n\u001b[0m",
      "\u001b[1;31mTypeError\u001b[0m: fun_add3() missing 1 required positional argument: 'd'"
     ]
    }
   ],
   "source": [
    "def fun_add3(a,b,c,d): #Arguments-- '(a,b,c)'\n",
    "    print(a)\n",
    "    print(b)\n",
    "    print(c)\n",
    "    add=a+b+c\n",
    "    print(add)\n",
    "    \n",
    "fun_add3(50,60,70)"
   ]
  },
  {
   "cell_type": "code",
   "execution_count": 23,
   "id": "5a851903",
   "metadata": {},
   "outputs": [
    {
     "name": "stdout",
     "output_type": "stream",
     "text": [
      "50\n",
      "60\n",
      "70\n",
      "180\n"
     ]
    }
   ],
   "source": [
    "def fun_add3(a,b,c,d=0): #Arguments-- '(a,b,c)'\n",
    "    print(a)\n",
    "    print(b)\n",
    "    print(c)\n",
    "    add=a+b+c\n",
    "    print(add)\n",
    "    \n",
    "fun_add3(50,60,70)"
   ]
  },
  {
   "cell_type": "code",
   "execution_count": null,
   "id": "2e765ccc",
   "metadata": {},
   "outputs": [],
   "source": []
  }
 ],
 "metadata": {
  "kernelspec": {
   "display_name": "Python 3 (ipykernel)",
   "language": "python",
   "name": "python3"
  },
  "language_info": {
   "codemirror_mode": {
    "name": "ipython",
    "version": 3
   },
   "file_extension": ".py",
   "mimetype": "text/x-python",
   "name": "python",
   "nbconvert_exporter": "python",
   "pygments_lexer": "ipython3",
   "version": "3.9.13"
  }
 },
 "nbformat": 4,
 "nbformat_minor": 5
}
