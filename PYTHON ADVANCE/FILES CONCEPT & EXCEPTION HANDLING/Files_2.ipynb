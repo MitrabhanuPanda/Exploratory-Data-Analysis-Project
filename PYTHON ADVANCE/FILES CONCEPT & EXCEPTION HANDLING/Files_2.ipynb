{
 "cells": [
  {
   "cell_type": "markdown",
   "id": "84e4f31d",
   "metadata": {},
   "source": [
    "### Reading CSV"
   ]
  },
  {
   "cell_type": "code",
   "execution_count": 3,
   "id": "b009b09e",
   "metadata": {},
   "outputs": [
    {
     "name": "stdout",
     "output_type": "stream",
     "text": [
      "<_csv.reader object at 0x0000023AF8F10DC0>\n",
      "['STD_NAME', 'PERFORMANACE']\n",
      "['AAA', 'GOOD']\n",
      "['BBB', 'BAD']\n",
      "['CCC', 'GOOD']\n",
      "['DDD', 'BAD']\n",
      "['EEE', 'EXCELLENT']\n"
     ]
    }
   ],
   "source": [
    "import csv\n",
    "with open(\"std.csv\",\"r\") as f:\n",
    "    obj_r=csv.reader(f)\n",
    "    print(obj_r)\n",
    "    for x in obj_r:\n",
    "        print(x)"
   ]
  },
  {
   "cell_type": "markdown",
   "id": "3711d02e",
   "metadata": {},
   "source": [
    "### Reading CSV from remote location"
   ]
  },
  {
   "cell_type": "code",
   "execution_count": 7,
   "id": "45852b4e",
   "metadata": {},
   "outputs": [
    {
     "name": "stdout",
     "output_type": "stream",
     "text": [
      "<_csv.reader object at 0x0000023AF8F559A0>\n",
      "['STD_NAME', 'PERFORMANACE']\n",
      "['AAA', 'GOOD']\n",
      "['BBB', 'BAD']\n",
      "['CCC', 'GOOD']\n",
      "['DDD', 'BAD']\n",
      "['EEE', 'EXCELLENT']\n"
     ]
    }
   ],
   "source": [
    "import csv\n",
    "with open(\"C:\\\\Users\\\\mitra\\\\Desktop\\\\std.csv\",\"r\") as f1:\n",
    "    \n",
    "    obj_r=csv.reader(f1)\n",
    "    print(obj_r)\n",
    "    for y in obj_r:\n",
    "        print(y)\n",
    "    "
   ]
  },
  {
   "cell_type": "code",
   "execution_count": 8,
   "id": "8387b15e",
   "metadata": {},
   "outputs": [
    {
     "name": "stdout",
     "output_type": "stream",
     "text": [
      "<_csv.reader object at 0x0000023AF8E3FE80>\n",
      "['STD_NAME', 'PERFORMANACE']\n",
      "['AAA', 'GOOD']\n",
      "['BBB', 'BAD']\n",
      "['CCC', 'GOOD']\n",
      "['DDD', 'BAD']\n",
      "['EEE', 'EXCELLENT']\n"
     ]
    }
   ],
   "source": [
    "import csv\n",
    "with open(\"C:/Users/mitra/Desktop/std.csv\",\"r\") as f1:\n",
    "    \n",
    "    obj_r=csv.reader(f1)\n",
    "    print(obj_r)\n",
    "    for y in obj_r:\n",
    "        print(y)\n",
    "    "
   ]
  },
  {
   "cell_type": "markdown",
   "id": "fe155bc6",
   "metadata": {},
   "source": [
    "### Write in CSV"
   ]
  },
  {
   "cell_type": "code",
   "execution_count": 21,
   "id": "cfde7615",
   "metadata": {},
   "outputs": [],
   "source": [
    "import csv\n",
    "with open(\"emp.csv\",\"w\",newline=\"\")as f:\n",
    "    obj_w=csv.writer(f)\n",
    "    obj_w.writerow([\"EmpId\",\"EmpName\",\"EmpDes\",\"EmpSal\"])\n",
    "    obj_w.writerow([1,\"AA\",\"PM\",2000])\n",
    "    obj_w.writerow([2,\"BB\",\"TESTER\",4000])\n",
    "    obj_w.writerow([3,\"CC\",\"TM\",5000])\n",
    "    obj_w.writerow([4,\"DD\",\"DEVEOP\",6000])\n",
    "    \n",
    "    "
   ]
  },
  {
   "cell_type": "code",
   "execution_count": 22,
   "id": "3bc74c55",
   "metadata": {},
   "outputs": [],
   "source": [
    "with open(\"emp.csv\",\"a\",newline=\"\")as f:\n",
    "    obj_w=csv.writer(f)\n",
    "    obj_w.writerow([5,\"DD\",\"DEVOP\",7000])\n",
    "    obj_w.writerow([6,\"EE\",\"HR\",82000])"
   ]
  },
  {
   "cell_type": "code",
   "execution_count": 25,
   "id": "89b1cbc8",
   "metadata": {},
   "outputs": [
    {
     "name": "stdout",
     "output_type": "stream",
     "text": [
      "Enter File Name: emp.csv\n"
     ]
    }
   ],
   "source": [
    "fname=input(\"Enter File Name: \")\n",
    "\n",
    "with open(fname,\"a\",newline=\"\")as f1:\n",
    "    obj_w=csv.writer(f1)\n",
    "    obj_w.writerow([7,\"FF\",\"DEVOP\",5000])\n",
    "    obj_w.writerow([8,\"GG\",\"HR\",8000])"
   ]
  },
  {
   "cell_type": "markdown",
   "id": "d3da3803",
   "metadata": {},
   "source": [
    "### How to konw the file is exist or not"
   ]
  },
  {
   "cell_type": "code",
   "execution_count": 26,
   "id": "1c21a68f",
   "metadata": {},
   "outputs": [],
   "source": [
    "import os"
   ]
  },
  {
   "cell_type": "code",
   "execution_count": 27,
   "id": "95a67e9e",
   "metadata": {},
   "outputs": [
    {
     "data": {
      "text/plain": [
       "True"
      ]
     },
     "execution_count": 27,
     "metadata": {},
     "output_type": "execute_result"
    }
   ],
   "source": [
    "os.path.isfile(\"emp.csv\")"
   ]
  },
  {
   "cell_type": "code",
   "execution_count": 28,
   "id": "1f0090c4",
   "metadata": {},
   "outputs": [
    {
     "data": {
      "text/plain": [
       "False"
      ]
     },
     "execution_count": 28,
     "metadata": {},
     "output_type": "execute_result"
    }
   ],
   "source": [
    "os.path.isfile(\"abc.csv\")"
   ]
  },
  {
   "cell_type": "markdown",
   "id": "aad8f528",
   "metadata": {},
   "source": [
    "### Append data into file based on existence"
   ]
  },
  {
   "cell_type": "code",
   "execution_count": 32,
   "id": "ca301a4e",
   "metadata": {},
   "outputs": [
    {
     "name": "stdout",
     "output_type": "stream",
     "text": [
      "Enter File Name: emp.csv\n"
     ]
    }
   ],
   "source": [
    "fname=input(\"Enter File Name: \")\n",
    "r=os.path.isfile(fname)\n",
    "\n",
    "if r==False:\n",
    "    \n",
    "    with open(fname,\"a\",newline=\"\")as f1:\n",
    "        obj_w=csv.writer(f1)\n",
    "        obj_w.writerow([\"prdId\",\"prdName\",\"prdPrice\"])\n",
    "        obj_w.writerow([11,\"Mobile\",15000])\n",
    "        obj_w.writerow([22,\"Tv\",8000])\n",
    "        obj_w.writerow([33,\"laptop\",80000])\n",
    "    \n",
    "else:\n",
    "    \n",
    "    with open(fname,\"a\",newline=\"\")as f1:\n",
    "        obj_w=csv.writer(f1)\n",
    "        obj_w.writerow([9,\"HH\",\"DEVOP\",9000])\n",
    "        obj_w.writerow([10,\"II\",\"HR\",10000])\n",
    "    \n",
    "\n"
   ]
  },
  {
   "cell_type": "code",
   "execution_count": 34,
   "id": "6e726466",
   "metadata": {},
   "outputs": [
    {
     "name": "stdout",
     "output_type": "stream",
     "text": [
      "Enter File Name: prod.csv\n",
      "Product ID: 44\n",
      "Product Name: Washing Machine\n",
      "Product Price: 50000\n"
     ]
    }
   ],
   "source": [
    "fname=input(\"Enter File Name: \")\n",
    "r=os.path.isfile(fname)\n",
    "\n",
    "if r==True:\n",
    "    with open(fname,\"a\",newline=\"\")as f1:\n",
    "        obj_w=csv.writer(f1)\n",
    "        \n",
    "        prdId=input(\"Product ID: \")\n",
    "        prdName=input(\"Product Name: \")\n",
    "        prdPrice=int(input(\"Product Price: \"))\n",
    "        \n",
    "        obj_w.writerow([prdId,prdName,prdPrice])\n",
    "        \n",
    "else:\n",
    "    with open(fname,\"a\",newline=\"\")as f1:\n",
    "        obj_w=csv.writer(f1)\n",
    "        \n",
    "        obj_w.writerow([\"prdId\",\"prdName\",\"prdPrice\"])\n",
    "        \n",
    "        prdId=input(\"Product ID: \")\n",
    "        prdName=input(\"Product Name: \")\n",
    "        prdPrice=int(input(\"Product Price: \"))\n",
    "        \n",
    "        obj_w.writerow([prdId,prdName,prdPrice])\n",
    "    "
   ]
  },
  {
   "cell_type": "code",
   "execution_count": 36,
   "id": "df8cbdf2",
   "metadata": {},
   "outputs": [
    {
     "name": "stdout",
     "output_type": "stream",
     "text": [
      "Enter File Name: prod.csv\n",
      "True\n",
      "Product ID: 66\n",
      "Product Name: Bike\n",
      "Product Price: 300000\n",
      "Would you like to continue(YES/NO): yes\n",
      "Product ID: 77\n",
      "Product Name: Umbrella\n",
      "Product Price: 6000\n",
      "Would you like to continue(YES/NO): no\n",
      "All data is stored in the file\n"
     ]
    }
   ],
   "source": [
    "fname=input(\"Enter File Name: \")\n",
    "r=os.path.isfile(fname)\n",
    "print(r)\n",
    "\n",
    "if r==True:\n",
    "    with open(fname,\"a\",newline=\"\")as f1:\n",
    "        obj_w=csv.writer(f1)\n",
    "        \n",
    "        while True:\n",
    "            \n",
    "            prdId=input(\"Product ID: \")\n",
    "            prdName=input(\"Product Name: \")\n",
    "            prdPrice=int(input(\"Product Price: \"))\n",
    "        \n",
    "            obj_w.writerow([prdId,prdName,prdPrice])\n",
    "            \n",
    "            ch=input(\"Would you like to continue(YES/NO): \")\n",
    "            if ch.lower() != \"yes\":\n",
    "                print(\"All data is stored in the file\")\n",
    "                break\n",
    "        \n",
    "else:\n",
    "    with open(fname,\"a\",newline=\"\")as f1:\n",
    "        obj_w=csv.writer(f1)\n",
    "        \n",
    "        while True:\n",
    "            \n",
    "            obj_w.writerow([\"prdId\",\"prdName\",\"prdPrice\"])\n",
    "        \n",
    "            prdId=input(\"Product ID: \")\n",
    "            prdName=input(\"Product Name: \")\n",
    "            prdPrice=int(input(\"Product Price: \"))\n",
    "        \n",
    "            obj_w.writerow([prdId,prdName,prdPrice])\n",
    "            \n",
    "            ch=input(\"Would you like to continue(YES/NO): \")\n",
    "            if ch.lower() != \"yes\":\n",
    "                print(\"All data is stored in the file\")\n",
    "                break\n",
    "                "
   ]
  },
  {
   "cell_type": "markdown",
   "id": "6174733e",
   "metadata": {},
   "source": [
    "### Appending and Reading"
   ]
  },
  {
   "cell_type": "code",
   "execution_count": 38,
   "id": "b46eab9f",
   "metadata": {},
   "outputs": [
    {
     "name": "stdout",
     "output_type": "stream",
     "text": [
      "Data extract from prod.csv\n",
      "['prdId', 'prdName', 'prdPrice']\n",
      "['11', 'Mobile', '15000']\n",
      "['22', 'Tv', '8000']\n",
      "['33', 'laptop', '80000']\n",
      "['44', 'Washing Machine', '50000']\n",
      "['55', 'Car', '9000000']\n",
      "['66', 'Bike', '300000']\n",
      "['77', 'Umbrella', '6000']\n"
     ]
    }
   ],
   "source": [
    "with open(\"prod.csv\",\"a+\")as f:\n",
    "    f.seek(0)\n",
    "    obj_r=csv.reader(f)\n",
    "    print(\"Data extract from prod.csv\")\n",
    "    for i in obj_r:\n",
    "        print(i)"
   ]
  },
  {
   "cell_type": "code",
   "execution_count": 39,
   "id": "3a826619",
   "metadata": {},
   "outputs": [
    {
     "name": "stdout",
     "output_type": "stream",
     "text": [
      "Data extract from prod.csv\n",
      "['prdId', 'prdName', 'prdPrice']\n",
      "['11', 'Mobile', '15000']\n",
      "['22', 'Tv', '8000']\n",
      "['33', 'laptop', '80000']\n",
      "['44', 'Washing Machine', '50000']\n",
      "['55', 'Car', '9000000']\n",
      "['66', 'Bike', '300000']\n",
      "['77', 'Umbrella', '6000']\n",
      "___________________________________\n",
      "Data extract from prod.csv\n",
      "['prdId', 'prdName', 'prdPrice']\n",
      "['11', 'Mobile', '15000']\n",
      "['22', 'Tv', '8000']\n",
      "['33', 'laptop', '80000']\n",
      "['44', 'Washing Machine', '50000']\n",
      "['55', 'Car', '9000000']\n",
      "['66', 'Bike', '300000']\n",
      "['77', 'Umbrella', '6000']\n",
      "['88', 'Apple', '70']\n",
      "[]\n"
     ]
    }
   ],
   "source": [
    "with open(\"prod.csv\",\"a+\")as f:\n",
    "    f.seek(0)\n",
    "    obj_r=csv.reader(f)\n",
    "    print(\"Data extract from prod.csv\")\n",
    "    for i in obj_r:\n",
    "        print(i)\n",
    "        \n",
    "    obj_w=csv.writer(f)\n",
    "    obj_w.writerow([88,\"Apple\",70])\n",
    "    \n",
    "    f.seek(0)\n",
    "    obj_r=csv.reader(f)\n",
    "    print(\"___________________________________\")\n",
    "    print(\"Data extract from prod.csv\")\n",
    "    for i in obj_r:\n",
    "        print(i)"
   ]
  },
  {
   "cell_type": "code",
   "execution_count": 46,
   "id": "4f30d3e5",
   "metadata": {},
   "outputs": [
    {
     "name": "stdout",
     "output_type": "stream",
     "text": [
      "Enter File Name: prod.csv\n",
      "True\n",
      "Data extract from prod.csv\n",
      "['prdId', 'prdName', 'prdPrice']\n",
      "['11', 'Mobile', '15000']\n",
      "['22', 'Tv', '8000']\n",
      "['33', 'laptop', '80000']\n",
      "['44', 'Washing Machine', '50000']\n",
      "['55', 'Car', '9000000']\n",
      "['66', 'Bike', '300000']\n",
      "['77', 'Umbrella', '6000']\n",
      "['88', 'Apple', '70']\n",
      "[]\n",
      "['99', 'Board', '2000']\n",
      "['111', 'Bike', '80000']\n",
      "['112', 'car', '500000']\n",
      "['113', 'auto', '600000']\n",
      "Product ID: 114\n",
      "Product Name: tv\n",
      "Product Price: 60000\n",
      "Would you like to continue(YES/NO): yes\n",
      "Product ID: 115\n",
      "Product Name: mobile\n",
      "Product Price: 70000\n",
      "Would you like to continue(YES/NO): no\n",
      "All data is stored in the file\n",
      "________________________________________\n",
      "Data extract from prod.csv\n",
      "['prdId', 'prdName', 'prdPrice']\n",
      "['11', 'Mobile', '15000']\n",
      "['22', 'Tv', '8000']\n",
      "['33', 'laptop', '80000']\n",
      "['44', 'Washing Machine', '50000']\n",
      "['55', 'Car', '9000000']\n",
      "['66', 'Bike', '300000']\n",
      "['77', 'Umbrella', '6000']\n",
      "['88', 'Apple', '70']\n",
      "[]\n",
      "['99', 'Board', '2000']\n",
      "['111', 'Bike', '80000']\n",
      "['112', 'car', '500000']\n",
      "['113', 'auto', '600000']\n",
      "['114', 'tv', '60000']\n",
      "['115', 'mobile', '70000']\n"
     ]
    }
   ],
   "source": [
    "fname=input(\"Enter File Name: \")\n",
    "r=os.path.isfile(fname)\n",
    "print(r)\n",
    "\n",
    "if r==True:\n",
    "    with open(fname,\"a+\",newline=\"\")as f1:\n",
    "        \n",
    "        f1.seek(0)\n",
    "        obj_r=csv.reader(f1)\n",
    "        print(\"Data extract from prod.csv\")\n",
    "        for i in obj_r:\n",
    "            print(i)\n",
    "        \n",
    "        while True:\n",
    "            \n",
    "            obj_w=csv.writer(f1)\n",
    "            prdId=input(\"Product ID: \")\n",
    "            prdName=input(\"Product Name: \")\n",
    "            prdPrice=int(input(\"Product Price: \"))\n",
    "        \n",
    "            obj_w.writerow([prdId,prdName,prdPrice])\n",
    "            \n",
    "            \n",
    "            ch=input(\"Would you like to continue(YES/NO): \")\n",
    "            if ch.lower() != \"yes\":\n",
    "                print(\"All data is stored in the file\")\n",
    "                print(\"________________________________________\")\n",
    "                f1.seek(0)\n",
    "                obj_r=csv.reader(f1)\n",
    "                print(\"Data extract from prod.csv\")\n",
    "                for x in obj_r:\n",
    "                    print(x)\n",
    "                break\n",
    "#             print(\"________________________________________\")\n",
    "#             f1.seek(0)\n",
    "#             obj_r=csv.reader(f1)\n",
    "#             print(\"Data extract from prod.csv\")\n",
    "#             for x in obj_r:\n",
    "#                 print(x)\n",
    "        \n",
    "else:\n",
    "    with open(fname,\"a+\",newline=\"\")as f1:\n",
    "        \n",
    "        f1.seek(0)\n",
    "        obj_r=csv.reader(f1)\n",
    "        print(\"Data extract from prod.csv\")\n",
    "        for i in obj_r:\n",
    "            print(i)\n",
    "        \n",
    "        while True:\n",
    "            \n",
    "            obj_w=csv.writer(f1)\n",
    "            obj_w.writerow([\"prdId\",\"prdName\",\"prdPrice\"])\n",
    "        \n",
    "            prdId=input(\"Product ID: \")\n",
    "            prdName=input(\"Product Name: \")\n",
    "            prdPrice=int(input(\"Product Price: \"))\n",
    "        \n",
    "            obj_w.writerow([prdId,prdName,prdPrice])\n",
    "           \n",
    "            \n",
    "            ch=input(\"Would you like to continue(YES/NO): \")\n",
    "            if ch.lower() != \"yes\":\n",
    "                print(\"All data is stored in the file\")\n",
    "                print(\"________________________________________\")\n",
    "                f1.seek(0)\n",
    "                obj_r=csv.reader(f1)\n",
    "                print(\"Data extract from prod.csv\")\n",
    "                for x in obj_r:\n",
    "                    print(x)\n",
    "                break\n",
    "                \n",
    "#             print(\"________________________________________\")\n",
    "#             f1.seek(0)\n",
    "#             obj_r=csv.reader(f1)\n",
    "#             print(\"Data extract from prod.csv\")\n",
    "#             for x in obj_r:\n",
    "#                 print(x)"
   ]
  },
  {
   "cell_type": "code",
   "execution_count": null,
   "id": "eb26f7a6",
   "metadata": {},
   "outputs": [],
   "source": []
  }
 ],
 "metadata": {
  "kernelspec": {
   "display_name": "Python 3 (ipykernel)",
   "language": "python",
   "name": "python3"
  },
  "language_info": {
   "codemirror_mode": {
    "name": "ipython",
    "version": 3
   },
   "file_extension": ".py",
   "mimetype": "text/x-python",
   "name": "python",
   "nbconvert_exporter": "python",
   "pygments_lexer": "ipython3",
   "version": "3.9.13"
  }
 },
 "nbformat": 4,
 "nbformat_minor": 5
}
