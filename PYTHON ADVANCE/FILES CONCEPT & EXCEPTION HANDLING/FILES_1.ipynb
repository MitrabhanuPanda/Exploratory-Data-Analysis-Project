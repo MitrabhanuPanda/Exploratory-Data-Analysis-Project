{
 "cells": [
  {
   "cell_type": "markdown",
   "id": "e1713cc1",
   "metadata": {},
   "source": [
    "### Read"
   ]
  },
  {
   "cell_type": "code",
   "execution_count": 4,
   "id": "298ad291",
   "metadata": {},
   "outputs": [
    {
     "name": "stdout",
     "output_type": "stream",
     "text": [
      "<_io.TextIOWrapper name='File1.txt' mode='r' encoding='cp1252'>\n"
     ]
    }
   ],
   "source": [
    "f=open(\"File1.txt\",\"r\")\n",
    "print(f)\n",
    "f.close()\n"
   ]
  },
  {
   "cell_type": "code",
   "execution_count": 5,
   "id": "3f9ef3e5",
   "metadata": {},
   "outputs": [
    {
     "name": "stdout",
     "output_type": "stream",
     "text": [
      "Hello Python Class\n",
      "Welcome To Python World\n",
      "Bye Bye\n",
      "Tata Tata\n"
     ]
    }
   ],
   "source": [
    "f=open(\"File1.txt\",\"r\")\n",
    "\n",
    "d=f.read()\n",
    "print(d)\n",
    "\n",
    "f.close()"
   ]
  },
  {
   "cell_type": "code",
   "execution_count": 6,
   "id": "9e2d22b8",
   "metadata": {},
   "outputs": [
    {
     "name": "stdout",
     "output_type": "stream",
     "text": [
      "Hello Python Class\n",
      "Welcome To Python World\n",
      "Bye Bye\n",
      "Tata Tata\n"
     ]
    }
   ],
   "source": [
    "f=open(\"File1.txt\")\n",
    "\n",
    "d1=f.read()\n",
    "print(d1)\n",
    "\n",
    "f.close()"
   ]
  },
  {
   "cell_type": "markdown",
   "id": "0e9547c4",
   "metadata": {},
   "source": [
    "### readline"
   ]
  },
  {
   "cell_type": "code",
   "execution_count": 10,
   "id": "a7dfd4e8",
   "metadata": {},
   "outputs": [
    {
     "name": "stdout",
     "output_type": "stream",
     "text": [
      "Hello Python Class\n",
      "\n",
      "Welcome To Python World\n",
      "\n",
      "Bye Bye\n",
      "\n"
     ]
    }
   ],
   "source": [
    "f=open(\"File1.txt\")\n",
    "\n",
    "d2=f.readline()\n",
    "print(d2)\n",
    "\n",
    "d2=f.readline()\n",
    "print(d2)\n",
    "\n",
    "d2=f.readline()\n",
    "print(d2)\n",
    "\n",
    "f.close()"
   ]
  },
  {
   "cell_type": "markdown",
   "id": "e84f68fd",
   "metadata": {},
   "source": [
    "### readlines"
   ]
  },
  {
   "cell_type": "code",
   "execution_count": 11,
   "id": "42170fba",
   "metadata": {},
   "outputs": [
    {
     "name": "stdout",
     "output_type": "stream",
     "text": [
      "['Hello Python Class\\n', 'Welcome To Python World\\n', 'Bye Bye\\n', 'Tata Tata']\n"
     ]
    }
   ],
   "source": [
    "f=open(\"File1.txt\")\n",
    "\n",
    "d3=f.readlines()\n",
    "print(d3)\n",
    "\n",
    "f.close()"
   ]
  },
  {
   "cell_type": "markdown",
   "id": "479ef94f",
   "metadata": {},
   "source": [
    "### Write"
   ]
  },
  {
   "cell_type": "markdown",
   "id": "369047ef",
   "metadata": {},
   "source": [
    "### Create a new file"
   ]
  },
  {
   "cell_type": "code",
   "execution_count": 13,
   "id": "1a7a3c2c",
   "metadata": {},
   "outputs": [],
   "source": [
    "f1=open(\"color.txt\",\"w\")\n",
    "f1.write(\"Blue Green Red Yellow Pink\")\n",
    "f1.close()"
   ]
  },
  {
   "cell_type": "code",
   "execution_count": 14,
   "id": "30f49892",
   "metadata": {},
   "outputs": [],
   "source": [
    "f1=open(\"color.txt\",\"w\")\n",
    "f1.write(\"White Black Yellow Purple Green\")\n",
    "f1.close()"
   ]
  },
  {
   "cell_type": "code",
   "execution_count": 16,
   "id": "e1fa5115",
   "metadata": {},
   "outputs": [],
   "source": [
    "f1=open(\"color.txt\",\"w\")\n",
    "f1.write(\"White\\n\")\n",
    "f1.write(\"Red\\n\")\n",
    "f1.write(\"Yellow\\n\")\n",
    "f1.write(\"Green\\n\")\n",
    "f1.close()"
   ]
  },
  {
   "cell_type": "code",
   "execution_count": null,
   "id": "f64ba733",
   "metadata": {},
   "outputs": [],
   "source": []
  },
  {
   "cell_type": "markdown",
   "id": "fdffe4bc",
   "metadata": {},
   "source": [
    "### Append"
   ]
  },
  {
   "cell_type": "code",
   "execution_count": 17,
   "id": "3a4595df",
   "metadata": {},
   "outputs": [],
   "source": [
    "f2=open(\"country.txt\",\"a\")\n",
    "\n",
    "f2.write(\"India\")\n",
    "f2.write(\"\\n\")\n",
    "f2.write(\"USA\")\n",
    "f2.write(\"\\n\")\n",
    "f2.write(\"France\")\n",
    "\n",
    "f2.close()"
   ]
  },
  {
   "cell_type": "markdown",
   "id": "0442dc51",
   "metadata": {},
   "source": [
    "### With Keyword"
   ]
  },
  {
   "cell_type": "code",
   "execution_count": 20,
   "id": "c3f74764",
   "metadata": {},
   "outputs": [
    {
     "name": "stdout",
     "output_type": "stream",
     "text": [
      "Is File Close:  False\n"
     ]
    }
   ],
   "source": [
    "with open(\"country.txt\",\"a\") as f2:\n",
    "    print(\"Is File Close: \",f2.closed)\n",
    "    f2.write(\"\\nJAPAN\")\n",
    "    f2.write(\"\\nCANADA\")"
   ]
  },
  {
   "cell_type": "code",
   "execution_count": 21,
   "id": "1863d31e",
   "metadata": {},
   "outputs": [
    {
     "name": "stdout",
     "output_type": "stream",
     "text": [
      "Is File Close:  False\n"
     ]
    }
   ],
   "source": [
    "with open(\"country.txt\",\"a\") as f2:\n",
    "    \n",
    "    f2.write(\"\\nJAPAN\")\n",
    "    f2.write(\"\\nCANADA\")\n",
    "    print(\"Is File Close: \",f2.closed)"
   ]
  },
  {
   "cell_type": "code",
   "execution_count": 22,
   "id": "ed98077d",
   "metadata": {},
   "outputs": [
    {
     "name": "stdout",
     "output_type": "stream",
     "text": [
      "Is File Close:  True\n"
     ]
    }
   ],
   "source": [
    "with open(\"country.txt\",\"a\") as f2:\n",
    "    \n",
    "    f2.write(\"\\nJAPAN\")\n",
    "    f2.write(\"\\nCANADA\")\n",
    "    \n",
    "print(\"Is File Close: \",f2.closed)"
   ]
  },
  {
   "cell_type": "markdown",
   "id": "1a065d16",
   "metadata": {},
   "source": [
    "### Dual Mode"
   ]
  },
  {
   "cell_type": "markdown",
   "id": "e285a6b8",
   "metadata": {},
   "source": [
    "###  Reading(Base Mode)+Writing"
   ]
  },
  {
   "cell_type": "code",
   "execution_count": 26,
   "id": "4df4cde8",
   "metadata": {},
   "outputs": [
    {
     "name": "stdout",
     "output_type": "stream",
     "text": [
      "White\n",
      "Red\n",
      "Yellow\n",
      "Green\n",
      "\n",
      "Blue\n",
      "Black\n",
      "______________\n",
      "___________________\n",
      "Second Time Reading\n",
      "White\n",
      "Red\n",
      "Yellow\n",
      "Green\n",
      "\n",
      "Blue\n",
      "Black\n",
      "Blue\n",
      "Black\n"
     ]
    }
   ],
   "source": [
    "with open(\"color.txt\",\"r+\") as f:\n",
    "    d=f.read()\n",
    "    print(d)\n",
    "    print(\"______________\")\n",
    "    f.write(\"\\nBlue\")\n",
    "    f.write(\"\\nBlack\")\n",
    "    print(\"___________________\")\n",
    "    print(\"Second Time Reading\")\n",
    "    f.seek(0)\n",
    "    d1=f.read()\n",
    "    print(d1)\n",
    "    \n",
    "    "
   ]
  },
  {
   "cell_type": "markdown",
   "id": "722fdeae",
   "metadata": {},
   "source": [
    "### Writing(Base Mode)+Reading"
   ]
  },
  {
   "cell_type": "code",
   "execution_count": 28,
   "id": "dd0ca61e",
   "metadata": {},
   "outputs": [
    {
     "name": "stdout",
     "output_type": "stream",
     "text": [
      "Orange\n",
      "Apple\n",
      "Banana\n",
      "Grapes\n",
      "_____________\n"
     ]
    }
   ],
   "source": [
    "with open(\"fruits.csv\",\"w+\") as f3:\n",
    "    f3.write(\"Orange\\nApple\\nBanana\\nGrapes\")\n",
    "    f3.seek(0)\n",
    "    d=f3.read()\n",
    "    print(d)\n",
    "    "
   ]
  },
  {
   "cell_type": "code",
   "execution_count": 30,
   "id": "c4206ae6",
   "metadata": {},
   "outputs": [
    {
     "name": "stdout",
     "output_type": "stream",
     "text": [
      "Orange\n",
      "Apple\n",
      "Banana\n",
      "Grapes\n",
      "_____________\n",
      "Orange\n",
      "Apple\n",
      "Banana\n",
      "Grapes\n",
      "Orange\n",
      "Blcak\n",
      "Red\n"
     ]
    }
   ],
   "source": [
    "with open(\"fruits.csv\",\"w+\") as f3:\n",
    "    f3.write(\"Orange\\nApple\\nBanana\\nGrapes\")\n",
    "    f3.seek(0)\n",
    "    d=f3.read()\n",
    "    print(d)\n",
    "    print(\"_____________\")\n",
    "    f3.write(\"\\nOrange\\nBlcak\\nRed\")\n",
    "    f3.seek(0)\n",
    "    d1=f3.read()\n",
    "    print(d1)"
   ]
  },
  {
   "cell_type": "markdown",
   "id": "f265465b",
   "metadata": {},
   "source": [
    "### Replace Particular Value within the same file"
   ]
  },
  {
   "cell_type": "code",
   "execution_count": 34,
   "id": "6abe654e",
   "metadata": {},
   "outputs": [
    {
     "name": "stdout",
     "output_type": "stream",
     "text": [
      "23\n",
      "\n",
      "India\n",
      "USA\n",
      "France\n",
      "JAPAN\n",
      "RUSSIA\n",
      "\n"
     ]
    }
   ],
   "source": [
    "with open(\"country.txt\",\"r+\") as f4:\n",
    "    d5=f4.read()\n",
    "    print(d5)\n",
    "    x=d5.index(\"CANADA\")\n",
    "    print(x)\n",
    "    f4.seek(x)\n",
    "    f4.write(\"RUSSIA\")\n",
    "    print()\n",
    "    f4.seek(0)\n",
    "    d6=f4.read()\n",
    "    print(d6)"
   ]
  },
  {
   "cell_type": "code",
   "execution_count": 55,
   "id": "f39ab34c",
   "metadata": {},
   "outputs": [],
   "source": [
    "with open(\"country1.txt\",\"w+\")as f1:\n",
    "    f1.write(\"INDIA\\nJAPAN\\nCANADA\\nDELHI\")\n",
    "    "
   ]
  },
  {
   "cell_type": "code",
   "execution_count": 58,
   "id": "116d96eb",
   "metadata": {},
   "outputs": [
    {
     "ename": "ValueError",
     "evalue": "substring not found",
     "output_type": "error",
     "traceback": [
      "\u001b[1;31m---------------------------------------------------------------------------\u001b[0m",
      "\u001b[1;31mValueError\u001b[0m                                Traceback (most recent call last)",
      "\u001b[1;32m~\\AppData\\Local\\Temp\\ipykernel_22176\\3128670088.py\u001b[0m in \u001b[0;36m<module>\u001b[1;34m\u001b[0m\n\u001b[0;32m      2\u001b[0m     \u001b[0mf1\u001b[0m\u001b[1;33m.\u001b[0m\u001b[0mseek\u001b[0m\u001b[1;33m(\u001b[0m\u001b[1;36m0\u001b[0m\u001b[1;33m)\u001b[0m\u001b[1;33m\u001b[0m\u001b[1;33m\u001b[0m\u001b[0m\n\u001b[0;32m      3\u001b[0m     \u001b[0md6\u001b[0m\u001b[1;33m=\u001b[0m\u001b[0mf1\u001b[0m\u001b[1;33m.\u001b[0m\u001b[0mread\u001b[0m\u001b[1;33m(\u001b[0m\u001b[1;33m)\u001b[0m\u001b[1;33m\u001b[0m\u001b[1;33m\u001b[0m\u001b[0m\n\u001b[1;32m----> 4\u001b[1;33m     \u001b[0mi\u001b[0m\u001b[1;33m=\u001b[0m\u001b[0md6\u001b[0m\u001b[1;33m.\u001b[0m\u001b[0mindex\u001b[0m\u001b[1;33m(\u001b[0m\u001b[1;34m\"CANADA\"\u001b[0m\u001b[1;33m)\u001b[0m\u001b[1;33m\u001b[0m\u001b[1;33m\u001b[0m\u001b[0m\n\u001b[0m\u001b[0;32m      5\u001b[0m     \u001b[0mf1\u001b[0m\u001b[1;33m.\u001b[0m\u001b[0mseek\u001b[0m\u001b[1;33m(\u001b[0m\u001b[0mi\u001b[0m\u001b[1;33m)\u001b[0m\u001b[1;33m\u001b[0m\u001b[1;33m\u001b[0m\u001b[0m\n\u001b[0;32m      6\u001b[0m     \u001b[0mf1\u001b[0m\u001b[1;33m.\u001b[0m\u001b[0mwrite\u001b[0m\u001b[1;33m(\u001b[0m\u001b[1;34m\"RUSSIA\"\u001b[0m\u001b[1;33m)\u001b[0m\u001b[1;33m\u001b[0m\u001b[1;33m\u001b[0m\u001b[0m\n",
      "\u001b[1;31mValueError\u001b[0m: substring not found"
     ]
    }
   ],
   "source": [
    "with open(\"country1.txt\",\"w+\") as f1:\n",
    "    f1.seek(0)\n",
    "    d6=f1.read()\n",
    "    i=d6.index(\"CANADA\")\n",
    "    f1.seek(i)\n",
    "    f1.write(\"RUSSIA\")\n",
    "    f1.seek(0)\n",
    "    d7=f1.read()\n",
    "    print(d7)"
   ]
  },
  {
   "cell_type": "code",
   "execution_count": 59,
   "id": "7a362cf1",
   "metadata": {},
   "outputs": [
    {
     "name": "stdout",
     "output_type": "stream",
     "text": [
      "\n"
     ]
    },
    {
     "ename": "ValueError",
     "evalue": "substring not found",
     "output_type": "error",
     "traceback": [
      "\u001b[1;31m---------------------------------------------------------------------------\u001b[0m",
      "\u001b[1;31mValueError\u001b[0m                                Traceback (most recent call last)",
      "\u001b[1;32m~\\AppData\\Local\\Temp\\ipykernel_22176\\1812713526.py\u001b[0m in \u001b[0;36m<module>\u001b[1;34m\u001b[0m\n\u001b[0;32m      3\u001b[0m     \u001b[0md5\u001b[0m\u001b[1;33m=\u001b[0m\u001b[0mf4\u001b[0m\u001b[1;33m.\u001b[0m\u001b[0mread\u001b[0m\u001b[1;33m(\u001b[0m\u001b[1;33m)\u001b[0m\u001b[1;33m\u001b[0m\u001b[1;33m\u001b[0m\u001b[0m\n\u001b[0;32m      4\u001b[0m     \u001b[0mprint\u001b[0m\u001b[1;33m(\u001b[0m\u001b[0md5\u001b[0m\u001b[1;33m)\u001b[0m\u001b[1;33m\u001b[0m\u001b[1;33m\u001b[0m\u001b[0m\n\u001b[1;32m----> 5\u001b[1;33m     \u001b[0mx\u001b[0m\u001b[1;33m=\u001b[0m\u001b[0md5\u001b[0m\u001b[1;33m.\u001b[0m\u001b[0mindex\u001b[0m\u001b[1;33m(\u001b[0m\u001b[1;34m\"CANADA\"\u001b[0m\u001b[1;33m)\u001b[0m\u001b[1;33m\u001b[0m\u001b[1;33m\u001b[0m\u001b[0m\n\u001b[0m\u001b[0;32m      6\u001b[0m     \u001b[0mprint\u001b[0m\u001b[1;33m(\u001b[0m\u001b[0mx\u001b[0m\u001b[1;33m)\u001b[0m\u001b[1;33m\u001b[0m\u001b[1;33m\u001b[0m\u001b[0m\n\u001b[0;32m      7\u001b[0m     \u001b[0mf4\u001b[0m\u001b[1;33m.\u001b[0m\u001b[0mseek\u001b[0m\u001b[1;33m(\u001b[0m\u001b[0mx\u001b[0m\u001b[1;33m)\u001b[0m\u001b[1;33m\u001b[0m\u001b[1;33m\u001b[0m\u001b[0m\n",
      "\u001b[1;31mValueError\u001b[0m: substring not found"
     ]
    }
   ],
   "source": [
    "with open(\"country.txt\",\"w+\") as f4:\n",
    "    \n",
    "    d5=f4.read()\n",
    "    print(d5)\n",
    "    x=d5.index(\"CANADA\")\n",
    "    print(x)\n",
    "    f4.seek(x)\n",
    "    f4.write(\"RUSSIA\")\n",
    "    print()\n",
    "    f4.seek(0)\n",
    "    d6=f4.read()\n",
    "    print(d6)"
   ]
  },
  {
   "cell_type": "code",
   "execution_count": null,
   "id": "0e8497d6",
   "metadata": {},
   "outputs": [],
   "source": []
  }
 ],
 "metadata": {
  "kernelspec": {
   "display_name": "Python 3 (ipykernel)",
   "language": "python",
   "name": "python3"
  },
  "language_info": {
   "codemirror_mode": {
    "name": "ipython",
    "version": 3
   },
   "file_extension": ".py",
   "mimetype": "text/x-python",
   "name": "python",
   "nbconvert_exporter": "python",
   "pygments_lexer": "ipython3",
   "version": "3.9.13"
  }
 },
 "nbformat": 4,
 "nbformat_minor": 5
}
