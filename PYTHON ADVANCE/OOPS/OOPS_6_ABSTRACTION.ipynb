{
 "cells": [
  {
   "cell_type": "markdown",
   "id": "a8b4e2f8",
   "metadata": {},
   "source": [
    "# ABSTRACTION:\n",
    "    •\tIt provides security.\n",
    "    •\tIt is implementing the security by hiding internal mechanism.\n",
    "        o\tTo avoid unauthorized user accessing internal mechanism.\n",
    "        o\tHiding internal mechanism not to show unnecessary information to the user.\n",
    "\n",
    "### Implementation Of Abstraction:\n",
    "    It is implemented in two steps process:\n",
    "        •\tCreating Abstract Class\n",
    "            o\tAbstract class is created by inheriting properties of build-in Abstract class  by the name “ABC” to your user defined class.\n",
    "                    From abc import ABC\n",
    "                    Class sky(ABC):\n",
    "\n",
    "        •\tCreating Abstract Method\n",
    "            o\tAbstract method is created with the help of decorator “@abstractmethod”.\n",
    "                    @abstractmethod\n",
    "                    Def xyz(self):\n",
    "\n",
    "            o\tAbstract method should not have implementation(Logic) within abstract class.\n",
    "            o\tWe can have “n” number of abstract method within the abstract class.\n",
    "\n",
    "    \tNon abstract method within abstract class is called Concrete Method.\n",
    "    \tThese concrete holds actual logic within abstract class.\n"
   ]
  },
  {
   "cell_type": "code",
   "execution_count": null,
   "id": "6b156bad",
   "metadata": {},
   "outputs": [],
   "source": []
  },
  {
   "cell_type": "code",
   "execution_count": 1,
   "id": "39f80f7c",
   "metadata": {},
   "outputs": [
    {
     "name": "stdout",
     "output_type": "stream",
     "text": [
      "This is from the sky method\n"
     ]
    }
   ],
   "source": [
    "class skyclass:\n",
    "    def sky(self):\n",
    "        print(\"This is from the sky method\")\n",
    "        \n",
    "obj=skyclass()\n",
    "obj.sky()"
   ]
  },
  {
   "cell_type": "code",
   "execution_count": null,
   "id": "5539cab5",
   "metadata": {},
   "outputs": [],
   "source": []
  },
  {
   "cell_type": "code",
   "execution_count": 5,
   "id": "7e4f587c",
   "metadata": {},
   "outputs": [],
   "source": [
    "from abc import ABC,abstractmethod"
   ]
  },
  {
   "cell_type": "code",
   "execution_count": 3,
   "id": "e60ed358",
   "metadata": {},
   "outputs": [
    {
     "name": "stdout",
     "output_type": "stream",
     "text": [
      "This is from abs Method\n"
     ]
    }
   ],
   "source": [
    "class absclass(ABC):\n",
    "    def abs(self):\n",
    "        print(\"This is from abs Method\")\n",
    "        \n",
    "obj1=absclass()\n",
    "obj1.abs()\n",
    "    "
   ]
  },
  {
   "cell_type": "code",
   "execution_count": 6,
   "id": "80d75518",
   "metadata": {},
   "outputs": [
    {
     "ename": "TypeError",
     "evalue": "Can't instantiate abstract class absclass with abstract method abs",
     "output_type": "error",
     "traceback": [
      "\u001b[1;31m---------------------------------------------------------------------------\u001b[0m",
      "\u001b[1;31mTypeError\u001b[0m                                 Traceback (most recent call last)",
      "\u001b[1;32m~\\AppData\\Local\\Temp\\ipykernel_20984\\3349203617.py\u001b[0m in \u001b[0;36m<module>\u001b[1;34m\u001b[0m\n\u001b[0;32m      5\u001b[0m         \u001b[0mprint\u001b[0m\u001b[1;33m(\u001b[0m\u001b[1;34m\"This is from abs Method\"\u001b[0m\u001b[1;33m)\u001b[0m\u001b[1;33m\u001b[0m\u001b[1;33m\u001b[0m\u001b[0m\n\u001b[0;32m      6\u001b[0m \u001b[1;33m\u001b[0m\u001b[0m\n\u001b[1;32m----> 7\u001b[1;33m \u001b[0mobj1\u001b[0m\u001b[1;33m=\u001b[0m\u001b[0mabsclass\u001b[0m\u001b[1;33m(\u001b[0m\u001b[1;33m)\u001b[0m\u001b[1;33m\u001b[0m\u001b[1;33m\u001b[0m\u001b[0m\n\u001b[0m\u001b[0;32m      8\u001b[0m \u001b[0mobj1\u001b[0m\u001b[1;33m.\u001b[0m\u001b[0mabs\u001b[0m\u001b[1;33m(\u001b[0m\u001b[1;33m)\u001b[0m\u001b[1;33m\u001b[0m\u001b[1;33m\u001b[0m\u001b[0m\n",
      "\u001b[1;31mTypeError\u001b[0m: Can't instantiate abstract class absclass with abstract method abs"
     ]
    }
   ],
   "source": [
    "class absclass(ABC):\n",
    "    \n",
    "    @abstractmethod\n",
    "    def abs(self):\n",
    "        print(\"This is from abs Method\")\n",
    "        \n",
    "obj1=absclass()\n",
    "obj1.abs()"
   ]
  },
  {
   "cell_type": "code",
   "execution_count": null,
   "id": "77ed5ab7",
   "metadata": {},
   "outputs": [],
   "source": [
    "class absclass(ABC):\n",
    "    \n",
    "    @abstractmethod\n",
    "    def abs(self):\n",
    "        pass\n",
    "    @abstractmethod\n",
    "    def abs1(self):\n",
    "        pass\n",
    "    def table(self): # Concrete \n",
    "        for i in range(1,11):\n",
    "            print(9,\"*\",i,\"==\",9*i)\n",
    "absclass()"
   ]
  },
  {
   "cell_type": "code",
   "execution_count": 7,
   "id": "025c6dad",
   "metadata": {},
   "outputs": [
    {
     "ename": "NameError",
     "evalue": "name 'abschild' is not defined",
     "output_type": "error",
     "traceback": [
      "\u001b[1;31m---------------------------------------------------------------------------\u001b[0m",
      "\u001b[1;31mNameError\u001b[0m                                 Traceback (most recent call last)",
      "\u001b[1;32m~\\AppData\\Local\\Temp\\ipykernel_20984\\1084999868.py\u001b[0m in \u001b[0;36m<module>\u001b[1;34m\u001b[0m\n\u001b[0;32m     10\u001b[0m             \u001b[0mprint\u001b[0m\u001b[1;33m(\u001b[0m\u001b[1;36m9\u001b[0m\u001b[1;33m,\u001b[0m\u001b[1;34m\"*\"\u001b[0m\u001b[1;33m,\u001b[0m\u001b[0mi\u001b[0m\u001b[1;33m,\u001b[0m\u001b[1;34m\"==\"\u001b[0m\u001b[1;33m,\u001b[0m\u001b[1;36m9\u001b[0m\u001b[1;33m*\u001b[0m\u001b[0mi\u001b[0m\u001b[1;33m)\u001b[0m\u001b[1;33m\u001b[0m\u001b[1;33m\u001b[0m\u001b[0m\n\u001b[0;32m     11\u001b[0m \u001b[1;33m\u001b[0m\u001b[0m\n\u001b[1;32m---> 12\u001b[1;33m \u001b[1;32mclass\u001b[0m \u001b[0mabschild\u001b[0m\u001b[1;33m(\u001b[0m\u001b[0mabschild\u001b[0m\u001b[1;33m)\u001b[0m\u001b[1;33m:\u001b[0m\u001b[1;33m\u001b[0m\u001b[1;33m\u001b[0m\u001b[0m\n\u001b[0m\u001b[0;32m     13\u001b[0m     \u001b[1;32mdef\u001b[0m \u001b[0msky\u001b[0m\u001b[1;33m(\u001b[0m\u001b[0mself\u001b[0m\u001b[1;33m)\u001b[0m\u001b[1;33m:\u001b[0m\u001b[1;33m\u001b[0m\u001b[1;33m\u001b[0m\u001b[0m\n\u001b[0;32m     14\u001b[0m         \u001b[0mprint\u001b[0m\u001b[1;33m(\u001b[0m\u001b[1;34m\"Hello\"\u001b[0m\u001b[1;33m)\u001b[0m\u001b[1;33m\u001b[0m\u001b[1;33m\u001b[0m\u001b[0m\n",
      "\u001b[1;31mNameError\u001b[0m: name 'abschild' is not defined"
     ]
    }
   ],
   "source": [
    "class absclass(ABC):\n",
    "    \n",
    "    @abstractmethod\n",
    "    def abs(self):\n",
    "        pass\n",
    "    \n",
    "        \n",
    "    def table(self): # Concrete \n",
    "        for i in range(1,11):\n",
    "            print(9,\"*\",i,\"==\",9*i)\n",
    "            \n",
    "class abschild(abschild):\n",
    "    def sky(self):\n",
    "        print(\"Hello\")\n",
    "        \n",
    "abschild()"
   ]
  },
  {
   "cell_type": "code",
   "execution_count": 10,
   "id": "deeb38b0",
   "metadata": {},
   "outputs": [
    {
     "name": "stdout",
     "output_type": "stream",
     "text": [
      "Abs method\n",
      "9 * 1 == 9\n",
      "9 * 2 == 18\n",
      "9 * 3 == 27\n",
      "9 * 4 == 36\n",
      "9 * 5 == 45\n",
      "9 * 6 == 54\n",
      "9 * 7 == 63\n",
      "9 * 8 == 72\n",
      "9 * 9 == 81\n",
      "9 * 10 == 90\n",
      "Hello\n"
     ]
    }
   ],
   "source": [
    "class absclass(ABC):\n",
    "    \n",
    "    @abstractmethod\n",
    "    def abs(self):\n",
    "        pass\n",
    "    \n",
    "        \n",
    "    def table(self): # Concrete \n",
    "        for i in range(1,11):\n",
    "            print(9,\"*\",i,\"==\",9*i)\n",
    "            \n",
    "class abschild(absclass):\n",
    "    def sky(self):\n",
    "        print(\"Hello\")\n",
    "        \n",
    "    \n",
    "    def abs(self):\n",
    "        print(\"Abs method\")\n",
    "    \n",
    "        \n",
    "obj=abschild()\n",
    "obj.abs()\n",
    "obj.table()\n",
    "obj.sky()"
   ]
  },
  {
   "cell_type": "code",
   "execution_count": 11,
   "id": "768beffa",
   "metadata": {},
   "outputs": [
    {
     "ename": "TypeError",
     "evalue": "Can't instantiate abstract class abschild with abstract method abs1",
     "output_type": "error",
     "traceback": [
      "\u001b[1;31m---------------------------------------------------------------------------\u001b[0m",
      "\u001b[1;31mTypeError\u001b[0m                                 Traceback (most recent call last)",
      "\u001b[1;32m~\\AppData\\Local\\Temp\\ipykernel_20984\\4203567142.py\u001b[0m in \u001b[0;36m<module>\u001b[1;34m\u001b[0m\n\u001b[0;32m     18\u001b[0m         \u001b[0mprint\u001b[0m\u001b[1;33m(\u001b[0m\u001b[1;34m\"Abs method\"\u001b[0m\u001b[1;33m)\u001b[0m\u001b[1;33m\u001b[0m\u001b[1;33m\u001b[0m\u001b[0m\n\u001b[0;32m     19\u001b[0m \u001b[1;33m\u001b[0m\u001b[0m\n\u001b[1;32m---> 20\u001b[1;33m \u001b[0mobj\u001b[0m\u001b[1;33m=\u001b[0m\u001b[0mabschild\u001b[0m\u001b[1;33m(\u001b[0m\u001b[1;33m)\u001b[0m\u001b[1;33m\u001b[0m\u001b[1;33m\u001b[0m\u001b[0m\n\u001b[0m\u001b[0;32m     21\u001b[0m \u001b[0mobj\u001b[0m\u001b[1;33m.\u001b[0m\u001b[0mabs\u001b[0m\u001b[1;33m(\u001b[0m\u001b[1;33m)\u001b[0m\u001b[1;33m\u001b[0m\u001b[1;33m\u001b[0m\u001b[0m\n\u001b[0;32m     22\u001b[0m \u001b[0mobj\u001b[0m\u001b[1;33m.\u001b[0m\u001b[0mtable\u001b[0m\u001b[1;33m(\u001b[0m\u001b[1;33m)\u001b[0m\u001b[1;33m\u001b[0m\u001b[1;33m\u001b[0m\u001b[0m\n",
      "\u001b[1;31mTypeError\u001b[0m: Can't instantiate abstract class abschild with abstract method abs1"
     ]
    }
   ],
   "source": [
    "class absparent(ABC):\n",
    "    \n",
    "    @abstractmethod\n",
    "    def abs(self):\n",
    "        pass\n",
    "    @abstractmethod\n",
    "    def abs1(self):\n",
    "        pass\n",
    "    def table(self): \n",
    "        for i in range(1,11):\n",
    "            print(9,\"*\",i,\"==\",9*i)\n",
    "            \n",
    "class abschild(absparent):\n",
    "    def sky(self):\n",
    "        print(\"Hello\")\n",
    "        \n",
    "    def abs(self):\n",
    "        print(\"Abs method\")\n",
    "\n",
    "obj=abschild()\n",
    "obj.abs()\n",
    "obj.table()\n",
    "obj.sky()"
   ]
  },
  {
   "cell_type": "code",
   "execution_count": 14,
   "id": "645ad3ce",
   "metadata": {},
   "outputs": [
    {
     "name": "stdout",
     "output_type": "stream",
     "text": [
      "Abs method\n",
      "9 * 1 == 9\n",
      "9 * 2 == 18\n",
      "9 * 3 == 27\n",
      "9 * 4 == 36\n",
      "9 * 5 == 45\n",
      "9 * 6 == 54\n",
      "9 * 7 == 63\n",
      "9 * 8 == 72\n",
      "9 * 9 == 81\n",
      "9 * 10 == 90\n",
      "Hello\n",
      "Abs1 Method\n"
     ]
    }
   ],
   "source": [
    "class absparent(ABC):\n",
    "    \n",
    "    @abstractmethod\n",
    "    def abs(self):\n",
    "        pass\n",
    "    @abstractmethod\n",
    "    def abs1(self):\n",
    "        pass\n",
    "    def table(self): \n",
    "        for i in range(1,11):\n",
    "            print(9,\"*\",i,\"==\",9*i)\n",
    "            \n",
    "class abschild(absparent):\n",
    "    def sky(self):\n",
    "        print(\"Hello\")\n",
    "        \n",
    "    def abs(self):\n",
    "        print(\"Abs method\")\n",
    "        \n",
    "class absgchild(abschild):\n",
    "    def abs1(self):\n",
    "        print(\"Abs1 Method\")\n",
    "\n",
    "obj=absgchild()\n",
    "obj.abs()\n",
    "obj.table()\n",
    "obj.sky()\n",
    "obj.abs1()"
   ]
  },
  {
   "cell_type": "code",
   "execution_count": 16,
   "id": "947a63e8",
   "metadata": {},
   "outputs": [
    {
     "ename": "TypeError",
     "evalue": "Can't instantiate abstract class abschild5 with abstract method abs1",
     "output_type": "error",
     "traceback": [
      "\u001b[1;31m---------------------------------------------------------------------------\u001b[0m",
      "\u001b[1;31mTypeError\u001b[0m                                 Traceback (most recent call last)",
      "\u001b[1;32m~\\AppData\\Local\\Temp\\ipykernel_20984\\2231542392.py\u001b[0m in \u001b[0;36m<module>\u001b[1;34m\u001b[0m\n\u001b[0;32m     31\u001b[0m         \u001b[0mprint\u001b[0m\u001b[1;33m(\u001b[0m\u001b[1;34m\"c5 Method\"\u001b[0m\u001b[1;33m)\u001b[0m\u001b[1;33m\u001b[0m\u001b[1;33m\u001b[0m\u001b[0m\n\u001b[0;32m     32\u001b[0m \u001b[1;33m\u001b[0m\u001b[0m\n\u001b[1;32m---> 33\u001b[1;33m \u001b[0mobj\u001b[0m\u001b[1;33m=\u001b[0m\u001b[0mabschild5\u001b[0m\u001b[1;33m(\u001b[0m\u001b[1;33m)\u001b[0m\u001b[1;33m\u001b[0m\u001b[1;33m\u001b[0m\u001b[0m\n\u001b[0m",
      "\u001b[1;31mTypeError\u001b[0m: Can't instantiate abstract class abschild5 with abstract method abs1"
     ]
    }
   ],
   "source": [
    "class absparent(ABC):\n",
    "    \n",
    "    @abstractmethod\n",
    "    def abs(self):\n",
    "        pass\n",
    "    @abstractmethod\n",
    "    def abs1(self):\n",
    "        pass\n",
    "    def table(self): \n",
    "        for i in range(1,11):\n",
    "            print(9,\"*\",i,\"==\",9*i)\n",
    "            \n",
    "class abschild(absparent):\n",
    "    def sky(self):\n",
    "        print(\"Hello\")\n",
    "        \n",
    "    def abs(self):\n",
    "        print(\"Abs method\")\n",
    "        \n",
    "class abschild2(abschild):\n",
    "    def c2(self):\n",
    "        print(\"c2 Method\")\n",
    "class abschild3(abschild):\n",
    "    def c3(self):\n",
    "        print(\"c3 Method\")\n",
    "class abschild4(abschild):\n",
    "    def c4(self):\n",
    "        print(\"c4 Method\")\n",
    "class abschild5(abschild):\n",
    "    def c5(self):\n",
    "        print(\"c5 Method\")\n",
    "\n",
    "obj=abschild5()\n"
   ]
  },
  {
   "cell_type": "code",
   "execution_count": null,
   "id": "b21bbd0a",
   "metadata": {},
   "outputs": [],
   "source": []
  }
 ],
 "metadata": {
  "kernelspec": {
   "display_name": "Python 3 (ipykernel)",
   "language": "python",
   "name": "python3"
  },
  "language_info": {
   "codemirror_mode": {
    "name": "ipython",
    "version": 3
   },
   "file_extension": ".py",
   "mimetype": "text/x-python",
   "name": "python",
   "nbconvert_exporter": "python",
   "pygments_lexer": "ipython3",
   "version": "3.9.13"
  }
 },
 "nbformat": 4,
 "nbformat_minor": 5
}
