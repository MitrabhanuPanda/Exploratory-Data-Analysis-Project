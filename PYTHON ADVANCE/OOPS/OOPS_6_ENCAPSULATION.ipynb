{
 "cells": [
  {
   "cell_type": "code",
   "execution_count": null,
   "id": "d1d54c88",
   "metadata": {},
   "outputs": [],
   "source": []
  },
  {
   "cell_type": "code",
   "execution_count": null,
   "id": "ea61f31d",
   "metadata": {},
   "outputs": [],
   "source": []
  },
  {
   "cell_type": "markdown",
   "id": "c972d424",
   "metadata": {},
   "source": [
    "### Protected Variable Accessibility"
   ]
  },
  {
   "cell_type": "markdown",
   "id": "e6fd414c",
   "metadata": {},
   "source": [
    "#### Protected Variable within the same class"
   ]
  },
  {
   "cell_type": "code",
   "execution_count": 1,
   "id": "f6d61269",
   "metadata": {},
   "outputs": [
    {
     "name": "stdout",
     "output_type": "stream",
     "text": [
      "This is from m1 method of encap class\n",
      "Public Variable:  New York\n",
      "Protected Variable:  New Delhi\n"
     ]
    }
   ],
   "source": [
    "class encap:\n",
    "    city=\"New York\"     # Static Variable-Public\n",
    "    _city=\"New Delhi\"   # Protected Static Variable\n",
    "    \n",
    "    def m1(self):\n",
    "        print(\"This is from m1 method of encap class\")\n",
    "        print(\"Public Variable: \",encap.city)\n",
    "        print(\"Protected Variable: \",encap._city)\n",
    "        \n",
    "\n",
    "    \n",
    "        \n",
    "obj=encap()\n",
    "obj.m1()\n",
    "    "
   ]
  },
  {
   "cell_type": "markdown",
   "id": "de7532b9",
   "metadata": {},
   "source": [
    "#### Protected Variable within the inherited class"
   ]
  },
  {
   "cell_type": "code",
   "execution_count": 2,
   "id": "99fff151",
   "metadata": {},
   "outputs": [
    {
     "name": "stdout",
     "output_type": "stream",
     "text": [
      "This is from c1 method of child class\n",
      "Child Class Name:  New York\n",
      "\n",
      "Parent Class Name:  New York\n",
      "_______________________________\n",
      "Protected variable-Child Name:  New Delhi\n",
      "\n",
      "Protected variable-Parent Name:  New Delhi\n"
     ]
    }
   ],
   "source": [
    "class encap:\n",
    "    city=\"New York\"\n",
    "    _city=\"New Delhi\"\n",
    "    def m1(self):\n",
    "        print(\"This is from m1 method of encap class\")\n",
    "        print(encap.city)\n",
    "        \n",
    "class child(encap):\n",
    "    def c1(self):\n",
    "        print(\"This is from c1 method of child class\")\n",
    "        print(\"Child Class Name: \",child.city)\n",
    "        print()\n",
    "        print(\"Parent Class Name: \",encap.city)\n",
    "        print(\"_______________________________\")\n",
    "        print(\"Protected variable-Child Name: \",child._city)\n",
    "        print()\n",
    "        print(\"Protected variable-Parent Name: \",encap._city)\n",
    "\n",
    "obj1=child()\n",
    "obj1.c1()\n",
    "        "
   ]
  },
  {
   "cell_type": "markdown",
   "id": "8628b4eb",
   "metadata": {},
   "source": [
    "#### Protected Variable outside class"
   ]
  },
  {
   "cell_type": "code",
   "execution_count": 4,
   "id": "00a9ff96",
   "metadata": {},
   "outputs": [
    {
     "name": "stdout",
     "output_type": "stream",
     "text": [
      "This is Main Program\n",
      "Public Variable Using Parent Object:  New York\n",
      "\n",
      "Protected Variable Using Parent Object:  New Delhi\n",
      "***************************************************************\n",
      "Public Variable Using the class name:  New York\n",
      "\n",
      "Protected Variable Using the class name:  New Delhi\n",
      "_____________________________________________\n",
      "This is Child Program\n",
      "Public Variable Using Child Object:  New York\n",
      "\n",
      "Protected Variable Using the child name:  New Delhi\n",
      "***************************************************************\n",
      "Public Variable Using Child Class Name:  New York\n",
      "\n",
      "Protected Variable Using Child Class Name:  New Delhi\n"
     ]
    }
   ],
   "source": [
    "class encap:\n",
    "    city=\"New York\"\n",
    "    _city=\"New Delhi\"\n",
    "    \n",
    "    def m1(self):\n",
    "        print(\"This is from m1 method of encap class\")\n",
    "        print(encap.city)\n",
    "        \n",
    "class child(encap):\n",
    "    def c1(self):\n",
    "        print(\"This is from c1 method of child class\")\n",
    "        print(child.city)\n",
    "        print()\n",
    "        print(encap.city)\n",
    "        \n",
    "    \n",
    "\n",
    "        \n",
    "    \n",
    "obj_p=encap()\n",
    "print(\"This is Main Program\")\n",
    "print(\"Public Variable Using Parent Object: \",obj_p.city)\n",
    "print()\n",
    "print(\"Protected Variable Using Parent Object: \",obj_p._city)\n",
    "print(\"***************************************************************\")\n",
    "print(\"Public Variable Using the class name: \",encap.city)\n",
    "print()\n",
    "print(\"Protected Variable Using the class name: \",encap._city)\n",
    "print(\"_____________________________________________\")  \n",
    "\n",
    "  \n",
    "obj_c=child()\n",
    "print(\"This is Child Program\")\n",
    "print(\"Public Variable Using Child Object: \",obj_c.city)\n",
    "print()\n",
    "print(\"Protected Variable Using the child name: \",obj_c._city)\n",
    "print(\"***************************************************************\")\n",
    "print(\"Public Variable Using Child Class Name: \",child.city)\n",
    "print()\n",
    "print(\"Protected Variable Using Child Class Name: \",child._city)"
   ]
  },
  {
   "cell_type": "markdown",
   "id": "4fa7a064",
   "metadata": {},
   "source": [
    "### Private Variable Accessibilty"
   ]
  },
  {
   "cell_type": "code",
   "execution_count": 6,
   "id": "91832c28",
   "metadata": {},
   "outputs": [
    {
     "name": "stdout",
     "output_type": "stream",
     "text": [
      "This is from m1 method of encap class\n",
      "Public Variable:  New York\n",
      "Protected Variable:  New Delhi\n",
      "Private Variable:  Mumbai\n"
     ]
    }
   ],
   "source": [
    "class encap:\n",
    "    city=\"New York\"     # Static Variable-Public\n",
    "    _city=\"New Delhi\"   # Protected Static Variable\n",
    "    __city=\"Mumbai\"     # Private Static Variable\n",
    "    \n",
    "    def m1(self):\n",
    "        print(\"This is from m1 method of encap class\")\n",
    "        print(\"Public Variable: \",encap.city)\n",
    "        print(\"Protected Variable: \",encap._city)\n",
    "        print(\"Private Variable: \",encap.__city)\n",
    "\n",
    "    \n",
    "        \n",
    "obj=encap()\n",
    "obj.m1()"
   ]
  },
  {
   "cell_type": "code",
   "execution_count": 8,
   "id": "c5e0ea84",
   "metadata": {},
   "outputs": [
    {
     "name": "stdout",
     "output_type": "stream",
     "text": [
      "This is from c1 method of child class\n",
      "Child Class Name:  New York\n",
      "\n",
      "Parent Class Name:  New York\n",
      "_______________________________\n",
      "Protected variable-Child Name:  New Delhi\n",
      "\n",
      "Protected variable-Parent Name:  New Delhi\n",
      "\n"
     ]
    }
   ],
   "source": [
    "class encap:\n",
    "    city=\"New York\"\n",
    "    _city=\"New Delhi\"\n",
    "    __city=\"Mumbai\"\n",
    "    \n",
    "    def m1(self):\n",
    "        print(\"This is from m1 method of encap class\")\n",
    "        print(encap.city)\n",
    "        \n",
    "class child(encap):\n",
    "    def c1(self):\n",
    "        print(\"This is from c1 method of child class\")\n",
    "        print(\"Child Class Name: \",child.city)\n",
    "        print()\n",
    "        print(\"Parent Class Name: \",encap.city)\n",
    "        print(\"_______________________________\")\n",
    "        print(\"Protected variable-Child Name: \",child._city)\n",
    "        print()\n",
    "        print(\"Protected variable-Parent Name: \",encap._city)\n",
    "        print()\n",
    "#         print(\"Private variable-Parent Name: \",encap.__city)\n",
    "\n",
    "obj1=child()\n",
    "obj1.c1()\n",
    "        "
   ]
  },
  {
   "cell_type": "markdown",
   "id": "94540ff9",
   "metadata": {},
   "source": [
    "### Methods with Access Specifier"
   ]
  },
  {
   "cell_type": "markdown",
   "id": "544c72b6",
   "metadata": {},
   "source": [
    "### Public Method"
   ]
  },
  {
   "cell_type": "code",
   "execution_count": 18,
   "id": "9aaa240e",
   "metadata": {},
   "outputs": [
    {
     "name": "stdout",
     "output_type": "stream",
     "text": [
      "This is from Sky Class\n"
     ]
    }
   ],
   "source": [
    "class parent:\n",
    "    def sky(self):  # Protected\n",
    "        print(\"This is from Sky Class\")\n",
    "obj_p=parent()\n",
    "obj_p.sky()"
   ]
  },
  {
   "cell_type": "code",
   "execution_count": 12,
   "id": "a1c3472f",
   "metadata": {},
   "outputs": [
    {
     "name": "stdout",
     "output_type": "stream",
     "text": [
      "This is from Dummy Method\n",
      "This is from Sky Class\n"
     ]
    }
   ],
   "source": [
    "class parent:\n",
    "    def sky(self):  # Public\n",
    "        print(\"This is from Sky Class\")\n",
    "        \n",
    "        \n",
    "    def dummy(self):\n",
    "        print(\"This is from Dummy Method\")\n",
    "        self.sky()\n",
    "        \n",
    "obj_p=parent()\n",
    "obj_p.dummy()"
   ]
  },
  {
   "cell_type": "code",
   "execution_count": 13,
   "id": "8700c00e",
   "metadata": {},
   "outputs": [
    {
     "name": "stdout",
     "output_type": "stream",
     "text": [
      "This is from Dummy Method\n",
      "This is from Sky Class\n"
     ]
    }
   ],
   "source": [
    "class parent:\n",
    "    def sky(self):  # Public\n",
    "        print(\"This is from Sky Class\")\n",
    "        \n",
    "class child(parent):\n",
    "    \n",
    "    def c1(self):\n",
    "        print(\"This is from Dummy Method\")\n",
    "        self.sky()\n",
    "        \n",
    "obj_p=child()\n",
    "obj_p.c1()"
   ]
  },
  {
   "cell_type": "markdown",
   "id": "c3fd7d02",
   "metadata": {},
   "source": [
    "### Protected Method"
   ]
  },
  {
   "cell_type": "code",
   "execution_count": 14,
   "id": "db726c44",
   "metadata": {},
   "outputs": [
    {
     "name": "stdout",
     "output_type": "stream",
     "text": [
      "This is from Sky Class\n"
     ]
    }
   ],
   "source": [
    "class parent:\n",
    "    def _sky(self):  # Protected\n",
    "        print(\"This is from Sky Class\")\n",
    "obj_p=parent()\n",
    "obj_p._sky()"
   ]
  },
  {
   "cell_type": "code",
   "execution_count": 15,
   "id": "7e5dbbad",
   "metadata": {},
   "outputs": [
    {
     "name": "stdout",
     "output_type": "stream",
     "text": [
      "This is from Dummy Method\n",
      "This is from Sky Class\n"
     ]
    }
   ],
   "source": [
    "class parent:\n",
    "    def _sky(self):  \n",
    "        print(\"This is from Sky Class\")\n",
    "        \n",
    "        \n",
    "    def dummy(self):\n",
    "        print(\"This is from Dummy Method\")\n",
    "        self._sky()\n",
    "        \n",
    "obj_p=parent()\n",
    "obj_p.dummy()"
   ]
  },
  {
   "cell_type": "code",
   "execution_count": 16,
   "id": "51ef93ba",
   "metadata": {},
   "outputs": [
    {
     "name": "stdout",
     "output_type": "stream",
     "text": [
      "This is from Dummy Method\n",
      "This is from Sky Class\n"
     ]
    }
   ],
   "source": [
    "class parent:\n",
    "    def _sky(self):  \n",
    "        print(\"This is from Sky Class\")\n",
    "        \n",
    "class child(parent):\n",
    "    \n",
    "    def c1(self):\n",
    "        print(\"This is from Dummy Method\")\n",
    "        self._sky()\n",
    "        \n",
    "obj_p=child()\n",
    "obj_p.c1()"
   ]
  },
  {
   "cell_type": "markdown",
   "id": "c6562881",
   "metadata": {},
   "source": [
    "### Private Class"
   ]
  },
  {
   "cell_type": "code",
   "execution_count": 20,
   "id": "ded30ebc",
   "metadata": {},
   "outputs": [],
   "source": [
    "class parent:\n",
    "    def __sky(self):  # Private\n",
    "        print(\"This is from Sky Class\")\n",
    "        \n",
    "obj_p=parent()\n",
    "# obj_p.__sky()"
   ]
  },
  {
   "cell_type": "code",
   "execution_count": 22,
   "id": "2aa8390a",
   "metadata": {},
   "outputs": [],
   "source": [
    "class parent:\n",
    "    def __sky(self):  \n",
    "        print(\"This is from Sky Class\")\n",
    "        \n",
    "class child(parent):\n",
    "    \n",
    "    def c1(self):\n",
    "        print(\"This is from Dummy Method\")\n",
    "        self.__sky()\n",
    "        \n",
    "obj_p=child()\n",
    "# obj_p.c1()"
   ]
  },
  {
   "cell_type": "code",
   "execution_count": 23,
   "id": "aa017ec4",
   "metadata": {},
   "outputs": [
    {
     "name": "stdout",
     "output_type": "stream",
     "text": [
      "This is from Dummy Method\n",
      "This is from Sky Class\n"
     ]
    }
   ],
   "source": [
    "class parent:\n",
    "    def __sky(self):  \n",
    "        print(\"This is from Sky Class\")\n",
    "        \n",
    "        \n",
    "    def dummy(self):\n",
    "        print(\"This is from Dummy Method\")\n",
    "        self.__sky()\n",
    "        \n",
    "obj_p=parent()\n",
    "obj_p.dummy()"
   ]
  },
  {
   "cell_type": "markdown",
   "id": "ad95daf1",
   "metadata": {},
   "source": [
    "### Variable with Access Specifier"
   ]
  },
  {
   "cell_type": "code",
   "execution_count": 28,
   "id": "3fca4ff7",
   "metadata": {},
   "outputs": [
    {
     "name": "stdout",
     "output_type": "stream",
     "text": [
      "Hydrabad\n"
     ]
    }
   ],
   "source": [
    "class p:\n",
    "    def m1(self):\n",
    "        __city=\"Hydrabad\"\n",
    "        print(__city)\n",
    "        \n",
    "obj3=p()\n",
    "obj3.m1()"
   ]
  },
  {
   "cell_type": "code",
   "execution_count": 30,
   "id": "68ae070e",
   "metadata": {},
   "outputs": [],
   "source": [
    "class p:\n",
    "    def m1(self):\n",
    "        __city=\"Hydrabad\"\n",
    "        print(__city)\n",
    "    def m2(self):\n",
    "        print(__city)\n",
    "        \n",
    "obj3=p()\n",
    "# obj3.m2()"
   ]
  },
  {
   "cell_type": "code",
   "execution_count": null,
   "id": "bd48715a",
   "metadata": {},
   "outputs": [],
   "source": []
  }
 ],
 "metadata": {
  "kernelspec": {
   "display_name": "Python 3 (ipykernel)",
   "language": "python",
   "name": "python3"
  },
  "language_info": {
   "codemirror_mode": {
    "name": "ipython",
    "version": 3
   },
   "file_extension": ".py",
   "mimetype": "text/x-python",
   "name": "python",
   "nbconvert_exporter": "python",
   "pygments_lexer": "ipython3",
   "version": "3.9.13"
  }
 },
 "nbformat": 4,
 "nbformat_minor": 5
}
