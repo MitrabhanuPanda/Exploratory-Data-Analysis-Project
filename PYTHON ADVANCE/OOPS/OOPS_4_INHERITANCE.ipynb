{
 "cells": [
  {
   "cell_type": "markdown",
   "id": "bd0ae90a",
   "metadata": {},
   "source": [
    "### [Diamond Problem/ Ambiguity Problem]\n",
    "\n",
    "### 4. Multiple Inheritance:\n",
    "    •\tSingle child class is inherited with multiple parent class properties.\n",
    "    Syntax:\n",
    "        Class Child(A,B):\n",
    "\n",
    "### 5.Hybrid Inheritance:\n",
    "    •\tIt’s a combination of two or more above inheritance,\n",
    "        o\tMultiple+Hierarchical\n",
    "        o\tMult-Level+ Hierarchical\n",
    "        o\tMultiple+Multi-Level\n"
   ]
  },
  {
   "cell_type": "code",
   "execution_count": null,
   "id": "8b935bc8",
   "metadata": {},
   "outputs": [],
   "source": []
  },
  {
   "cell_type": "markdown",
   "id": "581f4599",
   "metadata": {},
   "source": [
    "### Inheritance with Super()  & Constructor"
   ]
  },
  {
   "cell_type": "code",
   "execution_count": 8,
   "id": "78611c60",
   "metadata": {},
   "outputs": [
    {
     "name": "stdout",
     "output_type": "stream",
     "text": [
      "This is from gchild Class Constructor\n",
      "This is from child Class Constructor\n"
     ]
    },
    {
     "data": {
      "text/plain": [
       "<__main__.gchild at 0x1f4ea3bb250>"
      ]
     },
     "execution_count": 8,
     "metadata": {},
     "output_type": "execute_result"
    }
   ],
   "source": [
    "class parent:\n",
    "    def __init__(self):\n",
    "        print(\"This is from parent Class Constructor\")\n",
    "        \n",
    "        for i in range(1,11):\n",
    "            print(9,\"*\",i,\"==\",9*i)\n",
    "            \n",
    "class child(parent):\n",
    "    \n",
    "    def __init__(self):\n",
    "        print(\"This is from child Class Constructor\")\n",
    "    def c_method(self):\n",
    "        print(\"This is from Child Class method\")\n",
    "        \n",
    "        for i in range(1,11):\n",
    "            print(12,\"*\",i,\"==\",12*i)\n",
    "            \n",
    "class gchild(child):\n",
    "    \n",
    "    def __init__(self):\n",
    "        \n",
    "        print(\"This is from gchild Class Constructor\")\n",
    "        super().__init__()\n",
    "        \n",
    "    def g_method(self):\n",
    "        print(\"This is from Grand Child Class method\")\n",
    "        \n",
    "        for i in range(1,11):\n",
    "            print(15,\"*\",i,\"==\",15*i)\n",
    "            \n",
    "gchild()"
   ]
  },
  {
   "cell_type": "markdown",
   "id": "e2b03b55",
   "metadata": {},
   "source": [
    "### 3. Hierarchical Inheritance"
   ]
  },
  {
   "cell_type": "code",
   "execution_count": 10,
   "id": "ad2620b0",
   "metadata": {},
   "outputs": [
    {
     "name": "stdout",
     "output_type": "stream",
     "text": [
      "This is Child Class Method\n",
      "This is Parent Class Method\n",
      "______________________________________________\n",
      "This is Child2 Class Method\n",
      "This is Parent Class Method\n"
     ]
    }
   ],
   "source": [
    "class parent:\n",
    "    def pmethod(self):\n",
    "        print(\"This is Parent Class Method\")\n",
    "        \n",
    "class child1(parent):\n",
    "    def cmethod1(self):\n",
    "        print(\"This is Child Class Method\")\n",
    "\n",
    "class child2(parent):\n",
    "    def cmethod2(self):\n",
    "        print(\"This is Child2 Class Method\")\n",
    "        \n",
    "obj_c1=child1()\n",
    "obj_c1.cmethod1()\n",
    "obj_c1.pmethod()\n",
    "\n",
    "print(\"______________________________________________\")\n",
    "\n",
    "obj_c2=child2()\n",
    "obj_c2.cmethod2()\n",
    "obj_c2.pmethod()\n",
    "        \n"
   ]
  },
  {
   "cell_type": "markdown",
   "id": "a893e1f0",
   "metadata": {},
   "source": [
    "### 4. Multiple Inheritance:"
   ]
  },
  {
   "cell_type": "code",
   "execution_count": 14,
   "id": "0c05c4d2",
   "metadata": {},
   "outputs": [
    {
     "name": "stdout",
     "output_type": "stream",
     "text": [
      "This is Child Class Method\n",
      "This is Mother Class Method\n",
      "This is Father Class Method\n",
      "_________________________________________\n",
      "Father's gift-BIKE\n",
      "This is Child Mother Method\n",
      "Mother's gift-IPHONE\n"
     ]
    }
   ],
   "source": [
    "class father:\n",
    "    def fmethod(self):\n",
    "        print(\"This is Father Class Method\")\n",
    "        \n",
    "    def gift(self):\n",
    "        print(\"Father's gift-BIKE\")\n",
    "        \n",
    "class mother:\n",
    "    def mmethod(self):\n",
    "        print(\"This is Mother Class Method\")\n",
    "        \n",
    "    def gift(self):\n",
    "        print(\"Mother's gift-IPHONE\")\n",
    "\n",
    "class child(father,mother):\n",
    "    def cmethod(self):\n",
    "        print(\"This is Child Class Method\")\n",
    "    \n",
    "    def cmother(self):\n",
    "        print(\"This is Child Mother Method\")\n",
    "        mother.gift(self)\n",
    "        \n",
    "obj_c=child()\n",
    "obj_c.cmethod()\n",
    "obj_c.mmethod()\n",
    "obj_c.fmethod()\n",
    "\n",
    "print(\"_________________________________________\")\n",
    "\n",
    "obj_c.gift()\n",
    "obj_c.cmother()"
   ]
  },
  {
   "cell_type": "markdown",
   "id": "3eca27f0",
   "metadata": {},
   "source": [
    "### 5. Hybrid Inheritance"
   ]
  },
  {
   "cell_type": "markdown",
   "id": "c493a25f",
   "metadata": {},
   "source": [
    "### i. Multiple+Hierarchical"
   ]
  },
  {
   "cell_type": "code",
   "execution_count": 15,
   "id": "4db52fb0",
   "metadata": {},
   "outputs": [
    {
     "name": "stdout",
     "output_type": "stream",
     "text": [
      "This is Grand Child Class Method\n",
      "This is Child2 Class Method\n",
      "This is Child1 Class Method\n",
      "This is Parent Class Method\n"
     ]
    }
   ],
   "source": [
    "class parent:\n",
    "    def pmethod(self):\n",
    "        print(\"This is Parent Class Method\")\n",
    "        \n",
    "class child1(parent):\n",
    "    def cmethod1(self):\n",
    "        print(\"This is Child1 Class Method\")\n",
    "        \n",
    "class child2(parent):\n",
    "    def cmethod2(self):\n",
    "        print(\"This is Child2 Class Method\")\n",
    "        \n",
    "class gchild(child1,child2):\n",
    "    def gcmethod(self):\n",
    "        print(\"This is Grand Child Class Method\")\n",
    "        \n",
    "obj_gc=gchild()\n",
    "obj_gc.gcmethod()\n",
    "obj_gc.cmethod2()\n",
    "obj_gc.cmethod1()\n",
    "obj_gc.pmethod()"
   ]
  },
  {
   "cell_type": "code",
   "execution_count": 17,
   "id": "91b95ef5",
   "metadata": {},
   "outputs": [
    {
     "name": "stdout",
     "output_type": "stream",
     "text": [
      "Enter Name: Marker\n",
      "English Marks: 80\n",
      "Science Marks: 90\n",
      "Computer Marks: 98\n",
      "__________________________________________\n",
      "__________________________________________\n",
      "Marker\n",
      "80\n",
      "90\n",
      "98\n",
      "268\n",
      "89.33333333333333\n",
      "A\n",
      "__________________________________________\n"
     ]
    }
   ],
   "source": [
    "class student:\n",
    "    def std_info(self):\n",
    "        self.name=input(\"Enter Name: \")\n",
    "        self.eng=int(input(\"English Marks: \"))\n",
    "        self.sci=int(input(\"Science Marks: \"))\n",
    "        self.comp=int(input(\"Computer Marks: \"))\n",
    "        \n",
    "    def std_calc(self):\n",
    "        self.total= self.eng+self.sci+self.comp\n",
    "        self.avg=self.total/3\n",
    "        self.grd= \"A\" if self.avg >=80 else(\"B\" if self.avg >= 70 else \"C\")\n",
    "        \n",
    "    def display(self):\n",
    "        print(self.name)\n",
    "        print(self.eng)\n",
    "        print(self.sci)\n",
    "        print(self.comp)\n",
    "        print(self.total)\n",
    "        print(self.avg)\n",
    "        print(self.grd)\n",
    "        \n",
    "obj_d=student()\n",
    "obj_d.std_info()\n",
    "print(\"__________________________________________\")\n",
    "obj_d.std_calc()\n",
    "print(\"__________________________________________\")\n",
    "obj_d.display()\n",
    "print(\"__________________________________________\")"
   ]
  },
  {
   "cell_type": "code",
   "execution_count": null,
   "id": "f1cdd44b",
   "metadata": {},
   "outputs": [],
   "source": []
  }
 ],
 "metadata": {
  "kernelspec": {
   "display_name": "Python 3 (ipykernel)",
   "language": "python",
   "name": "python3"
  },
  "language_info": {
   "codemirror_mode": {
    "name": "ipython",
    "version": 3
   },
   "file_extension": ".py",
   "mimetype": "text/x-python",
   "name": "python",
   "nbconvert_exporter": "python",
   "pygments_lexer": "ipython3",
   "version": "3.9.13"
  }
 },
 "nbformat": 4,
 "nbformat_minor": 5
}
