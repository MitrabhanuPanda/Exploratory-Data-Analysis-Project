{
 "cells": [
  {
   "cell_type": "markdown",
   "id": "96cebf53",
   "metadata": {},
   "source": [
    "### Types of Methods\n",
    "    Instance:\n",
    "        •\tThis is default method.\n",
    "        •\tA method with “self” as default argument as considered as instance method.\n",
    "        Accessibility:\n",
    "            o\tThese methods can be accessed within the class and from outside the class.\n",
    "            Within Class:\n",
    "                •\tIt is accessed using “self” keyword.\n",
    "                        Self.<methodname>()\n",
    "            Outside Class:\n",
    "                •\tIt can be accessed using object.\n",
    "                        Obj.<methodname>()\n",
    "        •\tAll the variables are accessible.\n",
    "    Class:\n",
    "        •\tA method with “cls” as default argument is considered as class method.\n",
    "        •\tThese class methods are defined using decorator/ annotation @Classmethod.\n",
    "            Accessibility:\n",
    "                Outside Class:\n",
    "                    o\tThese methods are accessed using two ways,\n",
    "                    o\t<classname>.<methodname>()\n",
    "                    o\t<obj>.<methodname>()\n",
    "    Variables:\n",
    "        •\tLocal variables\n",
    "        •\tStatic Variables\n",
    "            <classname>.<staticvariable>\n",
    "            Cls.staticvariable\n",
    "        •\tInstance variables cannot be accessed.\n",
    "    Static:\n",
    "        •\tA method with no default arguments is called as \n",
    "        •\tThese static methods are defined using decorator/annotation @staticmethod\n",
    "        Accessibility:\n",
    "            Outside class:\n",
    "                These methods are accessed using tow ways:\n",
    "                    <classname>.<methodname>()\n",
    "                    <obj>.<methodname>()\n",
    " \n",
    "\n",
    "    Constructor:\n",
    "        •\tA method which can be executed without explicitly calling.\n",
    "        •\tConstructor is a special type of method which is executed whenever an object is created.\n",
    "        •\tThese constructors are used to initialize the variables with values.\n",
    "        •\tName of constructor is : __init__()\n",
    "        •\tConstructor comes under the Instance Method category, i.e. default argument is self.\n",
    "        •\tAny number of constructor can be defined within a class but only one is executed i.e. latest one.\n",
    "        •\tThese constructor is of 2 types,\n",
    "           Default Constructor\n",
    "            o\tA constructor without any arguments.\n",
    "           Parameterized Constructor\n",
    "            o\tA constructor with arguments.\n",
    "\n",
    "        Syntax:\n",
    "            Def __init__(self):\n",
    "                ------------------------\n",
    "                -------------------------\n",
    "                ------------------------\n",
    "\n",
    "    Nested Class:\n"
   ]
  },
  {
   "cell_type": "code",
   "execution_count": null,
   "id": "abe198c9",
   "metadata": {},
   "outputs": [],
   "source": []
  },
  {
   "cell_type": "markdown",
   "id": "7f380dcb",
   "metadata": {},
   "source": [
    "### Types of Methods"
   ]
  },
  {
   "cell_type": "markdown",
   "id": "8828f16e",
   "metadata": {},
   "source": [
    "### Instance Method"
   ]
  },
  {
   "cell_type": "code",
   "execution_count": 1,
   "id": "e9d94cca",
   "metadata": {},
   "outputs": [
    {
     "name": "stdout",
     "output_type": "stream",
     "text": [
      "This is an Instance Method\n"
     ]
    }
   ],
   "source": [
    "class myclass:\n",
    "    def m_add(self):\n",
    "        print(\"This is an Instance Method\")\n",
    "        \n",
    "obj=myclass()\n",
    "obj.m_add()"
   ]
  },
  {
   "cell_type": "markdown",
   "id": "f0cc5cdb",
   "metadata": {},
   "source": [
    "### Class & Static Method"
   ]
  },
  {
   "cell_type": "code",
   "execution_count": 22,
   "id": "898faf9f",
   "metadata": {},
   "outputs": [
    {
     "name": "stdout",
     "output_type": "stream",
     "text": [
      "This is an Instance Method\n",
      "\n",
      "This is from CLASS METHOD\n",
      "\n",
      "This is from CLASS METHOD\n",
      "\n",
      "This is from Static Method\n",
      "\n",
      "This is from Static Method\n"
     ]
    }
   ],
   "source": [
    "class myclass:\n",
    "    def greet(self):\n",
    "        print(\"This is an Instance Method\")\n",
    "        \n",
    "    @classmethod\n",
    "    def method1(cls):\n",
    "        print(\"This is from CLASS METHOD\")\n",
    "        \n",
    "    @staticmethod\n",
    "    def method2():\n",
    "        print(\"This is from Static Method\")\n",
    "        \n",
    "        \n",
    "obj=myclass()\n",
    "obj.greet()\n",
    "print()\n",
    "obj.method1()\n",
    "print()\n",
    "myclass.method1()\n",
    "print()\n",
    "obj.method2()\n",
    "print()\n",
    "myclass.method2()\n"
   ]
  },
  {
   "cell_type": "code",
   "execution_count": 6,
   "id": "00218db7",
   "metadata": {},
   "outputs": [
    {
     "name": "stdout",
     "output_type": "stream",
     "text": [
      "100\n",
      "200\n",
      "300\n"
     ]
    }
   ],
   "source": [
    "class skyclass:\n",
    "    city=\"HYDRABAD\"\n",
    "    \n",
    "    def m1(self):\n",
    "        self.num1=100\n",
    "        self.num2=200\n",
    "        \n",
    "        a=self.num1+self.num2\n",
    "        \n",
    "        print(self.num1)\n",
    "        print(self.num2)\n",
    "        print(a)\n",
    "        \n",
    "obj1=skyclass()\n",
    "obj1.m1()"
   ]
  },
  {
   "cell_type": "code",
   "execution_count": 12,
   "id": "8c60d925",
   "metadata": {},
   "outputs": [
    {
     "name": "stdout",
     "output_type": "stream",
     "text": [
      "400\n",
      "500\n",
      "900\n",
      "HYDRABAD\n"
     ]
    }
   ],
   "source": [
    "class skyclass:\n",
    "    city=\"HYDRABAD\"\n",
    "    \n",
    "    def m1(self,n1,n2):\n",
    "        self.num1=n1\n",
    "        self.num2=n2\n",
    "        \n",
    "        a=self.num1+self.num2\n",
    "        \n",
    "        print(self.num1)\n",
    "        print(self.num2)\n",
    "        print(a)\n",
    "        print(skyclass.city)\n",
    "        \n",
    "obj1=skyclass()\n",
    "obj1.m1(400,500)"
   ]
  },
  {
   "cell_type": "code",
   "execution_count": 20,
   "id": "93204b09",
   "metadata": {},
   "outputs": [
    {
     "name": "stdout",
     "output_type": "stream",
     "text": [
      "400\n",
      "500\n",
      "900\n",
      "HYDRABAD\n",
      "***********************************\n",
      "***********************************\n",
      "This is from Class Method\n",
      "300\n",
      "HYDRABAD\n",
      "---------------------------------------\n",
      "HYDRABAD\n",
      "**************************\n",
      "This is from Class Method\n",
      "300\n",
      "HYDRABAD\n",
      "---------------------------------------\n",
      "HYDRABAD\n",
      "This is from Static Method\n",
      "140\n",
      "HYDRABAD\n",
      "*****************************\n",
      "This is from Static Method\n",
      "140\n",
      "HYDRABAD\n"
     ]
    }
   ],
   "source": [
    "class skyclass:\n",
    "    city=\"HYDRABAD\"\n",
    "    \n",
    "    def m1(self,n1,n2):\n",
    "        self.num1=n1\n",
    "        self.num2=n2\n",
    "        \n",
    "        a=self.num1+self.num2\n",
    "        \n",
    "        print(self.num1)\n",
    "        print(self.num2)\n",
    "        print(a)\n",
    "        print(skyclass.city)\n",
    "        print(\"***********************************\")\n",
    "        \n",
    "    @classmethod\n",
    "    def cmethod(cls):\n",
    "        print(\"This is from Class Method\")\n",
    "        n1=100\n",
    "        n2=200\n",
    "        m=n1+n2\n",
    "        print(m)\n",
    "        print(skyclass.city)\n",
    "        print(\"---------------------------------------\")\n",
    "        print(cls.city)\n",
    "        \n",
    "        \n",
    "    @staticmethod\n",
    "    def smethod():\n",
    "        print(\"This is from Static Method\")\n",
    "        x=50\n",
    "        y=90\n",
    "        b=x+y\n",
    "        print(b)\n",
    "        print(skyclass.city)\n",
    "        \n",
    "        \n",
    "        \n",
    "        \n",
    "obj1=skyclass()\n",
    "obj1.m1(400,500)\n",
    "print(\"***********************************\")\n",
    "obj1.cmethod()\n",
    "print(\"**************************\")\n",
    "skyclass.cmethod()\n",
    "\n",
    "obj1.smethod()\n",
    "print(\"*****************************\")\n",
    "skyclass.smethod()"
   ]
  },
  {
   "cell_type": "code",
   "execution_count": null,
   "id": "bf36396a",
   "metadata": {},
   "outputs": [],
   "source": []
  },
  {
   "cell_type": "markdown",
   "id": "e566ccb2",
   "metadata": {},
   "source": [
    "### Constructor"
   ]
  },
  {
   "cell_type": "code",
   "execution_count": 25,
   "id": "c3c44fe7",
   "metadata": {},
   "outputs": [
    {
     "name": "stdout",
     "output_type": "stream",
     "text": [
      "This is from Constructor of class ayclass\n",
      "This is from N1 Instance Method\n",
      "9 * 1 == 9\n",
      "9 * 2 == 18\n",
      "9 * 3 == 27\n",
      "9 * 4 == 36\n",
      "9 * 5 == 45\n",
      "9 * 6 == 54\n",
      "9 * 7 == 63\n",
      "9 * 8 == 72\n",
      "9 * 9 == 81\n",
      "9 * 10 == 90\n"
     ]
    },
    {
     "data": {
      "text/plain": [
       "<__main__.ayclass at 0x2a553f4d700>"
      ]
     },
     "execution_count": 25,
     "metadata": {},
     "output_type": "execute_result"
    }
   ],
   "source": [
    "class ayclass:\n",
    "    \n",
    "    def __init__(self):\n",
    "        print(\"This is from Constructor of class ayclass\")\n",
    "        self.n1()\n",
    "        \n",
    "        \n",
    "    def n1(self):\n",
    "        print(\"This is from N1 Instance Method\")\n",
    "        num=9\n",
    "        for i in range(1,11):\n",
    "            print(num,\"*\",i,\"==\",num*i)\n",
    "            \n",
    "            \n",
    "ayclass()\n"
   ]
  },
  {
   "cell_type": "markdown",
   "id": "aa16b03d",
   "metadata": {},
   "source": [
    "### Parameterized Constructor"
   ]
  },
  {
   "cell_type": "code",
   "execution_count": 29,
   "id": "449fe267",
   "metadata": {},
   "outputs": [
    {
     "name": "stdout",
     "output_type": "stream",
     "text": [
      "This is from Constructor of class ayclass\n",
      "This is from N1 Instance Method\n",
      "10 * 1 == 10\n",
      "10 * 2 == 20\n",
      "10 * 3 == 30\n",
      "10 * 4 == 40\n",
      "10 * 5 == 50\n",
      "10 * 6 == 60\n",
      "10 * 7 == 70\n",
      "10 * 8 == 80\n",
      "10 * 9 == 90\n",
      "10 * 10 == 100\n"
     ]
    },
    {
     "data": {
      "text/plain": [
       "<__main__.byclass at 0x2a553f5f430>"
      ]
     },
     "execution_count": 29,
     "metadata": {},
     "output_type": "execute_result"
    }
   ],
   "source": [
    "class byclass:\n",
    "    \n",
    "    def __init__(self,z):\n",
    "        print(\"This is from Constructor of class ayclass\")\n",
    "        self.n2(z)\n",
    "        \n",
    "        \n",
    "    def n2(self,num):\n",
    "        print(\"This is from N1 Instance Method\")\n",
    "        \n",
    "        for i in range(1,11):\n",
    "            print(num,\"*\",i,\"==\",num*i)\n",
    "            \n",
    "            \n",
    "byclass(10)"
   ]
  },
  {
   "cell_type": "code",
   "execution_count": 31,
   "id": "1d674907",
   "metadata": {},
   "outputs": [
    {
     "name": "stdout",
     "output_type": "stream",
     "text": [
      "This is from Constructor of class ayclass\n",
      "This is from N1 Instance Method\n",
      "12 * 1 == 12\n",
      "12 * 2 == 24\n",
      "12 * 3 == 36\n",
      "12 * 4 == 48\n",
      "12 * 5 == 60\n",
      "12 * 6 == 72\n",
      "12 * 7 == 84\n",
      "12 * 8 == 96\n",
      "12 * 9 == 108\n",
      "12 * 10 == 120\n"
     ]
    },
    {
     "data": {
      "text/plain": [
       "<__main__.byclass at 0x2a553e541f0>"
      ]
     },
     "execution_count": 31,
     "metadata": {},
     "output_type": "execute_result"
    }
   ],
   "source": [
    "class byclass:\n",
    "    \n",
    "    def __init__(self,z):\n",
    "        print(\"This is from Constructor of class ayclass\")\n",
    "        self.num=z # The instance Varible \"self.num\" is not same as z so we assign it.\n",
    "        self.n2(z)\n",
    "        \n",
    "        \n",
    "    def n2(self,num):\n",
    "        print(\"This is from N1 Instance Method\")\n",
    "        \n",
    "        for i in range(1,11):\n",
    "            print(self.num,\"*\",i,\"==\",self.num*i)\n",
    "            \n",
    "            \n",
    "byclass(12)"
   ]
  },
  {
   "cell_type": "code",
   "execution_count": null,
   "id": "690743ad",
   "metadata": {},
   "outputs": [],
   "source": []
  },
  {
   "cell_type": "code",
   "execution_count": 33,
   "id": "c0aca9fd",
   "metadata": {},
   "outputs": [
    {
     "name": "stdout",
     "output_type": "stream",
     "text": [
      "This is a Constructor\n",
      "\n",
      "This is a Constructor\n"
     ]
    }
   ],
   "source": [
    "class vclass:\n",
    "    \n",
    "    def __init__(self):\n",
    "        print(\"This is a Constructor\")\n",
    "        \n",
    "obj=vclass()\n",
    "print()\n",
    "obj.__init__()"
   ]
  },
  {
   "cell_type": "code",
   "execution_count": 38,
   "id": "8590c7d9",
   "metadata": {},
   "outputs": [
    {
     "name": "stdout",
     "output_type": "stream",
     "text": [
      "This is a parameterized constructor\n",
      "30\n"
     ]
    }
   ],
   "source": [
    "class zclass:                        # Latest one will be executed.\n",
    "    \n",
    "    def __init__(self):\n",
    "        print(\"This is a Constructor\")\n",
    "        \n",
    "    def __init__(self,u):\n",
    "        print(\"This is a parameterized constructor\")\n",
    "        res=u*u\n",
    "        print(res)\n",
    "        \n",
    "    def __init__(self,a,b):\n",
    "        print(\"This is a parameterized constructor\")\n",
    "        res=a*b\n",
    "        print(res)\n",
    "        \n",
    "        \n",
    "obj=zclass(5,6)"
   ]
  },
  {
   "cell_type": "code",
   "execution_count": null,
   "id": "7e1e9ba5",
   "metadata": {},
   "outputs": [],
   "source": []
  },
  {
   "cell_type": "markdown",
   "id": "08f61f21",
   "metadata": {},
   "source": [
    "### Nested Class"
   ]
  },
  {
   "cell_type": "code",
   "execution_count": 39,
   "id": "261fa78d",
   "metadata": {},
   "outputs": [
    {
     "name": "stdout",
     "output_type": "stream",
     "text": [
      "INDIA\n",
      "This is from Parent Class Method 1\n"
     ]
    }
   ],
   "source": [
    "class parent:\n",
    "    country=\"INDIA\"\n",
    "    \n",
    "    def pa1(self):\n",
    "        print(\"This is from Parent Class Method 1\")\n",
    "        \n",
    "    class child:\n",
    "        state=\"ODISHA\"\n",
    "        \n",
    "        def c1(self):\n",
    "            print(\"This is from Child Class Method 1\")\n",
    "            \n",
    "obj_p=parent()\n",
    "print(obj_p.country)\n",
    "obj_p.pa1()\n",
    "\n"
   ]
  },
  {
   "cell_type": "code",
   "execution_count": 47,
   "id": "f1b6c9ab",
   "metadata": {},
   "outputs": [
    {
     "name": "stdout",
     "output_type": "stream",
     "text": [
      "INDIA\n",
      "This is from Parent Class Method 1\n",
      "ODISHA\n"
     ]
    },
    {
     "data": {
      "text/plain": [
       "<bound method parent.child.c1 of <__main__.parent.child object at 0x000002A553F5F8E0>>"
      ]
     },
     "execution_count": 47,
     "metadata": {},
     "output_type": "execute_result"
    }
   ],
   "source": [
    "class parent:\n",
    "    country=\"INDIA\"\n",
    "    \n",
    "    def pa1(self):\n",
    "        print(\"This is from Parent Class Method 1\")\n",
    "        \n",
    "    class child:\n",
    "        state=\"ODISHA\"\n",
    "        \n",
    "        def c1(self):\n",
    "            print(\"This is from Child Class Method \")\n",
    "            \n",
    "obj_p=parent()\n",
    "print(obj_p.country)\n",
    "obj_p.pa1()\n",
    "\n",
    "obj_c=obj_p.child()\n",
    "print(obj_c.state)\n",
    "obj_c.c1"
   ]
  },
  {
   "cell_type": "code",
   "execution_count": 46,
   "id": "772bdaea",
   "metadata": {},
   "outputs": [
    {
     "name": "stdout",
     "output_type": "stream",
     "text": [
      "INDIA\n",
      "This is from Parent Class Method 1\n",
      "State:  ODISHA\n",
      "This is from Child Class Method \n"
     ]
    }
   ],
   "source": [
    "class parent:\n",
    "    country=\"INDIA\"\n",
    "    \n",
    "    def pa1(self):\n",
    "        print(\"This is from Parent Class Method 1\")\n",
    "        \n",
    "        obj_c= self.child()\n",
    "        print(\"State: \",obj_c.state)  \n",
    "        obj_c.c1()\n",
    "    \n",
    "    class child:\n",
    "        state=\"ODISHA\"\n",
    "        \n",
    "        def c1(self):\n",
    "            print(\"This is from Child Class Method \")\n",
    "            \n",
    "obj_p=parent()\n",
    "print(obj_p.country)\n",
    "obj_p.pa1()\n",
    "\n"
   ]
  },
  {
   "cell_type": "code",
   "execution_count": null,
   "id": "d9daaa4e",
   "metadata": {},
   "outputs": [],
   "source": []
  }
 ],
 "metadata": {
  "kernelspec": {
   "display_name": "Python 3 (ipykernel)",
   "language": "python",
   "name": "python3"
  },
  "language_info": {
   "codemirror_mode": {
    "name": "ipython",
    "version": 3
   },
   "file_extension": ".py",
   "mimetype": "text/x-python",
   "name": "python",
   "nbconvert_exporter": "python",
   "pygments_lexer": "ipython3",
   "version": "3.9.13"
  }
 },
 "nbformat": 4,
 "nbformat_minor": 5
}
