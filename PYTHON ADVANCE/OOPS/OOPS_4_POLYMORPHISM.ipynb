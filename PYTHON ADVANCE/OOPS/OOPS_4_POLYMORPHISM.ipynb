{
 "cells": [
  {
   "cell_type": "markdown",
   "id": "d6555432",
   "metadata": {},
   "source": [
    "### POLYMORPHISM    \n",
    "    Poly--> Many\n",
    "    Morphism--> Forms\n",
    "\n",
    "    •\tAn object which has many forms is called as Polymorphism.\n",
    "    •\tAn object which behaves differently based on situation is called Polymorphism.\n",
    "\n",
    "## Implementation of Polymorphism:\n",
    "### Overloading(Same Class)\n",
    "    •\tObject behaves differently based on situation within the same class.\n",
    "        o\tVariable Overloading\n",
    "        o\tOperator Overloading\n",
    "        o\tMethod Overloading\n",
    "        o\tConstructor Overloading\n",
    "        o\tMO & CO is not supported by Python.\n",
    "    \tVARIABLE-LENGTH ARGUMENT\n",
    "\n",
    "### Overriding(Multiple Class)\n",
    "    •\tObject behaves differently based on situation within multiple class.\n",
    "        o\tVariable Overriding\n",
    "        o\tMethod Overriding\n",
    "        o\tConstructor Overriding\n"
   ]
  },
  {
   "cell_type": "code",
   "execution_count": null,
   "id": "365ee0a9",
   "metadata": {},
   "outputs": [],
   "source": []
  },
  {
   "cell_type": "markdown",
   "id": "6a1355da",
   "metadata": {},
   "source": [
    "### OverLoading"
   ]
  },
  {
   "cell_type": "markdown",
   "id": "654d622d",
   "metadata": {},
   "source": [
    "### Variable Overloading"
   ]
  },
  {
   "cell_type": "code",
   "execution_count": 1,
   "id": "d0253a36",
   "metadata": {},
   "outputs": [
    {
     "name": "stdout",
     "output_type": "stream",
     "text": [
      "Delhi\n"
     ]
    }
   ],
   "source": [
    "class sky:\n",
    "    c=\"Delhi\"\n",
    "    \n",
    "    def m1(self):\n",
    "        print(sky.c)\n",
    "        \n",
    "obj=sky()\n",
    "obj.m1()"
   ]
  },
  {
   "cell_type": "code",
   "execution_count": 2,
   "id": "4295a616",
   "metadata": {},
   "outputs": [
    {
     "name": "stdout",
     "output_type": "stream",
     "text": [
      "9\n"
     ]
    }
   ],
   "source": [
    "class sky:\n",
    "    c=\"Delhi\"\n",
    "    \n",
    "    def m1(self):\n",
    "        c=9\n",
    "        print(c)\n",
    "        \n",
    "obj=sky()\n",
    "obj.m1()"
   ]
  },
  {
   "cell_type": "code",
   "execution_count": 3,
   "id": "ba3bd084",
   "metadata": {},
   "outputs": [
    {
     "name": "stdout",
     "output_type": "stream",
     "text": [
      "9\n",
      "21.98\n"
     ]
    }
   ],
   "source": [
    "class sky:\n",
    "    c=\"Delhi\"\n",
    "    \n",
    "    def m1(self):\n",
    "        c=9\n",
    "        print(c)\n",
    "        \n",
    "    def m2(self):\n",
    "        c=21.98\n",
    "        print(c)\n",
    "    \n",
    "        \n",
    "obj=sky()\n",
    "obj.m1()\n",
    "obj.m2()"
   ]
  },
  {
   "cell_type": "markdown",
   "id": "13ab2341",
   "metadata": {},
   "source": [
    "### 1.Operator Overloading"
   ]
  },
  {
   "cell_type": "code",
   "execution_count": 9,
   "id": "77a83d88",
   "metadata": {},
   "outputs": [
    {
     "name": "stdout",
     "output_type": "stream",
     "text": [
      "50\n",
      "Apple is Red\n"
     ]
    }
   ],
   "source": [
    "class sk:\n",
    "    def plus(self,n1,n2):\n",
    "        res=n1+n2\n",
    "        print(res)\n",
    "        \n",
    "obj1=sk()\n",
    "obj1.plus(20,30)\n",
    "obj1.plus(\"Apple\", \" is Red\")"
   ]
  },
  {
   "cell_type": "code",
   "execution_count": 14,
   "id": "02596ef4",
   "metadata": {},
   "outputs": [
    {
     "name": "stdout",
     "output_type": "stream",
     "text": [
      "600\n",
      "Apple Apple Apple Apple Apple \n"
     ]
    }
   ],
   "source": [
    "class sk:\n",
    "    def star(self,n1,n2):\n",
    "        res=n1*n2\n",
    "        print(res)\n",
    "        \n",
    "obj1=sk()\n",
    "obj1.star(20,30)\n",
    "obj1.star(\"Apple \",5)"
   ]
  },
  {
   "cell_type": "code",
   "execution_count": null,
   "id": "f0d202df",
   "metadata": {},
   "outputs": [],
   "source": []
  }
 ],
 "metadata": {
  "kernelspec": {
   "display_name": "Python 3 (ipykernel)",
   "language": "python",
   "name": "python3"
  },
  "language_info": {
   "codemirror_mode": {
    "name": "ipython",
    "version": 3
   },
   "file_extension": ".py",
   "mimetype": "text/x-python",
   "name": "python",
   "nbconvert_exporter": "python",
   "pygments_lexer": "ipython3",
   "version": "3.9.13"
  }
 },
 "nbformat": 4,
 "nbformat_minor": 5
}
