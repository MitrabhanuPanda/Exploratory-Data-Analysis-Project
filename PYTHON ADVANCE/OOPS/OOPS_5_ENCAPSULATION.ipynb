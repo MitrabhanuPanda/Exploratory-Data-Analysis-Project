{
 "cells": [
  {
   "cell_type": "markdown",
   "id": "c08d16da",
   "metadata": {},
   "source": [
    "# ENCAPSULATION:\n",
    "    •\tIt is data level security.\n",
    "    •\tIt is a process of restricting unauthorized user to access data from class.\n",
    "\n",
    "    \tAccess Specifier-->Implementation \n",
    "    •\tThis data level security is implemented using access specifier\n",
    "        o\tPublic\n",
    "            \tWithin the same class, outside the class, inherited class also.\n",
    "        o\tProtected\n",
    "            \tAn object Which is accessible inside the inherited class.\n",
    "        o\tPrivate\n",
    "            \tIt is accessible within the same class only.\n",
    "\n",
    "### According to Python \n",
    "\n",
    "    •\tPublic & Protected access anywhere:\n",
    "          o\tWithin the same class\n",
    "          o\tInherited class\n",
    "          o\tOutside the class(from main program)\n",
    "\n",
    "    •\tPrivate objects can be accessed within the same class only. It is strictly restricted from accessing from inherited class and outside the class.\n",
    "\n",
    "    Public Variable-->  city=”Hydrabad”\n",
    "    Protected Variable--> _city=”Delhi”\n",
    "    Private Variable-->  __city=”New York”\n",
    "\n",
    "### Access Specifier in Python can be implemented\n",
    "    •\tVariable Level\n",
    "    •\tMethod Variable\n"
   ]
  },
  {
   "cell_type": "code",
   "execution_count": null,
   "id": "1b3ccb9e",
   "metadata": {},
   "outputs": [],
   "source": []
  },
  {
   "cell_type": "code",
   "execution_count": 1,
   "id": "9b5af247",
   "metadata": {},
   "outputs": [
    {
     "name": "stdout",
     "output_type": "stream",
     "text": [
      "This is from m1 method of encap class\n",
      "New York\n"
     ]
    }
   ],
   "source": [
    "class encap:\n",
    "    city=\"New York\"     # Static Variable-Public\n",
    "    \n",
    "    def m1(self):\n",
    "        print(\"This is from m1 method of encap class\")\n",
    "        print(encap.city)\n",
    "        \n",
    "\n",
    "    \n",
    "        \n",
    "obj=encap()\n",
    "obj.m1()\n",
    "    "
   ]
  },
  {
   "cell_type": "code",
   "execution_count": 12,
   "id": "28031105",
   "metadata": {},
   "outputs": [
    {
     "name": "stdout",
     "output_type": "stream",
     "text": [
      "This is Main Program\n",
      "Using Parent Object:  New York\n",
      "Using the class name:  New York\n",
      "_____________________________________________\n",
      "This is Child Program\n",
      "Using Child Object:  New York\n",
      "Using Child Class Name:  New York\n"
     ]
    }
   ],
   "source": [
    "class encap:\n",
    "    city=\"New York\"\n",
    "    \n",
    "    def m1(self):\n",
    "        print(\"This is from m1 method of encap class\")\n",
    "        print(encap.city)\n",
    "        \n",
    "class child(encap):\n",
    "    def c1(self):\n",
    "        print(\"This is from c1 method of child class\")\n",
    "        print(child.city)\n",
    "        print()\n",
    "        print(encap.city)\n",
    "        \n",
    "    \n",
    "\n",
    "        \n",
    "    \n",
    "obj_p=encap()\n",
    "print(\"This is Main Program\")\n",
    "print(\"Using Parent Object: \",obj_p.city)\n",
    "print(\"Using the class name: \",encap.city)\n",
    "print(\"_____________________________________________\")  \n",
    "\n",
    "  \n",
    "obj_c=child()\n",
    "print(\"This is Child Program\")\n",
    "print(\"Using Child Object: \",obj_c.city)\n",
    "print(\"Using Child Class Name: \",child.city)"
   ]
  },
  {
   "cell_type": "code",
   "execution_count": null,
   "id": "0bc398f6",
   "metadata": {},
   "outputs": [],
   "source": []
  }
 ],
 "metadata": {
  "kernelspec": {
   "display_name": "Python 3 (ipykernel)",
   "language": "python",
   "name": "python3"
  },
  "language_info": {
   "codemirror_mode": {
    "name": "ipython",
    "version": 3
   },
   "file_extension": ".py",
   "mimetype": "text/x-python",
   "name": "python",
   "nbconvert_exporter": "python",
   "pygments_lexer": "ipython3",
   "version": "3.9.13"
  }
 },
 "nbformat": 4,
 "nbformat_minor": 5
}
