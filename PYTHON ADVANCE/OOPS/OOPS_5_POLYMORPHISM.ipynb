{
 "cells": [
  {
   "cell_type": "markdown",
   "id": "98c21db3",
   "metadata": {},
   "source": [
    "### METHOD OVERLOADING & CONSTRUCTOR OVERLOADING:\n",
    "    •\tWithin the same class.\n",
    "    •\tMultiple Methods with Same Name\n",
    "    •\tMethods with Different Signature(Different Arguments)\n",
    "    •\tMethods with Different implementation(Logics)\n",
    "    \n",
    "    \n",
    "## OVERRIDING:\n",
    "### METHOD OVERRIDING & CONSTRUCTOR OVERRIDING:\n",
    "    •\tAcross multiple inheritated class\n",
    "    •\tMultiple methods with same name(Across Class)\n",
    "    •\tMethods with Same Signatures\n",
    "    •\tDifferent Implementation\n",
    "\n"
   ]
  },
  {
   "cell_type": "code",
   "execution_count": null,
   "id": "066c5112",
   "metadata": {},
   "outputs": [],
   "source": []
  },
  {
   "cell_type": "markdown",
   "id": "936865a3",
   "metadata": {},
   "source": [
    "### Method Overloading"
   ]
  },
  {
   "cell_type": "code",
   "execution_count": 2,
   "id": "05b4f6e5",
   "metadata": {},
   "outputs": [
    {
     "name": "stdout",
     "output_type": "stream",
     "text": [
      "This is from sky method with three Argument\n",
      "100\n"
     ]
    }
   ],
   "source": [
    "class polyclass:\n",
    "    def sky(self,a):\n",
    "        print(\"This is from Sky Method with One Argument\")\n",
    "        \n",
    "        res=a**3\n",
    "        print(a)\n",
    "    def sky(self,m,n):\n",
    "        print(\"This is from sky method with Two Argument\")\n",
    "        \n",
    "        res1=m+n\n",
    "        print(res1)\n",
    "    def sky(self,x,y,z):\n",
    "        print(\"This is from sky method with three Argument\")\n",
    "        \n",
    "        res2=x+y+x\n",
    "        print(res2)\n",
    "        \n",
    "obj=polyclass()\n",
    "# obj.sky(3)\n",
    "# print(\"_____________________\")\n",
    "# obj.sky(10,20)\n",
    "# print(\"______________________\")\n",
    "obj.sky(30,40,50)\n"
   ]
  },
  {
   "cell_type": "markdown",
   "id": "a07904ce",
   "metadata": {},
   "source": [
    "### Alternate of Method Overloading"
   ]
  },
  {
   "cell_type": "code",
   "execution_count": 6,
   "id": "45fb4dd9",
   "metadata": {},
   "outputs": [
    {
     "name": "stdout",
     "output_type": "stream",
     "text": [
      "This is from sky method of poly class\n",
      "(5,)\n",
      "This is from sky method of poly class\n",
      "(6, 7, 8)\n"
     ]
    }
   ],
   "source": [
    "class poly:\n",
    "    def sk(self,*args):\n",
    "        print(\"This is from sky method of poly class\")\n",
    "        print(args)\n",
    "        \n",
    "obj1=poly()\n",
    "obj1.sk(5)\n",
    "obj1.sk(6,7,8)"
   ]
  },
  {
   "cell_type": "code",
   "execution_count": 11,
   "id": "63a6a922",
   "metadata": {},
   "outputs": [
    {
     "name": "stdout",
     "output_type": "stream",
     "text": [
      "This is from sky method of poly class\n",
      "(5,)\n",
      "125\n",
      "_____________________\n",
      "This is from sky method of poly class\n",
      "(6, 7, 8)\n",
      "21\n",
      "_____________________\n",
      "This is from sky method of poly class\n",
      "(10, 20)\n",
      "200\n",
      "_____________________\n",
      "This is from sky method of poly class\n",
      "(2, 3, 4, 5)\n",
      "14\n"
     ]
    }
   ],
   "source": [
    "class poly:\n",
    "    def sk(self,*args):\n",
    "        print(\"This is from sky method of poly class\")\n",
    "        print(args)\n",
    "        if len(args)==1:\n",
    "            res=args[0]**3\n",
    "            print(res)\n",
    "        elif len(args)==2:\n",
    "            res=args[0]*args[1]\n",
    "            print(res)\n",
    "        else:\n",
    "            s=0\n",
    "            for i in args:\n",
    "                s=s+i\n",
    "            print(s)\n",
    "        \n",
    "        \n",
    "obj1=poly()\n",
    "obj1.sk(5)\n",
    "print(\"_____________________\")\n",
    "obj1.sk(6,7,8)\n",
    "print(\"_____________________\")\n",
    "obj1.sk(10,20)\n",
    "print(\"_____________________\")\n",
    "obj1.sk(2,3,4,5)"
   ]
  },
  {
   "cell_type": "markdown",
   "id": "c4d28534",
   "metadata": {},
   "source": [
    "### Alternate of Constructor Overloading"
   ]
  },
  {
   "cell_type": "code",
   "execution_count": 14,
   "id": "3ca4d63d",
   "metadata": {},
   "outputs": [
    {
     "name": "stdout",
     "output_type": "stream",
     "text": [
      "This is from sky method of poly class\n",
      "(4, 5, 6, 7)\n",
      "22\n",
      "___________________\n",
      "This is from sky method of poly class\n",
      "(4,)\n",
      "64\n",
      "___________________\n",
      "This is from sky method of poly class\n",
      "(5, 6)\n",
      "30\n"
     ]
    },
    {
     "data": {
      "text/plain": [
       "<__main__.poly at 0x2399d150340>"
      ]
     },
     "execution_count": 14,
     "metadata": {},
     "output_type": "execute_result"
    }
   ],
   "source": [
    "class poly:\n",
    "    def __init__(self,*args):\n",
    "        print(\"This is from sky method of poly class\")\n",
    "        print(args)\n",
    "        if len(args)==1:\n",
    "            res=args[0]**3\n",
    "            print(res)\n",
    "        elif len(args)==2:\n",
    "            res=args[0]*args[1]\n",
    "            print(res)\n",
    "        else:\n",
    "            s=0\n",
    "            for i in args:\n",
    "                s=s+i\n",
    "            print(s)\n",
    "        \n",
    "        \n",
    "obj1=poly(4,5,6,7)\n",
    "print(\"___________________\")\n",
    "obj1=poly(4)\n",
    "print(\"___________________\")\n",
    "poly(5,6)"
   ]
  },
  {
   "cell_type": "markdown",
   "id": "f5324b29",
   "metadata": {},
   "source": [
    "# OverRiding"
   ]
  },
  {
   "cell_type": "markdown",
   "id": "50a64015",
   "metadata": {},
   "source": [
    "### Variable Overriding"
   ]
  },
  {
   "cell_type": "code",
   "execution_count": 20,
   "id": "0fd255a9",
   "metadata": {},
   "outputs": [
    {
     "name": "stdout",
     "output_type": "stream",
     "text": [
      "This is from the cmethod of child class\n",
      "\n",
      "This is from the Sky Method of Poly Class\n",
      "\n",
      "New York\n",
      "\n",
      "200\n",
      "\n",
      "200\n"
     ]
    }
   ],
   "source": [
    "class poly_ovr:\n",
    "    c=\"New York\"\n",
    "    def sky(self):\n",
    "        print(\"This is from the Sky Method of Poly Class\")\n",
    "        \n",
    "class child(poly_ovr):\n",
    "    c=200\n",
    "    def cmethod(self):\n",
    "        print(\"This is from the cmethod of child class\")\n",
    "        \n",
    "    \n",
    "obj4=child()\n",
    "obj4.cmethod()\n",
    "print()\n",
    "obj4.sky()\n",
    "print()\n",
    "print(poly_ovr.c)\n",
    "print()\n",
    "print(child.c)\n",
    "print()\n",
    "print(obj4.c)\n",
    "\n"
   ]
  },
  {
   "cell_type": "markdown",
   "id": "7fcafe31",
   "metadata": {},
   "source": [
    "### Method Overriding"
   ]
  },
  {
   "cell_type": "code",
   "execution_count": 26,
   "id": "44e95b4b",
   "metadata": {},
   "outputs": [
    {
     "name": "stdout",
     "output_type": "stream",
     "text": [
      "This is from the cmethod of child class\n"
     ]
    }
   ],
   "source": [
    "class poly_ovr:\n",
    "    c=\"New York\"\n",
    "    def sky(self):\n",
    "        print(\"This is from the Sky Method of Poly Class\")\n",
    "        \n",
    "class child(poly_ovr):\n",
    "    c=200\n",
    "    def sky(self):\n",
    "        print(\"This is from the cmethod of child class\")\n",
    "        \n",
    "obj5=child()\n",
    "obj5.sky()\n"
   ]
  },
  {
   "cell_type": "code",
   "execution_count": null,
   "id": "0f0f79a6",
   "metadata": {},
   "outputs": [],
   "source": [
    "class poly_ovr:\n",
    "    c=\"New York\"\n",
    "    def sky(self):\n",
    "        print(\"This is from the Sky Method of Poly Class\")\n",
    "        \n",
    "class child(poly_ovr):\n",
    "    c=200\n",
    "    def sky(self):\n",
    "        print(\"This is from the cmethod of child class\")\n",
    "        \n",
    "obj5=child()\n",
    "obj5.sky()"
   ]
  },
  {
   "cell_type": "markdown",
   "id": "2a9cb0ab",
   "metadata": {},
   "source": [
    "### Method Overriding With Arguments"
   ]
  },
  {
   "cell_type": "code",
   "execution_count": 27,
   "id": "d5c6624c",
   "metadata": {},
   "outputs": [
    {
     "name": "stdout",
     "output_type": "stream",
     "text": [
      "This is from the cmethod of child class\n",
      "200\n"
     ]
    }
   ],
   "source": [
    "class poly_ovr:\n",
    "\n",
    "    def sky(self,a,b):\n",
    "        print(\"This is from the Sky Method of Poly Class\")\n",
    "        res=a+b\n",
    "        print(res)\n",
    "        \n",
    "class child(poly_ovr):\n",
    "    \n",
    "    def sky(self,a,b):\n",
    "        print(\"This is from the cmethod of child class\")\n",
    "        res1=a*b\n",
    "        print(res1)\n",
    "        \n",
    "obj5=child()\n",
    "obj5.sky(10,20)"
   ]
  },
  {
   "cell_type": "markdown",
   "id": "fafbca82",
   "metadata": {},
   "source": [
    "### Method Overriding With Different Arguments"
   ]
  },
  {
   "cell_type": "code",
   "execution_count": 29,
   "id": "58eebbd7",
   "metadata": {},
   "outputs": [
    {
     "name": "stdout",
     "output_type": "stream",
     "text": [
      "This is from the cmethod of child class\n",
      "300\n"
     ]
    }
   ],
   "source": [
    "class poly_ovr:\n",
    "\n",
    "    def sky(self,a,b,c):\n",
    "        print(\"This is from the Sky Method of Poly Class\")\n",
    "        res=a+b+c\n",
    "        print(res)\n",
    "        \n",
    "class child(poly_ovr):\n",
    "    \n",
    "    def sky(self,a,b):\n",
    "        print(\"This is from the cmethod of child class\")\n",
    "        res1=a*b\n",
    "        print(res1)\n",
    "        \n",
    "obj5=child()\n",
    "obj5.sky(10,30)"
   ]
  },
  {
   "cell_type": "code",
   "execution_count": 31,
   "id": "32b3206e",
   "metadata": {},
   "outputs": [],
   "source": [
    "class poly_ovr:\n",
    "\n",
    "    def sky(self,a,b,c):\n",
    "        print(\"This is from the Sky Method of Poly Class\")\n",
    "        res=a+b+c\n",
    "        print(res)\n",
    "        \n",
    "class child(poly_ovr):\n",
    "    \n",
    "    def sky(self,a,b):\n",
    "        print(\"This is from the cmethod of child class\")\n",
    "        res1=a*b\n",
    "        print(res1)\n",
    "        \n",
    "obj5=child()\n",
    "# obj5.sky(10,30,40)  # It shows the error"
   ]
  },
  {
   "cell_type": "markdown",
   "id": "f95eb5aa",
   "metadata": {},
   "source": [
    "### Constructor Overriding"
   ]
  },
  {
   "cell_type": "code",
   "execution_count": 41,
   "id": "185c7180",
   "metadata": {},
   "outputs": [
    {
     "name": "stdout",
     "output_type": "stream",
     "text": [
      "This is from the cmethod of child class\n",
      "610.0\n"
     ]
    }
   ],
   "source": [
    "class parent:\n",
    "\n",
    "    def __init__(self,a,b):\n",
    "        print(\"This is from the Sky Method of Poly Class\")\n",
    "        res=a+b\n",
    "        print(res)\n",
    "        \n",
    "class child(parent):\n",
    "    \n",
    "    def __init__(self,a,b):\n",
    "        print(\"This is from the cmethod of child class\")\n",
    "        res1=a*b\n",
    "        print(res1)\n",
    "#         super().__init__(a,b)\n",
    "        \n",
    "obj_c1=child(20,30.50)"
   ]
  },
  {
   "cell_type": "code",
   "execution_count": null,
   "id": "0058a3d5",
   "metadata": {},
   "outputs": [],
   "source": []
  }
 ],
 "metadata": {
  "kernelspec": {
   "display_name": "Python 3 (ipykernel)",
   "language": "python",
   "name": "python3"
  },
  "language_info": {
   "codemirror_mode": {
    "name": "ipython",
    "version": 3
   },
   "file_extension": ".py",
   "mimetype": "text/x-python",
   "name": "python",
   "nbconvert_exporter": "python",
   "pygments_lexer": "ipython3",
   "version": "3.9.13"
  }
 },
 "nbformat": 4,
 "nbformat_minor": 5
}
