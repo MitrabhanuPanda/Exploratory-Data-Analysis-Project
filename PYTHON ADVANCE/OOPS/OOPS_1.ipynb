{
 "cells": [
  {
   "cell_type": "markdown",
   "id": "43810d15",
   "metadata": {},
   "source": [
    "### OOPS:\n",
    "    •\tOOPS--> Object Oriented Programming Structure\n",
    "    •\tOOPS is a paradigm (Style of writing the code)\n",
    "    o\tDart Mouth Conference--> 1956-1960\n",
    "        \t1956--> AI --> John Maccati\n",
    "        \t1957--> Perceptron\n",
    "        \t1959--> ML\n",
    "        \t1960--> Oops Alan Kay\n",
    "    •\tFirst language with OOPS -> SIMULA in 1996 Followed by SmallTalk in 1972\n",
    "\n",
    "### USE OF OOPS:\n",
    "    •\tReusability\n",
    "        o\tInheritance\n",
    "        o\tPolymorphism\n",
    "    •\tSecurity\n",
    "        o\tEncapsulation\n",
    "        o\tAbstraction\n",
    "### Four Major Concepts of Oops:\n",
    "    •\tInheritance\n",
    "    •\tPolymorphism\n",
    "    •\tEncapsulation\n",
    "    •\tAbstraction\n",
    "### Concepts of Oops:\n",
    "    •\tClass\n",
    "    •\tObject\n",
    "    •\tReference Variable\n",
    "    •\t“Self” Keyword\n",
    "    •\tTypes of Variables\n",
    "        o\tLocal\n",
    "        o\tInstance\n",
    "        o\tStatic\n",
    "    •\tTypes of Methods\n",
    "        o\tInstance\n",
    "        o\tClass\n",
    "        o\tStatic\n",
    "    •\tConstructor\n",
    "    •\t“Super” Keyword\n",
    "    •\tNested Class\n"
   ]
  },
  {
   "cell_type": "code",
   "execution_count": null,
   "id": "4cff5b8f",
   "metadata": {},
   "outputs": [],
   "source": []
  },
  {
   "cell_type": "markdown",
   "id": "f80397f5",
   "metadata": {},
   "source": [
    "### OOPS:\n",
    "    •\tOOPS--> Object Oriented Programming Structure\n",
    "    •\tOOPS is a paradigm (Style of writing the code)\n",
    "    •\tFirst language with OOPS -> SIMULA in 1996 Followed by SmallTalk in 1972\n",
    "\n",
    "### Class:\n",
    "    •\tIt is a structure which consists of member variables and member methods.\n",
    "        o\tVariables--> which refers to the memory location.\n",
    "        o\tMethods--> It’s a function within the class.\n",
    "    •\tIt’s not a real world entity.\n",
    "        o\tIt does not occupy memory.\n",
    "    •\tIt can be considered as prototype/template/Blue-print.\n",
    "    Syntax:\n",
    "        Class <classname>:\n",
    "            ---------------\n",
    "            ----------------\n",
    "            ----------------\n",
    "            ----------------\n",
    "\n",
    "### Object:\n",
    "    •\tInstance of the class.\n",
    "    •\tObject is a real world entity.\n",
    "        o\tObject occupy memory.\n",
    "    •\tFor each class we can derive “n” number of objects.\n",
    "    •\tObject is mandatory to access members of the class, without object we cannot access \n",
    "    Syntax:\n",
    "        <Classname>()\n",
    "\n",
    "### “SELF” KEYWORD:\n",
    "    It refers to current object.\n",
    "    \n",
    "### Types of Variables:\n",
    "\n",
    "    Local Variables:\n",
    "        •\tThese variables are declared and accessed within the same method of a particular class.\n",
    "    Instance Variables:\n",
    "        •\tThese variables are class level global variables, \n",
    "        •\tThese variables are declared within a method which can be accessed in any method of same class.\n",
    "        •\tInstance is prefixed with “self” keyword.\n",
    "                Self.name=”Arjun”(Instance Variable)\n",
    "        •\tInstance Variable can be accessed using “self” Keyword.\n",
    "                Print(self.name)\n",
    "    Static Variables:\n",
    "        •\tThese variables are considered as a Global Variable which can be accessed outside the class also.\n",
    "        •\tThese variable are declared outside all the method and inside the class.\n",
    "            Accessibility:\n",
    "                •\tThese variables are accessible within the method of same class using class name.\n",
    "                            City=”Hydrabad”\n",
    "                            Print(<classname>.city)  # Inside the method\n",
    "                •\tThese variables are accessible outside the class using class name or class object.\n",
    "                            <classname>.city  # Outside the method,, Using class\n",
    "                            Obj.city   # Using object\n",
    "\n"
   ]
  },
  {
   "cell_type": "code",
   "execution_count": null,
   "id": "35f86485",
   "metadata": {},
   "outputs": [],
   "source": []
  },
  {
   "cell_type": "markdown",
   "id": "6be0e2ea",
   "metadata": {},
   "source": [
    "### Class & Object"
   ]
  },
  {
   "cell_type": "code",
   "execution_count": 1,
   "id": "d93656de",
   "metadata": {},
   "outputs": [
    {
     "name": "stdout",
     "output_type": "stream",
     "text": [
      "Hydrabad\n",
      "Good Morning.. All\n"
     ]
    }
   ],
   "source": [
    "class myclass:\n",
    "    \n",
    "    city=\"Hydrabad\"\n",
    "    \n",
    "    def greet(self):\n",
    "        print(\"Good Morning.. All\")\n",
    "        \n",
    "obj1=myclass()\n",
    "print(obj1.city)\n",
    "obj1.greet()\n",
    "    "
   ]
  },
  {
   "cell_type": "markdown",
   "id": "f758fee1",
   "metadata": {},
   "source": [
    "### Multiple Variables & Methods"
   ]
  },
  {
   "cell_type": "code",
   "execution_count": 6,
   "id": "e936ca6d",
   "metadata": {},
   "outputs": [
    {
     "name": "stdout",
     "output_type": "stream",
     "text": [
      "India\n",
      "Odisha\n",
      "BBSR\n",
      "\n",
      "300\n",
      "\n",
      "2000\n"
     ]
    }
   ],
   "source": [
    "class oopsclass:\n",
    "    country=\"India\"\n",
    "    state=\"Odisha\"\n",
    "    city=\"BBSR\"\n",
    "    \n",
    "    def m_add(self):\n",
    "        num1=100\n",
    "        num2=200\n",
    "        \n",
    "        a=num1+num2\n",
    "        print(a)\n",
    "        \n",
    "    def m_mul(self):\n",
    "        n1=100\n",
    "        n2=20\n",
    "        \n",
    "        a1=n1*n2\n",
    "        print(a1)\n",
    "        \n",
    "obj2=oopsclass()\n",
    "print(obj2.country)\n",
    "print(obj2.state)\n",
    "print(obj2.city)\n",
    "print()\n",
    "obj2.m_add()\n",
    "print()\n",
    "obj2.m_mul()\n"
   ]
  },
  {
   "cell_type": "code",
   "execution_count": 9,
   "id": "a03671fb",
   "metadata": {},
   "outputs": [
    {
     "name": "stdout",
     "output_type": "stream",
     "text": [
      "300\n",
      "2000\n"
     ]
    }
   ],
   "source": [
    "class oopsclass:\n",
    "\n",
    "    \n",
    "    def m_add(self):\n",
    "        num1=100\n",
    "        num2=200\n",
    "        \n",
    "        a=num1+num2\n",
    "        print(a)\n",
    "        self.m_mul()\n",
    "        \n",
    "    def m_mul(self):\n",
    "        n1=100\n",
    "        n2=20\n",
    "        \n",
    "        a1=n1*n2\n",
    "        print(a1)\n",
    "        \n",
    "obj2=oopsclass()\n",
    "obj2.m_add()\n",
    "\n"
   ]
  },
  {
   "cell_type": "code",
   "execution_count": 14,
   "id": "00e818a6",
   "metadata": {},
   "outputs": [
    {
     "name": "stdout",
     "output_type": "stream",
     "text": [
      "300\n",
      "2000\n",
      "300\n",
      "2000\n"
     ]
    }
   ],
   "source": [
    "class oopsclass:\n",
    "\n",
    "    \n",
    "    def m_add(self):\n",
    "        num1=100\n",
    "        num2=200\n",
    "        \n",
    "        a=num1+num2\n",
    "        print(a)\n",
    "        \n",
    "        \n",
    "    def m_mul(self):\n",
    "        n1=100\n",
    "        n2=20\n",
    "        \n",
    "        a1=n1*n2\n",
    "        print(a1)\n",
    "        \n",
    "obj2=oopsclass()\n",
    "\n",
    "\n",
    "oopsclass().m_add()\n",
    "oopsclass().m_mul()\n",
    "\n",
    "oopsclass().m_add()\n",
    "oopsclass().m_mul()\n",
    "\n"
   ]
  },
  {
   "cell_type": "code",
   "execution_count": 15,
   "id": "5d0a3a8e",
   "metadata": {},
   "outputs": [
    {
     "name": "stdout",
     "output_type": "stream",
     "text": [
      "300\n",
      "2000\n",
      "\n",
      "300\n",
      "2000\n"
     ]
    }
   ],
   "source": [
    "class oopsclass:\n",
    "\n",
    "    \n",
    "    def m_add(self):\n",
    "        num1=100\n",
    "        num2=200\n",
    "        \n",
    "        a=num1+num2\n",
    "        print(a)\n",
    "        \n",
    "        \n",
    "    def m_mul(self):\n",
    "        n1=100\n",
    "        n2=20\n",
    "        \n",
    "        a1=n1*n2\n",
    "        print(a1)\n",
    "        \n",
    "obj2=oopsclass()\n",
    "obj2.m_add()\n",
    "obj2.m_mul()\n",
    "print()\n",
    "\n",
    "obj3=oopsclass()\n",
    "obj3.m_add()\n",
    "obj3.m_mul()"
   ]
  },
  {
   "cell_type": "markdown",
   "id": "76671167",
   "metadata": {},
   "source": [
    "### Types Of Variables"
   ]
  },
  {
   "cell_type": "markdown",
   "id": "2fbec98c",
   "metadata": {},
   "source": [
    "### Local Variables"
   ]
  },
  {
   "cell_type": "code",
   "execution_count": 35,
   "id": "329d869d",
   "metadata": {},
   "outputs": [
    {
     "name": "stdout",
     "output_type": "stream",
     "text": [
      "Employee input method\n",
      "Enter Employee Name: re\n",
      "Enter Employee Designation: pm\n",
      "Enter Employee Technology: c\n",
      "Display Method\n"
     ]
    },
    {
     "ename": "NameError",
     "evalue": "name 'name1' is not defined",
     "output_type": "error",
     "traceback": [
      "\u001b[1;31m---------------------------------------------------------------------------\u001b[0m",
      "\u001b[1;31mNameError\u001b[0m                                 Traceback (most recent call last)",
      "\u001b[1;32m~\\AppData\\Local\\Temp\\ipykernel_20272\\4167071036.py\u001b[0m in \u001b[0;36m<module>\u001b[1;34m\u001b[0m\n\u001b[0;32m     15\u001b[0m \u001b[0mobj7\u001b[0m\u001b[1;33m=\u001b[0m\u001b[0mempclass\u001b[0m\u001b[1;33m(\u001b[0m\u001b[1;33m)\u001b[0m\u001b[1;33m\u001b[0m\u001b[1;33m\u001b[0m\u001b[0m\n\u001b[0;32m     16\u001b[0m \u001b[0mobj7\u001b[0m\u001b[1;33m.\u001b[0m\u001b[0mm_input\u001b[0m\u001b[1;33m(\u001b[0m\u001b[1;33m)\u001b[0m\u001b[1;33m\u001b[0m\u001b[1;33m\u001b[0m\u001b[0m\n\u001b[1;32m---> 17\u001b[1;33m \u001b[0mobj7\u001b[0m\u001b[1;33m.\u001b[0m\u001b[0mm_display\u001b[0m\u001b[1;33m(\u001b[0m\u001b[1;33m)\u001b[0m\u001b[1;33m\u001b[0m\u001b[1;33m\u001b[0m\u001b[0m\n\u001b[0m",
      "\u001b[1;32m~\\AppData\\Local\\Temp\\ipykernel_20272\\4167071036.py\u001b[0m in \u001b[0;36mm_display\u001b[1;34m(self)\u001b[0m\n\u001b[0;32m      9\u001b[0m     \u001b[1;32mdef\u001b[0m \u001b[0mm_display\u001b[0m\u001b[1;33m(\u001b[0m\u001b[0mself\u001b[0m\u001b[1;33m)\u001b[0m\u001b[1;33m:\u001b[0m\u001b[1;33m\u001b[0m\u001b[1;33m\u001b[0m\u001b[0m\n\u001b[0;32m     10\u001b[0m         \u001b[0mprint\u001b[0m\u001b[1;33m(\u001b[0m\u001b[1;34m\"Display Method\"\u001b[0m\u001b[1;33m)\u001b[0m\u001b[1;33m\u001b[0m\u001b[1;33m\u001b[0m\u001b[0m\n\u001b[1;32m---> 11\u001b[1;33m         \u001b[0mprint\u001b[0m\u001b[1;33m(\u001b[0m\u001b[0mname1\u001b[0m\u001b[1;33m)\u001b[0m\u001b[1;33m\u001b[0m\u001b[1;33m\u001b[0m\u001b[0m\n\u001b[0m\u001b[0;32m     12\u001b[0m         \u001b[0mprint\u001b[0m\u001b[1;33m(\u001b[0m\u001b[0mdeg1\u001b[0m\u001b[1;33m)\u001b[0m\u001b[1;33m\u001b[0m\u001b[1;33m\u001b[0m\u001b[0m\n\u001b[0;32m     13\u001b[0m         \u001b[0mprint\u001b[0m\u001b[1;33m(\u001b[0m\u001b[0mtech1\u001b[0m\u001b[1;33m)\u001b[0m\u001b[1;33m\u001b[0m\u001b[1;33m\u001b[0m\u001b[0m\n",
      "\u001b[1;31mNameError\u001b[0m: name 'name1' is not defined"
     ]
    }
   ],
   "source": [
    "class empclass:\n",
    "    def m_input(self):\n",
    "        \n",
    "        print(\"Employee input method\")\n",
    "        name1=input(\"Enter Employee Name: \")\n",
    "        deg1=input(\"Enter Employee Designation: \")\n",
    "        tech1=input(\"Enter Employee Technology: \")\n",
    "        \n",
    "    def m_display(self):\n",
    "        print(\"Display Method\")\n",
    "        print(name1)\n",
    "        print(deg1)\n",
    "        print(tech1)\n",
    "            \n",
    "obj7=empclass()\n",
    "obj7.m_input()\n",
    "obj7.m_display()"
   ]
  },
  {
   "cell_type": "code",
   "execution_count": 19,
   "id": "506914c2",
   "metadata": {},
   "outputs": [
    {
     "name": "stdout",
     "output_type": "stream",
     "text": [
      "Employee input method\n",
      "Enter Employee Name: a\n",
      "Enter Employee Designation: pm\n",
      "Enter Employee Technology: c\n",
      "Display Method\n",
      "a\n",
      "pm\n",
      "c\n"
     ]
    }
   ],
   "source": [
    "class empclass:\n",
    "    def m_input(self):\n",
    "        global name,deg,tech\n",
    "        print(\"Employee input method\")\n",
    "        name=input(\"Enter Employee Name: \")\n",
    "        deg=input(\"Enter Employee Designation: \")\n",
    "        tech=input(\"Enter Employee Technology: \")\n",
    "        \n",
    "    def m_display(self):\n",
    "        print(\"Display Method\")\n",
    "        print(name)\n",
    "        print(deg)\n",
    "        print(tech)\n",
    "            \n",
    "obj1=empclass()\n",
    "obj1.m_input()\n",
    "obj1.m_display()"
   ]
  },
  {
   "cell_type": "markdown",
   "id": "1cb0d2d0",
   "metadata": {},
   "source": [
    "### Instance Variable"
   ]
  },
  {
   "cell_type": "code",
   "execution_count": 21,
   "id": "5b163b42",
   "metadata": {},
   "outputs": [
    {
     "name": "stdout",
     "output_type": "stream",
     "text": [
      "Employee input method\n",
      "Enter Employee Name: b\n",
      "Enter Employee Designation: tester\n",
      "Enter Employee Technology: c++\n",
      "\n",
      "Display Method\n",
      "b\n",
      "tester\n",
      "c++\n"
     ]
    }
   ],
   "source": [
    "class empclass:\n",
    "    def m_input(self):\n",
    "        \n",
    "        print(\"Employee input method\")\n",
    "        self.name=input(\"Enter Employee Name: \")\n",
    "        self.deg=input(\"Enter Employee Designation: \")\n",
    "        self.tech=input(\"Enter Employee Technology: \")\n",
    "        print()\n",
    "        \n",
    "    def m_display(self):\n",
    "        print(\"Display Method\")\n",
    "        print(self.name)\n",
    "        print(self.deg)\n",
    "        print(self.tech)\n",
    "            \n",
    "obj1=empclass()\n",
    "obj1.m_input()\n",
    "obj1.m_display()"
   ]
  },
  {
   "cell_type": "markdown",
   "id": "3c431808",
   "metadata": {},
   "source": [
    "### Static Variables"
   ]
  },
  {
   "cell_type": "code",
   "execution_count": 23,
   "id": "ec0599e2",
   "metadata": {},
   "outputs": [
    {
     "name": "stdout",
     "output_type": "stream",
     "text": [
      "Add Method\n",
      "Enter first number: 5\n",
      "Enter second number: 6\n",
      "5\n",
      "6\n",
      "11\n",
      "Hydrabad\n",
      "\n",
      "Multiplication Method\n",
      "5\n",
      "6\n",
      "30\n",
      "Hydrabad\n",
      "\n",
      "Outside the class\n",
      "Using object:  Hydrabad\n",
      "\n",
      "Using class:  Hydrabad\n"
     ]
    }
   ],
   "source": [
    "class myclass:\n",
    "    city=\"Hydrabad\"  # Static Variable\n",
    "    \n",
    "    def m_add(self):\n",
    "        print(\"Add Method\")\n",
    "        self.num1=int(input(\"Enter first number: \"))  # Instance Variable\n",
    "        self.num2=int(input(\"Enter second number: \")) # Instance Variable\n",
    "        a=self.num1+self.num2 # Local Variable\n",
    "        print(self.num1)\n",
    "        print(self.num2)\n",
    "        print(a)\n",
    "        print(myclass.city) # Call city inside the method\n",
    "        \n",
    "        \n",
    "    def m_mul(self):\n",
    "        print(\"Multiplication Method\")\n",
    "        m=self.num1*self.num2 # Local Variable\n",
    "        print(self.num1)\n",
    "        print(self.num2)\n",
    "        print(m)\n",
    "        print(myclass.city) # Call city inside the method\n",
    "        \n",
    "obj2=myclass()\n",
    "obj2.m_add()\n",
    "print()\n",
    "obj2.m_mul()\n",
    "print()\n",
    "print(\"Outside the class\")\n",
    "print(\"Using object: \",obj2.city)\n",
    "print()\n",
    "print(\"Using class: \",myclass.city)"
   ]
  },
  {
   "cell_type": "markdown",
   "id": "7c5ba28d",
   "metadata": {},
   "source": [
    "### Object Memory"
   ]
  },
  {
   "cell_type": "code",
   "execution_count": 26,
   "id": "9a3b7c2f",
   "metadata": {},
   "outputs": [
    {
     "name": "stdout",
     "output_type": "stream",
     "text": [
      "Employee input method\n",
      "Enter Employee Name: aaa\n",
      "Enter Employee Designation: pm\n",
      "Enter Employee Technology: c\n",
      "\n",
      "Employee input method\n",
      "Enter Employee Name: bbb\n",
      "Enter Employee Designation: tm\n",
      "Enter Employee Technology: c++\n",
      "\n",
      "Employee input method\n",
      "Enter Employee Name: ccc\n",
      "Enter Employee Designation: tester\n",
      "Enter Employee Technology: c#\n",
      "\n"
     ]
    }
   ],
   "source": [
    "class empclass:\n",
    "    def m_input(self):\n",
    "        \n",
    "        print(\"Employee input method\")\n",
    "        self.name=input(\"Enter Employee Name: \")\n",
    "        self.deg=input(\"Enter Employee Designation: \")\n",
    "        self.tech=input(\"Enter Employee Technology: \")\n",
    "        print()\n",
    "        \n",
    "    def m_display(self):\n",
    "        print(\"Display Method\")\n",
    "        print(self.name)\n",
    "        print(self.deg)\n",
    "        print(self.tech)\n",
    "            \n",
    "obj1=empclass()\n",
    "obj2=empclass()\n",
    "obj3=empclass()\n",
    "\n",
    "obj1.m_input()\n",
    "obj2.m_input()\n",
    "obj3.m_input()"
   ]
  },
  {
   "cell_type": "code",
   "execution_count": 28,
   "id": "273bf551",
   "metadata": {},
   "outputs": [
    {
     "name": "stdout",
     "output_type": "stream",
     "text": [
      "Display Method\n",
      "bbb\n",
      "tm\n",
      "c++\n"
     ]
    }
   ],
   "source": [
    "obj2.m_display()"
   ]
  },
  {
   "cell_type": "code",
   "execution_count": 29,
   "id": "ecbf244c",
   "metadata": {},
   "outputs": [
    {
     "name": "stdout",
     "output_type": "stream",
     "text": [
      "Display Method\n",
      "aaa\n",
      "pm\n",
      "c\n"
     ]
    }
   ],
   "source": [
    "obj1.m_display()"
   ]
  },
  {
   "cell_type": "code",
   "execution_count": 30,
   "id": "ab75d71b",
   "metadata": {},
   "outputs": [
    {
     "name": "stdout",
     "output_type": "stream",
     "text": [
      "Display Method\n",
      "ccc\n",
      "tester\n",
      "c#\n"
     ]
    }
   ],
   "source": [
    "obj3.m_display()"
   ]
  },
  {
   "cell_type": "code",
   "execution_count": null,
   "id": "b3937d37",
   "metadata": {},
   "outputs": [],
   "source": []
  }
 ],
 "metadata": {
  "kernelspec": {
   "display_name": "Python 3 (ipykernel)",
   "language": "python",
   "name": "python3"
  },
  "language_info": {
   "codemirror_mode": {
    "name": "ipython",
    "version": 3
   },
   "file_extension": ".py",
   "mimetype": "text/x-python",
   "name": "python",
   "nbconvert_exporter": "python",
   "pygments_lexer": "ipython3",
   "version": "3.9.13"
  }
 },
 "nbformat": 4,
 "nbformat_minor": 5
}
