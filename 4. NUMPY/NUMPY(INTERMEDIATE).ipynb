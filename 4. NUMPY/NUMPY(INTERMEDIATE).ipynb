{
 "cells": [
  {
   "cell_type": "code",
   "execution_count": 1,
   "id": "59967b68",
   "metadata": {},
   "outputs": [],
   "source": [
    "import numpy as np"
   ]
  },
  {
   "cell_type": "code",
   "execution_count": 2,
   "id": "3724c05a",
   "metadata": {},
   "outputs": [],
   "source": [
    "import time"
   ]
  },
  {
   "cell_type": "code",
   "execution_count": 3,
   "id": "6ddc4b64",
   "metadata": {},
   "outputs": [],
   "source": [
    "import sys"
   ]
  },
  {
   "cell_type": "code",
   "execution_count": 99,
   "id": "a89c79d0",
   "metadata": {},
   "outputs": [],
   "source": [
    "import matplotlib.pyplot as plt"
   ]
  },
  {
   "cell_type": "markdown",
   "id": "0b8880a4",
   "metadata": {},
   "source": [
    "## NUMPY ARRAY VS PYTHON LIST"
   ]
  },
  {
   "cell_type": "markdown",
   "id": "0223f624",
   "metadata": {},
   "source": [
    "#### SPEED & CONVIENCE"
   ]
  },
  {
   "cell_type": "code",
   "execution_count": 4,
   "id": "6a1a5df2",
   "metadata": {},
   "outputs": [],
   "source": [
    "a=[i for i in range(100000)]\n",
    "b=[i for i in range(100000,200000)]"
   ]
  },
  {
   "cell_type": "code",
   "execution_count": 5,
   "id": "8c6f7e48",
   "metadata": {},
   "outputs": [
    {
     "name": "stdout",
     "output_type": "stream",
     "text": [
      "0.02299952507019043\n"
     ]
    }
   ],
   "source": [
    "# PYTHON LIST\n",
    "\n",
    "c=[]\n",
    "\n",
    "start=time.time()\n",
    "\n",
    "for i in range(len(a)):\n",
    "    c.append(a[i]+b[i])\n",
    "    \n",
    "print(time.time()-start)"
   ]
  },
  {
   "cell_type": "code",
   "execution_count": 6,
   "id": "338c5b49",
   "metadata": {},
   "outputs": [
    {
     "name": "stdout",
     "output_type": "stream",
     "text": [
      "0.0019996166229248047\n"
     ]
    }
   ],
   "source": [
    "# NUMPY ARRAY\n",
    "\n",
    "a=np.arange(100000)\n",
    "b=np.arange(100000,200000)\n",
    "\n",
    "start=time.time()\n",
    "c=a+b\n",
    "print(time.time()-start)"
   ]
  },
  {
   "cell_type": "code",
   "execution_count": 7,
   "id": "da4ff589",
   "metadata": {},
   "outputs": [
    {
     "data": {
      "text/plain": [
       "24.0"
      ]
     },
     "execution_count": 7,
     "metadata": {},
     "output_type": "execute_result"
    }
   ],
   "source": [
    "0.048/0.002 # How faster Numpy Array than Python List"
   ]
  },
  {
   "cell_type": "code",
   "execution_count": 8,
   "id": "4338f970",
   "metadata": {},
   "outputs": [],
   "source": [
    "# Numpy Array use C type Array. Because It is Static Array, that means the size of memory does not increase/decrease.\n",
    "\n",
    "# It is not a Referential Array,because you store the item directly in the memory not the address."
   ]
  },
  {
   "cell_type": "code",
   "execution_count": 9,
   "id": "53349bf5",
   "metadata": {},
   "outputs": [],
   "source": [
    "# Python List is Dynamic array. Everytime the size become double.\n",
    "\n",
    "# It is a Referential Array, which means you store the address in the memory."
   ]
  },
  {
   "cell_type": "markdown",
   "id": "772fb3cb",
   "metadata": {},
   "source": [
    "#### MEMORY"
   ]
  },
  {
   "cell_type": "code",
   "execution_count": 10,
   "id": "d4241f7a",
   "metadata": {},
   "outputs": [],
   "source": [
    "# PYTHON LIST\n",
    "\n",
    "a1=[i for i in range(10000000)]"
   ]
  },
  {
   "cell_type": "code",
   "execution_count": 11,
   "id": "9426a2eb",
   "metadata": {},
   "outputs": [
    {
     "data": {
      "text/plain": [
       "89095160"
      ]
     },
     "execution_count": 11,
     "metadata": {},
     "output_type": "execute_result"
    }
   ],
   "source": [
    "sys.getsizeof(a1) # It give the size occupy in the memory"
   ]
  },
  {
   "cell_type": "code",
   "execution_count": 12,
   "id": "8a0ffbf7",
   "metadata": {},
   "outputs": [],
   "source": [
    "# NUMPY ARRAY\n",
    "\n",
    "a2=np.arange(10000000)"
   ]
  },
  {
   "cell_type": "code",
   "execution_count": 13,
   "id": "f899855f",
   "metadata": {},
   "outputs": [
    {
     "data": {
      "text/plain": [
       "40000112"
      ]
     },
     "execution_count": 13,
     "metadata": {},
     "output_type": "execute_result"
    }
   ],
   "source": [
    "sys.getsizeof(a2) "
   ]
  },
  {
   "cell_type": "code",
   "execution_count": 14,
   "id": "2745b63b",
   "metadata": {},
   "outputs": [
    {
     "data": {
      "text/plain": [
       "2.2273727633562626"
      ]
     },
     "execution_count": 14,
     "metadata": {},
     "output_type": "execute_result"
    }
   ],
   "source": [
    "89095160/40000112  "
   ]
  },
  {
   "cell_type": "markdown",
   "id": "1dfe7da2",
   "metadata": {},
   "source": [
    "## ADVANCE INDEXING"
   ]
  },
  {
   "cell_type": "code",
   "execution_count": 15,
   "id": "82df15a1",
   "metadata": {},
   "outputs": [],
   "source": [
    "c=np.arange(24).reshape(6,4)"
   ]
  },
  {
   "cell_type": "code",
   "execution_count": 16,
   "id": "9bef6ae8",
   "metadata": {},
   "outputs": [
    {
     "data": {
      "text/plain": [
       "array([[ 0,  1,  2,  3],\n",
       "       [ 4,  5,  6,  7],\n",
       "       [ 8,  9, 10, 11],\n",
       "       [12, 13, 14, 15],\n",
       "       [16, 17, 18, 19],\n",
       "       [20, 21, 22, 23]])"
      ]
     },
     "execution_count": 16,
     "metadata": {},
     "output_type": "execute_result"
    }
   ],
   "source": [
    "c"
   ]
  },
  {
   "cell_type": "markdown",
   "id": "5632f05a",
   "metadata": {},
   "source": [
    "#### FANCY INDEXING"
   ]
  },
  {
   "cell_type": "code",
   "execution_count": 17,
   "id": "98e501cb",
   "metadata": {},
   "outputs": [
    {
     "data": {
      "text/plain": [
       "array([[ 0,  1,  2,  3],\n",
       "       [ 8,  9, 10, 11],\n",
       "       [12, 13, 14, 15],\n",
       "       [20, 21, 22, 23]])"
      ]
     },
     "execution_count": 17,
     "metadata": {},
     "output_type": "execute_result"
    }
   ],
   "source": [
    "c[[0,2,3,5]] # 1st,3rd,4th,6th Row "
   ]
  },
  {
   "cell_type": "code",
   "execution_count": 18,
   "id": "e26383f0",
   "metadata": {},
   "outputs": [
    {
     "data": {
      "text/plain": [
       "array([[ 0,  1,  2,  3],\n",
       "       [ 4,  5,  6,  7],\n",
       "       [12, 13, 14, 15]])"
      ]
     },
     "execution_count": 18,
     "metadata": {},
     "output_type": "execute_result"
    }
   ],
   "source": [
    "c[[0,1,3]]"
   ]
  },
  {
   "cell_type": "code",
   "execution_count": 19,
   "id": "2cfe5783",
   "metadata": {},
   "outputs": [
    {
     "data": {
      "text/plain": [
       "array([[ 0,  2,  3],\n",
       "       [ 4,  6,  7],\n",
       "       [ 8, 10, 11],\n",
       "       [12, 14, 15],\n",
       "       [16, 18, 19],\n",
       "       [20, 22, 23]])"
      ]
     },
     "execution_count": 19,
     "metadata": {},
     "output_type": "execute_result"
    }
   ],
   "source": [
    "c[:,[0,2,3]]"
   ]
  },
  {
   "cell_type": "markdown",
   "id": "df753e75",
   "metadata": {},
   "source": [
    "#### BOOLEAN INDEXING"
   ]
  },
  {
   "cell_type": "code",
   "execution_count": 20,
   "id": "1c8a19f6",
   "metadata": {},
   "outputs": [],
   "source": [
    "c1=np.random.randint(1,100,24).reshape(6,4)"
   ]
  },
  {
   "cell_type": "code",
   "execution_count": 21,
   "id": "a7ca469f",
   "metadata": {},
   "outputs": [
    {
     "data": {
      "text/plain": [
       "array([[91, 20,  4, 31],\n",
       "       [24, 59, 51, 72],\n",
       "       [94,  8, 18, 83],\n",
       "       [ 4, 68, 28, 60],\n",
       "       [16, 60, 11, 11],\n",
       "       [11,  9, 85, 30]])"
      ]
     },
     "execution_count": 21,
     "metadata": {},
     "output_type": "execute_result"
    }
   ],
   "source": [
    "c1"
   ]
  },
  {
   "cell_type": "code",
   "execution_count": 22,
   "id": "5243b87e",
   "metadata": {},
   "outputs": [
    {
     "data": {
      "text/plain": [
       "array([[ True, False, False, False],\n",
       "       [False,  True,  True,  True],\n",
       "       [ True, False, False,  True],\n",
       "       [False,  True, False,  True],\n",
       "       [False,  True, False, False],\n",
       "       [False, False,  True, False]])"
      ]
     },
     "execution_count": 22,
     "metadata": {},
     "output_type": "execute_result"
    }
   ],
   "source": [
    "# FIND ALL NUMBERS GREATER THAN 50\n",
    "\n",
    "c1>50    # It give the TRUE/FALSE Value"
   ]
  },
  {
   "cell_type": "code",
   "execution_count": 23,
   "id": "bc921521",
   "metadata": {},
   "outputs": [
    {
     "data": {
      "text/plain": [
       "array([91, 59, 51, 72, 94, 83, 68, 60, 60, 85])"
      ]
     },
     "execution_count": 23,
     "metadata": {},
     "output_type": "execute_result"
    }
   ],
   "source": [
    "# If you want the Integer Value then you pass the Condition inside variable in list.\n",
    "\n",
    "c1[c1>50]   # It give the TRUE Integer Value"
   ]
  },
  {
   "cell_type": "code",
   "execution_count": 24,
   "id": "083fb02a",
   "metadata": {},
   "outputs": [
    {
     "data": {
      "text/plain": [
       "array([[False,  True,  True, False],\n",
       "       [ True, False, False,  True],\n",
       "       [ True,  True,  True, False],\n",
       "       [ True,  True,  True,  True],\n",
       "       [ True,  True, False, False],\n",
       "       [False, False, False,  True]])"
      ]
     },
     "execution_count": 24,
     "metadata": {},
     "output_type": "execute_result"
    }
   ],
   "source": [
    "# FIND ALL THE EVEN NUMBERS\n",
    "\n",
    "(c1%2==0)"
   ]
  },
  {
   "cell_type": "code",
   "execution_count": 25,
   "id": "a721f4b5",
   "metadata": {},
   "outputs": [
    {
     "data": {
      "text/plain": [
       "array([20,  4, 24, 72, 94,  8, 18,  4, 68, 28, 60, 16, 60, 30])"
      ]
     },
     "execution_count": 25,
     "metadata": {},
     "output_type": "execute_result"
    }
   ],
   "source": [
    "c1[(c1%2==0)]"
   ]
  },
  {
   "cell_type": "code",
   "execution_count": 26,
   "id": "aecf6689",
   "metadata": {},
   "outputs": [
    {
     "data": {
      "text/plain": [
       "array([[False, False, False, False],\n",
       "       [False, False, False,  True],\n",
       "       [ True, False, False, False],\n",
       "       [False,  True, False,  True],\n",
       "       [False,  True, False, False],\n",
       "       [False, False, False, False]])"
      ]
     },
     "execution_count": 26,
     "metadata": {},
     "output_type": "execute_result"
    }
   ],
   "source": [
    "# FIND ALL NUMBERS GREATER THAN 50 & ARE EVEN\n",
    "\n",
    "(c1>50) & (c1%2==0)"
   ]
  },
  {
   "cell_type": "code",
   "execution_count": 27,
   "id": "3cde4bb9",
   "metadata": {},
   "outputs": [
    {
     "data": {
      "text/plain": [
       "array([72, 94, 68, 60, 60])"
      ]
     },
     "execution_count": 27,
     "metadata": {},
     "output_type": "execute_result"
    }
   ],
   "source": [
    "c1[(c1>50) & (c1%2==0)]"
   ]
  },
  {
   "cell_type": "code",
   "execution_count": 28,
   "id": "57927587",
   "metadata": {},
   "outputs": [
    {
     "data": {
      "text/plain": [
       "array([[ True,  True,  True,  True],\n",
       "       [ True,  True,  True,  True],\n",
       "       [ True, False,  True,  True],\n",
       "       [ True,  True,  True,  True],\n",
       "       [ True,  True,  True,  True],\n",
       "       [ True,  True, False,  True]])"
      ]
     },
     "execution_count": 28,
     "metadata": {},
     "output_type": "execute_result"
    }
   ],
   "source": [
    "# FIND ALL NUMBERS NOT DIVISIBLE BY 7\n",
    "\n",
    "~(c1%7==1)"
   ]
  },
  {
   "cell_type": "code",
   "execution_count": 29,
   "id": "d5605c9c",
   "metadata": {},
   "outputs": [
    {
     "data": {
      "text/plain": [
       "array([20,  4, 31, 24, 59, 51, 72, 94,  8, 18, 83,  4, 68, 60, 16, 60, 11,\n",
       "       11, 11,  9, 85, 30])"
      ]
     },
     "execution_count": 29,
     "metadata": {},
     "output_type": "execute_result"
    }
   ],
   "source": [
    "c1[~(c1%7==0)]"
   ]
  },
  {
   "cell_type": "markdown",
   "id": "bae4cd09",
   "metadata": {},
   "source": [
    "# BROADCASTING"
   ]
  },
  {
   "cell_type": "markdown",
   "id": "c68655f9",
   "metadata": {},
   "source": [
    "#### The term Broadcasting describes How Numpy treats arrays with different shapes during arithmetic operations.\n",
    "\n",
    "#### The smaller array is \"Broadcast\" across the larger array so that they have compatible shapes."
   ]
  },
  {
   "cell_type": "markdown",
   "id": "22fd119c",
   "metadata": {},
   "source": [
    "### SAME SHAPE"
   ]
  },
  {
   "cell_type": "code",
   "execution_count": 30,
   "id": "e7195990",
   "metadata": {},
   "outputs": [],
   "source": [
    "a=np.arange(6).reshape(2,3)\n",
    "b=np.arange(6,12).reshape(2,3)"
   ]
  },
  {
   "cell_type": "code",
   "execution_count": 31,
   "id": "8b97968e",
   "metadata": {},
   "outputs": [
    {
     "data": {
      "text/plain": [
       "array([[0, 1, 2],\n",
       "       [3, 4, 5]])"
      ]
     },
     "execution_count": 31,
     "metadata": {},
     "output_type": "execute_result"
    }
   ],
   "source": [
    "a"
   ]
  },
  {
   "cell_type": "code",
   "execution_count": 32,
   "id": "0baa0e5e",
   "metadata": {},
   "outputs": [
    {
     "data": {
      "text/plain": [
       "array([[ 6,  7,  8],\n",
       "       [ 9, 10, 11]])"
      ]
     },
     "execution_count": 32,
     "metadata": {},
     "output_type": "execute_result"
    }
   ],
   "source": [
    "b"
   ]
  },
  {
   "cell_type": "code",
   "execution_count": 33,
   "id": "b9bacd48",
   "metadata": {},
   "outputs": [
    {
     "data": {
      "text/plain": [
       "array([[ 6,  8, 10],\n",
       "       [12, 14, 16]])"
      ]
     },
     "execution_count": 33,
     "metadata": {},
     "output_type": "execute_result"
    }
   ],
   "source": [
    "a+b"
   ]
  },
  {
   "cell_type": "markdown",
   "id": "f8c40207",
   "metadata": {},
   "source": [
    "### DIFFERENT SHAPE"
   ]
  },
  {
   "cell_type": "code",
   "execution_count": 34,
   "id": "a6e15ecd",
   "metadata": {},
   "outputs": [],
   "source": [
    "a=np.arange(6).reshape(2,3)\n",
    "b=np.arange(3).reshape(1,3)"
   ]
  },
  {
   "cell_type": "code",
   "execution_count": 35,
   "id": "8980d886",
   "metadata": {},
   "outputs": [
    {
     "data": {
      "text/plain": [
       "array([[0, 1, 2],\n",
       "       [3, 4, 5]])"
      ]
     },
     "execution_count": 35,
     "metadata": {},
     "output_type": "execute_result"
    }
   ],
   "source": [
    "a"
   ]
  },
  {
   "cell_type": "code",
   "execution_count": 36,
   "id": "070a2bc9",
   "metadata": {},
   "outputs": [
    {
     "data": {
      "text/plain": [
       "array([[0, 1, 2]])"
      ]
     },
     "execution_count": 36,
     "metadata": {},
     "output_type": "execute_result"
    }
   ],
   "source": [
    "b"
   ]
  },
  {
   "cell_type": "code",
   "execution_count": 37,
   "id": "06d489e8",
   "metadata": {},
   "outputs": [
    {
     "data": {
      "text/plain": [
       "array([[0, 2, 4],\n",
       "       [3, 5, 7]])"
      ]
     },
     "execution_count": 37,
     "metadata": {},
     "output_type": "execute_result"
    }
   ],
   "source": [
    "a+b"
   ]
  },
  {
   "cell_type": "markdown",
   "id": "94a018db",
   "metadata": {},
   "source": [
    "## BROADCASTING RULES\n",
    "    ---> When we will do vectorization in that time we use Broadcasting."
   ]
  },
  {
   "cell_type": "markdown",
   "id": "f20261ad",
   "metadata": {},
   "source": [
    "### 1. Make the two arrays have the same number of dimension.\n",
    "        --> If the numbers of dimensions of the two arrays are different, add new dimensions with size 1 to the head of the array with the smaller dimension."
   ]
  },
  {
   "cell_type": "markdown",
   "id": "33184e63",
   "metadata": {},
   "source": [
    "### 2. Make each dimension of the two arrays the same size.\n",
    "        ---> If the sizes of each dimension of the arrays do not match, dimensions with size 1 are stretched to the size of the other array.\n",
    "        ---> If there is a dimension whose size is not 1 in eiither of the two arrays, it can not be Broadcasted, and an error is raised."
   ]
  },
  {
   "cell_type": "markdown",
   "id": "6fbfec27",
   "metadata": {},
   "source": [
    "## NUMPY BROADCASTING EXAMPLE"
   ]
  },
  {
   "attachments": {
    "NUMPY%20BROADCASTING%20EXAMPLE-2.png": {
     "image/png": "[encoded data removed]"
    }
   },
   "cell_type": "markdown",
   "id": "192175de",
   "metadata": {},
   "source": [
    "![NUMPY%20BROADCASTING%20EXAMPLE-2.png](attachment:NUMPY%20BROADCASTING%20EXAMPLE-2.png)"
   ]
  },
  {
   "cell_type": "markdown",
   "id": "7c06f3fc",
   "metadata": {},
   "source": [
    "## NUMPY BROADCASTING EXAMPLE-2"
   ]
  },
  {
   "attachments": {
    "NUMPY%20BRAODCASTING%20EXAMPLE-3.png": {
     "image/png": "[encoded data removed]"
    }
   },
   "cell_type": "markdown",
   "id": "f02b565e",
   "metadata": {},
   "source": [
    "![NUMPY%20BRAODCASTING%20EXAMPLE-3.png](attachment:NUMPY%20BRAODCASTING%20EXAMPLE-3.png)"
   ]
  },
  {
   "cell_type": "markdown",
   "id": "fcc56dec",
   "metadata": {},
   "source": [
    "### MORE EXAMPLES"
   ]
  },
  {
   "cell_type": "markdown",
   "id": "5e6c4bd3",
   "metadata": {},
   "source": [
    "#### Eg.1"
   ]
  },
  {
   "cell_type": "code",
   "execution_count": 38,
   "id": "6ea9f75f",
   "metadata": {},
   "outputs": [],
   "source": [
    "a=np.arange(12).reshape(4,3)\n",
    "b=np.arange(3)"
   ]
  },
  {
   "cell_type": "code",
   "execution_count": 39,
   "id": "1a9c39bf",
   "metadata": {},
   "outputs": [
    {
     "data": {
      "text/plain": [
       "array([[ 0,  1,  2],\n",
       "       [ 3,  4,  5],\n",
       "       [ 6,  7,  8],\n",
       "       [ 9, 10, 11]])"
      ]
     },
     "execution_count": 39,
     "metadata": {},
     "output_type": "execute_result"
    }
   ],
   "source": [
    "a"
   ]
  },
  {
   "cell_type": "code",
   "execution_count": 40,
   "id": "35e2ed1c",
   "metadata": {},
   "outputs": [
    {
     "data": {
      "text/plain": [
       "array([0, 1, 2])"
      ]
     },
     "execution_count": 40,
     "metadata": {},
     "output_type": "execute_result"
    }
   ],
   "source": [
    "b"
   ]
  },
  {
   "cell_type": "code",
   "execution_count": 41,
   "id": "ad67c127",
   "metadata": {},
   "outputs": [
    {
     "data": {
      "text/plain": [
       "array([[ 0,  2,  4],\n",
       "       [ 3,  5,  7],\n",
       "       [ 6,  8, 10],\n",
       "       [ 9, 11, 13]])"
      ]
     },
     "execution_count": 41,
     "metadata": {},
     "output_type": "execute_result"
    }
   ],
   "source": [
    "a+b # Broadcasted because we add left side of the smaller shape to 1 & then enhance to 4,so the two array are same in shape."
   ]
  },
  {
   "cell_type": "markdown",
   "id": "c454118f",
   "metadata": {},
   "source": [
    "#### Eg.2"
   ]
  },
  {
   "cell_type": "code",
   "execution_count": 42,
   "id": "31491b1e",
   "metadata": {},
   "outputs": [],
   "source": [
    "a1=np.arange(12).reshape(3,4)\n",
    "b1=np.arange(3)"
   ]
  },
  {
   "cell_type": "code",
   "execution_count": 43,
   "id": "16ef8737",
   "metadata": {},
   "outputs": [
    {
     "data": {
      "text/plain": [
       "array([[ 0,  1,  2,  3],\n",
       "       [ 4,  5,  6,  7],\n",
       "       [ 8,  9, 10, 11]])"
      ]
     },
     "execution_count": 43,
     "metadata": {},
     "output_type": "execute_result"
    }
   ],
   "source": [
    "a1"
   ]
  },
  {
   "cell_type": "code",
   "execution_count": 44,
   "id": "48b23f60",
   "metadata": {},
   "outputs": [
    {
     "data": {
      "text/plain": [
       "array([0, 1, 2])"
      ]
     },
     "execution_count": 44,
     "metadata": {},
     "output_type": "execute_result"
    }
   ],
   "source": [
    "b1"
   ]
  },
  {
   "cell_type": "code",
   "execution_count": 45,
   "id": "7985e867",
   "metadata": {},
   "outputs": [],
   "source": [
    "# a1+b1     # It gives error. Because the shape is not same & also not broadcasted"
   ]
  },
  {
   "cell_type": "markdown",
   "id": "51735bcc",
   "metadata": {},
   "source": [
    "#### Eg.3"
   ]
  },
  {
   "cell_type": "code",
   "execution_count": 46,
   "id": "470a50a7",
   "metadata": {},
   "outputs": [],
   "source": [
    "a2=np.arange(3).reshape(3,1)\n",
    "b2=np.arange(3).reshape(1,3)"
   ]
  },
  {
   "cell_type": "code",
   "execution_count": 47,
   "id": "d39dafa7",
   "metadata": {},
   "outputs": [
    {
     "data": {
      "text/plain": [
       "array([[0],\n",
       "       [1],\n",
       "       [2]])"
      ]
     },
     "execution_count": 47,
     "metadata": {},
     "output_type": "execute_result"
    }
   ],
   "source": [
    "a2"
   ]
  },
  {
   "cell_type": "code",
   "execution_count": 48,
   "id": "732a2324",
   "metadata": {},
   "outputs": [
    {
     "data": {
      "text/plain": [
       "array([[0, 1, 2]])"
      ]
     },
     "execution_count": 48,
     "metadata": {},
     "output_type": "execute_result"
    }
   ],
   "source": [
    "b2"
   ]
  },
  {
   "cell_type": "code",
   "execution_count": 49,
   "id": "4d4dbd57",
   "metadata": {},
   "outputs": [
    {
     "data": {
      "text/plain": [
       "array([[0, 1, 2],\n",
       "       [1, 2, 3],\n",
       "       [2, 3, 4]])"
      ]
     },
     "execution_count": 49,
     "metadata": {},
     "output_type": "execute_result"
    }
   ],
   "source": [
    "a2+b2 # Broadcasted because both the shape has 1, and we enhanced them and convert to same shape."
   ]
  },
  {
   "cell_type": "markdown",
   "id": "97dc24ed",
   "metadata": {},
   "source": [
    "#### Eg.4"
   ]
  },
  {
   "cell_type": "code",
   "execution_count": 50,
   "id": "0745c721",
   "metadata": {},
   "outputs": [],
   "source": [
    "a3=np.arange(3).reshape(1,3)\n",
    "b3=np.arange(4).reshape(4,1)"
   ]
  },
  {
   "cell_type": "code",
   "execution_count": 51,
   "id": "e0ba6e0f",
   "metadata": {},
   "outputs": [
    {
     "data": {
      "text/plain": [
       "array([[0, 1, 2],\n",
       "       [1, 2, 3],\n",
       "       [2, 3, 4],\n",
       "       [3, 4, 5]])"
      ]
     },
     "execution_count": 51,
     "metadata": {},
     "output_type": "execute_result"
    }
   ],
   "source": [
    "a3+b3"
   ]
  },
  {
   "cell_type": "markdown",
   "id": "b586e4a9",
   "metadata": {},
   "source": [
    "#### Eg.5"
   ]
  },
  {
   "cell_type": "code",
   "execution_count": 52,
   "id": "86f5ce52",
   "metadata": {},
   "outputs": [],
   "source": [
    "a4=np.array([1])\n",
    "b4=np.arange(4).reshape(2,2)"
   ]
  },
  {
   "cell_type": "code",
   "execution_count": 53,
   "id": "e6ed823a",
   "metadata": {},
   "outputs": [
    {
     "data": {
      "text/plain": [
       "array([1])"
      ]
     },
     "execution_count": 53,
     "metadata": {},
     "output_type": "execute_result"
    }
   ],
   "source": [
    "a4"
   ]
  },
  {
   "cell_type": "code",
   "execution_count": 54,
   "id": "554f1455",
   "metadata": {},
   "outputs": [
    {
     "data": {
      "text/plain": [
       "array([[0, 1],\n",
       "       [2, 3]])"
      ]
     },
     "execution_count": 54,
     "metadata": {},
     "output_type": "execute_result"
    }
   ],
   "source": [
    "b4"
   ]
  },
  {
   "cell_type": "code",
   "execution_count": 55,
   "id": "c06c45f9",
   "metadata": {},
   "outputs": [
    {
     "data": {
      "text/plain": [
       "array([[1, 2],\n",
       "       [3, 4]])"
      ]
     },
     "execution_count": 55,
     "metadata": {},
     "output_type": "execute_result"
    }
   ],
   "source": [
    "a4+b4"
   ]
  },
  {
   "cell_type": "markdown",
   "id": "853177c5",
   "metadata": {},
   "source": [
    "#### Eg.6"
   ]
  },
  {
   "cell_type": "code",
   "execution_count": 56,
   "id": "788aa053",
   "metadata": {},
   "outputs": [],
   "source": [
    "a5=np.arange(12).reshape(3,4)\n",
    "b5=np.arange(12).reshape(4,3)"
   ]
  },
  {
   "cell_type": "code",
   "execution_count": 57,
   "id": "d080de8b",
   "metadata": {},
   "outputs": [
    {
     "data": {
      "text/plain": [
       "array([[ 0,  1,  2,  3],\n",
       "       [ 4,  5,  6,  7],\n",
       "       [ 8,  9, 10, 11]])"
      ]
     },
     "execution_count": 57,
     "metadata": {},
     "output_type": "execute_result"
    }
   ],
   "source": [
    "a5"
   ]
  },
  {
   "cell_type": "code",
   "execution_count": 58,
   "id": "661f1f47",
   "metadata": {},
   "outputs": [
    {
     "data": {
      "text/plain": [
       "array([[ 0,  1,  2],\n",
       "       [ 3,  4,  5],\n",
       "       [ 6,  7,  8],\n",
       "       [ 9, 10, 11]])"
      ]
     },
     "execution_count": 58,
     "metadata": {},
     "output_type": "execute_result"
    }
   ],
   "source": [
    "b5"
   ]
  },
  {
   "cell_type": "code",
   "execution_count": 59,
   "id": "6b24a0ab",
   "metadata": {},
   "outputs": [],
   "source": [
    "# a5+b5  # Not Broadcasted, because two arrays are different shape"
   ]
  },
  {
   "cell_type": "markdown",
   "id": "aa0c30b2",
   "metadata": {},
   "source": [
    "#### Eg.7"
   ]
  },
  {
   "cell_type": "code",
   "execution_count": 60,
   "id": "9ff01081",
   "metadata": {},
   "outputs": [],
   "source": [
    "a6=np.arange(16).reshape(4,4)\n",
    "b6=np.arange(4).reshape(2,2)"
   ]
  },
  {
   "cell_type": "code",
   "execution_count": 61,
   "id": "398aa9fa",
   "metadata": {},
   "outputs": [
    {
     "data": {
      "text/plain": [
       "array([[ 0,  1,  2,  3],\n",
       "       [ 4,  5,  6,  7],\n",
       "       [ 8,  9, 10, 11],\n",
       "       [12, 13, 14, 15]])"
      ]
     },
     "execution_count": 61,
     "metadata": {},
     "output_type": "execute_result"
    }
   ],
   "source": [
    "a6"
   ]
  },
  {
   "cell_type": "code",
   "execution_count": 62,
   "id": "54105745",
   "metadata": {},
   "outputs": [
    {
     "data": {
      "text/plain": [
       "array([[0, 1],\n",
       "       [2, 3]])"
      ]
     },
     "execution_count": 62,
     "metadata": {},
     "output_type": "execute_result"
    }
   ],
   "source": [
    "b6"
   ]
  },
  {
   "cell_type": "code",
   "execution_count": 63,
   "id": "bb6dcb66",
   "metadata": {},
   "outputs": [],
   "source": [
    "# a6+b6  # Not Broadcasted, because two arrays are different shape"
   ]
  },
  {
   "cell_type": "markdown",
   "id": "6c09d842",
   "metadata": {},
   "source": [
    "### "
   ]
  },
  {
   "cell_type": "markdown",
   "id": "93b117aa",
   "metadata": {},
   "source": [
    "## WORKING WITH MATHEMATICAL FORMULAS"
   ]
  },
  {
   "cell_type": "markdown",
   "id": "960ff10e",
   "metadata": {},
   "source": [
    "#### SIGMOID"
   ]
  },
  {
   "cell_type": "markdown",
   "id": "b9a3ff94",
   "metadata": {},
   "source": [
    "##### SIGMOID FUNCTION FORMULA"
   ]
  },
  {
   "attachments": {
    "Sigmoid%20Function.png": {
     "image/png": "[encoded data removed]"
    }
   },
   "cell_type": "markdown",
   "id": "e387a26d",
   "metadata": {},
   "source": [
    "![Sigmoid%20Function.png](attachment:Sigmoid%20Function.png)"
   ]
  },
  {
   "cell_type": "code",
   "execution_count": 64,
   "id": "53a18cb1",
   "metadata": {},
   "outputs": [],
   "source": [
    "def sigmoid(array):\n",
    "    return 1/(1+np.exp(-(array)))"
   ]
  },
  {
   "cell_type": "code",
   "execution_count": 65,
   "id": "8b449c8b",
   "metadata": {},
   "outputs": [],
   "source": [
    "a=np.arange(100)"
   ]
  },
  {
   "cell_type": "code",
   "execution_count": 66,
   "id": "4e1351d0",
   "metadata": {},
   "outputs": [
    {
     "data": {
      "text/plain": [
       "array([0.5       , 0.73105858, 0.88079708, 0.95257413, 0.98201379,\n",
       "       0.99330715, 0.99752738, 0.99908895, 0.99966465, 0.99987661,\n",
       "       0.9999546 , 0.9999833 , 0.99999386, 0.99999774, 0.99999917,\n",
       "       0.99999969, 0.99999989, 0.99999996, 0.99999998, 0.99999999,\n",
       "       1.        , 1.        , 1.        , 1.        , 1.        ,\n",
       "       1.        , 1.        , 1.        , 1.        , 1.        ,\n",
       "       1.        , 1.        , 1.        , 1.        , 1.        ,\n",
       "       1.        , 1.        , 1.        , 1.        , 1.        ,\n",
       "       1.        , 1.        , 1.        , 1.        , 1.        ,\n",
       "       1.        , 1.        , 1.        , 1.        , 1.        ,\n",
       "       1.        , 1.        , 1.        , 1.        , 1.        ,\n",
       "       1.        , 1.        , 1.        , 1.        , 1.        ,\n",
       "       1.        , 1.        , 1.        , 1.        , 1.        ,\n",
       "       1.        , 1.        , 1.        , 1.        , 1.        ,\n",
       "       1.        , 1.        , 1.        , 1.        , 1.        ,\n",
       "       1.        , 1.        , 1.        , 1.        , 1.        ,\n",
       "       1.        , 1.        , 1.        , 1.        , 1.        ,\n",
       "       1.        , 1.        , 1.        , 1.        , 1.        ,\n",
       "       1.        , 1.        , 1.        , 1.        , 1.        ,\n",
       "       1.        , 1.        , 1.        , 1.        , 1.        ])"
      ]
     },
     "execution_count": 66,
     "metadata": {},
     "output_type": "execute_result"
    }
   ],
   "source": [
    "sigmoid(a)"
   ]
  },
  {
   "cell_type": "markdown",
   "id": "33511bc3",
   "metadata": {},
   "source": [
    "#### "
   ]
  },
  {
   "cell_type": "markdown",
   "id": "50839856",
   "metadata": {},
   "source": [
    "#### MEAN SQUARED ERROR"
   ]
  },
  {
   "cell_type": "markdown",
   "id": "55793e67",
   "metadata": {},
   "source": [
    "##### MEAN SQUARED ERROR FORMULA"
   ]
  },
  {
   "attachments": {
    "MSE.png": {
     "image/png": "[encoded data removed]"
    }
   },
   "cell_type": "markdown",
   "id": "6418476c",
   "metadata": {},
   "source": [
    "![MSE.png](attachment:MSE.png)"
   ]
  },
  {
   "cell_type": "code",
   "execution_count": 67,
   "id": "4238406c",
   "metadata": {},
   "outputs": [],
   "source": [
    "actual=np.random.randint(1,50,25)\n",
    "predict=np.random.randint(1,50,25)"
   ]
  },
  {
   "cell_type": "code",
   "execution_count": 68,
   "id": "34c5deb9",
   "metadata": {},
   "outputs": [
    {
     "data": {
      "text/plain": [
       "array([20,  5, 49, 22, 16,  2, 35, 42, 47,  1, 26, 19, 27, 38,  7, 21, 22,\n",
       "       26, 43,  1, 11, 38, 40,  7, 19])"
      ]
     },
     "execution_count": 68,
     "metadata": {},
     "output_type": "execute_result"
    }
   ],
   "source": [
    "actual"
   ]
  },
  {
   "cell_type": "code",
   "execution_count": 69,
   "id": "f4edc7d9",
   "metadata": {},
   "outputs": [
    {
     "data": {
      "text/plain": [
       "array([ 5, 24, 23, 47, 12, 29, 26, 14, 38, 11, 31, 39,  8,  7, 41, 31, 12,\n",
       "       49, 19, 23,  6, 10, 40, 43, 28])"
      ]
     },
     "execution_count": 69,
     "metadata": {},
     "output_type": "execute_result"
    }
   ],
   "source": [
    "predict"
   ]
  },
  {
   "cell_type": "code",
   "execution_count": 70,
   "id": "2ebb39fb",
   "metadata": {},
   "outputs": [],
   "source": [
    "def mse(act,prd):\n",
    "    return np.mean(np.square(act-prd))"
   ]
  },
  {
   "cell_type": "code",
   "execution_count": 71,
   "id": "9233107b",
   "metadata": {},
   "outputs": [
    {
     "data": {
      "text/plain": [
       "422.24"
      ]
     },
     "execution_count": 71,
     "metadata": {},
     "output_type": "execute_result"
    }
   ],
   "source": [
    "mse(actual,predict)"
   ]
  },
  {
   "cell_type": "markdown",
   "id": "6f29ebd7",
   "metadata": {},
   "source": [
    "#### BINARY CROSS ENTROPY"
   ]
  },
  {
   "cell_type": "markdown",
   "id": "98105b67",
   "metadata": {},
   "source": [
    "##### BINARY CROSS ENTROPY FORMULA"
   ]
  },
  {
   "attachments": {
    "Binary%20Cross%20entropy.png": {
     "image/png": "[encoded data removed]"
    }
   },
   "cell_type": "markdown",
   "id": "a420979a",
   "metadata": {},
   "source": [
    "![Binary%20Cross%20entropy.png](attachment:Binary%20Cross%20entropy.png)"
   ]
  },
  {
   "cell_type": "code",
   "execution_count": 82,
   "id": "8630ff7d",
   "metadata": {},
   "outputs": [],
   "source": [
    "actual1=np.random.randint(1,50,25)\n",
    "predict1=np.random.randint(1,50,25)"
   ]
  },
  {
   "cell_type": "code",
   "execution_count": 83,
   "id": "32eb5c07",
   "metadata": {},
   "outputs": [
    {
     "data": {
      "text/plain": [
       "array([16, 44, 44, 44,  3, 12, 32,  4, 29, 45, 22,  3, 14, 41, 18, 35, 45,\n",
       "        1, 48, 34, 20, 24,  5,  2, 27])"
      ]
     },
     "execution_count": 83,
     "metadata": {},
     "output_type": "execute_result"
    }
   ],
   "source": [
    "actual1"
   ]
  },
  {
   "cell_type": "code",
   "execution_count": 84,
   "id": "ea6fce47",
   "metadata": {},
   "outputs": [
    {
     "data": {
      "text/plain": [
       "array([32, 30, 17, 27, 15, 48, 14, 32, 43,  3, 29,  5,  2, 34, 46, 12,  6,\n",
       "       48, 18, 20, 13, 15, 39,  6, 45])"
      ]
     },
     "execution_count": 84,
     "metadata": {},
     "output_type": "execute_result"
    }
   ],
   "source": [
    "predict1"
   ]
  },
  {
   "cell_type": "code",
   "execution_count": 85,
   "id": "6087ee85",
   "metadata": {},
   "outputs": [],
   "source": [
    "def bce(act,pred):\n",
    "    return -(np.mean ((actual1 * np.log(predict1) ) - ( (-1+actual1) * (np.log( (-1+predict1) ) )) ) )"
   ]
  },
  {
   "cell_type": "code",
   "execution_count": 86,
   "id": "6640eed5",
   "metadata": {},
   "outputs": [
    {
     "data": {
      "text/plain": [
       "-5.226342221730536"
      ]
     },
     "execution_count": 86,
     "metadata": {},
     "output_type": "execute_result"
    }
   ],
   "source": [
    "bce(actual1,predict1)"
   ]
  },
  {
   "cell_type": "markdown",
   "id": "2a27a707",
   "metadata": {},
   "source": [
    "#### "
   ]
  },
  {
   "cell_type": "markdown",
   "id": "6ebe02d5",
   "metadata": {},
   "source": [
    "## WORKING WITH MISSING VALUES"
   ]
  },
  {
   "cell_type": "code",
   "execution_count": 87,
   "id": "84485cdd",
   "metadata": {},
   "outputs": [],
   "source": [
    "a=np.array([1,2,3,4,np.nan,6])"
   ]
  },
  {
   "cell_type": "code",
   "execution_count": 88,
   "id": "f2a4cc9f",
   "metadata": {},
   "outputs": [
    {
     "data": {
      "text/plain": [
       "array([ 1.,  2.,  3.,  4., nan,  6.])"
      ]
     },
     "execution_count": 88,
     "metadata": {},
     "output_type": "execute_result"
    }
   ],
   "source": [
    "a"
   ]
  },
  {
   "cell_type": "code",
   "execution_count": 92,
   "id": "882b5d89",
   "metadata": {},
   "outputs": [
    {
     "data": {
      "text/plain": [
       "array([False, False, False, False,  True, False])"
      ]
     },
     "execution_count": 92,
     "metadata": {},
     "output_type": "execute_result"
    }
   ],
   "source": [
    "np.isnan(a)"
   ]
  },
  {
   "cell_type": "code",
   "execution_count": 93,
   "id": "46b08240",
   "metadata": {},
   "outputs": [
    {
     "data": {
      "text/plain": [
       "array([nan])"
      ]
     },
     "execution_count": 93,
     "metadata": {},
     "output_type": "execute_result"
    }
   ],
   "source": [
    "a[np.isnan(a)] # It only give Missing value that is \"nan\""
   ]
  },
  {
   "cell_type": "code",
   "execution_count": 94,
   "id": "89e39858",
   "metadata": {},
   "outputs": [
    {
     "data": {
      "text/plain": [
       "array([1., 2., 3., 4., 6.])"
      ]
     },
     "execution_count": 94,
     "metadata": {},
     "output_type": "execute_result"
    }
   ],
   "source": [
    "a[~np.isnan(a)] # It give the value that is not \"nan\",it only give the values."
   ]
  },
  {
   "cell_type": "markdown",
   "id": "849f5da6",
   "metadata": {},
   "source": [
    "### "
   ]
  },
  {
   "cell_type": "markdown",
   "id": "8edbcef4",
   "metadata": {},
   "source": [
    "## PLOTTING GRAPHS"
   ]
  },
  {
   "cell_type": "markdown",
   "id": "d93bc4b8",
   "metadata": {},
   "source": [
    "### x=y Graph\n",
    "     Straight Line Through Origin Graph"
   ]
  },
  {
   "cell_type": "code",
   "execution_count": 95,
   "id": "7b5d74a1",
   "metadata": {},
   "outputs": [],
   "source": [
    "x=np.linspace(-10,10,100)"
   ]
  },
  {
   "cell_type": "code",
   "execution_count": 96,
   "id": "767d9115",
   "metadata": {},
   "outputs": [
    {
     "data": {
      "text/plain": [
       "array([-10.        ,  -9.7979798 ,  -9.5959596 ,  -9.39393939,\n",
       "        -9.19191919,  -8.98989899,  -8.78787879,  -8.58585859,\n",
       "        -8.38383838,  -8.18181818,  -7.97979798,  -7.77777778,\n",
       "        -7.57575758,  -7.37373737,  -7.17171717,  -6.96969697,\n",
       "        -6.76767677,  -6.56565657,  -6.36363636,  -6.16161616,\n",
       "        -5.95959596,  -5.75757576,  -5.55555556,  -5.35353535,\n",
       "        -5.15151515,  -4.94949495,  -4.74747475,  -4.54545455,\n",
       "        -4.34343434,  -4.14141414,  -3.93939394,  -3.73737374,\n",
       "        -3.53535354,  -3.33333333,  -3.13131313,  -2.92929293,\n",
       "        -2.72727273,  -2.52525253,  -2.32323232,  -2.12121212,\n",
       "        -1.91919192,  -1.71717172,  -1.51515152,  -1.31313131,\n",
       "        -1.11111111,  -0.90909091,  -0.70707071,  -0.50505051,\n",
       "        -0.3030303 ,  -0.1010101 ,   0.1010101 ,   0.3030303 ,\n",
       "         0.50505051,   0.70707071,   0.90909091,   1.11111111,\n",
       "         1.31313131,   1.51515152,   1.71717172,   1.91919192,\n",
       "         2.12121212,   2.32323232,   2.52525253,   2.72727273,\n",
       "         2.92929293,   3.13131313,   3.33333333,   3.53535354,\n",
       "         3.73737374,   3.93939394,   4.14141414,   4.34343434,\n",
       "         4.54545455,   4.74747475,   4.94949495,   5.15151515,\n",
       "         5.35353535,   5.55555556,   5.75757576,   5.95959596,\n",
       "         6.16161616,   6.36363636,   6.56565657,   6.76767677,\n",
       "         6.96969697,   7.17171717,   7.37373737,   7.57575758,\n",
       "         7.77777778,   7.97979798,   8.18181818,   8.38383838,\n",
       "         8.58585859,   8.78787879,   8.98989899,   9.19191919,\n",
       "         9.39393939,   9.5959596 ,   9.7979798 ,  10.        ])"
      ]
     },
     "execution_count": 96,
     "metadata": {},
     "output_type": "execute_result"
    }
   ],
   "source": [
    "x"
   ]
  },
  {
   "cell_type": "code",
   "execution_count": 97,
   "id": "e23011b3",
   "metadata": {},
   "outputs": [],
   "source": [
    "y=x"
   ]
  },
  {
   "cell_type": "code",
   "execution_count": 98,
   "id": "cd9f8500",
   "metadata": {},
   "outputs": [
    {
     "data": {
      "text/plain": [
       "array([-10.        ,  -9.7979798 ,  -9.5959596 ,  -9.39393939,\n",
       "        -9.19191919,  -8.98989899,  -8.78787879,  -8.58585859,\n",
       "        -8.38383838,  -8.18181818,  -7.97979798,  -7.77777778,\n",
       "        -7.57575758,  -7.37373737,  -7.17171717,  -6.96969697,\n",
       "        -6.76767677,  -6.56565657,  -6.36363636,  -6.16161616,\n",
       "        -5.95959596,  -5.75757576,  -5.55555556,  -5.35353535,\n",
       "        -5.15151515,  -4.94949495,  -4.74747475,  -4.54545455,\n",
       "        -4.34343434,  -4.14141414,  -3.93939394,  -3.73737374,\n",
       "        -3.53535354,  -3.33333333,  -3.13131313,  -2.92929293,\n",
       "        -2.72727273,  -2.52525253,  -2.32323232,  -2.12121212,\n",
       "        -1.91919192,  -1.71717172,  -1.51515152,  -1.31313131,\n",
       "        -1.11111111,  -0.90909091,  -0.70707071,  -0.50505051,\n",
       "        -0.3030303 ,  -0.1010101 ,   0.1010101 ,   0.3030303 ,\n",
       "         0.50505051,   0.70707071,   0.90909091,   1.11111111,\n",
       "         1.31313131,   1.51515152,   1.71717172,   1.91919192,\n",
       "         2.12121212,   2.32323232,   2.52525253,   2.72727273,\n",
       "         2.92929293,   3.13131313,   3.33333333,   3.53535354,\n",
       "         3.73737374,   3.93939394,   4.14141414,   4.34343434,\n",
       "         4.54545455,   4.74747475,   4.94949495,   5.15151515,\n",
       "         5.35353535,   5.55555556,   5.75757576,   5.95959596,\n",
       "         6.16161616,   6.36363636,   6.56565657,   6.76767677,\n",
       "         6.96969697,   7.17171717,   7.37373737,   7.57575758,\n",
       "         7.77777778,   7.97979798,   8.18181818,   8.38383838,\n",
       "         8.58585859,   8.78787879,   8.98989899,   9.19191919,\n",
       "         9.39393939,   9.5959596 ,   9.7979798 ,  10.        ])"
      ]
     },
     "execution_count": 98,
     "metadata": {},
     "output_type": "execute_result"
    }
   ],
   "source": [
    "y"
   ]
  },
  {
   "cell_type": "code",
   "execution_count": 100,
   "id": "138fe908",
   "metadata": {},
   "outputs": [
    {
     "data": {
      "text/plain": [
       "[<matplotlib.lines.Line2D at 0x26381f62df0>]"
      ]
     },
     "execution_count": 100,
     "metadata": {},
     "output_type": "execute_result"
    },
    {
     "data": {
      "image/png": "[encoded data removed]",
      "text/plain": [
       "<Figure size 640x480 with 1 Axes>"
      ]
     },
     "metadata": {},
     "output_type": "display_data"
    }
   ],
   "source": [
    "plt.plot(x,y)"
   ]
  },
  {
   "cell_type": "markdown",
   "id": "d01639f0",
   "metadata": {},
   "source": [
    "### y=x^2 Graph\n",
    "     Parabola "
   ]
  },
  {
   "cell_type": "code",
   "execution_count": 101,
   "id": "e5dd2e36",
   "metadata": {},
   "outputs": [
    {
     "data": {
      "text/plain": [
       "array([-10.        ,  -9.7979798 ,  -9.5959596 ,  -9.39393939,\n",
       "        -9.19191919,  -8.98989899,  -8.78787879,  -8.58585859,\n",
       "        -8.38383838,  -8.18181818,  -7.97979798,  -7.77777778,\n",
       "        -7.57575758,  -7.37373737,  -7.17171717,  -6.96969697,\n",
       "        -6.76767677,  -6.56565657,  -6.36363636,  -6.16161616,\n",
       "        -5.95959596,  -5.75757576,  -5.55555556,  -5.35353535,\n",
       "        -5.15151515,  -4.94949495,  -4.74747475,  -4.54545455,\n",
       "        -4.34343434,  -4.14141414,  -3.93939394,  -3.73737374,\n",
       "        -3.53535354,  -3.33333333,  -3.13131313,  -2.92929293,\n",
       "        -2.72727273,  -2.52525253,  -2.32323232,  -2.12121212,\n",
       "        -1.91919192,  -1.71717172,  -1.51515152,  -1.31313131,\n",
       "        -1.11111111,  -0.90909091,  -0.70707071,  -0.50505051,\n",
       "        -0.3030303 ,  -0.1010101 ,   0.1010101 ,   0.3030303 ,\n",
       "         0.50505051,   0.70707071,   0.90909091,   1.11111111,\n",
       "         1.31313131,   1.51515152,   1.71717172,   1.91919192,\n",
       "         2.12121212,   2.32323232,   2.52525253,   2.72727273,\n",
       "         2.92929293,   3.13131313,   3.33333333,   3.53535354,\n",
       "         3.73737374,   3.93939394,   4.14141414,   4.34343434,\n",
       "         4.54545455,   4.74747475,   4.94949495,   5.15151515,\n",
       "         5.35353535,   5.55555556,   5.75757576,   5.95959596,\n",
       "         6.16161616,   6.36363636,   6.56565657,   6.76767677,\n",
       "         6.96969697,   7.17171717,   7.37373737,   7.57575758,\n",
       "         7.77777778,   7.97979798,   8.18181818,   8.38383838,\n",
       "         8.58585859,   8.78787879,   8.98989899,   9.19191919,\n",
       "         9.39393939,   9.5959596 ,   9.7979798 ,  10.        ])"
      ]
     },
     "execution_count": 101,
     "metadata": {},
     "output_type": "execute_result"
    }
   ],
   "source": [
    "x"
   ]
  },
  {
   "cell_type": "code",
   "execution_count": 104,
   "id": "251aedca",
   "metadata": {},
   "outputs": [],
   "source": [
    "y=x**2"
   ]
  },
  {
   "cell_type": "code",
   "execution_count": 105,
   "id": "8f4fe81e",
   "metadata": {},
   "outputs": [
    {
     "data": {
      "text/plain": [
       "array([1.00000000e+02, 9.60004081e+01, 9.20824406e+01, 8.82460973e+01,\n",
       "       8.44913784e+01, 8.08182838e+01, 7.72268136e+01, 7.37169677e+01,\n",
       "       7.02887460e+01, 6.69421488e+01, 6.36771758e+01, 6.04938272e+01,\n",
       "       5.73921028e+01, 5.43720029e+01, 5.14335272e+01, 4.85766758e+01,\n",
       "       4.58014488e+01, 4.31078461e+01, 4.04958678e+01, 3.79655137e+01,\n",
       "       3.55167840e+01, 3.31496786e+01, 3.08641975e+01, 2.86603408e+01,\n",
       "       2.65381084e+01, 2.44975003e+01, 2.25385165e+01, 2.06611570e+01,\n",
       "       1.88654219e+01, 1.71513111e+01, 1.55188246e+01, 1.39679625e+01,\n",
       "       1.24987246e+01, 1.11111111e+01, 9.80512193e+00, 8.58075707e+00,\n",
       "       7.43801653e+00, 6.37690032e+00, 5.39740843e+00, 4.49954086e+00,\n",
       "       3.68329762e+00, 2.94867871e+00, 2.29568411e+00, 1.72431385e+00,\n",
       "       1.23456790e+00, 8.26446281e-01, 4.99948985e-01, 2.55076013e-01,\n",
       "       9.18273646e-02, 1.02030405e-02, 1.02030405e-02, 9.18273646e-02,\n",
       "       2.55076013e-01, 4.99948985e-01, 8.26446281e-01, 1.23456790e+00,\n",
       "       1.72431385e+00, 2.29568411e+00, 2.94867871e+00, 3.68329762e+00,\n",
       "       4.49954086e+00, 5.39740843e+00, 6.37690032e+00, 7.43801653e+00,\n",
       "       8.58075707e+00, 9.80512193e+00, 1.11111111e+01, 1.24987246e+01,\n",
       "       1.39679625e+01, 1.55188246e+01, 1.71513111e+01, 1.88654219e+01,\n",
       "       2.06611570e+01, 2.25385165e+01, 2.44975003e+01, 2.65381084e+01,\n",
       "       2.86603408e+01, 3.08641975e+01, 3.31496786e+01, 3.55167840e+01,\n",
       "       3.79655137e+01, 4.04958678e+01, 4.31078461e+01, 4.58014488e+01,\n",
       "       4.85766758e+01, 5.14335272e+01, 5.43720029e+01, 5.73921028e+01,\n",
       "       6.04938272e+01, 6.36771758e+01, 6.69421488e+01, 7.02887460e+01,\n",
       "       7.37169677e+01, 7.72268136e+01, 8.08182838e+01, 8.44913784e+01,\n",
       "       8.82460973e+01, 9.20824406e+01, 9.60004081e+01, 1.00000000e+02])"
      ]
     },
     "execution_count": 105,
     "metadata": {},
     "output_type": "execute_result"
    }
   ],
   "source": [
    "y"
   ]
  },
  {
   "cell_type": "code",
   "execution_count": 106,
   "id": "6b3e69e6",
   "metadata": {},
   "outputs": [
    {
     "data": {
      "text/plain": [
       "[<matplotlib.lines.Line2D at 0x26381fbbd30>]"
      ]
     },
     "execution_count": 106,
     "metadata": {},
     "output_type": "execute_result"
    },
    {
     "data": {
      "image/png": "[encoded data removed]",
      "text/plain": [
       "<Figure size 640x480 with 1 Axes>"
      ]
     },
     "metadata": {},
     "output_type": "display_data"
    }
   ],
   "source": [
    "plt.plot(x,y)"
   ]
  },
  {
   "cell_type": "markdown",
   "id": "2d167220",
   "metadata": {},
   "source": [
    "### y=sin(x)"
   ]
  },
  {
   "cell_type": "code",
   "execution_count": 107,
   "id": "e72b2653",
   "metadata": {},
   "outputs": [
    {
     "data": {
      "text/plain": [
       "array([-10.        ,  -9.7979798 ,  -9.5959596 ,  -9.39393939,\n",
       "        -9.19191919,  -8.98989899,  -8.78787879,  -8.58585859,\n",
       "        -8.38383838,  -8.18181818,  -7.97979798,  -7.77777778,\n",
       "        -7.57575758,  -7.37373737,  -7.17171717,  -6.96969697,\n",
       "        -6.76767677,  -6.56565657,  -6.36363636,  -6.16161616,\n",
       "        -5.95959596,  -5.75757576,  -5.55555556,  -5.35353535,\n",
       "        -5.15151515,  -4.94949495,  -4.74747475,  -4.54545455,\n",
       "        -4.34343434,  -4.14141414,  -3.93939394,  -3.73737374,\n",
       "        -3.53535354,  -3.33333333,  -3.13131313,  -2.92929293,\n",
       "        -2.72727273,  -2.52525253,  -2.32323232,  -2.12121212,\n",
       "        -1.91919192,  -1.71717172,  -1.51515152,  -1.31313131,\n",
       "        -1.11111111,  -0.90909091,  -0.70707071,  -0.50505051,\n",
       "        -0.3030303 ,  -0.1010101 ,   0.1010101 ,   0.3030303 ,\n",
       "         0.50505051,   0.70707071,   0.90909091,   1.11111111,\n",
       "         1.31313131,   1.51515152,   1.71717172,   1.91919192,\n",
       "         2.12121212,   2.32323232,   2.52525253,   2.72727273,\n",
       "         2.92929293,   3.13131313,   3.33333333,   3.53535354,\n",
       "         3.73737374,   3.93939394,   4.14141414,   4.34343434,\n",
       "         4.54545455,   4.74747475,   4.94949495,   5.15151515,\n",
       "         5.35353535,   5.55555556,   5.75757576,   5.95959596,\n",
       "         6.16161616,   6.36363636,   6.56565657,   6.76767677,\n",
       "         6.96969697,   7.17171717,   7.37373737,   7.57575758,\n",
       "         7.77777778,   7.97979798,   8.18181818,   8.38383838,\n",
       "         8.58585859,   8.78787879,   8.98989899,   9.19191919,\n",
       "         9.39393939,   9.5959596 ,   9.7979798 ,  10.        ])"
      ]
     },
     "execution_count": 107,
     "metadata": {},
     "output_type": "execute_result"
    }
   ],
   "source": [
    "x"
   ]
  },
  {
   "cell_type": "code",
   "execution_count": 108,
   "id": "2d13ca96",
   "metadata": {},
   "outputs": [],
   "source": [
    "y=np.sin(x)"
   ]
  },
  {
   "cell_type": "code",
   "execution_count": 109,
   "id": "b80c8db6",
   "metadata": {},
   "outputs": [
    {
     "data": {
      "text/plain": [
       "array([ 0.54402111,  0.36459873,  0.17034683, -0.03083368, -0.23076008,\n",
       "       -0.42130064, -0.59470541, -0.74392141, -0.86287948, -0.94674118,\n",
       "       -0.99209556, -0.99709789, -0.96154471, -0.8868821 , -0.77614685,\n",
       "       -0.63384295, -0.46575841, -0.27872982, -0.0803643 ,  0.12126992,\n",
       "        0.31797166,  0.50174037,  0.66510151,  0.80141062,  0.90512352,\n",
       "        0.97202182,  0.99938456,  0.98609877,  0.93270486,  0.84137452,\n",
       "        0.7158225 ,  0.56115544,  0.38366419,  0.19056796, -0.01027934,\n",
       "       -0.21070855, -0.40256749, -0.57805259, -0.73002623, -0.85230712,\n",
       "       -0.93992165, -0.98930624, -0.99845223, -0.96698762, -0.8961922 ,\n",
       "       -0.78894546, -0.64960951, -0.48385164, -0.2984138 , -0.10083842,\n",
       "        0.10083842,  0.2984138 ,  0.48385164,  0.64960951,  0.78894546,\n",
       "        0.8961922 ,  0.96698762,  0.99845223,  0.98930624,  0.93992165,\n",
       "        0.85230712,  0.73002623,  0.57805259,  0.40256749,  0.21070855,\n",
       "        0.01027934, -0.19056796, -0.38366419, -0.56115544, -0.7158225 ,\n",
       "       -0.84137452, -0.93270486, -0.98609877, -0.99938456, -0.97202182,\n",
       "       -0.90512352, -0.80141062, -0.66510151, -0.50174037, -0.31797166,\n",
       "       -0.12126992,  0.0803643 ,  0.27872982,  0.46575841,  0.63384295,\n",
       "        0.77614685,  0.8868821 ,  0.96154471,  0.99709789,  0.99209556,\n",
       "        0.94674118,  0.86287948,  0.74392141,  0.59470541,  0.42130064,\n",
       "        0.23076008,  0.03083368, -0.17034683, -0.36459873, -0.54402111])"
      ]
     },
     "execution_count": 109,
     "metadata": {},
     "output_type": "execute_result"
    }
   ],
   "source": [
    "y"
   ]
  },
  {
   "cell_type": "code",
   "execution_count": 110,
   "id": "85a09952",
   "metadata": {},
   "outputs": [
    {
     "data": {
      "text/plain": [
       "[<matplotlib.lines.Line2D at 0x2638203a0d0>]"
      ]
     },
     "execution_count": 110,
     "metadata": {},
     "output_type": "execute_result"
    },
    {
     "data": {
      "image/png": "[encoded data removed]",
      "text/plain": [
       "<Figure size 640x480 with 1 Axes>"
      ]
     },
     "metadata": {},
     "output_type": "display_data"
    }
   ],
   "source": [
    "plt.plot(x,y)"
   ]
  },
  {
   "cell_type": "markdown",
   "id": "69cbc2c9",
   "metadata": {},
   "source": [
    "### y=xlog(x)"
   ]
  },
  {
   "cell_type": "code",
   "execution_count": 111,
   "id": "29fb46dd",
   "metadata": {},
   "outputs": [
    {
     "data": {
      "text/plain": [
       "array([-10.        ,  -9.7979798 ,  -9.5959596 ,  -9.39393939,\n",
       "        -9.19191919,  -8.98989899,  -8.78787879,  -8.58585859,\n",
       "        -8.38383838,  -8.18181818,  -7.97979798,  -7.77777778,\n",
       "        -7.57575758,  -7.37373737,  -7.17171717,  -6.96969697,\n",
       "        -6.76767677,  -6.56565657,  -6.36363636,  -6.16161616,\n",
       "        -5.95959596,  -5.75757576,  -5.55555556,  -5.35353535,\n",
       "        -5.15151515,  -4.94949495,  -4.74747475,  -4.54545455,\n",
       "        -4.34343434,  -4.14141414,  -3.93939394,  -3.73737374,\n",
       "        -3.53535354,  -3.33333333,  -3.13131313,  -2.92929293,\n",
       "        -2.72727273,  -2.52525253,  -2.32323232,  -2.12121212,\n",
       "        -1.91919192,  -1.71717172,  -1.51515152,  -1.31313131,\n",
       "        -1.11111111,  -0.90909091,  -0.70707071,  -0.50505051,\n",
       "        -0.3030303 ,  -0.1010101 ,   0.1010101 ,   0.3030303 ,\n",
       "         0.50505051,   0.70707071,   0.90909091,   1.11111111,\n",
       "         1.31313131,   1.51515152,   1.71717172,   1.91919192,\n",
       "         2.12121212,   2.32323232,   2.52525253,   2.72727273,\n",
       "         2.92929293,   3.13131313,   3.33333333,   3.53535354,\n",
       "         3.73737374,   3.93939394,   4.14141414,   4.34343434,\n",
       "         4.54545455,   4.74747475,   4.94949495,   5.15151515,\n",
       "         5.35353535,   5.55555556,   5.75757576,   5.95959596,\n",
       "         6.16161616,   6.36363636,   6.56565657,   6.76767677,\n",
       "         6.96969697,   7.17171717,   7.37373737,   7.57575758,\n",
       "         7.77777778,   7.97979798,   8.18181818,   8.38383838,\n",
       "         8.58585859,   8.78787879,   8.98989899,   9.19191919,\n",
       "         9.39393939,   9.5959596 ,   9.7979798 ,  10.        ])"
      ]
     },
     "execution_count": 111,
     "metadata": {},
     "output_type": "execute_result"
    }
   ],
   "source": [
    "x"
   ]
  },
  {
   "cell_type": "code",
   "execution_count": 114,
   "id": "969427b8",
   "metadata": {},
   "outputs": [
    {
     "name": "stderr",
     "output_type": "stream",
     "text": [
      "C:\\Users\\mitra\\AppData\\Local\\Temp\\ipykernel_20016\\593310222.py:1: RuntimeWarning: invalid value encountered in log\n",
      "  y=(x) * (np.log(x))\n"
     ]
    }
   ],
   "source": [
    "y=(x) * (np.log(x))"
   ]
  },
  {
   "cell_type": "code",
   "execution_count": 115,
   "id": "6d21be62",
   "metadata": {},
   "outputs": [
    {
     "data": {
      "text/plain": [
       "array([        nan,         nan,         nan,         nan,         nan,\n",
       "               nan,         nan,         nan,         nan,         nan,\n",
       "               nan,         nan,         nan,         nan,         nan,\n",
       "               nan,         nan,         nan,         nan,         nan,\n",
       "               nan,         nan,         nan,         nan,         nan,\n",
       "               nan,         nan,         nan,         nan,         nan,\n",
       "               nan,         nan,         nan,         nan,         nan,\n",
       "               nan,         nan,         nan,         nan,         nan,\n",
       "               nan,         nan,         nan,         nan,         nan,\n",
       "               nan,         nan,         nan,         nan,         nan,\n",
       "       -0.23156917, -0.36179469, -0.34499841, -0.24508811, -0.08664562,\n",
       "        0.11706724,  0.35771614,  0.62956885,  0.92843798,  1.25112931,\n",
       "        1.59512538,  1.95839066,  2.33924512,  2.73627848,  3.14829001,\n",
       "        3.57424504,  4.01324268,  4.46449148,  4.92729058,  5.40101502,\n",
       "        5.88510401,  6.37905156,  6.88239878,  7.39472765,  7.91565571,\n",
       "        8.44483178,  8.98193225,  9.52665793, 10.07873143, 10.6378948 ,\n",
       "       11.20390763, 11.77654526, 12.35559731, 12.94086634, 13.53216672,\n",
       "       14.12932359, 14.73217191, 15.34055573, 15.95432739, 16.57334692,\n",
       "       17.19748143, 17.82660461, 18.46059621, 19.09934166, 19.74273167,\n",
       "       20.39066184, 21.04303237, 21.69974775, 22.36071651, 23.02585093])"
      ]
     },
     "execution_count": 115,
     "metadata": {},
     "output_type": "execute_result"
    }
   ],
   "source": [
    "y"
   ]
  },
  {
   "cell_type": "code",
   "execution_count": 116,
   "id": "feb7d009",
   "metadata": {},
   "outputs": [
    {
     "data": {
      "text/plain": [
       "[<matplotlib.lines.Line2D at 0x263820a67f0>]"
      ]
     },
     "execution_count": 116,
     "metadata": {},
     "output_type": "execute_result"
    },
    {
     "data": {
      "image/png": "[encoded data removed]",
      "text/plain": [
       "<Figure size 640x480 with 1 Axes>"
      ]
     },
     "metadata": {},
     "output_type": "display_data"
    }
   ],
   "source": [
    "plt.plot(x,y)"
   ]
  },
  {
   "cell_type": "code",
   "execution_count": null,
   "id": "7cdc9695",
   "metadata": {},
   "outputs": [],
   "source": []
  }
 ],
 "metadata": {
  "kernelspec": {
   "display_name": "Python 3 (ipykernel)",
   "language": "python",
   "name": "python3"
  },
  "language_info": {
   "codemirror_mode": {
    "name": "ipython",
    "version": 3
   },
   "file_extension": ".py",
   "mimetype": "text/x-python",
   "name": "python",
   "nbconvert_exporter": "python",
   "pygments_lexer": "ipython3",
   "version": "3.9.13"
  }
 },
 "nbformat": 4,
 "nbformat_minor": 5
}
