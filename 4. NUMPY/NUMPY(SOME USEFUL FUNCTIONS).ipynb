{
 "cells": [
  {
   "cell_type": "code",
   "execution_count": 1,
   "id": "2e0643d4",
   "metadata": {},
   "outputs": [],
   "source": [
    "import numpy as np"
   ]
  },
  {
   "cell_type": "markdown",
   "id": "83851ed6",
   "metadata": {},
   "source": [
    "## Numpy Useful Functions"
   ]
  },
  {
   "cell_type": "markdown",
   "id": "08ae1b32",
   "metadata": {},
   "source": [
    "### np.sort \n",
    "     Return a sorted copy of an array"
   ]
  },
  {
   "cell_type": "code",
   "execution_count": 39,
   "id": "23c809fc",
   "metadata": {},
   "outputs": [],
   "source": [
    "a=np.random.randint(1,100,15)\n",
    "b=np.random.randint(1,100,(6,4))"
   ]
  },
  {
   "cell_type": "code",
   "execution_count": 40,
   "id": "c4efec4d",
   "metadata": {},
   "outputs": [
    {
     "data": {
      "text/plain": [
       "array([21, 26, 43, 76, 11, 58, 91,  9, 14, 96, 40, 83, 99, 76, 58])"
      ]
     },
     "execution_count": 40,
     "metadata": {},
     "output_type": "execute_result"
    }
   ],
   "source": [
    "a"
   ]
  },
  {
   "cell_type": "code",
   "execution_count": 4,
   "id": "62930fbd",
   "metadata": {},
   "outputs": [
    {
     "data": {
      "text/plain": [
       "array([[ 9, 28, 64, 40],\n",
       "       [53, 83, 97, 47],\n",
       "       [ 9, 10, 44, 62],\n",
       "       [47, 66, 20, 63],\n",
       "       [60, 17, 42, 87],\n",
       "       [88, 34, 97, 62]])"
      ]
     },
     "execution_count": 4,
     "metadata": {},
     "output_type": "execute_result"
    }
   ],
   "source": [
    "b"
   ]
  },
  {
   "cell_type": "code",
   "execution_count": 5,
   "id": "ef30a2a5",
   "metadata": {},
   "outputs": [
    {
     "data": {
      "text/plain": [
       "array([ 9, 21, 31, 33, 47, 49, 57, 73, 74, 75, 77, 89, 90, 92, 96])"
      ]
     },
     "execution_count": 5,
     "metadata": {},
     "output_type": "execute_result"
    }
   ],
   "source": [
    "np.sort(a) # (Ascending to Descending)"
   ]
  },
  {
   "cell_type": "code",
   "execution_count": 6,
   "id": "5c01a4d4",
   "metadata": {},
   "outputs": [
    {
     "data": {
      "text/plain": [
       "array([[ 9, 28, 40, 64],\n",
       "       [47, 53, 83, 97],\n",
       "       [ 9, 10, 44, 62],\n",
       "       [20, 47, 63, 66],\n",
       "       [17, 42, 60, 87],\n",
       "       [34, 62, 88, 97]])"
      ]
     },
     "execution_count": 6,
     "metadata": {},
     "output_type": "execute_result"
    }
   ],
   "source": [
    "np.sort(b) # Row wise Sorting (Ascending to Descending)"
   ]
  },
  {
   "cell_type": "code",
   "execution_count": 7,
   "id": "be57cde6",
   "metadata": {},
   "outputs": [
    {
     "data": {
      "text/plain": [
       "array([[ 9, 10, 20, 40],\n",
       "       [ 9, 17, 42, 47],\n",
       "       [47, 28, 44, 62],\n",
       "       [53, 34, 64, 62],\n",
       "       [60, 66, 97, 63],\n",
       "       [88, 83, 97, 87]])"
      ]
     },
     "execution_count": 7,
     "metadata": {},
     "output_type": "execute_result"
    }
   ],
   "source": [
    "np.sort(b,axis=0) # Column wise Sorting (Ascending to Descending)"
   ]
  },
  {
   "cell_type": "code",
   "execution_count": 8,
   "id": "41e050fe",
   "metadata": {},
   "outputs": [
    {
     "data": {
      "text/plain": [
       "array([96, 92, 90, 89, 77, 75, 74, 73, 57, 49, 47, 33, 31, 21,  9])"
      ]
     },
     "execution_count": 8,
     "metadata": {},
     "output_type": "execute_result"
    }
   ],
   "source": [
    "np.sort(a)[::-1]  # Descending to Ascending"
   ]
  },
  {
   "cell_type": "markdown",
   "id": "0bf8617d",
   "metadata": {},
   "source": [
    "### np.append\n",
    "     The numpy.append() appends values along the mentioned axis at the end of the array"
   ]
  },
  {
   "cell_type": "code",
   "execution_count": 41,
   "id": "51da1086",
   "metadata": {},
   "outputs": [
    {
     "data": {
      "text/plain": [
       "array([21, 26, 43, 76, 11, 58, 91,  9, 14, 96, 40, 83, 99, 76, 58])"
      ]
     },
     "execution_count": 41,
     "metadata": {},
     "output_type": "execute_result"
    }
   ],
   "source": [
    "a"
   ]
  },
  {
   "cell_type": "code",
   "execution_count": 10,
   "id": "52c5caf1",
   "metadata": {},
   "outputs": [
    {
     "data": {
      "text/plain": [
       "array([ 90,  89,  33,   9,  96,  77,  21,  75,  47,  31,  49,  92,  73,\n",
       "        57,  74, 200])"
      ]
     },
     "execution_count": 10,
     "metadata": {},
     "output_type": "execute_result"
    }
   ],
   "source": [
    "np.append(a,200)"
   ]
  },
  {
   "cell_type": "code",
   "execution_count": 11,
   "id": "cbb1b2bc",
   "metadata": {},
   "outputs": [
    {
     "data": {
      "text/plain": [
       "array([90, 89, 33,  9, 96, 77, 21, 75, 47, 31, 49, 92, 73, 57, 74,  2,  4,\n",
       "        5])"
      ]
     },
     "execution_count": 11,
     "metadata": {},
     "output_type": "execute_result"
    }
   ],
   "source": [
    "np.append(a,[2,4,5])"
   ]
  },
  {
   "cell_type": "code",
   "execution_count": 12,
   "id": "ad7f766f",
   "metadata": {},
   "outputs": [
    {
     "data": {
      "text/plain": [
       "array([[ 9, 28, 64, 40],\n",
       "       [53, 83, 97, 47],\n",
       "       [ 9, 10, 44, 62],\n",
       "       [47, 66, 20, 63],\n",
       "       [60, 17, 42, 87],\n",
       "       [88, 34, 97, 62]])"
      ]
     },
     "execution_count": 12,
     "metadata": {},
     "output_type": "execute_result"
    }
   ],
   "source": [
    "b"
   ]
  },
  {
   "cell_type": "code",
   "execution_count": 13,
   "id": "f8859ce5",
   "metadata": {},
   "outputs": [
    {
     "data": {
      "text/plain": [
       "array([ 9, 28, 64, 40, 53, 83, 97, 47,  9, 10, 44, 62, 47, 66, 20, 63, 60,\n",
       "       17, 42, 87, 88, 34, 97, 62,  1])"
      ]
     },
     "execution_count": 13,
     "metadata": {},
     "output_type": "execute_result"
    }
   ],
   "source": [
    "np.append(b,1) # First it convert it to 1D array then append the value in the last."
   ]
  },
  {
   "cell_type": "code",
   "execution_count": 14,
   "id": "ca5cd28c",
   "metadata": {},
   "outputs": [
    {
     "data": {
      "text/plain": [
       "array([[ 9., 28., 64., 40.,  1.],\n",
       "       [53., 83., 97., 47.,  1.],\n",
       "       [ 9., 10., 44., 62.,  1.],\n",
       "       [47., 66., 20., 63.,  1.],\n",
       "       [60., 17., 42., 87.,  1.],\n",
       "       [88., 34., 97., 62.,  1.]])"
      ]
     },
     "execution_count": 14,
     "metadata": {},
     "output_type": "execute_result"
    }
   ],
   "source": [
    "np.append(b,np.ones((b.shape[0],1)),axis=1) # Column wise Append"
   ]
  },
  {
   "cell_type": "markdown",
   "id": "0881e757",
   "metadata": {},
   "source": [
    "### np.concatenate\n",
    "     numpy.concatenate() function concatenate a sequence of arrays along an existing axis."
   ]
  },
  {
   "cell_type": "code",
   "execution_count": 15,
   "id": "c698aa21",
   "metadata": {},
   "outputs": [],
   "source": [
    "a=np.arange(6).reshape(2,3)\n",
    "b=np.arange(6,12).reshape(2,3)"
   ]
  },
  {
   "cell_type": "code",
   "execution_count": 16,
   "id": "8be7df0d",
   "metadata": {},
   "outputs": [
    {
     "data": {
      "text/plain": [
       "array([[0, 1, 2],\n",
       "       [3, 4, 5]])"
      ]
     },
     "execution_count": 16,
     "metadata": {},
     "output_type": "execute_result"
    }
   ],
   "source": [
    "a"
   ]
  },
  {
   "cell_type": "code",
   "execution_count": 17,
   "id": "baa13da4",
   "metadata": {},
   "outputs": [
    {
     "data": {
      "text/plain": [
       "array([[ 6,  7,  8],\n",
       "       [ 9, 10, 11]])"
      ]
     },
     "execution_count": 17,
     "metadata": {},
     "output_type": "execute_result"
    }
   ],
   "source": [
    "b"
   ]
  },
  {
   "cell_type": "code",
   "execution_count": 18,
   "id": "1fb18f9d",
   "metadata": {},
   "outputs": [
    {
     "data": {
      "text/plain": [
       "array([[ 0,  1,  2],\n",
       "       [ 3,  4,  5],\n",
       "       [ 6,  7,  8],\n",
       "       [ 9, 10, 11]])"
      ]
     },
     "execution_count": 18,
     "metadata": {},
     "output_type": "execute_result"
    }
   ],
   "source": [
    "np.concatenate((a,b),axis=0) # Join in Row Wise"
   ]
  },
  {
   "cell_type": "code",
   "execution_count": 19,
   "id": "d9c807f8",
   "metadata": {},
   "outputs": [
    {
     "data": {
      "text/plain": [
       "array([[ 0,  1,  2,  6,  7,  8],\n",
       "       [ 3,  4,  5,  9, 10, 11]])"
      ]
     },
     "execution_count": 19,
     "metadata": {},
     "output_type": "execute_result"
    }
   ],
   "source": [
    "np.concatenate((a,b),axis=1) # Join in Column wise"
   ]
  },
  {
   "cell_type": "markdown",
   "id": "4b826dd0",
   "metadata": {},
   "source": [
    "### np.unique\n",
    "     With the help of np.uinque() method, we can get the unique values from an array given as parameter in np.unique() \n",
    "     method."
   ]
  },
  {
   "cell_type": "code",
   "execution_count": 20,
   "id": "38f3fb11",
   "metadata": {},
   "outputs": [],
   "source": [
    "e=np.array([1,1,1,2,3,4,5,1,3,3,4,4,6,5,3,4,5,1,1])\n",
    "f=np.array([[1,2,1,1,2,3],[2,3,1,1,2,1]])"
   ]
  },
  {
   "cell_type": "code",
   "execution_count": 21,
   "id": "16cc5b5b",
   "metadata": {},
   "outputs": [
    {
     "data": {
      "text/plain": [
       "array([1, 1, 1, 2, 3, 4, 5, 1, 3, 3, 4, 4, 6, 5, 3, 4, 5, 1, 1])"
      ]
     },
     "execution_count": 21,
     "metadata": {},
     "output_type": "execute_result"
    }
   ],
   "source": [
    "e"
   ]
  },
  {
   "cell_type": "code",
   "execution_count": 22,
   "id": "f46473f5",
   "metadata": {},
   "outputs": [
    {
     "data": {
      "text/plain": [
       "array([[1, 2, 1, 1, 2, 3],\n",
       "       [2, 3, 1, 1, 2, 1]])"
      ]
     },
     "execution_count": 22,
     "metadata": {},
     "output_type": "execute_result"
    }
   ],
   "source": [
    "f"
   ]
  },
  {
   "cell_type": "code",
   "execution_count": 23,
   "id": "920e8de1",
   "metadata": {},
   "outputs": [
    {
     "data": {
      "text/plain": [
       "array([1, 2, 3, 4, 5, 6])"
      ]
     },
     "execution_count": 23,
     "metadata": {},
     "output_type": "execute_result"
    }
   ],
   "source": [
    "np.unique(e) # It give Unique values of an array"
   ]
  },
  {
   "cell_type": "code",
   "execution_count": 24,
   "id": "00910d02",
   "metadata": {},
   "outputs": [
    {
     "data": {
      "text/plain": [
       "array([1, 2, 3])"
      ]
     },
     "execution_count": 24,
     "metadata": {},
     "output_type": "execute_result"
    }
   ],
   "source": [
    "np.unique(f)"
   ]
  },
  {
   "cell_type": "markdown",
   "id": "7f99f436",
   "metadata": {},
   "source": [
    "### np.expand_dims\n",
    "     With the help of numpy.expand_dims() method, we can get the expanded dimensions of an array\n",
    "     \n",
    "     It use to create Row Vector / Column Vector."
   ]
  },
  {
   "cell_type": "code",
   "execution_count": 25,
   "id": "0af52f30",
   "metadata": {},
   "outputs": [
    {
     "data": {
      "text/plain": [
       "array([[0, 1, 2],\n",
       "       [3, 4, 5]])"
      ]
     },
     "execution_count": 25,
     "metadata": {},
     "output_type": "execute_result"
    }
   ],
   "source": [
    "a"
   ]
  },
  {
   "cell_type": "code",
   "execution_count": 26,
   "id": "a4ff7747",
   "metadata": {},
   "outputs": [
    {
     "data": {
      "text/plain": [
       "array([[[0, 1, 2],\n",
       "        [3, 4, 5]]])"
      ]
     },
     "execution_count": 26,
     "metadata": {},
     "output_type": "execute_result"
    }
   ],
   "source": [
    "np.expand_dims(a,axis=0)"
   ]
  },
  {
   "cell_type": "code",
   "execution_count": 27,
   "id": "ceedabf7",
   "metadata": {},
   "outputs": [
    {
     "data": {
      "text/plain": [
       "array([[[0, 1, 2]],\n",
       "\n",
       "       [[3, 4, 5]]])"
      ]
     },
     "execution_count": 27,
     "metadata": {},
     "output_type": "execute_result"
    }
   ],
   "source": [
    "np.expand_dims(a,axis=1)"
   ]
  },
  {
   "cell_type": "markdown",
   "id": "ac1287c7",
   "metadata": {},
   "source": [
    "### np.where\n",
    "     The numpy.where() function returns the indices of elements in an input array where the given condition is satisfied.\n",
    "     \n",
    "     np.where( condition, True_Value, False_Value )"
   ]
  },
  {
   "cell_type": "code",
   "execution_count": 42,
   "id": "2a7e2d67",
   "metadata": {},
   "outputs": [
    {
     "data": {
      "text/plain": [
       "array([21, 26, 43, 76, 11, 58, 91,  9, 14, 96, 40, 83, 99, 76, 58])"
      ]
     },
     "execution_count": 42,
     "metadata": {},
     "output_type": "execute_result"
    }
   ],
   "source": [
    "a"
   ]
  },
  {
   "cell_type": "code",
   "execution_count": 43,
   "id": "4b650123",
   "metadata": {},
   "outputs": [
    {
     "data": {
      "text/plain": [
       "(array([ 3,  5,  6,  9, 11, 12, 13, 14], dtype=int64),)"
      ]
     },
     "execution_count": 43,
     "metadata": {},
     "output_type": "execute_result"
    }
   ],
   "source": [
    "# FIND ALL INDICES WITH VALUE GREATER THAN 50.\n",
    "\n",
    "np.where(a>50)   # It gives the index number of Satisfy Condition"
   ]
  },
  {
   "cell_type": "code",
   "execution_count": 44,
   "id": "81e27bd3",
   "metadata": {},
   "outputs": [
    {
     "data": {
      "text/plain": [
       "array([76, 58, 91, 96, 83, 99, 76, 58])"
      ]
     },
     "execution_count": 44,
     "metadata": {},
     "output_type": "execute_result"
    }
   ],
   "source": [
    "a[np.where(a>50)]"
   ]
  },
  {
   "cell_type": "code",
   "execution_count": 45,
   "id": "2269345a",
   "metadata": {},
   "outputs": [
    {
     "data": {
      "text/plain": [
       "array([21, 26, 43,  0, 11,  0,  0,  9, 14,  0, 40,  0,  0,  0,  0])"
      ]
     },
     "execution_count": 45,
     "metadata": {},
     "output_type": "execute_result"
    }
   ],
   "source": [
    "# REPLACE ALL VALUES > 50 WITH 0\n",
    "\n",
    "np.where(a>50,0,a)"
   ]
  },
  {
   "cell_type": "code",
   "execution_count": 46,
   "id": "03350f2f",
   "metadata": {},
   "outputs": [
    {
     "data": {
      "text/plain": [
       "array([21,  0, 43,  0, 11,  0, 91,  9,  0,  0,  0, 83, 99,  0,  0])"
      ]
     },
     "execution_count": 46,
     "metadata": {},
     "output_type": "execute_result"
    }
   ],
   "source": [
    "# REPLACE EVEN NUMBER WITH 0\n",
    "\n",
    "np.where(a % 2 ==0,0,a) "
   ]
  },
  {
   "cell_type": "markdown",
   "id": "c6d26c72",
   "metadata": {},
   "source": [
    "### np.argmax\n",
    "     The numpy.argmax() functions returns indices of the max element of the array in a particular axis."
   ]
  },
  {
   "cell_type": "code",
   "execution_count": 47,
   "id": "004d9169",
   "metadata": {},
   "outputs": [
    {
     "data": {
      "text/plain": [
       "array([21, 26, 43, 76, 11, 58, 91,  9, 14, 96, 40, 83, 99, 76, 58])"
      ]
     },
     "execution_count": 47,
     "metadata": {},
     "output_type": "execute_result"
    }
   ],
   "source": [
    "a"
   ]
  },
  {
   "cell_type": "code",
   "execution_count": 49,
   "id": "97c43eb6",
   "metadata": {},
   "outputs": [
    {
     "data": {
      "text/plain": [
       "12"
      ]
     },
     "execution_count": 49,
     "metadata": {},
     "output_type": "execute_result"
    }
   ],
   "source": [
    "np.argmax(a)"
   ]
  },
  {
   "cell_type": "code",
   "execution_count": 50,
   "id": "b4e89a6f",
   "metadata": {},
   "outputs": [
    {
     "data": {
      "text/plain": [
       "99"
      ]
     },
     "execution_count": 50,
     "metadata": {},
     "output_type": "execute_result"
    }
   ],
   "source": [
    "a[np.argmax(a)]"
   ]
  },
  {
   "cell_type": "code",
   "execution_count": 48,
   "id": "f9b78942",
   "metadata": {},
   "outputs": [
    {
     "data": {
      "text/plain": [
       "array([[91,  5, 63, 96],\n",
       "       [29, 16, 62, 20],\n",
       "       [ 7, 89, 85, 67],\n",
       "       [34, 19,  4, 82],\n",
       "       [41, 25, 10, 71],\n",
       "       [82, 76, 84, 86]])"
      ]
     },
     "execution_count": 48,
     "metadata": {},
     "output_type": "execute_result"
    }
   ],
   "source": [
    "b"
   ]
  },
  {
   "cell_type": "code",
   "execution_count": 54,
   "id": "4edfc78a",
   "metadata": {},
   "outputs": [
    {
     "data": {
      "text/plain": [
       "array([0, 2, 2, 0], dtype=int64)"
      ]
     },
     "execution_count": 54,
     "metadata": {},
     "output_type": "execute_result"
    }
   ],
   "source": [
    "np.argmax(b,axis=0)"
   ]
  },
  {
   "cell_type": "code",
   "execution_count": 57,
   "id": "7c812b0c",
   "metadata": {},
   "outputs": [
    {
     "data": {
      "text/plain": [
       "array([3, 2, 1, 3, 3, 3], dtype=int64)"
      ]
     },
     "execution_count": 57,
     "metadata": {},
     "output_type": "execute_result"
    }
   ],
   "source": [
    "np.argmax(b,axis=1)"
   ]
  },
  {
   "cell_type": "markdown",
   "id": "0d671cc6",
   "metadata": {},
   "source": [
    "### np.cumsum\n",
    "     numpy.cumsum() function is used when we want to compute the cummulative sum of array elements over a given axis."
   ]
  },
  {
   "cell_type": "code",
   "execution_count": 59,
   "id": "105bbeea",
   "metadata": {},
   "outputs": [
    {
     "data": {
      "text/plain": [
       "array([21, 26, 43, 76, 11, 58, 91,  9, 14, 96, 40, 83, 99, 76, 58])"
      ]
     },
     "execution_count": 59,
     "metadata": {},
     "output_type": "execute_result"
    }
   ],
   "source": [
    "a"
   ]
  },
  {
   "cell_type": "code",
   "execution_count": 60,
   "id": "fba38385",
   "metadata": {},
   "outputs": [
    {
     "data": {
      "text/plain": [
       "array([ 21,  47,  90, 166, 177, 235, 326, 335, 349, 445, 485, 568, 667,\n",
       "       743, 801])"
      ]
     },
     "execution_count": 60,
     "metadata": {},
     "output_type": "execute_result"
    }
   ],
   "source": [
    "np.cumsum(a)"
   ]
  },
  {
   "cell_type": "code",
   "execution_count": 61,
   "id": "d5eaf7ec",
   "metadata": {},
   "outputs": [
    {
     "data": {
      "text/plain": [
       "array([[91,  5, 63, 96],\n",
       "       [29, 16, 62, 20],\n",
       "       [ 7, 89, 85, 67],\n",
       "       [34, 19,  4, 82],\n",
       "       [41, 25, 10, 71],\n",
       "       [82, 76, 84, 86]])"
      ]
     },
     "execution_count": 61,
     "metadata": {},
     "output_type": "execute_result"
    }
   ],
   "source": [
    "b"
   ]
  },
  {
   "cell_type": "code",
   "execution_count": 62,
   "id": "99fdd6e5",
   "metadata": {},
   "outputs": [
    {
     "data": {
      "text/plain": [
       "array([  91,   96,  159,  255,  284,  300,  362,  382,  389,  478,  563,\n",
       "        630,  664,  683,  687,  769,  810,  835,  845,  916,  998, 1074,\n",
       "       1158, 1244])"
      ]
     },
     "execution_count": 62,
     "metadata": {},
     "output_type": "execute_result"
    }
   ],
   "source": [
    "np.cumsum(b) # First it Flatten the array to 1D array then do Cummulative Sum"
   ]
  },
  {
   "cell_type": "code",
   "execution_count": 63,
   "id": "a66d4a8e",
   "metadata": {},
   "outputs": [
    {
     "data": {
      "text/plain": [
       "array([[ 91,   5,  63,  96],\n",
       "       [120,  21, 125, 116],\n",
       "       [127, 110, 210, 183],\n",
       "       [161, 129, 214, 265],\n",
       "       [202, 154, 224, 336],\n",
       "       [284, 230, 308, 422]])"
      ]
     },
     "execution_count": 63,
     "metadata": {},
     "output_type": "execute_result"
    }
   ],
   "source": [
    "np.cumsum(b,axis=0) # Column wise Cummulative sum"
   ]
  },
  {
   "cell_type": "code",
   "execution_count": 64,
   "id": "a3df78c5",
   "metadata": {},
   "outputs": [
    {
     "data": {
      "text/plain": [
       "array([[ 91,  96, 159, 255],\n",
       "       [ 29,  45, 107, 127],\n",
       "       [  7,  96, 181, 248],\n",
       "       [ 34,  53,  57, 139],\n",
       "       [ 41,  66,  76, 147],\n",
       "       [ 82, 158, 242, 328]])"
      ]
     },
     "execution_count": 64,
     "metadata": {},
     "output_type": "execute_result"
    }
   ],
   "source": [
    "np.cumsum(b,axis=1) # Row wise Cummulative sum"
   ]
  },
  {
   "cell_type": "markdown",
   "id": "8a1f37bc",
   "metadata": {},
   "source": [
    "### np.percentile\n",
    "     numpy.percentile() function used to compute the nth percentile of the given data (array elements) along the specified axis."
   ]
  },
  {
   "cell_type": "code",
   "execution_count": 65,
   "id": "846f8e53",
   "metadata": {},
   "outputs": [
    {
     "data": {
      "text/plain": [
       "array([21, 26, 43, 76, 11, 58, 91,  9, 14, 96, 40, 83, 99, 76, 58])"
      ]
     },
     "execution_count": 65,
     "metadata": {},
     "output_type": "execute_result"
    }
   ],
   "source": [
    "a"
   ]
  },
  {
   "cell_type": "code",
   "execution_count": 66,
   "id": "ff1a7af3",
   "metadata": {},
   "outputs": [
    {
     "data": {
      "text/plain": [
       "94.0"
      ]
     },
     "execution_count": 66,
     "metadata": {},
     "output_type": "execute_result"
    }
   ],
   "source": [
    "np.percentile(a,90)"
   ]
  },
  {
   "cell_type": "code",
   "execution_count": 67,
   "id": "a3ab9b57",
   "metadata": {},
   "outputs": [
    {
     "data": {
      "text/plain": [
       "9.0"
      ]
     },
     "execution_count": 67,
     "metadata": {},
     "output_type": "execute_result"
    }
   ],
   "source": [
    "np.percentile(a,0)"
   ]
  },
  {
   "cell_type": "code",
   "execution_count": 68,
   "id": "378d0ea5",
   "metadata": {},
   "outputs": [
    {
     "data": {
      "text/plain": [
       "58.0"
      ]
     },
     "execution_count": 68,
     "metadata": {},
     "output_type": "execute_result"
    }
   ],
   "source": [
    "np.percentile(a,50)"
   ]
  },
  {
   "cell_type": "code",
   "execution_count": null,
   "id": "98bf901d",
   "metadata": {},
   "outputs": [],
   "source": []
  },
  {
   "cell_type": "markdown",
   "id": "d8a0a8ae",
   "metadata": {},
   "source": [
    "### np.histogram\n",
    "     Numpy has a built-in-numpy.histogram() function which represents the frequency of data distribution in the graphical form\n"
   ]
  },
  {
   "cell_type": "code",
   "execution_count": 69,
   "id": "37563d74",
   "metadata": {},
   "outputs": [
    {
     "data": {
      "text/plain": [
       "array([21, 26, 43, 76, 11, 58, 91,  9, 14, 96, 40, 83, 99, 76, 58])"
      ]
     },
     "execution_count": 69,
     "metadata": {},
     "output_type": "execute_result"
    }
   ],
   "source": [
    "a"
   ]
  },
  {
   "cell_type": "code",
   "execution_count": 70,
   "id": "ca37fe42",
   "metadata": {},
   "outputs": [
    {
     "data": {
      "text/plain": [
       "(array([3, 2, 0, 2, 0, 2, 0, 2, 1, 3], dtype=int64),\n",
       " array([ 9., 18., 27., 36., 45., 54., 63., 72., 81., 90., 99.]))"
      ]
     },
     "execution_count": 70,
     "metadata": {},
     "output_type": "execute_result"
    }
   ],
   "source": [
    "np.histogram(a,10)"
   ]
  },
  {
   "cell_type": "code",
   "execution_count": 71,
   "id": "782f1615",
   "metadata": {},
   "outputs": [
    {
     "data": {
      "text/plain": [
       "(array([1, 2, 2, 0, 2, 2, 0, 2, 1, 3], dtype=int64),\n",
       " array([  0,  10,  20,  30,  40,  50,  60,  70,  80,  90, 100]))"
      ]
     },
     "execution_count": 71,
     "metadata": {},
     "output_type": "execute_result"
    }
   ],
   "source": [
    "np.histogram(a,bins=[0,10,20,30,40,50,60,70,80,90,100])"
   ]
  },
  {
   "cell_type": "code",
   "execution_count": 72,
   "id": "e365a407",
   "metadata": {},
   "outputs": [
    {
     "data": {
      "text/plain": [
       "(array([1, 2, 2, 0, 2, 2, 0, 2, 1, 3], dtype=int64),\n",
       " array([  0,  10,  20,  30,  40,  50,  60,  70,  80,  90, 100]))"
      ]
     },
     "execution_count": 72,
     "metadata": {},
     "output_type": "execute_result"
    }
   ],
   "source": [
    "np.histogram(a,bins=[0,10,20,30,40,50,60,70,80,90,100],range=True)"
   ]
  },
  {
   "cell_type": "code",
   "execution_count": 73,
   "id": "6cb71d35",
   "metadata": {},
   "outputs": [
    {
     "data": {
      "text/plain": [
       "(array([0.00666667, 0.01333333, 0.01333333, 0.        , 0.01333333,\n",
       "        0.01333333, 0.        , 0.01333333, 0.00666667, 0.02      ]),\n",
       " array([  0,  10,  20,  30,  40,  50,  60,  70,  80,  90, 100]))"
      ]
     },
     "execution_count": 73,
     "metadata": {},
     "output_type": "execute_result"
    }
   ],
   "source": [
    "np.histogram(a,bins=[0,10,20,30,40,50,60,70,80,90,100],density=True)"
   ]
  },
  {
   "cell_type": "markdown",
   "id": "1c1e1a80",
   "metadata": {},
   "source": [
    "### np.corrcoef\n",
    "     Return Pearson product-- moment correlation coefficients"
   ]
  },
  {
   "cell_type": "code",
   "execution_count": 74,
   "id": "9cce8229",
   "metadata": {},
   "outputs": [],
   "source": [
    "salary=np.array([20000,40000,25000,35000,60000])\n",
    "experience=np.array([1,2,3,4,5])"
   ]
  },
  {
   "cell_type": "code",
   "execution_count": 75,
   "id": "4c188b96",
   "metadata": {},
   "outputs": [
    {
     "data": {
      "text/plain": [
       "array([[1.        , 0.76150962],\n",
       "       [0.76150962, 1.        ]])"
      ]
     },
     "execution_count": 75,
     "metadata": {},
     "output_type": "execute_result"
    }
   ],
   "source": [
    "np.corrcoef(salary,experience)"
   ]
  },
  {
   "cell_type": "markdown",
   "id": "2e042c00",
   "metadata": {},
   "source": [
    "### np.isin\n",
    "     With the help of numpy.isin() method,we can see that one array having values are checked in a different numpy array having different elements with different sizes."
   ]
  },
  {
   "cell_type": "code",
   "execution_count": 76,
   "id": "f94e5e87",
   "metadata": {},
   "outputs": [
    {
     "data": {
      "text/plain": [
       "array([21, 26, 43, 76, 11, 58, 91,  9, 14, 96, 40, 83, 99, 76, 58])"
      ]
     },
     "execution_count": 76,
     "metadata": {},
     "output_type": "execute_result"
    }
   ],
   "source": [
    "a"
   ]
  },
  {
   "cell_type": "code",
   "execution_count": 78,
   "id": "4cdc7856",
   "metadata": {},
   "outputs": [],
   "source": [
    "items=[10,20,30,40,90,100]"
   ]
  },
  {
   "cell_type": "code",
   "execution_count": 79,
   "id": "802ad936",
   "metadata": {},
   "outputs": [
    {
     "data": {
      "text/plain": [
       "array([False, False, False, False, False, False, False, False, False,\n",
       "       False,  True, False, False, False, False])"
      ]
     },
     "execution_count": 79,
     "metadata": {},
     "output_type": "execute_result"
    }
   ],
   "source": [
    "np.isin(a,items)"
   ]
  },
  {
   "cell_type": "code",
   "execution_count": 80,
   "id": "b66d9865",
   "metadata": {},
   "outputs": [
    {
     "data": {
      "text/plain": [
       "array([40])"
      ]
     },
     "execution_count": 80,
     "metadata": {},
     "output_type": "execute_result"
    }
   ],
   "source": [
    "a[np.isin(a,items)]"
   ]
  },
  {
   "cell_type": "markdown",
   "id": "d40555fa",
   "metadata": {},
   "source": [
    "### np.flip\n",
    "     The numpy.flip() function reverses the order of array elements along the specified axis, preserving the shape of the array."
   ]
  },
  {
   "cell_type": "code",
   "execution_count": 81,
   "id": "f36f0be7",
   "metadata": {},
   "outputs": [
    {
     "data": {
      "text/plain": [
       "array([21, 26, 43, 76, 11, 58, 91,  9, 14, 96, 40, 83, 99, 76, 58])"
      ]
     },
     "execution_count": 81,
     "metadata": {},
     "output_type": "execute_result"
    }
   ],
   "source": [
    "a"
   ]
  },
  {
   "cell_type": "code",
   "execution_count": 82,
   "id": "d05387ef",
   "metadata": {},
   "outputs": [
    {
     "data": {
      "text/plain": [
       "array([58, 76, 99, 83, 40, 96, 14,  9, 91, 58, 11, 76, 43, 26, 21])"
      ]
     },
     "execution_count": 82,
     "metadata": {},
     "output_type": "execute_result"
    }
   ],
   "source": [
    "np.flip(a) "
   ]
  },
  {
   "cell_type": "code",
   "execution_count": 83,
   "id": "882bbc88",
   "metadata": {},
   "outputs": [
    {
     "data": {
      "text/plain": [
       "array([[91,  5, 63, 96],\n",
       "       [29, 16, 62, 20],\n",
       "       [ 7, 89, 85, 67],\n",
       "       [34, 19,  4, 82],\n",
       "       [41, 25, 10, 71],\n",
       "       [82, 76, 84, 86]])"
      ]
     },
     "execution_count": 83,
     "metadata": {},
     "output_type": "execute_result"
    }
   ],
   "source": [
    "b"
   ]
  },
  {
   "cell_type": "code",
   "execution_count": 88,
   "id": "97418e75",
   "metadata": {},
   "outputs": [
    {
     "data": {
      "text/plain": [
       "array([[86, 84, 76, 82],\n",
       "       [71, 10, 25, 41],\n",
       "       [82,  4, 19, 34],\n",
       "       [67, 85, 89,  7],\n",
       "       [20, 62, 16, 29],\n",
       "       [96, 63,  5, 91]])"
      ]
     },
     "execution_count": 88,
     "metadata": {},
     "output_type": "execute_result"
    }
   ],
   "source": [
    "np.flip(b) # Row+Column wise flipping"
   ]
  },
  {
   "cell_type": "code",
   "execution_count": 86,
   "id": "e139082e",
   "metadata": {},
   "outputs": [
    {
     "data": {
      "text/plain": [
       "array([[82, 76, 84, 86],\n",
       "       [41, 25, 10, 71],\n",
       "       [34, 19,  4, 82],\n",
       "       [ 7, 89, 85, 67],\n",
       "       [29, 16, 62, 20],\n",
       "       [91,  5, 63, 96]])"
      ]
     },
     "execution_count": 86,
     "metadata": {},
     "output_type": "execute_result"
    }
   ],
   "source": [
    "np.flip(b,axis=0) # Column wise Flipping"
   ]
  },
  {
   "cell_type": "code",
   "execution_count": 87,
   "id": "d74f4868",
   "metadata": {},
   "outputs": [
    {
     "data": {
      "text/plain": [
       "array([[96, 63,  5, 91],\n",
       "       [20, 62, 16, 29],\n",
       "       [67, 85, 89,  7],\n",
       "       [82,  4, 19, 34],\n",
       "       [71, 10, 25, 41],\n",
       "       [86, 84, 76, 82]])"
      ]
     },
     "execution_count": 87,
     "metadata": {},
     "output_type": "execute_result"
    }
   ],
   "source": [
    "np.flip(b,axis=1) # Row wise Flipping"
   ]
  },
  {
   "cell_type": "code",
   "execution_count": null,
   "id": "53201b59",
   "metadata": {},
   "outputs": [],
   "source": []
  },
  {
   "cell_type": "markdown",
   "id": "40ed8d03",
   "metadata": {},
   "source": [
    "### np.put\n",
    "     The numpy.put() function replaces specific elements of an array with given values p_array. Array indexed works on flattened away."
   ]
  },
  {
   "cell_type": "code",
   "execution_count": 89,
   "id": "aecd35b4",
   "metadata": {},
   "outputs": [
    {
     "data": {
      "text/plain": [
       "array([21, 26, 43, 76, 11, 58, 91,  9, 14, 96, 40, 83, 99, 76, 58])"
      ]
     },
     "execution_count": 89,
     "metadata": {},
     "output_type": "execute_result"
    }
   ],
   "source": [
    "a"
   ]
  },
  {
   "cell_type": "code",
   "execution_count": 90,
   "id": "13c0668a",
   "metadata": {},
   "outputs": [],
   "source": [
    "# It has 3 arguments--> Array, Indexes, Values.\n",
    "\n",
    "np.put(a,[0,2],[210,430]) \n",
    "\n",
    "# It make permanent changes, so output will not show."
   ]
  },
  {
   "cell_type": "code",
   "execution_count": 91,
   "id": "ce8caaf7",
   "metadata": {},
   "outputs": [
    {
     "data": {
      "text/plain": [
       "array([210,  26, 430,  76,  11,  58,  91,   9,  14,  96,  40,  83,  99,\n",
       "        76,  58])"
      ]
     },
     "execution_count": 91,
     "metadata": {},
     "output_type": "execute_result"
    }
   ],
   "source": [
    "a"
   ]
  },
  {
   "cell_type": "code",
   "execution_count": null,
   "id": "5b05aba3",
   "metadata": {},
   "outputs": [],
   "source": []
  },
  {
   "cell_type": "markdown",
   "id": "40d7acad",
   "metadata": {},
   "source": [
    "### np.delete\n",
    "     The numpy.delete() function returns a new array with the deletion of sub-arrays along with the mentioned axis."
   ]
  },
  {
   "cell_type": "code",
   "execution_count": 92,
   "id": "d182c6d5",
   "metadata": {},
   "outputs": [
    {
     "data": {
      "text/plain": [
       "array([210,  26, 430,  76,  11,  58,  91,   9,  14,  96,  40,  83,  99,\n",
       "        76,  58])"
      ]
     },
     "execution_count": 92,
     "metadata": {},
     "output_type": "execute_result"
    }
   ],
   "source": [
    "a"
   ]
  },
  {
   "cell_type": "code",
   "execution_count": 93,
   "id": "89f9aad3",
   "metadata": {},
   "outputs": [
    {
     "data": {
      "text/plain": [
       "array([ 26, 430,  76,  11,  58,  91,   9,  14,  96,  40,  83,  99,  76,\n",
       "        58])"
      ]
     },
     "execution_count": 93,
     "metadata": {},
     "output_type": "execute_result"
    }
   ],
   "source": [
    "np.delete(a,0) # It has two arguments--> Array, Indexes"
   ]
  },
  {
   "cell_type": "code",
   "execution_count": 95,
   "id": "230c5134",
   "metadata": {},
   "outputs": [
    {
     "data": {
      "text/plain": [
       "array([26, 76, 11, 58, 91,  9, 14, 96, 40, 83, 99, 76, 58])"
      ]
     },
     "execution_count": 95,
     "metadata": {},
     "output_type": "execute_result"
    }
   ],
   "source": [
    "np.delete(a,[0,2])"
   ]
  },
  {
   "cell_type": "code",
   "execution_count": null,
   "id": "434189d4",
   "metadata": {},
   "outputs": [],
   "source": []
  },
  {
   "cell_type": "markdown",
   "id": "1c82a607",
   "metadata": {},
   "source": [
    "### np.clip\n",
    "     numpy.clip() function is used to clip(limit) the values in an array."
   ]
  },
  {
   "cell_type": "code",
   "execution_count": 96,
   "id": "af3b3cd7",
   "metadata": {},
   "outputs": [
    {
     "data": {
      "text/plain": [
       "array([210,  26, 430,  76,  11,  58,  91,   9,  14,  96,  40,  83,  99,\n",
       "        76,  58])"
      ]
     },
     "execution_count": 96,
     "metadata": {},
     "output_type": "execute_result"
    }
   ],
   "source": [
    "a"
   ]
  },
  {
   "cell_type": "code",
   "execution_count": 98,
   "id": "25c8381b",
   "metadata": {},
   "outputs": [
    {
     "data": {
      "text/plain": [
       "array([30, 26, 30, 30, 11, 30, 30, 10, 14, 30, 30, 30, 30, 30, 30])"
      ]
     },
     "execution_count": 98,
     "metadata": {},
     "output_type": "execute_result"
    }
   ],
   "source": [
    "np.clip(a,a_min=10,a_max=30) # It has 3 arguments--> Array, Array_min_Value, Array_max_Value\n",
    "\n",
    "# If the Array cross the Min_Value & Max_Value then the crossing values are replaced by Min_Value & Max_Value "
   ]
  },
  {
   "cell_type": "code",
   "execution_count": null,
   "id": "62f15da2",
   "metadata": {},
   "outputs": [],
   "source": []
  },
  {
   "cell_type": "code",
   "execution_count": null,
   "id": "bec55f3f",
   "metadata": {},
   "outputs": [],
   "source": []
  }
 ],
 "metadata": {
  "kernelspec": {
   "display_name": "Python 3 (ipykernel)",
   "language": "python",
   "name": "python3"
  },
  "language_info": {
   "codemirror_mode": {
    "name": "ipython",
    "version": 3
   },
   "file_extension": ".py",
   "mimetype": "text/x-python",
   "name": "python",
   "nbconvert_exporter": "python",
   "pygments_lexer": "ipython3",
   "version": "3.9.13"
  }
 },
 "nbformat": 4,
 "nbformat_minor": 5
}
