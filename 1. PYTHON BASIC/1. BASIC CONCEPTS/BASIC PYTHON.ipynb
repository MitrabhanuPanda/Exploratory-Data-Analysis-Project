{
 "cells": [
  {
   "cell_type": "markdown",
   "id": "ebeac4a2",
   "metadata": {},
   "source": [
    "<h1 style=\"text-align : center\"> <font color=\"red\" size=8>BASIC PYTHON </h1>"
   ]
  },
  {
   "attachments": {
    "PYTHON%20LOGO.png": {
     "image/png": "[encoded data removed]"
    }
   },
   "cell_type": "markdown",
   "id": "9ae5ad9f",
   "metadata": {},
   "source": [
    "![PYTHON%20LOGO.png](attachment:PYTHON%20LOGO.png)"
   ]
  },
  {
   "cell_type": "markdown",
   "id": "3bc2e8cc",
   "metadata": {},
   "source": [
    "## <font color=\"dark blue\">WHAT IS PYTHON?\n",
    "- Python is an Interpreted, Object-Oriented high level Language."
   ]
  },
  {
   "cell_type": "markdown",
   "id": "ee465a1a",
   "metadata": {},
   "source": [
    "## <font color=\"dark blue\">WHY PYTHON USE FOR DATA SCIENCE?\n",
    "- Python is easy to learn and it have large number of Libraries that are helpful for data science.\n",
    "- Python Code is easy to understand because of his Structure of writing."
   ]
  },
  {
   "cell_type": "markdown",
   "id": "c68a19fa",
   "metadata": {},
   "source": [
    "### <font color=\"purple\">FEATURE OF PYTHON\n",
    "- EASY TO LEARN\n",
    "- OPEN SOURCE\n",
    "- BROAD STANDARD LIBRARY\n",
    "- CROSS PLATFORM\n",
    "- WORK ON INTERPRETER LOGIC\n",
    "- MULTI LANGUAGE PARADIGM (STRUCTURAL, OOPS, SIMPLE WAY)\n",
    "- HIGH LEVEL PROGRAMMING\n",
    "\n"
   ]
  },
  {
   "cell_type": "markdown",
   "id": "4b31479c",
   "metadata": {},
   "source": [
    "### <font color=\"purple\">APPLICATION OF PYTHON\n",
    "- NETWORK PROGRAMMING\n",
    "- DATA ANALYSIS\n",
    "- ROBOTICS\n",
    "- WEBSITE & APPLICATION DEVELOPMENT\n",
    "- DESKTOP APPLICATION\n",
    "- WEB SCRAPING\n",
    "- DATA VISUALIZATION\n",
    "- MACHINE LEARNING & ARTIFICAL INTELLIGENCE"
   ]
  },
  {
   "cell_type": "markdown",
   "id": "d2c5aed4",
   "metadata": {},
   "source": [
    "### <font color=\"purple\">KEYWORDS:\n",
    "- KEYWORDS ARE RESERVED WORDS WHICH ARE USED IN BUILDING PYTHON.\n",
    "- THESE KEYWORDS HAS SPECIAL PURPOSE AND SPECIAL SYNTAX.\n",
    "- Eg: def , class, if, while"
   ]
  },
  {
   "cell_type": "code",
   "execution_count": 1,
   "id": "2281472d",
   "metadata": {},
   "outputs": [
    {
     "name": "stdout",
     "output_type": "stream",
     "text": [
      "['False', 'None', 'True', '__peg_parser__', 'and', 'as', 'assert', 'async', 'await', 'break', 'class', 'continue', 'def', 'del', 'elif', 'else', 'except', 'finally', 'for', 'from', 'global', 'if', 'import', 'in', 'is', 'lambda', 'nonlocal', 'not', 'or', 'pass', 'raise', 'return', 'try', 'while', 'with', 'yield']\n"
     ]
    }
   ],
   "source": [
    "import keyword\n",
    "k= keyword.kwlist\n",
    "print(k)"
   ]
  },
  {
   "cell_type": "code",
   "execution_count": 2,
   "id": "e07f55e9",
   "metadata": {},
   "outputs": [
    {
     "data": {
      "text/plain": [
       "36"
      ]
     },
     "execution_count": 2,
     "metadata": {},
     "output_type": "execute_result"
    }
   ],
   "source": [
    "len(k) # It give length of the list \"k\" that means it give the count of elements that is inside the List \"k\"."
   ]
  },
  {
   "cell_type": "markdown",
   "id": "25104682",
   "metadata": {},
   "source": [
    "### <font color=\"purple\">IDENTIFIER:"
   ]
  },
  {
   "cell_type": "markdown",
   "id": "3dc94c07",
   "metadata": {},
   "source": [
    "- IT IDENTIFIES AN OBJECT UNIQUELY."
   ]
  },
  {
   "cell_type": "code",
   "execution_count": 3,
   "id": "90dd4faa",
   "metadata": {},
   "outputs": [
    {
     "data": {
      "text/plain": [
       "97"
      ]
     },
     "execution_count": 3,
     "metadata": {},
     "output_type": "execute_result"
    }
   ],
   "source": [
    "ord(\"a\") # It give the ASCII Value of \"a\"."
   ]
  },
  {
   "cell_type": "code",
   "execution_count": 4,
   "id": "95de3faf",
   "metadata": {},
   "outputs": [
    {
     "data": {
      "text/plain": [
       "'a'"
      ]
     },
     "execution_count": 4,
     "metadata": {},
     "output_type": "execute_result"
    }
   ],
   "source": [
    "chr(97) "
   ]
  },
  {
   "cell_type": "markdown",
   "id": "2eece1f8",
   "metadata": {},
   "source": [
    "- IDENTIFIERS ARE CASE SENSITIVE"
   ]
  },
  {
   "cell_type": "code",
   "execution_count": 5,
   "id": "61d02b64",
   "metadata": {},
   "outputs": [],
   "source": [
    "Ar=\"Apple\""
   ]
  },
  {
   "cell_type": "code",
   "execution_count": 6,
   "id": "9a751bd6",
   "metadata": {},
   "outputs": [
    {
     "name": "stdout",
     "output_type": "stream",
     "text": [
      "Apple\n"
     ]
    }
   ],
   "source": [
    "print(Ar)"
   ]
  },
  {
   "cell_type": "code",
   "execution_count": 7,
   "id": "b41653f7",
   "metadata": {},
   "outputs": [
    {
     "ename": "NameError",
     "evalue": "name 'aR' is not defined",
     "output_type": "error",
     "traceback": [
      "\u001b[1;31m---------------------------------------------------------------------------\u001b[0m",
      "\u001b[1;31mNameError\u001b[0m                                 Traceback (most recent call last)",
      "\u001b[1;32m~\\AppData\\Local\\Temp\\ipykernel_12576\\143534749.py\u001b[0m in \u001b[0;36m<module>\u001b[1;34m\u001b[0m\n\u001b[1;32m----> 1\u001b[1;33m \u001b[0mprint\u001b[0m\u001b[1;33m(\u001b[0m\u001b[0maR\u001b[0m\u001b[1;33m)\u001b[0m\u001b[1;33m\u001b[0m\u001b[1;33m\u001b[0m\u001b[0m\n\u001b[0m",
      "\u001b[1;31mNameError\u001b[0m: name 'aR' is not defined"
     ]
    }
   ],
   "source": [
    "print(aR)"
   ]
  },
  {
   "cell_type": "markdown",
   "id": "762ef4fb",
   "metadata": {},
   "source": [
    "- IDENTIFIERS SUPPORTS APLHANUMERIC."
   ]
  },
  {
   "cell_type": "code",
   "execution_count": 8,
   "id": "de859038",
   "metadata": {},
   "outputs": [],
   "source": [
    "aj12=\"Orange\""
   ]
  },
  {
   "cell_type": "code",
   "execution_count": 9,
   "id": "05b272b3",
   "metadata": {},
   "outputs": [
    {
     "data": {
      "text/plain": [
       "'Orange'"
      ]
     },
     "execution_count": 9,
     "metadata": {},
     "output_type": "execute_result"
    }
   ],
   "source": [
    "aj12 "
   ]
  },
  {
   "cell_type": "markdown",
   "id": "d823de85",
   "metadata": {},
   "source": [
    "- NEVER STRAT WITH NUMBER."
   ]
  },
  {
   "cell_type": "code",
   "execution_count": 10,
   "id": "4b60bc2d",
   "metadata": {},
   "outputs": [
    {
     "ename": "SyntaxError",
     "evalue": "invalid decimal literal (1479160024.py, line 1)",
     "output_type": "error",
     "traceback": [
      "\u001b[1;36m  File \u001b[1;32m\"C:\\Users\\mitra\\AppData\\Local\\Temp\\ipykernel_12576\\1479160024.py\"\u001b[1;36m, line \u001b[1;32m1\u001b[0m\n\u001b[1;33m    12_aj=\"Green\" # Identifier do not start from Number.\u001b[0m\n\u001b[1;37m      ^\u001b[0m\n\u001b[1;31mSyntaxError\u001b[0m\u001b[1;31m:\u001b[0m invalid decimal literal\n"
     ]
    }
   ],
   "source": [
    "12_aj=\"Green\" # Identifier do not start from Number."
   ]
  },
  {
   "cell_type": "markdown",
   "id": "096393da",
   "metadata": {},
   "source": [
    "- NO SPECIAL VALUE ARE NOT SUPPORT EXCEPT UNDERSCORE \"_\"  "
   ]
  },
  {
   "cell_type": "code",
   "execution_count": 11,
   "id": "92dea1cc",
   "metadata": {},
   "outputs": [
    {
     "ename": "SyntaxError",
     "evalue": "invalid syntax (409147639.py, line 1)",
     "output_type": "error",
     "traceback": [
      "\u001b[1;36m  File \u001b[1;32m\"C:\\Users\\mitra\\AppData\\Local\\Temp\\ipykernel_12576\\409147639.py\"\u001b[1;36m, line \u001b[1;32m1\u001b[0m\n\u001b[1;33m    as3$w=\"Red\" # \"$\" dollar special character is not supported by Python Identifier.\u001b[0m\n\u001b[1;37m       ^\u001b[0m\n\u001b[1;31mSyntaxError\u001b[0m\u001b[1;31m:\u001b[0m invalid syntax\n"
     ]
    }
   ],
   "source": [
    "as3$w=\"Red\" # \"$\" dollar special character is not supported by Python Identifier."
   ]
  },
  {
   "cell_type": "code",
   "execution_count": 12,
   "id": "bee4fdc4",
   "metadata": {},
   "outputs": [],
   "source": [
    "as_qw=\"Red\" # \"_\" Underscore special character is only supported by Python Identifier"
   ]
  },
  {
   "cell_type": "code",
   "execution_count": 13,
   "id": "801c4521",
   "metadata": {},
   "outputs": [
    {
     "data": {
      "text/plain": [
       "'Red'"
      ]
     },
     "execution_count": 13,
     "metadata": {},
     "output_type": "execute_result"
    }
   ],
   "source": [
    "as_qw"
   ]
  },
  {
   "cell_type": "markdown",
   "id": "21593afa",
   "metadata": {},
   "source": [
    "### <font color=\"purple\">VARIABLE:\n",
    "- A PYTHON VARIABLE IS A  RESERVED MEMORY LOCATION TO STORE VALUES"
   ]
  },
  {
   "cell_type": "code",
   "execution_count": 14,
   "id": "e9710c9b",
   "metadata": {},
   "outputs": [],
   "source": [
    "a=\"Apple\""
   ]
  },
  {
   "cell_type": "code",
   "execution_count": 15,
   "id": "24cd7647",
   "metadata": {},
   "outputs": [
    {
     "data": {
      "text/plain": [
       "'Apple'"
      ]
     },
     "execution_count": 15,
     "metadata": {},
     "output_type": "execute_result"
    }
   ],
   "source": [
    "a # \"a\" is the variable that store the memory location of \"Apple\""
   ]
  },
  {
   "cell_type": "code",
   "execution_count": 16,
   "id": "8156820a",
   "metadata": {},
   "outputs": [
    {
     "data": {
      "text/plain": [
       "2783012550256"
      ]
     },
     "execution_count": 16,
     "metadata": {},
     "output_type": "execute_result"
    }
   ],
   "source": [
    "id(a) # It give the memory location of \"Apple\" that store in variable \"a\""
   ]
  },
  {
   "cell_type": "code",
   "execution_count": 17,
   "id": "75d79a1d",
   "metadata": {},
   "outputs": [
    {
     "data": {
      "text/plain": [
       "2783012550256"
      ]
     },
     "execution_count": 17,
     "metadata": {},
     "output_type": "execute_result"
    }
   ],
   "source": [
    "id(\"Apple\") # It give the memory location of \"Apple\""
   ]
  },
  {
   "cell_type": "markdown",
   "id": "8c5d2751",
   "metadata": {},
   "source": [
    "<font color=\"dark red\"> \"a\" variable & \"Apple\" have same memory location"
   ]
  },
  {
   "cell_type": "markdown",
   "id": "b3baf7f7",
   "metadata": {},
   "source": [
    "### <font color=\"purple\">__`print()`__ FUNCTION\n",
    "* It give/show the output that we are provide to it."
   ]
  },
  {
   "cell_type": "code",
   "execution_count": 18,
   "id": "fed9a88f",
   "metadata": {},
   "outputs": [
    {
     "name": "stdout",
     "output_type": "stream",
     "text": [
      "apple\n"
     ]
    }
   ],
   "source": [
    "# STRING VALUE\n",
    "print(\"apple\")"
   ]
  },
  {
   "cell_type": "code",
   "execution_count": 19,
   "id": "c58d8d51",
   "metadata": {},
   "outputs": [
    {
     "name": "stdout",
     "output_type": "stream",
     "text": [
      "23\n"
     ]
    }
   ],
   "source": [
    "# NUMERIC VALUE\n",
    "print(23)"
   ]
  },
  {
   "cell_type": "markdown",
   "id": "238b71a8",
   "metadata": {},
   "source": [
    "#### <font color=\"brown\">__`sep`__ --> `SEPARATOR` PARAMETER OF __`print()`__ FUNCTION"
   ]
  },
  {
   "cell_type": "code",
   "execution_count": 20,
   "id": "15173248",
   "metadata": {},
   "outputs": [
    {
     "name": "stdout",
     "output_type": "stream",
     "text": [
      "aplle ball\n"
     ]
    }
   ],
   "source": [
    "print(\"aplle\",\"ball\") # By default separator parameter have \" \"(space) "
   ]
  },
  {
   "cell_type": "code",
   "execution_count": 21,
   "id": "2d861ae0",
   "metadata": {},
   "outputs": [
    {
     "name": "stdout",
     "output_type": "stream",
     "text": [
      "aplle-ball\n"
     ]
    }
   ],
   "source": [
    "print(\"aplle\",\"ball\", sep=\"-\") # We change the \" \"(space) to \"-\"(hypen)"
   ]
  },
  {
   "cell_type": "markdown",
   "id": "aff609c5",
   "metadata": {},
   "source": [
    "#### <font color=\"brown\">__`end`__ --> `END` PARAMETER OF __`print()`__ FUNCTION"
   ]
  },
  {
   "cell_type": "code",
   "execution_count": 22,
   "id": "01338902",
   "metadata": {},
   "outputs": [
    {
     "name": "stdout",
     "output_type": "stream",
     "text": [
      "apple\n",
      "ball\n"
     ]
    }
   ],
   "source": [
    "print(\"apple\") # By default the end parameter have \"\\n\"(new line)\n",
    "print(\"ball\")"
   ]
  },
  {
   "cell_type": "code",
   "execution_count": 23,
   "id": "2f7a60f7",
   "metadata": {},
   "outputs": [
    {
     "name": "stdout",
     "output_type": "stream",
     "text": [
      "apple&ball\n"
     ]
    }
   ],
   "source": [
    "print(\"apple\",end=\"&\") # We change the end parameter \"\\n\"(new line) to \"&\"\n",
    "print(\"ball\")"
   ]
  },
  {
   "cell_type": "markdown",
   "id": "7df242d8",
   "metadata": {},
   "source": [
    "#### <font color=\"gold\">HOW TO CREATE MULTIPLE BLANK LINES"
   ]
  },
  {
   "cell_type": "code",
   "execution_count": 24,
   "id": "172fe314",
   "metadata": {},
   "outputs": [
    {
     "name": "stdout",
     "output_type": "stream",
     "text": [
      "\n",
      "\n",
      "\n",
      "\n",
      "\n"
     ]
    }
   ],
   "source": [
    "print(4 * \"\\n\") # We create 4 blank lines."
   ]
  },
  {
   "cell_type": "markdown",
   "id": "93fbaa20",
   "metadata": {},
   "source": [
    "### <font color=\"purple\">__`type()`__ FUNCTION\n",
    "* It give the data type of a variable / value"
   ]
  },
  {
   "cell_type": "code",
   "execution_count": 25,
   "id": "60b5f4e7",
   "metadata": {},
   "outputs": [
    {
     "data": {
      "text/plain": [
       "str"
      ]
     },
     "execution_count": 25,
     "metadata": {},
     "output_type": "execute_result"
    }
   ],
   "source": [
    "type(\"Apple\") # Data type of value"
   ]
  },
  {
   "cell_type": "code",
   "execution_count": 26,
   "id": "4291c2f4",
   "metadata": {},
   "outputs": [
    {
     "data": {
      "text/plain": [
       "int"
      ]
     },
     "execution_count": 26,
     "metadata": {},
     "output_type": "execute_result"
    }
   ],
   "source": [
    "type(2) # Data type of value"
   ]
  },
  {
   "cell_type": "code",
   "execution_count": 27,
   "id": "dcaeb3bb",
   "metadata": {},
   "outputs": [],
   "source": [
    "a=\"ball\""
   ]
  },
  {
   "cell_type": "code",
   "execution_count": 28,
   "id": "2b2f29c3",
   "metadata": {},
   "outputs": [
    {
     "data": {
      "text/plain": [
       "str"
      ]
     },
     "execution_count": 28,
     "metadata": {},
     "output_type": "execute_result"
    }
   ],
   "source": [
    "type(a)  # Data type of  variable"
   ]
  },
  {
   "cell_type": "code",
   "execution_count": 29,
   "id": "98f56fdf",
   "metadata": {},
   "outputs": [],
   "source": [
    "b=23"
   ]
  },
  {
   "cell_type": "code",
   "execution_count": 30,
   "id": "424d587c",
   "metadata": {},
   "outputs": [
    {
     "data": {
      "text/plain": [
       "int"
      ]
     },
     "execution_count": 30,
     "metadata": {},
     "output_type": "execute_result"
    }
   ],
   "source": [
    "type(b) # Data type of  variable"
   ]
  },
  {
   "cell_type": "markdown",
   "id": "aeb9a60f",
   "metadata": {},
   "source": [
    "### <font color=\"purple\">__`id()`__ FUNCTION\n",
    "* It give memory location of variable / value."
   ]
  },
  {
   "cell_type": "code",
   "execution_count": 31,
   "id": "30665f03",
   "metadata": {},
   "outputs": [
    {
     "data": {
      "text/plain": [
       "2783012600496"
      ]
     },
     "execution_count": 31,
     "metadata": {},
     "output_type": "execute_result"
    }
   ],
   "source": [
    "id(\"ball\") # Memory location of Value"
   ]
  },
  {
   "cell_type": "code",
   "execution_count": 32,
   "id": "7c51f7e2",
   "metadata": {},
   "outputs": [
    {
     "data": {
      "text/plain": [
       "'ball'"
      ]
     },
     "execution_count": 32,
     "metadata": {},
     "output_type": "execute_result"
    }
   ],
   "source": [
    "a"
   ]
  },
  {
   "cell_type": "code",
   "execution_count": 33,
   "id": "44dfd605",
   "metadata": {},
   "outputs": [
    {
     "data": {
      "text/plain": [
       "2783012600496"
      ]
     },
     "execution_count": 33,
     "metadata": {},
     "output_type": "execute_result"
    }
   ],
   "source": [
    "id(a)  # Memory location of Variable"
   ]
  },
  {
   "cell_type": "markdown",
   "id": "9e9138a4",
   "metadata": {},
   "source": [
    "### <font color=\"purple\">__`len()`__ FUNCTION\n",
    "* it give length of a string value."
   ]
  },
  {
   "cell_type": "code",
   "execution_count": 34,
   "id": "858383c3",
   "metadata": {},
   "outputs": [
    {
     "data": {
      "text/plain": [
       "5"
      ]
     },
     "execution_count": 34,
     "metadata": {},
     "output_type": "execute_result"
    }
   ],
   "source": [
    "len(\"Apple\") # Length of String value"
   ]
  },
  {
   "cell_type": "code",
   "execution_count": 35,
   "id": "3360fe7d",
   "metadata": {},
   "outputs": [],
   "source": [
    "c=\"Apple\" "
   ]
  },
  {
   "cell_type": "code",
   "execution_count": 36,
   "id": "9cba9e37",
   "metadata": {},
   "outputs": [
    {
     "data": {
      "text/plain": [
       "5"
      ]
     },
     "execution_count": 36,
     "metadata": {},
     "output_type": "execute_result"
    }
   ],
   "source": [
    "len(c) # Length of String value that store inside a variable \"c\""
   ]
  },
  {
   "cell_type": "markdown",
   "id": "2c2f7ca3",
   "metadata": {},
   "source": [
    "### "
   ]
  },
  {
   "cell_type": "markdown",
   "id": "71080ee3",
   "metadata": {},
   "source": [
    "### "
   ]
  },
  {
   "cell_type": "markdown",
   "id": "7b93edb9",
   "metadata": {},
   "source": [
    "### <font color=\"purple\">DATA TYPE"
   ]
  },
  {
   "cell_type": "markdown",
   "id": "d98ca12d",
   "metadata": {},
   "source": [
    "|<font color=\"red\"> FUNDAMENTAL |  <font color=\"red\">SEQUENTIAL |\n",
    " |-------------|------------ |\n",
    " | INTEGER | LIST |\n",
    " | FLOAT | SET |\n",
    " | COMPLEX | DICTIONARY |\n",
    " | BOOLEAN |\n",
    " | STRING |\n",
    " "
   ]
  },
  {
   "cell_type": "markdown",
   "id": "d7e15189",
   "metadata": {},
   "source": [
    "#### <font color=\"green\">a. FUNDAMENTAL DATA:\n",
    "* FUNDAMENTAL DATA ARE IMMUTABLE\n",
    "* VARIABLE HOLDING SAME VALUES HAVE REFFERED TO SAME MEMORY LOCATION."
   ]
  },
  {
   "cell_type": "code",
   "execution_count": 37,
   "id": "3a2e80cc",
   "metadata": {},
   "outputs": [],
   "source": [
    "a=\"Apple\""
   ]
  },
  {
   "cell_type": "code",
   "execution_count": 38,
   "id": "5ab41d37",
   "metadata": {},
   "outputs": [],
   "source": [
    "b= \"Apple\""
   ]
  },
  {
   "cell_type": "code",
   "execution_count": 39,
   "id": "dd8ac326",
   "metadata": {},
   "outputs": [
    {
     "data": {
      "text/plain": [
       "2783012550256"
      ]
     },
     "execution_count": 39,
     "metadata": {},
     "output_type": "execute_result"
    }
   ],
   "source": [
    "id(a) # It give the memory location \"Apple\" that store in the variable \"a\"."
   ]
  },
  {
   "cell_type": "code",
   "execution_count": 40,
   "id": "1512aeaa",
   "metadata": {},
   "outputs": [
    {
     "data": {
      "text/plain": [
       "2783012550256"
      ]
     },
     "execution_count": 40,
     "metadata": {},
     "output_type": "execute_result"
    }
   ],
   "source": [
    "id(b) # It give the memory location \"Apple\" that store in the variable \"b\""
   ]
  },
  {
   "cell_type": "markdown",
   "id": "ba9dfb36",
   "metadata": {},
   "source": [
    "<font color=\"dark red\">\"a\" & \"b\" both variable have same memory location."
   ]
  },
  {
   "cell_type": "markdown",
   "id": "e7ebe7bd",
   "metadata": {},
   "source": [
    "#### <font color=\"teal\">a.1. INTEGER\n",
    "* IT HAVE `+ve/-ve/ 0` NUMBER.\n",
    "* Example:\n",
    "    - DECIMAL\n",
    "    - OCTAL\n",
    "    - HEXADECIMAL\n",
    "    - BINARY\n",
    "* __`int()`__ is used for convert to Integer."
   ]
  },
  {
   "cell_type": "code",
   "execution_count": 41,
   "id": "a2626c2c",
   "metadata": {},
   "outputs": [],
   "source": [
    "a=18  # It is a Integer Value"
   ]
  },
  {
   "cell_type": "code",
   "execution_count": 42,
   "id": "a6f32789",
   "metadata": {},
   "outputs": [
    {
     "name": "stdout",
     "output_type": "stream",
     "text": [
      "18\n",
      "\n"
     ]
    },
    {
     "data": {
      "text/plain": [
       "int"
      ]
     },
     "execution_count": 42,
     "metadata": {},
     "output_type": "execute_result"
    }
   ],
   "source": [
    "print(a)\n",
    "print()\n",
    "type(a)"
   ]
  },
  {
   "cell_type": "code",
   "execution_count": 43,
   "id": "872daee8",
   "metadata": {},
   "outputs": [],
   "source": [
    "a1=24.3  # Float to Integer"
   ]
  },
  {
   "cell_type": "code",
   "execution_count": 44,
   "id": "eae4a925",
   "metadata": {},
   "outputs": [
    {
     "name": "stdout",
     "output_type": "stream",
     "text": [
      "24.3\n"
     ]
    },
    {
     "data": {
      "text/plain": [
       "float"
      ]
     },
     "execution_count": 44,
     "metadata": {},
     "output_type": "execute_result"
    }
   ],
   "source": [
    "print(a1)\n",
    "type(a1)"
   ]
  },
  {
   "cell_type": "code",
   "execution_count": 45,
   "id": "e5b926ed",
   "metadata": {},
   "outputs": [
    {
     "name": "stdout",
     "output_type": "stream",
     "text": [
      "24\n"
     ]
    },
    {
     "data": {
      "text/plain": [
       "int"
      ]
     },
     "execution_count": 45,
     "metadata": {},
     "output_type": "execute_result"
    }
   ],
   "source": [
    "a11=int(a1)\n",
    "print(a11)\n",
    "type(a11)"
   ]
  },
  {
   "cell_type": "code",
   "execution_count": 46,
   "id": "f311cdde",
   "metadata": {},
   "outputs": [
    {
     "data": {
      "text/plain": [
       "1"
      ]
     },
     "execution_count": 46,
     "metadata": {},
     "output_type": "execute_result"
    }
   ],
   "source": [
    "int(True)  # Boolean to Integer"
   ]
  },
  {
   "cell_type": "code",
   "execution_count": 47,
   "id": "4903e757",
   "metadata": {},
   "outputs": [
    {
     "data": {
      "text/plain": [
       "19"
      ]
     },
     "execution_count": 47,
     "metadata": {},
     "output_type": "execute_result"
    }
   ],
   "source": [
    "int(0o23)   # Octal to Integer"
   ]
  },
  {
   "cell_type": "code",
   "execution_count": 48,
   "id": "5fbcb45c",
   "metadata": {},
   "outputs": [
    {
     "data": {
      "text/plain": [
       "52"
      ]
     },
     "execution_count": 48,
     "metadata": {},
     "output_type": "execute_result"
    }
   ],
   "source": [
    "int(0x34)  # Hexadecimal to Integer"
   ]
  },
  {
   "cell_type": "code",
   "execution_count": 49,
   "id": "fe76479f",
   "metadata": {},
   "outputs": [
    {
     "data": {
      "text/plain": [
       "3"
      ]
     },
     "execution_count": 49,
     "metadata": {},
     "output_type": "execute_result"
    }
   ],
   "source": [
    "int(0b011)  # Binary to Integer"
   ]
  },
  {
   "cell_type": "code",
   "execution_count": 50,
   "id": "39850b2a",
   "metadata": {},
   "outputs": [
    {
     "ename": "TypeError",
     "evalue": "can't convert complex to int",
     "output_type": "error",
     "traceback": [
      "\u001b[1;31m---------------------------------------------------------------------------\u001b[0m",
      "\u001b[1;31mTypeError\u001b[0m                                 Traceback (most recent call last)",
      "\u001b[1;32m~\\AppData\\Local\\Temp\\ipykernel_12576\\1318269894.py\u001b[0m in \u001b[0;36m<module>\u001b[1;34m\u001b[0m\n\u001b[1;32m----> 1\u001b[1;33m \u001b[0mint\u001b[0m\u001b[1;33m(\u001b[0m\u001b[1;36m23\u001b[0m\u001b[1;33m+\u001b[0m\u001b[1;36m5j\u001b[0m\u001b[1;33m)\u001b[0m  \u001b[1;31m# Complex data type can not change to Integer.\u001b[0m\u001b[1;33m\u001b[0m\u001b[1;33m\u001b[0m\u001b[0m\n\u001b[0m",
      "\u001b[1;31mTypeError\u001b[0m: can't convert complex to int"
     ]
    }
   ],
   "source": [
    "int(23+5j)  # Complex data type can not change to Integer."
   ]
  },
  {
   "cell_type": "markdown",
   "id": "5c8b8f3a",
   "metadata": {},
   "source": [
    "#### <font color=\"maroon\">a.1.1.  DECIMAL\n",
    "* Default form of numbering which can be used in our life.\n",
    "* Numbers : 0,1,2,3,4,5,6,7,8,9\n",
    "* print() is used to convert in Decimal Form.\n",
    "* eg. 99,76,10\n"
   ]
  },
  {
   "cell_type": "code",
   "execution_count": 51,
   "id": "e989e81f",
   "metadata": {},
   "outputs": [
    {
     "name": "stdout",
     "output_type": "stream",
     "text": [
      "12\n"
     ]
    }
   ],
   "source": [
    "b=12\n",
    "print(b)"
   ]
  },
  {
   "cell_type": "code",
   "execution_count": 52,
   "id": "39c77937",
   "metadata": {},
   "outputs": [
    {
     "name": "stdout",
     "output_type": "stream",
     "text": [
      "19\n"
     ]
    }
   ],
   "source": [
    "print(0o23)  # Octal to Decimal"
   ]
  },
  {
   "cell_type": "code",
   "execution_count": 53,
   "id": "af12f977",
   "metadata": {},
   "outputs": [
    {
     "name": "stdout",
     "output_type": "stream",
     "text": [
      "3\n"
     ]
    }
   ],
   "source": [
    "print(0b011)  # Binary to Decimal"
   ]
  },
  {
   "cell_type": "code",
   "execution_count": 54,
   "id": "1e51fa02",
   "metadata": {},
   "outputs": [
    {
     "name": "stdout",
     "output_type": "stream",
     "text": [
      "69\n"
     ]
    }
   ],
   "source": [
    "print(0x45)   # Hexadecimal to Decimal"
   ]
  },
  {
   "cell_type": "code",
   "execution_count": 55,
   "id": "959fb3a9",
   "metadata": {},
   "outputs": [
    {
     "name": "stdout",
     "output_type": "stream",
     "text": [
      "True\n"
     ]
    }
   ],
   "source": [
    "print(True)"
   ]
  },
  {
   "cell_type": "code",
   "execution_count": 56,
   "id": "1f03669a",
   "metadata": {},
   "outputs": [
    {
     "name": "stdout",
     "output_type": "stream",
     "text": [
      "23.45\n"
     ]
    }
   ],
   "source": [
    "print(23.45)"
   ]
  },
  {
   "cell_type": "code",
   "execution_count": 57,
   "id": "16c442cc",
   "metadata": {},
   "outputs": [
    {
     "name": "stdout",
     "output_type": "stream",
     "text": [
      "(23+8j)\n"
     ]
    }
   ],
   "source": [
    "print(23+8j)"
   ]
  },
  {
   "cell_type": "markdown",
   "id": "71d9a7fa",
   "metadata": {},
   "source": [
    "#### <font color=\"maroon\">a.1.2. OCTAL\n",
    "* Numbers which is represented with 8 digits starting 0 to 8.\n",
    "* Numbers : 0,1,2,3,4,5,6,7,8\n",
    "* Prefix : 0o / 0O\n",
    "* eg: 0o65 / 0O56\n",
    "* oct() is used to convert any form to octal form."
   ]
  },
  {
   "cell_type": "code",
   "execution_count": 58,
   "id": "997112d5",
   "metadata": {},
   "outputs": [
    {
     "data": {
      "text/plain": [
       "23"
      ]
     },
     "execution_count": 58,
     "metadata": {},
     "output_type": "execute_result"
    }
   ],
   "source": [
    "b2=23\n",
    "b2"
   ]
  },
  {
   "cell_type": "code",
   "execution_count": 59,
   "id": "73033f89",
   "metadata": {},
   "outputs": [
    {
     "data": {
      "text/plain": [
       "'0o27'"
      ]
     },
     "execution_count": 59,
     "metadata": {},
     "output_type": "execute_result"
    }
   ],
   "source": [
    "oct(b2)   # Integer to Octal"
   ]
  },
  {
   "cell_type": "code",
   "execution_count": 60,
   "id": "a3454b96",
   "metadata": {},
   "outputs": [
    {
     "data": {
      "text/plain": [
       "'0o1'"
      ]
     },
     "execution_count": 60,
     "metadata": {},
     "output_type": "execute_result"
    }
   ],
   "source": [
    "oct(True)  # Boolean to Octal"
   ]
  },
  {
   "cell_type": "code",
   "execution_count": 61,
   "id": "589498ab",
   "metadata": {},
   "outputs": [
    {
     "data": {
      "text/plain": [
       "'0o6'"
      ]
     },
     "execution_count": 61,
     "metadata": {},
     "output_type": "execute_result"
    }
   ],
   "source": [
    "oct(0b110)  # Binary to Octal"
   ]
  },
  {
   "cell_type": "code",
   "execution_count": 62,
   "id": "1ceea519",
   "metadata": {},
   "outputs": [
    {
     "data": {
      "text/plain": [
       "'0o43'"
      ]
     },
     "execution_count": 62,
     "metadata": {},
     "output_type": "execute_result"
    }
   ],
   "source": [
    "oct(0x23)  # Hexadecimal to Octal"
   ]
  },
  {
   "cell_type": "code",
   "execution_count": 63,
   "id": "41660c60",
   "metadata": {},
   "outputs": [
    {
     "ename": "TypeError",
     "evalue": "'float' object cannot be interpreted as an integer",
     "output_type": "error",
     "traceback": [
      "\u001b[1;31m---------------------------------------------------------------------------\u001b[0m",
      "\u001b[1;31mTypeError\u001b[0m                                 Traceback (most recent call last)",
      "\u001b[1;32m~\\AppData\\Local\\Temp\\ipykernel_12576\\2523669955.py\u001b[0m in \u001b[0;36m<module>\u001b[1;34m\u001b[0m\n\u001b[1;32m----> 1\u001b[1;33m \u001b[0moct\u001b[0m\u001b[1;33m(\u001b[0m\u001b[1;36m23.45\u001b[0m\u001b[1;33m)\u001b[0m  \u001b[1;31m# Float can not convert to Octal Form.\u001b[0m\u001b[1;33m\u001b[0m\u001b[1;33m\u001b[0m\u001b[0m\n\u001b[0m",
      "\u001b[1;31mTypeError\u001b[0m: 'float' object cannot be interpreted as an integer"
     ]
    }
   ],
   "source": [
    "oct(23.45)  # Float can not convert to Octal Form."
   ]
  },
  {
   "cell_type": "code",
   "execution_count": 64,
   "id": "2594716c",
   "metadata": {},
   "outputs": [
    {
     "ename": "TypeError",
     "evalue": "'complex' object cannot be interpreted as an integer",
     "output_type": "error",
     "traceback": [
      "\u001b[1;31m---------------------------------------------------------------------------\u001b[0m",
      "\u001b[1;31mTypeError\u001b[0m                                 Traceback (most recent call last)",
      "\u001b[1;32m~\\AppData\\Local\\Temp\\ipykernel_12576\\23324549.py\u001b[0m in \u001b[0;36m<module>\u001b[1;34m\u001b[0m\n\u001b[1;32m----> 1\u001b[1;33m \u001b[0moct\u001b[0m\u001b[1;33m(\u001b[0m\u001b[1;36m87\u001b[0m\u001b[1;33m+\u001b[0m\u001b[1;36m9j\u001b[0m\u001b[1;33m)\u001b[0m  \u001b[1;31m# Complex number can not convert to Octal Form.\u001b[0m\u001b[1;33m\u001b[0m\u001b[1;33m\u001b[0m\u001b[0m\n\u001b[0m",
      "\u001b[1;31mTypeError\u001b[0m: 'complex' object cannot be interpreted as an integer"
     ]
    }
   ],
   "source": [
    "oct(87+9j)  # Complex number can not convert to Octal Form."
   ]
  },
  {
   "cell_type": "markdown",
   "id": "5524aa01",
   "metadata": {},
   "source": [
    "#### <font color=\"maroon\">a.1.3. HEXADECIMAL \n",
    "* Numbers which is represented with 16 digits.\n",
    "* Numbers : 0,1,2,3,4,5,6,7,8,9,A,B,C,D,E,F\n",
    "* Prefix : 0x / 0X\n",
    "* eg. : 0x24 /0X56\n",
    "* hex() is used to convert any form to Hexadecimal Form"
   ]
  },
  {
   "cell_type": "code",
   "execution_count": 65,
   "id": "40ae5cbb",
   "metadata": {},
   "outputs": [
    {
     "data": {
      "text/plain": [
       "23"
      ]
     },
     "execution_count": 65,
     "metadata": {},
     "output_type": "execute_result"
    }
   ],
   "source": [
    "c1=23\n",
    "c1"
   ]
  },
  {
   "cell_type": "code",
   "execution_count": 66,
   "id": "77595e7b",
   "metadata": {},
   "outputs": [
    {
     "data": {
      "text/plain": [
       "'0x17'"
      ]
     },
     "execution_count": 66,
     "metadata": {},
     "output_type": "execute_result"
    }
   ],
   "source": [
    "hex(c1)  # Integer to Hexadecimal"
   ]
  },
  {
   "cell_type": "code",
   "execution_count": 67,
   "id": "41d9aca8",
   "metadata": {},
   "outputs": [
    {
     "data": {
      "text/plain": [
       "'0x34'"
      ]
     },
     "execution_count": 67,
     "metadata": {},
     "output_type": "execute_result"
    }
   ],
   "source": [
    "hex(0x34)  # Hexadecimal to Hexadecimal"
   ]
  },
  {
   "cell_type": "code",
   "execution_count": 68,
   "id": "6268fc4a",
   "metadata": {},
   "outputs": [
    {
     "data": {
      "text/plain": [
       "'0x6'"
      ]
     },
     "execution_count": 68,
     "metadata": {},
     "output_type": "execute_result"
    }
   ],
   "source": [
    "hex(0b0110)  # Binary to hexadecimal"
   ]
  },
  {
   "cell_type": "code",
   "execution_count": 69,
   "id": "62be2871",
   "metadata": {},
   "outputs": [
    {
     "data": {
      "text/plain": [
       "'0x13'"
      ]
     },
     "execution_count": 69,
     "metadata": {},
     "output_type": "execute_result"
    }
   ],
   "source": [
    "hex(0o23)  # Octal to Hexadecimal"
   ]
  },
  {
   "cell_type": "code",
   "execution_count": 70,
   "id": "9f0dcf8e",
   "metadata": {},
   "outputs": [
    {
     "data": {
      "text/plain": [
       "'0x1'"
      ]
     },
     "execution_count": 70,
     "metadata": {},
     "output_type": "execute_result"
    }
   ],
   "source": [
    "hex(True)  # Boolean to Hexadecimal"
   ]
  },
  {
   "cell_type": "code",
   "execution_count": 71,
   "id": "f8a40c71",
   "metadata": {},
   "outputs": [
    {
     "ename": "TypeError",
     "evalue": "'float' object cannot be interpreted as an integer",
     "output_type": "error",
     "traceback": [
      "\u001b[1;31m---------------------------------------------------------------------------\u001b[0m",
      "\u001b[1;31mTypeError\u001b[0m                                 Traceback (most recent call last)",
      "\u001b[1;32m~\\AppData\\Local\\Temp\\ipykernel_12576\\364586218.py\u001b[0m in \u001b[0;36m<module>\u001b[1;34m\u001b[0m\n\u001b[1;32m----> 1\u001b[1;33m \u001b[0mhex\u001b[0m\u001b[1;33m(\u001b[0m\u001b[1;36m23.45\u001b[0m\u001b[1;33m)\u001b[0m  \u001b[1;31m# Float can not convert to Hexadecimal\u001b[0m\u001b[1;33m\u001b[0m\u001b[1;33m\u001b[0m\u001b[0m\n\u001b[0m",
      "\u001b[1;31mTypeError\u001b[0m: 'float' object cannot be interpreted as an integer"
     ]
    }
   ],
   "source": [
    "hex(23.45)  # Float can not convert to Hexadecimal"
   ]
  },
  {
   "cell_type": "code",
   "execution_count": 72,
   "id": "86024105",
   "metadata": {},
   "outputs": [
    {
     "ename": "TypeError",
     "evalue": "'complex' object cannot be interpreted as an integer",
     "output_type": "error",
     "traceback": [
      "\u001b[1;31m---------------------------------------------------------------------------\u001b[0m",
      "\u001b[1;31mTypeError\u001b[0m                                 Traceback (most recent call last)",
      "\u001b[1;32m~\\AppData\\Local\\Temp\\ipykernel_12576\\2220664017.py\u001b[0m in \u001b[0;36m<module>\u001b[1;34m\u001b[0m\n\u001b[1;32m----> 1\u001b[1;33m \u001b[0mhex\u001b[0m\u001b[1;33m(\u001b[0m\u001b[1;36m45\u001b[0m\u001b[1;33m+\u001b[0m\u001b[1;36m8j\u001b[0m\u001b[1;33m)\u001b[0m \u001b[1;31m# Complex number can not convert to Hexadecimal Form\u001b[0m\u001b[1;33m\u001b[0m\u001b[1;33m\u001b[0m\u001b[0m\n\u001b[0m",
      "\u001b[1;31mTypeError\u001b[0m: 'complex' object cannot be interpreted as an integer"
     ]
    }
   ],
   "source": [
    "hex(45+8j) # Complex number can not convert to Hexadecimal Form"
   ]
  },
  {
   "cell_type": "markdown",
   "id": "24505112",
   "metadata": {},
   "source": [
    "#### <font color=\"maroon\">a.1.4. BINARY\n",
    "* Number combination of 0 & 1.\n",
    "* Number : 0,1\n",
    "* Prefix : 0b / 0B\n",
    "* eg.: 0b011 / 0B100\n",
    "* bin() is used for convert any form to Binary form."
   ]
  },
  {
   "cell_type": "code",
   "execution_count": 73,
   "id": "8d4e8461",
   "metadata": {},
   "outputs": [
    {
     "data": {
      "text/plain": [
       "12"
      ]
     },
     "execution_count": 73,
     "metadata": {},
     "output_type": "execute_result"
    }
   ],
   "source": [
    "c2=12\n",
    "c2"
   ]
  },
  {
   "cell_type": "code",
   "execution_count": 74,
   "id": "310b2746",
   "metadata": {},
   "outputs": [
    {
     "data": {
      "text/plain": [
       "'0b1100'"
      ]
     },
     "execution_count": 74,
     "metadata": {},
     "output_type": "execute_result"
    }
   ],
   "source": [
    "bin(c2)  # Decimal to Binary"
   ]
  },
  {
   "cell_type": "code",
   "execution_count": 75,
   "id": "24683c13",
   "metadata": {},
   "outputs": [
    {
     "data": {
      "text/plain": [
       "'0b10011'"
      ]
     },
     "execution_count": 75,
     "metadata": {},
     "output_type": "execute_result"
    }
   ],
   "source": [
    "bin(0o23) # Octal to Binary"
   ]
  },
  {
   "cell_type": "code",
   "execution_count": 76,
   "id": "a58a479f",
   "metadata": {},
   "outputs": [
    {
     "data": {
      "text/plain": [
       "'0b1000101'"
      ]
     },
     "execution_count": 76,
     "metadata": {},
     "output_type": "execute_result"
    }
   ],
   "source": [
    "bin(0x45)  # Hexdecimal to Binary"
   ]
  },
  {
   "cell_type": "code",
   "execution_count": 77,
   "id": "38756286",
   "metadata": {},
   "outputs": [
    {
     "data": {
      "text/plain": [
       "'0b1'"
      ]
     },
     "execution_count": 77,
     "metadata": {},
     "output_type": "execute_result"
    }
   ],
   "source": [
    "bin(True)  # Boolean to Binary"
   ]
  },
  {
   "cell_type": "code",
   "execution_count": 78,
   "id": "d47140e8",
   "metadata": {},
   "outputs": [
    {
     "ename": "TypeError",
     "evalue": "'float' object cannot be interpreted as an integer",
     "output_type": "error",
     "traceback": [
      "\u001b[1;31m---------------------------------------------------------------------------\u001b[0m",
      "\u001b[1;31mTypeError\u001b[0m                                 Traceback (most recent call last)",
      "\u001b[1;32m~\\AppData\\Local\\Temp\\ipykernel_12576\\1934107930.py\u001b[0m in \u001b[0;36m<module>\u001b[1;34m\u001b[0m\n\u001b[1;32m----> 1\u001b[1;33m \u001b[0mbin\u001b[0m\u001b[1;33m(\u001b[0m\u001b[1;36m23.45\u001b[0m\u001b[1;33m)\u001b[0m  \u001b[1;31m# Float can not convert to Binary form\u001b[0m\u001b[1;33m\u001b[0m\u001b[1;33m\u001b[0m\u001b[0m\n\u001b[0m",
      "\u001b[1;31mTypeError\u001b[0m: 'float' object cannot be interpreted as an integer"
     ]
    }
   ],
   "source": [
    "bin(23.45)  # Float can not convert to Binary form"
   ]
  },
  {
   "cell_type": "code",
   "execution_count": 79,
   "id": "5eea133d",
   "metadata": {},
   "outputs": [
    {
     "ename": "TypeError",
     "evalue": "'complex' object cannot be interpreted as an integer",
     "output_type": "error",
     "traceback": [
      "\u001b[1;31m---------------------------------------------------------------------------\u001b[0m",
      "\u001b[1;31mTypeError\u001b[0m                                 Traceback (most recent call last)",
      "\u001b[1;32m~\\AppData\\Local\\Temp\\ipykernel_12576\\577271583.py\u001b[0m in \u001b[0;36m<module>\u001b[1;34m\u001b[0m\n\u001b[1;32m----> 1\u001b[1;33m \u001b[0mbin\u001b[0m\u001b[1;33m(\u001b[0m\u001b[1;36m24\u001b[0m\u001b[1;33m+\u001b[0m\u001b[1;36m8j\u001b[0m\u001b[1;33m)\u001b[0m \u001b[1;31m# Complex number can not convert to Binary Form.\u001b[0m\u001b[1;33m\u001b[0m\u001b[1;33m\u001b[0m\u001b[0m\n\u001b[0m",
      "\u001b[1;31mTypeError\u001b[0m: 'complex' object cannot be interpreted as an integer"
     ]
    }
   ],
   "source": [
    "bin(24+8j) # Complex number can not convert to Binary Form."
   ]
  },
  {
   "cell_type": "markdown",
   "id": "a96ac33b",
   "metadata": {},
   "source": [
    "#### <font color=\"teal\">a.2. FLOAT\n",
    "* An integer with decimal point.\n",
    "* Float is used to get the accurate value using decimal point.\n",
    "* It can generate infinite number of values between any two number.\n",
    "* It can extract lower & higher value between any two \"n\" number.\n",
    "* __`float()`__ is used to convert to Float Form."
   ]
  },
  {
   "cell_type": "code",
   "execution_count": 80,
   "id": "e97d5df6",
   "metadata": {},
   "outputs": [
    {
     "data": {
      "text/plain": [
       "12"
      ]
     },
     "execution_count": 80,
     "metadata": {},
     "output_type": "execute_result"
    }
   ],
   "source": [
    "c3=12\n",
    "c3"
   ]
  },
  {
   "cell_type": "code",
   "execution_count": 81,
   "id": "192c0f15",
   "metadata": {},
   "outputs": [
    {
     "data": {
      "text/plain": [
       "12.0"
      ]
     },
     "execution_count": 81,
     "metadata": {},
     "output_type": "execute_result"
    }
   ],
   "source": [
    "float(c3)"
   ]
  },
  {
   "cell_type": "code",
   "execution_count": 82,
   "id": "9d15b414",
   "metadata": {},
   "outputs": [
    {
     "data": {
      "text/plain": [
       "19.0"
      ]
     },
     "execution_count": 82,
     "metadata": {},
     "output_type": "execute_result"
    }
   ],
   "source": [
    "float(0o23)"
   ]
  },
  {
   "cell_type": "code",
   "execution_count": 83,
   "id": "c0442bbc",
   "metadata": {},
   "outputs": [
    {
     "data": {
      "text/plain": [
       "69.0"
      ]
     },
     "execution_count": 83,
     "metadata": {},
     "output_type": "execute_result"
    }
   ],
   "source": [
    "float(0x45)"
   ]
  },
  {
   "cell_type": "code",
   "execution_count": 84,
   "id": "b962abf5",
   "metadata": {},
   "outputs": [
    {
     "data": {
      "text/plain": [
       "1.0"
      ]
     },
     "execution_count": 84,
     "metadata": {},
     "output_type": "execute_result"
    }
   ],
   "source": [
    "float(True)"
   ]
  },
  {
   "cell_type": "code",
   "execution_count": 85,
   "id": "6ea1122b",
   "metadata": {},
   "outputs": [
    {
     "data": {
      "text/plain": [
       "3.0"
      ]
     },
     "execution_count": 85,
     "metadata": {},
     "output_type": "execute_result"
    }
   ],
   "source": [
    "float(0b011)"
   ]
  },
  {
   "cell_type": "code",
   "execution_count": 86,
   "id": "29013164",
   "metadata": {},
   "outputs": [
    {
     "ename": "TypeError",
     "evalue": "can't convert complex to float",
     "output_type": "error",
     "traceback": [
      "\u001b[1;31m---------------------------------------------------------------------------\u001b[0m",
      "\u001b[1;31mTypeError\u001b[0m                                 Traceback (most recent call last)",
      "\u001b[1;32m~\\AppData\\Local\\Temp\\ipykernel_12576\\4101807607.py\u001b[0m in \u001b[0;36m<module>\u001b[1;34m\u001b[0m\n\u001b[1;32m----> 1\u001b[1;33m \u001b[0mfloat\u001b[0m\u001b[1;33m(\u001b[0m\u001b[1;36m23\u001b[0m\u001b[1;33m+\u001b[0m\u001b[1;36m7j\u001b[0m\u001b[1;33m)\u001b[0m  \u001b[1;31m# Complex Number can not be converted to Float Form.\u001b[0m\u001b[1;33m\u001b[0m\u001b[1;33m\u001b[0m\u001b[0m\n\u001b[0m",
      "\u001b[1;31mTypeError\u001b[0m: can't convert complex to float"
     ]
    }
   ],
   "source": [
    "float(23+7j)  # Complex Number can not be converted to Float Form."
   ]
  },
  {
   "cell_type": "markdown",
   "id": "8b091766",
   "metadata": {},
   "source": [
    "#### <font color=\"teal\">a.3. BOOLEAN\n",
    "* True / False value. (True = 1 / False = 0)\n",
    "* bool() is used to convert to Boolean Form..\n",
    "   \n",
    ">  * <font color=\"red\"> Numeric Value:</font>\n",
    ">>   * __True__ : All non-zero number is consider as True.\n",
    ">>   * __False__ : Number is equal to zero. \n",
    "        * eg.: 0000\n",
    "    \n",
    ">  * <font color=\"red\"> String Value:</font>\n",
    ">>   * __True__ : All non-empty string is consider as True.\n",
    ">>   * __False__ : Empty string is consider as False.\n",
    "        * eg.: \"\"\n",
    "        "
   ]
  },
  {
   "cell_type": "code",
   "execution_count": 87,
   "id": "de75c1fa",
   "metadata": {},
   "outputs": [
    {
     "data": {
      "text/plain": [
       "True"
      ]
     },
     "execution_count": 87,
     "metadata": {},
     "output_type": "execute_result"
    }
   ],
   "source": [
    "bool(23) # Decimal to Boolean "
   ]
  },
  {
   "cell_type": "code",
   "execution_count": 88,
   "id": "01b71c30",
   "metadata": {},
   "outputs": [
    {
     "data": {
      "text/plain": [
       "True"
      ]
     },
     "execution_count": 88,
     "metadata": {},
     "output_type": "execute_result"
    }
   ],
   "source": [
    "bool(23.34)  # Float to Boolean"
   ]
  },
  {
   "cell_type": "code",
   "execution_count": 89,
   "id": "e52e9b5a",
   "metadata": {},
   "outputs": [
    {
     "data": {
      "text/plain": [
       "True"
      ]
     },
     "execution_count": 89,
     "metadata": {},
     "output_type": "execute_result"
    }
   ],
   "source": [
    "bool(0o23)  # Octal to Boolean"
   ]
  },
  {
   "cell_type": "code",
   "execution_count": 90,
   "id": "c00aead8",
   "metadata": {},
   "outputs": [
    {
     "data": {
      "text/plain": [
       "True"
      ]
     },
     "execution_count": 90,
     "metadata": {},
     "output_type": "execute_result"
    }
   ],
   "source": [
    "bool(0x34) # Hexadecimal to Boolean"
   ]
  },
  {
   "cell_type": "code",
   "execution_count": 91,
   "id": "eec81cfa",
   "metadata": {},
   "outputs": [
    {
     "data": {
      "text/plain": [
       "True"
      ]
     },
     "execution_count": 91,
     "metadata": {},
     "output_type": "execute_result"
    }
   ],
   "source": [
    "bool(0b011)  # Binary to Boolean"
   ]
  },
  {
   "cell_type": "code",
   "execution_count": 92,
   "id": "9b199c67",
   "metadata": {},
   "outputs": [
    {
     "data": {
      "text/plain": [
       "True"
      ]
     },
     "execution_count": 92,
     "metadata": {},
     "output_type": "execute_result"
    }
   ],
   "source": [
    "bool(28+9j)  # Complex to Boolean"
   ]
  },
  {
   "cell_type": "code",
   "execution_count": 93,
   "id": "bd6c6db7",
   "metadata": {},
   "outputs": [
    {
     "data": {
      "text/plain": [
       "False"
      ]
     },
     "execution_count": 93,
     "metadata": {},
     "output_type": "execute_result"
    }
   ],
   "source": [
    "bool(0000)  # All zero Values"
   ]
  },
  {
   "cell_type": "markdown",
   "id": "0b4d3f80",
   "metadata": {},
   "source": [
    "### "
   ]
  },
  {
   "cell_type": "code",
   "execution_count": 94,
   "id": "6d59d70d",
   "metadata": {},
   "outputs": [
    {
     "data": {
      "text/plain": [
       "True"
      ]
     },
     "execution_count": 94,
     "metadata": {},
     "output_type": "execute_result"
    }
   ],
   "source": [
    "bool(\"Dugul\")  # String to Boolean"
   ]
  },
  {
   "cell_type": "code",
   "execution_count": 95,
   "id": "5fe69b14",
   "metadata": {},
   "outputs": [
    {
     "data": {
      "text/plain": [
       "True"
      ]
     },
     "execution_count": 95,
     "metadata": {},
     "output_type": "execute_result"
    }
   ],
   "source": [
    "bool(\" \")  # Space to Boolean"
   ]
  },
  {
   "cell_type": "code",
   "execution_count": 96,
   "id": "20956d7c",
   "metadata": {},
   "outputs": [
    {
     "data": {
      "text/plain": [
       "False"
      ]
     },
     "execution_count": 96,
     "metadata": {},
     "output_type": "execute_result"
    }
   ],
   "source": [
    "bool(\"\")  # Empty string to Boolean"
   ]
  },
  {
   "cell_type": "markdown",
   "id": "e72da73b",
   "metadata": {},
   "source": [
    "#### <font color=\"teal\">a.4. COMPLEX\n",
    "* eg.: 10+80j\n",
    "* 10 = Real Value\n",
    "* 80 = Imaginary Value\n",
    "* j = Complex\n",
    "* complex() is used to convert any form to complex form."
   ]
  },
  {
   "cell_type": "code",
   "execution_count": 97,
   "id": "3c0b70bc",
   "metadata": {},
   "outputs": [
    {
     "data": {
      "text/plain": [
       "(23+0j)"
      ]
     },
     "execution_count": 97,
     "metadata": {},
     "output_type": "execute_result"
    }
   ],
   "source": [
    "complex(23)  # Decimal to Complex"
   ]
  },
  {
   "cell_type": "code",
   "execution_count": 98,
   "id": "a1886f53",
   "metadata": {},
   "outputs": [
    {
     "data": {
      "text/plain": [
       "(23.45+0j)"
      ]
     },
     "execution_count": 98,
     "metadata": {},
     "output_type": "execute_result"
    }
   ],
   "source": [
    "complex(23.45)  # Float to Complex"
   ]
  },
  {
   "cell_type": "code",
   "execution_count": 99,
   "id": "4bd36b4c",
   "metadata": {},
   "outputs": [
    {
     "data": {
      "text/plain": [
       "(10+0j)"
      ]
     },
     "execution_count": 99,
     "metadata": {},
     "output_type": "execute_result"
    }
   ],
   "source": [
    "complex(0o12)  # Octal to Complex"
   ]
  },
  {
   "cell_type": "code",
   "execution_count": 100,
   "id": "1deebd87",
   "metadata": {},
   "outputs": [
    {
     "data": {
      "text/plain": [
       "(52+0j)"
      ]
     },
     "execution_count": 100,
     "metadata": {},
     "output_type": "execute_result"
    }
   ],
   "source": [
    "complex(0x34)  # Hexadecimal to complex"
   ]
  },
  {
   "cell_type": "code",
   "execution_count": 101,
   "id": "26162296",
   "metadata": {},
   "outputs": [
    {
     "data": {
      "text/plain": [
       "(3+0j)"
      ]
     },
     "execution_count": 101,
     "metadata": {},
     "output_type": "execute_result"
    }
   ],
   "source": [
    "complex(0b011) # Binary to Complex"
   ]
  },
  {
   "cell_type": "code",
   "execution_count": 102,
   "id": "9d1dc357",
   "metadata": {},
   "outputs": [
    {
     "data": {
      "text/plain": [
       "(1+0j)"
      ]
     },
     "execution_count": 102,
     "metadata": {},
     "output_type": "execute_result"
    }
   ],
   "source": [
    "complex(True) # Boolean to Complex"
   ]
  },
  {
   "cell_type": "code",
   "execution_count": 103,
   "id": "7dbc7793",
   "metadata": {},
   "outputs": [
    {
     "data": {
      "text/plain": [
       "(23+0j)"
      ]
     },
     "execution_count": 103,
     "metadata": {},
     "output_type": "execute_result"
    }
   ],
   "source": [
    "complex(\"23\") # String Numeric to Complex"
   ]
  },
  {
   "cell_type": "markdown",
   "id": "ef97e43f",
   "metadata": {},
   "source": [
    "#### <font color=\"brown\">SOME POINT ABOUT COMPLEX DATA TYPE"
   ]
  },
  {
   "cell_type": "code",
   "execution_count": 104,
   "id": "e282f188",
   "metadata": {},
   "outputs": [
    {
     "data": {
      "text/plain": [
       "(23+34j)"
      ]
     },
     "execution_count": 104,
     "metadata": {},
     "output_type": "execute_result"
    }
   ],
   "source": [
    "complex(23,34) # 23 is real value, 34 is imaginary value"
   ]
  },
  {
   "cell_type": "code",
   "execution_count": 105,
   "id": "3d6e473b",
   "metadata": {},
   "outputs": [
    {
     "data": {
      "text/plain": [
       "0j"
      ]
     },
     "execution_count": 105,
     "metadata": {},
     "output_type": "execute_result"
    }
   ],
   "source": [
    "complex(False)"
   ]
  },
  {
   "cell_type": "code",
   "execution_count": 106,
   "id": "52b10e9a",
   "metadata": {},
   "outputs": [
    {
     "data": {
      "text/plain": [
       "(1+0j)"
      ]
     },
     "execution_count": 106,
     "metadata": {},
     "output_type": "execute_result"
    }
   ],
   "source": [
    "complex(True,False)"
   ]
  },
  {
   "cell_type": "code",
   "execution_count": 107,
   "id": "3fba2282",
   "metadata": {},
   "outputs": [
    {
     "data": {
      "text/plain": [
       "(2.3+3.4j)"
      ]
     },
     "execution_count": 107,
     "metadata": {},
     "output_type": "execute_result"
    }
   ],
   "source": [
    "complex(2.3,3.4)"
   ]
  },
  {
   "cell_type": "code",
   "execution_count": 108,
   "id": "8179ffcd",
   "metadata": {},
   "outputs": [
    {
     "ename": "TypeError",
     "evalue": "complex() can't take second arg if first is a string",
     "output_type": "error",
     "traceback": [
      "\u001b[1;31m---------------------------------------------------------------------------\u001b[0m",
      "\u001b[1;31mTypeError\u001b[0m                                 Traceback (most recent call last)",
      "\u001b[1;32m~\\AppData\\Local\\Temp\\ipykernel_12576\\2413330877.py\u001b[0m in \u001b[0;36m<module>\u001b[1;34m\u001b[0m\n\u001b[1;32m----> 1\u001b[1;33m \u001b[0mcomplex\u001b[0m\u001b[1;33m(\u001b[0m\u001b[1;34m\"23\"\u001b[0m\u001b[1;33m,\u001b[0m\u001b[1;34m\"5j\"\u001b[0m\u001b[1;33m)\u001b[0m   \u001b[1;31m#Second Argument cannot be String\u001b[0m\u001b[1;33m\u001b[0m\u001b[1;33m\u001b[0m\u001b[0m\n\u001b[0m",
      "\u001b[1;31mTypeError\u001b[0m: complex() can't take second arg if first is a string"
     ]
    }
   ],
   "source": [
    "complex(\"23\",\"5j\")   #Second Argument cannot be String"
   ]
  },
  {
   "cell_type": "code",
   "execution_count": 109,
   "id": "640ea334",
   "metadata": {},
   "outputs": [
    {
     "ename": "TypeError",
     "evalue": "complex() can't take second arg if first is a string",
     "output_type": "error",
     "traceback": [
      "\u001b[1;31m---------------------------------------------------------------------------\u001b[0m",
      "\u001b[1;31mTypeError\u001b[0m                                 Traceback (most recent call last)",
      "\u001b[1;32m~\\AppData\\Local\\Temp\\ipykernel_12576\\1437794484.py\u001b[0m in \u001b[0;36m<module>\u001b[1;34m\u001b[0m\n\u001b[1;32m----> 1\u001b[1;33m \u001b[0mcomplex\u001b[0m\u001b[1;33m(\u001b[0m\u001b[1;34m\"45\"\u001b[0m\u001b[1;33m,\u001b[0m\u001b[1;34m\"67j\"\u001b[0m\u001b[1;33m)\u001b[0m  \u001b[1;31m# Second Argument cannot be String\u001b[0m\u001b[1;33m\u001b[0m\u001b[1;33m\u001b[0m\u001b[0m\n\u001b[0m",
      "\u001b[1;31mTypeError\u001b[0m: complex() can't take second arg if first is a string"
     ]
    }
   ],
   "source": [
    "complex(\"45\",\"67j\")  # Second Argument cannot be String"
   ]
  },
  {
   "cell_type": "markdown",
   "id": "52517995",
   "metadata": {},
   "source": [
    "### "
   ]
  },
  {
   "cell_type": "markdown",
   "id": "a3a98302",
   "metadata": {},
   "source": [
    "#### <font color=\"green\">b. SEQUENTIAL DATA:\n",
    "* SEQUENTIAL DATA HOLD MULTIPLE HETEROGENEOUS VALUES.\n",
    "    * `HETEROGENEOUS VALUE` ARE NOTHING BUT VALUES WITH DIFFERENT DATA TYPE.\n",
    "* THESE VALUES ARE STORE IN SERIES OF MEMORY LOCATION AND EXTRACT BY THE CONCEPT OF __`INDEXING`__."
   ]
  },
  {
   "cell_type": "code",
   "execution_count": 110,
   "id": "65933a6e",
   "metadata": {},
   "outputs": [],
   "source": [
    "c=[\"Ball\",12,23,\"Cat\"]"
   ]
  },
  {
   "cell_type": "code",
   "execution_count": 111,
   "id": "f8045095",
   "metadata": {},
   "outputs": [
    {
     "data": {
      "text/plain": [
       "12"
      ]
     },
     "execution_count": 111,
     "metadata": {},
     "output_type": "execute_result"
    }
   ],
   "source": [
    "c[1] # Concept of indexing"
   ]
  },
  {
   "cell_type": "code",
   "execution_count": 112,
   "id": "fd4c02f0",
   "metadata": {},
   "outputs": [
    {
     "data": {
      "text/plain": [
       "'Ball'"
      ]
     },
     "execution_count": 112,
     "metadata": {},
     "output_type": "execute_result"
    }
   ],
   "source": [
    "c[0]"
   ]
  },
  {
   "cell_type": "markdown",
   "id": "136ea950",
   "metadata": {},
   "source": [
    "## <font color=\"purple\">OPERATORS IN PYTHON\n",
    "1. ARITHMATIC OPERATOR\n",
    "2. ASSIGNMENT OPERATOR\n",
    "3. COMPARISON OPERATOR\n",
    "4. LOGICAL OPERATOR\n",
    "5. IDENTIFY OPERATOR\n",
    "6. MEMBERSHIP OPERATOR\n",
    "7. BITWISE OPERATOR"
   ]
  },
  {
   "cell_type": "markdown",
   "id": "d6eefd45",
   "metadata": {},
   "source": [
    "#### <font color=\"brown\">1. ARITHMATIC OPERATOR\n",
    "* It do Mathematical Operation."
   ]
  },
  {
   "attachments": {
    "Arithmatic%20Operator.png": {
     "image/png": "[encoded data removed]"
    }
   },
   "cell_type": "markdown",
   "id": "4bd8b6d7",
   "metadata": {},
   "source": [
    "![Arithmatic%20Operator.png](attachment:Arithmatic%20Operator.png)"
   ]
  },
  {
   "cell_type": "code",
   "execution_count": 113,
   "id": "add7919e",
   "metadata": {},
   "outputs": [],
   "source": [
    "a=20\n",
    "b=10"
   ]
  },
  {
   "cell_type": "code",
   "execution_count": 114,
   "id": "a90dc714",
   "metadata": {},
   "outputs": [
    {
     "data": {
      "text/plain": [
       "30"
      ]
     },
     "execution_count": 114,
     "metadata": {},
     "output_type": "execute_result"
    }
   ],
   "source": [
    "a+b  # Addition"
   ]
  },
  {
   "cell_type": "code",
   "execution_count": 115,
   "id": "e83bcec6",
   "metadata": {},
   "outputs": [
    {
     "data": {
      "text/plain": [
       "10"
      ]
     },
     "execution_count": 115,
     "metadata": {},
     "output_type": "execute_result"
    }
   ],
   "source": [
    "a-b  # Substraction"
   ]
  },
  {
   "cell_type": "code",
   "execution_count": 116,
   "id": "62090bc4",
   "metadata": {},
   "outputs": [
    {
     "data": {
      "text/plain": [
       "200"
      ]
     },
     "execution_count": 116,
     "metadata": {},
     "output_type": "execute_result"
    }
   ],
   "source": [
    "a*b  # Multtiplication"
   ]
  },
  {
   "attachments": {
    "Division-2-min.png": {
     "image/png": "[encoded data removed]"
    }
   },
   "cell_type": "markdown",
   "id": "6c8e30e8",
   "metadata": {},
   "source": [
    "![Division-2-min.png](attachment:Division-2-min.png)"
   ]
  },
  {
   "cell_type": "code",
   "execution_count": 117,
   "id": "c72197cc",
   "metadata": {},
   "outputs": [
    {
     "data": {
      "text/plain": [
       "2.0"
      ]
     },
     "execution_count": 117,
     "metadata": {},
     "output_type": "execute_result"
    }
   ],
   "source": [
    "a/b  # Divison --> It give the Quotient in Float form"
   ]
  },
  {
   "cell_type": "code",
   "execution_count": 118,
   "id": "9ea7950a",
   "metadata": {},
   "outputs": [
    {
     "data": {
      "text/plain": [
       "2"
      ]
     },
     "execution_count": 118,
     "metadata": {},
     "output_type": "execute_result"
    }
   ],
   "source": [
    "a//b # Floor Divison--> It give the Quotient in Integer Form"
   ]
  },
  {
   "cell_type": "code",
   "execution_count": 119,
   "id": "15dea677",
   "metadata": {},
   "outputs": [
    {
     "data": {
      "text/plain": [
       "0"
      ]
     },
     "execution_count": 119,
     "metadata": {},
     "output_type": "execute_result"
    }
   ],
   "source": [
    "a%b # Modulas--> It give the Remainder"
   ]
  },
  {
   "attachments": {
    "exponent-1.jpg": {
     "image/jpeg": "[encoded data removed]"
    }
   },
   "cell_type": "markdown",
   "id": "72ba6f8a",
   "metadata": {},
   "source": [
    "![exponent-1.jpg](attachment:exponent-1.jpg)"
   ]
  },
  {
   "cell_type": "code",
   "execution_count": 120,
   "id": "bf6dd650",
   "metadata": {},
   "outputs": [
    {
     "data": {
      "text/plain": [
       "400"
      ]
     },
     "execution_count": 120,
     "metadata": {},
     "output_type": "execute_result"
    }
   ],
   "source": [
    "a**2 # Exponent--> Here base is 20 and exponent is 2"
   ]
  },
  {
   "cell_type": "code",
   "execution_count": 121,
   "id": "e58aafb0",
   "metadata": {},
   "outputs": [
    {
     "data": {
      "text/plain": [
       "64"
      ]
     },
     "execution_count": 121,
     "metadata": {},
     "output_type": "execute_result"
    }
   ],
   "source": [
    "4**3"
   ]
  },
  {
   "cell_type": "markdown",
   "id": "5cdf74c0",
   "metadata": {},
   "source": [
    "#### <font color=\"brown\">2. ASSIGNMENT OPERATOR\n",
    "* It assign a value to a Variable"
   ]
  },
  {
   "attachments": {
    "Assignment%20Operator.png": {
     "image/png": "[encoded data removed]"
    }
   },
   "cell_type": "markdown",
   "id": "c89f91c6",
   "metadata": {},
   "source": [
    "![Assignment%20Operator.png](attachment:Assignment%20Operator.png)"
   ]
  },
  {
   "cell_type": "code",
   "execution_count": 122,
   "id": "1c2c9bd0",
   "metadata": {},
   "outputs": [
    {
     "data": {
      "text/plain": [
       "5"
      ]
     },
     "execution_count": 122,
     "metadata": {},
     "output_type": "execute_result"
    }
   ],
   "source": [
    "a=5  # Asign-Equal to Operator\n",
    "a  "
   ]
  },
  {
   "cell_type": "code",
   "execution_count": 123,
   "id": "396eabf4",
   "metadata": {},
   "outputs": [
    {
     "data": {
      "text/plain": [
       "6"
      ]
     },
     "execution_count": 123,
     "metadata": {},
     "output_type": "execute_result"
    }
   ],
   "source": [
    "a+=1  # Increment Operator\n",
    "a"
   ]
  },
  {
   "cell_type": "code",
   "execution_count": 124,
   "id": "388f41cf",
   "metadata": {},
   "outputs": [
    {
     "data": {
      "text/plain": [
       "7"
      ]
     },
     "execution_count": 124,
     "metadata": {},
     "output_type": "execute_result"
    }
   ],
   "source": [
    "a=a+1 # Increment Operator\n",
    "a"
   ]
  },
  {
   "cell_type": "code",
   "execution_count": 125,
   "id": "eb6d20e1",
   "metadata": {},
   "outputs": [
    {
     "data": {
      "text/plain": [
       "6"
      ]
     },
     "execution_count": 125,
     "metadata": {},
     "output_type": "execute_result"
    }
   ],
   "source": [
    "a-=1 # Decrement Operator\n",
    "a"
   ]
  },
  {
   "cell_type": "code",
   "execution_count": 126,
   "id": "0d568135",
   "metadata": {},
   "outputs": [
    {
     "data": {
      "text/plain": [
       "5"
      ]
     },
     "execution_count": 126,
     "metadata": {},
     "output_type": "execute_result"
    }
   ],
   "source": [
    "a=a-1 # Decrement Operator\n",
    "a"
   ]
  },
  {
   "cell_type": "markdown",
   "id": "ccfb82b1",
   "metadata": {},
   "source": [
    "#### <font color=\"brown\">3. COMPARISION OPERATOR\n",
    "* It compare values.\n",
    "* Result comes in `TRUE/FALSE`."
   ]
  },
  {
   "attachments": {
    "COMPARISON%20OPERATOR.png": {
     "image/png": "[encoded data removed]"
    }
   },
   "cell_type": "markdown",
   "id": "62a7de18",
   "metadata": {},
   "source": [
    "![COMPARISON%20OPERATOR.png](attachment:COMPARISON%20OPERATOR.png)"
   ]
  },
  {
   "cell_type": "code",
   "execution_count": 127,
   "id": "d9fe7616",
   "metadata": {},
   "outputs": [],
   "source": [
    "x=10\n",
    "y=20\n",
    "z=10"
   ]
  },
  {
   "cell_type": "code",
   "execution_count": 128,
   "id": "53d957d2",
   "metadata": {},
   "outputs": [
    {
     "data": {
      "text/plain": [
       "False"
      ]
     },
     "execution_count": 128,
     "metadata": {},
     "output_type": "execute_result"
    }
   ],
   "source": [
    "x==y   # Equal To"
   ]
  },
  {
   "cell_type": "code",
   "execution_count": 129,
   "id": "cb1e7c54",
   "metadata": {},
   "outputs": [
    {
     "data": {
      "text/plain": [
       "True"
      ]
     },
     "execution_count": 129,
     "metadata": {},
     "output_type": "execute_result"
    }
   ],
   "source": [
    "x==z"
   ]
  },
  {
   "cell_type": "code",
   "execution_count": 130,
   "id": "e522b474",
   "metadata": {},
   "outputs": [
    {
     "data": {
      "text/plain": [
       "False"
      ]
     },
     "execution_count": 130,
     "metadata": {},
     "output_type": "execute_result"
    }
   ],
   "source": [
    "x>y # Greater Than"
   ]
  },
  {
   "cell_type": "code",
   "execution_count": 131,
   "id": "2fc2c7b3",
   "metadata": {},
   "outputs": [
    {
     "data": {
      "text/plain": [
       "True"
      ]
     },
     "execution_count": 131,
     "metadata": {},
     "output_type": "execute_result"
    }
   ],
   "source": [
    "y>z"
   ]
  },
  {
   "cell_type": "code",
   "execution_count": 132,
   "id": "b371af43",
   "metadata": {},
   "outputs": [
    {
     "data": {
      "text/plain": [
       "False"
      ]
     },
     "execution_count": 132,
     "metadata": {},
     "output_type": "execute_result"
    }
   ],
   "source": [
    "x>=y # Greater than Equal To"
   ]
  },
  {
   "cell_type": "code",
   "execution_count": 133,
   "id": "83763016",
   "metadata": {},
   "outputs": [
    {
     "data": {
      "text/plain": [
       "True"
      ]
     },
     "execution_count": 133,
     "metadata": {},
     "output_type": "execute_result"
    }
   ],
   "source": [
    "x<y # Less than"
   ]
  },
  {
   "cell_type": "code",
   "execution_count": 134,
   "id": "0804b673",
   "metadata": {},
   "outputs": [
    {
     "data": {
      "text/plain": [
       "True"
      ]
     },
     "execution_count": 134,
     "metadata": {},
     "output_type": "execute_result"
    }
   ],
   "source": [
    "x<=y # Less than Equal To"
   ]
  },
  {
   "cell_type": "code",
   "execution_count": 135,
   "id": "8c9097c7",
   "metadata": {},
   "outputs": [
    {
     "data": {
      "text/plain": [
       "False"
      ]
     },
     "execution_count": 135,
     "metadata": {},
     "output_type": "execute_result"
    }
   ],
   "source": [
    "x!=10 # Not Equal To"
   ]
  },
  {
   "cell_type": "markdown",
   "id": "2079ab84",
   "metadata": {},
   "source": [
    "#### <font color=\"teal\">3.1. COMPARISON OPERATOR IN STRING VALUES\n",
    "* It compare the __`ASCII`__ value of the Characters."
   ]
  },
  {
   "cell_type": "code",
   "execution_count": 136,
   "id": "56fdda97",
   "metadata": {
    "scrolled": true
   },
   "outputs": [
    {
     "data": {
      "text/plain": [
       "True"
      ]
     },
     "execution_count": 136,
     "metadata": {},
     "output_type": "execute_result"
    }
   ],
   "source": [
    "\"A\"<=\"a\""
   ]
  },
  {
   "cell_type": "code",
   "execution_count": 137,
   "id": "09ff4546",
   "metadata": {},
   "outputs": [
    {
     "name": "stdout",
     "output_type": "stream",
     "text": [
      "ASCII VALUE OF 'a':  97\n",
      "ASCII VALUE OF 'A':  65\n"
     ]
    }
   ],
   "source": [
    "print(\"ASCII VALUE OF 'a': \" ,ord(\"a\"))\n",
    "print(\"ASCII VALUE OF 'A': \" ,ord(\"A\"))"
   ]
  },
  {
   "cell_type": "code",
   "execution_count": 138,
   "id": "d613a19b",
   "metadata": {},
   "outputs": [
    {
     "data": {
      "text/plain": [
       "True"
      ]
     },
     "execution_count": 138,
     "metadata": {},
     "output_type": "execute_result"
    }
   ],
   "source": [
    "\"A\"<=\"A\""
   ]
  },
  {
   "cell_type": "code",
   "execution_count": 139,
   "id": "fff686e9",
   "metadata": {},
   "outputs": [
    {
     "data": {
      "text/plain": [
       "False"
      ]
     },
     "execution_count": 139,
     "metadata": {},
     "output_type": "execute_result"
    }
   ],
   "source": [
    "\"Aaaa\">\"aaA\" # IN THIS EXAMPLE IT COMPARE ASCII VALUE OF THE 1st CHARACTERS."
   ]
  },
  {
   "cell_type": "code",
   "execution_count": 140,
   "id": "5bc13009",
   "metadata": {},
   "outputs": [
    {
     "data": {
      "text/plain": [
       "False"
      ]
     },
     "execution_count": 140,
     "metadata": {},
     "output_type": "execute_result"
    }
   ],
   "source": [
    "\"Aaaa\">\"Ab\" # IN THIS EXAMPLE THE 1st CHARATER OF EACH VALUE IS SAME, SO IT CAMPARE THE 2nd CHARACTERS OF EACH VALUE."
   ]
  },
  {
   "cell_type": "code",
   "execution_count": 141,
   "id": "7c8ab28c",
   "metadata": {},
   "outputs": [
    {
     "name": "stdout",
     "output_type": "stream",
     "text": [
      "ASCII VALUE OF 'a':  97\n",
      "ASCII VALUE OF 'b':  98\n"
     ]
    }
   ],
   "source": [
    "print(\"ASCII VALUE OF 'a': \" ,ord(\"a\"))\n",
    "print(\"ASCII VALUE OF 'b': \" ,ord(\"b\"))"
   ]
  },
  {
   "cell_type": "code",
   "execution_count": 142,
   "id": "4ce1c09c",
   "metadata": {},
   "outputs": [
    {
     "data": {
      "text/plain": [
       "False"
      ]
     },
     "execution_count": 142,
     "metadata": {},
     "output_type": "execute_result"
    }
   ],
   "source": [
    "\"Orange\"<=\"ORANGE\""
   ]
  },
  {
   "cell_type": "markdown",
   "id": "e22433f5",
   "metadata": {},
   "source": [
    "#### <font color=\"brown\">4. LOGICAL OPERATOR"
   ]
  },
  {
   "attachments": {
    "Logical%20Operator.png": {
     "image/png": "[encoded data removed]"
    }
   },
   "cell_type": "markdown",
   "id": "b36ddbd9",
   "metadata": {},
   "source": [
    "![Logical%20Operator.png](attachment:Logical%20Operator.png)"
   ]
  },
  {
   "cell_type": "code",
   "execution_count": 143,
   "id": "bb5b69b5",
   "metadata": {},
   "outputs": [],
   "source": [
    "ab=10\n",
    "cd=20"
   ]
  },
  {
   "cell_type": "code",
   "execution_count": 144,
   "id": "e11ae55c",
   "metadata": {},
   "outputs": [
    {
     "name": "stdout",
     "output_type": "stream",
     "text": [
      "10 20\n"
     ]
    }
   ],
   "source": [
    "print(ab,cd)"
   ]
  },
  {
   "attachments": {
    "AND%20TRUTH%20TABLE.png": {
     "image/png": "[encoded data removed]"
    }
   },
   "cell_type": "markdown",
   "id": "cf68f683",
   "metadata": {},
   "source": [
    "![AND%20TRUTH%20TABLE.png](attachment:AND%20TRUTH%20TABLE.png)"
   ]
  },
  {
   "cell_type": "markdown",
   "id": "7adf7756",
   "metadata": {},
   "source": [
    "> <font color=\"red\">AND LOGIC:</font>\n",
    ">> * 1 Mean True <br>\n",
    ">> * 0 Mean False <br>\n",
    ">> * And---> If all the Value are True then Output is True otherwise False."
   ]
  },
  {
   "cell_type": "code",
   "execution_count": 145,
   "id": "2acd81f2",
   "metadata": {},
   "outputs": [
    {
     "data": {
      "text/plain": [
       "True"
      ]
     },
     "execution_count": 145,
     "metadata": {},
     "output_type": "execute_result"
    }
   ],
   "source": [
    "ab==10 and ab<cd  # and operator "
   ]
  },
  {
   "cell_type": "code",
   "execution_count": 146,
   "id": "f5236125",
   "metadata": {},
   "outputs": [
    {
     "data": {
      "text/plain": [
       "False"
      ]
     },
     "execution_count": 146,
     "metadata": {},
     "output_type": "execute_result"
    }
   ],
   "source": [
    "ab==10 and ab<cd and ab==cd"
   ]
  },
  {
   "attachments": {
    "OR-gate%20Truth%20Table.png": {
     "image/png": "[encoded data removed]"
    }
   },
   "cell_type": "markdown",
   "id": "926a1108",
   "metadata": {},
   "source": [
    "![OR-gate%20Truth%20Table.png](attachment:OR-gate%20Truth%20Table.png)"
   ]
  },
  {
   "cell_type": "markdown",
   "id": "b1517b8c",
   "metadata": {},
   "source": [
    "> <font color=\"red\">OR LOGIC:</font>\n",
    ">> * 1 Mean True <br>\n",
    ">> * 0 Mean False <br>\n",
    ">> * And---> If all the Value are False then Output is False otherwise True."
   ]
  },
  {
   "cell_type": "code",
   "execution_count": 147,
   "id": "dda8d60f",
   "metadata": {},
   "outputs": [
    {
     "data": {
      "text/plain": [
       "True"
      ]
     },
     "execution_count": 147,
     "metadata": {},
     "output_type": "execute_result"
    }
   ],
   "source": [
    "ab==10 or ab>cd  # or operator"
   ]
  },
  {
   "cell_type": "code",
   "execution_count": 148,
   "id": "2d1ded46",
   "metadata": {},
   "outputs": [
    {
     "data": {
      "text/plain": [
       "True"
      ]
     },
     "execution_count": 148,
     "metadata": {},
     "output_type": "execute_result"
    }
   ],
   "source": [
    "not ab!=10  # not operator"
   ]
  },
  {
   "cell_type": "markdown",
   "id": "abfa547a",
   "metadata": {},
   "source": [
    "#### <font color=\"teal\">4.1. VALUE WITH LOGICAL OPERATOR"
   ]
  },
  {
   "cell_type": "markdown",
   "id": "9ada9a01",
   "metadata": {},
   "source": [
    "##### <font color=\"maroon\">AND OPERATOR\n",
    "* It take __`right`__ side Value of `and` operator.\n",
    "* If you have __`0`__ , then it take __`0`__.\n",
    "* If you have __`\"\"`__ , then it take __`\"\"`__.\n",
    "* If you have both __`0 , \"\" `__, then it take __`\"\"`__."
   ]
  },
  {
   "cell_type": "code",
   "execution_count": 149,
   "id": "250164f1",
   "metadata": {},
   "outputs": [
    {
     "data": {
      "text/plain": [
       "'Orange'"
      ]
     },
     "execution_count": 149,
     "metadata": {},
     "output_type": "execute_result"
    }
   ],
   "source": [
    "\"Apple\" and \"Orange\""
   ]
  },
  {
   "cell_type": "code",
   "execution_count": 150,
   "id": "64278f2e",
   "metadata": {},
   "outputs": [
    {
     "data": {
      "text/plain": [
       "100"
      ]
     },
     "execution_count": 150,
     "metadata": {},
     "output_type": "execute_result"
    }
   ],
   "source": [
    "200 and 100"
   ]
  },
  {
   "cell_type": "code",
   "execution_count": 151,
   "id": "3c92062a",
   "metadata": {},
   "outputs": [
    {
     "data": {
      "text/plain": [
       "0"
      ]
     },
     "execution_count": 151,
     "metadata": {},
     "output_type": "execute_result"
    }
   ],
   "source": [
    "500 and 0"
   ]
  },
  {
   "cell_type": "code",
   "execution_count": 152,
   "id": "cf18ab28",
   "metadata": {},
   "outputs": [
    {
     "data": {
      "text/plain": [
       "0"
      ]
     },
     "execution_count": 152,
     "metadata": {},
     "output_type": "execute_result"
    }
   ],
   "source": [
    "0 and 500"
   ]
  },
  {
   "cell_type": "code",
   "execution_count": 153,
   "id": "b80c021e",
   "metadata": {},
   "outputs": [
    {
     "data": {
      "text/plain": [
       "''"
      ]
     },
     "execution_count": 153,
     "metadata": {},
     "output_type": "execute_result"
    }
   ],
   "source": [
    "\"Ball\" and \"\""
   ]
  },
  {
   "cell_type": "code",
   "execution_count": 154,
   "id": "795b8bc5",
   "metadata": {},
   "outputs": [
    {
     "data": {
      "text/plain": [
       "' '"
      ]
     },
     "execution_count": 154,
     "metadata": {},
     "output_type": "execute_result"
    }
   ],
   "source": [
    "\"Cat\" and \" \""
   ]
  },
  {
   "cell_type": "code",
   "execution_count": 155,
   "id": "ccdf85a0",
   "metadata": {},
   "outputs": [
    {
     "data": {
      "text/plain": [
       "'Orange'"
      ]
     },
     "execution_count": 155,
     "metadata": {},
     "output_type": "execute_result"
    }
   ],
   "source": [
    "500 and \"Apple\" and 300 and \"Orange\""
   ]
  },
  {
   "cell_type": "code",
   "execution_count": 156,
   "id": "7f079a72",
   "metadata": {},
   "outputs": [
    {
     "data": {
      "text/plain": [
       "0"
      ]
     },
     "execution_count": 156,
     "metadata": {},
     "output_type": "execute_result"
    }
   ],
   "source": [
    "500 and \"Apple\" and 0 and \"Orange\""
   ]
  },
  {
   "cell_type": "code",
   "execution_count": 157,
   "id": "4cd0f50e",
   "metadata": {},
   "outputs": [
    {
     "data": {
      "text/plain": [
       "''"
      ]
     },
     "execution_count": 157,
     "metadata": {},
     "output_type": "execute_result"
    }
   ],
   "source": [
    "\"apple\" and \"\" and 0"
   ]
  },
  {
   "cell_type": "code",
   "execution_count": 158,
   "id": "e4ecd062",
   "metadata": {},
   "outputs": [
    {
     "data": {
      "text/plain": [
       "''"
      ]
     },
     "execution_count": 158,
     "metadata": {},
     "output_type": "execute_result"
    }
   ],
   "source": [
    "\"apple\" and \"\" and 0 and \" \""
   ]
  },
  {
   "cell_type": "markdown",
   "id": "771a4a42",
   "metadata": {},
   "source": [
    "##### <font color=\"maroon\">OR OPERATOR\n",
    "* It take __`left`__ side Value of `or` operator.\n",
    "* It do not take __`0`__ & __`\"\"`__."
   ]
  },
  {
   "cell_type": "code",
   "execution_count": 159,
   "id": "8719e2ac",
   "metadata": {},
   "outputs": [
    {
     "data": {
      "text/plain": [
       "100"
      ]
     },
     "execution_count": 159,
     "metadata": {},
     "output_type": "execute_result"
    }
   ],
   "source": [
    "100 or 200"
   ]
  },
  {
   "cell_type": "code",
   "execution_count": 160,
   "id": "0c6d9c08",
   "metadata": {},
   "outputs": [
    {
     "data": {
      "text/plain": [
       "'Apple'"
      ]
     },
     "execution_count": 160,
     "metadata": {},
     "output_type": "execute_result"
    }
   ],
   "source": [
    "\"Apple\" or \"Ball\""
   ]
  },
  {
   "cell_type": "code",
   "execution_count": 161,
   "id": "8557250b",
   "metadata": {},
   "outputs": [
    {
     "data": {
      "text/plain": [
       "100"
      ]
     },
     "execution_count": 161,
     "metadata": {},
     "output_type": "execute_result"
    }
   ],
   "source": [
    "100 or 0"
   ]
  },
  {
   "cell_type": "code",
   "execution_count": 162,
   "id": "95a7448b",
   "metadata": {},
   "outputs": [
    {
     "data": {
      "text/plain": [
       "500"
      ]
     },
     "execution_count": 162,
     "metadata": {},
     "output_type": "execute_result"
    }
   ],
   "source": [
    "0 or 500"
   ]
  },
  {
   "cell_type": "code",
   "execution_count": 163,
   "id": "23988771",
   "metadata": {},
   "outputs": [
    {
     "data": {
      "text/plain": [
       "'Apple'"
      ]
     },
     "execution_count": 163,
     "metadata": {},
     "output_type": "execute_result"
    }
   ],
   "source": [
    "\"Apple\" or \"\""
   ]
  },
  {
   "cell_type": "code",
   "execution_count": 164,
   "id": "b9502dbc",
   "metadata": {},
   "outputs": [
    {
     "data": {
      "text/plain": [
       "'Orange'"
      ]
     },
     "execution_count": 164,
     "metadata": {},
     "output_type": "execute_result"
    }
   ],
   "source": [
    "\"Apple\" and \"Orange\" or \"Banana\" and 100"
   ]
  },
  {
   "cell_type": "code",
   "execution_count": 165,
   "id": "975dbfe2",
   "metadata": {},
   "outputs": [
    {
     "data": {
      "text/plain": [
       "'Apple'"
      ]
     },
     "execution_count": 165,
     "metadata": {},
     "output_type": "execute_result"
    }
   ],
   "source": [
    "\"Apple\" or \"Orange\" or \"Banana\" or 100"
   ]
  },
  {
   "cell_type": "code",
   "execution_count": 166,
   "id": "cf1220c0",
   "metadata": {},
   "outputs": [
    {
     "data": {
      "text/plain": [
       "True"
      ]
     },
     "execution_count": 166,
     "metadata": {},
     "output_type": "execute_result"
    }
   ],
   "source": [
    "(10>5) and (60>50)"
   ]
  },
  {
   "cell_type": "code",
   "execution_count": 167,
   "id": "2ab3b9d9",
   "metadata": {},
   "outputs": [
    {
     "data": {
      "text/plain": [
       "False"
      ]
     },
     "execution_count": 167,
     "metadata": {},
     "output_type": "execute_result"
    }
   ],
   "source": [
    "not((10>5) and (60>50))"
   ]
  },
  {
   "cell_type": "markdown",
   "id": "f26a8634",
   "metadata": {},
   "source": [
    "#### <font color=\"brown\">5. MEMBERSHIP OPERATOR"
   ]
  },
  {
   "attachments": {
    "Membership%20operator.png": {
     "image/png": "[encoded data removed]"
    }
   },
   "cell_type": "markdown",
   "id": "3a42f82b",
   "metadata": {},
   "source": [
    "![Membership%20operator.png](attachment:Membership%20operator.png)"
   ]
  },
  {
   "cell_type": "code",
   "execution_count": 168,
   "id": "27598300",
   "metadata": {},
   "outputs": [
    {
     "data": {
      "text/plain": [
       "'Apple'"
      ]
     },
     "execution_count": 168,
     "metadata": {},
     "output_type": "execute_result"
    }
   ],
   "source": [
    "w=\"Apple\"\n",
    "w"
   ]
  },
  {
   "cell_type": "code",
   "execution_count": 169,
   "id": "8946c7e6",
   "metadata": {},
   "outputs": [
    {
     "data": {
      "text/plain": [
       "False"
      ]
     },
     "execution_count": 169,
     "metadata": {},
     "output_type": "execute_result"
    }
   ],
   "source": [
    "\"a\" in w  # In Operator"
   ]
  },
  {
   "cell_type": "code",
   "execution_count": 170,
   "id": "8aa73be5",
   "metadata": {},
   "outputs": [
    {
     "data": {
      "text/plain": [
       "True"
      ]
     },
     "execution_count": 170,
     "metadata": {},
     "output_type": "execute_result"
    }
   ],
   "source": [
    "\"A\" in w"
   ]
  },
  {
   "cell_type": "code",
   "execution_count": 171,
   "id": "a1e950d4",
   "metadata": {},
   "outputs": [
    {
     "data": {
      "text/plain": [
       "True"
      ]
     },
     "execution_count": 171,
     "metadata": {},
     "output_type": "execute_result"
    }
   ],
   "source": [
    "\"a\" not in w  # Not In Operator"
   ]
  },
  {
   "cell_type": "markdown",
   "id": "05743f11",
   "metadata": {},
   "source": [
    "#### <font color=\"brown\">6. IDENTIFY OPERATOR"
   ]
  },
  {
   "attachments": {
    "Identify%20Operator.png": {
     "image/png": "[encoded data removed]"
    }
   },
   "cell_type": "markdown",
   "id": "ffde7bdd",
   "metadata": {},
   "source": [
    "![Identify%20Operator.png](attachment:Identify%20Operator.png)"
   ]
  },
  {
   "cell_type": "code",
   "execution_count": 172,
   "id": "3838417c",
   "metadata": {},
   "outputs": [],
   "source": [
    "de=10"
   ]
  },
  {
   "cell_type": "code",
   "execution_count": 173,
   "id": "8381e832",
   "metadata": {},
   "outputs": [],
   "source": [
    "ef=10"
   ]
  },
  {
   "cell_type": "code",
   "execution_count": 174,
   "id": "c0865f0e",
   "metadata": {},
   "outputs": [
    {
     "data": {
      "text/plain": [
       "True"
      ]
     },
     "execution_count": 174,
     "metadata": {},
     "output_type": "execute_result"
    }
   ],
   "source": [
    "de is ef # Is operator"
   ]
  },
  {
   "cell_type": "code",
   "execution_count": 175,
   "id": "ce5a9d18",
   "metadata": {},
   "outputs": [
    {
     "data": {
      "text/plain": [
       "False"
      ]
     },
     "execution_count": 175,
     "metadata": {},
     "output_type": "execute_result"
    }
   ],
   "source": [
    "de is not ef  # Is not Operator"
   ]
  },
  {
   "cell_type": "markdown",
   "id": "7284700a",
   "metadata": {},
   "source": [
    "#### <font color=\"brown\">7. BITWISE OPERATOR\n",
    "* In python Bitwise Operators are used to perform Bitwise Calculation on Integers.\n",
    "    \n",
    "    * The Integers are 1st converted into binary & then operations are performed on bit by bit, hence the name bitwise operators. Then the result is returned in decimal format.\n",
    "    \n",
    "* It works only on __`INTEGER`__."
   ]
  },
  {
   "attachments": {
    "Bitwise%20Operator.png": {
     "image/png": "[encoded data removed]"
    }
   },
   "cell_type": "markdown",
   "id": "87bb50db",
   "metadata": {},
   "source": [
    "![Bitwise%20Operator.png](attachment:Bitwise%20Operator.png)"
   ]
  },
  {
   "cell_type": "code",
   "execution_count": 176,
   "id": "f1e1f786",
   "metadata": {},
   "outputs": [],
   "source": [
    "s=10\n",
    "w=30"
   ]
  },
  {
   "cell_type": "code",
   "execution_count": 177,
   "id": "52d232b2",
   "metadata": {},
   "outputs": [
    {
     "name": "stdout",
     "output_type": "stream",
     "text": [
      "10\n"
     ]
    }
   ],
   "source": [
    "print(s&w)  # BITWISE AND OPERATOR"
   ]
  },
  {
   "cell_type": "code",
   "execution_count": 178,
   "id": "96dbb940",
   "metadata": {},
   "outputs": [
    {
     "name": "stdout",
     "output_type": "stream",
     "text": [
      "10 0b1010\n"
     ]
    }
   ],
   "source": [
    "print(s&w,bin(s&w))#bin is used to convert the integer to binary."
   ]
  },
  {
   "cell_type": "code",
   "execution_count": 179,
   "id": "f82690c1",
   "metadata": {},
   "outputs": [
    {
     "name": "stdout",
     "output_type": "stream",
     "text": [
      "30 0b11110\n"
     ]
    }
   ],
   "source": [
    "print(s|w,bin(s|w))   # BITWISE OR OPERATOR"
   ]
  },
  {
   "cell_type": "markdown",
   "id": "84c2d372",
   "metadata": {},
   "source": [
    "<font color=\"teal\">BITWISE NOT / COMPLIMENT :</font> <br>\n",
    "\n",
    "        * It is a Uninary Value.\n",
    "        * Two Steps Process:\n",
    "            * One's Compliment :-- Add one(1) to original Value.\n",
    "            * Two's Compliment :-- Reverse the Sign."
   ]
  },
  {
   "cell_type": "code",
   "execution_count": 180,
   "id": "25699390",
   "metadata": {},
   "outputs": [
    {
     "name": "stdout",
     "output_type": "stream",
     "text": [
      "20 0b10100\n"
     ]
    }
   ],
   "source": [
    "print(s^w,bin(s^w))  # BITWISE NOT OPERATOR"
   ]
  },
  {
   "cell_type": "markdown",
   "id": "cf7d4f85",
   "metadata": {},
   "source": [
    "<font color=\"teal\">RIGHT-SHIFT OPERATOR:</font><br>\n",
    "    \n",
    "    * Removes plays holder from right side of original value. \n",
    "    * Resultant is always less than original value.\n",
    "    \n",
    "<font color=\"teal\"> LEFT-SHIFT OPERATOR:</font><br>\n",
    "    \n",
    "    * It is Opposite of Right Shift Bitwise Operator"
   ]
  },
  {
   "cell_type": "code",
   "execution_count": 181,
   "id": "bda71008",
   "metadata": {},
   "outputs": [
    {
     "data": {
      "text/plain": [
       "'0b1010'"
      ]
     },
     "execution_count": 181,
     "metadata": {},
     "output_type": "execute_result"
    }
   ],
   "source": [
    "bin(s)"
   ]
  },
  {
   "cell_type": "code",
   "execution_count": 182,
   "id": "6928c8c1",
   "metadata": {},
   "outputs": [
    {
     "data": {
      "text/plain": [
       "2"
      ]
     },
     "execution_count": 182,
     "metadata": {},
     "output_type": "execute_result"
    }
   ],
   "source": [
    "s>>2  # BITWISE RIGHT SHIFT"
   ]
  },
  {
   "cell_type": "code",
   "execution_count": 183,
   "id": "febdcff3",
   "metadata": {},
   "outputs": [
    {
     "name": "stdout",
     "output_type": "stream",
     "text": [
      "2\n"
     ]
    }
   ],
   "source": [
    "print(0b10)"
   ]
  },
  {
   "cell_type": "code",
   "execution_count": 184,
   "id": "7543fa87",
   "metadata": {},
   "outputs": [
    {
     "data": {
      "text/plain": [
       "40"
      ]
     },
     "execution_count": 184,
     "metadata": {},
     "output_type": "execute_result"
    }
   ],
   "source": [
    "s<<2  # BITWISE LEFT SHIFT"
   ]
  },
  {
   "cell_type": "markdown",
   "id": "c42b13e2",
   "metadata": {},
   "source": [
    "### "
   ]
  },
  {
   "cell_type": "markdown",
   "id": "1555a23e",
   "metadata": {},
   "source": [
    "### <font color=\"purple\">INPUT & OUTPUT "
   ]
  },
  {
   "cell_type": "markdown",
   "id": "1a4243c8",
   "metadata": {},
   "source": [
    "#### <font color=\"brown\">INPUT"
   ]
  },
  {
   "cell_type": "code",
   "execution_count": 185,
   "id": "061b5c64",
   "metadata": {},
   "outputs": [
    {
     "name": "stdout",
     "output_type": "stream",
     "text": [
      "Enter a Number:10\n",
      "Enter second Number:20\n",
      "10\n",
      "20\n"
     ]
    }
   ],
   "source": [
    "n1=input(\"Enter a Number:\")\n",
    "n2=input(\"Enter second Number:\")\n",
    "\n",
    "\n",
    "print(n1)\n",
    "print(n2)"
   ]
  },
  {
   "cell_type": "markdown",
   "id": "32128c39",
   "metadata": {},
   "source": [
    "#### <font color=\"brown\">OUTPUT"
   ]
  },
  {
   "cell_type": "code",
   "execution_count": 186,
   "id": "70aa37ee",
   "metadata": {},
   "outputs": [
    {
     "name": "stdout",
     "output_type": "stream",
     "text": [
      "Welcome\n"
     ]
    }
   ],
   "source": [
    "print(\"Welcome\")"
   ]
  },
  {
   "cell_type": "markdown",
   "id": "df62df5e",
   "metadata": {},
   "source": [
    "### "
   ]
  },
  {
   "cell_type": "markdown",
   "id": "91d50493",
   "metadata": {},
   "source": [
    "## <font color=\"purple\">TYPE CASTING IN PYTHON\n",
    "* CONVERT ONE DATA TYPE TO ANOTHER DATA TYPE."
   ]
  },
  {
   "attachments": {
    "Type%20Casting.png": {
     "image/png": "[encoded data removed]"
    }
   },
   "cell_type": "markdown",
   "id": "f264d18c",
   "metadata": {},
   "source": [
    "![Type%20Casting.png](attachment:Type%20Casting.png)"
   ]
  },
  {
   "cell_type": "markdown",
   "id": "3c164e83",
   "metadata": {},
   "source": [
    "### <font color=\"brown\">INTEGER"
   ]
  },
  {
   "cell_type": "markdown",
   "id": "ba59a710",
   "metadata": {},
   "source": [
    "#### INTEGER to INTEGER"
   ]
  },
  {
   "cell_type": "code",
   "execution_count": 187,
   "id": "4ba85ec7",
   "metadata": {},
   "outputs": [
    {
     "name": "stdout",
     "output_type": "stream",
     "text": [
      "100\n",
      "<class 'int'>\n"
     ]
    }
   ],
   "source": [
    "a = 100 \n",
    "print(a)\n",
    "print(type(a))"
   ]
  },
  {
   "cell_type": "code",
   "execution_count": 188,
   "id": "039bbc71",
   "metadata": {},
   "outputs": [
    {
     "name": "stdout",
     "output_type": "stream",
     "text": [
      "100\n",
      "<class 'int'>\n"
     ]
    }
   ],
   "source": [
    "b = int(a)\n",
    "print(b)\n",
    "print(type(b))"
   ]
  },
  {
   "cell_type": "markdown",
   "id": "c1db3bae",
   "metadata": {},
   "source": [
    "#### FLOAT to INTEGER"
   ]
  },
  {
   "cell_type": "code",
   "execution_count": 189,
   "id": "e04a2f51",
   "metadata": {},
   "outputs": [
    {
     "name": "stdout",
     "output_type": "stream",
     "text": [
      "21.08\n",
      "<class 'float'>\n",
      "__________________\n",
      "21\n",
      "<class 'int'>\n"
     ]
    }
   ],
   "source": [
    "x = 21.08\n",
    "print(x)\n",
    "print(type(x))\n",
    "print(\"__________________\")\n",
    "\n",
    "y = int(x)\n",
    "print(y)\n",
    "print(type(y))"
   ]
  },
  {
   "cell_type": "markdown",
   "id": "dd4ee7cb",
   "metadata": {},
   "source": [
    "#### BOOLEAN to INTEGER"
   ]
  },
  {
   "cell_type": "code",
   "execution_count": 190,
   "id": "e21940c2",
   "metadata": {},
   "outputs": [
    {
     "name": "stdout",
     "output_type": "stream",
     "text": [
      "True\n",
      "<class 'bool'>\n",
      "__________________\n",
      "1\n",
      "<class 'int'>\n"
     ]
    }
   ],
   "source": [
    "x1 = True\n",
    "print(x1)\n",
    "print(type(x1))\n",
    "print(\"__________________\")\n",
    "\n",
    "y1 = int(x1)\n",
    "print(y1)\n",
    "print(type(y1))"
   ]
  },
  {
   "cell_type": "markdown",
   "id": "17af75ce",
   "metadata": {},
   "source": [
    "#### COMPLEX to INTEGER"
   ]
  },
  {
   "cell_type": "code",
   "execution_count": 191,
   "id": "8756ad5a",
   "metadata": {},
   "outputs": [
    {
     "name": "stdout",
     "output_type": "stream",
     "text": [
      "(10+2j)\n",
      "<class 'complex'>\n"
     ]
    }
   ],
   "source": [
    "x2 = 10 + 2j\n",
    "print(x2)\n",
    "print(type(x2))"
   ]
  },
  {
   "cell_type": "code",
   "execution_count": 192,
   "id": "d0f3e797",
   "metadata": {},
   "outputs": [
    {
     "ename": "TypeError",
     "evalue": "can't convert complex to int",
     "output_type": "error",
     "traceback": [
      "\u001b[1;31m---------------------------------------------------------------------------\u001b[0m",
      "\u001b[1;31mTypeError\u001b[0m                                 Traceback (most recent call last)",
      "\u001b[1;32m~\\AppData\\Local\\Temp\\ipykernel_12576\\527441679.py\u001b[0m in \u001b[0;36m<module>\u001b[1;34m\u001b[0m\n\u001b[1;32m----> 1\u001b[1;33m \u001b[0my2\u001b[0m \u001b[1;33m=\u001b[0m \u001b[0mint\u001b[0m\u001b[1;33m(\u001b[0m\u001b[0mx2\u001b[0m\u001b[1;33m)\u001b[0m\u001b[1;33m\u001b[0m\u001b[1;33m\u001b[0m\u001b[0m\n\u001b[0m\u001b[0;32m      2\u001b[0m \u001b[0mprint\u001b[0m\u001b[1;33m(\u001b[0m\u001b[0my2\u001b[0m\u001b[1;33m)\u001b[0m\u001b[1;33m\u001b[0m\u001b[1;33m\u001b[0m\u001b[0m\n\u001b[0;32m      3\u001b[0m \u001b[0mprint\u001b[0m\u001b[1;33m(\u001b[0m\u001b[0mtype\u001b[0m\u001b[1;33m(\u001b[0m\u001b[0my2\u001b[0m\u001b[1;33m)\u001b[0m\u001b[1;33m)\u001b[0m\u001b[1;33m\u001b[0m\u001b[1;33m\u001b[0m\u001b[0m\n",
      "\u001b[1;31mTypeError\u001b[0m: can't convert complex to int"
     ]
    }
   ],
   "source": [
    "y2 = int(x2)\n",
    "print(y2)\n",
    "print(type(y2))"
   ]
  },
  {
   "cell_type": "markdown",
   "id": "7d0fcc6a",
   "metadata": {},
   "source": [
    "#### STRING-ALPHABETS to INTEGER"
   ]
  },
  {
   "cell_type": "code",
   "execution_count": 193,
   "id": "2ddc75fb",
   "metadata": {},
   "outputs": [
    {
     "name": "stdout",
     "output_type": "stream",
     "text": [
      "INDIA\n",
      "<class 'str'>\n"
     ]
    }
   ],
   "source": [
    "x2 = \"INDIA\"\n",
    "print(x2)\n",
    "print(type(x2))"
   ]
  },
  {
   "cell_type": "code",
   "execution_count": 194,
   "id": "5a1f1a04",
   "metadata": {},
   "outputs": [
    {
     "ename": "ValueError",
     "evalue": "invalid literal for int() with base 10: 'INDIA'",
     "output_type": "error",
     "traceback": [
      "\u001b[1;31m---------------------------------------------------------------------------\u001b[0m",
      "\u001b[1;31mValueError\u001b[0m                                Traceback (most recent call last)",
      "\u001b[1;32m~\\AppData\\Local\\Temp\\ipykernel_12576\\527441679.py\u001b[0m in \u001b[0;36m<module>\u001b[1;34m\u001b[0m\n\u001b[1;32m----> 1\u001b[1;33m \u001b[0my2\u001b[0m \u001b[1;33m=\u001b[0m \u001b[0mint\u001b[0m\u001b[1;33m(\u001b[0m\u001b[0mx2\u001b[0m\u001b[1;33m)\u001b[0m\u001b[1;33m\u001b[0m\u001b[1;33m\u001b[0m\u001b[0m\n\u001b[0m\u001b[0;32m      2\u001b[0m \u001b[0mprint\u001b[0m\u001b[1;33m(\u001b[0m\u001b[0my2\u001b[0m\u001b[1;33m)\u001b[0m\u001b[1;33m\u001b[0m\u001b[1;33m\u001b[0m\u001b[0m\n\u001b[0;32m      3\u001b[0m \u001b[0mprint\u001b[0m\u001b[1;33m(\u001b[0m\u001b[0mtype\u001b[0m\u001b[1;33m(\u001b[0m\u001b[0my2\u001b[0m\u001b[1;33m)\u001b[0m\u001b[1;33m)\u001b[0m\u001b[1;33m\u001b[0m\u001b[1;33m\u001b[0m\u001b[0m\n",
      "\u001b[1;31mValueError\u001b[0m: invalid literal for int() with base 10: 'INDIA'"
     ]
    }
   ],
   "source": [
    "y2 = int(x2)\n",
    "print(y2)\n",
    "print(type(y2))"
   ]
  },
  {
   "cell_type": "markdown",
   "id": "a81ef10f",
   "metadata": {},
   "source": [
    "#### STRING-NUMERIC to INTEGER"
   ]
  },
  {
   "cell_type": "code",
   "execution_count": 195,
   "id": "ea95036a",
   "metadata": {},
   "outputs": [
    {
     "name": "stdout",
     "output_type": "stream",
     "text": [
      "12345\n",
      "<class 'str'>\n"
     ]
    }
   ],
   "source": [
    "x2 = \"12345\"\n",
    "print(x2)\n",
    "print(type(x2))"
   ]
  },
  {
   "cell_type": "code",
   "execution_count": 196,
   "id": "26a8fea1",
   "metadata": {},
   "outputs": [
    {
     "name": "stdout",
     "output_type": "stream",
     "text": [
      "12345\n",
      "<class 'int'>\n"
     ]
    }
   ],
   "source": [
    "y2 = int(x2)\n",
    "print(y2)\n",
    "print(type(y2))"
   ]
  },
  {
   "cell_type": "markdown",
   "id": "9abb1863",
   "metadata": {},
   "source": [
    "#### STRING-FLOAT to INTEGER"
   ]
  },
  {
   "cell_type": "code",
   "execution_count": 197,
   "id": "41555b9a",
   "metadata": {},
   "outputs": [
    {
     "name": "stdout",
     "output_type": "stream",
     "text": [
      "123.45\n",
      "<class 'str'>\n"
     ]
    }
   ],
   "source": [
    "x2 = \"123.45\"\n",
    "print(x2)\n",
    "print(type(x2))"
   ]
  },
  {
   "cell_type": "code",
   "execution_count": 198,
   "id": "67370326",
   "metadata": {},
   "outputs": [
    {
     "ename": "ValueError",
     "evalue": "invalid literal for int() with base 10: '123.45'",
     "output_type": "error",
     "traceback": [
      "\u001b[1;31m---------------------------------------------------------------------------\u001b[0m",
      "\u001b[1;31mValueError\u001b[0m                                Traceback (most recent call last)",
      "\u001b[1;32m~\\AppData\\Local\\Temp\\ipykernel_12576\\527441679.py\u001b[0m in \u001b[0;36m<module>\u001b[1;34m\u001b[0m\n\u001b[1;32m----> 1\u001b[1;33m \u001b[0my2\u001b[0m \u001b[1;33m=\u001b[0m \u001b[0mint\u001b[0m\u001b[1;33m(\u001b[0m\u001b[0mx2\u001b[0m\u001b[1;33m)\u001b[0m\u001b[1;33m\u001b[0m\u001b[1;33m\u001b[0m\u001b[0m\n\u001b[0m\u001b[0;32m      2\u001b[0m \u001b[0mprint\u001b[0m\u001b[1;33m(\u001b[0m\u001b[0my2\u001b[0m\u001b[1;33m)\u001b[0m\u001b[1;33m\u001b[0m\u001b[1;33m\u001b[0m\u001b[0m\n\u001b[0;32m      3\u001b[0m \u001b[0mprint\u001b[0m\u001b[1;33m(\u001b[0m\u001b[0mtype\u001b[0m\u001b[1;33m(\u001b[0m\u001b[0my2\u001b[0m\u001b[1;33m)\u001b[0m\u001b[1;33m)\u001b[0m\u001b[1;33m\u001b[0m\u001b[1;33m\u001b[0m\u001b[0m\n",
      "\u001b[1;31mValueError\u001b[0m: invalid literal for int() with base 10: '123.45'"
     ]
    }
   ],
   "source": [
    "y2 = int(x2)\n",
    "print(y2)\n",
    "print(type(y2))"
   ]
  },
  {
   "cell_type": "markdown",
   "id": "16899418",
   "metadata": {},
   "source": [
    "#### STRING-COMPLEX to INTEGER"
   ]
  },
  {
   "cell_type": "code",
   "execution_count": 199,
   "id": "99793f3a",
   "metadata": {},
   "outputs": [
    {
     "name": "stdout",
     "output_type": "stream",
     "text": [
      "12+5j\n",
      "<class 'str'>\n"
     ]
    }
   ],
   "source": [
    "x2 = \"12+5j\"\n",
    "print(x2)\n",
    "print(type(x2))"
   ]
  },
  {
   "cell_type": "code",
   "execution_count": 200,
   "id": "eb8b03a4",
   "metadata": {},
   "outputs": [
    {
     "ename": "ValueError",
     "evalue": "invalid literal for int() with base 10: '12+5j'",
     "output_type": "error",
     "traceback": [
      "\u001b[1;31m---------------------------------------------------------------------------\u001b[0m",
      "\u001b[1;31mValueError\u001b[0m                                Traceback (most recent call last)",
      "\u001b[1;32m~\\AppData\\Local\\Temp\\ipykernel_12576\\527441679.py\u001b[0m in \u001b[0;36m<module>\u001b[1;34m\u001b[0m\n\u001b[1;32m----> 1\u001b[1;33m \u001b[0my2\u001b[0m \u001b[1;33m=\u001b[0m \u001b[0mint\u001b[0m\u001b[1;33m(\u001b[0m\u001b[0mx2\u001b[0m\u001b[1;33m)\u001b[0m\u001b[1;33m\u001b[0m\u001b[1;33m\u001b[0m\u001b[0m\n\u001b[0m\u001b[0;32m      2\u001b[0m \u001b[0mprint\u001b[0m\u001b[1;33m(\u001b[0m\u001b[0my2\u001b[0m\u001b[1;33m)\u001b[0m\u001b[1;33m\u001b[0m\u001b[1;33m\u001b[0m\u001b[0m\n\u001b[0;32m      3\u001b[0m \u001b[0mprint\u001b[0m\u001b[1;33m(\u001b[0m\u001b[0mtype\u001b[0m\u001b[1;33m(\u001b[0m\u001b[0my2\u001b[0m\u001b[1;33m)\u001b[0m\u001b[1;33m)\u001b[0m\u001b[1;33m\u001b[0m\u001b[1;33m\u001b[0m\u001b[0m\n",
      "\u001b[1;31mValueError\u001b[0m: invalid literal for int() with base 10: '12+5j'"
     ]
    }
   ],
   "source": [
    "y2 = int(x2)\n",
    "print(y2)\n",
    "print(type(y2))"
   ]
  },
  {
   "cell_type": "markdown",
   "id": "bfc89df5",
   "metadata": {},
   "source": [
    "### "
   ]
  },
  {
   "cell_type": "markdown",
   "id": "c41c701c",
   "metadata": {},
   "source": [
    "### <font color=\"brown\">FLOAT"
   ]
  },
  {
   "cell_type": "markdown",
   "id": "ee7d8e78",
   "metadata": {},
   "source": [
    "#### INTEGER to FLOAT"
   ]
  },
  {
   "cell_type": "code",
   "execution_count": 201,
   "id": "dcd73098",
   "metadata": {},
   "outputs": [
    {
     "name": "stdout",
     "output_type": "stream",
     "text": [
      "100\n",
      "<class 'int'>\n"
     ]
    }
   ],
   "source": [
    "a = 100 \n",
    "print(a)\n",
    "print(type(a))"
   ]
  },
  {
   "cell_type": "code",
   "execution_count": 202,
   "id": "778d966f",
   "metadata": {},
   "outputs": [
    {
     "name": "stdout",
     "output_type": "stream",
     "text": [
      "100.0\n",
      "<class 'float'>\n"
     ]
    }
   ],
   "source": [
    "res = float(a)\n",
    "print(res)\n",
    "print(type(res))"
   ]
  },
  {
   "cell_type": "markdown",
   "id": "6b5edc79",
   "metadata": {},
   "source": [
    "#### FLOAT to FLOAT"
   ]
  },
  {
   "cell_type": "code",
   "execution_count": 203,
   "id": "644cde35",
   "metadata": {},
   "outputs": [
    {
     "name": "stdout",
     "output_type": "stream",
     "text": [
      "23.34\n",
      "<class 'float'>\n"
     ]
    }
   ],
   "source": [
    "a = 23.34 \n",
    "print(a)\n",
    "print(type(a))"
   ]
  },
  {
   "cell_type": "code",
   "execution_count": 204,
   "id": "02877dfa",
   "metadata": {},
   "outputs": [
    {
     "name": "stdout",
     "output_type": "stream",
     "text": [
      "23.34\n",
      "<class 'float'>\n"
     ]
    }
   ],
   "source": [
    "res = float(a)\n",
    "print(res)\n",
    "print(type(res))"
   ]
  },
  {
   "cell_type": "markdown",
   "id": "c56635f4",
   "metadata": {},
   "source": [
    "#### BOOLEAN TO FLOAT"
   ]
  },
  {
   "cell_type": "code",
   "execution_count": 205,
   "id": "8bb0868b",
   "metadata": {},
   "outputs": [
    {
     "name": "stdout",
     "output_type": "stream",
     "text": [
      "True\n",
      "<class 'bool'>\n"
     ]
    }
   ],
   "source": [
    "a = True\n",
    "print(a)\n",
    "print(type(a))"
   ]
  },
  {
   "cell_type": "code",
   "execution_count": 206,
   "id": "737ff51e",
   "metadata": {},
   "outputs": [
    {
     "name": "stdout",
     "output_type": "stream",
     "text": [
      "1.0\n",
      "<class 'float'>\n"
     ]
    }
   ],
   "source": [
    "res = float(a)\n",
    "print(res)\n",
    "print(type(res))"
   ]
  },
  {
   "cell_type": "markdown",
   "id": "e8eba79e",
   "metadata": {},
   "source": [
    "#### COMPLEX to FLOAT"
   ]
  },
  {
   "cell_type": "code",
   "execution_count": 207,
   "id": "34fcff53",
   "metadata": {},
   "outputs": [
    {
     "name": "stdout",
     "output_type": "stream",
     "text": [
      "(10+8j)\n",
      "<class 'complex'>\n"
     ]
    }
   ],
   "source": [
    "a = 10 + 8j\n",
    "print(a)\n",
    "print(type(a))"
   ]
  },
  {
   "cell_type": "code",
   "execution_count": 208,
   "id": "8db90f38",
   "metadata": {},
   "outputs": [
    {
     "ename": "TypeError",
     "evalue": "can't convert complex to float",
     "output_type": "error",
     "traceback": [
      "\u001b[1;31m---------------------------------------------------------------------------\u001b[0m",
      "\u001b[1;31mTypeError\u001b[0m                                 Traceback (most recent call last)",
      "\u001b[1;32m~\\AppData\\Local\\Temp\\ipykernel_12576\\1111483547.py\u001b[0m in \u001b[0;36m<module>\u001b[1;34m\u001b[0m\n\u001b[1;32m----> 1\u001b[1;33m \u001b[0mres\u001b[0m \u001b[1;33m=\u001b[0m \u001b[0mfloat\u001b[0m\u001b[1;33m(\u001b[0m\u001b[0ma\u001b[0m\u001b[1;33m)\u001b[0m\u001b[1;33m\u001b[0m\u001b[1;33m\u001b[0m\u001b[0m\n\u001b[0m\u001b[0;32m      2\u001b[0m \u001b[0mprint\u001b[0m\u001b[1;33m(\u001b[0m\u001b[0mres\u001b[0m\u001b[1;33m)\u001b[0m\u001b[1;33m\u001b[0m\u001b[1;33m\u001b[0m\u001b[0m\n\u001b[0;32m      3\u001b[0m \u001b[0mprint\u001b[0m\u001b[1;33m(\u001b[0m\u001b[0mtype\u001b[0m\u001b[1;33m(\u001b[0m\u001b[0mres\u001b[0m\u001b[1;33m)\u001b[0m\u001b[1;33m)\u001b[0m\u001b[1;33m\u001b[0m\u001b[1;33m\u001b[0m\u001b[0m\n",
      "\u001b[1;31mTypeError\u001b[0m: can't convert complex to float"
     ]
    }
   ],
   "source": [
    "res = float(a)\n",
    "print(res)\n",
    "print(type(res))"
   ]
  },
  {
   "cell_type": "markdown",
   "id": "c9b45d70",
   "metadata": {},
   "source": [
    "#### STRING-ALPHABET to FLOAT"
   ]
  },
  {
   "cell_type": "code",
   "execution_count": 209,
   "id": "56627f66",
   "metadata": {},
   "outputs": [
    {
     "name": "stdout",
     "output_type": "stream",
     "text": [
      "APPLE\n",
      "<class 'str'>\n"
     ]
    }
   ],
   "source": [
    "a = \"APPLE\"\n",
    "print(a)\n",
    "print(type(a))"
   ]
  },
  {
   "cell_type": "code",
   "execution_count": 210,
   "id": "c17497f9",
   "metadata": {},
   "outputs": [
    {
     "ename": "ValueError",
     "evalue": "could not convert string to float: 'APPLE'",
     "output_type": "error",
     "traceback": [
      "\u001b[1;31m---------------------------------------------------------------------------\u001b[0m",
      "\u001b[1;31mValueError\u001b[0m                                Traceback (most recent call last)",
      "\u001b[1;32m~\\AppData\\Local\\Temp\\ipykernel_12576\\1111483547.py\u001b[0m in \u001b[0;36m<module>\u001b[1;34m\u001b[0m\n\u001b[1;32m----> 1\u001b[1;33m \u001b[0mres\u001b[0m \u001b[1;33m=\u001b[0m \u001b[0mfloat\u001b[0m\u001b[1;33m(\u001b[0m\u001b[0ma\u001b[0m\u001b[1;33m)\u001b[0m\u001b[1;33m\u001b[0m\u001b[1;33m\u001b[0m\u001b[0m\n\u001b[0m\u001b[0;32m      2\u001b[0m \u001b[0mprint\u001b[0m\u001b[1;33m(\u001b[0m\u001b[0mres\u001b[0m\u001b[1;33m)\u001b[0m\u001b[1;33m\u001b[0m\u001b[1;33m\u001b[0m\u001b[0m\n\u001b[0;32m      3\u001b[0m \u001b[0mprint\u001b[0m\u001b[1;33m(\u001b[0m\u001b[0mtype\u001b[0m\u001b[1;33m(\u001b[0m\u001b[0mres\u001b[0m\u001b[1;33m)\u001b[0m\u001b[1;33m)\u001b[0m\u001b[1;33m\u001b[0m\u001b[1;33m\u001b[0m\u001b[0m\n",
      "\u001b[1;31mValueError\u001b[0m: could not convert string to float: 'APPLE'"
     ]
    }
   ],
   "source": [
    "res = float(a)\n",
    "print(res)\n",
    "print(type(res))"
   ]
  },
  {
   "cell_type": "markdown",
   "id": "71004f93",
   "metadata": {},
   "source": [
    "#### STRING-NUMERIC to FLOAT"
   ]
  },
  {
   "cell_type": "code",
   "execution_count": 211,
   "id": "fbb2dfe8",
   "metadata": {},
   "outputs": [
    {
     "name": "stdout",
     "output_type": "stream",
     "text": [
      "1234\n",
      "<class 'str'>\n"
     ]
    }
   ],
   "source": [
    "a = \"1234\"\n",
    "print(a)\n",
    "print(type(a))"
   ]
  },
  {
   "cell_type": "code",
   "execution_count": 212,
   "id": "4b9dcfb7",
   "metadata": {},
   "outputs": [
    {
     "name": "stdout",
     "output_type": "stream",
     "text": [
      "1234.0\n",
      "<class 'float'>\n"
     ]
    }
   ],
   "source": [
    "res = float(a)\n",
    "print(res)\n",
    "print(type(res))"
   ]
  },
  {
   "cell_type": "markdown",
   "id": "1da5218f",
   "metadata": {},
   "source": [
    "#### STRING-FLOAT to FLOAT"
   ]
  },
  {
   "cell_type": "code",
   "execution_count": 213,
   "id": "6b0ed46a",
   "metadata": {},
   "outputs": [
    {
     "name": "stdout",
     "output_type": "stream",
     "text": [
      "12.34\n",
      "<class 'str'>\n"
     ]
    }
   ],
   "source": [
    "a = \"12.34\"\n",
    "print(a)\n",
    "print(type(a))"
   ]
  },
  {
   "cell_type": "code",
   "execution_count": 214,
   "id": "84139bbe",
   "metadata": {},
   "outputs": [
    {
     "name": "stdout",
     "output_type": "stream",
     "text": [
      "12.34\n",
      "<class 'float'>\n"
     ]
    }
   ],
   "source": [
    "res = float(a)\n",
    "print(res)\n",
    "print(type(res))"
   ]
  },
  {
   "cell_type": "markdown",
   "id": "755e22bc",
   "metadata": {},
   "source": [
    "#### STRING-COMPLEX to FLOAT"
   ]
  },
  {
   "cell_type": "code",
   "execution_count": 215,
   "id": "5de3e823",
   "metadata": {},
   "outputs": [
    {
     "name": "stdout",
     "output_type": "stream",
     "text": [
      "12 + 3j\n",
      "<class 'str'>\n"
     ]
    }
   ],
   "source": [
    "a = \"12 + 3j\"\n",
    "print(a)\n",
    "print(type(a))"
   ]
  },
  {
   "cell_type": "code",
   "execution_count": 216,
   "id": "b7be413c",
   "metadata": {},
   "outputs": [
    {
     "ename": "ValueError",
     "evalue": "could not convert string to float: '12 + 3j'",
     "output_type": "error",
     "traceback": [
      "\u001b[1;31m---------------------------------------------------------------------------\u001b[0m",
      "\u001b[1;31mValueError\u001b[0m                                Traceback (most recent call last)",
      "\u001b[1;32m~\\AppData\\Local\\Temp\\ipykernel_12576\\1111483547.py\u001b[0m in \u001b[0;36m<module>\u001b[1;34m\u001b[0m\n\u001b[1;32m----> 1\u001b[1;33m \u001b[0mres\u001b[0m \u001b[1;33m=\u001b[0m \u001b[0mfloat\u001b[0m\u001b[1;33m(\u001b[0m\u001b[0ma\u001b[0m\u001b[1;33m)\u001b[0m\u001b[1;33m\u001b[0m\u001b[1;33m\u001b[0m\u001b[0m\n\u001b[0m\u001b[0;32m      2\u001b[0m \u001b[0mprint\u001b[0m\u001b[1;33m(\u001b[0m\u001b[0mres\u001b[0m\u001b[1;33m)\u001b[0m\u001b[1;33m\u001b[0m\u001b[1;33m\u001b[0m\u001b[0m\n\u001b[0;32m      3\u001b[0m \u001b[0mprint\u001b[0m\u001b[1;33m(\u001b[0m\u001b[0mtype\u001b[0m\u001b[1;33m(\u001b[0m\u001b[0mres\u001b[0m\u001b[1;33m)\u001b[0m\u001b[1;33m)\u001b[0m\u001b[1;33m\u001b[0m\u001b[1;33m\u001b[0m\u001b[0m\n",
      "\u001b[1;31mValueError\u001b[0m: could not convert string to float: '12 + 3j'"
     ]
    }
   ],
   "source": [
    "res = float(a)\n",
    "print(res)\n",
    "print(type(res))"
   ]
  },
  {
   "cell_type": "markdown",
   "id": "3a904e47",
   "metadata": {},
   "source": [
    "### "
   ]
  },
  {
   "cell_type": "markdown",
   "id": "619eba85",
   "metadata": {},
   "source": [
    "### <font color=\"brown\">COMPLEX"
   ]
  },
  {
   "cell_type": "markdown",
   "id": "15491b99",
   "metadata": {},
   "source": [
    "#### INTEGER to COMPLEX"
   ]
  },
  {
   "cell_type": "code",
   "execution_count": 217,
   "id": "78a272b0",
   "metadata": {},
   "outputs": [
    {
     "name": "stdout",
     "output_type": "stream",
     "text": [
      "100\n",
      "<class 'int'>\n"
     ]
    }
   ],
   "source": [
    "a = 100 \n",
    "print(a)\n",
    "print(type(a))"
   ]
  },
  {
   "cell_type": "code",
   "execution_count": 218,
   "id": "33f0a5c5",
   "metadata": {},
   "outputs": [
    {
     "name": "stdout",
     "output_type": "stream",
     "text": [
      "(100+0j)\n",
      "<class 'complex'>\n"
     ]
    }
   ],
   "source": [
    "res = complex(a)\n",
    "print(res)\n",
    "print(type(res))"
   ]
  },
  {
   "cell_type": "markdown",
   "id": "4c960bd9",
   "metadata": {},
   "source": [
    "#### FLOAT to COMPLEX"
   ]
  },
  {
   "cell_type": "code",
   "execution_count": 219,
   "id": "848f4505",
   "metadata": {},
   "outputs": [
    {
     "name": "stdout",
     "output_type": "stream",
     "text": [
      "10.32\n",
      "<class 'float'>\n"
     ]
    }
   ],
   "source": [
    "a = 10.32 \n",
    "print(a)\n",
    "print(type(a))"
   ]
  },
  {
   "cell_type": "code",
   "execution_count": 220,
   "id": "8ecbe563",
   "metadata": {},
   "outputs": [
    {
     "name": "stdout",
     "output_type": "stream",
     "text": [
      "(10.32+0j)\n",
      "<class 'complex'>\n"
     ]
    }
   ],
   "source": [
    "res = complex(a)\n",
    "print(res)\n",
    "print(type(res))"
   ]
  },
  {
   "cell_type": "markdown",
   "id": "6c071b83",
   "metadata": {},
   "source": [
    "#### COMPLEX to COMPLEX"
   ]
  },
  {
   "cell_type": "code",
   "execution_count": 221,
   "id": "b7903aa7",
   "metadata": {},
   "outputs": [
    {
     "name": "stdout",
     "output_type": "stream",
     "text": [
      "(10+3j)\n",
      "<class 'complex'>\n"
     ]
    }
   ],
   "source": [
    "a = 10+3j \n",
    "print(a)\n",
    "print(type(a))"
   ]
  },
  {
   "cell_type": "code",
   "execution_count": 222,
   "id": "fb07950d",
   "metadata": {},
   "outputs": [
    {
     "name": "stdout",
     "output_type": "stream",
     "text": [
      "(10+3j)\n",
      "<class 'complex'>\n"
     ]
    }
   ],
   "source": [
    "res = complex(a)\n",
    "print(res)\n",
    "print(type(res))"
   ]
  },
  {
   "cell_type": "markdown",
   "id": "5a738f67",
   "metadata": {},
   "source": [
    "#### BOOLEAN to COMPLEX"
   ]
  },
  {
   "cell_type": "code",
   "execution_count": 223,
   "id": "2cca601f",
   "metadata": {},
   "outputs": [
    {
     "name": "stdout",
     "output_type": "stream",
     "text": [
      "True\n",
      "<class 'bool'>\n"
     ]
    }
   ],
   "source": [
    "a = True\n",
    "print(a)\n",
    "print(type(a))"
   ]
  },
  {
   "cell_type": "code",
   "execution_count": 224,
   "id": "e9e03aa1",
   "metadata": {},
   "outputs": [
    {
     "name": "stdout",
     "output_type": "stream",
     "text": [
      "(1+0j)\n",
      "<class 'complex'>\n"
     ]
    }
   ],
   "source": [
    "res = complex(a)\n",
    "print(res)\n",
    "print(type(res))"
   ]
  },
  {
   "cell_type": "markdown",
   "id": "3b2b26fe",
   "metadata": {},
   "source": [
    "#### STRING-INTEGER to COMPLEX"
   ]
  },
  {
   "cell_type": "code",
   "execution_count": 225,
   "id": "eb334dc0",
   "metadata": {},
   "outputs": [
    {
     "name": "stdout",
     "output_type": "stream",
     "text": [
      "11\n",
      "<class 'str'>\n"
     ]
    }
   ],
   "source": [
    "a = \"11\"\n",
    "print(a)\n",
    "print(type(a))"
   ]
  },
  {
   "cell_type": "code",
   "execution_count": 226,
   "id": "c816a2b9",
   "metadata": {},
   "outputs": [
    {
     "name": "stdout",
     "output_type": "stream",
     "text": [
      "(11+0j)\n",
      "<class 'complex'>\n"
     ]
    }
   ],
   "source": [
    "res = complex(a)\n",
    "print(res)\n",
    "print(type(res))"
   ]
  },
  {
   "cell_type": "markdown",
   "id": "343b637a",
   "metadata": {},
   "source": [
    "#### STRING-FLOAT to COMPLEX"
   ]
  },
  {
   "cell_type": "code",
   "execution_count": 227,
   "id": "fa46ec91",
   "metadata": {},
   "outputs": [
    {
     "name": "stdout",
     "output_type": "stream",
     "text": [
      "11.23\n",
      "<class 'str'>\n"
     ]
    }
   ],
   "source": [
    "a = \"11.23\"\n",
    "print(a)\n",
    "print(type(a))"
   ]
  },
  {
   "cell_type": "code",
   "execution_count": 228,
   "id": "3b09d4d7",
   "metadata": {},
   "outputs": [
    {
     "name": "stdout",
     "output_type": "stream",
     "text": [
      "(11.23+0j)\n",
      "<class 'complex'>\n"
     ]
    }
   ],
   "source": [
    "res = complex(a)\n",
    "print(res)\n",
    "print(type(res))"
   ]
  },
  {
   "cell_type": "markdown",
   "id": "8fce500a",
   "metadata": {},
   "source": [
    "#### STRING-COMPLEX to COMPLEX"
   ]
  },
  {
   "cell_type": "code",
   "execution_count": 229,
   "id": "6fab51f8",
   "metadata": {},
   "outputs": [
    {
     "name": "stdout",
     "output_type": "stream",
     "text": [
      "11+23j\n",
      "<class 'str'>\n"
     ]
    }
   ],
   "source": [
    "a = \"11+23j\"\n",
    "print(a)\n",
    "print(type(a))"
   ]
  },
  {
   "cell_type": "code",
   "execution_count": 230,
   "id": "6e222051",
   "metadata": {},
   "outputs": [
    {
     "name": "stdout",
     "output_type": "stream",
     "text": [
      "(11+23j)\n",
      "<class 'complex'>\n"
     ]
    }
   ],
   "source": [
    "res = complex(a)\n",
    "print(res)\n",
    "print(type(res))"
   ]
  },
  {
   "cell_type": "code",
   "execution_count": 231,
   "id": "e2eb2375",
   "metadata": {},
   "outputs": [
    {
     "name": "stdout",
     "output_type": "stream",
     "text": [
      "(23+4j)\n"
     ]
    }
   ],
   "source": [
    "x = 23 + 4j\n",
    "print(x)"
   ]
  },
  {
   "cell_type": "code",
   "execution_count": 232,
   "id": "5054ef80",
   "metadata": {},
   "outputs": [],
   "source": [
    "x1 = \"23 + 4j\""
   ]
  },
  {
   "cell_type": "code",
   "execution_count": 233,
   "id": "c057faf6",
   "metadata": {},
   "outputs": [
    {
     "data": {
      "text/plain": [
       "'23 + 4j'"
      ]
     },
     "execution_count": 233,
     "metadata": {},
     "output_type": "execute_result"
    }
   ],
   "source": [
    "str(x1)"
   ]
  },
  {
   "cell_type": "markdown",
   "id": "3813d342",
   "metadata": {},
   "source": [
    "#### STRING-ALPHABET to COMPLEX"
   ]
  },
  {
   "cell_type": "code",
   "execution_count": 234,
   "id": "00cec396",
   "metadata": {},
   "outputs": [
    {
     "name": "stdout",
     "output_type": "stream",
     "text": [
      "Apple\n",
      "<class 'str'>\n"
     ]
    }
   ],
   "source": [
    "a = \"Apple\"\n",
    "print(a)\n",
    "print(type(a))"
   ]
  },
  {
   "cell_type": "code",
   "execution_count": 235,
   "id": "06ad2a29",
   "metadata": {},
   "outputs": [
    {
     "ename": "ValueError",
     "evalue": "complex() arg is a malformed string",
     "output_type": "error",
     "traceback": [
      "\u001b[1;31m---------------------------------------------------------------------------\u001b[0m",
      "\u001b[1;31mValueError\u001b[0m                                Traceback (most recent call last)",
      "\u001b[1;32m~\\AppData\\Local\\Temp\\ipykernel_12576\\2531886262.py\u001b[0m in \u001b[0;36m<module>\u001b[1;34m\u001b[0m\n\u001b[1;32m----> 1\u001b[1;33m \u001b[0mres\u001b[0m \u001b[1;33m=\u001b[0m \u001b[0mcomplex\u001b[0m\u001b[1;33m(\u001b[0m\u001b[0ma\u001b[0m\u001b[1;33m)\u001b[0m\u001b[1;33m\u001b[0m\u001b[1;33m\u001b[0m\u001b[0m\n\u001b[0m\u001b[0;32m      2\u001b[0m \u001b[0mprint\u001b[0m\u001b[1;33m(\u001b[0m\u001b[0mres\u001b[0m\u001b[1;33m)\u001b[0m\u001b[1;33m\u001b[0m\u001b[1;33m\u001b[0m\u001b[0m\n\u001b[0;32m      3\u001b[0m \u001b[0mprint\u001b[0m\u001b[1;33m(\u001b[0m\u001b[0mtype\u001b[0m\u001b[1;33m(\u001b[0m\u001b[0mres\u001b[0m\u001b[1;33m)\u001b[0m\u001b[1;33m)\u001b[0m\u001b[1;33m\u001b[0m\u001b[1;33m\u001b[0m\u001b[0m\n",
      "\u001b[1;31mValueError\u001b[0m: complex() arg is a malformed string"
     ]
    }
   ],
   "source": [
    "res = complex(a)\n",
    "print(res)\n",
    "print(type(res))"
   ]
  },
  {
   "cell_type": "markdown",
   "id": "ebe2a9d1",
   "metadata": {},
   "source": [
    "### "
   ]
  },
  {
   "cell_type": "markdown",
   "id": "8a489cea",
   "metadata": {},
   "source": [
    "### <font color=\"brown\">BOOLEAN"
   ]
  },
  {
   "cell_type": "markdown",
   "id": "3effe558",
   "metadata": {},
   "source": [
    "#### INTEGER to BOOLEAN"
   ]
  },
  {
   "cell_type": "code",
   "execution_count": 236,
   "id": "024d85f1",
   "metadata": {},
   "outputs": [
    {
     "name": "stdout",
     "output_type": "stream",
     "text": [
      "100\n",
      "<class 'int'>\n",
      "___________________\n",
      "True\n",
      "<class 'bool'>\n"
     ]
    }
   ],
   "source": [
    "a = 100 \n",
    "print(a)\n",
    "print(type(a))\n",
    "print(\"___________________\")\n",
    "\n",
    "res = bool(a)\n",
    "print(res)\n",
    "print(type(res))"
   ]
  },
  {
   "cell_type": "markdown",
   "id": "4e4afbbc",
   "metadata": {},
   "source": [
    "#### FLOAT to BOOLEAN"
   ]
  },
  {
   "cell_type": "code",
   "execution_count": 237,
   "id": "94fd6e2a",
   "metadata": {},
   "outputs": [
    {
     "name": "stdout",
     "output_type": "stream",
     "text": [
      "0.0\n",
      "<class 'float'>\n",
      "___________________\n",
      "False\n",
      "<class 'bool'>\n"
     ]
    }
   ],
   "source": [
    "a = 0.00\n",
    "print(a)\n",
    "print(type(a))\n",
    "print(\"___________________\")\n",
    "\n",
    "res = bool(a)\n",
    "print(res)\n",
    "print(type(res))"
   ]
  },
  {
   "cell_type": "markdown",
   "id": "0b374832",
   "metadata": {},
   "source": [
    "#### COMPLEX to BOOLEAN"
   ]
  },
  {
   "cell_type": "code",
   "execution_count": 238,
   "id": "6c6bb824",
   "metadata": {},
   "outputs": [
    {
     "name": "stdout",
     "output_type": "stream",
     "text": [
      "(10+5j)\n",
      "<class 'complex'>\n",
      "___________________\n",
      "True\n",
      "<class 'bool'>\n"
     ]
    }
   ],
   "source": [
    "a = 10 + 5j\n",
    "print(a)\n",
    "print(type(a))\n",
    "print(\"___________________\")\n",
    "\n",
    "res = bool(a)\n",
    "print(res)\n",
    "print(type(res))"
   ]
  },
  {
   "cell_type": "markdown",
   "id": "70ebbdba",
   "metadata": {},
   "source": [
    "#### BOOLEAN to BOOLEAN"
   ]
  },
  {
   "cell_type": "code",
   "execution_count": 239,
   "id": "2e9a2d12",
   "metadata": {},
   "outputs": [
    {
     "name": "stdout",
     "output_type": "stream",
     "text": [
      "True\n",
      "<class 'bool'>\n",
      "___________________\n",
      "True\n",
      "<class 'bool'>\n"
     ]
    }
   ],
   "source": [
    "a = True\n",
    "print(a)\n",
    "print(type(a))\n",
    "print(\"___________________\")\n",
    "\n",
    "res = bool(a)\n",
    "print(res)\n",
    "print(type(res))"
   ]
  },
  {
   "cell_type": "markdown",
   "id": "ca9f3714",
   "metadata": {},
   "source": [
    "#### STRING-INTEGER to BOOLEAN"
   ]
  },
  {
   "cell_type": "code",
   "execution_count": 240,
   "id": "709451f1",
   "metadata": {},
   "outputs": [
    {
     "name": "stdout",
     "output_type": "stream",
     "text": [
      "123\n",
      "<class 'str'>\n",
      "___________________\n",
      "True\n",
      "<class 'bool'>\n"
     ]
    }
   ],
   "source": [
    "a = \"123\"\n",
    "print(a)\n",
    "print(type(a))\n",
    "print(\"___________________\")\n",
    "\n",
    "res = bool(a)\n",
    "print(res)\n",
    "print(type(res))"
   ]
  },
  {
   "cell_type": "markdown",
   "id": "da970be9",
   "metadata": {},
   "source": [
    "#### STRING-SPACE to BOOLEAN"
   ]
  },
  {
   "cell_type": "code",
   "execution_count": 241,
   "id": "4d9da0d7",
   "metadata": {},
   "outputs": [
    {
     "name": "stdout",
     "output_type": "stream",
     "text": [
      "\n",
      "<class 'str'>\n",
      "___________________\n",
      "False\n",
      "<class 'bool'>\n"
     ]
    }
   ],
   "source": [
    "a = \"\"\n",
    "print(a)\n",
    "print(type(a))\n",
    "print(\"___________________\")\n",
    "\n",
    "res = bool(a)\n",
    "print(res)\n",
    "print(type(res))"
   ]
  },
  {
   "cell_type": "markdown",
   "id": "b507d58d",
   "metadata": {},
   "source": [
    "#### STRING-FLOAT to BOOLEAN"
   ]
  },
  {
   "cell_type": "code",
   "execution_count": 242,
   "id": "473cd284",
   "metadata": {},
   "outputs": [
    {
     "name": "stdout",
     "output_type": "stream",
     "text": [
      "21.34\n",
      "<class 'str'>\n",
      "___________________\n",
      "True\n",
      "<class 'bool'>\n"
     ]
    }
   ],
   "source": [
    "a = \"21.34\"\n",
    "print(a)\n",
    "print(type(a))\n",
    "print(\"___________________\")\n",
    "\n",
    "res = bool(a)\n",
    "print(res)\n",
    "print(type(res))"
   ]
  },
  {
   "cell_type": "markdown",
   "id": "af3ea491",
   "metadata": {},
   "source": [
    "#### STRING-COMPLEX to BOOLEAN"
   ]
  },
  {
   "cell_type": "code",
   "execution_count": 243,
   "id": "0189bcb2",
   "metadata": {},
   "outputs": [
    {
     "name": "stdout",
     "output_type": "stream",
     "text": [
      "21+34j\n",
      "<class 'str'>\n",
      "___________________\n",
      "True\n",
      "<class 'bool'>\n"
     ]
    }
   ],
   "source": [
    "a = \"21+34j\"\n",
    "print(a)\n",
    "print(type(a))\n",
    "print(\"___________________\")\n",
    "\n",
    "res = bool(a)\n",
    "print(res)\n",
    "print(type(res))"
   ]
  },
  {
   "cell_type": "markdown",
   "id": "8957c17a",
   "metadata": {},
   "source": [
    "#### STRING-ALPHABET to BOOLEAN"
   ]
  },
  {
   "cell_type": "code",
   "execution_count": 244,
   "id": "5f7a4a55",
   "metadata": {},
   "outputs": [
    {
     "name": "stdout",
     "output_type": "stream",
     "text": [
      "APPLE\n",
      "<class 'str'>\n",
      "___________________\n",
      "True\n",
      "<class 'bool'>\n"
     ]
    }
   ],
   "source": [
    "a = \"APPLE\"\n",
    "print(a)\n",
    "print(type(a))\n",
    "print(\"___________________\")\n",
    "\n",
    "res = bool(a)\n",
    "print(res)\n",
    "print(type(res))"
   ]
  },
  {
   "cell_type": "markdown",
   "id": "9fca4daa",
   "metadata": {},
   "source": [
    "### "
   ]
  },
  {
   "cell_type": "markdown",
   "id": "abf4ce32",
   "metadata": {},
   "source": [
    "### <font color=\"brown\">STRING"
   ]
  },
  {
   "cell_type": "markdown",
   "id": "a55e1b48",
   "metadata": {},
   "source": [
    "#### INTEGER to STRING"
   ]
  },
  {
   "cell_type": "code",
   "execution_count": 245,
   "id": "e44d8fc7",
   "metadata": {},
   "outputs": [
    {
     "name": "stdout",
     "output_type": "stream",
     "text": [
      "100\n",
      "<class 'int'>\n",
      "___________________\n",
      "100\n",
      "<class 'str'>\n"
     ]
    }
   ],
   "source": [
    "a = 100 \n",
    "print(a)\n",
    "print(type(a))\n",
    "print(\"___________________\")\n",
    "\n",
    "res = str(a)\n",
    "print(res)\n",
    "print(type(res))"
   ]
  },
  {
   "cell_type": "markdown",
   "id": "268f0cfd",
   "metadata": {},
   "source": [
    "#### FLOAT to STRING"
   ]
  },
  {
   "cell_type": "code",
   "execution_count": 246,
   "id": "b785d2ba",
   "metadata": {},
   "outputs": [
    {
     "name": "stdout",
     "output_type": "stream",
     "text": [
      "10.23\n",
      "<class 'float'>\n",
      "___________________\n",
      "10.23\n",
      "<class 'str'>\n"
     ]
    }
   ],
   "source": [
    "a = 10.23\n",
    "print(a)\n",
    "print(type(a))\n",
    "print(\"___________________\")\n",
    "\n",
    "res = str(a)\n",
    "print(res)\n",
    "print(type(res))"
   ]
  },
  {
   "cell_type": "markdown",
   "id": "fd043341",
   "metadata": {},
   "source": [
    "#### COMPLEX to STRING"
   ]
  },
  {
   "cell_type": "code",
   "execution_count": 247,
   "id": "0968d3a7",
   "metadata": {},
   "outputs": [
    {
     "name": "stdout",
     "output_type": "stream",
     "text": [
      "(10+3j)\n",
      "<class 'complex'>\n",
      "___________________\n",
      "(10+3j)\n",
      "<class 'str'>\n"
     ]
    }
   ],
   "source": [
    "a = 10 + 3j\n",
    "print(a)\n",
    "print(type(a))\n",
    "print(\"___________________\")\n",
    "\n",
    "res = str(a)\n",
    "print(res)\n",
    "print(type(res))"
   ]
  },
  {
   "cell_type": "markdown",
   "id": "d0d705d8",
   "metadata": {},
   "source": [
    "#### BOOLEAN to STRING"
   ]
  },
  {
   "cell_type": "code",
   "execution_count": 248,
   "id": "2bd25b61",
   "metadata": {},
   "outputs": [
    {
     "name": "stdout",
     "output_type": "stream",
     "text": [
      "True\n",
      "<class 'bool'>\n",
      "___________________\n",
      "True\n",
      "<class 'str'>\n"
     ]
    }
   ],
   "source": [
    "a = True\n",
    "print(a)\n",
    "print(type(a))\n",
    "print(\"___________________\")\n",
    "\n",
    "res = str(a)\n",
    "print(res)\n",
    "print(type(res))"
   ]
  },
  {
   "cell_type": "markdown",
   "id": "f195e0df",
   "metadata": {},
   "source": [
    "#### STRING to STRING"
   ]
  },
  {
   "cell_type": "code",
   "execution_count": 249,
   "id": "ea257891",
   "metadata": {},
   "outputs": [
    {
     "name": "stdout",
     "output_type": "stream",
     "text": [
      "APPLE\n",
      "<class 'str'>\n",
      "___________________\n",
      "APPLE\n",
      "<class 'str'>\n"
     ]
    }
   ],
   "source": [
    "a = \"APPLE\"\n",
    "print(a)\n",
    "print(type(a))\n",
    "print(\"___________________\")\n",
    "\n",
    "res = str(a)\n",
    "print(res)\n",
    "print(type(res))"
   ]
  },
  {
   "cell_type": "markdown",
   "id": "39b5758e",
   "metadata": {},
   "source": [
    "### "
   ]
  },
  {
   "cell_type": "markdown",
   "id": "ea43a318",
   "metadata": {},
   "source": [
    "### "
   ]
  }
 ],
 "metadata": {
  "kernelspec": {
   "display_name": "Python 3 (ipykernel)",
   "language": "python",
   "name": "python3"
  },
  "language_info": {
   "codemirror_mode": {
    "name": "ipython",
    "version": 3
   },
   "file_extension": ".py",
   "mimetype": "text/x-python",
   "name": "python",
   "nbconvert_exporter": "python",
   "pygments_lexer": "ipython3",
   "version": "3.9.13"
  }
 },
 "nbformat": 4,
 "nbformat_minor": 5
}
