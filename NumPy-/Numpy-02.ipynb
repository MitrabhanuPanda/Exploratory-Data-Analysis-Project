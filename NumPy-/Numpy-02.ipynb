{
 "cells": [
  {
   "cell_type": "markdown",
   "id": "4b3305bf",
   "metadata": {},
   "source": [
    "### Advantages of NumPy Array over List:\n",
    "    •\tIt occupies less memory compare to that of list.\n",
    "    •\tNumPy Array is faster than List.\n",
    "    •\tNumPy array is very flexible compare that of List.\n",
    "\n",
    "### \tRandom.Rand()\n",
    "    •\tnp.random.rand()-->Syntax\n",
    "    •\tIt accepts the shape as input and generates random values in desired shape.\n",
    "    •\tThese values are positive float values.\n",
    "\n",
    "### \tRandom.randn()\n",
    "    •\tnp.random.randn()-->Syntax\n",
    "    •\tIt accepts the shape as input and generates random values in desired shape.\n",
    "    •\tThese values are positive/negative float values.\n",
    "\n",
    "### \tRandom.randint()\n",
    "    •\tnp.random.randint(<start>,<end>,(<shape>))-->Syntax\n",
    "    •\tIt accepts three parameters,\n",
    "        o\tStart of number range\n",
    "        o\tEnd of number range\n",
    "        o\tShape in the form of tuple\n",
    "    and it generates array in desire shape.\n",
    "\n",
    "### \tRadndom.choice()\n",
    "    •\tnp.random.choice(<Array>,<Shape>,<Pecentage p>)-->Syntax\n",
    "    •\tIt accepts three parameters,\n",
    "        o\tArray of numbers\n",
    "        o\tShape\n",
    "    o\tPercentage\n",
    "    •\tIt returns an array with desired number and shape with respective percentage of number presence.\n",
    "\n",
    "### Indexing & Slicing:\n",
    "\n",
    "#### Indxing:\n",
    "    •\tIf ndim=2\n",
    "        o\tArray[<Row Part(Row Index)>,<Column Part(Column Index)>]\n",
    "    •\tIf ndim=3\n",
    "        o\tArray[<3D Block>, <Row Part(Row Index)>,<Column Part(Column Index)>]\n",
    "#### Slicing:\n",
    "    •\tIf ndim=2\n",
    "        o\tArray[<Row Slicing>,<Column Slicing>]\n",
    "        o\tEg: Array[1:4:1,   3:7:1]\n",
    "    •\tIf ndim=3\n",
    "        o\tArray[<3D Slicing><Row Slicing>,<Column Slicing>]\n",
    "        o\tEg: Array [0:2:1,   1:4:2,    1:5:1]\n"
   ]
  },
  {
   "cell_type": "code",
   "execution_count": null,
   "id": "50d12e06",
   "metadata": {},
   "outputs": [],
   "source": []
  },
  {
   "cell_type": "code",
   "execution_count": 1,
   "id": "46576ae3",
   "metadata": {},
   "outputs": [],
   "source": [
    "import numpy as np\n",
    "import time"
   ]
  },
  {
   "cell_type": "markdown",
   "id": "44664a7c",
   "metadata": {},
   "source": [
    "### Creating Numpy Array Using Random"
   ]
  },
  {
   "cell_type": "code",
   "execution_count": 2,
   "id": "8a3eb552",
   "metadata": {},
   "outputs": [],
   "source": [
    "r_a1=np.random.rand(3,5)"
   ]
  },
  {
   "cell_type": "code",
   "execution_count": 3,
   "id": "8463ed08",
   "metadata": {},
   "outputs": [
    {
     "data": {
      "text/plain": [
       "array([[0.49337149, 0.77356783, 0.24256346, 0.66943318, 0.10041317],\n",
       "       [0.39295492, 0.80205278, 0.05208798, 0.83985308, 0.63858866],\n",
       "       [0.89493475, 0.93818806, 0.14867319, 0.64359093, 0.70468654]])"
      ]
     },
     "execution_count": 3,
     "metadata": {},
     "output_type": "execute_result"
    }
   ],
   "source": [
    "r_a1"
   ]
  },
  {
   "cell_type": "code",
   "execution_count": 4,
   "id": "538dd329",
   "metadata": {},
   "outputs": [],
   "source": [
    "r_a2=np.random.rand(2,5,5)"
   ]
  },
  {
   "cell_type": "code",
   "execution_count": 5,
   "id": "eeb70de9",
   "metadata": {},
   "outputs": [
    {
     "data": {
      "text/plain": [
       "array([[[0.34960689, 0.27914967, 0.83090156, 0.98366167, 0.33476602],\n",
       "        [0.99149846, 0.51859569, 0.1841052 , 0.29266665, 0.52376567],\n",
       "        [0.34426143, 0.54644358, 0.18106639, 0.1760696 , 0.40153201],\n",
       "        [0.49765633, 0.50844313, 0.76497999, 0.63095712, 0.25142639],\n",
       "        [0.67310968, 0.90682734, 0.20956849, 0.75691182, 0.53521893]],\n",
       "\n",
       "       [[0.3818208 , 0.22978111, 0.01329103, 0.26779268, 0.49413901],\n",
       "        [0.95331788, 0.82792433, 0.2077286 , 0.50429252, 0.14172937],\n",
       "        [0.08606038, 0.10835209, 0.71924048, 0.17239638, 0.55624606],\n",
       "        [0.12864573, 0.56278476, 0.20953084, 0.79324193, 0.31991713],\n",
       "        [0.05802926, 0.27791894, 0.43456586, 0.48536438, 0.93855346]]])"
      ]
     },
     "execution_count": 5,
     "metadata": {},
     "output_type": "execute_result"
    }
   ],
   "source": [
    "r_a2"
   ]
  },
  {
   "cell_type": "markdown",
   "id": "a1d78b8f",
   "metadata": {},
   "source": [
    "### Random.Randn "
   ]
  },
  {
   "cell_type": "code",
   "execution_count": 6,
   "id": "94e4c0c7",
   "metadata": {},
   "outputs": [],
   "source": [
    "rn_a=np.random.randn(4,5)"
   ]
  },
  {
   "cell_type": "code",
   "execution_count": 7,
   "id": "ad2157a6",
   "metadata": {},
   "outputs": [
    {
     "data": {
      "text/plain": [
       "array([[ 0.72855738,  0.56126448, -0.52542115,  3.10941266,  2.706746  ],\n",
       "       [-0.52250932,  1.64262428,  0.7912814 ,  0.60526754,  0.25836255],\n",
       "       [ 0.2443359 ,  0.15158848,  0.55968839,  0.32091713, -0.27792952],\n",
       "       [ 0.08423271, -1.95302076, -0.51451486,  1.36303041, -0.29453202]])"
      ]
     },
     "execution_count": 7,
     "metadata": {},
     "output_type": "execute_result"
    }
   ],
   "source": [
    "rn_a"
   ]
  },
  {
   "cell_type": "code",
   "execution_count": 8,
   "id": "4ad6c67e",
   "metadata": {},
   "outputs": [],
   "source": [
    "rn_a1=np.random.randn(2,4,4)"
   ]
  },
  {
   "cell_type": "code",
   "execution_count": 9,
   "id": "c0157ec0",
   "metadata": {},
   "outputs": [
    {
     "data": {
      "text/plain": [
       "array([[[-1.32745373, -0.12482   ,  0.8484716 ,  0.39808165],\n",
       "        [ 0.4462183 ,  0.52173364, -0.13417115, -0.18395839],\n",
       "        [ 0.43860449, -1.01786853, -2.55706654,  0.73796759],\n",
       "        [ 1.25720618,  0.47053663, -0.74355393,  1.2722922 ]],\n",
       "\n",
       "       [[-0.87002728,  2.11811784, -0.8002277 ,  0.43010199],\n",
       "        [-1.62683276,  0.0766642 ,  1.45261584,  0.47827705],\n",
       "        [-1.69391449,  0.1496    ,  1.00609153, -0.37126534],\n",
       "        [-1.21274605,  1.05970539, -0.24979939, -0.92714348]]])"
      ]
     },
     "execution_count": 9,
     "metadata": {},
     "output_type": "execute_result"
    }
   ],
   "source": [
    "rn_a1"
   ]
  },
  {
   "cell_type": "markdown",
   "id": "e1e90660",
   "metadata": {},
   "source": [
    "### Random.Randint"
   ]
  },
  {
   "cell_type": "code",
   "execution_count": 10,
   "id": "9ef393da",
   "metadata": {},
   "outputs": [],
   "source": [
    "i_a1=np.random.randint(5,15,(4,6))"
   ]
  },
  {
   "cell_type": "code",
   "execution_count": 11,
   "id": "85b25476",
   "metadata": {},
   "outputs": [
    {
     "data": {
      "text/plain": [
       "array([[13, 13,  7, 12, 12,  8],\n",
       "       [ 8, 12,  5, 14, 14,  6],\n",
       "       [ 9, 12,  9, 13, 14,  5],\n",
       "       [10, 12, 13, 13,  7,  5]])"
      ]
     },
     "execution_count": 11,
     "metadata": {},
     "output_type": "execute_result"
    }
   ],
   "source": [
    "i_a1"
   ]
  },
  {
   "cell_type": "code",
   "execution_count": 12,
   "id": "ad86fc64",
   "metadata": {},
   "outputs": [
    {
     "data": {
      "text/plain": [
       "(4, 6)"
      ]
     },
     "execution_count": 12,
     "metadata": {},
     "output_type": "execute_result"
    }
   ],
   "source": [
    "i_a1.shape"
   ]
  },
  {
   "cell_type": "code",
   "execution_count": 13,
   "id": "50c7a427",
   "metadata": {},
   "outputs": [
    {
     "data": {
      "text/plain": [
       "2"
      ]
     },
     "execution_count": 13,
     "metadata": {},
     "output_type": "execute_result"
    }
   ],
   "source": [
    "i_a1.ndim"
   ]
  },
  {
   "cell_type": "code",
   "execution_count": 14,
   "id": "01744571",
   "metadata": {},
   "outputs": [
    {
     "data": {
      "text/plain": [
       "24"
      ]
     },
     "execution_count": 14,
     "metadata": {},
     "output_type": "execute_result"
    }
   ],
   "source": [
    "i_a1.size"
   ]
  },
  {
   "cell_type": "code",
   "execution_count": 15,
   "id": "c5b279ae",
   "metadata": {},
   "outputs": [
    {
     "data": {
      "text/plain": [
       "dtype('int32')"
      ]
     },
     "execution_count": 15,
     "metadata": {},
     "output_type": "execute_result"
    }
   ],
   "source": [
    "i_a1.dtype"
   ]
  },
  {
   "cell_type": "code",
   "execution_count": 16,
   "id": "ce62a9b0",
   "metadata": {},
   "outputs": [],
   "source": [
    "i_a2=np.random.randint(5,10,(3,5))"
   ]
  },
  {
   "cell_type": "code",
   "execution_count": 17,
   "id": "82f7051e",
   "metadata": {},
   "outputs": [
    {
     "data": {
      "text/plain": [
       "array([[5, 5, 9, 9, 6],\n",
       "       [7, 9, 6, 8, 6],\n",
       "       [6, 6, 7, 7, 6]])"
      ]
     },
     "execution_count": 17,
     "metadata": {},
     "output_type": "execute_result"
    }
   ],
   "source": [
    "i_a2"
   ]
  },
  {
   "cell_type": "markdown",
   "id": "227f8edf",
   "metadata": {},
   "source": [
    "### Random.Choice"
   ]
  },
  {
   "cell_type": "code",
   "execution_count": 18,
   "id": "e42bd4b3",
   "metadata": {},
   "outputs": [],
   "source": [
    "n1=np.arange(5,9)"
   ]
  },
  {
   "cell_type": "code",
   "execution_count": 19,
   "id": "7befef78",
   "metadata": {},
   "outputs": [
    {
     "data": {
      "text/plain": [
       "array([5, 6, 7, 8])"
      ]
     },
     "execution_count": 19,
     "metadata": {},
     "output_type": "execute_result"
    }
   ],
   "source": [
    "n1"
   ]
  },
  {
   "cell_type": "code",
   "execution_count": 20,
   "id": "ccc333df",
   "metadata": {},
   "outputs": [
    {
     "data": {
      "text/plain": [
       "array([[7, 6, 8, 5, 7, 7],\n",
       "       [6, 6, 7, 6, 6, 6],\n",
       "       [6, 6, 5, 7, 8, 6],\n",
       "       [7, 8, 5, 5, 6, 7]])"
      ]
     },
     "execution_count": 20,
     "metadata": {},
     "output_type": "execute_result"
    }
   ],
   "source": [
    "np.random.randint(5,9,(4,6))"
   ]
  },
  {
   "cell_type": "code",
   "execution_count": 21,
   "id": "428e1b97",
   "metadata": {},
   "outputs": [
    {
     "data": {
      "text/plain": [
       "array([[8, 8, 5, 6],\n",
       "       [6, 6, 8, 8],\n",
       "       [8, 8, 5, 8]])"
      ]
     },
     "execution_count": 21,
     "metadata": {},
     "output_type": "execute_result"
    }
   ],
   "source": [
    "np.random.choice(n1,(3,4),p=[0.1,0.2,0.0,0.7])"
   ]
  },
  {
   "cell_type": "markdown",
   "id": "e759bc14",
   "metadata": {},
   "source": [
    "### Indexing & Slicing"
   ]
  },
  {
   "cell_type": "code",
   "execution_count": 22,
   "id": "5293fc9d",
   "metadata": {},
   "outputs": [],
   "source": [
    "rary1=np.random.randint(2,6,(5,))"
   ]
  },
  {
   "cell_type": "code",
   "execution_count": 23,
   "id": "4afd9f51",
   "metadata": {},
   "outputs": [
    {
     "data": {
      "text/plain": [
       "array([4, 2, 5, 3, 4])"
      ]
     },
     "execution_count": 23,
     "metadata": {},
     "output_type": "execute_result"
    }
   ],
   "source": [
    "rary1"
   ]
  },
  {
   "cell_type": "code",
   "execution_count": 24,
   "id": "d215b095",
   "metadata": {},
   "outputs": [
    {
     "data": {
      "text/plain": [
       "3"
      ]
     },
     "execution_count": 24,
     "metadata": {},
     "output_type": "execute_result"
    }
   ],
   "source": [
    "rary1[3]"
   ]
  },
  {
   "cell_type": "code",
   "execution_count": 25,
   "id": "52c3f2ed",
   "metadata": {},
   "outputs": [],
   "source": [
    "ary2=np.random.randint(10,20,(3,5))"
   ]
  },
  {
   "cell_type": "code",
   "execution_count": 26,
   "id": "d93abbdf",
   "metadata": {},
   "outputs": [
    {
     "data": {
      "text/plain": [
       "array([[11, 15, 12, 15, 16],\n",
       "       [13, 11, 11, 19, 16],\n",
       "       [11, 14, 17, 17, 15]])"
      ]
     },
     "execution_count": 26,
     "metadata": {},
     "output_type": "execute_result"
    }
   ],
   "source": [
    "ary2"
   ]
  },
  {
   "cell_type": "code",
   "execution_count": 27,
   "id": "c7f27b8b",
   "metadata": {},
   "outputs": [
    {
     "data": {
      "text/plain": [
       "16"
      ]
     },
     "execution_count": 27,
     "metadata": {},
     "output_type": "execute_result"
    }
   ],
   "source": [
    "ary2[1][4]"
   ]
  },
  {
   "cell_type": "code",
   "execution_count": 28,
   "id": "edde74e2",
   "metadata": {},
   "outputs": [
    {
     "data": {
      "text/plain": [
       "16"
      ]
     },
     "execution_count": 28,
     "metadata": {},
     "output_type": "execute_result"
    }
   ],
   "source": [
    "# ary2[<Rows>,<Column>]\n",
    "ary2[1,4]"
   ]
  },
  {
   "cell_type": "code",
   "execution_count": 29,
   "id": "23b6ed29",
   "metadata": {},
   "outputs": [],
   "source": [
    "ary3=np.random.randint(100,200,(5,9))"
   ]
  },
  {
   "cell_type": "code",
   "execution_count": 30,
   "id": "4bde45e6",
   "metadata": {},
   "outputs": [
    {
     "data": {
      "text/plain": [
       "array([[149, 108, 134, 183, 186, 136, 160, 123, 150],\n",
       "       [142, 124, 159, 135, 157, 156, 141, 128, 128],\n",
       "       [175, 171, 152, 123, 145, 132, 171, 176, 101],\n",
       "       [111, 196, 165, 141, 101, 135, 161, 192, 198],\n",
       "       [160, 142, 122, 113, 176, 121, 184, 184, 112]])"
      ]
     },
     "execution_count": 30,
     "metadata": {},
     "output_type": "execute_result"
    }
   ],
   "source": [
    "ary3"
   ]
  },
  {
   "cell_type": "code",
   "execution_count": 31,
   "id": "b7c2b771",
   "metadata": {},
   "outputs": [
    {
     "data": {
      "text/plain": [
       "145"
      ]
     },
     "execution_count": 31,
     "metadata": {},
     "output_type": "execute_result"
    }
   ],
   "source": [
    "ary3[2,4]"
   ]
  },
  {
   "cell_type": "markdown",
   "id": "359effe1",
   "metadata": {},
   "source": [
    "### Indexing with Multi Dimension Array"
   ]
  },
  {
   "cell_type": "code",
   "execution_count": 32,
   "id": "1e54770e",
   "metadata": {},
   "outputs": [],
   "source": [
    "ray3=np.random.randint(100,200,(2,4,6))"
   ]
  },
  {
   "cell_type": "code",
   "execution_count": 33,
   "id": "2f4dd1e9",
   "metadata": {},
   "outputs": [
    {
     "data": {
      "text/plain": [
       "array([[[192, 109, 185, 199, 161, 144],\n",
       "        [162, 121, 142, 110, 161, 163],\n",
       "        [140, 191, 104, 186, 195, 134],\n",
       "        [198, 198, 158, 136, 189, 159]],\n",
       "\n",
       "       [[150, 159, 168, 107, 195, 157],\n",
       "        [107, 196, 186, 197, 113, 135],\n",
       "        [132, 189, 148, 161, 130, 190],\n",
       "        [176, 132, 177, 117, 103, 118]]])"
      ]
     },
     "execution_count": 33,
     "metadata": {},
     "output_type": "execute_result"
    }
   ],
   "source": [
    "ray3"
   ]
  },
  {
   "cell_type": "code",
   "execution_count": 34,
   "id": "8ad1d69d",
   "metadata": {},
   "outputs": [
    {
     "data": {
      "text/plain": [
       "3"
      ]
     },
     "execution_count": 34,
     "metadata": {},
     "output_type": "execute_result"
    }
   ],
   "source": [
    "ray3.ndim"
   ]
  },
  {
   "cell_type": "code",
   "execution_count": 35,
   "id": "b47b07b4",
   "metadata": {},
   "outputs": [
    {
     "data": {
      "text/plain": [
       "(2, 4, 6)"
      ]
     },
     "execution_count": 35,
     "metadata": {},
     "output_type": "execute_result"
    }
   ],
   "source": [
    "ray3.shape"
   ]
  },
  {
   "cell_type": "code",
   "execution_count": 36,
   "id": "535742a7",
   "metadata": {},
   "outputs": [
    {
     "data": {
      "text/plain": [
       "130"
      ]
     },
     "execution_count": 36,
     "metadata": {},
     "output_type": "execute_result"
    }
   ],
   "source": [
    "ray3[1,2,4]"
   ]
  },
  {
   "cell_type": "code",
   "execution_count": 37,
   "id": "1ce40658",
   "metadata": {},
   "outputs": [],
   "source": [
    "ray4=np.random.randint(100,200,(2,3,4,5))"
   ]
  },
  {
   "cell_type": "code",
   "execution_count": 38,
   "id": "1287812d",
   "metadata": {},
   "outputs": [
    {
     "data": {
      "text/plain": [
       "array([[[[107, 129, 162, 171, 152],\n",
       "         [104, 187, 112, 184, 122],\n",
       "         [183, 185, 111, 133, 183],\n",
       "         [195, 172, 174, 138, 193]],\n",
       "\n",
       "        [[178, 167, 171, 188, 100],\n",
       "         [174, 151, 115, 197, 162],\n",
       "         [106, 122, 108, 175, 132],\n",
       "         [166, 199, 114, 187, 184]],\n",
       "\n",
       "        [[119, 124, 155, 139, 146],\n",
       "         [165, 119, 124, 180, 168],\n",
       "         [178, 181, 155, 129, 134],\n",
       "         [145, 145, 126, 132, 141]]],\n",
       "\n",
       "\n",
       "       [[[140, 133, 128, 156, 133],\n",
       "         [131, 192, 104, 116, 136],\n",
       "         [165, 108, 104, 168, 117],\n",
       "         [102, 135, 162, 115, 173]],\n",
       "\n",
       "        [[131, 113, 119, 148, 114],\n",
       "         [147, 122, 146, 113, 122],\n",
       "         [151, 193, 120, 124, 177],\n",
       "         [167, 156, 144, 140, 182]],\n",
       "\n",
       "        [[165, 166, 119, 169, 168],\n",
       "         [188, 165, 165, 121, 104],\n",
       "         [184, 164, 122, 120, 168],\n",
       "         [110, 141, 103, 159, 173]]]])"
      ]
     },
     "execution_count": 38,
     "metadata": {},
     "output_type": "execute_result"
    }
   ],
   "source": [
    "ray4"
   ]
  },
  {
   "cell_type": "code",
   "execution_count": 39,
   "id": "cc590081",
   "metadata": {},
   "outputs": [
    {
     "data": {
      "text/plain": [
       "108"
      ]
     },
     "execution_count": 39,
     "metadata": {},
     "output_type": "execute_result"
    }
   ],
   "source": [
    "ray4[0,1,2,2]"
   ]
  },
  {
   "cell_type": "code",
   "execution_count": 40,
   "id": "8e1dd462",
   "metadata": {},
   "outputs": [
    {
     "name": "stdout",
     "output_type": "stream",
     "text": [
      "[[107 129 162 171 152]\n",
      " [104 187 112 184 122]\n",
      " [183 185 111 133 183]\n",
      " [195 172 174 138 193]]\n",
      "[[178 167 171 188 100]\n",
      " [174 151 115 197 162]\n",
      " [106 122 108 175 132]\n",
      " [166 199 114 187 184]]\n",
      "[[119 124 155 139 146]\n",
      " [165 119 124 180 168]\n",
      " [178 181 155 129 134]\n",
      " [145 145 126 132 141]]\n",
      "[[140 133 128 156 133]\n",
      " [131 192 104 116 136]\n",
      " [165 108 104 168 117]\n",
      " [102 135 162 115 173]]\n",
      "[[131 113 119 148 114]\n",
      " [147 122 146 113 122]\n",
      " [151 193 120 124 177]\n",
      " [167 156 144 140 182]]\n",
      "[[165 166 119 169 168]\n",
      " [188 165 165 121 104]\n",
      " [184 164 122 120 168]\n",
      " [110 141 103 159 173]]\n"
     ]
    }
   ],
   "source": [
    "for i in ray4:\n",
    "    \n",
    "    time.sleep(1)\n",
    "    for j in i:\n",
    "        print(j)\n",
    "        time.sleep(1)"
   ]
  },
  {
   "cell_type": "markdown",
   "id": "5f71a4b3",
   "metadata": {},
   "source": [
    "### Slicing"
   ]
  },
  {
   "cell_type": "code",
   "execution_count": 41,
   "id": "e0b84c8c",
   "metadata": {},
   "outputs": [],
   "source": [
    "r1=np.random.randint(1,10,(8))"
   ]
  },
  {
   "cell_type": "code",
   "execution_count": 42,
   "id": "e40e4fdc",
   "metadata": {},
   "outputs": [
    {
     "data": {
      "text/plain": [
       "array([1, 8, 7, 5, 8, 5, 8, 1])"
      ]
     },
     "execution_count": 42,
     "metadata": {},
     "output_type": "execute_result"
    }
   ],
   "source": [
    "r1"
   ]
  },
  {
   "cell_type": "code",
   "execution_count": 43,
   "id": "dee84b43",
   "metadata": {},
   "outputs": [
    {
     "data": {
      "text/plain": [
       "array([7, 5, 8, 5])"
      ]
     },
     "execution_count": 43,
     "metadata": {},
     "output_type": "execute_result"
    }
   ],
   "source": [
    "r1[2:6:1]"
   ]
  },
  {
   "cell_type": "code",
   "execution_count": 44,
   "id": "c3917c7f",
   "metadata": {},
   "outputs": [
    {
     "data": {
      "text/plain": [
       "array([8, 7, 5, 8, 5, 8])"
      ]
     },
     "execution_count": 44,
     "metadata": {},
     "output_type": "execute_result"
    }
   ],
   "source": [
    "r1[1:7:1]"
   ]
  },
  {
   "cell_type": "markdown",
   "id": "9af83d6f",
   "metadata": {},
   "source": [
    "### 2D Array Slicing"
   ]
  },
  {
   "cell_type": "code",
   "execution_count": 45,
   "id": "1c5cc4f6",
   "metadata": {},
   "outputs": [
    {
     "data": {
      "text/plain": [
       "array([[149, 108, 134, 183, 186, 136, 160, 123, 150],\n",
       "       [142, 124, 159, 135, 157, 156, 141, 128, 128],\n",
       "       [175, 171, 152, 123, 145, 132, 171, 176, 101],\n",
       "       [111, 196, 165, 141, 101, 135, 161, 192, 198],\n",
       "       [160, 142, 122, 113, 176, 121, 184, 184, 112]])"
      ]
     },
     "execution_count": 45,
     "metadata": {},
     "output_type": "execute_result"
    }
   ],
   "source": [
    "ary3"
   ]
  },
  {
   "cell_type": "code",
   "execution_count": 46,
   "id": "79f194e4",
   "metadata": {},
   "outputs": [
    {
     "data": {
      "text/plain": [
       "array([[135, 157, 156, 141],\n",
       "       [123, 145, 132, 171],\n",
       "       [141, 101, 135, 161]])"
      ]
     },
     "execution_count": 46,
     "metadata": {},
     "output_type": "execute_result"
    }
   ],
   "source": [
    "ary3[1:4:1,   3:7:1]"
   ]
  },
  {
   "cell_type": "code",
   "execution_count": 47,
   "id": "cc274063",
   "metadata": {},
   "outputs": [
    {
     "data": {
      "text/plain": [
       "array([[108, 134, 183, 186, 136, 160],\n",
       "       [124, 159, 135, 157, 156, 141],\n",
       "       [171, 152, 123, 145, 132, 171],\n",
       "       [196, 165, 141, 101, 135, 161],\n",
       "       [142, 122, 113, 176, 121, 184]])"
      ]
     },
     "execution_count": 47,
     "metadata": {},
     "output_type": "execute_result"
    }
   ],
   "source": [
    "ary3[0:5:1, 1:7:1]"
   ]
  },
  {
   "cell_type": "code",
   "execution_count": 48,
   "id": "912a3b1e",
   "metadata": {},
   "outputs": [
    {
     "data": {
      "text/plain": [
       "array([[149, 108, 134, 183, 186, 136, 160, 123, 150],\n",
       "       [142, 124, 159, 135, 157, 156, 141, 128, 128],\n",
       "       [175, 171, 152, 123, 145, 132, 171, 176, 101],\n",
       "       [111, 196, 165, 141, 101, 135, 161, 192, 198],\n",
       "       [160, 142, 122, 113, 176, 121, 184, 184, 112]])"
      ]
     },
     "execution_count": 48,
     "metadata": {},
     "output_type": "execute_result"
    }
   ],
   "source": [
    "ary3[:]"
   ]
  },
  {
   "cell_type": "code",
   "execution_count": 49,
   "id": "ebc60331",
   "metadata": {},
   "outputs": [
    {
     "data": {
      "text/plain": [
       "array([[108, 134, 183, 186, 136, 160],\n",
       "       [124, 159, 135, 157, 156, 141],\n",
       "       [171, 152, 123, 145, 132, 171],\n",
       "       [196, 165, 141, 101, 135, 161],\n",
       "       [142, 122, 113, 176, 121, 184]])"
      ]
     },
     "execution_count": 49,
     "metadata": {},
     "output_type": "execute_result"
    }
   ],
   "source": [
    "ary3[: :, 1:7:1]"
   ]
  },
  {
   "cell_type": "code",
   "execution_count": 50,
   "id": "e04930ec",
   "metadata": {},
   "outputs": [
    {
     "data": {
      "text/plain": [
       "array([[124, 135, 156, 128],\n",
       "       [171, 123, 132, 176],\n",
       "       [196, 141, 135, 192]])"
      ]
     },
     "execution_count": 50,
     "metadata": {},
     "output_type": "execute_result"
    }
   ],
   "source": [
    "ary3[1:4:1, 1:8:2]"
   ]
  },
  {
   "cell_type": "markdown",
   "id": "5e672936",
   "metadata": {},
   "source": [
    "### 3D Array Slicing"
   ]
  },
  {
   "cell_type": "code",
   "execution_count": 51,
   "id": "8b16900e",
   "metadata": {},
   "outputs": [
    {
     "data": {
      "text/plain": [
       "array([[[192, 109, 185, 199, 161, 144],\n",
       "        [162, 121, 142, 110, 161, 163],\n",
       "        [140, 191, 104, 186, 195, 134],\n",
       "        [198, 198, 158, 136, 189, 159]],\n",
       "\n",
       "       [[150, 159, 168, 107, 195, 157],\n",
       "        [107, 196, 186, 197, 113, 135],\n",
       "        [132, 189, 148, 161, 130, 190],\n",
       "        [176, 132, 177, 117, 103, 118]]])"
      ]
     },
     "execution_count": 51,
     "metadata": {},
     "output_type": "execute_result"
    }
   ],
   "source": [
    "ray3"
   ]
  },
  {
   "cell_type": "code",
   "execution_count": 52,
   "id": "e077de21",
   "metadata": {},
   "outputs": [
    {
     "data": {
      "text/plain": [
       "array([[[121, 142, 110, 161],\n",
       "        [198, 158, 136, 189]],\n",
       "\n",
       "       [[196, 186, 197, 113],\n",
       "        [132, 177, 117, 103]]])"
      ]
     },
     "execution_count": 52,
     "metadata": {},
     "output_type": "execute_result"
    }
   ],
   "source": [
    "ray3[0:2:1,1:4:2, 1:5:1]"
   ]
  },
  {
   "cell_type": "code",
   "execution_count": 53,
   "id": "560d2b23",
   "metadata": {},
   "outputs": [],
   "source": [
    "ar=np.random.randint(100,300,(3,5,8))"
   ]
  },
  {
   "cell_type": "code",
   "execution_count": 54,
   "id": "e9d330a3",
   "metadata": {},
   "outputs": [
    {
     "data": {
      "text/plain": [
       "array([[[255, 123, 291, 128, 135, 207, 192, 228],\n",
       "        [118, 299, 101, 163, 240, 262, 214, 140],\n",
       "        [241, 130, 159, 160, 203, 261, 231, 260],\n",
       "        [221, 288, 131, 136, 169, 147, 119, 211],\n",
       "        [249, 137, 238, 147, 219, 283, 290, 201]],\n",
       "\n",
       "       [[237, 148, 148, 257, 210, 197, 220, 228],\n",
       "        [244, 101, 240, 135, 273, 163, 208, 268],\n",
       "        [278, 177, 272, 278, 154, 112, 155, 148],\n",
       "        [235, 190, 292, 112, 263, 185, 229, 166],\n",
       "        [116, 285, 233, 119, 230, 183, 125, 118]],\n",
       "\n",
       "       [[285, 124, 154, 129, 248, 151, 274, 273],\n",
       "        [220, 291, 131, 209, 261, 160, 115, 219],\n",
       "        [133, 180, 142, 287, 124, 273, 244, 181],\n",
       "        [244, 251, 259, 283, 207, 288, 140, 159],\n",
       "        [207, 182, 176, 225, 244, 231, 284, 204]]])"
      ]
     },
     "execution_count": 54,
     "metadata": {},
     "output_type": "execute_result"
    }
   ],
   "source": [
    "ar"
   ]
  },
  {
   "cell_type": "markdown",
   "id": "3406afeb",
   "metadata": {},
   "source": [
    "### Advance Indexing"
   ]
  },
  {
   "cell_type": "code",
   "execution_count": 55,
   "id": "b6031489",
   "metadata": {},
   "outputs": [
    {
     "data": {
      "text/plain": [
       "array([1, 8, 7, 5, 8, 5, 8, 1])"
      ]
     },
     "execution_count": 55,
     "metadata": {},
     "output_type": "execute_result"
    }
   ],
   "source": [
    "r1"
   ]
  },
  {
   "cell_type": "code",
   "execution_count": 56,
   "id": "5b65ad07",
   "metadata": {},
   "outputs": [
    {
     "data": {
      "text/plain": [
       "array([8, 5, 8, 1])"
      ]
     },
     "execution_count": 56,
     "metadata": {},
     "output_type": "execute_result"
    }
   ],
   "source": [
    "#5,8,8,5\n",
    "r1[[1,3,6,7]]"
   ]
  },
  {
   "cell_type": "code",
   "execution_count": 57,
   "id": "101ec60e",
   "metadata": {},
   "outputs": [
    {
     "data": {
      "text/plain": [
       "array([[149, 108, 134, 183, 186, 136, 160, 123, 150],\n",
       "       [142, 124, 159, 135, 157, 156, 141, 128, 128],\n",
       "       [175, 171, 152, 123, 145, 132, 171, 176, 101],\n",
       "       [111, 196, 165, 141, 101, 135, 161, 192, 198],\n",
       "       [160, 142, 122, 113, 176, 121, 184, 184, 112]])"
      ]
     },
     "execution_count": 57,
     "metadata": {},
     "output_type": "execute_result"
    }
   ],
   "source": [
    "ary3"
   ]
  },
  {
   "cell_type": "code",
   "execution_count": 58,
   "id": "380cd1f1",
   "metadata": {},
   "outputs": [
    {
     "data": {
      "text/plain": [
       "array([171, 135, 176, 160, 192, 112, 142])"
      ]
     },
     "execution_count": 58,
     "metadata": {},
     "output_type": "execute_result"
    }
   ],
   "source": [
    "ary3[[2,1,4,0,3,4,1],  [1,3,4,6,7,8,0]]"
   ]
  },
  {
   "cell_type": "code",
   "execution_count": 59,
   "id": "9a72b730",
   "metadata": {},
   "outputs": [
    {
     "data": {
      "text/plain": [
       "array([[[255, 123, 291, 128, 135, 207, 192, 228],\n",
       "        [118, 299, 101, 163, 240, 262, 214, 140],\n",
       "        [241, 130, 159, 160, 203, 261, 231, 260],\n",
       "        [221, 288, 131, 136, 169, 147, 119, 211],\n",
       "        [249, 137, 238, 147, 219, 283, 290, 201]],\n",
       "\n",
       "       [[237, 148, 148, 257, 210, 197, 220, 228],\n",
       "        [244, 101, 240, 135, 273, 163, 208, 268],\n",
       "        [278, 177, 272, 278, 154, 112, 155, 148],\n",
       "        [235, 190, 292, 112, 263, 185, 229, 166],\n",
       "        [116, 285, 233, 119, 230, 183, 125, 118]],\n",
       "\n",
       "       [[285, 124, 154, 129, 248, 151, 274, 273],\n",
       "        [220, 291, 131, 209, 261, 160, 115, 219],\n",
       "        [133, 180, 142, 287, 124, 273, 244, 181],\n",
       "        [244, 251, 259, 283, 207, 288, 140, 159],\n",
       "        [207, 182, 176, 225, 244, 231, 284, 204]]])"
      ]
     },
     "execution_count": 59,
     "metadata": {},
     "output_type": "execute_result"
    }
   ],
   "source": [
    "ar"
   ]
  },
  {
   "cell_type": "code",
   "execution_count": 60,
   "id": "dc6b3887",
   "metadata": {},
   "outputs": [
    {
     "data": {
      "text/plain": [
       "array([159, 285, 125, 244])"
      ]
     },
     "execution_count": 60,
     "metadata": {},
     "output_type": "execute_result"
    }
   ],
   "source": [
    "ar[ [0,2,1,1],   [2,0,4,1],         [2,0,6,0]]"
   ]
  },
  {
   "cell_type": "markdown",
   "id": "53f28d42",
   "metadata": {},
   "source": [
    "### Boolean Value"
   ]
  },
  {
   "cell_type": "code",
   "execution_count": 61,
   "id": "ea52e0d9",
   "metadata": {},
   "outputs": [],
   "source": [
    "bol1=np.random.randint(50,350,(5,10))"
   ]
  },
  {
   "cell_type": "code",
   "execution_count": 62,
   "id": "c2e0e509",
   "metadata": {},
   "outputs": [
    {
     "data": {
      "text/plain": [
       "array([[118, 143, 122,  53, 172, 313,  63, 210, 167, 140],\n",
       "       [267, 232, 311, 332, 105,  74, 298, 279, 218, 340],\n",
       "       [325, 120, 319,  99, 171, 234, 243,  63,  59, 209],\n",
       "       [328, 340, 191,  78, 136,  63, 321,  60, 332, 246],\n",
       "       [249, 290, 148, 172, 248, 134, 138, 144, 281, 158]])"
      ]
     },
     "execution_count": 62,
     "metadata": {},
     "output_type": "execute_result"
    }
   ],
   "source": [
    "bol1"
   ]
  },
  {
   "cell_type": "code",
   "execution_count": 63,
   "id": "765b8f18",
   "metadata": {},
   "outputs": [
    {
     "data": {
      "text/plain": [
       "array([[False, False, False,  True, False, False,  True, False, False,\n",
       "        False],\n",
       "       [False, False, False, False, False,  True, False, False, False,\n",
       "        False],\n",
       "       [False, False, False,  True, False, False, False,  True,  True,\n",
       "        False],\n",
       "       [False, False, False,  True, False,  True, False,  True, False,\n",
       "        False],\n",
       "       [False, False, False, False, False, False, False, False, False,\n",
       "        False]])"
      ]
     },
     "execution_count": 63,
     "metadata": {},
     "output_type": "execute_result"
    }
   ],
   "source": [
    "bol1<100"
   ]
  },
  {
   "cell_type": "code",
   "execution_count": 64,
   "id": "818a9335",
   "metadata": {},
   "outputs": [
    {
     "data": {
      "text/plain": [
       "array([53, 63, 74, 99, 63, 59, 78, 63, 60])"
      ]
     },
     "execution_count": 64,
     "metadata": {},
     "output_type": "execute_result"
    }
   ],
   "source": [
    "bol1[bol1<100]"
   ]
  },
  {
   "cell_type": "code",
   "execution_count": 65,
   "id": "017a1a9d",
   "metadata": {},
   "outputs": [
    {
     "data": {
      "text/plain": [
       "array([[False, False, False, False, False,  True, False,  True, False,\n",
       "        False],\n",
       "       [ True,  True,  True,  True, False, False,  True,  True,  True,\n",
       "         True],\n",
       "       [ True, False,  True, False, False,  True,  True, False, False,\n",
       "         True],\n",
       "       [ True,  True, False, False, False, False,  True, False,  True,\n",
       "         True],\n",
       "       [ True,  True, False, False,  True, False, False, False,  True,\n",
       "        False]])"
      ]
     },
     "execution_count": 65,
     "metadata": {},
     "output_type": "execute_result"
    }
   ],
   "source": [
    "bol1>200"
   ]
  },
  {
   "cell_type": "code",
   "execution_count": 66,
   "id": "6fd2f7d5",
   "metadata": {},
   "outputs": [
    {
     "data": {
      "text/plain": [
       "array([313, 210, 267, 232, 311, 332, 298, 279, 218, 340, 325, 319, 234,\n",
       "       243, 209, 328, 340, 321, 332, 246, 249, 290, 248, 281])"
      ]
     },
     "execution_count": 66,
     "metadata": {},
     "output_type": "execute_result"
    }
   ],
   "source": [
    "bol1[bol1>200]"
   ]
  },
  {
   "cell_type": "code",
   "execution_count": 67,
   "id": "da3c05bb",
   "metadata": {},
   "outputs": [
    {
     "data": {
      "text/plain": [
       "array([[ True,  True,  True, False,  True, False, False, False,  True,\n",
       "         True],\n",
       "       [False, False, False, False,  True, False, False, False, False,\n",
       "        False],\n",
       "       [False,  True, False, False,  True, False, False, False, False,\n",
       "        False],\n",
       "       [False, False,  True, False,  True, False, False, False, False,\n",
       "        False],\n",
       "       [False, False,  True,  True, False,  True,  True,  True, False,\n",
       "         True]])"
      ]
     },
     "execution_count": 67,
     "metadata": {},
     "output_type": "execute_result"
    }
   ],
   "source": [
    "(bol1>100) & (bol1<200)"
   ]
  },
  {
   "cell_type": "code",
   "execution_count": 68,
   "id": "7207b39c",
   "metadata": {},
   "outputs": [
    {
     "data": {
      "text/plain": [
       "array([118, 143, 122, 172, 167, 140, 105, 120, 171, 191, 136, 148, 172,\n",
       "       134, 138, 144, 158])"
      ]
     },
     "execution_count": 68,
     "metadata": {},
     "output_type": "execute_result"
    }
   ],
   "source": [
    "bol1[(bol1>100) & (bol1<200)]"
   ]
  },
  {
   "cell_type": "code",
   "execution_count": 69,
   "id": "10d536bc",
   "metadata": {},
   "outputs": [
    {
     "data": {
      "text/plain": [
       "array([[False, False, False,  True, False,  True,  True,  True, False,\n",
       "        False],\n",
       "       [ True,  True,  True,  True, False,  True,  True,  True,  True,\n",
       "         True],\n",
       "       [ True, False,  True,  True, False,  True,  True,  True,  True,\n",
       "         True],\n",
       "       [ True,  True, False,  True, False,  True,  True,  True,  True,\n",
       "         True],\n",
       "       [ True,  True, False, False,  True, False, False, False,  True,\n",
       "        False]])"
      ]
     },
     "execution_count": 69,
     "metadata": {},
     "output_type": "execute_result"
    }
   ],
   "source": [
    "(bol1<100) | (bol1>200)"
   ]
  },
  {
   "cell_type": "code",
   "execution_count": 70,
   "id": "ff59a720",
   "metadata": {},
   "outputs": [
    {
     "data": {
      "text/plain": [
       "array([ 53, 313,  63, 210, 267, 232, 311, 332,  74, 298, 279, 218, 340,\n",
       "       325, 319,  99, 234, 243,  63,  59, 209, 328, 340,  78,  63, 321,\n",
       "        60, 332, 246, 249, 290, 248, 281])"
      ]
     },
     "execution_count": 70,
     "metadata": {},
     "output_type": "execute_result"
    }
   ],
   "source": [
    "bol1[(bol1<100) | (bol1>200)]"
   ]
  },
  {
   "cell_type": "code",
   "execution_count": null,
   "id": "a37d0336",
   "metadata": {},
   "outputs": [],
   "source": []
  },
  {
   "cell_type": "code",
   "execution_count": null,
   "id": "8f6c2ad7",
   "metadata": {},
   "outputs": [],
   "source": []
  },
  {
   "cell_type": "markdown",
   "id": "6528c7a7",
   "metadata": {},
   "source": [
    "### Numpy occupy less memory"
   ]
  },
  {
   "cell_type": "code",
   "execution_count": 71,
   "id": "9a6d8f62",
   "metadata": {},
   "outputs": [
    {
     "data": {
      "text/plain": [
       "array([1, 8, 7, 5, 8, 5, 8, 1])"
      ]
     },
     "execution_count": 71,
     "metadata": {},
     "output_type": "execute_result"
    }
   ],
   "source": [
    "r1"
   ]
  },
  {
   "cell_type": "code",
   "execution_count": 72,
   "id": "6e9e0419",
   "metadata": {},
   "outputs": [
    {
     "data": {
      "text/plain": [
       "8"
      ]
     },
     "execution_count": 72,
     "metadata": {},
     "output_type": "execute_result"
    }
   ],
   "source": [
    "len(r1)"
   ]
  },
  {
   "cell_type": "code",
   "execution_count": 73,
   "id": "53fd4e96",
   "metadata": {},
   "outputs": [
    {
     "data": {
      "text/plain": [
       "8"
      ]
     },
     "execution_count": 73,
     "metadata": {},
     "output_type": "execute_result"
    }
   ],
   "source": [
    "r1.size"
   ]
  },
  {
   "cell_type": "code",
   "execution_count": 74,
   "id": "bc8683b5",
   "metadata": {},
   "outputs": [
    {
     "data": {
      "text/plain": [
       "4"
      ]
     },
     "execution_count": 74,
     "metadata": {},
     "output_type": "execute_result"
    }
   ],
   "source": [
    "r1.itemsize"
   ]
  },
  {
   "cell_type": "code",
   "execution_count": 75,
   "id": "834d3d8f",
   "metadata": {},
   "outputs": [
    {
     "data": {
      "text/plain": [
       "dtype('int32')"
      ]
     },
     "execution_count": 75,
     "metadata": {},
     "output_type": "execute_result"
    }
   ],
   "source": [
    "r1.dtype"
   ]
  },
  {
   "cell_type": "code",
   "execution_count": 76,
   "id": "4ba164a2",
   "metadata": {},
   "outputs": [
    {
     "data": {
      "text/plain": [
       "32"
      ]
     },
     "execution_count": 76,
     "metadata": {},
     "output_type": "execute_result"
    }
   ],
   "source": [
    "r1.itemsize*r1.size"
   ]
  },
  {
   "cell_type": "code",
   "execution_count": null,
   "id": "2e9c0c55",
   "metadata": {},
   "outputs": [],
   "source": []
  },
  {
   "cell_type": "code",
   "execution_count": 77,
   "id": "92879f62",
   "metadata": {},
   "outputs": [],
   "source": [
    "list=[8, 5, 1, 8, 6, 9, 8, 5]"
   ]
  },
  {
   "cell_type": "code",
   "execution_count": 78,
   "id": "ed82392a",
   "metadata": {},
   "outputs": [
    {
     "data": {
      "text/plain": [
       "list"
      ]
     },
     "execution_count": 78,
     "metadata": {},
     "output_type": "execute_result"
    }
   ],
   "source": [
    "type(list)"
   ]
  },
  {
   "cell_type": "code",
   "execution_count": 79,
   "id": "9b20319f",
   "metadata": {},
   "outputs": [],
   "source": [
    "import sys"
   ]
  },
  {
   "cell_type": "code",
   "execution_count": 80,
   "id": "ee510b79",
   "metadata": {},
   "outputs": [
    {
     "data": {
      "text/plain": [
       "28"
      ]
     },
     "execution_count": 80,
     "metadata": {},
     "output_type": "execute_result"
    }
   ],
   "source": [
    "sys.getsizeof(8)"
   ]
  },
  {
   "cell_type": "code",
   "execution_count": 81,
   "id": "f61b5449",
   "metadata": {},
   "outputs": [
    {
     "data": {
      "text/plain": [
       "28"
      ]
     },
     "execution_count": 81,
     "metadata": {},
     "output_type": "execute_result"
    }
   ],
   "source": [
    "sys.getsizeof(1)"
   ]
  },
  {
   "cell_type": "code",
   "execution_count": 82,
   "id": "0243c37b",
   "metadata": {},
   "outputs": [
    {
     "data": {
      "text/plain": [
       "8"
      ]
     },
     "execution_count": 82,
     "metadata": {},
     "output_type": "execute_result"
    }
   ],
   "source": [
    "len(list)"
   ]
  },
  {
   "cell_type": "code",
   "execution_count": 83,
   "id": "9a54ba6c",
   "metadata": {},
   "outputs": [
    {
     "data": {
      "text/plain": [
       "224"
      ]
     },
     "execution_count": 83,
     "metadata": {},
     "output_type": "execute_result"
    }
   ],
   "source": [
    "len(list)*sys.getsizeof(8)"
   ]
  },
  {
   "cell_type": "markdown",
   "id": "1d091c77",
   "metadata": {},
   "source": [
    "### Speed Check of Numpy over list"
   ]
  },
  {
   "cell_type": "code",
   "execution_count": 84,
   "id": "cc21035c",
   "metadata": {},
   "outputs": [],
   "source": [
    "n=10000"
   ]
  },
  {
   "cell_type": "code",
   "execution_count": 87,
   "id": "ab41ec81",
   "metadata": {},
   "outputs": [],
   "source": [
    "a3=np.arange(n)\n",
    "a4=np.arange(n)"
   ]
  },
  {
   "cell_type": "code",
   "execution_count": 88,
   "id": "b8c544cb",
   "metadata": {},
   "outputs": [
    {
     "data": {
      "text/plain": [
       "array([   0,    1,    2, ..., 9997, 9998, 9999])"
      ]
     },
     "execution_count": 88,
     "metadata": {},
     "output_type": "execute_result"
    }
   ],
   "source": [
    "a3"
   ]
  },
  {
   "cell_type": "code",
   "execution_count": 89,
   "id": "bcb8cace",
   "metadata": {},
   "outputs": [
    {
     "data": {
      "text/plain": [
       "array([   0,    1,    2, ..., 9997, 9998, 9999])"
      ]
     },
     "execution_count": 89,
     "metadata": {},
     "output_type": "execute_result"
    }
   ],
   "source": [
    "a4"
   ]
  },
  {
   "cell_type": "code",
   "execution_count": 98,
   "id": "dc021590",
   "metadata": {},
   "outputs": [
    {
     "name": "stdout",
     "output_type": "stream",
     "text": [
      "0.0\n"
     ]
    }
   ],
   "source": [
    "st=time.time()\n",
    "t=a3+a4\n",
    "et=time.time()\n",
    "print((et-st)*1000)"
   ]
  },
  {
   "cell_type": "code",
   "execution_count": null,
   "id": "4b8c3185",
   "metadata": {},
   "outputs": [],
   "source": []
  }
 ],
 "metadata": {
  "kernelspec": {
   "display_name": "Python 3 (ipykernel)",
   "language": "python",
   "name": "python3"
  },
  "language_info": {
   "codemirror_mode": {
    "name": "ipython",
    "version": 3
   },
   "file_extension": ".py",
   "mimetype": "text/x-python",
   "name": "python",
   "nbconvert_exporter": "python",
   "pygments_lexer": "ipython3",
   "version": "3.9.13"
  }
 },
 "nbformat": 4,
 "nbformat_minor": 5
}
