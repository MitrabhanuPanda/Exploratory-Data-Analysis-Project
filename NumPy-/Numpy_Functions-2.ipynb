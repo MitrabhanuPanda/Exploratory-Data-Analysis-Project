{
 "cells": [
  {
   "cell_type": "code",
   "execution_count": 1,
   "id": "141a2120",
   "metadata": {},
   "outputs": [],
   "source": [
    "import numpy as np"
   ]
  },
  {
   "cell_type": "code",
   "execution_count": 5,
   "id": "09b15f67",
   "metadata": {},
   "outputs": [],
   "source": []
  },
  {
   "cell_type": "markdown",
   "id": "d16e9bf3",
   "metadata": {},
   "source": [
    "### Np.Round"
   ]
  },
  {
   "cell_type": "code",
   "execution_count": 8,
   "id": "6c88ff31",
   "metadata": {},
   "outputs": [],
   "source": [
    "a1=np.random.randint(10,20,(5))"
   ]
  },
  {
   "cell_type": "code",
   "execution_count": 9,
   "id": "f01e48b9",
   "metadata": {},
   "outputs": [
    {
     "data": {
      "text/plain": [
       "array([17, 11, 14, 17, 13])"
      ]
     },
     "execution_count": 9,
     "metadata": {},
     "output_type": "execute_result"
    }
   ],
   "source": [
    "a1"
   ]
  },
  {
   "cell_type": "code",
   "execution_count": 10,
   "id": "8ba91ad8",
   "metadata": {},
   "outputs": [
    {
     "data": {
      "text/plain": [
       "14.4"
      ]
     },
     "execution_count": 10,
     "metadata": {},
     "output_type": "execute_result"
    }
   ],
   "source": [
    "a1.mean()"
   ]
  },
  {
   "cell_type": "code",
   "execution_count": 11,
   "id": "27d04688",
   "metadata": {},
   "outputs": [],
   "source": [
    "num=43.36578"
   ]
  },
  {
   "cell_type": "code",
   "execution_count": 12,
   "id": "d5fa7379",
   "metadata": {},
   "outputs": [
    {
     "data": {
      "text/plain": [
       "43.37"
      ]
     },
     "execution_count": 12,
     "metadata": {},
     "output_type": "execute_result"
    }
   ],
   "source": [
    "np.round(num,2)"
   ]
  },
  {
   "cell_type": "code",
   "execution_count": 13,
   "id": "92c93955",
   "metadata": {},
   "outputs": [
    {
     "data": {
      "text/plain": [
       "43.4"
      ]
     },
     "execution_count": 13,
     "metadata": {},
     "output_type": "execute_result"
    }
   ],
   "source": [
    "np.round(num,1)"
   ]
  },
  {
   "cell_type": "markdown",
   "id": "5ebb419f",
   "metadata": {},
   "source": [
    "### Np.Insert"
   ]
  },
  {
   "cell_type": "code",
   "execution_count": 14,
   "id": "0ca0a303",
   "metadata": {},
   "outputs": [
    {
     "data": {
      "text/plain": [
       "array([17, 11, 14, 17, 13])"
      ]
     },
     "execution_count": 14,
     "metadata": {},
     "output_type": "execute_result"
    }
   ],
   "source": [
    "a1"
   ]
  },
  {
   "cell_type": "code",
   "execution_count": 15,
   "id": "724b519c",
   "metadata": {},
   "outputs": [
    {
     "data": {
      "text/plain": [
       "array([17, 11, 23, 14, 17, 13])"
      ]
     },
     "execution_count": 15,
     "metadata": {},
     "output_type": "execute_result"
    }
   ],
   "source": [
    "np.insert(a1,2,23,axis=None)"
   ]
  },
  {
   "cell_type": "code",
   "execution_count": 16,
   "id": "a2dcdd9b",
   "metadata": {},
   "outputs": [
    {
     "data": {
      "text/plain": [
       "array([17, 11, 55, 66, 14, 17, 13])"
      ]
     },
     "execution_count": 16,
     "metadata": {},
     "output_type": "execute_result"
    }
   ],
   "source": [
    "# Insert Multiple Value at Single Index\n",
    "np.insert(a1,2,[55,66],axis=None)"
   ]
  },
  {
   "cell_type": "code",
   "execution_count": 17,
   "id": "58134618",
   "metadata": {},
   "outputs": [
    {
     "data": {
      "text/plain": [
       "array([17, 11, 59, 14, 17, 59, 13])"
      ]
     },
     "execution_count": 17,
     "metadata": {},
     "output_type": "execute_result"
    }
   ],
   "source": [
    "# Single Value in Multiple Index\n",
    "np.insert(a1,[2,4],59,axis=None)"
   ]
  },
  {
   "cell_type": "code",
   "execution_count": 18,
   "id": "e6f987cd",
   "metadata": {},
   "outputs": [
    {
     "data": {
      "text/plain": [
       "array([ 17, 100,  11,  14, 200,  17,  13])"
      ]
     },
     "execution_count": 18,
     "metadata": {},
     "output_type": "execute_result"
    }
   ],
   "source": [
    "# Insert Multiple Value in Multiple Index\n",
    "np.insert(a1,[1,3],[100,200],axis=None)"
   ]
  },
  {
   "cell_type": "markdown",
   "id": "0b998484",
   "metadata": {},
   "source": [
    "### 2D Array Insertion"
   ]
  },
  {
   "cell_type": "code",
   "execution_count": 20,
   "id": "aaeda6ef",
   "metadata": {},
   "outputs": [],
   "source": [
    "a2=np.random.randint(100,200,(4,6))"
   ]
  },
  {
   "cell_type": "code",
   "execution_count": 21,
   "id": "bea0652a",
   "metadata": {},
   "outputs": [
    {
     "data": {
      "text/plain": [
       "array([[185, 171, 152, 128, 127, 162],\n",
       "       [170, 114, 139, 178, 189, 168],\n",
       "       [197, 174, 111, 168, 129, 122],\n",
       "       [165, 163, 198, 112, 170, 197]])"
      ]
     },
     "execution_count": 21,
     "metadata": {},
     "output_type": "execute_result"
    }
   ],
   "source": [
    "a2"
   ]
  },
  {
   "cell_type": "code",
   "execution_count": 22,
   "id": "d56daba2",
   "metadata": {},
   "outputs": [
    {
     "data": {
      "text/plain": [
       "array([185, 171,  22,  22,  22,  22,  22,  22, 152, 128, 127, 162, 170,\n",
       "       114, 139, 178, 189, 168, 197, 174, 111, 168, 129, 122, 165, 163,\n",
       "       198, 112, 170, 197])"
      ]
     },
     "execution_count": 22,
     "metadata": {},
     "output_type": "execute_result"
    }
   ],
   "source": [
    "np.insert(a2,2,[22,22,22,22,22,22])"
   ]
  },
  {
   "cell_type": "code",
   "execution_count": 23,
   "id": "b4159786",
   "metadata": {},
   "outputs": [
    {
     "data": {
      "text/plain": [
       "array([[185, 171, 152, 128, 127, 162],\n",
       "       [170, 114, 139, 178, 189, 168],\n",
       "       [ 22,  22,  22,  22,  22,  22],\n",
       "       [197, 174, 111, 168, 129, 122],\n",
       "       [165, 163, 198, 112, 170, 197]])"
      ]
     },
     "execution_count": 23,
     "metadata": {},
     "output_type": "execute_result"
    }
   ],
   "source": [
    "np.insert(a2,2,[22,22,22,22,22,22],axis=0)"
   ]
  },
  {
   "cell_type": "code",
   "execution_count": 27,
   "id": "2eb6595e",
   "metadata": {},
   "outputs": [
    {
     "data": {
      "text/plain": [
       "array([[185, 171, 152, 100, 128, 127, 162],\n",
       "       [170, 114, 139, 100, 178, 189, 168],\n",
       "       [197, 174, 111, 100, 168, 129, 122],\n",
       "       [165, 163, 198, 100, 112, 170, 197]])"
      ]
     },
     "execution_count": 27,
     "metadata": {},
     "output_type": "execute_result"
    }
   ],
   "source": [
    "np.insert(a2,3,[100,100,100,100],axis=1)"
   ]
  },
  {
   "cell_type": "code",
   "execution_count": 35,
   "id": "d1271bc1",
   "metadata": {},
   "outputs": [
    {
     "data": {
      "text/plain": [
       "array([[185, 171, 152, 128, 100, 127, 162],\n",
       "       [170, 114, 139, 178, 100, 189, 168],\n",
       "       [197, 174, 111, 168, 100, 129, 122],\n",
       "       [165, 163, 198, 112, 100, 170, 197]])"
      ]
     },
     "execution_count": 35,
     "metadata": {},
     "output_type": "execute_result"
    }
   ],
   "source": [
    "np.insert(a2,4,[100,100,100,100],axis=1)"
   ]
  },
  {
   "cell_type": "code",
   "execution_count": 36,
   "id": "9e9173c4",
   "metadata": {},
   "outputs": [
    {
     "data": {
      "text/plain": [
       "array([[185, 171, 152,  55, 128, 127, 162],\n",
       "       [170, 114, 139,  55, 178, 189, 168],\n",
       "       [197, 174, 111,  55, 168, 129, 122],\n",
       "       [165, 163, 198,  55, 112, 170, 197]])"
      ]
     },
     "execution_count": 36,
     "metadata": {},
     "output_type": "execute_result"
    }
   ],
   "source": [
    "np.insert(a2,3,55,axis=1)"
   ]
  },
  {
   "cell_type": "code",
   "execution_count": 37,
   "id": "28f610fa",
   "metadata": {},
   "outputs": [
    {
     "data": {
      "text/plain": [
       "array([[185, 171, 152, 128, 127, 162],\n",
       "       [170, 114, 139, 178, 189, 168],\n",
       "       [ 55,  55,  55,  55,  55,  55],\n",
       "       [197, 174, 111, 168, 129, 122],\n",
       "       [165, 163, 198, 112, 170, 197]])"
      ]
     },
     "execution_count": 37,
     "metadata": {},
     "output_type": "execute_result"
    }
   ],
   "source": [
    "np.insert(a2,2,55,axis=0)"
   ]
  },
  {
   "cell_type": "markdown",
   "id": "2f41ab79",
   "metadata": {},
   "source": [
    "### Np.Append"
   ]
  },
  {
   "cell_type": "code",
   "execution_count": 38,
   "id": "b36bac63",
   "metadata": {},
   "outputs": [
    {
     "data": {
      "text/plain": [
       "array([17, 11, 14, 17, 13])"
      ]
     },
     "execution_count": 38,
     "metadata": {},
     "output_type": "execute_result"
    }
   ],
   "source": [
    "a1"
   ]
  },
  {
   "cell_type": "code",
   "execution_count": 39,
   "id": "14089231",
   "metadata": {},
   "outputs": [
    {
     "data": {
      "text/plain": [
       "array([  17,   11,   14,   17,   13, 1000])"
      ]
     },
     "execution_count": 39,
     "metadata": {},
     "output_type": "execute_result"
    }
   ],
   "source": [
    "np.append(a1,1000,axis=None)"
   ]
  },
  {
   "cell_type": "code",
   "execution_count": 40,
   "id": "c9e1555c",
   "metadata": {},
   "outputs": [
    {
     "data": {
      "text/plain": [
       "array([[185, 171, 152, 128, 127, 162],\n",
       "       [170, 114, 139, 178, 189, 168],\n",
       "       [197, 174, 111, 168, 129, 122],\n",
       "       [165, 163, 198, 112, 170, 197]])"
      ]
     },
     "execution_count": 40,
     "metadata": {},
     "output_type": "execute_result"
    }
   ],
   "source": [
    "a2"
   ]
  },
  {
   "cell_type": "code",
   "execution_count": 42,
   "id": "871ff24d",
   "metadata": {},
   "outputs": [
    {
     "data": {
      "text/plain": [
       "array([[185, 171, 152, 128, 127, 162],\n",
       "       [170, 114, 139, 178, 189, 168],\n",
       "       [197, 174, 111, 168, 129, 122],\n",
       "       [165, 163, 198, 112, 170, 197],\n",
       "       [  5,   3,   7,   8,   6,   9]])"
      ]
     },
     "execution_count": 42,
     "metadata": {},
     "output_type": "execute_result"
    }
   ],
   "source": [
    "np.append(a2,[[5,3,7,8,6,9]],axis=0)"
   ]
  },
  {
   "cell_type": "code",
   "execution_count": 45,
   "id": "a40ea0bc",
   "metadata": {},
   "outputs": [
    {
     "data": {
      "text/plain": [
       "array([[185, 171, 152, 128, 127, 162,   5],\n",
       "       [170, 114, 139, 178, 189, 168,   3],\n",
       "       [197, 174, 111, 168, 129, 122,   7],\n",
       "       [165, 163, 198, 112, 170, 197,   8]])"
      ]
     },
     "execution_count": 45,
     "metadata": {},
     "output_type": "execute_result"
    }
   ],
   "source": [
    "np.append(a2,[[5],[3],[7],[8]],axis=1)"
   ]
  },
  {
   "cell_type": "markdown",
   "id": "b67e9606",
   "metadata": {},
   "source": [
    "### Np.Delete"
   ]
  },
  {
   "cell_type": "code",
   "execution_count": 46,
   "id": "35a15a0e",
   "metadata": {},
   "outputs": [],
   "source": [
    "a3=np.random.randint(10,20,(10,))"
   ]
  },
  {
   "cell_type": "code",
   "execution_count": 47,
   "id": "e7c11eb3",
   "metadata": {},
   "outputs": [
    {
     "data": {
      "text/plain": [
       "array([11, 16, 13, 19, 14, 16, 14, 18, 16, 10])"
      ]
     },
     "execution_count": 47,
     "metadata": {},
     "output_type": "execute_result"
    }
   ],
   "source": [
    "a3"
   ]
  },
  {
   "cell_type": "code",
   "execution_count": 49,
   "id": "e62c0452",
   "metadata": {},
   "outputs": [
    {
     "data": {
      "text/plain": [
       "array([11, 16, 13, 14, 16, 14, 18, 16, 10])"
      ]
     },
     "execution_count": 49,
     "metadata": {},
     "output_type": "execute_result"
    }
   ],
   "source": [
    "np.delete(a3,3,axis=None)"
   ]
  },
  {
   "cell_type": "code",
   "execution_count": 50,
   "id": "f00cc0ee",
   "metadata": {},
   "outputs": [
    {
     "data": {
      "text/plain": [
       "array([[185, 171, 152, 128, 127, 162],\n",
       "       [170, 114, 139, 178, 189, 168],\n",
       "       [197, 174, 111, 168, 129, 122],\n",
       "       [165, 163, 198, 112, 170, 197]])"
      ]
     },
     "execution_count": 50,
     "metadata": {},
     "output_type": "execute_result"
    }
   ],
   "source": [
    "a2"
   ]
  },
  {
   "cell_type": "code",
   "execution_count": 52,
   "id": "808b073a",
   "metadata": {},
   "outputs": [],
   "source": [
    "a22=np.insert(a2,2,999,axis=0)"
   ]
  },
  {
   "cell_type": "code",
   "execution_count": 53,
   "id": "937287f5",
   "metadata": {},
   "outputs": [
    {
     "data": {
      "text/plain": [
       "array([[185, 171, 152, 128, 127, 162],\n",
       "       [170, 114, 139, 178, 189, 168],\n",
       "       [999, 999, 999, 999, 999, 999],\n",
       "       [197, 174, 111, 168, 129, 122],\n",
       "       [165, 163, 198, 112, 170, 197]])"
      ]
     },
     "execution_count": 53,
     "metadata": {},
     "output_type": "execute_result"
    }
   ],
   "source": [
    "a22"
   ]
  },
  {
   "cell_type": "code",
   "execution_count": 54,
   "id": "a93360f1",
   "metadata": {},
   "outputs": [
    {
     "data": {
      "text/plain": [
       "array([[185, 171, 152, 128, 127, 162],\n",
       "       [170, 114, 139, 178, 189, 168],\n",
       "       [197, 174, 111, 168, 129, 122],\n",
       "       [165, 163, 198, 112, 170, 197]])"
      ]
     },
     "execution_count": 54,
     "metadata": {},
     "output_type": "execute_result"
    }
   ],
   "source": [
    "np.delete(a22,2,axis=0)"
   ]
  },
  {
   "cell_type": "code",
   "execution_count": 55,
   "id": "7333d8e6",
   "metadata": {},
   "outputs": [
    {
     "data": {
      "text/plain": [
       "array([[185, 171, 152, 127, 162],\n",
       "       [170, 114, 139, 189, 168],\n",
       "       [999, 999, 999, 999, 999],\n",
       "       [197, 174, 111, 129, 122],\n",
       "       [165, 163, 198, 170, 197]])"
      ]
     },
     "execution_count": 55,
     "metadata": {},
     "output_type": "execute_result"
    }
   ],
   "source": [
    "np.delete(a22,3,axis=1)"
   ]
  },
  {
   "cell_type": "markdown",
   "id": "657b87e3",
   "metadata": {},
   "source": [
    "### Np.Concatenate"
   ]
  },
  {
   "cell_type": "code",
   "execution_count": 56,
   "id": "baca227f",
   "metadata": {},
   "outputs": [
    {
     "data": {
      "text/plain": [
       "array([17, 11, 14, 17, 13])"
      ]
     },
     "execution_count": 56,
     "metadata": {},
     "output_type": "execute_result"
    }
   ],
   "source": [
    "a1"
   ]
  },
  {
   "cell_type": "code",
   "execution_count": 57,
   "id": "e13ea8ef",
   "metadata": {},
   "outputs": [
    {
     "data": {
      "text/plain": [
       "array([11, 16, 13, 19, 14, 16, 14, 18, 16, 10])"
      ]
     },
     "execution_count": 57,
     "metadata": {},
     "output_type": "execute_result"
    }
   ],
   "source": [
    "a3"
   ]
  },
  {
   "cell_type": "code",
   "execution_count": null,
   "id": "7b3a2655",
   "metadata": {},
   "outputs": [],
   "source": [
    "# np.concatenate(a1,a3)"
   ]
  },
  {
   "cell_type": "code",
   "execution_count": 58,
   "id": "d285df83",
   "metadata": {},
   "outputs": [
    {
     "data": {
      "text/plain": [
       "array([[185, 171, 152, 128, 127, 162],\n",
       "       [170, 114, 139, 178, 189, 168],\n",
       "       [197, 174, 111, 168, 129, 122],\n",
       "       [165, 163, 198, 112, 170, 197]])"
      ]
     },
     "execution_count": 58,
     "metadata": {},
     "output_type": "execute_result"
    }
   ],
   "source": [
    "a2"
   ]
  },
  {
   "cell_type": "code",
   "execution_count": 59,
   "id": "8846c1f7",
   "metadata": {},
   "outputs": [],
   "source": [
    "a4=np.random.randint(10,20,(4,5))"
   ]
  },
  {
   "cell_type": "code",
   "execution_count": 60,
   "id": "c0baadc3",
   "metadata": {},
   "outputs": [
    {
     "data": {
      "text/plain": [
       "array([[13, 12, 12, 18, 16],\n",
       "       [16, 15, 15, 11, 11],\n",
       "       [14, 15, 15, 17, 11],\n",
       "       [18, 18, 18, 13, 13]])"
      ]
     },
     "execution_count": 60,
     "metadata": {},
     "output_type": "execute_result"
    }
   ],
   "source": [
    "a4"
   ]
  },
  {
   "cell_type": "code",
   "execution_count": null,
   "id": "5d8512ee",
   "metadata": {},
   "outputs": [],
   "source": [
    "# np.concatenate(a2,a4) By default axis=0"
   ]
  },
  {
   "cell_type": "code",
   "execution_count": null,
   "id": "5359599f",
   "metadata": {},
   "outputs": [],
   "source": [
    "# np.concatenate(a2,a4,axis=0)"
   ]
  },
  {
   "cell_type": "code",
   "execution_count": 61,
   "id": "016ba8ec",
   "metadata": {},
   "outputs": [
    {
     "data": {
      "text/plain": [
       "array([[185, 171, 152, 128, 127, 162,  13,  12,  12,  18,  16],\n",
       "       [170, 114, 139, 178, 189, 168,  16,  15,  15,  11,  11],\n",
       "       [197, 174, 111, 168, 129, 122,  14,  15,  15,  17,  11],\n",
       "       [165, 163, 198, 112, 170, 197,  18,  18,  18,  13,  13]])"
      ]
     },
     "execution_count": 61,
     "metadata": {},
     "output_type": "execute_result"
    }
   ],
   "source": [
    "np.concatenate((a2,a4),axis=1)"
   ]
  },
  {
   "cell_type": "markdown",
   "id": "918f906c",
   "metadata": {},
   "source": [
    "### "
   ]
  },
  {
   "cell_type": "code",
   "execution_count": 62,
   "id": "38ccc285",
   "metadata": {},
   "outputs": [],
   "source": [
    "a5=np.random.randint(10,20,(5,3))"
   ]
  },
  {
   "cell_type": "code",
   "execution_count": 63,
   "id": "cfcc5041",
   "metadata": {},
   "outputs": [
    {
     "data": {
      "text/plain": [
       "array([[10, 12, 19],\n",
       "       [11, 16, 18],\n",
       "       [18, 15, 16],\n",
       "       [11, 16, 11],\n",
       "       [14, 14, 10]])"
      ]
     },
     "execution_count": 63,
     "metadata": {},
     "output_type": "execute_result"
    }
   ],
   "source": [
    "a5"
   ]
  },
  {
   "cell_type": "code",
   "execution_count": 64,
   "id": "b94393cd",
   "metadata": {},
   "outputs": [],
   "source": [
    "a6=np.random.randint(10,20,(4,3))"
   ]
  },
  {
   "cell_type": "code",
   "execution_count": 65,
   "id": "9bd53a5c",
   "metadata": {},
   "outputs": [
    {
     "data": {
      "text/plain": [
       "array([[19, 11, 11],\n",
       "       [17, 14, 19],\n",
       "       [16, 13, 18],\n",
       "       [18, 16, 10]])"
      ]
     },
     "execution_count": 65,
     "metadata": {},
     "output_type": "execute_result"
    }
   ],
   "source": [
    "a6"
   ]
  },
  {
   "cell_type": "code",
   "execution_count": 68,
   "id": "3e3fe27b",
   "metadata": {},
   "outputs": [],
   "source": [
    "# np.concatenate((a5,a6),axis=1)"
   ]
  },
  {
   "cell_type": "code",
   "execution_count": 67,
   "id": "047d93f0",
   "metadata": {},
   "outputs": [
    {
     "data": {
      "text/plain": [
       "array([[10, 12, 19],\n",
       "       [11, 16, 18],\n",
       "       [18, 15, 16],\n",
       "       [11, 16, 11],\n",
       "       [14, 14, 10],\n",
       "       [19, 11, 11],\n",
       "       [17, 14, 19],\n",
       "       [16, 13, 18],\n",
       "       [18, 16, 10]])"
      ]
     },
     "execution_count": 67,
     "metadata": {},
     "output_type": "execute_result"
    }
   ],
   "source": [
    "np.concatenate((a5,a6),axis=0)"
   ]
  },
  {
   "cell_type": "code",
   "execution_count": 69,
   "id": "2acdbfb5",
   "metadata": {},
   "outputs": [],
   "source": [
    "n1=np.random.randint(10,20,(5,6))"
   ]
  },
  {
   "cell_type": "code",
   "execution_count": 70,
   "id": "ad24c8ce",
   "metadata": {},
   "outputs": [],
   "source": [
    "n2=np.random.randint(20,40,(6,6))"
   ]
  },
  {
   "cell_type": "code",
   "execution_count": 71,
   "id": "a6bf8ecf",
   "metadata": {},
   "outputs": [],
   "source": [
    "n3=np.random.randint(40,60,(5,6))"
   ]
  },
  {
   "cell_type": "code",
   "execution_count": 72,
   "id": "b9e7381f",
   "metadata": {},
   "outputs": [
    {
     "data": {
      "text/plain": [
       "array([[18, 13, 16, 18, 10, 18],\n",
       "       [16, 12, 17, 13, 17, 14],\n",
       "       [11, 11, 10, 12, 19, 16],\n",
       "       [18, 16, 15, 18, 18, 16],\n",
       "       [15, 10, 17, 14, 16, 12]])"
      ]
     },
     "execution_count": 72,
     "metadata": {},
     "output_type": "execute_result"
    }
   ],
   "source": [
    "n1"
   ]
  },
  {
   "cell_type": "code",
   "execution_count": 73,
   "id": "ada4190d",
   "metadata": {},
   "outputs": [
    {
     "data": {
      "text/plain": [
       "array([[23, 37, 25, 21, 25, 37],\n",
       "       [29, 29, 23, 32, 24, 38],\n",
       "       [24, 39, 38, 23, 23, 32],\n",
       "       [31, 37, 20, 37, 36, 31],\n",
       "       [28, 22, 37, 36, 31, 38],\n",
       "       [36, 21, 21, 25, 33, 20]])"
      ]
     },
     "execution_count": 73,
     "metadata": {},
     "output_type": "execute_result"
    }
   ],
   "source": [
    "n2"
   ]
  },
  {
   "cell_type": "code",
   "execution_count": 74,
   "id": "b79e0d7f",
   "metadata": {},
   "outputs": [
    {
     "data": {
      "text/plain": [
       "array([[46, 55, 47, 50, 57, 58],\n",
       "       [54, 59, 57, 47, 55, 42],\n",
       "       [51, 45, 48, 56, 49, 52],\n",
       "       [50, 43, 55, 56, 41, 58],\n",
       "       [45, 42, 50, 40, 41, 50]])"
      ]
     },
     "execution_count": 74,
     "metadata": {},
     "output_type": "execute_result"
    }
   ],
   "source": [
    "n3"
   ]
  },
  {
   "cell_type": "code",
   "execution_count": 75,
   "id": "f3e1ceda",
   "metadata": {},
   "outputs": [
    {
     "data": {
      "text/plain": [
       "(5, 6)"
      ]
     },
     "execution_count": 75,
     "metadata": {},
     "output_type": "execute_result"
    }
   ],
   "source": [
    "n1.shape"
   ]
  },
  {
   "cell_type": "code",
   "execution_count": 76,
   "id": "ce7410da",
   "metadata": {},
   "outputs": [
    {
     "data": {
      "text/plain": [
       "(6, 6)"
      ]
     },
     "execution_count": 76,
     "metadata": {},
     "output_type": "execute_result"
    }
   ],
   "source": [
    "n2.shape"
   ]
  },
  {
   "cell_type": "code",
   "execution_count": 77,
   "id": "22cd03c1",
   "metadata": {},
   "outputs": [
    {
     "data": {
      "text/plain": [
       "(5, 6)"
      ]
     },
     "execution_count": 77,
     "metadata": {},
     "output_type": "execute_result"
    }
   ],
   "source": [
    "n3.shape"
   ]
  },
  {
   "cell_type": "code",
   "execution_count": 78,
   "id": "45b47602",
   "metadata": {},
   "outputs": [
    {
     "data": {
      "text/plain": [
       "array([[18, 13, 16, 18, 10, 18],\n",
       "       [16, 12, 17, 13, 17, 14],\n",
       "       [11, 11, 10, 12, 19, 16],\n",
       "       [18, 16, 15, 18, 18, 16],\n",
       "       [15, 10, 17, 14, 16, 12],\n",
       "       [23, 37, 25, 21, 25, 37],\n",
       "       [29, 29, 23, 32, 24, 38],\n",
       "       [24, 39, 38, 23, 23, 32],\n",
       "       [31, 37, 20, 37, 36, 31],\n",
       "       [28, 22, 37, 36, 31, 38],\n",
       "       [36, 21, 21, 25, 33, 20]])"
      ]
     },
     "execution_count": 78,
     "metadata": {},
     "output_type": "execute_result"
    }
   ],
   "source": [
    "np.concatenate((n1,n2),axis=0)"
   ]
  },
  {
   "cell_type": "code",
   "execution_count": 80,
   "id": "06c0e80c",
   "metadata": {},
   "outputs": [],
   "source": [
    "# np.concatenate((n1,n2),axis=1)"
   ]
  },
  {
   "cell_type": "markdown",
   "id": "ab149c55",
   "metadata": {},
   "source": [
    "## "
   ]
  },
  {
   "cell_type": "code",
   "execution_count": null,
   "id": "1f5c6f2e",
   "metadata": {},
   "outputs": [],
   "source": [
    "# np.hstack((n1,n2))   # Axis=1"
   ]
  },
  {
   "cell_type": "code",
   "execution_count": 81,
   "id": "93b9e06f",
   "metadata": {},
   "outputs": [
    {
     "data": {
      "text/plain": [
       "array([[18, 13, 16, 18, 10, 18],\n",
       "       [16, 12, 17, 13, 17, 14],\n",
       "       [11, 11, 10, 12, 19, 16],\n",
       "       [18, 16, 15, 18, 18, 16],\n",
       "       [15, 10, 17, 14, 16, 12],\n",
       "       [23, 37, 25, 21, 25, 37],\n",
       "       [29, 29, 23, 32, 24, 38],\n",
       "       [24, 39, 38, 23, 23, 32],\n",
       "       [31, 37, 20, 37, 36, 31],\n",
       "       [28, 22, 37, 36, 31, 38],\n",
       "       [36, 21, 21, 25, 33, 20]])"
      ]
     },
     "execution_count": 81,
     "metadata": {},
     "output_type": "execute_result"
    }
   ],
   "source": [
    "np.vstack((n1,n2)) # Axis=0"
   ]
  },
  {
   "cell_type": "code",
   "execution_count": 83,
   "id": "dba831d2",
   "metadata": {},
   "outputs": [
    {
     "data": {
      "text/plain": [
       "array([[18, 13, 16, 18, 10, 18, 46, 55, 47, 50, 57, 58],\n",
       "       [16, 12, 17, 13, 17, 14, 54, 59, 57, 47, 55, 42],\n",
       "       [11, 11, 10, 12, 19, 16, 51, 45, 48, 56, 49, 52],\n",
       "       [18, 16, 15, 18, 18, 16, 50, 43, 55, 56, 41, 58],\n",
       "       [15, 10, 17, 14, 16, 12, 45, 42, 50, 40, 41, 50]])"
      ]
     },
     "execution_count": 83,
     "metadata": {},
     "output_type": "execute_result"
    }
   ],
   "source": [
    "np.concatenate((n1,n3),axis=1)"
   ]
  },
  {
   "cell_type": "code",
   "execution_count": 93,
   "id": "2064e5ee",
   "metadata": {},
   "outputs": [],
   "source": [
    "n11=np.hstack((n1,n3))"
   ]
  },
  {
   "cell_type": "code",
   "execution_count": 94,
   "id": "f1010403",
   "metadata": {},
   "outputs": [
    {
     "data": {
      "text/plain": [
       "array([[18, 13, 16, 18, 10, 18, 46, 55, 47, 50, 57, 58],\n",
       "       [16, 12, 17, 13, 17, 14, 54, 59, 57, 47, 55, 42],\n",
       "       [11, 11, 10, 12, 19, 16, 51, 45, 48, 56, 49, 52],\n",
       "       [18, 16, 15, 18, 18, 16, 50, 43, 55, 56, 41, 58],\n",
       "       [15, 10, 17, 14, 16, 12, 45, 42, 50, 40, 41, 50]])"
      ]
     },
     "execution_count": 94,
     "metadata": {},
     "output_type": "execute_result"
    }
   ],
   "source": [
    "n11"
   ]
  },
  {
   "cell_type": "code",
   "execution_count": null,
   "id": "41fc57b1",
   "metadata": {},
   "outputs": [],
   "source": []
  },
  {
   "cell_type": "markdown",
   "id": "e0f607c3",
   "metadata": {},
   "source": [
    "### Np.Split"
   ]
  },
  {
   "cell_type": "code",
   "execution_count": 86,
   "id": "c372982f",
   "metadata": {},
   "outputs": [
    {
     "data": {
      "text/plain": [
       "array([17, 11, 14, 17, 13])"
      ]
     },
     "execution_count": 86,
     "metadata": {},
     "output_type": "execute_result"
    }
   ],
   "source": [
    "a3"
   ]
  },
  {
   "cell_type": "code",
   "execution_count": 88,
   "id": "88264742",
   "metadata": {},
   "outputs": [
    {
     "data": {
      "text/plain": [
       "10"
      ]
     },
     "execution_count": 88,
     "metadata": {},
     "output_type": "execute_result"
    }
   ],
   "source": [
    "a3.size"
   ]
  },
  {
   "cell_type": "code",
   "execution_count": 89,
   "id": "2f2147ee",
   "metadata": {},
   "outputs": [
    {
     "data": {
      "text/plain": [
       "[array([11, 16, 13, 19, 14]), array([16, 14, 18, 16, 10])]"
      ]
     },
     "execution_count": 89,
     "metadata": {},
     "output_type": "execute_result"
    }
   ],
   "source": [
    "np.split(a3,2)"
   ]
  },
  {
   "cell_type": "code",
   "execution_count": 91,
   "id": "b3e83aaf",
   "metadata": {},
   "outputs": [],
   "source": [
    "# np.split(a3,3)"
   ]
  },
  {
   "cell_type": "code",
   "execution_count": 92,
   "id": "f3a5d944",
   "metadata": {},
   "outputs": [
    {
     "data": {
      "text/plain": [
       "[array([11, 16]),\n",
       " array([13, 19]),\n",
       " array([14, 16]),\n",
       " array([14, 18]),\n",
       " array([16, 10])]"
      ]
     },
     "execution_count": 92,
     "metadata": {},
     "output_type": "execute_result"
    }
   ],
   "source": [
    "np.split(a3,5)"
   ]
  },
  {
   "cell_type": "code",
   "execution_count": 95,
   "id": "51cfba47",
   "metadata": {},
   "outputs": [
    {
     "data": {
      "text/plain": [
       "array([[18, 13, 16, 18, 10, 18, 46, 55, 47, 50, 57, 58],\n",
       "       [16, 12, 17, 13, 17, 14, 54, 59, 57, 47, 55, 42],\n",
       "       [11, 11, 10, 12, 19, 16, 51, 45, 48, 56, 49, 52],\n",
       "       [18, 16, 15, 18, 18, 16, 50, 43, 55, 56, 41, 58],\n",
       "       [15, 10, 17, 14, 16, 12, 45, 42, 50, 40, 41, 50]])"
      ]
     },
     "execution_count": 95,
     "metadata": {},
     "output_type": "execute_result"
    }
   ],
   "source": [
    "n11"
   ]
  },
  {
   "cell_type": "code",
   "execution_count": 96,
   "id": "d9f0350a",
   "metadata": {},
   "outputs": [
    {
     "data": {
      "text/plain": [
       "[array([[18, 13, 16, 18, 10, 18, 46, 55, 47, 50, 57, 58]]),\n",
       " array([[16, 12, 17, 13, 17, 14, 54, 59, 57, 47, 55, 42]]),\n",
       " array([[11, 11, 10, 12, 19, 16, 51, 45, 48, 56, 49, 52]]),\n",
       " array([[18, 16, 15, 18, 18, 16, 50, 43, 55, 56, 41, 58]]),\n",
       " array([[15, 10, 17, 14, 16, 12, 45, 42, 50, 40, 41, 50]])]"
      ]
     },
     "execution_count": 96,
     "metadata": {},
     "output_type": "execute_result"
    }
   ],
   "source": [
    "np.split(n11,5)"
   ]
  },
  {
   "cell_type": "code",
   "execution_count": 99,
   "id": "189b099f",
   "metadata": {},
   "outputs": [],
   "source": [
    "# np.split(n11,3)"
   ]
  },
  {
   "cell_type": "code",
   "execution_count": 100,
   "id": "74027a0b",
   "metadata": {},
   "outputs": [
    {
     "data": {
      "text/plain": [
       "[array([[18],\n",
       "        [16],\n",
       "        [11],\n",
       "        [18],\n",
       "        [15]]),\n",
       " array([[13],\n",
       "        [12],\n",
       "        [11],\n",
       "        [16],\n",
       "        [10]]),\n",
       " array([[16],\n",
       "        [17],\n",
       "        [10],\n",
       "        [15],\n",
       "        [17]]),\n",
       " array([[18],\n",
       "        [13],\n",
       "        [12],\n",
       "        [18],\n",
       "        [14]]),\n",
       " array([[10],\n",
       "        [17],\n",
       "        [19],\n",
       "        [18],\n",
       "        [16]]),\n",
       " array([[18],\n",
       "        [14],\n",
       "        [16],\n",
       "        [16],\n",
       "        [12]]),\n",
       " array([[46],\n",
       "        [54],\n",
       "        [51],\n",
       "        [50],\n",
       "        [45]]),\n",
       " array([[55],\n",
       "        [59],\n",
       "        [45],\n",
       "        [43],\n",
       "        [42]]),\n",
       " array([[47],\n",
       "        [57],\n",
       "        [48],\n",
       "        [55],\n",
       "        [50]]),\n",
       " array([[50],\n",
       "        [47],\n",
       "        [56],\n",
       "        [56],\n",
       "        [40]]),\n",
       " array([[57],\n",
       "        [55],\n",
       "        [49],\n",
       "        [41],\n",
       "        [41]]),\n",
       " array([[58],\n",
       "        [42],\n",
       "        [52],\n",
       "        [58],\n",
       "        [50]])]"
      ]
     },
     "execution_count": 100,
     "metadata": {},
     "output_type": "execute_result"
    }
   ],
   "source": [
    "np.split(n11,12,axis=1)"
   ]
  },
  {
   "cell_type": "code",
   "execution_count": 101,
   "id": "f4698b98",
   "metadata": {},
   "outputs": [
    {
     "data": {
      "text/plain": [
       "[array([[18, 13],\n",
       "        [16, 12],\n",
       "        [11, 11],\n",
       "        [18, 16],\n",
       "        [15, 10]]),\n",
       " array([[16, 18],\n",
       "        [17, 13],\n",
       "        [10, 12],\n",
       "        [15, 18],\n",
       "        [17, 14]]),\n",
       " array([[10, 18],\n",
       "        [17, 14],\n",
       "        [19, 16],\n",
       "        [18, 16],\n",
       "        [16, 12]]),\n",
       " array([[46, 55],\n",
       "        [54, 59],\n",
       "        [51, 45],\n",
       "        [50, 43],\n",
       "        [45, 42]]),\n",
       " array([[47, 50],\n",
       "        [57, 47],\n",
       "        [48, 56],\n",
       "        [55, 56],\n",
       "        [50, 40]]),\n",
       " array([[57, 58],\n",
       "        [55, 42],\n",
       "        [49, 52],\n",
       "        [41, 58],\n",
       "        [41, 50]])]"
      ]
     },
     "execution_count": 101,
     "metadata": {},
     "output_type": "execute_result"
    }
   ],
   "source": [
    "np.split(n11,6,axis=1)"
   ]
  },
  {
   "cell_type": "code",
   "execution_count": 102,
   "id": "bac7f76b",
   "metadata": {},
   "outputs": [
    {
     "data": {
      "text/plain": [
       "[array([[18, 13, 16],\n",
       "        [16, 12, 17],\n",
       "        [11, 11, 10],\n",
       "        [18, 16, 15],\n",
       "        [15, 10, 17]]),\n",
       " array([[18, 10, 18],\n",
       "        [13, 17, 14],\n",
       "        [12, 19, 16],\n",
       "        [18, 18, 16],\n",
       "        [14, 16, 12]]),\n",
       " array([[46, 55, 47],\n",
       "        [54, 59, 57],\n",
       "        [51, 45, 48],\n",
       "        [50, 43, 55],\n",
       "        [45, 42, 50]]),\n",
       " array([[50, 57, 58],\n",
       "        [47, 55, 42],\n",
       "        [56, 49, 52],\n",
       "        [56, 41, 58],\n",
       "        [40, 41, 50]])]"
      ]
     },
     "execution_count": 102,
     "metadata": {},
     "output_type": "execute_result"
    }
   ],
   "source": [
    "np.split(n11,4,axis=1)"
   ]
  },
  {
   "cell_type": "code",
   "execution_count": 103,
   "id": "edd27335",
   "metadata": {},
   "outputs": [
    {
     "data": {
      "text/plain": [
       "[array([[18, 13, 16, 18, 10, 18],\n",
       "        [16, 12, 17, 13, 17, 14],\n",
       "        [11, 11, 10, 12, 19, 16],\n",
       "        [18, 16, 15, 18, 18, 16],\n",
       "        [15, 10, 17, 14, 16, 12]]),\n",
       " array([[46, 55, 47, 50, 57, 58],\n",
       "        [54, 59, 57, 47, 55, 42],\n",
       "        [51, 45, 48, 56, 49, 52],\n",
       "        [50, 43, 55, 56, 41, 58],\n",
       "        [45, 42, 50, 40, 41, 50]])]"
      ]
     },
     "execution_count": 103,
     "metadata": {},
     "output_type": "execute_result"
    }
   ],
   "source": [
    "np.split(n11,2,axis=1)"
   ]
  },
  {
   "cell_type": "code",
   "execution_count": 106,
   "id": "77a39b2f",
   "metadata": {},
   "outputs": [
    {
     "data": {
      "text/plain": [
       "[array([[18, 13, 16, 18, 10, 18, 46, 55, 47, 50, 57, 58]]),\n",
       " array([[16, 12, 17, 13, 17, 14, 54, 59, 57, 47, 55, 42]]),\n",
       " array([[11, 11, 10, 12, 19, 16, 51, 45, 48, 56, 49, 52]]),\n",
       " array([[18, 16, 15, 18, 18, 16, 50, 43, 55, 56, 41, 58]]),\n",
       " array([[15, 10, 17, 14, 16, 12, 45, 42, 50, 40, 41, 50]])]"
      ]
     },
     "execution_count": 106,
     "metadata": {},
     "output_type": "execute_result"
    }
   ],
   "source": [
    "np.vsplit(n11,5) # Split with axis=0"
   ]
  },
  {
   "cell_type": "code",
   "execution_count": 107,
   "id": "76c1e332",
   "metadata": {},
   "outputs": [
    {
     "data": {
      "text/plain": [
       "[array([[18, 13, 16, 18, 10, 18],\n",
       "        [16, 12, 17, 13, 17, 14],\n",
       "        [11, 11, 10, 12, 19, 16],\n",
       "        [18, 16, 15, 18, 18, 16],\n",
       "        [15, 10, 17, 14, 16, 12]]),\n",
       " array([[46, 55, 47, 50, 57, 58],\n",
       "        [54, 59, 57, 47, 55, 42],\n",
       "        [51, 45, 48, 56, 49, 52],\n",
       "        [50, 43, 55, 56, 41, 58],\n",
       "        [45, 42, 50, 40, 41, 50]])]"
      ]
     },
     "execution_count": 107,
     "metadata": {},
     "output_type": "execute_result"
    }
   ],
   "source": [
    "np.hsplit(n11,2) # Split with axis=1"
   ]
  },
  {
   "cell_type": "markdown",
   "id": "466ebb20",
   "metadata": {},
   "source": [
    "# ***"
   ]
  },
  {
   "cell_type": "code",
   "execution_count": 108,
   "id": "300a03b4",
   "metadata": {},
   "outputs": [
    {
     "data": {
      "text/plain": [
       "array([11, 16, 13, 19, 14, 16, 14, 18, 16, 10])"
      ]
     },
     "execution_count": 108,
     "metadata": {},
     "output_type": "execute_result"
    }
   ],
   "source": [
    "a3"
   ]
  },
  {
   "cell_type": "code",
   "execution_count": 109,
   "id": "e1485e11",
   "metadata": {},
   "outputs": [
    {
     "data": {
      "text/plain": [
       "array([[11, 16, 13, 19, 14],\n",
       "       [16, 14, 18, 16, 10]])"
      ]
     },
     "execution_count": 109,
     "metadata": {},
     "output_type": "execute_result"
    }
   ],
   "source": [
    "a3.reshape(2,5)"
   ]
  },
  {
   "cell_type": "code",
   "execution_count": 122,
   "id": "88119907",
   "metadata": {},
   "outputs": [],
   "source": [
    "w=a3.reshape(1,-1)"
   ]
  },
  {
   "cell_type": "code",
   "execution_count": 123,
   "id": "ebf74435",
   "metadata": {},
   "outputs": [
    {
     "data": {
      "text/plain": [
       "array([[11, 16, 13, 19, 14, 16, 14, 18, 16, 10]])"
      ]
     },
     "execution_count": 123,
     "metadata": {},
     "output_type": "execute_result"
    }
   ],
   "source": [
    "w"
   ]
  },
  {
   "cell_type": "code",
   "execution_count": 124,
   "id": "7e15bbe3",
   "metadata": {},
   "outputs": [
    {
     "data": {
      "text/plain": [
       "(10,)"
      ]
     },
     "execution_count": 124,
     "metadata": {},
     "output_type": "execute_result"
    }
   ],
   "source": [
    "a3.shape"
   ]
  },
  {
   "cell_type": "code",
   "execution_count": 125,
   "id": "dc1447f2",
   "metadata": {},
   "outputs": [
    {
     "data": {
      "text/plain": [
       "(1, 10)"
      ]
     },
     "execution_count": 125,
     "metadata": {},
     "output_type": "execute_result"
    }
   ],
   "source": [
    "w.shape"
   ]
  },
  {
   "cell_type": "code",
   "execution_count": 127,
   "id": "bd3b9eca",
   "metadata": {},
   "outputs": [],
   "source": [
    "w1=a3.reshape(-1,1)"
   ]
  },
  {
   "cell_type": "code",
   "execution_count": 128,
   "id": "dbdaf733",
   "metadata": {},
   "outputs": [
    {
     "data": {
      "text/plain": [
       "array([[11],\n",
       "       [16],\n",
       "       [13],\n",
       "       [19],\n",
       "       [14],\n",
       "       [16],\n",
       "       [14],\n",
       "       [18],\n",
       "       [16],\n",
       "       [10]])"
      ]
     },
     "execution_count": 128,
     "metadata": {},
     "output_type": "execute_result"
    }
   ],
   "source": [
    "w1"
   ]
  },
  {
   "cell_type": "code",
   "execution_count": 129,
   "id": "408916f2",
   "metadata": {},
   "outputs": [
    {
     "data": {
      "text/plain": [
       "(10, 1)"
      ]
     },
     "execution_count": 129,
     "metadata": {},
     "output_type": "execute_result"
    }
   ],
   "source": [
    "w1.shape"
   ]
  },
  {
   "cell_type": "code",
   "execution_count": 130,
   "id": "2bea7481",
   "metadata": {},
   "outputs": [
    {
     "data": {
      "text/plain": [
       "2"
      ]
     },
     "execution_count": 130,
     "metadata": {},
     "output_type": "execute_result"
    }
   ],
   "source": [
    "w1.ndim"
   ]
  },
  {
   "cell_type": "code",
   "execution_count": 131,
   "id": "1c94c98d",
   "metadata": {},
   "outputs": [
    {
     "data": {
      "text/plain": [
       "2"
      ]
     },
     "execution_count": 131,
     "metadata": {},
     "output_type": "execute_result"
    }
   ],
   "source": [
    "w.ndim"
   ]
  },
  {
   "cell_type": "code",
   "execution_count": 132,
   "id": "2c64ea0f",
   "metadata": {},
   "outputs": [
    {
     "data": {
      "text/plain": [
       "1"
      ]
     },
     "execution_count": 132,
     "metadata": {},
     "output_type": "execute_result"
    }
   ],
   "source": [
    "a3.ndim"
   ]
  },
  {
   "cell_type": "code",
   "execution_count": null,
   "id": "9f7bda0a",
   "metadata": {},
   "outputs": [],
   "source": []
  },
  {
   "cell_type": "markdown",
   "id": "8dfd6f58",
   "metadata": {},
   "source": [
    "### Mean, Max,Min, Std, Unique"
   ]
  },
  {
   "cell_type": "code",
   "execution_count": 133,
   "id": "e0b936ef",
   "metadata": {},
   "outputs": [
    {
     "data": {
      "text/plain": [
       "array([17, 11, 14, 17, 13])"
      ]
     },
     "execution_count": 133,
     "metadata": {},
     "output_type": "execute_result"
    }
   ],
   "source": [
    "a1"
   ]
  },
  {
   "cell_type": "code",
   "execution_count": 134,
   "id": "d4b5bf79",
   "metadata": {},
   "outputs": [
    {
     "data": {
      "text/plain": [
       "17"
      ]
     },
     "execution_count": 134,
     "metadata": {},
     "output_type": "execute_result"
    }
   ],
   "source": [
    "a1.max()"
   ]
  },
  {
   "cell_type": "code",
   "execution_count": 135,
   "id": "961ffa6f",
   "metadata": {},
   "outputs": [
    {
     "data": {
      "text/plain": [
       "11"
      ]
     },
     "execution_count": 135,
     "metadata": {},
     "output_type": "execute_result"
    }
   ],
   "source": [
    "a1.min()"
   ]
  },
  {
   "cell_type": "code",
   "execution_count": 136,
   "id": "66beabfd",
   "metadata": {},
   "outputs": [
    {
     "data": {
      "text/plain": [
       "14.4"
      ]
     },
     "execution_count": 136,
     "metadata": {},
     "output_type": "execute_result"
    }
   ],
   "source": [
    "a1.mean()"
   ]
  },
  {
   "cell_type": "code",
   "execution_count": 138,
   "id": "6dd7dc25",
   "metadata": {},
   "outputs": [
    {
     "data": {
      "text/plain": [
       "array([11, 13, 14, 17])"
      ]
     },
     "execution_count": 138,
     "metadata": {},
     "output_type": "execute_result"
    }
   ],
   "source": [
    "np.unique(a1)"
   ]
  },
  {
   "cell_type": "code",
   "execution_count": 140,
   "id": "603e3773",
   "metadata": {},
   "outputs": [
    {
     "data": {
      "text/plain": [
       "(array([11, 13, 14, 17]), array([1, 1, 1, 2], dtype=int64))"
      ]
     },
     "execution_count": 140,
     "metadata": {},
     "output_type": "execute_result"
    }
   ],
   "source": [
    "np.unique(a1,return_counts=True)"
   ]
  },
  {
   "cell_type": "code",
   "execution_count": 141,
   "id": "aaf10b18",
   "metadata": {},
   "outputs": [
    {
     "data": {
      "text/plain": [
       "2.33238075793812"
      ]
     },
     "execution_count": 141,
     "metadata": {},
     "output_type": "execute_result"
    }
   ],
   "source": [
    "a1.std()"
   ]
  },
  {
   "cell_type": "markdown",
   "id": "279773db",
   "metadata": {},
   "source": [
    "### Expand Dimension"
   ]
  },
  {
   "cell_type": "code",
   "execution_count": 142,
   "id": "bb8d3364",
   "metadata": {},
   "outputs": [
    {
     "data": {
      "text/plain": [
       "array([17, 11, 14, 17, 13])"
      ]
     },
     "execution_count": 142,
     "metadata": {},
     "output_type": "execute_result"
    }
   ],
   "source": [
    "a1"
   ]
  },
  {
   "cell_type": "code",
   "execution_count": 144,
   "id": "44d325e7",
   "metadata": {},
   "outputs": [],
   "source": [
    "aw=np.expand_dims(a1,axis=0)"
   ]
  },
  {
   "cell_type": "code",
   "execution_count": 145,
   "id": "66e9c009",
   "metadata": {},
   "outputs": [
    {
     "data": {
      "text/plain": [
       "array([[17, 11, 14, 17, 13]])"
      ]
     },
     "execution_count": 145,
     "metadata": {},
     "output_type": "execute_result"
    }
   ],
   "source": [
    "aw"
   ]
  },
  {
   "cell_type": "code",
   "execution_count": 149,
   "id": "e6fdb354",
   "metadata": {},
   "outputs": [
    {
     "data": {
      "text/plain": [
       "(1, 5)"
      ]
     },
     "execution_count": 149,
     "metadata": {},
     "output_type": "execute_result"
    }
   ],
   "source": [
    "aw.shape"
   ]
  },
  {
   "cell_type": "code",
   "execution_count": 147,
   "id": "8d50baf4",
   "metadata": {},
   "outputs": [],
   "source": [
    "aw1=np.expand_dims(a1,axis=1)"
   ]
  },
  {
   "cell_type": "code",
   "execution_count": 148,
   "id": "8f4c828c",
   "metadata": {},
   "outputs": [
    {
     "data": {
      "text/plain": [
       "array([[17],\n",
       "       [11],\n",
       "       [14],\n",
       "       [17],\n",
       "       [13]])"
      ]
     },
     "execution_count": 148,
     "metadata": {},
     "output_type": "execute_result"
    }
   ],
   "source": [
    "aw1"
   ]
  },
  {
   "cell_type": "code",
   "execution_count": 150,
   "id": "6225fc0e",
   "metadata": {},
   "outputs": [
    {
     "data": {
      "text/plain": [
       "(5, 1)"
      ]
     },
     "execution_count": 150,
     "metadata": {},
     "output_type": "execute_result"
    }
   ],
   "source": [
    "aw1.shape"
   ]
  },
  {
   "cell_type": "markdown",
   "id": "176b703c",
   "metadata": {},
   "source": [
    "### Squeeze"
   ]
  },
  {
   "cell_type": "code",
   "execution_count": 151,
   "id": "8adeb3c8",
   "metadata": {},
   "outputs": [
    {
     "data": {
      "text/plain": [
       "array([17, 11, 14, 17, 13])"
      ]
     },
     "execution_count": 151,
     "metadata": {},
     "output_type": "execute_result"
    }
   ],
   "source": [
    "np.squeeze(aw)"
   ]
  },
  {
   "cell_type": "code",
   "execution_count": 152,
   "id": "e7a11409",
   "metadata": {},
   "outputs": [
    {
     "data": {
      "text/plain": [
       "(5,)"
      ]
     },
     "execution_count": 152,
     "metadata": {},
     "output_type": "execute_result"
    }
   ],
   "source": [
    "np.squeeze(aw).shape"
   ]
  },
  {
   "cell_type": "markdown",
   "id": "5280c4aa",
   "metadata": {},
   "source": [
    "# "
   ]
  },
  {
   "cell_type": "code",
   "execution_count": 153,
   "id": "b4ba9802",
   "metadata": {},
   "outputs": [],
   "source": [
    "q=np.array([3,4,5,0,6,7,8,0,9])"
   ]
  },
  {
   "cell_type": "code",
   "execution_count": 154,
   "id": "dda3a74c",
   "metadata": {},
   "outputs": [
    {
     "data": {
      "text/plain": [
       "array([3, 4, 5, 0, 6, 7, 8, 0, 9])"
      ]
     },
     "execution_count": 154,
     "metadata": {},
     "output_type": "execute_result"
    }
   ],
   "source": [
    "q"
   ]
  },
  {
   "cell_type": "code",
   "execution_count": 155,
   "id": "415c0523",
   "metadata": {},
   "outputs": [
    {
     "data": {
      "text/plain": [
       "7"
      ]
     },
     "execution_count": 155,
     "metadata": {},
     "output_type": "execute_result"
    }
   ],
   "source": [
    "np.count_nonzero(q)"
   ]
  },
  {
   "cell_type": "code",
   "execution_count": 156,
   "id": "29d79d84",
   "metadata": {},
   "outputs": [
    {
     "data": {
      "text/plain": [
       "array([[0],\n",
       "       [1],\n",
       "       [2],\n",
       "       [4],\n",
       "       [5],\n",
       "       [6],\n",
       "       [8]], dtype=int64)"
      ]
     },
     "execution_count": 156,
     "metadata": {},
     "output_type": "execute_result"
    }
   ],
   "source": [
    "np.argwhere(q)"
   ]
  },
  {
   "cell_type": "code",
   "execution_count": 157,
   "id": "e3a07527",
   "metadata": {},
   "outputs": [
    {
     "data": {
      "text/plain": [
       "8"
      ]
     },
     "execution_count": 157,
     "metadata": {},
     "output_type": "execute_result"
    }
   ],
   "source": [
    "np.argmax(q)"
   ]
  },
  {
   "cell_type": "code",
   "execution_count": 158,
   "id": "52c9b635",
   "metadata": {},
   "outputs": [
    {
     "data": {
      "text/plain": [
       "array([[185, 171, 152, 128, 127, 162],\n",
       "       [170, 114, 139, 178, 189, 168],\n",
       "       [197, 174, 111, 168, 129, 122],\n",
       "       [165, 163, 198, 112, 170, 197]])"
      ]
     },
     "execution_count": 158,
     "metadata": {},
     "output_type": "execute_result"
    }
   ],
   "source": [
    "a2"
   ]
  },
  {
   "cell_type": "code",
   "execution_count": 159,
   "id": "57bc0089",
   "metadata": {},
   "outputs": [
    {
     "data": {
      "text/plain": [
       "20"
      ]
     },
     "execution_count": 159,
     "metadata": {},
     "output_type": "execute_result"
    }
   ],
   "source": [
    "np.argmax(a2)"
   ]
  },
  {
   "cell_type": "code",
   "execution_count": 160,
   "id": "64aab144",
   "metadata": {},
   "outputs": [
    {
     "data": {
      "text/plain": [
       "3"
      ]
     },
     "execution_count": 160,
     "metadata": {},
     "output_type": "execute_result"
    }
   ],
   "source": [
    "np.argmin(q)"
   ]
  },
  {
   "cell_type": "code",
   "execution_count": 161,
   "id": "6a0eef24",
   "metadata": {},
   "outputs": [
    {
     "data": {
      "text/plain": [
       "array([[197, 170, 112, 198, 163, 165],\n",
       "       [122, 129, 168, 111, 174, 197],\n",
       "       [168, 189, 178, 139, 114, 170],\n",
       "       [162, 127, 128, 152, 171, 185]])"
      ]
     },
     "execution_count": 161,
     "metadata": {},
     "output_type": "execute_result"
    }
   ],
   "source": [
    "np.flip(a2)"
   ]
  },
  {
   "cell_type": "code",
   "execution_count": 162,
   "id": "aac20e4f",
   "metadata": {},
   "outputs": [
    {
     "data": {
      "text/plain": [
       "array([[165, 163, 198, 112, 170, 197],\n",
       "       [197, 174, 111, 168, 129, 122],\n",
       "       [170, 114, 139, 178, 189, 168],\n",
       "       [185, 171, 152, 128, 127, 162]])"
      ]
     },
     "execution_count": 162,
     "metadata": {},
     "output_type": "execute_result"
    }
   ],
   "source": [
    "np.flip(a2,axis=0)"
   ]
  },
  {
   "cell_type": "code",
   "execution_count": 163,
   "id": "dc33190e",
   "metadata": {},
   "outputs": [
    {
     "data": {
      "text/plain": [
       "array([[162, 127, 128, 152, 171, 185],\n",
       "       [168, 189, 178, 139, 114, 170],\n",
       "       [122, 129, 168, 111, 174, 197],\n",
       "       [197, 170, 112, 198, 163, 165]])"
      ]
     },
     "execution_count": 163,
     "metadata": {},
     "output_type": "execute_result"
    }
   ],
   "source": [
    "np.flip(a2,axis=1)"
   ]
  },
  {
   "cell_type": "code",
   "execution_count": 164,
   "id": "c5394dd0",
   "metadata": {},
   "outputs": [
    {
     "data": {
      "text/plain": [
       "array([[162, 127, 128, 152, 171, 185],\n",
       "       [168, 189, 178, 139, 114, 170],\n",
       "       [122, 129, 168, 111, 174, 197],\n",
       "       [197, 170, 112, 198, 163, 165]])"
      ]
     },
     "execution_count": 164,
     "metadata": {},
     "output_type": "execute_result"
    }
   ],
   "source": [
    "np.fliplr(a2) # Axis=1"
   ]
  },
  {
   "cell_type": "code",
   "execution_count": 165,
   "id": "4da563cf",
   "metadata": {},
   "outputs": [
    {
     "data": {
      "text/plain": [
       "array([[165, 163, 198, 112, 170, 197],\n",
       "       [197, 174, 111, 168, 129, 122],\n",
       "       [170, 114, 139, 178, 189, 168],\n",
       "       [185, 171, 152, 128, 127, 162]])"
      ]
     },
     "execution_count": 165,
     "metadata": {},
     "output_type": "execute_result"
    }
   ],
   "source": [
    "np.flipud(a2) # Axis=0"
   ]
  },
  {
   "cell_type": "markdown",
   "id": "c8acac86",
   "metadata": {},
   "source": [
    "## "
   ]
  },
  {
   "cell_type": "code",
   "execution_count": 166,
   "id": "f0763035",
   "metadata": {},
   "outputs": [
    {
     "data": {
      "text/plain": [
       "array([[185, 171, 152, 128, 127, 162],\n",
       "       [170, 114, 139, 178, 189, 168],\n",
       "       [197, 174, 111, 168, 129, 122],\n",
       "       [165, 163, 198, 112, 170, 197]])"
      ]
     },
     "execution_count": 166,
     "metadata": {},
     "output_type": "execute_result"
    }
   ],
   "source": [
    "a2"
   ]
  },
  {
   "cell_type": "code",
   "execution_count": 167,
   "id": "1ee7e92e",
   "metadata": {},
   "outputs": [],
   "source": [
    "np.savetxt(\"a2.txt\",a2)"
   ]
  },
  {
   "cell_type": "code",
   "execution_count": 168,
   "id": "1e6fc2f3",
   "metadata": {},
   "outputs": [
    {
     "data": {
      "text/plain": [
       "array([[185., 171., 152., 128., 127., 162.],\n",
       "       [170., 114., 139., 178., 189., 168.],\n",
       "       [197., 174., 111., 168., 129., 122.],\n",
       "       [165., 163., 198., 112., 170., 197.]])"
      ]
     },
     "execution_count": 168,
     "metadata": {},
     "output_type": "execute_result"
    }
   ],
   "source": [
    "np.loadtxt(\"a2.txt\")"
   ]
  },
  {
   "cell_type": "code",
   "execution_count": 169,
   "id": "9e60addf",
   "metadata": {},
   "outputs": [
    {
     "data": {
      "text/plain": [
       "array([9, 9, 9, 9, 9])"
      ]
     },
     "execution_count": 169,
     "metadata": {},
     "output_type": "execute_result"
    }
   ],
   "source": [
    "np.repeat(9,5)"
   ]
  },
  {
   "cell_type": "code",
   "execution_count": 170,
   "id": "6e9f77f8",
   "metadata": {},
   "outputs": [
    {
     "data": {
      "text/plain": [
       "array([9, 9, 9, 9, 9, 2, 2, 2, 2, 2])"
      ]
     },
     "execution_count": 170,
     "metadata": {},
     "output_type": "execute_result"
    }
   ],
   "source": [
    "np.repeat([9,2],5)"
   ]
  },
  {
   "cell_type": "code",
   "execution_count": 172,
   "id": "f71a74ec",
   "metadata": {},
   "outputs": [],
   "source": [
    "a33=np.array([17, 11, 14, 17, 13])"
   ]
  },
  {
   "cell_type": "code",
   "execution_count": 173,
   "id": "8dadb954",
   "metadata": {},
   "outputs": [
    {
     "data": {
      "text/plain": [
       "array([17, 11, 14, 17, 13])"
      ]
     },
     "execution_count": 173,
     "metadata": {},
     "output_type": "execute_result"
    }
   ],
   "source": [
    "a33"
   ]
  },
  {
   "cell_type": "code",
   "execution_count": 175,
   "id": "84642a4a",
   "metadata": {},
   "outputs": [],
   "source": [
    "a44=np.array([17, 10, 13, 17, 12])"
   ]
  },
  {
   "cell_type": "code",
   "execution_count": 176,
   "id": "06d9eda5",
   "metadata": {},
   "outputs": [
    {
     "data": {
      "text/plain": [
       "array([17, 10, 13, 17, 12])"
      ]
     },
     "execution_count": 176,
     "metadata": {},
     "output_type": "execute_result"
    }
   ],
   "source": [
    "a44"
   ]
  },
  {
   "cell_type": "code",
   "execution_count": 177,
   "id": "0d1532b0",
   "metadata": {},
   "outputs": [
    {
     "data": {
      "text/plain": [
       "array([ True, False, False,  True, False])"
      ]
     },
     "execution_count": 177,
     "metadata": {},
     "output_type": "execute_result"
    }
   ],
   "source": [
    "np.equal(a44,a33)"
   ]
  },
  {
   "cell_type": "code",
   "execution_count": null,
   "id": "a6dcce70",
   "metadata": {},
   "outputs": [],
   "source": []
  }
 ],
 "metadata": {
  "kernelspec": {
   "display_name": "Python 3 (ipykernel)",
   "language": "python",
   "name": "python3"
  },
  "language_info": {
   "codemirror_mode": {
    "name": "ipython",
    "version": 3
   },
   "file_extension": ".py",
   "mimetype": "text/x-python",
   "name": "python",
   "nbconvert_exporter": "python",
   "pygments_lexer": "ipython3",
   "version": "3.9.13"
  }
 },
 "nbformat": 4,
 "nbformat_minor": 5
}
