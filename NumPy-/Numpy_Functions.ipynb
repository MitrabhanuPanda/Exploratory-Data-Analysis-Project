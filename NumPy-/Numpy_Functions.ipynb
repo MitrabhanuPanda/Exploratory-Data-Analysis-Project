{
 "cells": [
  {
   "cell_type": "markdown",
   "id": "b74e67a8",
   "metadata": {},
   "source": [
    "### Numpy Functions"
   ]
  },
  {
   "cell_type": "code",
   "execution_count": 1,
   "id": "46f128ad",
   "metadata": {},
   "outputs": [],
   "source": [
    "import numpy as np"
   ]
  },
  {
   "cell_type": "markdown",
   "id": "5e59f734",
   "metadata": {},
   "source": [
    "### Reshape()"
   ]
  },
  {
   "cell_type": "code",
   "execution_count": 2,
   "id": "aa2308bc",
   "metadata": {},
   "outputs": [],
   "source": [
    "a1=np.random.randint(100,150,(4,6))"
   ]
  },
  {
   "cell_type": "code",
   "execution_count": 3,
   "id": "4657ea5a",
   "metadata": {},
   "outputs": [
    {
     "data": {
      "text/plain": [
       "array([[133, 100, 107, 101, 129, 127],\n",
       "       [139, 121, 112, 145, 149, 110],\n",
       "       [106, 103, 139, 100, 133, 111],\n",
       "       [129, 106, 107, 100, 146, 110]])"
      ]
     },
     "execution_count": 3,
     "metadata": {},
     "output_type": "execute_result"
    }
   ],
   "source": [
    "a1"
   ]
  },
  {
   "cell_type": "code",
   "execution_count": 4,
   "id": "d0fd18e5",
   "metadata": {},
   "outputs": [
    {
     "data": {
      "text/plain": [
       "(4, 6)"
      ]
     },
     "execution_count": 4,
     "metadata": {},
     "output_type": "execute_result"
    }
   ],
   "source": [
    "a1.shape"
   ]
  },
  {
   "cell_type": "code",
   "execution_count": 5,
   "id": "1ce50aa5",
   "metadata": {},
   "outputs": [
    {
     "data": {
      "text/plain": [
       "24"
      ]
     },
     "execution_count": 5,
     "metadata": {},
     "output_type": "execute_result"
    }
   ],
   "source": [
    "a1.size"
   ]
  },
  {
   "cell_type": "code",
   "execution_count": 7,
   "id": "134b42e6",
   "metadata": {},
   "outputs": [],
   "source": [
    "a2=a1.reshape(2,2,6) "
   ]
  },
  {
   "cell_type": "code",
   "execution_count": 8,
   "id": "a45346b0",
   "metadata": {},
   "outputs": [
    {
     "data": {
      "text/plain": [
       "array([[[133, 100, 107, 101, 129, 127],\n",
       "        [139, 121, 112, 145, 149, 110]],\n",
       "\n",
       "       [[106, 103, 139, 100, 133, 111],\n",
       "        [129, 106, 107, 100, 146, 110]]])"
      ]
     },
     "execution_count": 8,
     "metadata": {},
     "output_type": "execute_result"
    }
   ],
   "source": [
    "a2"
   ]
  },
  {
   "cell_type": "code",
   "execution_count": 9,
   "id": "155caf84",
   "metadata": {},
   "outputs": [
    {
     "data": {
      "text/plain": [
       "(2, 2, 6)"
      ]
     },
     "execution_count": 9,
     "metadata": {},
     "output_type": "execute_result"
    }
   ],
   "source": [
    "a2.shape"
   ]
  },
  {
   "cell_type": "code",
   "execution_count": 10,
   "id": "797d7625",
   "metadata": {},
   "outputs": [
    {
     "data": {
      "text/plain": [
       "24"
      ]
     },
     "execution_count": 10,
     "metadata": {},
     "output_type": "execute_result"
    }
   ],
   "source": [
    "a2.size"
   ]
  },
  {
   "cell_type": "code",
   "execution_count": 11,
   "id": "f223e726",
   "metadata": {},
   "outputs": [],
   "source": [
    "a3=a2.reshape(2,12)"
   ]
  },
  {
   "cell_type": "code",
   "execution_count": 12,
   "id": "72c63cbf",
   "metadata": {},
   "outputs": [
    {
     "data": {
      "text/plain": [
       "array([[133, 100, 107, 101, 129, 127, 139, 121, 112, 145, 149, 110],\n",
       "       [106, 103, 139, 100, 133, 111, 129, 106, 107, 100, 146, 110]])"
      ]
     },
     "execution_count": 12,
     "metadata": {},
     "output_type": "execute_result"
    }
   ],
   "source": [
    "a3"
   ]
  },
  {
   "cell_type": "code",
   "execution_count": 13,
   "id": "2ee264fa",
   "metadata": {},
   "outputs": [
    {
     "data": {
      "text/plain": [
       "(2, 12)"
      ]
     },
     "execution_count": 13,
     "metadata": {},
     "output_type": "execute_result"
    }
   ],
   "source": [
    "a3.shape"
   ]
  },
  {
   "cell_type": "code",
   "execution_count": 14,
   "id": "85bfce56",
   "metadata": {},
   "outputs": [
    {
     "data": {
      "text/plain": [
       "24"
      ]
     },
     "execution_count": 14,
     "metadata": {},
     "output_type": "execute_result"
    }
   ],
   "source": [
    "a3.size"
   ]
  },
  {
   "cell_type": "code",
   "execution_count": 16,
   "id": "a615f7ef",
   "metadata": {},
   "outputs": [],
   "source": [
    "# a2.reshape(4,8)"
   ]
  },
  {
   "cell_type": "markdown",
   "id": "6d0e92c6",
   "metadata": {},
   "source": [
    "### Resize()"
   ]
  },
  {
   "cell_type": "code",
   "execution_count": 17,
   "id": "9cd75f68",
   "metadata": {},
   "outputs": [
    {
     "data": {
      "text/plain": [
       "array([[[133, 100, 107, 101, 129, 127],\n",
       "        [139, 121, 112, 145, 149, 110]],\n",
       "\n",
       "       [[106, 103, 139, 100, 133, 111],\n",
       "        [129, 106, 107, 100, 146, 110]]])"
      ]
     },
     "execution_count": 17,
     "metadata": {},
     "output_type": "execute_result"
    }
   ],
   "source": [
    "a2"
   ]
  },
  {
   "cell_type": "code",
   "execution_count": 18,
   "id": "98c350bc",
   "metadata": {},
   "outputs": [
    {
     "data": {
      "text/plain": [
       "24"
      ]
     },
     "execution_count": 18,
     "metadata": {},
     "output_type": "execute_result"
    }
   ],
   "source": [
    "a2.size"
   ]
  },
  {
   "cell_type": "code",
   "execution_count": 19,
   "id": "e8831c2d",
   "metadata": {},
   "outputs": [],
   "source": [
    "a2.resize(12,2)"
   ]
  },
  {
   "cell_type": "code",
   "execution_count": 20,
   "id": "968e61dc",
   "metadata": {},
   "outputs": [
    {
     "data": {
      "text/plain": [
       "array([[133, 100],\n",
       "       [107, 101],\n",
       "       [129, 127],\n",
       "       [139, 121],\n",
       "       [112, 145],\n",
       "       [149, 110],\n",
       "       [106, 103],\n",
       "       [139, 100],\n",
       "       [133, 111],\n",
       "       [129, 106],\n",
       "       [107, 100],\n",
       "       [146, 110]])"
      ]
     },
     "execution_count": 20,
     "metadata": {},
     "output_type": "execute_result"
    }
   ],
   "source": [
    "a2"
   ]
  },
  {
   "cell_type": "code",
   "execution_count": 21,
   "id": "cea8e4b5",
   "metadata": {},
   "outputs": [
    {
     "data": {
      "text/plain": [
       "24"
      ]
     },
     "execution_count": 21,
     "metadata": {},
     "output_type": "execute_result"
    }
   ],
   "source": [
    "a2.size"
   ]
  },
  {
   "cell_type": "code",
   "execution_count": 22,
   "id": "2ccde7ca",
   "metadata": {},
   "outputs": [
    {
     "data": {
      "text/plain": [
       "(12, 2)"
      ]
     },
     "execution_count": 22,
     "metadata": {},
     "output_type": "execute_result"
    }
   ],
   "source": [
    "a2.shape"
   ]
  },
  {
   "cell_type": "code",
   "execution_count": 24,
   "id": "903ea621",
   "metadata": {},
   "outputs": [],
   "source": [
    "# a2.resize(4,8)"
   ]
  },
  {
   "cell_type": "code",
   "execution_count": 52,
   "id": "788de9b0",
   "metadata": {},
   "outputs": [],
   "source": [
    "a2.resize((4,8),refcheck=False)"
   ]
  },
  {
   "cell_type": "code",
   "execution_count": 54,
   "id": "dd817890",
   "metadata": {},
   "outputs": [
    {
     "data": {
      "text/plain": [
       "array([[171, 192, 153, 186, 103, 157, 117, 191],\n",
       "       [134, 125, 170, 145, 100, 193, 191, 151],\n",
       "       [110, 135, 187, 194, 108, 140, 109, 171],\n",
       "       [  0,   0,   0,   0,   0,   0,   0,   0]])"
      ]
     },
     "execution_count": 54,
     "metadata": {},
     "output_type": "execute_result"
    }
   ],
   "source": [
    "a2"
   ]
  },
  {
   "cell_type": "code",
   "execution_count": null,
   "id": "ae53d9ed",
   "metadata": {},
   "outputs": [],
   "source": []
  },
  {
   "cell_type": "code",
   "execution_count": 31,
   "id": "bfd6b292",
   "metadata": {},
   "outputs": [
    {
     "data": {
      "text/plain": [
       "array([[133, 100, 107, 101, 129, 127, 139, 121],\n",
       "       [112, 145, 149, 110, 106, 103, 139, 100],\n",
       "       [133, 111, 129, 106, 107, 100, 146, 110],\n",
       "       [133, 100, 107, 101, 129, 127, 139, 121]])"
      ]
     },
     "execution_count": 31,
     "metadata": {},
     "output_type": "execute_result"
    }
   ],
   "source": [
    "np.resize(a2,(4,8))"
   ]
  },
  {
   "cell_type": "markdown",
   "id": "b4ea6b1e",
   "metadata": {},
   "source": [
    "### Transpose()"
   ]
  },
  {
   "cell_type": "code",
   "execution_count": 35,
   "id": "84589275",
   "metadata": {},
   "outputs": [],
   "source": [
    "a2=np.random.randint(100,200,(4,6))"
   ]
  },
  {
   "cell_type": "code",
   "execution_count": 36,
   "id": "ed3d2af6",
   "metadata": {},
   "outputs": [
    {
     "data": {
      "text/plain": [
       "array([[171, 192, 153, 186, 103, 157],\n",
       "       [117, 191, 134, 125, 170, 145],\n",
       "       [100, 193, 191, 151, 110, 135],\n",
       "       [187, 194, 108, 140, 109, 171]])"
      ]
     },
     "execution_count": 36,
     "metadata": {},
     "output_type": "execute_result"
    }
   ],
   "source": [
    "a2"
   ]
  },
  {
   "cell_type": "code",
   "execution_count": 37,
   "id": "124d8487",
   "metadata": {},
   "outputs": [
    {
     "data": {
      "text/plain": [
       "array([[171, 117, 100, 187],\n",
       "       [192, 191, 193, 194],\n",
       "       [153, 134, 191, 108],\n",
       "       [186, 125, 151, 140],\n",
       "       [103, 170, 110, 109],\n",
       "       [157, 145, 135, 171]])"
      ]
     },
     "execution_count": 37,
     "metadata": {},
     "output_type": "execute_result"
    }
   ],
   "source": [
    "a2.transpose()"
   ]
  },
  {
   "cell_type": "code",
   "execution_count": 38,
   "id": "3bc18a4e",
   "metadata": {},
   "outputs": [
    {
     "data": {
      "text/plain": [
       "array([[171, 117, 100, 187],\n",
       "       [192, 191, 193, 194],\n",
       "       [153, 134, 191, 108],\n",
       "       [186, 125, 151, 140],\n",
       "       [103, 170, 110, 109],\n",
       "       [157, 145, 135, 171]])"
      ]
     },
     "execution_count": 38,
     "metadata": {},
     "output_type": "execute_result"
    }
   ],
   "source": [
    "a2.T"
   ]
  },
  {
   "cell_type": "code",
   "execution_count": 39,
   "id": "536054df",
   "metadata": {},
   "outputs": [
    {
     "data": {
      "text/plain": [
       "(6, 4)"
      ]
     },
     "execution_count": 39,
     "metadata": {},
     "output_type": "execute_result"
    }
   ],
   "source": [
    "a2.transpose().shape"
   ]
  },
  {
   "cell_type": "code",
   "execution_count": 40,
   "id": "a206c1b6",
   "metadata": {},
   "outputs": [
    {
     "data": {
      "text/plain": [
       "(4, 6)"
      ]
     },
     "execution_count": 40,
     "metadata": {},
     "output_type": "execute_result"
    }
   ],
   "source": [
    "a2.shape"
   ]
  },
  {
   "cell_type": "code",
   "execution_count": 41,
   "id": "9b6fe2ee",
   "metadata": {},
   "outputs": [],
   "source": [
    "a3=np.random.randint(100,200,(2,4,6))"
   ]
  },
  {
   "cell_type": "code",
   "execution_count": 42,
   "id": "78d50056",
   "metadata": {},
   "outputs": [
    {
     "data": {
      "text/plain": [
       "array([[[156, 150, 171, 141, 145, 175],\n",
       "        [170, 137, 192, 120, 145, 119],\n",
       "        [196, 110, 152, 114, 151, 145],\n",
       "        [131, 134, 178, 106, 146, 181]],\n",
       "\n",
       "       [[155, 171, 146, 127, 152, 100],\n",
       "        [136, 184, 113, 113, 104, 100],\n",
       "        [108, 190, 157, 150, 105, 171],\n",
       "        [138, 157, 148, 127, 142, 103]]])"
      ]
     },
     "execution_count": 42,
     "metadata": {},
     "output_type": "execute_result"
    }
   ],
   "source": [
    "a3"
   ]
  },
  {
   "cell_type": "code",
   "execution_count": 44,
   "id": "e96599b6",
   "metadata": {},
   "outputs": [
    {
     "data": {
      "text/plain": [
       "array([[[156, 155],\n",
       "        [170, 136],\n",
       "        [196, 108],\n",
       "        [131, 138]],\n",
       "\n",
       "       [[150, 171],\n",
       "        [137, 184],\n",
       "        [110, 190],\n",
       "        [134, 157]],\n",
       "\n",
       "       [[171, 146],\n",
       "        [192, 113],\n",
       "        [152, 157],\n",
       "        [178, 148]],\n",
       "\n",
       "       [[141, 127],\n",
       "        [120, 113],\n",
       "        [114, 150],\n",
       "        [106, 127]],\n",
       "\n",
       "       [[145, 152],\n",
       "        [145, 104],\n",
       "        [151, 105],\n",
       "        [146, 142]],\n",
       "\n",
       "       [[175, 100],\n",
       "        [119, 100],\n",
       "        [145, 171],\n",
       "        [181, 103]]])"
      ]
     },
     "execution_count": 44,
     "metadata": {},
     "output_type": "execute_result"
    }
   ],
   "source": [
    "a3.transpose()"
   ]
  },
  {
   "cell_type": "code",
   "execution_count": 45,
   "id": "e8e532e2",
   "metadata": {},
   "outputs": [
    {
     "data": {
      "text/plain": [
       "(6, 4, 2)"
      ]
     },
     "execution_count": 45,
     "metadata": {},
     "output_type": "execute_result"
    }
   ],
   "source": [
    "a3.transpose().shape"
   ]
  },
  {
   "cell_type": "code",
   "execution_count": 46,
   "id": "55438656",
   "metadata": {},
   "outputs": [
    {
     "data": {
      "text/plain": [
       "(2, 4, 6)"
      ]
     },
     "execution_count": 46,
     "metadata": {},
     "output_type": "execute_result"
    }
   ],
   "source": [
    "a3.shape"
   ]
  },
  {
   "cell_type": "code",
   "execution_count": 47,
   "id": "a54af740",
   "metadata": {},
   "outputs": [
    {
     "data": {
      "text/plain": [
       "array([[[156, 155],\n",
       "        [150, 171],\n",
       "        [171, 146],\n",
       "        [141, 127],\n",
       "        [145, 152],\n",
       "        [175, 100]],\n",
       "\n",
       "       [[170, 136],\n",
       "        [137, 184],\n",
       "        [192, 113],\n",
       "        [120, 113],\n",
       "        [145, 104],\n",
       "        [119, 100]],\n",
       "\n",
       "       [[196, 108],\n",
       "        [110, 190],\n",
       "        [152, 157],\n",
       "        [114, 150],\n",
       "        [151, 105],\n",
       "        [145, 171]],\n",
       "\n",
       "       [[131, 138],\n",
       "        [134, 157],\n",
       "        [178, 148],\n",
       "        [106, 127],\n",
       "        [146, 142],\n",
       "        [181, 103]]])"
      ]
     },
     "execution_count": 47,
     "metadata": {},
     "output_type": "execute_result"
    }
   ],
   "source": [
    "# (4,2,6)\n",
    "a3.transpose(1,2,0)"
   ]
  },
  {
   "cell_type": "code",
   "execution_count": 48,
   "id": "c65a071a",
   "metadata": {},
   "outputs": [
    {
     "data": {
      "text/plain": [
       "(4, 6, 2)"
      ]
     },
     "execution_count": 48,
     "metadata": {},
     "output_type": "execute_result"
    }
   ],
   "source": [
    "a3.transpose(1,2,0).shape"
   ]
  },
  {
   "cell_type": "markdown",
   "id": "4ddfee7f",
   "metadata": {},
   "source": [
    "### Swapaxes()"
   ]
  },
  {
   "cell_type": "code",
   "execution_count": 55,
   "id": "dbf33000",
   "metadata": {},
   "outputs": [
    {
     "data": {
      "text/plain": [
       "array([[[156, 150, 171, 141, 145, 175],\n",
       "        [170, 137, 192, 120, 145, 119],\n",
       "        [196, 110, 152, 114, 151, 145],\n",
       "        [131, 134, 178, 106, 146, 181]],\n",
       "\n",
       "       [[155, 171, 146, 127, 152, 100],\n",
       "        [136, 184, 113, 113, 104, 100],\n",
       "        [108, 190, 157, 150, 105, 171],\n",
       "        [138, 157, 148, 127, 142, 103]]])"
      ]
     },
     "execution_count": 55,
     "metadata": {},
     "output_type": "execute_result"
    }
   ],
   "source": [
    "a3"
   ]
  },
  {
   "cell_type": "code",
   "execution_count": 56,
   "id": "dff6d88e",
   "metadata": {},
   "outputs": [
    {
     "data": {
      "text/plain": [
       "(2, 4, 6)"
      ]
     },
     "execution_count": 56,
     "metadata": {},
     "output_type": "execute_result"
    }
   ],
   "source": [
    "a3.shape"
   ]
  },
  {
   "cell_type": "code",
   "execution_count": 57,
   "id": "d90fa748",
   "metadata": {},
   "outputs": [
    {
     "data": {
      "text/plain": [
       "array([[[156, 150, 171, 141, 145, 175],\n",
       "        [155, 171, 146, 127, 152, 100]],\n",
       "\n",
       "       [[170, 137, 192, 120, 145, 119],\n",
       "        [136, 184, 113, 113, 104, 100]],\n",
       "\n",
       "       [[196, 110, 152, 114, 151, 145],\n",
       "        [108, 190, 157, 150, 105, 171]],\n",
       "\n",
       "       [[131, 134, 178, 106, 146, 181],\n",
       "        [138, 157, 148, 127, 142, 103]]])"
      ]
     },
     "execution_count": 57,
     "metadata": {},
     "output_type": "execute_result"
    }
   ],
   "source": [
    "a3.swapaxes(1,0)"
   ]
  },
  {
   "cell_type": "code",
   "execution_count": 58,
   "id": "2b2d8330",
   "metadata": {},
   "outputs": [
    {
     "data": {
      "text/plain": [
       "(4, 2, 6)"
      ]
     },
     "execution_count": 58,
     "metadata": {},
     "output_type": "execute_result"
    }
   ],
   "source": [
    "a3.swapaxes(1,0).shape"
   ]
  },
  {
   "cell_type": "markdown",
   "id": "5d64ffb7",
   "metadata": {},
   "source": [
    "### Flatten()"
   ]
  },
  {
   "cell_type": "code",
   "execution_count": 59,
   "id": "0632512a",
   "metadata": {},
   "outputs": [
    {
     "data": {
      "text/plain": [
       "array([[[156, 150, 171, 141, 145, 175],\n",
       "        [170, 137, 192, 120, 145, 119],\n",
       "        [196, 110, 152, 114, 151, 145],\n",
       "        [131, 134, 178, 106, 146, 181]],\n",
       "\n",
       "       [[155, 171, 146, 127, 152, 100],\n",
       "        [136, 184, 113, 113, 104, 100],\n",
       "        [108, 190, 157, 150, 105, 171],\n",
       "        [138, 157, 148, 127, 142, 103]]])"
      ]
     },
     "execution_count": 59,
     "metadata": {},
     "output_type": "execute_result"
    }
   ],
   "source": [
    "a3"
   ]
  },
  {
   "cell_type": "code",
   "execution_count": 60,
   "id": "350f4dfe",
   "metadata": {},
   "outputs": [
    {
     "data": {
      "text/plain": [
       "array([156, 150, 171, 141, 145, 175, 170, 137, 192, 120, 145, 119, 196,\n",
       "       110, 152, 114, 151, 145, 131, 134, 178, 106, 146, 181, 155, 171,\n",
       "       146, 127, 152, 100, 136, 184, 113, 113, 104, 100, 108, 190, 157,\n",
       "       150, 105, 171, 138, 157, 148, 127, 142, 103])"
      ]
     },
     "execution_count": 60,
     "metadata": {},
     "output_type": "execute_result"
    }
   ],
   "source": [
    "a3.flatten()"
   ]
  },
  {
   "cell_type": "code",
   "execution_count": 61,
   "id": "db76297e",
   "metadata": {},
   "outputs": [
    {
     "data": {
      "text/plain": [
       "array([156, 155, 170, 136, 196, 108, 131, 138, 150, 171, 137, 184, 110,\n",
       "       190, 134, 157, 171, 146, 192, 113, 152, 157, 178, 148, 141, 127,\n",
       "       120, 113, 114, 150, 106, 127, 145, 152, 145, 104, 151, 105, 146,\n",
       "       142, 175, 100, 119, 100, 145, 171, 181, 103])"
      ]
     },
     "execution_count": 61,
     "metadata": {},
     "output_type": "execute_result"
    }
   ],
   "source": [
    "a3.flatten(order=\"F\")"
   ]
  },
  {
   "cell_type": "markdown",
   "id": "73a4c7c8",
   "metadata": {},
   "source": [
    "### Ravel"
   ]
  },
  {
   "cell_type": "code",
   "execution_count": 62,
   "id": "f2e7486c",
   "metadata": {},
   "outputs": [
    {
     "data": {
      "text/plain": [
       "array([156, 155, 170, 136, 196, 108, 131, 138, 150, 171, 137, 184, 110,\n",
       "       190, 134, 157, 171, 146, 192, 113, 152, 157, 178, 148, 141, 127,\n",
       "       120, 113, 114, 150, 106, 127, 145, 152, 145, 104, 151, 105, 146,\n",
       "       142, 175, 100, 119, 100, 145, 171, 181, 103])"
      ]
     },
     "execution_count": 62,
     "metadata": {},
     "output_type": "execute_result"
    }
   ],
   "source": [
    "np.ravel(a3,order=\"F\")"
   ]
  },
  {
   "cell_type": "markdown",
   "id": "f4ea8982",
   "metadata": {},
   "source": [
    "### "
   ]
  },
  {
   "cell_type": "markdown",
   "id": "99029400",
   "metadata": {},
   "source": [
    "### np.nan"
   ]
  },
  {
   "cell_type": "code",
   "execution_count": 64,
   "id": "242a2191",
   "metadata": {},
   "outputs": [],
   "source": [
    "a=np.random.randint(10,20,(8,))"
   ]
  },
  {
   "cell_type": "code",
   "execution_count": 65,
   "id": "c7a35eba",
   "metadata": {},
   "outputs": [
    {
     "data": {
      "text/plain": [
       "array([10, 15, 13, 13, 18, 10, 18, 10])"
      ]
     },
     "execution_count": 65,
     "metadata": {},
     "output_type": "execute_result"
    }
   ],
   "source": [
    "a"
   ]
  },
  {
   "cell_type": "code",
   "execution_count": 66,
   "id": "8f2f3dbe",
   "metadata": {},
   "outputs": [],
   "source": [
    "a=np.array([10, 15, 13, 13,\"Nan\", 18, 10, 18, 10])"
   ]
  },
  {
   "cell_type": "code",
   "execution_count": 67,
   "id": "7d50cf14",
   "metadata": {},
   "outputs": [
    {
     "data": {
      "text/plain": [
       "array(['10', '15', '13', '13', 'Nan', '18', '10', '18', '10'],\n",
       "      dtype='<U11')"
      ]
     },
     "execution_count": 67,
     "metadata": {},
     "output_type": "execute_result"
    }
   ],
   "source": [
    "a"
   ]
  },
  {
   "cell_type": "code",
   "execution_count": 71,
   "id": "1e8d21a3",
   "metadata": {},
   "outputs": [],
   "source": [
    "b=np.array([10,20,np.nan,30,40])"
   ]
  },
  {
   "cell_type": "code",
   "execution_count": 72,
   "id": "532be2a6",
   "metadata": {},
   "outputs": [
    {
     "data": {
      "text/plain": [
       "array([10., 20., nan, 30., 40.])"
      ]
     },
     "execution_count": 72,
     "metadata": {},
     "output_type": "execute_result"
    }
   ],
   "source": [
    "b"
   ]
  },
  {
   "cell_type": "markdown",
   "id": "05450547",
   "metadata": {},
   "source": [
    "### np.where"
   ]
  },
  {
   "cell_type": "code",
   "execution_count": 77,
   "id": "31814c28",
   "metadata": {},
   "outputs": [
    {
     "data": {
      "text/plain": [
       "array(500)"
      ]
     },
     "execution_count": 77,
     "metadata": {},
     "output_type": "execute_result"
    }
   ],
   "source": [
    "np.where(100>500,100,500)"
   ]
  },
  {
   "cell_type": "code",
   "execution_count": 79,
   "id": "cf2a2c1f",
   "metadata": {},
   "outputs": [],
   "source": [
    "a=100\n",
    "b=200\n",
    "c=300"
   ]
  },
  {
   "cell_type": "code",
   "execution_count": 81,
   "id": "f591353f",
   "metadata": {},
   "outputs": [
    {
     "data": {
      "text/plain": [
       "array(300)"
      ]
     },
     "execution_count": 81,
     "metadata": {},
     "output_type": "execute_result"
    }
   ],
   "source": [
    "np.where(a>b and a>c, a,  np.where(b>c,b,c))"
   ]
  },
  {
   "cell_type": "markdown",
   "id": "698c99ab",
   "metadata": {},
   "source": [
    "## "
   ]
  },
  {
   "cell_type": "code",
   "execution_count": 73,
   "id": "a6849bd2",
   "metadata": {},
   "outputs": [],
   "source": [
    "x=np.random.randint(10,30,(5,))"
   ]
  },
  {
   "cell_type": "code",
   "execution_count": 74,
   "id": "a4e3eaad",
   "metadata": {},
   "outputs": [
    {
     "data": {
      "text/plain": [
       "array([17, 15, 29, 21, 20])"
      ]
     },
     "execution_count": 74,
     "metadata": {},
     "output_type": "execute_result"
    }
   ],
   "source": [
    "x"
   ]
  },
  {
   "cell_type": "code",
   "execution_count": 75,
   "id": "c6aa86ce",
   "metadata": {},
   "outputs": [],
   "source": [
    "y=np.random.randint(10,30,(5,))"
   ]
  },
  {
   "cell_type": "code",
   "execution_count": 76,
   "id": "1f0437e8",
   "metadata": {},
   "outputs": [
    {
     "data": {
      "text/plain": [
       "array([26, 28, 12, 17, 10])"
      ]
     },
     "execution_count": 76,
     "metadata": {},
     "output_type": "execute_result"
    }
   ],
   "source": [
    "y"
   ]
  },
  {
   "cell_type": "code",
   "execution_count": 82,
   "id": "81bc3063",
   "metadata": {},
   "outputs": [
    {
     "data": {
      "text/plain": [
       "array([26, 28, 29, 21, 20])"
      ]
     },
     "execution_count": 82,
     "metadata": {},
     "output_type": "execute_result"
    }
   ],
   "source": [
    "np.where(x>y,x,y)"
   ]
  },
  {
   "cell_type": "code",
   "execution_count": null,
   "id": "c2e39759",
   "metadata": {},
   "outputs": [],
   "source": []
  }
 ],
 "metadata": {
  "kernelspec": {
   "display_name": "Python 3 (ipykernel)",
   "language": "python",
   "name": "python3"
  },
  "language_info": {
   "codemirror_mode": {
    "name": "ipython",
    "version": 3
   },
   "file_extension": ".py",
   "mimetype": "text/x-python",
   "name": "python",
   "nbconvert_exporter": "python",
   "pygments_lexer": "ipython3",
   "version": "3.9.13"
  }
 },
 "nbformat": 4,
 "nbformat_minor": 5
}
