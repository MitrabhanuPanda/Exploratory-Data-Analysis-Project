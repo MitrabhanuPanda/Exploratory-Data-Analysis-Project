{
 "cells": [
  {
   "cell_type": "markdown",
   "id": "4975725f",
   "metadata": {},
   "source": [
    "<h1 style=\"text-align : center\"> <font color=\"purple\" size=6> INHERITANCE </h1>"
   ]
  },
  {
   "cell_type": "markdown",
   "id": "da3e90c1",
   "metadata": {},
   "source": [
    "## <font color=\"red\">  a. AGGREGATION </font>\n",
    "* __`HAS A RELATION`__\n",
    "* ONE CLASS OWNS THE OTHER CLASS.\n",
    "* eg:--> \n",
    "    * CUSTOMER HAS A ADDRESS.\n",
    "    * RESTURANT HAS A MENU.\n",
    "* YOU CAN NOT ACCESS PRIVATE VARIABLE. \n",
    "    "
   ]
  },
  {
   "cell_type": "code",
   "execution_count": 6,
   "id": "f1c3adc3",
   "metadata": {},
   "outputs": [],
   "source": [
    "class customer:\n",
    "    \n",
    "    def __init__(self,name,gender,address):\n",
    "        self.name=name\n",
    "        self.gender=gender\n",
    "        self.address=address\n",
    "    \n",
    "    def print_adress(self):\n",
    "        print(self.address.city,self.address.pin,self.address.state)\n",
    "        \n",
    "class Address:\n",
    "    def __init__(self,city,pin,state):\n",
    "        self.city=city\n",
    "        self.pin=pin\n",
    "        self.state=state"
   ]
  },
  {
   "cell_type": "code",
   "execution_count": 7,
   "id": "6f6b0dff",
   "metadata": {},
   "outputs": [
    {
     "name": "stdout",
     "output_type": "stream",
     "text": [
      "BBSR 252023 ODISHA\n"
     ]
    }
   ],
   "source": [
    "adress1=Address(\"BBSR\",252023,\"ODISHA\")\n",
    "cust=customer(\"Mitra\",\"Male\",adress1)\n",
    "cust.print_adress()"
   ]
  },
  {
   "cell_type": "markdown",
   "id": "2d482a39",
   "metadata": {},
   "source": [
    "### <font color=\"brown\"> IF YOU WANT TO ACCESS THE PRIVATE VARIBLE, THEN USE `getter` METHOD </font>"
   ]
  },
  {
   "cell_type": "code",
   "execution_count": 12,
   "id": "31eb4447",
   "metadata": {},
   "outputs": [],
   "source": [
    "class customer:\n",
    "    \n",
    "    def __init__(self,name,gender,address):\n",
    "        self.name=name\n",
    "        self.gender=gender\n",
    "        self.address=address\n",
    "    \n",
    "    def print_adress(self):\n",
    "        print(self.address.get_city(),self.address.pin,self.address.state)\n",
    "        \n",
    "class Address:\n",
    "    def __init__(self,city,pin,state):\n",
    "        self.__city=city\n",
    "        self.pin=pin\n",
    "        self.state=state\n",
    "        \n",
    "    def get_city(self):\n",
    "        return self.__city"
   ]
  },
  {
   "cell_type": "code",
   "execution_count": 13,
   "id": "23ea84f6",
   "metadata": {},
   "outputs": [
    {
     "name": "stdout",
     "output_type": "stream",
     "text": [
      "BBSR 252023 ODISHA\n"
     ]
    }
   ],
   "source": [
    "adress1=Address(\"BBSR\",252023,\"ODISHA\")\n",
    "cust=customer(\"Mitra\",\"Male\",adress1)\n",
    "cust.print_adress()"
   ]
  },
  {
   "cell_type": "markdown",
   "id": "cdb78274",
   "metadata": {},
   "source": [
    "### <font color=\"brown\"> HOW TO ACCESS NEW METHOD FROM CHILD CLASS </font>"
   ]
  },
  {
   "cell_type": "code",
   "execution_count": 14,
   "id": "9acd0e53",
   "metadata": {},
   "outputs": [],
   "source": [
    "class customer:\n",
    "    \n",
    "    def __init__(self,name,gender,address):\n",
    "        self.name=name\n",
    "        self.gender=gender\n",
    "        self.address=address\n",
    "    \n",
    "    def print_adress(self):\n",
    "        print(self.address.city,self.address.pin,self.address.state)\n",
    "       \n",
    "    def edit_profile(self,new_name,new_city,new_pin,new_state):\n",
    "        self.name=new_name\n",
    "        self.address.edit_address(new_city,new_pin,new_state)\n",
    "        \n",
    "class Address:\n",
    "    def __init__(self,city,pin,state):\n",
    "        self.city=city\n",
    "        self.pin=pin\n",
    "        self.state=state\n",
    "        \n",
    "    def edit_address(self,new_city,new_pin,new_state):\n",
    "        self.city=new_city\n",
    "        self.pin=new_pin\n",
    "        self.state=new_state"
   ]
  },
  {
   "cell_type": "code",
   "execution_count": 16,
   "id": "772e45c1",
   "metadata": {},
   "outputs": [
    {
     "name": "stdout",
     "output_type": "stream",
     "text": [
      "CUTTACK 298070 DHAULI\n"
     ]
    }
   ],
   "source": [
    "adress1=Address(\"BBSR\",252023,\"ODISHA\")\n",
    "cust=customer(\"Mitra\",\"Male\",adress1)\n",
    "cust.edit_profile(\"Bhanu\",\"CUTTACK\",298070,\"DHAULI\")\n",
    "cust.print_adress()"
   ]
  },
  {
   "cell_type": "markdown",
   "id": "c0e804b6",
   "metadata": {},
   "source": [
    "### <font color=\"brown\">CLASS DIGRAM</font>"
   ]
  },
  {
   "attachments": {
    "AGGREGATION.png": {
     "image/png": "[encoded data removed]"
    }
   },
   "cell_type": "markdown",
   "id": "6cf41545",
   "metadata": {},
   "source": [
    "![AGGREGATION.png](attachment:AGGREGATION.png)"
   ]
  },
  {
   "cell_type": "markdown",
   "id": "5aaa4412",
   "metadata": {},
   "source": [
    "### "
   ]
  },
  {
   "cell_type": "markdown",
   "id": "bb40394a",
   "metadata": {},
   "source": [
    "## <font color=\"red\">  b. INHERITANCE </font>\n",
    "* IT IS A PROCESS OF INHERITING THE PROPERTIES OF ONE CLASS TO ANOTHER CLASS.\n",
    "\n",
    "\n",
    "* CLASS WHOSE PROPERTIES ARE TRANSFERRED IS CALLED AS PARENT CLASS / BASE CLASS / SUPER CLASS.\n",
    "\n",
    "\n",
    "* CLASS WHICH RECEIVES PROPERTIES ARE CALLED CHILD CLASS / DERIVED CLASS / SUB CLASS."
   ]
  },
  {
   "cell_type": "code",
   "execution_count": 24,
   "id": "743d5de5",
   "metadata": {},
   "outputs": [],
   "source": [
    "# PARENT\n",
    "class user:\n",
    "    \n",
    "    def __init__(self):\n",
    "        self.name=\"Mitra\"\n",
    "        self.rolno=100\n",
    "        \n",
    "    def login(self):\n",
    "        print(\"login\")\n",
    " \n",
    "# CHILD\n",
    "\n",
    "class student(user):\n",
    "        \n",
    "    def enroll(self):\n",
    "        print(\"Enroll into Course\")"
   ]
  },
  {
   "cell_type": "code",
   "execution_count": 25,
   "id": "d8315be1",
   "metadata": {},
   "outputs": [],
   "source": [
    "u = user()\n",
    "s = student()"
   ]
  },
  {
   "cell_type": "code",
   "execution_count": 22,
   "id": "d4aa6704",
   "metadata": {},
   "outputs": [
    {
     "data": {
      "text/plain": [
       "'Mitra'"
      ]
     },
     "execution_count": 22,
     "metadata": {},
     "output_type": "execute_result"
    }
   ],
   "source": [
    "s.name"
   ]
  },
  {
   "cell_type": "code",
   "execution_count": 23,
   "id": "66341184",
   "metadata": {},
   "outputs": [
    {
     "name": "stdout",
     "output_type": "stream",
     "text": [
      "login\n"
     ]
    }
   ],
   "source": [
    "s.login()"
   ]
  },
  {
   "cell_type": "code",
   "execution_count": 26,
   "id": "a6ebe66c",
   "metadata": {},
   "outputs": [
    {
     "data": {
      "text/plain": [
       "100"
      ]
     },
     "execution_count": 26,
     "metadata": {},
     "output_type": "execute_result"
    }
   ],
   "source": [
    "s.rolno"
   ]
  },
  {
   "cell_type": "markdown",
   "id": "b87b81aa",
   "metadata": {},
   "source": [
    "### <font color=\"brown\"> WHAT GETS INHERITED? </font>\n",
    " * CONSTRUCTOR\n",
    " * NON-PRIVATE ATTRIBUTE\n",
    " * NON-PRIVATE METHODS"
   ]
  },
  {
   "cell_type": "code",
   "execution_count": 27,
   "id": "1e5150bc",
   "metadata": {},
   "outputs": [],
   "source": [
    "# constructor example\n",
    "\n",
    "class Phone:\n",
    "    def __init__(self, price, brand, camera):\n",
    "        print (\"Inside phone constructor\")\n",
    "        self.price = price\n",
    "        self.brand = brand\n",
    "        self.camera = camera\n",
    "\n",
    "    def buy(self):\n",
    "        print (\"Buying a phone\")\n",
    "\n",
    "class SmartPhone(Phone):\n",
    "    pass"
   ]
  },
  {
   "cell_type": "code",
   "execution_count": 29,
   "id": "48f80c4b",
   "metadata": {},
   "outputs": [
    {
     "name": "stdout",
     "output_type": "stream",
     "text": [
      "Inside phone constructor\n"
     ]
    }
   ],
   "source": [
    "s=SmartPhone(20000, \"Apple\", 13)\n"
   ]
  },
  {
   "cell_type": "code",
   "execution_count": 30,
   "id": "b3cc65f5",
   "metadata": {},
   "outputs": [
    {
     "name": "stdout",
     "output_type": "stream",
     "text": [
      "Buying a phone\n"
     ]
    }
   ],
   "source": [
    "s.buy()"
   ]
  },
  {
   "cell_type": "markdown",
   "id": "01993e61",
   "metadata": {},
   "source": [
    "<div class=\"alert alert-block alert-info\"style=\"text-align : center\"><b>NOTE:</b><br>IF THERE IS NO CONSTRUCTOR IN CHILD CLASS THEN PARENT CONSTRUCTOR IS CALLED.</div>"
   ]
  },
  {
   "cell_type": "code",
   "execution_count": 33,
   "id": "8ce24ea8",
   "metadata": {},
   "outputs": [],
   "source": [
    "# constructor example 2\n",
    "\n",
    "class Phone:\n",
    "    def __init__(self, price, brand, camera):\n",
    "        print (\"Inside phone constructor\")\n",
    "        self.__price = price\n",
    "        self.brand = brand\n",
    "        self.camera = camera\n",
    "\n",
    "class SmartPhone(Phone):\n",
    "    def __init__(self, os, ram):\n",
    "        self.os = os\n",
    "        self.ram = ram\n",
    "        print (\"Inside SmartPhone constructor\")\n"
   ]
  },
  {
   "cell_type": "code",
   "execution_count": 34,
   "id": "5c9c39b0",
   "metadata": {},
   "outputs": [
    {
     "name": "stdout",
     "output_type": "stream",
     "text": [
      "Inside SmartPhone constructor\n"
     ]
    }
   ],
   "source": [
    "s=SmartPhone(\"Android\", 2)"
   ]
  },
  {
   "cell_type": "code",
   "execution_count": 35,
   "id": "53b703f2",
   "metadata": {},
   "outputs": [
    {
     "ename": "AttributeError",
     "evalue": "'SmartPhone' object has no attribute 'brand'",
     "output_type": "error",
     "traceback": [
      "\u001b[1;31m---------------------------------------------------------------------------\u001b[0m",
      "\u001b[1;31mAttributeError\u001b[0m                            Traceback (most recent call last)",
      "\u001b[1;32m~\\AppData\\Local\\Temp\\ipykernel_31288\\4068866006.py\u001b[0m in \u001b[0;36m<module>\u001b[1;34m\u001b[0m\n\u001b[1;32m----> 1\u001b[1;33m \u001b[0ms\u001b[0m\u001b[1;33m.\u001b[0m\u001b[0mbrand\u001b[0m\u001b[1;33m\u001b[0m\u001b[1;33m\u001b[0m\u001b[0m\n\u001b[0m",
      "\u001b[1;31mAttributeError\u001b[0m: 'SmartPhone' object has no attribute 'brand'"
     ]
    }
   ],
   "source": [
    "s.brand"
   ]
  },
  {
   "cell_type": "markdown",
   "id": "a4d6ab20",
   "metadata": {},
   "source": [
    "<div class=\"alert alert-block alert-info\"style=\"text-align : center\"><b>NOTE:</b><br>IF THERE IS A CONSTRUCTOR IN CHILD CLASS THEN PARENT CONSTRUCTOR IS NOT CALLED,THAT MEANS THE PARENT CONSTRUCTOR IS NOT EXECUTED.</div>"
   ]
  },
  {
   "cell_type": "code",
   "execution_count": 37,
   "id": "344befa9",
   "metadata": {},
   "outputs": [
    {
     "name": "stdout",
     "output_type": "stream",
     "text": [
      "Inside phone constructor\n"
     ]
    }
   ],
   "source": [
    "# child can't access private members of the class\n",
    "\n",
    "class Phone:\n",
    "    def __init__(self, price, brand, camera):\n",
    "        print (\"Inside phone constructor\")\n",
    "        self.__price = price\n",
    "        self.brand = brand\n",
    "        self.camera = camera\n",
    "\n",
    "    #getter\n",
    "    def show(self):\n",
    "        print (self.__price)\n",
    "\n",
    "class SmartPhone(Phone):\n",
    "    def check(self):\n",
    "        print(self.__price)\n",
    "\n",
    "s=SmartPhone(20000, \"Apple\", 13)\n"
   ]
  },
  {
   "cell_type": "code",
   "execution_count": 38,
   "id": "e23e8e8b",
   "metadata": {},
   "outputs": [
    {
     "ename": "AttributeError",
     "evalue": "'SmartPhone' object has no attribute '_SmartPhone__price'",
     "output_type": "error",
     "traceback": [
      "\u001b[1;31m---------------------------------------------------------------------------\u001b[0m",
      "\u001b[1;31mAttributeError\u001b[0m                            Traceback (most recent call last)",
      "\u001b[1;32m~\\AppData\\Local\\Temp\\ipykernel_31288\\2405246952.py\u001b[0m in \u001b[0;36m<module>\u001b[1;34m\u001b[0m\n\u001b[1;32m----> 1\u001b[1;33m \u001b[0ms\u001b[0m\u001b[1;33m.\u001b[0m\u001b[0mcheck\u001b[0m\u001b[1;33m(\u001b[0m\u001b[1;33m)\u001b[0m\u001b[1;33m\u001b[0m\u001b[1;33m\u001b[0m\u001b[0m\n\u001b[0m",
      "\u001b[1;32m~\\AppData\\Local\\Temp\\ipykernel_31288\\442981774.py\u001b[0m in \u001b[0;36mcheck\u001b[1;34m(self)\u001b[0m\n\u001b[0;32m     14\u001b[0m \u001b[1;32mclass\u001b[0m \u001b[0mSmartPhone\u001b[0m\u001b[1;33m(\u001b[0m\u001b[0mPhone\u001b[0m\u001b[1;33m)\u001b[0m\u001b[1;33m:\u001b[0m\u001b[1;33m\u001b[0m\u001b[1;33m\u001b[0m\u001b[0m\n\u001b[0;32m     15\u001b[0m     \u001b[1;32mdef\u001b[0m \u001b[0mcheck\u001b[0m\u001b[1;33m(\u001b[0m\u001b[0mself\u001b[0m\u001b[1;33m)\u001b[0m\u001b[1;33m:\u001b[0m\u001b[1;33m\u001b[0m\u001b[1;33m\u001b[0m\u001b[0m\n\u001b[1;32m---> 16\u001b[1;33m         \u001b[0mprint\u001b[0m\u001b[1;33m(\u001b[0m\u001b[0mself\u001b[0m\u001b[1;33m.\u001b[0m\u001b[0m__price\u001b[0m\u001b[1;33m)\u001b[0m\u001b[1;33m\u001b[0m\u001b[1;33m\u001b[0m\u001b[0m\n\u001b[0m\u001b[0;32m     17\u001b[0m \u001b[1;33m\u001b[0m\u001b[0m\n\u001b[0;32m     18\u001b[0m \u001b[0ms\u001b[0m\u001b[1;33m=\u001b[0m\u001b[0mSmartPhone\u001b[0m\u001b[1;33m(\u001b[0m\u001b[1;36m20000\u001b[0m\u001b[1;33m,\u001b[0m \u001b[1;34m\"Apple\"\u001b[0m\u001b[1;33m,\u001b[0m \u001b[1;36m13\u001b[0m\u001b[1;33m)\u001b[0m\u001b[1;33m\u001b[0m\u001b[1;33m\u001b[0m\u001b[0m\n",
      "\u001b[1;31mAttributeError\u001b[0m: 'SmartPhone' object has no attribute '_SmartPhone__price'"
     ]
    }
   ],
   "source": [
    "s.check()"
   ]
  },
  {
   "cell_type": "code",
   "execution_count": 39,
   "id": "4c918a04",
   "metadata": {},
   "outputs": [
    {
     "data": {
      "text/plain": [
       "'Apple'"
      ]
     },
     "execution_count": 39,
     "metadata": {},
     "output_type": "execute_result"
    }
   ],
   "source": [
    "s.brand"
   ]
  },
  {
   "cell_type": "code",
   "execution_count": 40,
   "id": "13a183be",
   "metadata": {},
   "outputs": [
    {
     "name": "stdout",
     "output_type": "stream",
     "text": [
      "20000\n"
     ]
    }
   ],
   "source": [
    "s.show()"
   ]
  },
  {
   "cell_type": "code",
   "execution_count": 41,
   "id": "cff6d87d",
   "metadata": {},
   "outputs": [
    {
     "name": "stdout",
     "output_type": "stream",
     "text": [
      "100\n",
      "This is in child class\n"
     ]
    }
   ],
   "source": [
    "# eg\n",
    "\n",
    "class Parent:\n",
    "\n",
    "    def __init__(self,num):\n",
    "        self.__num=num\n",
    "    \n",
    "    # getter \n",
    "    def get_num(self):\n",
    "        return self.__num\n",
    "\n",
    "class Child(Parent):\n",
    "\n",
    "    def show(self):\n",
    "        print(\"This is in child class\")\n",
    "        \n",
    "son=Child(100)\n",
    "print(son.get_num())\n",
    "son.show()"
   ]
  },
  {
   "cell_type": "code",
   "execution_count": 42,
   "id": "be801cf9",
   "metadata": {},
   "outputs": [
    {
     "ename": "AttributeError",
     "evalue": "'Child' object has no attribute '_Parent__num'",
     "output_type": "error",
     "traceback": [
      "\u001b[1;31m---------------------------------------------------------------------------\u001b[0m",
      "\u001b[1;31mAttributeError\u001b[0m                            Traceback (most recent call last)",
      "\u001b[1;32m~\\AppData\\Local\\Temp\\ipykernel_31288\\4235937221.py\u001b[0m in \u001b[0;36m<module>\u001b[1;34m\u001b[0m\n\u001b[0;32m     18\u001b[0m \u001b[1;33m\u001b[0m\u001b[0m\n\u001b[0;32m     19\u001b[0m \u001b[0mson\u001b[0m\u001b[1;33m=\u001b[0m\u001b[0mChild\u001b[0m\u001b[1;33m(\u001b[0m\u001b[1;36m100\u001b[0m\u001b[1;33m,\u001b[0m\u001b[1;36m10\u001b[0m\u001b[1;33m)\u001b[0m\u001b[1;33m\u001b[0m\u001b[1;33m\u001b[0m\u001b[0m\n\u001b[1;32m---> 20\u001b[1;33m \u001b[0mprint\u001b[0m\u001b[1;33m(\u001b[0m\u001b[1;34m\"Parent: Num:\"\u001b[0m\u001b[1;33m,\u001b[0m\u001b[0mson\u001b[0m\u001b[1;33m.\u001b[0m\u001b[0mget_num\u001b[0m\u001b[1;33m(\u001b[0m\u001b[1;33m)\u001b[0m\u001b[1;33m)\u001b[0m\u001b[1;33m\u001b[0m\u001b[1;33m\u001b[0m\u001b[0m\n\u001b[0m\u001b[0;32m     21\u001b[0m \u001b[0mprint\u001b[0m\u001b[1;33m(\u001b[0m\u001b[1;34m\"Child: Val:\"\u001b[0m\u001b[1;33m,\u001b[0m\u001b[0mson\u001b[0m\u001b[1;33m.\u001b[0m\u001b[0mget_val\u001b[0m\u001b[1;33m(\u001b[0m\u001b[1;33m)\u001b[0m\u001b[1;33m)\u001b[0m\u001b[1;33m\u001b[0m\u001b[1;33m\u001b[0m\u001b[0m\n",
      "\u001b[1;32m~\\AppData\\Local\\Temp\\ipykernel_31288\\4235937221.py\u001b[0m in \u001b[0;36mget_num\u001b[1;34m(self)\u001b[0m\n\u001b[0;32m      7\u001b[0m \u001b[1;33m\u001b[0m\u001b[0m\n\u001b[0;32m      8\u001b[0m     \u001b[1;32mdef\u001b[0m \u001b[0mget_num\u001b[0m\u001b[1;33m(\u001b[0m\u001b[0mself\u001b[0m\u001b[1;33m)\u001b[0m\u001b[1;33m:\u001b[0m\u001b[1;33m\u001b[0m\u001b[1;33m\u001b[0m\u001b[0m\n\u001b[1;32m----> 9\u001b[1;33m         \u001b[1;32mreturn\u001b[0m \u001b[0mself\u001b[0m\u001b[1;33m.\u001b[0m\u001b[0m__num\u001b[0m\u001b[1;33m\u001b[0m\u001b[1;33m\u001b[0m\u001b[0m\n\u001b[0m\u001b[0;32m     10\u001b[0m \u001b[1;33m\u001b[0m\u001b[0m\n\u001b[0;32m     11\u001b[0m \u001b[1;32mclass\u001b[0m \u001b[0mChild\u001b[0m\u001b[1;33m(\u001b[0m\u001b[0mParent\u001b[0m\u001b[1;33m)\u001b[0m\u001b[1;33m:\u001b[0m\u001b[1;33m\u001b[0m\u001b[1;33m\u001b[0m\u001b[0m\n",
      "\u001b[1;31mAttributeError\u001b[0m: 'Child' object has no attribute '_Parent__num'"
     ]
    }
   ],
   "source": [
    "# eg\n",
    "\n",
    "class Parent:\n",
    "\n",
    "    def __init__(self,num):\n",
    "        self.__num=num\n",
    "\n",
    "    def get_num(self):\n",
    "        return self.__num\n",
    "\n",
    "class Child(Parent):\n",
    "\n",
    "    def __init__(self,val,num):\n",
    "        self.__val=val\n",
    "\n",
    "    def get_val(self):\n",
    "        return self.__val\n",
    "        \n",
    "son=Child(100,10)\n",
    "print(\"Parent: Num:\",son.get_num())\n",
    "print(\"Child: Val:\",son.get_val())"
   ]
  },
  {
   "cell_type": "code",
   "execution_count": 43,
   "id": "a5685dd7",
   "metadata": {},
   "outputs": [
    {
     "name": "stdout",
     "output_type": "stream",
     "text": [
      "class A : 100\n"
     ]
    }
   ],
   "source": [
    "# eg\n",
    "\n",
    "class A:\n",
    "    def __init__(self):\n",
    "        self.var1=100\n",
    "\n",
    "    def display1(self,var1):\n",
    "        print(\"class A :\", self.var1)\n",
    "class B(A):\n",
    "  \n",
    "    def display2(self,var1):\n",
    "        print(\"class B :\", self.var1)\n",
    "\n",
    "obj=B()\n",
    "obj.display1(200)"
   ]
  },
  {
   "cell_type": "code",
   "execution_count": 44,
   "id": "60c5a3c4",
   "metadata": {},
   "outputs": [
    {
     "name": "stdout",
     "output_type": "stream",
     "text": [
      "Inside phone constructor\n",
      "Buying a smartphone\n"
     ]
    }
   ],
   "source": [
    "# Method Overriding\n",
    "\n",
    "class Phone:\n",
    "    def __init__(self, price, brand, camera):\n",
    "        print (\"Inside phone constructor\")\n",
    "        self.__price = price\n",
    "        self.brand = brand\n",
    "        self.camera = camera\n",
    "\n",
    "    def buy(self):\n",
    "        print (\"Buying a phone\")\n",
    "\n",
    "class SmartPhone(Phone):\n",
    "    def buy(self):\n",
    "        print (\"Buying a smartphone\")\n",
    "\n",
    "s=SmartPhone(20000, \"Apple\", 13)\n",
    "\n",
    "s.buy()"
   ]
  },
  {
   "cell_type": "markdown",
   "id": "2c5713fa",
   "metadata": {},
   "source": [
    "<div class=\"alert alert-block alert-info\"style=\"text-align : center\"><b>NOTE:</b><br> PARENT CLASS & CHILD CLASS HAVE SAME METHOD,THEN THE CHILD CLASS'S METHOD IS EXECUTED.THIS IS CALLED METHOD OVERRIDDING.</div>"
   ]
  },
  {
   "cell_type": "markdown",
   "id": "182c707c",
   "metadata": {},
   "source": [
    "### <font color=\"brown\"> __`super`__ KEYWORD </font>\n",
    "* THE `super` KEYWORD IS USED TO GIVE ACCESS TO METHODS & PROPERTIES OF A PARENT or SIBLING CLASS.\n",
    "\n",
    "\n",
    "* THE `super` KEYWORD RETURNS AN OBJECT THAT REPRESENTS THE PARENT CLASS."
   ]
  },
  {
   "cell_type": "code",
   "execution_count": 45,
   "id": "8576bcdb",
   "metadata": {},
   "outputs": [
    {
     "name": "stdout",
     "output_type": "stream",
     "text": [
      "Inside phone constructor\n",
      "Buying a smartphone\n",
      "Buying a phone\n"
     ]
    }
   ],
   "source": [
    "class Phone:\n",
    "    def __init__(self, price, brand, camera):\n",
    "        print (\"Inside phone constructor\")\n",
    "        self.__price = price\n",
    "        self.brand = brand\n",
    "        self.camera = camera\n",
    "\n",
    "    def buy(self):\n",
    "        print (\"Buying a phone\")\n",
    "\n",
    "class SmartPhone(Phone):\n",
    "    def buy(self):\n",
    "        print (\"Buying a smartphone\")\n",
    "        # syntax to call parent ka buy method\n",
    "        super().buy()\n",
    "\n",
    "s=SmartPhone(20000, \"Apple\", 13)\n",
    "\n",
    "s.buy()"
   ]
  },
  {
   "cell_type": "markdown",
   "id": "f2ccc9b2",
   "metadata": {},
   "source": [
    "<div class=\"alert alert-block alert-info\"style=\"text-align : center\"><b>NOTE:</b><br>IN SIMPLE WORD IF WE HAVE SAME METHODS IN PARENT AS WELL AS CHILD CLASS, & WE WANT TO ACCESS THIS METHOD FROM PARENT CLASS INSIDE CHILD CLASS, IN THAT TIME WE USE `super` KEYWORD </div>"
   ]
  },
  {
   "cell_type": "code",
   "execution_count": 46,
   "id": "95364d89",
   "metadata": {},
   "outputs": [
    {
     "name": "stdout",
     "output_type": "stream",
     "text": [
      "Inside smartphone constructor\n",
      "Inside phone constructor\n",
      "Inside smartphone constructor\n",
      "Android\n",
      "Samsung\n"
     ]
    }
   ],
   "source": [
    "# super -> constuctor\n",
    "class Phone:\n",
    "    def __init__(self, price, brand, camera):\n",
    "        print (\"Inside phone constructor\")\n",
    "        self.__price = price\n",
    "        self.brand = brand\n",
    "        self.camera = camera\n",
    "\n",
    "class SmartPhone(Phone):\n",
    "    def __init__(self, price, brand, camera, os, ram):\n",
    "        print('Inside smartphone constructor')\n",
    "        super().__init__(price, brand, camera)\n",
    "        self.os = os\n",
    "        self.ram = ram\n",
    "        print (\"Inside smartphone constructor\")\n",
    "\n",
    "s=SmartPhone(20000, \"Samsung\", 12, \"Android\", 2)\n",
    "\n",
    "print(s.os)\n",
    "print(s.brand)"
   ]
  },
  {
   "cell_type": "code",
   "execution_count": 47,
   "id": "9d940a04",
   "metadata": {},
   "outputs": [
    {
     "name": "stdout",
     "output_type": "stream",
     "text": [
      "Inside phone constructor\n",
      "Buying a smartphone\n",
      "Buying a phone\n"
     ]
    }
   ],
   "source": [
    "# using super outside the class\n",
    "\n",
    "class Phone:\n",
    "    def __init__(self, price, brand, camera):\n",
    "        print (\"Inside phone constructor\")\n",
    "        self.__price = price\n",
    "        self.brand = brand\n",
    "        self.camera = camera\n",
    "\n",
    "    def buy(self):\n",
    "        print (\"Buying a phone\")\n",
    "\n",
    "class SmartPhone(Phone):\n",
    "    def buy(self):\n",
    "        print (\"Buying a smartphone\")\n",
    "        # syntax to call parent ka buy method\n",
    "        super().buy()\n",
    "\n",
    "s=SmartPhone(20000, \"Apple\", 13)\n",
    "\n",
    "s.buy()"
   ]
  },
  {
   "cell_type": "code",
   "execution_count": 51,
   "id": "6b6244b9",
   "metadata": {},
   "outputs": [
    {
     "name": "stdout",
     "output_type": "stream",
     "text": [
      "Inside phone constructor\n"
     ]
    },
    {
     "ename": "AttributeError",
     "evalue": "'SmartPhone' object has no attribute 'super'",
     "output_type": "error",
     "traceback": [
      "\u001b[1;31m---------------------------------------------------------------------------\u001b[0m",
      "\u001b[1;31mAttributeError\u001b[0m                            Traceback (most recent call last)",
      "\u001b[1;32m~\\AppData\\Local\\Temp\\ipykernel_31288\\1967222902.py\u001b[0m in \u001b[0;36m<module>\u001b[1;34m\u001b[0m\n\u001b[0;32m     18\u001b[0m \u001b[1;33m\u001b[0m\u001b[0m\n\u001b[0;32m     19\u001b[0m \u001b[0ms\u001b[0m\u001b[1;33m=\u001b[0m\u001b[0mSmartPhone\u001b[0m\u001b[1;33m(\u001b[0m\u001b[1;36m20000\u001b[0m\u001b[1;33m,\u001b[0m \u001b[1;34m\"Apple\"\u001b[0m\u001b[1;33m,\u001b[0m \u001b[1;36m13\u001b[0m\u001b[1;33m)\u001b[0m\u001b[1;33m\u001b[0m\u001b[1;33m\u001b[0m\u001b[0m\n\u001b[1;32m---> 20\u001b[1;33m \u001b[0ms\u001b[0m\u001b[1;33m.\u001b[0m\u001b[0msuper\u001b[0m\u001b[1;33m(\u001b[0m\u001b[1;33m)\u001b[0m\u001b[1;33m.\u001b[0m\u001b[0mbuy\u001b[0m\u001b[1;33m(\u001b[0m\u001b[1;33m)\u001b[0m\u001b[1;33m\u001b[0m\u001b[1;33m\u001b[0m\u001b[0m\n\u001b[0m",
      "\u001b[1;31mAttributeError\u001b[0m: 'SmartPhone' object has no attribute 'super'"
     ]
    }
   ],
   "source": [
    "# using super outside the class\n",
    "\n",
    "class Phone:\n",
    "    def __init__(self, price, brand, camera):\n",
    "        print (\"Inside phone constructor\")\n",
    "        self.__price = price\n",
    "        self.brand = brand\n",
    "        self.camera = camera\n",
    "\n",
    "    def buy(self):\n",
    "        print (\"Buying a phone\")\n",
    "\n",
    "class SmartPhone(Phone):\n",
    "    def buy(self):\n",
    "        print (\"Buying a smartphone\")\n",
    "        # syntax to call parent ka buy method\n",
    "        \n",
    "\n",
    "s=SmartPhone(20000, \"Apple\", 13)\n",
    "s.super().buy()\n"
   ]
  },
  {
   "cell_type": "code",
   "execution_count": 48,
   "id": "b7ec4f45",
   "metadata": {},
   "outputs": [
    {
     "name": "stdout",
     "output_type": "stream",
     "text": [
      "Inside phone constructor\n",
      "Buying a smartphone\n"
     ]
    },
    {
     "ename": "AttributeError",
     "evalue": "'super' object has no attribute 'brand'",
     "output_type": "error",
     "traceback": [
      "\u001b[1;31m---------------------------------------------------------------------------\u001b[0m",
      "\u001b[1;31mAttributeError\u001b[0m                            Traceback (most recent call last)",
      "\u001b[1;32m~\\AppData\\Local\\Temp\\ipykernel_31288\\3026210146.py\u001b[0m in \u001b[0;36m<module>\u001b[1;34m\u001b[0m\n\u001b[0;32m     19\u001b[0m \u001b[0ms\u001b[0m\u001b[1;33m=\u001b[0m\u001b[0mSmartPhone\u001b[0m\u001b[1;33m(\u001b[0m\u001b[1;36m20000\u001b[0m\u001b[1;33m,\u001b[0m \u001b[1;34m\"Apple\"\u001b[0m\u001b[1;33m,\u001b[0m \u001b[1;36m13\u001b[0m\u001b[1;33m)\u001b[0m\u001b[1;33m\u001b[0m\u001b[1;33m\u001b[0m\u001b[0m\n\u001b[0;32m     20\u001b[0m \u001b[1;33m\u001b[0m\u001b[0m\n\u001b[1;32m---> 21\u001b[1;33m \u001b[0ms\u001b[0m\u001b[1;33m.\u001b[0m\u001b[0mbuy\u001b[0m\u001b[1;33m(\u001b[0m\u001b[1;33m)\u001b[0m\u001b[1;33m\u001b[0m\u001b[1;33m\u001b[0m\u001b[0m\n\u001b[0m",
      "\u001b[1;32m~\\AppData\\Local\\Temp\\ipykernel_31288\\3026210146.py\u001b[0m in \u001b[0;36mbuy\u001b[1;34m(self)\u001b[0m\n\u001b[0;32m     15\u001b[0m         \u001b[0mprint\u001b[0m \u001b[1;33m(\u001b[0m\u001b[1;34m\"Buying a smartphone\"\u001b[0m\u001b[1;33m)\u001b[0m\u001b[1;33m\u001b[0m\u001b[1;33m\u001b[0m\u001b[0m\n\u001b[0;32m     16\u001b[0m         \u001b[1;31m# syntax to call parent ka buy method\u001b[0m\u001b[1;33m\u001b[0m\u001b[1;33m\u001b[0m\u001b[0m\n\u001b[1;32m---> 17\u001b[1;33m         \u001b[0mprint\u001b[0m\u001b[1;33m(\u001b[0m\u001b[0msuper\u001b[0m\u001b[1;33m(\u001b[0m\u001b[1;33m)\u001b[0m\u001b[1;33m.\u001b[0m\u001b[0mbrand\u001b[0m\u001b[1;33m)\u001b[0m\u001b[1;33m\u001b[0m\u001b[1;33m\u001b[0m\u001b[0m\n\u001b[0m\u001b[0;32m     18\u001b[0m \u001b[1;33m\u001b[0m\u001b[0m\n\u001b[0;32m     19\u001b[0m \u001b[0ms\u001b[0m\u001b[1;33m=\u001b[0m\u001b[0mSmartPhone\u001b[0m\u001b[1;33m(\u001b[0m\u001b[1;36m20000\u001b[0m\u001b[1;33m,\u001b[0m \u001b[1;34m\"Apple\"\u001b[0m\u001b[1;33m,\u001b[0m \u001b[1;36m13\u001b[0m\u001b[1;33m)\u001b[0m\u001b[1;33m\u001b[0m\u001b[1;33m\u001b[0m\u001b[0m\n",
      "\u001b[1;31mAttributeError\u001b[0m: 'super' object has no attribute 'brand'"
     ]
    }
   ],
   "source": [
    "# can super access parent ka data?\n",
    "# using super outside the class\n",
    "\n",
    "class Phone:\n",
    "    def __init__(self, price, brand, camera):\n",
    "        print (\"Inside phone constructor\")\n",
    "        self.__price = price\n",
    "        self.brand = brand\n",
    "        self.camera = camera\n",
    "\n",
    "    def buy(self):\n",
    "        print (\"Buying a phone\")\n",
    "\n",
    "class SmartPhone(Phone):\n",
    "    def buy(self):\n",
    "        print (\"Buying a smartphone\")\n",
    "        # syntax to call parent ka buy method\n",
    "        print(super().brand)\n",
    "\n",
    "s=SmartPhone(20000, \"Apple\", 13)\n",
    "\n",
    "s.buy()"
   ]
  },
  {
   "cell_type": "markdown",
   "id": "25b535a1",
   "metadata": {},
   "source": [
    "### INHERITANCE SUMMARY:\n",
    "* A CLASS CAN INHERIT FROM ANOTHER CLASS.\n",
    "\n",
    "\n",
    "* INHERITANCE IMPROVES CODE REUSE.\n",
    "\n",
    "\n",
    "* CONSTRUCTOR, ATTRIBUTES, METHODS GET INHERITED TO THE CHILD CLASS.\n",
    "\n",
    "\n",
    "* THE PARENT HAS NO ACCESS TO THE CHILD CLASS.\n",
    "\n",
    "\n",
    "* PRIVATE PROPERTIES OF PARENT ARE NOT ACCESSIBLE DIRECTLY IN CHILD CLASS.\n",
    "\n",
    "\n",
    "* CHILD CLASS CAN OVERRIDE THE ATTRIBUTES or METHODS. THIS IS CALLED `METHOD OVERRIDING`.\n",
    "\n",
    "\n",
    "* `super()` IS AN BUILT-IN FUNCTION WHICH IS USED TO INVOKE THE PARENT CLASS METHODS & CONSTRUCTOR."
   ]
  },
  {
   "cell_type": "code",
   "execution_count": 52,
   "id": "47981fce",
   "metadata": {},
   "outputs": [
    {
     "name": "stdout",
     "output_type": "stream",
     "text": [
      "100\n",
      "200\n"
     ]
    }
   ],
   "source": [
    "# eg\n",
    "\n",
    "class Parent:\n",
    "\n",
    "    def __init__(self,num):\n",
    "      self.__num=num\n",
    "\n",
    "    def get_num(self):\n",
    "      return self.__num\n",
    "\n",
    "class Child(Parent):\n",
    "  \n",
    "    def __init__(self,num,val):\n",
    "      super().__init__(num)\n",
    "      self.__val=val\n",
    "\n",
    "    def get_val(self):\n",
    "      return self.__val\n",
    "      \n",
    "son=Child(100,200)\n",
    "print(son.get_num())\n",
    "print(son.get_val())"
   ]
  },
  {
   "cell_type": "code",
   "execution_count": 53,
   "id": "8b1f73d2",
   "metadata": {},
   "outputs": [
    {
     "name": "stdout",
     "output_type": "stream",
     "text": [
      "100\n",
      "200\n"
     ]
    }
   ],
   "source": [
    "# eg\n",
    "\n",
    "class Parent:\n",
    "    def __init__(self):\n",
    "        self.num=100\n",
    "\n",
    "class Child(Parent):\n",
    "\n",
    "    def __init__(self):\n",
    "        super().__init__()\n",
    "        self.var=200\n",
    "        \n",
    "    def show(self):\n",
    "        print(self.num)\n",
    "        print(self.var)\n",
    "\n",
    "son=Child()\n",
    "son.show()"
   ]
  },
  {
   "cell_type": "code",
   "execution_count": 54,
   "id": "58cb3e61",
   "metadata": {},
   "outputs": [
    {
     "name": "stdout",
     "output_type": "stream",
     "text": [
      "Child: 10\n"
     ]
    }
   ],
   "source": [
    "# eg\n",
    "\n",
    "class Parent:\n",
    "    def __init__(self):\n",
    "        self.__num=100\n",
    "\n",
    "    def show(self):\n",
    "        print(\"Parent:\",self.__num)\n",
    "\n",
    "class Child(Parent):\n",
    "    def __init__(self):\n",
    "        super().__init__()\n",
    "        self.__var=10\n",
    "\n",
    "    def show(self):\n",
    "        print(\"Child:\",self.__var)\n",
    "\n",
    "obj=Child()\n",
    "obj.show()"
   ]
  },
  {
   "cell_type": "code",
   "execution_count": 55,
   "id": "291db277",
   "metadata": {},
   "outputs": [
    {
     "name": "stdout",
     "output_type": "stream",
     "text": [
      "Child: 10\n"
     ]
    }
   ],
   "source": [
    "# eg\n",
    "\n",
    "class Parent:\n",
    "    def __init__(self):\n",
    "        self.__num=100\n",
    "\n",
    "    def show(self):\n",
    "        print(\"Parent:\",self.__num)\n",
    "\n",
    "class Child(Parent):\n",
    "    def __init__(self):\n",
    "        super().__init__()\n",
    "        self.__var=10\n",
    "\n",
    "    def show(self):\n",
    "        print(\"Child:\",self.__var)\n",
    "\n",
    "obj=Child()\n",
    "obj.show()"
   ]
  },
  {
   "cell_type": "markdown",
   "id": "b52f2b28",
   "metadata": {},
   "source": [
    "### <font color=\"brown\">CLASS DIGRAM</font>"
   ]
  },
  {
   "attachments": {
    "INHERITENT.png": {
     "image/png": "[encoded data removed]"
    }
   },
   "cell_type": "markdown",
   "id": "dbb32693",
   "metadata": {},
   "source": [
    "![INHERITENT.png](attachment:INHERITENT.png)"
   ]
  },
  {
   "cell_type": "code",
   "execution_count": null,
   "id": "7366b4cf",
   "metadata": {},
   "outputs": [],
   "source": []
  },
  {
   "cell_type": "markdown",
   "id": "28f01ef5",
   "metadata": {},
   "source": [
    "## <font color=\"dark blue\">TYPES OF INHERITANCE:</font>"
   ]
  },
  {
   "cell_type": "markdown",
   "id": "87d760c8",
   "metadata": {},
   "source": [
    "### <font color=\"blue\">a. SIMPLE INHERITANCE / SINGLE INHERITANCE </font>\n",
    "* IT IS ONE-LEVEL INHERITANCE WHERE SINGLE PARENT PROPERTIES ARE INHERITED TO SINGLE CHILD CLASS."
   ]
  },
  {
   "attachments": {
    "SIMPLE%20INHERITANT.png": {
     "image/png": "[encoded data removed]"
    }
   },
   "cell_type": "markdown",
   "id": "419c4ad9",
   "metadata": {},
   "source": [
    "![SIMPLE%20INHERITANT.png](attachment:SIMPLE%20INHERITANT.png)"
   ]
  },
  {
   "cell_type": "code",
   "execution_count": 61,
   "id": "dbaae068",
   "metadata": {},
   "outputs": [
    {
     "name": "stdout",
     "output_type": "stream",
     "text": [
      "Delhi\n",
      "This is from A1 method of Class A\n",
      "300\n",
      "________________________________\n",
      "India\n",
      "This is from B1 method of Class B\n",
      "30\n",
      "_________________________________\n",
      "Delhi\n",
      "This is from A1 method of Class A\n",
      "300\n"
     ]
    }
   ],
   "source": [
    "# eg\n",
    "\n",
    "class A:\n",
    "    city=\"Delhi\"\n",
    "    def a1(self,n1,n2):\n",
    "        print(\"This is from A1 method of Class A\")\n",
    "        \n",
    "        self.num1=100\n",
    "        self.num2=200\n",
    "        \n",
    "        \n",
    "        a=self.num1+self.num2\n",
    "        print(a)\n",
    "        \n",
    "        self.num1=n1\n",
    "        self.num2=n2\n",
    "        \n",
    "class B(A):\n",
    "    country=\"India\"\n",
    "    \n",
    "    def b1(self,n1,n2):\n",
    "        print(\"This is from B1 method of Class B\")\n",
    "        \n",
    "        m=n1+n2\n",
    "        print(m)\n",
    "        \n",
    "obj_a=A()\n",
    "print(obj_a.city)\n",
    "obj_a.a1(20,30)\n",
    "print(\"________________________________\")\n",
    "obj_b=B()\n",
    "print(obj_b.country)\n",
    "obj_b.b1(10,20)\n",
    "print(\"_________________________________\")\n",
    "print(obj_b.city)\n",
    "obj_b.a1(20,30)"
   ]
  },
  {
   "cell_type": "code",
   "execution_count": 60,
   "id": "3be6db74",
   "metadata": {},
   "outputs": [
    {
     "name": "stdout",
     "output_type": "stream",
     "text": [
      "Inside phone constructor\n",
      "Buying a phone\n"
     ]
    }
   ],
   "source": [
    "# eg\n",
    "\n",
    "class Phone:\n",
    "    def __init__(self, price, brand, camera):\n",
    "        print (\"Inside phone constructor\")\n",
    "        self.__price = price\n",
    "        self.brand = brand\n",
    "        self.camera = camera\n",
    "\n",
    "    def buy(self):\n",
    "        print (\"Buying a phone\")\n",
    "\n",
    "class SmartPhone(Phone):\n",
    "    pass\n",
    "\n",
    "SmartPhone(1000,\"Apple\",\"13px\").buy()"
   ]
  },
  {
   "cell_type": "markdown",
   "id": "941a8099",
   "metadata": {},
   "source": [
    "### <font color=\"blue\">b. MULTI-LEVEL INHERITANCE  </font>\n",
    "* IT IS CONBINATION OF MULTIPLE LEVELS OF INHERITANCES.\n",
    "\n",
    "\n",
    "* IN THIS PARENT PROPERTIES ARE INHERITETED TO CHILD & CHILD CLASS PROPERTIES ARE INHERITED TO GRAND CHILD CLASS.\n",
    "\n",
    "\n",
    "* GRAND CHILD CAN ACCESS MEMBER OF PARENT CLASS, CHILD CLASS, GRAND CHILD CLASS.\n"
   ]
  },
  {
   "attachments": {
    "MULILEVEL%20INHERITANT.png": {
     "image/png": "[encoded data removed]"
    }
   },
   "cell_type": "markdown",
   "id": "abb32103",
   "metadata": {},
   "source": [
    "![MULILEVEL%20INHERITANT.png](attachment:MULILEVEL%20INHERITANT.png)"
   ]
  },
  {
   "cell_type": "code",
   "execution_count": 57,
   "id": "b66eaa29",
   "metadata": {},
   "outputs": [
    {
     "name": "stdout",
     "output_type": "stream",
     "text": [
      "This is from Parent Class method\n",
      "9 * 1 == 9\n",
      "9 * 2 == 18\n",
      "9 * 3 == 27\n",
      "9 * 4 == 36\n",
      "9 * 5 == 45\n",
      "9 * 6 == 54\n",
      "9 * 7 == 63\n",
      "9 * 8 == 72\n",
      "9 * 9 == 81\n",
      "9 * 10 == 90\n",
      "_____________________________________________\n",
      "\n",
      "This is from Child Class method\n",
      "12 * 1 == 12\n",
      "12 * 2 == 24\n",
      "12 * 3 == 36\n",
      "12 * 4 == 48\n",
      "12 * 5 == 60\n",
      "12 * 6 == 72\n",
      "12 * 7 == 84\n",
      "12 * 8 == 96\n",
      "12 * 9 == 108\n",
      "12 * 10 == 120\n",
      "*******************************************\n",
      "This is from Parent Class method\n",
      "9 * 1 == 9\n",
      "9 * 2 == 18\n",
      "9 * 3 == 27\n",
      "9 * 4 == 36\n",
      "9 * 5 == 45\n",
      "9 * 6 == 54\n",
      "9 * 7 == 63\n",
      "9 * 8 == 72\n",
      "9 * 9 == 81\n",
      "9 * 10 == 90\n",
      "_____________________________________________\n",
      "\n",
      "This is from Child Class method\n",
      "12 * 1 == 12\n",
      "12 * 2 == 24\n",
      "12 * 3 == 36\n",
      "12 * 4 == 48\n",
      "12 * 5 == 60\n",
      "12 * 6 == 72\n",
      "12 * 7 == 84\n",
      "12 * 8 == 96\n",
      "12 * 9 == 108\n",
      "12 * 10 == 120\n",
      "*******************************************\n",
      "This is from Parent Class method\n",
      "9 * 1 == 9\n",
      "9 * 2 == 18\n",
      "9 * 3 == 27\n",
      "9 * 4 == 36\n",
      "9 * 5 == 45\n",
      "9 * 6 == 54\n",
      "9 * 7 == 63\n",
      "9 * 8 == 72\n",
      "9 * 9 == 81\n",
      "9 * 10 == 90\n",
      "********************************************\n",
      "This is from Grand Child Class method\n",
      "15 * 1 == 15\n",
      "15 * 2 == 30\n",
      "15 * 3 == 45\n",
      "15 * 4 == 60\n",
      "15 * 5 == 75\n",
      "15 * 6 == 90\n",
      "15 * 7 == 105\n",
      "15 * 8 == 120\n",
      "15 * 9 == 135\n",
      "15 * 10 == 150\n"
     ]
    }
   ],
   "source": [
    "# eg\n",
    "\n",
    "class parent:\n",
    "    def p_method(self):\n",
    "        print(\"This is from Parent Class method\")\n",
    "        \n",
    "        for i in range(1,11):\n",
    "            print(9,\"*\",i,\"==\",9*i)\n",
    "            \n",
    "class child(parent):\n",
    "      def c_method(self):\n",
    "        print(\"This is from Child Class method\")\n",
    "        \n",
    "        for i in range(1,11):\n",
    "            print(12,\"*\",i,\"==\",12*i)\n",
    "            \n",
    "class gchild(child):\n",
    "      def g_method(self):\n",
    "        print(\"This is from Grand Child Class method\")\n",
    "        \n",
    "        for i in range(1,11):\n",
    "            print(15,\"*\",i,\"==\",15*i)\n",
    "            \n",
    "obj_a=parent()\n",
    "obj_a.p_method()\n",
    "\n",
    "print(\"_____________________________________________\")\n",
    "print()\n",
    "\n",
    "obj_b=child()\n",
    "obj_b.c_method()\n",
    "print(\"*******************************************\")\n",
    "obj_b.p_method()\n",
    "\n",
    "print(\"_____________________________________________\")\n",
    "print()\n",
    "\n",
    "obj_c=gchild()\n",
    "obj_c.c_method()\n",
    "print(\"*******************************************\")\n",
    "obj_c.p_method()\n",
    "print(\"********************************************\")\n",
    "obj_c.g_method()"
   ]
  },
  {
   "cell_type": "code",
   "execution_count": 58,
   "id": "9a99d96b",
   "metadata": {},
   "outputs": [
    {
     "name": "stdout",
     "output_type": "stream",
     "text": [
      "This is from Parent Class method\n",
      "9 * 1 == 9\n",
      "9 * 2 == 18\n",
      "9 * 3 == 27\n",
      "9 * 4 == 36\n",
      "9 * 5 == 45\n",
      "9 * 6 == 54\n",
      "9 * 7 == 63\n",
      "9 * 8 == 72\n",
      "9 * 9 == 81\n",
      "9 * 10 == 90\n"
     ]
    }
   ],
   "source": [
    "# eg\n",
    "\n",
    "class parent:\n",
    "    def __init__(self):\n",
    "        print(\"This is from Parent Class method\")\n",
    "        \n",
    "        for i in range(1,11):\n",
    "            print(9,\"*\",i,\"==\",9*i)\n",
    "            \n",
    "class child(parent):\n",
    "      def c_method(self):\n",
    "        print(\"This is from Child Class method\")\n",
    "        \n",
    "        for i in range(1,11):\n",
    "            print(12,\"*\",i,\"==\",12*i)\n",
    "            \n",
    "class gchild(child):\n",
    "      def g_method(self):\n",
    "        print(\"This is from Grand Child Class method\")\n",
    "        \n",
    "        for i in range(1,11):\n",
    "            print(15,\"*\",i,\"==\",15*i)\n",
    "            \n",
    "# obj_a=parent()\n",
    "# obj_a.p_method()\n",
    "\n",
    "# print(\"_____________________________________________\")\n",
    "# print()\n",
    "\n",
    "# obj_b=child()\n",
    "# obj_b.c_method()\n",
    "# print(\"*******************************************\")\n",
    "# obj_b.p_method()\n",
    "\n",
    "# print(\"_____________________________________________\")\n",
    "# print()\n",
    "\n",
    "obj_c=gchild()\n",
    "# obj_c.c_method()\n",
    "# print(\"*******************************************\")\n",
    "# obj_c.p_method()\n",
    "# print(\"********************************************\")\n",
    "# obj_c.g_method()\n"
   ]
  },
  {
   "cell_type": "code",
   "execution_count": 59,
   "id": "6f8c4eb4",
   "metadata": {},
   "outputs": [
    {
     "name": "stdout",
     "output_type": "stream",
     "text": [
      "Inside phone constructor\n",
      "Buying a phone\n",
      "Product customer review\n"
     ]
    }
   ],
   "source": [
    "# eg\n",
    "\n",
    "class Product:\n",
    "    def review(self):\n",
    "        print (\"Product customer review\")\n",
    "\n",
    "class Phone(Product):\n",
    "    def __init__(self, price, brand, camera):\n",
    "        print (\"Inside phone constructor\")\n",
    "        self.__price = price\n",
    "        self.brand = brand\n",
    "        self.camera = camera\n",
    "\n",
    "    def buy(self):\n",
    "        print (\"Buying a phone\")\n",
    "\n",
    "class SmartPhone(Phone):\n",
    "    pass\n",
    "\n",
    "s=SmartPhone(20000, \"Apple\", 12)\n",
    "\n",
    "s.buy()\n",
    "s.review()"
   ]
  },
  {
   "cell_type": "markdown",
   "id": "23c90926",
   "metadata": {},
   "source": [
    "### <font color=\"blue\">c. HIERARCHICAL INHERITANCE  </font>\n",
    "* IN THIS TYPE OF INHERITANCE, THE PARENT CLASS PROPERTIES ARE INHERITED TO MULTIPLE CHILD CLASS.\n",
    "\n",
    "\n",
    "* __`ONE PARENT ==> MULIPLE CHILD`__\n",
    "\n",
    "\n",
    "* THIS IS ONE TO MANY RELATIONSHIP.\n",
    "\n",
    "\n",
    "* THERE IS NO RELATIONSHIP BETWEEN CHILD CLASSES."
   ]
  },
  {
   "attachments": {
    "HIERARCHICAL%20INHERITANT.png": {
     "image/png": "[encoded data removed]"
    }
   },
   "cell_type": "markdown",
   "id": "53834d60",
   "metadata": {},
   "source": [
    "![HIERARCHICAL%20INHERITANT.png](attachment:HIERARCHICAL%20INHERITANT.png)"
   ]
  },
  {
   "cell_type": "code",
   "execution_count": 63,
   "id": "26e88cbe",
   "metadata": {},
   "outputs": [
    {
     "name": "stdout",
     "output_type": "stream",
     "text": [
      "This is Child Class Method\n",
      "This is Parent Class Method\n",
      "______________________________________________\n",
      "This is Child2 Class Method\n",
      "This is Parent Class Method\n"
     ]
    }
   ],
   "source": [
    "# eg\n",
    "\n",
    "class parent:\n",
    "    def pmethod(self):\n",
    "        print(\"This is Parent Class Method\")\n",
    "        \n",
    "class child1(parent):\n",
    "    def cmethod1(self):\n",
    "        print(\"This is Child Class Method\")\n",
    "\n",
    "class child2(parent):\n",
    "    def cmethod2(self):\n",
    "        print(\"This is Child2 Class Method\")\n",
    "        \n",
    "obj_c1=child1()\n",
    "obj_c1.cmethod1()\n",
    "obj_c1.pmethod()\n",
    "\n",
    "print(\"______________________________________________\")\n",
    "\n",
    "obj_c2=child2()\n",
    "obj_c2.cmethod2()\n",
    "obj_c2.pmethod()"
   ]
  },
  {
   "cell_type": "code",
   "execution_count": 62,
   "id": "b1999741",
   "metadata": {},
   "outputs": [
    {
     "name": "stdout",
     "output_type": "stream",
     "text": [
      "Inside phone constructor\n",
      "Buying a phone\n",
      "Inside phone constructor\n",
      "Buying a phone\n"
     ]
    }
   ],
   "source": [
    "# eg\n",
    "\n",
    "class Phone:\n",
    "    def __init__(self, price, brand, camera):\n",
    "        print (\"Inside phone constructor\")\n",
    "        self.__price = price\n",
    "        self.brand = brand\n",
    "        self.camera = camera\n",
    "\n",
    "    def buy(self):\n",
    "        print (\"Buying a phone\")\n",
    "\n",
    "class SmartPhone(Phone):\n",
    "    pass\n",
    "\n",
    "class FeaturePhone(Phone):\n",
    "    pass\n",
    "\n",
    "SmartPhone(1000,\"Apple\",\"13px\").buy()\n",
    "FeaturePhone(10,\"Lava\",\"1px\").buy()"
   ]
  },
  {
   "cell_type": "markdown",
   "id": "e7719009",
   "metadata": {},
   "source": [
    "### <font color=\"blue\">d. MULTIPLE INHERITANCE  </font>\n",
    "* SINGLE CHILD CLASS IS INHERITED WITH MULTIPLE PARENT CLASS PROPERTIES."
   ]
  },
  {
   "attachments": {
    "Multiple%20Inheritant.png": {
     "image/png": "[encoded data removed]"
    }
   },
   "cell_type": "markdown",
   "id": "b8f987c0",
   "metadata": {},
   "source": [
    "![Multiple%20Inheritant.png](attachment:Multiple%20Inheritant.png)"
   ]
  },
  {
   "cell_type": "code",
   "execution_count": 64,
   "id": "6a5802da",
   "metadata": {},
   "outputs": [
    {
     "name": "stdout",
     "output_type": "stream",
     "text": [
      "This is Child Class Method\n",
      "This is Mother Class Method\n",
      "This is Father Class Method\n",
      "_________________________________________\n",
      "Father's gift-BIKE\n",
      "This is Child Mother Method\n",
      "Mother's gift-IPHONE\n"
     ]
    }
   ],
   "source": [
    "# eg\n",
    "\n",
    "class father:\n",
    "    def fmethod(self):\n",
    "        print(\"This is Father Class Method\")\n",
    "        \n",
    "    def gift(self):\n",
    "        print(\"Father's gift-BIKE\")\n",
    "        \n",
    "class mother:\n",
    "    def mmethod(self):\n",
    "        print(\"This is Mother Class Method\")\n",
    "        \n",
    "    def gift(self):\n",
    "        print(\"Mother's gift-IPHONE\")\n",
    "\n",
    "class child(father,mother):\n",
    "    def cmethod(self):\n",
    "        print(\"This is Child Class Method\")\n",
    "    \n",
    "    def cmother(self):\n",
    "        print(\"This is Child Mother Method\")\n",
    "        mother.gift(self)\n",
    "        \n",
    "obj_c=child()\n",
    "obj_c.cmethod()\n",
    "obj_c.mmethod()\n",
    "obj_c.fmethod()\n",
    "\n",
    "print(\"_________________________________________\")\n",
    "\n",
    "obj_c.gift()\n",
    "obj_c.cmother()"
   ]
  },
  {
   "cell_type": "code",
   "execution_count": 65,
   "id": "ac893dcf",
   "metadata": {},
   "outputs": [
    {
     "name": "stdout",
     "output_type": "stream",
     "text": [
      "Inside phone constructor\n",
      "Buying a phone\n",
      "Customer review\n"
     ]
    }
   ],
   "source": [
    "# eg\n",
    "\n",
    "class Phone:\n",
    "    def __init__(self, price, brand, camera):\n",
    "        print (\"Inside phone constructor\")\n",
    "        self.__price = price\n",
    "        self.brand = brand\n",
    "        self.camera = camera\n",
    "\n",
    "    def buy(self):\n",
    "        print (\"Buying a phone\")\n",
    "\n",
    "class Product:\n",
    "    def review(self):\n",
    "        print (\"Customer review\")\n",
    "\n",
    "class SmartPhone(Phone, Product):\n",
    "    pass\n",
    "\n",
    "s=SmartPhone(20000, \"Apple\", 12)\n",
    "\n",
    "s.buy()\n",
    "s.review()"
   ]
  },
  {
   "cell_type": "markdown",
   "id": "08376226",
   "metadata": {},
   "source": [
    "### <font color=\"blue\">e. HYBRID INHERITANCE  </font>\n",
    "* IT IS A COMBINATION OF TWO or MORE ABOVE INHERITANCE,\n",
    "    * MULTIPLE + HIERARCHICAL\n",
    "    * MULTI-LEVEL + HIERARCHICAL\n",
    "    * MULTIPLE + MULTI-LEVEL"
   ]
  },
  {
   "attachments": {
    "Hybird%20Inheritant.png": {
     "image/png": "[encoded data removed]"
    }
   },
   "cell_type": "markdown",
   "id": "d9708f6d",
   "metadata": {},
   "source": [
    "![Hybird%20Inheritant.png](attachment:Hybird%20Inheritant.png)"
   ]
  },
  {
   "cell_type": "code",
   "execution_count": 66,
   "id": "3be7a1bd",
   "metadata": {},
   "outputs": [
    {
     "name": "stdout",
     "output_type": "stream",
     "text": [
      "This is Grand Child Class Method\n",
      "This is Child2 Class Method\n",
      "This is Child1 Class Method\n",
      "This is Parent Class Method\n"
     ]
    }
   ],
   "source": [
    "# eg\n",
    "\n",
    "class parent:\n",
    "    def pmethod(self):\n",
    "        print(\"This is Parent Class Method\")\n",
    "        \n",
    "class child1(parent):\n",
    "    def cmethod1(self):\n",
    "        print(\"This is Child1 Class Method\")\n",
    "        \n",
    "class child2(parent):\n",
    "    def cmethod2(self):\n",
    "        print(\"This is Child2 Class Method\")\n",
    "        \n",
    "class gchild(child1,child2):\n",
    "    def gcmethod(self):\n",
    "        print(\"This is Grand Child Class Method\")\n",
    "        \n",
    "obj_gc=gchild()\n",
    "obj_gc.gcmethod()\n",
    "obj_gc.cmethod2()\n",
    "obj_gc.cmethod1()\n",
    "obj_gc.pmethod()"
   ]
  },
  {
   "cell_type": "code",
   "execution_count": 67,
   "id": "313385b0",
   "metadata": {},
   "outputs": [
    {
     "name": "stdout",
     "output_type": "stream",
     "text": [
      "Inside phone constructor\n",
      "Buying a phone\n"
     ]
    }
   ],
   "source": [
    "# eg\n",
    "\n",
    "class Phone:\n",
    "    def __init__(self, price, brand, camera):\n",
    "        print (\"Inside phone constructor\")\n",
    "        self.__price = price\n",
    "        self.brand = brand\n",
    "        self.camera = camera\n",
    "\n",
    "    def buy(self):\n",
    "        print (\"Buying a phone\")\n",
    "\n",
    "class Product:\n",
    "    def buy(self):\n",
    "        print (\"Product buy method\")\n",
    "\n",
    "# Method resolution order\n",
    "class SmartPhone(Phone,Product):\n",
    "    pass\n",
    "\n",
    "s=SmartPhone(20000, \"Apple\", 12)\n",
    "\n",
    "s.buy()"
   ]
  }
 ],
 "metadata": {
  "kernelspec": {
   "display_name": "Python 3 (ipykernel)",
   "language": "python",
   "name": "python3"
  },
  "language_info": {
   "codemirror_mode": {
    "name": "ipython",
    "version": 3
   },
   "file_extension": ".py",
   "mimetype": "text/x-python",
   "name": "python",
   "nbconvert_exporter": "python",
   "pygments_lexer": "ipython3",
   "version": "3.9.13"
  }
 },
 "nbformat": 4,
 "nbformat_minor": 5
}
