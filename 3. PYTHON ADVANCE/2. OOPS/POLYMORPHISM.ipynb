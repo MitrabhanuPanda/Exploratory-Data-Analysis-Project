{
 "cells": [
  {
   "cell_type": "markdown",
   "id": "caa99c5b",
   "metadata": {},
   "source": [
    "<h1 style=\"text-align : center\"> <font color=\"purple\" size=6>POLYMORPHISM </h1>"
   ]
  },
  {
   "cell_type": "markdown",
   "id": "4c1f254d",
   "metadata": {},
   "source": [
    "## <font color=\"red\"> WHAT IS POLYMORPHISM? </font>\n",
    "> * POLY ==> MANY\n",
    "> * MORPHISM ==> FORM\n",
    "* AN OBJECT WHICH HAS MANY FORMS IS CALLED AS __`POLYMORPHISM`__.\n",
    "* AN OBJECT WHICH BEHAVES DIFFERENTLY BASED ON SITUATION IS CALLED AS __`POLYMORPHISM`__."
   ]
  },
  {
   "cell_type": "markdown",
   "id": "e2f9edec",
   "metadata": {},
   "source": [
    "## <font color=\"red\">IMPLEMENTATION OF POLYMORPHISM:</font>"
   ]
  },
  {
   "cell_type": "markdown",
   "id": "0d67621b",
   "metadata": {},
   "source": [
    "### <font color=\"brown\">a. OVERLOADING (SAME CLASS):</font>\n",
    "* OBJECT BEHAVES DIFFERENTLY BASED ON SITUATION WITHIN THE SAME CLASS.\n",
    "    * VARIABLE OVERLOADING\n",
    "    * OPERATOR OVERLOADING\n",
    "    * METHOD OVERLOADING\n",
    "    * CONSTRUCTOR OVERLOADING\n",
    "    \n",
    "    \n",
    "* METHOD OVERLOADING & CONSTRUCTOR OVERLOADING IS NOT SUPPORTED BY PYTHON.\n",
    "    * BY USING VARIABLE LENGTH ARGUMENT WE CAN DO THIS."
   ]
  },
  {
   "cell_type": "markdown",
   "id": "2b5d0d82",
   "metadata": {},
   "source": [
    "### <font color=\"blue\">a.1. VARIABLE OVERLOADING</font>"
   ]
  },
  {
   "cell_type": "code",
   "execution_count": 1,
   "id": "628717d5",
   "metadata": {},
   "outputs": [
    {
     "name": "stdout",
     "output_type": "stream",
     "text": [
      "Delhi\n"
     ]
    }
   ],
   "source": [
    "# eg\n",
    "\n",
    "class sky:\n",
    "    c=\"Delhi\"\n",
    "    \n",
    "    def m1(self):\n",
    "        print(sky.c)\n",
    "        \n",
    "obj=sky()\n",
    "obj.m1()"
   ]
  },
  {
   "cell_type": "code",
   "execution_count": 2,
   "id": "07c412f8",
   "metadata": {},
   "outputs": [
    {
     "name": "stdout",
     "output_type": "stream",
     "text": [
      "9\n"
     ]
    }
   ],
   "source": [
    "# eg\n",
    "\n",
    "class sky:\n",
    "    c=\"Delhi\"\n",
    "    \n",
    "    def m1(self):\n",
    "        c=9\n",
    "        print(c)\n",
    "        \n",
    "obj=sky()\n",
    "obj.m1()"
   ]
  },
  {
   "cell_type": "code",
   "execution_count": 3,
   "id": "6a18aba7",
   "metadata": {},
   "outputs": [
    {
     "name": "stdout",
     "output_type": "stream",
     "text": [
      "9\n",
      "21.98\n"
     ]
    }
   ],
   "source": [
    "# eg\n",
    "\n",
    "class sky:\n",
    "    c=\"Delhi\"\n",
    "    \n",
    "    def m1(self):\n",
    "        c=9\n",
    "        print(c)\n",
    "        \n",
    "    def m2(self):\n",
    "        c=21.98\n",
    "        print(c)\n",
    "    \n",
    "        \n",
    "obj=sky()\n",
    "obj.m1()\n",
    "obj.m2()"
   ]
  },
  {
   "cell_type": "markdown",
   "id": "984bd44e",
   "metadata": {},
   "source": [
    "### <font color=\"blue\">a.2. OPERATOR OVERLOADING </font>"
   ]
  },
  {
   "cell_type": "code",
   "execution_count": 4,
   "id": "69ec3772",
   "metadata": {},
   "outputs": [
    {
     "name": "stdout",
     "output_type": "stream",
     "text": [
      "50\n",
      "Apple is Red\n"
     ]
    }
   ],
   "source": [
    "# eg\n",
    "\n",
    "class sk:\n",
    "    def plus(self,n1,n2):\n",
    "        res=n1+n2\n",
    "        print(res)\n",
    "        \n",
    "obj1=sk()\n",
    "obj1.plus(20,30)\n",
    "obj1.plus(\"Apple\", \" is Red\")"
   ]
  },
  {
   "cell_type": "code",
   "execution_count": null,
   "id": "37574c05",
   "metadata": {},
   "outputs": [],
   "source": [
    "# eg\n",
    "\n",
    "class sk:\n",
    "    def star(self,n1,n2):\n",
    "        res=n1*n2\n",
    "        print(res)\n",
    "        \n",
    "obj1=sk()\n",
    "obj1.star(20,30)\n",
    "obj1.star(\"Apple \",5)"
   ]
  },
  {
   "cell_type": "markdown",
   "id": "8c60b339",
   "metadata": {},
   "source": [
    "### <font color=\"blue\">a.3. METHOD OVERLOADING </font>"
   ]
  },
  {
   "cell_type": "code",
   "execution_count": 5,
   "id": "bac489f4",
   "metadata": {},
   "outputs": [
    {
     "name": "stdout",
     "output_type": "stream",
     "text": [
      "This is from sky method with three Argument\n",
      "100\n"
     ]
    }
   ],
   "source": [
    "class polyclass:\n",
    "    def sky(self,a):\n",
    "        print(\"This is from Sky Method with One Argument\")\n",
    "        \n",
    "        res=a**3\n",
    "        print(a)\n",
    "    def sky(self,m,n):\n",
    "        print(\"This is from sky method with Two Argument\")\n",
    "        \n",
    "        res1=m+n\n",
    "        print(res1)\n",
    "    def sky(self,x,y,z):\n",
    "        print(\"This is from sky method with three Argument\")\n",
    "        \n",
    "        res2=x+y+x\n",
    "        print(res2)\n",
    "        \n",
    "obj=polyclass()\n",
    "# obj.sky(3)\n",
    "# print(\"_____________________\")\n",
    "# obj.sky(10,20)\n",
    "# print(\"______________________\")\n",
    "obj.sky(30,40,50)\n"
   ]
  },
  {
   "cell_type": "markdown",
   "id": "2015d990",
   "metadata": {},
   "source": [
    "#### <font color=\"orange\">ALTERNATE WAY OF METHOD OVERLOADING </font>"
   ]
  },
  {
   "cell_type": "code",
   "execution_count": 6,
   "id": "e4fd26e4",
   "metadata": {},
   "outputs": [
    {
     "name": "stdout",
     "output_type": "stream",
     "text": [
      "This is from sky method of poly class\n",
      "(5,)\n",
      "This is from sky method of poly class\n",
      "(6, 7, 8)\n"
     ]
    }
   ],
   "source": [
    "class poly:\n",
    "    def sk(self,*args):\n",
    "        print(\"This is from sky method of poly class\")\n",
    "        print(args)\n",
    "        \n",
    "obj1=poly()\n",
    "obj1.sk(5)\n",
    "obj1.sk(6,7,8)"
   ]
  },
  {
   "cell_type": "code",
   "execution_count": 7,
   "id": "476d6d94",
   "metadata": {},
   "outputs": [
    {
     "name": "stdout",
     "output_type": "stream",
     "text": [
      "This is from sky method of poly class\n",
      "(5,)\n",
      "125\n",
      "_____________________\n",
      "This is from sky method of poly class\n",
      "(6, 7, 8)\n",
      "21\n",
      "_____________________\n",
      "This is from sky method of poly class\n",
      "(10, 20)\n",
      "200\n",
      "_____________________\n",
      "This is from sky method of poly class\n",
      "(2, 3, 4, 5)\n",
      "14\n"
     ]
    }
   ],
   "source": [
    "class poly:\n",
    "    def sk(self,*args):\n",
    "        print(\"This is from sky method of poly class\")\n",
    "        print(args)\n",
    "        if len(args)==1:\n",
    "            res=args[0]**3\n",
    "            print(res)\n",
    "        elif len(args)==2:\n",
    "            res=args[0]*args[1]\n",
    "            print(res)\n",
    "        else:\n",
    "            s=0\n",
    "            for i in args:\n",
    "                s=s+i\n",
    "            print(s)\n",
    "        \n",
    "        \n",
    "obj1=poly()\n",
    "obj1.sk(5)\n",
    "print(\"_____________________\")\n",
    "obj1.sk(6,7,8)\n",
    "print(\"_____________________\")\n",
    "obj1.sk(10,20)\n",
    "print(\"_____________________\")\n",
    "obj1.sk(2,3,4,5)"
   ]
  },
  {
   "cell_type": "markdown",
   "id": "0d8d716d",
   "metadata": {},
   "source": [
    "#### <font color=\"orange\">ALTERNATE WAY OF CONSTRUCTOR OVERLOADING </font>"
   ]
  },
  {
   "cell_type": "code",
   "execution_count": 8,
   "id": "c50c50f0",
   "metadata": {},
   "outputs": [
    {
     "name": "stdout",
     "output_type": "stream",
     "text": [
      "This is from sky method of poly class\n",
      "(4, 5, 6, 7)\n",
      "22\n",
      "___________________\n",
      "This is from sky method of poly class\n",
      "(4,)\n",
      "64\n",
      "___________________\n",
      "This is from sky method of poly class\n",
      "(5, 6)\n",
      "30\n"
     ]
    },
    {
     "data": {
      "text/plain": [
       "<__main__.poly at 0x20ae3891550>"
      ]
     },
     "execution_count": 8,
     "metadata": {},
     "output_type": "execute_result"
    }
   ],
   "source": [
    "class poly:\n",
    "    def __init__(self,*args):\n",
    "        print(\"This is from sky method of poly class\")\n",
    "        print(args)\n",
    "        if len(args)==1:\n",
    "            res=args[0]**3\n",
    "            print(res)\n",
    "        elif len(args)==2:\n",
    "            res=args[0]*args[1]\n",
    "            print(res)\n",
    "        else:\n",
    "            s=0\n",
    "            for i in args:\n",
    "                s=s+i\n",
    "            print(s)\n",
    "        \n",
    "        \n",
    "obj1=poly(4,5,6,7)\n",
    "print(\"___________________\")\n",
    "obj1=poly(4)\n",
    "print(\"___________________\")\n",
    "poly(5,6)"
   ]
  },
  {
   "cell_type": "markdown",
   "id": "194fc7f8",
   "metadata": {},
   "source": [
    "### "
   ]
  },
  {
   "cell_type": "markdown",
   "id": "28fa2be8",
   "metadata": {},
   "source": [
    "### <font color=\"brown\">b. OVERRIDING (MULTIPLE CLASS):</font>\n",
    "* OBJECT BEHAVES DIFFERENTLY BASED ON SITUATION WITHIN THE MULTIPLE CLASS.\n",
    "    * VARIABLE OVERLOADING\n",
    "    * METHOD OVERLOADING\n",
    "    * CONSTRUCTOR OVERLOADING\n",
    "    \n",
    "    \n"
   ]
  },
  {
   "cell_type": "markdown",
   "id": "c06298ce",
   "metadata": {},
   "source": [
    "### <font color=\"blue\">b.1. VARIABLE OVERRIDING</font>"
   ]
  },
  {
   "cell_type": "code",
   "execution_count": 9,
   "id": "8e67861c",
   "metadata": {},
   "outputs": [
    {
     "name": "stdout",
     "output_type": "stream",
     "text": [
      "This is from the cmethod of child class\n",
      "\n",
      "This is from the Sky Method of Poly Class\n",
      "\n",
      "New York\n",
      "\n",
      "200\n",
      "\n",
      "200\n"
     ]
    }
   ],
   "source": [
    "class poly_ovr:\n",
    "    c=\"New York\"\n",
    "    def sky(self):\n",
    "        print(\"This is from the Sky Method of Poly Class\")\n",
    "        \n",
    "class child(poly_ovr):\n",
    "    c=200\n",
    "    def cmethod(self):\n",
    "        print(\"This is from the cmethod of child class\")\n",
    "        \n",
    "    \n",
    "obj4=child()\n",
    "obj4.cmethod()\n",
    "print()\n",
    "obj4.sky()\n",
    "print()\n",
    "print(poly_ovr.c)\n",
    "print()\n",
    "print(child.c)\n",
    "print()\n",
    "print(obj4.c)\n",
    "\n"
   ]
  },
  {
   "cell_type": "markdown",
   "id": "ba1e6fc5",
   "metadata": {},
   "source": [
    "### <font color=\"blue\">b.2. METHOD OVERRIDING</font>"
   ]
  },
  {
   "cell_type": "code",
   "execution_count": 10,
   "id": "d85b2060",
   "metadata": {},
   "outputs": [
    {
     "name": "stdout",
     "output_type": "stream",
     "text": [
      "This is from the cmethod of child class\n"
     ]
    }
   ],
   "source": [
    "# eg\n",
    "\n",
    "class poly_ovr:\n",
    "    c=\"New York\"\n",
    "    def sky(self):\n",
    "        print(\"This is from the Sky Method of Poly Class\")\n",
    "        \n",
    "class child(poly_ovr):\n",
    "    c=200\n",
    "    def sky(self):\n",
    "        print(\"This is from the cmethod of child class\")\n",
    "        \n",
    "obj5=child()\n",
    "obj5.sky()\n"
   ]
  },
  {
   "cell_type": "code",
   "execution_count": 11,
   "id": "fc689ace",
   "metadata": {},
   "outputs": [
    {
     "name": "stdout",
     "output_type": "stream",
     "text": [
      "This is from the cmethod of child class\n"
     ]
    }
   ],
   "source": [
    "# eg\n",
    "\n",
    "class poly_ovr:\n",
    "    c=\"New York\"\n",
    "    def sky(self):\n",
    "        print(\"This is from the Sky Method of Poly Class\")\n",
    "        \n",
    "class child(poly_ovr):\n",
    "    c=200\n",
    "    def sky(self):\n",
    "        print(\"This is from the cmethod of child class\")\n",
    "        \n",
    "obj5=child()\n",
    "obj5.sky()"
   ]
  },
  {
   "cell_type": "markdown",
   "id": "829e09cb",
   "metadata": {},
   "source": [
    "#### <font color=\"green\">b.2.1. METHOD OVERRIDING WITH ARGUMENT</font>"
   ]
  },
  {
   "cell_type": "code",
   "execution_count": 12,
   "id": "22e3b570",
   "metadata": {},
   "outputs": [
    {
     "name": "stdout",
     "output_type": "stream",
     "text": [
      "This is from the cmethod of child class\n",
      "200\n"
     ]
    }
   ],
   "source": [
    "class poly_ovr:\n",
    "\n",
    "    def sky(self,a,b):\n",
    "        print(\"This is from the Sky Method of Poly Class\")\n",
    "        res=a+b\n",
    "        print(res)\n",
    "        \n",
    "class child(poly_ovr):\n",
    "    \n",
    "    def sky(self,a,b):\n",
    "        print(\"This is from the cmethod of child class\")\n",
    "        res1=a*b\n",
    "        print(res1)\n",
    "        \n",
    "obj5=child()\n",
    "obj5.sky(10,20)"
   ]
  },
  {
   "cell_type": "markdown",
   "id": "d57e7a97",
   "metadata": {},
   "source": [
    "#### <font color=\"green\">b.2.2. METHOD OVERRIDING WITH DIFFERENT ARGUMENT</font>"
   ]
  },
  {
   "cell_type": "code",
   "execution_count": 13,
   "id": "dd03fb63",
   "metadata": {},
   "outputs": [
    {
     "name": "stdout",
     "output_type": "stream",
     "text": [
      "This is from the cmethod of child class\n",
      "300\n"
     ]
    }
   ],
   "source": [
    "# eg\n",
    "\n",
    "class poly_ovr:\n",
    "\n",
    "    def sky(self,a,b,c):\n",
    "        print(\"This is from the Sky Method of Poly Class\")\n",
    "        res=a+b+c\n",
    "        print(res)\n",
    "        \n",
    "class child(poly_ovr):\n",
    "    \n",
    "    def sky(self,a,b):\n",
    "        print(\"This is from the cmethod of child class\")\n",
    "        res1=a*b\n",
    "        print(res1)\n",
    "        \n",
    "obj5=child()\n",
    "obj5.sky(10,30)"
   ]
  },
  {
   "cell_type": "code",
   "execution_count": 14,
   "id": "38bb21b8",
   "metadata": {},
   "outputs": [
    {
     "ename": "TypeError",
     "evalue": "sky() takes 3 positional arguments but 4 were given",
     "output_type": "error",
     "traceback": [
      "\u001b[1;31m---------------------------------------------------------------------------\u001b[0m",
      "\u001b[1;31mTypeError\u001b[0m                                 Traceback (most recent call last)",
      "\u001b[1;32m~\\AppData\\Local\\Temp\\ipykernel_1316\\2941200368.py\u001b[0m in \u001b[0;36m<module>\u001b[1;34m\u001b[0m\n\u001b[0;32m     16\u001b[0m \u001b[1;33m\u001b[0m\u001b[0m\n\u001b[0;32m     17\u001b[0m \u001b[0mobj5\u001b[0m\u001b[1;33m=\u001b[0m\u001b[0mchild\u001b[0m\u001b[1;33m(\u001b[0m\u001b[1;33m)\u001b[0m\u001b[1;33m\u001b[0m\u001b[1;33m\u001b[0m\u001b[0m\n\u001b[1;32m---> 18\u001b[1;33m \u001b[0mobj5\u001b[0m\u001b[1;33m.\u001b[0m\u001b[0msky\u001b[0m\u001b[1;33m(\u001b[0m\u001b[1;36m10\u001b[0m\u001b[1;33m,\u001b[0m\u001b[1;36m30\u001b[0m\u001b[1;33m,\u001b[0m\u001b[1;36m40\u001b[0m\u001b[1;33m)\u001b[0m  \u001b[1;31m# It shows the error\u001b[0m\u001b[1;33m\u001b[0m\u001b[1;33m\u001b[0m\u001b[0m\n\u001b[0m",
      "\u001b[1;31mTypeError\u001b[0m: sky() takes 3 positional arguments but 4 were given"
     ]
    }
   ],
   "source": [
    "# eg\n",
    "\n",
    "class poly_ovr:\n",
    "\n",
    "    def sky(self,a,b,c):\n",
    "        print(\"This is from the Sky Method of Poly Class\")\n",
    "        res=a+b+c\n",
    "        print(res)\n",
    "        \n",
    "class child(poly_ovr):\n",
    "    \n",
    "    def sky(self,a,b):\n",
    "        print(\"This is from the cmethod of child class\")\n",
    "        res1=a*b\n",
    "        print(res1)\n",
    "        \n",
    "obj5=child()\n",
    "obj5.sky(10,30,40)  # It shows the error"
   ]
  },
  {
   "cell_type": "markdown",
   "id": "220c10cf",
   "metadata": {},
   "source": [
    "### <font color=\"blue\">b.3. CONSTRUCTOR OVERRIDING</font>"
   ]
  },
  {
   "cell_type": "code",
   "execution_count": 15,
   "id": "02df11d2",
   "metadata": {},
   "outputs": [
    {
     "name": "stdout",
     "output_type": "stream",
     "text": [
      "This is from the cmethod of child class\n",
      "610.0\n"
     ]
    }
   ],
   "source": [
    "class parent:\n",
    "\n",
    "    def __init__(self,a,b):\n",
    "        print(\"This is from the Sky Method of Poly Class\")\n",
    "        res=a+b\n",
    "        print(res)\n",
    "        \n",
    "class child(parent):\n",
    "    \n",
    "    def __init__(self,a,b):\n",
    "        print(\"This is from the cmethod of child class\")\n",
    "        res1=a*b\n",
    "        print(res1)\n",
    "#         super().__init__(a,b)\n",
    "        \n",
    "obj_c1=child(20,30.50)"
   ]
  },
  {
   "cell_type": "markdown",
   "id": "458c976d",
   "metadata": {},
   "source": [
    "### "
   ]
  },
  {
   "cell_type": "markdown",
   "id": "b65e8808",
   "metadata": {},
   "source": [
    "### <font color=\"dark blue\">METHOD OVERLOADING & CONSTRUCTOR OVERLOADING </font>\n",
    "> * WITH THE SAME CLASS.\n",
    "> * MULTIPLE METHODS WITH SAME CLASS.\n",
    "> * METHODS WITH DIFFERENT SIGNATURE (DIFFERENT ARGUMENTS)\n",
    "> * METHODS WITH DIFFERENT IMPLEMENTATION (LOGICS)\n",
    "\n",
    "\n",
    "### <font color=\"dark blue\">METHOD OVERRIDING & CONSTRUCTOR OVERRIDING </font>\n",
    "> * ACROSS MULTIPLE INHERITED CLASS.\n",
    "> * MULTIPLE METHODS WITH SAME NAME (ACROSS CLASS)\n",
    "> * METHODS WITH SAME SIGNATURES.\n",
    "> * DIFFERENT IMPLEMENTATION."
   ]
  },
  {
   "cell_type": "markdown",
   "id": "c58f960b",
   "metadata": {},
   "source": [
    "********************************************************************"
   ]
  }
 ],
 "metadata": {
  "kernelspec": {
   "display_name": "Python 3 (ipykernel)",
   "language": "python",
   "name": "python3"
  },
  "language_info": {
   "codemirror_mode": {
    "name": "ipython",
    "version": 3
   },
   "file_extension": ".py",
   "mimetype": "text/x-python",
   "name": "python",
   "nbconvert_exporter": "python",
   "pygments_lexer": "ipython3",
   "version": "3.9.13"
  }
 },
 "nbformat": 4,
 "nbformat_minor": 5
}
