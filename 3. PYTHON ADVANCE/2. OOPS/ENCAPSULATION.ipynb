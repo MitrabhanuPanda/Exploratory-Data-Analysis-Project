{
 "cells": [
  {
   "cell_type": "markdown",
   "id": "6a6088d8",
   "metadata": {},
   "source": [
    "<h1 style=\"text-align : center\"> <font color=\"PURPLE\" size=6>ENCAPSULATION </h1>"
   ]
  },
  {
   "cell_type": "markdown",
   "id": "65b1b4db",
   "metadata": {},
   "source": [
    "### <font color=\"red\">WHAT IS ENCAPSULATION?</font>\n",
    "* IT IS DATA LEVEL SECURITY.\n",
    "\n",
    "\n",
    "* IT IS A PROCESS OF RESTRICTING UNAUTORIZED USER TO ACCESS DATA FROM CLASS.\n",
    "\n",
    "\n",
    "* THIS DATA LEVEL SECURITY IS IMPLEMENTED USING __`ACCESS SPECIFIER`__.\n",
    "\n",
    "> <font color=\"blue\">__PUBLIC__:</font>\n",
    ">>    * AN OBJECT WHICH IS ACCESSIBLE WITHIN THE SAME CLASS, OUTSIDE THE CLASS, INHERITED CLASS ALSO.\n",
    ">>  * eg:-->  city = \"BBSR\"\n",
    "\n",
    "> <font color=\"blue\">__PROTECTED__:</font>\n",
    ">>    * AN OBJECT WHICH IS ACCESSIBLE INSIDE THE INHERITED CLASS, WITHIN THE CLASS.\n",
    ">>  * eg:-->  _city = \"BBSR\"\n",
    "\n",
    "> <font color=\"blue\">__PRIVATED__:</font>\n",
    ">>    * IT IS ACCESSIBLE WITHIN THE SAME CLASS ONLY.\n",
    ">>  * eg:-->  _ _city = \"BBSR\"  \n",
    " \n",
    "><font color=\"brown\"> __ACCORDING TO PYHTON__</font>\n",
    ">>    * PUBLIC & PROTECTED ACCESS ANYWHERE:\n",
    ">>>   * WITHIN THE SAME CLASS.\n",
    ">>>   * INHERITED CLASS.\n",
    ">>>   * OUTSIDE THE CLASS (FROM MAIN PROGRAM)\n",
    ">>    * PRIVATE OBJECTS CAN BE ACCESSED WITHIN THE SAME CLASS ONLY. \n",
    ">>    * IT IS STRICTLY RESTRICTED FROM ACCESSING FROM INHERITED CLASS & OUTSIDE THE CLASS.\n",
    "    \n",
    "> <font color=\"green\">__ACCESS SPECIFIER IN PYTHON CAN BE IMPLEMENTED__ </font>\n",
    ">>    * VARIABLE LEVEL\n",
    ">>    * METHOD LEVEL"
   ]
  },
  {
   "cell_type": "markdown",
   "id": "9ca20ef5",
   "metadata": {},
   "source": [
    "### <font color=\"brown\">PUBLIC VARIABLE ACCESSIBILITY</font>\n",
    "* AN OBJECT WHICH IS ACCESSIBLE WITHIN THE SAME CLASS, OUTSIDE THE CLASS, INHERITED CLASS ALSO.\n",
    "\n",
    "\n",
    "* eg:-->  city = \"BBSR\""
   ]
  },
  {
   "cell_type": "code",
   "execution_count": 1,
   "id": "fa962e5d",
   "metadata": {},
   "outputs": [
    {
     "name": "stdout",
     "output_type": "stream",
     "text": [
      "This is from m1 method of encap class\n",
      "New York\n"
     ]
    }
   ],
   "source": [
    "# eg\n",
    "\n",
    "class encap:\n",
    "    city=\"New York\"     # Static Variable-Public\n",
    "    \n",
    "    def m1(self):\n",
    "        print(\"This is from m1 method of encap class\")\n",
    "        print(encap.city)\n",
    "        \n",
    "\n",
    "    \n",
    "        \n",
    "obj=encap()\n",
    "obj.m1()\n",
    "    "
   ]
  },
  {
   "cell_type": "code",
   "execution_count": 2,
   "id": "0995c127",
   "metadata": {},
   "outputs": [
    {
     "name": "stdout",
     "output_type": "stream",
     "text": [
      "This is Main Program\n",
      "Using Parent Object:  New York\n",
      "Using the class name:  New York\n",
      "_____________________________________________\n",
      "This is Child Program\n",
      "Using Child Object:  New York\n",
      "Using Child Class Name:  New York\n"
     ]
    }
   ],
   "source": [
    "# eg\n",
    "\n",
    "class encap:\n",
    "    city=\"New York\"\n",
    "    \n",
    "    def m1(self):\n",
    "        print(\"This is from m1 method of encap class\")\n",
    "        print(encap.city)\n",
    "        \n",
    "class child(encap):\n",
    "    def c1(self):\n",
    "        print(\"This is from c1 method of child class\")\n",
    "        print(child.city)\n",
    "        print()\n",
    "        print(encap.city)\n",
    "        \n",
    "    \n",
    "\n",
    "        \n",
    "    \n",
    "obj_p=encap()\n",
    "print(\"This is Main Program\")\n",
    "print(\"Using Parent Object: \",obj_p.city)\n",
    "print(\"Using the class name: \",encap.city)\n",
    "print(\"_____________________________________________\")  \n",
    "\n",
    "  \n",
    "obj_c=child()\n",
    "print(\"This is Child Program\")\n",
    "print(\"Using Child Object: \",obj_c.city)\n",
    "print(\"Using Child Class Name: \",child.city)"
   ]
  },
  {
   "cell_type": "markdown",
   "id": "2adf8efb",
   "metadata": {},
   "source": [
    "### <font color=\"brown\">PROTECTED VARIABLE ACCESSIBILITY</font>\n",
    "* AN OBJECT WHICH IS ACCESSIBLE INSIDE THE INHERITED CLASS, WITHIN THE CLASS.\n",
    "\n",
    "\n",
    "* eg:-->  _city = \"BBSR\""
   ]
  },
  {
   "cell_type": "markdown",
   "id": "33ea121c",
   "metadata": {},
   "source": [
    "#### <font color=\"teal\" size=4>PROTECTED VARIABLE WITHIN THE SAME CLASS</font>"
   ]
  },
  {
   "cell_type": "code",
   "execution_count": 3,
   "id": "fcb573d3",
   "metadata": {},
   "outputs": [
    {
     "name": "stdout",
     "output_type": "stream",
     "text": [
      "This is from m1 method of encap class\n",
      "Public Variable:  New York\n",
      "Protected Variable:  New Delhi\n"
     ]
    }
   ],
   "source": [
    "class encap:\n",
    "    city=\"New York\"     # Static Variable-Public\n",
    "    _city=\"New Delhi\"   # Protected Static Variable\n",
    "    \n",
    "    def m1(self):\n",
    "        print(\"This is from m1 method of encap class\")\n",
    "        print(\"Public Variable: \",encap.city)\n",
    "        print(\"Protected Variable: \",encap._city)\n",
    "        \n",
    "\n",
    "    \n",
    "        \n",
    "obj=encap()\n",
    "obj.m1()"
   ]
  },
  {
   "cell_type": "markdown",
   "id": "e3119307",
   "metadata": {},
   "source": [
    "#### <font color=\"teal\" size=4> PROTECTED VARIABLE WITHIN THE INHERITED CLASS </font>"
   ]
  },
  {
   "cell_type": "code",
   "execution_count": 4,
   "id": "a25d30e8",
   "metadata": {},
   "outputs": [
    {
     "name": "stdout",
     "output_type": "stream",
     "text": [
      "This is from c1 method of child class\n",
      "Child Class Name:  New York\n",
      "\n",
      "Parent Class Name:  New York\n",
      "_______________________________\n",
      "Protected variable-Child Name:  New Delhi\n",
      "\n",
      "Protected variable-Parent Name:  New Delhi\n"
     ]
    }
   ],
   "source": [
    "class encap:\n",
    "    city=\"New York\"\n",
    "    _city=\"New Delhi\"\n",
    "    def m1(self):\n",
    "        print(\"This is from m1 method of encap class\")\n",
    "        print(encap.city)\n",
    "        \n",
    "class child(encap):\n",
    "    def c1(self):\n",
    "        print(\"This is from c1 method of child class\")\n",
    "        print(\"Child Class Name: \",child.city)\n",
    "        print()\n",
    "        print(\"Parent Class Name: \",encap.city)\n",
    "        print(\"_______________________________\")\n",
    "        print(\"Protected variable-Child Name: \",child._city)\n",
    "        print()\n",
    "        print(\"Protected variable-Parent Name: \",encap._city)\n",
    "\n",
    "obj1=child()\n",
    "obj1.c1()"
   ]
  },
  {
   "cell_type": "markdown",
   "id": "ed46eab4",
   "metadata": {},
   "source": [
    "#### <font color=\"teal\" size=4> PROTECTED VARIABLE OUTSIDE CLASS </font>"
   ]
  },
  {
   "cell_type": "code",
   "execution_count": 5,
   "id": "33940bc1",
   "metadata": {},
   "outputs": [
    {
     "name": "stdout",
     "output_type": "stream",
     "text": [
      "This is Main Program\n",
      "Public Variable Using Parent Object:  New York\n",
      "\n",
      "Protected Variable Using Parent Object:  New Delhi\n",
      "***************************************************************\n",
      "Public Variable Using the class name:  New York\n",
      "\n",
      "Protected Variable Using the class name:  New Delhi\n",
      "_____________________________________________\n",
      "This is Child Program\n",
      "Public Variable Using Child Object:  New York\n",
      "\n",
      "Protected Variable Using the child name:  New Delhi\n",
      "***************************************************************\n",
      "Public Variable Using Child Class Name:  New York\n",
      "\n",
      "Protected Variable Using Child Class Name:  New Delhi\n"
     ]
    }
   ],
   "source": [
    "class encap:\n",
    "    city=\"New York\"\n",
    "    _city=\"New Delhi\"\n",
    "    \n",
    "    def m1(self):\n",
    "        print(\"This is from m1 method of encap class\")\n",
    "        print(encap.city)\n",
    "        \n",
    "class child(encap):\n",
    "    def c1(self):\n",
    "        print(\"This is from c1 method of child class\")\n",
    "        print(child.city)\n",
    "        print()\n",
    "        print(encap.city)\n",
    "        \n",
    "    \n",
    "\n",
    "        \n",
    "    \n",
    "obj_p=encap()\n",
    "print(\"This is Main Program\")\n",
    "print(\"Public Variable Using Parent Object: \",obj_p.city)\n",
    "print()\n",
    "print(\"Protected Variable Using Parent Object: \",obj_p._city)\n",
    "print(\"***************************************************************\")\n",
    "print(\"Public Variable Using the class name: \",encap.city)\n",
    "print()\n",
    "print(\"Protected Variable Using the class name: \",encap._city)\n",
    "print(\"_____________________________________________\")  \n",
    "\n",
    "  \n",
    "obj_c=child()\n",
    "print(\"This is Child Program\")\n",
    "print(\"Public Variable Using Child Object: \",obj_c.city)\n",
    "print()\n",
    "print(\"Protected Variable Using the child name: \",obj_c._city)\n",
    "print(\"***************************************************************\")\n",
    "print(\"Public Variable Using Child Class Name: \",child.city)\n",
    "print()\n",
    "print(\"Protected Variable Using Child Class Name: \",child._city)"
   ]
  },
  {
   "cell_type": "markdown",
   "id": "7f718326",
   "metadata": {},
   "source": [
    "### <font color=\"brown\">PRIVATE VARIABLE ACCESSIBILITY</font>\n",
    "* IT IS ACCESSIBLE WITHIN THE SAME CLASS ONLY.\n",
    "\n",
    "\n",
    "* eg:-->  _ _city = \"BBSR\" "
   ]
  },
  {
   "cell_type": "code",
   "execution_count": 6,
   "id": "89984ea5",
   "metadata": {},
   "outputs": [
    {
     "name": "stdout",
     "output_type": "stream",
     "text": [
      "This is from m1 method of encap class\n",
      "Public Variable:  New York\n",
      "Protected Variable:  New Delhi\n",
      "Private Variable:  Mumbai\n"
     ]
    }
   ],
   "source": [
    "# eg\n",
    "\n",
    "class encap:\n",
    "    city=\"New York\"     # Static Variable-Public\n",
    "    _city=\"New Delhi\"   # Protected Static Variable\n",
    "    __city=\"Mumbai\"     # Private Static Variable\n",
    "    \n",
    "    def m1(self):\n",
    "        print(\"This is from m1 method of encap class\")\n",
    "        print(\"Public Variable: \",encap.city)\n",
    "        print(\"Protected Variable: \",encap._city)\n",
    "        print(\"Private Variable: \",encap.__city)\n",
    "\n",
    "    \n",
    "        \n",
    "obj=encap()\n",
    "obj.m1()"
   ]
  },
  {
   "cell_type": "code",
   "execution_count": 7,
   "id": "3a6e41ad",
   "metadata": {},
   "outputs": [
    {
     "name": "stdout",
     "output_type": "stream",
     "text": [
      "This is from c1 method of child class\n",
      "Child Class Name:  New York\n",
      "\n",
      "Parent Class Name:  New York\n",
      "_______________________________\n",
      "Protected variable-Child Name:  New Delhi\n",
      "\n",
      "Protected variable-Parent Name:  New Delhi\n",
      "\n"
     ]
    }
   ],
   "source": [
    "# eg\n",
    "\n",
    "class encap:\n",
    "    city=\"New York\"\n",
    "    _city=\"New Delhi\"\n",
    "    __city=\"Mumbai\"\n",
    "    \n",
    "    def m1(self):\n",
    "        print(\"This is from m1 method of encap class\")\n",
    "        print(encap.city)\n",
    "        \n",
    "class child(encap):\n",
    "    def c1(self):\n",
    "        print(\"This is from c1 method of child class\")\n",
    "        print(\"Child Class Name: \",child.city)\n",
    "        print()\n",
    "        print(\"Parent Class Name: \",encap.city)\n",
    "        print(\"_______________________________\")\n",
    "        print(\"Protected variable-Child Name: \",child._city)\n",
    "        print()\n",
    "        print(\"Protected variable-Parent Name: \",encap._city)\n",
    "        print()\n",
    "#         print(\"Private variable-Parent Name: \",encap.__city)\n",
    "\n",
    "obj1=child()\n",
    "obj1.c1()"
   ]
  },
  {
   "cell_type": "markdown",
   "id": "fdc8b2ec",
   "metadata": {},
   "source": [
    "### "
   ]
  },
  {
   "cell_type": "markdown",
   "id": "9cd2054a",
   "metadata": {},
   "source": [
    "### <font color=\"brown\">METHODS WITH ACCESS SPECIFIER </font>"
   ]
  },
  {
   "cell_type": "markdown",
   "id": "10b24c30",
   "metadata": {},
   "source": [
    "#### <font color=\"teal\" size=4>PUBLIC METHOD</font>"
   ]
  },
  {
   "cell_type": "code",
   "execution_count": 9,
   "id": "52270764",
   "metadata": {},
   "outputs": [
    {
     "name": "stdout",
     "output_type": "stream",
     "text": [
      "This is from Sky Class\n"
     ]
    }
   ],
   "source": [
    "# eg\n",
    "\n",
    "class parent:\n",
    "    def sky(self):  # Public\n",
    "        print(\"This is from Sky Class\")\n",
    "obj_p=parent()\n",
    "obj_p.sky()"
   ]
  },
  {
   "cell_type": "code",
   "execution_count": 10,
   "id": "e7aae86b",
   "metadata": {},
   "outputs": [
    {
     "name": "stdout",
     "output_type": "stream",
     "text": [
      "This is from Dummy Method\n",
      "This is from Sky Class\n"
     ]
    }
   ],
   "source": [
    "# eg\n",
    "\n",
    "class parent:\n",
    "    def sky(self):  # Public\n",
    "        print(\"This is from Sky Class\")\n",
    "        \n",
    "        \n",
    "    def dummy(self):\n",
    "        print(\"This is from Dummy Method\")\n",
    "        self.sky()\n",
    "        \n",
    "obj_p=parent()\n",
    "obj_p.dummy()"
   ]
  },
  {
   "cell_type": "code",
   "execution_count": 11,
   "id": "6b6bce0f",
   "metadata": {},
   "outputs": [
    {
     "name": "stdout",
     "output_type": "stream",
     "text": [
      "This is from Dummy Method\n",
      "This is from Sky Class\n"
     ]
    }
   ],
   "source": [
    "# eg\n",
    "\n",
    "class parent:\n",
    "    def sky(self):  # Public\n",
    "        print(\"This is from Sky Class\")\n",
    "        \n",
    "class child(parent):\n",
    "    \n",
    "    def c1(self):\n",
    "        print(\"This is from Dummy Method\")\n",
    "        self.sky()\n",
    "        \n",
    "obj_p=child()\n",
    "obj_p.c1()"
   ]
  },
  {
   "cell_type": "markdown",
   "id": "a889f1eb",
   "metadata": {},
   "source": [
    "#### <font color=\"teal\" size=4>PROTECTED METHOD</font>"
   ]
  },
  {
   "cell_type": "code",
   "execution_count": 12,
   "id": "937f3cc6",
   "metadata": {},
   "outputs": [
    {
     "name": "stdout",
     "output_type": "stream",
     "text": [
      "This is from Sky Class\n"
     ]
    }
   ],
   "source": [
    "# eg\n",
    "\n",
    "class parent:\n",
    "    def _sky(self):  # Protected\n",
    "        print(\"This is from Sky Class\")\n",
    "obj_p=parent()\n",
    "obj_p._sky()"
   ]
  },
  {
   "cell_type": "code",
   "execution_count": 13,
   "id": "1f415d6b",
   "metadata": {},
   "outputs": [
    {
     "name": "stdout",
     "output_type": "stream",
     "text": [
      "This is from Dummy Method\n",
      "This is from Sky Class\n"
     ]
    }
   ],
   "source": [
    "# eg\n",
    "\n",
    "class parent:\n",
    "    def _sky(self):  # Protected\n",
    "        print(\"This is from Sky Class\")\n",
    "        \n",
    "        \n",
    "    def dummy(self):\n",
    "        print(\"This is from Dummy Method\")\n",
    "        self._sky()\n",
    "        \n",
    "obj_p=parent()\n",
    "obj_p.dummy()"
   ]
  },
  {
   "cell_type": "code",
   "execution_count": 14,
   "id": "3158fefe",
   "metadata": {},
   "outputs": [
    {
     "name": "stdout",
     "output_type": "stream",
     "text": [
      "This is from Dummy Method\n",
      "This is from Sky Class\n"
     ]
    }
   ],
   "source": [
    "# eg\n",
    "\n",
    "class parent:\n",
    "    def _sky(self):  # Protected\n",
    "        print(\"This is from Sky Class\")\n",
    "        \n",
    "class child(parent):\n",
    "    \n",
    "    def c1(self):\n",
    "        print(\"This is from Dummy Method\")\n",
    "        self._sky()\n",
    "        \n",
    "obj_p=child()\n",
    "obj_p.c1()"
   ]
  },
  {
   "cell_type": "markdown",
   "id": "18d45053",
   "metadata": {},
   "source": [
    "#### <font color=\"teal\" size=4>PRIVATE METHOD</font>"
   ]
  },
  {
   "cell_type": "code",
   "execution_count": 15,
   "id": "bc27fbdc",
   "metadata": {},
   "outputs": [
    {
     "ename": "AttributeError",
     "evalue": "'parent' object has no attribute '__sky'",
     "output_type": "error",
     "traceback": [
      "\u001b[1;31m---------------------------------------------------------------------------\u001b[0m",
      "\u001b[1;31mAttributeError\u001b[0m                            Traceback (most recent call last)",
      "\u001b[1;32m~\\AppData\\Local\\Temp\\ipykernel_26972\\1723194099.py\u001b[0m in \u001b[0;36m<module>\u001b[1;34m\u001b[0m\n\u001b[0;32m      4\u001b[0m \u001b[1;33m\u001b[0m\u001b[0m\n\u001b[0;32m      5\u001b[0m \u001b[0mobj_p\u001b[0m\u001b[1;33m=\u001b[0m\u001b[0mparent\u001b[0m\u001b[1;33m(\u001b[0m\u001b[1;33m)\u001b[0m\u001b[1;33m\u001b[0m\u001b[1;33m\u001b[0m\u001b[0m\n\u001b[1;32m----> 6\u001b[1;33m \u001b[0mobj_p\u001b[0m\u001b[1;33m.\u001b[0m\u001b[0m__sky\u001b[0m\u001b[1;33m(\u001b[0m\u001b[1;33m)\u001b[0m\u001b[1;33m\u001b[0m\u001b[1;33m\u001b[0m\u001b[0m\n\u001b[0m",
      "\u001b[1;31mAttributeError\u001b[0m: 'parent' object has no attribute '__sky'"
     ]
    }
   ],
   "source": [
    "class parent:\n",
    "    def __sky(self):  # Private\n",
    "        print(\"This is from Sky Class\")\n",
    "        \n",
    "obj_p=parent()\n",
    "obj_p.__sky()"
   ]
  },
  {
   "cell_type": "code",
   "execution_count": 21,
   "id": "1c8e4508",
   "metadata": {},
   "outputs": [
    {
     "name": "stdout",
     "output_type": "stream",
     "text": [
      "This is from Dummy Method\n"
     ]
    },
    {
     "ename": "AttributeError",
     "evalue": "'child' object has no attribute '_child__sky'",
     "output_type": "error",
     "traceback": [
      "\u001b[1;31m---------------------------------------------------------------------------\u001b[0m",
      "\u001b[1;31mAttributeError\u001b[0m                            Traceback (most recent call last)",
      "\u001b[1;32m~\\AppData\\Local\\Temp\\ipykernel_26972\\339259159.py\u001b[0m in \u001b[0;36m<module>\u001b[1;34m\u001b[0m\n\u001b[0;32m     12\u001b[0m \u001b[1;33m\u001b[0m\u001b[0m\n\u001b[0;32m     13\u001b[0m \u001b[0mobj_p\u001b[0m\u001b[1;33m=\u001b[0m\u001b[0mchild\u001b[0m\u001b[1;33m(\u001b[0m\u001b[1;33m)\u001b[0m\u001b[1;33m\u001b[0m\u001b[1;33m\u001b[0m\u001b[0m\n\u001b[1;32m---> 14\u001b[1;33m \u001b[0mobj_p\u001b[0m\u001b[1;33m.\u001b[0m\u001b[0mc1\u001b[0m\u001b[1;33m(\u001b[0m\u001b[1;33m)\u001b[0m\u001b[1;33m\u001b[0m\u001b[1;33m\u001b[0m\u001b[0m\n\u001b[0m",
      "\u001b[1;32m~\\AppData\\Local\\Temp\\ipykernel_26972\\339259159.py\u001b[0m in \u001b[0;36mc1\u001b[1;34m(self)\u001b[0m\n\u001b[0;32m      9\u001b[0m     \u001b[1;32mdef\u001b[0m \u001b[0mc1\u001b[0m\u001b[1;33m(\u001b[0m\u001b[0mself\u001b[0m\u001b[1;33m)\u001b[0m\u001b[1;33m:\u001b[0m\u001b[1;33m\u001b[0m\u001b[1;33m\u001b[0m\u001b[0m\n\u001b[0;32m     10\u001b[0m         \u001b[0mprint\u001b[0m\u001b[1;33m(\u001b[0m\u001b[1;34m\"This is from Dummy Method\"\u001b[0m\u001b[1;33m)\u001b[0m\u001b[1;33m\u001b[0m\u001b[1;33m\u001b[0m\u001b[0m\n\u001b[1;32m---> 11\u001b[1;33m         \u001b[0mself\u001b[0m\u001b[1;33m.\u001b[0m\u001b[0m__sky\u001b[0m\u001b[1;33m(\u001b[0m\u001b[1;33m)\u001b[0m\u001b[1;33m\u001b[0m\u001b[1;33m\u001b[0m\u001b[0m\n\u001b[0m\u001b[0;32m     12\u001b[0m \u001b[1;33m\u001b[0m\u001b[0m\n\u001b[0;32m     13\u001b[0m \u001b[0mobj_p\u001b[0m\u001b[1;33m=\u001b[0m\u001b[0mchild\u001b[0m\u001b[1;33m(\u001b[0m\u001b[1;33m)\u001b[0m\u001b[1;33m\u001b[0m\u001b[1;33m\u001b[0m\u001b[0m\n",
      "\u001b[1;31mAttributeError\u001b[0m: 'child' object has no attribute '_child__sky'"
     ]
    }
   ],
   "source": [
    "# eg\n",
    "\n",
    "class parent:\n",
    "    def __sky(self):  \n",
    "        print(\"This is from Sky Class\")\n",
    "        \n",
    "class child(parent):\n",
    "    \n",
    "    def c1(self):\n",
    "        print(\"This is from Dummy Method\")\n",
    "        self.__sky()\n",
    "        \n",
    "obj_p=child()\n",
    "obj_p.c1()"
   ]
  },
  {
   "cell_type": "code",
   "execution_count": null,
   "id": "e45e3c5f",
   "metadata": {},
   "outputs": [],
   "source": [
    "#eg\n",
    "\n",
    "class parent:\n",
    "    def __sky(self):  \n",
    "        print(\"This is from Sky Class\")\n",
    "        \n",
    "        \n",
    "    def dummy(self):\n",
    "        print(\"This is from Dummy Method\")\n",
    "        self.__sky()\n",
    "        \n",
    "obj_p=parent()\n",
    "obj_p.dummy()"
   ]
  },
  {
   "cell_type": "markdown",
   "id": "41b54211",
   "metadata": {},
   "source": [
    "### "
   ]
  },
  {
   "cell_type": "markdown",
   "id": "011522d3",
   "metadata": {},
   "source": [
    "### <font color=\"brown\">VARIABLE ACCESS SPECIFIER</font>"
   ]
  },
  {
   "cell_type": "code",
   "execution_count": 16,
   "id": "896a0b79",
   "metadata": {},
   "outputs": [
    {
     "name": "stdout",
     "output_type": "stream",
     "text": [
      "Hydrabad\n"
     ]
    }
   ],
   "source": [
    "# eg\n",
    "\n",
    "class p:\n",
    "    def m1(self):\n",
    "        __city=\"Hydrabad\"\n",
    "        print(__city)\n",
    "        \n",
    "obj3=p()\n",
    "obj3.m1()"
   ]
  },
  {
   "cell_type": "code",
   "execution_count": 18,
   "id": "dab61c5e",
   "metadata": {},
   "outputs": [
    {
     "ename": "NameError",
     "evalue": "name '_p__city' is not defined",
     "output_type": "error",
     "traceback": [
      "\u001b[1;31m---------------------------------------------------------------------------\u001b[0m",
      "\u001b[1;31mNameError\u001b[0m                                 Traceback (most recent call last)",
      "\u001b[1;32m~\\AppData\\Local\\Temp\\ipykernel_26972\\974761081.py\u001b[0m in \u001b[0;36m<module>\u001b[1;34m\u001b[0m\n\u001b[0;32m      9\u001b[0m \u001b[1;33m\u001b[0m\u001b[0m\n\u001b[0;32m     10\u001b[0m \u001b[0mobj3\u001b[0m\u001b[1;33m=\u001b[0m\u001b[0mp\u001b[0m\u001b[1;33m(\u001b[0m\u001b[1;33m)\u001b[0m\u001b[1;33m\u001b[0m\u001b[1;33m\u001b[0m\u001b[0m\n\u001b[1;32m---> 11\u001b[1;33m \u001b[0mobj3\u001b[0m\u001b[1;33m.\u001b[0m\u001b[0mm2\u001b[0m\u001b[1;33m(\u001b[0m\u001b[1;33m)\u001b[0m\u001b[1;33m\u001b[0m\u001b[1;33m\u001b[0m\u001b[0m\n\u001b[0m\u001b[0;32m     12\u001b[0m \u001b[0m_p\u001b[0m\u001b[1;33m.\u001b[0m\u001b[0m__city\u001b[0m\u001b[1;33m\u001b[0m\u001b[1;33m\u001b[0m\u001b[0m\n",
      "\u001b[1;32m~\\AppData\\Local\\Temp\\ipykernel_26972\\974761081.py\u001b[0m in \u001b[0;36mm2\u001b[1;34m(self)\u001b[0m\n\u001b[0;32m      6\u001b[0m         \u001b[0mprint\u001b[0m\u001b[1;33m(\u001b[0m\u001b[0m__city\u001b[0m\u001b[1;33m)\u001b[0m\u001b[1;33m\u001b[0m\u001b[1;33m\u001b[0m\u001b[0m\n\u001b[0;32m      7\u001b[0m     \u001b[1;32mdef\u001b[0m \u001b[0mm2\u001b[0m\u001b[1;33m(\u001b[0m\u001b[0mself\u001b[0m\u001b[1;33m)\u001b[0m\u001b[1;33m:\u001b[0m\u001b[1;33m\u001b[0m\u001b[1;33m\u001b[0m\u001b[0m\n\u001b[1;32m----> 8\u001b[1;33m         \u001b[0mprint\u001b[0m\u001b[1;33m(\u001b[0m\u001b[0m__city\u001b[0m\u001b[1;33m)\u001b[0m\u001b[1;33m\u001b[0m\u001b[1;33m\u001b[0m\u001b[0m\n\u001b[0m\u001b[0;32m      9\u001b[0m \u001b[1;33m\u001b[0m\u001b[0m\n\u001b[0;32m     10\u001b[0m \u001b[0mobj3\u001b[0m\u001b[1;33m=\u001b[0m\u001b[0mp\u001b[0m\u001b[1;33m(\u001b[0m\u001b[1;33m)\u001b[0m\u001b[1;33m\u001b[0m\u001b[1;33m\u001b[0m\u001b[0m\n",
      "\u001b[1;31mNameError\u001b[0m: name '_p__city' is not defined"
     ]
    }
   ],
   "source": [
    "# eg\n",
    "\n",
    "class p:\n",
    "    def m1(self):\n",
    "        __city=\"Hydrabad\"\n",
    "        print(__city)\n",
    "    def m2(self):\n",
    "        print(__city)\n",
    "        \n",
    "obj3=p()\n",
    "obj3.m2()\n",
    "_p.__city"
   ]
  },
  {
   "cell_type": "markdown",
   "id": "a880f64e",
   "metadata": {},
   "source": [
    "### "
   ]
  },
  {
   "cell_type": "markdown",
   "id": "5340049f",
   "metadata": {},
   "source": [
    "### <font color=\"red\">CAN WE CHANGE THE VARIBLE FROM OUTSIDE IF THIS VARIABLE IS PROTECTED?</font>"
   ]
  },
  {
   "cell_type": "code",
   "execution_count": 23,
   "id": "5722afc0",
   "metadata": {},
   "outputs": [
    {
     "ename": "AttributeError",
     "evalue": "'Person' object has no attribute '__name'",
     "output_type": "error",
     "traceback": [
      "\u001b[1;31m---------------------------------------------------------------------------\u001b[0m",
      "\u001b[1;31mAttributeError\u001b[0m                            Traceback (most recent call last)",
      "\u001b[1;32m~\\AppData\\Local\\Temp\\ipykernel_26972\\522418379.py\u001b[0m in \u001b[0;36m<module>\u001b[1;34m\u001b[0m\n\u001b[0;32m      5\u001b[0m \u001b[1;33m\u001b[0m\u001b[0m\n\u001b[0;32m      6\u001b[0m \u001b[0mp1\u001b[0m\u001b[1;33m=\u001b[0m\u001b[0mPerson\u001b[0m\u001b[1;33m(\u001b[0m\u001b[1;33m)\u001b[0m\u001b[1;33m\u001b[0m\u001b[1;33m\u001b[0m\u001b[0m\n\u001b[1;32m----> 7\u001b[1;33m \u001b[0mp1\u001b[0m\u001b[1;33m.\u001b[0m\u001b[0m__name\u001b[0m\u001b[1;33m\u001b[0m\u001b[1;33m\u001b[0m\u001b[0m\n\u001b[0m",
      "\u001b[1;31mAttributeError\u001b[0m: 'Person' object has no attribute '__name'"
     ]
    }
   ],
   "source": [
    "class Person:\n",
    "    \n",
    "    def __init__(self):\n",
    "        self.__name=\"Mitra\"\n",
    "        \n",
    "p1=Person()\n",
    "p1.__name"
   ]
  },
  {
   "cell_type": "code",
   "execution_count": 24,
   "id": "80d98c60",
   "metadata": {},
   "outputs": [],
   "source": [
    "class Person:\n",
    "    \n",
    "    def __init__(self):\n",
    "        self.__name=\"Mitra\"\n",
    "        \n",
    "p1=Person()\n",
    "p1.__name=\"Bhanu\""
   ]
  },
  {
   "cell_type": "markdown",
   "id": "a0311c88",
   "metadata": {},
   "source": [
    "* NO WE CAN NOT CHANGE THE VARIABLE VALUE,BECAUSE AFTER USING PROTECTED ACCESS SPECIFIED,IT CREATE A NEW NAME OF THIS VARIABLE `_classname__variablename` AND THE VALUE STORE INSIDE THIS.\n",
    "\n",
    "\n",
    "* IF YOU GIVE A NEW VARIABLE BY USING THE OLD ONE,THEN IT CREATE A NEW VARIABLE THAT IS `__VARIABLENAME`."
   ]
  },
  {
   "attachments": {
    "python%20tutor.png": {
     "image/png": "[encoded data removed]"
    }
   },
   "cell_type": "markdown",
   "id": "2a101b74",
   "metadata": {},
   "source": [
    "![python%20tutor.png](attachment:python%20tutor.png)"
   ]
  },
  {
   "cell_type": "markdown",
   "id": "93623e7e",
   "metadata": {},
   "source": [
    "### "
   ]
  },
  {
   "cell_type": "markdown",
   "id": "08a3f0c7",
   "metadata": {},
   "source": [
    "### <font color=\"red\">CAN WE EXECUTE THE VARIBLE FROM OUTSIDE IF THIS VARIABLE IS PROTECTED?</font>"
   ]
  },
  {
   "cell_type": "code",
   "execution_count": 26,
   "id": "f01b4a35",
   "metadata": {},
   "outputs": [
    {
     "data": {
      "text/plain": [
       "'Mitra'"
      ]
     },
     "execution_count": 26,
     "metadata": {},
     "output_type": "execute_result"
    }
   ],
   "source": [
    "class Person:\n",
    "    \n",
    "    def __init__(self):\n",
    "        self.__name=\"Mitra\"\n",
    "        \n",
    "p1=Person()\n",
    "p1._Person__name"
   ]
  },
  {
   "cell_type": "markdown",
   "id": "0197a5d6",
   "metadata": {},
   "source": [
    "* YES, WE CAN EXECUTE, BY USING **`object._classname__name`**."
   ]
  },
  {
   "cell_type": "markdown",
   "id": "676e15f1",
   "metadata": {},
   "source": [
    "##### <font color=\"brown\">HERE ANOTHER MOST IMPORTANT CONCEPT CAME i.e. `getter` & `setter`.</font>"
   ]
  },
  {
   "cell_type": "markdown",
   "id": "871b2dd7",
   "metadata": {},
   "source": [
    "#### <font color=\"red\">getter:</font>\n",
    "* It will show the Private Variable.\n",
    "\n",
    "#### <font color=\"red\">setter:</font>\n",
    "* It will give you to change the Value of Private Variable."
   ]
  },
  {
   "cell_type": "code",
   "execution_count": 27,
   "id": "cd758d9b",
   "metadata": {},
   "outputs": [],
   "source": [
    "class Person:\n",
    "    \n",
    "    def __init__(self):\n",
    "        self.__name=\"Mitra\"\n",
    "        \n",
    "    def get_name(self):\n",
    "        return self.__name\n",
    "    \n",
    "    def set_name(self,new_value):\n",
    "        self.__name=new_value\n",
    "        \n",
    "p1=Person()"
   ]
  },
  {
   "cell_type": "code",
   "execution_count": 28,
   "id": "82376137",
   "metadata": {},
   "outputs": [
    {
     "data": {
      "text/plain": [
       "'Mitra'"
      ]
     },
     "execution_count": 28,
     "metadata": {},
     "output_type": "execute_result"
    }
   ],
   "source": [
    "p1.get_name()  # We can see the Private Variable."
   ]
  },
  {
   "cell_type": "code",
   "execution_count": 29,
   "id": "3411cefc",
   "metadata": {},
   "outputs": [],
   "source": [
    "p1.set_name(\"Bhanu\")   # We can change the Private Variable."
   ]
  },
  {
   "cell_type": "code",
   "execution_count": 30,
   "id": "acb5d83a",
   "metadata": {},
   "outputs": [
    {
     "data": {
      "text/plain": [
       "'Bhanu'"
      ]
     },
     "execution_count": 30,
     "metadata": {},
     "output_type": "execute_result"
    }
   ],
   "source": [
    "p1.get_name()"
   ]
  },
  {
   "cell_type": "markdown",
   "id": "dd4cca38",
   "metadata": {},
   "source": [
    "****************************************************************"
   ]
  }
 ],
 "metadata": {
  "kernelspec": {
   "display_name": "Python 3 (ipykernel)",
   "language": "python",
   "name": "python3"
  },
  "language_info": {
   "codemirror_mode": {
    "name": "ipython",
    "version": 3
   },
   "file_extension": ".py",
   "mimetype": "text/x-python",
   "name": "python",
   "nbconvert_exporter": "python",
   "pygments_lexer": "ipython3",
   "version": "3.9.13"
  }
 },
 "nbformat": 4,
 "nbformat_minor": 5
}
