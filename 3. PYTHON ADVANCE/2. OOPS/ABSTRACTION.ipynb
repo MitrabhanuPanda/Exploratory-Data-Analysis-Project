{
 "cells": [
  {
   "cell_type": "markdown",
   "id": "3ac852f9",
   "metadata": {},
   "source": [
    "<h1 style=\"text-align : center\"> <font color=\"purple\" size=6> ABSTRACTION </h1>"
   ]
  },
  {
   "cell_type": "markdown",
   "id": "2bbc5983",
   "metadata": {},
   "source": [
    "## <font color=\"red\">WHAT IS ABSTRACTION?</font>\n",
    "* IT PROVIDES SECURITY.\n",
    "* IT IS IMPLEMENTING THE SECURITY BY HIDING INTERNAL MECHANISM.\n",
    "    * TO AVOID UNAUTORIZED USER ACCESSING INTERNAL MECHANISM.\n",
    "    * HIDING INTERNAL MECHANISM NOT TO SHOW UNNECESSARY INFORMATION TO THE USER."
   ]
  },
  {
   "cell_type": "markdown",
   "id": "83c0e145",
   "metadata": {},
   "source": [
    "### <font color=\"red\">IMPLEMENTATION OF ABSTRACTION</font>\n",
    "* IT IS IMPLEMENTED IN TWO STEPS PROCESS:\n",
    "\n",
    "\n",
    "> __STEP-1__:\n",
    ">> * CREATING ABSTRACT CLASS.\n",
    "    >>> * ABSTRACT CLASS IS CREATED BY INHERITING PROPERTIES OF BUILD-IN ABSTRACT CLASS BY THE NAME \"ABC\" TO YOUR USER DEFINED CLASS.\n",
    "    \n",
    "    \n",
    "> __STEP-2__:\n",
    ">> * CREATING ABSTRACT METHOD\n",
    "    >>> * ABSTRACT METHOD IS CREATED WITH THE HELP OF DECORATOR @abstractmethod.\n",
    "   >>> * ABSTRACT METHOD SHOULD NOT HAVE IMPLEMENTATION(LOGIC) WITHIN ABSTRACT CLASS.\n",
    "   >>> * WE CAN HAVE \"n\" NUMBER OF ABSTRCAT METHOD WITHIN THE ABSTRACT CLASS.\n",
    "   \n",
    "__`NON ABSTRACT METHOD WITHIN ABSTRACT CLASS IS CALLED CONCRETE METHOD`__\n",
    "\n",
    "__` THESE CONCRETE HOLDS ACTUAL LOGIC WITHIN ABSTRACT CLASS.`__"
   ]
  },
  {
   "cell_type": "code",
   "execution_count": 1,
   "id": "77922fb6",
   "metadata": {},
   "outputs": [],
   "source": [
    "from abc import ABC,abstractmethod"
   ]
  },
  {
   "cell_type": "code",
   "execution_count": 2,
   "id": "b1812a1a",
   "metadata": {},
   "outputs": [
    {
     "ename": "TypeError",
     "evalue": "Can't instantiate abstract class absclass with abstract method abs",
     "output_type": "error",
     "traceback": [
      "\u001b[1;31m---------------------------------------------------------------------------\u001b[0m",
      "\u001b[1;31mTypeError\u001b[0m                                 Traceback (most recent call last)",
      "\u001b[1;32m~\\AppData\\Local\\Temp\\ipykernel_32728\\3349203617.py\u001b[0m in \u001b[0;36m<module>\u001b[1;34m\u001b[0m\n\u001b[0;32m      5\u001b[0m         \u001b[0mprint\u001b[0m\u001b[1;33m(\u001b[0m\u001b[1;34m\"This is from abs Method\"\u001b[0m\u001b[1;33m)\u001b[0m\u001b[1;33m\u001b[0m\u001b[1;33m\u001b[0m\u001b[0m\n\u001b[0;32m      6\u001b[0m \u001b[1;33m\u001b[0m\u001b[0m\n\u001b[1;32m----> 7\u001b[1;33m \u001b[0mobj1\u001b[0m\u001b[1;33m=\u001b[0m\u001b[0mabsclass\u001b[0m\u001b[1;33m(\u001b[0m\u001b[1;33m)\u001b[0m\u001b[1;33m\u001b[0m\u001b[1;33m\u001b[0m\u001b[0m\n\u001b[0m\u001b[0;32m      8\u001b[0m \u001b[0mobj1\u001b[0m\u001b[1;33m.\u001b[0m\u001b[0mabs\u001b[0m\u001b[1;33m(\u001b[0m\u001b[1;33m)\u001b[0m\u001b[1;33m\u001b[0m\u001b[1;33m\u001b[0m\u001b[0m\n",
      "\u001b[1;31mTypeError\u001b[0m: Can't instantiate abstract class absclass with abstract method abs"
     ]
    }
   ],
   "source": [
    "class absclass(ABC):\n",
    "    \n",
    "    @abstractmethod\n",
    "    def abs(self):\n",
    "        print(\"This is from abs Method\")\n",
    "        \n",
    "obj1=absclass()\n",
    "obj1.abs()"
   ]
  },
  {
   "cell_type": "code",
   "execution_count": 3,
   "id": "32a1583c",
   "metadata": {},
   "outputs": [
    {
     "ename": "TypeError",
     "evalue": "Can't instantiate abstract class absclass with abstract methods abs, abs1",
     "output_type": "error",
     "traceback": [
      "\u001b[1;31m---------------------------------------------------------------------------\u001b[0m",
      "\u001b[1;31mTypeError\u001b[0m                                 Traceback (most recent call last)",
      "\u001b[1;32m~\\AppData\\Local\\Temp\\ipykernel_32728\\2110324854.py\u001b[0m in \u001b[0;36m<module>\u001b[1;34m\u001b[0m\n\u001b[0;32m     10\u001b[0m         \u001b[1;32mfor\u001b[0m \u001b[0mi\u001b[0m \u001b[1;32min\u001b[0m \u001b[0mrange\u001b[0m\u001b[1;33m(\u001b[0m\u001b[1;36m1\u001b[0m\u001b[1;33m,\u001b[0m\u001b[1;36m11\u001b[0m\u001b[1;33m)\u001b[0m\u001b[1;33m:\u001b[0m\u001b[1;33m\u001b[0m\u001b[1;33m\u001b[0m\u001b[0m\n\u001b[0;32m     11\u001b[0m             \u001b[0mprint\u001b[0m\u001b[1;33m(\u001b[0m\u001b[1;36m9\u001b[0m\u001b[1;33m,\u001b[0m\u001b[1;34m\"*\"\u001b[0m\u001b[1;33m,\u001b[0m\u001b[0mi\u001b[0m\u001b[1;33m,\u001b[0m\u001b[1;34m\"==\"\u001b[0m\u001b[1;33m,\u001b[0m\u001b[1;36m9\u001b[0m\u001b[1;33m*\u001b[0m\u001b[0mi\u001b[0m\u001b[1;33m)\u001b[0m\u001b[1;33m\u001b[0m\u001b[1;33m\u001b[0m\u001b[0m\n\u001b[1;32m---> 12\u001b[1;33m \u001b[0mabsclass\u001b[0m\u001b[1;33m(\u001b[0m\u001b[1;33m)\u001b[0m\u001b[1;33m\u001b[0m\u001b[1;33m\u001b[0m\u001b[0m\n\u001b[0m",
      "\u001b[1;31mTypeError\u001b[0m: Can't instantiate abstract class absclass with abstract methods abs, abs1"
     ]
    }
   ],
   "source": [
    "class absclass(ABC):\n",
    "    \n",
    "    @abstractmethod\n",
    "    def abs(self):\n",
    "        pass\n",
    "    @abstractmethod\n",
    "    def abs1(self):\n",
    "        pass\n",
    "    def table(self): # Concrete \n",
    "        for i in range(1,11):\n",
    "            print(9,\"*\",i,\"==\",9*i)\n",
    "absclass()"
   ]
  },
  {
   "cell_type": "code",
   "execution_count": 4,
   "id": "87326fe8",
   "metadata": {},
   "outputs": [
    {
     "ename": "NameError",
     "evalue": "name 'abschild' is not defined",
     "output_type": "error",
     "traceback": [
      "\u001b[1;31m---------------------------------------------------------------------------\u001b[0m",
      "\u001b[1;31mNameError\u001b[0m                                 Traceback (most recent call last)",
      "\u001b[1;32m~\\AppData\\Local\\Temp\\ipykernel_32728\\1084999868.py\u001b[0m in \u001b[0;36m<module>\u001b[1;34m\u001b[0m\n\u001b[0;32m     10\u001b[0m             \u001b[0mprint\u001b[0m\u001b[1;33m(\u001b[0m\u001b[1;36m9\u001b[0m\u001b[1;33m,\u001b[0m\u001b[1;34m\"*\"\u001b[0m\u001b[1;33m,\u001b[0m\u001b[0mi\u001b[0m\u001b[1;33m,\u001b[0m\u001b[1;34m\"==\"\u001b[0m\u001b[1;33m,\u001b[0m\u001b[1;36m9\u001b[0m\u001b[1;33m*\u001b[0m\u001b[0mi\u001b[0m\u001b[1;33m)\u001b[0m\u001b[1;33m\u001b[0m\u001b[1;33m\u001b[0m\u001b[0m\n\u001b[0;32m     11\u001b[0m \u001b[1;33m\u001b[0m\u001b[0m\n\u001b[1;32m---> 12\u001b[1;33m \u001b[1;32mclass\u001b[0m \u001b[0mabschild\u001b[0m\u001b[1;33m(\u001b[0m\u001b[0mabschild\u001b[0m\u001b[1;33m)\u001b[0m\u001b[1;33m:\u001b[0m\u001b[1;33m\u001b[0m\u001b[1;33m\u001b[0m\u001b[0m\n\u001b[0m\u001b[0;32m     13\u001b[0m     \u001b[1;32mdef\u001b[0m \u001b[0msky\u001b[0m\u001b[1;33m(\u001b[0m\u001b[0mself\u001b[0m\u001b[1;33m)\u001b[0m\u001b[1;33m:\u001b[0m\u001b[1;33m\u001b[0m\u001b[1;33m\u001b[0m\u001b[0m\n\u001b[0;32m     14\u001b[0m         \u001b[0mprint\u001b[0m\u001b[1;33m(\u001b[0m\u001b[1;34m\"Hello\"\u001b[0m\u001b[1;33m)\u001b[0m\u001b[1;33m\u001b[0m\u001b[1;33m\u001b[0m\u001b[0m\n",
      "\u001b[1;31mNameError\u001b[0m: name 'abschild' is not defined"
     ]
    }
   ],
   "source": [
    "class absclass(ABC):\n",
    "    \n",
    "    @abstractmethod\n",
    "    def abs(self):\n",
    "        pass\n",
    "    \n",
    "        \n",
    "    def table(self): # Concrete \n",
    "        for i in range(1,11):\n",
    "            print(9,\"*\",i,\"==\",9*i)\n",
    "            \n",
    "class abschild(abschild):\n",
    "    def sky(self):\n",
    "        print(\"Hello\")\n",
    "        \n",
    "abschild()"
   ]
  },
  {
   "cell_type": "code",
   "execution_count": 5,
   "id": "60759325",
   "metadata": {},
   "outputs": [
    {
     "name": "stdout",
     "output_type": "stream",
     "text": [
      "Abs method\n",
      "9 * 1 == 9\n",
      "9 * 2 == 18\n",
      "9 * 3 == 27\n",
      "9 * 4 == 36\n",
      "9 * 5 == 45\n",
      "9 * 6 == 54\n",
      "9 * 7 == 63\n",
      "9 * 8 == 72\n",
      "9 * 9 == 81\n",
      "9 * 10 == 90\n"
     ]
    }
   ],
   "source": [
    "class absclass(ABC):\n",
    "    \n",
    "    @abstractmethod\n",
    "    def abs(self):\n",
    "        pass\n",
    "    \n",
    "        \n",
    "    def table(self): # Concrete \n",
    "        for i in range(1,11):\n",
    "            print(9,\"*\",i,\"==\",9*i)\n",
    "            \n",
    "class abschild(absclass):\n",
    "    def sky(self):\n",
    "        print(\"Hello\")\n",
    "        \n",
    "    \n",
    "    def abs(self):\n",
    "        print(\"Abs method\")\n",
    "    \n",
    "        \n",
    "obj=abschild()\n",
    "obj.abs()\n",
    "obj.table()"
   ]
  },
  {
   "cell_type": "code",
   "execution_count": 6,
   "id": "f24cca98",
   "metadata": {},
   "outputs": [
    {
     "ename": "TypeError",
     "evalue": "Can't instantiate abstract class abschild with abstract method abs1",
     "output_type": "error",
     "traceback": [
      "\u001b[1;31m---------------------------------------------------------------------------\u001b[0m",
      "\u001b[1;31mTypeError\u001b[0m                                 Traceback (most recent call last)",
      "\u001b[1;32m~\\AppData\\Local\\Temp\\ipykernel_32728\\4203567142.py\u001b[0m in \u001b[0;36m<module>\u001b[1;34m\u001b[0m\n\u001b[0;32m     18\u001b[0m         \u001b[0mprint\u001b[0m\u001b[1;33m(\u001b[0m\u001b[1;34m\"Abs method\"\u001b[0m\u001b[1;33m)\u001b[0m\u001b[1;33m\u001b[0m\u001b[1;33m\u001b[0m\u001b[0m\n\u001b[0;32m     19\u001b[0m \u001b[1;33m\u001b[0m\u001b[0m\n\u001b[1;32m---> 20\u001b[1;33m \u001b[0mobj\u001b[0m\u001b[1;33m=\u001b[0m\u001b[0mabschild\u001b[0m\u001b[1;33m(\u001b[0m\u001b[1;33m)\u001b[0m\u001b[1;33m\u001b[0m\u001b[1;33m\u001b[0m\u001b[0m\n\u001b[0m\u001b[0;32m     21\u001b[0m \u001b[0mobj\u001b[0m\u001b[1;33m.\u001b[0m\u001b[0mabs\u001b[0m\u001b[1;33m(\u001b[0m\u001b[1;33m)\u001b[0m\u001b[1;33m\u001b[0m\u001b[1;33m\u001b[0m\u001b[0m\n\u001b[0;32m     22\u001b[0m \u001b[0mobj\u001b[0m\u001b[1;33m.\u001b[0m\u001b[0mtable\u001b[0m\u001b[1;33m(\u001b[0m\u001b[1;33m)\u001b[0m\u001b[1;33m\u001b[0m\u001b[1;33m\u001b[0m\u001b[0m\n",
      "\u001b[1;31mTypeError\u001b[0m: Can't instantiate abstract class abschild with abstract method abs1"
     ]
    }
   ],
   "source": [
    "class absparent(ABC):\n",
    "    \n",
    "    @abstractmethod\n",
    "    def abs(self):\n",
    "        pass\n",
    "    @abstractmethod\n",
    "    def abs1(self):\n",
    "        pass\n",
    "    def table(self): \n",
    "        for i in range(1,11):\n",
    "            print(9,\"*\",i,\"==\",9*i)\n",
    "            \n",
    "class abschild(absparent):\n",
    "    def sky(self):\n",
    "        print(\"Hello\")\n",
    "        \n",
    "    def abs(self):\n",
    "        print(\"Abs method\")\n",
    "\n",
    "obj=abschild()\n",
    "obj.abs()\n",
    "obj.table()\n",
    "obj.sky()"
   ]
  },
  {
   "cell_type": "code",
   "execution_count": 7,
   "id": "31102d61",
   "metadata": {},
   "outputs": [
    {
     "name": "stdout",
     "output_type": "stream",
     "text": [
      "Abs method\n",
      "9 * 1 == 9\n",
      "9 * 2 == 18\n",
      "9 * 3 == 27\n",
      "9 * 4 == 36\n",
      "9 * 5 == 45\n",
      "9 * 6 == 54\n",
      "9 * 7 == 63\n",
      "9 * 8 == 72\n",
      "9 * 9 == 81\n",
      "9 * 10 == 90\n",
      "Hello\n",
      "Abs1 Method\n"
     ]
    }
   ],
   "source": [
    "class absparent(ABC):\n",
    "    \n",
    "    @abstractmethod\n",
    "    def abs(self):\n",
    "        pass\n",
    "    @abstractmethod\n",
    "    def abs1(self):\n",
    "        pass\n",
    "    def table(self): \n",
    "        for i in range(1,11):\n",
    "            print(9,\"*\",i,\"==\",9*i)\n",
    "            \n",
    "class abschild(absparent):\n",
    "    def sky(self):\n",
    "        print(\"Hello\")\n",
    "        \n",
    "    def abs(self):\n",
    "        print(\"Abs method\")\n",
    "        \n",
    "class absgchild(abschild):\n",
    "    def abs1(self):\n",
    "        print(\"Abs1 Method\")\n",
    "\n",
    "obj=absgchild()\n",
    "obj.abs()\n",
    "obj.table()\n",
    "obj.sky()\n",
    "obj.abs1()"
   ]
  },
  {
   "cell_type": "code",
   "execution_count": 8,
   "id": "0a2de35f",
   "metadata": {},
   "outputs": [
    {
     "ename": "TypeError",
     "evalue": "Can't instantiate abstract class abschild5 with abstract method abs1",
     "output_type": "error",
     "traceback": [
      "\u001b[1;31m---------------------------------------------------------------------------\u001b[0m",
      "\u001b[1;31mTypeError\u001b[0m                                 Traceback (most recent call last)",
      "\u001b[1;32m~\\AppData\\Local\\Temp\\ipykernel_32728\\2231542392.py\u001b[0m in \u001b[0;36m<module>\u001b[1;34m\u001b[0m\n\u001b[0;32m     31\u001b[0m         \u001b[0mprint\u001b[0m\u001b[1;33m(\u001b[0m\u001b[1;34m\"c5 Method\"\u001b[0m\u001b[1;33m)\u001b[0m\u001b[1;33m\u001b[0m\u001b[1;33m\u001b[0m\u001b[0m\n\u001b[0;32m     32\u001b[0m \u001b[1;33m\u001b[0m\u001b[0m\n\u001b[1;32m---> 33\u001b[1;33m \u001b[0mobj\u001b[0m\u001b[1;33m=\u001b[0m\u001b[0mabschild5\u001b[0m\u001b[1;33m(\u001b[0m\u001b[1;33m)\u001b[0m\u001b[1;33m\u001b[0m\u001b[1;33m\u001b[0m\u001b[0m\n\u001b[0m",
      "\u001b[1;31mTypeError\u001b[0m: Can't instantiate abstract class abschild5 with abstract method abs1"
     ]
    }
   ],
   "source": [
    "class absparent(ABC):\n",
    "    \n",
    "    @abstractmethod\n",
    "    def abs(self):\n",
    "        pass\n",
    "    @abstractmethod\n",
    "    def abs1(self):\n",
    "        pass\n",
    "    def table(self): \n",
    "        for i in range(1,11):\n",
    "            print(9,\"*\",i,\"==\",9*i)\n",
    "            \n",
    "class abschild(absparent):\n",
    "    def sky(self):\n",
    "        print(\"Hello\")\n",
    "        \n",
    "    def abs(self):\n",
    "        print(\"Abs method\")\n",
    "        \n",
    "class abschild2(abschild):\n",
    "    def c2(self):\n",
    "        print(\"c2 Method\")\n",
    "class abschild3(abschild):\n",
    "    def c3(self):\n",
    "        print(\"c3 Method\")\n",
    "class abschild4(abschild):\n",
    "    def c4(self):\n",
    "        print(\"c4 Method\")\n",
    "class abschild5(abschild):\n",
    "    def c5(self):\n",
    "        print(\"c5 Method\")\n",
    "\n",
    "obj=abschild5()\n"
   ]
  },
  {
   "cell_type": "markdown",
   "id": "a1b7f2c3",
   "metadata": {},
   "source": [
    "### "
   ]
  },
  {
   "cell_type": "code",
   "execution_count": 9,
   "id": "42342eb9",
   "metadata": {},
   "outputs": [],
   "source": [
    "class BankApp(ABC):\n",
    "\n",
    "  def database(self):\n",
    "    print('connected to database')\n",
    "\n",
    "  @abstractmethod\n",
    "  def security(self):\n",
    "    pass\n",
    "\n",
    "  @abstractmethod\n",
    "  def display(self):\n",
    "    pass"
   ]
  },
  {
   "cell_type": "code",
   "execution_count": 10,
   "id": "294f7442",
   "metadata": {},
   "outputs": [],
   "source": [
    "class MobileApp(BankApp):\n",
    "\n",
    "  def mobile_login(self):\n",
    "    print('login into mobile')\n",
    "\n",
    "  def security(self):\n",
    "    print('mobile security')\n",
    "\n",
    "  def display(self):\n",
    "    print('display')"
   ]
  },
  {
   "cell_type": "code",
   "execution_count": 11,
   "id": "15305eab",
   "metadata": {},
   "outputs": [],
   "source": [
    "mob = MobileApp()"
   ]
  },
  {
   "cell_type": "code",
   "execution_count": 12,
   "id": "c0ceb4fa",
   "metadata": {},
   "outputs": [
    {
     "name": "stdout",
     "output_type": "stream",
     "text": [
      "mobile security\n"
     ]
    }
   ],
   "source": [
    "mob.security()"
   ]
  },
  {
   "cell_type": "code",
   "execution_count": 13,
   "id": "be8a9252",
   "metadata": {},
   "outputs": [
    {
     "ename": "TypeError",
     "evalue": "Can't instantiate abstract class BankApp with abstract methods display, security",
     "output_type": "error",
     "traceback": [
      "\u001b[1;31m---------------------------------------------------------------------------\u001b[0m",
      "\u001b[1;31mTypeError\u001b[0m                                 Traceback (most recent call last)",
      "\u001b[1;32m~\\AppData\\Local\\Temp\\ipykernel_32728\\1177365575.py\u001b[0m in \u001b[0;36m<module>\u001b[1;34m\u001b[0m\n\u001b[1;32m----> 1\u001b[1;33m \u001b[0mobj\u001b[0m \u001b[1;33m=\u001b[0m \u001b[0mBankApp\u001b[0m\u001b[1;33m(\u001b[0m\u001b[1;33m)\u001b[0m\u001b[1;33m\u001b[0m\u001b[1;33m\u001b[0m\u001b[0m\n\u001b[0m",
      "\u001b[1;31mTypeError\u001b[0m: Can't instantiate abstract class BankApp with abstract methods display, security"
     ]
    }
   ],
   "source": [
    "obj = BankApp()"
   ]
  },
  {
   "cell_type": "markdown",
   "id": "67fbb886",
   "metadata": {},
   "source": [
    "**************************************************************"
   ]
  }
 ],
 "metadata": {
  "kernelspec": {
   "display_name": "Python 3 (ipykernel)",
   "language": "python",
   "name": "python3"
  },
  "language_info": {
   "codemirror_mode": {
    "name": "ipython",
    "version": 3
   },
   "file_extension": ".py",
   "mimetype": "text/x-python",
   "name": "python",
   "nbconvert_exporter": "python",
   "pygments_lexer": "ipython3",
   "version": "3.9.13"
  }
 },
 "nbformat": 4,
 "nbformat_minor": 5
}
