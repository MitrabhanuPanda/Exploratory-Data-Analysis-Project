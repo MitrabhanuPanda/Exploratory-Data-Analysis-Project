{
 "cells": [
  {
   "cell_type": "markdown",
   "id": "15aa6b21",
   "metadata": {},
   "source": [
    "<h1 style=\"text-align : center\"> <font color=\"purple\" size=6>FILES HANDLING </h1>"
   ]
  },
  {
   "cell_type": "markdown",
   "id": "fcd1fa9b",
   "metadata": {},
   "source": [
    "## <font color=\"red\">WRITE</font>"
   ]
  },
  {
   "cell_type": "code",
   "execution_count": 3,
   "id": "c25c25f9",
   "metadata": {},
   "outputs": [],
   "source": [
    "# case-1 : if the file is not present\n",
    "\n",
    "f=open(\"sample.txt\",\"w\")  # Open a file/ Create a file\n",
    "f.write(\"Hello World\")  # Write in the File\n",
    "f.close()   # Close the File"
   ]
  },
  {
   "cell_type": "code",
   "execution_count": 4,
   "id": "a3377054",
   "metadata": {},
   "outputs": [
    {
     "ename": "ValueError",
     "evalue": "I/O operation on closed file.",
     "output_type": "error",
     "traceback": [
      "\u001b[1;31m---------------------------------------------------------------------------\u001b[0m",
      "\u001b[1;31mValueError\u001b[0m                                Traceback (most recent call last)",
      "\u001b[1;32m~\\AppData\\Local\\Temp\\ipykernel_12696\\762953150.py\u001b[0m in \u001b[0;36m<module>\u001b[1;34m\u001b[0m\n\u001b[1;32m----> 1\u001b[1;33m \u001b[0mf\u001b[0m\u001b[1;33m.\u001b[0m\u001b[0mwrite\u001b[0m\u001b[1;33m(\u001b[0m\u001b[1;34m\"welcome\"\u001b[0m\u001b[1;33m)\u001b[0m\u001b[1;33m\u001b[0m\u001b[1;33m\u001b[0m\u001b[0m\n\u001b[0m",
      "\u001b[1;31mValueError\u001b[0m: I/O operation on closed file."
     ]
    }
   ],
   "source": [
    "# The file is closed so this will not work\n",
    "f.write(\"welcome\")"
   ]
  },
  {
   "cell_type": "code",
   "execution_count": 8,
   "id": "51080c97",
   "metadata": {},
   "outputs": [],
   "source": [
    "# Write Multi-line Strings\n",
    "\n",
    "f=open(\"sample1.txt\",\"w\")\n",
    "f.write(\"Hello World\")\n",
    "f.write(\"\\nHow are you?\")\n",
    "f.close()"
   ]
  },
  {
   "cell_type": "code",
   "execution_count": 9,
   "id": "da7d00bc",
   "metadata": {},
   "outputs": [],
   "source": [
    "# Case-2: If the file is Already Present\n",
    "f=open(\"sample.txt\",\"w\")\n",
    "f.write(\"Are Mera Bhai Aya He.\")\n",
    "f.close()"
   ]
  },
  {
   "cell_type": "code",
   "execution_count": null,
   "id": "50b0429e",
   "metadata": {},
   "outputs": [],
   "source": [
    "# PROBLEM WITH w MODE\n",
    "# It Delete the Old Content, when you write a new Content in this File."
   ]
  },
  {
   "cell_type": "code",
   "execution_count": 10,
   "id": "d8e8b529",
   "metadata": {},
   "outputs": [],
   "source": [
    "#  a MODE :--> It add new content inside the old file with old Content.\n",
    "\n",
    "f=open(\"sample1.txt\",\"a\")\n",
    "f.write(\"\\nI'm Fine\")\n",
    "f.write(\"\\nWhat about You?\")\n",
    "f.close()"
   ]
  },
  {
   "cell_type": "code",
   "execution_count": 11,
   "id": "1b736c5f",
   "metadata": {},
   "outputs": [],
   "source": [
    "# writelines\n",
    "# If you want to write so many lines inside a file\n",
    "\n",
    "l=[\"hello\\n\",\"hii\\n\",\"how are you\\n\",\"I am Fine\"]\n",
    "\n",
    "f=open(\"sample.txt\",\"w\")\n",
    "f.writelines(l)\n",
    "f.close()"
   ]
  },
  {
   "cell_type": "markdown",
   "id": "41090dfc",
   "metadata": {},
   "source": [
    "## <font color=\"red\">READING</font>"
   ]
  },
  {
   "cell_type": "code",
   "execution_count": 12,
   "id": "699ade63",
   "metadata": {},
   "outputs": [
    {
     "name": "stdout",
     "output_type": "stream",
     "text": [
      "hello\n",
      "hii\n",
      "how are you\n",
      "I am Fine\n"
     ]
    }
   ],
   "source": [
    "# read :--> Read all the lines\n",
    "\n",
    "f=open(\"sample.txt\",\"r\")\n",
    "s=f.read()\n",
    "print(s)\n",
    "f.close()"
   ]
  },
  {
   "cell_type": "code",
   "execution_count": 15,
   "id": "fe462566",
   "metadata": {},
   "outputs": [
    {
     "name": "stdout",
     "output_type": "stream",
     "text": [
      "hello\n",
      "hii\n",
      "\n"
     ]
    }
   ],
   "source": [
    "f=open(\"sample.txt\",\"r\")\n",
    "s=f.read(10) # Read Only 10 chararcter \n",
    "print(s)\n",
    "f.close()"
   ]
  },
  {
   "cell_type": "code",
   "execution_count": 19,
   "id": "8e6cbc5a",
   "metadata": {},
   "outputs": [
    {
     "name": "stdout",
     "output_type": "stream",
     "text": [
      "hello\n",
      "\n",
      "hii\n",
      "\n",
      "how are you\n",
      "\n",
      "I am Fine\n"
     ]
    }
   ],
   "source": [
    "# Readline :--> Read line by lines.\n",
    "\n",
    "# When you work with a big file, then readline use in this scenario.\n",
    "\n",
    "f=open(\"sample.txt\",\"r\")\n",
    "s=f.readline()\n",
    "print(s)\n",
    "s=f.readline()\n",
    "print(s)\n",
    "s=f.readline()\n",
    "print(s)\n",
    "s=f.readline()\n",
    "print(s)\n",
    "f.close()"
   ]
  },
  {
   "cell_type": "code",
   "execution_count": 20,
   "id": "4d5324a8",
   "metadata": {},
   "outputs": [
    {
     "name": "stdout",
     "output_type": "stream",
     "text": [
      "hello\n",
      "hii\n",
      "how are you\n",
      "I am Fine"
     ]
    }
   ],
   "source": [
    "# Readline :--> Read line by lines without line change/gap\n",
    "\n",
    "f=open(\"sample.txt\",\"r\")\n",
    "s=f.readline()\n",
    "print(s,end=\"\")\n",
    "s=f.readline()\n",
    "print(s,end=\"\")\n",
    "s=f.readline()\n",
    "print(s,end=\"\")\n",
    "s=f.readline()\n",
    "print(s,end=\"\")\n",
    "f.close()"
   ]
  },
  {
   "cell_type": "code",
   "execution_count": 22,
   "id": "39d4c128",
   "metadata": {},
   "outputs": [
    {
     "name": "stdout",
     "output_type": "stream",
     "text": [
      "hello\n",
      "hii\n",
      "how are you\n",
      "I am Fine"
     ]
    }
   ],
   "source": [
    "# Reading entire file using readline\n",
    "\n",
    "f=open(\"sample.txt\",\"r\")\n",
    "\n",
    "while True:\n",
    "    data = f.readline()\n",
    "    \n",
    "    if data == \"\":\n",
    "        break\n",
    "    else :\n",
    "        print(data,end=\"\")\n",
    "f.close()"
   ]
  },
  {
   "cell_type": "code",
   "execution_count": 14,
   "id": "6099d007",
   "metadata": {},
   "outputs": [
    {
     "name": "stdout",
     "output_type": "stream",
     "text": [
      "['hello\\n', 'hii\\n', 'how are you\\n', 'I am Fine']\n"
     ]
    }
   ],
   "source": [
    "# Readlines\n",
    "\n",
    "f=open(\"sample.txt\",\"r\")\n",
    "s=f.readlines()\n",
    "print(s)\n",
    "f.close()"
   ]
  },
  {
   "cell_type": "markdown",
   "id": "f2640914",
   "metadata": {},
   "source": [
    "### <font color=\"brown\">USING CONTEXT MANAGER (with) </font>\n",
    "* IT IS A GOOD IDEA TO CLOSE A FILE AFTER USAGE AS IT WILL FREE UP.\n",
    "\n",
    "\n",
    "* IF WE DON NOT CLOSE IT, GARBAGE COLLECTOR WOULD CLOSE IT.\n",
    "\n",
    "\n",
    "* `\"with\"` KEYWORD CLOSES THE FILE AS SOON AS THE USAGE IS OVER."
   ]
  },
  {
   "cell_type": "markdown",
   "id": "6051710b",
   "metadata": {},
   "source": [
    "#### <font color=\"blue\">WRITE</font>"
   ]
  },
  {
   "cell_type": "code",
   "execution_count": 27,
   "id": "a549b20d",
   "metadata": {},
   "outputs": [
    {
     "name": "stdout",
     "output_type": "stream",
     "text": [
      "False\n"
     ]
    }
   ],
   "source": [
    "# write\n",
    "\n",
    "with open(\"sample1.txt\",\"w\") as f:\n",
    "    print(f.closed)\n",
    "    f.write(\"Selmon Bhai\")"
   ]
  },
  {
   "cell_type": "code",
   "execution_count": 25,
   "id": "5d1474d2",
   "metadata": {},
   "outputs": [
    {
     "data": {
      "text/plain": [
       "True"
      ]
     },
     "execution_count": 25,
     "metadata": {},
     "output_type": "execute_result"
    }
   ],
   "source": [
    "f.closed   # It show you The file is closed or not in Boolean Form"
   ]
  },
  {
   "cell_type": "markdown",
   "id": "b289ed89",
   "metadata": {},
   "source": [
    "#### <font color=\"blue\">READ</font>"
   ]
  },
  {
   "cell_type": "code",
   "execution_count": 28,
   "id": "7426db85",
   "metadata": {},
   "outputs": [
    {
     "name": "stdout",
     "output_type": "stream",
     "text": [
      "False\n",
      "Selmon Bhai\n"
     ]
    }
   ],
   "source": [
    "# read\n",
    "\n",
    "with open(\"sample1.txt\",\"r\") as f:\n",
    "    print(f.closed)\n",
    "    print(f.read())"
   ]
  },
  {
   "cell_type": "markdown",
   "id": "8ce211f1",
   "metadata": {},
   "source": [
    "#### <font color=\"green\">MOVING WITHIN A FILE ---> 10 CHAR THEN 10 CHAR </font>"
   ]
  },
  {
   "cell_type": "code",
   "execution_count": 30,
   "id": "53664488",
   "metadata": {},
   "outputs": [
    {
     "name": "stdout",
     "output_type": "stream",
     "text": [
      "hello\n",
      "hii\n",
      "\n"
     ]
    }
   ],
   "source": [
    "with open(\"sample.txt\",\"r\") as f:\n",
    "    \n",
    "    print(f.read(10))"
   ]
  },
  {
   "cell_type": "code",
   "execution_count": 32,
   "id": "98e5d2b2",
   "metadata": {},
   "outputs": [
    {
     "name": "stdout",
     "output_type": "stream",
     "text": [
      "hello\n",
      "hii\n",
      "how are yo"
     ]
    }
   ],
   "source": [
    "with open(\"sample.txt\",\"r\") as f:\n",
    "    \n",
    "    print(f.read(10),end=\"\")\n",
    "    print(f.read(10),end=\"\")"
   ]
  },
  {
   "cell_type": "markdown",
   "id": "edae9eda",
   "metadata": {},
   "source": [
    "### <font color=\"real\">BENEFIT </font>\n",
    "* TO LOAD A BIG FILE IN MEMORY"
   ]
  },
  {
   "cell_type": "code",
   "execution_count": 33,
   "id": "b640e715",
   "metadata": {},
   "outputs": [],
   "source": [
    "big_l = [\"hello world\" for i in range(1000)]\n",
    "\n",
    "with open(\"big_file.txt\",\"w\") as f:\n",
    "    f.writelines(big_l)"
   ]
  },
  {
   "cell_type": "code",
   "execution_count": 35,
   "id": "5afe0474",
   "metadata": {},
   "outputs": [
    {
     "name": "stdout",
     "output_type": "stream",
     "text": [
      "dhello wor*orldhello *o worldhel*ello world*ldhello wo*worldhello*lo worldhe*hello worl*rldhello w* worldhell*llo worldh*dhello wor*orldhello *o worldhel*ello world*ldhello wo*worldhello*lo worldhe*hello worl*rldhello w* worldhell*llo worldh*dhello wor*orldhello *o worldhel*ello world*ldhello wo*worldhello*lo worldhe*hello worl*rldhello w* worldhell*llo worldh*dhello wor*orldhello *o worldhel*ello world*ldhello wo*worldhello*lo worldhe*hello worl*rldhello w* worldhell*llo worldh*dhello wor*orldhello *o worldhel*ello world*ldhello wo*worldhello*lo worldhe*hello worl*rldhello w* worldhell*llo worldh*dhello wor*orldhello *o worldhel*ello world*ldhello wo*worldhello*lo worldhe*hello worl*rldhello w* worldhell*llo worldh*dhello wor*orldhello *o worldhel*ello world*ldhello wo*worldhello*lo worldhe*hello worl*rldhello w* worldhell*llo worldh*dhello wor*orldhello *o worldhel*ello world*ldhello wo*worldhello*lo worldhe*hello worl*rldhello w* worldhell*llo worldh*dhello wor*orldhello *o worldhel*ello world*ldhello wo*worldhello*lo worldhe*hello worl*rldhello w* worldhell*llo worldh*dhello wor*orldhello *o worldhel*ello world*ldhello wo*worldhello*lo worldhe*hello worl*rldhello w* worldhell*llo worldh*dhello wor*orldhello *o worldhel*ello world*ldhello wo*worldhello*lo worldhe*hello worl*rldhello w* worldhell*llo worldh*dhello wor*orldhello *o worldhel*ello world*ldhello wo*worldhello*lo worldhe*hello worl*rldhello w* worldhell*llo worldh*dhello wor*orldhello *o worldhel*ello world*ldhello wo*worldhello*lo worldhe*hello worl*rldhello w* worldhell*llo worldh*dhello wor*orldhello *o worldhel*ello world*ldhello wo*worldhello*lo worldhe*hello worl*rldhello w* worldhell*llo worldh*dhello wor*orldhello *o worldhel*ello world*ldhello wo*worldhello*lo worldhe*hello worl*rldhello w* worldhell*llo worldh*dhello wor*orldhello *o worldhel*ello world*ldhello wo*worldhello*lo worldhe*hello worl*rldhello w* worldhell*llo worldh*dhello wor*orldhello *o worldhel*ello world*ldhello wo*worldhello*lo worldhe*hello worl*rldhello w* worldhell*llo worldh*dhello wor*orldhello *o worldhel*ello world*ldhello wo*worldhello*lo worldhe*hello worl*rldhello w* worldhell*llo worldh*dhello wor*orldhello *o worldhel*ello world*ldhello wo*worldhello*lo worldhe*hello worl*rldhello w* worldhell*llo worldh*dhello wor*orldhello *o worldhel*ello world*ldhello wo*worldhello*lo worldhe*hello worl*rldhello w* worldhell*llo worldh*dhello wor*orldhello *o worldhel*ello world*ldhello wo*worldhello*lo worldhe*hello worl*rldhello w* worldhell*llo worldh*dhello wor*orldhello *o worldhel*ello world*ldhello wo*worldhello*lo worldhe*hello worl*rldhello w* worldhell*llo worldh*dhello wor*orldhello *o worldhel*ello world*ldhello wo*worldhello*lo worldhe*hello worl*rldhello w* worldhell*llo worldh*dhello wor*orldhello *o worldhel*ello world*ldhello wo*worldhello*lo worldhe*hello worl*rldhello w* worldhell*llo worldh*dhello wor*orldhello *o worldhel*ello world*ldhello wo*worldhello*lo worldhe*hello worl*rldhello w* worldhell*llo worldh*dhello wor*orldhello *o worldhel*ello world*ldhello wo*worldhello*lo worldhe*hello worl*rldhello w* worldhell*llo worldh*dhello wor*orldhello *o worldhel*ello world*ldhello wo*worldhello*lo worldhe*hello worl*rldhello w* worldhell*llo worldh*dhello wor*orldhello *o worldhel*ello world*ldhello wo*worldhello*lo worldhe*hello worl*rldhello w* worldhell*llo worldh*dhello wor*orldhello *o worldhel*ello world*ldhello wo*worldhello*lo worldhe*hello worl*rldhello w* worldhell*llo worldh*dhello wor*orldhello *o worldhel*ello world*ldhello wo*worldhello*lo worldhe*hello worl*rldhello w* worldhell*llo worldh*dhello wor*orldhello *o worldhel*ello world*ldhello wo*worldhello*lo worldhe*hello worl*rldhello w* worldhell*llo worldh*dhello wor*orldhello *o worldhel*ello world*ldhello wo*worldhello*lo worldhe*hello worl*rldhello w* worldhell*llo worldh*dhello wor*orldhello *o worldhel*ello world*ldhello wo*worldhello*lo worldhe*hello worl*rldhello w* worldhell*llo worldh*dhello wor*orldhello *o worldhel*ello world*"
     ]
    }
   ],
   "source": [
    "with open(\"big_file.txt\",\"r\") as f:\n",
    "    \n",
    "    chunk_size=10\n",
    "    \n",
    "    while len(f.read(chunk_size))>0 :\n",
    "        print(f.read(chunk_size),end=\"*\")\n",
    "        f.read(chunk_size)"
   ]
  },
  {
   "cell_type": "markdown",
   "id": "e23aaeb2",
   "metadata": {},
   "source": [
    "### <font color=\"brown\"> tell </font>\n",
    "* IT TELL ABOUT THE CROSOR POSITION."
   ]
  },
  {
   "cell_type": "code",
   "execution_count": 36,
   "id": "a3804362",
   "metadata": {},
   "outputs": [
    {
     "name": "stdout",
     "output_type": "stream",
     "text": [
      "hello\n",
      "hii\n",
      "12\n"
     ]
    }
   ],
   "source": [
    "with open(\"sample.txt\",\"r\") as f:\n",
    "    \n",
    "    print(f.read(10),end=\"\")\n",
    "    print(f.tell())"
   ]
  },
  {
   "cell_type": "markdown",
   "id": "088876f1",
   "metadata": {},
   "source": [
    "### <font color=\"brown\">seek</font>\n",
    "* IT REDIRECT TO THE POSITION TO THE CROSOR WHERE YOU WANT TO GIVE."
   ]
  },
  {
   "cell_type": "code",
   "execution_count": 41,
   "id": "98b4c116",
   "metadata": {},
   "outputs": [
    {
     "name": "stdout",
     "output_type": "stream",
     "text": [
      "hello\n",
      "hii\n",
      "12\n",
      "_________________________________\n",
      "hello\n",
      "hii\n",
      "12\n"
     ]
    }
   ],
   "source": [
    "with open(\"sample.txt\",\"r\") as f:\n",
    "    \n",
    "    print(f.read(10),end=\"\")\n",
    "    print(f.tell())\n",
    "    print(\"_________________________________\")\n",
    "    f.seek(0)\n",
    "    print(f.read(10),end=\"\")\n",
    "    print(f.tell())"
   ]
  },
  {
   "cell_type": "markdown",
   "id": "115c0284",
   "metadata": {},
   "source": [
    "#### <font color=\"green\">__`seek`__ DURING WRITE</font>"
   ]
  },
  {
   "cell_type": "code",
   "execution_count": 43,
   "id": "5abfdb82",
   "metadata": {},
   "outputs": [],
   "source": [
    "with open(\"sample.txt\",\"w\") as f:\n",
    "    f.write(\"hello\")\n",
    "    f.seek(0)\n",
    "    f.write(\"xa\")"
   ]
  },
  {
   "cell_type": "markdown",
   "id": "6dd7588d",
   "metadata": {},
   "source": [
    "### "
   ]
  },
  {
   "cell_type": "markdown",
   "id": "52d9e3d8",
   "metadata": {},
   "source": [
    "## <font color=\"brown\">DUAL MODE</font>"
   ]
  },
  {
   "cell_type": "markdown",
   "id": "6c0797b5",
   "metadata": {},
   "source": [
    "### <font color=\"blue\"> Reading(Base Mode)+Writing </font>"
   ]
  },
  {
   "cell_type": "code",
   "execution_count": 58,
   "id": "a73bf38f",
   "metadata": {},
   "outputs": [],
   "source": [
    "f=open(\"color.txt\",\"w\")\n",
    "f.write(\"white\")\n",
    "f.close()"
   ]
  },
  {
   "cell_type": "code",
   "execution_count": 59,
   "id": "cb7d1b26",
   "metadata": {},
   "outputs": [
    {
     "name": "stdout",
     "output_type": "stream",
     "text": [
      "white\n",
      "______________\n",
      "___________________\n",
      "Second Time Reading\n",
      "white\n",
      "Blue\n",
      "Black\n"
     ]
    }
   ],
   "source": [
    "with open(\"color.txt\",\"r+\") as f:\n",
    "    d=f.read()\n",
    "    print(d)\n",
    "    print(\"______________\")\n",
    "    f.write(\"\\nBlue\")\n",
    "    f.write(\"\\nBlack\")\n",
    "    print(\"___________________\")\n",
    "    print(\"Second Time Reading\")\n",
    "    f.seek(0)\n",
    "    d1=f.read()\n",
    "    print(d1)"
   ]
  },
  {
   "cell_type": "markdown",
   "id": "d866a9bb",
   "metadata": {},
   "source": [
    "### <font color=\"blue\">Writing(Base Mode)+Reading</font>"
   ]
  },
  {
   "cell_type": "code",
   "execution_count": 60,
   "id": "4c62a6c3",
   "metadata": {},
   "outputs": [
    {
     "name": "stdout",
     "output_type": "stream",
     "text": [
      "Orange\n",
      "Apple\n",
      "Banana\n",
      "Grapes\n"
     ]
    }
   ],
   "source": [
    "with open(\"fruits.csv\",\"w+\") as f3:\n",
    "    f3.write(\"Orange\\nApple\\nBanana\\nGrapes\")\n",
    "    f3.seek(0)\n",
    "    d=f3.read()\n",
    "    print(d)"
   ]
  },
  {
   "cell_type": "code",
   "execution_count": 61,
   "id": "3636603a",
   "metadata": {},
   "outputs": [
    {
     "name": "stdout",
     "output_type": "stream",
     "text": [
      "Orange\n",
      "Apple\n",
      "Banana\n",
      "Grapes\n",
      "_____________\n",
      "Orange\n",
      "Apple\n",
      "Banana\n",
      "Grapes\n",
      "Orange\n",
      "Blcak\n",
      "Red\n"
     ]
    }
   ],
   "source": [
    "with open(\"fruits.csv\",\"w+\") as f3:\n",
    "    f3.write(\"Orange\\nApple\\nBanana\\nGrapes\")\n",
    "    f3.seek(0)\n",
    "    d=f3.read()\n",
    "    print(d)\n",
    "    print(\"_____________\")\n",
    "    f3.write(\"\\nOrange\\nBlcak\\nRed\")\n",
    "    f3.seek(0)\n",
    "    d1=f3.read()\n",
    "    print(d1)"
   ]
  },
  {
   "cell_type": "markdown",
   "id": "a55637ac",
   "metadata": {},
   "source": [
    "### <font color=\"blue\">Replace Particular Value within the same file</font>"
   ]
  },
  {
   "cell_type": "code",
   "execution_count": 63,
   "id": "36f7ae61",
   "metadata": {},
   "outputs": [],
   "source": [
    "with open(\"country1.txt\",\"w+\")as f1:\n",
    "    f1.write(\"INDIA\\nJAPAN\\nCANADA\\nDELHI\")"
   ]
  },
  {
   "cell_type": "code",
   "execution_count": 65,
   "id": "fccf869b",
   "metadata": {},
   "outputs": [
    {
     "name": "stdout",
     "output_type": "stream",
     "text": [
      "INDIA\n",
      "JAPAN\n",
      "CANADA\n",
      "DELHI\n",
      "12\n",
      "\n",
      "INDIA\n",
      "JAPANRUSSIADA\n",
      "DELHI\n"
     ]
    }
   ],
   "source": [
    "with open(\"country1.txt\",\"r+\") as f4:\n",
    "    d5=f4.read()\n",
    "    print(d5)\n",
    "    x=d5.index(\"CANADA\")\n",
    "    print(x)\n",
    "    f4.seek(x)\n",
    "    f4.write(\"RUSSIA\")\n",
    "    print()\n",
    "    f4.seek(0)\n",
    "    d6=f4.read()\n",
    "    print(d6)"
   ]
  },
  {
   "cell_type": "markdown",
   "id": "59d3dfb8",
   "metadata": {},
   "source": [
    "### <font color=\"brown\">PROBLEMS WITH WORKING IN TEXT MODE</font>\n",
    "* CAN NOT WORK WITH BINARY FILES LIKE IMAGES.\n",
    "* NOT GOOD FOR OTHER DATA TYPES LIKE int/float/list/tuple."
   ]
  },
  {
   "cell_type": "markdown",
   "id": "12ace81f",
   "metadata": {},
   "source": [
    "####  <font color=\"green\"> WORKING WITH BINARY </font>"
   ]
  },
  {
   "cell_type": "code",
   "execution_count": 44,
   "id": "5fbad278",
   "metadata": {},
   "outputs": [],
   "source": [
    "with open(\"Python logo-2.png\",\"rb\") as f:\n",
    "    with open(\"ss_copy.png\",\"wb\") as wf:\n",
    "        wf.write(f.read())"
   ]
  },
  {
   "cell_type": "markdown",
   "id": "93c4c33e",
   "metadata": {},
   "source": [
    "### "
   ]
  },
  {
   "cell_type": "markdown",
   "id": "1b598232",
   "metadata": {},
   "source": [
    "## <font color=\"dark blue\">SERIALIZATION & DESERIALIZATION</font>\n",
    "* __SERIALIZATION__: PROCESS OF CONVERTING PYTHON DATA TYPES TO JSON FORMAT.\n",
    "\n",
    "\n",
    "* __DESERIALIZATION__ : PROCESS OF COVERTING JSON TO PYTHON DATA TYPES."
   ]
  },
  {
   "cell_type": "markdown",
   "id": "27ea825c",
   "metadata": {},
   "source": [
    "#### <font color=\"green\">SERIALIZATION USING json MODULE</font>"
   ]
  },
  {
   "cell_type": "markdown",
   "id": "9235abe8",
   "metadata": {},
   "source": [
    "#### <font color=\"orange\">LIST</font>"
   ]
  },
  {
   "cell_type": "code",
   "execution_count": 45,
   "id": "6f526943",
   "metadata": {},
   "outputs": [],
   "source": [
    "import json"
   ]
  },
  {
   "cell_type": "code",
   "execution_count": 46,
   "id": "b2f65e65",
   "metadata": {},
   "outputs": [],
   "source": [
    "l=[1,2,3,4,5]\n",
    "\n",
    "with open(\"demo.json\",\"w\") as f:\n",
    "    json.dump(l,f)"
   ]
  },
  {
   "cell_type": "markdown",
   "id": "997cf43d",
   "metadata": {},
   "source": [
    "#### <font color=\"orange\">DICTIONARY</font>"
   ]
  },
  {
   "cell_type": "code",
   "execution_count": 48,
   "id": "fa1e8d0e",
   "metadata": {},
   "outputs": [],
   "source": [
    "d={\n",
    "    \"name\":\"Mitra\",\n",
    "    \"age\":23,\n",
    "    \"gender\":\"Male\"\n",
    "}\n",
    "\n",
    "with open(\"demo1.json\",\"w\") as f:\n",
    "    json.dump(d,f,indent=4)    # Indent use for to show in readble format"
   ]
  },
  {
   "cell_type": "markdown",
   "id": "d99aafc6",
   "metadata": {},
   "source": [
    "#### <font color=\"green\">DESERIALIZATION USING json MODULE</font>"
   ]
  },
  {
   "cell_type": "code",
   "execution_count": 51,
   "id": "61f3c339",
   "metadata": {},
   "outputs": [
    {
     "name": "stdout",
     "output_type": "stream",
     "text": [
      "[1, 2, 3, 4, 5]\n",
      "<class 'list'>\n"
     ]
    }
   ],
   "source": [
    "with open(\"demo.json\",\"r\") as f:\n",
    "    e=json.load(f)\n",
    "    print(e)\n",
    "    print(type(e))"
   ]
  },
  {
   "cell_type": "code",
   "execution_count": 52,
   "id": "bfd35add",
   "metadata": {},
   "outputs": [
    {
     "name": "stdout",
     "output_type": "stream",
     "text": [
      "{'name': 'Mitra', 'age': 23, 'gender': 'Male'}\n",
      "<class 'dict'>\n"
     ]
    }
   ],
   "source": [
    "with open(\"demo1.json\",\"r\") as f:\n",
    "    q=json.load(f)\n",
    "    print(q)\n",
    "    print(type(q))"
   ]
  },
  {
   "cell_type": "markdown",
   "id": "23b3b6f8",
   "metadata": {},
   "source": [
    "### <font color=\"brown\">PICKLING</font>\n",
    "\n",
    "* `Pickling` is the process whereby a Python object hierarchy is converted into a byte stream, and `unpickling` is the inverse operation, whereby a byte stream (from a binary file or bytes-like object) is converted back into an object hierarchy"
   ]
  },
  {
   "cell_type": "code",
   "execution_count": 53,
   "id": "09794f13",
   "metadata": {},
   "outputs": [],
   "source": [
    "class Person:\n",
    "\n",
    "  def __init__(self,name,age):\n",
    "    self.name = name\n",
    "    self.age = age\n",
    "\n",
    "  def display_info(self):\n",
    "    print('Hi my name is',self.name,'and I am ',self.age,'years old')"
   ]
  },
  {
   "cell_type": "code",
   "execution_count": 54,
   "id": "97c612a0",
   "metadata": {},
   "outputs": [],
   "source": [
    "p = Person('nitish',33)"
   ]
  },
  {
   "cell_type": "code",
   "execution_count": 55,
   "id": "4ebb3898",
   "metadata": {},
   "outputs": [],
   "source": [
    "# pickle dump\n",
    "\n",
    "import pickle\n",
    "with open('person.pkl','wb') as f:\n",
    "  pickle.dump(p,f)"
   ]
  },
  {
   "cell_type": "code",
   "execution_count": 56,
   "id": "9495b484",
   "metadata": {},
   "outputs": [
    {
     "name": "stdout",
     "output_type": "stream",
     "text": [
      "Hi my name is nitish and I am  33 years old\n"
     ]
    }
   ],
   "source": [
    "# pickle load\n",
    "\n",
    "import pickle\n",
    "with open('person.pkl','rb') as f:\n",
    "  p = pickle.load(f)\n",
    "\n",
    "p.display_info()"
   ]
  },
  {
   "cell_type": "markdown",
   "id": "37f3338c",
   "metadata": {},
   "source": [
    "#### <font color=\"green\">PICKLE vs JSON</font>\n",
    "* Pickle lets the user to store data in binary format. JSON lets the user store data in a human-readable text format"
   ]
  },
  {
   "cell_type": "markdown",
   "id": "1a4d348d",
   "metadata": {},
   "source": [
    "*********************************************************************************************************************"
   ]
  }
 ],
 "metadata": {
  "kernelspec": {
   "display_name": "Python 3 (ipykernel)",
   "language": "python",
   "name": "python3"
  },
  "language_info": {
   "codemirror_mode": {
    "name": "ipython",
    "version": 3
   },
   "file_extension": ".py",
   "mimetype": "text/x-python",
   "name": "python",
   "nbconvert_exporter": "python",
   "pygments_lexer": "ipython3",
   "version": "3.9.13"
  }
 },
 "nbformat": 4,
 "nbformat_minor": 5
}
