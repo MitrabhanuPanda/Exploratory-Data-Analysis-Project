{
 "cells": [
  {
   "cell_type": "markdown",
   "id": "9240b9cd",
   "metadata": {},
   "source": [
    "<h1 style=\"text-align : center\"> <font color=\"purple\" size=6>EXCEPTION HANDLING </h1>"
   ]
  },
  {
   "cell_type": "markdown",
   "id": "723eb6c4",
   "metadata": {},
   "source": [
    "## <font color=\"red\">WHAT IS ERROR?</font>\n",
    "* IT IS A PROCESS OF ABNORMAL TERMINATION OF PROGRAM DUE TO SOME ILLEGAL ACTIVITY."
   ]
  },
  {
   "cell_type": "markdown",
   "id": "90b95db2",
   "metadata": {},
   "source": [
    "### <font color=\"brown\">THERE ARE 2 STAGES WHERE ERROR MAY HAPPEN IN A PROGRAM </font>\n",
    "- DURING COMPILATION ==> `SYNTAX ERROR`\n",
    "- DURING EXECUTION ==> `EXCEPTION ERROR`"
   ]
  },
  {
   "cell_type": "markdown",
   "id": "dc298238",
   "metadata": {},
   "source": [
    "## <font color=\"red\">TYPES OF ERROR:</font>\n",
    "> <font color=\"blue\">__a. SYNTAX ERROR__:</font>\n",
    ">> * ERRORS WHICH ARE TRIGGERED DUE TO NOT FOLLOWING THE PREDEFINED RULES WHILE CODING.\n",
    ">> * THIS ERROR ARE TRIGGERED DUR TO MISTAKES DONE BY PROGRAMMER or DEVELOPER.\n",
    ">> * DEVELOPER / PROGRAMMER ARE RESPONSIBLE FOR THE TYPE OF ERRORS."
   ]
  },
  {
   "cell_type": "code",
   "execution_count": 1,
   "id": "3ba47168",
   "metadata": {},
   "outputs": [
    {
     "ename": "SyntaxError",
     "evalue": "Missing parentheses in call to 'print'. Did you mean print('hello world')? (528539990.py, line 2)",
     "output_type": "error",
     "traceback": [
      "\u001b[1;36m  File \u001b[1;32m\"C:\\Users\\mitra\\AppData\\Local\\Temp\\ipykernel_7608\\528539990.py\"\u001b[1;36m, line \u001b[1;32m2\u001b[0m\n\u001b[1;33m    print 'hello world'\u001b[0m\n\u001b[1;37m          ^\u001b[0m\n\u001b[1;31mSyntaxError\u001b[0m\u001b[1;31m:\u001b[0m Missing parentheses in call to 'print'. Did you mean print('hello world')?\n"
     ]
    }
   ],
   "source": [
    "# Examples of syntax error\n",
    "print 'hello world'"
   ]
  },
  {
   "cell_type": "markdown",
   "id": "2376ba82",
   "metadata": {},
   "source": [
    "### <font color=\"brown\">OTHER EXAMPLES OF SYNTAX ERROR:</font>\n"
   ]
  },
  {
   "cell_type": "markdown",
   "id": "1062a2c2",
   "metadata": {},
   "source": [
    "#### <font color=\"green\">LEAVING SYMBOLS LIKE COLON, BRACKETS</font>"
   ]
  },
  {
   "cell_type": "code",
   "execution_count": 2,
   "id": "13d02989",
   "metadata": {},
   "outputs": [
    {
     "ename": "SyntaxError",
     "evalue": "invalid syntax (3315782095.py, line 2)",
     "output_type": "error",
     "traceback": [
      "\u001b[1;36m  File \u001b[1;32m\"C:\\Users\\mitra\\AppData\\Local\\Temp\\ipykernel_7608\\3315782095.py\"\u001b[1;36m, line \u001b[1;32m2\u001b[0m\n\u001b[1;33m    if a==3\u001b[0m\n\u001b[1;37m           ^\u001b[0m\n\u001b[1;31mSyntaxError\u001b[0m\u001b[1;31m:\u001b[0m invalid syntax\n"
     ]
    }
   ],
   "source": [
    "a = 5\n",
    "if a==3\n",
    "  print('hello')"
   ]
  },
  {
   "cell_type": "markdown",
   "id": "44c53cea",
   "metadata": {},
   "source": [
    " #### <font color=\"green\">MIS-SPELLING A KEYWORD</font>"
   ]
  },
  {
   "cell_type": "code",
   "execution_count": 3,
   "id": "1a5b7330",
   "metadata": {},
   "outputs": [
    {
     "ename": "SyntaxError",
     "evalue": "invalid syntax (521424995.py, line 2)",
     "output_type": "error",
     "traceback": [
      "\u001b[1;36m  File \u001b[1;32m\"C:\\Users\\mitra\\AppData\\Local\\Temp\\ipykernel_7608\\521424995.py\"\u001b[1;36m, line \u001b[1;32m2\u001b[0m\n\u001b[1;33m    iff a==3:\u001b[0m\n\u001b[1;37m        ^\u001b[0m\n\u001b[1;31mSyntaxError\u001b[0m\u001b[1;31m:\u001b[0m invalid syntax\n"
     ]
    }
   ],
   "source": [
    "a = 5\n",
    "iff a==3:\n",
    "  print('hello')"
   ]
  },
  {
   "cell_type": "markdown",
   "id": "303ef587",
   "metadata": {},
   "source": [
    "#### <font color=\"green\">INCORRECT INDENTATION</font>"
   ]
  },
  {
   "cell_type": "code",
   "execution_count": 4,
   "id": "ab4a834b",
   "metadata": {},
   "outputs": [
    {
     "ename": "IndentationError",
     "evalue": "expected an indented block (3610895221.py, line 3)",
     "output_type": "error",
     "traceback": [
      "\u001b[1;36m  File \u001b[1;32m\"C:\\Users\\mitra\\AppData\\Local\\Temp\\ipykernel_7608\\3610895221.py\"\u001b[1;36m, line \u001b[1;32m3\u001b[0m\n\u001b[1;33m    print('hello')\u001b[0m\n\u001b[1;37m    ^\u001b[0m\n\u001b[1;31mIndentationError\u001b[0m\u001b[1;31m:\u001b[0m expected an indented block\n"
     ]
    }
   ],
   "source": [
    "a = 5\n",
    "if a==3:\n",
    "print('hello')"
   ]
  },
  {
   "cell_type": "markdown",
   "id": "9070f5c4",
   "metadata": {},
   "source": [
    "#### <font color=\"green\">EMPTY if/else/loops/class/functions</font>"
   ]
  },
  {
   "cell_type": "code",
   "execution_count": 12,
   "id": "8c78ca1b",
   "metadata": {},
   "outputs": [
    {
     "ename": "IndentationError",
     "evalue": "expected an indented block (943416453.py, line 2)",
     "output_type": "error",
     "traceback": [
      "\u001b[1;36m  File \u001b[1;32m\"C:\\Users\\mitra\\AppData\\Local\\Temp\\ipykernel_7608\\943416453.py\"\u001b[1;36m, line \u001b[1;32m2\u001b[0m\n\u001b[1;33m    \u001b[0m\n\u001b[1;37m    ^\u001b[0m\n\u001b[1;31mIndentationError\u001b[0m\u001b[1;31m:\u001b[0m expected an indented block\n"
     ]
    }
   ],
   "source": [
    "if a>0:\n",
    "    "
   ]
  },
  {
   "cell_type": "code",
   "execution_count": 13,
   "id": "95235bc4",
   "metadata": {},
   "outputs": [
    {
     "ename": "IndentationError",
     "evalue": "expected an indented block (2467815550.py, line 2)",
     "output_type": "error",
     "traceback": [
      "\u001b[1;36m  File \u001b[1;32m\"C:\\Users\\mitra\\AppData\\Local\\Temp\\ipykernel_7608\\2467815550.py\"\u001b[1;36m, line \u001b[1;32m2\u001b[0m\n\u001b[1;33m    \u001b[0m\n\u001b[1;37m    ^\u001b[0m\n\u001b[1;31mIndentationError\u001b[0m\u001b[1;31m:\u001b[0m expected an indented block\n"
     ]
    }
   ],
   "source": [
    "class cr:\n",
    "    "
   ]
  },
  {
   "cell_type": "code",
   "execution_count": 14,
   "id": "7d9d28f6",
   "metadata": {},
   "outputs": [
    {
     "ename": "IndentationError",
     "evalue": "expected an indented block (4054113036.py, line 1)",
     "output_type": "error",
     "traceback": [
      "\u001b[1;36m  File \u001b[1;32m\"C:\\Users\\mitra\\AppData\\Local\\Temp\\ipykernel_7608\\4054113036.py\"\u001b[1;36m, line \u001b[1;32m1\u001b[0m\n\u001b[1;33m    for i in range(1,10):\u001b[0m\n\u001b[1;37m                         ^\u001b[0m\n\u001b[1;31mIndentationError\u001b[0m\u001b[1;31m:\u001b[0m expected an indented block\n"
     ]
    }
   ],
   "source": [
    "for i in range(1,10):"
   ]
  },
  {
   "cell_type": "code",
   "execution_count": 16,
   "id": "123c05fa",
   "metadata": {},
   "outputs": [
    {
     "ename": "IndentationError",
     "evalue": "expected an indented block (2246410692.py, line 2)",
     "output_type": "error",
     "traceback": [
      "\u001b[1;36m  File \u001b[1;32m\"C:\\Users\\mitra\\AppData\\Local\\Temp\\ipykernel_7608\\2246410692.py\"\u001b[1;36m, line \u001b[1;32m2\u001b[0m\n\u001b[1;33m    \u001b[0m\n\u001b[1;37m    ^\u001b[0m\n\u001b[1;31mIndentationError\u001b[0m\u001b[1;31m:\u001b[0m expected an indented block\n"
     ]
    }
   ],
   "source": [
    "def cra():\n",
    "    "
   ]
  },
  {
   "cell_type": "markdown",
   "id": "ef04ee42",
   "metadata": {},
   "source": [
    "#### <font color=\"green\"> IndexError </font>\n",
    "* The IndexError is thrown when trying to access an item at an invalid index"
   ]
  },
  {
   "cell_type": "code",
   "execution_count": 5,
   "id": "1423a39a",
   "metadata": {},
   "outputs": [
    {
     "ename": "IndexError",
     "evalue": "list index out of range",
     "output_type": "error",
     "traceback": [
      "\u001b[1;31m---------------------------------------------------------------------------\u001b[0m",
      "\u001b[1;31mIndexError\u001b[0m                                Traceback (most recent call last)",
      "\u001b[1;32m~\\AppData\\Local\\Temp\\ipykernel_7608\\1169124241.py\u001b[0m in \u001b[0;36m<module>\u001b[1;34m\u001b[0m\n\u001b[0;32m      2\u001b[0m \u001b[1;31m# The IndexError is thrown when trying to access an item at an invalid index.\u001b[0m\u001b[1;33m\u001b[0m\u001b[1;33m\u001b[0m\u001b[0m\n\u001b[0;32m      3\u001b[0m \u001b[0mL\u001b[0m \u001b[1;33m=\u001b[0m \u001b[1;33m[\u001b[0m\u001b[1;36m1\u001b[0m\u001b[1;33m,\u001b[0m\u001b[1;36m2\u001b[0m\u001b[1;33m,\u001b[0m\u001b[1;36m3\u001b[0m\u001b[1;33m]\u001b[0m\u001b[1;33m\u001b[0m\u001b[1;33m\u001b[0m\u001b[0m\n\u001b[1;32m----> 4\u001b[1;33m \u001b[0mL\u001b[0m\u001b[1;33m[\u001b[0m\u001b[1;36m100\u001b[0m\u001b[1;33m]\u001b[0m\u001b[1;33m\u001b[0m\u001b[1;33m\u001b[0m\u001b[0m\n\u001b[0m",
      "\u001b[1;31mIndexError\u001b[0m: list index out of range"
     ]
    }
   ],
   "source": [
    "\n",
    "L = [1,2,3]\n",
    "L[100]"
   ]
  },
  {
   "cell_type": "markdown",
   "id": "9efb3c3f",
   "metadata": {},
   "source": [
    "#### <font color=\"green\">ModuleNotFoundError</font>\n",
    "* The ModuleNotFoundError is thrown when a module could not be found.\n"
   ]
  },
  {
   "cell_type": "code",
   "execution_count": 6,
   "id": "e8abfd22",
   "metadata": {},
   "outputs": [
    {
     "ename": "ModuleNotFoundError",
     "evalue": "No module named 'mathi'",
     "output_type": "error",
     "traceback": [
      "\u001b[1;31m---------------------------------------------------------------------------\u001b[0m",
      "\u001b[1;31mModuleNotFoundError\u001b[0m                       Traceback (most recent call last)",
      "\u001b[1;32m~\\AppData\\Local\\Temp\\ipykernel_7608\\1819532709.py\u001b[0m in \u001b[0;36m<module>\u001b[1;34m\u001b[0m\n\u001b[0;32m      1\u001b[0m \u001b[1;31m# ModuleNotFoundError\u001b[0m\u001b[1;33m\u001b[0m\u001b[1;33m\u001b[0m\u001b[0m\n\u001b[0;32m      2\u001b[0m \u001b[1;31m# The ModuleNotFoundError is thrown when a module could not be found.\u001b[0m\u001b[1;33m\u001b[0m\u001b[1;33m\u001b[0m\u001b[0m\n\u001b[1;32m----> 3\u001b[1;33m \u001b[1;32mimport\u001b[0m \u001b[0mmathi\u001b[0m\u001b[1;33m\u001b[0m\u001b[1;33m\u001b[0m\u001b[0m\n\u001b[0m\u001b[0;32m      4\u001b[0m \u001b[0mmath\u001b[0m\u001b[1;33m.\u001b[0m\u001b[0mfloor\u001b[0m\u001b[1;33m(\u001b[0m\u001b[1;36m5.3\u001b[0m\u001b[1;33m)\u001b[0m\u001b[1;33m\u001b[0m\u001b[1;33m\u001b[0m\u001b[0m\n",
      "\u001b[1;31mModuleNotFoundError\u001b[0m: No module named 'mathi'"
     ]
    }
   ],
   "source": [
    "import mathi\n",
    "math.floor(5.3)"
   ]
  },
  {
   "cell_type": "markdown",
   "id": "dd88a0b6",
   "metadata": {},
   "source": [
    "#### <font color=\"green\">KeyError</font>\n",
    "* The KeyError is thrown when a key is not found"
   ]
  },
  {
   "cell_type": "code",
   "execution_count": 7,
   "id": "d41762c9",
   "metadata": {},
   "outputs": [
    {
     "ename": "KeyError",
     "evalue": "'age'",
     "output_type": "error",
     "traceback": [
      "\u001b[1;31m---------------------------------------------------------------------------\u001b[0m",
      "\u001b[1;31mKeyError\u001b[0m                                  Traceback (most recent call last)",
      "\u001b[1;32m~\\AppData\\Local\\Temp\\ipykernel_7608\\2582424432.py\u001b[0m in \u001b[0;36m<module>\u001b[1;34m\u001b[0m\n\u001b[0;32m      3\u001b[0m \u001b[1;33m\u001b[0m\u001b[0m\n\u001b[0;32m      4\u001b[0m \u001b[0md\u001b[0m \u001b[1;33m=\u001b[0m \u001b[1;33m{\u001b[0m\u001b[1;34m'name'\u001b[0m\u001b[1;33m:\u001b[0m\u001b[1;34m'nitish'\u001b[0m\u001b[1;33m}\u001b[0m\u001b[1;33m\u001b[0m\u001b[1;33m\u001b[0m\u001b[0m\n\u001b[1;32m----> 5\u001b[1;33m \u001b[0md\u001b[0m\u001b[1;33m[\u001b[0m\u001b[1;34m'age'\u001b[0m\u001b[1;33m]\u001b[0m\u001b[1;33m\u001b[0m\u001b[1;33m\u001b[0m\u001b[0m\n\u001b[0m",
      "\u001b[1;31mKeyError\u001b[0m: 'age'"
     ]
    }
   ],
   "source": [
    "d = {'name':'nitish'}\n",
    "d['age']"
   ]
  },
  {
   "cell_type": "markdown",
   "id": "48d2211d",
   "metadata": {},
   "source": [
    "#### <font color=\"green\">TypeError</font>\n",
    "* The TypeError is thrown when an operation or function is applied to an object of an inappropriate type."
   ]
  },
  {
   "cell_type": "code",
   "execution_count": 8,
   "id": "188837ec",
   "metadata": {},
   "outputs": [
    {
     "ename": "TypeError",
     "evalue": "unsupported operand type(s) for +: 'int' and 'str'",
     "output_type": "error",
     "traceback": [
      "\u001b[1;31m---------------------------------------------------------------------------\u001b[0m",
      "\u001b[1;31mTypeError\u001b[0m                                 Traceback (most recent call last)",
      "\u001b[1;32m~\\AppData\\Local\\Temp\\ipykernel_7608\\3512945353.py\u001b[0m in \u001b[0;36m<module>\u001b[1;34m\u001b[0m\n\u001b[0;32m      1\u001b[0m \u001b[1;31m# TypeError\u001b[0m\u001b[1;33m\u001b[0m\u001b[1;33m\u001b[0m\u001b[0m\n\u001b[0;32m      2\u001b[0m \u001b[1;31m# The TypeError is thrown when an operation or function is applied to an object of an inappropriate type.\u001b[0m\u001b[1;33m\u001b[0m\u001b[1;33m\u001b[0m\u001b[0m\n\u001b[1;32m----> 3\u001b[1;33m \u001b[1;36m1\u001b[0m \u001b[1;33m+\u001b[0m \u001b[1;34m'a'\u001b[0m\u001b[1;33m\u001b[0m\u001b[1;33m\u001b[0m\u001b[0m\n\u001b[0m",
      "\u001b[1;31mTypeError\u001b[0m: unsupported operand type(s) for +: 'int' and 'str'"
     ]
    }
   ],
   "source": [
    "1 + 'a'"
   ]
  },
  {
   "cell_type": "markdown",
   "id": "c1be9047",
   "metadata": {},
   "source": [
    "#### <font color=\"green\"> ValueError</font>\n",
    "* The ValueError is thrown when a function's argument is of an inappropriate type."
   ]
  },
  {
   "cell_type": "code",
   "execution_count": 9,
   "id": "a9b98ec7",
   "metadata": {},
   "outputs": [
    {
     "ename": "ValueError",
     "evalue": "invalid literal for int() with base 10: 'a'",
     "output_type": "error",
     "traceback": [
      "\u001b[1;31m---------------------------------------------------------------------------\u001b[0m",
      "\u001b[1;31mValueError\u001b[0m                                Traceback (most recent call last)",
      "\u001b[1;32m~\\AppData\\Local\\Temp\\ipykernel_7608\\1016288878.py\u001b[0m in \u001b[0;36m<module>\u001b[1;34m\u001b[0m\n\u001b[0;32m      1\u001b[0m \u001b[1;31m# ValueError\u001b[0m\u001b[1;33m\u001b[0m\u001b[1;33m\u001b[0m\u001b[0m\n\u001b[0;32m      2\u001b[0m \u001b[1;31m# The ValueError is thrown when a function's argument is of an inappropriate type.\u001b[0m\u001b[1;33m\u001b[0m\u001b[1;33m\u001b[0m\u001b[0m\n\u001b[1;32m----> 3\u001b[1;33m \u001b[0mint\u001b[0m\u001b[1;33m(\u001b[0m\u001b[1;34m'a'\u001b[0m\u001b[1;33m)\u001b[0m\u001b[1;33m\u001b[0m\u001b[1;33m\u001b[0m\u001b[0m\n\u001b[0m",
      "\u001b[1;31mValueError\u001b[0m: invalid literal for int() with base 10: 'a'"
     ]
    }
   ],
   "source": [
    "int('a')"
   ]
  },
  {
   "cell_type": "markdown",
   "id": "b6415f96",
   "metadata": {},
   "source": [
    "#### <font color=\"green\"> NameError</font>\n",
    "* The NameError is thrown when an object could not be found."
   ]
  },
  {
   "cell_type": "code",
   "execution_count": 10,
   "id": "b2bffe35",
   "metadata": {},
   "outputs": [
    {
     "ename": "NameError",
     "evalue": "name 'k' is not defined",
     "output_type": "error",
     "traceback": [
      "\u001b[1;31m---------------------------------------------------------------------------\u001b[0m",
      "\u001b[1;31mNameError\u001b[0m                                 Traceback (most recent call last)",
      "\u001b[1;32m~\\AppData\\Local\\Temp\\ipykernel_7608\\3129957860.py\u001b[0m in \u001b[0;36m<module>\u001b[1;34m\u001b[0m\n\u001b[0;32m      1\u001b[0m \u001b[1;31m# NameError\u001b[0m\u001b[1;33m\u001b[0m\u001b[1;33m\u001b[0m\u001b[0m\n\u001b[0;32m      2\u001b[0m \u001b[1;31m# The NameError is thrown when an object could not be found.\u001b[0m\u001b[1;33m\u001b[0m\u001b[1;33m\u001b[0m\u001b[0m\n\u001b[1;32m----> 3\u001b[1;33m \u001b[0mprint\u001b[0m\u001b[1;33m(\u001b[0m\u001b[0mk\u001b[0m\u001b[1;33m)\u001b[0m\u001b[1;33m\u001b[0m\u001b[1;33m\u001b[0m\u001b[0m\n\u001b[0m",
      "\u001b[1;31mNameError\u001b[0m: name 'k' is not defined"
     ]
    }
   ],
   "source": [
    "print(k)"
   ]
  },
  {
   "cell_type": "markdown",
   "id": "f8f79471",
   "metadata": {},
   "source": [
    "#### <font color=\"green\"> AttributeError</font>"
   ]
  },
  {
   "cell_type": "code",
   "execution_count": 11,
   "id": "d0455bb7",
   "metadata": {},
   "outputs": [
    {
     "ename": "AttributeError",
     "evalue": "'list' object has no attribute 'upper'",
     "output_type": "error",
     "traceback": [
      "\u001b[1;31m---------------------------------------------------------------------------\u001b[0m",
      "\u001b[1;31mAttributeError\u001b[0m                            Traceback (most recent call last)",
      "\u001b[1;32m~\\AppData\\Local\\Temp\\ipykernel_7608\\246304454.py\u001b[0m in \u001b[0;36m<module>\u001b[1;34m\u001b[0m\n\u001b[0;32m      1\u001b[0m \u001b[1;31m# AttributeError\u001b[0m\u001b[1;33m\u001b[0m\u001b[1;33m\u001b[0m\u001b[0m\n\u001b[0;32m      2\u001b[0m \u001b[0mL\u001b[0m \u001b[1;33m=\u001b[0m \u001b[1;33m[\u001b[0m\u001b[1;36m1\u001b[0m\u001b[1;33m,\u001b[0m\u001b[1;36m2\u001b[0m\u001b[1;33m,\u001b[0m\u001b[1;36m3\u001b[0m\u001b[1;33m]\u001b[0m\u001b[1;33m\u001b[0m\u001b[1;33m\u001b[0m\u001b[0m\n\u001b[1;32m----> 3\u001b[1;33m \u001b[0mL\u001b[0m\u001b[1;33m.\u001b[0m\u001b[0mupper\u001b[0m\u001b[1;33m(\u001b[0m\u001b[1;33m)\u001b[0m\u001b[1;33m\u001b[0m\u001b[1;33m\u001b[0m\u001b[0m\n\u001b[0m\u001b[0;32m      4\u001b[0m \u001b[1;33m\u001b[0m\u001b[0m\n\u001b[0;32m      5\u001b[0m \u001b[1;31m# Stacktrace\u001b[0m\u001b[1;33m\u001b[0m\u001b[1;33m\u001b[0m\u001b[0m\n",
      "\u001b[1;31mAttributeError\u001b[0m: 'list' object has no attribute 'upper'"
     ]
    }
   ],
   "source": [
    "L = [1,2,3]\n",
    "L.upper()\n",
    "\n",
    "# Stacktrace"
   ]
  },
  {
   "cell_type": "markdown",
   "id": "fa632b41",
   "metadata": {},
   "source": [
    "### <font color=\"brown\">STACKTRACE</font>\n",
    "* THE ERROR MESSAGE IS CALLED STACKTRACE.\n",
    "* IT HAVE:\n",
    "> * TYPE OF THE ERROR\n",
    "> * MESSAGE ==> WHAT IS THE ERROR\n",
    "> * FILE NAME\n",
    "> * IN WHICH LINE YOU HAVE DONE THE ERROR"
   ]
  },
  {
   "attachments": {
    "EXCEPTION%20STRACKTRACE.png": {
     "image/png": "[encoded data removed]"
    }
   },
   "cell_type": "markdown",
   "id": "4f78d248",
   "metadata": {},
   "source": [
    "![EXCEPTION%20STRACKTRACE.png](attachment:EXCEPTION%20STRACKTRACE.png)"
   ]
  },
  {
   "cell_type": "markdown",
   "id": "2f6916c2",
   "metadata": {},
   "source": [
    "### "
   ]
  },
  {
   "cell_type": "markdown",
   "id": "f3211c3b",
   "metadata": {},
   "source": [
    "#### <font color=\"blue\">b. RUN TIME ERROR</font>\n",
    "> * THIS ERRORS WHICH ARE TRIGGERED DUE TO WRONG INPUT GIVEN BY THE USER.\n",
    "> * END USER IS RESPONSIBLE FOR THESE TYPE OF ERROR.\n",
    "> * THIS ERROR ARE ALSO REFERRED AS `EXCEPTION`.\n",
    "\n",
    "> <font color=\"green\">__EXAMPLES__:</font>\n",
    "    >> * MEMORY OVERFLOW\n",
    "    >> * DIVIDE BY 0 ==> LOGICAL ERROR\n",
    "    >> * DATABASE ERROR\n",
    "    \n",
    "\n",
    "> <font color=\"dark red\">__WHAT IS EXCEPTION HANDLING?__:</font>\n",
    ">> * HANDLING RUN-TIME ERRORS(EXCEPTIONS)\n",
    ">> * IT IS A PROCESS OF HANDLING EXCEPTION TO AVOID ABNORMAL TERMINANTION OF PROGRAM / APPLICATION.\n",
    "\n",
    "\n",
    "\n",
    "> <font color=\"dark red\">__WHY IS IT IMPORTANT TO HANDLE__:</font>\n",
    ">> * SECURITY\n",
    ">> * USER EXPERIENCE BECOME VERY BAD AFTER SEE THE ERROR.\n",
    "\n",
    "\n",
    "\n",
    "> <font color=\"dark red\">__HOW TO HANDLE THIS__:</font>\n",
    ">> __`try except block`__"
   ]
  },
  {
   "cell_type": "markdown",
   "id": "01b0138d",
   "metadata": {},
   "source": [
    "### <font color=\"dark blue\">__`try except`__ BLOCK </font>\n",
    "* IF ERROR OCCURED THEN `except` BLOCK IS EXECUTED."
   ]
  },
  {
   "cell_type": "code",
   "execution_count": 17,
   "id": "f8f138c2",
   "metadata": {},
   "outputs": [],
   "source": [
    "# let's create a file\n",
    "\n",
    "with open('sample.txt','w') as f:\n",
    "  f.write('hello world')"
   ]
  },
  {
   "cell_type": "code",
   "execution_count": 18,
   "id": "f7695b7c",
   "metadata": {},
   "outputs": [
    {
     "name": "stdout",
     "output_type": "stream",
     "text": [
      "sorry file not found\n"
     ]
    }
   ],
   "source": [
    "# try catch demo\n",
    "\n",
    "try:\n",
    "  with open('sample1.txt','r') as f:\n",
    "    print(f.read())\n",
    "except:\n",
    "  print('sorry file not found')"
   ]
  },
  {
   "cell_type": "code",
   "execution_count": 19,
   "id": "9483e1ea",
   "metadata": {},
   "outputs": [
    {
     "name": "stdout",
     "output_type": "stream",
     "text": [
      "file not found\n"
     ]
    }
   ],
   "source": [
    "# catching specific exception\n",
    "try:\n",
    "  m=5\n",
    "  f = open('sample1.txt','r')\n",
    "  print(f.read())\n",
    "  print(m)\n",
    "  print(5/2)\n",
    "  L = [1,2,3]\n",
    "  L[100]\n",
    "except FileNotFoundError:\n",
    "  print('file not found')\n",
    "except NameError:\n",
    "  print('variable not defined')\n",
    "except ZeroDivisionError:\n",
    "  print(\"can't divide by 0\")\n",
    "except Exception as e:\n",
    "  print(e)"
   ]
  },
  {
   "cell_type": "markdown",
   "id": "35178857",
   "metadata": {},
   "source": [
    "### <font color=\"dark blue\">__`try except else`__ BLOCK </font>\n",
    "* IF THE ERROR IS IN THE CODE THEN `except` BLOCK CODE IS EXECUTED. OTHERWISE `else` BLOCK CODE IS EXECUTED"
   ]
  },
  {
   "cell_type": "code",
   "execution_count": 20,
   "id": "6ae6675c",
   "metadata": {},
   "outputs": [
    {
     "name": "stdout",
     "output_type": "stream",
     "text": [
      "file nai mili\n"
     ]
    }
   ],
   "source": [
    "# else\n",
    "try:\n",
    "  f = open('sample1.txt','r')\n",
    "except FileNotFoundError:\n",
    "  print('file nai mili')\n",
    "except Exception:\n",
    "  print('kuch to lafda hai')\n",
    "else:\n",
    "  print(f.read())"
   ]
  },
  {
   "cell_type": "code",
   "execution_count": 21,
   "id": "725536d4",
   "metadata": {},
   "outputs": [
    {
     "name": "stdout",
     "output_type": "stream",
     "text": [
      "hello world\n"
     ]
    }
   ],
   "source": [
    "try:\n",
    "  f = open('sample.txt','r')\n",
    "except FileNotFoundError:\n",
    "  print('file nai mili')\n",
    "except Exception:\n",
    "  print('kuch to lafda hai')\n",
    "else:\n",
    "  print(f.read())"
   ]
  },
  {
   "cell_type": "markdown",
   "id": "0ade52ca",
   "metadata": {},
   "source": [
    "### <font color=\"dark blue\"> __`try except else finally`__ BLOCK </font>\n",
    "* IF THE ERROR IS IN THE CODE THEN except BLOCK CODE IS EXECUTED. OTHERWISE else BLOCK CODE IS EXECUTED,BUT THE `finally` BLOCK CODE ALWAYS EXECUTED."
   ]
  },
  {
   "cell_type": "code",
   "execution_count": 22,
   "id": "bdf605cd",
   "metadata": {},
   "outputs": [
    {
     "name": "stdout",
     "output_type": "stream",
     "text": [
      "file nai mili\n",
      "ye to print hoga hi\n"
     ]
    }
   ],
   "source": [
    "# finally\n",
    "# else\n",
    "try:\n",
    "  f = open('sample1.txt','r')\n",
    "except FileNotFoundError:\n",
    "  print('file nai mili')\n",
    "except Exception:\n",
    "  print('kuch to lafda hai')\n",
    "else:\n",
    "  print(f.read())\n",
    "finally:\n",
    "  print('ye to print hoga hi')"
   ]
  },
  {
   "cell_type": "code",
   "execution_count": 23,
   "id": "69817fd3",
   "metadata": {},
   "outputs": [
    {
     "name": "stdout",
     "output_type": "stream",
     "text": [
      "hello world\n",
      "ye to print hoga hi\n"
     ]
    }
   ],
   "source": [
    "try:\n",
    "  f = open('sample.txt','r')\n",
    "except FileNotFoundError:\n",
    "  print('file nai mili')\n",
    "except Exception:\n",
    "  print('kuch to lafda hai')\n",
    "else:\n",
    "  print(f.read())\n",
    "finally:\n",
    "  print('ye to print hoga hi')"
   ]
  },
  {
   "cell_type": "markdown",
   "id": "e8309f87",
   "metadata": {},
   "source": [
    "## <font color=\"dark blue\">EXCEPTION HIERARCHY</font>"
   ]
  },
  {
   "attachments": {
    "Exception%20hierarchy.png": {
     "image/png": "[encoded data removed]"
    }
   },
   "cell_type": "markdown",
   "id": "0476f8fd",
   "metadata": {},
   "source": [
    "![Exception%20hierarchy.png](attachment:Exception%20hierarchy.png)"
   ]
  },
  {
   "cell_type": "markdown",
   "id": "c2d4f006",
   "metadata": {},
   "source": [
    "### <font color=\"dark blue\">__`raise`__ EXCEPTION</font>\n",
    "* IN PYTHON PROGRAMMING, EXCEPITIONS ARE RAISED WHEN ERRORS OCCUR AT RUNTIME.\n",
    "\n",
    "\n",
    "* WE CAN ALSO MANUALLY RAISE EXCEPTIONS USING THE `raise` KEYWORD.\n",
    "\n",
    "\n",
    "* WE CAN OPTIONALLY PASS VALUES TO THE EXCEPTION TO CLARIFY WHY THAT EXCEPTION WAS RAISED."
   ]
  },
  {
   "cell_type": "code",
   "execution_count": 24,
   "id": "8ce3ccc7",
   "metadata": {},
   "outputs": [
    {
     "ename": "ZeroDivisionError",
     "evalue": "aise hi try kar raha hu",
     "output_type": "error",
     "traceback": [
      "\u001b[1;31m---------------------------------------------------------------------------\u001b[0m",
      "\u001b[1;31mZeroDivisionError\u001b[0m                         Traceback (most recent call last)",
      "\u001b[1;32m~\\AppData\\Local\\Temp\\ipykernel_7608\\2830572655.py\u001b[0m in \u001b[0;36m<module>\u001b[1;34m\u001b[0m\n\u001b[1;32m----> 1\u001b[1;33m \u001b[1;32mraise\u001b[0m \u001b[0mZeroDivisionError\u001b[0m\u001b[1;33m(\u001b[0m\u001b[1;34m'aise hi try kar raha hu'\u001b[0m\u001b[1;33m)\u001b[0m\u001b[1;33m\u001b[0m\u001b[1;33m\u001b[0m\u001b[0m\n\u001b[0m",
      "\u001b[1;31mZeroDivisionError\u001b[0m: aise hi try kar raha hu"
     ]
    }
   ],
   "source": [
    "raise ZeroDivisionError('aise hi try kar raha hu')"
   ]
  },
  {
   "cell_type": "code",
   "execution_count": 25,
   "id": "b0b82d95",
   "metadata": {},
   "outputs": [
    {
     "name": "stdout",
     "output_type": "stream",
     "text": [
      "paise nai hai tere paas\n"
     ]
    }
   ],
   "source": [
    "class Bank:\n",
    "\n",
    "  def __init__(self,balance):\n",
    "    self.balance = balance\n",
    "\n",
    "  def withdraw(self,amount):\n",
    "    if amount < 0:\n",
    "      raise Exception('amount cannot be -ve')\n",
    "    if self.balance < amount:\n",
    "      raise Exception('paise nai hai tere paas')\n",
    "    self.balance = self.balance - amount\n",
    "\n",
    "obj = Bank(10000)\n",
    "try:\n",
    "  obj.withdraw(15000)\n",
    "except Exception as e:\n",
    "  print(e)\n",
    "else:\n",
    "  print(obj.balance)"
   ]
  },
  {
   "cell_type": "markdown",
   "id": "dda9ac6d",
   "metadata": {},
   "source": [
    "### <font color=\"dark blue\"> WHY WE CREATE CUSTOM EXCEPTION CLASS? </font>\n",
    "* BRING FULL CONTROL TO OUR CODE.\n",
    "* SHOW APPLICATION BASE ERROR."
   ]
  },
  {
   "cell_type": "code",
   "execution_count": 26,
   "id": "2544d96b",
   "metadata": {},
   "outputs": [
    {
     "name": "stdout",
     "output_type": "stream",
     "text": [
      "5000\n"
     ]
    }
   ],
   "source": [
    "class MyException(Exception):\n",
    "  def __init__(self,message):\n",
    "    print(message)\n",
    "\n",
    "class Bank:\n",
    "\n",
    "  def __init__(self,balance):\n",
    "    self.balance = balance\n",
    "\n",
    "  def withdraw(self,amount):\n",
    "    if amount < 0:\n",
    "      raise MyException('amount cannot be -ve')\n",
    "    if self.balance < amount:\n",
    "      raise MyException('paise nai hai tere paas')\n",
    "    self.balance = self.balance - amount\n",
    "\n",
    "obj = Bank(10000)\n",
    "try:\n",
    "  obj.withdraw(5000)\n",
    "except MyException as e:\n",
    "  pass\n",
    "else:\n",
    "  print(obj.balance)"
   ]
  },
  {
   "cell_type": "code",
   "execution_count": 27,
   "id": "3966a825",
   "metadata": {},
   "outputs": [
    {
     "name": "stdout",
     "output_type": "stream",
     "text": [
      "bhai teri to lag gayi\n",
      "logout\n",
      "database connection closed\n"
     ]
    }
   ],
   "source": [
    "class SecurityError(Exception):\n",
    "\n",
    "  def __init__(self,message):\n",
    "    print(message)\n",
    "\n",
    "  def logout(self):\n",
    "    print('logout')\n",
    "\n",
    "class Google:\n",
    "\n",
    "  def __init__(self,name,email,password,device):\n",
    "    self.name = name\n",
    "    self.email = email\n",
    "    self.password = password\n",
    "    self.device = device\n",
    "\n",
    "  def login(self,email,password,device):\n",
    "    if device != self.device:\n",
    "      raise SecurityError('bhai teri to lag gayi')\n",
    "    if email == self.email and password == self.password:\n",
    "      print('welcome')\n",
    "    else:\n",
    "      print('login error')\n",
    "\n",
    "\n",
    "\n",
    "obj = Google('nitish','nitish@gmail.com','1234','android')\n",
    "\n",
    "try:\n",
    "  obj.login('nitish@gmail.com','1234','windows')\n",
    "except SecurityError as e:\n",
    "  e.logout()\n",
    "else:\n",
    "  print(obj.name)\n",
    "finally:\n",
    "  print('database connection closed')"
   ]
  },
  {
   "cell_type": "markdown",
   "id": "df6e2ee1",
   "metadata": {},
   "source": [
    "### "
   ]
  },
  {
   "cell_type": "markdown",
   "id": "5c5da4a0",
   "metadata": {},
   "source": [
    "## <font color=\"teal\">OTHER EXAMPLES</font>"
   ]
  },
  {
   "cell_type": "code",
   "execution_count": 29,
   "id": "1df2b0be",
   "metadata": {},
   "outputs": [
    {
     "name": "stdout",
     "output_type": "stream",
     "text": [
      "Enter Number to print Table: 4\n",
      "Enter 1st Number: 2\n",
      "Enter 2nd Number: 4\n",
      "Task-1\n",
      "Addition:  6\n",
      "Division:  0.5\n",
      "******************************************************\n",
      "Task-2\n",
      "4 * 1 == 4\n",
      "4 * 2 == 8\n",
      "4 * 3 == 12\n",
      "4 * 4 == 16\n",
      "4 * 5 == 20\n",
      "4 * 6 == 24\n",
      "4 * 7 == 28\n",
      "4 * 8 == 32\n",
      "4 * 9 == 36\n",
      "4 * 10 == 40\n"
     ]
    }
   ],
   "source": [
    "tnum=int(input(\"Enter Number to print Table: \"))\n",
    "num1=int(input(\"Enter 1st Number: \"))\n",
    "num2=int(input(\"Enter 2nd Number: \"))\n",
    "\n",
    "print(\"Task-1\")\n",
    "\n",
    "try:\n",
    "    add=num1+num2\n",
    "    print(\"Addition: \",add)\n",
    "\n",
    "\n",
    "    div=num1/num2\n",
    "    print(\"Division: \",div)\n",
    "\n",
    "except:\n",
    "    print(\"Please Enter Non Zero Number\")\n",
    "\n",
    "print(\"******************************************************\")\n",
    "\n",
    "\n",
    "print(\"Task-2\")\n",
    "for i in range(1,11):\n",
    "    print(tnum,\"*\",i,\"==\",tnum*i)"
   ]
  },
  {
   "cell_type": "code",
   "execution_count": 30,
   "id": "0e8c268c",
   "metadata": {},
   "outputs": [
    {
     "name": "stdout",
     "output_type": "stream",
     "text": [
      "Enter Number to print Table: 5\n",
      "Task-1\n",
      "Enter 1st Number: 6\n",
      "Enter 2nd Number: 7\n",
      "Addition:  13\n",
      "Division:  0.8571428571428571\n",
      "******************************************************\n",
      "Task-2\n",
      "5 * 1 == 5\n",
      "5 * 2 == 10\n",
      "5 * 3 == 15\n",
      "5 * 4 == 20\n",
      "5 * 5 == 25\n",
      "5 * 6 == 30\n",
      "5 * 7 == 35\n",
      "5 * 8 == 40\n",
      "5 * 9 == 45\n",
      "5 * 10 == 50\n"
     ]
    }
   ],
   "source": [
    "tnum=int(input(\"Enter Number to print Table: \"))\n",
    "\n",
    "\n",
    "print(\"Task-1\")\n",
    "\n",
    "try:\n",
    "    num1=int(input(\"Enter 1st Number: \"))\n",
    "    num2=int(input(\"Enter 2nd Number: \"))\n",
    "    add=num1+num2\n",
    "    print(\"Addition: \",add)\n",
    "\n",
    "\n",
    "    div=num1/num2\n",
    "    print(\"Division: \",div)\n",
    "\n",
    "except ZeroDivisionError:\n",
    "    print(\"Please Enter Non Zero Number\")\n",
    "    \n",
    "except ValueError:\n",
    "    print(\"Please Enter Number Only.\")\n",
    "\n",
    "print(\"******************************************************\")\n",
    "\n",
    "\n",
    "print(\"Task-2\")\n",
    "for i in range(1,11):\n",
    "    print(tnum,\"*\",i,\"==\",tnum*i)"
   ]
  },
  {
   "cell_type": "code",
   "execution_count": 38,
   "id": "295b1526",
   "metadata": {},
   "outputs": [
    {
     "name": "stdout",
     "output_type": "stream",
     "text": [
      "Enter Number to print Table: 2\n",
      "Task-1\n",
      "Enter 1st Number: 3\n",
      "Enter 2nd Number: a\n",
      "Please Enter Number Only.\n",
      "******************************************************\n",
      "Task-2\n",
      "2 * 1 == 2\n",
      "2 * 2 == 4\n",
      "2 * 3 == 6\n",
      "2 * 4 == 8\n",
      "2 * 5 == 10\n",
      "2 * 6 == 12\n",
      "2 * 7 == 14\n",
      "2 * 8 == 16\n",
      "2 * 9 == 18\n",
      "2 * 10 == 20\n"
     ]
    }
   ],
   "source": [
    "tnum=int(input(\"Enter Number to print Table: \"))\n",
    "\n",
    "\n",
    "print(\"Task-1\")\n",
    "\n",
    "try:\n",
    "    num1=int(input(\"Enter 1st Number: \"))\n",
    "    num2=int(input(\"Enter 2nd Number: \"))\n",
    "    add=num1+num2\n",
    "    print(\"Addition: \",add)\n",
    "\n",
    "\n",
    "    div=num1/num2\n",
    "    print(\"Division: \",div)\n",
    "\n",
    "except ZeroDivisionError:\n",
    "    print(\"Please Enter Non Zero Number\")\n",
    "    \n",
    "except ValueError:\n",
    "    print(\"Please Enter Number Only.\")\n",
    "\n",
    "print(\"******************************************************\")\n",
    "\n",
    "\n",
    "print(\"Task-2\")\n",
    "for i in range(1,11):\n",
    "    print(tnum,\"*\",i,\"==\",tnum*i)"
   ]
  },
  {
   "cell_type": "code",
   "execution_count": 33,
   "id": "1f218d1d",
   "metadata": {},
   "outputs": [
    {
     "name": "stdout",
     "output_type": "stream",
     "text": [
      "Enter Number to print Table: 4\n",
      "Task-1\n",
      "Enter 1st Number: 5\n",
      "Enter 2nd Number: a\n",
      "invalid literal for int() with base 10: 'a'\n",
      "<class 'ValueError'>\n",
      "ValueError\n",
      "******************************************************\n",
      "Task-2\n",
      "4 * 1 == 4\n",
      "4 * 2 == 8\n",
      "4 * 3 == 12\n",
      "4 * 4 == 16\n",
      "4 * 5 == 20\n",
      "4 * 6 == 24\n",
      "4 * 7 == 28\n",
      "4 * 8 == 32\n",
      "4 * 9 == 36\n",
      "4 * 10 == 40\n"
     ]
    }
   ],
   "source": [
    "tnum=int(input(\"Enter Number to print Table: \"))\n",
    "\n",
    "\n",
    "print(\"Task-1\")\n",
    "\n",
    "try:\n",
    "    num1=int(input(\"Enter 1st Number: \"))\n",
    "    num2=int(input(\"Enter 2nd Number: \"))\n",
    "    add=num1+num2\n",
    "    print(\"Addition: \",add)\n",
    "\n",
    "\n",
    "    div=num1/num2\n",
    "    print(\"Division: \",div)\n",
    "\n",
    "\n",
    "\n",
    "except BaseException as msg :\n",
    "    print(msg)\n",
    "    print(msg.__class__)\n",
    "    print(msg.__class__.__name__)\n",
    "\n",
    "print(\"******************************************************\")\n",
    "\n",
    "\n",
    "print(\"Task-2\")\n",
    "for i in range(1,11):\n",
    "    print(tnum,\"*\",i,\"==\",tnum*i)"
   ]
  },
  {
   "cell_type": "code",
   "execution_count": 32,
   "id": "4f5f24f4",
   "metadata": {},
   "outputs": [
    {
     "name": "stdout",
     "output_type": "stream",
     "text": [
      "Enter Number to print Table: 4\n",
      "Task-1\n",
      "Enter 1st Number: 5\n",
      "Enter 2nd Number: 0\n",
      "Addition:  5\n",
      "Please enter Non-Zero Number\n",
      "******************************************************\n",
      "Task-2\n",
      "4 * 1 == 4\n",
      "4 * 2 == 8\n",
      "4 * 3 == 12\n",
      "4 * 4 == 16\n",
      "4 * 5 == 20\n",
      "4 * 6 == 24\n",
      "4 * 7 == 28\n",
      "4 * 8 == 32\n",
      "4 * 9 == 36\n",
      "4 * 10 == 40\n"
     ]
    }
   ],
   "source": [
    "tnum=int(input(\"Enter Number to print Table: \"))\n",
    "\n",
    "\n",
    "print(\"Task-1\")\n",
    "\n",
    "try:\n",
    "    num1=int(input(\"Enter 1st Number: \"))\n",
    "    num2=int(input(\"Enter 2nd Number: \"))\n",
    "    add=num1+num2\n",
    "    print(\"Addition: \",add)\n",
    "\n",
    "\n",
    "    div=num1/num2\n",
    "    print(\"Division: \",div)\n",
    "\n",
    "\n",
    "\n",
    "except BaseException as msg :\n",
    "    \n",
    "    error=msg.__class__.__name__\n",
    "    \n",
    "    if error == \"ValueError\":\n",
    "        print(\"Please enter Number Only\")\n",
    "    elif error == \"ZeroDivisionError\":\n",
    "        print(\"Please enter Non-Zero Number\")\n",
    "    else:\n",
    "        print(\"Error Triggered\")\n",
    "\n",
    "print(\"******************************************************\")\n",
    "\n",
    "\n",
    "print(\"Task-2\")\n",
    "for i in range(1,11):\n",
    "    print(tnum,\"*\",i,\"==\",tnum*i)"
   ]
  },
  {
   "cell_type": "code",
   "execution_count": 34,
   "id": "66ddd678",
   "metadata": {},
   "outputs": [
    {
     "name": "stdout",
     "output_type": "stream",
     "text": [
      "Enter Number to print Table: 3\n",
      "Task-1\n",
      "Enter 1st Number: 4\n",
      "Enter 2nd Number: d\n",
      "Please enter Number Only\n",
      "******************************************************\n",
      "Task-2\n",
      "3 * 1 == 3\n",
      "3 * 2 == 6\n",
      "3 * 3 == 9\n",
      "3 * 4 == 12\n",
      "3 * 5 == 15\n",
      "3 * 6 == 18\n",
      "3 * 7 == 21\n",
      "3 * 8 == 24\n",
      "3 * 9 == 27\n",
      "3 * 10 == 30\n"
     ]
    }
   ],
   "source": [
    "tnum=int(input(\"Enter Number to print Table: \"))\n",
    "\n",
    "\n",
    "print(\"Task-1\")\n",
    "\n",
    "try:\n",
    "    \n",
    "    num1=int(input(\"Enter 1st Number: \"))\n",
    "    num2=int(input(\"Enter 2nd Number: \"))\n",
    "    add=num1+num2\n",
    "    print(\"Addition: \",add)\n",
    "\n",
    "\n",
    "    div=num1/num2\n",
    "    print(\"Division: \",div)\n",
    "\n",
    "\n",
    "\n",
    "except BaseException as msg :\n",
    "    \n",
    "    error=msg.__class__.__name__\n",
    "    \n",
    "    if error == \"ValueError\":\n",
    "        print(\"Please enter Number Only\")\n",
    "    elif error == \"ZeroDivisionError\":\n",
    "        print(\"Please enter Non-Zero Number\")\n",
    "    else:\n",
    "        print(\"Error Triggered\")\n",
    "\n",
    "print(\"******************************************************\")\n",
    "\n",
    "\n",
    "print(\"Task-2\")\n",
    "for i in range(1,11):\n",
    "    print(tnum,\"*\",i,\"==\",tnum*i)"
   ]
  },
  {
   "cell_type": "code",
   "execution_count": 36,
   "id": "adc8949e",
   "metadata": {},
   "outputs": [
    {
     "name": "stdout",
     "output_type": "stream",
     "text": [
      "Enter Number to print Table: 4\n",
      "Task-1\n",
      "CONNECT TO CLOUD\n",
      "Enter 1st Number: 5\n",
      "Enter 2nd Number: e\n",
      "Please enter Number Only\n",
      "______________________\n",
      "Finally Block\n",
      "CLOUD CLOSING CODE\n",
      "******************************************************\n",
      "Task-2\n",
      "4 * 1 == 4\n",
      "4 * 2 == 8\n",
      "4 * 3 == 12\n",
      "4 * 4 == 16\n",
      "4 * 5 == 20\n",
      "4 * 6 == 24\n",
      "4 * 7 == 28\n",
      "4 * 8 == 32\n",
      "4 * 9 == 36\n",
      "4 * 10 == 40\n"
     ]
    }
   ],
   "source": [
    "tnum=int(input(\"Enter Number to print Table: \"))\n",
    "\n",
    "\n",
    "print(\"Task-1\")\n",
    "\n",
    "try:\n",
    "    print(\"CONNECT TO CLOUD\")\n",
    "    num1=int(input(\"Enter 1st Number: \"))\n",
    "    num2=int(input(\"Enter 2nd Number: \"))\n",
    "    add=num1+num2\n",
    "    print(\"Addition: \",add)\n",
    "\n",
    "\n",
    "    div=num1/num2\n",
    "    print(\"Division: \",div)\n",
    "\n",
    "\n",
    "\n",
    "except BaseException as msg :\n",
    "    \n",
    "    error=msg.__class__.__name__\n",
    "    \n",
    "    if error == \"ValueError\":\n",
    "        print(\"Please enter Number Only\")\n",
    "    elif error == \"ZeroDivisionError\":\n",
    "        print(\"Please enter Non-Zero Number\")\n",
    "    else:\n",
    "        print(\"Error Triggered\")\n",
    "    \n",
    "finally:\n",
    "    print(\"______________________\")\n",
    "    print(\"Finally Block\")\n",
    "    print(\"CLOUD CLOSING CODE\")\n",
    "\n",
    "print(\"******************************************************\")\n",
    "\n",
    "\n",
    "print(\"Task-2\")\n",
    "for i in range(1,11):\n",
    "    print(tnum,\"*\",i,\"==\",tnum*i)"
   ]
  },
  {
   "cell_type": "code",
   "execution_count": 37,
   "id": "9ff6cd7c",
   "metadata": {},
   "outputs": [
    {
     "name": "stdout",
     "output_type": "stream",
     "text": [
      "Enter Number to print Table: 6\n",
      "Task-1\n",
      "CONNECT TO CLOUD\n",
      "Enter 1st Number: 7\n",
      "Enter 2nd Number: e\n",
      "Please enter Number Only\n",
      "CLOUD CLOSING CODE\n",
      "******************************************************\n",
      "Task-2\n",
      "6 * 1 == 6\n",
      "6 * 2 == 12\n",
      "6 * 3 == 18\n",
      "6 * 4 == 24\n",
      "6 * 5 == 30\n",
      "6 * 6 == 36\n",
      "6 * 7 == 42\n",
      "6 * 8 == 48\n",
      "6 * 9 == 54\n",
      "6 * 10 == 60\n"
     ]
    }
   ],
   "source": [
    "tnum=int(input(\"Enter Number to print Table: \"))\n",
    "\n",
    "\n",
    "print(\"Task-1\")\n",
    "\n",
    "try:\n",
    "    print(\"CONNECT TO CLOUD\")\n",
    "    num1=int(input(\"Enter 1st Number: \"))\n",
    "    num2=int(input(\"Enter 2nd Number: \"))\n",
    "    add=num1+num2\n",
    "    print(\"Addition: \",add)\n",
    "\n",
    "\n",
    "    div=num1/num2\n",
    "    print(\"Division: \",div)\n",
    "\n",
    "\n",
    "\n",
    "except BaseException as msg :\n",
    "    \n",
    "    error=msg.__class__.__name__\n",
    "    \n",
    "    if error == \"ValueError\":\n",
    "        print(\"Please enter Number Only\")\n",
    "    elif error == \"ZeroDivisionError\":\n",
    "        print(\"Please enter Non-Zero Number\")\n",
    "    else:\n",
    "        print(\"Error Triggered\")\n",
    "        \n",
    "    print(\"CLOUD CLOSING CODE\")\n",
    "\n",
    "print(\"******************************************************\")\n",
    "\n",
    "\n",
    "print(\"Task-2\")\n",
    "for i in range(1,11):\n",
    "    print(tnum,\"*\",i,\"==\",tnum*i)"
   ]
  },
  {
   "cell_type": "code",
   "execution_count": null,
   "id": "30184ad2",
   "metadata": {},
   "outputs": [],
   "source": []
  },
  {
   "cell_type": "code",
   "execution_count": null,
   "id": "87891654",
   "metadata": {},
   "outputs": [],
   "source": []
  },
  {
   "cell_type": "code",
   "execution_count": null,
   "id": "373d7cf3",
   "metadata": {},
   "outputs": [],
   "source": []
  },
  {
   "cell_type": "code",
   "execution_count": null,
   "id": "b4b370ce",
   "metadata": {},
   "outputs": [],
   "source": []
  },
  {
   "cell_type": "code",
   "execution_count": null,
   "id": "2a85b238",
   "metadata": {},
   "outputs": [],
   "source": []
  },
  {
   "cell_type": "code",
   "execution_count": null,
   "id": "64d47b4a",
   "metadata": {},
   "outputs": [],
   "source": []
  },
  {
   "cell_type": "code",
   "execution_count": null,
   "id": "d19578a8",
   "metadata": {},
   "outputs": [],
   "source": []
  }
 ],
 "metadata": {
  "kernelspec": {
   "display_name": "Python 3 (ipykernel)",
   "language": "python",
   "name": "python3"
  },
  "language_info": {
   "codemirror_mode": {
    "name": "ipython",
    "version": 3
   },
   "file_extension": ".py",
   "mimetype": "text/x-python",
   "name": "python",
   "nbconvert_exporter": "python",
   "pygments_lexer": "ipython3",
   "version": "3.9.13"
  }
 },
 "nbformat": 4,
 "nbformat_minor": 5
}
